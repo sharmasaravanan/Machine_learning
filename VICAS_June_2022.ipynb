{
 "cells": [
  {
   "cell_type": "code",
   "execution_count": 3,
   "id": "technical-allen",
   "metadata": {},
   "outputs": [
    {
     "name": "stdout",
     "output_type": "stream",
     "text": [
      "hello world\n"
     ]
    }
   ],
   "source": [
    "# this is first program\n",
    "print(\"hello world\")"
   ]
  },
  {
   "cell_type": "code",
   "execution_count": 4,
   "id": "advised-portal",
   "metadata": {},
   "outputs": [],
   "source": [
    "# datatypes\n",
    "a = 5\n",
    "b = 3.14\n",
    "c = 'apple'\n",
    "d = True"
   ]
  },
  {
   "cell_type": "code",
   "execution_count": 5,
   "id": "raised-senate",
   "metadata": {},
   "outputs": [
    {
     "name": "stdout",
     "output_type": "stream",
     "text": [
      "<class 'int'>\n",
      "<class 'float'>\n",
      "<class 'str'>\n",
      "<class 'bool'>\n"
     ]
    }
   ],
   "source": [
    "print(type(a))\n",
    "print(type(b))\n",
    "print(type(c))\n",
    "print(type(d))"
   ]
  },
  {
   "cell_type": "code",
   "execution_count": 7,
   "id": "first-coating",
   "metadata": {},
   "outputs": [],
   "source": [
    "e = '565'\n",
    "f = 2"
   ]
  },
  {
   "cell_type": "code",
   "execution_count": 8,
   "id": "chief-python",
   "metadata": {},
   "outputs": [
    {
     "name": "stdout",
     "output_type": "stream",
     "text": [
      "<class 'str'>\n",
      "<class 'int'>\n",
      "\n",
      "<class 'int'>\n",
      "<class 'float'>\n"
     ]
    }
   ],
   "source": [
    "print(type(e))\n",
    "e = int(e)\n",
    "print(type(e))\n",
    "\n",
    "print()\n",
    "print(type(f))\n",
    "f = float()\n",
    "print(type(f))\n"
   ]
  },
  {
   "cell_type": "code",
   "execution_count": 9,
   "id": "simplified-priority",
   "metadata": {},
   "outputs": [],
   "source": [
    "# print function\n",
    "# hello 5\n",
    "# hello apple"
   ]
  },
  {
   "cell_type": "code",
   "execution_count": 13,
   "id": "confirmed-attention",
   "metadata": {
    "collapsed": true
   },
   "outputs": [
    {
     "name": "stdout",
     "output_type": "stream",
     "text": [
      "Method-1\n",
      "hello 5\n",
      "hello apple\n",
      "\n",
      "Method-2\n",
      "hello 5\n",
      "hello apple\n",
      "\n",
      "Method-3\n",
      "hello 5\n",
      "hello apple\n",
      "\n",
      "Method-4\n",
      "hello 5\n",
      "hello apple\n"
     ]
    }
   ],
   "source": [
    "print(\"Method-1\")\n",
    "print(\"hello\", a)\n",
    "print(\"hello\", c)\n",
    "print()\n",
    "print(\"Method-2\")\n",
    "print(\"hello \" + str(a))\n",
    "print(\"hello \" + c)\n",
    "print()\n",
    "print(\"Method-3\")\n",
    "print(\"hello %d\"%a)\n",
    "print(\"hello %s\"%c) # print(\"hello %d %s\"%(a,c))\n",
    "print()\n",
    "print(\"Method-4\")\n",
    "print(\"hello {}\".format(a))\n",
    "print(\"hello {}\".format(c)) # print(\"hello {} {}\".format(a,c))"
   ]
  },
  {
   "cell_type": "code",
   "execution_count": 14,
   "id": "corporate-hamburg",
   "metadata": {},
   "outputs": [],
   "source": [
    "# I bought 3Kgs of Mango for 105.5Rs\n",
    "w = 3\n",
    "f = \"Mango\"\n",
    "p = 105.5"
   ]
  },
  {
   "cell_type": "code",
   "execution_count": 17,
   "id": "invisible-richards",
   "metadata": {},
   "outputs": [
    {
     "name": "stdout",
     "output_type": "stream",
     "text": [
      "I bought 3 Kgs of Mango for 105.5 Rs\n",
      "I bought 3Kgs of Mango for 105.5Rs\n",
      "I bought 3kgs of Mango for 105.5Rs\n",
      "I bought 3kgs of Mango for 105.5Rs\n"
     ]
    }
   ],
   "source": [
    "print(\"I bought\",w,\"Kgs of\",f,\"for\",p,\"Rs\")\n",
    "print(\"I bought \"+str(w)+\"Kgs of \"+f+\" for \"+str(p)+\"Rs\")\n",
    "print(\"I bought %dkgs of %s for %0.1fRs\"%(w,f,p))\n",
    "print(\"I bought {}kgs of {} for {}Rs\".format(w,f,p))"
   ]
  },
  {
   "cell_type": "code",
   "execution_count": 27,
   "id": "political-warren",
   "metadata": {
    "collapsed": true
   },
   "outputs": [
    {
     "name": "stdout",
     "output_type": "stream",
     "text": [
      "Enter your name: axby\n",
      "Enter your age: s\n"
     ]
    },
    {
     "ename": "ValueError",
     "evalue": "could not convert string to float: 's'",
     "output_type": "error",
     "traceback": [
      "\u001b[0;31m---------------------------------------------------------------------------\u001b[0m",
      "\u001b[0;31mValueError\u001b[0m                                Traceback (most recent call last)",
      "\u001b[0;32m<ipython-input-27-0c678c859f72>\u001b[0m in \u001b[0;36m<module>\u001b[0;34m\u001b[0m\n\u001b[1;32m      1\u001b[0m \u001b[0;31m# input function\u001b[0m\u001b[0;34m\u001b[0m\u001b[0;34m\u001b[0m\u001b[0;34m\u001b[0m\u001b[0m\n\u001b[1;32m      2\u001b[0m \u001b[0mname\u001b[0m \u001b[0;34m=\u001b[0m \u001b[0minput\u001b[0m\u001b[0;34m(\u001b[0m\u001b[0;34m\"Enter your name: \"\u001b[0m\u001b[0;34m)\u001b[0m\u001b[0;34m\u001b[0m\u001b[0;34m\u001b[0m\u001b[0m\n\u001b[0;32m----> 3\u001b[0;31m \u001b[0mage\u001b[0m \u001b[0;34m=\u001b[0m \u001b[0mfloat\u001b[0m\u001b[0;34m(\u001b[0m\u001b[0minput\u001b[0m\u001b[0;34m(\u001b[0m\u001b[0;34m\"Enter your age: \"\u001b[0m\u001b[0;34m)\u001b[0m\u001b[0;34m)\u001b[0m\u001b[0;34m\u001b[0m\u001b[0;34m\u001b[0m\u001b[0m\n\u001b[0m",
      "\u001b[0;31mValueError\u001b[0m: could not convert string to float: 's'"
     ]
    }
   ],
   "source": [
    "# input function\n",
    "name = input(\"Enter your name: \")\n",
    "age = float(input(\"Enter your age: \"))"
   ]
  },
  {
   "cell_type": "code",
   "execution_count": 25,
   "id": "palestinian-marble",
   "metadata": {},
   "outputs": [
    {
     "name": "stdout",
     "output_type": "stream",
     "text": [
      "xyz 12.0\n"
     ]
    }
   ],
   "source": [
    "print(name, age)"
   ]
  },
  {
   "cell_type": "code",
   "execution_count": 26,
   "id": "conservative-clark",
   "metadata": {},
   "outputs": [
    {
     "name": "stdout",
     "output_type": "stream",
     "text": [
      "<class 'str'> <class 'float'>\n"
     ]
    }
   ],
   "source": [
    "print(type(name), type(age))"
   ]
  },
  {
   "cell_type": "code",
   "execution_count": null,
   "id": "wooden-theology",
   "metadata": {},
   "outputs": [],
   "source": [
    "# operators\n",
    "## Arithmetic Operators\n",
    "+ - * / % // **"
   ]
  },
  {
   "cell_type": "code",
   "execution_count": 29,
   "id": "august-bonus",
   "metadata": {
    "collapsed": true
   },
   "outputs": [
    {
     "data": {
      "text/plain": [
       "(11, 3, 28, 1.75, 3, 1, 2401)"
      ]
     },
     "execution_count": 29,
     "metadata": {},
     "output_type": "execute_result"
    }
   ],
   "source": [
    "a = 7\n",
    "b = 4\n",
    "a+b, a-b, a*b, a/b, a%b, a//b, a**b"
   ]
  },
  {
   "cell_type": "code",
   "execution_count": null,
   "id": "radical-yesterday",
   "metadata": {},
   "outputs": [],
   "source": [
    "## conditional operators\n",
    "< > <= >= == !="
   ]
  },
  {
   "cell_type": "code",
   "execution_count": 30,
   "id": "banned-muscle",
   "metadata": {
    "collapsed": true
   },
   "outputs": [
    {
     "data": {
      "text/plain": [
       "(False, True, False, True, False, True)"
      ]
     },
     "execution_count": 30,
     "metadata": {},
     "output_type": "execute_result"
    }
   ],
   "source": [
    "a < b, a > b,  a <= b,  a >= b, a == b, a != b"
   ]
  },
  {
   "cell_type": "code",
   "execution_count": null,
   "id": "original-operations",
   "metadata": {},
   "outputs": [],
   "source": [
    "## logical operators\n",
    "and or not"
   ]
  },
  {
   "cell_type": "code",
   "execution_count": 32,
   "id": "requested-pontiac",
   "metadata": {},
   "outputs": [
    {
     "data": {
      "text/plain": [
       "(True, True)"
      ]
     },
     "execution_count": 32,
     "metadata": {},
     "output_type": "execute_result"
    }
   ],
   "source": [
    "a < 10 and b > 5 , a < 10 and b > 2\n",
    "a < 10 or b > 5 , a < 10 or b > 2"
   ]
  },
  {
   "cell_type": "code",
   "execution_count": 33,
   "id": "emotional-manitoba",
   "metadata": {},
   "outputs": [
    {
     "data": {
      "text/plain": [
       "False"
      ]
     },
     "execution_count": 33,
     "metadata": {},
     "output_type": "execute_result"
    }
   ],
   "source": [
    "not a"
   ]
  },
  {
   "cell_type": "code",
   "execution_count": 34,
   "id": "basic-string",
   "metadata": {},
   "outputs": [
    {
     "data": {
      "text/plain": [
       "True"
      ]
     },
     "execution_count": 34,
     "metadata": {},
     "output_type": "execute_result"
    }
   ],
   "source": [
    "a = None\n",
    "not a"
   ]
  },
  {
   "cell_type": "code",
   "execution_count": 35,
   "id": "joined-accordance",
   "metadata": {},
   "outputs": [
    {
     "data": {
      "text/plain": [
       "738"
      ]
     },
     "execution_count": 35,
     "metadata": {},
     "output_type": "execute_result"
    }
   ],
   "source": [
    "n = 6\n",
    "\n",
    "666+66+6"
   ]
  },
  {
   "cell_type": "code",
   "execution_count": 37,
   "id": "fixed-desert",
   "metadata": {},
   "outputs": [
    {
     "data": {
      "text/plain": [
       "738"
      ]
     },
     "execution_count": 37,
     "metadata": {},
     "output_type": "execute_result"
    }
   ],
   "source": [
    "n = '6'\n",
    "int(n+n+n) + int(n+n) + int(n)"
   ]
  },
  {
   "cell_type": "code",
   "execution_count": 38,
   "id": "residential-trout",
   "metadata": {},
   "outputs": [
    {
     "data": {
      "text/plain": [
       "738"
      ]
     },
     "execution_count": 38,
     "metadata": {},
     "output_type": "execute_result"
    }
   ],
   "source": [
    "n = 6\n",
    "int(str(n)* 3) + int(str(n)* 2) + n"
   ]
  },
  {
   "cell_type": "code",
   "execution_count": null,
   "id": "practical-comment",
   "metadata": {},
   "outputs": [],
   "source": []
  }
 ],
 "metadata": {
  "kernelspec": {
   "display_name": "Python 3",
   "language": "python",
   "name": "python3"
  },
  "language_info": {
   "codemirror_mode": {
    "name": "ipython",
    "version": 3
   },
   "file_extension": ".py",
   "mimetype": "text/x-python",
   "name": "python",
   "nbconvert_exporter": "python",
   "pygments_lexer": "ipython3",
   "version": "3.6.8"
  },
  "nbTranslate": {
   "displayLangs": [
    "*"
   ],
   "hotkey": "alt-t",
   "langInMainMenu": true,
   "sourceLang": "en",
   "targetLang": "fr",
   "useGoogleTranslate": true
  },
  "toc": {
   "base_numbering": 1,
   "nav_menu": {},
   "number_sections": true,
   "sideBar": true,
   "skip_h1_title": false,
   "title_cell": "Table of Contents",
   "title_sidebar": "Contents",
   "toc_cell": false,
   "toc_position": {},
   "toc_section_display": true,
   "toc_window_display": false
  },
  "varInspector": {
   "cols": {
    "lenName": 16,
    "lenType": 16,
    "lenVar": 40
   },
   "kernels_config": {
    "python": {
     "delete_cmd_postfix": "",
     "delete_cmd_prefix": "del ",
     "library": "var_list.py",
     "varRefreshCmd": "print(var_dic_list())"
    },
    "r": {
     "delete_cmd_postfix": ") ",
     "delete_cmd_prefix": "rm(",
     "library": "var_list.r",
     "varRefreshCmd": "cat(var_dic_list()) "
    }
   },
   "types_to_exclude": [
    "module",
    "function",
    "builtin_function_or_method",
    "instance",
    "_Feature"
   ],
   "window_display": false
  }
 },
 "nbformat": 4,
 "nbformat_minor": 5
}
