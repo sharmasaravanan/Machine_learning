{
 "cells": [
  {
   "cell_type": "markdown",
   "id": "downtown-strand",
   "metadata": {},
   "source": [
    "https://bit.ly/vicasJune"
   ]
  },
  {
   "cell_type": "code",
   "execution_count": 3,
   "id": "chemical-identifier",
   "metadata": {
    "scrolled": true
   },
   "outputs": [
    {
     "name": "stdout",
     "output_type": "stream",
     "text": [
      "hello world\n"
     ]
    }
   ],
   "source": [
    "# this is first program\n",
    "print(\"hello world\")"
   ]
  },
  {
   "cell_type": "code",
   "execution_count": 4,
   "id": "ranking-belize",
   "metadata": {},
   "outputs": [],
   "source": [
    "# datatypes\n",
    "a = 5\n",
    "b = 3.14\n",
    "c = 'apple'\n",
    "d = True"
   ]
  },
  {
   "cell_type": "code",
   "execution_count": 5,
   "id": "incorporated-girlfriend",
   "metadata": {},
   "outputs": [
    {
     "name": "stdout",
     "output_type": "stream",
     "text": [
      "<class 'int'>\n",
      "<class 'float'>\n",
      "<class 'str'>\n",
      "<class 'bool'>\n"
     ]
    }
   ],
   "source": [
    "print(type(a))\n",
    "print(type(b))\n",
    "print(type(c))\n",
    "print(type(d))"
   ]
  },
  {
   "cell_type": "code",
   "execution_count": 7,
   "id": "gorgeous-sister",
   "metadata": {},
   "outputs": [],
   "source": [
    "e = '565'\n",
    "f = 2"
   ]
  },
  {
   "cell_type": "code",
   "execution_count": 8,
   "id": "fuzzy-pioneer",
   "metadata": {},
   "outputs": [
    {
     "name": "stdout",
     "output_type": "stream",
     "text": [
      "<class 'str'>\n",
      "<class 'int'>\n",
      "\n",
      "<class 'int'>\n",
      "<class 'float'>\n"
     ]
    }
   ],
   "source": [
    "print(type(e))\n",
    "e = int(e)\n",
    "print(type(e))\n",
    "\n",
    "print()\n",
    "print(type(f))\n",
    "f = float()\n",
    "print(type(f))\n"
   ]
  },
  {
   "cell_type": "code",
   "execution_count": 9,
   "id": "coastal-columbia",
   "metadata": {},
   "outputs": [],
   "source": [
    "# print function\n",
    "# hello 5\n",
    "# hello apple"
   ]
  },
  {
   "cell_type": "code",
   "execution_count": 13,
   "id": "alive-brisbane",
   "metadata": {
    "collapsed": true
   },
   "outputs": [
    {
     "name": "stdout",
     "output_type": "stream",
     "text": [
      "Method-1\n",
      "hello 5\n",
      "hello apple\n",
      "\n",
      "Method-2\n",
      "hello 5\n",
      "hello apple\n",
      "\n",
      "Method-3\n",
      "hello 5\n",
      "hello apple\n",
      "\n",
      "Method-4\n",
      "hello 5\n",
      "hello apple\n"
     ]
    }
   ],
   "source": [
    "print(\"Method-1\")\n",
    "print(\"hello\", a)\n",
    "print(\"hello\", c)\n",
    "print()\n",
    "print(\"Method-2\")\n",
    "print(\"hello \" + str(a))\n",
    "print(\"hello \" + c)\n",
    "print()\n",
    "print(\"Method-3\")\n",
    "print(\"hello %d\"%a)\n",
    "print(\"hello %s\"%c) # print(\"hello %d %s\"%(a,c))\n",
    "print()\n",
    "print(\"Method-4\")\n",
    "print(\"hello {}\".format(a))\n",
    "print(\"hello {}\".format(c)) # print(\"hello {} {}\".format(a,c))"
   ]
  },
  {
   "cell_type": "code",
   "execution_count": 14,
   "id": "occupational-indie",
   "metadata": {},
   "outputs": [],
   "source": [
    "# I bought 3Kgs of Mango for 105.5Rs\n",
    "w = 3\n",
    "f = \"Mango\"\n",
    "p = 105.5"
   ]
  },
  {
   "cell_type": "code",
   "execution_count": 17,
   "id": "diverse-nightlife",
   "metadata": {},
   "outputs": [
    {
     "name": "stdout",
     "output_type": "stream",
     "text": [
      "I bought 3 Kgs of Mango for 105.5 Rs\n",
      "I bought 3Kgs of Mango for 105.5Rs\n",
      "I bought 3kgs of Mango for 105.5Rs\n",
      "I bought 3kgs of Mango for 105.5Rs\n"
     ]
    }
   ],
   "source": [
    "print(\"I bought\",w,\"Kgs of\",f,\"for\",p,\"Rs\")\n",
    "print(\"I bought \"+str(w)+\"Kgs of \"+f+\" for \"+str(p)+\"Rs\")\n",
    "print(\"I bought %dkgs of %s for %0.1fRs\"%(w,f,p))\n",
    "print(\"I bought {}kgs of {} for {}Rs\".format(w,f,p))"
   ]
  },
  {
   "cell_type": "code",
   "execution_count": 27,
   "id": "enormous-scope",
   "metadata": {
    "collapsed": true
   },
   "outputs": [
    {
     "name": "stdout",
     "output_type": "stream",
     "text": [
      "Enter your name: axby\n",
      "Enter your age: s\n"
     ]
    },
    {
     "ename": "ValueError",
     "evalue": "could not convert string to float: 's'",
     "output_type": "error",
     "traceback": [
      "\u001b[0;31m---------------------------------------------------------------------------\u001b[0m",
      "\u001b[0;31mValueError\u001b[0m                                Traceback (most recent call last)",
      "\u001b[0;32m<ipython-input-27-0c678c859f72>\u001b[0m in \u001b[0;36m<module>\u001b[0;34m\u001b[0m\n\u001b[1;32m      1\u001b[0m \u001b[0;31m# input function\u001b[0m\u001b[0;34m\u001b[0m\u001b[0;34m\u001b[0m\u001b[0;34m\u001b[0m\u001b[0m\n\u001b[1;32m      2\u001b[0m \u001b[0mname\u001b[0m \u001b[0;34m=\u001b[0m \u001b[0minput\u001b[0m\u001b[0;34m(\u001b[0m\u001b[0;34m\"Enter your name: \"\u001b[0m\u001b[0;34m)\u001b[0m\u001b[0;34m\u001b[0m\u001b[0;34m\u001b[0m\u001b[0m\n\u001b[0;32m----> 3\u001b[0;31m \u001b[0mage\u001b[0m \u001b[0;34m=\u001b[0m \u001b[0mfloat\u001b[0m\u001b[0;34m(\u001b[0m\u001b[0minput\u001b[0m\u001b[0;34m(\u001b[0m\u001b[0;34m\"Enter your age: \"\u001b[0m\u001b[0;34m)\u001b[0m\u001b[0;34m)\u001b[0m\u001b[0;34m\u001b[0m\u001b[0;34m\u001b[0m\u001b[0m\n\u001b[0m",
      "\u001b[0;31mValueError\u001b[0m: could not convert string to float: 's'"
     ]
    }
   ],
   "source": [
    "# input function\n",
    "name = input(\"Enter your name: \")\n",
    "age = float(input(\"Enter your age: \"))"
   ]
  },
  {
   "cell_type": "code",
   "execution_count": 25,
   "id": "spatial-mercy",
   "metadata": {},
   "outputs": [
    {
     "name": "stdout",
     "output_type": "stream",
     "text": [
      "xyz 12.0\n"
     ]
    }
   ],
   "source": [
    "print(name, age)"
   ]
  },
  {
   "cell_type": "code",
   "execution_count": 26,
   "id": "golden-intermediate",
   "metadata": {},
   "outputs": [
    {
     "name": "stdout",
     "output_type": "stream",
     "text": [
      "<class 'str'> <class 'float'>\n"
     ]
    }
   ],
   "source": [
    "print(type(name), type(age))"
   ]
  },
  {
   "cell_type": "code",
   "execution_count": null,
   "id": "public-testing",
   "metadata": {},
   "outputs": [],
   "source": [
    "# operators\n",
    "## Arithmetic Operators\n",
    "+ - * / % // **"
   ]
  },
  {
   "cell_type": "code",
   "execution_count": 29,
   "id": "boring-monaco",
   "metadata": {
    "collapsed": true
   },
   "outputs": [
    {
     "data": {
      "text/plain": [
       "(11, 3, 28, 1.75, 3, 1, 2401)"
      ]
     },
     "execution_count": 29,
     "metadata": {},
     "output_type": "execute_result"
    }
   ],
   "source": [
    "a = 7\n",
    "b = 4\n",
    "a+b, a-b, a*b, a/b, a%b, a//b, a**b"
   ]
  },
  {
   "cell_type": "code",
   "execution_count": null,
   "id": "political-diana",
   "metadata": {},
   "outputs": [],
   "source": [
    "## conditional operators\n",
    "< > <= >= == !="
   ]
  },
  {
   "cell_type": "code",
   "execution_count": 30,
   "id": "limiting-indication",
   "metadata": {
    "collapsed": true
   },
   "outputs": [
    {
     "data": {
      "text/plain": [
       "(False, True, False, True, False, True)"
      ]
     },
     "execution_count": 30,
     "metadata": {},
     "output_type": "execute_result"
    }
   ],
   "source": [
    "a < b, a > b,  a <= b,  a >= b, a == b, a != b"
   ]
  },
  {
   "cell_type": "code",
   "execution_count": null,
   "id": "atmospheric-mayor",
   "metadata": {},
   "outputs": [],
   "source": [
    "## logical operators\n",
    "and or not"
   ]
  },
  {
   "cell_type": "code",
   "execution_count": 32,
   "id": "floating-sport",
   "metadata": {},
   "outputs": [
    {
     "data": {
      "text/plain": [
       "(True, True)"
      ]
     },
     "execution_count": 32,
     "metadata": {},
     "output_type": "execute_result"
    }
   ],
   "source": [
    "a < 10 and b > 5 , a < 10 and b > 2\n",
    "a < 10 or b > 5 , a < 10 or b > 2"
   ]
  },
  {
   "cell_type": "code",
   "execution_count": 33,
   "id": "reduced-pepper",
   "metadata": {},
   "outputs": [
    {
     "data": {
      "text/plain": [
       "False"
      ]
     },
     "execution_count": 33,
     "metadata": {},
     "output_type": "execute_result"
    }
   ],
   "source": [
    "not a"
   ]
  },
  {
   "cell_type": "code",
   "execution_count": 34,
   "id": "acknowledged-africa",
   "metadata": {},
   "outputs": [
    {
     "data": {
      "text/plain": [
       "True"
      ]
     },
     "execution_count": 34,
     "metadata": {},
     "output_type": "execute_result"
    }
   ],
   "source": [
    "a = None\n",
    "not a"
   ]
  },
  {
   "cell_type": "code",
   "execution_count": 35,
   "id": "noble-geometry",
   "metadata": {},
   "outputs": [
    {
     "data": {
      "text/plain": [
       "738"
      ]
     },
     "execution_count": 35,
     "metadata": {},
     "output_type": "execute_result"
    }
   ],
   "source": [
    "n = 6\n",
    "\n",
    "666+66+6"
   ]
  },
  {
   "cell_type": "code",
   "execution_count": 37,
   "id": "circular-manner",
   "metadata": {},
   "outputs": [
    {
     "data": {
      "text/plain": [
       "738"
      ]
     },
     "execution_count": 37,
     "metadata": {},
     "output_type": "execute_result"
    }
   ],
   "source": [
    "n = '6'\n",
    "int(n+n+n) + int(n+n) + int(n)"
   ]
  },
  {
   "cell_type": "code",
   "execution_count": 38,
   "id": "unique-privacy",
   "metadata": {},
   "outputs": [
    {
     "data": {
      "text/plain": [
       "738"
      ]
     },
     "execution_count": 38,
     "metadata": {},
     "output_type": "execute_result"
    }
   ],
   "source": [
    "n = 6\n",
    "int(str(n)* 3) + int(str(n)* 2) + n"
   ]
  },
  {
   "cell_type": "code",
   "execution_count": 41,
   "id": "boolean-banks",
   "metadata": {},
   "outputs": [
    {
     "name": "stdout",
     "output_type": "stream",
     "text": [
      "Enter any number: 11\n",
      "hi\n"
     ]
    }
   ],
   "source": [
    "# if - else\n",
    "num = int(input(\"Enter any number: \"))\n",
    "if num % 2 == 0:\n",
    "    print(\"Number is even\")\n",
    "print(\"hi\")"
   ]
  },
  {
   "cell_type": "code",
   "execution_count": 42,
   "id": "informal-balloon",
   "metadata": {},
   "outputs": [
    {
     "name": "stdout",
     "output_type": "stream",
     "text": [
      "Enter any number: 10\n",
      "Number is even\n"
     ]
    }
   ],
   "source": [
    "num = int(input(\"Enter any number: \"))\n",
    "if num % 2 == 0:\n",
    "    print(\"Number is even\")\n",
    "else:\n",
    "    print(\"Number is odd\")"
   ]
  },
  {
   "cell_type": "code",
   "execution_count": 45,
   "id": "rural-particle",
   "metadata": {},
   "outputs": [
    {
     "name": "stdout",
     "output_type": "stream",
     "text": [
      "Enter any number: 17\n",
      "Number is odd\n"
     ]
    }
   ],
   "source": [
    "num = int(input(\"Enter any number: \"))\n",
    "if num % 4 == 0:\n",
    "    print(\"Number is divisible by 4 & also even\")\n",
    "elif num % 2 == 0:\n",
    "    print(\"Number is even\")\n",
    "else:\n",
    "    print(\"Number is odd\")"
   ]
  },
  {
   "cell_type": "code",
   "execution_count": 46,
   "id": "false-prompt",
   "metadata": {},
   "outputs": [
    {
     "name": "stdout",
     "output_type": "stream",
     "text": [
      "Enter any number: 20\n",
      "Number is even\n",
      "Also divisible by 4\n"
     ]
    }
   ],
   "source": [
    "num = int(input(\"Enter any number: \"))\n",
    "if num % 2 == 0:\n",
    "    print(\"Number is even\")\n",
    "    if num % 4 == 0:\n",
    "        print(\"Also divisible by 4\")\n",
    "else:\n",
    "    print(\"Number is odd\")"
   ]
  },
  {
   "cell_type": "code",
   "execution_count": 1,
   "id": "outside-saint",
   "metadata": {
    "collapsed": true
   },
   "outputs": [
    {
     "name": "stdout",
     "output_type": "stream",
     "text": [
      "Enter any number: 12\n",
      "Number is divisible by 4 & also even\n",
      "Enter any number: 34\n",
      "Number is even\n",
      "Enter any number: 50\n",
      "Number is even\n",
      "Enter any number: 21\n",
      "Number is odd\n",
      "Enter any number: 43\n",
      "Number is odd\n"
     ]
    }
   ],
   "source": [
    "# while loop\n",
    "i = 1\n",
    "while i <= 5:\n",
    "    num = int(input(\"Enter any number: \"))\n",
    "    if num % 4 == 0:\n",
    "        print(\"Number is divisible by 4 & also even\")\n",
    "    elif num % 2 == 0:\n",
    "        print(\"Number is even\")\n",
    "    else:\n",
    "        print(\"Number is odd\")\n",
    "    i = i + 1 # i += 1"
   ]
  },
  {
   "cell_type": "code",
   "execution_count": 3,
   "id": "representative-assistant",
   "metadata": {
    "collapsed": true
   },
   "outputs": [
    {
     "name": "stdout",
     "output_type": "stream",
     "text": [
      "Enter any number: 20\n",
      "Number is divisible by 4 & also even\n",
      "Do you want to continue? y/n: y\n",
      "Enter any number: 11\n",
      "Number is odd\n",
      "Do you want to continue? y/n: n\n",
      "Thank you!!\n"
     ]
    }
   ],
   "source": [
    "# while loop\n",
    "opt = 'y'\n",
    "while opt == 'y':\n",
    "    num = int(input(\"Enter any number: \"))\n",
    "    if num % 4 == 0:\n",
    "        print(\"Number is divisible by 4 & also even\")\n",
    "    elif num % 2 == 0:\n",
    "        print(\"Number is even\")\n",
    "    else:\n",
    "        print(\"Number is odd\")\n",
    "    opt = input(\"Do you want to continue? y/n: \")\n",
    "else:\n",
    "    print(\"Thank you!!\")"
   ]
  },
  {
   "cell_type": "code",
   "execution_count": 4,
   "id": "pretty-possible",
   "metadata": {},
   "outputs": [
    {
     "name": "stdout",
     "output_type": "stream",
     "text": [
      "Hello! This program can help you to calculate the area of the following objects \n",
      "1. circle\n",
      "2. square\n",
      "3. rectangle\n",
      "\n",
      "Enter the object you want to calculate: circle\n",
      "Enter the radius of the circle: 4\n",
      "Area of the circle is 50.24\n",
      "Do you want to continue? y/n:y\n",
      "Enter the object you want to calculate: 2\n",
      "Enter the sides of the square: 4\n",
      "Area of the square is 16.0\n",
      "Do you want to continue? y/n:n\n",
      "Thank you!!\n"
     ]
    }
   ],
   "source": [
    "print(\n",
    "    \"Hello! This program can help you to calculate the area of the following objects \\n1. circle\\n2. square\\n3. rectangle\"\n",
    ")\n",
    "print()\n",
    "opt = 'y'\n",
    "while opt == 'y':\n",
    "    choice = input(\"Enter the object you want to calculate: \")\n",
    "    if choice == \"circle\" or choice == '1':\n",
    "        r = float(input(\"Enter the radius of the circle: \"))\n",
    "        print(\"Area of the circle is\", 3.14 * r * r)\n",
    "    elif choice == \"square\" or choice == '2':\n",
    "        a = float(input(\"Enter the sides of the square: \"))\n",
    "        print(\"Area of the square is\", a * a)\n",
    "    elif choice == \"rectangle\" or choice == '3':\n",
    "        l = float(input(\"Enter the length of the rectangle: \"))\n",
    "        b = float(input(\"Enter the breadth of the rectangle: \"))\n",
    "        print(\"Area of the rectangle is\", a * a)\n",
    "    else:\n",
    "        print(\"Invalid option\")\n",
    "    opt = input(\"Do you want to continue? y/n:\")\n",
    "else:\n",
    "    print(\"Thank you!!\")"
   ]
  },
  {
   "cell_type": "code",
   "execution_count": 5,
   "id": "transsexual-honolulu",
   "metadata": {},
   "outputs": [],
   "source": [
    "# string operation\n",
    "language = 'malayalam'\n",
    "sent = \"Elephant is an animal\""
   ]
  },
  {
   "cell_type": "code",
   "execution_count": 6,
   "id": "minimal-iceland",
   "metadata": {
    "collapsed": true
   },
   "outputs": [
    {
     "data": {
      "text/plain": [
       "'m'"
      ]
     },
     "execution_count": 6,
     "metadata": {},
     "output_type": "execute_result"
    }
   ],
   "source": [
    "language[0]"
   ]
  },
  {
   "cell_type": "code",
   "execution_count": 7,
   "id": "endless-terry",
   "metadata": {
    "collapsed": true
   },
   "outputs": [
    {
     "data": {
      "text/plain": [
       "'a'"
      ]
     },
     "execution_count": 7,
     "metadata": {},
     "output_type": "execute_result"
    }
   ],
   "source": [
    "language[5]"
   ]
  },
  {
   "cell_type": "code",
   "execution_count": 8,
   "id": "stuck-migration",
   "metadata": {
    "collapsed": true
   },
   "outputs": [
    {
     "data": {
      "text/plain": [
       "'layalam'"
      ]
     },
     "execution_count": 8,
     "metadata": {},
     "output_type": "execute_result"
    }
   ],
   "source": [
    "language[2:]"
   ]
  },
  {
   "cell_type": "code",
   "execution_count": 9,
   "id": "injured-fitting",
   "metadata": {
    "collapsed": true
   },
   "outputs": [
    {
     "data": {
      "text/plain": [
       "'malay'"
      ]
     },
     "execution_count": 9,
     "metadata": {},
     "output_type": "execute_result"
    }
   ],
   "source": [
    "language[:5]"
   ]
  },
  {
   "cell_type": "code",
   "execution_count": 10,
   "id": "unlikely-logging",
   "metadata": {
    "collapsed": true
   },
   "outputs": [
    {
     "data": {
      "text/plain": [
       "'lay'"
      ]
     },
     "execution_count": 10,
     "metadata": {},
     "output_type": "execute_result"
    }
   ],
   "source": [
    "language[2:5]"
   ]
  },
  {
   "cell_type": "code",
   "execution_count": 11,
   "id": "promotional-press",
   "metadata": {},
   "outputs": [
    {
     "data": {
      "text/plain": [
       "9"
      ]
     },
     "execution_count": 11,
     "metadata": {},
     "output_type": "execute_result"
    }
   ],
   "source": [
    "len(language)"
   ]
  },
  {
   "cell_type": "code",
   "execution_count": 12,
   "id": "weird-definition",
   "metadata": {
    "collapsed": true
   },
   "outputs": [
    {
     "data": {
      "text/plain": [
       "'Malayalam'"
      ]
     },
     "execution_count": 12,
     "metadata": {},
     "output_type": "execute_result"
    }
   ],
   "source": [
    "language.capitalize()"
   ]
  },
  {
   "cell_type": "code",
   "execution_count": 13,
   "id": "smaller-participant",
   "metadata": {
    "collapsed": true
   },
   "outputs": [
    {
     "data": {
      "text/plain": [
       "'MALAYALAM'"
      ]
     },
     "execution_count": 13,
     "metadata": {},
     "output_type": "execute_result"
    }
   ],
   "source": [
    "language.upper()"
   ]
  },
  {
   "cell_type": "code",
   "execution_count": 14,
   "id": "improved-savannah",
   "metadata": {
    "collapsed": true
   },
   "outputs": [
    {
     "data": {
      "text/plain": [
       "'name'"
      ]
     },
     "execution_count": 14,
     "metadata": {},
     "output_type": "execute_result"
    }
   ],
   "source": [
    "\"NAME\".lower()"
   ]
  },
  {
   "cell_type": "code",
   "execution_count": 15,
   "id": "liquid-process",
   "metadata": {
    "collapsed": true
   },
   "outputs": [
    {
     "data": {
      "text/plain": [
       "'nAmE'"
      ]
     },
     "execution_count": 15,
     "metadata": {},
     "output_type": "execute_result"
    }
   ],
   "source": [
    "\"NaMe\".swapcase()"
   ]
  },
  {
   "cell_type": "code",
   "execution_count": 18,
   "id": "visible-religious",
   "metadata": {
    "collapsed": true
   },
   "outputs": [
    {
     "data": {
      "text/plain": [
       "'          malayalam           '"
      ]
     },
     "execution_count": 18,
     "metadata": {},
     "output_type": "execute_result"
    }
   ],
   "source": [
    "language.center(30)"
   ]
  },
  {
   "cell_type": "code",
   "execution_count": 19,
   "id": "herbal-worcester",
   "metadata": {
    "collapsed": true
   },
   "outputs": [
    {
     "data": {
      "text/plain": [
       "4"
      ]
     },
     "execution_count": 19,
     "metadata": {},
     "output_type": "execute_result"
    }
   ],
   "source": [
    "language.count('a')"
   ]
  },
  {
   "cell_type": "code",
   "execution_count": 20,
   "id": "lined-intersection",
   "metadata": {
    "collapsed": true
   },
   "outputs": [
    {
     "data": {
      "text/plain": [
       "(2, 2)"
      ]
     },
     "execution_count": 20,
     "metadata": {},
     "output_type": "execute_result"
    }
   ],
   "source": [
    "language.find('l'), language.index('l')"
   ]
  },
  {
   "cell_type": "code",
   "execution_count": 22,
   "id": "simple-current",
   "metadata": {
    "collapsed": true
   },
   "outputs": [
    {
     "data": {
      "text/plain": [
       "-1"
      ]
     },
     "execution_count": 22,
     "metadata": {},
     "output_type": "execute_result"
    }
   ],
   "source": [
    "language.find('z')"
   ]
  },
  {
   "cell_type": "code",
   "execution_count": 23,
   "id": "written-killing",
   "metadata": {
    "collapsed": true
   },
   "outputs": [
    {
     "ename": "ValueError",
     "evalue": "substring not found",
     "output_type": "error",
     "traceback": [
      "\u001b[0;31m---------------------------------------------------------------------------\u001b[0m",
      "\u001b[0;31mValueError\u001b[0m                                Traceback (most recent call last)",
      "\u001b[0;32m<ipython-input-23-e7f190eb777a>\u001b[0m in \u001b[0;36m<module>\u001b[0;34m\u001b[0m\n\u001b[0;32m----> 1\u001b[0;31m \u001b[0mlanguage\u001b[0m\u001b[0;34m.\u001b[0m\u001b[0mindex\u001b[0m\u001b[0;34m(\u001b[0m\u001b[0;34m'z'\u001b[0m\u001b[0;34m)\u001b[0m\u001b[0;34m\u001b[0m\u001b[0;34m\u001b[0m\u001b[0m\n\u001b[0m",
      "\u001b[0;31mValueError\u001b[0m: substring not found"
     ]
    }
   ],
   "source": [
    "language.index('z')"
   ]
  },
  {
   "cell_type": "code",
   "execution_count": 24,
   "id": "outside-determination",
   "metadata": {
    "collapsed": true
   },
   "outputs": [
    {
     "data": {
      "text/plain": [
       "'majayajam'"
      ]
     },
     "execution_count": 24,
     "metadata": {},
     "output_type": "execute_result"
    }
   ],
   "source": [
    "language.replace('l','j')"
   ]
  },
  {
   "cell_type": "code",
   "execution_count": 25,
   "id": "located-webster",
   "metadata": {
    "collapsed": true
   },
   "outputs": [
    {
     "data": {
      "text/plain": [
       "'Elephant Is An Animal'"
      ]
     },
     "execution_count": 25,
     "metadata": {},
     "output_type": "execute_result"
    }
   ],
   "source": [
    "sent.title()"
   ]
  },
  {
   "cell_type": "code",
   "execution_count": null,
   "id": "coastal-spanish",
   "metadata": {},
   "outputs": [],
   "source": [
    "studentFirstName, student_first_name"
   ]
  },
  {
   "cell_type": "code",
   "execution_count": 26,
   "id": "confident-conducting",
   "metadata": {
    "collapsed": true
   },
   "outputs": [
    {
     "data": {
      "text/plain": [
       "'000012'"
      ]
     },
     "execution_count": 26,
     "metadata": {},
     "output_type": "execute_result"
    }
   ],
   "source": [
    "\"12\".zfill(6)"
   ]
  },
  {
   "cell_type": "code",
   "execution_count": 28,
   "id": "immediate-cross",
   "metadata": {
    "collapsed": true
   },
   "outputs": [
    {
     "data": {
      "text/plain": [
       "'layal'"
      ]
     },
     "execution_count": 28,
     "metadata": {},
     "output_type": "execute_result"
    }
   ],
   "source": [
    "language.strip('am')"
   ]
  },
  {
   "cell_type": "code",
   "execution_count": 29,
   "id": "satellite-essay",
   "metadata": {
    "collapsed": true
   },
   "outputs": [
    {
     "data": {
      "text/plain": [
       "'malayalam'"
      ]
     },
     "execution_count": 29,
     "metadata": {},
     "output_type": "execute_result"
    }
   ],
   "source": [
    "\" malayalam \".strip()"
   ]
  },
  {
   "cell_type": "code",
   "execution_count": 30,
   "id": "induced-weekly",
   "metadata": {
    "collapsed": true
   },
   "outputs": [
    {
     "data": {
      "text/plain": [
       "['Elephant', 'is', 'an', 'animal']"
      ]
     },
     "execution_count": 30,
     "metadata": {},
     "output_type": "execute_result"
    }
   ],
   "source": [
    "sent.split()"
   ]
  },
  {
   "cell_type": "code",
   "execution_count": 31,
   "id": "comprehensive-marijuana",
   "metadata": {
    "collapsed": true
   },
   "outputs": [
    {
     "data": {
      "text/plain": [
       "['Eleph', 't is ', ' ', 'imal']"
      ]
     },
     "execution_count": 31,
     "metadata": {},
     "output_type": "execute_result"
    }
   ],
   "source": [
    "sent.split('an')"
   ]
  },
  {
   "cell_type": "code",
   "execution_count": 32,
   "id": "fewer-basement",
   "metadata": {
    "collapsed": true
   },
   "outputs": [
    {
     "data": {
      "text/plain": [
       "'Elephant is an animal'"
      ]
     },
     "execution_count": 32,
     "metadata": {},
     "output_type": "execute_result"
    }
   ],
   "source": [
    "\"an\".join(sent.split('an'))"
   ]
  },
  {
   "cell_type": "code",
   "execution_count": 33,
   "id": "median-rough",
   "metadata": {
    "collapsed": true
   },
   "outputs": [
    {
     "data": {
      "text/plain": [
       "True"
      ]
     },
     "execution_count": 33,
     "metadata": {},
     "output_type": "execute_result"
    }
   ],
   "source": [
    "language.isalnum()"
   ]
  },
  {
   "cell_type": "code",
   "execution_count": 34,
   "id": "voluntary-hierarchy",
   "metadata": {
    "collapsed": true
   },
   "outputs": [
    {
     "data": {
      "text/plain": [
       "True"
      ]
     },
     "execution_count": 34,
     "metadata": {},
     "output_type": "execute_result"
    }
   ],
   "source": [
    "language.isalpha()"
   ]
  },
  {
   "cell_type": "code",
   "execution_count": 35,
   "id": "noble-short",
   "metadata": {},
   "outputs": [
    {
     "data": {
      "text/plain": [
       "False"
      ]
     },
     "execution_count": 35,
     "metadata": {},
     "output_type": "execute_result"
    }
   ],
   "source": [
    "\"12Ab\".isalpha()"
   ]
  },
  {
   "cell_type": "code",
   "execution_count": 36,
   "id": "southern-spokesman",
   "metadata": {
    "collapsed": true
   },
   "outputs": [
    {
     "data": {
      "text/plain": [
       "True"
      ]
     },
     "execution_count": 36,
     "metadata": {},
     "output_type": "execute_result"
    }
   ],
   "source": [
    "language.islower()"
   ]
  },
  {
   "cell_type": "code",
   "execution_count": 37,
   "id": "liked-control",
   "metadata": {
    "collapsed": true
   },
   "outputs": [
    {
     "data": {
      "text/plain": [
       "False"
      ]
     },
     "execution_count": 37,
     "metadata": {},
     "output_type": "execute_result"
    }
   ],
   "source": [
    "language.upper().islower()"
   ]
  },
  {
   "cell_type": "code",
   "execution_count": 38,
   "id": "sonic-saver",
   "metadata": {
    "collapsed": true
   },
   "outputs": [
    {
     "data": {
      "text/plain": [
       "False"
      ]
     },
     "execution_count": 38,
     "metadata": {},
     "output_type": "execute_result"
    }
   ],
   "source": [
    "language.isdigit()"
   ]
  },
  {
   "cell_type": "code",
   "execution_count": 39,
   "id": "surprised-supervisor",
   "metadata": {
    "collapsed": true
   },
   "outputs": [
    {
     "data": {
      "text/plain": [
       "True"
      ]
     },
     "execution_count": 39,
     "metadata": {},
     "output_type": "execute_result"
    }
   ],
   "source": [
    "\" \".isspace()"
   ]
  },
  {
   "cell_type": "code",
   "execution_count": 40,
   "id": "strange-utility",
   "metadata": {
    "collapsed": true
   },
   "outputs": [
    {
     "data": {
      "text/plain": [
       "True"
      ]
     },
     "execution_count": 40,
     "metadata": {},
     "output_type": "execute_result"
    }
   ],
   "source": [
    "language.isidentifier()"
   ]
  },
  {
   "cell_type": "code",
   "execution_count": 41,
   "id": "labeled-parks",
   "metadata": {
    "collapsed": true
   },
   "outputs": [
    {
     "data": {
      "text/plain": [
       "False"
      ]
     },
     "execution_count": 41,
     "metadata": {},
     "output_type": "execute_result"
    }
   ],
   "source": [
    "\"appl&e\".isidentifier()"
   ]
  },
  {
   "cell_type": "code",
   "execution_count": 42,
   "id": "funky-tablet",
   "metadata": {},
   "outputs": [
    {
     "ename": "NameError",
     "evalue": "name 'x' is not defined",
     "output_type": "error",
     "traceback": [
      "\u001b[0;31m---------------------------------------------------------------------------\u001b[0m",
      "\u001b[0;31mNameError\u001b[0m                                 Traceback (most recent call last)",
      "\u001b[0;32m<ipython-input-42-6f5f771227c8>\u001b[0m in \u001b[0;36m<module>\u001b[0;34m\u001b[0m\n\u001b[1;32m      1\u001b[0m \u001b[0;31m# error handling\u001b[0m\u001b[0;34m\u001b[0m\u001b[0;34m\u001b[0m\u001b[0;34m\u001b[0m\u001b[0m\n\u001b[0;32m----> 2\u001b[0;31m \u001b[0mprint\u001b[0m\u001b[0;34m(\u001b[0m\u001b[0mx\u001b[0m\u001b[0;34m)\u001b[0m\u001b[0;34m\u001b[0m\u001b[0;34m\u001b[0m\u001b[0m\n\u001b[0m\u001b[1;32m      3\u001b[0m \u001b[0mprint\u001b[0m\u001b[0;34m(\u001b[0m\u001b[0;34m\"hello world!!\"\u001b[0m\u001b[0;34m)\u001b[0m\u001b[0;34m\u001b[0m\u001b[0;34m\u001b[0m\u001b[0m\n",
      "\u001b[0;31mNameError\u001b[0m: name 'x' is not defined"
     ]
    }
   ],
   "source": [
    "# error handling\n",
    "print(x)\n",
    "print(\"hello world!!\")"
   ]
  },
  {
   "cell_type": "code",
   "execution_count": 44,
   "id": "operational-divide",
   "metadata": {
    "collapsed": true
   },
   "outputs": [
    {
     "name": "stdout",
     "output_type": "stream",
     "text": [
      "There is an error!\n",
      "hello world!!\n"
     ]
    }
   ],
   "source": [
    "try:\n",
    "    print(x)\n",
    "except:\n",
    "    print(\"There is an error!\")\n",
    "print(\"hello world!!\")"
   ]
  },
  {
   "cell_type": "code",
   "execution_count": 49,
   "id": "minute-republic",
   "metadata": {},
   "outputs": [
    {
     "name": "stdout",
     "output_type": "stream",
     "text": [
      "There is an error: 'x' is an invalid keyword argument for this function\n",
      "hello world!!\n"
     ]
    }
   ],
   "source": [
    "try:\n",
    "    print(x=5)\n",
    "except Exception as e:\n",
    "    print(\"There is an error: {}\".format(e))\n",
    "print(\"hello world!!\")"
   ]
  },
  {
   "cell_type": "code",
   "execution_count": 48,
   "id": "vietnamese-tackle",
   "metadata": {
    "collapsed": true
   },
   "outputs": [
    {
     "name": "stdout",
     "output_type": "stream",
     "text": [
      "There is a type error: 'x' is an invalid keyword argument for this function\n"
     ]
    }
   ],
   "source": [
    "try:\n",
    "    print(x=5)\n",
    "except NameError as e:\n",
    "    print(e)\n",
    "except TypeError as e:\n",
    "    print(\"There is a type error:\",e)"
   ]
  },
  {
   "cell_type": "code",
   "execution_count": 52,
   "id": "alternate-custom",
   "metadata": {
    "collapsed": true
   },
   "outputs": [
    {
     "name": "stdout",
     "output_type": "stream",
     "text": [
      "Enter any number: as\n",
      "Error!! Enter proper numerical value\n",
      "Enter any number: 9\n"
     ]
    }
   ],
   "source": [
    "try:\n",
    "    num = input(\"Enter any number: \")\n",
    "    if not num.isdigit():\n",
    "        raise ValueError(\"Enter proper numerical value\")\n",
    "except Exception as e:\n",
    "    print(\"Error!! {}\".format(e))\n",
    "    num = input(\"Enter any number: \")"
   ]
  },
  {
   "cell_type": "code",
   "execution_count": 55,
   "id": "distinguished-rings",
   "metadata": {},
   "outputs": [
    {
     "data": {
      "text/plain": [
       "55"
      ]
     },
     "execution_count": 55,
     "metadata": {},
     "output_type": "execute_result"
    }
   ],
   "source": [
    "import random as rd\n",
    "num = rd.randint(0,100)\n",
    "num"
   ]
  },
  {
   "cell_type": "code",
   "execution_count": null,
   "id": "important-confusion",
   "metadata": {},
   "outputs": [],
   "source": [
    "# guess game\n",
    "import random as r\n",
    "import time\n",
    "print(\"Think any number between 0-100 and keep it with you, let me find out!!\")\n",
    "time.sleep(6)\n",
    "min = 0\n",
    "max = 100\n",
    "attempt = 0\n",
    "while 1:\n",
    "    comp = r.randint(min, max)\n",
    "    print(\"\\nIsn't it %d ?\" % comp)\n",
    "    user = input(\"Enter the option \\n a.high \\n b.low \\n c.Bingo \\n\")\n",
    "    attempt += 1\n",
    "    if user == \"low\" or user == \"b\":\n",
    "        min = comp + 1\n",
    "        continue\n",
    "    elif user == \"high\" or user == \"a\":\n",
    "        max = comp - 1\n",
    "        continue\n",
    "    elif user == \"bingo\" or user == \"c\":\n",
    "        print(\"\\nThe number is in your mind is %d and computer took %d attempts\" % (\n",
    "            comp, attempt))\n",
    "        break\n",
    "    else:\n",
    "        print(\"\\nPlease enter the valid option\")"
   ]
  },
  {
   "cell_type": "code",
   "execution_count": 56,
   "id": "unknown-bishop",
   "metadata": {},
   "outputs": [],
   "source": [
    "# library/modules\n",
    "import random"
   ]
  },
  {
   "cell_type": "code",
   "execution_count": 57,
   "id": "nutritional-husband",
   "metadata": {
    "collapsed": true
   },
   "outputs": [
    {
     "data": {
      "text/plain": [
       "18"
      ]
     },
     "execution_count": 57,
     "metadata": {},
     "output_type": "execute_result"
    }
   ],
   "source": [
    "random.randint(10,30)"
   ]
  },
  {
   "cell_type": "code",
   "execution_count": 58,
   "id": "dirty-scanning",
   "metadata": {},
   "outputs": [],
   "source": [
    "import random as rd"
   ]
  },
  {
   "cell_type": "code",
   "execution_count": 61,
   "id": "obvious-marble",
   "metadata": {
    "collapsed": true
   },
   "outputs": [
    {
     "data": {
      "text/plain": [
       "'c'"
      ]
     },
     "execution_count": 61,
     "metadata": {},
     "output_type": "execute_result"
    }
   ],
   "source": [
    "rd.choice(['a', 'b', 'c'])"
   ]
  },
  {
   "cell_type": "code",
   "execution_count": 62,
   "id": "homeless-hearts",
   "metadata": {},
   "outputs": [],
   "source": [
    "from math import sinh, factorial, log10"
   ]
  },
  {
   "cell_type": "code",
   "execution_count": 63,
   "id": "earned-photographer",
   "metadata": {
    "collapsed": true
   },
   "outputs": [
    {
     "data": {
      "text/plain": [
       "120"
      ]
     },
     "execution_count": 63,
     "metadata": {},
     "output_type": "execute_result"
    }
   ],
   "source": [
    "factorial(5)"
   ]
  },
  {
   "cell_type": "code",
   "execution_count": 64,
   "id": "stupid-apartment",
   "metadata": {
    "collapsed": true
   },
   "outputs": [
    {
     "data": {
      "text/plain": [
       "0.3010299956639812"
      ]
     },
     "execution_count": 64,
     "metadata": {},
     "output_type": "execute_result"
    }
   ],
   "source": [
    "log10(2)"
   ]
  },
  {
   "cell_type": "code",
   "execution_count": 65,
   "id": "global-bench",
   "metadata": {},
   "outputs": [],
   "source": [
    "from math import *"
   ]
  },
  {
   "cell_type": "code",
   "execution_count": 66,
   "id": "killing-generation",
   "metadata": {},
   "outputs": [
    {
     "data": {
      "text/plain": [
       "-1.995200412208242"
      ]
     },
     "execution_count": 66,
     "metadata": {},
     "output_type": "execute_result"
    }
   ],
   "source": [
    "tan(90)"
   ]
  },
  {
   "cell_type": "code",
   "execution_count": 67,
   "id": "sweet-license",
   "metadata": {},
   "outputs": [
    {
     "data": {
      "text/plain": [
       "1.0"
      ]
     },
     "execution_count": 67,
     "metadata": {},
     "output_type": "execute_result"
    }
   ],
   "source": [
    "log2(2)"
   ]
  },
  {
   "cell_type": "code",
   "execution_count": 2,
   "id": "color-canadian",
   "metadata": {},
   "outputs": [],
   "source": [
    "# functions\n",
    "# no arg, no return\n",
    "def addition():\n",
    "    a = int(input(\"Enter number a:\"))\n",
    "    b = int(input(\"Enter number b:\"))\n",
    "    print(a+b, a*b)"
   ]
  },
  {
   "cell_type": "code",
   "execution_count": 3,
   "id": "naked-dream",
   "metadata": {
    "collapsed": true
   },
   "outputs": [
    {
     "name": "stdout",
     "output_type": "stream",
     "text": [
      "Enter number a:4\n",
      "Enter number b:5\n",
      "9 20\n"
     ]
    }
   ],
   "source": [
    "addition()"
   ]
  },
  {
   "cell_type": "code",
   "execution_count": 4,
   "id": "phantom-munich",
   "metadata": {
    "collapsed": true
   },
   "outputs": [
    {
     "ename": "NameError",
     "evalue": "name 'a' is not defined",
     "output_type": "error",
     "traceback": [
      "\u001b[0;31m---------------------------------------------------------------------------\u001b[0m",
      "\u001b[0;31mNameError\u001b[0m                                 Traceback (most recent call last)",
      "\u001b[0;32m<ipython-input-4-3f786850e387>\u001b[0m in \u001b[0;36m<module>\u001b[0;34m\u001b[0m\n\u001b[0;32m----> 1\u001b[0;31m \u001b[0ma\u001b[0m\u001b[0;34m\u001b[0m\u001b[0;34m\u001b[0m\u001b[0m\n\u001b[0m",
      "\u001b[0;31mNameError\u001b[0m: name 'a' is not defined"
     ]
    }
   ],
   "source": [
    "a"
   ]
  },
  {
   "cell_type": "code",
   "execution_count": 5,
   "id": "fantastic-moral",
   "metadata": {},
   "outputs": [],
   "source": [
    "# with arg, no return\n",
    "def addition(a,b):\n",
    "    print(a+b, a*b)"
   ]
  },
  {
   "cell_type": "code",
   "execution_count": 6,
   "id": "geographic-operations",
   "metadata": {
    "collapsed": true
   },
   "outputs": [
    {
     "name": "stdout",
     "output_type": "stream",
     "text": [
      "Enter number a:6\n",
      "Enter number b:7\n",
      "13 42\n"
     ]
    }
   ],
   "source": [
    "a = int(input(\"Enter number a:\"))\n",
    "b = int(input(\"Enter number b:\"))\n",
    "addition(a,b)"
   ]
  },
  {
   "cell_type": "code",
   "execution_count": 7,
   "id": "defined-egyptian",
   "metadata": {
    "collapsed": true
   },
   "outputs": [
    {
     "name": "stdout",
     "output_type": "stream",
     "text": [
      "Enter number c:4\n",
      "Enter number d:9\n",
      "13 36\n"
     ]
    }
   ],
   "source": [
    "c = int(input(\"Enter number c:\"))\n",
    "d = int(input(\"Enter number d:\"))\n",
    "addition(d,c)"
   ]
  },
  {
   "cell_type": "code",
   "execution_count": 8,
   "id": "marine-bracket",
   "metadata": {
    "collapsed": true
   },
   "outputs": [
    {
     "name": "stdout",
     "output_type": "stream",
     "text": [
      "3 2\n"
     ]
    }
   ],
   "source": [
    "addition(1,2)"
   ]
  },
  {
   "cell_type": "code",
   "execution_count": 9,
   "id": "accessory-aruba",
   "metadata": {},
   "outputs": [],
   "source": [
    "# with default arg, no return\n",
    "def addition(b,a=10):\n",
    "    print(a+b, a*b)"
   ]
  },
  {
   "cell_type": "code",
   "execution_count": 10,
   "id": "difficult-hayes",
   "metadata": {
    "collapsed": true
   },
   "outputs": [
    {
     "name": "stdout",
     "output_type": "stream",
     "text": [
      "14 40\n"
     ]
    }
   ],
   "source": [
    "addition(c)"
   ]
  },
  {
   "cell_type": "code",
   "execution_count": 11,
   "id": "simplified-utilization",
   "metadata": {
    "collapsed": true
   },
   "outputs": [
    {
     "name": "stdout",
     "output_type": "stream",
     "text": [
      "13 36\n"
     ]
    }
   ],
   "source": [
    "addition(c,d)"
   ]
  },
  {
   "cell_type": "code",
   "execution_count": 12,
   "id": "wrong-ballet",
   "metadata": {},
   "outputs": [],
   "source": [
    "# functions\n",
    "# no arg, with return\n",
    "def addition():\n",
    "    a = int(input(\"Enter number a:\"))\n",
    "    b = int(input(\"Enter number b:\"))\n",
    "    return a+b, a*b"
   ]
  },
  {
   "cell_type": "code",
   "execution_count": 13,
   "id": "republican-watson",
   "metadata": {
    "collapsed": true
   },
   "outputs": [
    {
     "name": "stdout",
     "output_type": "stream",
     "text": [
      "Enter number a:3\n",
      "Enter number b:2\n"
     ]
    }
   ],
   "source": [
    "s,m = addition()"
   ]
  },
  {
   "cell_type": "code",
   "execution_count": 14,
   "id": "monthly-affect",
   "metadata": {
    "collapsed": true
   },
   "outputs": [
    {
     "name": "stdout",
     "output_type": "stream",
     "text": [
      "5 6\n"
     ]
    }
   ],
   "source": [
    "print(s,m)"
   ]
  },
  {
   "cell_type": "code",
   "execution_count": 15,
   "id": "valuable-recipient",
   "metadata": {
    "collapsed": true
   },
   "outputs": [
    {
     "name": "stdout",
     "output_type": "stream",
     "text": [
      "Enter number a:4\n",
      "Enter number b:3\n"
     ]
    }
   ],
   "source": [
    "ans = addition()"
   ]
  },
  {
   "cell_type": "code",
   "execution_count": 16,
   "id": "expected-credits",
   "metadata": {},
   "outputs": [
    {
     "name": "stdout",
     "output_type": "stream",
     "text": [
      "(7, 12)\n"
     ]
    }
   ],
   "source": [
    "print(ans)"
   ]
  },
  {
   "cell_type": "code",
   "execution_count": 22,
   "id": "based-queens",
   "metadata": {},
   "outputs": [],
   "source": [
    "def isPrime(num):\n",
    "    flag = \"Prime\"\n",
    "    for i in range(2, num):\n",
    "        if num % i == 0:\n",
    "            flag = \"Not Prime\"\n",
    "    return flag\n"
   ]
  },
  {
   "cell_type": "code",
   "execution_count": 23,
   "id": "activated-omaha",
   "metadata": {},
   "outputs": [
    {
     "data": {
      "text/plain": [
       "'Prime'"
      ]
     },
     "execution_count": 23,
     "metadata": {},
     "output_type": "execute_result"
    }
   ],
   "source": [
    "isPrime(13)"
   ]
  },
  {
   "cell_type": "code",
   "execution_count": 24,
   "id": "precious-citizenship",
   "metadata": {},
   "outputs": [
    {
     "data": {
      "text/plain": [
       "'Not Prime'"
      ]
     },
     "execution_count": 24,
     "metadata": {},
     "output_type": "execute_result"
    }
   ],
   "source": [
    "isPrime(12)"
   ]
  },
  {
   "cell_type": "code",
   "execution_count": 26,
   "id": "through-layout",
   "metadata": {},
   "outputs": [
    {
     "name": "stdout",
     "output_type": "stream",
     "text": [
      "10 --> Not Prime\n",
      "11 --> Prime\n",
      "12 --> Not Prime\n",
      "13 --> Prime\n",
      "14 --> Not Prime\n",
      "15 --> Not Prime\n",
      "16 --> Not Prime\n",
      "17 --> Prime\n",
      "18 --> Not Prime\n",
      "19 --> Prime\n"
     ]
    }
   ],
   "source": [
    "for i in range(10,20):\n",
    "    print(i, \"-->\",isPrime(i))"
   ]
  },
  {
   "cell_type": "code",
   "execution_count": 27,
   "id": "arbitrary-fever",
   "metadata": {},
   "outputs": [],
   "source": [
    "s = lambda a, b : a+b"
   ]
  },
  {
   "cell_type": "code",
   "execution_count": 28,
   "id": "mounted-representation",
   "metadata": {
    "collapsed": true
   },
   "outputs": [
    {
     "data": {
      "text/plain": [
       "9"
      ]
     },
     "execution_count": 28,
     "metadata": {},
     "output_type": "execute_result"
    }
   ],
   "source": [
    "s(4,5)"
   ]
  },
  {
   "cell_type": "code",
   "execution_count": 29,
   "id": "intelligent-paintball",
   "metadata": {},
   "outputs": [],
   "source": [
    "u = lambda char : char.upper()"
   ]
  },
  {
   "cell_type": "code",
   "execution_count": null,
   "id": "cheap-privacy",
   "metadata": {},
   "outputs": [],
   "source": [
    "def u(char): \n",
    "    return char.upper()"
   ]
  },
  {
   "cell_type": "code",
   "execution_count": 30,
   "id": "ahead-system",
   "metadata": {
    "collapsed": true
   },
   "outputs": [
    {
     "data": {
      "text/plain": [
       "'SHARMA'"
      ]
     },
     "execution_count": 30,
     "metadata": {},
     "output_type": "execute_result"
    }
   ],
   "source": [
    "u(\"sharma\")"
   ]
  },
  {
   "cell_type": "code",
   "execution_count": 31,
   "id": "herbal-audit",
   "metadata": {},
   "outputs": [],
   "source": [
    "l = [\"apple\",\"ball\", \"cat\"]\n",
    "n = [3,423,23,54]"
   ]
  },
  {
   "cell_type": "code",
   "execution_count": 36,
   "id": "ruled-headquarters",
   "metadata": {},
   "outputs": [
    {
     "data": {
      "text/plain": [
       "['APPLE', 'BALL', 'CAT']"
      ]
     },
     "execution_count": 36,
     "metadata": {},
     "output_type": "execute_result"
    }
   ],
   "source": [
    "L = []\n",
    "for i in l:\n",
    "    L.append(u(i))\n",
    "L"
   ]
  },
  {
   "cell_type": "code",
   "execution_count": 34,
   "id": "confident-convertible",
   "metadata": {},
   "outputs": [
    {
     "data": {
      "text/plain": [
       "['APPLE', 'BALL', 'CAT']"
      ]
     },
     "execution_count": 34,
     "metadata": {},
     "output_type": "execute_result"
    }
   ],
   "source": [
    "list(map(u,l))"
   ]
  },
  {
   "cell_type": "code",
   "execution_count": 35,
   "id": "nominated-memorabilia",
   "metadata": {},
   "outputs": [
    {
     "data": {
      "text/plain": [
       "['Prime', 'Not Prime', 'Prime', 'Not Prime']"
      ]
     },
     "execution_count": 35,
     "metadata": {},
     "output_type": "execute_result"
    }
   ],
   "source": [
    "list(map(isPrime,n))"
   ]
  },
  {
   "cell_type": "code",
   "execution_count": null,
   "id": "subsequent-restaurant",
   "metadata": {},
   "outputs": [],
   "source": []
  }
 ],
 "metadata": {
  "kernelspec": {
   "display_name": "Python 3",
   "language": "python",
   "name": "python3"
  },
  "language_info": {
   "codemirror_mode": {
    "name": "ipython",
    "version": 3
   },
   "file_extension": ".py",
   "mimetype": "text/x-python",
   "name": "python",
   "nbconvert_exporter": "python",
   "pygments_lexer": "ipython3",
   "version": "3.6.8"
  },
  "nbTranslate": {
   "displayLangs": [
    "*"
   ],
   "hotkey": "alt-t",
   "langInMainMenu": true,
   "sourceLang": "en",
   "targetLang": "fr",
   "useGoogleTranslate": true
  },
  "toc": {
   "base_numbering": 1,
   "nav_menu": {},
   "number_sections": true,
   "sideBar": true,
   "skip_h1_title": false,
   "title_cell": "Table of Contents",
   "title_sidebar": "Contents",
   "toc_cell": false,
   "toc_position": {},
   "toc_section_display": true,
   "toc_window_display": false
  },
  "varInspector": {
   "cols": {
    "lenName": 16,
    "lenType": 16,
    "lenVar": 40
   },
   "kernels_config": {
    "python": {
     "delete_cmd_postfix": "",
     "delete_cmd_prefix": "del ",
     "library": "var_list.py",
     "varRefreshCmd": "print(var_dic_list())"
    },
    "r": {
     "delete_cmd_postfix": ") ",
     "delete_cmd_prefix": "rm(",
     "library": "var_list.r",
     "varRefreshCmd": "cat(var_dic_list()) "
    }
   },
   "types_to_exclude": [
    "module",
    "function",
    "builtin_function_or_method",
    "instance",
    "_Feature"
   ],
   "window_display": false
  }
 },
 "nbformat": 4,
 "nbformat_minor": 5
}
