{
 "cells": [
  {
   "cell_type": "markdown",
   "id": "invisible-justice",
   "metadata": {},
   "source": [
    "Trainer Name: Sharma Saravanan\n",
    "\n",
    "Website : https://www.sharmasaravanan.com, https://www.besoins.in\n",
    "\n",
    "Github : https://github.com/sharmasaravanan/Machine_learning/blob/master/MSME_Sep_2023.ipynb\n",
    "\n",
    "Blog : https://sharmasaravanan.medium.com\n",
    "\n",
    "LinkedIn : https://www.linkedin.com/in/sharmasaravanan\n",
    "\n",
    "Email : sharma@besoins.in"
   ]
  },
  {
   "cell_type": "markdown",
   "id": "opposed-foundation",
   "metadata": {},
   "source": [
    "<b> Important Links</b>\n",
    "\n",
    "PPT: https://1drv.ms/p/s!ArLkuKvmnNQcjEDo6gmjlidufaek?e=3LR0yR\n",
    "\n",
    "Books : https://drive.google.com/drive/folders/1NKdaAJkg_nW3IUMnbrOPU4Ppw3Dckm4k?usp=sharing\n",
    "\n",
    "Exercise: https://www.w3resource.com/python-exercises/ and https://www.practicepython.org/\n",
    "\n",
    "Cheatsheet: https://drive.google.com/drive/folders/1aWmEBeUbpshAzgf5wNiiRqO2S5x6R7n2?usp=drive_link\n",
    "\n",
    "Similarity Method:https://dataaspirant.com/five-most-popular-similarity-measures-implementation-in-python/\n",
    "\n",
    "K-Means Workout Sheet: https://docs.google.com/spreadsheets/d/1BBQ9Bb7IUHEVUk8SpqpvUC0dy30pjOcGrSwe_Trzu1w/edit?usp=sharing\n",
    "\n",
    "youtube ML playlist : https://youtube.com/playlist?list=PL_Nji0JOuXg21vSLBAcHTdnTwexb1gd45&si=NbobQXqcmpyWyuVo\n",
    "\n",
    "Opencv Examples :- https://www.mygreatlearning.com/blog/opencv-tutorial-in-python/\n",
    "\n",
    "papers :- https://scholar.google.com/citations?user=PZt7zckAAAAJ&hl=en\n",
    "\n",
    "to download research papers :- https://sci-hub.hkvisa.ne"
   ]
  },
  {
   "cell_type": "code",
   "execution_count": null,
   "id": "amended-nickel",
   "metadata": {},
   "outputs": [],
   "source": [
    "average --> mean, median or mode\n",
    "10,20,30,40,50,60 --> 35, 35\n",
    "4,7,12,24,45,51 --> 23.8, 18"
   ]
  },
  {
   "cell_type": "code",
   "execution_count": null,
   "id": "moving-specific",
   "metadata": {},
   "outputs": [],
   "source": [
    "total mark = 100\n",
    "\n",
    "top most mark = 85 --> 100 percentile\n",
    "i scored = 70 --> 82\n",
    "\n",
    "[10,20,30,40,50,60] --> 60 "
   ]
  },
  {
   "cell_type": "code",
   "execution_count": null,
   "id": "incorporated-biology",
   "metadata": {},
   "outputs": [],
   "source": [
    "1st -> 15 (10)\n",
    "\n",
    "2nd -> 30 (10,20,30)\n",
    "\n",
    "3rd -> 45 (10,20,30,40)\n",
    "\n",
    "4th -> 60 "
   ]
  },
  {
   "cell_type": "code",
   "execution_count": null,
   "id": "injured-century",
   "metadata": {},
   "outputs": [],
   "source": [
    "box plot -> skewed "
   ]
  },
  {
   "cell_type": "code",
   "execution_count": null,
   "id": "bulgarian-induction",
   "metadata": {},
   "outputs": [],
   "source": [
    "[1,2,3] -> 1D -> Vector\n",
    "[1,2,3 -> 2D -> matrix\n",
    " 4,5,6]\n",
    "\n",
    "3D -> Tensor"
   ]
  },
  {
   "cell_type": "code",
   "execution_count": null,
   "id": "composed-vintage",
   "metadata": {},
   "outputs": [],
   "source": [
    "sparse matrix --> "
   ]
  },
  {
   "cell_type": "markdown",
   "id": "traditional-thompson",
   "metadata": {},
   "source": [
    "### python"
   ]
  },
  {
   "cell_type": "markdown",
   "id": "prospective-slave",
   "metadata": {
    "deletable": false,
    "editable": false
   },
   "source": [
    "* <span class=\"girk\"><span class=\"girk\">variables and datatypes\n",
    "* <span class=\"girk\">input and output functions</span></span>\n",
    "* <span class=\"girk\">if-else case\n",
    "* <span class=\"girk\">while loop</span></span></span>\n",
    "* <span class=\"girk\">string operations</span>\n",
    "* <span class=\"girk\">array operations (list/tuple/dict)</span>\n",
    "* <span class=\"girk\">for loop</span>\n",
    "* <span class=\"girk\">functions\n",
    "* <span class=\"girk\">error handling</span></span>\n",
    "\n",
    "* visualization \n",
    "* file handling"
   ]
  },
  {
   "cell_type": "markdown",
   "id": "clear-motion",
   "metadata": {},
   "source": [
    "#### Variables"
   ]
  },
  {
   "cell_type": "code",
   "execution_count": null,
   "id": "significant-syndicate",
   "metadata": {},
   "outputs": [],
   "source": [
    "a # allowed\n",
    "a2 # allowed\n",
    "name_2 # allowed\n",
    "name.2 # not allowed\n",
    "camelCase or snake_case # way of creating a variable\n",
    "myNameIsSharma # camel case\n",
    "my_name_is_sharma"
   ]
  },
  {
   "cell_type": "markdown",
   "id": "duplicate-fruit",
   "metadata": {},
   "source": [
    "#### Datatypes"
   ]
  },
  {
   "cell_type": "code",
   "execution_count": 4,
   "id": "polar-rates",
   "metadata": {},
   "outputs": [],
   "source": [
    "a = 15 # int\n",
    "b = 3.14 # float\n",
    "c = \"apple\" # string\n",
    "d = False # bool"
   ]
  },
  {
   "cell_type": "markdown",
   "id": "innocent-nickname",
   "metadata": {},
   "source": [
    "#### input and output functions"
   ]
  },
  {
   "cell_type": "code",
   "execution_count": 5,
   "id": "baking-organ",
   "metadata": {},
   "outputs": [
    {
     "name": "stdout",
     "output_type": "stream",
     "text": [
      "15\n",
      "3.14\n",
      "apple False\n"
     ]
    }
   ],
   "source": [
    "print(a)\n",
    "print(b)\n",
    "print(c,d)"
   ]
  },
  {
   "cell_type": "code",
   "execution_count": 7,
   "id": "unavailable-prime",
   "metadata": {},
   "outputs": [
    {
     "name": "stdout",
     "output_type": "stream",
     "text": [
      "hello world\n"
     ]
    }
   ],
   "source": [
    "print(\"hello world\")"
   ]
  },
  {
   "cell_type": "code",
   "execution_count": 9,
   "id": "permanent-spoke",
   "metadata": {},
   "outputs": [
    {
     "name": "stdout",
     "output_type": "stream",
     "text": [
      "apple\n"
     ]
    }
   ],
   "source": [
    "print('apple')"
   ]
  },
  {
   "cell_type": "code",
   "execution_count": 12,
   "id": "mature-harvard",
   "metadata": {},
   "outputs": [
    {
     "name": "stdout",
     "output_type": "stream",
     "text": [
      "<class 'int'> <class 'float'> <class 'str'> <class 'bool'>\n"
     ]
    }
   ],
   "source": [
    "print(type(a),type(b),type(c),type(d))"
   ]
  },
  {
   "cell_type": "code",
   "execution_count": 13,
   "id": "united-royal",
   "metadata": {},
   "outputs": [
    {
     "name": "stdout",
     "output_type": "stream",
     "text": [
      "<class 'int'> <class 'str'>\n"
     ]
    }
   ],
   "source": [
    "print(type(12), type(\"12\"))"
   ]
  },
  {
   "cell_type": "code",
   "execution_count": 17,
   "id": "accessible-torture",
   "metadata": {},
   "outputs": [
    {
     "name": "stdout",
     "output_type": "stream",
     "text": [
      "Enter your name: apple\n",
      "Enter any random number: 12\n"
     ]
    }
   ],
   "source": [
    "name = input(\"Enter your name: \")\n",
    "n = input(\"Enter any random number: \")"
   ]
  },
  {
   "cell_type": "code",
   "execution_count": 19,
   "id": "subsequent-feeding",
   "metadata": {},
   "outputs": [
    {
     "name": "stdout",
     "output_type": "stream",
     "text": [
      "apple <class 'str'>\n",
      "12 <class 'str'>\n"
     ]
    }
   ],
   "source": [
    "print(name, type(name))\n",
    "print(n, type(n))"
   ]
  },
  {
   "cell_type": "markdown",
   "id": "endangered-seven",
   "metadata": {},
   "source": [
    "#### arithmetic operations"
   ]
  },
  {
   "cell_type": "markdown",
   "id": "voluntary-surname",
   "metadata": {},
   "source": [
    "+ - * / % //"
   ]
  },
  {
   "cell_type": "code",
   "execution_count": 20,
   "id": "hindu-diana",
   "metadata": {},
   "outputs": [
    {
     "name": "stdout",
     "output_type": "stream",
     "text": [
      "3.3333333333333335 1 3\n"
     ]
    }
   ],
   "source": [
    "print(10/3, 10%3, 10 // 3)"
   ]
  },
  {
   "cell_type": "markdown",
   "id": "written-piece",
   "metadata": {},
   "source": [
    "#### logical operation"
   ]
  },
  {
   "cell_type": "code",
   "execution_count": null,
   "id": "ignored-yukon",
   "metadata": {},
   "outputs": [],
   "source": [
    "and or not"
   ]
  },
  {
   "cell_type": "markdown",
   "id": "abroad-curtis",
   "metadata": {},
   "source": [
    "#### conditional operations"
   ]
  },
  {
   "cell_type": "code",
   "execution_count": null,
   "id": "organized-obligation",
   "metadata": {},
   "outputs": [],
   "source": [
    "> < >= <= == !="
   ]
  },
  {
   "cell_type": "code",
   "execution_count": 22,
   "id": "spiritual-railway",
   "metadata": {},
   "outputs": [
    {
     "data": {
      "text/plain": [
       "'1212'"
      ]
     },
     "execution_count": 22,
     "metadata": {},
     "output_type": "execute_result"
    }
   ],
   "source": [
    "n * 2"
   ]
  },
  {
   "cell_type": "markdown",
   "id": "secure-employer",
   "metadata": {},
   "source": [
    "#### typecasting"
   ]
  },
  {
   "cell_type": "code",
   "execution_count": 23,
   "id": "spatial-elevation",
   "metadata": {},
   "outputs": [
    {
     "data": {
      "text/plain": [
       "24"
      ]
     },
     "execution_count": 23,
     "metadata": {},
     "output_type": "execute_result"
    }
   ],
   "source": [
    "int(n) * 2"
   ]
  },
  {
   "cell_type": "code",
   "execution_count": 24,
   "id": "revolutionary-ebony",
   "metadata": {},
   "outputs": [
    {
     "data": {
      "text/plain": [
       "24.0"
      ]
     },
     "execution_count": 24,
     "metadata": {},
     "output_type": "execute_result"
    }
   ],
   "source": [
    "float(n) * 2"
   ]
  },
  {
   "cell_type": "code",
   "execution_count": 29,
   "id": "musical-emperor",
   "metadata": {},
   "outputs": [
    {
     "data": {
      "text/plain": [
       "True"
      ]
     },
     "execution_count": 29,
     "metadata": {},
     "output_type": "execute_result"
    }
   ],
   "source": [
    "bool(10)"
   ]
  },
  {
   "cell_type": "code",
   "execution_count": null,
   "id": "thick-visiting",
   "metadata": {},
   "outputs": [],
   "source": [
    "n = \n",
    "ans = nnn + nn + n\n",
    "print(ans)"
   ]
  },
  {
   "cell_type": "markdown",
   "id": "adopted-morgan",
   "metadata": {},
   "source": [
    "n = 4\n",
    "444 + 44 + 4, <span class=\"burk\">n * 111 + n *11 + n</span>"
   ]
  },
  {
   "cell_type": "code",
   "execution_count": 36,
   "id": "naval-convert",
   "metadata": {},
   "outputs": [
    {
     "name": "stdout",
     "output_type": "stream",
     "text": [
      "492\n"
     ]
    }
   ],
   "source": [
    "n = '4'\n",
    "\n",
    "a = int(n * 3) + int(n * 2) + int(n)\n",
    "\n",
    "print(a)"
   ]
  },
  {
   "cell_type": "code",
   "execution_count": 38,
   "id": "third-portal",
   "metadata": {},
   "outputs": [
    {
     "name": "stdout",
     "output_type": "stream",
     "text": [
      "Enter a no. : 4\n",
      "492\n"
     ]
    }
   ],
   "source": [
    "n = input(\"Enter a no. : \")\n",
    "\n",
    "ans = int(n * 3) + int(n * 2) + int(n * 1)\n",
    "\n",
    "print(ans)"
   ]
  },
  {
   "cell_type": "code",
   "execution_count": 40,
   "id": "cardiovascular-prince",
   "metadata": {},
   "outputs": [
    {
     "data": {
      "text/plain": [
       "492"
      ]
     },
     "execution_count": 40,
     "metadata": {},
     "output_type": "execute_result"
    }
   ],
   "source": [
    "n = 4\n",
    "int(str(n) * 3) + int(str(n) * 2) + n"
   ]
  },
  {
   "cell_type": "markdown",
   "id": "orange-examination",
   "metadata": {},
   "source": [
    "#### if-else"
   ]
  },
  {
   "cell_type": "code",
   "execution_count": 44,
   "id": "adjusted-indonesian",
   "metadata": {},
   "outputs": [
    {
     "name": "stdout",
     "output_type": "stream",
     "text": [
      "Enter any number to check odd/even: 5\n",
      "The number is odd!\n"
     ]
    }
   ],
   "source": [
    "num = int(input(\"Enter any number to check odd/even: \"))\n",
    "if num % 2 == 0 :\n",
    "    print(\"The number is even!\")\n",
    "else:\n",
    "    print(\"The number is odd!\")"
   ]
  },
  {
   "cell_type": "code",
   "execution_count": 47,
   "id": "processed-camping",
   "metadata": {},
   "outputs": [
    {
     "name": "stdout",
     "output_type": "stream",
     "text": [
      "Enter any number to check odd/even: 20\n",
      "The number is even!\n",
      "The number is divisible by 4\n"
     ]
    }
   ],
   "source": [
    "num = int(input(\"Enter any number to check odd/even: \"))\n",
    "if num % 2 == 0 :\n",
    "    print(\"The number is even!\")\n",
    "    if num % 4 == 0:\n",
    "        print(\"The number is divisible by 4\")\n",
    "else:\n",
    "    print(\"The number is odd!\")"
   ]
  },
  {
   "cell_type": "code",
   "execution_count": 50,
   "id": "bronze-chick",
   "metadata": {},
   "outputs": [
    {
     "name": "stdout",
     "output_type": "stream",
     "text": [
      "Enter any number to check odd/even: 5\n",
      "The number is odd!\n"
     ]
    }
   ],
   "source": [
    "num = int(input(\"Enter any number to check odd/even: \"))\n",
    "if num % 4 == 0:\n",
    "    print(\"The number is even and divisible by 4\")\n",
    "elif num % 2 == 0:\n",
    "    print(\"The number is even!\")\n",
    "else:\n",
    "    print(\"The number is odd!\")"
   ]
  },
  {
   "cell_type": "code",
   "execution_count": 53,
   "id": "treated-giving",
   "metadata": {},
   "outputs": [
    {
     "name": "stdout",
     "output_type": "stream",
     "text": [
      "Enter any number to check odd/even: 24\n",
      "The number is even and divisible by 4\n",
      "Do you want to continue? y/n: n\n",
      "Thank you!\n"
     ]
    }
   ],
   "source": [
    "choice = 'y'\n",
    "while choice == 'y':\n",
    "    num = int(input(\"Enter any number to check odd/even: \"))\n",
    "    if num % 4 == 0:\n",
    "        print(\"The number is even and divisible by 4\")\n",
    "    elif num % 2 == 0:\n",
    "        print(\"The number is even!\")\n",
    "    else:\n",
    "        print(\"The number is odd!\")\n",
    "        \n",
    "    choice = input(\"Do you want to continue? y/n: \")\n",
    "else:\n",
    "    rint(\"Thank you!\")"
   ]
  },
  {
   "cell_type": "code",
   "execution_count": 124,
   "id": "disturbed-fashion",
   "metadata": {},
   "outputs": [
    {
     "name": "stdout",
     "output_type": "stream",
     "text": [
      "Enter any number to check odd/even: 10\n",
      "The number is even!\n",
      "Enter any number to check odd/even: 12\n",
      "The number is even and divisible by 4\n",
      "Enter any number to check odd/even: 14\n",
      "The number is even!\n",
      "Enter any number to check odd/even: 15\n",
      "The number is odd!\n",
      "Enter any number to check odd/even: 16\n",
      "The number is even and divisible by 4\n",
      "Enter any number to check odd/even: j\n"
     ]
    },
    {
     "ename": "ValueError",
     "evalue": "invalid literal for int() with base 10: 'j'",
     "output_type": "error",
     "traceback": [
      "\u001b[0;31m---------------------------------------------------------------------------\u001b[0m",
      "\u001b[0;31mValueError\u001b[0m                                Traceback (most recent call last)",
      "\u001b[0;32m<ipython-input-124-878ef4fe96d8>\u001b[0m in \u001b[0;36m<module>\u001b[0;34m\u001b[0m\n\u001b[1;32m      1\u001b[0m \u001b[0;31m# infinite loop\u001b[0m\u001b[0;34m\u001b[0m\u001b[0;34m\u001b[0m\u001b[0;34m\u001b[0m\u001b[0m\n\u001b[1;32m      2\u001b[0m \u001b[0;32mwhile\u001b[0m \u001b[0;32mTrue\u001b[0m\u001b[0;34m:\u001b[0m\u001b[0;34m\u001b[0m\u001b[0;34m\u001b[0m\u001b[0m\n\u001b[0;32m----> 3\u001b[0;31m     \u001b[0mnum\u001b[0m \u001b[0;34m=\u001b[0m \u001b[0mint\u001b[0m\u001b[0;34m(\u001b[0m\u001b[0minput\u001b[0m\u001b[0;34m(\u001b[0m\u001b[0;34m\"Enter any number to check odd/even: \"\u001b[0m\u001b[0;34m)\u001b[0m\u001b[0;34m)\u001b[0m\u001b[0;34m\u001b[0m\u001b[0;34m\u001b[0m\u001b[0m\n\u001b[0m\u001b[1;32m      4\u001b[0m     \u001b[0;32mif\u001b[0m \u001b[0mnum\u001b[0m \u001b[0;34m%\u001b[0m \u001b[0;36m4\u001b[0m \u001b[0;34m==\u001b[0m \u001b[0;36m0\u001b[0m\u001b[0;34m:\u001b[0m\u001b[0;34m\u001b[0m\u001b[0;34m\u001b[0m\u001b[0m\n\u001b[1;32m      5\u001b[0m         \u001b[0mprint\u001b[0m\u001b[0;34m(\u001b[0m\u001b[0;34m\"The number is even and divisible by 4\"\u001b[0m\u001b[0;34m)\u001b[0m\u001b[0;34m\u001b[0m\u001b[0;34m\u001b[0m\u001b[0m\n",
      "\u001b[0;31mValueError\u001b[0m: invalid literal for int() with base 10: 'j'"
     ]
    }
   ],
   "source": [
    "# infinite loop\n",
    "while True:\n",
    "    num = int(input(\"Enter any number to check odd/even: \"))\n",
    "    if num % 4 == 0:\n",
    "        print(\"The number is even and divisible by 4\")\n",
    "    elif num % 2 == 0:\n",
    "        print(\"The number is even!\")\n",
    "    else:\n",
    "        print(\"The number is odd!\")"
   ]
  },
  {
   "cell_type": "markdown",
   "id": "signal-conflict",
   "metadata": {},
   "source": [
    "#### Array operations"
   ]
  },
  {
   "cell_type": "markdown",
   "id": "peripheral-underground",
   "metadata": {},
   "source": [
    "List and Tuple"
   ]
  },
  {
   "cell_type": "code",
   "execution_count": 55,
   "id": "modified-communications",
   "metadata": {},
   "outputs": [],
   "source": [
    "emptyList = []\n",
    "listElements = [1, 2, 3, 4.5, 6.7, 8.9, 'a', 'b', 'apple', 'cat']"
   ]
  },
  {
   "cell_type": "markdown",
   "id": "occasional-heater",
   "metadata": {},
   "source": [
    "##### Slice and dice"
   ]
  },
  {
   "cell_type": "code",
   "execution_count": 56,
   "id": "atomic-bearing",
   "metadata": {},
   "outputs": [
    {
     "data": {
      "text/plain": [
       "'a'"
      ]
     },
     "execution_count": 56,
     "metadata": {},
     "output_type": "execute_result"
    }
   ],
   "source": [
    "listElements[6]"
   ]
  },
  {
   "cell_type": "code",
   "execution_count": 57,
   "id": "latest-offset",
   "metadata": {},
   "outputs": [
    {
     "data": {
      "text/plain": [
       "['a', 'b', 'apple', 'cat']"
      ]
     },
     "execution_count": 57,
     "metadata": {},
     "output_type": "execute_result"
    }
   ],
   "source": [
    "listElements[6:]"
   ]
  },
  {
   "cell_type": "code",
   "execution_count": 58,
   "id": "technical-offering",
   "metadata": {},
   "outputs": [
    {
     "data": {
      "text/plain": [
       "[1, 2, 3, 4.5, 6.7, 8.9]"
      ]
     },
     "execution_count": 58,
     "metadata": {},
     "output_type": "execute_result"
    }
   ],
   "source": [
    "listElements[:6]"
   ]
  },
  {
   "cell_type": "code",
   "execution_count": 59,
   "id": "collected-operator",
   "metadata": {},
   "outputs": [],
   "source": [
    "del listElements[6]"
   ]
  },
  {
   "cell_type": "code",
   "execution_count": 60,
   "id": "front-theory",
   "metadata": {},
   "outputs": [
    {
     "data": {
      "text/plain": [
       "[1, 2, 3, 4.5, 6.7, 8.9, 'b', 'apple', 'cat']"
      ]
     },
     "execution_count": 60,
     "metadata": {},
     "output_type": "execute_result"
    }
   ],
   "source": [
    "listElements"
   ]
  },
  {
   "cell_type": "code",
   "execution_count": 61,
   "id": "yellow-heart",
   "metadata": {},
   "outputs": [],
   "source": [
    "listElements[6] = \"pine apple\""
   ]
  },
  {
   "cell_type": "code",
   "execution_count": 62,
   "id": "proved-perth",
   "metadata": {},
   "outputs": [
    {
     "data": {
      "text/plain": [
       "[1, 2, 3, 4.5, 6.7, 8.9, 'pine apple', 'apple', 'cat']"
      ]
     },
     "execution_count": 62,
     "metadata": {},
     "output_type": "execute_result"
    }
   ],
   "source": [
    "listElements"
   ]
  },
  {
   "cell_type": "code",
   "execution_count": 63,
   "id": "rubber-flower",
   "metadata": {},
   "outputs": [],
   "source": [
    "listElements[6] = \"pine_apple\""
   ]
  },
  {
   "cell_type": "code",
   "execution_count": 64,
   "id": "unusual-adoption",
   "metadata": {},
   "outputs": [
    {
     "data": {
      "text/plain": [
       "[1, 2, 3, 4.5, 6.7, 8.9, 'pine_apple', 'apple', 'cat']"
      ]
     },
     "execution_count": 64,
     "metadata": {},
     "output_type": "execute_result"
    }
   ],
   "source": [
    "listElements"
   ]
  },
  {
   "cell_type": "code",
   "execution_count": 65,
   "id": "administrative-checklist",
   "metadata": {},
   "outputs": [
    {
     "data": {
      "text/plain": [
       "['cat', 'apple', 'pine_apple', 8.9, 6.7, 4.5, 3, 2, 1]"
      ]
     },
     "execution_count": 65,
     "metadata": {},
     "output_type": "execute_result"
    }
   ],
   "source": [
    "listElements[::-1]"
   ]
  },
  {
   "cell_type": "markdown",
   "id": "changing-carol",
   "metadata": {},
   "source": [
    "##### list functions"
   ]
  },
  {
   "cell_type": "code",
   "execution_count": 66,
   "id": "commercial-graduate",
   "metadata": {},
   "outputs": [],
   "source": [
    "listElements.append(\"papaya\")"
   ]
  },
  {
   "cell_type": "code",
   "execution_count": 67,
   "id": "particular-screening",
   "metadata": {},
   "outputs": [
    {
     "data": {
      "text/plain": [
       "[1, 2, 3, 4.5, 6.7, 8.9, 'pine_apple', 'apple', 'cat', 'papaya']"
      ]
     },
     "execution_count": 67,
     "metadata": {},
     "output_type": "execute_result"
    }
   ],
   "source": [
    "listElements"
   ]
  },
  {
   "cell_type": "code",
   "execution_count": 68,
   "id": "pretty-first",
   "metadata": {},
   "outputs": [],
   "source": [
    "emptyList.append(\"papaya\")"
   ]
  },
  {
   "cell_type": "code",
   "execution_count": 69,
   "id": "incorrect-governor",
   "metadata": {},
   "outputs": [
    {
     "data": {
      "text/plain": [
       "['papaya']"
      ]
     },
     "execution_count": 69,
     "metadata": {},
     "output_type": "execute_result"
    }
   ],
   "source": [
    "emptyList"
   ]
  },
  {
   "cell_type": "code",
   "execution_count": 70,
   "id": "corresponding-longer",
   "metadata": {},
   "outputs": [],
   "source": [
    "emptyList.clear()"
   ]
  },
  {
   "cell_type": "code",
   "execution_count": 71,
   "id": "adequate-truck",
   "metadata": {},
   "outputs": [
    {
     "data": {
      "text/plain": [
       "[]"
      ]
     },
     "execution_count": 71,
     "metadata": {},
     "output_type": "execute_result"
    }
   ],
   "source": [
    "emptyList"
   ]
  },
  {
   "cell_type": "code",
   "execution_count": 73,
   "id": "unknown-bridges",
   "metadata": {},
   "outputs": [],
   "source": [
    "g = listElements"
   ]
  },
  {
   "cell_type": "code",
   "execution_count": 75,
   "id": "formal-emperor",
   "metadata": {},
   "outputs": [],
   "source": [
    "g.remove(8.9)"
   ]
  },
  {
   "cell_type": "code",
   "execution_count": 76,
   "id": "offshore-quest",
   "metadata": {},
   "outputs": [
    {
     "data": {
      "text/plain": [
       "[1, 2, 3, 4.5, 6.7, 'pine_apple', 'apple', 'cat', 'papaya']"
      ]
     },
     "execution_count": 76,
     "metadata": {},
     "output_type": "execute_result"
    }
   ],
   "source": [
    "g"
   ]
  },
  {
   "cell_type": "code",
   "execution_count": 77,
   "id": "similar-shark",
   "metadata": {},
   "outputs": [
    {
     "data": {
      "text/plain": [
       "[1, 2, 3, 4.5, 6.7, 'pine_apple', 'apple', 'cat', 'papaya']"
      ]
     },
     "execution_count": 77,
     "metadata": {},
     "output_type": "execute_result"
    }
   ],
   "source": [
    "listElements"
   ]
  },
  {
   "cell_type": "code",
   "execution_count": 78,
   "id": "bored-object",
   "metadata": {},
   "outputs": [],
   "source": [
    "f = listElements.copy()"
   ]
  },
  {
   "cell_type": "code",
   "execution_count": 79,
   "id": "floppy-corrections",
   "metadata": {},
   "outputs": [],
   "source": [
    "f.remove(6.7)"
   ]
  },
  {
   "cell_type": "code",
   "execution_count": 80,
   "id": "marked-ministry",
   "metadata": {},
   "outputs": [
    {
     "data": {
      "text/plain": [
       "[1, 2, 3, 4.5, 'pine_apple', 'apple', 'cat', 'papaya']"
      ]
     },
     "execution_count": 80,
     "metadata": {},
     "output_type": "execute_result"
    }
   ],
   "source": [
    "f"
   ]
  },
  {
   "cell_type": "code",
   "execution_count": 81,
   "id": "known-trance",
   "metadata": {},
   "outputs": [
    {
     "data": {
      "text/plain": [
       "[1, 2, 3, 4.5, 6.7, 'pine_apple', 'apple', 'cat', 'papaya']"
      ]
     },
     "execution_count": 81,
     "metadata": {},
     "output_type": "execute_result"
    }
   ],
   "source": [
    "listElements"
   ]
  },
  {
   "cell_type": "code",
   "execution_count": 82,
   "id": "smooth-retro",
   "metadata": {},
   "outputs": [
    {
     "data": {
      "text/plain": [
       "1"
      ]
     },
     "execution_count": 82,
     "metadata": {},
     "output_type": "execute_result"
    }
   ],
   "source": [
    "listElements.count('apple')"
   ]
  },
  {
   "cell_type": "code",
   "execution_count": 83,
   "id": "solved-waters",
   "metadata": {},
   "outputs": [
    {
     "data": {
      "text/plain": [
       "6"
      ]
     },
     "execution_count": 83,
     "metadata": {},
     "output_type": "execute_result"
    }
   ],
   "source": [
    "listElements.index('apple')"
   ]
  },
  {
   "cell_type": "code",
   "execution_count": 84,
   "id": "adjacent-calcium",
   "metadata": {},
   "outputs": [],
   "source": [
    "listElements.extend([\"grapes\", \"carrot\", \"orange\"])"
   ]
  },
  {
   "cell_type": "code",
   "execution_count": 85,
   "id": "ruled-concord",
   "metadata": {},
   "outputs": [
    {
     "data": {
      "text/plain": [
       "[1,\n",
       " 2,\n",
       " 3,\n",
       " 4.5,\n",
       " 6.7,\n",
       " 'pine_apple',\n",
       " 'apple',\n",
       " 'cat',\n",
       " 'papaya',\n",
       " 'grapes',\n",
       " 'carrot',\n",
       " 'orange']"
      ]
     },
     "execution_count": 85,
     "metadata": {},
     "output_type": "execute_result"
    }
   ],
   "source": [
    "listElements"
   ]
  },
  {
   "cell_type": "code",
   "execution_count": 86,
   "id": "rolled-quilt",
   "metadata": {},
   "outputs": [],
   "source": [
    "listElements.insert(5, \"mango\")"
   ]
  },
  {
   "cell_type": "code",
   "execution_count": 88,
   "id": "musical-sherman",
   "metadata": {},
   "outputs": [],
   "source": [
    "listElements.reverse()"
   ]
  },
  {
   "cell_type": "code",
   "execution_count": 94,
   "id": "actual-anthropology",
   "metadata": {},
   "outputs": [
    {
     "data": {
      "text/plain": [
       "6.7"
      ]
     },
     "execution_count": 94,
     "metadata": {},
     "output_type": "execute_result"
    }
   ],
   "source": [
    "listElements.pop()"
   ]
  },
  {
   "cell_type": "code",
   "execution_count": 96,
   "id": "fatal-wings",
   "metadata": {},
   "outputs": [],
   "source": [
    "listElements.sort()"
   ]
  },
  {
   "cell_type": "code",
   "execution_count": 97,
   "id": "respected-russell",
   "metadata": {},
   "outputs": [
    {
     "data": {
      "text/plain": [
       "['apple', 'carrot', 'cat', 'grapes', 'mango', 'orange', 'papaya', 'pine_apple']"
      ]
     },
     "execution_count": 97,
     "metadata": {},
     "output_type": "execute_result"
    }
   ],
   "source": [
    "listElements"
   ]
  },
  {
   "cell_type": "code",
   "execution_count": 98,
   "id": "alternate-stake",
   "metadata": {},
   "outputs": [
    {
     "ename": "TypeError",
     "evalue": "'<' not supported between instances of 'str' and 'float'",
     "output_type": "error",
     "traceback": [
      "\u001b[0;31m---------------------------------------------------------------------------\u001b[0m",
      "\u001b[0;31mTypeError\u001b[0m                                 Traceback (most recent call last)",
      "\u001b[0;32m<ipython-input-98-bcaabf1d9219>\u001b[0m in \u001b[0;36m<module>\u001b[0;34m\u001b[0m\n\u001b[0;32m----> 1\u001b[0;31m \u001b[0mf\u001b[0m\u001b[0;34m.\u001b[0m\u001b[0msort\u001b[0m\u001b[0;34m(\u001b[0m\u001b[0;34m)\u001b[0m\u001b[0;34m\u001b[0m\u001b[0;34m\u001b[0m\u001b[0m\n\u001b[0m",
      "\u001b[0;31mTypeError\u001b[0m: '<' not supported between instances of 'str' and 'float'"
     ]
    }
   ],
   "source": [
    "f.sort()"
   ]
  },
  {
   "cell_type": "code",
   "execution_count": 100,
   "id": "lightweight-dancing",
   "metadata": {},
   "outputs": [
    {
     "data": {
      "text/plain": [
       "['a', 'p', 'p', 'l', 'e']"
      ]
     },
     "execution_count": 100,
     "metadata": {},
     "output_type": "execute_result"
    }
   ],
   "source": [
    "list(\"apple\")"
   ]
  },
  {
   "cell_type": "code",
   "execution_count": 99,
   "id": "fiscal-titanium",
   "metadata": {},
   "outputs": [],
   "source": [
    "emptyTuple = ()\n",
    "tupleElements = tuple(listElements)"
   ]
  },
  {
   "cell_type": "code",
   "execution_count": 101,
   "id": "fabulous-paradise",
   "metadata": {},
   "outputs": [
    {
     "data": {
      "text/plain": [
       "('apple', 'carrot', 'cat', 'grapes', 'mango', 'orange', 'papaya', 'pine_apple')"
      ]
     },
     "execution_count": 101,
     "metadata": {},
     "output_type": "execute_result"
    }
   ],
   "source": [
    "tupleElements"
   ]
  },
  {
   "cell_type": "code",
   "execution_count": 102,
   "id": "liberal-charity",
   "metadata": {},
   "outputs": [
    {
     "data": {
      "text/plain": [
       "('papaya', 'pine_apple')"
      ]
     },
     "execution_count": 102,
     "metadata": {},
     "output_type": "execute_result"
    }
   ],
   "source": [
    "tupleElements[6:]"
   ]
  },
  {
   "cell_type": "code",
   "execution_count": 103,
   "id": "deluxe-holly",
   "metadata": {},
   "outputs": [
    {
     "ename": "TypeError",
     "evalue": "'tuple' object doesn't support item deletion",
     "output_type": "error",
     "traceback": [
      "\u001b[0;31m---------------------------------------------------------------------------\u001b[0m",
      "\u001b[0;31mTypeError\u001b[0m                                 Traceback (most recent call last)",
      "\u001b[0;32m<ipython-input-103-8b30d1b98b96>\u001b[0m in \u001b[0;36m<module>\u001b[0;34m\u001b[0m\n\u001b[0;32m----> 1\u001b[0;31m \u001b[0;32mdel\u001b[0m \u001b[0mtupleElements\u001b[0m\u001b[0;34m[\u001b[0m\u001b[0;36m6\u001b[0m\u001b[0;34m]\u001b[0m\u001b[0;34m\u001b[0m\u001b[0;34m\u001b[0m\u001b[0m\n\u001b[0m",
      "\u001b[0;31mTypeError\u001b[0m: 'tuple' object doesn't support item deletion"
     ]
    }
   ],
   "source": [
    "del tupleElements[6]"
   ]
  },
  {
   "cell_type": "code",
   "execution_count": 104,
   "id": "published-blind",
   "metadata": {},
   "outputs": [
    {
     "ename": "TypeError",
     "evalue": "'tuple' object does not support item assignment",
     "output_type": "error",
     "traceback": [
      "\u001b[0;31m---------------------------------------------------------------------------\u001b[0m",
      "\u001b[0;31mTypeError\u001b[0m                                 Traceback (most recent call last)",
      "\u001b[0;32m<ipython-input-104-3555307f7710>\u001b[0m in \u001b[0;36m<module>\u001b[0;34m\u001b[0m\n\u001b[0;32m----> 1\u001b[0;31m \u001b[0mtupleElements\u001b[0m\u001b[0;34m[\u001b[0m\u001b[0;36m6\u001b[0m\u001b[0;34m]\u001b[0m \u001b[0;34m=\u001b[0m \u001b[0;34m\"potato\"\u001b[0m\u001b[0;34m\u001b[0m\u001b[0;34m\u001b[0m\u001b[0m\n\u001b[0m",
      "\u001b[0;31mTypeError\u001b[0m: 'tuple' object does not support item assignment"
     ]
    }
   ],
   "source": [
    "tupleElements[6] = \"potato\""
   ]
  },
  {
   "cell_type": "markdown",
   "id": "manual-employment",
   "metadata": {},
   "source": [
    "##### Dictionary"
   ]
  },
  {
   "cell_type": "code",
   "execution_count": 105,
   "id": "activated-smell",
   "metadata": {},
   "outputs": [],
   "source": [
    "emptyDict = {}\n",
    "dictElements = {'a': \"apple\", 'b': 1234, 1: 1234, 3.12: \"papaya\", \"l\": listElements}"
   ]
  },
  {
   "cell_type": "code",
   "execution_count": 106,
   "id": "laughing-enlargement",
   "metadata": {},
   "outputs": [
    {
     "data": {
      "text/plain": [
       "{'a': 'apple',\n",
       " 'b': 1234,\n",
       " 1: 1234,\n",
       " 3.12: 'papaya',\n",
       " 'l': ['apple',\n",
       "  'carrot',\n",
       "  'cat',\n",
       "  'grapes',\n",
       "  'mango',\n",
       "  'orange',\n",
       "  'papaya',\n",
       "  'pine_apple']}"
      ]
     },
     "execution_count": 106,
     "metadata": {},
     "output_type": "execute_result"
    }
   ],
   "source": [
    "dictElements"
   ]
  },
  {
   "cell_type": "code",
   "execution_count": 107,
   "id": "victorian-stand",
   "metadata": {},
   "outputs": [
    {
     "data": {
      "text/plain": [
       "'apple'"
      ]
     },
     "execution_count": 107,
     "metadata": {},
     "output_type": "execute_result"
    }
   ],
   "source": [
    "dictElements['a']"
   ]
  },
  {
   "cell_type": "code",
   "execution_count": 108,
   "id": "measured-subdivision",
   "metadata": {},
   "outputs": [],
   "source": [
    "dictElements['b'] = \"banana\""
   ]
  },
  {
   "cell_type": "code",
   "execution_count": 109,
   "id": "filled-compromise",
   "metadata": {},
   "outputs": [
    {
     "data": {
      "text/plain": [
       "{'a': 'apple',\n",
       " 'b': 'banana',\n",
       " 1: 1234,\n",
       " 3.12: 'papaya',\n",
       " 'l': ['apple',\n",
       "  'carrot',\n",
       "  'cat',\n",
       "  'grapes',\n",
       "  'mango',\n",
       "  'orange',\n",
       "  'papaya',\n",
       "  'pine_apple']}"
      ]
     },
     "execution_count": 109,
     "metadata": {},
     "output_type": "execute_result"
    }
   ],
   "source": [
    "dictElements"
   ]
  },
  {
   "cell_type": "code",
   "execution_count": 110,
   "id": "usual-spiritual",
   "metadata": {},
   "outputs": [],
   "source": [
    "del dictElements[3.12]"
   ]
  },
  {
   "cell_type": "code",
   "execution_count": 111,
   "id": "lovely-penny",
   "metadata": {},
   "outputs": [
    {
     "data": {
      "text/plain": [
       "{'a': 'apple',\n",
       " 'b': 'banana',\n",
       " 1: 1234,\n",
       " 'l': ['apple',\n",
       "  'carrot',\n",
       "  'cat',\n",
       "  'grapes',\n",
       "  'mango',\n",
       "  'orange',\n",
       "  'papaya',\n",
       "  'pine_apple']}"
      ]
     },
     "execution_count": 111,
     "metadata": {},
     "output_type": "execute_result"
    }
   ],
   "source": [
    "dictElements"
   ]
  },
  {
   "cell_type": "code",
   "execution_count": 112,
   "id": "cooked-flooring",
   "metadata": {},
   "outputs": [],
   "source": [
    "dictElements['c'] = \"cat\""
   ]
  },
  {
   "cell_type": "code",
   "execution_count": 113,
   "id": "intellectual-region",
   "metadata": {},
   "outputs": [
    {
     "data": {
      "text/plain": [
       "{'a': 'apple',\n",
       " 'b': 'banana',\n",
       " 1: 1234,\n",
       " 'l': ['apple',\n",
       "  'carrot',\n",
       "  'cat',\n",
       "  'grapes',\n",
       "  'mango',\n",
       "  'orange',\n",
       "  'papaya',\n",
       "  'pine_apple'],\n",
       " 'c': 'cat'}"
      ]
     },
     "execution_count": 113,
     "metadata": {},
     "output_type": "execute_result"
    }
   ],
   "source": [
    "dictElements"
   ]
  },
  {
   "cell_type": "code",
   "execution_count": 115,
   "id": "clinical-harvard",
   "metadata": {},
   "outputs": [
    {
     "data": {
      "text/plain": [
       "(dict_keys(['a', 'b', 1, 'l', 'c']),\n",
       " dict_values(['apple', 'banana', 1234, ['apple', 'carrot', 'cat', 'grapes', 'mango', 'orange', 'papaya', 'pine_apple'], 'cat']))"
      ]
     },
     "execution_count": 115,
     "metadata": {},
     "output_type": "execute_result"
    }
   ],
   "source": [
    "dictElements.keys(), dictElements.values(), "
   ]
  },
  {
   "cell_type": "code",
   "execution_count": 117,
   "id": "respiratory-stockholm",
   "metadata": {},
   "outputs": [
    {
     "data": {
      "text/plain": [
       "[('a', 'apple'),\n",
       " ('b', 'banana'),\n",
       " (1, 1234),\n",
       " ('l',\n",
       "  ['apple',\n",
       "   'carrot',\n",
       "   'cat',\n",
       "   'grapes',\n",
       "   'mango',\n",
       "   'orange',\n",
       "   'papaya',\n",
       "   'pine_apple']),\n",
       " ('c', 'cat')]"
      ]
     },
     "execution_count": 117,
     "metadata": {},
     "output_type": "execute_result"
    }
   ],
   "source": [
    "list(dictElements.items())"
   ]
  },
  {
   "cell_type": "code",
   "execution_count": 118,
   "id": "preceding-population",
   "metadata": {},
   "outputs": [],
   "source": [
    "dictElements.update({\"e\": \"elephant\", \"m\": \"mango\"})"
   ]
  },
  {
   "cell_type": "code",
   "execution_count": 119,
   "id": "incoming-knock",
   "metadata": {},
   "outputs": [
    {
     "data": {
      "text/plain": [
       "{'a': 'apple',\n",
       " 'b': 'banana',\n",
       " 1: 1234,\n",
       " 'l': ['apple',\n",
       "  'carrot',\n",
       "  'cat',\n",
       "  'grapes',\n",
       "  'mango',\n",
       "  'orange',\n",
       "  'papaya',\n",
       "  'pine_apple'],\n",
       " 'c': 'cat',\n",
       " 'e': 'elephant',\n",
       " 'm': 'mango'}"
      ]
     },
     "execution_count": 119,
     "metadata": {},
     "output_type": "execute_result"
    }
   ],
   "source": [
    "dictElements"
   ]
  },
  {
   "cell_type": "code",
   "execution_count": 122,
   "id": "proud-uganda",
   "metadata": {},
   "outputs": [
    {
     "data": {
      "text/plain": [
       "'mango'"
      ]
     },
     "execution_count": 122,
     "metadata": {},
     "output_type": "execute_result"
    }
   ],
   "source": [
    "dictElements"
   ]
  },
  {
   "cell_type": "markdown",
   "id": "opened-packaging",
   "metadata": {},
   "source": [
    "#### for loop"
   ]
  },
  {
   "cell_type": "code",
   "execution_count": 126,
   "id": "blank-amendment",
   "metadata": {},
   "outputs": [
    {
     "name": "stdout",
     "output_type": "stream",
     "text": [
      "hi\n",
      "hi\n",
      "hi\n",
      "hi\n",
      "hi\n",
      "hi\n",
      "hi\n",
      "hi\n",
      "hi\n",
      "hi\n"
     ]
    }
   ],
   "source": [
    "for i in range(10):\n",
    "    print(\"hi\")"
   ]
  },
  {
   "cell_type": "code",
   "execution_count": 127,
   "id": "honey-parallel",
   "metadata": {},
   "outputs": [
    {
     "name": "stdout",
     "output_type": "stream",
     "text": [
      "hi\n",
      "hi\n",
      "hi\n"
     ]
    }
   ],
   "source": [
    "for _ in range(3):\n",
    "    print(\"hi\")"
   ]
  },
  {
   "cell_type": "code",
   "execution_count": 129,
   "id": "worldwide-jefferson",
   "metadata": {},
   "outputs": [
    {
     "name": "stdout",
     "output_type": "stream",
     "text": [
      "10\n",
      "12\n",
      "14\n",
      "16\n",
      "18\n",
      "20\n"
     ]
    }
   ],
   "source": [
    "for i in range(10, 21, 2):\n",
    "    print(i)"
   ]
  },
  {
   "cell_type": "code",
   "execution_count": 130,
   "id": "romance-imperial",
   "metadata": {},
   "outputs": [
    {
     "name": "stdout",
     "output_type": "stream",
     "text": [
      "apple\n",
      "carrot\n",
      "cat\n",
      "grapes\n",
      "mango\n",
      "orange\n",
      "papaya\n",
      "pine_apple\n"
     ]
    }
   ],
   "source": [
    "for i in listElements:\n",
    "    print(i)"
   ]
  },
  {
   "cell_type": "code",
   "execution_count": 132,
   "id": "pointed-falls",
   "metadata": {},
   "outputs": [
    {
     "name": "stdout",
     "output_type": "stream",
     "text": [
      "apple\n",
      "carrot\n",
      "cat\n",
      "grapes\n",
      "mango\n",
      "orange\n"
     ]
    }
   ],
   "source": [
    "for i in listElements[:6]:\n",
    "    print(i)"
   ]
  },
  {
   "cell_type": "code",
   "execution_count": 133,
   "id": "dedicated-wagon",
   "metadata": {},
   "outputs": [
    {
     "name": "stdout",
     "output_type": "stream",
     "text": [
      "a\n",
      "p\n",
      "p\n",
      "l\n",
      "e\n"
     ]
    }
   ],
   "source": [
    "for i in \"apple\":\n",
    "    print(i)"
   ]
  },
  {
   "cell_type": "code",
   "execution_count": 135,
   "id": "handled-madness",
   "metadata": {},
   "outputs": [
    {
     "name": "stdout",
     "output_type": "stream",
     "text": [
      "apple\n",
      "banana\n",
      "1234\n",
      "['apple', 'carrot', 'cat', 'grapes', 'mango', 'orange', 'papaya', 'pine_apple']\n",
      "cat\n",
      "elephant\n",
      "mango\n"
     ]
    }
   ],
   "source": [
    "for k in dictElements.values():\n",
    "    print(k)"
   ]
  },
  {
   "cell_type": "code",
   "execution_count": 136,
   "id": "operating-absence",
   "metadata": {},
   "outputs": [
    {
     "name": "stdout",
     "output_type": "stream",
     "text": [
      "a --> apple\n",
      "b --> banana\n",
      "1 --> 1234\n",
      "l --> ['apple', 'carrot', 'cat', 'grapes', 'mango', 'orange', 'papaya', 'pine_apple']\n",
      "c --> cat\n",
      "e --> elephant\n",
      "m --> mango\n"
     ]
    }
   ],
   "source": [
    "for k,v in dictElements.items():\n",
    "    print(k, \"-->\", v)\n"
   ]
  },
  {
   "cell_type": "code",
   "execution_count": 138,
   "id": "referenced-villa",
   "metadata": {},
   "outputs": [
    {
     "name": "stdout",
     "output_type": "stream",
     "text": [
      "apple\n",
      "cat\n",
      "mango\n",
      "papaya\n"
     ]
    }
   ],
   "source": [
    "for k in dictElements[\"l\"][0:len(dictElements[\"l\"]):2]:\n",
    "    print(k)"
   ]
  },
  {
   "cell_type": "code",
   "execution_count": 139,
   "id": "earlier-barrier",
   "metadata": {},
   "outputs": [
    {
     "name": "stdout",
     "output_type": "stream",
     "text": [
      "a\n",
      "p\n",
      "p\n",
      "l\n",
      "e\n",
      "It's over!!\n"
     ]
    }
   ],
   "source": [
    "for i in \"apple\":\n",
    "    print(i)\n",
    "else:\n",
    "    print(\"It's over!!\")"
   ]
  },
  {
   "cell_type": "code",
   "execution_count": 143,
   "id": "falling-edwards",
   "metadata": {},
   "outputs": [
    {
     "name": "stdout",
     "output_type": "stream",
     "text": [
      "0 a\n",
      "2 1\n",
      "4 c\n",
      "6 m\n"
     ]
    }
   ],
   "source": [
    "for i, k in enumerate(dictElements):\n",
    "    if i % 2 == 0:\n",
    "        print(i, k)"
   ]
  },
  {
   "cell_type": "code",
   "execution_count": 150,
   "id": "proprietary-consumer",
   "metadata": {},
   "outputs": [
    {
     "name": "stdout",
     "output_type": "stream",
     "text": [
      "apple\n",
      "1234\n",
      "cat\n",
      "mango\n"
     ]
    }
   ],
   "source": [
    "for i in range(0, len(dictElements), 2):\n",
    "    print(dictElements[list(dictElements.keys())[i]])"
   ]
  },
  {
   "cell_type": "code",
   "execution_count": 149,
   "id": "interested-breakdown",
   "metadata": {},
   "outputs": [
    {
     "name": "stdout",
     "output_type": "stream",
     "text": [
      "a apple\n",
      "1 1234\n",
      "c cat\n",
      "m mango\n"
     ]
    }
   ],
   "source": [
    "for k,v in list(dictElements.items())[0:len(dictElements):2]:\n",
    "    print(k,v)"
   ]
  },
  {
   "cell_type": "markdown",
   "id": "polish-router",
   "metadata": {},
   "source": [
    "#### Functions"
   ]
  },
  {
   "cell_type": "code",
   "execution_count": 155,
   "id": "current-consolidation",
   "metadata": {},
   "outputs": [],
   "source": [
    "# no arg no return\n",
    "def oddEven():\n",
    "    num = int(input(\"Enter any number to check odd/even: \"))\n",
    "    if num % 4 == 0:\n",
    "        print(\"The number is even and divisible by 4\")\n",
    "    elif num % 2 == 0:\n",
    "        print(\"The number is even!\")\n",
    "    else:\n",
    "        print(\"The number is odd!\")"
   ]
  },
  {
   "cell_type": "code",
   "execution_count": 154,
   "id": "bearing-edition",
   "metadata": {},
   "outputs": [
    {
     "name": "stdout",
     "output_type": "stream",
     "text": [
      "Enter any number to check odd/even: 10\n",
      "The number is even!\n",
      "Enter any number to check odd/even: 15\n",
      "The number is odd!\n",
      "Enter any number to check odd/even: 25\n",
      "The number is odd!\n",
      "Enter any number to check odd/even: 14\n",
      "The number is even!\n",
      "Enter any number to check odd/even: 36\n",
      "The number is even and divisible by 4\n"
     ]
    }
   ],
   "source": [
    "for i in range(5):\n",
    "    oddEven()"
   ]
  },
  {
   "cell_type": "code",
   "execution_count": 156,
   "id": "stopped-caribbean",
   "metadata": {},
   "outputs": [],
   "source": [
    "# no arg but with return\n",
    "def oddEven():\n",
    "    num = int(input(\"Enter any number to check odd/even: \"))\n",
    "    if num % 4 == 0:\n",
    "        answer = \"The number is even and divisible by 4\"\n",
    "    elif num % 2 == 0:\n",
    "        answer = \"The number is even!\"\n",
    "    else:\n",
    "        answer = \"The number is odd!\"\n",
    "    return answer"
   ]
  },
  {
   "cell_type": "code",
   "execution_count": 158,
   "id": "closed-supplier",
   "metadata": {},
   "outputs": [
    {
     "name": "stdout",
     "output_type": "stream",
     "text": [
      "Enter any number to check odd/even: 10\n",
      "The number is even!\n",
      "Enter any number to check odd/even: 12\n",
      "The number is even and divisible by 4\n"
     ]
    }
   ],
   "source": [
    "for i in range(2):\n",
    "    result = oddEven()\n",
    "    print(result)"
   ]
  },
  {
   "cell_type": "code",
   "execution_count": 159,
   "id": "cross-preference",
   "metadata": {},
   "outputs": [],
   "source": [
    "# with arg and with return\n",
    "def oddEven(num):\n",
    "    if num % 4 == 0:\n",
    "        answer = \"The number is even and divisible by 4\"\n",
    "    elif num % 2 == 0:\n",
    "        answer = \"The number is even!\"\n",
    "    else:\n",
    "        answer = \"The number is odd!\"\n",
    "    return answer"
   ]
  },
  {
   "cell_type": "code",
   "execution_count": 162,
   "id": "isolated-argument",
   "metadata": {},
   "outputs": [
    {
     "name": "stdout",
     "output_type": "stream",
     "text": [
      "Enter any number to check odd/even: 10\n",
      "The number is even!\n",
      "Enter any number to check odd/even: 20\n",
      "The number is even and divisible by 4\n"
     ]
    }
   ],
   "source": [
    "for i in range(2):\n",
    "    num = int(input(\"Enter any number to check odd/even: \"))\n",
    "    result = oddEven(num)\n",
    "    print(result)"
   ]
  },
  {
   "cell_type": "code",
   "execution_count": 166,
   "id": "patient-emergency",
   "metadata": {},
   "outputs": [],
   "source": [
    "def isPrime(num):\n",
    "    flag = True\n",
    "    for i in range(2, num):\n",
    "        if num % i == 0:\n",
    "            flag = False\n",
    "    return flag"
   ]
  },
  {
   "cell_type": "code",
   "execution_count": 181,
   "id": "expressed-field",
   "metadata": {},
   "outputs": [
    {
     "name": "stdout",
     "output_type": "stream",
     "text": [
      "Enter any number for num1: 30\n",
      "Enter any number for num2: 20\n"
     ]
    }
   ],
   "source": [
    "num1 = int(input(\"Enter any number for num1: \"))\n",
    "num2 = int(input(\"Enter any number for num2: \"))\n",
    "num1, num2 = min(num1, num2), max(num1, num2)\n",
    "for num in range(num1, num2+1):\n",
    "    if isPrime(num):\n",
    "        print(num)"
   ]
  },
  {
   "cell_type": "code",
   "execution_count": 184,
   "id": "contemporary-tooth",
   "metadata": {},
   "outputs": [],
   "source": [
    "add = lambda a,b : a + b"
   ]
  },
  {
   "cell_type": "code",
   "execution_count": 194,
   "id": "fluid-syntax",
   "metadata": {},
   "outputs": [],
   "source": [
    "add = lambda *a : [i for i in a if i % 2 != 0]"
   ]
  },
  {
   "cell_type": "code",
   "execution_count": 195,
   "id": "satisfied-tension",
   "metadata": {},
   "outputs": [
    {
     "data": {
      "text/plain": [
       "[45, 27, 13]"
      ]
     },
     "execution_count": 195,
     "metadata": {},
     "output_type": "execute_result"
    }
   ],
   "source": [
    "add(45, 34, 32, 12 , 27,  13)"
   ]
  },
  {
   "cell_type": "markdown",
   "id": "metallic-subject",
   "metadata": {},
   "source": [
    "#### Error Handling"
   ]
  },
  {
   "cell_type": "code",
   "execution_count": 197,
   "id": "adult-technique",
   "metadata": {},
   "outputs": [
    {
     "ename": "NameError",
     "evalue": "name 'x' is not defined",
     "output_type": "error",
     "traceback": [
      "\u001b[0;31m---------------------------------------------------------------------------\u001b[0m",
      "\u001b[0;31mNameError\u001b[0m                                 Traceback (most recent call last)",
      "\u001b[0;32m<ipython-input-197-b898c78ebff2>\u001b[0m in \u001b[0;36m<module>\u001b[0;34m\u001b[0m\n\u001b[0;32m----> 1\u001b[0;31m \u001b[0mprint\u001b[0m\u001b[0;34m(\u001b[0m\u001b[0mx\u001b[0m\u001b[0;34m)\u001b[0m\u001b[0;34m\u001b[0m\u001b[0;34m\u001b[0m\u001b[0m\n\u001b[0m\u001b[1;32m      2\u001b[0m \u001b[0mprint\u001b[0m\u001b[0;34m(\u001b[0m\u001b[0;34m\"hello world\"\u001b[0m\u001b[0;34m)\u001b[0m\u001b[0;34m\u001b[0m\u001b[0;34m\u001b[0m\u001b[0m\n",
      "\u001b[0;31mNameError\u001b[0m: name 'x' is not defined"
     ]
    }
   ],
   "source": [
    "print(x)\n",
    "print(\"hello world\")"
   ]
  },
  {
   "cell_type": "code",
   "execution_count": 199,
   "id": "documented-settlement",
   "metadata": {},
   "outputs": [
    {
     "name": "stdout",
     "output_type": "stream",
     "text": [
      "hello world!\n"
     ]
    }
   ],
   "source": [
    "try:\n",
    "    print(x)\n",
    "except:\n",
    "#     print(\"There is error\")\n",
    "    pass\n",
    "print(\"hello world!\")"
   ]
  },
  {
   "cell_type": "code",
   "execution_count": 201,
   "id": "friendly-special",
   "metadata": {},
   "outputs": [
    {
     "name": "stdout",
     "output_type": "stream",
     "text": [
      "There is error name 'x' is not defined\n",
      "hello world!\n"
     ]
    }
   ],
   "source": [
    "try:\n",
    "    print(x)\n",
    "except Exception as e:\n",
    "    print(\"There is error\", e)\n",
    "print(\"hello world!\")"
   ]
  },
  {
   "cell_type": "code",
   "execution_count": 203,
   "id": "fossil-chain",
   "metadata": {},
   "outputs": [
    {
     "ename": "TypeError",
     "evalue": "'x' is an invalid keyword argument for this function",
     "output_type": "error",
     "traceback": [
      "\u001b[0;31m---------------------------------------------------------------------------\u001b[0m",
      "\u001b[0;31mTypeError\u001b[0m                                 Traceback (most recent call last)",
      "\u001b[0;32m<ipython-input-203-892a06f85342>\u001b[0m in \u001b[0;36m<module>\u001b[0;34m\u001b[0m\n\u001b[1;32m      1\u001b[0m \u001b[0;32mtry\u001b[0m\u001b[0;34m:\u001b[0m\u001b[0;34m\u001b[0m\u001b[0;34m\u001b[0m\u001b[0m\n\u001b[0;32m----> 2\u001b[0;31m     \u001b[0mprint\u001b[0m\u001b[0;34m(\u001b[0m\u001b[0mx\u001b[0m\u001b[0;34m=\u001b[0m\u001b[0;36m1\u001b[0m\u001b[0;34m)\u001b[0m\u001b[0;34m\u001b[0m\u001b[0;34m\u001b[0m\u001b[0m\n\u001b[0m\u001b[1;32m      3\u001b[0m \u001b[0;32mexcept\u001b[0m \u001b[0mNameError\u001b[0m \u001b[0;32mas\u001b[0m \u001b[0me\u001b[0m\u001b[0;34m:\u001b[0m\u001b[0;34m\u001b[0m\u001b[0;34m\u001b[0m\u001b[0m\n\u001b[1;32m      4\u001b[0m     \u001b[0mprint\u001b[0m\u001b[0;34m(\u001b[0m\u001b[0;34m\"There is error\"\u001b[0m\u001b[0;34m,\u001b[0m \u001b[0me\u001b[0m\u001b[0;34m)\u001b[0m\u001b[0;34m\u001b[0m\u001b[0;34m\u001b[0m\u001b[0m\n\u001b[1;32m      5\u001b[0m \u001b[0mprint\u001b[0m\u001b[0;34m(\u001b[0m\u001b[0;34m\"hello world!\"\u001b[0m\u001b[0;34m)\u001b[0m\u001b[0;34m\u001b[0m\u001b[0;34m\u001b[0m\u001b[0m\n",
      "\u001b[0;31mTypeError\u001b[0m: 'x' is an invalid keyword argument for this function"
     ]
    }
   ],
   "source": [
    "try:\n",
    "    print(x=1)\n",
    "except NameError as e:\n",
    "    print(\"There is error\", e)\n",
    "print(\"hello world!\")"
   ]
  },
  {
   "cell_type": "code",
   "execution_count": 204,
   "id": "useful-zambia",
   "metadata": {},
   "outputs": [
    {
     "name": "stdout",
     "output_type": "stream",
     "text": [
      "There is error 'x' is an invalid keyword argument for this function\n",
      "hello world!\n"
     ]
    }
   ],
   "source": [
    "try:\n",
    "    print(x=2)\n",
    "except Exception as e:\n",
    "    print(\"There is error\", e)\n",
    "print(\"hello world!\")"
   ]
  },
  {
   "cell_type": "code",
   "execution_count": 205,
   "id": "engaged-apple",
   "metadata": {},
   "outputs": [
    {
     "name": "stdout",
     "output_type": "stream",
     "text": [
      "Requirement already satisfied: matplotlib in /Library/Frameworks/Python.framework/Versions/3.6/lib/python3.6/site-packages (3.3.4)\r\n",
      "Requirement already satisfied: pillow>=6.2.0 in /Library/Frameworks/Python.framework/Versions/3.6/lib/python3.6/site-packages (from matplotlib) (8.1.0)\r\n",
      "Requirement already satisfied: cycler>=0.10 in /Library/Frameworks/Python.framework/Versions/3.6/lib/python3.6/site-packages (from matplotlib) (0.10.0)\r\n",
      "Requirement already satisfied: pyparsing!=2.0.4,!=2.1.2,!=2.1.6,>=2.0.3 in /Library/Frameworks/Python.framework/Versions/3.6/lib/python3.6/site-packages (from matplotlib) (2.4.7)\r\n",
      "Requirement already satisfied: kiwisolver>=1.0.1 in /Library/Frameworks/Python.framework/Versions/3.6/lib/python3.6/site-packages (from matplotlib) (1.3.1)\r\n",
      "Requirement already satisfied: python-dateutil>=2.1 in /Library/Frameworks/Python.framework/Versions/3.6/lib/python3.6/site-packages (from matplotlib) (2.8.2)\r\n",
      "Requirement already satisfied: numpy>=1.15 in /Library/Frameworks/Python.framework/Versions/3.6/lib/python3.6/site-packages (from matplotlib) (1.19.3)\r\n",
      "Requirement already satisfied: six in /Library/Frameworks/Python.framework/Versions/3.6/lib/python3.6/site-packages (from cycler>=0.10->matplotlib) (1.16.0)\r\n"
     ]
    }
   ],
   "source": [
    "# to install any libraries pip install library\n",
    "!pip install matplotlib"
   ]
  },
  {
   "cell_type": "code",
   "execution_count": 211,
   "id": "respective-inspection",
   "metadata": {},
   "outputs": [],
   "source": [
    "import random as rd"
   ]
  },
  {
   "cell_type": "code",
   "execution_count": 213,
   "id": "approved-dayton",
   "metadata": {},
   "outputs": [],
   "source": [
    "from math import sin, factorial, cos"
   ]
  },
  {
   "cell_type": "code",
   "execution_count": 215,
   "id": "dried-dynamics",
   "metadata": {},
   "outputs": [
    {
     "data": {
      "text/plain": [
       "(0.8939966636005579, 24)"
      ]
     },
     "execution_count": 215,
     "metadata": {},
     "output_type": "execute_result"
    }
   ],
   "source": [
    "sin(90), factorial(4)"
   ]
  },
  {
   "cell_type": "code",
   "execution_count": 212,
   "id": "wireless-cancellation",
   "metadata": {},
   "outputs": [
    {
     "data": {
      "text/plain": [
       "9"
      ]
     },
     "execution_count": 212,
     "metadata": {},
     "output_type": "execute_result"
    }
   ],
   "source": [
    "rd.randint(1,10)"
   ]
  },
  {
   "cell_type": "markdown",
   "id": "demographic-underground",
   "metadata": {},
   "source": [
    "#### Visualization"
   ]
  },
  {
   "cell_type": "code",
   "execution_count": 218,
   "id": "adverse-asian",
   "metadata": {},
   "outputs": [],
   "source": [
    "x = list(range(1,10))\n",
    "y = [rd.randint(1,100) for i in range(len(x))]"
   ]
  },
  {
   "cell_type": "code",
   "execution_count": 220,
   "id": "seven-arthritis",
   "metadata": {},
   "outputs": [],
   "source": [
    "import matplotlib.pyplot as plt"
   ]
  },
  {
   "cell_type": "code",
   "execution_count": 222,
   "id": "opposite-behavior",
   "metadata": {},
   "outputs": [
    {
     "data": {
      "image/png": "[encoded data removed]",
      "text/plain": [
       "<Figure size 432x288 with 1 Axes>"
      ]
     },
     "metadata": {
      "needs_background": "light"
     },
     "output_type": "display_data"
    }
   ],
   "source": [
    "plt.plot(x,y)\n",
    "plt.xlabel(\"x\")\n",
    "plt.ylabel(\"y\")\n",
    "plt.title(\"Line Chart\")\n",
    "plt.show()"
   ]
  },
  {
   "cell_type": "code",
   "execution_count": 230,
   "id": "threaded-evolution",
   "metadata": {},
   "outputs": [
    {
     "data": {
      "image/png": "[encoded data removed]",
      "text/plain": [
       "<Figure size 432x288 with 1 Axes>"
      ]
     },
     "metadata": {
      "needs_background": "light"
     },
     "output_type": "display_data"
    }
   ],
   "source": [
    "plt.plot(x,y, color=\"green\", marker=\"s\")\n",
    "plt.xlabel(\"x\")\n",
    "plt.ylabel(\"y\")\n",
    "plt.title(\"Line Chart\")\n",
    "plt.show()"
   ]
  },
  {
   "cell_type": "code",
   "execution_count": 232,
   "id": "amber-holiday",
   "metadata": {},
   "outputs": [
    {
     "data": {
      "image/png": "[encoded data removed]",
      "text/plain": [
       "<Figure size 432x288 with 1 Axes>"
      ]
     },
     "metadata": {
      "needs_background": "light"
     },
     "output_type": "display_data"
    }
   ],
   "source": [
    "plt.scatter(x,y, color=\"green\", marker=\"s\")\n",
    "plt.xlabel(\"x\")\n",
    "plt.ylabel(\"y\")\n",
    "plt.title(\"Scatter Chart\")\n",
    "plt.show()"
   ]
  },
  {
   "cell_type": "code",
   "execution_count": 235,
   "id": "crazy-turkish",
   "metadata": {},
   "outputs": [
    {
     "data": {
      "image/png": "[encoded data removed]",
      "text/plain": [
       "<Figure size 432x288 with 1 Axes>"
      ]
     },
     "metadata": {
      "needs_background": "light"
     },
     "output_type": "display_data"
    }
   ],
   "source": [
    "plt.bar([\"apple\", \"banana\", \"carrort\"], y[:3], facecolor=\"red\")\n",
    "plt.show()"
   ]
  },
  {
   "cell_type": "code",
   "execution_count": 243,
   "id": "comic-village",
   "metadata": {},
   "outputs": [
    {
     "data": {
      "image/png": "[encoded data removed]",
      "text/plain": [
       "<Figure size 432x288 with 1 Axes>"
      ]
     },
     "metadata": {
      "needs_background": "light"
     },
     "output_type": "display_data"
    }
   ],
   "source": [
    "plt.barh([\"apple\", \"banana\", \"carrort\"], y[:3], facecolor=\"red\")\n",
    "plt.show()"
   ]
  },
  {
   "cell_type": "code",
   "execution_count": 245,
   "id": "average-batch",
   "metadata": {},
   "outputs": [
    {
     "data": {
      "image/png": "[encoded data removed]",
      "text/plain": [
       "<Figure size 432x288 with 1 Axes>"
      ]
     },
     "metadata": {
      "needs_background": "light"
     },
     "output_type": "display_data"
    }
   ],
   "source": [
    "plt.boxplot(y)\n",
    "plt.show()"
   ]
  },
  {
   "cell_type": "code",
   "execution_count": 246,
   "id": "aerial-violin",
   "metadata": {},
   "outputs": [
    {
     "data": {
      "text/plain": [
       "[40, 41, 12, 54, 1, 28, 62, 98, 72]"
      ]
     },
     "execution_count": 246,
     "metadata": {},
     "output_type": "execute_result"
    }
   ],
   "source": [
    "y"
   ]
  },
  {
   "cell_type": "code",
   "execution_count": 249,
   "id": "potential-waters",
   "metadata": {},
   "outputs": [
    {
     "data": {
      "image/png": "[encoded data removed]",
      "text/plain": [
       "<Figure size 432x288 with 1 Axes>"
      ]
     },
     "metadata": {},
     "output_type": "display_data"
    }
   ],
   "source": [
    "plt.pie(y[:8], labels=listElements)\n",
    "plt.show()"
   ]
  },
  {
   "cell_type": "markdown",
   "id": "electoral-currency",
   "metadata": {},
   "source": [
    "### Libraries to be practiced "
   ]
  },
  {
   "cell_type": "markdown",
   "id": "ambient-mother",
   "metadata": {},
   "source": [
    "1. pandas\n",
    "2. matplotlib\n",
    "3. scikit_learn\n",
    "4. image processing -> opencv\n",
    "5. NLP -> nltk\n",
    "6. spacy\n"
   ]
  },
  {
   "cell_type": "markdown",
   "id": "lightweight-illinois",
   "metadata": {},
   "source": [
    "### Machine Learning"
   ]
  },
  {
   "cell_type": "markdown",
   "id": "filled-mitchell",
   "metadata": {},
   "source": [
    "#### List of algorithms <i class=\"fa fa-lightbulb-o \"></i>"
   ]
  },
  {
   "cell_type": "markdown",
   "id": "narrative-corner",
   "metadata": {
    "deletable": false,
    "editable": false
   },
   "source": [
    "- <span class=\"girk\">Linear Regression\n",
    "- <span class=\"girk\">Logistic Regression</span></span>\n",
    "- <span class=\"girk\">SVM</span>\n",
    "- <span class=\"girk\">KNN</span>\n",
    "- <span class=\"girk\">K-Means</span>\n",
    "- <span class=\"girk\">Hierarchical</span>\n",
    "- <span class=\"girk\">Random Forest\n",
    "- <span class=\"girk\">Adaboost Forest\n",
    "- <span class=\"girk\">Stacking Classifier</span></span>\n",
    "- <span class=\"girk\">PCA</span></span>\n",
    "- <span class=\"girk\">Aprior \n",
    "- <span class=\"girk\">Topic Modeling - TF-IDF</span>\n",
    "- <span class=\"girk\">image processing</span></span>\n",
    "- Natural Language Processing \n",
    "- ChatGPT"
   ]
  },
  {
   "cell_type": "markdown",
   "id": "experienced-computer",
   "metadata": {},
   "source": [
    "#### Metrics"
   ]
  },
  {
   "cell_type": "markdown",
   "id": "lucky-explorer",
   "metadata": {},
   "source": [
    "##### Error - Regression"
   ]
  },
  {
   "cell_type": "code",
   "execution_count": 5,
   "id": "animal-craft",
   "metadata": {},
   "outputs": [],
   "source": [
    "import numpy as np"
   ]
  },
  {
   "cell_type": "code",
   "execution_count": 2,
   "id": "worse-valve",
   "metadata": {},
   "outputs": [
    {
     "data": {
      "text/plain": [
       "1.5"
      ]
     },
     "execution_count": 2,
     "metadata": {},
     "output_type": "execute_result"
    }
   ],
   "source": [
    "y_actual = 20\n",
    "y_predict = 18.5\n",
    "# absolute \n",
    "error = y_actual - y_predict\n",
    "error "
   ]
  },
  {
   "cell_type": "code",
   "execution_count": 6,
   "id": "difficult-stroke",
   "metadata": {},
   "outputs": [
    {
     "data": {
      "text/plain": [
       "0.8200000000000003"
      ]
     },
     "execution_count": 6,
     "metadata": {},
     "output_type": "execute_result"
    }
   ],
   "source": [
    "y_actual = [20, 18, 19.5, 21, 23]\n",
    "y_predict = [18.5, 19.4, 20, 18.5, 21]\n",
    "# mean absolute error\n",
    "error = [x-y for x,y in zip(y_actual , y_predict)]\n",
    "np.mean(error)"
   ]
  },
  {
   "cell_type": "code",
   "execution_count": 7,
   "id": "dying-label",
   "metadata": {},
   "outputs": [
    {
     "data": {
      "text/plain": [
       "0.0"
      ]
     },
     "execution_count": 7,
     "metadata": {},
     "output_type": "execute_result"
    }
   ],
   "source": [
    "y_actual = [20, 18]\n",
    "y_predict = [18, 20]\n",
    "# mean absolute error\n",
    "error = [x-y for x,y in zip(y_actual , y_predict)]\n",
    "np.mean(error)"
   ]
  },
  {
   "cell_type": "code",
   "execution_count": 8,
   "id": "committed-clark",
   "metadata": {},
   "outputs": [
    {
     "data": {
      "text/plain": [
       "4.0"
      ]
     },
     "execution_count": 8,
     "metadata": {},
     "output_type": "execute_result"
    }
   ],
   "source": [
    "y_actual = [20, 18]\n",
    "y_predict = [18, 20]\n",
    "# mean square error\n",
    "error = [(x-y) ** 2 for x,y in zip(y_actual , y_predict)]\n",
    "np.mean(error)"
   ]
  },
  {
   "cell_type": "code",
   "execution_count": 9,
   "id": "functional-organizer",
   "metadata": {},
   "outputs": [
    {
     "data": {
      "text/plain": [
       "2.0"
      ]
     },
     "execution_count": 9,
     "metadata": {},
     "output_type": "execute_result"
    }
   ],
   "source": [
    "y_actual = [20, 18]\n",
    "y_predict = [18, 20]\n",
    "# root mean square error\n",
    "error = [(x-y) ** 2 for x,y in zip(y_actual , y_predict)]\n",
    "np.sqrt(np.mean(error))"
   ]
  },
  {
   "cell_type": "markdown",
   "id": "liable-wayne",
   "metadata": {},
   "source": [
    "##### Accuracy - Classification"
   ]
  },
  {
   "cell_type": "markdown",
   "id": "peripheral-proof",
   "metadata": {},
   "source": [
    "precision, Recall  and Accuracy\n",
    "\n",
    "<img src=\"https://www.researchgate.net/publication/336402347/figure/fig3/AS:812472659349505@1570719985505/Calculation-of-Precision-Recall-and-Accuracy-in-the-confusion-matrix.ppm\" alt=\"Alternative text\" />\n"
   ]
  },
  {
   "cell_type": "markdown",
   "id": "atomic-somalia",
   "metadata": {},
   "source": [
    "#### Steps to Implement"
   ]
  },
  {
   "cell_type": "markdown",
   "id": "official-mathematics",
   "metadata": {},
   "source": [
    "<img src=\"https://d1m75rqqgidzqn.cloudfront.net/2019/10/what-is-machine-learning-7-steps-of-machine-learning.jpg\" />"
   ]
  },
  {
   "cell_type": "markdown",
   "id": "young-birth",
   "metadata": {},
   "source": [
    "#### Linear Regression"
   ]
  },
  {
   "cell_type": "markdown",
   "id": "molecular-commander",
   "metadata": {},
   "source": [
    "     single input and single output\n",
    "            \n",
    "            y = mx + c\n",
    "\n",
    "    multiple input and single output\n",
    "        \n",
    "            y = m1x1 + m2x2 + m3x3 +.....+ c\n",
    "            \n",
    "OLS method is used to find the m's and c value\n",
    "\n",
    "<img src=\"https://i.stack.imgur.com/OjlaY.png\" />"
   ]
  },
  {
   "cell_type": "code",
   "execution_count": 45,
   "id": "located-joyce",
   "metadata": {},
   "outputs": [
    {
     "name": "stdout",
     "output_type": "stream",
     "text": [
      "Coefficients:\n",
      "beta_0 (Intercept): 2.0\n",
      "beta_2 (X2 Coefficient): 1.0\n"
     ]
    }
   ],
   "source": [
    "import numpy as np\n",
    "\n",
    "# Sample data: two input variables (X1 and X2) and one output variable (Y)\n",
    "X1 = np.array([3, 2, 3, 4, 5])\n",
    "# X2 = np.array([2, 3, 4, 5, 6])\n",
    "# Y = np.array([7, 8, 11, 14, 17])\n",
    "Y = np.array([7, 5, 7, 9, 11])\n",
    "\n",
    "# Step 1: Calculate the mean of X1, X2, and Y\n",
    "mean_X1 = np.mean(X1)\n",
    "mean_X2 = np.mean(X2)\n",
    "mean_Y = np.mean(Y)\n",
    "\n",
    "# Step 2: Calculate the deviations from the mean\n",
    "dev_X1 = X1 - mean_X1\n",
    "dev_X2 = X2 - mean_X2\n",
    "dev_Y = Y - mean_Y\n",
    "\n",
    "# Step 3: Calculate the coefficients (beta_0, beta_1, and beta_2)\n",
    "beta_0 = np.sum(dev_Y * dev_X1) / np.sum(dev_X1**2)\n",
    "beta_1 = np.sum(dev_Y * dev_X2) / np.sum(dev_X2**2)\n",
    "beta_2 = mean_Y - (beta_0 * mean_X1) - (beta_1 * mean_X2)\n",
    "\n",
    "# Step 4: Print the coefficients\n",
    "print(\"Coefficients:\")\n",
    "print(f\"beta_0 (Intercept): {beta_0}\")\n",
    "# print(f\"beta_1 (X1 Coefficient): {beta_1}\")\n",
    "print(f\"beta_2 (X2 Coefficient): {beta_2}\")\n"
   ]
  },
  {
   "cell_type": "code",
   "execution_count": 42,
   "id": "minute-kruger",
   "metadata": {},
   "outputs": [
    {
     "data": {
      "text/plain": [
       "4.876923076923077"
      ]
     },
     "execution_count": 42,
     "metadata": {},
     "output_type": "execute_result"
    }
   ],
   "source": [
    "beta_0 * 3 + beta_1 * 2 + beta_2"
   ]
  },
  {
   "cell_type": "code",
   "execution_count": 103,
   "id": "cardiac-decimal",
   "metadata": {},
   "outputs": [],
   "source": [
    "import pandas as pd\n",
    "import numpy as np\n",
    "from sklearn.model_selection import train_test_split\n",
    "from sklearn.linear_model import LinearRegression\n",
    "from sklearn.metrics import mean_squared_error"
   ]
  },
  {
   "cell_type": "code",
   "execution_count": 110,
   "id": "sweet-impact",
   "metadata": {},
   "outputs": [],
   "source": [
    "# Step-1 load dataset\n",
    "dataset = pd.read_csv(\"./Advertising.csv\", index_col=0)"
   ]
  },
  {
   "cell_type": "code",
   "execution_count": 111,
   "id": "breeding-soviet",
   "metadata": {},
   "outputs": [
    {
     "data": {
      "text/html": [
       "<div>\n",
       "<style scoped>\n",
       "    .dataframe tbody tr th:only-of-type {\n",
       "        vertical-align: middle;\n",
       "    }\n",
       "\n",
       "    .dataframe tbody tr th {\n",
       "        vertical-align: top;\n",
       "    }\n",
       "\n",
       "    .dataframe thead th {\n",
       "        text-align: right;\n",
       "    }\n",
       "</style>\n",
       "<table border=\"1\" class=\"dataframe\">\n",
       "  <thead>\n",
       "    <tr style=\"text-align: right;\">\n",
       "      <th></th>\n",
       "      <th>TV</th>\n",
       "      <th>radio</th>\n",
       "      <th>newspaper</th>\n",
       "      <th>sales</th>\n",
       "    </tr>\n",
       "  </thead>\n",
       "  <tbody>\n",
       "    <tr>\n",
       "      <th>1</th>\n",
       "      <td>230.1</td>\n",
       "      <td>37.8</td>\n",
       "      <td>69.2</td>\n",
       "      <td>22.1</td>\n",
       "    </tr>\n",
       "    <tr>\n",
       "      <th>2</th>\n",
       "      <td>44.5</td>\n",
       "      <td>39.3</td>\n",
       "      <td>45.1</td>\n",
       "      <td>10.4</td>\n",
       "    </tr>\n",
       "    <tr>\n",
       "      <th>3</th>\n",
       "      <td>17.2</td>\n",
       "      <td>45.9</td>\n",
       "      <td>69.3</td>\n",
       "      <td>9.3</td>\n",
       "    </tr>\n",
       "    <tr>\n",
       "      <th>4</th>\n",
       "      <td>151.5</td>\n",
       "      <td>41.3</td>\n",
       "      <td>58.5</td>\n",
       "      <td>18.5</td>\n",
       "    </tr>\n",
       "    <tr>\n",
       "      <th>5</th>\n",
       "      <td>180.8</td>\n",
       "      <td>10.8</td>\n",
       "      <td>58.4</td>\n",
       "      <td>12.9</td>\n",
       "    </tr>\n",
       "  </tbody>\n",
       "</table>\n",
       "</div>"
      ],
      "text/plain": [
       "      TV  radio  newspaper  sales\n",
       "1  230.1   37.8       69.2   22.1\n",
       "2   44.5   39.3       45.1   10.4\n",
       "3   17.2   45.9       69.3    9.3\n",
       "4  151.5   41.3       58.5   18.5\n",
       "5  180.8   10.8       58.4   12.9"
      ]
     },
     "execution_count": 111,
     "metadata": {},
     "output_type": "execute_result"
    }
   ],
   "source": [
    "dataset.head()"
   ]
  },
  {
   "cell_type": "code",
   "execution_count": 112,
   "id": "fluid-circle",
   "metadata": {},
   "outputs": [
    {
     "data": {
      "text/plain": [
       "(200, 4)"
      ]
     },
     "execution_count": 112,
     "metadata": {},
     "output_type": "execute_result"
    }
   ],
   "source": [
    "dataset.shape"
   ]
  },
  {
   "cell_type": "code",
   "execution_count": 113,
   "id": "declared-samba",
   "metadata": {
    "scrolled": false
   },
   "outputs": [
    {
     "data": {
      "text/html": [
       "<div>\n",
       "<style scoped>\n",
       "    .dataframe tbody tr th:only-of-type {\n",
       "        vertical-align: middle;\n",
       "    }\n",
       "\n",
       "    .dataframe tbody tr th {\n",
       "        vertical-align: top;\n",
       "    }\n",
       "\n",
       "    .dataframe thead th {\n",
       "        text-align: right;\n",
       "    }\n",
       "</style>\n",
       "<table border=\"1\" class=\"dataframe\">\n",
       "  <thead>\n",
       "    <tr style=\"text-align: right;\">\n",
       "      <th></th>\n",
       "      <th>TV</th>\n",
       "      <th>radio</th>\n",
       "      <th>newspaper</th>\n",
       "      <th>sales</th>\n",
       "    </tr>\n",
       "  </thead>\n",
       "  <tbody>\n",
       "    <tr>\n",
       "      <th>count</th>\n",
       "      <td>200.000000</td>\n",
       "      <td>200.000000</td>\n",
       "      <td>200.000000</td>\n",
       "      <td>199.000000</td>\n",
       "    </tr>\n",
       "    <tr>\n",
       "      <th>mean</th>\n",
       "      <td>147.042500</td>\n",
       "      <td>23.264000</td>\n",
       "      <td>30.554000</td>\n",
       "      <td>14.002513</td>\n",
       "    </tr>\n",
       "    <tr>\n",
       "      <th>std</th>\n",
       "      <td>85.854236</td>\n",
       "      <td>14.846809</td>\n",
       "      <td>21.778621</td>\n",
       "      <td>5.222933</td>\n",
       "    </tr>\n",
       "    <tr>\n",
       "      <th>min</th>\n",
       "      <td>0.700000</td>\n",
       "      <td>0.000000</td>\n",
       "      <td>0.300000</td>\n",
       "      <td>1.600000</td>\n",
       "    </tr>\n",
       "    <tr>\n",
       "      <th>25%</th>\n",
       "      <td>74.375000</td>\n",
       "      <td>9.975000</td>\n",
       "      <td>12.750000</td>\n",
       "      <td>10.350000</td>\n",
       "    </tr>\n",
       "    <tr>\n",
       "      <th>50%</th>\n",
       "      <td>149.750000</td>\n",
       "      <td>22.900000</td>\n",
       "      <td>25.750000</td>\n",
       "      <td>12.900000</td>\n",
       "    </tr>\n",
       "    <tr>\n",
       "      <th>75%</th>\n",
       "      <td>218.825000</td>\n",
       "      <td>36.525000</td>\n",
       "      <td>45.100000</td>\n",
       "      <td>17.350000</td>\n",
       "    </tr>\n",
       "    <tr>\n",
       "      <th>max</th>\n",
       "      <td>296.400000</td>\n",
       "      <td>49.600000</td>\n",
       "      <td>114.000000</td>\n",
       "      <td>27.000000</td>\n",
       "    </tr>\n",
       "  </tbody>\n",
       "</table>\n",
       "</div>"
      ],
      "text/plain": [
       "               TV       radio   newspaper       sales\n",
       "count  200.000000  200.000000  200.000000  199.000000\n",
       "mean   147.042500   23.264000   30.554000   14.002513\n",
       "std     85.854236   14.846809   21.778621    5.222933\n",
       "min      0.700000    0.000000    0.300000    1.600000\n",
       "25%     74.375000    9.975000   12.750000   10.350000\n",
       "50%    149.750000   22.900000   25.750000   12.900000\n",
       "75%    218.825000   36.525000   45.100000   17.350000\n",
       "max    296.400000   49.600000  114.000000   27.000000"
      ]
     },
     "execution_count": 113,
     "metadata": {},
     "output_type": "execute_result"
    }
   ],
   "source": [
    "dataset.describe()"
   ]
  },
  {
   "cell_type": "code",
   "execution_count": 114,
   "id": "global-spare",
   "metadata": {},
   "outputs": [
    {
     "data": {
      "text/plain": [
       "<AxesSubplot:>"
      ]
     },
     "execution_count": 114,
     "metadata": {},
     "output_type": "execute_result"
    },
    {
     "data": {
      "image/png": "[encoded data removed]",
      "text/plain": [
       "<Figure size 432x288 with 1 Axes>"
      ]
     },
     "metadata": {
      "needs_background": "light"
     },
     "output_type": "display_data"
    }
   ],
   "source": [
    "dataset.plot(kind=\"box\")"
   ]
  },
  {
   "cell_type": "code",
   "execution_count": 115,
   "id": "refined-magnitude",
   "metadata": {},
   "outputs": [
    {
     "data": {
      "text/plain": [
       "TV           False\n",
       "radio        False\n",
       "newspaper    False\n",
       "sales         True\n",
       "dtype: bool"
      ]
     },
     "execution_count": 115,
     "metadata": {},
     "output_type": "execute_result"
    }
   ],
   "source": [
    "dataset.isnull().any()"
   ]
  },
  {
   "cell_type": "code",
   "execution_count": 116,
   "id": "literary-diameter",
   "metadata": {},
   "outputs": [
    {
     "data": {
      "text/plain": [
       "TV           False\n",
       "radio        False\n",
       "newspaper    False\n",
       "sales         True\n",
       "dtype: bool"
      ]
     },
     "execution_count": 116,
     "metadata": {},
     "output_type": "execute_result"
    }
   ],
   "source": [
    "dataset.isna().any()"
   ]
  },
  {
   "cell_type": "code",
   "execution_count": 118,
   "id": "respiratory-sword",
   "metadata": {},
   "outputs": [
    {
     "data": {
      "text/plain": [
       "TV           False\n",
       "radio        False\n",
       "newspaper    False\n",
       "sales        False\n",
       "dtype: bool"
      ]
     },
     "execution_count": 118,
     "metadata": {},
     "output_type": "execute_result"
    }
   ],
   "source": [
    "dataset.fillna(value=np.mean(dataset['sales'])).isna().any()"
   ]
  },
  {
   "cell_type": "code",
   "execution_count": 72,
   "id": "welcome-aruba",
   "metadata": {},
   "outputs": [],
   "source": [
    "# feature extraction\n",
    "X = dataset.loc[:, \"TV\":'newspaper']\n",
    "y = dataset['sales']"
   ]
  },
  {
   "cell_type": "code",
   "execution_count": 73,
   "id": "ambient-globe",
   "metadata": {},
   "outputs": [
    {
     "data": {
      "text/html": [
       "<div>\n",
       "<style scoped>\n",
       "    .dataframe tbody tr th:only-of-type {\n",
       "        vertical-align: middle;\n",
       "    }\n",
       "\n",
       "    .dataframe tbody tr th {\n",
       "        vertical-align: top;\n",
       "    }\n",
       "\n",
       "    .dataframe thead th {\n",
       "        text-align: right;\n",
       "    }\n",
       "</style>\n",
       "<table border=\"1\" class=\"dataframe\">\n",
       "  <thead>\n",
       "    <tr style=\"text-align: right;\">\n",
       "      <th></th>\n",
       "      <th>TV</th>\n",
       "      <th>radio</th>\n",
       "      <th>newspaper</th>\n",
       "    </tr>\n",
       "  </thead>\n",
       "  <tbody>\n",
       "    <tr>\n",
       "      <th>1</th>\n",
       "      <td>230.1</td>\n",
       "      <td>37.8</td>\n",
       "      <td>69.2</td>\n",
       "    </tr>\n",
       "    <tr>\n",
       "      <th>2</th>\n",
       "      <td>44.5</td>\n",
       "      <td>39.3</td>\n",
       "      <td>45.1</td>\n",
       "    </tr>\n",
       "    <tr>\n",
       "      <th>3</th>\n",
       "      <td>17.2</td>\n",
       "      <td>45.9</td>\n",
       "      <td>69.3</td>\n",
       "    </tr>\n",
       "    <tr>\n",
       "      <th>4</th>\n",
       "      <td>151.5</td>\n",
       "      <td>41.3</td>\n",
       "      <td>58.5</td>\n",
       "    </tr>\n",
       "    <tr>\n",
       "      <th>5</th>\n",
       "      <td>180.8</td>\n",
       "      <td>10.8</td>\n",
       "      <td>58.4</td>\n",
       "    </tr>\n",
       "  </tbody>\n",
       "</table>\n",
       "</div>"
      ],
      "text/plain": [
       "      TV  radio  newspaper\n",
       "1  230.1   37.8       69.2\n",
       "2   44.5   39.3       45.1\n",
       "3   17.2   45.9       69.3\n",
       "4  151.5   41.3       58.5\n",
       "5  180.8   10.8       58.4"
      ]
     },
     "execution_count": 73,
     "metadata": {},
     "output_type": "execute_result"
    }
   ],
   "source": [
    "X.head()"
   ]
  },
  {
   "cell_type": "code",
   "execution_count": 92,
   "id": "opening-tourism",
   "metadata": {},
   "outputs": [],
   "source": [
    "# step-2 spliting dataset\n",
    "X_train, X_test, y_train, y_test = train_test_split(X, y, test_size=0.1, random_state=3)"
   ]
  },
  {
   "cell_type": "code",
   "execution_count": 93,
   "id": "happy-cache",
   "metadata": {},
   "outputs": [
    {
     "data": {
      "text/plain": [
       "((180, 3), (20, 3))"
      ]
     },
     "execution_count": 93,
     "metadata": {},
     "output_type": "execute_result"
    }
   ],
   "source": [
    "X_train.shape, X_test.shape"
   ]
  },
  {
   "cell_type": "code",
   "execution_count": 94,
   "id": "afraid-foster",
   "metadata": {},
   "outputs": [
    {
     "data": {
      "text/html": [
       "<div>\n",
       "<style scoped>\n",
       "    .dataframe tbody tr th:only-of-type {\n",
       "        vertical-align: middle;\n",
       "    }\n",
       "\n",
       "    .dataframe tbody tr th {\n",
       "        vertical-align: top;\n",
       "    }\n",
       "\n",
       "    .dataframe thead th {\n",
       "        text-align: right;\n",
       "    }\n",
       "</style>\n",
       "<table border=\"1\" class=\"dataframe\">\n",
       "  <thead>\n",
       "    <tr style=\"text-align: right;\">\n",
       "      <th></th>\n",
       "      <th>TV</th>\n",
       "      <th>radio</th>\n",
       "      <th>newspaper</th>\n",
       "    </tr>\n",
       "  </thead>\n",
       "  <tbody>\n",
       "    <tr>\n",
       "      <th>15</th>\n",
       "      <td>204.1</td>\n",
       "      <td>32.9</td>\n",
       "      <td>46.0</td>\n",
       "    </tr>\n",
       "    <tr>\n",
       "      <th>144</th>\n",
       "      <td>104.6</td>\n",
       "      <td>5.7</td>\n",
       "      <td>34.4</td>\n",
       "    </tr>\n",
       "    <tr>\n",
       "      <th>13</th>\n",
       "      <td>23.8</td>\n",
       "      <td>35.1</td>\n",
       "      <td>65.9</td>\n",
       "    </tr>\n",
       "    <tr>\n",
       "      <th>7</th>\n",
       "      <td>57.5</td>\n",
       "      <td>32.8</td>\n",
       "      <td>23.5</td>\n",
       "    </tr>\n",
       "    <tr>\n",
       "      <th>183</th>\n",
       "      <td>56.2</td>\n",
       "      <td>5.7</td>\n",
       "      <td>29.7</td>\n",
       "    </tr>\n",
       "  </tbody>\n",
       "</table>\n",
       "</div>"
      ],
      "text/plain": [
       "        TV  radio  newspaper\n",
       "15   204.1   32.9       46.0\n",
       "144  104.6    5.7       34.4\n",
       "13    23.8   35.1       65.9\n",
       "7     57.5   32.8       23.5\n",
       "183   56.2    5.7       29.7"
      ]
     },
     "execution_count": 94,
     "metadata": {},
     "output_type": "execute_result"
    }
   ],
   "source": [
    "X_train.head()"
   ]
  },
  {
   "cell_type": "code",
   "execution_count": 96,
   "id": "separated-purse",
   "metadata": {},
   "outputs": [],
   "source": [
    "# step-3 defininig model\n",
    "model = LinearRegression()"
   ]
  },
  {
   "cell_type": "code",
   "execution_count": 97,
   "id": "round-spider",
   "metadata": {},
   "outputs": [
    {
     "data": {
      "text/plain": [
       "LinearRegression()"
      ]
     },
     "execution_count": 97,
     "metadata": {},
     "output_type": "execute_result"
    }
   ],
   "source": [
    "# step-4 training\n",
    "model.fit(X_train, y_train)"
   ]
  },
  {
   "cell_type": "code",
   "execution_count": 98,
   "id": "prime-camel",
   "metadata": {},
   "outputs": [
    {
     "data": {
      "text/plain": [
       "array([ 0.04593521,  0.1850863 , -0.00152064])"
      ]
     },
     "execution_count": 98,
     "metadata": {},
     "output_type": "execute_result"
    }
   ],
   "source": [
    "model.coef_"
   ]
  },
  {
   "cell_type": "code",
   "execution_count": 99,
   "id": "imposed-hours",
   "metadata": {},
   "outputs": [
    {
     "data": {
      "text/plain": [
       "2.984036978558944"
      ]
     },
     "execution_count": 99,
     "metadata": {},
     "output_type": "execute_result"
    }
   ],
   "source": [
    "model.intercept_"
   ]
  },
  {
   "cell_type": "code",
   "execution_count": 100,
   "id": "higher-ground",
   "metadata": {},
   "outputs": [],
   "source": [
    "# step-5 evaluation\n",
    "y_pred = model.predict(X_test)"
   ]
  },
  {
   "cell_type": "code",
   "execution_count": 101,
   "id": "executed-integral",
   "metadata": {},
   "outputs": [
    {
     "data": {
      "text/plain": [
       "array([16.36528856,  9.36728585, 19.60016013, 12.82613894,  7.39981865,\n",
       "       10.1507892 , 24.04453141,  8.88249258, 17.73452864, 13.92017011,\n",
       "       12.41500687, 14.30821082, 15.67855222, 12.39670494, 12.3866775 ,\n",
       "       12.01417423, 16.25354153, 17.49832766, 17.23760224, 21.79013094])"
      ]
     },
     "execution_count": 101,
     "metadata": {},
     "output_type": "execute_result"
    }
   ],
   "source": [
    "y_pred"
   ]
  },
  {
   "cell_type": "code",
   "execution_count": 102,
   "id": "coastal-canadian",
   "metadata": {
    "collapsed": true
   },
   "outputs": [
    {
     "data": {
      "text/plain": [
       "41     16.6\n",
       "52     10.7\n",
       "140    20.7\n",
       "198    12.8\n",
       "171     8.4\n",
       "83     11.3\n",
       "184    26.2\n",
       "47     10.6\n",
       "71     18.3\n",
       "101    11.7\n",
       "180    12.6\n",
       "84     13.6\n",
       "26     12.0\n",
       "191    10.8\n",
       "160    12.9\n",
       "174    11.7\n",
       "96     16.9\n",
       "4      18.5\n",
       "42     17.1\n",
       "59     23.8\n",
       "Name: sales, dtype: float64"
      ]
     },
     "execution_count": 102,
     "metadata": {},
     "output_type": "execute_result"
    }
   ],
   "source": [
    "y_test"
   ]
  },
  {
   "cell_type": "code",
   "execution_count": 104,
   "id": "breathing-scientist",
   "metadata": {},
   "outputs": [
    {
     "data": {
      "text/plain": [
       "1.4259444766605733"
      ]
     },
     "execution_count": 104,
     "metadata": {},
     "output_type": "execute_result"
    }
   ],
   "source": [
    "# step-6 metrics\n",
    "error  = np.sqrt(mean_squared_error(y_pred, y_test))\n",
    "error"
   ]
  },
  {
   "cell_type": "code",
   "execution_count": 105,
   "id": "tribal-prairie",
   "metadata": {},
   "outputs": [
    {
     "data": {
      "text/plain": [
       "14.860000000000003"
      ]
     },
     "execution_count": 105,
     "metadata": {},
     "output_type": "execute_result"
    }
   ],
   "source": [
    "np.mean(y_test)"
   ]
  },
  {
   "cell_type": "code",
   "execution_count": 123,
   "id": "color-doctrine",
   "metadata": {},
   "outputs": [
    {
     "data": {
      "text/plain": [
       "array([28.30691623])"
      ]
     },
     "execution_count": 123,
     "metadata": {},
     "output_type": "execute_result"
    }
   ],
   "source": [
    "# usecase-1 : how much sales would i get?\n",
    "testData = [150,100,50]\n",
    "model.predict([testData])"
   ]
  },
  {
   "cell_type": "code",
   "execution_count": 124,
   "id": "commercial-physiology",
   "metadata": {},
   "outputs": [
    {
     "data": {
      "text/plain": [
       "(array([28.30691623]), array([35.26447106]), array([23.5613319]))"
      ]
     },
     "execution_count": 124,
     "metadata": {},
     "output_type": "execute_result"
    }
   ],
   "source": [
    "# usecase-2 : On which platform i should invest more\n",
    "model.predict([[150,100,50]]), model.predict([[100,150,50]]), model.predict([[50,100,150]])"
   ]
  },
  {
   "cell_type": "code",
   "execution_count": 125,
   "id": "sapphire-disability",
   "metadata": {},
   "outputs": [
    {
     "data": {
      "text/plain": [
       "(array([28.3829481]), array([35.34050293]))"
      ]
     },
     "execution_count": 125,
     "metadata": {},
     "output_type": "execute_result"
    }
   ],
   "source": [
    "model.predict([[150,100,0]]), model.predict([[100,150,0]])"
   ]
  },
  {
   "cell_type": "code",
   "execution_count": 128,
   "id": "indoor-twist",
   "metadata": {},
   "outputs": [
    {
     "data": {
      "text/plain": [
       "(array([ 0.04593521,  0.1850863 , -0.00152064]), 2.984036978558944)"
      ]
     },
     "execution_count": 128,
     "metadata": {},
     "output_type": "execute_result"
    }
   ],
   "source": [
    "model.coef_, model.intercept_"
   ]
  },
  {
   "cell_type": "code",
   "execution_count": 129,
   "id": "twenty-contamination",
   "metadata": {},
   "outputs": [
    {
     "data": {
      "text/plain": [
       "35.340502978558945"
      ]
     },
     "execution_count": 129,
     "metadata": {},
     "output_type": "execute_result"
    }
   ],
   "source": [
    "100 * 0.04593521 + 150 * 0.1850863 + 2.984036978558944"
   ]
  },
  {
   "cell_type": "code",
   "execution_count": 130,
   "id": "valid-miniature",
   "metadata": {},
   "outputs": [
    {
     "data": {
      "text/html": [
       "<div>\n",
       "<style scoped>\n",
       "    .dataframe tbody tr th:only-of-type {\n",
       "        vertical-align: middle;\n",
       "    }\n",
       "\n",
       "    .dataframe tbody tr th {\n",
       "        vertical-align: top;\n",
       "    }\n",
       "\n",
       "    .dataframe thead th {\n",
       "        text-align: right;\n",
       "    }\n",
       "</style>\n",
       "<table border=\"1\" class=\"dataframe\">\n",
       "  <thead>\n",
       "    <tr style=\"text-align: right;\">\n",
       "      <th></th>\n",
       "      <th>TV</th>\n",
       "      <th>radio</th>\n",
       "      <th>newspaper</th>\n",
       "      <th>sales</th>\n",
       "    </tr>\n",
       "  </thead>\n",
       "  <tbody>\n",
       "    <tr>\n",
       "      <th>1</th>\n",
       "      <td>230.1</td>\n",
       "      <td>37.8</td>\n",
       "      <td>69.2</td>\n",
       "      <td>22.1</td>\n",
       "    </tr>\n",
       "    <tr>\n",
       "      <th>2</th>\n",
       "      <td>44.5</td>\n",
       "      <td>39.3</td>\n",
       "      <td>45.1</td>\n",
       "      <td>10.4</td>\n",
       "    </tr>\n",
       "    <tr>\n",
       "      <th>3</th>\n",
       "      <td>17.2</td>\n",
       "      <td>45.9</td>\n",
       "      <td>69.3</td>\n",
       "      <td>9.3</td>\n",
       "    </tr>\n",
       "    <tr>\n",
       "      <th>4</th>\n",
       "      <td>151.5</td>\n",
       "      <td>41.3</td>\n",
       "      <td>58.5</td>\n",
       "      <td>18.5</td>\n",
       "    </tr>\n",
       "    <tr>\n",
       "      <th>5</th>\n",
       "      <td>180.8</td>\n",
       "      <td>10.8</td>\n",
       "      <td>58.4</td>\n",
       "      <td>12.9</td>\n",
       "    </tr>\n",
       "  </tbody>\n",
       "</table>\n",
       "</div>"
      ],
      "text/plain": [
       "      TV  radio  newspaper  sales\n",
       "1  230.1   37.8       69.2   22.1\n",
       "2   44.5   39.3       45.1   10.4\n",
       "3   17.2   45.9       69.3    9.3\n",
       "4  151.5   41.3       58.5   18.5\n",
       "5  180.8   10.8       58.4   12.9"
      ]
     },
     "execution_count": 130,
     "metadata": {},
     "output_type": "execute_result"
    }
   ],
   "source": [
    "dataset.head()"
   ]
  },
  {
   "cell_type": "code",
   "execution_count": 131,
   "id": "defensive-surprise",
   "metadata": {},
   "outputs": [
    {
     "data": {
      "text/html": [
       "<div>\n",
       "<style scoped>\n",
       "    .dataframe tbody tr th:only-of-type {\n",
       "        vertical-align: middle;\n",
       "    }\n",
       "\n",
       "    .dataframe tbody tr th {\n",
       "        vertical-align: top;\n",
       "    }\n",
       "\n",
       "    .dataframe thead th {\n",
       "        text-align: right;\n",
       "    }\n",
       "</style>\n",
       "<table border=\"1\" class=\"dataframe\">\n",
       "  <thead>\n",
       "    <tr style=\"text-align: right;\">\n",
       "      <th></th>\n",
       "      <th>TV</th>\n",
       "      <th>radio</th>\n",
       "      <th>newspaper</th>\n",
       "      <th>sales</th>\n",
       "    </tr>\n",
       "  </thead>\n",
       "  <tbody>\n",
       "    <tr>\n",
       "      <th>196</th>\n",
       "      <td>38.2</td>\n",
       "      <td>3.7</td>\n",
       "      <td>13.8</td>\n",
       "      <td>7.6</td>\n",
       "    </tr>\n",
       "    <tr>\n",
       "      <th>197</th>\n",
       "      <td>94.2</td>\n",
       "      <td>4.9</td>\n",
       "      <td>8.1</td>\n",
       "      <td>9.7</td>\n",
       "    </tr>\n",
       "    <tr>\n",
       "      <th>198</th>\n",
       "      <td>177.0</td>\n",
       "      <td>9.3</td>\n",
       "      <td>6.4</td>\n",
       "      <td>12.8</td>\n",
       "    </tr>\n",
       "    <tr>\n",
       "      <th>199</th>\n",
       "      <td>283.6</td>\n",
       "      <td>42.0</td>\n",
       "      <td>66.2</td>\n",
       "      <td>25.5</td>\n",
       "    </tr>\n",
       "    <tr>\n",
       "      <th>200</th>\n",
       "      <td>232.1</td>\n",
       "      <td>8.6</td>\n",
       "      <td>8.7</td>\n",
       "      <td>13.4</td>\n",
       "    </tr>\n",
       "  </tbody>\n",
       "</table>\n",
       "</div>"
      ],
      "text/plain": [
       "        TV  radio  newspaper  sales\n",
       "196   38.2    3.7       13.8    7.6\n",
       "197   94.2    4.9        8.1    9.7\n",
       "198  177.0    9.3        6.4   12.8\n",
       "199  283.6   42.0       66.2   25.5\n",
       "200  232.1    8.6        8.7   13.4"
      ]
     },
     "execution_count": 131,
     "metadata": {},
     "output_type": "execute_result"
    }
   ],
   "source": [
    "dataset.tail()"
   ]
  },
  {
   "cell_type": "code",
   "execution_count": 132,
   "id": "collectible-herald",
   "metadata": {},
   "outputs": [],
   "source": [
    "import matplotlib.pyplot as plt"
   ]
  },
  {
   "cell_type": "code",
   "execution_count": 135,
   "id": "union-professor",
   "metadata": {},
   "outputs": [
    {
     "data": {
      "image/png": "[encoded data removed]",
      "text/plain": [
       "<Figure size 432x288 with 1 Axes>"
      ]
     },
     "metadata": {
      "needs_background": "light"
     },
     "output_type": "display_data"
    }
   ],
   "source": [
    "plt.plot(dataset.newspaper, 'r')\n",
    "plt.plot(dataset.sales, 'g')\n",
    "plt.show()"
   ]
  },
  {
   "cell_type": "code",
   "execution_count": 136,
   "id": "republican-tuning",
   "metadata": {},
   "outputs": [
    {
     "data": {
      "text/html": [
       "<div>\n",
       "<style scoped>\n",
       "    .dataframe tbody tr th:only-of-type {\n",
       "        vertical-align: middle;\n",
       "    }\n",
       "\n",
       "    .dataframe tbody tr th {\n",
       "        vertical-align: top;\n",
       "    }\n",
       "\n",
       "    .dataframe thead th {\n",
       "        text-align: right;\n",
       "    }\n",
       "</style>\n",
       "<table border=\"1\" class=\"dataframe\">\n",
       "  <thead>\n",
       "    <tr style=\"text-align: right;\">\n",
       "      <th></th>\n",
       "      <th>TV</th>\n",
       "      <th>radio</th>\n",
       "      <th>newspaper</th>\n",
       "      <th>sales</th>\n",
       "    </tr>\n",
       "  </thead>\n",
       "  <tbody>\n",
       "    <tr>\n",
       "      <th>TV</th>\n",
       "      <td>1.000000</td>\n",
       "      <td>0.054809</td>\n",
       "      <td>0.056648</td>\n",
       "      <td>0.781535</td>\n",
       "    </tr>\n",
       "    <tr>\n",
       "      <th>radio</th>\n",
       "      <td>0.054809</td>\n",
       "      <td>1.000000</td>\n",
       "      <td>0.354104</td>\n",
       "      <td>0.576048</td>\n",
       "    </tr>\n",
       "    <tr>\n",
       "      <th>newspaper</th>\n",
       "      <td>0.056648</td>\n",
       "      <td>0.354104</td>\n",
       "      <td>1.000000</td>\n",
       "      <td>0.225217</td>\n",
       "    </tr>\n",
       "    <tr>\n",
       "      <th>sales</th>\n",
       "      <td>0.781535</td>\n",
       "      <td>0.576048</td>\n",
       "      <td>0.225217</td>\n",
       "      <td>1.000000</td>\n",
       "    </tr>\n",
       "  </tbody>\n",
       "</table>\n",
       "</div>"
      ],
      "text/plain": [
       "                 TV     radio  newspaper     sales\n",
       "TV         1.000000  0.054809   0.056648  0.781535\n",
       "radio      0.054809  1.000000   0.354104  0.576048\n",
       "newspaper  0.056648  0.354104   1.000000  0.225217\n",
       "sales      0.781535  0.576048   0.225217  1.000000"
      ]
     },
     "execution_count": 136,
     "metadata": {},
     "output_type": "execute_result"
    }
   ],
   "source": [
    "dataset.corr()"
   ]
  },
  {
   "cell_type": "code",
   "execution_count": 142,
   "id": "editorial-cinema",
   "metadata": {},
   "outputs": [
    {
     "data": {
      "text/plain": [
       "1.4293999149492567"
      ]
     },
     "execution_count": 142,
     "metadata": {},
     "output_type": "execute_result"
    }
   ],
   "source": [
    "import pandas as pd\n",
    "import numpy as np\n",
    "from sklearn.model_selection import train_test_split\n",
    "from sklearn.linear_model import LinearRegression, Ridge\n",
    "from sklearn.metrics import mean_squared_error\n",
    "from sklearn.preprocessing import StandardScaler\n",
    "\n",
    "\n",
    "# Step-1 load dataset\n",
    "dataset = pd.read_csv(\"./Advertising.csv\", index_col=0)\n",
    "\n",
    "# feature extraction\n",
    "X = dataset.loc[:, \"TV\":'newspaper']\n",
    "y = dataset['sales']\n",
    "\n",
    "# step-2 spliting dataset\n",
    "X_train, X_test, y_train, y_test = train_test_split(X, y, test_size=0.1, random_state=3)\n",
    "\n",
    "# preprocessing\n",
    "scaler = StandardScaler()\n",
    "x_train = scaler.fit_transform(X_train)\n",
    "x_test = scaler.transform(X_test)\n",
    "\n",
    "# step-3 defininig model\n",
    "model = Ridge()\n",
    "\n",
    "# step-4 training\n",
    "model.fit(x_train, y_train)\n",
    "\n",
    "# step-5 evaluation\n",
    "y_pred = model.predict(x_test)\n",
    "\n",
    "# step-6 metrics\n",
    "error  = np.sqrt(mean_squared_error(y_pred, y_test))\n",
    "error"
   ]
  },
  {
   "cell_type": "code",
   "execution_count": 143,
   "id": "seven-census",
   "metadata": {},
   "outputs": [
    {
     "data": {
      "text/plain": [
       "array([[ 0.66457985,  0.6612078 ,  0.69967585],\n",
       "       [-0.47361046, -1.18391809,  0.17285634],\n",
       "       [-1.39788962,  0.81044592,  1.60344379],\n",
       "       [-1.012392  ,  0.65442425, -0.32217233],\n",
       "       [-1.02726283, -1.18391809, -0.04059639],\n",
       "       [-0.68980942,  0.85793078,  0.84954691],\n",
       "       [ 0.84989325,  1.75335952, -1.24410646],\n",
       "       [ 0.89221791, -1.40777528, -0.68095458],\n",
       "       [ 1.72040865,  0.89184853,  3.1929854 ],\n",
       "       [-0.79733695,  0.29489604, -0.66278839],\n",
       "       [-0.17047434,  1.33277935, -0.07692877],\n",
       "       [ 1.07409958,  1.24459319, -0.5492497 ],\n",
       "       [-1.53630272,  0.93254984,  0.66334347],\n",
       "       [-0.57541843, -1.47561079, -1.05336147],\n",
       "       [-1.17711502,  0.24062763,  0.20464717],\n",
       "       [-0.59257708, -1.2381865 , -1.02157064],\n",
       "       [ 0.39804886, -0.83795699,  1.26282773],\n",
       "       [-1.36357233,  0.66799135, -0.51291732],\n",
       "       [-0.07667374, -0.5869656 , -0.92619814],\n",
       "       [-0.06523464, -1.44169303, -0.98069671],\n",
       "       [-0.59600881,  1.38026421,  0.90404548],\n",
       "       [-0.81106387,  0.80366237,  1.00395953],\n",
       "       [-1.62323987, -0.78368858, -1.13056778],\n",
       "       [ 0.5650597 ,  1.66517335,  1.01304262],\n",
       "       [ 1.31889629,  1.3259958 ,  1.09479047],\n",
       "       [ 1.49734623,  1.74657597,  0.50893085],\n",
       "       [-0.05379554,  0.24741118,  0.70875894],\n",
       "       [-1.6621328 ,  1.11570572, -0.99432135],\n",
       "       [ 0.94140604, -0.42416037, -0.19955055],\n",
       "       [ 0.28937742,  1.12248927,  0.32272741],\n",
       "       [-0.37866594, -0.39024262,  0.36360133],\n",
       "       [ 0.47926646, -0.40380972, -0.57649899],\n",
       "       [-0.41412714,  1.67195691,  0.94491941],\n",
       "       [-1.57405174,  0.27454539, -1.29406348],\n",
       "       [ 1.25140561,  0.25419473, -1.13965087],\n",
       "       [-1.5809152 ,  1.06822086,  0.90858703],\n",
       "       [ 1.54882217,  1.11570572,  1.1447475 ],\n",
       "       [ 1.68037181,  0.34916445,  0.57251252],\n",
       "       [ 1.49505841, -1.41455883, -0.31308923],\n",
       "       [ 0.484986  , -0.34275776, -0.22679983],\n",
       "       [-0.29172879,  0.36273155, -0.74453624],\n",
       "       [-0.18992081, -1.18391809,  0.03206837],\n",
       "       [-0.41412714, -0.6005327 ,  0.05023456],\n",
       "       [-1.60836904,  0.45770126, -0.96253052],\n",
       "       [ 1.68837918,  0.30846314, -1.30768813],\n",
       "       [ 0.8441737 ,  0.7019091 ,  0.65880192],\n",
       "       [-1.47338767, -1.29245491,  0.04569301],\n",
       "       [-0.55482806, -1.05503062, -1.06244456],\n",
       "       [ 1.0763874 , -1.07538128, -0.99432135],\n",
       "       [ 0.77096347,  0.09817306, -0.79449326],\n",
       "       [-1.57062001,  1.74657597,  2.01672461],\n",
       "       [-0.77560266,  1.60412139,  0.17739789],\n",
       "       [ 1.53509526, -0.88544185, -0.41754483],\n",
       "       [ 0.82930287, -1.20426875, -0.14505198],\n",
       "       [-1.45508512, -0.09854992,  0.89950393],\n",
       "       [ 0.79384167,  0.03033755,  1.22649535],\n",
       "       [ 0.21159155, -0.15281833,  0.76325751],\n",
       "       [-0.95748433, -0.71585307, -0.5583328 ],\n",
       "       [-0.56969889, -0.56661495,  0.37722598],\n",
       "       [ 0.82015159,  0.7019091 ,  1.29007701],\n",
       "       [-1.57176392, -1.42812593, -1.34402051],\n",
       "       [ 0.41863923,  1.56342009,  1.27645237],\n",
       "       [ 1.0763874 , -0.43772748, -0.34942161],\n",
       "       [-0.09268847,  1.57698719,  1.29007701],\n",
       "       [-0.23224548,  0.93254984,  2.2074696 ],\n",
       "       [ 0.20015245,  0.92576629, -1.05336147],\n",
       "       [ 0.69660933, -1.00076221, -0.19046745],\n",
       "       [-0.11213494, -0.2681387 , -0.6355391 ],\n",
       "       [ 1.01232845, -1.33993977,  2.46179626],\n",
       "       [-1.51914407, -0.49199588,  0.86317155],\n",
       "       [ 0.12122267, -1.39420818, -1.01248754],\n",
       "       [ 0.51587157,  0.37629865, -0.56287434],\n",
       "       [ 0.30310434, -0.34275776,  0.00481909],\n",
       "       [-0.40383196,  1.18354123,  1.48082201],\n",
       "       [-1.24803743,  1.04787021,  1.58981915],\n",
       "       [-0.49534474,  0.43735061, -1.00794599],\n",
       "       [-0.83051033, -0.41737682, -0.80357636],\n",
       "       [ 0.23790148,  1.27851094, -1.22594027],\n",
       "       [-1.11763171,  1.6176885 , -1.00340445],\n",
       "       [ 0.33284599, -0.04428151,  0.04115147],\n",
       "       [ 1.65520579, -1.29245491, -1.00340445],\n",
       "       [-0.88084237, -0.93971025, -1.34856205],\n",
       "       [ 0.61539173, -1.36029042,  0.18193944],\n",
       "       [-0.67265077, -0.77012148, -0.21317519],\n",
       "       [ 1.64376669,  1.2988616 ,  0.93583631],\n",
       "       [-0.89456928,  0.91219919,  3.78792811],\n",
       "       [ 0.01483905,  0.0506882 , -0.52200042],\n",
       "       [-1.52028798, -1.5434463 , -0.22679983],\n",
       "       [-1.38301879,  0.17279212,  0.57705407],\n",
       "       [ 1.04550184,  0.29489604, -0.88986576],\n",
       "       [-1.35556496, -1.46204369, -0.44933566],\n",
       "       [ 0.54561323,  0.83079657,  2.04397389],\n",
       "       [ 0.33970945, -0.52591364, -1.28043884],\n",
       "       [-0.91401575, -1.17713454, -0.2903815 ],\n",
       "       [ 0.77210738,  1.34634645,  0.14560706],\n",
       "       [ 0.7858343 ,  0.05747175, -1.20777408],\n",
       "       [ 0.60509654,  1.78049372,  1.33549249],\n",
       "       [-0.66006776,  0.15922502,  1.94405985],\n",
       "       [ 1.17133192,  0.47805192, -0.46750185],\n",
       "       [ 1.09468996,  1.0071689 , -0.33579697],\n",
       "       [-1.37729925,  1.07500441, -0.96707207],\n",
       "       [ 0.61539173, -1.39420818, -0.42662792],\n",
       "       [ 1.46074111,  0.38986575,  1.32186785],\n",
       "       [-0.55825979, -1.46882724, -0.02697175],\n",
       "       [-0.86253981, -0.48521233,  0.46351538],\n",
       "       [ 0.93797431,  0.98681825,  0.0638592 ],\n",
       "       [ 0.67487504,  1.48880103, -0.49929268],\n",
       "       [-1.58663475,  0.33559735,  0.49076466],\n",
       "       [-0.07438592, -1.42812593, -0.18138436],\n",
       "       [ 0.04229289,  0.84436368, -1.11694313],\n",
       "       [-1.34298195, -1.46882724,  0.10927468],\n",
       "       [ 0.7400779 ,  0.43056706, -0.96707207],\n",
       "       [ 0.87391536, -1.33993977, -0.79449326],\n",
       "       [ 1.38295524,  1.40061486, -1.16235861],\n",
       "       [ 0.27679441, -1.04146352,  0.20918872],\n",
       "       [ 0.80528077,  1.25816029,  0.40901681],\n",
       "       [-0.80648823, -0.83795699, -1.11694313],\n",
       "       [ 0.92882303, -0.49877944,  0.8767962 ],\n",
       "       [ 0.59022571, -1.33315622, -1.12148468],\n",
       "       [-1.4768194 ,  1.39383131,  2.67070744],\n",
       "       [-0.28600924, -1.00076221,  0.82229763],\n",
       "       [-0.79619304,  0.24062763, -0.3766709 ],\n",
       "       [-0.12357404,  1.25816029,  0.6951343 ],\n",
       "       [ 0.95513296,  0.62050649,  1.98039223],\n",
       "       [ 0.47812255, -0.13925123, -0.95798897],\n",
       "       [-0.79619304, -1.51631209, -0.71728696],\n",
       "       [ 0.53989368, -0.32240711,  1.59436069],\n",
       "       [-1.16110028,  1.09535506,  0.65880192],\n",
       "       [ 0.72749489, -0.17316898, -0.9034904 ],\n",
       "       [-0.32947781, -0.5733985 , -1.14419242],\n",
       "       [-0.07781765, -0.6005327 , -0.22679983],\n",
       "       [-0.87855455, -0.17995254, -0.5583328 ],\n",
       "       [-1.2331666 , -1.31958911, -0.76270243],\n",
       "       [ 1.33491103,  0.3830822 , -0.66732994],\n",
       "       [ 1.60144203, -0.62766691, -1.22139872],\n",
       "       [ 1.17590756,  0.26776184, -0.34942161],\n",
       "       [-0.75272446, -1.5705805 , -0.97161362],\n",
       "       [-1.45622903, -0.74977082, -0.32671388],\n",
       "       [-0.90486447, -0.77690503,  0.28185348],\n",
       "       [-0.44158098, -0.62088335, -0.89440731],\n",
       "       [ 0.82815896,  0.30846314,  1.03575036],\n",
       "       [-0.8156395 ,  1.78049372,  0.6860512 ],\n",
       "       [-0.34320473, -1.04824707, -0.34033852],\n",
       "       [-0.26198713,  0.77652816, -0.8262841 ],\n",
       "       [ 1.36808442, -0.21387029, -1.37581134],\n",
       "       [-0.29516052, -0.24100449, -0.86261648],\n",
       "       [ 1.06723612, -0.51913009, -0.14959353],\n",
       "       [ 1.57398819,  1.27851094,  1.61706843],\n",
       "       [ 0.98487461, -0.98719511, -0.99432135],\n",
       "       [ 0.0434368 , -1.48239434, -0.28583995],\n",
       "       [ 0.44494916, -0.14603478, -0.39029554],\n",
       "       [ 0.91280829, -1.01432932,  1.17653833],\n",
       "       [ 1.05465311,  0.75617751, -1.14873397],\n",
       "       [ 0.8098564 ,  1.40739841, -0.15413507],\n",
       "       [-0.13386923, -1.2381865 , -0.96707207],\n",
       "       [-0.98836989, -0.75655438,  0.56797097],\n",
       "       [-1.05814839, -1.43490948, -0.41754483],\n",
       "       [-1.47338767,  1.54306944,  1.7578564 ],\n",
       "       [-1.30980856,  0.09817306, -1.28952194],\n",
       "       [ 1.5408148 , -0.62766691,  0.29093658],\n",
       "       [ 1.07295567, -1.29245491,  0.28639503],\n",
       "       [-0.03549298,  0.41699996, -0.817201  ],\n",
       "       [ 0.85218107,  0.68155845,  0.3318105 ],\n",
       "       [ 0.69546542, -1.21783585, -0.50837578],\n",
       "       [ 1.19992967,  0.90541564,  1.89410283],\n",
       "       [-1.44593384, -0.20708674, -0.61737291],\n",
       "       [-1.23545442,  1.16319058, -0.84899183],\n",
       "       [-1.4653803 ,  0.9800347 , -0.40846173],\n",
       "       [-1.44822166, -0.48521233, -0.3766709 ],\n",
       "       [-1.15881246,  0.17957567, -0.45387721],\n",
       "       [-1.17825893,  0.18635922, -0.45841875],\n",
       "       [ 1.58199556, -0.85152409, -1.09877694],\n",
       "       [-0.63604566, -1.55022985, -0.33579697],\n",
       "       [ 1.11184861,  1.75335952,  0.62246954],\n",
       "       [ 1.04550184, -1.2246194 , -0.32217233],\n",
       "       [ 0.96199642,  0.9936018 ,  1.75331485],\n",
       "       [ 1.23310305, -0.12568413, -0.02697175],\n",
       "       [ 1.36350878, -1.37385752,  0.56342942],\n",
       "       [ 0.59022571,  0.00998689, -0.74453624],\n",
       "       [-1.3841627 , -0.82438989, -0.04059639]])"
      ]
     },
     "execution_count": 143,
     "metadata": {},
     "output_type": "execute_result"
    }
   ],
   "source": [
    "x_train"
   ]
  },
  {
   "cell_type": "code",
   "execution_count": 141,
   "id": "adjustable-going",
   "metadata": {},
   "outputs": [
    {
     "data": {
      "text/html": [
       "<div>\n",
       "<style scoped>\n",
       "    .dataframe tbody tr th:only-of-type {\n",
       "        vertical-align: middle;\n",
       "    }\n",
       "\n",
       "    .dataframe tbody tr th {\n",
       "        vertical-align: top;\n",
       "    }\n",
       "\n",
       "    .dataframe thead th {\n",
       "        text-align: right;\n",
       "    }\n",
       "</style>\n",
       "<table border=\"1\" class=\"dataframe\">\n",
       "  <thead>\n",
       "    <tr style=\"text-align: right;\">\n",
       "      <th></th>\n",
       "      <th>TV</th>\n",
       "      <th>radio</th>\n",
       "      <th>newspaper</th>\n",
       "    </tr>\n",
       "  </thead>\n",
       "  <tbody>\n",
       "    <tr>\n",
       "      <th>15</th>\n",
       "      <td>204.1</td>\n",
       "      <td>32.9</td>\n",
       "      <td>46.0</td>\n",
       "    </tr>\n",
       "    <tr>\n",
       "      <th>144</th>\n",
       "      <td>104.6</td>\n",
       "      <td>5.7</td>\n",
       "      <td>34.4</td>\n",
       "    </tr>\n",
       "    <tr>\n",
       "      <th>13</th>\n",
       "      <td>23.8</td>\n",
       "      <td>35.1</td>\n",
       "      <td>65.9</td>\n",
       "    </tr>\n",
       "    <tr>\n",
       "      <th>7</th>\n",
       "      <td>57.5</td>\n",
       "      <td>32.8</td>\n",
       "      <td>23.5</td>\n",
       "    </tr>\n",
       "    <tr>\n",
       "      <th>183</th>\n",
       "      <td>56.2</td>\n",
       "      <td>5.7</td>\n",
       "      <td>29.7</td>\n",
       "    </tr>\n",
       "    <tr>\n",
       "      <th>...</th>\n",
       "      <td>...</td>\n",
       "      <td>...</td>\n",
       "      <td>...</td>\n",
       "    </tr>\n",
       "    <tr>\n",
       "      <th>1</th>\n",
       "      <td>230.1</td>\n",
       "      <td>37.8</td>\n",
       "      <td>69.2</td>\n",
       "    </tr>\n",
       "    <tr>\n",
       "      <th>185</th>\n",
       "      <td>253.8</td>\n",
       "      <td>21.3</td>\n",
       "      <td>30.0</td>\n",
       "    </tr>\n",
       "    <tr>\n",
       "      <th>132</th>\n",
       "      <td>265.2</td>\n",
       "      <td>2.9</td>\n",
       "      <td>43.0</td>\n",
       "    </tr>\n",
       "    <tr>\n",
       "      <th>153</th>\n",
       "      <td>197.6</td>\n",
       "      <td>23.3</td>\n",
       "      <td>14.2</td>\n",
       "    </tr>\n",
       "    <tr>\n",
       "      <th>107</th>\n",
       "      <td>25.0</td>\n",
       "      <td>11.0</td>\n",
       "      <td>29.7</td>\n",
       "    </tr>\n",
       "  </tbody>\n",
       "</table>\n",
       "<p>180 rows × 3 columns</p>\n",
       "</div>"
      ],
      "text/plain": [
       "        TV  radio  newspaper\n",
       "15   204.1   32.9       46.0\n",
       "144  104.6    5.7       34.4\n",
       "13    23.8   35.1       65.9\n",
       "7     57.5   32.8       23.5\n",
       "183   56.2    5.7       29.7\n",
       "..     ...    ...        ...\n",
       "1    230.1   37.8       69.2\n",
       "185  253.8   21.3       30.0\n",
       "132  265.2    2.9       43.0\n",
       "153  197.6   23.3       14.2\n",
       "107   25.0   11.0       29.7\n",
       "\n",
       "[180 rows x 3 columns]"
      ]
     },
     "execution_count": 141,
     "metadata": {},
     "output_type": "execute_result"
    }
   ],
   "source": [
    "X_train"
   ]
  },
  {
   "cell_type": "code",
   "execution_count": null,
   "id": "limited-scheme",
   "metadata": {},
   "outputs": [],
   "source": [
    "# Try --> https://www.kaggle.com/datasets/samuelcortinhas/house-price-prediction-seattle/data"
   ]
  },
  {
   "cell_type": "markdown",
   "id": "refined-spread",
   "metadata": {},
   "source": [
    "#### Logistic Regression"
   ]
  },
  {
   "cell_type": "code",
   "execution_count": 169,
   "id": "incorrect-couple",
   "metadata": {},
   "outputs": [],
   "source": [
    "import pandas as pd\n",
    "import numpy as np\n",
    "from sklearn.model_selection import train_test_split\n",
    "from sklearn.linear_model import LogisticRegression\n",
    "from sklearn.metrics import accuracy_score, classification_report, confusion_matrix, ConfusionMatrixDisplay\n",
    "\n",
    "from bs4 import BeautifulSoup\n",
    "from nltk.corpus import stopwords\n",
    "import re\n",
    "\n",
    "from sklearn.feature_extraction.text import CountVectorizer"
   ]
  },
  {
   "cell_type": "code",
   "execution_count": 145,
   "id": "photographic-founder",
   "metadata": {},
   "outputs": [],
   "source": [
    "dataset = pd.read_csv(\"./labeledTrainData.tsv\", sep=\"\\t\")"
   ]
  },
  {
   "cell_type": "code",
   "execution_count": 146,
   "id": "polyphonic-poverty",
   "metadata": {},
   "outputs": [
    {
     "data": {
      "text/html": [
       "<div>\n",
       "<style scoped>\n",
       "    .dataframe tbody tr th:only-of-type {\n",
       "        vertical-align: middle;\n",
       "    }\n",
       "\n",
       "    .dataframe tbody tr th {\n",
       "        vertical-align: top;\n",
       "    }\n",
       "\n",
       "    .dataframe thead th {\n",
       "        text-align: right;\n",
       "    }\n",
       "</style>\n",
       "<table border=\"1\" class=\"dataframe\">\n",
       "  <thead>\n",
       "    <tr style=\"text-align: right;\">\n",
       "      <th></th>\n",
       "      <th>id</th>\n",
       "      <th>sentiment</th>\n",
       "      <th>review</th>\n",
       "    </tr>\n",
       "  </thead>\n",
       "  <tbody>\n",
       "    <tr>\n",
       "      <th>0</th>\n",
       "      <td>5814_8</td>\n",
       "      <td>1</td>\n",
       "      <td>With all this stuff going down at the moment w...</td>\n",
       "    </tr>\n",
       "    <tr>\n",
       "      <th>1</th>\n",
       "      <td>2381_9</td>\n",
       "      <td>1</td>\n",
       "      <td>\\The Classic War of the Worlds\\\" by Timothy Hi...</td>\n",
       "    </tr>\n",
       "    <tr>\n",
       "      <th>2</th>\n",
       "      <td>7759_3</td>\n",
       "      <td>0</td>\n",
       "      <td>The film starts with a manager (Nicholas Bell)...</td>\n",
       "    </tr>\n",
       "    <tr>\n",
       "      <th>3</th>\n",
       "      <td>3630_4</td>\n",
       "      <td>0</td>\n",
       "      <td>It must be assumed that those who praised this...</td>\n",
       "    </tr>\n",
       "    <tr>\n",
       "      <th>4</th>\n",
       "      <td>9495_8</td>\n",
       "      <td>1</td>\n",
       "      <td>Superbly trashy and wondrously unpretentious 8...</td>\n",
       "    </tr>\n",
       "  </tbody>\n",
       "</table>\n",
       "</div>"
      ],
      "text/plain": [
       "       id  sentiment                                             review\n",
       "0  5814_8          1  With all this stuff going down at the moment w...\n",
       "1  2381_9          1  \\The Classic War of the Worlds\\\" by Timothy Hi...\n",
       "2  7759_3          0  The film starts with a manager (Nicholas Bell)...\n",
       "3  3630_4          0  It must be assumed that those who praised this...\n",
       "4  9495_8          1  Superbly trashy and wondrously unpretentious 8..."
      ]
     },
     "execution_count": 146,
     "metadata": {},
     "output_type": "execute_result"
    }
   ],
   "source": [
    "dataset.head()"
   ]
  },
  {
   "cell_type": "code",
   "execution_count": 147,
   "id": "consolidated-toilet",
   "metadata": {},
   "outputs": [
    {
     "data": {
      "text/plain": [
       "(25000, 3)"
      ]
     },
     "execution_count": 147,
     "metadata": {},
     "output_type": "execute_result"
    }
   ],
   "source": [
    "dataset.shape"
   ]
  },
  {
   "cell_type": "code",
   "execution_count": 148,
   "id": "iraqi-chaos",
   "metadata": {},
   "outputs": [
    {
     "data": {
      "text/html": [
       "<div>\n",
       "<style scoped>\n",
       "    .dataframe tbody tr th:only-of-type {\n",
       "        vertical-align: middle;\n",
       "    }\n",
       "\n",
       "    .dataframe tbody tr th {\n",
       "        vertical-align: top;\n",
       "    }\n",
       "\n",
       "    .dataframe thead th {\n",
       "        text-align: right;\n",
       "    }\n",
       "</style>\n",
       "<table border=\"1\" class=\"dataframe\">\n",
       "  <thead>\n",
       "    <tr style=\"text-align: right;\">\n",
       "      <th></th>\n",
       "      <th>id</th>\n",
       "      <th>review</th>\n",
       "    </tr>\n",
       "    <tr>\n",
       "      <th>sentiment</th>\n",
       "      <th></th>\n",
       "      <th></th>\n",
       "    </tr>\n",
       "  </thead>\n",
       "  <tbody>\n",
       "    <tr>\n",
       "      <th>0</th>\n",
       "      <td>12500</td>\n",
       "      <td>12500</td>\n",
       "    </tr>\n",
       "    <tr>\n",
       "      <th>1</th>\n",
       "      <td>12500</td>\n",
       "      <td>12500</td>\n",
       "    </tr>\n",
       "  </tbody>\n",
       "</table>\n",
       "</div>"
      ],
      "text/plain": [
       "              id  review\n",
       "sentiment               \n",
       "0          12500   12500\n",
       "1          12500   12500"
      ]
     },
     "execution_count": 148,
     "metadata": {},
     "output_type": "execute_result"
    }
   ],
   "source": [
    "dataset.groupby('sentiment').count()"
   ]
  },
  {
   "cell_type": "code",
   "execution_count": 153,
   "id": "peripheral-finding",
   "metadata": {},
   "outputs": [],
   "source": [
    "stop = stopwords.words('english')"
   ]
  },
  {
   "cell_type": "code",
   "execution_count": 160,
   "id": "israeli-boating",
   "metadata": {},
   "outputs": [],
   "source": [
    "def cleaning(review):\n",
    "    htmlFree = BeautifulSoup(review, \"html.parser\").get_text()\n",
    "#     print(htmlFree)\n",
    "    nonAlphaFree = re.sub(\"[^a-zA-Z]\", ' ', htmlFree)\n",
    "#     print(nonAlphaFree)\n",
    "    lowerCaseContent = nonAlphaFree.lower()\n",
    "#     print(lowerCaseContent)\n",
    "    stopFree = [word for word in lowerCaseContent.split() if word not in stop]\n",
    "#     print(stopFree)\n",
    "    return \" \".join(stopFree)"
   ]
  },
  {
   "cell_type": "code",
   "execution_count": 157,
   "id": "soviet-serbia",
   "metadata": {},
   "outputs": [
    {
     "data": {
      "text/plain": [
       "\"With all this stuff going down at the moment with MJ i've started listening to his music, watching the odd documentary here and there, watched The Wiz and watched Moonwalker again. Maybe i just want to get a certain insight into this guy who i thought was really cool in the eighties just to maybe make up my mind whether he is guilty or innocent. Moonwalker is part biography, part feature film which i remember going to see at the cinema when it was originally released. Some of it has subtle messages about MJ's feeling towards the press and also the obvious message of drugs are bad m'kay.<br /><br />Visually impressive but of course this is all about Michael Jackson so unless you remotely like MJ in anyway then you are going to hate this and find it boring. Some may call MJ an egotist for consenting to the making of this movie BUT MJ and most of his fans would say that he made it for the fans which if true is really nice of him.<br /><br />The actual feature film bit when it finally starts is only on for 20 minutes or so excluding the Smooth Criminal sequence and Joe Pesci is convincing as a psychopathic all powerful drug lord. Why he wants MJ dead so bad is beyond me. Because MJ overheard his plans? Nah, Joe Pesci's character ranted that he wanted people to know it is he who is supplying drugs etc so i dunno, maybe he just hates MJ's music.<br /><br />Lots of cool things in this like MJ turning into a car and a robot and the whole Speed Demon sequence. Also, the director must have had the patience of a saint when it came to filming the kiddy Bad sequence as usually directors hate working with one kid let alone a whole bunch of them performing a complex dance scene.<br /><br />Bottom line, this movie is for people who like MJ on one level or another (which i think is most people). If not, then stay away. It does try and give off a wholesome message and ironically MJ's bestest buddy in this movie is a girl! Michael Jackson is truly one of the most talented people ever to grace this planet but is he guilty? Well, with all the attention i've gave this subject....hmmm well i don't know because people can be different behind closed doors, i know this for a fact. He is either an extremely nice but stupid guy or one of the most sickest liars. I hope he is not the latter.\""
      ]
     },
     "execution_count": 157,
     "metadata": {},
     "output_type": "execute_result"
    }
   ],
   "source": [
    "dataset.review[0]"
   ]
  },
  {
   "cell_type": "code",
   "execution_count": 159,
   "id": "optional-moral",
   "metadata": {},
   "outputs": [
    {
     "name": "stdout",
     "output_type": "stream",
     "text": [
      "With all this stuff going down at the moment with MJ i've started listening to his music, watching the odd documentary here and there, watched The Wiz and watched Moonwalker again. Maybe i just want to get a certain insight into this guy who i thought was really cool in the eighties just to maybe make up my mind whether he is guilty or innocent. Moonwalker is part biography, part feature film which i remember going to see at the cinema when it was originally released. Some of it has subtle messages about MJ's feeling towards the press and also the obvious message of drugs are bad m'kay.Visually impressive but of course this is all about Michael Jackson so unless you remotely like MJ in anyway then you are going to hate this and find it boring. Some may call MJ an egotist for consenting to the making of this movie BUT MJ and most of his fans would say that he made it for the fans which if true is really nice of him.The actual feature film bit when it finally starts is only on for 20 minutes or so excluding the Smooth Criminal sequence and Joe Pesci is convincing as a psychopathic all powerful drug lord. Why he wants MJ dead so bad is beyond me. Because MJ overheard his plans? Nah, Joe Pesci's character ranted that he wanted people to know it is he who is supplying drugs etc so i dunno, maybe he just hates MJ's music.Lots of cool things in this like MJ turning into a car and a robot and the whole Speed Demon sequence. Also, the director must have had the patience of a saint when it came to filming the kiddy Bad sequence as usually directors hate working with one kid let alone a whole bunch of them performing a complex dance scene.Bottom line, this movie is for people who like MJ on one level or another (which i think is most people). If not, then stay away. It does try and give off a wholesome message and ironically MJ's bestest buddy in this movie is a girl! Michael Jackson is truly one of the most talented people ever to grace this planet but is he guilty? Well, with all the attention i've gave this subject....hmmm well i don't know because people can be different behind closed doors, i know this for a fact. He is either an extremely nice but stupid guy or one of the most sickest liars. I hope he is not the latter.\n",
      "With all this stuff going down at the moment with MJ i ve started listening to his music  watching the odd documentary here and there  watched The Wiz and watched Moonwalker again  Maybe i just want to get a certain insight into this guy who i thought was really cool in the eighties just to maybe make up my mind whether he is guilty or innocent  Moonwalker is part biography  part feature film which i remember going to see at the cinema when it was originally released  Some of it has subtle messages about MJ s feeling towards the press and also the obvious message of drugs are bad m kay Visually impressive but of course this is all about Michael Jackson so unless you remotely like MJ in anyway then you are going to hate this and find it boring  Some may call MJ an egotist for consenting to the making of this movie BUT MJ and most of his fans would say that he made it for the fans which if true is really nice of him The actual feature film bit when it finally starts is only on for    minutes or so excluding the Smooth Criminal sequence and Joe Pesci is convincing as a psychopathic all powerful drug lord  Why he wants MJ dead so bad is beyond me  Because MJ overheard his plans  Nah  Joe Pesci s character ranted that he wanted people to know it is he who is supplying drugs etc so i dunno  maybe he just hates MJ s music Lots of cool things in this like MJ turning into a car and a robot and the whole Speed Demon sequence  Also  the director must have had the patience of a saint when it came to filming the kiddy Bad sequence as usually directors hate working with one kid let alone a whole bunch of them performing a complex dance scene Bottom line  this movie is for people who like MJ on one level or another  which i think is most people   If not  then stay away  It does try and give off a wholesome message and ironically MJ s bestest buddy in this movie is a girl  Michael Jackson is truly one of the most talented people ever to grace this planet but is he guilty  Well  with all the attention i ve gave this subject    hmmm well i don t know because people can be different behind closed doors  i know this for a fact  He is either an extremely nice but stupid guy or one of the most sickest liars  I hope he is not the latter \n",
      "with all this stuff going down at the moment with mj i ve started listening to his music  watching the odd documentary here and there  watched the wiz and watched moonwalker again  maybe i just want to get a certain insight into this guy who i thought was really cool in the eighties just to maybe make up my mind whether he is guilty or innocent  moonwalker is part biography  part feature film which i remember going to see at the cinema when it was originally released  some of it has subtle messages about mj s feeling towards the press and also the obvious message of drugs are bad m kay visually impressive but of course this is all about michael jackson so unless you remotely like mj in anyway then you are going to hate this and find it boring  some may call mj an egotist for consenting to the making of this movie but mj and most of his fans would say that he made it for the fans which if true is really nice of him the actual feature film bit when it finally starts is only on for    minutes or so excluding the smooth criminal sequence and joe pesci is convincing as a psychopathic all powerful drug lord  why he wants mj dead so bad is beyond me  because mj overheard his plans  nah  joe pesci s character ranted that he wanted people to know it is he who is supplying drugs etc so i dunno  maybe he just hates mj s music lots of cool things in this like mj turning into a car and a robot and the whole speed demon sequence  also  the director must have had the patience of a saint when it came to filming the kiddy bad sequence as usually directors hate working with one kid let alone a whole bunch of them performing a complex dance scene bottom line  this movie is for people who like mj on one level or another  which i think is most people   if not  then stay away  it does try and give off a wholesome message and ironically mj s bestest buddy in this movie is a girl  michael jackson is truly one of the most talented people ever to grace this planet but is he guilty  well  with all the attention i ve gave this subject    hmmm well i don t know because people can be different behind closed doors  i know this for a fact  he is either an extremely nice but stupid guy or one of the most sickest liars  i hope he is not the latter \n",
      "['stuff', 'going', 'moment', 'mj', 'started', 'listening', 'music', 'watching', 'odd', 'documentary', 'watched', 'wiz', 'watched', 'moonwalker', 'maybe', 'want', 'get', 'certain', 'insight', 'guy', 'thought', 'really', 'cool', 'eighties', 'maybe', 'make', 'mind', 'whether', 'guilty', 'innocent', 'moonwalker', 'part', 'biography', 'part', 'feature', 'film', 'remember', 'going', 'see', 'cinema', 'originally', 'released', 'subtle', 'messages', 'mj', 'feeling', 'towards', 'press', 'also', 'obvious', 'message', 'drugs', 'bad', 'kay', 'visually', 'impressive', 'course', 'michael', 'jackson', 'unless', 'remotely', 'like', 'mj', 'anyway', 'going', 'hate', 'find', 'boring', 'may', 'call', 'mj', 'egotist', 'consenting', 'making', 'movie', 'mj', 'fans', 'would', 'say', 'made', 'fans', 'true', 'really', 'nice', 'actual', 'feature', 'film', 'bit', 'finally', 'starts', 'minutes', 'excluding', 'smooth', 'criminal', 'sequence', 'joe', 'pesci', 'convincing', 'psychopathic', 'powerful', 'drug', 'lord', 'wants', 'mj', 'dead', 'bad', 'beyond', 'mj', 'overheard', 'plans', 'nah', 'joe', 'pesci', 'character', 'ranted', 'wanted', 'people', 'know', 'supplying', 'drugs', 'etc', 'dunno', 'maybe', 'hates', 'mj', 'music', 'lots', 'cool', 'things', 'like', 'mj', 'turning', 'car', 'robot', 'whole', 'speed', 'demon', 'sequence', 'also', 'director', 'must', 'patience', 'saint', 'came', 'filming', 'kiddy', 'bad', 'sequence', 'usually', 'directors', 'hate', 'working', 'one', 'kid', 'let', 'alone', 'whole', 'bunch', 'performing', 'complex', 'dance', 'scene', 'bottom', 'line', 'movie', 'people', 'like', 'mj', 'one', 'level', 'another', 'think', 'people', 'stay', 'away', 'try', 'give', 'wholesome', 'message', 'ironically', 'mj', 'bestest', 'buddy', 'movie', 'girl', 'michael', 'jackson', 'truly', 'one', 'talented', 'people', 'ever', 'grace', 'planet', 'guilty', 'well', 'attention', 'gave', 'subject', 'hmmm', 'well', 'know', 'people', 'different', 'behind', 'closed', 'doors', 'know', 'fact', 'either', 'extremely', 'nice', 'stupid', 'guy', 'one', 'sickest', 'liars', 'hope', 'latter']\n"
     ]
    },
    {
     "data": {
      "text/plain": [
       "'stuff going moment mj started listening music watching odd documentary watched wiz watched moonwalker maybe want get certain insight guy thought really cool eighties maybe make mind whether guilty innocent moonwalker part biography part feature film remember going see cinema originally released subtle messages mj feeling towards press also obvious message drugs bad kay visually impressive course michael jackson unless remotely like mj anyway going hate find boring may call mj egotist consenting making movie mj fans would say made fans true really nice actual feature film bit finally starts minutes excluding smooth criminal sequence joe pesci convincing psychopathic powerful drug lord wants mj dead bad beyond mj overheard plans nah joe pesci character ranted wanted people know supplying drugs etc dunno maybe hates mj music lots cool things like mj turning car robot whole speed demon sequence also director must patience saint came filming kiddy bad sequence usually directors hate working one kid let alone whole bunch performing complex dance scene bottom line movie people like mj one level another think people stay away try give wholesome message ironically mj bestest buddy movie girl michael jackson truly one talented people ever grace planet guilty well attention gave subject hmmm well know people different behind closed doors know fact either extremely nice stupid guy one sickest liars hope latter'"
      ]
     },
     "execution_count": 159,
     "metadata": {},
     "output_type": "execute_result"
    }
   ],
   "source": [
    "cleaning(dataset.review[0])"
   ]
  },
  {
   "cell_type": "code",
   "execution_count": 161,
   "id": "looking-composite",
   "metadata": {},
   "outputs": [
    {
     "data": {
      "text/plain": [
       "'Sun Oct  1 10:58:42 2023'"
      ]
     },
     "execution_count": 161,
     "metadata": {},
     "output_type": "execute_result"
    }
   ],
   "source": [
    "import time\n",
    "time.ctime()"
   ]
  },
  {
   "cell_type": "code",
   "execution_count": 162,
   "id": "novel-writer",
   "metadata": {},
   "outputs": [
    {
     "name": "stdout",
     "output_type": "stream",
     "text": [
      "Sun Oct  1 10:59:37 2023\n",
      "Sun Oct  1 10:59:53 2023\n"
     ]
    }
   ],
   "source": [
    "# use this or other map method\n",
    "print(time.ctime())\n",
    "X = []\n",
    "for review in dataset.review:\n",
    "    X.append(cleaning(review))\n",
    "print(time.ctime())"
   ]
  },
  {
   "cell_type": "code",
   "execution_count": 163,
   "id": "marine-equity",
   "metadata": {},
   "outputs": [
    {
     "name": "stdout",
     "output_type": "stream",
     "text": [
      "Sun Oct  1 11:00:11 2023\n",
      "Sun Oct  1 11:00:27 2023\n"
     ]
    }
   ],
   "source": [
    "print(time.ctime())\n",
    "X = list(map(cleaning, dataset.review))\n",
    "print(time.ctime())"
   ]
  },
  {
   "cell_type": "code",
   "execution_count": 166,
   "id": "negative-armstrong",
   "metadata": {},
   "outputs": [],
   "source": [
    "y = dataset.sentiment"
   ]
  },
  {
   "cell_type": "code",
   "execution_count": 167,
   "id": "motivated-plasma",
   "metadata": {},
   "outputs": [],
   "source": [
    "X_train, X_test, y_train, y_test = train_test_split(X, y, test_size=0.2, random_state=3)"
   ]
  },
  {
   "cell_type": "code",
   "execution_count": 168,
   "id": "distributed-consensus",
   "metadata": {},
   "outputs": [
    {
     "data": {
      "text/plain": [
       "(20000, 5000)"
      ]
     },
     "execution_count": 168,
     "metadata": {},
     "output_type": "execute_result"
    }
   ],
   "source": [
    "len(X_train), len(X_test)"
   ]
  },
  {
   "cell_type": "code",
   "execution_count": 170,
   "id": "dirty-harbor",
   "metadata": {},
   "outputs": [],
   "source": [
    "vectorizer = CountVectorizer(min_df=3, ngram_range=(1,2))"
   ]
  },
  {
   "cell_type": "code",
   "execution_count": 171,
   "id": "random-rough",
   "metadata": {},
   "outputs": [],
   "source": [
    "x_train_vect = vectorizer.fit_transform(X_train)\n",
    "x_test_vect = vectorizer.transform(X_test)"
   ]
  },
  {
   "cell_type": "code",
   "execution_count": 172,
   "id": "detailed-shower",
   "metadata": {},
   "outputs": [
    {
     "data": {
      "text/plain": [
       "(20000, 143439)"
      ]
     },
     "execution_count": 172,
     "metadata": {},
     "output_type": "execute_result"
    }
   ],
   "source": [
    "x_train_vect.shape"
   ]
  },
  {
   "cell_type": "code",
   "execution_count": 173,
   "id": "civilian-hamburg",
   "metadata": {},
   "outputs": [
    {
     "data": {
      "text/plain": [
       "<20000x143439 sparse matrix of type '<class 'numpy.int64'>'\n",
       "\twith 2759933 stored elements in Compressed Sparse Row format>"
      ]
     },
     "execution_count": 173,
     "metadata": {},
     "output_type": "execute_result"
    }
   ],
   "source": [
    "x_train_vect"
   ]
  },
  {
   "cell_type": "code",
   "execution_count": 179,
   "id": "searching-details",
   "metadata": {},
   "outputs": [
    {
     "data": {
      "text/plain": [
       "['aaa',\n",
       " 'aaargh',\n",
       " 'aag',\n",
       " 'aames',\n",
       " 'aamir',\n",
       " 'aankhen',\n",
       " 'aapke',\n",
       " 'aapke hain',\n",
       " 'aardman',\n",
       " 'aaron',\n",
       " 'aaron spelling',\n",
       " 'aatish',\n",
       " 'aatish kapadia',\n",
       " 'ab',\n",
       " 'aback',\n",
       " 'abandon',\n",
       " 'abandoned',\n",
       " 'abandoned baby',\n",
       " 'abandoned building',\n",
       " 'abandoned car',\n",
       " 'abandoned film',\n",
       " 'abandoned high',\n",
       " 'abandoned hotel',\n",
       " 'abandoned house',\n",
       " 'abandoned school',\n",
       " 'abandoning',\n",
       " 'abandonment',\n",
       " 'abandons',\n",
       " 'abbas',\n",
       " 'abbas mustan',\n",
       " 'abbey',\n",
       " 'abbot',\n",
       " 'abbot costello',\n",
       " 'abbott',\n",
       " 'abbott costello',\n",
       " 'abbreviated',\n",
       " 'abby',\n",
       " 'abc',\n",
       " 'abc family',\n",
       " 'abc http',\n",
       " 'abduct',\n",
       " 'abducted',\n",
       " 'abducting',\n",
       " 'abduction',\n",
       " 'abductor',\n",
       " 'abdul',\n",
       " 'abe',\n",
       " 'abe burrows',\n",
       " 'abe lincoln',\n",
       " 'abel',\n",
       " 'abercrombie',\n",
       " 'abetted',\n",
       " 'abhay',\n",
       " 'abhay deol',\n",
       " 'abhishek',\n",
       " 'abhorrence',\n",
       " 'abhorrent',\n",
       " 'abiding',\n",
       " 'abiding joy',\n",
       " 'abigail',\n",
       " 'abigail mitchell',\n",
       " 'abilities',\n",
       " 'abilities film',\n",
       " 'ability',\n",
       " 'ability actor',\n",
       " 'ability change',\n",
       " 'ability communicate',\n",
       " 'ability convey',\n",
       " 'ability create',\n",
       " 'ability director',\n",
       " 'ability find',\n",
       " 'ability get',\n",
       " 'ability make',\n",
       " 'ability move',\n",
       " 'ability play',\n",
       " 'ability portray',\n",
       " 'ability read',\n",
       " 'ability really',\n",
       " 'ability retrieve',\n",
       " 'ability see',\n",
       " 'ability speak',\n",
       " 'ability take',\n",
       " 'ability tell',\n",
       " 'ability turn',\n",
       " 'ability write',\n",
       " 'abject',\n",
       " 'able',\n",
       " 'able accomplish',\n",
       " 'able achieve',\n",
       " 'able act',\n",
       " 'able afford',\n",
       " 'able appreciate',\n",
       " 'able become',\n",
       " 'able bring',\n",
       " 'able build',\n",
       " 'able buy',\n",
       " 'able capture',\n",
       " 'able care',\n",
       " 'able carry',\n",
       " 'able catch',\n",
       " 'able come',\n",
       " 'able communicate',\n",
       " 'able complete',\n",
       " 'able comprehend',\n",
       " 'able connect',\n",
       " 'able control',\n",
       " 'able convey',\n",
       " 'able convince',\n",
       " 'able create',\n",
       " 'able decipher',\n",
       " 'able defend',\n",
       " 'able enjoy',\n",
       " 'able escape',\n",
       " 'able express',\n",
       " 'able feel',\n",
       " 'able find',\n",
       " 'able finish',\n",
       " 'able get',\n",
       " 'able give',\n",
       " 'able go',\n",
       " 'able guess',\n",
       " 'able handle',\n",
       " 'able hear',\n",
       " 'able help',\n",
       " 'able hold',\n",
       " 'able identify',\n",
       " 'able keep',\n",
       " 'able laugh',\n",
       " 'able learn',\n",
       " 'able leave',\n",
       " 'able live',\n",
       " 'able look',\n",
       " 'able maintain',\n",
       " 'able make',\n",
       " 'able move',\n",
       " 'able overlook',\n",
       " 'able play',\n",
       " 'able portray',\n",
       " 'able predict',\n",
       " 'able produce',\n",
       " 'able pull',\n",
       " 'able put',\n",
       " 'able read',\n",
       " 'able really',\n",
       " 'able relate',\n",
       " 'able salvage',\n",
       " 'able save',\n",
       " 'able say',\n",
       " 'able see',\n",
       " 'able share',\n",
       " 'able show',\n",
       " 'able sit',\n",
       " 'able speak',\n",
       " 'able stand',\n",
       " 'able stay',\n",
       " 'able stomach',\n",
       " 'able stop',\n",
       " 'able succeed',\n",
       " 'able support',\n",
       " 'able survive',\n",
       " 'able take',\n",
       " 'able tell',\n",
       " 'able turn',\n",
       " 'able understand',\n",
       " 'able use',\n",
       " 'able view',\n",
       " 'able walk',\n",
       " 'able watch',\n",
       " 'able win',\n",
       " 'able work',\n",
       " 'able write',\n",
       " 'ably',\n",
       " 'ably assisted',\n",
       " 'ably directed',\n",
       " 'ably supported',\n",
       " 'abnormal',\n",
       " 'abnormally',\n",
       " 'abo',\n",
       " 'aboard',\n",
       " 'aboard ship',\n",
       " 'abolished',\n",
       " 'abolition',\n",
       " 'abominable',\n",
       " 'abominably',\n",
       " 'abomination',\n",
       " 'abomination movie',\n",
       " 'abominations',\n",
       " 'aboriginal',\n",
       " 'aboriginals',\n",
       " 'aborigine',\n",
       " 'aborigines',\n",
       " 'abort',\n",
       " 'aborted',\n",
       " 'abortion',\n",
       " 'abortion clinic',\n",
       " 'abortions',\n",
       " 'abortive',\n",
       " 'aborts',\n",
       " 'abound',\n",
       " 'abound film',\n",
       " 'abounds',\n",
       " 'abraham',\n",
       " 'abraham farlan',\n",
       " 'abraham lincoln',\n",
       " 'abraham sofaer',\n",
       " 'abrahams',\n",
       " 'abrams',\n",
       " 'abrasive',\n",
       " 'abridged',\n",
       " 'abridged version',\n",
       " 'abroad',\n",
       " 'abrupt',\n",
       " 'abrupt cuts',\n",
       " 'abrupt end',\n",
       " 'abrupt ending',\n",
       " 'abruptly',\n",
       " 'abruptly ends',\n",
       " 'abs',\n",
       " 'absence',\n",
       " 'absence light',\n",
       " 'absent',\n",
       " 'absent acting',\n",
       " 'absent father',\n",
       " 'absent instead',\n",
       " 'absent minded',\n",
       " 'absentee',\n",
       " 'absolute',\n",
       " 'absolute beginners',\n",
       " 'absolute best',\n",
       " 'absolute classics',\n",
       " 'absolute disaster',\n",
       " 'absolute favorite',\n",
       " 'absolute garbage',\n",
       " 'absolute gem',\n",
       " 'absolute genius',\n",
       " 'absolute hoot',\n",
       " 'absolute joke',\n",
       " 'absolute lack',\n",
       " 'absolute masterpiece',\n",
       " 'absolute mess',\n",
       " 'absolute must',\n",
       " 'absolute nonsense',\n",
       " 'absolute rubbish',\n",
       " 'absolute trash',\n",
       " 'absolute treat',\n",
       " 'absolute waste',\n",
       " 'absolute worst',\n",
       " 'absolutely',\n",
       " 'absolutely absurd',\n",
       " 'absolutely abysmal',\n",
       " 'absolutely adore',\n",
       " 'absolutely amazing',\n",
       " 'absolutely appalling',\n",
       " 'absolutely atrocious',\n",
       " 'absolutely awesome',\n",
       " 'absolutely awful',\n",
       " 'absolutely beautiful',\n",
       " 'absolutely believable',\n",
       " 'absolutely best',\n",
       " 'absolutely bizarre',\n",
       " 'absolutely boring',\n",
       " 'absolutely breathtaking',\n",
       " 'absolutely brilliant',\n",
       " 'absolutely charming',\n",
       " 'absolutely chemistry',\n",
       " 'absolutely chilling',\n",
       " 'absolutely connection',\n",
       " 'absolutely convincing',\n",
       " 'absolutely crappy',\n",
       " 'absolutely criminal',\n",
       " 'absolutely delightful',\n",
       " 'absolutely dire',\n",
       " 'absolutely everything',\n",
       " 'absolutely excuse',\n",
       " 'absolutely explanation',\n",
       " 'absolutely fabulous',\n",
       " 'absolutely fantastic',\n",
       " 'absolutely first',\n",
       " 'absolutely funny',\n",
       " 'absolutely gorgeous',\n",
       " 'absolutely great',\n",
       " 'absolutely guaranteed',\n",
       " 'absolutely hate',\n",
       " 'absolutely hated',\n",
       " 'absolutely hilarious',\n",
       " 'absolutely horrendous',\n",
       " 'absolutely horrible',\n",
       " 'absolutely horrid',\n",
       " 'absolutely horrific',\n",
       " 'absolutely hysterical',\n",
       " 'absolutely idea',\n",
       " 'absolutely incredible',\n",
       " 'absolutely laughable',\n",
       " 'absolutely love',\n",
       " 'absolutely loved',\n",
       " 'absolutely marvelous',\n",
       " 'absolutely mind',\n",
       " 'absolutely necessary',\n",
       " 'absolutely need',\n",
       " 'absolutely nobody',\n",
       " 'absolutely none',\n",
       " 'absolutely nothing',\n",
       " 'absolutely nowhere',\n",
       " 'absolutely one',\n",
       " 'absolutely pathetic',\n",
       " 'absolutely perfect',\n",
       " 'absolutely plot',\n",
       " 'absolutely point',\n",
       " 'absolutely priceless',\n",
       " 'absolutely reason',\n",
       " 'absolutely ridiculous',\n",
       " 'absolutely right',\n",
       " 'absolutely riveting',\n",
       " 'absolutely see',\n",
       " 'absolutely sense',\n",
       " 'absolutely shines',\n",
       " 'absolutely silly',\n",
       " 'absolutely spot',\n",
       " 'absolutely story',\n",
       " 'absolutely stunning',\n",
       " 'absolutely superb',\n",
       " 'absolutely surprise',\n",
       " 'absolutely terrible',\n",
       " 'absolutely terrific',\n",
       " 'absolutely unique',\n",
       " 'absolutely unnecessary',\n",
       " 'absolutely without',\n",
       " 'absolutely wonderful',\n",
       " 'absolutely worst',\n",
       " 'absolutely worth',\n",
       " 'absolution',\n",
       " 'absolutley',\n",
       " 'absolutly',\n",
       " 'absolved',\n",
       " 'absorb',\n",
       " 'absorbed',\n",
       " 'absorbing',\n",
       " 'absorbing one',\n",
       " 'absorbs',\n",
       " 'absorption',\n",
       " 'abstract',\n",
       " 'abstraction',\n",
       " 'abstractions',\n",
       " 'absurd',\n",
       " 'absurd characters',\n",
       " 'absurd comedy',\n",
       " 'absurd humor',\n",
       " 'absurd ride',\n",
       " 'absurd situations',\n",
       " 'absurd story',\n",
       " 'absurdist',\n",
       " 'absurdities',\n",
       " 'absurdity',\n",
       " 'absurdity film',\n",
       " 'absurdity situation',\n",
       " 'absurdity war',\n",
       " 'absurdly',\n",
       " 'absurdness',\n",
       " 'abu',\n",
       " 'abundance',\n",
       " 'abundant',\n",
       " 'abundantly',\n",
       " 'abundantly clear',\n",
       " 'abuse',\n",
       " 'abuse power',\n",
       " 'abused',\n",
       " 'abused child',\n",
       " 'abuser',\n",
       " 'abuses',\n",
       " 'abusing',\n",
       " 'abusive',\n",
       " 'abusive boyfriend',\n",
       " 'abusive father',\n",
       " 'abusive husband',\n",
       " 'abut',\n",
       " 'abysmal',\n",
       " 'abysmal acting',\n",
       " 'abysmally',\n",
       " 'abyss',\n",
       " 'ac',\n",
       " 'academic',\n",
       " 'academic interest',\n",
       " 'academics',\n",
       " 'academy',\n",
       " 'academy award',\n",
       " 'academy awards',\n",
       " 'academy nominations',\n",
       " 'accelerate',\n",
       " 'accelerated',\n",
       " 'accent',\n",
       " 'accent also',\n",
       " 'accent even',\n",
       " 'accent ever',\n",
       " 'accent film',\n",
       " 'accent like',\n",
       " 'accent made',\n",
       " 'accent make',\n",
       " 'accent movie',\n",
       " 'accent one',\n",
       " 'accent pretty',\n",
       " 'accent really',\n",
       " 'accent sometimes',\n",
       " 'accent times',\n",
       " 'accent well',\n",
       " 'accent work',\n",
       " 'accented',\n",
       " 'accents',\n",
       " 'accents bad',\n",
       " 'accents fake',\n",
       " 'accents like',\n",
       " 'accents made',\n",
       " 'accents make',\n",
       " 'accentuate',\n",
       " 'accentuated',\n",
       " 'accentuates',\n",
       " 'accentuating',\n",
       " 'accept',\n",
       " 'accept challenge',\n",
       " 'accept fact',\n",
       " 'accept false',\n",
       " 'accept film',\n",
       " 'accept jesus',\n",
       " 'accept life',\n",
       " 'accept low',\n",
       " 'accept movie',\n",
       " 'accept people',\n",
       " 'accept role',\n",
       " 'acceptable',\n",
       " 'acceptable plot',\n",
       " 'acceptance',\n",
       " 'accepted',\n",
       " 'accepted film',\n",
       " 'accepted role',\n",
       " 'accepting',\n",
       " 'accepting role',\n",
       " 'accepts',\n",
       " 'accepts bet',\n",
       " 'accepts fate',\n",
       " 'accepts job',\n",
       " 'accepts position',\n",
       " 'access',\n",
       " 'accessibility',\n",
       " 'accessible',\n",
       " 'accessible movie',\n",
       " 'accessory',\n",
       " 'accident',\n",
       " 'accident actually',\n",
       " 'accident could',\n",
       " 'accident film',\n",
       " 'accident involving',\n",
       " 'accident one',\n",
       " 'accident prone',\n",
       " 'accidental',\n",
       " 'accidental death',\n",
       " 'accidentally',\n",
       " 'accidentally came',\n",
       " 'accidentally hit',\n",
       " 'accidentally killed',\n",
       " 'accidentally kills',\n",
       " 'accidentally shooting',\n",
       " 'accidentally shoots',\n",
       " 'accidentally stumbled',\n",
       " 'accidentally stumbles',\n",
       " 'accidently',\n",
       " 'accidents',\n",
       " 'acclaim',\n",
       " 'acclaimed',\n",
       " 'acclaimed director',\n",
       " 'acclaimed films',\n",
       " 'accolade',\n",
       " 'accolades',\n",
       " 'accommodate',\n",
       " 'accommodating',\n",
       " 'accommodation',\n",
       " 'accommodations',\n",
       " 'accompanied',\n",
       " 'accompanies',\n",
       " 'accompaniment',\n",
       " 'accompany',\n",
       " 'accompanying',\n",
       " 'accomplice',\n",
       " 'accomplish',\n",
       " 'accomplished',\n",
       " 'accomplished actor',\n",
       " 'accomplished film',\n",
       " 'accomplished pianist',\n",
       " 'accomplishes',\n",
       " 'accomplishing',\n",
       " 'accomplishment',\n",
       " 'accomplishments',\n",
       " 'accord',\n",
       " 'accordance',\n",
       " 'accorded',\n",
       " 'accordian',\n",
       " 'according',\n",
       " 'according bible',\n",
       " 'according director',\n",
       " 'according dvd',\n",
       " 'according film',\n",
       " 'according imdb',\n",
       " 'according legend',\n",
       " 'according movie',\n",
       " 'according newspaper',\n",
       " 'according one',\n",
       " 'according rules',\n",
       " 'according story',\n",
       " 'according trivia',\n",
       " 'according website',\n",
       " 'accordingly',\n",
       " 'accorsi',\n",
       " 'accosted',\n",
       " 'account',\n",
       " 'account happened',\n",
       " 'account one',\n",
       " 'account true',\n",
       " 'accountability',\n",
       " 'accountable',\n",
       " 'accountant',\n",
       " 'accounted',\n",
       " 'accounting',\n",
       " 'accounts',\n",
       " 'accrued',\n",
       " 'accumulated',\n",
       " 'accumulation',\n",
       " 'accuracy',\n",
       " 'accuracy movie',\n",
       " 'accurate',\n",
       " 'accurate account',\n",
       " 'accurate depiction',\n",
       " 'accurate even',\n",
       " 'accurate film',\n",
       " 'accurate portrayal',\n",
       " 'accurate real',\n",
       " 'accurate representation',\n",
       " 'accurate well',\n",
       " 'accurately',\n",
       " 'accurately portray',\n",
       " 'accurately portrays',\n",
       " 'accusation',\n",
       " 'accusations',\n",
       " 'accuse',\n",
       " 'accused',\n",
       " 'accused killing',\n",
       " 'accused murder',\n",
       " 'accused murdering',\n",
       " 'accused rape',\n",
       " 'accuser',\n",
       " 'accuses',\n",
       " 'accusing',\n",
       " 'accustomed',\n",
       " 'ace',\n",
       " 'ace sleeve',\n",
       " 'ace ventura',\n",
       " 'acerbic',\n",
       " 'acharya',\n",
       " 'ache',\n",
       " 'ached',\n",
       " 'achieve',\n",
       " 'achieve desired',\n",
       " 'achieve dreams',\n",
       " 'achieve goal',\n",
       " 'achieve goals',\n",
       " 'achieve nothing',\n",
       " 'achieve something',\n",
       " 'achieved',\n",
       " 'achieved without',\n",
       " 'achievement',\n",
       " 'achievement fact',\n",
       " 'achievements',\n",
       " 'achievements one',\n",
       " 'achieves',\n",
       " 'achieving',\n",
       " 'achilles',\n",
       " 'aching',\n",
       " 'achingly',\n",
       " 'achingly beautiful',\n",
       " 'acid',\n",
       " 'acid face',\n",
       " 'acid trip',\n",
       " 'acidic',\n",
       " 'ackland',\n",
       " 'acknowledge',\n",
       " 'acknowledged',\n",
       " 'acknowledgement',\n",
       " 'acknowledges',\n",
       " 'acknowledging',\n",
       " 'ackroyd',\n",
       " 'acme',\n",
       " 'acne',\n",
       " 'acolyte',\n",
       " 'acorn',\n",
       " 'acoustic',\n",
       " 'acquaintance',\n",
       " 'acquaintances',\n",
       " 'acquainted',\n",
       " 'acquart',\n",
       " 'acquire',\n",
       " 'acquired',\n",
       " 'acquired dvd',\n",
       " 'acquired taste',\n",
       " 'acquires',\n",
       " 'acquiring',\n",
       " 'acquit',\n",
       " 'acquit well',\n",
       " 'acquits',\n",
       " 'acquitted',\n",
       " 'acre',\n",
       " 'acres',\n",
       " 'acrobat',\n",
       " 'acrobatic',\n",
       " 'acrobatics',\n",
       " 'across',\n",
       " 'across america',\n",
       " 'across ancient',\n",
       " 'across another',\n",
       " 'across board',\n",
       " 'across border',\n",
       " 'across country',\n",
       " 'across countryside',\n",
       " 'across dvd',\n",
       " 'across europe',\n",
       " 'across eyes',\n",
       " 'across face',\n",
       " 'across field',\n",
       " 'across film',\n",
       " 'across floor',\n",
       " 'across globe',\n",
       " 'across likable',\n",
       " 'across like',\n",
       " 'across little',\n",
       " 'across man',\n",
       " 'across movie',\n",
       " 'across much',\n",
       " 'across north',\n",
       " 'across ocean',\n",
       " 'across one',\n",
       " 'across people',\n",
       " 'across quite',\n",
       " 'across real',\n",
       " 'across really',\n",
       " 'across room',\n",
       " 'across screen',\n",
       " 'across someone',\n",
       " 'across street',\n",
       " 'across table',\n",
       " 'across three',\n",
       " 'across town',\n",
       " 'across two',\n",
       " 'across way',\n",
       " 'across well',\n",
       " 'across world',\n",
       " 'act',\n",
       " 'act also',\n",
       " 'act although',\n",
       " 'act bad',\n",
       " 'act better',\n",
       " 'act bit',\n",
       " 'act defiance',\n",
       " 'act even',\n",
       " 'act feel',\n",
       " 'act film',\n",
       " 'act funny',\n",
       " 'act gets',\n",
       " 'act give',\n",
       " 'act good',\n",
       " 'act ii',\n",
       " 'act iii',\n",
       " 'act killing',\n",
       " 'act kind',\n",
       " 'act know',\n",
       " 'act least',\n",
       " 'act like',\n",
       " 'act little',\n",
       " 'act look',\n",
       " 'act lot',\n",
       " 'act main',\n",
       " 'act movie',\n",
       " 'act much',\n",
       " 'act never',\n",
       " 'act one',\n",
       " 'act part',\n",
       " 'act plain',\n",
       " 'act pure',\n",
       " 'act quite',\n",
       " 'act react',\n",
       " 'act read',\n",
       " 'act really',\n",
       " 'act revenge',\n",
       " 'act save',\n",
       " 'act scenes',\n",
       " 'act seen',\n",
       " 'act sort',\n",
       " 'act structure',\n",
       " 'act stupid',\n",
       " 'act think',\n",
       " 'act though',\n",
       " 'act time',\n",
       " 'act together',\n",
       " 'act trying',\n",
       " 'act tv',\n",
       " 'act two',\n",
       " 'act upon',\n",
       " 'act vengeance',\n",
       " 'act violence',\n",
       " 'act watching',\n",
       " 'act way',\n",
       " 'act well',\n",
       " 'act without',\n",
       " 'act would',\n",
       " 'act write',\n",
       " 'acted',\n",
       " 'acted also',\n",
       " 'acted badly',\n",
       " 'acted cast',\n",
       " 'acted character',\n",
       " 'acted characters',\n",
       " 'acted directed',\n",
       " 'acted drama',\n",
       " 'acted even',\n",
       " 'acted film',\n",
       " 'acted films',\n",
       " 'acted however',\n",
       " 'acted involved',\n",
       " 'acted like',\n",
       " 'acted made',\n",
       " 'acted movie',\n",
       " 'acted part',\n",
       " 'acted particularly',\n",
       " 'acted piece',\n",
       " 'acted plot',\n",
       " 'acted poorly',\n",
       " 'acted real',\n",
       " 'acted really',\n",
       " 'acted scripted',\n",
       " 'acted shot',\n",
       " 'acted shows',\n",
       " 'acted way',\n",
       " 'acted well',\n",
       " 'acted written',\n",
       " 'acting',\n",
       " 'acting abilities',\n",
       " 'acting ability',\n",
       " 'acting absolutely',\n",
       " 'acting abysmal',\n",
       " 'acting across',\n",
       " 'acting acting',\n",
       " 'acting actor',\n",
       " 'acting actors',\n",
       " 'acting actually',\n",
       " 'acting adequate',\n",
       " 'acting almost',\n",
       " 'acting alright',\n",
       " 'acting also',\n",
       " 'acting although',\n",
       " 'acting always',\n",
       " 'acting amateurish',\n",
       " 'acting amazing',\n",
       " 'acting annoying',\n",
       " 'acting another',\n",
       " 'acting appalling',\n",
       " 'acting appropriate',\n",
       " 'acting around',\n",
       " 'acting aside',\n",
       " 'acting atrocious',\n",
       " 'acting average',\n",
       " 'acting award',\n",
       " 'acting awesome',\n",
       " 'acting awful',\n",
       " 'acting bad',\n",
       " 'acting beautiful',\n",
       " 'acting believable',\n",
       " 'acting believe',\n",
       " 'acting best',\n",
       " 'acting better',\n",
       " 'acting beyond',\n",
       " 'acting bit',\n",
       " 'acting bizarre',\n",
       " 'acting bland',\n",
       " 'acting boring',\n",
       " 'acting brilliant',\n",
       " 'acting call',\n",
       " 'acting came',\n",
       " 'acting camera',\n",
       " 'acting cannot',\n",
       " 'acting cardboard',\n",
       " 'acting career',\n",
       " 'acting cast',\n",
       " 'acting casting',\n",
       " 'acting certainly',\n",
       " 'acting character',\n",
       " 'acting characters',\n",
       " 'acting cheesy',\n",
       " 'acting choir',\n",
       " 'acting chops',\n",
       " 'acting cinematography',\n",
       " 'acting class',\n",
       " 'acting classes',\n",
       " 'acting clich',\n",
       " 'acting combined',\n",
       " 'acting comedy',\n",
       " 'acting convincing',\n",
       " 'acting costumes',\n",
       " 'acting could',\n",
       " 'acting course',\n",
       " 'acting crap',\n",
       " 'acting decent',\n",
       " 'acting definitely',\n",
       " 'acting department',\n",
       " 'acting dialog',\n",
       " 'acting dialogue',\n",
       " 'acting directing',\n",
       " 'acting direction',\n",
       " 'acting disappointed',\n",
       " 'acting dodgy',\n",
       " 'acting done',\n",
       " 'acting dreadful',\n",
       " 'acting dubbing',\n",
       " 'acting dull',\n",
       " 'acting editing',\n",
       " 'acting effects',\n",
       " 'acting ending',\n",
       " 'acting entire',\n",
       " 'acting equally',\n",
       " 'acting especially',\n",
       " 'acting etc',\n",
       " 'acting even',\n",
       " 'acting ever',\n",
       " 'acting every',\n",
       " 'acting everyone',\n",
       " 'acting everything',\n",
       " 'acting exactly',\n",
       " 'acting excellent',\n",
       " 'acting except',\n",
       " 'acting exception',\n",
       " 'acting expect',\n",
       " 'acting expected',\n",
       " 'acting experience',\n",
       " 'acting extremely',\n",
       " 'acting fact',\n",
       " 'acting fair',\n",
       " 'acting fairly',\n",
       " 'acting fantastic',\n",
       " 'acting far',\n",
       " 'acting felt',\n",
       " 'acting film',\n",
       " 'acting filming',\n",
       " 'acting films',\n",
       " 'acting fine',\n",
       " 'acting first',\n",
       " 'acting flat',\n",
       " 'acting funny',\n",
       " 'acting game',\n",
       " 'acting general',\n",
       " 'acting generally',\n",
       " 'acting get',\n",
       " 'acting give',\n",
       " 'acting given',\n",
       " 'acting go',\n",
       " 'acting god',\n",
       " 'acting goes',\n",
       " 'acting going',\n",
       " 'acting good',\n",
       " 'acting got',\n",
       " 'acting great',\n",
       " 'acting guy',\n",
       " 'acting hammy',\n",
       " 'acting hard',\n",
       " 'acting hell',\n",
       " 'acting help',\n",
       " 'acting high',\n",
       " 'acting hope',\n",
       " 'acting horrendous',\n",
       " 'acting horrible',\n",
       " 'acting horrific',\n",
       " 'acting however',\n",
       " 'acting improved',\n",
       " 'acting including',\n",
       " 'acting incredible',\n",
       " 'acting incredibly',\n",
       " 'acting instead',\n",
       " 'acting interesting',\n",
       " 'acting involved',\n",
       " 'acting jamie',\n",
       " 'acting job',\n",
       " 'acting jobs',\n",
       " 'acting john',\n",
       " 'acting kind',\n",
       " 'acting know',\n",
       " 'acting lack',\n",
       " 'acting lame',\n",
       " 'acting largely',\n",
       " 'acting last',\n",
       " 'acting laughable',\n",
       " 'acting leads',\n",
       " 'acting least',\n",
       " 'acting less',\n",
       " 'acting lessons',\n",
       " 'acting level',\n",
       " 'acting like',\n",
       " 'acting little',\n",
       " 'acting lot',\n",
       " 'acting lots',\n",
       " 'acting lousy',\n",
       " 'acting love',\n",
       " 'acting low',\n",
       " 'acting made',\n",
       " 'acting magnificent',\n",
       " 'acting main',\n",
       " 'acting mainly',\n",
       " 'acting make',\n",
       " 'acting makes',\n",
       " 'acting many',\n",
       " 'acting marvelous',\n",
       " 'acting may',\n",
       " 'acting maybe',\n",
       " 'acting mean',\n",
       " 'acting mediocre',\n",
       " 'acting mention',\n",
       " 'acting merely',\n",
       " 'acting michael',\n",
       " 'acting minor',\n",
       " 'acting moments',\n",
       " 'acting mostly',\n",
       " 'acting movie',\n",
       " 'acting movies',\n",
       " 'acting much',\n",
       " 'acting muscles',\n",
       " 'acting music',\n",
       " 'acting must',\n",
       " 'acting name',\n",
       " 'acting natural',\n",
       " 'acting never',\n",
       " 'acting nice',\n",
       " 'acting non',\n",
       " 'acting none',\n",
       " 'acting nothing',\n",
       " 'acting often',\n",
       " 'acting oh',\n",
       " 'acting ok',\n",
       " 'acting okay',\n",
       " 'acting one',\n",
       " 'acting outstanding',\n",
       " 'acting overall',\n",
       " 'acting overly',\n",
       " 'acting painful',\n",
       " 'acting par',\n",
       " 'acting part',\n",
       " 'acting particularly',\n",
       " 'acting parts',\n",
       " 'acting passable',\n",
       " 'acting pathetic',\n",
       " 'acting people',\n",
       " 'acting performance',\n",
       " 'acting performances',\n",
       " 'acting perhaps',\n",
       " 'acting photography',\n",
       " 'acting plain',\n",
       " 'acting plenty',\n",
       " 'acting plot',\n",
       " 'acting point',\n",
       " 'acting poor',\n",
       " 'acting poorly',\n",
       " 'acting porn',\n",
       " 'acting predictable',\n",
       " 'acting pretty',\n",
       " 'acting principals',\n",
       " 'acting probably',\n",
       " 'acting problem',\n",
       " 'acting production',\n",
       " 'acting profession',\n",
       " 'acting prowess',\n",
       " 'acting put',\n",
       " 'acting quality',\n",
       " 'acting quite',\n",
       " 'acting range',\n",
       " 'acting rather',\n",
       " 'acting real',\n",
       " 'acting really',\n",
       " 'acting reason',\n",
       " 'acting remember',\n",
       " 'acting reminded',\n",
       " 'acting reminiscent',\n",
       " 'acting rest',\n",
       " 'acting richard',\n",
       " 'acting ridiculous',\n",
       " 'acting right',\n",
       " 'acting role',\n",
       " 'acting roles',\n",
       " 'acting round',\n",
       " 'acting said',\n",
       " 'acting save',\n",
       " 'acting scene',\n",
       " 'acting scenes',\n",
       " 'acting school',\n",
       " 'acting script',\n",
       " 'acting second',\n",
       " 'acting see',\n",
       " 'acting seemed',\n",
       " 'acting seems',\n",
       " 'acting seen',\n",
       " ...]"
      ]
     },
     "execution_count": 179,
     "metadata": {},
     "output_type": "execute_result"
    }
   ],
   "source": [
    "vectorizer.get_feature_names()"
   ]
  },
  {
   "cell_type": "code",
   "execution_count": 181,
   "id": "metropolitan-peace",
   "metadata": {},
   "outputs": [
    {
     "data": {
      "text/plain": [
       "('actor', 'like')"
      ]
     },
     "execution_count": 181,
     "metadata": {},
     "output_type": "execute_result"
    }
   ],
   "source": [
    "vectorizer.get_feature_names()[1262], vectorizer.get_feature_names()[68821]"
   ]
  },
  {
   "cell_type": "code",
   "execution_count": 176,
   "id": "bottom-chemistry",
   "metadata": {},
   "outputs": [
    {
     "name": "stdout",
     "output_type": "stream",
     "text": [
      "  (0, 1262)\t1\n",
      "  (0, 101182)\t1\n",
      "  (0, 68821)\t2\n",
      "  (0, 60537)\t1\n",
      "  (0, 43931)\t1\n",
      "  (0, 88223)\t1\n",
      "  (0, 4689)\t2\n",
      "  (0, 11549)\t1\n",
      "  (0, 14502)\t2\n",
      "  (0, 50926)\t1\n",
      "  (0, 133960)\t2\n",
      "  (0, 20635)\t1\n",
      "  (0, 111721)\t2\n",
      "  (0, 142797)\t1\n",
      "  (0, 94528)\t2\n",
      "  (0, 66213)\t1\n",
      "  (0, 45813)\t1\n",
      "  (0, 90985)\t3\n",
      "  (0, 129678)\t1\n",
      "  (0, 30048)\t2\n",
      "  (0, 8467)\t1\n",
      "  (0, 129684)\t2\n",
      "  (0, 142719)\t1\n",
      "  (0, 90993)\t1\n",
      "  (0, 137462)\t1\n",
      "  :\t:\n",
      "  (0, 127159)\t1\n",
      "  (0, 1351)\t1\n",
      "  (0, 101480)\t1\n",
      "  (0, 60540)\t1\n",
      "  (0, 44167)\t1\n",
      "  (0, 4693)\t1\n",
      "  (0, 94533)\t1\n",
      "  (0, 90988)\t2\n",
      "  (0, 6539)\t1\n",
      "  (0, 24450)\t1\n",
      "  (0, 49620)\t1\n",
      "  (0, 21819)\t1\n",
      "  (0, 54520)\t1\n",
      "  (0, 70644)\t1\n",
      "  (0, 28669)\t1\n",
      "  (0, 43662)\t1\n",
      "  (0, 20218)\t1\n",
      "  (0, 78884)\t1\n",
      "  (0, 19071)\t1\n",
      "  (0, 116462)\t1\n",
      "  (0, 30062)\t1\n",
      "  (0, 48722)\t1\n",
      "  (0, 43116)\t1\n",
      "  (0, 92004)\t1\n",
      "  (0, 85830)\t1\n"
     ]
    }
   ],
   "source": [
    "print(x_train_vect[0])"
   ]
  },
  {
   "cell_type": "code",
   "execution_count": 178,
   "id": "ranking-buddy",
   "metadata": {},
   "outputs": [
    {
     "data": {
      "text/plain": [
       "'actor really like independent films one amateur best boys go vermont civil service yet plane lands flies palm tree directors aware palm trees vermont pines yes palms wedding service nice grove palm trees boys leaving vt apparently could get ticket major airline since plane filmed federal express ship overnight crate come guys little details like separate indi film totally amateur christian brother far gayer arthur bleached hair tribal band tattoo two switched roles minor characters laughable overact something terrible applause directors making gay film pay attention locations casting next time'"
      ]
     },
     "execution_count": 178,
     "metadata": {},
     "output_type": "execute_result"
    }
   ],
   "source": [
    "X_train[0]"
   ]
  },
  {
   "cell_type": "code",
   "execution_count": 182,
   "id": "gorgeous-survivor",
   "metadata": {},
   "outputs": [],
   "source": [
    "model = LogisticRegression()"
   ]
  },
  {
   "cell_type": "code",
   "execution_count": 183,
   "id": "incorporated-clearance",
   "metadata": {},
   "outputs": [
    {
     "name": "stderr",
     "output_type": "stream",
     "text": [
      "/Library/Frameworks/Python.framework/Versions/3.6/lib/python3.6/site-packages/sklearn/linear_model/_logistic.py:765: ConvergenceWarning: lbfgs failed to converge (status=1):\n",
      "STOP: TOTAL NO. of ITERATIONS REACHED LIMIT.\n",
      "\n",
      "Increase the number of iterations (max_iter) or scale the data as shown in:\n",
      "    https://scikit-learn.org/stable/modules/preprocessing.html\n",
      "Please also refer to the documentation for alternative solver options:\n",
      "    https://scikit-learn.org/stable/modules/linear_model.html#logistic-regression\n",
      "  extra_warning_msg=_LOGISTIC_SOLVER_CONVERGENCE_MSG)\n"
     ]
    },
    {
     "data": {
      "text/plain": [
       "LogisticRegression()"
      ]
     },
     "execution_count": 183,
     "metadata": {},
     "output_type": "execute_result"
    }
   ],
   "source": [
    "model.fit(x_train_vect, y_train)"
   ]
  },
  {
   "cell_type": "code",
   "execution_count": 184,
   "id": "manual-fitness",
   "metadata": {},
   "outputs": [],
   "source": [
    "y_pred = model.predict(x_test_vect)"
   ]
  },
  {
   "cell_type": "code",
   "execution_count": 185,
   "id": "solar-binary",
   "metadata": {},
   "outputs": [
    {
     "data": {
      "text/plain": [
       "0.8878"
      ]
     },
     "execution_count": 185,
     "metadata": {},
     "output_type": "execute_result"
    }
   ],
   "source": [
    "accuracy_score(y_test, y_pred)"
   ]
  },
  {
   "cell_type": "code",
   "execution_count": 186,
   "id": "loved-election",
   "metadata": {},
   "outputs": [
    {
     "name": "stdout",
     "output_type": "stream",
     "text": [
      "              precision    recall  f1-score   support\n",
      "\n",
      "           0       0.89      0.88      0.89      2483\n",
      "           1       0.88      0.90      0.89      2517\n",
      "\n",
      "    accuracy                           0.89      5000\n",
      "   macro avg       0.89      0.89      0.89      5000\n",
      "weighted avg       0.89      0.89      0.89      5000\n",
      "\n"
     ]
    }
   ],
   "source": [
    "print(classification_report(y_test, y_pred))"
   ]
  },
  {
   "cell_type": "code",
   "execution_count": 187,
   "id": "extraordinary-relief",
   "metadata": {},
   "outputs": [],
   "source": [
    "cm = confusion_matrix(y_test, y_pred)"
   ]
  },
  {
   "cell_type": "code",
   "execution_count": 192,
   "id": "dress-fundamentals",
   "metadata": {},
   "outputs": [
    {
     "data": {
      "text/plain": [
       "<sklearn.metrics._plot.confusion_matrix.ConfusionMatrixDisplay at 0x7f78ec56be48>"
      ]
     },
     "execution_count": 192,
     "metadata": {},
     "output_type": "execute_result"
    },
    {
     "data": {
      "image/png": "[encoded data removed]",
      "text/plain": [
       "<Figure size 432x288 with 2 Axes>"
      ]
     },
     "metadata": {
      "needs_background": "light"
     },
     "output_type": "display_data"
    }
   ],
   "source": [
    "ConfusionMatrixDisplay(cm, display_labels=[\"Negative\",\"Positive\"]).plot()"
   ]
  },
  {
   "cell_type": "code",
   "execution_count": 200,
   "id": "fixed-rebel",
   "metadata": {},
   "outputs": [],
   "source": [
    "negativeindex = model.coef_[0].argsort()[:15]\n",
    "postiveindex = model.coef_[0].argsort()[-15:]"
   ]
  },
  {
   "cell_type": "code",
   "execution_count": 202,
   "id": "infectious-vaccine",
   "metadata": {},
   "outputs": [
    {
     "data": {
      "text/plain": [
       "array(['worst', 'waste', 'boring', 'awful', 'poorly', 'disappointment',\n",
       "       'lacks', 'horrible', 'disappointing', 'mess', 'weak', 'avoid',\n",
       "       'lame', 'dull', 'poor'], dtype='<U27')"
      ]
     },
     "execution_count": 202,
     "metadata": {},
     "output_type": "execute_result"
    }
   ],
   "source": [
    "np.array(vectorizer.get_feature_names())[negativeindex]"
   ]
  },
  {
   "cell_type": "code",
   "execution_count": 203,
   "id": "prescribed-timeline",
   "metadata": {},
   "outputs": [
    {
     "data": {
      "text/plain": [
       "array(['rare', 'enjoyable', 'brilliant', 'amazing', 'well worth',\n",
       "       'favorite', 'perfectly', 'refreshing', 'wonderful', 'wonderfully',\n",
       "       'funniest', 'superb', 'must see', 'perfect', 'excellent'],\n",
       "      dtype='<U27')"
      ]
     },
     "execution_count": 203,
     "metadata": {},
     "output_type": "execute_result"
    }
   ],
   "source": [
    "np.array(vectorizer.get_feature_names())[postiveindex]"
   ]
  },
  {
   "cell_type": "code",
   "execution_count": 206,
   "id": "rising-detector",
   "metadata": {},
   "outputs": [],
   "source": [
    "# dump the knowledge into file\n",
    "import pickle\n",
    "pickle.dump(vectorizer, open(\"vectorizer.pkl\", \"wb\"))\n",
    "pickle.dump(model, open(\"logisticRegressionModel_IMDB.pkl\", \"wb\"))"
   ]
  },
  {
   "cell_type": "code",
   "execution_count": 10,
   "id": "editorial-reflection",
   "metadata": {},
   "outputs": [],
   "source": [
    "import pickle\n",
    "\n",
    "loadedModel = pickle.load(open(\"logisticRegressionModel_IMDB.pkl\", \"rb\"))\n",
    "loadedVectorizer = pickle.load(open(\"vectorizer.pkl\", \"rb\"))"
   ]
  },
  {
   "cell_type": "code",
   "execution_count": 7,
   "id": "emerging-fifteen",
   "metadata": {},
   "outputs": [],
   "source": [
    "from bs4 import BeautifulSoup\n",
    "from nltk.corpus import stopwords\n",
    "import re\n",
    "\n",
    "stop = stopwords.words('english')\n",
    "def cleaning(review):\n",
    "    htmlFree = BeautifulSoup(review, \"html.parser\").get_text()\n",
    "    nonAlphaFree = re.sub(\"[^a-zA-Z]\", ' ', htmlFree)\n",
    "    lowerCaseContent = nonAlphaFree.lower()\n",
    "    stopFree = [word for word in lowerCaseContent.split() if word not in stop]\n",
    "    return \" \".join(stopFree)"
   ]
  },
  {
   "cell_type": "code",
   "execution_count": 4,
   "id": "unlikely-origin",
   "metadata": {},
   "outputs": [],
   "source": [
    "positiveReview = \"\"\"A father and salesman is in \"The Pursuit of Happiness\" in this 2006 film starring Will Smith, Thandie Newton, and Jaden Smith. This is the real-life story of Chris Gardner, who was eking out a living selling bone density scanners while his wife (Newton) worked double shifts at a hospital. They weren't making it financially. One day Gardner sees a man get out of fancy car and asks him how he made it. The man says he's a stockbroker. Chris applies to the Dean Witter Reynolds apprentice program, unaware that there's no salary. He gets in by being terribly persistent. Then his wife leaves him, and Chris insists that their son (Jaden Smith) be left with him.\n",
    "\n",
    "\"Pursuit of Happiness\" is a very warm and above all, a very inspiring story about family, determination, and never letting go of one's dream. Very few people, I think, could or would have tolerated what Gardner did in order to make a better life for himself and his son. The two were homeless on and off, and those scenes are devastating. The apprentice program takes 20 people, and only one is chosen, yet Chris goes for it, bringing everything he owns to work when he had no place to live. How he holds it together and talks to clients and makes contacts is incredible. Frankly, if this weren't a true story, I would still have liked it but wondered how possible any of it even was.\n",
    "\n",
    "Will Smith has proved himself an excellent actor in the past - the way he completely submerged his personality into Mohammed Ali is a good example. Here, he's a charming, bright person who is always a day late and a dollar short. Through Smith's performance, one can feel Gardner's pain, frustration, and joy.\n",
    "\n",
    "The film's message is clear - the brick walls aren't there to keep you out, they're there to keep out the people who don't really want to get to the other side. And family is everything. In his pursuit of happiness, Chris Gardner goes after his dream on his own terms, integrity and humor intact, relentlessly, all the while knowing that the most important thing is the little boy at his side.\"\"\""
   ]
  },
  {
   "cell_type": "code",
   "execution_count": 6,
   "id": "tutorial-order",
   "metadata": {},
   "outputs": [],
   "source": [
    "negativeReview = \"\"\"To be fair, I don't exactly think I'm the target audience for Ocean's 8, an all-female update on the successful Ocean's franchise that was headlined by the likes of George Clooney, Matt Damon and Brad Pitt, but I like to think I'm a cinemagoer that's always up for a good fun time at the movies but that's something that is inexcusably and notably absent from this charmless, lifeless and DOA female-centric heist caper.\n",
    "\n",
    "Born out of Hollywood's recent spate of female driven updates and redo's that have been born out of the industry trying to make up for past mistakes and inequalities perceived or otherwise, Ocean's 8 should be a silly yet entertaining ride (who doesn't love a cheeky heist flick?) but as directed by The Hunger Games Gary Ross, this mundane exercise in wannabe hipness and sassy smarts is the type of film that exudes self-worth and believes itself to be something that unfortunately it is not.\n",
    "\n",
    "Ocean's 11 from 2001 coasted by on its assured and energetic direction from Steven Soderbergh, its endless supply of entertaining characters joined with on-point acting turns and thrilling set-up yet while Ocean's 8 has the named brand director, a cast of A-listers and up and comers and a supposedly daring jewellery heist at its disposal, it never gets close to capturing the mix of thrills and laughs that you'd expect from a film that's guised in the Ocean's name.\n",
    "\n",
    "A major and glaring issue with Ocean's 8 is that every single character in this film is either unlikeable or just not built up enough and when your whole narrative revolves around a heist that is not once even slightly believable, the characters in Ross's film needed to be the key ingredient to make things tick along.\n",
    "\n",
    "Led by a wooden central turn from Sandra Bullock as Danny Ocean's recently released from prison sister Debbie, the likes of Cate Blanchett as the stoic biker chick Lou, Helena Bonham Carter as the off-kilter Irish designer Rose and Anne Hathaway as the Hollywood starlet Daphne Kluger all cast members fail to make a mark in their roles and while the marketing for this film would make us all believe we have a sisterhood of sorts going on here both on and off-screen, there's no real charm or chemistry shared between this cast and when compared with their all-male lead counterparts from 2001, this cast pales in comparison.\n",
    "\n",
    "We never get the witty interplay between the rag-tag crew Debbie assembles to pull off a necklace heist at the famed Met Gala and we never get any real sense that these underdeveloped members of the gang really share any type of real friendship, making it extremely hard to care about their successes robbing the rich and wearing nice clothes whilst doing so.\n",
    "\n",
    "The other detrimental issue to Ocean's 8 outside of the far too convenient heist and its various eyebrow raising conveniences (gang members getting jobs at Vogue magazine, random catering contracts) and its charmless cast interactions is that Ross's film is criminally unfunny.\n",
    "\n",
    "For a film about a bunch of crooks and con artists it's a shame the most obvious crime here is just how lame Gary Ross's and Olivia Milch's script is and it's been sometime since I've been privy to a film of this ilk that just failed to completely in creating any memorable zingers or sequences that would make it appear to be a better film than it in fact is.\n",
    "\n",
    "Final Say -\n",
    "\n",
    "I've been told the fashion in Ocean's 8 is something to keep you interested (at least my wife thinks so)so at least there's that but outside of some pretty dresses and some Hollywood glitz and glamour, Ocean's 8 is a sad attempt to showcase the girls can do crime capers as good as the guys can and it's a shame such a talented cast should be wasted on such a poorly executed attempt at popcorn entertainment.\n",
    "\"\"\""
   ]
  },
  {
   "cell_type": "code",
   "execution_count": 20,
   "id": "national-binary",
   "metadata": {},
   "outputs": [
    {
     "data": {
      "text/plain": [
       "array([0, 1])"
      ]
     },
     "execution_count": 20,
     "metadata": {},
     "output_type": "execute_result"
    }
   ],
   "source": [
    "loadedModel.classes_"
   ]
  },
  {
   "cell_type": "code",
   "execution_count": 12,
   "id": "framed-snowboard",
   "metadata": {},
   "outputs": [],
   "source": [
    "vect = loadedVectorizer.transform([cleaning(positiveReview)])"
   ]
  },
  {
   "cell_type": "code",
   "execution_count": 14,
   "id": "optical-diploma",
   "metadata": {},
   "outputs": [
    {
     "data": {
      "text/plain": [
       "(array([1]), array([[0.00814121, 0.99185879]]))"
      ]
     },
     "execution_count": 14,
     "metadata": {},
     "output_type": "execute_result"
    }
   ],
   "source": [
    "loadedModel.predict(vect), loadedModel.predict_proba(vect)"
   ]
  },
  {
   "cell_type": "code",
   "execution_count": 15,
   "id": "retired-frank",
   "metadata": {},
   "outputs": [],
   "source": [
    "vect = loadedVectorizer.transform([cleaning(negativeReview)])"
   ]
  },
  {
   "cell_type": "code",
   "execution_count": 16,
   "id": "graduate-bathroom",
   "metadata": {},
   "outputs": [
    {
     "data": {
      "text/plain": [
       "(array([0]), array([[9.99999581e-01, 4.18895811e-07]]))"
      ]
     },
     "execution_count": 16,
     "metadata": {},
     "output_type": "execute_result"
    }
   ],
   "source": [
    "loadedModel.predict(vect), loadedModel.predict_proba(vect)"
   ]
  },
  {
   "cell_type": "code",
   "execution_count": 17,
   "id": "forty-scott",
   "metadata": {},
   "outputs": [],
   "source": [
    "averageReview = \"\"\"Ocean's 8 is a spin off from the reboot Ocean's trilogy starring George Clooney. And an all female cast of a spin off. I was not a huge fan of the Ocean's trilogy. The first one was eh. The second was okay. And the third one was a lot of fun. Now, this spin off does not improve over the original trilogy. It was decent. The cast ensemble was good. The plot brings in Danny (George Clooney) sister who is played by Sandra Bullock. She gets out of prison and plans her next heist of stealing diamond necklace that is worth 150 million dollars. I did feel like this film was lacking in fun and stand out characters.\n",
    "\n",
    "The plot follows Debbie (Sandra Bullock) who is out of prison. She plans her next heist of stealing a diamond necklace that has not been seen by the public's eye. She needs the help from Lou (Cate Blanchett), Amita (Mindy Kaling), Tammy (Sarah Paulson), Constance (Awkwafina), Nine Ball (Rihanna), and Rose (Helena Bonham Carter). The team will try to use a fashion model Daphne (Anne Hathaway) to sponsor in wearing the diamond necklace at a fashion event.\n",
    "\n",
    "The original trilogy at least stood out for its quirky fun humor and interesting characters. Ocean's 8 is missing out on that opportunity. We get Debbie Ocean, who cons her way to get what she wants. She cons the hotel receptionist to getting a free room, a fragrance store customer service, ect. Lou is Debbie's partner in crime that will always be by her side and helps to organize this team. Amita is a jeweler expert. Tammy is a suburban mom, who has lots of over stock supplies of home appliances in her garage. Constance is a pick-pocking thief. Nine Ball is a hacker. And Rose is the fashion designer and awkward in person. The cast that plays these characters are great choices. But the script does miss the opportunity in making these characters interesting and lacking in fun humor. We get more fun humor from James Corden's character that shows up in the dead end of the second act playing an insurance investigator.\n",
    "\n",
    "The concept and plot was okay. It adds nothing new to the serious. Besides Debbie's desire to challenge herself into stealing a high price jewelry that has private security guards a few feet away. And there are a couple of twists, which does not give the surprise factor at all. Plus there are a couple of cameos from the original trilogy. I was really hoping for more that could have made it fun at least.\n",
    "\n",
    "Gary Ross direction with the film is slightly dull. It does not have the fun energy like the previous films. It is a heist movie that seems like it is bored with its script.\n",
    "\n",
    "Overall, Ocean's 8 is a fair heist film. The cast ensemble was great and the plot was decent and entertaining. It just was lacking the energetic direction and has uninteresting characters which can be a little boring at times.\"\"\""
   ]
  },
  {
   "cell_type": "code",
   "execution_count": 18,
   "id": "distinguished-proof",
   "metadata": {},
   "outputs": [],
   "source": [
    "vect = loadedVectorizer.transform([cleaning(averageReview)])"
   ]
  },
  {
   "cell_type": "code",
   "execution_count": 19,
   "id": "latter-truth",
   "metadata": {},
   "outputs": [
    {
     "data": {
      "text/plain": [
       "(array([1]), array([[0.26820084, 0.73179916]]))"
      ]
     },
     "execution_count": 19,
     "metadata": {},
     "output_type": "execute_result"
    }
   ],
   "source": [
    "loadedModel.predict(vect), loadedModel.predict_proba(vect)"
   ]
  },
  {
   "cell_type": "markdown",
   "id": "centered-polish",
   "metadata": {},
   "source": [
    "#### K-Means"
   ]
  },
  {
   "cell_type": "code",
   "execution_count": 21,
   "id": "collaborative-eagle",
   "metadata": {},
   "outputs": [
    {
     "data": {
      "text/plain": [
       "95"
      ]
     },
     "execution_count": 21,
     "metadata": {},
     "output_type": "execute_result"
    }
   ],
   "source": [
    "# [0,3,4,5],[7,6,3,-1]\n",
    "(7 - 0) ** 2 + (6 - 3) ** 2 + (3 - 4) ** 2 + (-1 - 5) ** 2"
   ]
  },
  {
   "cell_type": "code",
   "execution_count": 22,
   "id": "ideal-chamber",
   "metadata": {},
   "outputs": [
    {
     "data": {
      "text/plain": [
       "9.746794344808963"
      ]
     },
     "execution_count": 22,
     "metadata": {},
     "output_type": "execute_result"
    }
   ],
   "source": [
    "np.sqrt(95)"
   ]
  },
  {
   "cell_type": "code",
   "execution_count": 23,
   "id": "celtic-newton",
   "metadata": {},
   "outputs": [],
   "source": [
    "X = [(3,2),\n",
    "(27,2),\n",
    "(20,8),\n",
    "(25,1),\n",
    "(12,4),\n",
    "(21,6),\n",
    "(18,6),\n",
    "(14,5),\n",
    "(16,5),\n",
    "(24,4),\n",
    "(21,4),\n",
    "(26,3),\n",
    "(3,5),\n",
    "(14,8),\n",
    "(1,10)]"
   ]
  },
  {
   "cell_type": "code",
   "execution_count": 25,
   "id": "coral-knowing",
   "metadata": {},
   "outputs": [],
   "source": [
    "import matplotlib.pyplot as plt\n",
    "from sklearn.cluster import KMeans"
   ]
  },
  {
   "cell_type": "code",
   "execution_count": 39,
   "id": "architectural-reality",
   "metadata": {},
   "outputs": [],
   "source": [
    "model = KMeans(n_clusters=2,random_state=3)"
   ]
  },
  {
   "cell_type": "code",
   "execution_count": 40,
   "id": "dramatic-republic",
   "metadata": {},
   "outputs": [
    {
     "data": {
      "text/plain": [
       "KMeans(n_clusters=2, random_state=3)"
      ]
     },
     "execution_count": 40,
     "metadata": {},
     "output_type": "execute_result"
    }
   ],
   "source": [
    "model.fit(X)"
   ]
  },
  {
   "cell_type": "code",
   "execution_count": 41,
   "id": "technological-tampa",
   "metadata": {},
   "outputs": [
    {
     "data": {
      "text/plain": [
       "array([[19.83333333,  4.66666667],\n",
       "       [ 2.33333333,  5.66666667]])"
      ]
     },
     "execution_count": 41,
     "metadata": {},
     "output_type": "execute_result"
    }
   ],
   "source": [
    "model.cluster_centers_"
   ]
  },
  {
   "cell_type": "code",
   "execution_count": 42,
   "id": "removable-islam",
   "metadata": {},
   "outputs": [
    {
     "data": {
      "text/plain": [
       "array([1, 0, 0, 0, 0, 0, 0, 0, 0, 0, 0, 0, 1, 0, 1], dtype=int32)"
      ]
     },
     "execution_count": 42,
     "metadata": {},
     "output_type": "execute_result"
    }
   ],
   "source": [
    "model.labels_"
   ]
  },
  {
   "cell_type": "code",
   "execution_count": 43,
   "id": "conditional-shelter",
   "metadata": {},
   "outputs": [
    {
     "name": "stdout",
     "output_type": "stream",
     "text": [
      "[[19.83333333  4.66666667]\n",
      " [ 2.33333333  5.66666667]]\n",
      "[1 0 0 0 0 0 0 0 0 0 0 0 1 0 1]\n"
     ]
    }
   ],
   "source": [
    "centroids = model.cluster_centers_\n",
    "labels = model.labels_\n",
    "\n",
    "print(centroids)\n",
    "print(labels)\n"
   ]
  },
  {
   "cell_type": "code",
   "execution_count": 44,
   "id": "internal-modification",
   "metadata": {},
   "outputs": [
    {
     "data": {
      "image/png": "[encoded data removed]",
      "text/plain": [
       "<Figure size 432x288 with 1 Axes>"
      ]
     },
     "metadata": {
      "needs_background": "light"
     },
     "output_type": "display_data"
    }
   ],
   "source": [
    "\n",
    "colors = [\"g.\",\"r.\",\"c.\",\"y.\"]\n",
    "\n",
    "for i in range(len(X)):\n",
    "#     print(\"coordinate:\",X[i], \"label:\", labels[i])\n",
    "    plt.plot(X[i][0], X[i][1], colors[labels[i]], markersize = 10)\n",
    "\n",
    "plt.scatter(centroids[:, 0], centroids[:, 1], marker=\"x\", s=150, linewidths=5, zorder=10)\n",
    "\n",
    "plt.show()"
   ]
  },
  {
   "cell_type": "code",
   "execution_count": 45,
   "id": "opened-desperate",
   "metadata": {},
   "outputs": [],
   "source": [
    "import pandas as pd"
   ]
  },
  {
   "cell_type": "code",
   "execution_count": 46,
   "id": "piano-stamp",
   "metadata": {},
   "outputs": [],
   "source": [
    "dataset = pd.read_csv(\"train.csv\")"
   ]
  },
  {
   "cell_type": "code",
   "execution_count": 47,
   "id": "broke-programming",
   "metadata": {},
   "outputs": [
    {
     "data": {
      "text/html": [
       "<div>\n",
       "<style scoped>\n",
       "    .dataframe tbody tr th:only-of-type {\n",
       "        vertical-align: middle;\n",
       "    }\n",
       "\n",
       "    .dataframe tbody tr th {\n",
       "        vertical-align: top;\n",
       "    }\n",
       "\n",
       "    .dataframe thead th {\n",
       "        text-align: right;\n",
       "    }\n",
       "</style>\n",
       "<table border=\"1\" class=\"dataframe\">\n",
       "  <thead>\n",
       "    <tr style=\"text-align: right;\">\n",
       "      <th></th>\n",
       "      <th>class</th>\n",
       "      <th>petal_length</th>\n",
       "      <th>petal_width</th>\n",
       "      <th>sepal_length</th>\n",
       "      <th>sepal_width</th>\n",
       "    </tr>\n",
       "  </thead>\n",
       "  <tbody>\n",
       "    <tr>\n",
       "      <th>0</th>\n",
       "      <td>Iris-virginica</td>\n",
       "      <td>5.5</td>\n",
       "      <td>1.8</td>\n",
       "      <td>6.4</td>\n",
       "      <td>3.1</td>\n",
       "    </tr>\n",
       "    <tr>\n",
       "      <th>1</th>\n",
       "      <td>Iris-virginica</td>\n",
       "      <td>5.9</td>\n",
       "      <td>2.3</td>\n",
       "      <td>6.8</td>\n",
       "      <td>3.2</td>\n",
       "    </tr>\n",
       "    <tr>\n",
       "      <th>2</th>\n",
       "      <td>Iris-virginica</td>\n",
       "      <td>5.4</td>\n",
       "      <td>2.3</td>\n",
       "      <td>6.2</td>\n",
       "      <td>3.4</td>\n",
       "    </tr>\n",
       "    <tr>\n",
       "      <th>3</th>\n",
       "      <td>Iris-virginica</td>\n",
       "      <td>4.8</td>\n",
       "      <td>1.8</td>\n",
       "      <td>6.0</td>\n",
       "      <td>3.0</td>\n",
       "    </tr>\n",
       "    <tr>\n",
       "      <th>4</th>\n",
       "      <td>Iris-virginica</td>\n",
       "      <td>5.1</td>\n",
       "      <td>2.3</td>\n",
       "      <td>6.9</td>\n",
       "      <td>3.1</td>\n",
       "    </tr>\n",
       "    <tr>\n",
       "      <th>...</th>\n",
       "      <td>...</td>\n",
       "      <td>...</td>\n",
       "      <td>...</td>\n",
       "      <td>...</td>\n",
       "      <td>...</td>\n",
       "    </tr>\n",
       "    <tr>\n",
       "      <th>100</th>\n",
       "      <td>Iris-setosa</td>\n",
       "      <td>1.5</td>\n",
       "      <td>0.2</td>\n",
       "      <td>5.0</td>\n",
       "      <td>3.4</td>\n",
       "    </tr>\n",
       "    <tr>\n",
       "      <th>101</th>\n",
       "      <td>Iris-setosa</td>\n",
       "      <td>1.7</td>\n",
       "      <td>0.3</td>\n",
       "      <td>5.7</td>\n",
       "      <td>3.8</td>\n",
       "    </tr>\n",
       "    <tr>\n",
       "      <th>102</th>\n",
       "      <td>Iris-setosa</td>\n",
       "      <td>1.3</td>\n",
       "      <td>0.4</td>\n",
       "      <td>5.4</td>\n",
       "      <td>3.9</td>\n",
       "    </tr>\n",
       "    <tr>\n",
       "      <th>103</th>\n",
       "      <td>Iris-setosa</td>\n",
       "      <td>1.9</td>\n",
       "      <td>0.4</td>\n",
       "      <td>5.1</td>\n",
       "      <td>3.8</td>\n",
       "    </tr>\n",
       "    <tr>\n",
       "      <th>104</th>\n",
       "      <td>Iris-setosa</td>\n",
       "      <td>1.6</td>\n",
       "      <td>0.2</td>\n",
       "      <td>5.0</td>\n",
       "      <td>3.0</td>\n",
       "    </tr>\n",
       "  </tbody>\n",
       "</table>\n",
       "<p>105 rows × 5 columns</p>\n",
       "</div>"
      ],
      "text/plain": [
       "              class  petal_length  petal_width  sepal_length  sepal_width\n",
       "0    Iris-virginica           5.5          1.8           6.4          3.1\n",
       "1    Iris-virginica           5.9          2.3           6.8          3.2\n",
       "2    Iris-virginica           5.4          2.3           6.2          3.4\n",
       "3    Iris-virginica           4.8          1.8           6.0          3.0\n",
       "4    Iris-virginica           5.1          2.3           6.9          3.1\n",
       "..              ...           ...          ...           ...          ...\n",
       "100     Iris-setosa           1.5          0.2           5.0          3.4\n",
       "101     Iris-setosa           1.7          0.3           5.7          3.8\n",
       "102     Iris-setosa           1.3          0.4           5.4          3.9\n",
       "103     Iris-setosa           1.9          0.4           5.1          3.8\n",
       "104     Iris-setosa           1.6          0.2           5.0          3.0\n",
       "\n",
       "[105 rows x 5 columns]"
      ]
     },
     "execution_count": 47,
     "metadata": {},
     "output_type": "execute_result"
    }
   ],
   "source": [
    "dataset"
   ]
  },
  {
   "cell_type": "code",
   "execution_count": 48,
   "id": "jewish-charm",
   "metadata": {},
   "outputs": [
    {
     "data": {
      "text/html": [
       "<div>\n",
       "<style scoped>\n",
       "    .dataframe tbody tr th:only-of-type {\n",
       "        vertical-align: middle;\n",
       "    }\n",
       "\n",
       "    .dataframe tbody tr th {\n",
       "        vertical-align: top;\n",
       "    }\n",
       "\n",
       "    .dataframe thead th {\n",
       "        text-align: right;\n",
       "    }\n",
       "</style>\n",
       "<table border=\"1\" class=\"dataframe\">\n",
       "  <thead>\n",
       "    <tr style=\"text-align: right;\">\n",
       "      <th></th>\n",
       "      <th>petal_length</th>\n",
       "      <th>petal_width</th>\n",
       "      <th>sepal_length</th>\n",
       "      <th>sepal_width</th>\n",
       "    </tr>\n",
       "    <tr>\n",
       "      <th>class</th>\n",
       "      <th></th>\n",
       "      <th></th>\n",
       "      <th></th>\n",
       "      <th></th>\n",
       "    </tr>\n",
       "  </thead>\n",
       "  <tbody>\n",
       "    <tr>\n",
       "      <th>Iris-setosa</th>\n",
       "      <td>35</td>\n",
       "      <td>35</td>\n",
       "      <td>35</td>\n",
       "      <td>35</td>\n",
       "    </tr>\n",
       "    <tr>\n",
       "      <th>Iris-versicolor</th>\n",
       "      <td>35</td>\n",
       "      <td>35</td>\n",
       "      <td>35</td>\n",
       "      <td>35</td>\n",
       "    </tr>\n",
       "    <tr>\n",
       "      <th>Iris-virginica</th>\n",
       "      <td>35</td>\n",
       "      <td>35</td>\n",
       "      <td>35</td>\n",
       "      <td>35</td>\n",
       "    </tr>\n",
       "  </tbody>\n",
       "</table>\n",
       "</div>"
      ],
      "text/plain": [
       "                 petal_length  petal_width  sepal_length  sepal_width\n",
       "class                                                                \n",
       "Iris-setosa                35           35            35           35\n",
       "Iris-versicolor            35           35            35           35\n",
       "Iris-virginica             35           35            35           35"
      ]
     },
     "execution_count": 48,
     "metadata": {},
     "output_type": "execute_result"
    }
   ],
   "source": [
    "dataset.groupby('class').count()"
   ]
  },
  {
   "cell_type": "code",
   "execution_count": 49,
   "id": "linear-collector",
   "metadata": {},
   "outputs": [],
   "source": [
    "model = KMeans(n_clusters=3)"
   ]
  },
  {
   "cell_type": "code",
   "execution_count": 50,
   "id": "gothic-shipping",
   "metadata": {},
   "outputs": [
    {
     "data": {
      "text/html": [
       "<div>\n",
       "<style scoped>\n",
       "    .dataframe tbody tr th:only-of-type {\n",
       "        vertical-align: middle;\n",
       "    }\n",
       "\n",
       "    .dataframe tbody tr th {\n",
       "        vertical-align: top;\n",
       "    }\n",
       "\n",
       "    .dataframe thead th {\n",
       "        text-align: right;\n",
       "    }\n",
       "</style>\n",
       "<table border=\"1\" class=\"dataframe\">\n",
       "  <thead>\n",
       "    <tr style=\"text-align: right;\">\n",
       "      <th></th>\n",
       "      <th>petal_length</th>\n",
       "      <th>petal_width</th>\n",
       "      <th>sepal_length</th>\n",
       "      <th>sepal_width</th>\n",
       "    </tr>\n",
       "  </thead>\n",
       "  <tbody>\n",
       "    <tr>\n",
       "      <th>0</th>\n",
       "      <td>5.5</td>\n",
       "      <td>1.8</td>\n",
       "      <td>6.4</td>\n",
       "      <td>3.1</td>\n",
       "    </tr>\n",
       "    <tr>\n",
       "      <th>1</th>\n",
       "      <td>5.9</td>\n",
       "      <td>2.3</td>\n",
       "      <td>6.8</td>\n",
       "      <td>3.2</td>\n",
       "    </tr>\n",
       "    <tr>\n",
       "      <th>2</th>\n",
       "      <td>5.4</td>\n",
       "      <td>2.3</td>\n",
       "      <td>6.2</td>\n",
       "      <td>3.4</td>\n",
       "    </tr>\n",
       "    <tr>\n",
       "      <th>3</th>\n",
       "      <td>4.8</td>\n",
       "      <td>1.8</td>\n",
       "      <td>6.0</td>\n",
       "      <td>3.0</td>\n",
       "    </tr>\n",
       "    <tr>\n",
       "      <th>4</th>\n",
       "      <td>5.1</td>\n",
       "      <td>2.3</td>\n",
       "      <td>6.9</td>\n",
       "      <td>3.1</td>\n",
       "    </tr>\n",
       "  </tbody>\n",
       "</table>\n",
       "</div>"
      ],
      "text/plain": [
       "   petal_length  petal_width  sepal_length  sepal_width\n",
       "0           5.5          1.8           6.4          3.1\n",
       "1           5.9          2.3           6.8          3.2\n",
       "2           5.4          2.3           6.2          3.4\n",
       "3           4.8          1.8           6.0          3.0\n",
       "4           5.1          2.3           6.9          3.1"
      ]
     },
     "execution_count": 50,
     "metadata": {},
     "output_type": "execute_result"
    }
   ],
   "source": [
    "X = dataset.loc[:,\"petal_length\":\"sepal_width\"]\n",
    "X.head()"
   ]
  },
  {
   "cell_type": "code",
   "execution_count": 51,
   "id": "driven-building",
   "metadata": {},
   "outputs": [
    {
     "data": {
      "text/plain": [
       "KMeans(n_clusters=3)"
      ]
     },
     "execution_count": 51,
     "metadata": {},
     "output_type": "execute_result"
    }
   ],
   "source": [
    "model.fit(X)"
   ]
  },
  {
   "cell_type": "code",
   "execution_count": 52,
   "id": "patent-final",
   "metadata": {},
   "outputs": [],
   "source": [
    "dataset[\"Prediction\"] = model.labels_"
   ]
  },
  {
   "cell_type": "code",
   "execution_count": 54,
   "id": "overhead-lithuania",
   "metadata": {},
   "outputs": [
    {
     "data": {
      "text/html": [
       "<div>\n",
       "<style scoped>\n",
       "    .dataframe tbody tr th:only-of-type {\n",
       "        vertical-align: middle;\n",
       "    }\n",
       "\n",
       "    .dataframe tbody tr th {\n",
       "        vertical-align: top;\n",
       "    }\n",
       "\n",
       "    .dataframe thead th {\n",
       "        text-align: right;\n",
       "    }\n",
       "</style>\n",
       "<table border=\"1\" class=\"dataframe\">\n",
       "  <thead>\n",
       "    <tr style=\"text-align: right;\">\n",
       "      <th></th>\n",
       "      <th>class</th>\n",
       "      <th>petal_length</th>\n",
       "      <th>petal_width</th>\n",
       "      <th>sepal_length</th>\n",
       "      <th>sepal_width</th>\n",
       "    </tr>\n",
       "    <tr>\n",
       "      <th>Prediction</th>\n",
       "      <th></th>\n",
       "      <th></th>\n",
       "      <th></th>\n",
       "      <th></th>\n",
       "      <th></th>\n",
       "    </tr>\n",
       "  </thead>\n",
       "  <tbody>\n",
       "    <tr>\n",
       "      <th>0</th>\n",
       "      <td>38</td>\n",
       "      <td>38</td>\n",
       "      <td>38</td>\n",
       "      <td>38</td>\n",
       "      <td>38</td>\n",
       "    </tr>\n",
       "    <tr>\n",
       "      <th>1</th>\n",
       "      <td>32</td>\n",
       "      <td>32</td>\n",
       "      <td>32</td>\n",
       "      <td>32</td>\n",
       "      <td>32</td>\n",
       "    </tr>\n",
       "    <tr>\n",
       "      <th>2</th>\n",
       "      <td>35</td>\n",
       "      <td>35</td>\n",
       "      <td>35</td>\n",
       "      <td>35</td>\n",
       "      <td>35</td>\n",
       "    </tr>\n",
       "  </tbody>\n",
       "</table>\n",
       "</div>"
      ],
      "text/plain": [
       "            class  petal_length  petal_width  sepal_length  sepal_width\n",
       "Prediction                                                             \n",
       "0              38            38           38            38           38\n",
       "1              32            32           32            32           32\n",
       "2              35            35           35            35           35"
      ]
     },
     "execution_count": 54,
     "metadata": {},
     "output_type": "execute_result"
    }
   ],
   "source": [
    "dataset.groupby(\"Prediction\").count()"
   ]
  },
  {
   "cell_type": "code",
   "execution_count": 57,
   "id": "european-flight",
   "metadata": {},
   "outputs": [
    {
     "data": {
      "text/html": [
       "<div>\n",
       "<style scoped>\n",
       "    .dataframe tbody tr th:only-of-type {\n",
       "        vertical-align: middle;\n",
       "    }\n",
       "\n",
       "    .dataframe tbody tr th {\n",
       "        vertical-align: top;\n",
       "    }\n",
       "\n",
       "    .dataframe thead th {\n",
       "        text-align: right;\n",
       "    }\n",
       "</style>\n",
       "<table border=\"1\" class=\"dataframe\">\n",
       "  <thead>\n",
       "    <tr style=\"text-align: right;\">\n",
       "      <th></th>\n",
       "      <th>class</th>\n",
       "      <th>petal_length</th>\n",
       "      <th>petal_width</th>\n",
       "      <th>sepal_length</th>\n",
       "      <th>sepal_width</th>\n",
       "      <th>Prediction</th>\n",
       "    </tr>\n",
       "  </thead>\n",
       "  <tbody>\n",
       "    <tr>\n",
       "      <th>35</th>\n",
       "      <td>Iris-versicolor</td>\n",
       "      <td>4.8</td>\n",
       "      <td>1.8</td>\n",
       "      <td>5.9</td>\n",
       "      <td>3.2</td>\n",
       "      <td>0</td>\n",
       "    </tr>\n",
       "    <tr>\n",
       "      <th>36</th>\n",
       "      <td>Iris-versicolor</td>\n",
       "      <td>4.1</td>\n",
       "      <td>1.3</td>\n",
       "      <td>5.7</td>\n",
       "      <td>2.8</td>\n",
       "      <td>0</td>\n",
       "    </tr>\n",
       "    <tr>\n",
       "      <th>37</th>\n",
       "      <td>Iris-versicolor</td>\n",
       "      <td>4.0</td>\n",
       "      <td>1.3</td>\n",
       "      <td>6.1</td>\n",
       "      <td>2.8</td>\n",
       "      <td>0</td>\n",
       "    </tr>\n",
       "    <tr>\n",
       "      <th>38</th>\n",
       "      <td>Iris-versicolor</td>\n",
       "      <td>3.6</td>\n",
       "      <td>1.3</td>\n",
       "      <td>5.6</td>\n",
       "      <td>2.9</td>\n",
       "      <td>0</td>\n",
       "    </tr>\n",
       "    <tr>\n",
       "      <th>39</th>\n",
       "      <td>Iris-versicolor</td>\n",
       "      <td>3.9</td>\n",
       "      <td>1.1</td>\n",
       "      <td>5.6</td>\n",
       "      <td>2.5</td>\n",
       "      <td>0</td>\n",
       "    </tr>\n",
       "    <tr>\n",
       "      <th>40</th>\n",
       "      <td>Iris-versicolor</td>\n",
       "      <td>4.1</td>\n",
       "      <td>1.0</td>\n",
       "      <td>5.8</td>\n",
       "      <td>2.7</td>\n",
       "      <td>0</td>\n",
       "    </tr>\n",
       "    <tr>\n",
       "      <th>41</th>\n",
       "      <td>Iris-versicolor</td>\n",
       "      <td>4.9</td>\n",
       "      <td>1.5</td>\n",
       "      <td>6.3</td>\n",
       "      <td>2.5</td>\n",
       "      <td>0</td>\n",
       "    </tr>\n",
       "    <tr>\n",
       "      <th>42</th>\n",
       "      <td>Iris-versicolor</td>\n",
       "      <td>3.5</td>\n",
       "      <td>1.0</td>\n",
       "      <td>5.0</td>\n",
       "      <td>2.0</td>\n",
       "      <td>0</td>\n",
       "    </tr>\n",
       "    <tr>\n",
       "      <th>43</th>\n",
       "      <td>Iris-versicolor</td>\n",
       "      <td>4.4</td>\n",
       "      <td>1.4</td>\n",
       "      <td>6.6</td>\n",
       "      <td>3.0</td>\n",
       "      <td>0</td>\n",
       "    </tr>\n",
       "    <tr>\n",
       "      <th>44</th>\n",
       "      <td>Iris-versicolor</td>\n",
       "      <td>4.7</td>\n",
       "      <td>1.4</td>\n",
       "      <td>6.1</td>\n",
       "      <td>2.9</td>\n",
       "      <td>0</td>\n",
       "    </tr>\n",
       "    <tr>\n",
       "      <th>45</th>\n",
       "      <td>Iris-versicolor</td>\n",
       "      <td>4.0</td>\n",
       "      <td>1.0</td>\n",
       "      <td>6.0</td>\n",
       "      <td>2.2</td>\n",
       "      <td>0</td>\n",
       "    </tr>\n",
       "    <tr>\n",
       "      <th>46</th>\n",
       "      <td>Iris-versicolor</td>\n",
       "      <td>4.5</td>\n",
       "      <td>1.5</td>\n",
       "      <td>6.4</td>\n",
       "      <td>3.2</td>\n",
       "      <td>0</td>\n",
       "    </tr>\n",
       "    <tr>\n",
       "      <th>47</th>\n",
       "      <td>Iris-versicolor</td>\n",
       "      <td>4.4</td>\n",
       "      <td>1.2</td>\n",
       "      <td>5.5</td>\n",
       "      <td>2.6</td>\n",
       "      <td>0</td>\n",
       "    </tr>\n",
       "    <tr>\n",
       "      <th>48</th>\n",
       "      <td>Iris-versicolor</td>\n",
       "      <td>3.5</td>\n",
       "      <td>1.0</td>\n",
       "      <td>5.7</td>\n",
       "      <td>2.6</td>\n",
       "      <td>0</td>\n",
       "    </tr>\n",
       "    <tr>\n",
       "      <th>49</th>\n",
       "      <td>Iris-versicolor</td>\n",
       "      <td>4.7</td>\n",
       "      <td>1.6</td>\n",
       "      <td>6.3</td>\n",
       "      <td>3.3</td>\n",
       "      <td>0</td>\n",
       "    </tr>\n",
       "    <tr>\n",
       "      <th>50</th>\n",
       "      <td>Iris-versicolor</td>\n",
       "      <td>4.8</td>\n",
       "      <td>1.4</td>\n",
       "      <td>6.8</td>\n",
       "      <td>2.8</td>\n",
       "      <td>1</td>\n",
       "    </tr>\n",
       "    <tr>\n",
       "      <th>51</th>\n",
       "      <td>Iris-versicolor</td>\n",
       "      <td>4.5</td>\n",
       "      <td>1.5</td>\n",
       "      <td>6.2</td>\n",
       "      <td>2.2</td>\n",
       "      <td>0</td>\n",
       "    </tr>\n",
       "    <tr>\n",
       "      <th>52</th>\n",
       "      <td>Iris-versicolor</td>\n",
       "      <td>4.2</td>\n",
       "      <td>1.2</td>\n",
       "      <td>5.7</td>\n",
       "      <td>3.0</td>\n",
       "      <td>0</td>\n",
       "    </tr>\n",
       "    <tr>\n",
       "      <th>53</th>\n",
       "      <td>Iris-versicolor</td>\n",
       "      <td>3.0</td>\n",
       "      <td>1.1</td>\n",
       "      <td>5.1</td>\n",
       "      <td>2.5</td>\n",
       "      <td>0</td>\n",
       "    </tr>\n",
       "    <tr>\n",
       "      <th>54</th>\n",
       "      <td>Iris-versicolor</td>\n",
       "      <td>3.7</td>\n",
       "      <td>1.0</td>\n",
       "      <td>5.5</td>\n",
       "      <td>2.4</td>\n",
       "      <td>0</td>\n",
       "    </tr>\n",
       "    <tr>\n",
       "      <th>55</th>\n",
       "      <td>Iris-versicolor</td>\n",
       "      <td>4.4</td>\n",
       "      <td>1.4</td>\n",
       "      <td>6.7</td>\n",
       "      <td>3.1</td>\n",
       "      <td>0</td>\n",
       "    </tr>\n",
       "    <tr>\n",
       "      <th>56</th>\n",
       "      <td>Iris-versicolor</td>\n",
       "      <td>4.2</td>\n",
       "      <td>1.3</td>\n",
       "      <td>5.7</td>\n",
       "      <td>2.9</td>\n",
       "      <td>0</td>\n",
       "    </tr>\n",
       "    <tr>\n",
       "      <th>57</th>\n",
       "      <td>Iris-versicolor</td>\n",
       "      <td>4.2</td>\n",
       "      <td>1.3</td>\n",
       "      <td>5.6</td>\n",
       "      <td>2.7</td>\n",
       "      <td>0</td>\n",
       "    </tr>\n",
       "    <tr>\n",
       "      <th>58</th>\n",
       "      <td>Iris-versicolor</td>\n",
       "      <td>5.0</td>\n",
       "      <td>1.7</td>\n",
       "      <td>6.7</td>\n",
       "      <td>3.0</td>\n",
       "      <td>1</td>\n",
       "    </tr>\n",
       "    <tr>\n",
       "      <th>59</th>\n",
       "      <td>Iris-versicolor</td>\n",
       "      <td>3.8</td>\n",
       "      <td>1.1</td>\n",
       "      <td>5.5</td>\n",
       "      <td>2.4</td>\n",
       "      <td>0</td>\n",
       "    </tr>\n",
       "    <tr>\n",
       "      <th>60</th>\n",
       "      <td>Iris-versicolor</td>\n",
       "      <td>3.3</td>\n",
       "      <td>1.0</td>\n",
       "      <td>5.0</td>\n",
       "      <td>2.3</td>\n",
       "      <td>0</td>\n",
       "    </tr>\n",
       "    <tr>\n",
       "      <th>61</th>\n",
       "      <td>Iris-versicolor</td>\n",
       "      <td>4.1</td>\n",
       "      <td>1.3</td>\n",
       "      <td>5.6</td>\n",
       "      <td>3.0</td>\n",
       "      <td>0</td>\n",
       "    </tr>\n",
       "    <tr>\n",
       "      <th>62</th>\n",
       "      <td>Iris-versicolor</td>\n",
       "      <td>4.5</td>\n",
       "      <td>1.6</td>\n",
       "      <td>6.0</td>\n",
       "      <td>3.4</td>\n",
       "      <td>0</td>\n",
       "    </tr>\n",
       "    <tr>\n",
       "      <th>63</th>\n",
       "      <td>Iris-versicolor</td>\n",
       "      <td>4.5</td>\n",
       "      <td>1.5</td>\n",
       "      <td>5.4</td>\n",
       "      <td>3.0</td>\n",
       "      <td>0</td>\n",
       "    </tr>\n",
       "    <tr>\n",
       "      <th>64</th>\n",
       "      <td>Iris-versicolor</td>\n",
       "      <td>4.6</td>\n",
       "      <td>1.5</td>\n",
       "      <td>6.5</td>\n",
       "      <td>2.8</td>\n",
       "      <td>0</td>\n",
       "    </tr>\n",
       "    <tr>\n",
       "      <th>65</th>\n",
       "      <td>Iris-versicolor</td>\n",
       "      <td>4.9</td>\n",
       "      <td>1.5</td>\n",
       "      <td>6.9</td>\n",
       "      <td>3.1</td>\n",
       "      <td>1</td>\n",
       "    </tr>\n",
       "    <tr>\n",
       "      <th>66</th>\n",
       "      <td>Iris-versicolor</td>\n",
       "      <td>3.3</td>\n",
       "      <td>1.0</td>\n",
       "      <td>4.9</td>\n",
       "      <td>2.4</td>\n",
       "      <td>0</td>\n",
       "    </tr>\n",
       "    <tr>\n",
       "      <th>67</th>\n",
       "      <td>Iris-versicolor</td>\n",
       "      <td>4.5</td>\n",
       "      <td>1.5</td>\n",
       "      <td>6.0</td>\n",
       "      <td>2.9</td>\n",
       "      <td>0</td>\n",
       "    </tr>\n",
       "    <tr>\n",
       "      <th>68</th>\n",
       "      <td>Iris-versicolor</td>\n",
       "      <td>5.1</td>\n",
       "      <td>1.6</td>\n",
       "      <td>6.0</td>\n",
       "      <td>2.7</td>\n",
       "      <td>0</td>\n",
       "    </tr>\n",
       "    <tr>\n",
       "      <th>69</th>\n",
       "      <td>Iris-versicolor</td>\n",
       "      <td>4.7</td>\n",
       "      <td>1.4</td>\n",
       "      <td>7.0</td>\n",
       "      <td>3.2</td>\n",
       "      <td>1</td>\n",
       "    </tr>\n",
       "  </tbody>\n",
       "</table>\n",
       "</div>"
      ],
      "text/plain": [
       "              class  petal_length  petal_width  sepal_length  sepal_width  \\\n",
       "35  Iris-versicolor           4.8          1.8           5.9          3.2   \n",
       "36  Iris-versicolor           4.1          1.3           5.7          2.8   \n",
       "37  Iris-versicolor           4.0          1.3           6.1          2.8   \n",
       "38  Iris-versicolor           3.6          1.3           5.6          2.9   \n",
       "39  Iris-versicolor           3.9          1.1           5.6          2.5   \n",
       "40  Iris-versicolor           4.1          1.0           5.8          2.7   \n",
       "41  Iris-versicolor           4.9          1.5           6.3          2.5   \n",
       "42  Iris-versicolor           3.5          1.0           5.0          2.0   \n",
       "43  Iris-versicolor           4.4          1.4           6.6          3.0   \n",
       "44  Iris-versicolor           4.7          1.4           6.1          2.9   \n",
       "45  Iris-versicolor           4.0          1.0           6.0          2.2   \n",
       "46  Iris-versicolor           4.5          1.5           6.4          3.2   \n",
       "47  Iris-versicolor           4.4          1.2           5.5          2.6   \n",
       "48  Iris-versicolor           3.5          1.0           5.7          2.6   \n",
       "49  Iris-versicolor           4.7          1.6           6.3          3.3   \n",
       "50  Iris-versicolor           4.8          1.4           6.8          2.8   \n",
       "51  Iris-versicolor           4.5          1.5           6.2          2.2   \n",
       "52  Iris-versicolor           4.2          1.2           5.7          3.0   \n",
       "53  Iris-versicolor           3.0          1.1           5.1          2.5   \n",
       "54  Iris-versicolor           3.7          1.0           5.5          2.4   \n",
       "55  Iris-versicolor           4.4          1.4           6.7          3.1   \n",
       "56  Iris-versicolor           4.2          1.3           5.7          2.9   \n",
       "57  Iris-versicolor           4.2          1.3           5.6          2.7   \n",
       "58  Iris-versicolor           5.0          1.7           6.7          3.0   \n",
       "59  Iris-versicolor           3.8          1.1           5.5          2.4   \n",
       "60  Iris-versicolor           3.3          1.0           5.0          2.3   \n",
       "61  Iris-versicolor           4.1          1.3           5.6          3.0   \n",
       "62  Iris-versicolor           4.5          1.6           6.0          3.4   \n",
       "63  Iris-versicolor           4.5          1.5           5.4          3.0   \n",
       "64  Iris-versicolor           4.6          1.5           6.5          2.8   \n",
       "65  Iris-versicolor           4.9          1.5           6.9          3.1   \n",
       "66  Iris-versicolor           3.3          1.0           4.9          2.4   \n",
       "67  Iris-versicolor           4.5          1.5           6.0          2.9   \n",
       "68  Iris-versicolor           5.1          1.6           6.0          2.7   \n",
       "69  Iris-versicolor           4.7          1.4           7.0          3.2   \n",
       "\n",
       "    Prediction  \n",
       "35           0  \n",
       "36           0  \n",
       "37           0  \n",
       "38           0  \n",
       "39           0  \n",
       "40           0  \n",
       "41           0  \n",
       "42           0  \n",
       "43           0  \n",
       "44           0  \n",
       "45           0  \n",
       "46           0  \n",
       "47           0  \n",
       "48           0  \n",
       "49           0  \n",
       "50           1  \n",
       "51           0  \n",
       "52           0  \n",
       "53           0  \n",
       "54           0  \n",
       "55           0  \n",
       "56           0  \n",
       "57           0  \n",
       "58           1  \n",
       "59           0  \n",
       "60           0  \n",
       "61           0  \n",
       "62           0  \n",
       "63           0  \n",
       "64           0  \n",
       "65           1  \n",
       "66           0  \n",
       "67           0  \n",
       "68           0  \n",
       "69           1  "
      ]
     },
     "execution_count": 57,
     "metadata": {},
     "output_type": "execute_result"
    }
   ],
   "source": [
    "dataset[dataset['class']==\"Iris-versicolor\"]"
   ]
  },
  {
   "cell_type": "code",
   "execution_count": 59,
   "id": "medical-muslim",
   "metadata": {},
   "outputs": [
    {
     "data": {
      "text/plain": [
       "0.3142857142857143"
      ]
     },
     "execution_count": 59,
     "metadata": {},
     "output_type": "execute_result"
    }
   ],
   "source": [
    "(7/35)+(4/35)+(0/35)"
   ]
  },
  {
   "cell_type": "markdown",
   "id": "minimal-secretariat",
   "metadata": {},
   "source": [
    "#### Hierarchical clustering"
   ]
  },
  {
   "cell_type": "markdown",
   "id": "visible-craft",
   "metadata": {},
   "source": [
    "<img src=\"https://images.datacamp.com/image/upload/v1674149819/Dendrogram_of_Agglomerative_Clustering_Approach_4eba3586ec.png\" />"
   ]
  },
  {
   "cell_type": "code",
   "execution_count": 2,
   "id": "noted-organization",
   "metadata": {},
   "outputs": [],
   "source": [
    "import numpy as np\n",
    "import matplotlib.pyplot as plt\n",
    "from scipy.cluster.hierarchy import dendrogram, linkage"
   ]
  },
  {
   "cell_type": "code",
   "execution_count": 4,
   "id": "comprehensive-flight",
   "metadata": {},
   "outputs": [],
   "source": [
    "X = [(3,2),\n",
    "(27,2),\n",
    "(20,8),\n",
    "(25,1),\n",
    "(12,4),\n",
    "(21,6),\n",
    "(18,6),\n",
    "(14,5),\n",
    "(16,5),\n",
    "(24,4),\n",
    "(21,4),\n",
    "(26,3),\n",
    "(3,5),\n",
    "(14,8),\n",
    "(1,10)]\n",
    "X = np.array(X)"
   ]
  },
  {
   "cell_type": "code",
   "execution_count": 5,
   "id": "incredible-standing",
   "metadata": {},
   "outputs": [
    {
     "data": {
      "image/png": "[encoded data removed]",
      "text/plain": [
       "<Figure size 432x288 with 1 Axes>"
      ]
     },
     "metadata": {
      "needs_background": "light"
     },
     "output_type": "display_data"
    }
   ],
   "source": [
    "plt.scatter(X[:,0], X[:,1])\n",
    "plt.show()"
   ]
  },
  {
   "cell_type": "code",
   "execution_count": 7,
   "id": "affiliated-handbook",
   "metadata": {},
   "outputs": [],
   "source": [
    "matrix = linkage(X, 'single')"
   ]
  },
  {
   "cell_type": "code",
   "execution_count": 8,
   "id": "going-vietnamese",
   "metadata": {},
   "outputs": [
    {
     "data": {
      "text/plain": [
       "array([[ 1.        , 11.        ,  1.41421356,  2.        ],\n",
       "       [ 7.        ,  8.        ,  2.        ,  2.        ],\n",
       "       [ 5.        , 10.        ,  2.        ,  2.        ],\n",
       "       [ 4.        , 16.        ,  2.23606798,  3.        ],\n",
       "       [ 6.        , 18.        ,  2.23606798,  4.        ],\n",
       "       [ 2.        , 17.        ,  2.23606798,  3.        ],\n",
       "       [ 9.        , 15.        ,  2.23606798,  3.        ],\n",
       "       [ 3.        , 21.        ,  2.23606798,  4.        ],\n",
       "       [19.        , 20.        ,  2.82842712,  7.        ],\n",
       "       [ 0.        , 12.        ,  3.        ,  2.        ],\n",
       "       [22.        , 23.        ,  3.        , 11.        ],\n",
       "       [13.        , 25.        ,  3.        , 12.        ],\n",
       "       [14.        , 24.        ,  5.38516481,  3.        ],\n",
       "       [26.        , 27.        ,  9.05538514, 15.        ]])"
      ]
     },
     "execution_count": 8,
     "metadata": {},
     "output_type": "execute_result"
    }
   ],
   "source": [
    "matrix"
   ]
  },
  {
   "cell_type": "code",
   "execution_count": null,
   "id": "disturbed-appendix",
   "metadata": {},
   "outputs": [],
   "source": [
    "1,4,11 --> (27,2)(12,4),(26,3),"
   ]
  },
  {
   "cell_type": "code",
   "execution_count": 9,
   "id": "entitled-idaho",
   "metadata": {},
   "outputs": [
    {
     "data": {
      "image/png": "[encoded data removed]",
      "text/plain": [
       "<Figure size 432x288 with 1 Axes>"
      ]
     },
     "metadata": {
      "needs_background": "light"
     },
     "output_type": "display_data"
    }
   ],
   "source": [
    "dendrogram(matrix,truncate_mode=None)\n",
    "plt.show()"
   ]
  },
  {
   "cell_type": "code",
   "execution_count": 15,
   "id": "forward-nicaragua",
   "metadata": {},
   "outputs": [
    {
     "data": {
      "image/png": "[encoded data removed]",
      "text/plain": [
       "<Figure size 432x288 with 1 Axes>"
      ]
     },
     "metadata": {
      "needs_background": "light"
     },
     "output_type": "display_data"
    }
   ],
   "source": [
    "dendrogram(matrix,truncate_mode='lastp', p=4)\n",
    "plt.show()"
   ]
  },
  {
   "cell_type": "code",
   "execution_count": 16,
   "id": "flexible-bundle",
   "metadata": {},
   "outputs": [],
   "source": [
    "import cv2"
   ]
  },
  {
   "cell_type": "code",
   "execution_count": 26,
   "id": "acknowledged-hybrid",
   "metadata": {},
   "outputs": [],
   "source": [
    "img = cv2.imread(\"./cat.jpeg\",1)"
   ]
  },
  {
   "cell_type": "code",
   "execution_count": 27,
   "id": "unknown-fabric",
   "metadata": {},
   "outputs": [
    {
     "data": {
      "image/png": "[encoded data removed]",
      "text/plain": [
       "<Figure size 432x288 with 1 Axes>"
      ]
     },
     "metadata": {
      "needs_background": "light"
     },
     "output_type": "display_data"
    }
   ],
   "source": [
    "plt.imshow(img, cmap='gray')\n",
    "plt.show()"
   ]
  },
  {
   "cell_type": "code",
   "execution_count": 28,
   "id": "medical-spiritual",
   "metadata": {},
   "outputs": [
    {
     "data": {
      "text/plain": [
       "(183, 275, 3)"
      ]
     },
     "execution_count": 28,
     "metadata": {},
     "output_type": "execute_result"
    }
   ],
   "source": [
    "img.shape"
   ]
  },
  {
   "cell_type": "code",
   "execution_count": 32,
   "id": "coordinate-thesis",
   "metadata": {},
   "outputs": [
    {
     "data": {
      "text/plain": [
       "array([[ 42,  78,  72],\n",
       "       [ 45,  81,  75],\n",
       "       [ 53,  86,  82],\n",
       "       [ 61,  94,  90],\n",
       "       [ 72, 100, 100],\n",
       "       [ 80, 108, 108],\n",
       "       [ 88, 113, 115],\n",
       "       [ 91, 116, 118],\n",
       "       [ 88, 115, 119],\n",
       "       [ 83, 112, 116],\n",
       "       [ 77, 106, 111],\n",
       "       [ 66,  98, 103],\n",
       "       [ 57,  89,  95],\n",
       "       [ 47,  81,  87],\n",
       "       [ 39,  75,  83],\n",
       "       [ 35,  70,  80],\n",
       "       [ 26,  55,  69],\n",
       "       [ 25,  52,  66],\n",
       "       [ 21,  47,  61],\n",
       "       [ 22,  44,  55],\n",
       "       [ 27,  45,  52],\n",
       "       [ 35,  50,  53],\n",
       "       [ 43,  55,  57],\n",
       "       [ 50,  58,  57],\n",
       "       [ 62,  67,  66],\n",
       "       [ 71,  74,  72],\n",
       "       [ 85,  83,  82],\n",
       "       [ 90,  88,  87],\n",
       "       [ 92,  90,  89],\n",
       "       [ 96,  94,  93],\n",
       "       [102, 100, 100],\n",
       "       [106, 107, 105],\n",
       "       [100, 104,  98],\n",
       "       [103, 111, 101],\n",
       "       [104, 109, 100],\n",
       "       [ 98, 103,  94],\n",
       "       [100, 101,  92],\n",
       "       [103, 104,  95],\n",
       "       [103, 101,  93],\n",
       "       [ 97,  95,  87],\n",
       "       [103, 104,  95],\n",
       "       [ 94,  97,  88],\n",
       "       [ 87,  90,  81],\n",
       "       [ 80,  88,  78],\n",
       "       [ 79,  87,  77],\n",
       "       [ 74,  85,  75],\n",
       "       [ 69,  80,  70],\n",
       "       [ 62,  75,  67],\n",
       "       [ 58,  70,  64],\n",
       "       [ 56,  67,  64],\n",
       "       [ 55,  64,  61],\n",
       "       [ 53,  62,  59],\n",
       "       [ 51,  61,  55],\n",
       "       [ 51,  61,  55],\n",
       "       [ 55,  61,  56],\n",
       "       [ 55,  61,  56],\n",
       "       [ 70,  74,  68],\n",
       "       [ 72,  76,  70],\n",
       "       [ 77,  79,  73],\n",
       "       [ 82,  84,  78],\n",
       "       [ 92,  93,  84],\n",
       "       [101, 102,  93],\n",
       "       [108, 109, 100],\n",
       "       [115, 114, 104],\n",
       "       [112, 105,  96],\n",
       "       [113, 104,  94],\n",
       "       [109, 102,  93],\n",
       "       [105, 100,  91],\n",
       "       [102,  96,  91],\n",
       "       [ 96,  93,  89],\n",
       "       [ 92,  90,  89],\n",
       "       [ 87,  89,  89],\n",
       "       [ 84,  85,  89],\n",
       "       [ 83,  87,  92],\n",
       "       [ 85,  91,  98],\n",
       "       [ 87,  96, 105],\n",
       "       [ 93, 101, 114],\n",
       "       [ 97, 106, 119],\n",
       "       [ 99, 110, 124],\n",
       "       [100, 113, 127],\n",
       "       [116, 130, 142],\n",
       "       [114, 130, 142],\n",
       "       [114, 130, 142],\n",
       "       [115, 131, 143],\n",
       "       [116, 132, 145],\n",
       "       [116, 132, 145],\n",
       "       [117, 132, 148],\n",
       "       [117, 132, 148],\n",
       "       [119, 133, 152],\n",
       "       [118, 132, 151],\n",
       "       [117, 130, 152],\n",
       "       [115, 128, 150],\n",
       "       [112, 124, 148],\n",
       "       [110, 122, 146],\n",
       "       [109, 121, 145],\n",
       "       [108, 121, 143],\n",
       "       [100, 112, 130],\n",
       "       [101, 114, 130],\n",
       "       [103, 116, 132],\n",
       "       [106, 119, 135],\n",
       "       [108, 121, 137],\n",
       "       [111, 124, 140],\n",
       "       [113, 126, 142],\n",
       "       [114, 127, 143],\n",
       "       [123, 136, 152],\n",
       "       [125, 138, 154],\n",
       "       [128, 141, 157],\n",
       "       [132, 145, 161],\n",
       "       [137, 150, 166],\n",
       "       [141, 154, 170],\n",
       "       [144, 157, 173],\n",
       "       [146, 159, 175],\n",
       "       [163, 172, 186],\n",
       "       [164, 173, 187],\n",
       "       [164, 173, 187],\n",
       "       [166, 175, 189],\n",
       "       [167, 176, 190],\n",
       "       [168, 177, 191],\n",
       "       [169, 178, 192],\n",
       "       [169, 178, 192],\n",
       "       [173, 182, 196],\n",
       "       [173, 182, 196],\n",
       "       [174, 183, 197],\n",
       "       [174, 183, 197],\n",
       "       [174, 183, 197],\n",
       "       [175, 184, 198],\n",
       "       [175, 184, 198],\n",
       "       [175, 184, 198],\n",
       "       [177, 188, 202],\n",
       "       [177, 188, 202],\n",
       "       [176, 187, 201],\n",
       "       [176, 187, 201],\n",
       "       [177, 186, 199],\n",
       "       [177, 186, 199],\n",
       "       [177, 186, 199],\n",
       "       [177, 186, 199],\n",
       "       [170, 179, 189],\n",
       "       [163, 172, 182],\n",
       "       [156, 163, 172],\n",
       "       [147, 154, 163],\n",
       "       [139, 146, 155],\n",
       "       [127, 134, 143],\n",
       "       [112, 119, 128],\n",
       "       [104, 110, 117],\n",
       "       [ 91,  90,  94],\n",
       "       [ 91,  88,  90],\n",
       "       [ 88,  85,  87],\n",
       "       [ 85,  82,  84],\n",
       "       [ 84,  81,  83],\n",
       "       [ 84,  81,  83],\n",
       "       [ 86,  83,  85],\n",
       "       [ 87,  84,  86],\n",
       "       [ 86,  83,  85],\n",
       "       [ 86,  83,  85],\n",
       "       [ 85,  82,  84],\n",
       "       [ 85,  82,  84],\n",
       "       [ 85,  82,  84],\n",
       "       [ 84,  81,  83],\n",
       "       [ 84,  81,  83],\n",
       "       [ 84,  81,  83],\n",
       "       [ 85,  82,  84],\n",
       "       [ 86,  85,  87],\n",
       "       [ 93,  91,  97],\n",
       "       [100, 103, 108],\n",
       "       [112, 114, 124],\n",
       "       [122, 129, 138],\n",
       "       [132, 140, 153],\n",
       "       [138, 147, 160],\n",
       "       [155, 166, 180],\n",
       "       [158, 169, 183],\n",
       "       [163, 175, 187],\n",
       "       [168, 180, 192],\n",
       "       [173, 183, 193],\n",
       "       [175, 186, 194],\n",
       "       [175, 184, 193],\n",
       "       [175, 184, 193],\n",
       "       [174, 183, 196],\n",
       "       [174, 183, 197],\n",
       "       [173, 182, 196],\n",
       "       [172, 181, 195],\n",
       "       [172, 181, 195],\n",
       "       [171, 180, 194],\n",
       "       [170, 179, 193],\n",
       "       [170, 179, 193],\n",
       "       [166, 175, 189],\n",
       "       [165, 174, 188],\n",
       "       [163, 172, 186],\n",
       "       [161, 170, 184],\n",
       "       [158, 167, 181],\n",
       "       [156, 165, 179],\n",
       "       [154, 163, 177],\n",
       "       [153, 162, 176],\n",
       "       [146, 155, 168],\n",
       "       [145, 154, 167],\n",
       "       [141, 150, 164],\n",
       "       [136, 145, 159],\n",
       "       [126, 136, 154],\n",
       "       [117, 127, 145],\n",
       "       [107, 118, 140],\n",
       "       [100, 112, 136],\n",
       "       [ 86,  97, 124],\n",
       "       [ 80,  91, 121],\n",
       "       [ 70,  83, 115],\n",
       "       [ 62,  74, 108],\n",
       "       [ 56,  69, 107],\n",
       "       [ 56,  69, 107],\n",
       "       [ 58,  70, 110],\n",
       "       [ 59,  71, 111],\n",
       "       [ 60,  70, 110],\n",
       "       [ 60,  70, 110],\n",
       "       [ 60,  70, 110],\n",
       "       [ 60,  70, 110],\n",
       "       [ 60,  70, 110],\n",
       "       [ 60,  70, 110],\n",
       "       [ 60,  70, 110],\n",
       "       [ 60,  70, 110],\n",
       "       [ 61,  71, 111],\n",
       "       [ 61,  71, 111],\n",
       "       [ 60,  70, 110],\n",
       "       [ 60,  70, 110],\n",
       "       [ 60,  70, 110],\n",
       "       [ 59,  69, 109],\n",
       "       [ 59,  69, 109],\n",
       "       [ 61,  69, 109],\n",
       "       [ 59,  65, 108],\n",
       "       [ 59,  65, 108],\n",
       "       [ 59,  65, 108],\n",
       "       [ 56,  65, 108],\n",
       "       [ 54,  66, 106],\n",
       "       [ 50,  67, 106],\n",
       "       [ 50,  68, 105],\n",
       "       [ 50,  69, 104],\n",
       "       [ 49,  67,  98],\n",
       "       [ 56,  70,  98],\n",
       "       [ 74,  81, 106],\n",
       "       [ 99, 102, 123],\n",
       "       [130, 128, 147],\n",
       "       [159, 152, 167],\n",
       "       [176, 166, 179],\n",
       "       [186, 173, 181],\n",
       "       [196, 183, 181],\n",
       "       [197, 183, 177],\n",
       "       [198, 182, 176],\n",
       "       [190, 174, 168],\n",
       "       [174, 160, 154],\n",
       "       [164, 150, 144],\n",
       "       [145, 133, 129],\n",
       "       [120, 109, 105],\n",
       "       [105,  99,  94],\n",
       "       [ 87,  84,  79],\n",
       "       [ 69,  70,  66],\n",
       "       [ 57,  63,  58],\n",
       "       [ 46,  56,  50],\n",
       "       [ 35,  49,  43],\n",
       "       [ 35,  51,  44],\n",
       "       [ 43,  59,  52],\n",
       "       [ 47,  61,  55],\n",
       "       [ 49,  61,  55],\n",
       "       [ 47,  59,  53],\n",
       "       [ 44,  56,  50],\n",
       "       [ 38,  50,  44],\n",
       "       [ 29,  41,  35],\n",
       "       [ 19,  33,  27],\n",
       "       [ 15,  29,  23],\n",
       "       [ 17,  33,  26],\n",
       "       [ 17,  33,  26],\n",
       "       [ 17,  33,  26],\n",
       "       [ 16,  32,  25],\n",
       "       [ 14,  32,  25],\n",
       "       [ 13,  31,  24],\n",
       "       [ 13,  31,  24],\n",
       "       [ 13,  31,  24],\n",
       "       [ 10,  26,  19],\n",
       "       [ 10,  26,  19],\n",
       "       [ 10,  26,  19]], dtype=uint8)"
      ]
     },
     "execution_count": 32,
     "metadata": {},
     "output_type": "execute_result"
    }
   ],
   "source": [
    "img[0]"
   ]
  },
  {
   "cell_type": "markdown",
   "id": "proprietary-chinese",
   "metadata": {},
   "source": [
    "##### elbow method"
   ]
  },
  {
   "cell_type": "code",
   "execution_count": 34,
   "id": "expensive-mortality",
   "metadata": {},
   "outputs": [
    {
     "name": "stderr",
     "output_type": "stream",
     "text": [
      "/Library/Frameworks/Python.framework/Versions/3.6/lib/python3.6/site-packages/ipykernel_launcher.py:10: ConvergenceWarning: Number of distinct clusters (103) found smaller than n_clusters (104). Possibly due to duplicate points in X.\n",
      "  # Remove the CWD from sys.path while we load stuff.\n"
     ]
    }
   ],
   "source": [
    "import pandas as pd\n",
    "import matplotlib.pyplot as plt\n",
    "from sklearn.cluster import KMeans\n",
    "dataset = pd.read_csv(\"train.csv\")\n",
    "X = dataset.loc[:,\"petal_length\":\"sepal_width\"]\n",
    "cluster = []\n",
    "score = []\n",
    "for i in range(1, len(X)):\n",
    "    model = KMeans(n_clusters=i)\n",
    "    model.fit(X)\n",
    "    cluster.append(i)\n",
    "    score.append(model.inertia_)\n",
    "    \n",
    "plt.plot(cluster, score, \"rs-\")\n",
    "plt.show()"
   ]
  },
  {
   "cell_type": "code",
   "execution_count": 35,
   "id": "perceived-conservative",
   "metadata": {},
   "outputs": [
    {
     "data": {
      "image/png": "[encoded data removed]",
      "text/plain": [
       "<Figure size 432x288 with 1 Axes>"
      ]
     },
     "metadata": {
      "needs_background": "light"
     },
     "output_type": "display_data"
    }
   ],
   "source": [
    "plt.plot(cluster, score, \"rs-\")\n",
    "plt.show()"
   ]
  },
  {
   "cell_type": "markdown",
   "id": "dangerous-sacrifice",
   "metadata": {},
   "source": [
    "#### K-NN"
   ]
  },
  {
   "cell_type": "code",
   "execution_count": 42,
   "id": "seasonal-wallet",
   "metadata": {},
   "outputs": [
    {
     "name": "stdout",
     "output_type": "stream",
     "text": [
      "ID=1, predicted=8, true=8\n",
      "ID=2, predicted=8, true=8\n",
      "ID=3, predicted=8, true=8\n",
      "ID=4, predicted=9, true=9\n",
      "ID=5, predicted=9, true=9\n",
      "ID=6, predicted=1, true=1\n",
      "ID=7, predicted=4, true=4\n",
      "ID=8, predicted=7, true=7\n",
      "ID=9, predicted=9, true=9\n",
      "ID=10, predicted=9, true=9\n",
      "ID=11, predicted=9, true=9\n",
      "ID=12, predicted=0, true=0\n",
      "ID=13, predicted=2, true=2\n",
      "ID=14, predicted=0, true=0\n",
      "ID=15, predicted=5, true=5\n",
      "ID=16, predicted=9, true=9\n",
      "ID=17, predicted=3, true=3\n",
      "ID=18, predicted=7, true=7\n",
      "ID=19, predicted=0, true=0\n",
      "ID=20, predicted=4, true=4\n",
      "ID=21, predicted=6, true=6\n",
      "ID=22, predicted=8, true=8\n",
      "ID=23, predicted=7, true=7\n",
      "ID=24, predicted=6, true=6\n",
      "ID=25, predicted=6, true=6\n",
      "ID=26, predicted=0, true=0\n",
      "ID=27, predicted=4, true=4\n",
      "ID=28, predicted=0, true=0\n",
      "ID=29, predicted=4, true=4\n",
      "ID=30, predicted=1, true=1\n",
      "ID=31, predicted=9, true=9\n",
      "ID=32, predicted=3, true=3\n",
      "ID=33, predicted=5, true=5\n",
      "ID=34, predicted=4, true=4\n",
      "ID=35, predicted=4, true=4\n",
      "ID=36, predicted=1, true=1\n",
      "ID=37, predicted=1, true=1\n",
      "ID=38, predicted=0, true=0\n",
      "ID=39, predicted=9, true=9\n",
      "ID=40, predicted=7, true=7\n",
      "ID=41, predicted=8, true=8\n",
      "ID=42, predicted=9, true=3\n",
      "ID=43, predicted=5, true=5\n",
      "ID=44, predicted=6, true=6\n",
      "ID=45, predicted=0, true=0\n",
      "ID=46, predicted=8, true=8\n",
      "ID=47, predicted=2, true=2\n",
      "ID=48, predicted=8, true=8\n",
      "ID=49, predicted=7, true=7\n",
      "ID=50, predicted=8, true=8\n",
      "ID=51, predicted=1, true=1\n",
      "ID=52, predicted=9, true=9\n",
      "ID=53, predicted=5, true=5\n",
      "ID=54, predicted=4, true=4\n",
      "ID=55, predicted=1, true=1\n",
      "ID=56, predicted=2, true=2\n",
      "ID=57, predicted=1, true=1\n",
      "ID=58, predicted=6, true=6\n",
      "ID=59, predicted=0, true=0\n",
      "ID=60, predicted=8, true=8\n",
      "ID=61, predicted=0, true=0\n",
      "ID=62, predicted=8, true=8\n",
      "ID=63, predicted=6, true=6\n",
      "ID=64, predicted=2, true=2\n",
      "ID=65, predicted=9, true=9\n",
      "ID=66, predicted=9, true=9\n",
      "ID=67, predicted=8, true=8\n",
      "ID=68, predicted=0, true=0\n",
      "ID=69, predicted=3, true=3\n",
      "ID=70, predicted=3, true=3\n",
      "ID=71, predicted=8, true=8\n",
      "ID=72, predicted=3, true=3\n",
      "ID=73, predicted=1, true=1\n",
      "ID=74, predicted=1, true=1\n",
      "ID=75, predicted=3, true=3\n",
      "ID=76, predicted=9, true=9\n",
      "ID=77, predicted=5, true=5\n",
      "ID=78, predicted=8, true=8\n",
      "ID=79, predicted=0, true=0\n",
      "ID=80, predicted=8, true=8\n",
      "ID=81, predicted=0, true=0\n",
      "ID=82, predicted=0, true=0\n",
      "ID=83, predicted=9, true=9\n",
      "ID=84, predicted=1, true=1\n",
      "ID=85, predicted=5, true=5\n",
      "ID=86, predicted=1, true=1\n",
      "ID=87, predicted=2, true=2\n",
      "ID=88, predicted=0, true=0\n",
      "ID=89, predicted=8, true=8\n",
      "ID=90, predicted=0, true=0\n",
      "ID=91, predicted=9, true=9\n",
      "ID=92, predicted=7, true=7\n",
      "ID=93, predicted=3, true=3\n",
      "ID=94, predicted=8, true=8\n",
      "ID=95, predicted=2, true=2\n",
      "ID=96, predicted=9, true=9\n",
      "ID=97, predicted=0, true=0\n",
      "ID=98, predicted=8, true=8\n",
      "ID=99, predicted=4, true=4\n",
      "ID=100, predicted=7, true=7\n",
      "ID=101, predicted=6, true=6\n",
      "ID=102, predicted=7, true=7\n",
      "ID=103, predicted=4, true=4\n",
      "ID=104, predicted=1, true=1\n",
      "ID=105, predicted=7, true=7\n",
      "ID=106, predicted=9, true=9\n",
      "ID=107, predicted=5, true=5\n",
      "ID=108, predicted=1, true=1\n",
      "ID=109, predicted=3, true=3\n",
      "ID=110, predicted=1, true=1\n",
      "ID=111, predicted=1, true=1\n",
      "ID=112, predicted=3, true=3\n",
      "ID=113, predicted=7, true=7\n",
      "ID=114, predicted=7, true=7\n",
      "ID=115, predicted=7, true=7\n",
      "ID=116, predicted=7, true=7\n",
      "ID=117, predicted=5, true=5\n",
      "ID=118, predicted=3, true=3\n",
      "ID=119, predicted=8, true=8\n",
      "ID=120, predicted=2, true=1\n",
      "ID=121, predicted=6, true=6\n",
      "ID=122, predicted=6, true=6\n",
      "ID=123, predicted=5, true=5\n",
      "ID=124, predicted=3, true=3\n",
      "ID=125, predicted=0, true=0\n",
      "ID=126, predicted=2, true=2\n",
      "ID=127, predicted=5, true=5\n",
      "ID=128, predicted=4, true=4\n",
      "ID=129, predicted=0, true=0\n",
      "ID=130, predicted=7, true=7\n",
      "ID=131, predicted=4, true=4\n",
      "ID=132, predicted=3, true=3\n",
      "ID=133, predicted=8, true=8\n",
      "ID=134, predicted=1, true=1\n",
      "ID=135, predicted=4, true=4\n",
      "ID=136, predicted=1, true=7\n",
      "ID=137, predicted=4, true=4\n",
      "ID=138, predicted=0, true=0\n",
      "ID=139, predicted=5, true=5\n",
      "ID=140, predicted=2, true=2\n",
      "ID=141, predicted=0, true=0\n",
      "ID=142, predicted=3, true=3\n",
      "ID=143, predicted=2, true=2\n",
      "ID=144, predicted=0, true=0\n",
      "ID=145, predicted=8, true=8\n",
      "ID=146, predicted=2, true=2\n",
      "ID=147, predicted=2, true=2\n",
      "ID=148, predicted=1, true=1\n",
      "ID=149, predicted=4, true=4\n",
      "ID=150, predicted=4, true=4\n",
      "ID=151, predicted=0, true=0\n",
      "ID=152, predicted=7, true=7\n",
      "ID=153, predicted=1, true=1\n",
      "ID=154, predicted=6, true=6\n",
      "ID=155, predicted=2, true=2\n",
      "ID=156, predicted=8, true=8\n",
      "ID=157, predicted=2, true=2\n",
      "ID=158, predicted=4, true=4\n",
      "ID=159, predicted=5, true=5\n",
      "ID=160, predicted=1, true=1\n",
      "ID=161, predicted=5, true=5\n",
      "ID=162, predicted=5, true=5\n",
      "ID=163, predicted=9, true=9\n",
      "ID=164, predicted=0, true=0\n",
      "ID=165, predicted=2, true=2\n",
      "ID=166, predicted=4, true=4\n",
      "ID=167, predicted=1, true=1\n",
      "ID=168, predicted=3, true=3\n",
      "ID=169, predicted=0, true=0\n",
      "ID=170, predicted=9, true=9\n",
      "ID=171, predicted=9, true=9\n",
      "ID=172, predicted=2, true=2\n",
      "ID=173, predicted=6, true=6\n",
      "ID=174, predicted=6, true=6\n",
      "ID=175, predicted=8, true=8\n",
      "ID=176, predicted=5, true=5\n",
      "ID=177, predicted=3, true=3\n",
      "ID=178, predicted=1, true=1\n",
      "ID=179, predicted=5, true=5\n",
      "ID=180, predicted=0, true=0\n",
      "ID=181, predicted=9, true=9\n",
      "ID=182, predicted=1, true=1\n",
      "ID=183, predicted=6, true=6\n",
      "ID=184, predicted=0, true=0\n",
      "ID=185, predicted=2, true=2\n",
      "ID=186, predicted=8, true=8\n",
      "ID=187, predicted=6, true=6\n",
      "ID=188, predicted=0, true=0\n",
      "ID=189, predicted=6, true=6\n",
      "ID=190, predicted=4, true=4\n",
      "ID=191, predicted=2, true=2\n",
      "ID=192, predicted=5, true=5\n",
      "ID=193, predicted=1, true=1\n",
      "ID=194, predicted=8, true=8\n",
      "ID=195, predicted=2, true=2\n",
      "ID=196, predicted=5, true=5\n",
      "ID=197, predicted=0, true=0\n",
      "ID=198, predicted=3, true=3\n",
      "ID=199, predicted=0, true=0\n",
      "ID=200, predicted=6, true=6\n",
      "ID=201, predicted=5, true=5\n",
      "ID=202, predicted=7, true=7\n",
      "ID=203, predicted=1, true=1\n",
      "ID=204, predicted=6, true=6\n",
      "ID=205, predicted=2, true=2\n",
      "ID=206, predicted=9, true=9\n",
      "ID=207, predicted=8, true=8\n",
      "ID=208, predicted=1, true=1\n",
      "ID=209, predicted=0, true=0\n",
      "ID=210, predicted=7, true=7\n",
      "ID=211, predicted=1, true=1\n",
      "ID=212, predicted=8, true=8\n",
      "ID=213, predicted=6, true=6\n",
      "ID=214, predicted=3, true=3\n",
      "ID=215, predicted=2, true=2\n",
      "ID=216, predicted=2, true=2\n",
      "ID=217, predicted=7, true=7\n",
      "ID=218, predicted=8, true=8\n",
      "ID=219, predicted=5, true=5\n",
      "ID=220, predicted=4, true=4\n",
      "ID=221, predicted=4, true=4\n",
      "ID=222, predicted=9, true=9\n",
      "ID=223, predicted=8, true=8\n",
      "ID=224, predicted=8, true=8\n",
      "ID=225, predicted=1, true=1\n",
      "ID=226, predicted=5, true=5\n",
      "ID=227, predicted=0, true=0\n",
      "ID=228, predicted=2, true=2\n",
      "ID=229, predicted=2, true=2\n",
      "ID=230, predicted=7, true=7\n",
      "ID=231, predicted=7, true=7\n",
      "ID=232, predicted=9, true=9\n",
      "ID=233, predicted=0, true=0\n",
      "ID=234, predicted=6, true=6\n",
      "ID=235, predicted=2, true=2\n",
      "ID=236, predicted=3, true=3\n",
      "ID=237, predicted=6, true=6\n",
      "ID=238, predicted=6, true=6\n",
      "ID=239, predicted=5, true=4\n",
      "ID=240, predicted=6, true=6\n",
      "ID=241, predicted=7, true=7\n",
      "ID=242, predicted=0, true=0\n",
      "ID=243, predicted=9, true=9\n",
      "ID=244, predicted=1, true=9\n",
      "ID=245, predicted=3, true=3\n",
      "ID=246, predicted=6, true=6\n",
      "ID=247, predicted=6, true=6\n",
      "ID=248, predicted=8, true=8\n",
      "ID=249, predicted=5, true=5\n",
      "ID=250, predicted=2, true=2\n",
      "ID=251, predicted=1, true=1\n",
      "ID=252, predicted=3, true=3\n",
      "ID=253, predicted=8, true=8\n",
      "ID=254, predicted=2, true=2\n",
      "ID=255, predicted=5, true=5\n",
      "ID=256, predicted=0, true=0\n",
      "ID=257, predicted=2, true=2\n",
      "ID=258, predicted=6, true=6\n",
      "ID=259, predicted=4, true=4\n",
      "ID=260, predicted=7, true=7\n",
      "ID=261, predicted=4, true=4\n",
      "ID=262, predicted=8, true=8\n",
      "ID=263, predicted=4, true=4\n",
      "ID=264, predicted=6, true=6\n",
      "ID=265, predicted=9, true=9\n",
      "ID=266, predicted=0, true=0\n",
      "ID=267, predicted=9, true=9\n",
      "ID=268, predicted=9, true=0\n",
      "ID=269, predicted=2, true=2\n",
      "ID=270, predicted=0, true=0\n",
      "ID=271, predicted=8, true=8\n",
      "ID=272, predicted=4, true=4\n",
      "ID=273, predicted=1, true=1\n",
      "ID=274, predicted=6, true=6\n",
      "ID=275, predicted=7, true=7\n",
      "ID=276, predicted=1, true=1\n",
      "ID=277, predicted=8, true=8\n",
      "ID=278, predicted=1, true=1\n",
      "ID=279, predicted=2, true=2\n",
      "ID=280, predicted=9, true=9\n",
      "ID=281, predicted=1, true=1\n",
      "ID=282, predicted=7, true=7\n",
      "ID=283, predicted=2, true=2\n",
      "ID=284, predicted=2, true=2\n",
      "ID=285, predicted=0, true=0\n",
      "ID=286, predicted=0, true=0\n",
      "ID=287, predicted=7, true=7\n",
      "ID=288, predicted=0, true=8\n",
      "ID=289, predicted=3, true=3\n",
      "ID=290, predicted=1, true=1\n",
      "ID=291, predicted=3, true=3\n",
      "ID=292, predicted=7, true=7\n",
      "ID=293, predicted=0, true=0\n",
      "ID=294, predicted=2, true=2\n",
      "ID=295, predicted=3, true=3\n",
      "ID=296, predicted=8, true=8\n",
      "ID=297, predicted=8, true=8\n",
      "ID=298, predicted=5, true=5\n"
     ]
    },
    {
     "name": "stdout",
     "output_type": "stream",
     "text": [
      "ID=299, predicted=1, true=1\n",
      "ID=300, predicted=3, true=3\n",
      "ID=301, predicted=5, true=5\n",
      "ID=302, predicted=5, true=5\n",
      "ID=303, predicted=6, true=6\n",
      "ID=304, predicted=0, true=0\n",
      "ID=305, predicted=4, true=4\n",
      "ID=306, predicted=4, true=4\n",
      "ID=307, predicted=7, true=7\n",
      "ID=308, predicted=6, true=6\n",
      "ID=309, predicted=9, true=9\n",
      "ID=310, predicted=4, true=4\n",
      "ID=311, predicted=6, true=6\n",
      "ID=312, predicted=6, true=6\n",
      "ID=313, predicted=3, true=3\n",
      "ID=314, predicted=8, true=8\n",
      "ID=315, predicted=3, true=7\n",
      "ID=316, predicted=8, true=8\n",
      "ID=317, predicted=4, true=4\n",
      "ID=318, predicted=9, true=9\n",
      "ID=319, predicted=8, true=8\n",
      "ID=320, predicted=7, true=7\n",
      "ID=321, predicted=3, true=3\n",
      "ID=322, predicted=0, true=0\n",
      "ID=323, predicted=7, true=7\n",
      "ID=324, predicted=5, true=5\n",
      "ID=325, predicted=5, true=5\n",
      "ID=326, predicted=7, true=7\n",
      "ID=327, predicted=7, true=7\n",
      "ID=328, predicted=5, true=5\n",
      "ID=329, predicted=8, true=8\n",
      "ID=330, predicted=6, true=6\n",
      "ID=331, predicted=3, true=3\n",
      "ID=332, predicted=4, true=4\n",
      "ID=333, predicted=7, true=7\n",
      "ID=334, predicted=2, true=2\n",
      "ID=335, predicted=8, true=8\n",
      "ID=336, predicted=6, true=6\n",
      "ID=337, predicted=5, true=5\n",
      "ID=338, predicted=9, true=9\n",
      "ID=339, predicted=7, true=7\n",
      "ID=340, predicted=7, true=7\n",
      "ID=341, predicted=5, true=5\n",
      "ID=342, predicted=4, true=4\n",
      "ID=343, predicted=0, true=0\n",
      "ID=344, predicted=8, true=8\n",
      "ID=345, predicted=1, true=1\n",
      "ID=346, predicted=9, true=9\n",
      "ID=347, predicted=7, true=7\n",
      "ID=348, predicted=4, true=4\n",
      "ID=349, predicted=3, true=3\n",
      "ID=350, predicted=8, true=8\n",
      "ID=351, predicted=4, true=4\n",
      "ID=352, predicted=2, true=2\n",
      "ID=353, predicted=5, true=5\n",
      "ID=354, predicted=5, true=5\n",
      "ID=355, predicted=2, true=2\n",
      "ID=356, predicted=5, true=5\n",
      "ID=357, predicted=4, true=4\n",
      "ID=358, predicted=1, true=1\n",
      "ID=359, predicted=9, true=9\n",
      "ID=360, predicted=8, true=8\n",
      "ID=361, predicted=3, true=3\n",
      "ID=362, predicted=2, true=2\n",
      "ID=363, predicted=2, true=2\n",
      "ID=364, predicted=1, true=1\n",
      "ID=365, predicted=9, true=9\n",
      "ID=366, predicted=7, true=7\n",
      "ID=367, predicted=7, true=7\n",
      "ID=368, predicted=7, true=7\n",
      "ID=369, predicted=6, true=6\n",
      "ID=370, predicted=0, true=0\n",
      "ID=371, predicted=4, true=4\n",
      "ID=372, predicted=0, true=0\n",
      "ID=373, predicted=1, true=1\n",
      "ID=374, predicted=7, true=7\n",
      "ID=375, predicted=2, true=2\n",
      "ID=376, predicted=8, true=8\n",
      "ID=377, predicted=4, true=4\n",
      "ID=378, predicted=8, true=8\n",
      "ID=379, predicted=8, true=8\n",
      "ID=380, predicted=9, true=9\n",
      "ID=381, predicted=7, true=7\n",
      "ID=382, predicted=1, true=1\n",
      "ID=383, predicted=5, true=5\n",
      "ID=384, predicted=7, true=7\n",
      "ID=385, predicted=2, true=1\n",
      "ID=386, predicted=6, true=6\n",
      "ID=387, predicted=6, true=6\n",
      "ID=388, predicted=0, true=0\n",
      "ID=389, predicted=1, true=1\n",
      "ID=390, predicted=4, true=4\n",
      "ID=391, predicted=0, true=0\n",
      "ID=392, predicted=7, true=7\n",
      "ID=393, predicted=1, true=1\n",
      "ID=394, predicted=9, true=9\n",
      "ID=395, predicted=1, true=1\n",
      "ID=396, predicted=7, true=7\n",
      "ID=397, predicted=6, true=6\n",
      "ID=398, predicted=6, true=6\n",
      "ID=399, predicted=6, true=6\n",
      "ID=400, predicted=7, true=7\n",
      "ID=401, predicted=6, true=6\n",
      "ID=402, predicted=0, true=0\n",
      "ID=403, predicted=1, true=3\n",
      "ID=404, predicted=5, true=5\n",
      "ID=405, predicted=5, true=4\n",
      "ID=406, predicted=3, true=3\n",
      "ID=407, predicted=9, true=9\n",
      "ID=408, predicted=7, true=7\n",
      "ID=409, predicted=7, true=7\n",
      "ID=410, predicted=3, true=3\n",
      "ID=411, predicted=2, true=2\n",
      "ID=412, predicted=3, true=5\n",
      "ID=413, predicted=1, true=1\n",
      "ID=414, predicted=7, true=7\n",
      "ID=415, predicted=5, true=5\n",
      "ID=416, predicted=9, true=9\n",
      "ID=417, predicted=0, true=0\n",
      "ID=418, predicted=2, true=2\n",
      "ID=419, predicted=4, true=4\n",
      "ID=420, predicted=9, true=9\n",
      "ID=421, predicted=7, true=7\n",
      "ID=422, predicted=4, true=4\n",
      "ID=423, predicted=8, true=8\n",
      "ID=424, predicted=3, true=3\n",
      "ID=425, predicted=8, true=8\n",
      "ID=426, predicted=9, true=9\n",
      "ID=427, predicted=0, true=0\n",
      "ID=428, predicted=6, true=6\n",
      "ID=429, predicted=5, true=5\n",
      "ID=430, predicted=0, true=0\n",
      "ID=431, predicted=9, true=0\n",
      "ID=432, predicted=5, true=5\n",
      "ID=433, predicted=7, true=7\n",
      "ID=434, predicted=9, true=9\n",
      "ID=435, predicted=8, true=8\n",
      "ID=436, predicted=5, true=5\n",
      "ID=437, predicted=2, true=2\n",
      "ID=438, predicted=8, true=8\n",
      "ID=439, predicted=8, true=8\n",
      "ID=440, predicted=0, true=0\n",
      "ID=441, predicted=5, true=4\n",
      "ID=442, predicted=3, true=5\n",
      "ID=443, predicted=1, true=3\n",
      "ID=444, predicted=6, true=6\n",
      "ID=445, predicted=2, true=2\n",
      "ID=446, predicted=7, true=7\n",
      "ID=447, predicted=1, true=1\n",
      "ID=448, predicted=9, true=9\n",
      "ID=449, predicted=1, true=7\n",
      "ID=450, predicted=6, true=6\n",
      "ID=451, predicted=5, true=5\n",
      "ID=452, predicted=8, true=8\n",
      "ID=453, predicted=3, true=3\n",
      "ID=454, predicted=0, true=0\n",
      "ID=455, predicted=1, true=1\n",
      "ID=456, predicted=4, true=4\n",
      "ID=457, predicted=0, true=0\n",
      "ID=458, predicted=6, true=6\n",
      "ID=459, predicted=4, true=4\n",
      "ID=460, predicted=9, true=9\n",
      "ID=461, predicted=0, true=0\n",
      "ID=462, predicted=3, true=3\n",
      "ID=463, predicted=3, true=3\n",
      "ID=464, predicted=6, true=6\n",
      "ID=465, predicted=2, true=2\n",
      "ID=466, predicted=6, true=6\n",
      "ID=467, predicted=9, true=9\n",
      "ID=468, predicted=0, true=0\n",
      "ID=469, predicted=6, true=6\n",
      "ID=470, predicted=8, true=8\n",
      "ID=471, predicted=2, true=2\n",
      "ID=472, predicted=7, true=7\n",
      "ID=473, predicted=4, true=4\n",
      "ID=474, predicted=5, true=5\n",
      "ID=475, predicted=6, true=6\n",
      "ID=476, predicted=8, true=8\n",
      "ID=477, predicted=4, true=4\n",
      "ID=478, predicted=4, true=4\n",
      "ID=479, predicted=1, true=1\n",
      "ID=480, predicted=3, true=3\n",
      "ID=481, predicted=6, true=6\n",
      "ID=482, predicted=1, true=1\n",
      "ID=483, predicted=7, true=7\n",
      "ID=484, predicted=4, true=4\n",
      "ID=485, predicted=3, true=3\n",
      "ID=486, predicted=4, true=4\n",
      "ID=487, predicted=8, true=8\n",
      "ID=488, predicted=7, true=7\n",
      "ID=489, predicted=3, true=3\n",
      "ID=490, predicted=9, true=9\n",
      "ID=491, predicted=1, true=1\n",
      "ID=492, predicted=5, true=5\n",
      "ID=493, predicted=5, true=5\n",
      "ID=494, predicted=6, true=6\n",
      "ID=495, predicted=3, true=3\n",
      "ID=496, predicted=2, true=2\n",
      "ID=497, predicted=3, true=3\n",
      "ID=498, predicted=1, true=1\n",
      "ID=499, predicted=5, true=5\n",
      "ID=500, predicted=6, true=6\n",
      "ID=501, predicted=5, true=5\n",
      "ID=502, predicted=9, true=9\n",
      "ID=503, predicted=3, true=3\n",
      "ID=504, predicted=1, true=1\n",
      "ID=505, predicted=4, true=4\n",
      "ID=506, predicted=6, true=6\n",
      "ID=507, predicted=1, true=1\n",
      "ID=508, predicted=8, true=8\n",
      "ID=509, predicted=9, true=9\n",
      "ID=510, predicted=0, true=0\n",
      "ID=511, predicted=7, true=7\n",
      "ID=512, predicted=1, true=1\n",
      "ID=513, predicted=9, true=9\n",
      "ID=514, predicted=6, true=6\n",
      "ID=515, predicted=8, true=8\n",
      "ID=516, predicted=2, true=2\n",
      "ID=517, predicted=7, true=7\n",
      "ID=518, predicted=0, true=0\n",
      "ID=519, predicted=9, true=9\n",
      "ID=520, predicted=5, true=5\n",
      "ID=521, predicted=0, true=0\n",
      "ID=522, predicted=0, true=0\n",
      "ID=523, predicted=9, true=9\n",
      "ID=524, predicted=4, true=4\n",
      "ID=525, predicted=7, true=7\n",
      "ID=526, predicted=6, true=6\n",
      "ID=527, predicted=0, true=0\n",
      "ID=528, predicted=9, true=9\n",
      "ID=529, predicted=1, true=7\n",
      "ID=530, predicted=6, true=0\n",
      "ID=531, predicted=7, true=7\n",
      "ID=532, predicted=2, true=2\n",
      "ID=533, predicted=2, true=2\n",
      "ID=534, predicted=5, true=5\n",
      "ID=535, predicted=1, true=7\n",
      "ID=536, predicted=2, true=1\n",
      "ID=537, predicted=5, true=5\n",
      "ID=538, predicted=0, true=0\n",
      "ID=539, predicted=0, true=0\n",
      "ID=540, predicted=9, true=9\n",
      "ID=541, predicted=7, true=7\n",
      "ID=542, predicted=7, true=7\n",
      "ID=543, predicted=5, true=5\n",
      "ID=544, predicted=4, true=4\n",
      "ID=545, predicted=9, true=9\n",
      "ID=546, predicted=6, true=6\n",
      "ID=547, predicted=7, true=7\n",
      "ID=548, predicted=3, true=3\n",
      "ID=549, predicted=0, true=0\n",
      "ID=550, predicted=9, true=4\n",
      "ID=551, predicted=6, true=6\n",
      "ID=552, predicted=0, true=0\n",
      "ID=553, predicted=4, true=4\n",
      "ID=554, predicted=0, true=0\n",
      "ID=555, predicted=6, true=6\n",
      "ID=556, predicted=9, true=9\n",
      "ID=557, predicted=2, true=2\n",
      "ID=558, predicted=7, true=7\n",
      "ID=559, predicted=0, true=0\n",
      "ID=560, predicted=4, true=4\n",
      "ID=561, predicted=4, true=4\n",
      "ID=562, predicted=6, true=6\n",
      "ID=563, predicted=0, true=0\n",
      "ID=564, predicted=7, true=7\n",
      "ID=565, predicted=9, true=9\n",
      "ID=566, predicted=8, true=8\n",
      "ID=567, predicted=4, true=4\n",
      "ID=568, predicted=4, true=4\n",
      "ID=569, predicted=1, true=1\n",
      "ID=570, predicted=9, true=9\n",
      "ID=571, predicted=3, true=3\n",
      "ID=572, predicted=0, true=0\n",
      "ID=573, predicted=4, true=4\n",
      "ID=574, predicted=2, true=2\n",
      "ID=575, predicted=1, true=1\n",
      "ID=576, predicted=3, true=3\n",
      "ID=577, predicted=3, true=3\n",
      "ID=578, predicted=2, true=2\n",
      "ID=579, predicted=4, true=4\n",
      "ID=580, predicted=5, true=5\n",
      "ID=581, predicted=2, true=2\n",
      "ID=582, predicted=7, true=7\n",
      "ID=583, predicted=9, true=9\n",
      "ID=584, predicted=5, true=5\n",
      "ID=585, predicted=0, true=0\n",
      "ID=586, predicted=4, true=4\n",
      "ID=587, predicted=0, true=0\n",
      "ID=588, predicted=8, true=8\n",
      "ID=589, predicted=2, true=2\n",
      "ID=590, predicted=2, true=2\n",
      "ID=591, predicted=3, true=3\n",
      "ID=592, predicted=9, true=9\n"
     ]
    },
    {
     "name": "stdout",
     "output_type": "stream",
     "text": [
      "ID=593, predicted=4, true=4\n",
      "ID=594, predicted=8, true=8\n",
      "ID=595, predicted=9, true=9\n",
      "ID=596, predicted=0, true=0\n",
      "ID=597, predicted=1, true=7\n",
      "ID=598, predicted=5, true=5\n",
      "ID=599, predicted=8, true=8\n",
      "ID=600, predicted=4, true=4\n",
      "ID=601, predicted=0, true=0\n",
      "ID=602, predicted=7, true=7\n",
      "ID=603, predicted=8, true=8\n",
      "ID=604, predicted=5, true=4\n",
      "ID=605, predicted=2, true=2\n",
      "ID=606, predicted=3, true=3\n",
      "ID=607, predicted=3, true=3\n",
      "ID=608, predicted=9, true=9\n",
      "ID=609, predicted=4, true=4\n",
      "ID=610, predicted=6, true=6\n",
      "ID=611, predicted=6, true=6\n",
      "ID=612, predicted=6, true=6\n",
      "ID=613, predicted=7, true=7\n",
      "ID=614, predicted=8, true=8\n",
      "ID=615, predicted=0, true=0\n",
      "ID=616, predicted=7, true=7\n",
      "ID=617, predicted=1, true=2\n",
      "ID=618, predicted=1, true=1\n",
      "ID=619, predicted=0, true=0\n",
      "ID=620, predicted=9, true=9\n",
      "ID=621, predicted=8, true=8\n",
      "ID=622, predicted=9, true=9\n",
      "ID=623, predicted=8, true=8\n",
      "ID=624, predicted=0, true=0\n",
      "ID=625, predicted=2, true=2\n",
      "ID=626, predicted=6, true=6\n",
      "ID=627, predicted=8, true=8\n",
      "ID=628, predicted=6, true=6\n",
      "ID=629, predicted=1, true=1\n",
      "ID=630, predicted=7, true=7\n",
      "ID=631, predicted=1, true=1\n",
      "ID=632, predicted=0, true=0\n",
      "ID=633, predicted=9, true=9\n",
      "ID=634, predicted=0, true=0\n",
      "ID=635, predicted=2, true=2\n",
      "ID=636, predicted=8, true=8\n",
      "ID=637, predicted=0, true=0\n",
      "ID=638, predicted=2, true=2\n",
      "ID=639, predicted=7, true=7\n",
      "ID=640, predicted=6, true=6\n",
      "ID=641, predicted=8, true=8\n",
      "ID=642, predicted=4, true=4\n",
      "ID=643, predicted=1, true=1\n",
      "ID=644, predicted=3, true=3\n",
      "ID=645, predicted=1, true=7\n",
      "ID=646, predicted=7, true=7\n",
      "ID=647, predicted=4, true=4\n",
      "ID=648, predicted=7, true=7\n",
      "ID=649, predicted=3, true=3\n",
      "ID=650, predicted=7, true=7\n",
      "ID=651, predicted=5, true=5\n",
      "ID=652, predicted=6, true=6\n",
      "ID=653, predicted=0, true=0\n",
      "ID=654, predicted=2, true=2\n",
      "ID=655, predicted=5, true=5\n",
      "ID=656, predicted=9, true=9\n",
      "ID=657, predicted=4, true=4\n",
      "ID=658, predicted=2, true=2\n",
      "ID=659, predicted=8, true=8\n",
      "ID=660, predicted=7, true=7\n",
      "ID=661, predicted=8, true=8\n",
      "ID=662, predicted=1, true=1\n",
      "ID=663, predicted=6, true=6\n",
      "ID=664, predicted=5, true=5\n",
      "ID=665, predicted=0, true=0\n",
      "ID=666, predicted=0, true=0\n",
      "ID=667, predicted=6, true=6\n",
      "ID=668, predicted=7, true=7\n",
      "ID=669, predicted=6, true=6\n",
      "ID=670, predicted=8, true=8\n",
      "ID=671, predicted=7, true=7\n",
      "ID=672, predicted=2, true=2\n",
      "ID=673, predicted=8, true=8\n",
      "ID=674, predicted=8, true=8\n",
      "ID=675, predicted=6, true=6\n",
      "ID=676, predicted=7, true=7\n",
      "ID=677, predicted=0, true=0\n",
      "ID=678, predicted=2, true=2\n",
      "ID=679, predicted=5, true=5\n",
      "ID=680, predicted=8, true=8\n",
      "ID=681, predicted=1, true=1\n",
      "ID=682, predicted=3, true=3\n",
      "ID=683, predicted=7, true=7\n",
      "ID=684, predicted=7, true=7\n",
      "ID=685, predicted=6, true=4\n",
      "ID=686, predicted=7, true=7\n",
      "ID=687, predicted=7, true=7\n",
      "ID=688, predicted=7, true=7\n",
      "ID=689, predicted=2, true=2\n",
      "ID=690, predicted=7, true=7\n",
      "ID=691, predicted=3, true=3\n",
      "ID=692, predicted=2, true=2\n",
      "ID=693, predicted=1, true=1\n",
      "ID=694, predicted=7, true=7\n",
      "ID=695, predicted=8, true=8\n",
      "ID=696, predicted=4, true=4\n",
      "ID=697, predicted=2, true=1\n",
      "ID=698, predicted=3, true=3\n",
      "ID=699, predicted=1, true=1\n",
      "ID=700, predicted=3, true=3\n",
      "ID=701, predicted=7, true=7\n",
      "ID=702, predicted=5, true=5\n",
      "ID=703, predicted=1, true=1\n",
      "ID=704, predicted=4, true=4\n",
      "ID=705, predicted=5, true=5\n",
      "ID=706, predicted=0, true=0\n",
      "ID=707, predicted=1, true=1\n",
      "ID=708, predicted=1, true=1\n",
      "ID=709, predicted=5, true=5\n",
      "ID=710, predicted=7, true=7\n",
      "ID=711, predicted=0, true=0\n",
      "ID=712, predicted=5, true=5\n",
      "ID=713, predicted=5, true=5\n",
      "ID=714, predicted=2, true=2\n",
      "ID=715, predicted=5, true=5\n",
      "ID=716, predicted=2, true=2\n",
      "ID=717, predicted=4, true=4\n",
      "ID=718, predicted=9, true=9\n",
      "ID=719, predicted=8, true=8\n",
      "ID=720, predicted=3, true=3\n",
      "ID=721, predicted=9, true=9\n",
      "ID=722, predicted=0, true=0\n",
      "ID=723, predicted=9, true=9\n",
      "ID=724, predicted=4, true=4\n",
      "ID=725, predicted=9, true=9\n",
      "ID=726, predicted=1, true=1\n",
      "ID=727, predicted=0, true=0\n",
      "ID=728, predicted=2, true=2\n",
      "ID=729, predicted=6, true=6\n",
      "ID=730, predicted=5, true=5\n",
      "ID=731, predicted=8, true=8\n",
      "ID=732, predicted=7, true=7\n",
      "ID=733, predicted=2, true=2\n",
      "ID=734, predicted=9, true=9\n",
      "ID=735, predicted=1, true=1\n",
      "ID=736, predicted=1, true=1\n",
      "ID=737, predicted=2, true=2\n",
      "ID=738, predicted=0, true=0\n",
      "ID=739, predicted=7, true=7\n",
      "ID=740, predicted=6, true=6\n",
      "ID=741, predicted=6, true=6\n",
      "ID=742, predicted=4, true=4\n",
      "ID=743, predicted=9, true=9\n",
      "ID=744, predicted=7, true=7\n",
      "ID=745, predicted=0, true=0\n",
      "ID=746, predicted=8, true=8\n",
      "ID=747, predicted=4, true=4\n",
      "ID=748, predicted=5, true=5\n",
      "ID=749, predicted=7, true=7\n",
      "ID=750, predicted=5, true=5\n",
      "ID=751, predicted=6, true=6\n",
      "ID=752, predicted=2, true=2\n",
      "ID=753, predicted=9, true=9\n",
      "ID=754, predicted=6, true=6\n",
      "ID=755, predicted=1, true=1\n",
      "ID=756, predicted=4, true=4\n",
      "ID=757, predicted=3, true=3\n",
      "ID=758, predicted=7, true=7\n",
      "ID=759, predicted=1, true=1\n",
      "ID=760, predicted=4, true=4\n",
      "ID=761, predicted=5, true=5\n",
      "ID=762, predicted=6, true=6\n",
      "ID=763, predicted=1, true=7\n",
      "ID=764, predicted=8, true=8\n",
      "ID=765, predicted=1, true=1\n",
      "ID=766, predicted=8, true=8\n",
      "ID=767, predicted=3, true=3\n",
      "ID=768, predicted=5, true=5\n",
      "ID=769, predicted=5, true=8\n",
      "ID=770, predicted=3, true=3\n",
      "ID=771, predicted=6, true=6\n",
      "ID=772, predicted=5, true=5\n",
      "ID=773, predicted=0, true=0\n",
      "ID=774, predicted=1, true=1\n",
      "ID=775, predicted=1, true=1\n",
      "ID=776, predicted=2, true=1\n",
      "ID=777, predicted=6, true=6\n",
      "ID=778, predicted=6, true=6\n",
      "ID=779, predicted=5, true=5\n",
      "ID=780, predicted=5, true=5\n",
      "ID=781, predicted=6, true=6\n",
      "ID=782, predicted=0, true=0\n",
      "ID=783, predicted=8, true=8\n",
      "ID=784, predicted=2, true=2\n",
      "ID=785, predicted=4, true=4\n",
      "ID=786, predicted=7, true=7\n",
      "ID=787, predicted=5, true=5\n",
      "ID=788, predicted=3, true=3\n",
      "ID=789, predicted=0, true=0\n",
      "ID=790, predicted=7, true=7\n",
      "ID=791, predicted=6, true=6\n",
      "ID=792, predicted=6, true=6\n",
      "ID=793, predicted=6, true=6\n",
      "ID=794, predicted=6, true=6\n",
      "ID=795, predicted=8, true=8\n",
      "ID=796, predicted=8, true=8\n",
      "ID=797, predicted=1, true=1\n",
      "ID=798, predicted=2, true=2\n",
      "ID=799, predicted=8, true=8\n",
      "ID=800, predicted=5, true=5\n",
      "ID=801, predicted=9, true=9\n",
      "ID=802, predicted=9, true=9\n",
      "ID=803, predicted=6, true=6\n",
      "ID=804, predicted=8, true=8\n",
      "ID=805, predicted=4, true=4\n",
      "ID=806, predicted=4, true=4\n",
      "ID=807, predicted=4, true=4\n",
      "ID=808, predicted=5, true=5\n",
      "ID=809, predicted=3, true=3\n",
      "ID=810, predicted=5, true=5\n",
      "ID=811, predicted=7, true=7\n",
      "ID=812, predicted=6, true=6\n",
      "ID=813, predicted=5, true=5\n",
      "ID=814, predicted=3, true=3\n",
      "ID=815, predicted=4, true=4\n",
      "ID=816, predicted=5, true=5\n",
      "ID=817, predicted=8, true=8\n",
      "ID=818, predicted=3, true=3\n",
      "ID=819, predicted=9, true=9\n",
      "ID=820, predicted=8, true=8\n",
      "ID=821, predicted=2, true=2\n",
      "ID=822, predicted=5, true=5\n",
      "ID=823, predicted=1, true=1\n",
      "ID=824, predicted=0, true=0\n",
      "ID=825, predicted=9, true=9\n",
      "ID=826, predicted=1, true=1\n",
      "ID=827, predicted=5, true=5\n",
      "ID=828, predicted=2, true=2\n",
      "ID=829, predicted=5, true=5\n",
      "ID=830, predicted=9, true=9\n",
      "ID=831, predicted=7, true=7\n",
      "ID=832, predicted=1, true=1\n",
      "ID=833, predicted=2, true=2\n",
      "ID=834, predicted=1, true=1\n",
      "ID=835, predicted=6, true=6\n",
      "ID=836, predicted=7, true=7\n",
      "ID=837, predicted=0, true=0\n",
      "ID=838, predicted=5, true=5\n",
      "ID=839, predicted=2, true=2\n",
      "ID=840, predicted=6, true=6\n",
      "ID=841, predicted=0, true=0\n",
      "ID=842, predicted=8, true=8\n",
      "ID=843, predicted=1, true=7\n",
      "ID=844, predicted=5, true=5\n",
      "ID=845, predicted=5, true=5\n",
      "ID=846, predicted=7, true=7\n",
      "ID=847, predicted=3, true=3\n",
      "ID=848, predicted=9, true=9\n",
      "ID=849, predicted=9, true=9\n",
      "ID=850, predicted=1, true=1\n",
      "ID=851, predicted=9, true=9\n",
      "ID=852, predicted=2, true=2\n",
      "ID=853, predicted=3, true=3\n",
      "ID=854, predicted=0, true=0\n",
      "ID=855, predicted=5, true=5\n",
      "ID=856, predicted=0, true=0\n",
      "ID=857, predicted=0, true=0\n",
      "ID=858, predicted=7, true=7\n",
      "ID=859, predicted=2, true=2\n",
      "ID=860, predicted=3, true=3\n",
      "ID=861, predicted=1, true=1\n",
      "ID=862, predicted=6, true=6\n",
      "ID=863, predicted=6, true=6\n",
      "ID=864, predicted=6, true=6\n",
      "ID=865, predicted=1, true=1\n",
      "ID=866, predicted=0, true=0\n",
      "ID=867, predicted=7, true=7\n",
      "ID=868, predicted=1, true=1\n",
      "ID=869, predicted=5, true=5\n",
      "ID=870, predicted=4, true=4\n",
      "ID=871, predicted=3, true=3\n",
      "ID=872, predicted=9, true=9\n",
      "ID=873, predicted=3, true=3\n",
      "ID=874, predicted=5, true=5\n",
      "ID=875, predicted=9, true=9\n",
      "ID=876, predicted=4, true=4\n",
      "ID=877, predicted=8, true=8\n",
      "ID=878, predicted=2, true=2\n",
      "ID=879, predicted=2, true=2\n",
      "ID=880, predicted=2, true=2\n",
      "ID=881, predicted=9, true=9\n",
      "ID=882, predicted=5, true=5\n",
      "ID=883, predicted=7, true=7\n",
      "ID=884, predicted=5, true=5\n",
      "ID=885, predicted=5, true=5\n"
     ]
    },
    {
     "name": "stdout",
     "output_type": "stream",
     "text": [
      "ID=886, predicted=0, true=0\n",
      "ID=887, predicted=2, true=2\n",
      "ID=888, predicted=9, true=9\n",
      "ID=889, predicted=4, true=4\n",
      "ID=890, predicted=2, true=2\n",
      "ID=891, predicted=8, true=8\n",
      "ID=892, predicted=8, true=8\n",
      "ID=893, predicted=1, true=7\n",
      "ID=894, predicted=0, true=0\n",
      "ID=895, predicted=8, true=8\n",
      "ID=896, predicted=1, true=1\n",
      "ID=897, predicted=1, true=1\n",
      "ID=898, predicted=3, true=3\n",
      "ID=899, predicted=9, true=9\n",
      "ID=900, predicted=2, true=2\n",
      "ID=901, predicted=0, true=0\n",
      "ID=902, predicted=4, true=4\n",
      "ID=903, predicted=4, true=4\n",
      "ID=904, predicted=3, true=3\n",
      "ID=905, predicted=1, true=1\n",
      "ID=906, predicted=8, true=8\n",
      "ID=907, predicted=5, true=5\n",
      "ID=908, predicted=4, true=4\n",
      "ID=909, predicted=5, true=5\n",
      "ID=910, predicted=2, true=2\n",
      "ID=911, predicted=8, true=8\n",
      "ID=912, predicted=3, true=3\n",
      "ID=913, predicted=8, true=8\n",
      "ID=914, predicted=2, true=2\n",
      "ID=915, predicted=3, true=3\n",
      "ID=916, predicted=1, true=1\n",
      "ID=917, predicted=3, true=3\n",
      "ID=918, predicted=1, true=1\n",
      "ID=919, predicted=0, true=0\n",
      "ID=920, predicted=4, true=4\n",
      "ID=921, predicted=8, true=8\n",
      "ID=922, predicted=8, true=8\n",
      "ID=923, predicted=0, true=0\n",
      "ID=924, predicted=6, true=6\n",
      "ID=925, predicted=0, true=0\n",
      "ID=926, predicted=8, true=8\n",
      "ID=927, predicted=0, true=0\n",
      "ID=928, predicted=3, true=3\n",
      "ID=929, predicted=3, true=3\n",
      "ID=930, predicted=4, true=4\n",
      "ID=931, predicted=4, true=4\n",
      "ID=932, predicted=0, true=0\n",
      "ID=933, predicted=6, true=6\n",
      "ID=934, predicted=2, true=2\n",
      "ID=935, predicted=3, true=3\n",
      "ID=936, predicted=1, true=1\n",
      "ID=937, predicted=3, true=3\n",
      "ID=938, predicted=3, true=3\n",
      "ID=939, predicted=1, true=1\n",
      "ID=940, predicted=2, true=2\n",
      "ID=941, predicted=5, true=5\n",
      "ID=942, predicted=9, true=9\n",
      "ID=943, predicted=1, true=1\n",
      "ID=944, predicted=1, true=1\n",
      "ID=945, predicted=4, true=4\n",
      "ID=946, predicted=2, true=1\n",
      "ID=947, predicted=8, true=8\n",
      "ID=948, predicted=9, true=9\n",
      "ID=949, predicted=4, true=4\n",
      "ID=950, predicted=1, true=1\n",
      "ID=951, predicted=8, true=8\n",
      "ID=952, predicted=4, true=4\n",
      "ID=953, predicted=1, true=1\n",
      "ID=954, predicted=7, true=7\n",
      "ID=955, predicted=0, true=0\n",
      "ID=956, predicted=3, true=3\n",
      "ID=957, predicted=1, true=1\n",
      "ID=958, predicted=6, true=6\n",
      "ID=959, predicted=5, true=5\n",
      "ID=960, predicted=8, true=8\n",
      "ID=961, predicted=2, true=2\n",
      "ID=962, predicted=4, true=4\n",
      "ID=963, predicted=4, true=4\n",
      "ID=964, predicted=9, true=9\n",
      "ID=965, predicted=6, true=6\n",
      "ID=966, predicted=7, true=7\n",
      "ID=967, predicted=8, true=8\n",
      "ID=968, predicted=2, true=2\n",
      "ID=969, predicted=2, true=2\n",
      "ID=970, predicted=9, true=9\n",
      "ID=971, predicted=2, true=2\n",
      "ID=972, predicted=2, true=2\n",
      "ID=973, predicted=8, true=8\n",
      "ID=974, predicted=2, true=2\n",
      "ID=975, predicted=9, true=9\n",
      "ID=976, predicted=1, true=1\n",
      "ID=977, predicted=5, true=5\n",
      "ID=978, predicted=8, true=8\n",
      "ID=979, predicted=1, true=1\n",
      "ID=980, predicted=8, true=8\n",
      "ID=981, predicted=8, true=8\n",
      "ID=982, predicted=3, true=3\n",
      "ID=983, predicted=0, true=0\n",
      "ID=984, predicted=6, true=6\n",
      "ID=985, predicted=6, true=6\n",
      "ID=986, predicted=5, true=5\n",
      "ID=987, predicted=0, true=0\n",
      "ID=988, predicted=2, true=2\n",
      "ID=989, predicted=3, true=3\n",
      "ID=990, predicted=6, true=6\n",
      "ID=991, predicted=1, true=1\n",
      "ID=992, predicted=9, true=9\n",
      "ID=993, predicted=0, true=0\n",
      "ID=994, predicted=6, true=6\n",
      "ID=995, predicted=5, true=5\n",
      "ID=996, predicted=5, true=5\n",
      "ID=997, predicted=3, true=3\n",
      "ID=998, predicted=4, true=4\n",
      "ID=999, predicted=1, true=1\n",
      "ID=1000, predicted=4, true=4\n",
      "ID=1001, predicted=9, true=9\n",
      "ID=1002, predicted=2, true=2\n",
      "ID=1003, predicted=6, true=6\n",
      "ID=1004, predicted=6, true=6\n",
      "ID=1005, predicted=3, true=3\n",
      "ID=1006, predicted=5, true=5\n",
      "ID=1007, predicted=1, true=1\n",
      "ID=1008, predicted=8, true=8\n",
      "ID=1009, predicted=0, true=0\n",
      "ID=1010, predicted=2, true=2\n",
      "ID=1011, predicted=2, true=2\n",
      "ID=1012, predicted=9, true=9\n",
      "ID=1013, predicted=9, true=9\n",
      "ID=1014, predicted=3, true=3\n",
      "ID=1015, predicted=3, true=3\n",
      "ID=1016, predicted=3, true=3\n",
      "ID=1017, predicted=0, true=0\n",
      "ID=1018, predicted=1, true=1\n",
      "ID=1019, predicted=1, true=1\n",
      "ID=1020, predicted=0, true=0\n",
      "ID=1021, predicted=5, true=5\n",
      "ID=1022, predicted=0, true=0\n",
      "ID=1023, predicted=8, true=8\n",
      "ID=1024, predicted=5, true=5\n",
      "ID=1025, predicted=4, true=4\n",
      "ID=1026, predicted=1, true=1\n",
      "ID=1027, predicted=7, true=7\n",
      "ID=1028, predicted=5, true=5\n",
      "ID=1029, predicted=5, true=5\n",
      "ID=1030, predicted=3, true=3\n",
      "ID=1031, predicted=3, true=3\n",
      "ID=1032, predicted=2, true=2\n",
      "ID=1033, predicted=6, true=6\n",
      "ID=1034, predicted=5, true=5\n",
      "ID=1035, predicted=1, true=7\n",
      "ID=1036, predicted=8, true=8\n",
      "ID=1037, predicted=7, true=7\n",
      "ID=1038, predicted=2, true=2\n",
      "ID=1039, predicted=6, true=6\n",
      "ID=1040, predicted=1, true=1\n",
      "ID=1041, predicted=5, true=5\n",
      "ID=1042, predicted=0, true=0\n",
      "ID=1043, predicted=6, true=6\n",
      "ID=1044, predicted=6, true=6\n",
      "ID=1045, predicted=4, true=4\n",
      "ID=1046, predicted=2, true=2\n",
      "ID=1047, predicted=2, true=2\n",
      "ID=1048, predicted=3, true=3\n",
      "ID=1049, predicted=9, true=9\n",
      "ID=1050, predicted=4, true=4\n",
      "ID=1051, predicted=2, true=2\n",
      "ID=1052, predicted=9, true=9\n",
      "ID=1053, predicted=7, true=7\n",
      "ID=1054, predicted=2, true=2\n",
      "ID=1055, predicted=0, true=0\n",
      "ID=1056, predicted=2, true=2\n",
      "ID=1057, predicted=1, true=1\n",
      "ID=1058, predicted=4, true=4\n",
      "ID=1059, predicted=5, true=5\n",
      "ID=1060, predicted=5, true=5\n",
      "ID=1061, predicted=3, true=3\n",
      "ID=1062, predicted=7, true=7\n",
      "ID=1063, predicted=3, true=3\n",
      "ID=1064, predicted=0, true=0\n",
      "ID=1065, predicted=4, true=4\n",
      "ID=1066, predicted=0, true=0\n",
      "ID=1067, predicted=0, true=0\n",
      "ID=1068, predicted=1, true=3\n",
      "ID=1069, predicted=4, true=4\n",
      "ID=1070, predicted=8, true=8\n",
      "ID=1071, predicted=7, true=7\n",
      "ID=1072, predicted=1, true=1\n",
      "ID=1073, predicted=0, true=0\n",
      "ID=1074, predicted=0, true=0\n",
      "ID=1075, predicted=9, true=9\n",
      "ID=1076, predicted=8, true=8\n",
      "ID=1077, predicted=9, true=9\n",
      "ID=1078, predicted=1, true=1\n",
      "ID=1079, predicted=7, true=7\n",
      "ID=1080, predicted=3, true=3\n",
      "ID=1081, predicted=5, true=5\n",
      "ID=1082, predicted=1, true=1\n",
      "ID=1083, predicted=6, true=6\n",
      "ID=1084, predicted=0, true=0\n",
      "ID=1085, predicted=5, true=5\n",
      "ID=1086, predicted=5, true=5\n",
      "ID=1087, predicted=8, true=8\n",
      "ID=1088, predicted=7, true=7\n",
      "ID=1089, predicted=9, true=9\n",
      "ID=1090, predicted=5, true=5\n",
      "ID=1091, predicted=7, true=7\n",
      "ID=1092, predicted=2, true=2\n",
      "ID=1093, predicted=5, true=8\n",
      "ID=1094, predicted=9, true=9\n",
      "ID=1095, predicted=6, true=6\n",
      "ID=1096, predicted=4, true=4\n",
      "ID=1097, predicted=7, true=7\n",
      "ID=1098, predicted=1, true=1\n",
      "ID=1099, predicted=2, true=2\n",
      "ID=1100, predicted=7, true=7\n",
      "ID=1101, predicted=2, true=2\n",
      "ID=1102, predicted=7, true=7\n",
      "ID=1103, predicted=6, true=6\n",
      "ID=1104, predicted=2, true=2\n",
      "ID=1105, predicted=8, true=8\n",
      "ID=1106, predicted=3, true=3\n",
      "ID=1107, predicted=1, true=1\n",
      "ID=1108, predicted=0, true=0\n",
      "ID=1109, predicted=2, true=2\n",
      "ID=1110, predicted=1, true=1\n",
      "ID=1111, predicted=9, true=9\n",
      "ID=1112, predicted=5, true=5\n",
      "ID=1113, predicted=0, true=0\n",
      "ID=1114, predicted=9, true=9\n",
      "ID=1115, predicted=1, true=1\n",
      "ID=1116, predicted=6, true=6\n",
      "ID=1117, predicted=8, true=8\n",
      "ID=1118, predicted=1, true=1\n",
      "ID=1119, predicted=2, true=2\n",
      "ID=1120, predicted=4, true=4\n",
      "ID=1121, predicted=1, true=1\n",
      "ID=1122, predicted=4, true=4\n",
      "ID=1123, predicted=6, true=6\n",
      "ID=1124, predicted=4, true=1\n",
      "ID=1125, predicted=8, true=8\n",
      "ID=1126, predicted=7, true=7\n",
      "ID=1127, predicted=9, true=9\n",
      "ID=1128, predicted=2, true=2\n",
      "ID=1129, predicted=7, true=7\n",
      "ID=1130, predicted=8, true=8\n",
      "ID=1131, predicted=9, true=9\n",
      "ID=1132, predicted=3, true=3\n",
      "ID=1133, predicted=3, true=3\n",
      "ID=1134, predicted=2, true=2\n",
      "ID=1135, predicted=8, true=8\n",
      "ID=1136, predicted=9, true=9\n",
      "ID=1137, predicted=3, true=3\n",
      "ID=1138, predicted=9, true=9\n",
      "ID=1139, predicted=5, true=5\n",
      "ID=1140, predicted=8, true=8\n",
      "ID=1141, predicted=4, true=4\n",
      "ID=1142, predicted=4, true=4\n",
      "ID=1143, predicted=7, true=7\n",
      "ID=1144, predicted=3, true=3\n",
      "ID=1145, predicted=6, true=6\n",
      "ID=1146, predicted=5, true=5\n",
      "ID=1147, predicted=7, true=7\n",
      "ID=1148, predicted=2, true=2\n",
      "ID=1149, predicted=7, true=7\n",
      "ID=1150, predicted=8, true=8\n",
      "ID=1151, predicted=9, true=9\n",
      "ID=1152, predicted=7, true=7\n",
      "ID=1153, predicted=8, true=8\n",
      "ID=1154, predicted=0, true=0\n",
      "ID=1155, predicted=8, true=8\n",
      "ID=1156, predicted=6, true=6\n",
      "ID=1157, predicted=4, true=4\n",
      "ID=1158, predicted=1, true=1\n",
      "ID=1159, predicted=6, true=6\n",
      "ID=1160, predicted=0, true=0\n",
      "ID=1161, predicted=4, true=4\n",
      "ID=1162, predicted=4, true=4\n",
      "ID=1163, predicted=3, true=3\n",
      "ID=1164, predicted=3, true=3\n",
      "ID=1165, predicted=1, true=1\n",
      "ID=1166, predicted=3, true=3\n",
      "ID=1167, predicted=2, true=2\n",
      "ID=1168, predicted=8, true=8\n",
      "ID=1169, predicted=8, true=8\n",
      "ID=1170, predicted=6, true=6\n",
      "ID=1171, predicted=5, true=5\n",
      "ID=1172, predicted=5, true=5\n",
      "ID=1173, predicted=2, true=2\n",
      "ID=1174, predicted=4, true=4\n"
     ]
    },
    {
     "name": "stdout",
     "output_type": "stream",
     "text": [
      "ID=1175, predicted=1, true=1\n",
      "ID=1176, predicted=0, true=0\n",
      "ID=1177, predicted=9, true=9\n",
      "ID=1178, predicted=6, true=6\n",
      "ID=1179, predicted=2, true=2\n",
      "ID=1180, predicted=7, true=7\n",
      "ID=1181, predicted=2, true=2\n",
      "ID=1182, predicted=2, true=2\n",
      "ID=1183, predicted=2, true=2\n",
      "ID=1184, predicted=2, true=2\n",
      "ID=1185, predicted=7, true=7\n",
      "ID=1186, predicted=6, true=6\n",
      "ID=1187, predicted=9, true=9\n",
      "ID=1188, predicted=0, true=0\n",
      "ID=1189, predicted=2, true=2\n",
      "ID=1190, predicted=3, true=3\n",
      "ID=1191, predicted=2, true=2\n",
      "ID=1192, predicted=6, true=6\n",
      "ID=1193, predicted=2, true=7\n",
      "ID=1194, predicted=3, true=3\n",
      "ID=1195, predicted=7, true=7\n",
      "ID=1196, predicted=2, true=2\n",
      "ID=1197, predicted=8, true=8\n",
      "ID=1198, predicted=3, true=3\n",
      "ID=1199, predicted=4, true=4\n",
      "ID=1200, predicted=8, true=8\n",
      "ID=1201, predicted=6, true=6\n",
      "ID=1202, predicted=5, true=5\n",
      "ID=1203, predicted=7, true=7\n",
      "ID=1204, predicted=1, true=1\n",
      "ID=1205, predicted=1, true=1\n",
      "ID=1206, predicted=4, true=4\n",
      "ID=1207, predicted=8, true=8\n",
      "ID=1208, predicted=9, true=9\n",
      "ID=1209, predicted=7, true=7\n",
      "ID=1210, predicted=2, true=2\n",
      "ID=1211, predicted=0, true=0\n",
      "ID=1212, predicted=5, true=5\n",
      "ID=1213, predicted=4, true=4\n",
      "ID=1214, predicted=6, true=6\n",
      "ID=1215, predicted=2, true=2\n",
      "ID=1216, predicted=4, true=4\n",
      "ID=1217, predicted=9, true=9\n",
      "ID=1218, predicted=1, true=1\n",
      "ID=1219, predicted=4, true=4\n",
      "ID=1220, predicted=4, true=4\n",
      "ID=1221, predicted=8, true=8\n",
      "ID=1222, predicted=2, true=2\n",
      "ID=1223, predicted=7, true=7\n",
      "ID=1224, predicted=0, true=0\n",
      "ID=1225, predicted=7, true=7\n",
      "ID=1226, predicted=6, true=6\n",
      "ID=1227, predicted=2, true=2\n",
      "ID=1228, predicted=3, true=3\n",
      "ID=1229, predicted=4, true=4\n",
      "ID=1230, predicted=1, true=1\n",
      "ID=1231, predicted=3, true=3\n",
      "ID=1232, predicted=3, true=3\n",
      "ID=1233, predicted=4, true=4\n",
      "ID=1234, predicted=1, true=1\n",
      "ID=1235, predicted=0, true=0\n",
      "ID=1236, predicted=5, true=5\n",
      "ID=1237, predicted=2, true=2\n",
      "ID=1238, predicted=5, true=5\n",
      "ID=1239, predicted=6, true=6\n",
      "ID=1240, predicted=5, true=5\n",
      "ID=1241, predicted=2, true=2\n",
      "ID=1242, predicted=2, true=1\n",
      "ID=1243, predicted=2, true=2\n",
      "ID=1244, predicted=2, true=2\n",
      "ID=1245, predicted=8, true=8\n",
      "ID=1246, predicted=0, true=0\n",
      "ID=1247, predicted=2, true=2\n",
      "ID=1248, predicted=8, true=8\n",
      "ID=1249, predicted=0, true=0\n",
      "ID=1250, predicted=0, true=0\n",
      "ID=1251, predicted=9, true=9\n",
      "ID=1252, predicted=6, true=6\n",
      "ID=1253, predicted=1, true=1\n",
      "ID=1254, predicted=0, true=0\n",
      "ID=1255, predicted=6, true=6\n",
      "ID=1256, predicted=1, true=1\n",
      "ID=1257, predicted=7, true=7\n",
      "ID=1258, predicted=2, true=2\n",
      "ID=1259, predicted=3, true=9\n",
      "ID=1260, predicted=1, true=2\n",
      "ID=1261, predicted=9, true=9\n",
      "ID=1262, predicted=7, true=7\n",
      "ID=1263, predicted=2, true=2\n",
      "ID=1264, predicted=4, true=4\n",
      "ID=1265, predicted=6, true=6\n",
      "ID=1266, predicted=9, true=9\n",
      "ID=1267, predicted=1, true=1\n",
      "ID=1268, predicted=3, true=3\n",
      "ID=1269, predicted=3, true=3\n",
      "ID=1270, predicted=5, true=5\n",
      "ID=1271, predicted=2, true=2\n",
      "ID=1272, predicted=8, true=8\n",
      "ID=1273, predicted=5, true=5\n",
      "ID=1274, predicted=0, true=0\n",
      "ID=1275, predicted=5, true=5\n",
      "ID=1276, predicted=3, true=3\n",
      "ID=1277, predicted=7, true=7\n",
      "ID=1278, predicted=1, true=1\n",
      "ID=1279, predicted=3, true=3\n",
      "ID=1280, predicted=3, true=3\n",
      "ID=1281, predicted=3, true=3\n",
      "ID=1282, predicted=7, true=7\n",
      "ID=1283, predicted=3, true=3\n",
      "ID=1284, predicted=0, true=0\n",
      "ID=1285, predicted=6, true=6\n",
      "ID=1286, predicted=2, true=2\n",
      "ID=1287, predicted=0, true=0\n",
      "ID=1288, predicted=6, true=6\n",
      "ID=1289, predicted=0, true=0\n",
      "ID=1290, predicted=7, true=7\n",
      "ID=1291, predicted=6, true=6\n",
      "ID=1292, predicted=3, true=3\n",
      "ID=1293, predicted=1, true=1\n",
      "ID=1294, predicted=8, true=8\n",
      "ID=1295, predicted=1, true=1\n",
      "ID=1296, predicted=4, true=4\n",
      "ID=1297, predicted=8, true=8\n",
      "ID=1298, predicted=7, true=7\n",
      "ID=1299, predicted=8, true=8\n",
      "ID=1300, predicted=7, true=7\n",
      "ID=1301, predicted=9, true=5\n",
      "ID=1302, predicted=6, true=6\n",
      "ID=1303, predicted=7, true=7\n",
      "ID=1304, predicted=7, true=7\n",
      "ID=1305, predicted=1, true=7\n",
      "ID=1306, predicted=6, true=6\n",
      "ID=1307, predicted=7, true=7\n",
      "ID=1308, predicted=9, true=9\n",
      "ID=1309, predicted=8, true=8\n",
      "ID=1310, predicted=5, true=3\n",
      "ID=1311, predicted=0, true=0\n",
      "ID=1312, predicted=2, true=2\n",
      "ID=1313, predicted=4, true=4\n",
      "ID=1314, predicted=3, true=3\n",
      "ID=1315, predicted=8, true=8\n",
      "ID=1316, predicted=1, true=7\n",
      "ID=1317, predicted=8, true=8\n",
      "ID=1318, predicted=9, true=0\n",
      "ID=1319, predicted=7, true=7\n",
      "ID=1320, predicted=5, true=5\n",
      "ID=1321, predicted=8, true=8\n",
      "ID=1322, predicted=0, true=0\n",
      "ID=1323, predicted=9, true=9\n",
      "ID=1324, predicted=1, true=1\n",
      "ID=1325, predicted=0, true=0\n",
      "ID=1326, predicted=5, true=5\n",
      "ID=1327, predicted=3, true=3\n",
      "ID=1328, predicted=1, true=1\n",
      "ID=1329, predicted=1, true=1\n",
      "ID=1330, predicted=2, true=2\n",
      "ID=1331, predicted=7, true=7\n",
      "ID=1332, predicted=6, true=6\n",
      "ID=1333, predicted=5, true=5\n",
      "ID=1334, predicted=0, true=0\n",
      "ID=1335, predicted=9, true=9\n",
      "ID=1336, predicted=4, true=4\n",
      "ID=1337, predicted=1, true=1\n",
      "ID=1338, predicted=7, true=7\n",
      "ID=1339, predicted=5, true=5\n",
      "ID=1340, predicted=5, true=5\n",
      "ID=1341, predicted=5, true=5\n",
      "ID=1342, predicted=2, true=2\n",
      "ID=1343, predicted=2, true=2\n",
      "ID=1344, predicted=3, true=3\n",
      "ID=1345, predicted=4, true=4\n",
      "ID=1346, predicted=4, true=4\n",
      "ID=1347, predicted=1, true=1\n",
      "ID=1348, predicted=4, true=4\n",
      "ID=1349, predicted=8, true=8\n",
      "ID=1350, predicted=6, true=6\n",
      "ID=1351, predicted=7, true=7\n",
      "ID=1352, predicted=9, true=9\n",
      "ID=1353, predicted=5, true=5\n",
      "ID=1354, predicted=3, true=3\n",
      "ID=1355, predicted=9, true=9\n",
      "ID=1356, predicted=7, true=7\n",
      "ID=1357, predicted=2, true=2\n",
      "ID=1358, predicted=8, true=8\n",
      "ID=1359, predicted=4, true=4\n",
      "ID=1360, predicted=9, true=9\n",
      "ID=1361, predicted=0, true=0\n",
      "ID=1362, predicted=2, true=2\n",
      "ID=1363, predicted=0, true=0\n",
      "ID=1364, predicted=5, true=5\n",
      "ID=1365, predicted=1, true=1\n",
      "ID=1366, predicted=1, true=7\n",
      "ID=1367, predicted=4, true=4\n",
      "ID=1368, predicted=1, true=1\n",
      "ID=1369, predicted=3, true=3\n",
      "ID=1370, predicted=0, true=0\n",
      "ID=1371, predicted=4, true=4\n",
      "ID=1372, predicted=7, true=7\n",
      "ID=1373, predicted=3, true=3\n",
      "ID=1374, predicted=1, true=1\n",
      "ID=1375, predicted=0, true=0\n",
      "ID=1376, predicted=1, true=1\n",
      "ID=1377, predicted=7, true=7\n",
      "ID=1378, predicted=9, true=9\n",
      "ID=1379, predicted=9, true=9\n",
      "ID=1380, predicted=6, true=6\n",
      "ID=1381, predicted=7, true=7\n",
      "ID=1382, predicted=6, true=6\n",
      "ID=1383, predicted=7, true=7\n",
      "ID=1384, predicted=8, true=8\n",
      "ID=1385, predicted=1, true=1\n",
      "ID=1386, predicted=2, true=2\n",
      "ID=1387, predicted=0, true=0\n",
      "ID=1388, predicted=4, true=4\n",
      "ID=1389, predicted=9, true=9\n",
      "ID=1390, predicted=7, true=7\n",
      "ID=1391, predicted=9, true=9\n",
      "ID=1392, predicted=7, true=7\n",
      "ID=1393, predicted=0, true=0\n",
      "ID=1394, predicted=5, true=5\n",
      "ID=1395, predicted=8, true=8\n",
      "ID=1396, predicted=6, true=6\n",
      "ID=1397, predicted=2, true=2\n",
      "ID=1398, predicted=8, true=8\n",
      "ID=1399, predicted=4, true=4\n",
      "ID=1400, predicted=7, true=7\n",
      "ID=1401, predicted=7, true=7\n",
      "ID=1402, predicted=4, true=4\n",
      "ID=1403, predicted=3, true=3\n",
      "ID=1404, predicted=0, true=0\n",
      "ID=1405, predicted=1, true=2\n",
      "ID=1406, predicted=2, true=2\n",
      "ID=1407, predicted=8, true=8\n",
      "ID=1408, predicted=1, true=1\n",
      "ID=1409, predicted=3, true=3\n",
      "ID=1410, predicted=8, true=8\n",
      "ID=1411, predicted=5, true=5\n",
      "ID=1412, predicted=6, true=6\n",
      "ID=1413, predicted=8, true=8\n",
      "ID=1414, predicted=1, true=1\n",
      "ID=1415, predicted=9, true=9\n",
      "ID=1416, predicted=2, true=2\n",
      "ID=1417, predicted=5, true=5\n",
      "ID=1418, predicted=4, true=4\n",
      "ID=1419, predicted=1, true=9\n",
      "ID=1420, predicted=3, true=3\n",
      "ID=1421, predicted=8, true=8\n",
      "ID=1422, predicted=0, true=0\n",
      "ID=1423, predicted=5, true=5\n",
      "ID=1424, predicted=6, true=6\n",
      "ID=1425, predicted=0, true=0\n",
      "ID=1426, predicted=1, true=1\n",
      "ID=1427, predicted=4, true=4\n",
      "ID=1428, predicted=7, true=7\n",
      "ID=1429, predicted=1, true=1\n",
      "ID=1430, predicted=5, true=5\n",
      "ID=1431, predicted=9, true=9\n",
      "ID=1432, predicted=2, true=2\n",
      "ID=1433, predicted=0, true=0\n",
      "ID=1434, predicted=8, true=8\n",
      "ID=1435, predicted=3, true=3\n",
      "ID=1436, predicted=0, true=0\n",
      "ID=1437, predicted=4, true=4\n",
      "ID=1438, predicted=0, true=0\n",
      "ID=1439, predicted=7, true=7\n",
      "ID=1440, predicted=8, true=8\n",
      "ID=1441, predicted=6, true=6\n",
      "ID=1442, predicted=8, true=8\n",
      "ID=1443, predicted=5, true=5\n",
      "ID=1444, predicted=2, true=2\n",
      "ID=1445, predicted=3, true=3\n",
      "ID=1446, predicted=0, true=0\n",
      "ID=1447, predicted=0, true=0\n",
      "ID=1448, predicted=0, true=0\n",
      "ID=1449, predicted=1, true=1\n",
      "ID=1450, predicted=9, true=9\n",
      "ID=1451, predicted=9, true=9\n",
      "ID=1452, predicted=2, true=2\n",
      "ID=1453, predicted=4, true=4\n",
      "ID=1454, predicted=7, true=7\n",
      "ID=1455, predicted=8, true=8\n",
      "ID=1456, predicted=3, true=3\n",
      "ID=1457, predicted=1, true=3\n",
      "ID=1458, predicted=0, true=0\n"
     ]
    },
    {
     "name": "stdout",
     "output_type": "stream",
     "text": [
      "ID=1459, predicted=0, true=0\n",
      "ID=1460, predicted=2, true=2\n",
      "ID=1461, predicted=4, true=4\n",
      "ID=1462, predicted=9, true=9\n",
      "ID=1463, predicted=9, true=9\n",
      "ID=1464, predicted=3, true=3\n",
      "ID=1465, predicted=1, true=1\n",
      "ID=1466, predicted=8, true=8\n",
      "ID=1467, predicted=1, true=1\n",
      "ID=1468, predicted=0, true=0\n",
      "ID=1469, predicted=9, true=9\n",
      "ID=1470, predicted=6, true=6\n",
      "ID=1471, predicted=2, true=1\n",
      "ID=1472, predicted=2, true=2\n",
      "ID=1473, predicted=1, true=1\n",
      "ID=1474, predicted=7, true=7\n",
      "ID=1475, predicted=1, true=1\n",
      "ID=1476, predicted=2, true=2\n",
      "ID=1477, predicted=9, true=9\n",
      "ID=1478, predicted=9, true=9\n",
      "ID=1479, predicted=8, true=8\n",
      "ID=1480, predicted=9, true=4\n",
      "ID=1481, predicted=6, true=6\n",
      "ID=1482, predicted=0, true=0\n",
      "ID=1483, predicted=4, true=4\n",
      "ID=1484, predicted=9, true=9\n",
      "ID=1485, predicted=1, true=1\n",
      "ID=1486, predicted=4, true=4\n",
      "ID=1487, predicted=4, true=4\n",
      "ID=1488, predicted=5, true=5\n",
      "ID=1489, predicted=8, true=8\n",
      "ID=1490, predicted=2, true=2\n",
      "ID=1491, predicted=2, true=2\n",
      "ID=1492, predicted=6, true=6\n",
      "ID=1493, predicted=7, true=7\n",
      "ID=1494, predicted=8, true=8\n",
      "ID=1495, predicted=2, true=2\n",
      "ID=1496, predicted=0, true=0\n",
      "ID=1497, predicted=0, true=0\n",
      "ID=1498, predicted=0, true=0\n",
      "ID=1499, predicted=3, true=3\n",
      "ID=1500, predicted=1, true=1\n",
      "ID=1501, predicted=5, true=5\n",
      "ID=1502, predicted=6, true=6\n",
      "ID=1503, predicted=8, true=8\n",
      "ID=1504, predicted=7, true=7\n",
      "ID=1505, predicted=4, true=4\n",
      "ID=1506, predicted=7, true=7\n",
      "ID=1507, predicted=3, true=3\n",
      "ID=1508, predicted=9, true=9\n",
      "ID=1509, predicted=7, true=7\n",
      "ID=1510, predicted=4, true=4\n",
      "ID=1511, predicted=1, true=1\n",
      "ID=1512, predicted=8, true=8\n",
      "ID=1513, predicted=4, true=4\n",
      "ID=1514, predicted=7, true=7\n",
      "ID=1515, predicted=4, true=4\n",
      "ID=1516, predicted=9, true=9\n",
      "ID=1517, predicted=9, true=9\n",
      "ID=1518, predicted=3, true=3\n",
      "ID=1519, predicted=0, true=0\n",
      "ID=1520, predicted=7, true=7\n",
      "ID=1521, predicted=7, true=7\n",
      "ID=1522, predicted=8, true=8\n",
      "ID=1523, predicted=7, true=7\n",
      "ID=1524, predicted=3, true=3\n",
      "ID=1525, predicted=2, true=2\n",
      "ID=1526, predicted=0, true=0\n",
      "ID=1527, predicted=5, true=5\n",
      "ID=1528, predicted=5, true=5\n",
      "ID=1529, predicted=8, true=8\n",
      "ID=1530, predicted=2, true=2\n",
      "ID=1531, predicted=4, true=4\n",
      "ID=1532, predicted=7, true=7\n",
      "ID=1533, predicted=3, true=3\n",
      "ID=1534, predicted=6, true=6\n",
      "ID=1535, predicted=9, true=9\n",
      "ID=1536, predicted=1, true=1\n",
      "ID=1537, predicted=6, true=6\n",
      "ID=1538, predicted=3, true=3\n",
      "ID=1539, predicted=6, true=6\n",
      "ID=1540, predicted=2, true=2\n",
      "ID=1541, predicted=5, true=5\n",
      "ID=1542, predicted=9, true=9\n",
      "ID=1543, predicted=9, true=9\n",
      "ID=1544, predicted=9, true=9\n",
      "ID=1545, predicted=9, true=9\n",
      "ID=1546, predicted=5, true=5\n",
      "ID=1547, predicted=7, true=7\n",
      "ID=1548, predicted=2, true=2\n",
      "ID=1549, predicted=7, true=7\n",
      "ID=1550, predicted=6, true=6\n",
      "ID=1551, predicted=9, true=9\n",
      "ID=1552, predicted=4, true=4\n",
      "ID=1553, predicted=0, true=0\n",
      "ID=1554, predicted=4, true=4\n",
      "ID=1555, predicted=3, true=3\n",
      "ID=1556, predicted=8, true=8\n",
      "ID=1557, predicted=1, true=1\n",
      "ID=1558, predicted=9, true=9\n",
      "ID=1559, predicted=5, true=5\n",
      "ID=1560, predicted=5, true=5\n",
      "ID=1561, predicted=3, true=3\n",
      "ID=1562, predicted=8, true=8\n",
      "ID=1563, predicted=3, true=3\n",
      "ID=1564, predicted=1, true=1\n",
      "ID=1565, predicted=6, true=6\n",
      "ID=1566, predicted=5, true=5\n",
      "ID=1567, predicted=6, true=6\n",
      "ID=1568, predicted=7, true=7\n",
      "ID=1569, predicted=7, true=7\n",
      "ID=1570, predicted=3, true=3\n",
      "ID=1571, predicted=2, true=2\n",
      "ID=1572, predicted=4, true=4\n",
      "ID=1573, predicted=4, true=4\n",
      "ID=1574, predicted=5, true=5\n",
      "ID=1575, predicted=1, true=1\n",
      "ID=1576, predicted=2, true=2\n",
      "ID=1577, predicted=4, true=4\n",
      "ID=1578, predicted=7, true=7\n",
      "ID=1579, predicted=3, true=3\n",
      "ID=1580, predicted=5, true=5\n",
      "ID=1581, predicted=5, true=5\n",
      "ID=1582, predicted=9, true=9\n",
      "ID=1583, predicted=6, true=6\n",
      "ID=1584, predicted=6, true=6\n",
      "ID=1585, predicted=9, true=9\n",
      "ID=1586, predicted=2, true=2\n",
      "ID=1587, predicted=8, true=8\n",
      "ID=1588, predicted=5, true=5\n",
      "ID=1589, predicted=5, true=5\n",
      "ID=1590, predicted=5, true=5\n",
      "ID=1591, predicted=0, true=0\n",
      "ID=1592, predicted=2, true=2\n",
      "ID=1593, predicted=3, true=3\n",
      "ID=1594, predicted=5, true=5\n",
      "ID=1595, predicted=1, true=1\n",
      "ID=1596, predicted=1, true=1\n",
      "ID=1597, predicted=0, true=0\n",
      "ID=1598, predicted=2, true=2\n",
      "ID=1599, predicted=3, true=3\n",
      "ID=1600, predicted=8, true=8\n",
      "ID=1601, predicted=4, true=4\n",
      "ID=1602, predicted=3, true=3\n",
      "ID=1603, predicted=0, true=0\n",
      "ID=1604, predicted=5, true=5\n",
      "ID=1605, predicted=0, true=0\n",
      "ID=1606, predicted=1, true=1\n",
      "ID=1607, predicted=4, true=4\n",
      "ID=1608, predicted=2, true=2\n",
      "ID=1609, predicted=7, true=9\n",
      "ID=1610, predicted=3, true=3\n",
      "ID=1611, predicted=1, true=1\n",
      "ID=1612, predicted=6, true=6\n",
      "ID=1613, predicted=4, true=4\n",
      "ID=1614, predicted=2, true=1\n",
      "ID=1615, predicted=1, true=1\n",
      "ID=1616, predicted=6, true=6\n",
      "ID=1617, predicted=3, true=3\n",
      "ID=1618, predicted=5, true=5\n",
      "ID=1619, predicted=5, true=5\n",
      "ID=1620, predicted=4, true=4\n",
      "ID=1621, predicted=1, true=1\n",
      "ID=1622, predicted=5, true=5\n",
      "ID=1623, predicted=4, true=4\n",
      "ID=1624, predicted=6, true=6\n",
      "ID=1625, predicted=4, true=4\n",
      "ID=1626, predicted=6, true=6\n",
      "ID=1627, predicted=5, true=5\n",
      "ID=1628, predicted=8, true=8\n",
      "ID=1629, predicted=2, true=2\n",
      "ID=1630, predicted=2, true=2\n",
      "ID=1631, predicted=0, true=0\n",
      "ID=1632, predicted=0, true=0\n",
      "ID=1633, predicted=7, true=7\n",
      "ID=1634, predicted=1, true=1\n",
      "ID=1635, predicted=1, true=1\n",
      "ID=1636, predicted=6, true=6\n",
      "ID=1637, predicted=1, true=1\n",
      "ID=1638, predicted=3, true=3\n",
      "ID=1639, predicted=9, true=9\n",
      "ID=1640, predicted=8, true=8\n",
      "ID=1641, predicted=2, true=1\n",
      "ID=1642, predicted=6, true=6\n",
      "ID=1643, predicted=7, true=7\n",
      "ID=1644, predicted=7, true=7\n",
      "ID=1645, predicted=3, true=3\n",
      "ID=1646, predicted=4, true=4\n",
      "ID=1647, predicted=1, true=7\n",
      "ID=1648, predicted=7, true=7\n",
      "ID=1649, predicted=6, true=6\n",
      "ID=1650, predicted=2, true=2\n",
      "ID=1651, predicted=7, true=7\n",
      "ID=1652, predicted=0, true=0\n",
      "ID=1653, predicted=2, true=2\n",
      "ID=1654, predicted=0, true=0\n",
      "ID=1655, predicted=5, true=5\n",
      "ID=1656, predicted=1, true=1\n",
      "ID=1657, predicted=6, true=6\n",
      "ID=1658, predicted=8, true=8\n",
      "ID=1659, predicted=3, true=3\n",
      "ID=1660, predicted=1, true=1\n",
      "ID=1661, predicted=5, true=5\n",
      "ID=1662, predicted=3, true=3\n",
      "ID=1663, predicted=3, true=3\n",
      "ID=1664, predicted=2, true=2\n",
      "ID=1665, predicted=6, true=6\n",
      "ID=1666, predicted=6, true=6\n",
      "ID=1667, predicted=9, true=9\n",
      "ID=1668, predicted=1, true=1\n",
      "ID=1669, predicted=1, true=1\n",
      "ID=1670, predicted=6, true=6\n",
      "ID=1671, predicted=0, true=0\n",
      "ID=1672, predicted=1, true=1\n",
      "ID=1673, predicted=4, true=4\n",
      "ID=1674, predicted=6, true=6\n",
      "ID=1675, predicted=2, true=2\n",
      "ID=1676, predicted=7, true=7\n",
      "ID=1677, predicted=4, true=4\n",
      "ID=1678, predicted=5, true=5\n",
      "ID=1679, predicted=2, true=2\n",
      "ID=1680, predicted=5, true=4\n",
      "ID=1681, predicted=9, true=9\n",
      "ID=1682, predicted=4, true=4\n",
      "ID=1683, predicted=7, true=7\n",
      "ID=1684, predicted=7, true=7\n",
      "ID=1685, predicted=9, true=9\n",
      "ID=1686, predicted=0, true=0\n",
      "ID=1687, predicted=9, true=9\n",
      "ID=1688, predicted=6, true=6\n",
      "ID=1689, predicted=6, true=6\n",
      "ID=1690, predicted=8, true=8\n",
      "ID=1691, predicted=7, true=7\n",
      "ID=1692, predicted=8, true=8\n",
      "ID=1693, predicted=8, true=8\n",
      "ID=1694, predicted=6, true=6\n",
      "ID=1695, predicted=4, true=4\n",
      "ID=1696, predicted=2, true=2\n",
      "ID=1697, predicted=4, true=4\n",
      "ID=1698, predicted=9, true=9\n",
      "ID=1699, predicted=8, true=8\n",
      "ID=1700, predicted=2, true=2\n",
      "ID=1701, predicted=4, true=4\n",
      "ID=1702, predicted=3, true=3\n",
      "ID=1703, predicted=0, true=0\n",
      "ID=1704, predicted=5, true=5\n",
      "ID=1705, predicted=3, true=3\n",
      "ID=1706, predicted=2, true=2\n",
      "ID=1707, predicted=1, true=2\n",
      "ID=1708, predicted=0, true=0\n",
      "ID=1709, predicted=1, true=1\n",
      "ID=1710, predicted=2, true=2\n",
      "ID=1711, predicted=1, true=1\n",
      "ID=1712, predicted=1, true=1\n",
      "ID=1713, predicted=1, true=1\n",
      "ID=1714, predicted=7, true=7\n",
      "ID=1715, predicted=1, true=9\n",
      "ID=1716, predicted=4, true=4\n",
      "ID=1717, predicted=4, true=4\n",
      "ID=1718, predicted=0, true=0\n",
      "ID=1719, predicted=3, true=3\n",
      "ID=1720, predicted=8, true=8\n",
      "ID=1721, predicted=2, true=2\n",
      "ID=1722, predicted=7, true=7\n",
      "ID=1723, predicted=7, true=7\n",
      "ID=1724, predicted=1, true=1\n",
      "ID=1725, predicted=8, true=8\n",
      "ID=1726, predicted=9, true=9\n",
      "ID=1727, predicted=4, true=4\n",
      "ID=1728, predicted=2, true=2\n",
      "ID=1729, predicted=1, true=1\n",
      "ID=1730, predicted=6, true=6\n",
      "ID=1731, predicted=8, true=8\n",
      "ID=1732, predicted=0, true=0\n",
      "ID=1733, predicted=3, true=3\n",
      "ID=1734, predicted=1, true=1\n",
      "ID=1735, predicted=9, true=9\n",
      "ID=1736, predicted=1, true=7\n",
      "ID=1737, predicted=6, true=6\n",
      "ID=1738, predicted=5, true=5\n",
      "ID=1739, predicted=5, true=5\n",
      "ID=1740, predicted=2, true=2\n",
      "ID=1741, predicted=2, true=2\n",
      "ID=1742, predicted=4, true=4\n",
      "ID=1743, predicted=6, true=6\n",
      "ID=1744, predicted=9, true=9\n"
     ]
    },
    {
     "name": "stdout",
     "output_type": "stream",
     "text": [
      "ID=1745, predicted=0, true=0\n",
      "ID=1746, predicted=0, true=0\n",
      "ID=1747, predicted=1, true=1\n",
      "ID=1748, predicted=4, true=4\n",
      "ID=1749, predicted=4, true=4\n",
      "ID=1750, predicted=8, true=8\n",
      "ID=1751, predicted=9, true=9\n",
      "ID=1752, predicted=3, true=3\n",
      "ID=1753, predicted=2, true=2\n",
      "ID=1754, predicted=0, true=0\n",
      "ID=1755, predicted=8, true=8\n",
      "ID=1756, predicted=4, true=4\n",
      "ID=1757, predicted=3, true=3\n",
      "ID=1758, predicted=6, true=6\n",
      "ID=1759, predicted=4, true=4\n",
      "ID=1760, predicted=6, true=6\n",
      "ID=1761, predicted=4, true=4\n",
      "ID=1762, predicted=4, true=4\n",
      "ID=1763, predicted=9, true=9\n",
      "ID=1764, predicted=5, true=5\n",
      "ID=1765, predicted=1, true=1\n",
      "ID=1766, predicted=3, true=3\n",
      "ID=1767, predicted=3, true=3\n",
      "ID=1768, predicted=0, true=0\n",
      "ID=1769, predicted=7, true=7\n",
      "ID=1770, predicted=7, true=7\n",
      "ID=1771, predicted=5, true=5\n",
      "ID=1772, predicted=9, true=9\n",
      "ID=1773, predicted=1, true=1\n",
      "ID=1774, predicted=8, true=8\n",
      "ID=1775, predicted=2, true=2\n",
      "ID=1776, predicted=2, true=2\n",
      "ID=1777, predicted=0, true=0\n",
      "ID=1778, predicted=8, true=8\n",
      "ID=1779, predicted=1, true=1\n",
      "ID=1780, predicted=9, true=9\n",
      "ID=1781, predicted=1, true=1\n",
      "ID=1782, predicted=4, true=4\n",
      "ID=1783, predicted=5, true=5\n",
      "ID=1784, predicted=0, true=0\n",
      "ID=1785, predicted=6, true=6\n",
      "ID=1786, predicted=8, true=7\n",
      "ID=1787, predicted=5, true=5\n",
      "ID=1788, predicted=4, true=4\n",
      "ID=1789, predicted=3, true=3\n",
      "ID=1790, predicted=9, true=9\n",
      "ID=1791, predicted=8, true=8\n",
      "ID=1792, predicted=1, true=1\n",
      "ID=1793, predicted=3, true=3\n",
      "ID=1794, predicted=1, true=1\n",
      "ID=1795, predicted=6, true=6\n",
      "ID=1796, predicted=7, true=7\n",
      "ID=1797, predicted=6, true=6\n",
      "ID=1798, predicted=1, true=7\n",
      "ID=1799, predicted=7, true=7\n",
      "ID=1800, predicted=4, true=4\n",
      "ID=1801, predicted=0, true=0\n",
      "ID=1802, predicted=6, true=6\n",
      "ID=1803, predicted=6, true=6\n",
      "ID=1804, predicted=5, true=5\n",
      "ID=1805, predicted=7, true=7\n",
      "ID=1806, predicted=4, true=4\n",
      "ID=1807, predicted=7, true=7\n",
      "ID=1808, predicted=5, true=5\n",
      "ID=1809, predicted=7, true=7\n",
      "ID=1810, predicted=1, true=1\n",
      "ID=1811, predicted=8, true=8\n",
      "ID=1812, predicted=6, true=6\n",
      "ID=1813, predicted=0, true=0\n",
      "ID=1814, predicted=4, true=4\n",
      "ID=1815, predicted=2, true=2\n",
      "ID=1816, predicted=3, true=3\n",
      "ID=1817, predicted=1, true=1\n",
      "ID=1818, predicted=2, true=1\n",
      "ID=1819, predicted=2, true=2\n",
      "ID=1820, predicted=4, true=4\n",
      "ID=1821, predicted=9, true=9\n",
      "ID=1822, predicted=0, true=0\n",
      "ID=1823, predicted=8, true=8\n",
      "ID=1824, predicted=0, true=0\n",
      "ID=1825, predicted=6, true=6\n",
      "ID=1826, predicted=1, true=1\n",
      "ID=1827, predicted=0, true=0\n",
      "ID=1828, predicted=2, true=2\n",
      "ID=1829, predicted=5, true=5\n",
      "ID=1830, predicted=5, true=5\n",
      "ID=1831, predicted=4, true=4\n",
      "ID=1832, predicted=8, true=8\n",
      "ID=1833, predicted=7, true=7\n",
      "ID=1834, predicted=5, true=5\n",
      "ID=1835, predicted=5, true=5\n",
      "ID=1836, predicted=2, true=2\n",
      "ID=1837, predicted=0, true=0\n",
      "ID=1838, predicted=0, true=0\n",
      "ID=1839, predicted=4, true=4\n",
      "ID=1840, predicted=3, true=3\n",
      "ID=1841, predicted=6, true=6\n",
      "ID=1842, predicted=0, true=0\n",
      "ID=1843, predicted=4, true=4\n",
      "ID=1844, predicted=8, true=8\n",
      "ID=1845, predicted=9, true=9\n",
      "ID=1846, predicted=7, true=7\n",
      "ID=1847, predicted=3, true=3\n",
      "ID=1848, predicted=0, true=0\n",
      "ID=1849, predicted=8, true=8\n",
      "ID=1850, predicted=1, true=1\n",
      "ID=1851, predicted=1, true=1\n",
      "ID=1852, predicted=8, true=8\n",
      "ID=1853, predicted=3, true=3\n",
      "ID=1854, predicted=5, true=5\n",
      "ID=1855, predicted=1, true=1\n",
      "ID=1856, predicted=8, true=8\n",
      "ID=1857, predicted=2, true=2\n",
      "ID=1858, predicted=7, true=7\n",
      "ID=1859, predicted=0, true=0\n",
      "ID=1860, predicted=4, true=4\n",
      "ID=1861, predicted=1, true=1\n",
      "ID=1862, predicted=3, true=3\n",
      "ID=1863, predicted=9, true=9\n",
      "ID=1864, predicted=3, true=3\n",
      "ID=1865, predicted=3, true=3\n",
      "ID=1866, predicted=7, true=7\n",
      "ID=1867, predicted=7, true=7\n",
      "ID=1868, predicted=6, true=6\n",
      "ID=1869, predicted=6, true=6\n",
      "ID=1870, predicted=3, true=3\n",
      "ID=1871, predicted=7, true=7\n",
      "ID=1872, predicted=5, true=5\n",
      "ID=1873, predicted=8, true=8\n",
      "ID=1874, predicted=4, true=4\n",
      "ID=1875, predicted=4, true=4\n",
      "ID=1876, predicted=9, true=9\n",
      "ID=1877, predicted=1, true=1\n",
      "ID=1878, predicted=4, true=4\n",
      "ID=1879, predicted=6, true=6\n",
      "ID=1880, predicted=9, true=5\n",
      "ID=1881, predicted=8, true=8\n",
      "ID=1882, predicted=2, true=2\n",
      "ID=1883, predicted=6, true=6\n",
      "ID=1884, predicted=5, true=5\n",
      "ID=1885, predicted=9, true=9\n",
      "ID=1886, predicted=1, true=1\n",
      "ID=1887, predicted=5, true=5\n",
      "ID=1888, predicted=7, true=7\n",
      "ID=1889, predicted=1, true=1\n",
      "ID=1890, predicted=6, true=6\n",
      "ID=1891, predicted=9, true=9\n",
      "ID=1892, predicted=4, true=4\n",
      "ID=1893, predicted=4, true=4\n",
      "ID=1894, predicted=0, true=0\n",
      "ID=1895, predicted=9, true=9\n",
      "ID=1896, predicted=2, true=2\n",
      "ID=1897, predicted=5, true=5\n",
      "ID=1898, predicted=6, true=6\n",
      "ID=1899, predicted=7, true=7\n",
      "ID=1900, predicted=0, true=0\n",
      "ID=1901, predicted=9, true=0\n",
      "ID=1902, predicted=3, true=3\n",
      "ID=1903, predicted=4, true=4\n",
      "ID=1904, predicted=5, true=5\n",
      "ID=1905, predicted=9, true=0\n",
      "ID=1906, predicted=1, true=1\n",
      "ID=1907, predicted=6, true=6\n",
      "ID=1908, predicted=3, true=3\n",
      "ID=1909, predicted=2, true=2\n",
      "ID=1910, predicted=3, true=3\n",
      "ID=1911, predicted=8, true=8\n",
      "ID=1912, predicted=8, true=8\n",
      "ID=1913, predicted=0, true=0\n",
      "ID=1914, predicted=5, true=5\n",
      "ID=1915, predicted=3, true=3\n",
      "ID=1916, predicted=5, true=5\n",
      "ID=1917, predicted=4, true=4\n",
      "ID=1918, predicted=6, true=6\n",
      "ID=1919, predicted=7, true=7\n",
      "ID=1920, predicted=9, true=9\n",
      "ID=1921, predicted=1, true=1\n",
      "ID=1922, predicted=2, true=1\n",
      "ID=1923, predicted=8, true=8\n",
      "ID=1924, predicted=2, true=2\n",
      "ID=1925, predicted=4, true=4\n",
      "ID=1926, predicted=5, true=5\n",
      "ID=1927, predicted=0, true=0\n",
      "ID=1928, predicted=1, true=1\n",
      "ID=1929, predicted=3, true=3\n",
      "ID=1930, predicted=6, true=6\n",
      "ID=1931, predicted=2, true=2\n",
      "ID=1932, predicted=2, true=2\n",
      "ID=1933, predicted=7, true=7\n",
      "ID=1934, predicted=4, true=4\n",
      "ID=1935, predicted=1, true=1\n",
      "ID=1936, predicted=2, true=2\n",
      "ID=1937, predicted=6, true=6\n",
      "ID=1938, predicted=3, true=3\n",
      "ID=1939, predicted=2, true=2\n",
      "ID=1940, predicted=3, true=3\n",
      "ID=1941, predicted=1, true=7\n",
      "ID=1942, predicted=8, true=8\n",
      "ID=1943, predicted=8, true=8\n",
      "ID=1944, predicted=4, true=4\n",
      "ID=1945, predicted=7, true=7\n",
      "ID=1946, predicted=6, true=6\n",
      "ID=1947, predicted=7, true=1\n",
      "ID=1948, predicted=4, true=4\n",
      "ID=1949, predicted=0, true=0\n",
      "ID=1950, predicted=9, true=0\n",
      "ID=1951, predicted=1, true=1\n",
      "ID=1952, predicted=0, true=0\n",
      "ID=1953, predicted=2, true=2\n",
      "ID=1954, predicted=3, true=3\n",
      "ID=1955, predicted=7, true=7\n",
      "ID=1956, predicted=3, true=3\n",
      "ID=1957, predicted=9, true=9\n",
      "ID=1958, predicted=9, true=9\n",
      "ID=1959, predicted=1, true=1\n",
      "ID=1960, predicted=3, true=3\n",
      "ID=1961, predicted=3, true=3\n",
      "ID=1962, predicted=2, true=2\n",
      "ID=1963, predicted=6, true=6\n",
      "ID=1964, predicted=9, true=0\n",
      "ID=1965, predicted=2, true=2\n",
      "ID=1966, predicted=4, true=4\n",
      "ID=1967, predicted=1, true=1\n",
      "ID=1968, predicted=0, true=0\n",
      "ID=1969, predicted=8, true=8\n",
      "ID=1970, predicted=5, true=5\n",
      "ID=1971, predicted=4, true=4\n",
      "ID=1972, predicted=5, true=5\n",
      "ID=1973, predicted=4, true=4\n",
      "ID=1974, predicted=4, true=4\n",
      "ID=1975, predicted=5, true=5\n",
      "ID=1976, predicted=9, true=9\n",
      "ID=1977, predicted=4, true=4\n",
      "ID=1978, predicted=0, true=0\n",
      "ID=1979, predicted=4, true=4\n",
      "ID=1980, predicted=5, true=5\n",
      "ID=1981, predicted=9, true=9\n",
      "ID=1982, predicted=0, true=0\n",
      "ID=1983, predicted=6, true=6\n",
      "ID=1984, predicted=5, true=5\n",
      "ID=1985, predicted=6, true=6\n",
      "ID=1986, predicted=8, true=8\n",
      "ID=1987, predicted=0, true=0\n",
      "ID=1988, predicted=6, true=6\n",
      "ID=1989, predicted=7, true=7\n",
      "ID=1990, predicted=6, true=6\n",
      "ID=1991, predicted=0, true=0\n",
      "ID=1992, predicted=6, true=6\n",
      "ID=1993, predicted=7, true=7\n",
      "ID=1994, predicted=8, true=8\n",
      "ID=1995, predicted=4, true=4\n",
      "ID=1996, predicted=5, true=5\n",
      "ID=1997, predicted=9, true=9\n",
      "ID=1998, predicted=4, true=4\n",
      "ID=1999, predicted=6, true=6\n",
      "ID=2000, predicted=0, true=0\n",
      "ID=2001, predicted=6, true=6\n",
      "ID=2002, predicted=9, true=9\n",
      "ID=2003, predicted=9, true=9\n",
      "ID=2004, predicted=5, true=5\n",
      "ID=2005, predicted=9, true=9\n",
      "ID=2006, predicted=2, true=2\n",
      "ID=2007, predicted=7, true=7\n",
      "ID=2008, predicted=9, true=9\n",
      "ID=2009, predicted=2, true=2\n",
      "ID=2010, predicted=8, true=8\n",
      "ID=2011, predicted=2, true=2\n",
      "ID=2012, predicted=5, true=5\n",
      "ID=2013, predicted=1, true=1\n",
      "ID=2014, predicted=6, true=6\n",
      "ID=2015, predicted=3, true=5\n",
      "ID=2016, predicted=2, true=2\n",
      "ID=2017, predicted=9, true=9\n",
      "ID=2018, predicted=1, true=2\n",
      "ID=2019, predicted=0, true=0\n",
      "ID=2020, predicted=8, true=8\n",
      "ID=2021, predicted=9, true=9\n",
      "ID=2022, predicted=0, true=0\n",
      "ID=2023, predicted=5, true=5\n",
      "ID=2024, predicted=3, true=3\n",
      "ID=2025, predicted=2, true=2\n",
      "ID=2026, predicted=3, true=3\n",
      "ID=2027, predicted=2, true=2\n",
      "ID=2028, predicted=2, true=2\n",
      "ID=2029, predicted=0, true=0\n",
      "ID=2030, predicted=3, true=3\n"
     ]
    },
    {
     "name": "stdout",
     "output_type": "stream",
     "text": [
      "ID=2031, predicted=5, true=5\n",
      "ID=2032, predicted=1, true=1\n",
      "ID=2033, predicted=0, true=0\n",
      "ID=2034, predicted=5, true=5\n",
      "ID=2035, predicted=4, true=4\n",
      "ID=2036, predicted=8, true=8\n",
      "ID=2037, predicted=2, true=2\n",
      "ID=2038, predicted=1, true=1\n",
      "ID=2039, predicted=3, true=3\n",
      "ID=2040, predicted=9, true=9\n",
      "ID=2041, predicted=4, true=4\n",
      "ID=2042, predicted=0, true=0\n",
      "ID=2043, predicted=7, true=7\n",
      "ID=2044, predicted=1, true=1\n",
      "ID=2045, predicted=7, true=7\n",
      "ID=2046, predicted=9, true=9\n",
      "ID=2047, predicted=9, true=9\n",
      "ID=2048, predicted=4, true=4\n",
      "ID=2049, predicted=8, true=8\n",
      "ID=2050, predicted=6, true=6\n",
      "ID=2051, predicted=5, true=5\n",
      "ID=2052, predicted=5, true=5\n",
      "ID=2053, predicted=6, true=6\n",
      "ID=2054, predicted=3, true=3\n",
      "ID=2055, predicted=9, true=9\n",
      "ID=2056, predicted=7, true=7\n",
      "ID=2057, predicted=0, true=0\n",
      "ID=2058, predicted=2, true=2\n",
      "ID=2059, predicted=3, true=3\n",
      "ID=2060, predicted=4, true=4\n",
      "ID=2061, predicted=3, true=3\n",
      "ID=2062, predicted=0, true=0\n",
      "ID=2063, predicted=4, true=4\n",
      "ID=2064, predicted=1, true=1\n",
      "ID=2065, predicted=6, true=6\n",
      "ID=2066, predicted=8, true=8\n",
      "ID=2067, predicted=6, true=6\n",
      "ID=2068, predicted=6, true=6\n",
      "ID=2069, predicted=3, true=3\n",
      "ID=2070, predicted=6, true=6\n",
      "ID=2071, predicted=0, true=0\n",
      "ID=2072, predicted=5, true=5\n",
      "ID=2073, predicted=9, true=9\n",
      "ID=2074, predicted=6, true=6\n",
      "ID=2075, predicted=3, true=3\n",
      "ID=2076, predicted=1, true=7\n",
      "ID=2077, predicted=9, true=9\n",
      "ID=2078, predicted=3, true=3\n",
      "ID=2079, predicted=5, true=5\n",
      "ID=2080, predicted=8, true=8\n",
      "ID=2081, predicted=2, true=2\n",
      "ID=2082, predicted=4, true=4\n",
      "ID=2083, predicted=6, true=6\n",
      "ID=2084, predicted=5, true=3\n",
      "ID=2085, predicted=6, true=6\n",
      "ID=2086, predicted=5, true=5\n",
      "ID=2087, predicted=4, true=4\n",
      "ID=2088, predicted=7, true=7\n",
      "ID=2089, predicted=1, true=1\n",
      "ID=2090, predicted=9, true=9\n",
      "ID=2091, predicted=3, true=3\n",
      "ID=2092, predicted=6, true=6\n",
      "ID=2093, predicted=4, true=4\n",
      "ID=2094, predicted=7, true=7\n",
      "ID=2095, predicted=4, true=4\n",
      "ID=2096, predicted=8, true=8\n",
      "ID=2097, predicted=0, true=0\n",
      "ID=2098, predicted=4, true=4\n",
      "ID=2099, predicted=9, true=9\n",
      "ID=2100, predicted=5, true=5\n",
      "ID=2101, predicted=5, true=5\n",
      "ID=2102, predicted=9, true=9\n",
      "ID=2103, predicted=5, true=5\n",
      "ID=2104, predicted=6, true=6\n",
      "ID=2105, predicted=0, true=0\n",
      "ID=2106, predicted=3, true=3\n",
      "ID=2107, predicted=7, true=1\n",
      "ID=2108, predicted=4, true=4\n",
      "ID=2109, predicted=4, true=4\n",
      "ID=2110, predicted=1, true=1\n",
      "ID=2111, predicted=9, true=9\n",
      "ID=2112, predicted=2, true=2\n",
      "ID=2113, predicted=1, true=7\n",
      "ID=2114, predicted=5, true=5\n",
      "ID=2115, predicted=5, true=5\n",
      "ID=2116, predicted=6, true=6\n",
      "ID=2117, predicted=7, true=7\n",
      "ID=2118, predicted=7, true=7\n",
      "ID=2119, predicted=5, true=5\n",
      "ID=2120, predicted=8, true=8\n",
      "ID=2121, predicted=7, true=7\n",
      "ID=2122, predicted=7, true=7\n",
      "ID=2123, predicted=1, true=3\n",
      "ID=2124, predicted=7, true=7\n",
      "ID=2125, predicted=4, true=4\n",
      "ID=2126, predicted=9, true=9\n",
      "ID=2127, predicted=4, true=4\n",
      "ID=2128, predicted=7, true=7\n",
      "ID=2129, predicted=8, true=8\n",
      "ID=2130, predicted=5, true=5\n",
      "ID=2131, predicted=1, true=1\n",
      "ID=2132, predicted=3, true=3\n",
      "ID=2133, predicted=5, true=5\n",
      "ID=2134, predicted=3, true=3\n",
      "ID=2135, predicted=3, true=3\n",
      "ID=2136, predicted=0, true=0\n",
      "ID=2137, predicted=6, true=6\n",
      "ID=2138, predicted=2, true=2\n",
      "ID=2139, predicted=4, true=4\n",
      "ID=2140, predicted=4, true=4\n",
      "ID=2141, predicted=5, true=5\n",
      "ID=2142, predicted=4, true=4\n",
      "ID=2143, predicted=0, true=0\n",
      "ID=2144, predicted=9, true=9\n",
      "ID=2145, predicted=1, true=1\n",
      "ID=2146, predicted=3, true=3\n",
      "ID=2147, predicted=5, true=5\n",
      "ID=2148, predicted=8, true=8\n",
      "ID=2149, predicted=0, true=0\n",
      "ID=2150, predicted=3, true=3\n",
      "ID=2151, predicted=4, true=4\n",
      "ID=2152, predicted=5, true=5\n",
      "ID=2153, predicted=2, true=2\n",
      "ID=2154, predicted=1, true=1\n",
      "ID=2155, predicted=2, true=2\n",
      "ID=2156, predicted=5, true=5\n",
      "ID=2157, predicted=6, true=6\n",
      "ID=2158, predicted=8, true=8\n",
      "ID=2159, predicted=7, true=7\n",
      "ID=2160, predicted=3, true=3\n",
      "ID=2161, predicted=0, true=0\n",
      "ID=2162, predicted=2, true=1\n",
      "ID=2163, predicted=8, true=8\n",
      "ID=2164, predicted=2, true=2\n",
      "ID=2165, predicted=7, true=7\n",
      "ID=2166, predicted=2, true=2\n",
      "ID=2167, predicted=7, true=7\n",
      "ID=2168, predicted=4, true=4\n",
      "ID=2169, predicted=7, true=7\n",
      "ID=2170, predicted=4, true=4\n",
      "ID=2171, predicted=4, true=4\n",
      "ID=2172, predicted=6, true=6\n",
      "ID=2173, predicted=4, true=4\n",
      "ID=2174, predicted=2, true=2\n",
      "ID=2175, predicted=7, true=7\n",
      "ID=2176, predicted=5, true=9\n",
      "ID=2177, predicted=9, true=5\n",
      "ID=2178, predicted=0, true=0\n",
      "ID=2179, predicted=3, true=3\n",
      "ID=2180, predicted=7, true=7\n",
      "ID=2181, predicted=2, true=2\n",
      "ID=2182, predicted=0, true=0\n",
      "ID=2183, predicted=8, true=8\n",
      "ID=2184, predicted=3, true=3\n",
      "ID=2185, predicted=9, true=0\n",
      "ID=2186, predicted=9, true=9\n",
      "ID=2187, predicted=4, true=4\n",
      "ID=2188, predicted=7, true=7\n",
      "ID=2189, predicted=9, true=9\n",
      "ID=2190, predicted=8, true=8\n",
      "ID=2191, predicted=5, true=5\n",
      "ID=2192, predicted=6, true=6\n",
      "ID=2193, predicted=5, true=5\n",
      "ID=2194, predicted=9, true=9\n",
      "ID=2195, predicted=0, true=0\n",
      "ID=2196, predicted=4, true=4\n",
      "ID=2197, predicted=8, true=8\n",
      "ID=2198, predicted=1, true=1\n",
      "ID=2199, predicted=7, true=7\n",
      "ID=2200, predicted=7, true=7\n",
      "ID=2201, predicted=2, true=2\n",
      "ID=2202, predicted=4, true=4\n",
      "ID=2203, predicted=1, true=1\n",
      "ID=2204, predicted=4, true=4\n",
      "ID=2205, predicted=3, true=3\n",
      "ID=2206, predicted=4, true=4\n",
      "ID=2207, predicted=9, true=9\n",
      "ID=2208, predicted=4, true=4\n",
      "ID=2209, predicted=6, true=6\n",
      "ID=2210, predicted=0, true=0\n",
      "ID=2211, predicted=6, true=6\n",
      "ID=2212, predicted=2, true=2\n",
      "ID=2213, predicted=7, true=7\n",
      "ID=2214, predicted=1, true=1\n",
      "ID=2215, predicted=2, true=2\n",
      "ID=2216, predicted=3, true=3\n",
      "ID=2217, predicted=4, true=4\n",
      "ID=2218, predicted=4, true=4\n",
      "ID=2219, predicted=9, true=9\n",
      "ID=2220, predicted=1, true=1\n",
      "ID=2221, predicted=1, true=1\n",
      "ID=2222, predicted=0, true=0\n",
      "ID=2223, predicted=9, true=9\n",
      "ID=2224, predicted=2, true=2\n",
      "ID=2225, predicted=0, true=0\n",
      "ID=2226, predicted=3, true=3\n",
      "ID=2227, predicted=6, true=6\n",
      "ID=2228, predicted=1, true=1\n",
      "ID=2229, predicted=1, true=1\n",
      "ID=2230, predicted=8, true=8\n",
      "ID=2231, predicted=9, true=9\n",
      "ID=2232, predicted=2, true=1\n",
      "ID=2233, predicted=1, true=1\n",
      "ID=2234, predicted=6, true=6\n",
      "ID=2235, predicted=6, true=6\n",
      "ID=2236, predicted=8, true=8\n",
      "ID=2237, predicted=0, true=0\n",
      "ID=2238, predicted=9, true=9\n",
      "ID=2239, predicted=8, true=8\n",
      "ID=2240, predicted=1, true=1\n",
      "ID=2241, predicted=1, true=1\n",
      "ID=2242, predicted=1, true=1\n",
      "ID=2243, predicted=3, true=3\n",
      "ID=2244, predicted=6, true=6\n",
      "ID=2245, predicted=2, true=2\n",
      "ID=2246, predicted=6, true=6\n",
      "ID=2247, predicted=9, true=9\n",
      "ID=2248, predicted=1, true=1\n",
      "ID=2249, predicted=8, true=8\n",
      "ID=2250, predicted=0, true=0\n",
      "ID=2251, predicted=5, true=5\n",
      "ID=2252, predicted=0, true=0\n",
      "ID=2253, predicted=2, true=2\n",
      "ID=2254, predicted=0, true=0\n",
      "ID=2255, predicted=8, true=8\n",
      "ID=2256, predicted=6, true=6\n",
      "ID=2257, predicted=1, true=1\n",
      "ID=2258, predicted=1, true=1\n",
      "ID=2259, predicted=1, true=7\n",
      "ID=2260, predicted=3, true=3\n",
      "ID=2261, predicted=6, true=6\n",
      "ID=2262, predicted=8, true=8\n",
      "ID=2263, predicted=0, true=0\n",
      "ID=2264, predicted=3, true=3\n",
      "ID=2265, predicted=5, true=5\n",
      "ID=2266, predicted=9, true=9\n",
      "ID=2267, predicted=8, true=8\n",
      "ID=2268, predicted=2, true=2\n",
      "ID=2269, predicted=5, true=5\n",
      "ID=2270, predicted=0, true=0\n",
      "ID=2271, predicted=3, true=3\n",
      "ID=2272, predicted=1, true=1\n",
      "ID=2273, predicted=7, true=7\n",
      "ID=2274, predicted=5, true=5\n",
      "ID=2275, predicted=5, true=5\n",
      "ID=2276, predicted=9, true=9\n",
      "ID=2277, predicted=9, true=9\n",
      "ID=2278, predicted=5, true=5\n",
      "ID=2279, predicted=9, true=9\n",
      "ID=2280, predicted=8, true=8\n",
      "ID=2281, predicted=0, true=0\n",
      "ID=2282, predicted=2, true=2\n",
      "ID=2283, predicted=9, true=9\n",
      "ID=2284, predicted=4, true=4\n",
      "ID=2285, predicted=1, true=1\n",
      "ID=2286, predicted=7, true=7\n",
      "ID=2287, predicted=0, true=0\n",
      "ID=2288, predicted=7, true=7\n",
      "ID=2289, predicted=0, true=0\n",
      "ID=2290, predicted=1, true=3\n",
      "ID=2291, predicted=2, true=2\n",
      "ID=2292, predicted=6, true=6\n",
      "ID=2293, predicted=6, true=6\n",
      "ID=2294, predicted=7, true=7\n",
      "ID=2295, predicted=8, true=8\n",
      "ID=2296, predicted=9, true=9\n",
      "ID=2297, predicted=6, true=6\n",
      "ID=2298, predicted=8, true=8\n",
      "ID=2299, predicted=2, true=2\n",
      "ID=2300, predicted=6, true=6\n",
      "ID=2301, predicted=6, true=6\n",
      "ID=2302, predicted=0, true=0\n",
      "ID=2303, predicted=2, true=2\n",
      "ID=2304, predicted=2, true=2\n",
      "ID=2305, predicted=0, true=0\n",
      "ID=2306, predicted=5, true=5\n",
      "ID=2307, predicted=2, true=2\n",
      "ID=2308, predicted=1, true=1\n",
      "ID=2309, predicted=9, true=9\n",
      "ID=2310, predicted=2, true=2\n",
      "ID=2311, predicted=8, true=8\n",
      "ID=2312, predicted=5, true=5\n",
      "ID=2313, predicted=9, true=9\n",
      "ID=2314, predicted=1, true=1\n",
      "ID=2315, predicted=3, true=3\n"
     ]
    },
    {
     "name": "stdout",
     "output_type": "stream",
     "text": [
      "ID=2316, predicted=6, true=6\n",
      "ID=2317, predicted=8, true=8\n",
      "ID=2318, predicted=3, true=3\n",
      "ID=2319, predicted=3, true=3\n",
      "ID=2320, predicted=1, true=1\n",
      "ID=2321, predicted=2, true=2\n",
      "ID=2322, predicted=4, true=4\n",
      "ID=2323, predicted=9, true=9\n",
      "ID=2324, predicted=8, true=8\n",
      "ID=2325, predicted=4, true=4\n",
      "ID=2326, predicted=8, true=8\n",
      "ID=2327, predicted=3, true=3\n",
      "ID=2328, predicted=9, true=9\n",
      "ID=2329, predicted=1, true=1\n",
      "ID=2330, predicted=0, true=0\n",
      "ID=2331, predicted=1, true=1\n",
      "ID=2332, predicted=4, true=4\n",
      "ID=2333, predicted=9, true=9\n",
      "ID=2334, predicted=1, true=1\n",
      "ID=2335, predicted=2, true=2\n",
      "ID=2336, predicted=2, true=1\n",
      "ID=2337, predicted=5, true=5\n",
      "ID=2338, predicted=7, true=7\n",
      "ID=2339, predicted=4, true=4\n",
      "ID=2340, predicted=8, true=8\n",
      "ID=2341, predicted=8, true=8\n",
      "ID=2342, predicted=7, true=7\n",
      "ID=2343, predicted=0, true=0\n",
      "ID=2344, predicted=8, true=8\n",
      "ID=2345, predicted=0, true=0\n",
      "ID=2346, predicted=6, true=6\n",
      "ID=2347, predicted=9, true=9\n",
      "ID=2348, predicted=1, true=1\n",
      "ID=2349, predicted=1, true=7\n",
      "ID=2350, predicted=8, true=8\n",
      "ID=2351, predicted=1, true=1\n",
      "ID=2352, predicted=9, true=9\n",
      "ID=2353, predicted=5, true=5\n",
      "ID=2354, predicted=9, true=9\n",
      "ID=2355, predicted=5, true=5\n",
      "ID=2356, predicted=1, true=1\n",
      "ID=2357, predicted=7, true=7\n",
      "ID=2358, predicted=7, true=7\n",
      "ID=2359, predicted=5, true=5\n",
      "ID=2360, predicted=6, true=6\n",
      "ID=2361, predicted=3, true=3\n",
      "ID=2362, predicted=5, true=5\n",
      "ID=2363, predicted=7, true=7\n",
      "ID=2364, predicted=2, true=2\n",
      "ID=2365, predicted=5, true=5\n",
      "ID=2366, predicted=0, true=0\n",
      "ID=2367, predicted=9, true=9\n",
      "ID=2368, predicted=2, true=2\n",
      "ID=2369, predicted=6, true=6\n",
      "ID=2370, predicted=2, true=2\n",
      "ID=2371, predicted=5, true=5\n",
      "ID=2372, predicted=8, true=8\n",
      "ID=2373, predicted=4, true=4\n",
      "ID=2374, predicted=9, true=9\n",
      "ID=2375, predicted=9, true=9\n",
      "ID=2376, predicted=4, true=4\n",
      "ID=2377, predicted=3, true=3\n",
      "ID=2378, predicted=4, true=4\n",
      "ID=2379, predicted=5, true=5\n",
      "ID=2380, predicted=9, true=9\n",
      "ID=2381, predicted=3, true=3\n",
      "ID=2382, predicted=4, true=4\n",
      "ID=2383, predicted=1, true=1\n",
      "ID=2384, predicted=9, true=9\n",
      "ID=2385, predicted=3, true=3\n",
      "ID=2386, predicted=2, true=2\n",
      "ID=2387, predicted=9, true=9\n",
      "ID=2388, predicted=5, true=5\n",
      "ID=2389, predicted=1, true=1\n",
      "ID=2390, predicted=9, true=9\n",
      "ID=2391, predicted=4, true=4\n",
      "ID=2392, predicted=7, true=7\n",
      "ID=2393, predicted=0, true=0\n",
      "ID=2394, predicted=6, true=6\n",
      "ID=2395, predicted=0, true=0\n",
      "ID=2396, predicted=1, true=1\n",
      "ID=2397, predicted=2, true=2\n",
      "ID=2398, predicted=0, true=0\n",
      "ID=2399, predicted=5, true=5\n",
      "ID=2400, predicted=7, true=7\n",
      "ID=2401, predicted=2, true=2\n",
      "ID=2402, predicted=0, true=0\n",
      "ID=2403, predicted=2, true=2\n",
      "ID=2404, predicted=8, true=8\n",
      "ID=2405, predicted=0, true=0\n",
      "ID=2406, predicted=0, true=0\n",
      "ID=2407, predicted=3, true=3\n",
      "ID=2408, predicted=1, true=1\n",
      "ID=2409, predicted=2, true=2\n",
      "ID=2410, predicted=6, true=6\n",
      "ID=2411, predicted=7, true=7\n",
      "ID=2412, predicted=1, true=1\n",
      "ID=2413, predicted=3, true=3\n",
      "ID=2414, predicted=2, true=2\n",
      "ID=2415, predicted=6, true=6\n",
      "ID=2416, predicted=0, true=0\n",
      "ID=2417, predicted=2, true=2\n",
      "ID=2418, predicted=3, true=3\n",
      "ID=2419, predicted=0, true=0\n",
      "ID=2420, predicted=1, true=7\n",
      "ID=2421, predicted=3, true=3\n",
      "ID=2422, predicted=3, true=3\n",
      "ID=2423, predicted=6, true=6\n",
      "ID=2424, predicted=4, true=4\n",
      "ID=2425, predicted=8, true=8\n",
      "ID=2426, predicted=7, true=7\n",
      "ID=2427, predicted=1, true=1\n",
      "ID=2428, predicted=9, true=9\n",
      "ID=2429, predicted=3, true=3\n",
      "ID=2430, predicted=4, true=4\n",
      "ID=2431, predicted=0, true=0\n",
      "ID=2432, predicted=3, true=3\n",
      "ID=2433, predicted=7, true=7\n",
      "ID=2434, predicted=3, true=3\n",
      "ID=2435, predicted=4, true=4\n",
      "ID=2436, predicted=6, true=6\n",
      "ID=2437, predicted=9, true=9\n",
      "ID=2438, predicted=9, true=9\n",
      "ID=2439, predicted=5, true=5\n",
      "ID=2440, predicted=3, true=3\n",
      "ID=2441, predicted=0, true=0\n",
      "ID=2442, predicted=8, true=8\n",
      "ID=2443, predicted=1, true=1\n",
      "ID=2444, predicted=0, true=0\n",
      "ID=2445, predicted=7, true=7\n",
      "ID=2446, predicted=3, true=3\n",
      "ID=2447, predicted=0, true=0\n",
      "ID=2448, predicted=4, true=4\n",
      "ID=2449, predicted=2, true=2\n",
      "ID=2450, predicted=5, true=5\n",
      "ID=2451, predicted=0, true=0\n",
      "ID=2452, predicted=1, true=1\n",
      "ID=2453, predicted=5, true=5\n",
      "ID=2454, predicted=2, true=2\n",
      "ID=2455, predicted=8, true=8\n",
      "ID=2456, predicted=5, true=5\n",
      "ID=2457, predicted=7, true=7\n",
      "ID=2458, predicted=1, true=1\n",
      "ID=2459, predicted=6, true=6\n",
      "ID=2460, predicted=2, true=2\n",
      "ID=2461, predicted=6, true=6\n",
      "ID=2462, predicted=0, true=0\n",
      "ID=2463, predicted=7, true=7\n",
      "ID=2464, predicted=2, true=2\n",
      "ID=2465, predicted=3, true=3\n",
      "ID=2466, predicted=5, true=5\n",
      "ID=2467, predicted=6, true=6\n",
      "ID=2468, predicted=2, true=2\n",
      "ID=2469, predicted=3, true=3\n",
      "ID=2470, predicted=2, true=2\n",
      "ID=2471, predicted=9, true=9\n",
      "ID=2472, predicted=0, true=0\n",
      "ID=2473, predicted=0, true=0\n",
      "ID=2474, predicted=4, true=4\n",
      "ID=2475, predicted=9, true=9\n",
      "ID=2476, predicted=7, true=7\n",
      "ID=2477, predicted=0, true=0\n",
      "ID=2478, predicted=5, true=5\n",
      "ID=2479, predicted=6, true=4\n",
      "ID=2480, predicted=6, true=6\n",
      "ID=2481, predicted=9, true=9\n",
      "ID=2482, predicted=1, true=1\n",
      "ID=2483, predicted=3, true=3\n",
      "ID=2484, predicted=6, true=6\n",
      "ID=2485, predicted=1, true=1\n",
      "ID=2486, predicted=4, true=4\n",
      "ID=2487, predicted=2, true=2\n",
      "ID=2488, predicted=4, true=4\n",
      "ID=2489, predicted=2, true=2\n",
      "ID=2490, predicted=9, true=9\n",
      "ID=2491, predicted=2, true=2\n",
      "ID=2492, predicted=0, true=0\n",
      "ID=2493, predicted=8, true=8\n",
      "ID=2494, predicted=3, true=3\n",
      "ID=2495, predicted=6, true=6\n",
      "ID=2496, predicted=8, true=8\n",
      "ID=2497, predicted=5, true=5\n",
      "ID=2498, predicted=6, true=6\n",
      "ID=2499, predicted=9, true=9\n",
      "ID=2500, predicted=4, true=4\n",
      "ID=2501, predicted=8, true=8\n",
      "ID=2502, predicted=1, true=1\n",
      "ID=2503, predicted=0, true=0\n",
      "ID=2504, predicted=0, true=0\n",
      "ID=2505, predicted=3, true=9\n",
      "ID=2506, predicted=5, true=5\n",
      "ID=2507, predicted=8, true=8\n",
      "ID=2508, predicted=0, true=0\n",
      "ID=2509, predicted=8, true=8\n",
      "ID=2510, predicted=2, true=2\n",
      "ID=2511, predicted=0, true=0\n",
      "ID=2512, predicted=5, true=5\n",
      "ID=2513, predicted=1, true=1\n",
      "ID=2514, predicted=7, true=7\n",
      "ID=2515, predicted=6, true=6\n",
      "ID=2516, predicted=3, true=3\n",
      "ID=2517, predicted=2, true=2\n",
      "ID=2518, predicted=1, true=1\n",
      "ID=2519, predicted=5, true=5\n",
      "ID=2520, predicted=8, true=8\n",
      "ID=2521, predicted=4, true=4\n",
      "ID=2522, predicted=1, true=1\n",
      "ID=2523, predicted=4, true=4\n",
      "ID=2524, predicted=7, true=7\n",
      "ID=2525, predicted=6, true=6\n",
      "ID=2526, predicted=2, true=2\n",
      "ID=2527, predicted=6, true=6\n",
      "ID=2528, predicted=4, true=4\n",
      "ID=2529, predicted=2, true=2\n",
      "ID=2530, predicted=5, true=5\n",
      "ID=2531, predicted=1, true=1\n",
      "ID=2532, predicted=4, true=4\n",
      "ID=2533, predicted=0, true=0\n",
      "ID=2534, predicted=1, true=7\n",
      "ID=2535, predicted=9, true=9\n",
      "ID=2536, predicted=7, true=7\n",
      "ID=2537, predicted=0, true=0\n",
      "ID=2538, predicted=8, true=8\n",
      "ID=2539, predicted=6, true=6\n",
      "ID=2540, predicted=7, true=7\n",
      "ID=2541, predicted=6, true=6\n",
      "ID=2542, predicted=1, true=1\n",
      "ID=2543, predicted=3, true=3\n",
      "ID=2544, predicted=5, true=5\n",
      "ID=2545, predicted=6, true=6\n",
      "ID=2546, predicted=7, true=7\n",
      "ID=2547, predicted=0, true=0\n",
      "ID=2548, predicted=1, true=1\n",
      "ID=2549, predicted=6, true=6\n",
      "ID=2550, predicted=3, true=3\n",
      "ID=2551, predicted=6, true=6\n",
      "ID=2552, predicted=4, true=4\n",
      "ID=2553, predicted=4, true=4\n",
      "ID=2554, predicted=7, true=7\n",
      "ID=2555, predicted=8, true=8\n",
      "ID=2556, predicted=9, true=9\n",
      "ID=2557, predicted=1, true=1\n",
      "ID=2558, predicted=6, true=6\n",
      "ID=2559, predicted=4, true=4\n",
      "ID=2560, predicted=2, true=2\n",
      "ID=2561, predicted=3, true=3\n",
      "ID=2562, predicted=1, true=1\n",
      "ID=2563, predicted=0, true=0\n",
      "ID=2564, predicted=7, true=7\n",
      "ID=2565, predicted=6, true=6\n",
      "ID=2566, predicted=6, true=6\n",
      "ID=2567, predicted=5, true=5\n",
      "ID=2568, predicted=8, true=8\n",
      "ID=2569, predicted=3, true=3\n",
      "ID=2570, predicted=7, true=7\n",
      "ID=2571, predicted=6, true=6\n",
      "ID=2572, predicted=1, true=2\n",
      "ID=2573, predicted=1, true=1\n",
      "ID=2574, predicted=4, true=4\n",
      "ID=2575, predicted=4, true=4\n",
      "ID=2576, predicted=5, true=5\n",
      "ID=2577, predicted=7, true=7\n",
      "ID=2578, predicted=9, true=9\n",
      "ID=2579, predicted=1, true=1\n",
      "ID=2580, predicted=4, true=4\n",
      "ID=2581, predicted=3, true=3\n",
      "ID=2582, predicted=3, true=3\n",
      "ID=2583, predicted=4, true=4\n",
      "ID=2584, predicted=3, true=3\n",
      "ID=2585, predicted=6, true=6\n",
      "ID=2586, predicted=8, true=8\n",
      "ID=2587, predicted=6, true=6\n",
      "ID=2588, predicted=9, true=9\n",
      "ID=2589, predicted=2, true=2\n",
      "ID=2590, predicted=5, true=5\n",
      "ID=2591, predicted=0, true=0\n",
      "ID=2592, predicted=2, true=2\n",
      "ID=2593, predicted=2, true=2\n",
      "ID=2594, predicted=5, true=5\n",
      "ID=2595, predicted=2, true=2\n",
      "ID=2596, predicted=3, true=3\n",
      "ID=2597, predicted=9, true=9\n",
      "ID=2598, predicted=4, true=4\n"
     ]
    },
    {
     "name": "stdout",
     "output_type": "stream",
     "text": [
      "ID=2599, predicted=9, true=9\n",
      "ID=2600, predicted=3, true=3\n",
      "ID=2601, predicted=0, true=0\n",
      "ID=2602, predicted=7, true=7\n",
      "ID=2603, predicted=3, true=3\n",
      "ID=2604, predicted=6, true=6\n",
      "ID=2605, predicted=1, true=1\n",
      "ID=2606, predicted=6, true=6\n",
      "ID=2607, predicted=5, true=5\n",
      "ID=2608, predicted=2, true=2\n",
      "ID=2609, predicted=3, true=3\n",
      "ID=2610, predicted=3, true=3\n",
      "ID=2611, predicted=1, true=1\n",
      "ID=2612, predicted=5, true=5\n",
      "ID=2613, predicted=8, true=8\n",
      "ID=2614, predicted=1, true=1\n",
      "ID=2615, predicted=4, true=4\n",
      "ID=2616, predicted=0, true=0\n",
      "ID=2617, predicted=8, true=8\n",
      "ID=2618, predicted=8, true=8\n",
      "ID=2619, predicted=2, true=2\n",
      "ID=2620, predicted=7, true=7\n",
      "ID=2621, predicted=3, true=3\n",
      "ID=2622, predicted=6, true=6\n",
      "ID=2623, predicted=7, true=7\n",
      "ID=2624, predicted=6, true=6\n",
      "ID=2625, predicted=6, true=6\n",
      "ID=2626, predicted=6, true=6\n",
      "ID=2627, predicted=6, true=6\n",
      "ID=2628, predicted=2, true=1\n",
      "ID=2629, predicted=3, true=3\n",
      "ID=2630, predicted=8, true=8\n",
      "ID=2631, predicted=8, true=8\n",
      "ID=2632, predicted=9, true=9\n",
      "ID=2633, predicted=0, true=0\n",
      "ID=2634, predicted=5, true=5\n",
      "ID=2635, predicted=4, true=4\n",
      "ID=2636, predicted=4, true=4\n",
      "ID=2637, predicted=1, true=1\n",
      "ID=2638, predicted=2, true=2\n",
      "ID=2639, predicted=8, true=8\n",
      "ID=2640, predicted=8, true=8\n",
      "ID=2641, predicted=2, true=2\n",
      "ID=2642, predicted=0, true=0\n",
      "ID=2643, predicted=9, true=9\n",
      "ID=2644, predicted=7, true=7\n",
      "ID=2645, predicted=9, true=9\n",
      "ID=2646, predicted=6, true=6\n",
      "ID=2647, predicted=7, true=7\n",
      "ID=2648, predicted=8, true=8\n",
      "ID=2649, predicted=5, true=5\n",
      "ID=2650, predicted=5, true=5\n",
      "ID=2651, predicted=5, true=5\n",
      "ID=2652, predicted=5, true=5\n",
      "ID=2653, predicted=0, true=0\n",
      "ID=2654, predicted=4, true=4\n",
      "ID=2655, predicted=9, true=9\n",
      "ID=2656, predicted=1, true=1\n",
      "ID=2657, predicted=9, true=9\n",
      "ID=2658, predicted=3, true=3\n",
      "ID=2659, predicted=1, true=1\n",
      "ID=2660, predicted=0, true=0\n",
      "ID=2661, predicted=1, true=1\n",
      "ID=2662, predicted=4, true=4\n",
      "ID=2663, predicted=4, true=4\n",
      "ID=2664, predicted=2, true=2\n",
      "ID=2665, predicted=4, true=4\n",
      "ID=2666, predicted=5, true=5\n",
      "ID=2667, predicted=0, true=0\n",
      "ID=2668, predicted=6, true=6\n",
      "ID=2669, predicted=4, true=4\n",
      "ID=2670, predicted=2, true=2\n",
      "ID=2671, predicted=5, true=5\n",
      "ID=2672, predicted=5, true=5\n",
      "ID=2673, predicted=9, true=9\n",
      "ID=2674, predicted=7, true=7\n",
      "ID=2675, predicted=5, true=5\n",
      "ID=2676, predicted=3, true=3\n",
      "ID=2677, predicted=0, true=0\n",
      "ID=2678, predicted=7, true=7\n",
      "ID=2679, predicted=9, true=9\n",
      "ID=2680, predicted=3, true=5\n",
      "ID=2681, predicted=9, true=9\n",
      "ID=2682, predicted=9, true=9\n",
      "ID=2683, predicted=7, true=7\n",
      "ID=2684, predicted=3, true=3\n",
      "ID=2685, predicted=7, true=7\n",
      "ID=2686, predicted=3, true=3\n",
      "ID=2687, predicted=6, true=6\n",
      "ID=2688, predicted=1, true=1\n",
      "ID=2689, predicted=2, true=2\n",
      "ID=2690, predicted=9, true=9\n",
      "ID=2691, predicted=7, true=7\n",
      "ID=2692, predicted=5, true=5\n",
      "ID=2693, predicted=0, true=0\n",
      "ID=2694, predicted=7, true=7\n",
      "ID=2695, predicted=7, true=7\n",
      "ID=2696, predicted=4, true=4\n",
      "ID=2697, predicted=7, true=7\n",
      "ID=2698, predicted=2, true=2\n",
      "ID=2699, predicted=3, true=3\n",
      "ID=2700, predicted=1, true=7\n",
      "ID=2701, predicted=1, true=1\n",
      "ID=2702, predicted=1, true=7\n",
      "ID=2703, predicted=9, true=9\n",
      "ID=2704, predicted=1, true=7\n",
      "ID=2705, predicted=9, true=9\n",
      "ID=2706, predicted=8, true=8\n",
      "ID=2707, predicted=1, true=1\n",
      "ID=2708, predicted=5, true=5\n",
      "ID=2709, predicted=7, true=7\n",
      "ID=2710, predicted=3, true=3\n",
      "ID=2711, predicted=2, true=2\n",
      "ID=2712, predicted=4, true=4\n",
      "ID=2713, predicted=9, true=9\n",
      "ID=2714, predicted=7, true=7\n",
      "ID=2715, predicted=4, true=4\n",
      "ID=2716, predicted=1, true=1\n",
      "ID=2717, predicted=2, true=2\n",
      "ID=2718, predicted=2, true=2\n",
      "ID=2719, predicted=5, true=5\n",
      "ID=2720, predicted=9, true=9\n",
      "ID=2721, predicted=2, true=2\n",
      "ID=2722, predicted=4, true=4\n",
      "ID=2723, predicted=1, true=1\n",
      "ID=2724, predicted=7, true=7\n",
      "ID=2725, predicted=4, true=4\n",
      "ID=2726, predicted=0, true=0\n",
      "ID=2727, predicted=2, true=2\n",
      "ID=2728, predicted=3, true=3\n",
      "ID=2729, predicted=3, true=3\n",
      "ID=2730, predicted=0, true=0\n",
      "ID=2731, predicted=4, true=4\n",
      "ID=2732, predicted=9, true=9\n",
      "ID=2733, predicted=5, true=5\n",
      "ID=2734, predicted=7, true=7\n",
      "ID=2735, predicted=9, true=9\n",
      "ID=2736, predicted=1, true=1\n",
      "ID=2737, predicted=7, true=7\n",
      "ID=2738, predicted=9, true=9\n",
      "ID=2739, predicted=9, true=9\n",
      "ID=2740, predicted=5, true=5\n",
      "ID=2741, predicted=6, true=6\n",
      "ID=2742, predicted=0, true=0\n",
      "ID=2743, predicted=6, true=6\n",
      "ID=2744, predicted=1, true=1\n",
      "ID=2745, predicted=6, true=6\n",
      "ID=2746, predicted=5, true=5\n",
      "ID=2747, predicted=7, true=7\n",
      "ID=2748, predicted=9, true=9\n",
      "ID=2749, predicted=0, true=0\n",
      "ID=2750, predicted=6, true=6\n",
      "ID=2751, predicted=2, true=2\n",
      "ID=2752, predicted=2, true=2\n",
      "ID=2753, predicted=0, true=0\n",
      "ID=2754, predicted=0, true=0\n",
      "ID=2755, predicted=8, true=8\n",
      "ID=2756, predicted=0, true=0\n",
      "ID=2757, predicted=3, true=3\n",
      "ID=2758, predicted=5, true=5\n",
      "ID=2759, predicted=1, true=1\n",
      "ID=2760, predicted=6, true=6\n",
      "ID=2761, predicted=5, true=5\n",
      "ID=2762, predicted=4, true=4\n",
      "ID=2763, predicted=6, true=6\n",
      "ID=2764, predicted=2, true=2\n",
      "ID=2765, predicted=0, true=0\n",
      "ID=2766, predicted=0, true=0\n",
      "ID=2767, predicted=0, true=0\n",
      "ID=2768, predicted=6, true=6\n",
      "ID=2769, predicted=9, true=0\n",
      "ID=2770, predicted=5, true=5\n",
      "ID=2771, predicted=1, true=1\n",
      "ID=2772, predicted=2, true=2\n",
      "ID=2773, predicted=9, true=3\n",
      "ID=2774, predicted=2, true=2\n",
      "ID=2775, predicted=8, true=8\n",
      "ID=2776, predicted=4, true=4\n",
      "ID=2777, predicted=2, true=2\n",
      "ID=2778, predicted=7, true=7\n",
      "ID=2779, predicted=5, true=5\n",
      "ID=2780, predicted=6, true=6\n",
      "ID=2781, predicted=4, true=4\n",
      "ID=2782, predicted=4, true=4\n",
      "ID=2783, predicted=1, true=1\n",
      "ID=2784, predicted=7, true=7\n",
      "ID=2785, predicted=4, true=4\n",
      "ID=2786, predicted=4, true=4\n",
      "ID=2787, predicted=0, true=0\n",
      "ID=2788, predicted=8, true=8\n",
      "ID=2789, predicted=5, true=5\n",
      "ID=2790, predicted=9, true=9\n",
      "ID=2791, predicted=1, true=1\n",
      "ID=2792, predicted=7, true=7\n",
      "ID=2793, predicted=7, true=7\n",
      "ID=2794, predicted=3, true=3\n",
      "ID=2795, predicted=5, true=5\n",
      "ID=2796, predicted=5, true=5\n",
      "ID=2797, predicted=1, true=2\n",
      "ID=2798, predicted=8, true=8\n",
      "ID=2799, predicted=1, true=1\n",
      "ID=2800, predicted=3, true=3\n",
      "ID=2801, predicted=0, true=0\n",
      "ID=2802, predicted=7, true=7\n",
      "ID=2803, predicted=3, true=3\n",
      "ID=2804, predicted=5, true=5\n",
      "ID=2805, predicted=5, true=5\n",
      "ID=2806, predicted=7, true=7\n",
      "ID=2807, predicted=6, true=6\n",
      "ID=2808, predicted=2, true=2\n",
      "ID=2809, predicted=9, true=0\n",
      "ID=2810, predicted=2, true=2\n",
      "ID=2811, predicted=4, true=4\n",
      "ID=2812, predicted=6, true=6\n",
      "ID=2813, predicted=8, true=8\n",
      "ID=2814, predicted=9, true=5\n",
      "ID=2815, predicted=0, true=0\n",
      "ID=2816, predicted=6, true=6\n",
      "ID=2817, predicted=5, true=5\n",
      "ID=2818, predicted=4, true=4\n",
      "ID=2819, predicted=1, true=1\n",
      "ID=2820, predicted=3, true=3\n",
      "ID=2821, predicted=4, true=4\n",
      "ID=2822, predicted=4, true=4\n",
      "ID=2823, predicted=4, true=4\n",
      "ID=2824, predicted=6, true=6\n",
      "ID=2825, predicted=6, true=6\n",
      "ID=2826, predicted=7, true=7\n",
      "ID=2827, predicted=8, true=8\n",
      "ID=2828, predicted=3, true=3\n",
      "ID=2829, predicted=1, true=1\n",
      "ID=2830, predicted=1, true=1\n",
      "ID=2831, predicted=0, true=0\n",
      "ID=2832, predicted=8, true=8\n",
      "ID=2833, predicted=4, true=4\n",
      "ID=2834, predicted=8, true=8\n",
      "ID=2835, predicted=1, true=1\n",
      "ID=2836, predicted=7, true=7\n",
      "ID=2837, predicted=6, true=6\n",
      "ID=2838, predicted=5, true=5\n",
      "ID=2839, predicted=0, true=0\n",
      "ID=2840, predicted=9, true=9\n",
      "ID=2841, predicted=8, true=8\n",
      "ID=2842, predicted=0, true=0\n",
      "ID=2843, predicted=1, true=1\n",
      "ID=2844, predicted=4, true=4\n",
      "ID=2845, predicted=3, true=3\n",
      "ID=2846, predicted=0, true=0\n",
      "ID=2847, predicted=4, true=4\n",
      "ID=2848, predicted=1, true=1\n",
      "ID=2849, predicted=6, true=6\n",
      "ID=2850, predicted=6, true=6\n",
      "ID=2851, predicted=2, true=2\n",
      "ID=2852, predicted=0, true=0\n",
      "ID=2853, predicted=5, true=5\n",
      "ID=2854, predicted=9, true=9\n",
      "ID=2855, predicted=9, true=9\n",
      "ID=2856, predicted=9, true=9\n",
      "ID=2857, predicted=6, true=6\n",
      "ID=2858, predicted=3, true=3\n",
      "ID=2859, predicted=2, true=2\n",
      "ID=2860, predicted=4, true=4\n",
      "ID=2861, predicted=4, true=4\n",
      "ID=2862, predicted=7, true=7\n",
      "ID=2863, predicted=0, true=0\n",
      "ID=2864, predicted=3, true=3\n",
      "ID=2865, predicted=2, true=2\n",
      "ID=2866, predicted=9, true=9\n",
      "ID=2867, predicted=6, true=6\n",
      "ID=2868, predicted=2, true=2\n",
      "ID=2869, predicted=5, true=5\n",
      "ID=2870, predicted=5, true=5\n",
      "ID=2871, predicted=2, true=2\n",
      "ID=2872, predicted=9, true=9\n",
      "ID=2873, predicted=0, true=0\n",
      "ID=2874, predicted=2, true=2\n",
      "ID=2875, predicted=5, true=5\n",
      "ID=2876, predicted=9, true=9\n",
      "ID=2877, predicted=8, true=8\n",
      "ID=2878, predicted=1, true=1\n",
      "ID=2879, predicted=8, true=8\n",
      "ID=2880, predicted=6, true=6\n",
      "ID=2881, predicted=7, true=7\n",
      "ID=2882, predicted=9, true=9\n",
      "ID=2883, predicted=4, true=4\n"
     ]
    },
    {
     "name": "stdout",
     "output_type": "stream",
     "text": [
      "ID=2884, predicted=2, true=2\n",
      "ID=2885, predicted=4, true=4\n",
      "ID=2886, predicted=7, true=9\n",
      "ID=2887, predicted=3, true=3\n",
      "ID=2888, predicted=8, true=8\n",
      "ID=2889, predicted=3, true=3\n",
      "ID=2890, predicted=1, true=1\n",
      "ID=2891, predicted=1, true=1\n",
      "ID=2892, predicted=3, true=3\n",
      "ID=2893, predicted=4, true=4\n",
      "ID=2894, predicted=9, true=9\n",
      "ID=2895, predicted=5, true=5\n",
      "ID=2896, predicted=8, true=8\n",
      "ID=2897, predicted=9, true=9\n",
      "ID=2898, predicted=6, true=6\n",
      "ID=2899, predicted=6, true=6\n",
      "ID=2900, predicted=8, true=8\n",
      "ID=2901, predicted=2, true=2\n",
      "ID=2902, predicted=9, true=9\n",
      "ID=2903, predicted=3, true=3\n",
      "ID=2904, predicted=8, true=8\n",
      "ID=2905, predicted=0, true=0\n",
      "ID=2906, predicted=9, true=0\n",
      "ID=2907, predicted=8, true=8\n",
      "ID=2908, predicted=7, true=7\n",
      "ID=2909, predicted=1, true=1\n",
      "ID=2910, predicted=1, true=1\n",
      "ID=2911, predicted=9, true=9\n",
      "ID=2912, predicted=9, true=9\n",
      "ID=2913, predicted=8, true=8\n",
      "ID=2914, predicted=7, true=7\n",
      "ID=2915, predicted=0, true=0\n",
      "ID=2916, predicted=3, true=3\n",
      "ID=2917, predicted=7, true=7\n",
      "ID=2918, predicted=3, true=3\n",
      "ID=2919, predicted=2, true=2\n",
      "ID=2920, predicted=3, true=3\n",
      "ID=2921, predicted=1, true=1\n",
      "ID=2922, predicted=0, true=0\n",
      "ID=2923, predicted=7, true=7\n",
      "ID=2924, predicted=2, true=1\n",
      "ID=2925, predicted=3, true=3\n",
      "ID=2926, predicted=8, true=8\n",
      "ID=2927, predicted=5, true=5\n",
      "ID=2928, predicted=0, true=0\n",
      "ID=2929, predicted=5, true=5\n",
      "ID=2930, predicted=3, true=3\n",
      "ID=2931, predicted=9, true=9\n",
      "ID=2932, predicted=3, true=3\n",
      "ID=2933, predicted=6, true=6\n",
      "ID=2934, predicted=9, true=9\n",
      "ID=2935, predicted=9, true=9\n",
      "ID=2936, predicted=8, true=8\n",
      "ID=2937, predicted=7, true=7\n",
      "ID=2938, predicted=7, true=7\n",
      "ID=2939, predicted=9, true=9\n",
      "ID=2940, predicted=1, true=1\n",
      "ID=2941, predicted=0, true=0\n",
      "ID=2942, predicted=6, true=6\n",
      "ID=2943, predicted=1, true=7\n",
      "ID=2944, predicted=3, true=3\n",
      "ID=2945, predicted=4, true=4\n",
      "ID=2946, predicted=3, true=3\n",
      "ID=2947, predicted=9, true=9\n",
      "ID=2948, predicted=1, true=1\n",
      "ID=2949, predicted=0, true=0\n",
      "ID=2950, predicted=2, true=2\n",
      "ID=2951, predicted=2, true=2\n",
      "ID=2952, predicted=3, true=3\n",
      "ID=2953, predicted=5, true=5\n",
      "ID=2954, predicted=8, true=8\n",
      "ID=2955, predicted=9, true=9\n",
      "ID=2956, predicted=3, true=3\n",
      "ID=2957, predicted=2, true=2\n",
      "ID=2958, predicted=4, true=4\n",
      "ID=2959, predicted=9, true=9\n",
      "ID=2960, predicted=4, true=4\n",
      "ID=2961, predicted=9, true=9\n",
      "ID=2962, predicted=2, true=2\n",
      "ID=2963, predicted=9, true=9\n",
      "ID=2964, predicted=8, true=8\n",
      "ID=2965, predicted=8, true=8\n",
      "ID=2966, predicted=5, true=5\n",
      "ID=2967, predicted=9, true=9\n",
      "ID=2968, predicted=6, true=6\n",
      "ID=2969, predicted=3, true=3\n",
      "ID=2970, predicted=1, true=1\n",
      "ID=2971, predicted=8, true=8\n",
      "ID=2972, predicted=7, true=7\n",
      "ID=2973, predicted=9, true=9\n",
      "ID=2974, predicted=7, true=7\n",
      "ID=2975, predicted=8, true=8\n",
      "ID=2976, predicted=6, true=6\n",
      "ID=2977, predicted=2, true=2\n",
      "ID=2978, predicted=2, true=2\n",
      "ID=2979, predicted=1, true=1\n",
      "ID=2980, predicted=5, true=5\n",
      "ID=2981, predicted=2, true=2\n",
      "ID=2982, predicted=9, true=9\n",
      "ID=2983, predicted=0, true=0\n",
      "ID=2984, predicted=1, true=1\n",
      "ID=2985, predicted=9, true=9\n",
      "ID=2986, predicted=9, true=9\n",
      "ID=2987, predicted=6, true=6\n",
      "ID=2988, predicted=8, true=8\n",
      "ID=2989, predicted=1, true=1\n",
      "ID=2990, predicted=5, true=5\n",
      "ID=2991, predicted=7, true=7\n",
      "ID=2992, predicted=9, true=9\n",
      "ID=2993, predicted=6, true=6\n",
      "ID=2994, predicted=7, true=7\n",
      "ID=2995, predicted=2, true=2\n",
      "ID=2996, predicted=2, true=2\n",
      "ID=2997, predicted=5, true=5\n",
      "ID=2998, predicted=8, true=8\n",
      "ID=2999, predicted=8, true=8\n",
      "ID=3000, predicted=6, true=6\n",
      "ID=3001, predicted=0, true=0\n",
      "ID=3002, predicted=0, true=0\n",
      "ID=3003, predicted=9, true=9\n",
      "ID=3004, predicted=8, true=8\n",
      "ID=3005, predicted=4, true=4\n",
      "ID=3006, predicted=3, true=3\n",
      "ID=3007, predicted=4, true=4\n",
      "ID=3008, predicted=9, true=9\n",
      "ID=3009, predicted=1, true=1\n",
      "ID=3010, predicted=4, true=4\n",
      "ID=3011, predicted=5, true=5\n",
      "ID=3012, predicted=5, true=5\n",
      "ID=3013, predicted=8, true=8\n",
      "ID=3014, predicted=0, true=0\n",
      "ID=3015, predicted=3, true=3\n",
      "ID=3016, predicted=0, true=0\n",
      "ID=3017, predicted=6, true=6\n",
      "ID=3018, predicted=5, true=5\n",
      "ID=3019, predicted=4, true=4\n",
      "ID=3020, predicted=8, true=8\n",
      "ID=3021, predicted=4, true=4\n",
      "ID=3022, predicted=1, true=1\n",
      "ID=3023, predicted=3, true=3\n",
      "ID=3024, predicted=4, true=4\n",
      "ID=3025, predicted=6, true=6\n",
      "ID=3026, predicted=6, true=6\n",
      "ID=3027, predicted=1, true=1\n",
      "ID=3028, predicted=3, true=3\n",
      "ID=3029, predicted=9, true=9\n",
      "ID=3030, predicted=9, true=9\n",
      "ID=3031, predicted=4, true=4\n",
      "ID=3032, predicted=8, true=8\n",
      "ID=3033, predicted=0, true=0\n",
      "ID=3034, predicted=8, true=8\n",
      "ID=3035, predicted=6, true=6\n",
      "ID=3036, predicted=7, true=7\n",
      "ID=3037, predicted=9, true=9\n",
      "ID=3038, predicted=7, true=7\n",
      "ID=3039, predicted=9, true=9\n",
      "ID=3040, predicted=5, true=5\n",
      "ID=3041, predicted=3, true=3\n",
      "ID=3042, predicted=2, true=2\n",
      "ID=3043, predicted=4, true=4\n",
      "ID=3044, predicted=0, true=0\n",
      "ID=3045, predicted=6, true=6\n",
      "ID=3046, predicted=9, true=9\n",
      "ID=3047, predicted=8, true=8\n",
      "ID=3048, predicted=3, true=3\n",
      "ID=3049, predicted=9, true=5\n",
      "ID=3050, predicted=5, true=5\n",
      "ID=3051, predicted=7, true=7\n",
      "ID=3052, predicted=9, true=9\n",
      "ID=3053, predicted=8, true=8\n",
      "ID=3054, predicted=7, true=7\n",
      "ID=3055, predicted=7, true=7\n",
      "ID=3056, predicted=4, true=4\n",
      "ID=3057, predicted=8, true=8\n",
      "ID=3058, predicted=6, true=6\n",
      "ID=3059, predicted=3, true=3\n",
      "ID=3060, predicted=5, true=5\n",
      "ID=3061, predicted=3, true=3\n",
      "ID=3062, predicted=8, true=8\n",
      "ID=3063, predicted=3, true=3\n",
      "ID=3064, predicted=3, true=3\n",
      "ID=3065, predicted=5, true=5\n",
      "ID=3066, predicted=4, true=4\n",
      "ID=3067, predicted=1, true=1\n",
      "ID=3068, predicted=9, true=9\n",
      "ID=3069, predicted=0, true=0\n",
      "ID=3070, predicted=1, true=1\n",
      "ID=3071, predicted=1, true=1\n",
      "ID=3072, predicted=2, true=2\n",
      "ID=3073, predicted=0, true=0\n",
      "ID=3074, predicted=9, true=9\n",
      "ID=3075, predicted=1, true=1\n",
      "ID=3076, predicted=0, true=0\n",
      "ID=3077, predicted=6, true=6\n",
      "ID=3078, predicted=8, true=8\n",
      "ID=3079, predicted=9, true=9\n",
      "ID=3080, predicted=9, true=9\n",
      "ID=3081, predicted=5, true=5\n",
      "ID=3082, predicted=6, true=6\n",
      "ID=3083, predicted=8, true=8\n",
      "ID=3084, predicted=5, true=5\n",
      "ID=3085, predicted=6, true=6\n",
      "ID=3086, predicted=6, true=6\n",
      "ID=3087, predicted=3, true=3\n",
      "ID=3088, predicted=0, true=0\n",
      "ID=3089, predicted=2, true=2\n",
      "ID=3090, predicted=3, true=3\n",
      "ID=3091, predicted=7, true=7\n",
      "ID=3092, predicted=4, true=4\n",
      "ID=3093, predicted=8, true=8\n",
      "ID=3094, predicted=3, true=3\n",
      "ID=3095, predicted=4, true=4\n",
      "ID=3096, predicted=6, true=6\n",
      "ID=3097, predicted=0, true=0\n",
      "ID=3098, predicted=8, true=8\n",
      "ID=3099, predicted=2, true=2\n",
      "ID=3100, predicted=0, true=0\n",
      "ID=3101, predicted=6, true=6\n",
      "ID=3102, predicted=2, true=2\n",
      "ID=3103, predicted=9, true=9\n",
      "ID=3104, predicted=1, true=1\n",
      "ID=3105, predicted=0, true=0\n",
      "ID=3106, predicted=8, true=8\n",
      "ID=3107, predicted=3, true=3\n",
      "ID=3108, predicted=4, true=4\n",
      "ID=3109, predicted=3, true=3\n",
      "ID=3110, predicted=1, true=1\n",
      "ID=3111, predicted=9, true=9\n",
      "ID=3112, predicted=5, true=5\n",
      "ID=3113, predicted=7, true=7\n",
      "ID=3114, predicted=2, true=2\n",
      "ID=3115, predicted=5, true=5\n",
      "ID=3116, predicted=9, true=9\n",
      "ID=3117, predicted=6, true=6\n",
      "ID=3118, predicted=1, true=1\n",
      "ID=3119, predicted=5, true=5\n",
      "ID=3120, predicted=2, true=2\n",
      "ID=3121, predicted=0, true=0\n",
      "ID=3122, predicted=9, true=9\n",
      "ID=3123, predicted=0, true=0\n",
      "ID=3124, predicted=4, true=4\n",
      "ID=3125, predicted=2, true=2\n",
      "ID=3126, predicted=7, true=7\n",
      "ID=3127, predicted=0, true=0\n",
      "ID=3128, predicted=7, true=7\n",
      "ID=3129, predicted=6, true=6\n",
      "ID=3130, predicted=1, true=1\n",
      "ID=3131, predicted=2, true=2\n",
      "ID=3132, predicted=4, true=4\n",
      "ID=3133, predicted=9, true=9\n",
      "ID=3134, predicted=8, true=8\n",
      "ID=3135, predicted=9, true=9\n",
      "ID=3136, predicted=8, true=8\n",
      "ID=3137, predicted=7, true=7\n",
      "ID=3138, predicted=8, true=8\n",
      "ID=3139, predicted=6, true=6\n",
      "ID=3140, predicted=4, true=4\n",
      "ID=3141, predicted=0, true=0\n",
      "ID=3142, predicted=1, true=1\n",
      "ID=3143, predicted=3, true=3\n",
      "ID=3144, predicted=2, true=2\n",
      "ID=3145, predicted=7, true=7\n",
      "ID=3146, predicted=3, true=3\n",
      "ID=3147, predicted=8, true=8\n",
      "ID=3148, predicted=8, true=8\n",
      "ID=3149, predicted=4, true=4\n",
      "ID=3150, predicted=4, true=4\n",
      "ID=3151, predicted=8, true=8\n",
      "ID=3152, predicted=9, true=9\n",
      "ID=3153, predicted=9, true=9\n",
      "ID=3154, predicted=1, true=1\n",
      "ID=3155, predicted=1, true=1\n",
      "ID=3156, predicted=7, true=7\n",
      "ID=3157, predicted=9, true=9\n",
      "ID=3158, predicted=1, true=1\n",
      "ID=3159, predicted=2, true=2\n",
      "ID=3160, predicted=6, true=6\n",
      "ID=3161, predicted=6, true=6\n",
      "ID=3162, predicted=9, true=9\n",
      "ID=3163, predicted=4, true=4\n",
      "ID=3164, predicted=0, true=0\n",
      "ID=3165, predicted=9, true=9\n",
      "ID=3166, predicted=9, true=9\n",
      "ID=3167, predicted=7, true=7\n",
      "ID=3168, predicted=9, true=9\n"
     ]
    },
    {
     "name": "stdout",
     "output_type": "stream",
     "text": [
      "ID=3169, predicted=5, true=5\n",
      "ID=3170, predicted=2, true=2\n",
      "ID=3171, predicted=6, true=6\n",
      "ID=3172, predicted=7, true=7\n",
      "ID=3173, predicted=9, true=5\n",
      "ID=3174, predicted=1, true=1\n",
      "ID=3175, predicted=1, true=1\n",
      "ID=3176, predicted=0, true=0\n",
      "ID=3177, predicted=4, true=4\n",
      "ID=3178, predicted=7, true=7\n",
      "ID=3179, predicted=4, true=4\n",
      "ID=3180, predicted=5, true=5\n",
      "ID=3181, predicted=0, true=0\n",
      "ID=3182, predicted=2, true=2\n",
      "ID=3183, predicted=7, true=7\n",
      "ID=3184, predicted=3, true=3\n",
      "ID=3185, predicted=4, true=4\n",
      "ID=3186, predicted=3, true=3\n",
      "ID=3187, predicted=0, true=0\n",
      "ID=3188, predicted=5, true=8\n",
      "ID=3189, predicted=5, true=5\n",
      "ID=3190, predicted=8, true=8\n",
      "ID=3191, predicted=4, true=4\n",
      "ID=3192, predicted=1, true=1\n",
      "ID=3193, predicted=5, true=5\n",
      "ID=3194, predicted=7, true=7\n",
      "ID=3195, predicted=2, true=2\n",
      "ID=3196, predicted=8, true=8\n",
      "ID=3197, predicted=2, true=2\n",
      "ID=3198, predicted=8, true=8\n",
      "ID=3199, predicted=0, true=0\n",
      "ID=3200, predicted=4, true=4\n",
      "ID=3201, predicted=7, true=7\n",
      "ID=3202, predicted=0, true=0\n",
      "ID=3203, predicted=4, true=4\n",
      "ID=3204, predicted=9, true=9\n",
      "ID=3205, predicted=8, true=8\n",
      "ID=3206, predicted=0, true=0\n",
      "ID=3207, predicted=3, true=3\n",
      "ID=3208, predicted=8, true=8\n",
      "ID=3209, predicted=1, true=1\n",
      "ID=3210, predicted=3, true=3\n",
      "ID=3211, predicted=6, true=6\n",
      "ID=3212, predicted=4, true=4\n",
      "ID=3213, predicted=5, true=5\n",
      "ID=3214, predicted=0, true=0\n",
      "ID=3215, predicted=0, true=0\n",
      "ID=3216, predicted=0, true=0\n",
      "ID=3217, predicted=9, true=9\n",
      "ID=3218, predicted=4, true=4\n",
      "ID=3219, predicted=7, true=7\n",
      "ID=3220, predicted=6, true=6\n",
      "ID=3221, predicted=2, true=2\n",
      "ID=3222, predicted=1, true=1\n",
      "ID=3223, predicted=1, true=1\n",
      "ID=3224, predicted=4, true=4\n",
      "ID=3225, predicted=8, true=8\n",
      "ID=3226, predicted=0, true=0\n",
      "ID=3227, predicted=3, true=3\n",
      "ID=3228, predicted=8, true=8\n",
      "ID=3229, predicted=3, true=3\n",
      "ID=3230, predicted=7, true=7\n",
      "ID=3231, predicted=7, true=7\n",
      "ID=3232, predicted=0, true=0\n",
      "ID=3233, predicted=0, true=0\n",
      "ID=3234, predicted=8, true=8\n",
      "ID=3235, predicted=2, true=2\n",
      "ID=3236, predicted=7, true=7\n",
      "ID=3237, predicted=5, true=5\n",
      "ID=3238, predicted=4, true=4\n",
      "ID=3239, predicted=6, true=6\n",
      "ID=3240, predicted=4, true=4\n",
      "ID=3241, predicted=4, true=4\n",
      "ID=3242, predicted=3, true=3\n",
      "ID=3243, predicted=9, true=9\n",
      "ID=3244, predicted=3, true=3\n",
      "ID=3245, predicted=0, true=0\n",
      "ID=3246, predicted=1, true=1\n",
      "ID=3247, predicted=8, true=8\n",
      "ID=3248, predicted=2, true=1\n",
      "ID=3249, predicted=8, true=8\n",
      "ID=3250, predicted=1, true=1\n",
      "ID=3251, predicted=8, true=8\n",
      "ID=3252, predicted=4, true=4\n",
      "ID=3253, predicted=4, true=4\n",
      "ID=3254, predicted=6, true=6\n",
      "ID=3255, predicted=5, true=5\n",
      "ID=3256, predicted=6, true=6\n",
      "ID=3257, predicted=8, true=8\n",
      "ID=3258, predicted=5, true=5\n",
      "ID=3259, predicted=1, true=1\n",
      "ID=3260, predicted=2, true=2\n",
      "ID=3261, predicted=4, true=4\n",
      "ID=3262, predicted=5, true=5\n",
      "ID=3263, predicted=2, true=2\n",
      "ID=3264, predicted=3, true=3\n",
      "ID=3265, predicted=3, true=3\n",
      "ID=3266, predicted=3, true=3\n",
      "ID=3267, predicted=2, true=1\n",
      "ID=3268, predicted=6, true=6\n",
      "ID=3269, predicted=1, true=1\n",
      "ID=3270, predicted=1, true=1\n",
      "ID=3271, predicted=7, true=7\n",
      "ID=3272, predicted=4, true=4\n",
      "ID=3273, predicted=5, true=5\n",
      "ID=3274, predicted=9, true=9\n",
      "ID=3275, predicted=8, true=8\n",
      "ID=3276, predicted=6, true=6\n",
      "ID=3277, predicted=5, true=4\n",
      "ID=3278, predicted=0, true=0\n",
      "ID=3279, predicted=6, true=6\n",
      "ID=3280, predicted=7, true=7\n",
      "ID=3281, predicted=3, true=3\n",
      "ID=3282, predicted=1, true=1\n",
      "ID=3283, predicted=5, true=3\n",
      "ID=3284, predicted=2, true=2\n",
      "ID=3285, predicted=6, true=6\n",
      "ID=3286, predicted=2, true=2\n",
      "ID=3287, predicted=2, true=2\n",
      "ID=3288, predicted=8, true=8\n",
      "ID=3289, predicted=1, true=1\n",
      "ID=3290, predicted=3, true=3\n",
      "ID=3291, predicted=3, true=3\n",
      "ID=3292, predicted=5, true=5\n",
      "ID=3293, predicted=7, true=7\n",
      "ID=3294, predicted=2, true=2\n",
      "ID=3295, predicted=4, true=4\n",
      "ID=3296, predicted=3, true=3\n",
      "ID=3297, predicted=0, true=0\n",
      "ID=3298, predicted=8, true=8\n",
      "ID=3299, predicted=4, true=4\n",
      "ID=3300, predicted=7, true=7\n",
      "ID=3301, predicted=2, true=2\n",
      "ID=3302, predicted=5, true=5\n",
      "ID=3303, predicted=1, true=2\n",
      "ID=3304, predicted=1, true=1\n",
      "ID=3305, predicted=7, true=7\n",
      "ID=3306, predicted=0, true=0\n",
      "ID=3307, predicted=3, true=3\n",
      "ID=3308, predicted=2, true=2\n",
      "ID=3309, predicted=1, true=1\n",
      "ID=3310, predicted=3, true=3\n",
      "ID=3311, predicted=2, true=2\n",
      "ID=3312, predicted=1, true=1\n",
      "ID=3313, predicted=3, true=3\n",
      "ID=3314, predicted=8, true=8\n",
      "ID=3315, predicted=4, true=4\n",
      "ID=3316, predicted=1, true=1\n",
      "ID=3317, predicted=2, true=2\n",
      "ID=3318, predicted=0, true=0\n",
      "ID=3319, predicted=8, true=8\n",
      "ID=3320, predicted=2, true=2\n",
      "ID=3321, predicted=1, true=1\n",
      "ID=3322, predicted=2, true=2\n",
      "ID=3323, predicted=2, true=2\n",
      "ID=3324, predicted=0, true=0\n",
      "ID=3325, predicted=8, true=8\n",
      "ID=3326, predicted=3, true=3\n",
      "ID=3327, predicted=1, true=1\n",
      "ID=3328, predicted=2, true=2\n",
      "ID=3329, predicted=0, true=0\n",
      "ID=3330, predicted=2, true=2\n",
      "ID=3331, predicted=1, true=1\n",
      "ID=3332, predicted=8, true=8\n",
      "ID=3333, predicted=2, true=2\n",
      "ID=3334, predicted=2, true=2\n",
      "ID=3335, predicted=2, true=2\n",
      "ID=3336, predicted=4, true=4\n",
      "ID=3337, predicted=6, true=6\n",
      "ID=3338, predicted=2, true=2\n",
      "ID=3339, predicted=4, true=4\n",
      "ID=3340, predicted=6, true=6\n",
      "ID=3341, predicted=5, true=5\n",
      "ID=3342, predicted=5, true=5\n",
      "ID=3343, predicted=1, true=1\n",
      "ID=3344, predicted=7, true=7\n",
      "ID=3345, predicted=9, true=9\n",
      "ID=3346, predicted=7, true=7\n",
      "ID=3347, predicted=7, true=7\n",
      "ID=3348, predicted=3, true=3\n",
      "ID=3349, predicted=5, true=5\n",
      "ID=3350, predicted=5, true=5\n",
      "ID=3351, predicted=8, true=7\n",
      "ID=3352, predicted=1, true=9\n",
      "ID=3353, predicted=7, true=7\n",
      "ID=3354, predicted=9, true=9\n",
      "ID=3355, predicted=4, true=4\n",
      "ID=3356, predicted=4, true=4\n",
      "ID=3357, predicted=7, true=7\n",
      "ID=3358, predicted=9, true=9\n",
      "ID=3359, predicted=4, true=4\n",
      "ID=3360, predicted=1, true=1\n",
      "ID=3361, predicted=6, true=6\n",
      "ID=3362, predicted=9, true=9\n",
      "ID=3363, predicted=6, true=6\n",
      "ID=3364, predicted=2, true=2\n",
      "ID=3365, predicted=7, true=7\n",
      "ID=3366, predicted=7, true=7\n",
      "ID=3367, predicted=2, true=2\n",
      "ID=3368, predicted=2, true=2\n",
      "ID=3369, predicted=5, true=4\n",
      "ID=3370, predicted=3, true=3\n",
      "ID=3371, predicted=6, true=6\n",
      "ID=3372, predicted=9, true=9\n",
      "ID=3373, predicted=1, true=1\n",
      "ID=3374, predicted=3, true=3\n",
      "ID=3375, predicted=5, true=5\n",
      "ID=3376, predicted=5, true=5\n",
      "ID=3377, predicted=6, true=6\n",
      "ID=3378, predicted=3, true=3\n",
      "ID=3379, predicted=7, true=7\n",
      "ID=3380, predicted=2, true=2\n",
      "ID=3381, predicted=2, true=2\n",
      "ID=3382, predicted=9, true=9\n",
      "ID=3383, predicted=4, true=4\n",
      "ID=3384, predicted=7, true=7\n",
      "ID=3385, predicted=5, true=5\n",
      "ID=3386, predicted=1, true=1\n",
      "ID=3387, predicted=1, true=1\n",
      "ID=3388, predicted=3, true=3\n",
      "ID=3389, predicted=8, true=8\n",
      "ID=3390, predicted=6, true=6\n",
      "ID=3391, predicted=4, true=4\n",
      "ID=3392, predicted=2, true=2\n",
      "ID=3393, predicted=5, true=5\n",
      "ID=3394, predicted=3, true=3\n",
      "ID=3395, predicted=2, true=2\n",
      "ID=3396, predicted=4, true=4\n",
      "ID=3397, predicted=7, true=7\n",
      "ID=3398, predicted=8, true=8\n",
      "ID=3399, predicted=1, true=1\n",
      "ID=3400, predicted=2, true=2\n",
      "ID=3401, predicted=8, true=8\n",
      "ID=3402, predicted=3, true=3\n",
      "ID=3403, predicted=3, true=3\n",
      "ID=3404, predicted=7, true=7\n",
      "ID=3405, predicted=6, true=6\n",
      "ID=3406, predicted=2, true=2\n",
      "ID=3407, predicted=9, true=9\n",
      "ID=3408, predicted=1, true=1\n",
      "ID=3409, predicted=1, true=1\n",
      "ID=3410, predicted=8, true=8\n",
      "ID=3411, predicted=8, true=8\n",
      "ID=3412, predicted=3, true=3\n",
      "ID=3413, predicted=3, true=3\n",
      "ID=3414, predicted=3, true=3\n",
      "ID=3415, predicted=9, true=9\n",
      "ID=3416, predicted=3, true=3\n",
      "ID=3417, predicted=7, true=7\n",
      "ID=3418, predicted=7, true=7\n",
      "ID=3419, predicted=7, true=7\n",
      "ID=3420, predicted=4, true=4\n",
      "ID=3421, predicted=2, true=1\n",
      "ID=3422, predicted=4, true=4\n",
      "ID=3423, predicted=2, true=2\n",
      "ID=3424, predicted=9, true=9\n",
      "ID=3425, predicted=8, true=8\n",
      "ID=3426, predicted=2, true=2\n",
      "ID=3427, predicted=2, true=1\n",
      "ID=3428, predicted=9, true=9\n",
      "ID=3429, predicted=2, true=2\n",
      "ID=3430, predicted=8, true=8\n",
      "ID=3431, predicted=8, true=8\n",
      "ID=3432, predicted=2, true=2\n",
      "ID=3433, predicted=6, true=6\n",
      "ID=3434, predicted=9, true=9\n",
      "ID=3435, predicted=7, true=7\n",
      "ID=3436, predicted=1, true=1\n",
      "ID=3437, predicted=8, true=8\n",
      "ID=3438, predicted=4, true=4\n",
      "ID=3439, predicted=2, true=2\n",
      "ID=3440, predicted=1, true=1\n",
      "ID=3441, predicted=4, true=4\n",
      "ID=3442, predicted=1, true=1\n",
      "ID=3443, predicted=4, true=4\n",
      "ID=3444, predicted=5, true=5\n",
      "ID=3445, predicted=5, true=5\n",
      "ID=3446, predicted=5, true=5\n",
      "ID=3447, predicted=4, true=4\n",
      "ID=3448, predicted=4, true=4\n",
      "ID=3449, predicted=0, true=0\n",
      "ID=3450, predicted=6, true=6\n",
      "ID=3451, predicted=2, true=2\n",
      "ID=3452, predicted=6, true=6\n"
     ]
    },
    {
     "name": "stdout",
     "output_type": "stream",
     "text": [
      "ID=3453, predicted=8, true=8\n",
      "ID=3454, predicted=9, true=9\n",
      "ID=3455, predicted=4, true=4\n",
      "ID=3456, predicted=7, true=7\n",
      "ID=3457, predicted=6, true=6\n",
      "ID=3458, predicted=8, true=8\n",
      "ID=3459, predicted=3, true=3\n",
      "ID=3460, predicted=9, true=9\n",
      "ID=3461, predicted=9, true=9\n",
      "ID=3462, predicted=5, true=5\n",
      "ID=3463, predicted=6, true=6\n",
      "ID=3464, predicted=4, true=4\n",
      "ID=3465, predicted=1, true=1\n",
      "ID=3466, predicted=7, true=7\n",
      "ID=3467, predicted=8, true=8\n",
      "ID=3468, predicted=3, true=3\n",
      "ID=3469, predicted=9, true=9\n",
      "ID=3470, predicted=8, true=8\n",
      "ID=3471, predicted=2, true=2\n",
      "ID=3472, predicted=3, true=3\n",
      "ID=3473, predicted=6, true=6\n",
      "ID=3474, predicted=8, true=8\n",
      "ID=3475, predicted=7, true=7\n",
      "ID=3476, predicted=1, true=1\n",
      "ID=3477, predicted=7, true=7\n",
      "ID=3478, predicted=0, true=0\n",
      "ID=3479, predicted=2, true=2\n",
      "ID=3480, predicted=9, true=9\n",
      "ID=3481, predicted=4, true=4\n",
      "ID=3482, predicted=4, true=4\n",
      "ID=3483, predicted=4, true=4\n",
      "ID=3484, predicted=3, true=3\n",
      "ID=3485, predicted=0, true=0\n",
      "ID=3486, predicted=0, true=0\n",
      "ID=3487, predicted=9, true=9\n",
      "ID=3488, predicted=6, true=6\n",
      "ID=3489, predicted=3, true=3\n",
      "ID=3490, predicted=2, true=7\n",
      "ID=3491, predicted=2, true=2\n",
      "ID=3492, predicted=5, true=5\n",
      "ID=3493, predicted=5, true=5\n",
      "ID=3494, predicted=4, true=4\n",
      "ID=3495, predicted=2, true=2\n",
      "ID=3496, predicted=0, true=0\n",
      "ID=3497, predicted=0, true=0\n",
      "ID=3498, predicted=4, true=4\n",
      "classification accuracy=0.9654088050314465\n",
      "\n"
     ]
    }
   ],
   "source": [
    "import numpy as np\n",
    "import sys\n",
    "\n",
    "# getting command line arguments\n",
    "k = 3\n",
    "test_file = \"pendigits_test.txt\"\n",
    "training_file = \"pendigits_training.txt\"\n",
    "\n",
    "\n",
    "def datasetLoading(datasetFile):\n",
    "    # creating list for input features and output class\n",
    "    inputFeatures = []\n",
    "    classLabels = []\n",
    "\n",
    "    # loading dataset and splitting into input and output\n",
    "    dataset = open(datasetFile, 'r')\n",
    "    for line in dataset:\n",
    "        line = line.strip('\\r\\n').split()\n",
    "        label = line.pop()\n",
    "        inputFeatures.append(line)\n",
    "        classLabels.append(int(label))\n",
    "    dataset.close()\n",
    "    return np.array(inputFeatures).astype(float), classLabels\n",
    "\n",
    "\n",
    "def normalize_data(data, N):\n",
    "    mean = np.mean(data, axis=0)\n",
    "    std = np.std(data, axis=0)\n",
    "    std = np.sqrt(np.sum((data - mean) ** 2, axis=0) / N)\n",
    "    normalized_data = (data - mean) / std\n",
    "    return normalized_data\n",
    "\n",
    "\n",
    "def L2_distance(x1, x2):\n",
    "    return np.sqrt(np.sum((x1 - x2) ** 2))\n",
    "\n",
    "\n",
    "def KNN(train_data, train_labels, test_sample, k):\n",
    "    distances = []\n",
    "    for i in range(len(train_data)):\n",
    "        dist = L2_distance(train_data[i], test_sample)\n",
    "        distances.append((dist, train_labels[i]))\n",
    "    distances.sort(key=lambda x: x[0])\n",
    "    neighbors = distances[:k]\n",
    "#     print(neighbors)\n",
    "    labels = [neighbor[1] for neighbor in neighbors]\n",
    "#     print(labels)\n",
    "    return max(set(labels), key=labels.count)\n",
    "\n",
    "\n",
    "trainingFeatures, trainingClass = datasetLoading(training_file)\n",
    "testingFeatures, testingClass = datasetLoading(test_file)\n",
    "\n",
    "# Normalize the data using mean and standard deviation from training data\n",
    "trainingFeaturesNormalized = normalize_data(trainingFeatures, trainingFeatures.shape[0])\n",
    "testingFeaturesNormalized = normalize_data(testingFeatures, trainingFeatures.shape[0])\n",
    "\n",
    "\n",
    "# Predict the labels for the test data\n",
    "predicted_labels = []\n",
    "classification_accuracy = []\n",
    "for i, testData in enumerate(testingFeaturesNormalized):\n",
    "    predicted_label = KNN(trainingFeaturesNormalized, trainingClass, testData, k)\n",
    "    predicted_labels.append(predicted_label)\n",
    "    true_label = int(testingClass[i])\n",
    "\n",
    "    # Calculate accuracy\n",
    "    accuracy = 0\n",
    "    if predicted_label == true_label:\n",
    "        accuracy = 1\n",
    "    classification_accuracy.append(accuracy)\n",
    "    # Print the information\n",
    "    print(f\"ID={i+ 1}, predicted={predicted_label}, true={true_label}\")\n",
    "\n",
    "print(f\"classification accuracy={classification_accuracy.count(1)/ len(classification_accuracy)}\\n\")"
   ]
  },
  {
   "cell_type": "code",
   "execution_count": 38,
   "id": "laden-abraham",
   "metadata": {},
   "outputs": [
    {
     "data": {
      "text/plain": [
       "(7494, 16)"
      ]
     },
     "execution_count": 38,
     "metadata": {},
     "output_type": "execute_result"
    }
   ],
   "source": [
    "trainingFeaturesNormalized.shape"
   ]
  },
  {
   "cell_type": "code",
   "execution_count": 39,
   "id": "thorough-thompson",
   "metadata": {},
   "outputs": [
    {
     "data": {
      "text/plain": [
       "array([ 1.87573769,  0.58955716, -2.20476595,  1.08649347, -1.43027599,\n",
       "       -0.03954249,  2.08928696, -0.37771511,  0.57119987, -1.79784468,\n",
       "       -2.28364862, -0.49084347, -0.92315789,  1.41837292,  1.79190873,\n",
       "        2.89272341])"
      ]
     },
     "execution_count": 39,
     "metadata": {},
     "output_type": "execute_result"
    }
   ],
   "source": [
    "testingFeaturesNormalized[0]"
   ]
  },
  {
   "cell_type": "markdown",
   "id": "cognitive-current",
   "metadata": {},
   "source": [
    "#### SVM"
   ]
  },
  {
   "cell_type": "markdown",
   "id": "insured-niagara",
   "metadata": {},
   "source": [
    "A/B (ovo)\n",
    "\n",
    "A/BC -> B/c (ovr)\n",
    "\n",
    "AB/CD -> A/B or C/D (ovr)"
   ]
  },
  {
   "cell_type": "markdown",
   "id": "square-mattress",
   "metadata": {},
   "source": [
    "<img src=\"https://datatron.com/wp-content/uploads/2021/05/Support-Vector-Machine.png\" />"
   ]
  },
  {
   "cell_type": "code",
   "execution_count": 47,
   "id": "computational-houston",
   "metadata": {},
   "outputs": [],
   "source": [
    "import pandas as pd\n",
    "import numpy as np\n",
    "from sklearn.model_selection import train_test_split\n",
    "from sklearn.svm import SVC\n",
    "from sklearn.metrics import *\n",
    "from sklearn.preprocessing import LabelEncoder"
   ]
  },
  {
   "cell_type": "code",
   "execution_count": 45,
   "id": "effective-malta",
   "metadata": {},
   "outputs": [],
   "source": [
    "dataset = pd.read_csv(\"./survey lung cancer.csv\")"
   ]
  },
  {
   "cell_type": "code",
   "execution_count": 46,
   "id": "neither-airport",
   "metadata": {},
   "outputs": [
    {
     "data": {
      "text/html": [
       "<div>\n",
       "<style scoped>\n",
       "    .dataframe tbody tr th:only-of-type {\n",
       "        vertical-align: middle;\n",
       "    }\n",
       "\n",
       "    .dataframe tbody tr th {\n",
       "        vertical-align: top;\n",
       "    }\n",
       "\n",
       "    .dataframe thead th {\n",
       "        text-align: right;\n",
       "    }\n",
       "</style>\n",
       "<table border=\"1\" class=\"dataframe\">\n",
       "  <thead>\n",
       "    <tr style=\"text-align: right;\">\n",
       "      <th></th>\n",
       "      <th>GENDER</th>\n",
       "      <th>AGE</th>\n",
       "      <th>SMOKING</th>\n",
       "      <th>YELLOW_FINGERS</th>\n",
       "      <th>ANXIETY</th>\n",
       "      <th>PEER_PRESSURE</th>\n",
       "      <th>CHRONIC DISEASE</th>\n",
       "      <th>FATIGUE</th>\n",
       "      <th>ALLERGY</th>\n",
       "      <th>WHEEZING</th>\n",
       "      <th>ALCOHOL CONSUMING</th>\n",
       "      <th>COUGHING</th>\n",
       "      <th>SHORTNESS OF BREATH</th>\n",
       "      <th>SWALLOWING DIFFICULTY</th>\n",
       "      <th>CHEST PAIN</th>\n",
       "      <th>LUNG_CANCER</th>\n",
       "    </tr>\n",
       "  </thead>\n",
       "  <tbody>\n",
       "    <tr>\n",
       "      <th>0</th>\n",
       "      <td>M</td>\n",
       "      <td>69</td>\n",
       "      <td>1</td>\n",
       "      <td>2</td>\n",
       "      <td>2</td>\n",
       "      <td>1</td>\n",
       "      <td>1</td>\n",
       "      <td>2</td>\n",
       "      <td>1</td>\n",
       "      <td>2</td>\n",
       "      <td>2</td>\n",
       "      <td>2</td>\n",
       "      <td>2</td>\n",
       "      <td>2</td>\n",
       "      <td>2</td>\n",
       "      <td>YES</td>\n",
       "    </tr>\n",
       "    <tr>\n",
       "      <th>1</th>\n",
       "      <td>M</td>\n",
       "      <td>74</td>\n",
       "      <td>2</td>\n",
       "      <td>1</td>\n",
       "      <td>1</td>\n",
       "      <td>1</td>\n",
       "      <td>2</td>\n",
       "      <td>2</td>\n",
       "      <td>2</td>\n",
       "      <td>1</td>\n",
       "      <td>1</td>\n",
       "      <td>1</td>\n",
       "      <td>2</td>\n",
       "      <td>2</td>\n",
       "      <td>2</td>\n",
       "      <td>YES</td>\n",
       "    </tr>\n",
       "    <tr>\n",
       "      <th>2</th>\n",
       "      <td>F</td>\n",
       "      <td>59</td>\n",
       "      <td>1</td>\n",
       "      <td>1</td>\n",
       "      <td>1</td>\n",
       "      <td>2</td>\n",
       "      <td>1</td>\n",
       "      <td>2</td>\n",
       "      <td>1</td>\n",
       "      <td>2</td>\n",
       "      <td>1</td>\n",
       "      <td>2</td>\n",
       "      <td>2</td>\n",
       "      <td>1</td>\n",
       "      <td>2</td>\n",
       "      <td>NO</td>\n",
       "    </tr>\n",
       "    <tr>\n",
       "      <th>3</th>\n",
       "      <td>M</td>\n",
       "      <td>63</td>\n",
       "      <td>2</td>\n",
       "      <td>2</td>\n",
       "      <td>2</td>\n",
       "      <td>1</td>\n",
       "      <td>1</td>\n",
       "      <td>1</td>\n",
       "      <td>1</td>\n",
       "      <td>1</td>\n",
       "      <td>2</td>\n",
       "      <td>1</td>\n",
       "      <td>1</td>\n",
       "      <td>2</td>\n",
       "      <td>2</td>\n",
       "      <td>NO</td>\n",
       "    </tr>\n",
       "    <tr>\n",
       "      <th>4</th>\n",
       "      <td>F</td>\n",
       "      <td>63</td>\n",
       "      <td>1</td>\n",
       "      <td>2</td>\n",
       "      <td>1</td>\n",
       "      <td>1</td>\n",
       "      <td>1</td>\n",
       "      <td>1</td>\n",
       "      <td>1</td>\n",
       "      <td>2</td>\n",
       "      <td>1</td>\n",
       "      <td>2</td>\n",
       "      <td>2</td>\n",
       "      <td>1</td>\n",
       "      <td>1</td>\n",
       "      <td>NO</td>\n",
       "    </tr>\n",
       "  </tbody>\n",
       "</table>\n",
       "</div>"
      ],
      "text/plain": [
       "  GENDER  AGE  SMOKING  YELLOW_FINGERS  ANXIETY  PEER_PRESSURE  \\\n",
       "0      M   69        1               2        2              1   \n",
       "1      M   74        2               1        1              1   \n",
       "2      F   59        1               1        1              2   \n",
       "3      M   63        2               2        2              1   \n",
       "4      F   63        1               2        1              1   \n",
       "\n",
       "   CHRONIC DISEASE  FATIGUE   ALLERGY   WHEEZING  ALCOHOL CONSUMING  COUGHING  \\\n",
       "0                1         2         1         2                  2         2   \n",
       "1                2         2         2         1                  1         1   \n",
       "2                1         2         1         2                  1         2   \n",
       "3                1         1         1         1                  2         1   \n",
       "4                1         1         1         2                  1         2   \n",
       "\n",
       "   SHORTNESS OF BREATH  SWALLOWING DIFFICULTY  CHEST PAIN LUNG_CANCER  \n",
       "0                    2                      2           2         YES  \n",
       "1                    2                      2           2         YES  \n",
       "2                    2                      1           2          NO  \n",
       "3                    1                      2           2          NO  \n",
       "4                    2                      1           1          NO  "
      ]
     },
     "execution_count": 46,
     "metadata": {},
     "output_type": "execute_result"
    }
   ],
   "source": [
    "dataset.head()"
   ]
  },
  {
   "cell_type": "code",
   "execution_count": 48,
   "id": "improved-terrorism",
   "metadata": {},
   "outputs": [],
   "source": [
    "le = LabelEncoder()\n",
    "dataset['Gender'] = le.fit_transform(dataset.GENDER)"
   ]
  },
  {
   "cell_type": "code",
   "execution_count": 49,
   "id": "consistent-alert",
   "metadata": {},
   "outputs": [
    {
     "data": {
      "text/html": [
       "<div>\n",
       "<style scoped>\n",
       "    .dataframe tbody tr th:only-of-type {\n",
       "        vertical-align: middle;\n",
       "    }\n",
       "\n",
       "    .dataframe tbody tr th {\n",
       "        vertical-align: top;\n",
       "    }\n",
       "\n",
       "    .dataframe thead th {\n",
       "        text-align: right;\n",
       "    }\n",
       "</style>\n",
       "<table border=\"1\" class=\"dataframe\">\n",
       "  <thead>\n",
       "    <tr style=\"text-align: right;\">\n",
       "      <th></th>\n",
       "      <th>GENDER</th>\n",
       "      <th>AGE</th>\n",
       "      <th>SMOKING</th>\n",
       "      <th>YELLOW_FINGERS</th>\n",
       "      <th>ANXIETY</th>\n",
       "      <th>PEER_PRESSURE</th>\n",
       "      <th>CHRONIC DISEASE</th>\n",
       "      <th>FATIGUE</th>\n",
       "      <th>ALLERGY</th>\n",
       "      <th>WHEEZING</th>\n",
       "      <th>ALCOHOL CONSUMING</th>\n",
       "      <th>COUGHING</th>\n",
       "      <th>SHORTNESS OF BREATH</th>\n",
       "      <th>SWALLOWING DIFFICULTY</th>\n",
       "      <th>CHEST PAIN</th>\n",
       "      <th>LUNG_CANCER</th>\n",
       "      <th>Gender</th>\n",
       "    </tr>\n",
       "  </thead>\n",
       "  <tbody>\n",
       "    <tr>\n",
       "      <th>0</th>\n",
       "      <td>M</td>\n",
       "      <td>69</td>\n",
       "      <td>1</td>\n",
       "      <td>2</td>\n",
       "      <td>2</td>\n",
       "      <td>1</td>\n",
       "      <td>1</td>\n",
       "      <td>2</td>\n",
       "      <td>1</td>\n",
       "      <td>2</td>\n",
       "      <td>2</td>\n",
       "      <td>2</td>\n",
       "      <td>2</td>\n",
       "      <td>2</td>\n",
       "      <td>2</td>\n",
       "      <td>YES</td>\n",
       "      <td>1</td>\n",
       "    </tr>\n",
       "    <tr>\n",
       "      <th>1</th>\n",
       "      <td>M</td>\n",
       "      <td>74</td>\n",
       "      <td>2</td>\n",
       "      <td>1</td>\n",
       "      <td>1</td>\n",
       "      <td>1</td>\n",
       "      <td>2</td>\n",
       "      <td>2</td>\n",
       "      <td>2</td>\n",
       "      <td>1</td>\n",
       "      <td>1</td>\n",
       "      <td>1</td>\n",
       "      <td>2</td>\n",
       "      <td>2</td>\n",
       "      <td>2</td>\n",
       "      <td>YES</td>\n",
       "      <td>1</td>\n",
       "    </tr>\n",
       "    <tr>\n",
       "      <th>2</th>\n",
       "      <td>F</td>\n",
       "      <td>59</td>\n",
       "      <td>1</td>\n",
       "      <td>1</td>\n",
       "      <td>1</td>\n",
       "      <td>2</td>\n",
       "      <td>1</td>\n",
       "      <td>2</td>\n",
       "      <td>1</td>\n",
       "      <td>2</td>\n",
       "      <td>1</td>\n",
       "      <td>2</td>\n",
       "      <td>2</td>\n",
       "      <td>1</td>\n",
       "      <td>2</td>\n",
       "      <td>NO</td>\n",
       "      <td>0</td>\n",
       "    </tr>\n",
       "    <tr>\n",
       "      <th>3</th>\n",
       "      <td>M</td>\n",
       "      <td>63</td>\n",
       "      <td>2</td>\n",
       "      <td>2</td>\n",
       "      <td>2</td>\n",
       "      <td>1</td>\n",
       "      <td>1</td>\n",
       "      <td>1</td>\n",
       "      <td>1</td>\n",
       "      <td>1</td>\n",
       "      <td>2</td>\n",
       "      <td>1</td>\n",
       "      <td>1</td>\n",
       "      <td>2</td>\n",
       "      <td>2</td>\n",
       "      <td>NO</td>\n",
       "      <td>1</td>\n",
       "    </tr>\n",
       "    <tr>\n",
       "      <th>4</th>\n",
       "      <td>F</td>\n",
       "      <td>63</td>\n",
       "      <td>1</td>\n",
       "      <td>2</td>\n",
       "      <td>1</td>\n",
       "      <td>1</td>\n",
       "      <td>1</td>\n",
       "      <td>1</td>\n",
       "      <td>1</td>\n",
       "      <td>2</td>\n",
       "      <td>1</td>\n",
       "      <td>2</td>\n",
       "      <td>2</td>\n",
       "      <td>1</td>\n",
       "      <td>1</td>\n",
       "      <td>NO</td>\n",
       "      <td>0</td>\n",
       "    </tr>\n",
       "  </tbody>\n",
       "</table>\n",
       "</div>"
      ],
      "text/plain": [
       "  GENDER  AGE  SMOKING  YELLOW_FINGERS  ANXIETY  PEER_PRESSURE  \\\n",
       "0      M   69        1               2        2              1   \n",
       "1      M   74        2               1        1              1   \n",
       "2      F   59        1               1        1              2   \n",
       "3      M   63        2               2        2              1   \n",
       "4      F   63        1               2        1              1   \n",
       "\n",
       "   CHRONIC DISEASE  FATIGUE   ALLERGY   WHEEZING  ALCOHOL CONSUMING  COUGHING  \\\n",
       "0                1         2         1         2                  2         2   \n",
       "1                2         2         2         1                  1         1   \n",
       "2                1         2         1         2                  1         2   \n",
       "3                1         1         1         1                  2         1   \n",
       "4                1         1         1         2                  1         2   \n",
       "\n",
       "   SHORTNESS OF BREATH  SWALLOWING DIFFICULTY  CHEST PAIN LUNG_CANCER  Gender  \n",
       "0                    2                      2           2         YES       1  \n",
       "1                    2                      2           2         YES       1  \n",
       "2                    2                      1           2          NO       0  \n",
       "3                    1                      2           2          NO       1  \n",
       "4                    2                      1           1          NO       0  "
      ]
     },
     "execution_count": 49,
     "metadata": {},
     "output_type": "execute_result"
    }
   ],
   "source": [
    "dataset.head()"
   ]
  },
  {
   "cell_type": "code",
   "execution_count": 50,
   "id": "smaller-switch",
   "metadata": {},
   "outputs": [],
   "source": [
    "dataset.drop(columns=['GENDER'], inplace=True)"
   ]
  },
  {
   "cell_type": "code",
   "execution_count": 51,
   "id": "hungry-germany",
   "metadata": {},
   "outputs": [
    {
     "data": {
      "text/html": [
       "<div>\n",
       "<style scoped>\n",
       "    .dataframe tbody tr th:only-of-type {\n",
       "        vertical-align: middle;\n",
       "    }\n",
       "\n",
       "    .dataframe tbody tr th {\n",
       "        vertical-align: top;\n",
       "    }\n",
       "\n",
       "    .dataframe thead th {\n",
       "        text-align: right;\n",
       "    }\n",
       "</style>\n",
       "<table border=\"1\" class=\"dataframe\">\n",
       "  <thead>\n",
       "    <tr style=\"text-align: right;\">\n",
       "      <th></th>\n",
       "      <th>AGE</th>\n",
       "      <th>SMOKING</th>\n",
       "      <th>YELLOW_FINGERS</th>\n",
       "      <th>ANXIETY</th>\n",
       "      <th>PEER_PRESSURE</th>\n",
       "      <th>CHRONIC DISEASE</th>\n",
       "      <th>FATIGUE</th>\n",
       "      <th>ALLERGY</th>\n",
       "      <th>WHEEZING</th>\n",
       "      <th>ALCOHOL CONSUMING</th>\n",
       "      <th>COUGHING</th>\n",
       "      <th>SHORTNESS OF BREATH</th>\n",
       "      <th>SWALLOWING DIFFICULTY</th>\n",
       "      <th>CHEST PAIN</th>\n",
       "      <th>LUNG_CANCER</th>\n",
       "      <th>Gender</th>\n",
       "    </tr>\n",
       "  </thead>\n",
       "  <tbody>\n",
       "    <tr>\n",
       "      <th>0</th>\n",
       "      <td>69</td>\n",
       "      <td>1</td>\n",
       "      <td>2</td>\n",
       "      <td>2</td>\n",
       "      <td>1</td>\n",
       "      <td>1</td>\n",
       "      <td>2</td>\n",
       "      <td>1</td>\n",
       "      <td>2</td>\n",
       "      <td>2</td>\n",
       "      <td>2</td>\n",
       "      <td>2</td>\n",
       "      <td>2</td>\n",
       "      <td>2</td>\n",
       "      <td>YES</td>\n",
       "      <td>1</td>\n",
       "    </tr>\n",
       "    <tr>\n",
       "      <th>1</th>\n",
       "      <td>74</td>\n",
       "      <td>2</td>\n",
       "      <td>1</td>\n",
       "      <td>1</td>\n",
       "      <td>1</td>\n",
       "      <td>2</td>\n",
       "      <td>2</td>\n",
       "      <td>2</td>\n",
       "      <td>1</td>\n",
       "      <td>1</td>\n",
       "      <td>1</td>\n",
       "      <td>2</td>\n",
       "      <td>2</td>\n",
       "      <td>2</td>\n",
       "      <td>YES</td>\n",
       "      <td>1</td>\n",
       "    </tr>\n",
       "    <tr>\n",
       "      <th>2</th>\n",
       "      <td>59</td>\n",
       "      <td>1</td>\n",
       "      <td>1</td>\n",
       "      <td>1</td>\n",
       "      <td>2</td>\n",
       "      <td>1</td>\n",
       "      <td>2</td>\n",
       "      <td>1</td>\n",
       "      <td>2</td>\n",
       "      <td>1</td>\n",
       "      <td>2</td>\n",
       "      <td>2</td>\n",
       "      <td>1</td>\n",
       "      <td>2</td>\n",
       "      <td>NO</td>\n",
       "      <td>0</td>\n",
       "    </tr>\n",
       "    <tr>\n",
       "      <th>3</th>\n",
       "      <td>63</td>\n",
       "      <td>2</td>\n",
       "      <td>2</td>\n",
       "      <td>2</td>\n",
       "      <td>1</td>\n",
       "      <td>1</td>\n",
       "      <td>1</td>\n",
       "      <td>1</td>\n",
       "      <td>1</td>\n",
       "      <td>2</td>\n",
       "      <td>1</td>\n",
       "      <td>1</td>\n",
       "      <td>2</td>\n",
       "      <td>2</td>\n",
       "      <td>NO</td>\n",
       "      <td>1</td>\n",
       "    </tr>\n",
       "    <tr>\n",
       "      <th>4</th>\n",
       "      <td>63</td>\n",
       "      <td>1</td>\n",
       "      <td>2</td>\n",
       "      <td>1</td>\n",
       "      <td>1</td>\n",
       "      <td>1</td>\n",
       "      <td>1</td>\n",
       "      <td>1</td>\n",
       "      <td>2</td>\n",
       "      <td>1</td>\n",
       "      <td>2</td>\n",
       "      <td>2</td>\n",
       "      <td>1</td>\n",
       "      <td>1</td>\n",
       "      <td>NO</td>\n",
       "      <td>0</td>\n",
       "    </tr>\n",
       "  </tbody>\n",
       "</table>\n",
       "</div>"
      ],
      "text/plain": [
       "   AGE  SMOKING  YELLOW_FINGERS  ANXIETY  PEER_PRESSURE  CHRONIC DISEASE  \\\n",
       "0   69        1               2        2              1                1   \n",
       "1   74        2               1        1              1                2   \n",
       "2   59        1               1        1              2                1   \n",
       "3   63        2               2        2              1                1   \n",
       "4   63        1               2        1              1                1   \n",
       "\n",
       "   FATIGUE   ALLERGY   WHEEZING  ALCOHOL CONSUMING  COUGHING  \\\n",
       "0         2         1         2                  2         2   \n",
       "1         2         2         1                  1         1   \n",
       "2         2         1         2                  1         2   \n",
       "3         1         1         1                  2         1   \n",
       "4         1         1         2                  1         2   \n",
       "\n",
       "   SHORTNESS OF BREATH  SWALLOWING DIFFICULTY  CHEST PAIN LUNG_CANCER  Gender  \n",
       "0                    2                      2           2         YES       1  \n",
       "1                    2                      2           2         YES       1  \n",
       "2                    2                      1           2          NO       0  \n",
       "3                    1                      2           2          NO       1  \n",
       "4                    2                      1           1          NO       0  "
      ]
     },
     "execution_count": 51,
     "metadata": {},
     "output_type": "execute_result"
    }
   ],
   "source": [
    "dataset.head()"
   ]
  },
  {
   "cell_type": "code",
   "execution_count": 53,
   "id": "interracial-professional",
   "metadata": {},
   "outputs": [],
   "source": [
    "X = dataset.drop(columns=\"LUNG_CANCER\")\n",
    "y = dataset.LUNG_CANCER"
   ]
  },
  {
   "cell_type": "code",
   "execution_count": 54,
   "id": "polished-sensitivity",
   "metadata": {},
   "outputs": [
    {
     "data": {
      "text/html": [
       "<div>\n",
       "<style scoped>\n",
       "    .dataframe tbody tr th:only-of-type {\n",
       "        vertical-align: middle;\n",
       "    }\n",
       "\n",
       "    .dataframe tbody tr th {\n",
       "        vertical-align: top;\n",
       "    }\n",
       "\n",
       "    .dataframe thead th {\n",
       "        text-align: right;\n",
       "    }\n",
       "</style>\n",
       "<table border=\"1\" class=\"dataframe\">\n",
       "  <thead>\n",
       "    <tr style=\"text-align: right;\">\n",
       "      <th></th>\n",
       "      <th>AGE</th>\n",
       "      <th>SMOKING</th>\n",
       "      <th>YELLOW_FINGERS</th>\n",
       "      <th>ANXIETY</th>\n",
       "      <th>PEER_PRESSURE</th>\n",
       "      <th>CHRONIC DISEASE</th>\n",
       "      <th>FATIGUE</th>\n",
       "      <th>ALLERGY</th>\n",
       "      <th>WHEEZING</th>\n",
       "      <th>ALCOHOL CONSUMING</th>\n",
       "      <th>COUGHING</th>\n",
       "      <th>SHORTNESS OF BREATH</th>\n",
       "      <th>SWALLOWING DIFFICULTY</th>\n",
       "      <th>CHEST PAIN</th>\n",
       "      <th>Gender</th>\n",
       "    </tr>\n",
       "  </thead>\n",
       "  <tbody>\n",
       "    <tr>\n",
       "      <th>0</th>\n",
       "      <td>69</td>\n",
       "      <td>1</td>\n",
       "      <td>2</td>\n",
       "      <td>2</td>\n",
       "      <td>1</td>\n",
       "      <td>1</td>\n",
       "      <td>2</td>\n",
       "      <td>1</td>\n",
       "      <td>2</td>\n",
       "      <td>2</td>\n",
       "      <td>2</td>\n",
       "      <td>2</td>\n",
       "      <td>2</td>\n",
       "      <td>2</td>\n",
       "      <td>1</td>\n",
       "    </tr>\n",
       "    <tr>\n",
       "      <th>1</th>\n",
       "      <td>74</td>\n",
       "      <td>2</td>\n",
       "      <td>1</td>\n",
       "      <td>1</td>\n",
       "      <td>1</td>\n",
       "      <td>2</td>\n",
       "      <td>2</td>\n",
       "      <td>2</td>\n",
       "      <td>1</td>\n",
       "      <td>1</td>\n",
       "      <td>1</td>\n",
       "      <td>2</td>\n",
       "      <td>2</td>\n",
       "      <td>2</td>\n",
       "      <td>1</td>\n",
       "    </tr>\n",
       "    <tr>\n",
       "      <th>2</th>\n",
       "      <td>59</td>\n",
       "      <td>1</td>\n",
       "      <td>1</td>\n",
       "      <td>1</td>\n",
       "      <td>2</td>\n",
       "      <td>1</td>\n",
       "      <td>2</td>\n",
       "      <td>1</td>\n",
       "      <td>2</td>\n",
       "      <td>1</td>\n",
       "      <td>2</td>\n",
       "      <td>2</td>\n",
       "      <td>1</td>\n",
       "      <td>2</td>\n",
       "      <td>0</td>\n",
       "    </tr>\n",
       "    <tr>\n",
       "      <th>3</th>\n",
       "      <td>63</td>\n",
       "      <td>2</td>\n",
       "      <td>2</td>\n",
       "      <td>2</td>\n",
       "      <td>1</td>\n",
       "      <td>1</td>\n",
       "      <td>1</td>\n",
       "      <td>1</td>\n",
       "      <td>1</td>\n",
       "      <td>2</td>\n",
       "      <td>1</td>\n",
       "      <td>1</td>\n",
       "      <td>2</td>\n",
       "      <td>2</td>\n",
       "      <td>1</td>\n",
       "    </tr>\n",
       "    <tr>\n",
       "      <th>4</th>\n",
       "      <td>63</td>\n",
       "      <td>1</td>\n",
       "      <td>2</td>\n",
       "      <td>1</td>\n",
       "      <td>1</td>\n",
       "      <td>1</td>\n",
       "      <td>1</td>\n",
       "      <td>1</td>\n",
       "      <td>2</td>\n",
       "      <td>1</td>\n",
       "      <td>2</td>\n",
       "      <td>2</td>\n",
       "      <td>1</td>\n",
       "      <td>1</td>\n",
       "      <td>0</td>\n",
       "    </tr>\n",
       "  </tbody>\n",
       "</table>\n",
       "</div>"
      ],
      "text/plain": [
       "   AGE  SMOKING  YELLOW_FINGERS  ANXIETY  PEER_PRESSURE  CHRONIC DISEASE  \\\n",
       "0   69        1               2        2              1                1   \n",
       "1   74        2               1        1              1                2   \n",
       "2   59        1               1        1              2                1   \n",
       "3   63        2               2        2              1                1   \n",
       "4   63        1               2        1              1                1   \n",
       "\n",
       "   FATIGUE   ALLERGY   WHEEZING  ALCOHOL CONSUMING  COUGHING  \\\n",
       "0         2         1         2                  2         2   \n",
       "1         2         2         1                  1         1   \n",
       "2         2         1         2                  1         2   \n",
       "3         1         1         1                  2         1   \n",
       "4         1         1         2                  1         2   \n",
       "\n",
       "   SHORTNESS OF BREATH  SWALLOWING DIFFICULTY  CHEST PAIN  Gender  \n",
       "0                    2                      2           2       1  \n",
       "1                    2                      2           2       1  \n",
       "2                    2                      1           2       0  \n",
       "3                    1                      2           2       1  \n",
       "4                    2                      1           1       0  "
      ]
     },
     "execution_count": 54,
     "metadata": {},
     "output_type": "execute_result"
    }
   ],
   "source": [
    "X.head()"
   ]
  },
  {
   "cell_type": "code",
   "execution_count": 55,
   "id": "atmospheric-pricing",
   "metadata": {},
   "outputs": [
    {
     "data": {
      "text/plain": [
       "(309, 16)"
      ]
     },
     "execution_count": 55,
     "metadata": {},
     "output_type": "execute_result"
    }
   ],
   "source": [
    "dataset.shape"
   ]
  },
  {
   "cell_type": "code",
   "execution_count": 63,
   "id": "architectural-luxembourg",
   "metadata": {},
   "outputs": [],
   "source": [
    "xtrain, xtest, ytrain, ytest = train_test_split(X, y, test_size=0.15, random_state=3)"
   ]
  },
  {
   "cell_type": "code",
   "execution_count": 109,
   "id": "better-stick",
   "metadata": {},
   "outputs": [],
   "source": [
    "# model = SVC()\n",
    "model = SVC(C=1, kernel='linear', probability=True)"
   ]
  },
  {
   "cell_type": "code",
   "execution_count": 110,
   "id": "aerial-latin",
   "metadata": {},
   "outputs": [
    {
     "data": {
      "text/plain": [
       "SVC(C=1, kernel='linear', probability=True)"
      ]
     },
     "execution_count": 110,
     "metadata": {},
     "output_type": "execute_result"
    }
   ],
   "source": [
    "model.fit(xtrain, ytrain)"
   ]
  },
  {
   "cell_type": "code",
   "execution_count": 111,
   "id": "perfect-tanzania",
   "metadata": {},
   "outputs": [],
   "source": [
    "ypred = model.predict(xtest)"
   ]
  },
  {
   "cell_type": "code",
   "execution_count": 112,
   "id": "polish-announcement",
   "metadata": {},
   "outputs": [
    {
     "data": {
      "text/plain": [
       "0.8936170212765957"
      ]
     },
     "execution_count": 112,
     "metadata": {},
     "output_type": "execute_result"
    }
   ],
   "source": [
    "accuracy_score(ypred, ytest)"
   ]
  },
  {
   "cell_type": "code",
   "execution_count": 113,
   "id": "seven-determination",
   "metadata": {},
   "outputs": [
    {
     "name": "stdout",
     "output_type": "stream",
     "text": [
      "              precision    recall  f1-score   support\n",
      "\n",
      "          NO       0.25      0.33      0.29         3\n",
      "         YES       0.95      0.93      0.94        44\n",
      "\n",
      "    accuracy                           0.89        47\n",
      "   macro avg       0.60      0.63      0.61        47\n",
      "weighted avg       0.91      0.89      0.90        47\n",
      "\n"
     ]
    }
   ],
   "source": [
    "print(classification_report(ypred, ytest))"
   ]
  },
  {
   "cell_type": "code",
   "execution_count": 116,
   "id": "beautiful-single",
   "metadata": {},
   "outputs": [
    {
     "data": {
      "text/plain": [
       "<sklearn.metrics._plot.confusion_matrix.ConfusionMatrixDisplay at 0x7fa20d9d1f60>"
      ]
     },
     "execution_count": 116,
     "metadata": {},
     "output_type": "execute_result"
    },
    {
     "data": {
      "image/png": "[encoded data removed]",
      "text/plain": [
       "<Figure size 432x288 with 2 Axes>"
      ]
     },
     "metadata": {
      "needs_background": "light"
     },
     "output_type": "display_data"
    }
   ],
   "source": [
    "ConfusionMatrixDisplay(confusion_matrix(ytest, ypred)).plot()"
   ]
  },
  {
   "cell_type": "code",
   "execution_count": 86,
   "id": "material-competition",
   "metadata": {},
   "outputs": [
    {
     "data": {
      "text/plain": [
       "GridSearchCV(estimator=SVC(probability=True),\n",
       "             param_grid={'C': [1, 10, 0.1, 5, 100],\n",
       "                         'kernel': ('linear', 'rbf', 'poly', 'sigmoid')})"
      ]
     },
     "execution_count": 86,
     "metadata": {},
     "output_type": "execute_result"
    }
   ],
   "source": [
    "from sklearn.model_selection import GridSearchCV\n",
    "parameters = {\n",
    "    'kernel': ('linear', 'rbf', 'poly', 'sigmoid'),\n",
    "    'C': [1, 10, 0.1, 5, 100]\n",
    "}\n",
    "svc = SVC(probability=True)\n",
    "clf = GridSearchCV(svc, parameters)\n",
    "clf.fit(X, y)"
   ]
  },
  {
   "cell_type": "code",
   "execution_count": 87,
   "id": "dated-testament",
   "metadata": {},
   "outputs": [
    {
     "data": {
      "text/plain": [
       "SVC(C=1, kernel='linear', probability=True)"
      ]
     },
     "execution_count": 87,
     "metadata": {},
     "output_type": "execute_result"
    }
   ],
   "source": [
    "clf.best_estimator_"
   ]
  },
  {
   "cell_type": "code",
   "execution_count": 78,
   "id": "square-extent",
   "metadata": {},
   "outputs": [
    {
     "data": {
      "text/plain": [
       "0.9312046444121915"
      ]
     },
     "execution_count": 78,
     "metadata": {},
     "output_type": "execute_result"
    }
   ],
   "source": [
    "clf.best_score_"
   ]
  },
  {
   "cell_type": "markdown",
   "id": "accredited-digit",
   "metadata": {},
   "source": [
    "#### Ensemble Method"
   ]
  },
  {
   "cell_type": "markdown",
   "id": "legendary-involvement",
   "metadata": {},
   "source": [
    "a -> yes\n",
    "\n",
    "b -> no\n",
    "\n",
    "c -> yes\n",
    "\n",
    "d -> yes\n",
    "\n",
    "e -> no"
   ]
  },
  {
   "cell_type": "markdown",
   "id": "therapeutic-stroke",
   "metadata": {},
   "source": [
    "<img src=\"https://media.geeksforgeeks.org/wp-content/uploads/20190509094039/Screenshot-1781.png\" />"
   ]
  },
  {
   "cell_type": "markdown",
   "id": "international-operator",
   "metadata": {},
   "source": [
    "<img src=\"https://miro.medium.com/v2/resize:fit:1400/1*-XRnvWd6aZZQLUPG4KvqPw.png\" />"
   ]
  },
  {
   "cell_type": "code",
   "execution_count": 190,
   "id": "improving-flooring",
   "metadata": {},
   "outputs": [],
   "source": [
    "import pandas as pd\n",
    "import numpy as np\n",
    "from sklearn.model_selection import train_test_split\n",
    "from sklearn.ensemble import RandomForestClassifier,StackingClassifier\n",
    "from sklearn.metrics import *\n",
    "from sklearn.preprocessing import LabelEncoder"
   ]
  },
  {
   "cell_type": "code",
   "execution_count": 120,
   "id": "southwest-webmaster",
   "metadata": {},
   "outputs": [],
   "source": [
    "dataset = pd.read_csv(\"./survey lung cancer.csv\")"
   ]
  },
  {
   "cell_type": "code",
   "execution_count": 121,
   "id": "colonial-match",
   "metadata": {},
   "outputs": [],
   "source": [
    "le = LabelEncoder()\n",
    "dataset['Gender'] = le.fit_transform(dataset.GENDER)"
   ]
  },
  {
   "cell_type": "code",
   "execution_count": 122,
   "id": "sophisticated-inspector",
   "metadata": {},
   "outputs": [],
   "source": [
    "dataset.drop(columns=['GENDER'], inplace=True)"
   ]
  },
  {
   "cell_type": "code",
   "execution_count": 123,
   "id": "split-criminal",
   "metadata": {},
   "outputs": [],
   "source": [
    "X = dataset.drop(columns=\"LUNG_CANCER\")\n",
    "y = dataset.LUNG_CANCER"
   ]
  },
  {
   "cell_type": "code",
   "execution_count": 155,
   "id": "occasional-generator",
   "metadata": {},
   "outputs": [],
   "source": [
    "xtrain, xtest, ytrain, ytest = train_test_split(X, y, test_size=0.15, random_state=3)"
   ]
  },
  {
   "cell_type": "code",
   "execution_count": 160,
   "id": "under-smoke",
   "metadata": {},
   "outputs": [],
   "source": [
    "model = RandomForestClassifier(n_estimators=100, n_jobs=-1, criterion=\"gini\")"
   ]
  },
  {
   "cell_type": "code",
   "execution_count": 161,
   "id": "guided-tractor",
   "metadata": {},
   "outputs": [
    {
     "data": {
      "text/plain": [
       "RandomForestClassifier(n_jobs=-1)"
      ]
     },
     "execution_count": 161,
     "metadata": {},
     "output_type": "execute_result"
    }
   ],
   "source": [
    "model.fit(xtrain, ytrain)"
   ]
  },
  {
   "cell_type": "code",
   "execution_count": 162,
   "id": "comic-force",
   "metadata": {},
   "outputs": [],
   "source": [
    "ypred = model.predict(xtest)"
   ]
  },
  {
   "cell_type": "code",
   "execution_count": 163,
   "id": "understanding-toolbox",
   "metadata": {},
   "outputs": [
    {
     "data": {
      "text/plain": [
       "0.9148936170212766"
      ]
     },
     "execution_count": 163,
     "metadata": {},
     "output_type": "execute_result"
    }
   ],
   "source": [
    "accuracy_score(ypred, ytest)"
   ]
  },
  {
   "cell_type": "markdown",
   "id": "indoor-shape",
   "metadata": {},
   "source": [
    "##### Chi-square test"
   ]
  },
  {
   "cell_type": "code",
   "execution_count": 166,
   "id": "optional-tennessee",
   "metadata": {},
   "outputs": [],
   "source": [
    "from scipy.stats import norm, chi2_contingency\n",
    "\n",
    "def chi_sq(col, df):\n",
    "    for i in df.dtypes[df.dtypes != 'object'].index:\n",
    "        if i != col:\n",
    "            chisqResult = chi2_contingency(pd.crosstab(index = df[i], columns = df[col]))\n",
    "            print(f\"p - value between {col} and {i} is:\", round(chisqResult[1],3))\n",
    "            if chisqResult[1] > 0.05:\n",
    "                print(f\"{col} and {i} are not correlated\")\n",
    "            print()"
   ]
  },
  {
   "cell_type": "code",
   "execution_count": 167,
   "id": "external-perception",
   "metadata": {},
   "outputs": [
    {
     "name": "stdout",
     "output_type": "stream",
     "text": [
      "performing chi-square test between LUNG_CANCER and other attributes\n",
      "p - value between LUNG_CANCER and AGE is: 0.048\n",
      "\n",
      "p - value between LUNG_CANCER and SMOKING is: 0.395\n",
      "LUNG_CANCER and SMOKING are not correlated\n",
      "\n",
      "p - value between LUNG_CANCER and YELLOW_FINGERS is: 0.003\n",
      "\n",
      "p - value between LUNG_CANCER and ANXIETY is: 0.017\n",
      "\n",
      "p - value between LUNG_CANCER and PEER_PRESSURE is: 0.002\n",
      "\n",
      "p - value between LUNG_CANCER and CHRONIC DISEASE is: 0.075\n",
      "LUNG_CANCER and CHRONIC DISEASE are not correlated\n",
      "\n",
      "p - value between LUNG_CANCER and FATIGUE  is: 0.014\n",
      "\n",
      "p - value between LUNG_CANCER and ALLERGY  is: 0.0\n",
      "\n",
      "p - value between LUNG_CANCER and WHEEZING is: 0.0\n",
      "\n",
      "p - value between LUNG_CANCER and ALCOHOL CONSUMING is: 0.0\n",
      "\n",
      "p - value between LUNG_CANCER and COUGHING is: 0.0\n",
      "\n",
      "p - value between LUNG_CANCER and SHORTNESS OF BREATH is: 0.374\n",
      "LUNG_CANCER and SHORTNESS OF BREATH are not correlated\n",
      "\n",
      "p - value between LUNG_CANCER and SWALLOWING DIFFICULTY is: 0.0\n",
      "\n",
      "p - value between LUNG_CANCER and CHEST PAIN is: 0.001\n",
      "\n",
      "p - value between LUNG_CANCER and Gender is: 0.312\n",
      "LUNG_CANCER and Gender are not correlated\n",
      "\n"
     ]
    }
   ],
   "source": [
    "print(\"performing chi-square test between LUNG_CANCER and other attributes\")\n",
    "chi_sq('LUNG_CANCER', dataset)"
   ]
  },
  {
   "cell_type": "code",
   "execution_count": 168,
   "id": "ethical-arthritis",
   "metadata": {},
   "outputs": [],
   "source": [
    "dropColumns = ['SMOKING', 'Gender', 'SHORTNESS OF BREATH', 'CHRONIC DISEASE']\n",
    "dataset.drop(columns=dropColumns, inplace=True)"
   ]
  },
  {
   "cell_type": "code",
   "execution_count": 169,
   "id": "extraordinary-inspector",
   "metadata": {},
   "outputs": [
    {
     "data": {
      "text/html": [
       "<div>\n",
       "<style scoped>\n",
       "    .dataframe tbody tr th:only-of-type {\n",
       "        vertical-align: middle;\n",
       "    }\n",
       "\n",
       "    .dataframe tbody tr th {\n",
       "        vertical-align: top;\n",
       "    }\n",
       "\n",
       "    .dataframe thead th {\n",
       "        text-align: right;\n",
       "    }\n",
       "</style>\n",
       "<table border=\"1\" class=\"dataframe\">\n",
       "  <thead>\n",
       "    <tr style=\"text-align: right;\">\n",
       "      <th></th>\n",
       "      <th>AGE</th>\n",
       "      <th>YELLOW_FINGERS</th>\n",
       "      <th>ANXIETY</th>\n",
       "      <th>PEER_PRESSURE</th>\n",
       "      <th>FATIGUE</th>\n",
       "      <th>ALLERGY</th>\n",
       "      <th>WHEEZING</th>\n",
       "      <th>ALCOHOL CONSUMING</th>\n",
       "      <th>COUGHING</th>\n",
       "      <th>SWALLOWING DIFFICULTY</th>\n",
       "      <th>CHEST PAIN</th>\n",
       "      <th>LUNG_CANCER</th>\n",
       "    </tr>\n",
       "  </thead>\n",
       "  <tbody>\n",
       "    <tr>\n",
       "      <th>0</th>\n",
       "      <td>69</td>\n",
       "      <td>2</td>\n",
       "      <td>2</td>\n",
       "      <td>1</td>\n",
       "      <td>2</td>\n",
       "      <td>1</td>\n",
       "      <td>2</td>\n",
       "      <td>2</td>\n",
       "      <td>2</td>\n",
       "      <td>2</td>\n",
       "      <td>2</td>\n",
       "      <td>YES</td>\n",
       "    </tr>\n",
       "    <tr>\n",
       "      <th>1</th>\n",
       "      <td>74</td>\n",
       "      <td>1</td>\n",
       "      <td>1</td>\n",
       "      <td>1</td>\n",
       "      <td>2</td>\n",
       "      <td>2</td>\n",
       "      <td>1</td>\n",
       "      <td>1</td>\n",
       "      <td>1</td>\n",
       "      <td>2</td>\n",
       "      <td>2</td>\n",
       "      <td>YES</td>\n",
       "    </tr>\n",
       "    <tr>\n",
       "      <th>2</th>\n",
       "      <td>59</td>\n",
       "      <td>1</td>\n",
       "      <td>1</td>\n",
       "      <td>2</td>\n",
       "      <td>2</td>\n",
       "      <td>1</td>\n",
       "      <td>2</td>\n",
       "      <td>1</td>\n",
       "      <td>2</td>\n",
       "      <td>1</td>\n",
       "      <td>2</td>\n",
       "      <td>NO</td>\n",
       "    </tr>\n",
       "    <tr>\n",
       "      <th>3</th>\n",
       "      <td>63</td>\n",
       "      <td>2</td>\n",
       "      <td>2</td>\n",
       "      <td>1</td>\n",
       "      <td>1</td>\n",
       "      <td>1</td>\n",
       "      <td>1</td>\n",
       "      <td>2</td>\n",
       "      <td>1</td>\n",
       "      <td>2</td>\n",
       "      <td>2</td>\n",
       "      <td>NO</td>\n",
       "    </tr>\n",
       "    <tr>\n",
       "      <th>4</th>\n",
       "      <td>63</td>\n",
       "      <td>2</td>\n",
       "      <td>1</td>\n",
       "      <td>1</td>\n",
       "      <td>1</td>\n",
       "      <td>1</td>\n",
       "      <td>2</td>\n",
       "      <td>1</td>\n",
       "      <td>2</td>\n",
       "      <td>1</td>\n",
       "      <td>1</td>\n",
       "      <td>NO</td>\n",
       "    </tr>\n",
       "  </tbody>\n",
       "</table>\n",
       "</div>"
      ],
      "text/plain": [
       "   AGE  YELLOW_FINGERS  ANXIETY  PEER_PRESSURE  FATIGUE   ALLERGY   WHEEZING  \\\n",
       "0   69               2        2              1         2         1         2   \n",
       "1   74               1        1              1         2         2         1   \n",
       "2   59               1        1              2         2         1         2   \n",
       "3   63               2        2              1         1         1         1   \n",
       "4   63               2        1              1         1         1         2   \n",
       "\n",
       "   ALCOHOL CONSUMING  COUGHING  SWALLOWING DIFFICULTY  CHEST PAIN LUNG_CANCER  \n",
       "0                  2         2                      2           2         YES  \n",
       "1                  1         1                      2           2         YES  \n",
       "2                  1         2                      1           2          NO  \n",
       "3                  2         1                      2           2          NO  \n",
       "4                  1         2                      1           1          NO  "
      ]
     },
     "execution_count": 169,
     "metadata": {},
     "output_type": "execute_result"
    }
   ],
   "source": [
    "dataset.head()"
   ]
  },
  {
   "cell_type": "code",
   "execution_count": 170,
   "id": "complex-relative",
   "metadata": {},
   "outputs": [],
   "source": [
    "X = dataset.drop(columns=\"LUNG_CANCER\")\n",
    "y = dataset.LUNG_CANCER"
   ]
  },
  {
   "cell_type": "code",
   "execution_count": 184,
   "id": "lonely-tribute",
   "metadata": {},
   "outputs": [],
   "source": [
    "xtrain, xtest, ytrain, ytest = train_test_split(X, y, test_size=0.15, random_state=3)"
   ]
  },
  {
   "cell_type": "code",
   "execution_count": 185,
   "id": "premium-christian",
   "metadata": {},
   "outputs": [],
   "source": [
    "model = RandomForestClassifier(n_estimators=500, n_jobs=-1, criterion=\"gini\")"
   ]
  },
  {
   "cell_type": "code",
   "execution_count": 186,
   "id": "juvenile-grain",
   "metadata": {},
   "outputs": [
    {
     "data": {
      "text/plain": [
       "RandomForestClassifier(n_estimators=500, n_jobs=-1)"
      ]
     },
     "execution_count": 186,
     "metadata": {},
     "output_type": "execute_result"
    }
   ],
   "source": [
    "model.fit(xtrain, ytrain)"
   ]
  },
  {
   "cell_type": "code",
   "execution_count": 187,
   "id": "preceding-south",
   "metadata": {},
   "outputs": [],
   "source": [
    "ypred = model.predict(xtest)"
   ]
  },
  {
   "cell_type": "code",
   "execution_count": 188,
   "id": "allied-battle",
   "metadata": {},
   "outputs": [
    {
     "data": {
      "text/plain": [
       "0.8723404255319149"
      ]
     },
     "execution_count": 188,
     "metadata": {},
     "output_type": "execute_result"
    }
   ],
   "source": [
    "accuracy_score(ypred, ytest)"
   ]
  },
  {
   "cell_type": "code",
   "execution_count": 189,
   "id": "consecutive-chance",
   "metadata": {},
   "outputs": [
    {
     "data": {
      "text/plain": [
       "<sklearn.metrics._plot.confusion_matrix.ConfusionMatrixDisplay at 0x7fa20ecd5d68>"
      ]
     },
     "execution_count": 189,
     "metadata": {},
     "output_type": "execute_result"
    },
    {
     "data": {
      "image/png": "[encoded data removed]",
      "text/plain": [
       "<Figure size 432x288 with 2 Axes>"
      ]
     },
     "metadata": {
      "needs_background": "light"
     },
     "output_type": "display_data"
    }
   ],
   "source": [
    "ConfusionMatrixDisplay(confusion_matrix(ytest, ypred)).plot()"
   ]
  },
  {
   "cell_type": "markdown",
   "id": "hawaiian-constraint",
   "metadata": {},
   "source": [
    "#### Stacking classifier"
   ]
  },
  {
   "cell_type": "markdown",
   "id": "computational-classic",
   "metadata": {},
   "source": [
    "<img src=\"https://miro.medium.com/v2/resize:fit:665/1*0hEXoK6zXhTt05q3V3vmnA.png\" />"
   ]
  },
  {
   "cell_type": "code",
   "execution_count": 214,
   "id": "genuine-convert",
   "metadata": {},
   "outputs": [],
   "source": [
    "from sklearn.linear_model import LogisticRegression\n",
    "from sklearn.svm import SVC\n",
    "from sklearn.ensemble import  BaggingClassifier"
   ]
  },
  {
   "cell_type": "code",
   "execution_count": 215,
   "id": "following-taiwan",
   "metadata": {},
   "outputs": [
    {
     "data": {
      "text/plain": [
       "StackingClassifier(estimators=[('lr', LogisticRegression(max_iter=300)),\n",
       "                               ('bagging', BaggingClassifier()),\n",
       "                               ('svm', SVC())],\n",
       "                   final_estimator=RandomForestClassifier())"
      ]
     },
     "execution_count": 215,
     "metadata": {},
     "output_type": "execute_result"
    }
   ],
   "source": [
    "# Stacking Classifier\n",
    "estimators = [('lr', LogisticRegression(max_iter=300)), ('bagging', BaggingClassifier()),\n",
    "              ('svm', SVC())]\n",
    "stacking_model = StackingClassifier(estimators=estimators,\n",
    "                                    final_estimator=RandomForestClassifier())\n",
    "stacking_model.fit(xtrain, ytrain)"
   ]
  },
  {
   "cell_type": "code",
   "execution_count": 216,
   "id": "signed-mambo",
   "metadata": {},
   "outputs": [
    {
     "data": {
      "text/plain": [
       "0.8936170212765957"
      ]
     },
     "execution_count": 216,
     "metadata": {},
     "output_type": "execute_result"
    }
   ],
   "source": [
    "accuracy_score(stacking_model.predict(xtest), ytest)"
   ]
  },
  {
   "cell_type": "markdown",
   "id": "beginning-penetration",
   "metadata": {},
   "source": [
    "#### PCA"
   ]
  },
  {
   "cell_type": "code",
   "execution_count": 222,
   "id": "thermal-opinion",
   "metadata": {},
   "outputs": [],
   "source": [
    "import numpy as np\n",
    "from sklearn.decomposition import PCA\n",
    "import matplotlib.pyplot as plt"
   ]
  },
  {
   "cell_type": "code",
   "execution_count": 226,
   "id": "relative-dating",
   "metadata": {},
   "outputs": [],
   "source": [
    "# Create a sample dataset\n",
    "np.random.seed(0)\n",
    "data = np.random.randn(100, 4)  # 100 points in 2D space"
   ]
  },
  {
   "cell_type": "code",
   "execution_count": 243,
   "id": "stone-breathing",
   "metadata": {},
   "outputs": [
    {
     "name": "stderr",
     "output_type": "stream",
     "text": [
      "/Library/Frameworks/Python.framework/Versions/3.6/lib/python3.6/site-packages/matplotlib/collections.py:922: RuntimeWarning: invalid value encountered in sqrt\n",
      "  scale = np.sqrt(self._sizes) * dpi / 72.0 * self._factor\n"
     ]
    },
    {
     "data": {
      "image/png": "[encoded data removed]",
      "text/plain": [
       "<Figure size 432x288 with 1 Axes>"
      ]
     },
     "metadata": {
      "needs_background": "light"
     },
     "output_type": "display_data"
    }
   ],
   "source": [
    "# Original data\n",
    "plt.scatter(data[:, 0], data[:, 1],  data[:, 2 ], data[:, 3], label='Original Data')\n",
    "plt.show()"
   ]
  },
  {
   "cell_type": "code",
   "execution_count": 244,
   "id": "suspended-marina",
   "metadata": {},
   "outputs": [],
   "source": [
    "pcs = PCA(n_components=2)"
   ]
  },
  {
   "cell_type": "code",
   "execution_count": 245,
   "id": "matched-belfast",
   "metadata": {},
   "outputs": [],
   "source": [
    "data_pca = pcs.fit_transform(data)"
   ]
  },
  {
   "cell_type": "code",
   "execution_count": 246,
   "id": "hundred-service",
   "metadata": {},
   "outputs": [
    {
     "data": {
      "text/plain": [
       "(100, 2)"
      ]
     },
     "execution_count": 246,
     "metadata": {},
     "output_type": "execute_result"
    }
   ],
   "source": [
    "data_pca.shape"
   ]
  },
  {
   "cell_type": "code",
   "execution_count": 248,
   "id": "built-rogers",
   "metadata": {},
   "outputs": [
    {
     "data": {
      "text/plain": [
       "array([[-2.42594031,  1.22493874],\n",
       "       [-1.98423311, -0.61449873],\n",
       "       [-0.26843973,  0.96167633],\n",
       "       [-0.89215061,  0.39547559]])"
      ]
     },
     "execution_count": 248,
     "metadata": {},
     "output_type": "execute_result"
    }
   ],
   "source": [
    "data_pca[:4]"
   ]
  },
  {
   "cell_type": "code",
   "execution_count": 249,
   "id": "square-tsunami",
   "metadata": {},
   "outputs": [
    {
     "data": {
      "text/plain": [
       "array([[ 1.76405235,  0.40015721,  0.97873798,  2.2408932 ],\n",
       "       [ 1.86755799, -0.97727788,  0.95008842, -0.15135721],\n",
       "       [-0.10321885,  0.4105985 ,  0.14404357,  1.45427351],\n",
       "       [ 0.76103773,  0.12167502,  0.44386323,  0.33367433]])"
      ]
     },
     "execution_count": 249,
     "metadata": {},
     "output_type": "execute_result"
    }
   ],
   "source": [
    "data[:4]"
   ]
  },
  {
   "cell_type": "code",
   "execution_count": 255,
   "id": "tropical-destiny",
   "metadata": {},
   "outputs": [
    {
     "data": {
      "image/png": "[encoded data removed]",
      "text/plain": [
       "<Figure size 432x288 with 1 Axes>"
      ]
     },
     "metadata": {
      "needs_background": "light"
     },
     "output_type": "display_data"
    }
   ],
   "source": [
    "# Original data\n",
    "# plt.scatter(data[:, 0], data[:, 1],  data[:, 2 ], data[:, 3], label='Original Data')\n",
    "\n",
    "# Data after pcs transformation\n",
    "plt.scatter(data_pca[:, 0], data_pca[:, 1], label='pcs Data', alpha=0.5)\n",
    "\n",
    "# Plot the principal components as arrows\n",
    "for i, (variance, vector) in enumerate(zip(pcs.explained_variance_, pcs.components_)):\n",
    "    scale = np.sqrt(variance)  # Scale factor for the arrow length\n",
    "    plt.arrow(pcs.mean_[0], pcs.mean_[1], vector[0] * scale, vector[1] * scale,\n",
    "              head_width=0.2, head_length=0.2, fc=f'C{i}', ec=f'C{i}', label=f'PC{i+1}')\n",
    "\n",
    "plt.legend()\n",
    "plt.xlabel('X-axis')\n",
    "plt.ylabel('Y-axis')\n",
    "plt.title('pcs Example')\n",
    "plt.show()"
   ]
  },
  {
   "cell_type": "code",
   "execution_count": 256,
   "id": "fitted-medicare",
   "metadata": {},
   "outputs": [],
   "source": [
    "from sklearn.svm import SVC\n",
    "from sklearn.datasets import fetch_lfw_people\n",
    "from sklearn.decomposition import PCA\n",
    "from sklearn.metrics import classification_report, accuracy_score\n",
    "from sklearn.model_selection import train_test_split"
   ]
  },
  {
   "cell_type": "code",
   "execution_count": 257,
   "id": "silver-aerospace",
   "metadata": {},
   "outputs": [],
   "source": [
    "lfw_dataset = fetch_lfw_people(min_faces_per_person=50)"
   ]
  },
  {
   "cell_type": "code",
   "execution_count": 258,
   "id": "surgical-quarterly",
   "metadata": {},
   "outputs": [],
   "source": [
    "X = lfw_dataset.data\n",
    "y = lfw_dataset.target\n",
    "target_names = lfw_dataset.target_names"
   ]
  },
  {
   "cell_type": "code",
   "execution_count": 259,
   "id": "strategic-landing",
   "metadata": {},
   "outputs": [
    {
     "data": {
      "text/plain": [
       "((1560, 2914), (1560,))"
      ]
     },
     "execution_count": 259,
     "metadata": {},
     "output_type": "execute_result"
    }
   ],
   "source": [
    "X.shape, y.shape"
   ]
  },
  {
   "cell_type": "code",
   "execution_count": 261,
   "id": "novel-antigua",
   "metadata": {},
   "outputs": [
    {
     "data": {
      "text/plain": [
       "(array([ 81.333336,  86.      , 102.      , ..., 134.      , 149.66667 ,\n",
       "        120.      ], dtype=float32),\n",
       " 11,\n",
       " 'Ariel Sharon')"
      ]
     },
     "execution_count": 261,
     "metadata": {},
     "output_type": "execute_result"
    }
   ],
   "source": [
    "X[0], y[0], target_names[0]"
   ]
  },
  {
   "cell_type": "code",
   "execution_count": 262,
   "id": "classified-walter",
   "metadata": {},
   "outputs": [],
   "source": [
    "# split into a training and testing set\n",
    "X_train, X_test, y_train, y_test = train_test_split(X, y, test_size=0.3)"
   ]
  },
  {
   "cell_type": "code",
   "execution_count": 291,
   "id": "south-trout",
   "metadata": {},
   "outputs": [],
   "source": [
    "# Compute a PCA \n",
    "n_components = 100\n",
    "pca = PCA(n_components=n_components, whiten=True).fit(X_train)\n",
    "\n",
    "# apply PCA transformation\n",
    "X_train_pca = pca.transform(X_train)\n",
    "X_test_pca = pca.transform(X_test)\n"
   ]
  },
  {
   "cell_type": "code",
   "execution_count": 292,
   "id": "contained-economics",
   "metadata": {},
   "outputs": [],
   "source": [
    "model = SVC(C=1, kernel='linear')"
   ]
  },
  {
   "cell_type": "code",
   "execution_count": 293,
   "id": "spiritual-imaging",
   "metadata": {},
   "outputs": [
    {
     "data": {
      "text/plain": [
       "SVC(C=1, kernel='linear')"
      ]
     },
     "execution_count": 293,
     "metadata": {},
     "output_type": "execute_result"
    }
   ],
   "source": [
    "# model.fit(X_train, y_train)\n",
    "model.fit(X_train_pca, y_train)"
   ]
  },
  {
   "cell_type": "code",
   "execution_count": 294,
   "id": "recent-prague",
   "metadata": {},
   "outputs": [],
   "source": [
    "# ypred = model.predict(X_test)\n",
    "ypred_pca = model.predict(X_test_pca)"
   ]
  },
  {
   "cell_type": "code",
   "execution_count": 295,
   "id": "variable-competition",
   "metadata": {},
   "outputs": [
    {
     "data": {
      "text/plain": [
       "0.8076923076923077"
      ]
     },
     "execution_count": 295,
     "metadata": {},
     "output_type": "execute_result"
    }
   ],
   "source": [
    "accuracy_score(ypred, y_test)"
   ]
  },
  {
   "cell_type": "code",
   "execution_count": 296,
   "id": "unlike-renewal",
   "metadata": {},
   "outputs": [
    {
     "name": "stdout",
     "output_type": "stream",
     "text": [
      "              precision    recall  f1-score   support\n",
      "\n",
      "           0       0.76      0.66      0.70        29\n",
      "           1       0.88      0.74      0.81        81\n",
      "           2       0.72      0.78      0.75        36\n",
      "           3       0.93      0.84      0.88       178\n",
      "           4       0.72      0.82      0.77        28\n",
      "           5       0.58      1.00      0.74        14\n",
      "           6       0.60      0.60      0.60        10\n",
      "           7       0.64      0.82      0.72        11\n",
      "           8       0.53      0.80      0.64        10\n",
      "           9       0.90      0.86      0.88        22\n",
      "          10       0.83      0.77      0.80        13\n",
      "          11       0.70      0.92      0.80        36\n",
      "\n",
      "    accuracy                           0.81       468\n",
      "   macro avg       0.73      0.80      0.76       468\n",
      "weighted avg       0.83      0.81      0.81       468\n",
      "\n"
     ]
    }
   ],
   "source": [
    "print(classification_report(ypred, y_test))"
   ]
  },
  {
   "cell_type": "code",
   "execution_count": 297,
   "id": "weighted-constitution",
   "metadata": {},
   "outputs": [
    {
     "data": {
      "text/plain": [
       "0.7350427350427351"
      ]
     },
     "execution_count": 297,
     "metadata": {},
     "output_type": "execute_result"
    }
   ],
   "source": [
    "accuracy_score(ypred_pca, y_test)"
   ]
  },
  {
   "cell_type": "code",
   "execution_count": 298,
   "id": "successful-afghanistan",
   "metadata": {},
   "outputs": [
    {
     "name": "stdout",
     "output_type": "stream",
     "text": [
      "              precision    recall  f1-score   support\n",
      "\n",
      "           0       0.72      0.67      0.69        27\n",
      "           1       0.87      0.69      0.77        86\n",
      "           2       0.51      0.54      0.53        37\n",
      "           3       0.82      0.81      0.82       162\n",
      "           4       0.69      0.69      0.69        32\n",
      "           5       0.71      0.85      0.77        20\n",
      "           6       0.40      0.50      0.44         8\n",
      "           7       0.71      0.77      0.74        13\n",
      "           8       0.67      0.83      0.74        12\n",
      "           9       0.81      0.85      0.83        20\n",
      "          10       0.50      0.75      0.60         8\n",
      "          11       0.62      0.67      0.64        43\n",
      "\n",
      "    accuracy                           0.74       468\n",
      "   macro avg       0.67      0.72      0.69       468\n",
      "weighted avg       0.75      0.74      0.74       468\n",
      "\n"
     ]
    }
   ],
   "source": [
    "print(classification_report(ypred_pca, y_test))"
   ]
  },
  {
   "cell_type": "markdown",
   "id": "twelve-acceptance",
   "metadata": {},
   "source": [
    "#### Aprior"
   ]
  },
  {
   "cell_type": "markdown",
   "id": "twelve-potato",
   "metadata": {},
   "source": [
    "<img src=\"./Capture.JPG\" />"
   ]
  },
  {
   "cell_type": "markdown",
   "id": "technical-tomato",
   "metadata": {},
   "source": [
    "<img src=\"https://i.ytimg.com/vi/VBYNmolsa1M/maxresdefault.jpg\" />"
   ]
  },
  {
   "cell_type": "code",
   "execution_count": 300,
   "id": "trying-lotus",
   "metadata": {},
   "outputs": [],
   "source": [
    "import pandas as pd\n",
    "from mlxtend.preprocessing import TransactionEncoder\n",
    "from mlxtend.frequent_patterns import apriori"
   ]
  },
  {
   "cell_type": "code",
   "execution_count": 301,
   "id": "protective-wells",
   "metadata": {},
   "outputs": [],
   "source": [
    "dataset = [['Milk', 'Onion', 'Nutmeg', 'Kidney Beans', 'Eggs', 'Yogurt'],\n",
    "           ['Dill', 'Onion', 'Nutmeg', 'Kidney Beans', 'Eggs', 'Yogurt'],\n",
    "           ['Milk', 'Apple', 'Kidney Beans', 'Eggs'],\n",
    "           ['Milk', 'Unicorn', 'Corn', 'Kidney Beans', 'Yogurt'],\n",
    "           ['Corn', 'Onion', 'Onion', 'Kidney Beans', 'Ice cream', 'Eggs']]"
   ]
  },
  {
   "cell_type": "code",
   "execution_count": 304,
   "id": "unavailable-apache",
   "metadata": {},
   "outputs": [],
   "source": [
    "te = TransactionEncoder()\n",
    "te_ary = te.fit(dataset).transform(dataset)\n",
    "df = pd.DataFrame(te_ary, columns=te.columns_)"
   ]
  },
  {
   "cell_type": "code",
   "execution_count": 305,
   "id": "recognized-closure",
   "metadata": {},
   "outputs": [
    {
     "data": {
      "text/html": [
       "<div>\n",
       "<style scoped>\n",
       "    .dataframe tbody tr th:only-of-type {\n",
       "        vertical-align: middle;\n",
       "    }\n",
       "\n",
       "    .dataframe tbody tr th {\n",
       "        vertical-align: top;\n",
       "    }\n",
       "\n",
       "    .dataframe thead th {\n",
       "        text-align: right;\n",
       "    }\n",
       "</style>\n",
       "<table border=\"1\" class=\"dataframe\">\n",
       "  <thead>\n",
       "    <tr style=\"text-align: right;\">\n",
       "      <th></th>\n",
       "      <th>Apple</th>\n",
       "      <th>Corn</th>\n",
       "      <th>Dill</th>\n",
       "      <th>Eggs</th>\n",
       "      <th>Ice cream</th>\n",
       "      <th>Kidney Beans</th>\n",
       "      <th>Milk</th>\n",
       "      <th>Nutmeg</th>\n",
       "      <th>Onion</th>\n",
       "      <th>Unicorn</th>\n",
       "      <th>Yogurt</th>\n",
       "    </tr>\n",
       "  </thead>\n",
       "  <tbody>\n",
       "    <tr>\n",
       "      <th>0</th>\n",
       "      <td>False</td>\n",
       "      <td>False</td>\n",
       "      <td>False</td>\n",
       "      <td>True</td>\n",
       "      <td>False</td>\n",
       "      <td>True</td>\n",
       "      <td>True</td>\n",
       "      <td>True</td>\n",
       "      <td>True</td>\n",
       "      <td>False</td>\n",
       "      <td>True</td>\n",
       "    </tr>\n",
       "    <tr>\n",
       "      <th>1</th>\n",
       "      <td>False</td>\n",
       "      <td>False</td>\n",
       "      <td>True</td>\n",
       "      <td>True</td>\n",
       "      <td>False</td>\n",
       "      <td>True</td>\n",
       "      <td>False</td>\n",
       "      <td>True</td>\n",
       "      <td>True</td>\n",
       "      <td>False</td>\n",
       "      <td>True</td>\n",
       "    </tr>\n",
       "    <tr>\n",
       "      <th>2</th>\n",
       "      <td>True</td>\n",
       "      <td>False</td>\n",
       "      <td>False</td>\n",
       "      <td>True</td>\n",
       "      <td>False</td>\n",
       "      <td>True</td>\n",
       "      <td>True</td>\n",
       "      <td>False</td>\n",
       "      <td>False</td>\n",
       "      <td>False</td>\n",
       "      <td>False</td>\n",
       "    </tr>\n",
       "    <tr>\n",
       "      <th>3</th>\n",
       "      <td>False</td>\n",
       "      <td>True</td>\n",
       "      <td>False</td>\n",
       "      <td>False</td>\n",
       "      <td>False</td>\n",
       "      <td>True</td>\n",
       "      <td>True</td>\n",
       "      <td>False</td>\n",
       "      <td>False</td>\n",
       "      <td>True</td>\n",
       "      <td>True</td>\n",
       "    </tr>\n",
       "    <tr>\n",
       "      <th>4</th>\n",
       "      <td>False</td>\n",
       "      <td>True</td>\n",
       "      <td>False</td>\n",
       "      <td>True</td>\n",
       "      <td>True</td>\n",
       "      <td>True</td>\n",
       "      <td>False</td>\n",
       "      <td>False</td>\n",
       "      <td>True</td>\n",
       "      <td>False</td>\n",
       "      <td>False</td>\n",
       "    </tr>\n",
       "  </tbody>\n",
       "</table>\n",
       "</div>"
      ],
      "text/plain": [
       "   Apple   Corn   Dill   Eggs  Ice cream  Kidney Beans   Milk  Nutmeg  Onion  \\\n",
       "0  False  False  False   True      False          True   True    True   True   \n",
       "1  False  False   True   True      False          True  False    True   True   \n",
       "2   True  False  False   True      False          True   True   False  False   \n",
       "3  False   True  False  False      False          True   True   False  False   \n",
       "4  False   True  False   True       True          True  False   False   True   \n",
       "\n",
       "   Unicorn  Yogurt  \n",
       "0    False    True  \n",
       "1    False    True  \n",
       "2    False   False  \n",
       "3     True    True  \n",
       "4    False   False  "
      ]
     },
     "execution_count": 305,
     "metadata": {},
     "output_type": "execute_result"
    }
   ],
   "source": [
    "df"
   ]
  },
  {
   "cell_type": "code",
   "execution_count": 306,
   "id": "atlantic-admission",
   "metadata": {},
   "outputs": [
    {
     "data": {
      "text/html": [
       "<div>\n",
       "<style scoped>\n",
       "    .dataframe tbody tr th:only-of-type {\n",
       "        vertical-align: middle;\n",
       "    }\n",
       "\n",
       "    .dataframe tbody tr th {\n",
       "        vertical-align: top;\n",
       "    }\n",
       "\n",
       "    .dataframe thead th {\n",
       "        text-align: right;\n",
       "    }\n",
       "</style>\n",
       "<table border=\"1\" class=\"dataframe\">\n",
       "  <thead>\n",
       "    <tr style=\"text-align: right;\">\n",
       "      <th></th>\n",
       "      <th>support</th>\n",
       "      <th>itemsets</th>\n",
       "    </tr>\n",
       "  </thead>\n",
       "  <tbody>\n",
       "    <tr>\n",
       "      <th>0</th>\n",
       "      <td>0.8</td>\n",
       "      <td>(Eggs)</td>\n",
       "    </tr>\n",
       "    <tr>\n",
       "      <th>1</th>\n",
       "      <td>1.0</td>\n",
       "      <td>(Kidney Beans)</td>\n",
       "    </tr>\n",
       "    <tr>\n",
       "      <th>2</th>\n",
       "      <td>0.6</td>\n",
       "      <td>(Milk)</td>\n",
       "    </tr>\n",
       "    <tr>\n",
       "      <th>3</th>\n",
       "      <td>0.6</td>\n",
       "      <td>(Onion)</td>\n",
       "    </tr>\n",
       "    <tr>\n",
       "      <th>4</th>\n",
       "      <td>0.6</td>\n",
       "      <td>(Yogurt)</td>\n",
       "    </tr>\n",
       "    <tr>\n",
       "      <th>5</th>\n",
       "      <td>0.8</td>\n",
       "      <td>(Eggs, Kidney Beans)</td>\n",
       "    </tr>\n",
       "    <tr>\n",
       "      <th>6</th>\n",
       "      <td>0.6</td>\n",
       "      <td>(Onion, Eggs)</td>\n",
       "    </tr>\n",
       "    <tr>\n",
       "      <th>7</th>\n",
       "      <td>0.6</td>\n",
       "      <td>(Milk, Kidney Beans)</td>\n",
       "    </tr>\n",
       "    <tr>\n",
       "      <th>8</th>\n",
       "      <td>0.6</td>\n",
       "      <td>(Onion, Kidney Beans)</td>\n",
       "    </tr>\n",
       "    <tr>\n",
       "      <th>9</th>\n",
       "      <td>0.6</td>\n",
       "      <td>(Yogurt, Kidney Beans)</td>\n",
       "    </tr>\n",
       "    <tr>\n",
       "      <th>10</th>\n",
       "      <td>0.6</td>\n",
       "      <td>(Onion, Eggs, Kidney Beans)</td>\n",
       "    </tr>\n",
       "  </tbody>\n",
       "</table>\n",
       "</div>"
      ],
      "text/plain": [
       "    support                     itemsets\n",
       "0       0.8                       (Eggs)\n",
       "1       1.0               (Kidney Beans)\n",
       "2       0.6                       (Milk)\n",
       "3       0.6                      (Onion)\n",
       "4       0.6                     (Yogurt)\n",
       "5       0.8         (Eggs, Kidney Beans)\n",
       "6       0.6                (Onion, Eggs)\n",
       "7       0.6         (Milk, Kidney Beans)\n",
       "8       0.6        (Onion, Kidney Beans)\n",
       "9       0.6       (Yogurt, Kidney Beans)\n",
       "10      0.6  (Onion, Eggs, Kidney Beans)"
      ]
     },
     "execution_count": 306,
     "metadata": {},
     "output_type": "execute_result"
    }
   ],
   "source": [
    "apriori(df, min_support=0.5, use_colnames=True)"
   ]
  },
  {
   "cell_type": "markdown",
   "id": "varied-mandate",
   "metadata": {},
   "source": [
    "####  TF-IDF "
   ]
  },
  {
   "cell_type": "code",
   "execution_count": 326,
   "id": "lovely-captain",
   "metadata": {},
   "outputs": [],
   "source": [
    "from sklearn.feature_extraction.text import TfidfVectorizer\n",
    "from sklearn.metrics.pairwise import cosine_similarity"
   ]
  },
  {
   "cell_type": "code",
   "execution_count": 348,
   "id": "intelligent-architect",
   "metadata": {},
   "outputs": [],
   "source": [
    "# Sample corpus (list of sentences)\n",
    "corpus = [\n",
    "    \"TF-IDF stands for Term Frequency-Inverse Document Frequency.\",\n",
    "    \"It is a numerical statistic that reflects the importance of a word in a document.\",\n",
    "    \"The higher the TF-IDF score, the more important the word is in the document.\",\n",
    "    \"Cosine similarity measures the cosine of the angle between two vectors.\",\n",
    "    \"In this case, the vectors represent the TF-IDF values of the sentences.\",\n",
    "    \"A higher cosine similarity indicates greater similarity between sentences.\",\n",
    "]\n",
    "\n",
    "# User query\n",
    "user_query = \"What is TF-IDF and cosine similarity?\"\n",
    "user_query = \"How does cosine similarity work in information retrieval?\""
   ]
  },
  {
   "cell_type": "code",
   "execution_count": 349,
   "id": "promotional-brazil",
   "metadata": {},
   "outputs": [],
   "source": [
    "preprocessed_corpus = [sentence.lower() for sentence in corpus]\n",
    "preprocessed_query = user_query.lower()"
   ]
  },
  {
   "cell_type": "code",
   "execution_count": 350,
   "id": "three-scenario",
   "metadata": {},
   "outputs": [],
   "source": [
    "\n",
    "# Create a TF-IDF vectorizer\n",
    "tfidf_vectorizer = TfidfVectorizer()\n",
    "tfidf_matrix = tfidf_vectorizer.fit_transform(preprocessed_corpus)"
   ]
  },
  {
   "cell_type": "code",
   "execution_count": 351,
   "id": "apparent-bedroom",
   "metadata": {
    "scrolled": true
   },
   "outputs": [
    {
     "data": {
      "text/plain": [
       "'frequency'"
      ]
     },
     "execution_count": 351,
     "metadata": {},
     "output_type": "execute_result"
    }
   ],
   "source": [
    "tfidf_vectorizer.get_feature_names()[6]"
   ]
  },
  {
   "cell_type": "code",
   "execution_count": 352,
   "id": "collectible-richmond",
   "metadata": {},
   "outputs": [
    {
     "name": "stdout",
     "output_type": "stream",
     "text": [
      "  (0, 4)\t0.22535369375387654\n",
      "  (0, 14)\t0.3255086669611218\n",
      "  (0, 6)\t0.6510173339222436\n",
      "  (0, 28)\t0.3255086669611218\n",
      "  (0, 5)\t0.3255086669611218\n",
      "  (0, 26)\t0.3255086669611218\n",
      "  (0, 9)\t0.22535369375387654\n",
      "  (0, 29)\t0.22535369375387654\n"
     ]
    }
   ],
   "source": [
    "print(tfidf_matrix[0])"
   ]
  },
  {
   "cell_type": "code",
   "execution_count": 353,
   "id": "straight-principal",
   "metadata": {},
   "outputs": [],
   "source": [
    "# Calculate the TF-IDF vector for the user query\n",
    "query_vector = tfidf_vectorizer.transform([preprocessed_query])"
   ]
  },
  {
   "cell_type": "code",
   "execution_count": 354,
   "id": "endless-conflict",
   "metadata": {},
   "outputs": [],
   "source": [
    "# Compute cosine similarity between the query vector and corpus vectors\n",
    "cosine_similarities = cosine_similarity(query_vector, tfidf_matrix)"
   ]
  },
  {
   "cell_type": "code",
   "execution_count": 355,
   "id": "higher-narrative",
   "metadata": {},
   "outputs": [
    {
     "data": {
      "text/plain": [
       "array([[0.        , 0.11741614, 0.08946722, 0.48220622, 0.10988542,\n",
       "        0.54982497]])"
      ]
     },
     "execution_count": 355,
     "metadata": {},
     "output_type": "execute_result"
    }
   ],
   "source": [
    "cosine_similarities"
   ]
  },
  {
   "cell_type": "code",
   "execution_count": 356,
   "id": "pending-amateur",
   "metadata": {},
   "outputs": [],
   "source": [
    "# Get the indices of the most similar sentences\n",
    "most_similar_indices = cosine_similarities.argsort()[0][::-1]"
   ]
  },
  {
   "cell_type": "code",
   "execution_count": 357,
   "id": "civic-springfield",
   "metadata": {},
   "outputs": [
    {
     "name": "stdout",
     "output_type": "stream",
     "text": [
      "Relevant Sentence 1: A higher cosine similarity indicates greater similarity between sentences.\n",
      "Relevant Sentence 2: Cosine similarity measures the cosine of the angle between two vectors.\n",
      "Relevant Sentence 3: It is a numerical statistic that reflects the importance of a word in a document.\n"
     ]
    }
   ],
   "source": [
    "# Number of top sentences to retrieve\n",
    "num_top_sentences = 3\n",
    "\n",
    "# Retrieve and print the most relevant sentences\n",
    "for i in range(num_top_sentences):\n",
    "    index = most_similar_indices[i]\n",
    "    print(f\"Relevant Sentence {i + 1}: {corpus[index]}\")\n"
   ]
  },
  {
   "cell_type": "markdown",
   "id": "commercial-gravity",
   "metadata": {},
   "source": [
    "#### image processing"
   ]
  },
  {
   "cell_type": "code",
   "execution_count": 307,
   "id": "ancient-canon",
   "metadata": {},
   "outputs": [],
   "source": [
    "import cv2"
   ]
  },
  {
   "cell_type": "code",
   "execution_count": 320,
   "id": "stunning-livestock",
   "metadata": {},
   "outputs": [],
   "source": [
    "image = cv2.imread(\"./girls.jpg\",1)"
   ]
  },
  {
   "cell_type": "code",
   "execution_count": 318,
   "id": "reduced-testing",
   "metadata": {},
   "outputs": [
    {
     "data": {
      "image/png": "[encoded data removed]",
      "text/plain": [
       "<Figure size 432x288 with 1 Axes>"
      ]
     },
     "metadata": {
      "needs_background": "light"
     },
     "output_type": "display_data"
    }
   ],
   "source": [
    "plt.imshow(img, cmap='gray')\n",
    "plt.show()"
   ]
  },
  {
   "cell_type": "code",
   "execution_count": 317,
   "id": "explicit-hawaii",
   "metadata": {},
   "outputs": [
    {
     "data": {
      "text/plain": [
       "32"
      ]
     },
     "execution_count": 317,
     "metadata": {},
     "output_type": "execute_result"
    }
   ],
   "source": [
    "cv2.imshow(\"girls\", image)\n",
    "cv2.waitKey(0)"
   ]
  },
  {
   "cell_type": "code",
   "execution_count": 321,
   "id": "close-appliance",
   "metadata": {},
   "outputs": [
    {
     "data": {
      "text/plain": [
       "32"
      ]
     },
     "execution_count": 321,
     "metadata": {},
     "output_type": "execute_result"
    }
   ],
   "source": [
    "# Read the image\n",
    "gray = cv2.cvtColor(image, cv2.COLOR_BGR2GRAY)\n",
    "edge = cv2.Canny(image,200,300)\n",
    "\n",
    "img_copy = image.copy()\n",
    "cv2.rectangle(img_copy, pt1 = (140, 92), pt2 = (620, 240), color = (255, 0, 0), thickness = 5)\n",
    "cv2.putText(img_copy, \"this is sample text\", (250, 120), cv2.FONT_HERSHEY_SIMPLEX, 0.7, color=(0, 0, 255), thickness = 2)\n",
    "\n",
    "resized_image =  cv2.resize(image,(100,100))\n",
    "\n",
    "blurred = cv2.blur(image,(1,20))\n",
    "\n",
    "cv2.imshow(\"original image\", image)\n",
    "cv2.imshow(\"gray image\", gray)\n",
    "cv2.imshow(\"edge image\", edge)\n",
    "cv2.imshow(\"rectangle\", img_copy)\n",
    "cv2.imshow(\"resized image\",resized_image)\n",
    "cv2.imshow(\"blurred image\",blurred)\n",
    "\n",
    "cv2.waitKey(0)\n"
   ]
  },
  {
   "cell_type": "code",
   "execution_count": 323,
   "id": "chemical-producer",
   "metadata": {},
   "outputs": [
    {
     "name": "stdout",
     "output_type": "stream",
     "text": [
      "Found 6 faces!\n"
     ]
    },
    {
     "data": {
      "text/plain": [
       "32"
      ]
     },
     "execution_count": 323,
     "metadata": {},
     "output_type": "execute_result"
    }
   ],
   "source": [
    "import cv2\n",
    "import sys\n",
    "\n",
    "# Get user supplied values\n",
    "imagePath = \"./girls.jpg\"\n",
    "cascPath = \"../CV2 examples/haarcascade_frontalface_default.xml\"\n",
    "\n",
    "# Create the haar cascade\n",
    "faceCascade = cv2.CascadeClassifier(cascPath)\n",
    "\n",
    "# Read the image\n",
    "image = cv2.imread(imagePath)\n",
    "gray = cv2.cvtColor(image, cv2.COLOR_BGR2GRAY)\n",
    "\n",
    "# Detect faces in the image\n",
    "faces = faceCascade.detectMultiScale(\n",
    "    gray,\n",
    "    scaleFactor=1.1,\n",
    "    minNeighbors=5,\n",
    "    minSize=(30, 30)\n",
    "    #flags = cv2.CV_HAAR_SCALE_IMAGE\n",
    ")\n",
    "\n",
    "print(\"Found {0} faces!\".format(len(faces)))\n",
    "\n",
    "# Draw a rectangle around the faces\n",
    "for (x, y, w, h) in faces:\n",
    "    cv2.rectangle(image, (x, y), (x+w, y+h), (0, 255, 0), 2)\n",
    "\n",
    "cv2.imshow(\"Faces found\", image)\n",
    "cv2.waitKey(0)\n"
   ]
  },
  {
   "cell_type": "code",
   "execution_count": 324,
   "id": "tamil-furniture",
   "metadata": {},
   "outputs": [
    {
     "ename": "AttributeError",
     "evalue": "'NoneType' object has no attribute 'copy'",
     "output_type": "error",
     "traceback": [
      "\u001b[0;31m---------------------------------------------------------------------------\u001b[0m",
      "\u001b[0;31mAttributeError\u001b[0m                            Traceback (most recent call last)",
      "\u001b[0;32m<ipython-input-324-55f0f3311faa>\u001b[0m in \u001b[0;36m<module>\u001b[0;34m\u001b[0m\n\u001b[1;32m      3\u001b[0m \u001b[0;32mwhile\u001b[0m \u001b[0;32mTrue\u001b[0m\u001b[0;34m:\u001b[0m\u001b[0;34m\u001b[0m\u001b[0;34m\u001b[0m\u001b[0m\n\u001b[1;32m      4\u001b[0m     \u001b[0mret\u001b[0m\u001b[0;34m,\u001b[0m \u001b[0mframe\u001b[0m \u001b[0;34m=\u001b[0m \u001b[0mcam\u001b[0m\u001b[0;34m.\u001b[0m\u001b[0mread\u001b[0m\u001b[0;34m(\u001b[0m\u001b[0;34m)\u001b[0m\u001b[0;34m\u001b[0m\u001b[0;34m\u001b[0m\u001b[0m\n\u001b[0;32m----> 5\u001b[0;31m     \u001b[0morg\u001b[0m \u001b[0;34m=\u001b[0m \u001b[0mframe\u001b[0m\u001b[0;34m.\u001b[0m\u001b[0mcopy\u001b[0m\u001b[0;34m(\u001b[0m\u001b[0;34m)\u001b[0m\u001b[0;34m\u001b[0m\u001b[0;34m\u001b[0m\u001b[0m\n\u001b[0m\u001b[1;32m      6\u001b[0m     cv2.putText(frame, \"Press 'Esc' to close or 'c' to capture.\", (10, 60), cv2.FONT_HERSHEY_SIMPLEX, 1,\n\u001b[1;32m      7\u001b[0m                 (0, 0, 255), 2)\n",
      "\u001b[0;31mAttributeError\u001b[0m: 'NoneType' object has no attribute 'copy'"
     ]
    }
   ],
   "source": [
    "import cv2\n",
    "cam = cv2.VideoCapture(0)\n",
    "while True:\n",
    "    ret, frame = cam.read()\n",
    "    org = frame.copy()\n",
    "    cv2.putText(frame, \"Press 'Esc' to close or 'c' to capture.\", (10, 60), cv2.FONT_HERSHEY_SIMPLEX, 1,\n",
    "                (0, 0, 255), 2)\n",
    "    cv2.imshow(\"Image Capturing System\", frame)\n",
    "    if not ret:\n",
    "        break\n",
    "    k = cv2.waitKey(1)\n",
    "    if k % 256 == 27:\n",
    "        break\n",
    "    elif k % 256 == 99:\n",
    "        cv2.imwrite(\"testImage.jpg\", org)\n",
    "        break\n",
    "cam.release()\n",
    "cv2.destroyAllWindows()\n"
   ]
  },
  {
   "cell_type": "code",
   "execution_count": 325,
   "id": "ignored-musician",
   "metadata": {},
   "outputs": [
    {
     "name": "stdout",
     "output_type": "stream",
     "text": [
      "Unable to load camera.\n"
     ]
    },
    {
     "ename": "error",
     "evalue": "OpenCV(4.5.1) /private/var/folders/nz/vv4_9tw56nv9k3tkvyszvwg80000gn/T/pip-req-build-40fplvaz/opencv/modules/imgproc/src/color.cpp:182: error: (-215:Assertion failed) !_src.empty() in function 'cvtColor'\n",
     "output_type": "error",
     "traceback": [
      "\u001b[0;31m---------------------------------------------------------------------------\u001b[0m",
      "\u001b[0;31merror\u001b[0m                                     Traceback (most recent call last)",
      "\u001b[0;32m<ipython-input-325-f38e788151df>\u001b[0m in \u001b[0;36m<module>\u001b[0;34m\u001b[0m\n\u001b[1;32m     21\u001b[0m     \u001b[0mret\u001b[0m\u001b[0;34m,\u001b[0m \u001b[0mframe\u001b[0m \u001b[0;34m=\u001b[0m \u001b[0mvideo_capture\u001b[0m\u001b[0;34m.\u001b[0m\u001b[0mread\u001b[0m\u001b[0;34m(\u001b[0m\u001b[0;34m)\u001b[0m\u001b[0;34m\u001b[0m\u001b[0;34m\u001b[0m\u001b[0m\n\u001b[1;32m     22\u001b[0m \u001b[0;34m\u001b[0m\u001b[0m\n\u001b[0;32m---> 23\u001b[0;31m     \u001b[0mgray\u001b[0m \u001b[0;34m=\u001b[0m \u001b[0mcv2\u001b[0m\u001b[0;34m.\u001b[0m\u001b[0mcvtColor\u001b[0m\u001b[0;34m(\u001b[0m\u001b[0mframe\u001b[0m\u001b[0;34m,\u001b[0m \u001b[0mcv2\u001b[0m\u001b[0;34m.\u001b[0m\u001b[0mCOLOR_BGR2GRAY\u001b[0m\u001b[0;34m)\u001b[0m\u001b[0;34m\u001b[0m\u001b[0;34m\u001b[0m\u001b[0m\n\u001b[0m\u001b[1;32m     24\u001b[0m \u001b[0;34m\u001b[0m\u001b[0m\n\u001b[1;32m     25\u001b[0m     faces = faceCascade.detectMultiScale(\n",
      "\u001b[0;31merror\u001b[0m: OpenCV(4.5.1) /private/var/folders/nz/vv4_9tw56nv9k3tkvyszvwg80000gn/T/pip-req-build-40fplvaz/opencv/modules/imgproc/src/color.cpp:182: error: (-215:Assertion failed) !_src.empty() in function 'cvtColor'\n"
     ]
    }
   ],
   "source": [
    "import cv2\n",
    "import sys\n",
    "\n",
    "import datetime as dt\n",
    "from time import sleep\n",
    "\n",
    "cascPath = \"haarcascade_frontalface_default.xml\"\n",
    "faceCascade = cv2.CascadeClassifier(cascPath)\n",
    "\n",
    "\n",
    "video_capture = cv2.VideoCapture(0)\n",
    "anterior = 0\n",
    "\n",
    "while True:\n",
    "    if not video_capture.isOpened():\n",
    "        print('Unable to load camera.')\n",
    "        sleep(5)\n",
    "        pass\n",
    "\n",
    "    # Capture frame-by-frame\n",
    "    ret, frame = video_capture.read()\n",
    "\n",
    "    gray = cv2.cvtColor(frame, cv2.COLOR_BGR2GRAY)\n",
    "\n",
    "    faces = faceCascade.detectMultiScale(\n",
    "        gray,\n",
    "        scaleFactor=1.1,\n",
    "        minNeighbors=5,\n",
    "        minSize=(30, 30)\n",
    "    )\n",
    "\n",
    "    # Draw a rectangle around the faces\n",
    "    for (x, y, w, h) in faces:\n",
    "        cv2.rectangle(frame, (x, y), (x+w, y+h), (0, 255, 0), 2)\n",
    "\n",
    "\n",
    "    # Display the resulting frame\n",
    "    cv2.imshow('Video', frame)\n",
    "\n",
    "\n",
    "    if cv2.waitKey(1) & 0xFF == ord('q'):\n",
    "        break\n",
    "\n",
    "    # Display the resulting frame\n",
    "    cv2.imshow('Video', frame)\n",
    "\n",
    "# When everything is done, release the capture\n",
    "video_capture.release()\n",
    "cv2.destroyAllWindows()\n"
   ]
  },
  {
   "cell_type": "code",
   "execution_count": null,
   "id": "patient-annex",
   "metadata": {},
   "outputs": [],
   "source": []
  }
 ],
 "metadata": {
  "kernelspec": {
   "display_name": "Python 3",
   "language": "python",
   "name": "python3"
  },
  "language_info": {
   "codemirror_mode": {
    "name": "ipython",
    "version": 3
   },
   "file_extension": ".py",
   "mimetype": "text/x-python",
   "name": "python",
   "nbconvert_exporter": "python",
   "pygments_lexer": "ipython3",
   "version": "3.6.8"
  },
  "nbTranslate": {
   "displayLangs": [
    "*"
   ],
   "hotkey": "alt-t",
   "langInMainMenu": true,
   "sourceLang": "en",
   "targetLang": "fr",
   "useGoogleTranslate": true
  },
  "toc": {
   "base_numbering": 1,
   "nav_menu": {},
   "number_sections": true,
   "sideBar": true,
   "skip_h1_title": false,
   "title_cell": "Table of Contents",
   "title_sidebar": "Contents",
   "toc_cell": false,
   "toc_position": {
    "height": "calc(100% - 180px)",
    "left": "10px",
    "top": "150px",
    "width": "209.6px"
   },
   "toc_section_display": true,
   "toc_window_display": true
  },
  "varInspector": {
   "cols": {
    "lenName": 16,
    "lenType": 16,
    "lenVar": 40
   },
   "kernels_config": {
    "python": {
     "delete_cmd_postfix": "",
     "delete_cmd_prefix": "del ",
     "library": "var_list.py",
     "varRefreshCmd": "print(var_dic_list())"
    },
    "r": {
     "delete_cmd_postfix": ") ",
     "delete_cmd_prefix": "rm(",
     "library": "var_list.r",
     "varRefreshCmd": "cat(var_dic_list()) "
    }
   },
   "types_to_exclude": [
    "module",
    "function",
    "builtin_function_or_method",
    "instance",
    "_Feature"
   ],
   "window_display": false
  }
 },
 "nbformat": 4,
 "nbformat_minor": 5
}
