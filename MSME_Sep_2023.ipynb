{
 "cells": [
  {
   "cell_type": "markdown",
   "id": "invisible-justice",
   "metadata": {},
   "source": [
    "Trainer Name: Sharma Saravanan\n",
    "\n",
    "Website : https://www.sharmasaravanan.com, https://www.besoins.in\n",
    "\n",
    "Github : https://github.com/sharmasaravanan/Machine_learning/blob/master/MSME_Sep_2023.ipynb\n",
    "\n",
    "Blog : https://sharmasaravanan.medium.com\n",
    "\n",
    "LinkedIn : https://www.linkedin.com/in/sharmasaravanan\n",
    "\n",
    "Email : sharma@besoins.in"
   ]
  },
  {
   "cell_type": "markdown",
   "id": "opposed-foundation",
   "metadata": {},
   "source": [
    "<b> Important Links</b>\n",
    "\n",
    "PPT: https://1drv.ms/p/s!ArLkuKvmnNQcjEDo6gmjlidufaek?e=3LR0yR\n",
    "\n",
    "Books : https://drive.google.com/drive/folders/1NKdaAJkg_nW3IUMnbrOPU4Ppw3Dckm4k?usp=sharing\n",
    "\n",
    "Exercise: https://www.w3resource.com/python-exercises/ and https://www.practicepython.org/\n",
    "\n",
    "Cheatsheet: https://drive.google.com/drive/folders/1aWmEBeUbpshAzgf5wNiiRqO2S5x6R7n2?usp=drive_link"
   ]
  },
  {
   "cell_type": "code",
   "execution_count": null,
   "id": "amended-nickel",
   "metadata": {},
   "outputs": [],
   "source": [
    "average --> mean, median or mode\n",
    "10,20,30,40,50,60 --> 35, 35\n",
    "4,7,12,24,45,51 --> 23.8, 18"
   ]
  },
  {
   "cell_type": "code",
   "execution_count": null,
   "id": "moving-specific",
   "metadata": {},
   "outputs": [],
   "source": [
    "total mark = 100\n",
    "\n",
    "top most mark = 85 --> 100 percentile\n",
    "i scored = 70 --> 82\n",
    "\n",
    "[10,20,30,40,50,60] --> 60 "
   ]
  },
  {
   "cell_type": "code",
   "execution_count": null,
   "id": "incorporated-biology",
   "metadata": {},
   "outputs": [],
   "source": [
    "1st -> 15 (10)\n",
    "\n",
    "2nd -> 30 (10,20,30)\n",
    "\n",
    "3rd -> 45 (10,20,30,40)\n",
    "\n",
    "4th -> 60 "
   ]
  },
  {
   "cell_type": "code",
   "execution_count": null,
   "id": "injured-century",
   "metadata": {},
   "outputs": [],
   "source": [
    "box plot -> skewed "
   ]
  },
  {
   "cell_type": "code",
   "execution_count": null,
   "id": "bulgarian-induction",
   "metadata": {},
   "outputs": [],
   "source": [
    "[1,2,3] -> 1D -> Vector\n",
    "[1,2,3 -> 2D -> matrix\n",
    " 4,5,6]\n",
    "\n",
    "3D -> Tensor"
   ]
  },
  {
   "cell_type": "code",
   "execution_count": null,
   "id": "composed-vintage",
   "metadata": {},
   "outputs": [],
   "source": [
    "sparse matrix --> "
   ]
  },
  {
   "cell_type": "markdown",
   "id": "traditional-thompson",
   "metadata": {},
   "source": [
    "### python"
   ]
  },
  {
   "cell_type": "markdown",
   "id": "prospective-slave",
   "metadata": {
    "deletable": false,
    "editable": false
   },
   "source": [
    "* <span class=\"girk\"><span class=\"girk\">variables and datatypes\n",
    "* <span class=\"girk\">input and output functions</span></span>\n",
    "* <span class=\"girk\">if-else case\n",
    "* <span class=\"girk\">while loop</span></span></span>\n",
    "* <span class=\"girk\">string operations</span>\n",
    "* <span class=\"girk\">array operations (list/tuple/dict)</span>\n",
    "* <span class=\"girk\">for loop</span>\n",
    "* <span class=\"girk\">functions\n",
    "* <span class=\"girk\">error handling</span></span>\n",
    "\n",
    "* visualization \n",
    "* file handling"
   ]
  },
  {
   "cell_type": "markdown",
   "id": "clear-motion",
   "metadata": {},
   "source": [
    "#### Variables"
   ]
  },
  {
   "cell_type": "code",
   "execution_count": null,
   "id": "significant-syndicate",
   "metadata": {},
   "outputs": [],
   "source": [
    "a # allowed\n",
    "a2 # allowed\n",
    "name_2 # allowed\n",
    "name.2 # not allowed\n",
    "camelCase or snake_case # way of creating a variable\n",
    "myNameIsSharma # camel case\n",
    "my_name_is_sharma"
   ]
  },
  {
   "cell_type": "markdown",
   "id": "duplicate-fruit",
   "metadata": {},
   "source": [
    "#### Datatypes"
   ]
  },
  {
   "cell_type": "code",
   "execution_count": 4,
   "id": "polar-rates",
   "metadata": {},
   "outputs": [],
   "source": [
    "a = 15 # int\n",
    "b = 3.14 # float\n",
    "c = \"apple\" # string\n",
    "d = False # bool"
   ]
  },
  {
   "cell_type": "markdown",
   "id": "innocent-nickname",
   "metadata": {},
   "source": [
    "#### input and output functions"
   ]
  },
  {
   "cell_type": "code",
   "execution_count": 5,
   "id": "baking-organ",
   "metadata": {},
   "outputs": [
    {
     "name": "stdout",
     "output_type": "stream",
     "text": [
      "15\n",
      "3.14\n",
      "apple False\n"
     ]
    }
   ],
   "source": [
    "print(a)\n",
    "print(b)\n",
    "print(c,d)"
   ]
  },
  {
   "cell_type": "code",
   "execution_count": 7,
   "id": "unavailable-prime",
   "metadata": {},
   "outputs": [
    {
     "name": "stdout",
     "output_type": "stream",
     "text": [
      "hello world\n"
     ]
    }
   ],
   "source": [
    "print(\"hello world\")"
   ]
  },
  {
   "cell_type": "code",
   "execution_count": 9,
   "id": "permanent-spoke",
   "metadata": {},
   "outputs": [
    {
     "name": "stdout",
     "output_type": "stream",
     "text": [
      "apple\n"
     ]
    }
   ],
   "source": [
    "print('apple')"
   ]
  },
  {
   "cell_type": "code",
   "execution_count": 12,
   "id": "mature-harvard",
   "metadata": {},
   "outputs": [
    {
     "name": "stdout",
     "output_type": "stream",
     "text": [
      "<class 'int'> <class 'float'> <class 'str'> <class 'bool'>\n"
     ]
    }
   ],
   "source": [
    "print(type(a),type(b),type(c),type(d))"
   ]
  },
  {
   "cell_type": "code",
   "execution_count": 13,
   "id": "united-royal",
   "metadata": {},
   "outputs": [
    {
     "name": "stdout",
     "output_type": "stream",
     "text": [
      "<class 'int'> <class 'str'>\n"
     ]
    }
   ],
   "source": [
    "print(type(12), type(\"12\"))"
   ]
  },
  {
   "cell_type": "code",
   "execution_count": 17,
   "id": "accessible-torture",
   "metadata": {},
   "outputs": [
    {
     "name": "stdout",
     "output_type": "stream",
     "text": [
      "Enter your name: apple\n",
      "Enter any random number: 12\n"
     ]
    }
   ],
   "source": [
    "name = input(\"Enter your name: \")\n",
    "n = input(\"Enter any random number: \")"
   ]
  },
  {
   "cell_type": "code",
   "execution_count": 19,
   "id": "subsequent-feeding",
   "metadata": {},
   "outputs": [
    {
     "name": "stdout",
     "output_type": "stream",
     "text": [
      "apple <class 'str'>\n",
      "12 <class 'str'>\n"
     ]
    }
   ],
   "source": [
    "print(name, type(name))\n",
    "print(n, type(n))"
   ]
  },
  {
   "cell_type": "markdown",
   "id": "endangered-seven",
   "metadata": {},
   "source": [
    "#### arithmetic operations"
   ]
  },
  {
   "cell_type": "markdown",
   "id": "voluntary-surname",
   "metadata": {},
   "source": [
    "+ - * / % //"
   ]
  },
  {
   "cell_type": "code",
   "execution_count": 20,
   "id": "hindu-diana",
   "metadata": {},
   "outputs": [
    {
     "name": "stdout",
     "output_type": "stream",
     "text": [
      "3.3333333333333335 1 3\n"
     ]
    }
   ],
   "source": [
    "print(10/3, 10%3, 10 // 3)"
   ]
  },
  {
   "cell_type": "markdown",
   "id": "written-piece",
   "metadata": {},
   "source": [
    "#### logical operation"
   ]
  },
  {
   "cell_type": "code",
   "execution_count": null,
   "id": "ignored-yukon",
   "metadata": {},
   "outputs": [],
   "source": [
    "and or not"
   ]
  },
  {
   "cell_type": "markdown",
   "id": "abroad-curtis",
   "metadata": {},
   "source": [
    "#### conditional operations"
   ]
  },
  {
   "cell_type": "code",
   "execution_count": null,
   "id": "organized-obligation",
   "metadata": {},
   "outputs": [],
   "source": [
    "> < >= <= == !="
   ]
  },
  {
   "cell_type": "code",
   "execution_count": 22,
   "id": "spiritual-railway",
   "metadata": {},
   "outputs": [
    {
     "data": {
      "text/plain": [
       "'1212'"
      ]
     },
     "execution_count": 22,
     "metadata": {},
     "output_type": "execute_result"
    }
   ],
   "source": [
    "n * 2"
   ]
  },
  {
   "cell_type": "markdown",
   "id": "secure-employer",
   "metadata": {},
   "source": [
    "#### typecasting"
   ]
  },
  {
   "cell_type": "code",
   "execution_count": 23,
   "id": "spatial-elevation",
   "metadata": {},
   "outputs": [
    {
     "data": {
      "text/plain": [
       "24"
      ]
     },
     "execution_count": 23,
     "metadata": {},
     "output_type": "execute_result"
    }
   ],
   "source": [
    "int(n) * 2"
   ]
  },
  {
   "cell_type": "code",
   "execution_count": 24,
   "id": "revolutionary-ebony",
   "metadata": {},
   "outputs": [
    {
     "data": {
      "text/plain": [
       "24.0"
      ]
     },
     "execution_count": 24,
     "metadata": {},
     "output_type": "execute_result"
    }
   ],
   "source": [
    "float(n) * 2"
   ]
  },
  {
   "cell_type": "code",
   "execution_count": 29,
   "id": "musical-emperor",
   "metadata": {},
   "outputs": [
    {
     "data": {
      "text/plain": [
       "True"
      ]
     },
     "execution_count": 29,
     "metadata": {},
     "output_type": "execute_result"
    }
   ],
   "source": [
    "bool(10)"
   ]
  },
  {
   "cell_type": "code",
   "execution_count": null,
   "id": "thick-visiting",
   "metadata": {},
   "outputs": [],
   "source": [
    "n = \n",
    "ans = nnn + nn + n\n",
    "print(ans)"
   ]
  },
  {
   "cell_type": "markdown",
   "id": "adopted-morgan",
   "metadata": {},
   "source": [
    "n = 4\n",
    "444 + 44 + 4, <span class=\"burk\">n * 111 + n *11 + n</span>"
   ]
  },
  {
   "cell_type": "code",
   "execution_count": 36,
   "id": "naval-convert",
   "metadata": {},
   "outputs": [
    {
     "name": "stdout",
     "output_type": "stream",
     "text": [
      "492\n"
     ]
    }
   ],
   "source": [
    "n = '4'\n",
    "\n",
    "a = int(n * 3) + int(n * 2) + int(n)\n",
    "\n",
    "print(a)"
   ]
  },
  {
   "cell_type": "code",
   "execution_count": 38,
   "id": "third-portal",
   "metadata": {},
   "outputs": [
    {
     "name": "stdout",
     "output_type": "stream",
     "text": [
      "Enter a no. : 4\n",
      "492\n"
     ]
    }
   ],
   "source": [
    "n = input(\"Enter a no. : \")\n",
    "\n",
    "ans = int(n * 3) + int(n * 2) + int(n * 1)\n",
    "\n",
    "print(ans)"
   ]
  },
  {
   "cell_type": "code",
   "execution_count": 40,
   "id": "cardiovascular-prince",
   "metadata": {},
   "outputs": [
    {
     "data": {
      "text/plain": [
       "492"
      ]
     },
     "execution_count": 40,
     "metadata": {},
     "output_type": "execute_result"
    }
   ],
   "source": [
    "n = 4\n",
    "int(str(n) * 3) + int(str(n) * 2) + n"
   ]
  },
  {
   "cell_type": "markdown",
   "id": "orange-examination",
   "metadata": {},
   "source": [
    "#### if-else"
   ]
  },
  {
   "cell_type": "code",
   "execution_count": 44,
   "id": "adjusted-indonesian",
   "metadata": {},
   "outputs": [
    {
     "name": "stdout",
     "output_type": "stream",
     "text": [
      "Enter any number to check odd/even: 5\n",
      "The number is odd!\n"
     ]
    }
   ],
   "source": [
    "num = int(input(\"Enter any number to check odd/even: \"))\n",
    "if num % 2 == 0 :\n",
    "    print(\"The number is even!\")\n",
    "else:\n",
    "    print(\"The number is odd!\")"
   ]
  },
  {
   "cell_type": "code",
   "execution_count": 47,
   "id": "processed-camping",
   "metadata": {},
   "outputs": [
    {
     "name": "stdout",
     "output_type": "stream",
     "text": [
      "Enter any number to check odd/even: 20\n",
      "The number is even!\n",
      "The number is divisible by 4\n"
     ]
    }
   ],
   "source": [
    "num = int(input(\"Enter any number to check odd/even: \"))\n",
    "if num % 2 == 0 :\n",
    "    print(\"The number is even!\")\n",
    "    if num % 4 == 0:\n",
    "        print(\"The number is divisible by 4\")\n",
    "else:\n",
    "    print(\"The number is odd!\")"
   ]
  },
  {
   "cell_type": "code",
   "execution_count": 50,
   "id": "bronze-chick",
   "metadata": {},
   "outputs": [
    {
     "name": "stdout",
     "output_type": "stream",
     "text": [
      "Enter any number to check odd/even: 5\n",
      "The number is odd!\n"
     ]
    }
   ],
   "source": [
    "num = int(input(\"Enter any number to check odd/even: \"))\n",
    "if num % 4 == 0:\n",
    "    print(\"The number is even and divisible by 4\")\n",
    "elif num % 2 == 0:\n",
    "    print(\"The number is even!\")\n",
    "else:\n",
    "    print(\"The number is odd!\")"
   ]
  },
  {
   "cell_type": "code",
   "execution_count": 53,
   "id": "treated-giving",
   "metadata": {},
   "outputs": [
    {
     "name": "stdout",
     "output_type": "stream",
     "text": [
      "Enter any number to check odd/even: 24\n",
      "The number is even and divisible by 4\n",
      "Do you want to continue? y/n: n\n",
      "Thank you!\n"
     ]
    }
   ],
   "source": [
    "choice = 'y'\n",
    "while choice == 'y':\n",
    "    num = int(input(\"Enter any number to check odd/even: \"))\n",
    "    if num % 4 == 0:\n",
    "        print(\"The number is even and divisible by 4\")\n",
    "    elif num % 2 == 0:\n",
    "        print(\"The number is even!\")\n",
    "    else:\n",
    "        print(\"The number is odd!\")\n",
    "        \n",
    "    choice = input(\"Do you want to continue? y/n: \")\n",
    "else:\n",
    "    rint(\"Thank you!\")"
   ]
  },
  {
   "cell_type": "code",
   "execution_count": 124,
   "id": "disturbed-fashion",
   "metadata": {},
   "outputs": [
    {
     "name": "stdout",
     "output_type": "stream",
     "text": [
      "Enter any number to check odd/even: 10\n",
      "The number is even!\n",
      "Enter any number to check odd/even: 12\n",
      "The number is even and divisible by 4\n",
      "Enter any number to check odd/even: 14\n",
      "The number is even!\n",
      "Enter any number to check odd/even: 15\n",
      "The number is odd!\n",
      "Enter any number to check odd/even: 16\n",
      "The number is even and divisible by 4\n",
      "Enter any number to check odd/even: j\n"
     ]
    },
    {
     "ename": "ValueError",
     "evalue": "invalid literal for int() with base 10: 'j'",
     "output_type": "error",
     "traceback": [
      "\u001b[0;31m---------------------------------------------------------------------------\u001b[0m",
      "\u001b[0;31mValueError\u001b[0m                                Traceback (most recent call last)",
      "\u001b[0;32m<ipython-input-124-878ef4fe96d8>\u001b[0m in \u001b[0;36m<module>\u001b[0;34m\u001b[0m\n\u001b[1;32m      1\u001b[0m \u001b[0;31m# infinite loop\u001b[0m\u001b[0;34m\u001b[0m\u001b[0;34m\u001b[0m\u001b[0;34m\u001b[0m\u001b[0m\n\u001b[1;32m      2\u001b[0m \u001b[0;32mwhile\u001b[0m \u001b[0;32mTrue\u001b[0m\u001b[0;34m:\u001b[0m\u001b[0;34m\u001b[0m\u001b[0;34m\u001b[0m\u001b[0m\n\u001b[0;32m----> 3\u001b[0;31m     \u001b[0mnum\u001b[0m \u001b[0;34m=\u001b[0m \u001b[0mint\u001b[0m\u001b[0;34m(\u001b[0m\u001b[0minput\u001b[0m\u001b[0;34m(\u001b[0m\u001b[0;34m\"Enter any number to check odd/even: \"\u001b[0m\u001b[0;34m)\u001b[0m\u001b[0;34m)\u001b[0m\u001b[0;34m\u001b[0m\u001b[0;34m\u001b[0m\u001b[0m\n\u001b[0m\u001b[1;32m      4\u001b[0m     \u001b[0;32mif\u001b[0m \u001b[0mnum\u001b[0m \u001b[0;34m%\u001b[0m \u001b[0;36m4\u001b[0m \u001b[0;34m==\u001b[0m \u001b[0;36m0\u001b[0m\u001b[0;34m:\u001b[0m\u001b[0;34m\u001b[0m\u001b[0;34m\u001b[0m\u001b[0m\n\u001b[1;32m      5\u001b[0m         \u001b[0mprint\u001b[0m\u001b[0;34m(\u001b[0m\u001b[0;34m\"The number is even and divisible by 4\"\u001b[0m\u001b[0;34m)\u001b[0m\u001b[0;34m\u001b[0m\u001b[0;34m\u001b[0m\u001b[0m\n",
      "\u001b[0;31mValueError\u001b[0m: invalid literal for int() with base 10: 'j'"
     ]
    }
   ],
   "source": [
    "# infinite loop\n",
    "while True:\n",
    "    num = int(input(\"Enter any number to check odd/even: \"))\n",
    "    if num % 4 == 0:\n",
    "        print(\"The number is even and divisible by 4\")\n",
    "    elif num % 2 == 0:\n",
    "        print(\"The number is even!\")\n",
    "    else:\n",
    "        print(\"The number is odd!\")"
   ]
  },
  {
   "cell_type": "markdown",
   "id": "signal-conflict",
   "metadata": {},
   "source": [
    "#### Array operations"
   ]
  },
  {
   "cell_type": "markdown",
   "id": "peripheral-underground",
   "metadata": {},
   "source": [
    "List and Tuple"
   ]
  },
  {
   "cell_type": "code",
   "execution_count": 55,
   "id": "modified-communications",
   "metadata": {},
   "outputs": [],
   "source": [
    "emptyList = []\n",
    "listElements = [1, 2, 3, 4.5, 6.7, 8.9, 'a', 'b', 'apple', 'cat']"
   ]
  },
  {
   "cell_type": "markdown",
   "id": "occasional-heater",
   "metadata": {},
   "source": [
    "##### Slice and dice"
   ]
  },
  {
   "cell_type": "code",
   "execution_count": 56,
   "id": "atomic-bearing",
   "metadata": {},
   "outputs": [
    {
     "data": {
      "text/plain": [
       "'a'"
      ]
     },
     "execution_count": 56,
     "metadata": {},
     "output_type": "execute_result"
    }
   ],
   "source": [
    "listElements[6]"
   ]
  },
  {
   "cell_type": "code",
   "execution_count": 57,
   "id": "latest-offset",
   "metadata": {},
   "outputs": [
    {
     "data": {
      "text/plain": [
       "['a', 'b', 'apple', 'cat']"
      ]
     },
     "execution_count": 57,
     "metadata": {},
     "output_type": "execute_result"
    }
   ],
   "source": [
    "listElements[6:]"
   ]
  },
  {
   "cell_type": "code",
   "execution_count": 58,
   "id": "technical-offering",
   "metadata": {},
   "outputs": [
    {
     "data": {
      "text/plain": [
       "[1, 2, 3, 4.5, 6.7, 8.9]"
      ]
     },
     "execution_count": 58,
     "metadata": {},
     "output_type": "execute_result"
    }
   ],
   "source": [
    "listElements[:6]"
   ]
  },
  {
   "cell_type": "code",
   "execution_count": 59,
   "id": "collected-operator",
   "metadata": {},
   "outputs": [],
   "source": [
    "del listElements[6]"
   ]
  },
  {
   "cell_type": "code",
   "execution_count": 60,
   "id": "front-theory",
   "metadata": {},
   "outputs": [
    {
     "data": {
      "text/plain": [
       "[1, 2, 3, 4.5, 6.7, 8.9, 'b', 'apple', 'cat']"
      ]
     },
     "execution_count": 60,
     "metadata": {},
     "output_type": "execute_result"
    }
   ],
   "source": [
    "listElements"
   ]
  },
  {
   "cell_type": "code",
   "execution_count": 61,
   "id": "yellow-heart",
   "metadata": {},
   "outputs": [],
   "source": [
    "listElements[6] = \"pine apple\""
   ]
  },
  {
   "cell_type": "code",
   "execution_count": 62,
   "id": "proved-perth",
   "metadata": {},
   "outputs": [
    {
     "data": {
      "text/plain": [
       "[1, 2, 3, 4.5, 6.7, 8.9, 'pine apple', 'apple', 'cat']"
      ]
     },
     "execution_count": 62,
     "metadata": {},
     "output_type": "execute_result"
    }
   ],
   "source": [
    "listElements"
   ]
  },
  {
   "cell_type": "code",
   "execution_count": 63,
   "id": "rubber-flower",
   "metadata": {},
   "outputs": [],
   "source": [
    "listElements[6] = \"pine_apple\""
   ]
  },
  {
   "cell_type": "code",
   "execution_count": 64,
   "id": "unusual-adoption",
   "metadata": {},
   "outputs": [
    {
     "data": {
      "text/plain": [
       "[1, 2, 3, 4.5, 6.7, 8.9, 'pine_apple', 'apple', 'cat']"
      ]
     },
     "execution_count": 64,
     "metadata": {},
     "output_type": "execute_result"
    }
   ],
   "source": [
    "listElements"
   ]
  },
  {
   "cell_type": "code",
   "execution_count": 65,
   "id": "administrative-checklist",
   "metadata": {},
   "outputs": [
    {
     "data": {
      "text/plain": [
       "['cat', 'apple', 'pine_apple', 8.9, 6.7, 4.5, 3, 2, 1]"
      ]
     },
     "execution_count": 65,
     "metadata": {},
     "output_type": "execute_result"
    }
   ],
   "source": [
    "listElements[::-1]"
   ]
  },
  {
   "cell_type": "markdown",
   "id": "changing-carol",
   "metadata": {},
   "source": [
    "##### list functions"
   ]
  },
  {
   "cell_type": "code",
   "execution_count": 66,
   "id": "commercial-graduate",
   "metadata": {},
   "outputs": [],
   "source": [
    "listElements.append(\"papaya\")"
   ]
  },
  {
   "cell_type": "code",
   "execution_count": 67,
   "id": "particular-screening",
   "metadata": {},
   "outputs": [
    {
     "data": {
      "text/plain": [
       "[1, 2, 3, 4.5, 6.7, 8.9, 'pine_apple', 'apple', 'cat', 'papaya']"
      ]
     },
     "execution_count": 67,
     "metadata": {},
     "output_type": "execute_result"
    }
   ],
   "source": [
    "listElements"
   ]
  },
  {
   "cell_type": "code",
   "execution_count": 68,
   "id": "pretty-first",
   "metadata": {},
   "outputs": [],
   "source": [
    "emptyList.append(\"papaya\")"
   ]
  },
  {
   "cell_type": "code",
   "execution_count": 69,
   "id": "incorrect-governor",
   "metadata": {},
   "outputs": [
    {
     "data": {
      "text/plain": [
       "['papaya']"
      ]
     },
     "execution_count": 69,
     "metadata": {},
     "output_type": "execute_result"
    }
   ],
   "source": [
    "emptyList"
   ]
  },
  {
   "cell_type": "code",
   "execution_count": 70,
   "id": "corresponding-longer",
   "metadata": {},
   "outputs": [],
   "source": [
    "emptyList.clear()"
   ]
  },
  {
   "cell_type": "code",
   "execution_count": 71,
   "id": "adequate-truck",
   "metadata": {},
   "outputs": [
    {
     "data": {
      "text/plain": [
       "[]"
      ]
     },
     "execution_count": 71,
     "metadata": {},
     "output_type": "execute_result"
    }
   ],
   "source": [
    "emptyList"
   ]
  },
  {
   "cell_type": "code",
   "execution_count": 73,
   "id": "unknown-bridges",
   "metadata": {},
   "outputs": [],
   "source": [
    "g = listElements"
   ]
  },
  {
   "cell_type": "code",
   "execution_count": 75,
   "id": "formal-emperor",
   "metadata": {},
   "outputs": [],
   "source": [
    "g.remove(8.9)"
   ]
  },
  {
   "cell_type": "code",
   "execution_count": 76,
   "id": "offshore-quest",
   "metadata": {},
   "outputs": [
    {
     "data": {
      "text/plain": [
       "[1, 2, 3, 4.5, 6.7, 'pine_apple', 'apple', 'cat', 'papaya']"
      ]
     },
     "execution_count": 76,
     "metadata": {},
     "output_type": "execute_result"
    }
   ],
   "source": [
    "g"
   ]
  },
  {
   "cell_type": "code",
   "execution_count": 77,
   "id": "similar-shark",
   "metadata": {},
   "outputs": [
    {
     "data": {
      "text/plain": [
       "[1, 2, 3, 4.5, 6.7, 'pine_apple', 'apple', 'cat', 'papaya']"
      ]
     },
     "execution_count": 77,
     "metadata": {},
     "output_type": "execute_result"
    }
   ],
   "source": [
    "listElements"
   ]
  },
  {
   "cell_type": "code",
   "execution_count": 78,
   "id": "bored-object",
   "metadata": {},
   "outputs": [],
   "source": [
    "f = listElements.copy()"
   ]
  },
  {
   "cell_type": "code",
   "execution_count": 79,
   "id": "floppy-corrections",
   "metadata": {},
   "outputs": [],
   "source": [
    "f.remove(6.7)"
   ]
  },
  {
   "cell_type": "code",
   "execution_count": 80,
   "id": "marked-ministry",
   "metadata": {},
   "outputs": [
    {
     "data": {
      "text/plain": [
       "[1, 2, 3, 4.5, 'pine_apple', 'apple', 'cat', 'papaya']"
      ]
     },
     "execution_count": 80,
     "metadata": {},
     "output_type": "execute_result"
    }
   ],
   "source": [
    "f"
   ]
  },
  {
   "cell_type": "code",
   "execution_count": 81,
   "id": "known-trance",
   "metadata": {},
   "outputs": [
    {
     "data": {
      "text/plain": [
       "[1, 2, 3, 4.5, 6.7, 'pine_apple', 'apple', 'cat', 'papaya']"
      ]
     },
     "execution_count": 81,
     "metadata": {},
     "output_type": "execute_result"
    }
   ],
   "source": [
    "listElements"
   ]
  },
  {
   "cell_type": "code",
   "execution_count": 82,
   "id": "smooth-retro",
   "metadata": {},
   "outputs": [
    {
     "data": {
      "text/plain": [
       "1"
      ]
     },
     "execution_count": 82,
     "metadata": {},
     "output_type": "execute_result"
    }
   ],
   "source": [
    "listElements.count('apple')"
   ]
  },
  {
   "cell_type": "code",
   "execution_count": 83,
   "id": "solved-waters",
   "metadata": {},
   "outputs": [
    {
     "data": {
      "text/plain": [
       "6"
      ]
     },
     "execution_count": 83,
     "metadata": {},
     "output_type": "execute_result"
    }
   ],
   "source": [
    "listElements.index('apple')"
   ]
  },
  {
   "cell_type": "code",
   "execution_count": 84,
   "id": "adjacent-calcium",
   "metadata": {},
   "outputs": [],
   "source": [
    "listElements.extend([\"grapes\", \"carrot\", \"orange\"])"
   ]
  },
  {
   "cell_type": "code",
   "execution_count": 85,
   "id": "ruled-concord",
   "metadata": {},
   "outputs": [
    {
     "data": {
      "text/plain": [
       "[1,\n",
       " 2,\n",
       " 3,\n",
       " 4.5,\n",
       " 6.7,\n",
       " 'pine_apple',\n",
       " 'apple',\n",
       " 'cat',\n",
       " 'papaya',\n",
       " 'grapes',\n",
       " 'carrot',\n",
       " 'orange']"
      ]
     },
     "execution_count": 85,
     "metadata": {},
     "output_type": "execute_result"
    }
   ],
   "source": [
    "listElements"
   ]
  },
  {
   "cell_type": "code",
   "execution_count": 86,
   "id": "rolled-quilt",
   "metadata": {},
   "outputs": [],
   "source": [
    "listElements.insert(5, \"mango\")"
   ]
  },
  {
   "cell_type": "code",
   "execution_count": 88,
   "id": "musical-sherman",
   "metadata": {},
   "outputs": [],
   "source": [
    "listElements.reverse()"
   ]
  },
  {
   "cell_type": "code",
   "execution_count": 94,
   "id": "actual-anthropology",
   "metadata": {},
   "outputs": [
    {
     "data": {
      "text/plain": [
       "6.7"
      ]
     },
     "execution_count": 94,
     "metadata": {},
     "output_type": "execute_result"
    }
   ],
   "source": [
    "listElements.pop()"
   ]
  },
  {
   "cell_type": "code",
   "execution_count": 96,
   "id": "fatal-wings",
   "metadata": {},
   "outputs": [],
   "source": [
    "listElements.sort()"
   ]
  },
  {
   "cell_type": "code",
   "execution_count": 97,
   "id": "respected-russell",
   "metadata": {},
   "outputs": [
    {
     "data": {
      "text/plain": [
       "['apple', 'carrot', 'cat', 'grapes', 'mango', 'orange', 'papaya', 'pine_apple']"
      ]
     },
     "execution_count": 97,
     "metadata": {},
     "output_type": "execute_result"
    }
   ],
   "source": [
    "listElements"
   ]
  },
  {
   "cell_type": "code",
   "execution_count": 98,
   "id": "alternate-stake",
   "metadata": {},
   "outputs": [
    {
     "ename": "TypeError",
     "evalue": "'<' not supported between instances of 'str' and 'float'",
     "output_type": "error",
     "traceback": [
      "\u001b[0;31m---------------------------------------------------------------------------\u001b[0m",
      "\u001b[0;31mTypeError\u001b[0m                                 Traceback (most recent call last)",
      "\u001b[0;32m<ipython-input-98-bcaabf1d9219>\u001b[0m in \u001b[0;36m<module>\u001b[0;34m\u001b[0m\n\u001b[0;32m----> 1\u001b[0;31m \u001b[0mf\u001b[0m\u001b[0;34m.\u001b[0m\u001b[0msort\u001b[0m\u001b[0;34m(\u001b[0m\u001b[0;34m)\u001b[0m\u001b[0;34m\u001b[0m\u001b[0;34m\u001b[0m\u001b[0m\n\u001b[0m",
      "\u001b[0;31mTypeError\u001b[0m: '<' not supported between instances of 'str' and 'float'"
     ]
    }
   ],
   "source": [
    "f.sort()"
   ]
  },
  {
   "cell_type": "code",
   "execution_count": 100,
   "id": "lightweight-dancing",
   "metadata": {},
   "outputs": [
    {
     "data": {
      "text/plain": [
       "['a', 'p', 'p', 'l', 'e']"
      ]
     },
     "execution_count": 100,
     "metadata": {},
     "output_type": "execute_result"
    }
   ],
   "source": [
    "list(\"apple\")"
   ]
  },
  {
   "cell_type": "code",
   "execution_count": 99,
   "id": "fiscal-titanium",
   "metadata": {},
   "outputs": [],
   "source": [
    "emptyTuple = ()\n",
    "tupleElements = tuple(listElements)"
   ]
  },
  {
   "cell_type": "code",
   "execution_count": 101,
   "id": "fabulous-paradise",
   "metadata": {},
   "outputs": [
    {
     "data": {
      "text/plain": [
       "('apple', 'carrot', 'cat', 'grapes', 'mango', 'orange', 'papaya', 'pine_apple')"
      ]
     },
     "execution_count": 101,
     "metadata": {},
     "output_type": "execute_result"
    }
   ],
   "source": [
    "tupleElements"
   ]
  },
  {
   "cell_type": "code",
   "execution_count": 102,
   "id": "liberal-charity",
   "metadata": {},
   "outputs": [
    {
     "data": {
      "text/plain": [
       "('papaya', 'pine_apple')"
      ]
     },
     "execution_count": 102,
     "metadata": {},
     "output_type": "execute_result"
    }
   ],
   "source": [
    "tupleElements[6:]"
   ]
  },
  {
   "cell_type": "code",
   "execution_count": 103,
   "id": "deluxe-holly",
   "metadata": {},
   "outputs": [
    {
     "ename": "TypeError",
     "evalue": "'tuple' object doesn't support item deletion",
     "output_type": "error",
     "traceback": [
      "\u001b[0;31m---------------------------------------------------------------------------\u001b[0m",
      "\u001b[0;31mTypeError\u001b[0m                                 Traceback (most recent call last)",
      "\u001b[0;32m<ipython-input-103-8b30d1b98b96>\u001b[0m in \u001b[0;36m<module>\u001b[0;34m\u001b[0m\n\u001b[0;32m----> 1\u001b[0;31m \u001b[0;32mdel\u001b[0m \u001b[0mtupleElements\u001b[0m\u001b[0;34m[\u001b[0m\u001b[0;36m6\u001b[0m\u001b[0;34m]\u001b[0m\u001b[0;34m\u001b[0m\u001b[0;34m\u001b[0m\u001b[0m\n\u001b[0m",
      "\u001b[0;31mTypeError\u001b[0m: 'tuple' object doesn't support item deletion"
     ]
    }
   ],
   "source": [
    "del tupleElements[6]"
   ]
  },
  {
   "cell_type": "code",
   "execution_count": 104,
   "id": "published-blind",
   "metadata": {},
   "outputs": [
    {
     "ename": "TypeError",
     "evalue": "'tuple' object does not support item assignment",
     "output_type": "error",
     "traceback": [
      "\u001b[0;31m---------------------------------------------------------------------------\u001b[0m",
      "\u001b[0;31mTypeError\u001b[0m                                 Traceback (most recent call last)",
      "\u001b[0;32m<ipython-input-104-3555307f7710>\u001b[0m in \u001b[0;36m<module>\u001b[0;34m\u001b[0m\n\u001b[0;32m----> 1\u001b[0;31m \u001b[0mtupleElements\u001b[0m\u001b[0;34m[\u001b[0m\u001b[0;36m6\u001b[0m\u001b[0;34m]\u001b[0m \u001b[0;34m=\u001b[0m \u001b[0;34m\"potato\"\u001b[0m\u001b[0;34m\u001b[0m\u001b[0;34m\u001b[0m\u001b[0m\n\u001b[0m",
      "\u001b[0;31mTypeError\u001b[0m: 'tuple' object does not support item assignment"
     ]
    }
   ],
   "source": [
    "tupleElements[6] = \"potato\""
   ]
  },
  {
   "cell_type": "markdown",
   "id": "manual-employment",
   "metadata": {},
   "source": [
    "##### Dictionary"
   ]
  },
  {
   "cell_type": "code",
   "execution_count": 105,
   "id": "activated-smell",
   "metadata": {},
   "outputs": [],
   "source": [
    "emptyDict = {}\n",
    "dictElements = {'a': \"apple\", 'b': 1234, 1: 1234, 3.12: \"papaya\", \"l\": listElements}"
   ]
  },
  {
   "cell_type": "code",
   "execution_count": 106,
   "id": "laughing-enlargement",
   "metadata": {},
   "outputs": [
    {
     "data": {
      "text/plain": [
       "{'a': 'apple',\n",
       " 'b': 1234,\n",
       " 1: 1234,\n",
       " 3.12: 'papaya',\n",
       " 'l': ['apple',\n",
       "  'carrot',\n",
       "  'cat',\n",
       "  'grapes',\n",
       "  'mango',\n",
       "  'orange',\n",
       "  'papaya',\n",
       "  'pine_apple']}"
      ]
     },
     "execution_count": 106,
     "metadata": {},
     "output_type": "execute_result"
    }
   ],
   "source": [
    "dictElements"
   ]
  },
  {
   "cell_type": "code",
   "execution_count": 107,
   "id": "victorian-stand",
   "metadata": {},
   "outputs": [
    {
     "data": {
      "text/plain": [
       "'apple'"
      ]
     },
     "execution_count": 107,
     "metadata": {},
     "output_type": "execute_result"
    }
   ],
   "source": [
    "dictElements['a']"
   ]
  },
  {
   "cell_type": "code",
   "execution_count": 108,
   "id": "measured-subdivision",
   "metadata": {},
   "outputs": [],
   "source": [
    "dictElements['b'] = \"banana\""
   ]
  },
  {
   "cell_type": "code",
   "execution_count": 109,
   "id": "filled-compromise",
   "metadata": {},
   "outputs": [
    {
     "data": {
      "text/plain": [
       "{'a': 'apple',\n",
       " 'b': 'banana',\n",
       " 1: 1234,\n",
       " 3.12: 'papaya',\n",
       " 'l': ['apple',\n",
       "  'carrot',\n",
       "  'cat',\n",
       "  'grapes',\n",
       "  'mango',\n",
       "  'orange',\n",
       "  'papaya',\n",
       "  'pine_apple']}"
      ]
     },
     "execution_count": 109,
     "metadata": {},
     "output_type": "execute_result"
    }
   ],
   "source": [
    "dictElements"
   ]
  },
  {
   "cell_type": "code",
   "execution_count": 110,
   "id": "usual-spiritual",
   "metadata": {},
   "outputs": [],
   "source": [
    "del dictElements[3.12]"
   ]
  },
  {
   "cell_type": "code",
   "execution_count": 111,
   "id": "lovely-penny",
   "metadata": {},
   "outputs": [
    {
     "data": {
      "text/plain": [
       "{'a': 'apple',\n",
       " 'b': 'banana',\n",
       " 1: 1234,\n",
       " 'l': ['apple',\n",
       "  'carrot',\n",
       "  'cat',\n",
       "  'grapes',\n",
       "  'mango',\n",
       "  'orange',\n",
       "  'papaya',\n",
       "  'pine_apple']}"
      ]
     },
     "execution_count": 111,
     "metadata": {},
     "output_type": "execute_result"
    }
   ],
   "source": [
    "dictElements"
   ]
  },
  {
   "cell_type": "code",
   "execution_count": 112,
   "id": "cooked-flooring",
   "metadata": {},
   "outputs": [],
   "source": [
    "dictElements['c'] = \"cat\""
   ]
  },
  {
   "cell_type": "code",
   "execution_count": 113,
   "id": "intellectual-region",
   "metadata": {},
   "outputs": [
    {
     "data": {
      "text/plain": [
       "{'a': 'apple',\n",
       " 'b': 'banana',\n",
       " 1: 1234,\n",
       " 'l': ['apple',\n",
       "  'carrot',\n",
       "  'cat',\n",
       "  'grapes',\n",
       "  'mango',\n",
       "  'orange',\n",
       "  'papaya',\n",
       "  'pine_apple'],\n",
       " 'c': 'cat'}"
      ]
     },
     "execution_count": 113,
     "metadata": {},
     "output_type": "execute_result"
    }
   ],
   "source": [
    "dictElements"
   ]
  },
  {
   "cell_type": "code",
   "execution_count": 115,
   "id": "clinical-harvard",
   "metadata": {},
   "outputs": [
    {
     "data": {
      "text/plain": [
       "(dict_keys(['a', 'b', 1, 'l', 'c']),\n",
       " dict_values(['apple', 'banana', 1234, ['apple', 'carrot', 'cat', 'grapes', 'mango', 'orange', 'papaya', 'pine_apple'], 'cat']))"
      ]
     },
     "execution_count": 115,
     "metadata": {},
     "output_type": "execute_result"
    }
   ],
   "source": [
    "dictElements.keys(), dictElements.values(), "
   ]
  },
  {
   "cell_type": "code",
   "execution_count": 117,
   "id": "respiratory-stockholm",
   "metadata": {},
   "outputs": [
    {
     "data": {
      "text/plain": [
       "[('a', 'apple'),\n",
       " ('b', 'banana'),\n",
       " (1, 1234),\n",
       " ('l',\n",
       "  ['apple',\n",
       "   'carrot',\n",
       "   'cat',\n",
       "   'grapes',\n",
       "   'mango',\n",
       "   'orange',\n",
       "   'papaya',\n",
       "   'pine_apple']),\n",
       " ('c', 'cat')]"
      ]
     },
     "execution_count": 117,
     "metadata": {},
     "output_type": "execute_result"
    }
   ],
   "source": [
    "list(dictElements.items())"
   ]
  },
  {
   "cell_type": "code",
   "execution_count": 118,
   "id": "preceding-population",
   "metadata": {},
   "outputs": [],
   "source": [
    "dictElements.update({\"e\": \"elephant\", \"m\": \"mango\"})"
   ]
  },
  {
   "cell_type": "code",
   "execution_count": 119,
   "id": "incoming-knock",
   "metadata": {},
   "outputs": [
    {
     "data": {
      "text/plain": [
       "{'a': 'apple',\n",
       " 'b': 'banana',\n",
       " 1: 1234,\n",
       " 'l': ['apple',\n",
       "  'carrot',\n",
       "  'cat',\n",
       "  'grapes',\n",
       "  'mango',\n",
       "  'orange',\n",
       "  'papaya',\n",
       "  'pine_apple'],\n",
       " 'c': 'cat',\n",
       " 'e': 'elephant',\n",
       " 'm': 'mango'}"
      ]
     },
     "execution_count": 119,
     "metadata": {},
     "output_type": "execute_result"
    }
   ],
   "source": [
    "dictElements"
   ]
  },
  {
   "cell_type": "code",
   "execution_count": 122,
   "id": "proud-uganda",
   "metadata": {},
   "outputs": [
    {
     "data": {
      "text/plain": [
       "'mango'"
      ]
     },
     "execution_count": 122,
     "metadata": {},
     "output_type": "execute_result"
    }
   ],
   "source": [
    "dictElements"
   ]
  },
  {
   "cell_type": "markdown",
   "id": "opened-packaging",
   "metadata": {},
   "source": [
    "#### for loop"
   ]
  },
  {
   "cell_type": "code",
   "execution_count": 126,
   "id": "blank-amendment",
   "metadata": {},
   "outputs": [
    {
     "name": "stdout",
     "output_type": "stream",
     "text": [
      "hi\n",
      "hi\n",
      "hi\n",
      "hi\n",
      "hi\n",
      "hi\n",
      "hi\n",
      "hi\n",
      "hi\n",
      "hi\n"
     ]
    }
   ],
   "source": [
    "for i in range(10):\n",
    "    print(\"hi\")"
   ]
  },
  {
   "cell_type": "code",
   "execution_count": 127,
   "id": "honey-parallel",
   "metadata": {},
   "outputs": [
    {
     "name": "stdout",
     "output_type": "stream",
     "text": [
      "hi\n",
      "hi\n",
      "hi\n"
     ]
    }
   ],
   "source": [
    "for _ in range(3):\n",
    "    print(\"hi\")"
   ]
  },
  {
   "cell_type": "code",
   "execution_count": 129,
   "id": "worldwide-jefferson",
   "metadata": {},
   "outputs": [
    {
     "name": "stdout",
     "output_type": "stream",
     "text": [
      "10\n",
      "12\n",
      "14\n",
      "16\n",
      "18\n",
      "20\n"
     ]
    }
   ],
   "source": [
    "for i in range(10, 21, 2):\n",
    "    print(i)"
   ]
  },
  {
   "cell_type": "code",
   "execution_count": 130,
   "id": "romance-imperial",
   "metadata": {},
   "outputs": [
    {
     "name": "stdout",
     "output_type": "stream",
     "text": [
      "apple\n",
      "carrot\n",
      "cat\n",
      "grapes\n",
      "mango\n",
      "orange\n",
      "papaya\n",
      "pine_apple\n"
     ]
    }
   ],
   "source": [
    "for i in listElements:\n",
    "    print(i)"
   ]
  },
  {
   "cell_type": "code",
   "execution_count": 132,
   "id": "pointed-falls",
   "metadata": {},
   "outputs": [
    {
     "name": "stdout",
     "output_type": "stream",
     "text": [
      "apple\n",
      "carrot\n",
      "cat\n",
      "grapes\n",
      "mango\n",
      "orange\n"
     ]
    }
   ],
   "source": [
    "for i in listElements[:6]:\n",
    "    print(i)"
   ]
  },
  {
   "cell_type": "code",
   "execution_count": 133,
   "id": "dedicated-wagon",
   "metadata": {},
   "outputs": [
    {
     "name": "stdout",
     "output_type": "stream",
     "text": [
      "a\n",
      "p\n",
      "p\n",
      "l\n",
      "e\n"
     ]
    }
   ],
   "source": [
    "for i in \"apple\":\n",
    "    print(i)"
   ]
  },
  {
   "cell_type": "code",
   "execution_count": 135,
   "id": "handled-madness",
   "metadata": {},
   "outputs": [
    {
     "name": "stdout",
     "output_type": "stream",
     "text": [
      "apple\n",
      "banana\n",
      "1234\n",
      "['apple', 'carrot', 'cat', 'grapes', 'mango', 'orange', 'papaya', 'pine_apple']\n",
      "cat\n",
      "elephant\n",
      "mango\n"
     ]
    }
   ],
   "source": [
    "for k in dictElements.values():\n",
    "    print(k)"
   ]
  },
  {
   "cell_type": "code",
   "execution_count": 136,
   "id": "operating-absence",
   "metadata": {},
   "outputs": [
    {
     "name": "stdout",
     "output_type": "stream",
     "text": [
      "a --> apple\n",
      "b --> banana\n",
      "1 --> 1234\n",
      "l --> ['apple', 'carrot', 'cat', 'grapes', 'mango', 'orange', 'papaya', 'pine_apple']\n",
      "c --> cat\n",
      "e --> elephant\n",
      "m --> mango\n"
     ]
    }
   ],
   "source": [
    "for k,v in dictElements.items():\n",
    "    print(k, \"-->\", v)\n"
   ]
  },
  {
   "cell_type": "code",
   "execution_count": 138,
   "id": "referenced-villa",
   "metadata": {},
   "outputs": [
    {
     "name": "stdout",
     "output_type": "stream",
     "text": [
      "apple\n",
      "cat\n",
      "mango\n",
      "papaya\n"
     ]
    }
   ],
   "source": [
    "for k in dictElements[\"l\"][0:len(dictElements[\"l\"]):2]:\n",
    "    print(k)"
   ]
  },
  {
   "cell_type": "code",
   "execution_count": 139,
   "id": "earlier-barrier",
   "metadata": {},
   "outputs": [
    {
     "name": "stdout",
     "output_type": "stream",
     "text": [
      "a\n",
      "p\n",
      "p\n",
      "l\n",
      "e\n",
      "It's over!!\n"
     ]
    }
   ],
   "source": [
    "for i in \"apple\":\n",
    "    print(i)\n",
    "else:\n",
    "    print(\"It's over!!\")"
   ]
  },
  {
   "cell_type": "code",
   "execution_count": 143,
   "id": "falling-edwards",
   "metadata": {},
   "outputs": [
    {
     "name": "stdout",
     "output_type": "stream",
     "text": [
      "0 a\n",
      "2 1\n",
      "4 c\n",
      "6 m\n"
     ]
    }
   ],
   "source": [
    "for i, k in enumerate(dictElements):\n",
    "    if i % 2 == 0:\n",
    "        print(i, k)"
   ]
  },
  {
   "cell_type": "code",
   "execution_count": 150,
   "id": "proprietary-consumer",
   "metadata": {},
   "outputs": [
    {
     "name": "stdout",
     "output_type": "stream",
     "text": [
      "apple\n",
      "1234\n",
      "cat\n",
      "mango\n"
     ]
    }
   ],
   "source": [
    "for i in range(0, len(dictElements), 2):\n",
    "    print(dictElements[list(dictElements.keys())[i]])"
   ]
  },
  {
   "cell_type": "code",
   "execution_count": 149,
   "id": "interested-breakdown",
   "metadata": {},
   "outputs": [
    {
     "name": "stdout",
     "output_type": "stream",
     "text": [
      "a apple\n",
      "1 1234\n",
      "c cat\n",
      "m mango\n"
     ]
    }
   ],
   "source": [
    "for k,v in list(dictElements.items())[0:len(dictElements):2]:\n",
    "    print(k,v)"
   ]
  },
  {
   "cell_type": "markdown",
   "id": "polish-router",
   "metadata": {},
   "source": [
    "#### Functions"
   ]
  },
  {
   "cell_type": "code",
   "execution_count": 155,
   "id": "current-consolidation",
   "metadata": {},
   "outputs": [],
   "source": [
    "# no arg no return\n",
    "def oddEven():\n",
    "    num = int(input(\"Enter any number to check odd/even: \"))\n",
    "    if num % 4 == 0:\n",
    "        print(\"The number is even and divisible by 4\")\n",
    "    elif num % 2 == 0:\n",
    "        print(\"The number is even!\")\n",
    "    else:\n",
    "        print(\"The number is odd!\")"
   ]
  },
  {
   "cell_type": "code",
   "execution_count": 154,
   "id": "bearing-edition",
   "metadata": {},
   "outputs": [
    {
     "name": "stdout",
     "output_type": "stream",
     "text": [
      "Enter any number to check odd/even: 10\n",
      "The number is even!\n",
      "Enter any number to check odd/even: 15\n",
      "The number is odd!\n",
      "Enter any number to check odd/even: 25\n",
      "The number is odd!\n",
      "Enter any number to check odd/even: 14\n",
      "The number is even!\n",
      "Enter any number to check odd/even: 36\n",
      "The number is even and divisible by 4\n"
     ]
    }
   ],
   "source": [
    "for i in range(5):\n",
    "    oddEven()"
   ]
  },
  {
   "cell_type": "code",
   "execution_count": 156,
   "id": "stopped-caribbean",
   "metadata": {},
   "outputs": [],
   "source": [
    "# no arg but with return\n",
    "def oddEven():\n",
    "    num = int(input(\"Enter any number to check odd/even: \"))\n",
    "    if num % 4 == 0:\n",
    "        answer = \"The number is even and divisible by 4\"\n",
    "    elif num % 2 == 0:\n",
    "        answer = \"The number is even!\"\n",
    "    else:\n",
    "        answer = \"The number is odd!\"\n",
    "    return answer"
   ]
  },
  {
   "cell_type": "code",
   "execution_count": 158,
   "id": "closed-supplier",
   "metadata": {},
   "outputs": [
    {
     "name": "stdout",
     "output_type": "stream",
     "text": [
      "Enter any number to check odd/even: 10\n",
      "The number is even!\n",
      "Enter any number to check odd/even: 12\n",
      "The number is even and divisible by 4\n"
     ]
    }
   ],
   "source": [
    "for i in range(2):\n",
    "    result = oddEven()\n",
    "    print(result)"
   ]
  },
  {
   "cell_type": "code",
   "execution_count": 159,
   "id": "cross-preference",
   "metadata": {},
   "outputs": [],
   "source": [
    "# with arg and with return\n",
    "def oddEven(num):\n",
    "    if num % 4 == 0:\n",
    "        answer = \"The number is even and divisible by 4\"\n",
    "    elif num % 2 == 0:\n",
    "        answer = \"The number is even!\"\n",
    "    else:\n",
    "        answer = \"The number is odd!\"\n",
    "    return answer"
   ]
  },
  {
   "cell_type": "code",
   "execution_count": 162,
   "id": "isolated-argument",
   "metadata": {},
   "outputs": [
    {
     "name": "stdout",
     "output_type": "stream",
     "text": [
      "Enter any number to check odd/even: 10\n",
      "The number is even!\n",
      "Enter any number to check odd/even: 20\n",
      "The number is even and divisible by 4\n"
     ]
    }
   ],
   "source": [
    "for i in range(2):\n",
    "    num = int(input(\"Enter any number to check odd/even: \"))\n",
    "    result = oddEven(num)\n",
    "    print(result)"
   ]
  },
  {
   "cell_type": "code",
   "execution_count": 166,
   "id": "patient-emergency",
   "metadata": {},
   "outputs": [],
   "source": [
    "def isPrime(num):\n",
    "    flag = True\n",
    "    for i in range(2, num):\n",
    "        if num % i == 0:\n",
    "            flag = False\n",
    "    return flag"
   ]
  },
  {
   "cell_type": "code",
   "execution_count": 181,
   "id": "expressed-field",
   "metadata": {},
   "outputs": [
    {
     "name": "stdout",
     "output_type": "stream",
     "text": [
      "Enter any number for num1: 30\n",
      "Enter any number for num2: 20\n"
     ]
    }
   ],
   "source": [
    "num1 = int(input(\"Enter any number for num1: \"))\n",
    "num2 = int(input(\"Enter any number for num2: \"))\n",
    "num1, num2 = min(num1, num2), max(num1, num2)\n",
    "for num in range(num1, num2+1):\n",
    "    if isPrime(num):\n",
    "        print(num)"
   ]
  },
  {
   "cell_type": "code",
   "execution_count": 184,
   "id": "contemporary-tooth",
   "metadata": {},
   "outputs": [],
   "source": [
    "add = lambda a,b : a + b"
   ]
  },
  {
   "cell_type": "code",
   "execution_count": 194,
   "id": "fluid-syntax",
   "metadata": {},
   "outputs": [],
   "source": [
    "add = lambda *a : [i for i in a if i % 2 != 0]"
   ]
  },
  {
   "cell_type": "code",
   "execution_count": 195,
   "id": "satisfied-tension",
   "metadata": {},
   "outputs": [
    {
     "data": {
      "text/plain": [
       "[45, 27, 13]"
      ]
     },
     "execution_count": 195,
     "metadata": {},
     "output_type": "execute_result"
    }
   ],
   "source": [
    "add(45, 34, 32, 12 , 27,  13)"
   ]
  },
  {
   "cell_type": "markdown",
   "id": "metallic-subject",
   "metadata": {},
   "source": [
    "#### Error Handling"
   ]
  },
  {
   "cell_type": "code",
   "execution_count": 197,
   "id": "adult-technique",
   "metadata": {},
   "outputs": [
    {
     "ename": "NameError",
     "evalue": "name 'x' is not defined",
     "output_type": "error",
     "traceback": [
      "\u001b[0;31m---------------------------------------------------------------------------\u001b[0m",
      "\u001b[0;31mNameError\u001b[0m                                 Traceback (most recent call last)",
      "\u001b[0;32m<ipython-input-197-b898c78ebff2>\u001b[0m in \u001b[0;36m<module>\u001b[0;34m\u001b[0m\n\u001b[0;32m----> 1\u001b[0;31m \u001b[0mprint\u001b[0m\u001b[0;34m(\u001b[0m\u001b[0mx\u001b[0m\u001b[0;34m)\u001b[0m\u001b[0;34m\u001b[0m\u001b[0;34m\u001b[0m\u001b[0m\n\u001b[0m\u001b[1;32m      2\u001b[0m \u001b[0mprint\u001b[0m\u001b[0;34m(\u001b[0m\u001b[0;34m\"hello world\"\u001b[0m\u001b[0;34m)\u001b[0m\u001b[0;34m\u001b[0m\u001b[0;34m\u001b[0m\u001b[0m\n",
      "\u001b[0;31mNameError\u001b[0m: name 'x' is not defined"
     ]
    }
   ],
   "source": [
    "print(x)\n",
    "print(\"hello world\")"
   ]
  },
  {
   "cell_type": "code",
   "execution_count": 199,
   "id": "documented-settlement",
   "metadata": {},
   "outputs": [
    {
     "name": "stdout",
     "output_type": "stream",
     "text": [
      "hello world!\n"
     ]
    }
   ],
   "source": [
    "try:\n",
    "    print(x)\n",
    "except:\n",
    "#     print(\"There is error\")\n",
    "    pass\n",
    "print(\"hello world!\")"
   ]
  },
  {
   "cell_type": "code",
   "execution_count": 201,
   "id": "friendly-special",
   "metadata": {},
   "outputs": [
    {
     "name": "stdout",
     "output_type": "stream",
     "text": [
      "There is error name 'x' is not defined\n",
      "hello world!\n"
     ]
    }
   ],
   "source": [
    "try:\n",
    "    print(x)\n",
    "except Exception as e:\n",
    "    print(\"There is error\", e)\n",
    "print(\"hello world!\")"
   ]
  },
  {
   "cell_type": "code",
   "execution_count": 203,
   "id": "fossil-chain",
   "metadata": {},
   "outputs": [
    {
     "ename": "TypeError",
     "evalue": "'x' is an invalid keyword argument for this function",
     "output_type": "error",
     "traceback": [
      "\u001b[0;31m---------------------------------------------------------------------------\u001b[0m",
      "\u001b[0;31mTypeError\u001b[0m                                 Traceback (most recent call last)",
      "\u001b[0;32m<ipython-input-203-892a06f85342>\u001b[0m in \u001b[0;36m<module>\u001b[0;34m\u001b[0m\n\u001b[1;32m      1\u001b[0m \u001b[0;32mtry\u001b[0m\u001b[0;34m:\u001b[0m\u001b[0;34m\u001b[0m\u001b[0;34m\u001b[0m\u001b[0m\n\u001b[0;32m----> 2\u001b[0;31m     \u001b[0mprint\u001b[0m\u001b[0;34m(\u001b[0m\u001b[0mx\u001b[0m\u001b[0;34m=\u001b[0m\u001b[0;36m1\u001b[0m\u001b[0;34m)\u001b[0m\u001b[0;34m\u001b[0m\u001b[0;34m\u001b[0m\u001b[0m\n\u001b[0m\u001b[1;32m      3\u001b[0m \u001b[0;32mexcept\u001b[0m \u001b[0mNameError\u001b[0m \u001b[0;32mas\u001b[0m \u001b[0me\u001b[0m\u001b[0;34m:\u001b[0m\u001b[0;34m\u001b[0m\u001b[0;34m\u001b[0m\u001b[0m\n\u001b[1;32m      4\u001b[0m     \u001b[0mprint\u001b[0m\u001b[0;34m(\u001b[0m\u001b[0;34m\"There is error\"\u001b[0m\u001b[0;34m,\u001b[0m \u001b[0me\u001b[0m\u001b[0;34m)\u001b[0m\u001b[0;34m\u001b[0m\u001b[0;34m\u001b[0m\u001b[0m\n\u001b[1;32m      5\u001b[0m \u001b[0mprint\u001b[0m\u001b[0;34m(\u001b[0m\u001b[0;34m\"hello world!\"\u001b[0m\u001b[0;34m)\u001b[0m\u001b[0;34m\u001b[0m\u001b[0;34m\u001b[0m\u001b[0m\n",
      "\u001b[0;31mTypeError\u001b[0m: 'x' is an invalid keyword argument for this function"
     ]
    }
   ],
   "source": [
    "try:\n",
    "    print(x=1)\n",
    "except NameError as e:\n",
    "    print(\"There is error\", e)\n",
    "print(\"hello world!\")"
   ]
  },
  {
   "cell_type": "code",
   "execution_count": 204,
   "id": "useful-zambia",
   "metadata": {},
   "outputs": [
    {
     "name": "stdout",
     "output_type": "stream",
     "text": [
      "There is error 'x' is an invalid keyword argument for this function\n",
      "hello world!\n"
     ]
    }
   ],
   "source": [
    "try:\n",
    "    print(x=2)\n",
    "except Exception as e:\n",
    "    print(\"There is error\", e)\n",
    "print(\"hello world!\")"
   ]
  },
  {
   "cell_type": "code",
   "execution_count": 205,
   "id": "engaged-apple",
   "metadata": {},
   "outputs": [
    {
     "name": "stdout",
     "output_type": "stream",
     "text": [
      "Requirement already satisfied: matplotlib in /Library/Frameworks/Python.framework/Versions/3.6/lib/python3.6/site-packages (3.3.4)\r\n",
      "Requirement already satisfied: pillow>=6.2.0 in /Library/Frameworks/Python.framework/Versions/3.6/lib/python3.6/site-packages (from matplotlib) (8.1.0)\r\n",
      "Requirement already satisfied: cycler>=0.10 in /Library/Frameworks/Python.framework/Versions/3.6/lib/python3.6/site-packages (from matplotlib) (0.10.0)\r\n",
      "Requirement already satisfied: pyparsing!=2.0.4,!=2.1.2,!=2.1.6,>=2.0.3 in /Library/Frameworks/Python.framework/Versions/3.6/lib/python3.6/site-packages (from matplotlib) (2.4.7)\r\n",
      "Requirement already satisfied: kiwisolver>=1.0.1 in /Library/Frameworks/Python.framework/Versions/3.6/lib/python3.6/site-packages (from matplotlib) (1.3.1)\r\n",
      "Requirement already satisfied: python-dateutil>=2.1 in /Library/Frameworks/Python.framework/Versions/3.6/lib/python3.6/site-packages (from matplotlib) (2.8.2)\r\n",
      "Requirement already satisfied: numpy>=1.15 in /Library/Frameworks/Python.framework/Versions/3.6/lib/python3.6/site-packages (from matplotlib) (1.19.3)\r\n",
      "Requirement already satisfied: six in /Library/Frameworks/Python.framework/Versions/3.6/lib/python3.6/site-packages (from cycler>=0.10->matplotlib) (1.16.0)\r\n"
     ]
    }
   ],
   "source": [
    "# to install any libraries pip install library\n",
    "!pip install matplotlib"
   ]
  },
  {
   "cell_type": "code",
   "execution_count": 211,
   "id": "respective-inspection",
   "metadata": {},
   "outputs": [],
   "source": [
    "import random as rd"
   ]
  },
  {
   "cell_type": "code",
   "execution_count": 213,
   "id": "approved-dayton",
   "metadata": {},
   "outputs": [],
   "source": [
    "from math import sin, factorial, cos"
   ]
  },
  {
   "cell_type": "code",
   "execution_count": 215,
   "id": "dried-dynamics",
   "metadata": {},
   "outputs": [
    {
     "data": {
      "text/plain": [
       "(0.8939966636005579, 24)"
      ]
     },
     "execution_count": 215,
     "metadata": {},
     "output_type": "execute_result"
    }
   ],
   "source": [
    "sin(90), factorial(4)"
   ]
  },
  {
   "cell_type": "code",
   "execution_count": 212,
   "id": "wireless-cancellation",
   "metadata": {},
   "outputs": [
    {
     "data": {
      "text/plain": [
       "9"
      ]
     },
     "execution_count": 212,
     "metadata": {},
     "output_type": "execute_result"
    }
   ],
   "source": [
    "rd.randint(1,10)"
   ]
  },
  {
   "cell_type": "markdown",
   "id": "demographic-underground",
   "metadata": {},
   "source": [
    "#### Visualization"
   ]
  },
  {
   "cell_type": "code",
   "execution_count": 218,
   "id": "adverse-asian",
   "metadata": {},
   "outputs": [],
   "source": [
    "x = list(range(1,10))\n",
    "y = [rd.randint(1,100) for i in range(len(x))]"
   ]
  },
  {
   "cell_type": "code",
   "execution_count": 220,
   "id": "seven-arthritis",
   "metadata": {},
   "outputs": [],
   "source": [
    "import matplotlib.pyplot as plt"
   ]
  },
  {
   "cell_type": "code",
   "execution_count": 222,
   "id": "opposite-behavior",
   "metadata": {},
   "outputs": [
    {
     "data": {
      "image/png": "[encoded data removed]",
      "text/plain": [
       "<Figure size 432x288 with 1 Axes>"
      ]
     },
     "metadata": {
      "needs_background": "light"
     },
     "output_type": "display_data"
    }
   ],
   "source": [
    "plt.plot(x,y)\n",
    "plt.xlabel(\"x\")\n",
    "plt.ylabel(\"y\")\n",
    "plt.title(\"Line Chart\")\n",
    "plt.show()"
   ]
  },
  {
   "cell_type": "code",
   "execution_count": 230,
   "id": "threaded-evolution",
   "metadata": {},
   "outputs": [
    {
     "data": {
      "image/png": "[encoded data removed]",
      "text/plain": [
       "<Figure size 432x288 with 1 Axes>"
      ]
     },
     "metadata": {
      "needs_background": "light"
     },
     "output_type": "display_data"
    }
   ],
   "source": [
    "plt.plot(x,y, color=\"green\", marker=\"s\")\n",
    "plt.xlabel(\"x\")\n",
    "plt.ylabel(\"y\")\n",
    "plt.title(\"Line Chart\")\n",
    "plt.show()"
   ]
  },
  {
   "cell_type": "code",
   "execution_count": 232,
   "id": "amber-holiday",
   "metadata": {},
   "outputs": [
    {
     "data": {
      "image/png": "[encoded data removed]",
      "text/plain": [
       "<Figure size 432x288 with 1 Axes>"
      ]
     },
     "metadata": {
      "needs_background": "light"
     },
     "output_type": "display_data"
    }
   ],
   "source": [
    "plt.scatter(x,y, color=\"green\", marker=\"s\")\n",
    "plt.xlabel(\"x\")\n",
    "plt.ylabel(\"y\")\n",
    "plt.title(\"Scatter Chart\")\n",
    "plt.show()"
   ]
  },
  {
   "cell_type": "code",
   "execution_count": 235,
   "id": "crazy-turkish",
   "metadata": {},
   "outputs": [
    {
     "data": {
      "image/png": "[encoded data removed]",
      "text/plain": [
       "<Figure size 432x288 with 1 Axes>"
      ]
     },
     "metadata": {
      "needs_background": "light"
     },
     "output_type": "display_data"
    }
   ],
   "source": [
    "plt.bar([\"apple\", \"banana\", \"carrort\"], y[:3], facecolor=\"red\")\n",
    "plt.show()"
   ]
  },
  {
   "cell_type": "code",
   "execution_count": 243,
   "id": "comic-village",
   "metadata": {},
   "outputs": [
    {
     "data": {
      "image/png": "[encoded data removed]",
      "text/plain": [
       "<Figure size 432x288 with 1 Axes>"
      ]
     },
     "metadata": {
      "needs_background": "light"
     },
     "output_type": "display_data"
    }
   ],
   "source": [
    "plt.barh([\"apple\", \"banana\", \"carrort\"], y[:3], facecolor=\"red\")\n",
    "plt.show()"
   ]
  },
  {
   "cell_type": "code",
   "execution_count": 245,
   "id": "average-batch",
   "metadata": {},
   "outputs": [
    {
     "data": {
      "image/png": "[encoded data removed]",
      "text/plain": [
       "<Figure size 432x288 with 1 Axes>"
      ]
     },
     "metadata": {
      "needs_background": "light"
     },
     "output_type": "display_data"
    }
   ],
   "source": [
    "plt.boxplot(y)\n",
    "plt.show()"
   ]
  },
  {
   "cell_type": "code",
   "execution_count": 246,
   "id": "aerial-violin",
   "metadata": {},
   "outputs": [
    {
     "data": {
      "text/plain": [
       "[40, 41, 12, 54, 1, 28, 62, 98, 72]"
      ]
     },
     "execution_count": 246,
     "metadata": {},
     "output_type": "execute_result"
    }
   ],
   "source": [
    "y"
   ]
  },
  {
   "cell_type": "code",
   "execution_count": 249,
   "id": "potential-waters",
   "metadata": {},
   "outputs": [
    {
     "data": {
      "image/png": "[encoded data removed]",
      "text/plain": [
       "<Figure size 432x288 with 1 Axes>"
      ]
     },
     "metadata": {},
     "output_type": "display_data"
    }
   ],
   "source": [
    "plt.pie(y[:8], labels=listElements)\n",
    "plt.show()"
   ]
  },
  {
   "cell_type": "code",
   "execution_count": 248,
   "id": "dangerous-colon",
   "metadata": {},
   "outputs": [
    {
     "data": {
      "text/plain": [
       "8"
      ]
     },
     "execution_count": 248,
     "metadata": {},
     "output_type": "execute_result"
    }
   ],
   "source": []
  },
  {
   "cell_type": "code",
   "execution_count": null,
   "id": "raised-level",
   "metadata": {},
   "outputs": [],
   "source": []
  }
 ],
 "metadata": {
  "kernelspec": {
   "display_name": "Python 3",
   "language": "python",
   "name": "python3"
  },
  "language_info": {
   "codemirror_mode": {
    "name": "ipython",
    "version": 3
   },
   "file_extension": ".py",
   "mimetype": "text/x-python",
   "name": "python",
   "nbconvert_exporter": "python",
   "pygments_lexer": "ipython3",
   "version": "3.6.8"
  },
  "nbTranslate": {
   "displayLangs": [
    "*"
   ],
   "hotkey": "alt-t",
   "langInMainMenu": true,
   "sourceLang": "en",
   "targetLang": "fr",
   "useGoogleTranslate": true
  },
  "toc": {
   "base_numbering": 1,
   "nav_menu": {},
   "number_sections": true,
   "sideBar": true,
   "skip_h1_title": false,
   "title_cell": "Table of Contents",
   "title_sidebar": "Contents",
   "toc_cell": false,
   "toc_position": {},
   "toc_section_display": true,
   "toc_window_display": false
  },
  "varInspector": {
   "cols": {
    "lenName": 16,
    "lenType": 16,
    "lenVar": 40
   },
   "kernels_config": {
    "python": {
     "delete_cmd_postfix": "",
     "delete_cmd_prefix": "del ",
     "library": "var_list.py",
     "varRefreshCmd": "print(var_dic_list())"
    },
    "r": {
     "delete_cmd_postfix": ") ",
     "delete_cmd_prefix": "rm(",
     "library": "var_list.r",
     "varRefreshCmd": "cat(var_dic_list()) "
    }
   },
   "types_to_exclude": [
    "module",
    "function",
    "builtin_function_or_method",
    "instance",
    "_Feature"
   ],
   "window_display": false
  }
 },
 "nbformat": 4,
 "nbformat_minor": 5
}
