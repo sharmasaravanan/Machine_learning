{
 "cells": [
  {
   "cell_type": "markdown",
   "id": "removed-aluminum",
   "metadata": {},
   "source": [
    "Trainer Name: Sharma Saravanan\n",
    "\n",
    "Website : https://www.sharmasaravanan.com, https://www.besoins.in\n",
    "\n",
    "Github : https://github.com/sharmasaravanan/Machine_learning/blob/master/MSME_Sep_2023.ipynb\n",
    "\n",
    "Blog : https://sharmasaravanan.medium.com\n",
    "\n",
    "LinkedIn : https://www.linkedin.com/in/sharmasaravanan\n",
    "\n",
    "Email : sharma@besoins.in"
   ]
  },
  {
   "cell_type": "markdown",
   "id": "median-tooth",
   "metadata": {},
   "source": [
    "<b> Important Links</b>\n",
    "\n",
    "PPT: https://1drv.ms/p/s!ArLkuKvmnNQcjEDo6gmjlidufaek?e=3LR0yR\n",
    "\n",
    "Books : https://drive.google.com/drive/folders/1NKdaAJkg_nW3IUMnbrOPU4Ppw3Dckm4k?usp=sharing"
   ]
  },
  {
   "cell_type": "code",
   "execution_count": null,
   "id": "transparent-surface",
   "metadata": {},
   "outputs": [],
   "source": [
    "average --> mean, median or mode\n",
    "10,20,30,40,50,60 --> 35, 35\n",
    "4,7,12,24,45,51 --> 23.8, 18"
   ]
  },
  {
   "cell_type": "code",
   "execution_count": null,
   "id": "altered-halifax",
   "metadata": {},
   "outputs": [],
   "source": [
    "total mark = 100\n",
    "\n",
    "top most mark = 85 --> 100 percentile\n",
    "i scored = 70 --> 82\n",
    "\n",
    "[10,20,30,40,50,60] --> 60 "
   ]
  },
  {
   "cell_type": "code",
   "execution_count": null,
   "id": "broad-norman",
   "metadata": {},
   "outputs": [],
   "source": [
    "1st -> 15 (10)\n",
    "\n",
    "2nd -> 30 (10,20,30)\n",
    "\n",
    "3rd -> 45 (10,20,30,40)\n",
    "\n",
    "4th -> 60 "
   ]
  },
  {
   "cell_type": "code",
   "execution_count": null,
   "id": "approved-marker",
   "metadata": {},
   "outputs": [],
   "source": [
    "box plot -> skewed "
   ]
  },
  {
   "cell_type": "code",
   "execution_count": null,
   "id": "complete-mumbai",
   "metadata": {},
   "outputs": [],
   "source": [
    "[1,2,3] -> 1D -> Vector\n",
    "[1,2,3 -> 2D -> matrix\n",
    " 4,5,6]\n",
    "\n",
    "3D -> Tensor"
   ]
  },
  {
   "cell_type": "code",
   "execution_count": null,
   "id": "appointed-chance",
   "metadata": {},
   "outputs": [],
   "source": [
    "sparse matrix --> "
   ]
  },
  {
   "cell_type": "code",
   "execution_count": null,
   "id": "single-regular",
   "metadata": {},
   "outputs": [],
   "source": []
  },
  {
   "cell_type": "code",
   "execution_count": null,
   "id": "coastal-outdoors",
   "metadata": {},
   "outputs": [],
   "source": []
  },
  {
   "cell_type": "code",
   "execution_count": null,
   "id": "printable-underwear",
   "metadata": {},
   "outputs": [],
   "source": []
  }
 ],
 "metadata": {
  "kernelspec": {
   "display_name": "Python 3",
   "language": "python",
   "name": "python3"
  },
  "language_info": {
   "codemirror_mode": {
    "name": "ipython",
    "version": 3
   },
   "file_extension": ".py",
   "mimetype": "text/x-python",
   "name": "python",
   "nbconvert_exporter": "python",
   "pygments_lexer": "ipython3",
   "version": "3.6.8"
  },
  "nbTranslate": {
   "displayLangs": [
    "*"
   ],
   "hotkey": "alt-t",
   "langInMainMenu": true,
   "sourceLang": "en",
   "targetLang": "fr",
   "useGoogleTranslate": true
  },
  "toc": {
   "base_numbering": 1,
   "nav_menu": {},
   "number_sections": true,
   "sideBar": true,
   "skip_h1_title": false,
   "title_cell": "Table of Contents",
   "title_sidebar": "Contents",
   "toc_cell": false,
   "toc_position": {},
   "toc_section_display": true,
   "toc_window_display": false
  },
  "varInspector": {
   "cols": {
    "lenName": 16,
    "lenType": 16,
    "lenVar": 40
   },
   "kernels_config": {
    "python": {
     "delete_cmd_postfix": "",
     "delete_cmd_prefix": "del ",
     "library": "var_list.py",
     "varRefreshCmd": "print(var_dic_list())"
    },
    "r": {
     "delete_cmd_postfix": ") ",
     "delete_cmd_prefix": "rm(",
     "library": "var_list.r",
     "varRefreshCmd": "cat(var_dic_list()) "
    }
   },
   "types_to_exclude": [
    "module",
    "function",
    "builtin_function_or_method",
    "instance",
    "_Feature"
   ],
   "window_display": false
  }
 },
 "nbformat": 4,
 "nbformat_minor": 5
}
