{
 "cells": [
  {
   "cell_type": "markdown",
   "id": "invisible-justice",
   "metadata": {},
   "source": [
    "Trainer Name: Sharma Saravanan\n",
    "\n",
    "Website : https://www.sharmasaravanan.com, https://www.besoins.in\n",
    "\n",
    "Github : https://github.com/sharmasaravanan/Machine_learning/blob/master/MSME_Sep_2023.ipynb\n",
    "\n",
    "Blog : https://sharmasaravanan.medium.com\n",
    "\n",
    "LinkedIn : https://www.linkedin.com/in/sharmasaravanan\n",
    "\n",
    "Email : sharma@besoins.in"
   ]
  },
  {
   "cell_type": "markdown",
   "id": "opposed-foundation",
   "metadata": {},
   "source": [
    "<b> Important Links</b>\n",
    "\n",
    "PPT: https://1drv.ms/p/s!ArLkuKvmnNQcjEDo6gmjlidufaek?e=3LR0yR\n",
    "\n",
    "Books : https://drive.google.com/drive/folders/1NKdaAJkg_nW3IUMnbrOPU4Ppw3Dckm4k?usp=sharing\n",
    "\n",
    "Exercise: https://www.w3resource.com/python-exercises/ and https://www.practicepython.org/\n",
    "\n",
    "Cheatsheet: https://drive.google.com/drive/folders/1aWmEBeUbpshAzgf5wNiiRqO2S5x6R7n2?usp=drive_link"
   ]
  },
  {
   "cell_type": "code",
   "execution_count": null,
   "id": "amended-nickel",
   "metadata": {},
   "outputs": [],
   "source": [
    "average --> mean, median or mode\n",
    "10,20,30,40,50,60 --> 35, 35\n",
    "4,7,12,24,45,51 --> 23.8, 18"
   ]
  },
  {
   "cell_type": "code",
   "execution_count": null,
   "id": "moving-specific",
   "metadata": {},
   "outputs": [],
   "source": [
    "total mark = 100\n",
    "\n",
    "top most mark = 85 --> 100 percentile\n",
    "i scored = 70 --> 82\n",
    "\n",
    "[10,20,30,40,50,60] --> 60 "
   ]
  },
  {
   "cell_type": "code",
   "execution_count": null,
   "id": "incorporated-biology",
   "metadata": {},
   "outputs": [],
   "source": [
    "1st -> 15 (10)\n",
    "\n",
    "2nd -> 30 (10,20,30)\n",
    "\n",
    "3rd -> 45 (10,20,30,40)\n",
    "\n",
    "4th -> 60 "
   ]
  },
  {
   "cell_type": "code",
   "execution_count": null,
   "id": "injured-century",
   "metadata": {},
   "outputs": [],
   "source": [
    "box plot -> skewed "
   ]
  },
  {
   "cell_type": "code",
   "execution_count": null,
   "id": "bulgarian-induction",
   "metadata": {},
   "outputs": [],
   "source": [
    "[1,2,3] -> 1D -> Vector\n",
    "[1,2,3 -> 2D -> matrix\n",
    " 4,5,6]\n",
    "\n",
    "3D -> Tensor"
   ]
  },
  {
   "cell_type": "code",
   "execution_count": null,
   "id": "composed-vintage",
   "metadata": {},
   "outputs": [],
   "source": [
    "sparse matrix --> "
   ]
  },
  {
   "cell_type": "markdown",
   "id": "traditional-thompson",
   "metadata": {},
   "source": [
    "### python"
   ]
  },
  {
   "cell_type": "markdown",
   "id": "prospective-slave",
   "metadata": {
    "deletable": false,
    "editable": false
   },
   "source": [
    "* <span class=\"girk\"><span class=\"girk\">variables and datatypes\n",
    "* <span class=\"girk\">input and output functions</span></span>\n",
    "* <span class=\"girk\">if-else case\n",
    "* <span class=\"girk\">while loop</span></span></span>\n",
    "* <span class=\"girk\">string operations</span>\n",
    "* <span class=\"girk\">array operations (list/tuple/dict)</span>\n",
    "* <span class=\"girk\">for loop</span>\n",
    "* <span class=\"girk\">functions\n",
    "* <span class=\"girk\">error handling</span></span>\n",
    "\n",
    "* visualization \n",
    "* file handling"
   ]
  },
  {
   "cell_type": "markdown",
   "id": "clear-motion",
   "metadata": {},
   "source": [
    "#### Variables"
   ]
  },
  {
   "cell_type": "code",
   "execution_count": null,
   "id": "significant-syndicate",
   "metadata": {},
   "outputs": [],
   "source": [
    "a # allowed\n",
    "a2 # allowed\n",
    "name_2 # allowed\n",
    "name.2 # not allowed\n",
    "camelCase or snake_case # way of creating a variable\n",
    "myNameIsSharma # camel case\n",
    "my_name_is_sharma"
   ]
  },
  {
   "cell_type": "markdown",
   "id": "duplicate-fruit",
   "metadata": {},
   "source": [
    "#### Datatypes"
   ]
  },
  {
   "cell_type": "code",
   "execution_count": 4,
   "id": "polar-rates",
   "metadata": {},
   "outputs": [],
   "source": [
    "a = 15 # int\n",
    "b = 3.14 # float\n",
    "c = \"apple\" # string\n",
    "d = False # bool"
   ]
  },
  {
   "cell_type": "markdown",
   "id": "innocent-nickname",
   "metadata": {},
   "source": [
    "#### input and output functions"
   ]
  },
  {
   "cell_type": "code",
   "execution_count": 5,
   "id": "baking-organ",
   "metadata": {},
   "outputs": [
    {
     "name": "stdout",
     "output_type": "stream",
     "text": [
      "15\n",
      "3.14\n",
      "apple False\n"
     ]
    }
   ],
   "source": [
    "print(a)\n",
    "print(b)\n",
    "print(c,d)"
   ]
  },
  {
   "cell_type": "code",
   "execution_count": 7,
   "id": "unavailable-prime",
   "metadata": {},
   "outputs": [
    {
     "name": "stdout",
     "output_type": "stream",
     "text": [
      "hello world\n"
     ]
    }
   ],
   "source": [
    "print(\"hello world\")"
   ]
  },
  {
   "cell_type": "code",
   "execution_count": 9,
   "id": "permanent-spoke",
   "metadata": {},
   "outputs": [
    {
     "name": "stdout",
     "output_type": "stream",
     "text": [
      "apple\n"
     ]
    }
   ],
   "source": [
    "print('apple')"
   ]
  },
  {
   "cell_type": "code",
   "execution_count": 12,
   "id": "mature-harvard",
   "metadata": {},
   "outputs": [
    {
     "name": "stdout",
     "output_type": "stream",
     "text": [
      "<class 'int'> <class 'float'> <class 'str'> <class 'bool'>\n"
     ]
    }
   ],
   "source": [
    "print(type(a),type(b),type(c),type(d))"
   ]
  },
  {
   "cell_type": "code",
   "execution_count": 13,
   "id": "united-royal",
   "metadata": {},
   "outputs": [
    {
     "name": "stdout",
     "output_type": "stream",
     "text": [
      "<class 'int'> <class 'str'>\n"
     ]
    }
   ],
   "source": [
    "print(type(12), type(\"12\"))"
   ]
  },
  {
   "cell_type": "code",
   "execution_count": 17,
   "id": "accessible-torture",
   "metadata": {},
   "outputs": [
    {
     "name": "stdout",
     "output_type": "stream",
     "text": [
      "Enter your name: apple\n",
      "Enter any random number: 12\n"
     ]
    }
   ],
   "source": [
    "name = input(\"Enter your name: \")\n",
    "n = input(\"Enter any random number: \")"
   ]
  },
  {
   "cell_type": "code",
   "execution_count": 19,
   "id": "subsequent-feeding",
   "metadata": {},
   "outputs": [
    {
     "name": "stdout",
     "output_type": "stream",
     "text": [
      "apple <class 'str'>\n",
      "12 <class 'str'>\n"
     ]
    }
   ],
   "source": [
    "print(name, type(name))\n",
    "print(n, type(n))"
   ]
  },
  {
   "cell_type": "markdown",
   "id": "endangered-seven",
   "metadata": {},
   "source": [
    "#### arithmetic operations"
   ]
  },
  {
   "cell_type": "markdown",
   "id": "voluntary-surname",
   "metadata": {},
   "source": [
    "+ - * / % //"
   ]
  },
  {
   "cell_type": "code",
   "execution_count": 20,
   "id": "hindu-diana",
   "metadata": {},
   "outputs": [
    {
     "name": "stdout",
     "output_type": "stream",
     "text": [
      "3.3333333333333335 1 3\n"
     ]
    }
   ],
   "source": [
    "print(10/3, 10%3, 10 // 3)"
   ]
  },
  {
   "cell_type": "markdown",
   "id": "written-piece",
   "metadata": {},
   "source": [
    "#### logical operation"
   ]
  },
  {
   "cell_type": "code",
   "execution_count": null,
   "id": "ignored-yukon",
   "metadata": {},
   "outputs": [],
   "source": [
    "and or not"
   ]
  },
  {
   "cell_type": "markdown",
   "id": "abroad-curtis",
   "metadata": {},
   "source": [
    "#### conditional operations"
   ]
  },
  {
   "cell_type": "code",
   "execution_count": null,
   "id": "organized-obligation",
   "metadata": {},
   "outputs": [],
   "source": [
    "> < >= <= == !="
   ]
  },
  {
   "cell_type": "code",
   "execution_count": 22,
   "id": "spiritual-railway",
   "metadata": {},
   "outputs": [
    {
     "data": {
      "text/plain": [
       "'1212'"
      ]
     },
     "execution_count": 22,
     "metadata": {},
     "output_type": "execute_result"
    }
   ],
   "source": [
    "n * 2"
   ]
  },
  {
   "cell_type": "markdown",
   "id": "secure-employer",
   "metadata": {},
   "source": [
    "#### typecasting"
   ]
  },
  {
   "cell_type": "code",
   "execution_count": 23,
   "id": "spatial-elevation",
   "metadata": {},
   "outputs": [
    {
     "data": {
      "text/plain": [
       "24"
      ]
     },
     "execution_count": 23,
     "metadata": {},
     "output_type": "execute_result"
    }
   ],
   "source": [
    "int(n) * 2"
   ]
  },
  {
   "cell_type": "code",
   "execution_count": 24,
   "id": "revolutionary-ebony",
   "metadata": {},
   "outputs": [
    {
     "data": {
      "text/plain": [
       "24.0"
      ]
     },
     "execution_count": 24,
     "metadata": {},
     "output_type": "execute_result"
    }
   ],
   "source": [
    "float(n) * 2"
   ]
  },
  {
   "cell_type": "code",
   "execution_count": 29,
   "id": "musical-emperor",
   "metadata": {},
   "outputs": [
    {
     "data": {
      "text/plain": [
       "True"
      ]
     },
     "execution_count": 29,
     "metadata": {},
     "output_type": "execute_result"
    }
   ],
   "source": [
    "bool(10)"
   ]
  },
  {
   "cell_type": "code",
   "execution_count": null,
   "id": "thick-visiting",
   "metadata": {},
   "outputs": [],
   "source": [
    "n = \n",
    "ans = nnn + nn + n\n",
    "print(ans)"
   ]
  },
  {
   "cell_type": "markdown",
   "id": "adopted-morgan",
   "metadata": {},
   "source": [
    "n = 4\n",
    "444 + 44 + 4, <span class=\"burk\">n * 111 + n *11 + n</span>"
   ]
  },
  {
   "cell_type": "code",
   "execution_count": 36,
   "id": "naval-convert",
   "metadata": {},
   "outputs": [
    {
     "name": "stdout",
     "output_type": "stream",
     "text": [
      "492\n"
     ]
    }
   ],
   "source": [
    "n = '4'\n",
    "\n",
    "a = int(n * 3) + int(n * 2) + int(n)\n",
    "\n",
    "print(a)"
   ]
  },
  {
   "cell_type": "code",
   "execution_count": 38,
   "id": "third-portal",
   "metadata": {},
   "outputs": [
    {
     "name": "stdout",
     "output_type": "stream",
     "text": [
      "Enter a no. : 4\n",
      "492\n"
     ]
    }
   ],
   "source": [
    "n = input(\"Enter a no. : \")\n",
    "\n",
    "ans = int(n * 3) + int(n * 2) + int(n * 1)\n",
    "\n",
    "print(ans)"
   ]
  },
  {
   "cell_type": "code",
   "execution_count": 40,
   "id": "cardiovascular-prince",
   "metadata": {},
   "outputs": [
    {
     "data": {
      "text/plain": [
       "492"
      ]
     },
     "execution_count": 40,
     "metadata": {},
     "output_type": "execute_result"
    }
   ],
   "source": [
    "n = 4\n",
    "int(str(n) * 3) + int(str(n) * 2) + n"
   ]
  },
  {
   "cell_type": "markdown",
   "id": "orange-examination",
   "metadata": {},
   "source": [
    "#### if-else"
   ]
  },
  {
   "cell_type": "code",
   "execution_count": 44,
   "id": "adjusted-indonesian",
   "metadata": {},
   "outputs": [
    {
     "name": "stdout",
     "output_type": "stream",
     "text": [
      "Enter any number to check odd/even: 5\n",
      "The number is odd!\n"
     ]
    }
   ],
   "source": [
    "num = int(input(\"Enter any number to check odd/even: \"))\n",
    "if num % 2 == 0 :\n",
    "    print(\"The number is even!\")\n",
    "else:\n",
    "    print(\"The number is odd!\")"
   ]
  },
  {
   "cell_type": "code",
   "execution_count": 47,
   "id": "processed-camping",
   "metadata": {},
   "outputs": [
    {
     "name": "stdout",
     "output_type": "stream",
     "text": [
      "Enter any number to check odd/even: 20\n",
      "The number is even!\n",
      "The number is divisible by 4\n"
     ]
    }
   ],
   "source": [
    "num = int(input(\"Enter any number to check odd/even: \"))\n",
    "if num % 2 == 0 :\n",
    "    print(\"The number is even!\")\n",
    "    if num % 4 == 0:\n",
    "        print(\"The number is divisible by 4\")\n",
    "else:\n",
    "    print(\"The number is odd!\")"
   ]
  },
  {
   "cell_type": "code",
   "execution_count": 50,
   "id": "bronze-chick",
   "metadata": {},
   "outputs": [
    {
     "name": "stdout",
     "output_type": "stream",
     "text": [
      "Enter any number to check odd/even: 5\n",
      "The number is odd!\n"
     ]
    }
   ],
   "source": [
    "num = int(input(\"Enter any number to check odd/even: \"))\n",
    "if num % 4 == 0:\n",
    "    print(\"The number is even and divisible by 4\")\n",
    "elif num % 2 == 0:\n",
    "    print(\"The number is even!\")\n",
    "else:\n",
    "    print(\"The number is odd!\")"
   ]
  },
  {
   "cell_type": "code",
   "execution_count": 53,
   "id": "treated-giving",
   "metadata": {},
   "outputs": [
    {
     "name": "stdout",
     "output_type": "stream",
     "text": [
      "Enter any number to check odd/even: 24\n",
      "The number is even and divisible by 4\n",
      "Do you want to continue? y/n: n\n",
      "Thank you!\n"
     ]
    }
   ],
   "source": [
    "choice = 'y'\n",
    "while choice == 'y':\n",
    "    num = int(input(\"Enter any number to check odd/even: \"))\n",
    "    if num % 4 == 0:\n",
    "        print(\"The number is even and divisible by 4\")\n",
    "    elif num % 2 == 0:\n",
    "        print(\"The number is even!\")\n",
    "    else:\n",
    "        print(\"The number is odd!\")\n",
    "        \n",
    "    choice = input(\"Do you want to continue? y/n: \")\n",
    "else:\n",
    "    rint(\"Thank you!\")"
   ]
  },
  {
   "cell_type": "code",
   "execution_count": 124,
   "id": "disturbed-fashion",
   "metadata": {},
   "outputs": [
    {
     "name": "stdout",
     "output_type": "stream",
     "text": [
      "Enter any number to check odd/even: 10\n",
      "The number is even!\n",
      "Enter any number to check odd/even: 12\n",
      "The number is even and divisible by 4\n",
      "Enter any number to check odd/even: 14\n",
      "The number is even!\n",
      "Enter any number to check odd/even: 15\n",
      "The number is odd!\n",
      "Enter any number to check odd/even: 16\n",
      "The number is even and divisible by 4\n",
      "Enter any number to check odd/even: j\n"
     ]
    },
    {
     "ename": "ValueError",
     "evalue": "invalid literal for int() with base 10: 'j'",
     "output_type": "error",
     "traceback": [
      "\u001b[0;31m---------------------------------------------------------------------------\u001b[0m",
      "\u001b[0;31mValueError\u001b[0m                                Traceback (most recent call last)",
      "\u001b[0;32m<ipython-input-124-878ef4fe96d8>\u001b[0m in \u001b[0;36m<module>\u001b[0;34m\u001b[0m\n\u001b[1;32m      1\u001b[0m \u001b[0;31m# infinite loop\u001b[0m\u001b[0;34m\u001b[0m\u001b[0;34m\u001b[0m\u001b[0;34m\u001b[0m\u001b[0m\n\u001b[1;32m      2\u001b[0m \u001b[0;32mwhile\u001b[0m \u001b[0;32mTrue\u001b[0m\u001b[0;34m:\u001b[0m\u001b[0;34m\u001b[0m\u001b[0;34m\u001b[0m\u001b[0m\n\u001b[0;32m----> 3\u001b[0;31m     \u001b[0mnum\u001b[0m \u001b[0;34m=\u001b[0m \u001b[0mint\u001b[0m\u001b[0;34m(\u001b[0m\u001b[0minput\u001b[0m\u001b[0;34m(\u001b[0m\u001b[0;34m\"Enter any number to check odd/even: \"\u001b[0m\u001b[0;34m)\u001b[0m\u001b[0;34m)\u001b[0m\u001b[0;34m\u001b[0m\u001b[0;34m\u001b[0m\u001b[0m\n\u001b[0m\u001b[1;32m      4\u001b[0m     \u001b[0;32mif\u001b[0m \u001b[0mnum\u001b[0m \u001b[0;34m%\u001b[0m \u001b[0;36m4\u001b[0m \u001b[0;34m==\u001b[0m \u001b[0;36m0\u001b[0m\u001b[0;34m:\u001b[0m\u001b[0;34m\u001b[0m\u001b[0;34m\u001b[0m\u001b[0m\n\u001b[1;32m      5\u001b[0m         \u001b[0mprint\u001b[0m\u001b[0;34m(\u001b[0m\u001b[0;34m\"The number is even and divisible by 4\"\u001b[0m\u001b[0;34m)\u001b[0m\u001b[0;34m\u001b[0m\u001b[0;34m\u001b[0m\u001b[0m\n",
      "\u001b[0;31mValueError\u001b[0m: invalid literal for int() with base 10: 'j'"
     ]
    }
   ],
   "source": [
    "# infinite loop\n",
    "while True:\n",
    "    num = int(input(\"Enter any number to check odd/even: \"))\n",
    "    if num % 4 == 0:\n",
    "        print(\"The number is even and divisible by 4\")\n",
    "    elif num % 2 == 0:\n",
    "        print(\"The number is even!\")\n",
    "    else:\n",
    "        print(\"The number is odd!\")"
   ]
  },
  {
   "cell_type": "markdown",
   "id": "signal-conflict",
   "metadata": {},
   "source": [
    "#### Array operations"
   ]
  },
  {
   "cell_type": "markdown",
   "id": "peripheral-underground",
   "metadata": {},
   "source": [
    "List and Tuple"
   ]
  },
  {
   "cell_type": "code",
   "execution_count": 55,
   "id": "modified-communications",
   "metadata": {},
   "outputs": [],
   "source": [
    "emptyList = []\n",
    "listElements = [1, 2, 3, 4.5, 6.7, 8.9, 'a', 'b', 'apple', 'cat']"
   ]
  },
  {
   "cell_type": "markdown",
   "id": "occasional-heater",
   "metadata": {},
   "source": [
    "##### Slice and dice"
   ]
  },
  {
   "cell_type": "code",
   "execution_count": 56,
   "id": "atomic-bearing",
   "metadata": {},
   "outputs": [
    {
     "data": {
      "text/plain": [
       "'a'"
      ]
     },
     "execution_count": 56,
     "metadata": {},
     "output_type": "execute_result"
    }
   ],
   "source": [
    "listElements[6]"
   ]
  },
  {
   "cell_type": "code",
   "execution_count": 57,
   "id": "latest-offset",
   "metadata": {},
   "outputs": [
    {
     "data": {
      "text/plain": [
       "['a', 'b', 'apple', 'cat']"
      ]
     },
     "execution_count": 57,
     "metadata": {},
     "output_type": "execute_result"
    }
   ],
   "source": [
    "listElements[6:]"
   ]
  },
  {
   "cell_type": "code",
   "execution_count": 58,
   "id": "technical-offering",
   "metadata": {},
   "outputs": [
    {
     "data": {
      "text/plain": [
       "[1, 2, 3, 4.5, 6.7, 8.9]"
      ]
     },
     "execution_count": 58,
     "metadata": {},
     "output_type": "execute_result"
    }
   ],
   "source": [
    "listElements[:6]"
   ]
  },
  {
   "cell_type": "code",
   "execution_count": 59,
   "id": "collected-operator",
   "metadata": {},
   "outputs": [],
   "source": [
    "del listElements[6]"
   ]
  },
  {
   "cell_type": "code",
   "execution_count": 60,
   "id": "front-theory",
   "metadata": {},
   "outputs": [
    {
     "data": {
      "text/plain": [
       "[1, 2, 3, 4.5, 6.7, 8.9, 'b', 'apple', 'cat']"
      ]
     },
     "execution_count": 60,
     "metadata": {},
     "output_type": "execute_result"
    }
   ],
   "source": [
    "listElements"
   ]
  },
  {
   "cell_type": "code",
   "execution_count": 61,
   "id": "yellow-heart",
   "metadata": {},
   "outputs": [],
   "source": [
    "listElements[6] = \"pine apple\""
   ]
  },
  {
   "cell_type": "code",
   "execution_count": 62,
   "id": "proved-perth",
   "metadata": {},
   "outputs": [
    {
     "data": {
      "text/plain": [
       "[1, 2, 3, 4.5, 6.7, 8.9, 'pine apple', 'apple', 'cat']"
      ]
     },
     "execution_count": 62,
     "metadata": {},
     "output_type": "execute_result"
    }
   ],
   "source": [
    "listElements"
   ]
  },
  {
   "cell_type": "code",
   "execution_count": 63,
   "id": "rubber-flower",
   "metadata": {},
   "outputs": [],
   "source": [
    "listElements[6] = \"pine_apple\""
   ]
  },
  {
   "cell_type": "code",
   "execution_count": 64,
   "id": "unusual-adoption",
   "metadata": {},
   "outputs": [
    {
     "data": {
      "text/plain": [
       "[1, 2, 3, 4.5, 6.7, 8.9, 'pine_apple', 'apple', 'cat']"
      ]
     },
     "execution_count": 64,
     "metadata": {},
     "output_type": "execute_result"
    }
   ],
   "source": [
    "listElements"
   ]
  },
  {
   "cell_type": "code",
   "execution_count": 65,
   "id": "administrative-checklist",
   "metadata": {},
   "outputs": [
    {
     "data": {
      "text/plain": [
       "['cat', 'apple', 'pine_apple', 8.9, 6.7, 4.5, 3, 2, 1]"
      ]
     },
     "execution_count": 65,
     "metadata": {},
     "output_type": "execute_result"
    }
   ],
   "source": [
    "listElements[::-1]"
   ]
  },
  {
   "cell_type": "markdown",
   "id": "changing-carol",
   "metadata": {},
   "source": [
    "##### list functions"
   ]
  },
  {
   "cell_type": "code",
   "execution_count": 66,
   "id": "commercial-graduate",
   "metadata": {},
   "outputs": [],
   "source": [
    "listElements.append(\"papaya\")"
   ]
  },
  {
   "cell_type": "code",
   "execution_count": 67,
   "id": "particular-screening",
   "metadata": {},
   "outputs": [
    {
     "data": {
      "text/plain": [
       "[1, 2, 3, 4.5, 6.7, 8.9, 'pine_apple', 'apple', 'cat', 'papaya']"
      ]
     },
     "execution_count": 67,
     "metadata": {},
     "output_type": "execute_result"
    }
   ],
   "source": [
    "listElements"
   ]
  },
  {
   "cell_type": "code",
   "execution_count": 68,
   "id": "pretty-first",
   "metadata": {},
   "outputs": [],
   "source": [
    "emptyList.append(\"papaya\")"
   ]
  },
  {
   "cell_type": "code",
   "execution_count": 69,
   "id": "incorrect-governor",
   "metadata": {},
   "outputs": [
    {
     "data": {
      "text/plain": [
       "['papaya']"
      ]
     },
     "execution_count": 69,
     "metadata": {},
     "output_type": "execute_result"
    }
   ],
   "source": [
    "emptyList"
   ]
  },
  {
   "cell_type": "code",
   "execution_count": 70,
   "id": "corresponding-longer",
   "metadata": {},
   "outputs": [],
   "source": [
    "emptyList.clear()"
   ]
  },
  {
   "cell_type": "code",
   "execution_count": 71,
   "id": "adequate-truck",
   "metadata": {},
   "outputs": [
    {
     "data": {
      "text/plain": [
       "[]"
      ]
     },
     "execution_count": 71,
     "metadata": {},
     "output_type": "execute_result"
    }
   ],
   "source": [
    "emptyList"
   ]
  },
  {
   "cell_type": "code",
   "execution_count": 73,
   "id": "unknown-bridges",
   "metadata": {},
   "outputs": [],
   "source": [
    "g = listElements"
   ]
  },
  {
   "cell_type": "code",
   "execution_count": 75,
   "id": "formal-emperor",
   "metadata": {},
   "outputs": [],
   "source": [
    "g.remove(8.9)"
   ]
  },
  {
   "cell_type": "code",
   "execution_count": 76,
   "id": "offshore-quest",
   "metadata": {},
   "outputs": [
    {
     "data": {
      "text/plain": [
       "[1, 2, 3, 4.5, 6.7, 'pine_apple', 'apple', 'cat', 'papaya']"
      ]
     },
     "execution_count": 76,
     "metadata": {},
     "output_type": "execute_result"
    }
   ],
   "source": [
    "g"
   ]
  },
  {
   "cell_type": "code",
   "execution_count": 77,
   "id": "similar-shark",
   "metadata": {},
   "outputs": [
    {
     "data": {
      "text/plain": [
       "[1, 2, 3, 4.5, 6.7, 'pine_apple', 'apple', 'cat', 'papaya']"
      ]
     },
     "execution_count": 77,
     "metadata": {},
     "output_type": "execute_result"
    }
   ],
   "source": [
    "listElements"
   ]
  },
  {
   "cell_type": "code",
   "execution_count": 78,
   "id": "bored-object",
   "metadata": {},
   "outputs": [],
   "source": [
    "f = listElements.copy()"
   ]
  },
  {
   "cell_type": "code",
   "execution_count": 79,
   "id": "floppy-corrections",
   "metadata": {},
   "outputs": [],
   "source": [
    "f.remove(6.7)"
   ]
  },
  {
   "cell_type": "code",
   "execution_count": 80,
   "id": "marked-ministry",
   "metadata": {},
   "outputs": [
    {
     "data": {
      "text/plain": [
       "[1, 2, 3, 4.5, 'pine_apple', 'apple', 'cat', 'papaya']"
      ]
     },
     "execution_count": 80,
     "metadata": {},
     "output_type": "execute_result"
    }
   ],
   "source": [
    "f"
   ]
  },
  {
   "cell_type": "code",
   "execution_count": 81,
   "id": "known-trance",
   "metadata": {},
   "outputs": [
    {
     "data": {
      "text/plain": [
       "[1, 2, 3, 4.5, 6.7, 'pine_apple', 'apple', 'cat', 'papaya']"
      ]
     },
     "execution_count": 81,
     "metadata": {},
     "output_type": "execute_result"
    }
   ],
   "source": [
    "listElements"
   ]
  },
  {
   "cell_type": "code",
   "execution_count": 82,
   "id": "smooth-retro",
   "metadata": {},
   "outputs": [
    {
     "data": {
      "text/plain": [
       "1"
      ]
     },
     "execution_count": 82,
     "metadata": {},
     "output_type": "execute_result"
    }
   ],
   "source": [
    "listElements.count('apple')"
   ]
  },
  {
   "cell_type": "code",
   "execution_count": 83,
   "id": "solved-waters",
   "metadata": {},
   "outputs": [
    {
     "data": {
      "text/plain": [
       "6"
      ]
     },
     "execution_count": 83,
     "metadata": {},
     "output_type": "execute_result"
    }
   ],
   "source": [
    "listElements.index('apple')"
   ]
  },
  {
   "cell_type": "code",
   "execution_count": 84,
   "id": "adjacent-calcium",
   "metadata": {},
   "outputs": [],
   "source": [
    "listElements.extend([\"grapes\", \"carrot\", \"orange\"])"
   ]
  },
  {
   "cell_type": "code",
   "execution_count": 85,
   "id": "ruled-concord",
   "metadata": {},
   "outputs": [
    {
     "data": {
      "text/plain": [
       "[1,\n",
       " 2,\n",
       " 3,\n",
       " 4.5,\n",
       " 6.7,\n",
       " 'pine_apple',\n",
       " 'apple',\n",
       " 'cat',\n",
       " 'papaya',\n",
       " 'grapes',\n",
       " 'carrot',\n",
       " 'orange']"
      ]
     },
     "execution_count": 85,
     "metadata": {},
     "output_type": "execute_result"
    }
   ],
   "source": [
    "listElements"
   ]
  },
  {
   "cell_type": "code",
   "execution_count": 86,
   "id": "rolled-quilt",
   "metadata": {},
   "outputs": [],
   "source": [
    "listElements.insert(5, \"mango\")"
   ]
  },
  {
   "cell_type": "code",
   "execution_count": 88,
   "id": "musical-sherman",
   "metadata": {},
   "outputs": [],
   "source": [
    "listElements.reverse()"
   ]
  },
  {
   "cell_type": "code",
   "execution_count": 94,
   "id": "actual-anthropology",
   "metadata": {},
   "outputs": [
    {
     "data": {
      "text/plain": [
       "6.7"
      ]
     },
     "execution_count": 94,
     "metadata": {},
     "output_type": "execute_result"
    }
   ],
   "source": [
    "listElements.pop()"
   ]
  },
  {
   "cell_type": "code",
   "execution_count": 96,
   "id": "fatal-wings",
   "metadata": {},
   "outputs": [],
   "source": [
    "listElements.sort()"
   ]
  },
  {
   "cell_type": "code",
   "execution_count": 97,
   "id": "respected-russell",
   "metadata": {},
   "outputs": [
    {
     "data": {
      "text/plain": [
       "['apple', 'carrot', 'cat', 'grapes', 'mango', 'orange', 'papaya', 'pine_apple']"
      ]
     },
     "execution_count": 97,
     "metadata": {},
     "output_type": "execute_result"
    }
   ],
   "source": [
    "listElements"
   ]
  },
  {
   "cell_type": "code",
   "execution_count": 98,
   "id": "alternate-stake",
   "metadata": {},
   "outputs": [
    {
     "ename": "TypeError",
     "evalue": "'<' not supported between instances of 'str' and 'float'",
     "output_type": "error",
     "traceback": [
      "\u001b[0;31m---------------------------------------------------------------------------\u001b[0m",
      "\u001b[0;31mTypeError\u001b[0m                                 Traceback (most recent call last)",
      "\u001b[0;32m<ipython-input-98-bcaabf1d9219>\u001b[0m in \u001b[0;36m<module>\u001b[0;34m\u001b[0m\n\u001b[0;32m----> 1\u001b[0;31m \u001b[0mf\u001b[0m\u001b[0;34m.\u001b[0m\u001b[0msort\u001b[0m\u001b[0;34m(\u001b[0m\u001b[0;34m)\u001b[0m\u001b[0;34m\u001b[0m\u001b[0;34m\u001b[0m\u001b[0m\n\u001b[0m",
      "\u001b[0;31mTypeError\u001b[0m: '<' not supported between instances of 'str' and 'float'"
     ]
    }
   ],
   "source": [
    "f.sort()"
   ]
  },
  {
   "cell_type": "code",
   "execution_count": 100,
   "id": "lightweight-dancing",
   "metadata": {},
   "outputs": [
    {
     "data": {
      "text/plain": [
       "['a', 'p', 'p', 'l', 'e']"
      ]
     },
     "execution_count": 100,
     "metadata": {},
     "output_type": "execute_result"
    }
   ],
   "source": [
    "list(\"apple\")"
   ]
  },
  {
   "cell_type": "code",
   "execution_count": 99,
   "id": "fiscal-titanium",
   "metadata": {},
   "outputs": [],
   "source": [
    "emptyTuple = ()\n",
    "tupleElements = tuple(listElements)"
   ]
  },
  {
   "cell_type": "code",
   "execution_count": 101,
   "id": "fabulous-paradise",
   "metadata": {},
   "outputs": [
    {
     "data": {
      "text/plain": [
       "('apple', 'carrot', 'cat', 'grapes', 'mango', 'orange', 'papaya', 'pine_apple')"
      ]
     },
     "execution_count": 101,
     "metadata": {},
     "output_type": "execute_result"
    }
   ],
   "source": [
    "tupleElements"
   ]
  },
  {
   "cell_type": "code",
   "execution_count": 102,
   "id": "liberal-charity",
   "metadata": {},
   "outputs": [
    {
     "data": {
      "text/plain": [
       "('papaya', 'pine_apple')"
      ]
     },
     "execution_count": 102,
     "metadata": {},
     "output_type": "execute_result"
    }
   ],
   "source": [
    "tupleElements[6:]"
   ]
  },
  {
   "cell_type": "code",
   "execution_count": 103,
   "id": "deluxe-holly",
   "metadata": {},
   "outputs": [
    {
     "ename": "TypeError",
     "evalue": "'tuple' object doesn't support item deletion",
     "output_type": "error",
     "traceback": [
      "\u001b[0;31m---------------------------------------------------------------------------\u001b[0m",
      "\u001b[0;31mTypeError\u001b[0m                                 Traceback (most recent call last)",
      "\u001b[0;32m<ipython-input-103-8b30d1b98b96>\u001b[0m in \u001b[0;36m<module>\u001b[0;34m\u001b[0m\n\u001b[0;32m----> 1\u001b[0;31m \u001b[0;32mdel\u001b[0m \u001b[0mtupleElements\u001b[0m\u001b[0;34m[\u001b[0m\u001b[0;36m6\u001b[0m\u001b[0;34m]\u001b[0m\u001b[0;34m\u001b[0m\u001b[0;34m\u001b[0m\u001b[0m\n\u001b[0m",
      "\u001b[0;31mTypeError\u001b[0m: 'tuple' object doesn't support item deletion"
     ]
    }
   ],
   "source": [
    "del tupleElements[6]"
   ]
  },
  {
   "cell_type": "code",
   "execution_count": 104,
   "id": "published-blind",
   "metadata": {},
   "outputs": [
    {
     "ename": "TypeError",
     "evalue": "'tuple' object does not support item assignment",
     "output_type": "error",
     "traceback": [
      "\u001b[0;31m---------------------------------------------------------------------------\u001b[0m",
      "\u001b[0;31mTypeError\u001b[0m                                 Traceback (most recent call last)",
      "\u001b[0;32m<ipython-input-104-3555307f7710>\u001b[0m in \u001b[0;36m<module>\u001b[0;34m\u001b[0m\n\u001b[0;32m----> 1\u001b[0;31m \u001b[0mtupleElements\u001b[0m\u001b[0;34m[\u001b[0m\u001b[0;36m6\u001b[0m\u001b[0;34m]\u001b[0m \u001b[0;34m=\u001b[0m \u001b[0;34m\"potato\"\u001b[0m\u001b[0;34m\u001b[0m\u001b[0;34m\u001b[0m\u001b[0m\n\u001b[0m",
      "\u001b[0;31mTypeError\u001b[0m: 'tuple' object does not support item assignment"
     ]
    }
   ],
   "source": [
    "tupleElements[6] = \"potato\""
   ]
  },
  {
   "cell_type": "markdown",
   "id": "manual-employment",
   "metadata": {},
   "source": [
    "##### Dictionary"
   ]
  },
  {
   "cell_type": "code",
   "execution_count": 105,
   "id": "activated-smell",
   "metadata": {},
   "outputs": [],
   "source": [
    "emptyDict = {}\n",
    "dictElements = {'a': \"apple\", 'b': 1234, 1: 1234, 3.12: \"papaya\", \"l\": listElements}"
   ]
  },
  {
   "cell_type": "code",
   "execution_count": 106,
   "id": "laughing-enlargement",
   "metadata": {},
   "outputs": [
    {
     "data": {
      "text/plain": [
       "{'a': 'apple',\n",
       " 'b': 1234,\n",
       " 1: 1234,\n",
       " 3.12: 'papaya',\n",
       " 'l': ['apple',\n",
       "  'carrot',\n",
       "  'cat',\n",
       "  'grapes',\n",
       "  'mango',\n",
       "  'orange',\n",
       "  'papaya',\n",
       "  'pine_apple']}"
      ]
     },
     "execution_count": 106,
     "metadata": {},
     "output_type": "execute_result"
    }
   ],
   "source": [
    "dictElements"
   ]
  },
  {
   "cell_type": "code",
   "execution_count": 107,
   "id": "victorian-stand",
   "metadata": {},
   "outputs": [
    {
     "data": {
      "text/plain": [
       "'apple'"
      ]
     },
     "execution_count": 107,
     "metadata": {},
     "output_type": "execute_result"
    }
   ],
   "source": [
    "dictElements['a']"
   ]
  },
  {
   "cell_type": "code",
   "execution_count": 108,
   "id": "measured-subdivision",
   "metadata": {},
   "outputs": [],
   "source": [
    "dictElements['b'] = \"banana\""
   ]
  },
  {
   "cell_type": "code",
   "execution_count": 109,
   "id": "filled-compromise",
   "metadata": {},
   "outputs": [
    {
     "data": {
      "text/plain": [
       "{'a': 'apple',\n",
       " 'b': 'banana',\n",
       " 1: 1234,\n",
       " 3.12: 'papaya',\n",
       " 'l': ['apple',\n",
       "  'carrot',\n",
       "  'cat',\n",
       "  'grapes',\n",
       "  'mango',\n",
       "  'orange',\n",
       "  'papaya',\n",
       "  'pine_apple']}"
      ]
     },
     "execution_count": 109,
     "metadata": {},
     "output_type": "execute_result"
    }
   ],
   "source": [
    "dictElements"
   ]
  },
  {
   "cell_type": "code",
   "execution_count": 110,
   "id": "usual-spiritual",
   "metadata": {},
   "outputs": [],
   "source": [
    "del dictElements[3.12]"
   ]
  },
  {
   "cell_type": "code",
   "execution_count": 111,
   "id": "lovely-penny",
   "metadata": {},
   "outputs": [
    {
     "data": {
      "text/plain": [
       "{'a': 'apple',\n",
       " 'b': 'banana',\n",
       " 1: 1234,\n",
       " 'l': ['apple',\n",
       "  'carrot',\n",
       "  'cat',\n",
       "  'grapes',\n",
       "  'mango',\n",
       "  'orange',\n",
       "  'papaya',\n",
       "  'pine_apple']}"
      ]
     },
     "execution_count": 111,
     "metadata": {},
     "output_type": "execute_result"
    }
   ],
   "source": [
    "dictElements"
   ]
  },
  {
   "cell_type": "code",
   "execution_count": 112,
   "id": "cooked-flooring",
   "metadata": {},
   "outputs": [],
   "source": [
    "dictElements['c'] = \"cat\""
   ]
  },
  {
   "cell_type": "code",
   "execution_count": 113,
   "id": "intellectual-region",
   "metadata": {},
   "outputs": [
    {
     "data": {
      "text/plain": [
       "{'a': 'apple',\n",
       " 'b': 'banana',\n",
       " 1: 1234,\n",
       " 'l': ['apple',\n",
       "  'carrot',\n",
       "  'cat',\n",
       "  'grapes',\n",
       "  'mango',\n",
       "  'orange',\n",
       "  'papaya',\n",
       "  'pine_apple'],\n",
       " 'c': 'cat'}"
      ]
     },
     "execution_count": 113,
     "metadata": {},
     "output_type": "execute_result"
    }
   ],
   "source": [
    "dictElements"
   ]
  },
  {
   "cell_type": "code",
   "execution_count": 115,
   "id": "clinical-harvard",
   "metadata": {},
   "outputs": [
    {
     "data": {
      "text/plain": [
       "(dict_keys(['a', 'b', 1, 'l', 'c']),\n",
       " dict_values(['apple', 'banana', 1234, ['apple', 'carrot', 'cat', 'grapes', 'mango', 'orange', 'papaya', 'pine_apple'], 'cat']))"
      ]
     },
     "execution_count": 115,
     "metadata": {},
     "output_type": "execute_result"
    }
   ],
   "source": [
    "dictElements.keys(), dictElements.values(), "
   ]
  },
  {
   "cell_type": "code",
   "execution_count": 117,
   "id": "respiratory-stockholm",
   "metadata": {},
   "outputs": [
    {
     "data": {
      "text/plain": [
       "[('a', 'apple'),\n",
       " ('b', 'banana'),\n",
       " (1, 1234),\n",
       " ('l',\n",
       "  ['apple',\n",
       "   'carrot',\n",
       "   'cat',\n",
       "   'grapes',\n",
       "   'mango',\n",
       "   'orange',\n",
       "   'papaya',\n",
       "   'pine_apple']),\n",
       " ('c', 'cat')]"
      ]
     },
     "execution_count": 117,
     "metadata": {},
     "output_type": "execute_result"
    }
   ],
   "source": [
    "list(dictElements.items())"
   ]
  },
  {
   "cell_type": "code",
   "execution_count": 118,
   "id": "preceding-population",
   "metadata": {},
   "outputs": [],
   "source": [
    "dictElements.update({\"e\": \"elephant\", \"m\": \"mango\"})"
   ]
  },
  {
   "cell_type": "code",
   "execution_count": 119,
   "id": "incoming-knock",
   "metadata": {},
   "outputs": [
    {
     "data": {
      "text/plain": [
       "{'a': 'apple',\n",
       " 'b': 'banana',\n",
       " 1: 1234,\n",
       " 'l': ['apple',\n",
       "  'carrot',\n",
       "  'cat',\n",
       "  'grapes',\n",
       "  'mango',\n",
       "  'orange',\n",
       "  'papaya',\n",
       "  'pine_apple'],\n",
       " 'c': 'cat',\n",
       " 'e': 'elephant',\n",
       " 'm': 'mango'}"
      ]
     },
     "execution_count": 119,
     "metadata": {},
     "output_type": "execute_result"
    }
   ],
   "source": [
    "dictElements"
   ]
  },
  {
   "cell_type": "code",
   "execution_count": 122,
   "id": "proud-uganda",
   "metadata": {},
   "outputs": [
    {
     "data": {
      "text/plain": [
       "'mango'"
      ]
     },
     "execution_count": 122,
     "metadata": {},
     "output_type": "execute_result"
    }
   ],
   "source": [
    "dictElements"
   ]
  },
  {
   "cell_type": "markdown",
   "id": "opened-packaging",
   "metadata": {},
   "source": [
    "#### for loop"
   ]
  },
  {
   "cell_type": "code",
   "execution_count": 126,
   "id": "blank-amendment",
   "metadata": {},
   "outputs": [
    {
     "name": "stdout",
     "output_type": "stream",
     "text": [
      "hi\n",
      "hi\n",
      "hi\n",
      "hi\n",
      "hi\n",
      "hi\n",
      "hi\n",
      "hi\n",
      "hi\n",
      "hi\n"
     ]
    }
   ],
   "source": [
    "for i in range(10):\n",
    "    print(\"hi\")"
   ]
  },
  {
   "cell_type": "code",
   "execution_count": 127,
   "id": "honey-parallel",
   "metadata": {},
   "outputs": [
    {
     "name": "stdout",
     "output_type": "stream",
     "text": [
      "hi\n",
      "hi\n",
      "hi\n"
     ]
    }
   ],
   "source": [
    "for _ in range(3):\n",
    "    print(\"hi\")"
   ]
  },
  {
   "cell_type": "code",
   "execution_count": 129,
   "id": "worldwide-jefferson",
   "metadata": {},
   "outputs": [
    {
     "name": "stdout",
     "output_type": "stream",
     "text": [
      "10\n",
      "12\n",
      "14\n",
      "16\n",
      "18\n",
      "20\n"
     ]
    }
   ],
   "source": [
    "for i in range(10, 21, 2):\n",
    "    print(i)"
   ]
  },
  {
   "cell_type": "code",
   "execution_count": 130,
   "id": "romance-imperial",
   "metadata": {},
   "outputs": [
    {
     "name": "stdout",
     "output_type": "stream",
     "text": [
      "apple\n",
      "carrot\n",
      "cat\n",
      "grapes\n",
      "mango\n",
      "orange\n",
      "papaya\n",
      "pine_apple\n"
     ]
    }
   ],
   "source": [
    "for i in listElements:\n",
    "    print(i)"
   ]
  },
  {
   "cell_type": "code",
   "execution_count": 132,
   "id": "pointed-falls",
   "metadata": {},
   "outputs": [
    {
     "name": "stdout",
     "output_type": "stream",
     "text": [
      "apple\n",
      "carrot\n",
      "cat\n",
      "grapes\n",
      "mango\n",
      "orange\n"
     ]
    }
   ],
   "source": [
    "for i in listElements[:6]:\n",
    "    print(i)"
   ]
  },
  {
   "cell_type": "code",
   "execution_count": 133,
   "id": "dedicated-wagon",
   "metadata": {},
   "outputs": [
    {
     "name": "stdout",
     "output_type": "stream",
     "text": [
      "a\n",
      "p\n",
      "p\n",
      "l\n",
      "e\n"
     ]
    }
   ],
   "source": [
    "for i in \"apple\":\n",
    "    print(i)"
   ]
  },
  {
   "cell_type": "code",
   "execution_count": 135,
   "id": "handled-madness",
   "metadata": {},
   "outputs": [
    {
     "name": "stdout",
     "output_type": "stream",
     "text": [
      "apple\n",
      "banana\n",
      "1234\n",
      "['apple', 'carrot', 'cat', 'grapes', 'mango', 'orange', 'papaya', 'pine_apple']\n",
      "cat\n",
      "elephant\n",
      "mango\n"
     ]
    }
   ],
   "source": [
    "for k in dictElements.values():\n",
    "    print(k)"
   ]
  },
  {
   "cell_type": "code",
   "execution_count": 136,
   "id": "operating-absence",
   "metadata": {},
   "outputs": [
    {
     "name": "stdout",
     "output_type": "stream",
     "text": [
      "a --> apple\n",
      "b --> banana\n",
      "1 --> 1234\n",
      "l --> ['apple', 'carrot', 'cat', 'grapes', 'mango', 'orange', 'papaya', 'pine_apple']\n",
      "c --> cat\n",
      "e --> elephant\n",
      "m --> mango\n"
     ]
    }
   ],
   "source": [
    "for k,v in dictElements.items():\n",
    "    print(k, \"-->\", v)\n"
   ]
  },
  {
   "cell_type": "code",
   "execution_count": 138,
   "id": "referenced-villa",
   "metadata": {},
   "outputs": [
    {
     "name": "stdout",
     "output_type": "stream",
     "text": [
      "apple\n",
      "cat\n",
      "mango\n",
      "papaya\n"
     ]
    }
   ],
   "source": [
    "for k in dictElements[\"l\"][0:len(dictElements[\"l\"]):2]:\n",
    "    print(k)"
   ]
  },
  {
   "cell_type": "code",
   "execution_count": 139,
   "id": "earlier-barrier",
   "metadata": {},
   "outputs": [
    {
     "name": "stdout",
     "output_type": "stream",
     "text": [
      "a\n",
      "p\n",
      "p\n",
      "l\n",
      "e\n",
      "It's over!!\n"
     ]
    }
   ],
   "source": [
    "for i in \"apple\":\n",
    "    print(i)\n",
    "else:\n",
    "    print(\"It's over!!\")"
   ]
  },
  {
   "cell_type": "code",
   "execution_count": 143,
   "id": "falling-edwards",
   "metadata": {},
   "outputs": [
    {
     "name": "stdout",
     "output_type": "stream",
     "text": [
      "0 a\n",
      "2 1\n",
      "4 c\n",
      "6 m\n"
     ]
    }
   ],
   "source": [
    "for i, k in enumerate(dictElements):\n",
    "    if i % 2 == 0:\n",
    "        print(i, k)"
   ]
  },
  {
   "cell_type": "code",
   "execution_count": 150,
   "id": "proprietary-consumer",
   "metadata": {},
   "outputs": [
    {
     "name": "stdout",
     "output_type": "stream",
     "text": [
      "apple\n",
      "1234\n",
      "cat\n",
      "mango\n"
     ]
    }
   ],
   "source": [
    "for i in range(0, len(dictElements), 2):\n",
    "    print(dictElements[list(dictElements.keys())[i]])"
   ]
  },
  {
   "cell_type": "code",
   "execution_count": 149,
   "id": "interested-breakdown",
   "metadata": {},
   "outputs": [
    {
     "name": "stdout",
     "output_type": "stream",
     "text": [
      "a apple\n",
      "1 1234\n",
      "c cat\n",
      "m mango\n"
     ]
    }
   ],
   "source": [
    "for k,v in list(dictElements.items())[0:len(dictElements):2]:\n",
    "    print(k,v)"
   ]
  },
  {
   "cell_type": "markdown",
   "id": "polish-router",
   "metadata": {},
   "source": [
    "#### Functions"
   ]
  },
  {
   "cell_type": "code",
   "execution_count": 155,
   "id": "current-consolidation",
   "metadata": {},
   "outputs": [],
   "source": [
    "# no arg no return\n",
    "def oddEven():\n",
    "    num = int(input(\"Enter any number to check odd/even: \"))\n",
    "    if num % 4 == 0:\n",
    "        print(\"The number is even and divisible by 4\")\n",
    "    elif num % 2 == 0:\n",
    "        print(\"The number is even!\")\n",
    "    else:\n",
    "        print(\"The number is odd!\")"
   ]
  },
  {
   "cell_type": "code",
   "execution_count": 154,
   "id": "bearing-edition",
   "metadata": {},
   "outputs": [
    {
     "name": "stdout",
     "output_type": "stream",
     "text": [
      "Enter any number to check odd/even: 10\n",
      "The number is even!\n",
      "Enter any number to check odd/even: 15\n",
      "The number is odd!\n",
      "Enter any number to check odd/even: 25\n",
      "The number is odd!\n",
      "Enter any number to check odd/even: 14\n",
      "The number is even!\n",
      "Enter any number to check odd/even: 36\n",
      "The number is even and divisible by 4\n"
     ]
    }
   ],
   "source": [
    "for i in range(5):\n",
    "    oddEven()"
   ]
  },
  {
   "cell_type": "code",
   "execution_count": 156,
   "id": "stopped-caribbean",
   "metadata": {},
   "outputs": [],
   "source": [
    "# no arg but with return\n",
    "def oddEven():\n",
    "    num = int(input(\"Enter any number to check odd/even: \"))\n",
    "    if num % 4 == 0:\n",
    "        answer = \"The number is even and divisible by 4\"\n",
    "    elif num % 2 == 0:\n",
    "        answer = \"The number is even!\"\n",
    "    else:\n",
    "        answer = \"The number is odd!\"\n",
    "    return answer"
   ]
  },
  {
   "cell_type": "code",
   "execution_count": 158,
   "id": "closed-supplier",
   "metadata": {},
   "outputs": [
    {
     "name": "stdout",
     "output_type": "stream",
     "text": [
      "Enter any number to check odd/even: 10\n",
      "The number is even!\n",
      "Enter any number to check odd/even: 12\n",
      "The number is even and divisible by 4\n"
     ]
    }
   ],
   "source": [
    "for i in range(2):\n",
    "    result = oddEven()\n",
    "    print(result)"
   ]
  },
  {
   "cell_type": "code",
   "execution_count": 159,
   "id": "cross-preference",
   "metadata": {},
   "outputs": [],
   "source": [
    "# with arg and with return\n",
    "def oddEven(num):\n",
    "    if num % 4 == 0:\n",
    "        answer = \"The number is even and divisible by 4\"\n",
    "    elif num % 2 == 0:\n",
    "        answer = \"The number is even!\"\n",
    "    else:\n",
    "        answer = \"The number is odd!\"\n",
    "    return answer"
   ]
  },
  {
   "cell_type": "code",
   "execution_count": 162,
   "id": "isolated-argument",
   "metadata": {},
   "outputs": [
    {
     "name": "stdout",
     "output_type": "stream",
     "text": [
      "Enter any number to check odd/even: 10\n",
      "The number is even!\n",
      "Enter any number to check odd/even: 20\n",
      "The number is even and divisible by 4\n"
     ]
    }
   ],
   "source": [
    "for i in range(2):\n",
    "    num = int(input(\"Enter any number to check odd/even: \"))\n",
    "    result = oddEven(num)\n",
    "    print(result)"
   ]
  },
  {
   "cell_type": "code",
   "execution_count": 166,
   "id": "patient-emergency",
   "metadata": {},
   "outputs": [],
   "source": [
    "def isPrime(num):\n",
    "    flag = True\n",
    "    for i in range(2, num):\n",
    "        if num % i == 0:\n",
    "            flag = False\n",
    "    return flag"
   ]
  },
  {
   "cell_type": "code",
   "execution_count": 181,
   "id": "expressed-field",
   "metadata": {},
   "outputs": [
    {
     "name": "stdout",
     "output_type": "stream",
     "text": [
      "Enter any number for num1: 30\n",
      "Enter any number for num2: 20\n"
     ]
    }
   ],
   "source": [
    "num1 = int(input(\"Enter any number for num1: \"))\n",
    "num2 = int(input(\"Enter any number for num2: \"))\n",
    "num1, num2 = min(num1, num2), max(num1, num2)\n",
    "for num in range(num1, num2+1):\n",
    "    if isPrime(num):\n",
    "        print(num)"
   ]
  },
  {
   "cell_type": "code",
   "execution_count": 184,
   "id": "contemporary-tooth",
   "metadata": {},
   "outputs": [],
   "source": [
    "add = lambda a,b : a + b"
   ]
  },
  {
   "cell_type": "code",
   "execution_count": 194,
   "id": "fluid-syntax",
   "metadata": {},
   "outputs": [],
   "source": [
    "add = lambda *a : [i for i in a if i % 2 != 0]"
   ]
  },
  {
   "cell_type": "code",
   "execution_count": 195,
   "id": "satisfied-tension",
   "metadata": {},
   "outputs": [
    {
     "data": {
      "text/plain": [
       "[45, 27, 13]"
      ]
     },
     "execution_count": 195,
     "metadata": {},
     "output_type": "execute_result"
    }
   ],
   "source": [
    "add(45, 34, 32, 12 , 27,  13)"
   ]
  },
  {
   "cell_type": "markdown",
   "id": "metallic-subject",
   "metadata": {},
   "source": [
    "#### Error Handling"
   ]
  },
  {
   "cell_type": "code",
   "execution_count": 197,
   "id": "adult-technique",
   "metadata": {},
   "outputs": [
    {
     "ename": "NameError",
     "evalue": "name 'x' is not defined",
     "output_type": "error",
     "traceback": [
      "\u001b[0;31m---------------------------------------------------------------------------\u001b[0m",
      "\u001b[0;31mNameError\u001b[0m                                 Traceback (most recent call last)",
      "\u001b[0;32m<ipython-input-197-b898c78ebff2>\u001b[0m in \u001b[0;36m<module>\u001b[0;34m\u001b[0m\n\u001b[0;32m----> 1\u001b[0;31m \u001b[0mprint\u001b[0m\u001b[0;34m(\u001b[0m\u001b[0mx\u001b[0m\u001b[0;34m)\u001b[0m\u001b[0;34m\u001b[0m\u001b[0;34m\u001b[0m\u001b[0m\n\u001b[0m\u001b[1;32m      2\u001b[0m \u001b[0mprint\u001b[0m\u001b[0;34m(\u001b[0m\u001b[0;34m\"hello world\"\u001b[0m\u001b[0;34m)\u001b[0m\u001b[0;34m\u001b[0m\u001b[0;34m\u001b[0m\u001b[0m\n",
      "\u001b[0;31mNameError\u001b[0m: name 'x' is not defined"
     ]
    }
   ],
   "source": [
    "print(x)\n",
    "print(\"hello world\")"
   ]
  },
  {
   "cell_type": "code",
   "execution_count": 199,
   "id": "documented-settlement",
   "metadata": {},
   "outputs": [
    {
     "name": "stdout",
     "output_type": "stream",
     "text": [
      "hello world!\n"
     ]
    }
   ],
   "source": [
    "try:\n",
    "    print(x)\n",
    "except:\n",
    "#     print(\"There is error\")\n",
    "    pass\n",
    "print(\"hello world!\")"
   ]
  },
  {
   "cell_type": "code",
   "execution_count": 201,
   "id": "friendly-special",
   "metadata": {},
   "outputs": [
    {
     "name": "stdout",
     "output_type": "stream",
     "text": [
      "There is error name 'x' is not defined\n",
      "hello world!\n"
     ]
    }
   ],
   "source": [
    "try:\n",
    "    print(x)\n",
    "except Exception as e:\n",
    "    print(\"There is error\", e)\n",
    "print(\"hello world!\")"
   ]
  },
  {
   "cell_type": "code",
   "execution_count": 203,
   "id": "fossil-chain",
   "metadata": {},
   "outputs": [
    {
     "ename": "TypeError",
     "evalue": "'x' is an invalid keyword argument for this function",
     "output_type": "error",
     "traceback": [
      "\u001b[0;31m---------------------------------------------------------------------------\u001b[0m",
      "\u001b[0;31mTypeError\u001b[0m                                 Traceback (most recent call last)",
      "\u001b[0;32m<ipython-input-203-892a06f85342>\u001b[0m in \u001b[0;36m<module>\u001b[0;34m\u001b[0m\n\u001b[1;32m      1\u001b[0m \u001b[0;32mtry\u001b[0m\u001b[0;34m:\u001b[0m\u001b[0;34m\u001b[0m\u001b[0;34m\u001b[0m\u001b[0m\n\u001b[0;32m----> 2\u001b[0;31m     \u001b[0mprint\u001b[0m\u001b[0;34m(\u001b[0m\u001b[0mx\u001b[0m\u001b[0;34m=\u001b[0m\u001b[0;36m1\u001b[0m\u001b[0;34m)\u001b[0m\u001b[0;34m\u001b[0m\u001b[0;34m\u001b[0m\u001b[0m\n\u001b[0m\u001b[1;32m      3\u001b[0m \u001b[0;32mexcept\u001b[0m \u001b[0mNameError\u001b[0m \u001b[0;32mas\u001b[0m \u001b[0me\u001b[0m\u001b[0;34m:\u001b[0m\u001b[0;34m\u001b[0m\u001b[0;34m\u001b[0m\u001b[0m\n\u001b[1;32m      4\u001b[0m     \u001b[0mprint\u001b[0m\u001b[0;34m(\u001b[0m\u001b[0;34m\"There is error\"\u001b[0m\u001b[0;34m,\u001b[0m \u001b[0me\u001b[0m\u001b[0;34m)\u001b[0m\u001b[0;34m\u001b[0m\u001b[0;34m\u001b[0m\u001b[0m\n\u001b[1;32m      5\u001b[0m \u001b[0mprint\u001b[0m\u001b[0;34m(\u001b[0m\u001b[0;34m\"hello world!\"\u001b[0m\u001b[0;34m)\u001b[0m\u001b[0;34m\u001b[0m\u001b[0;34m\u001b[0m\u001b[0m\n",
      "\u001b[0;31mTypeError\u001b[0m: 'x' is an invalid keyword argument for this function"
     ]
    }
   ],
   "source": [
    "try:\n",
    "    print(x=1)\n",
    "except NameError as e:\n",
    "    print(\"There is error\", e)\n",
    "print(\"hello world!\")"
   ]
  },
  {
   "cell_type": "code",
   "execution_count": 204,
   "id": "useful-zambia",
   "metadata": {},
   "outputs": [
    {
     "name": "stdout",
     "output_type": "stream",
     "text": [
      "There is error 'x' is an invalid keyword argument for this function\n",
      "hello world!\n"
     ]
    }
   ],
   "source": [
    "try:\n",
    "    print(x=2)\n",
    "except Exception as e:\n",
    "    print(\"There is error\", e)\n",
    "print(\"hello world!\")"
   ]
  },
  {
   "cell_type": "code",
   "execution_count": 205,
   "id": "engaged-apple",
   "metadata": {},
   "outputs": [
    {
     "name": "stdout",
     "output_type": "stream",
     "text": [
      "Requirement already satisfied: matplotlib in /Library/Frameworks/Python.framework/Versions/3.6/lib/python3.6/site-packages (3.3.4)\r\n",
      "Requirement already satisfied: pillow>=6.2.0 in /Library/Frameworks/Python.framework/Versions/3.6/lib/python3.6/site-packages (from matplotlib) (8.1.0)\r\n",
      "Requirement already satisfied: cycler>=0.10 in /Library/Frameworks/Python.framework/Versions/3.6/lib/python3.6/site-packages (from matplotlib) (0.10.0)\r\n",
      "Requirement already satisfied: pyparsing!=2.0.4,!=2.1.2,!=2.1.6,>=2.0.3 in /Library/Frameworks/Python.framework/Versions/3.6/lib/python3.6/site-packages (from matplotlib) (2.4.7)\r\n",
      "Requirement already satisfied: kiwisolver>=1.0.1 in /Library/Frameworks/Python.framework/Versions/3.6/lib/python3.6/site-packages (from matplotlib) (1.3.1)\r\n",
      "Requirement already satisfied: python-dateutil>=2.1 in /Library/Frameworks/Python.framework/Versions/3.6/lib/python3.6/site-packages (from matplotlib) (2.8.2)\r\n",
      "Requirement already satisfied: numpy>=1.15 in /Library/Frameworks/Python.framework/Versions/3.6/lib/python3.6/site-packages (from matplotlib) (1.19.3)\r\n",
      "Requirement already satisfied: six in /Library/Frameworks/Python.framework/Versions/3.6/lib/python3.6/site-packages (from cycler>=0.10->matplotlib) (1.16.0)\r\n"
     ]
    }
   ],
   "source": [
    "# to install any libraries pip install library\n",
    "!pip install matplotlib"
   ]
  },
  {
   "cell_type": "code",
   "execution_count": 211,
   "id": "respective-inspection",
   "metadata": {},
   "outputs": [],
   "source": [
    "import random as rd"
   ]
  },
  {
   "cell_type": "code",
   "execution_count": 213,
   "id": "approved-dayton",
   "metadata": {},
   "outputs": [],
   "source": [
    "from math import sin, factorial, cos"
   ]
  },
  {
   "cell_type": "code",
   "execution_count": 215,
   "id": "dried-dynamics",
   "metadata": {},
   "outputs": [
    {
     "data": {
      "text/plain": [
       "(0.8939966636005579, 24)"
      ]
     },
     "execution_count": 215,
     "metadata": {},
     "output_type": "execute_result"
    }
   ],
   "source": [
    "sin(90), factorial(4)"
   ]
  },
  {
   "cell_type": "code",
   "execution_count": 212,
   "id": "wireless-cancellation",
   "metadata": {},
   "outputs": [
    {
     "data": {
      "text/plain": [
       "9"
      ]
     },
     "execution_count": 212,
     "metadata": {},
     "output_type": "execute_result"
    }
   ],
   "source": [
    "rd.randint(1,10)"
   ]
  },
  {
   "cell_type": "markdown",
   "id": "demographic-underground",
   "metadata": {},
   "source": [
    "#### Visualization"
   ]
  },
  {
   "cell_type": "code",
   "execution_count": 218,
   "id": "adverse-asian",
   "metadata": {},
   "outputs": [],
   "source": [
    "x = list(range(1,10))\n",
    "y = [rd.randint(1,100) for i in range(len(x))]"
   ]
  },
  {
   "cell_type": "code",
   "execution_count": 220,
   "id": "seven-arthritis",
   "metadata": {},
   "outputs": [],
   "source": [
    "import matplotlib.pyplot as plt"
   ]
  },
  {
   "cell_type": "code",
   "execution_count": 222,
   "id": "opposite-behavior",
   "metadata": {},
   "outputs": [
    {
     "data": {
      "image/png": "[encoded data removed]",
      "text/plain": [
       "<Figure size 432x288 with 1 Axes>"
      ]
     },
     "metadata": {
      "needs_background": "light"
     },
     "output_type": "display_data"
    }
   ],
   "source": [
    "plt.plot(x,y)\n",
    "plt.xlabel(\"x\")\n",
    "plt.ylabel(\"y\")\n",
    "plt.title(\"Line Chart\")\n",
    "plt.show()"
   ]
  },
  {
   "cell_type": "code",
   "execution_count": 230,
   "id": "threaded-evolution",
   "metadata": {},
   "outputs": [
    {
     "data": {
      "image/png": "[encoded data removed]",
      "text/plain": [
       "<Figure size 432x288 with 1 Axes>"
      ]
     },
     "metadata": {
      "needs_background": "light"
     },
     "output_type": "display_data"
    }
   ],
   "source": [
    "plt.plot(x,y, color=\"green\", marker=\"s\")\n",
    "plt.xlabel(\"x\")\n",
    "plt.ylabel(\"y\")\n",
    "plt.title(\"Line Chart\")\n",
    "plt.show()"
   ]
  },
  {
   "cell_type": "code",
   "execution_count": 232,
   "id": "amber-holiday",
   "metadata": {},
   "outputs": [
    {
     "data": {
      "image/png": "[encoded data removed]",
      "text/plain": [
       "<Figure size 432x288 with 1 Axes>"
      ]
     },
     "metadata": {
      "needs_background": "light"
     },
     "output_type": "display_data"
    }
   ],
   "source": [
    "plt.scatter(x,y, color=\"green\", marker=\"s\")\n",
    "plt.xlabel(\"x\")\n",
    "plt.ylabel(\"y\")\n",
    "plt.title(\"Scatter Chart\")\n",
    "plt.show()"
   ]
  },
  {
   "cell_type": "code",
   "execution_count": 235,
   "id": "crazy-turkish",
   "metadata": {},
   "outputs": [
    {
     "data": {
      "image/png": "[encoded data removed]",
      "text/plain": [
       "<Figure size 432x288 with 1 Axes>"
      ]
     },
     "metadata": {
      "needs_background": "light"
     },
     "output_type": "display_data"
    }
   ],
   "source": [
    "plt.bar([\"apple\", \"banana\", \"carrort\"], y[:3], facecolor=\"red\")\n",
    "plt.show()"
   ]
  },
  {
   "cell_type": "code",
   "execution_count": 243,
   "id": "comic-village",
   "metadata": {},
   "outputs": [
    {
     "data": {
      "image/png": "[encoded data removed]",
      "text/plain": [
       "<Figure size 432x288 with 1 Axes>"
      ]
     },
     "metadata": {
      "needs_background": "light"
     },
     "output_type": "display_data"
    }
   ],
   "source": [
    "plt.barh([\"apple\", \"banana\", \"carrort\"], y[:3], facecolor=\"red\")\n",
    "plt.show()"
   ]
  },
  {
   "cell_type": "code",
   "execution_count": 245,
   "id": "average-batch",
   "metadata": {},
   "outputs": [
    {
     "data": {
      "image/png": "[encoded data removed]",
      "text/plain": [
       "<Figure size 432x288 with 1 Axes>"
      ]
     },
     "metadata": {
      "needs_background": "light"
     },
     "output_type": "display_data"
    }
   ],
   "source": [
    "plt.boxplot(y)\n",
    "plt.show()"
   ]
  },
  {
   "cell_type": "code",
   "execution_count": 246,
   "id": "aerial-violin",
   "metadata": {},
   "outputs": [
    {
     "data": {
      "text/plain": [
       "[40, 41, 12, 54, 1, 28, 62, 98, 72]"
      ]
     },
     "execution_count": 246,
     "metadata": {},
     "output_type": "execute_result"
    }
   ],
   "source": [
    "y"
   ]
  },
  {
   "cell_type": "code",
   "execution_count": 249,
   "id": "potential-waters",
   "metadata": {},
   "outputs": [
    {
     "data": {
      "image/png": "[encoded data removed]",
      "text/plain": [
       "<Figure size 432x288 with 1 Axes>"
      ]
     },
     "metadata": {},
     "output_type": "display_data"
    }
   ],
   "source": [
    "plt.pie(y[:8], labels=listElements)\n",
    "plt.show()"
   ]
  },
  {
   "cell_type": "markdown",
   "id": "arabic-dinner",
   "metadata": {},
   "source": [
    "### Libraries to be practiced "
   ]
  },
  {
   "cell_type": "markdown",
   "id": "theoretical-pioneer",
   "metadata": {},
   "source": [
    "1. pandas\n",
    "2. matplotlib\n",
    "3. scikit_learn\n",
    "4. image processing -> opencv\n",
    "5. NLP -> nltk\n",
    "6. spacy\n"
   ]
  },
  {
   "cell_type": "markdown",
   "id": "regulation-norfolk",
   "metadata": {},
   "source": [
    "### Machine Learning"
   ]
  },
  {
   "cell_type": "markdown",
   "id": "moderate-dating",
   "metadata": {},
   "source": [
    "#### List of algorithms"
   ]
  },
  {
   "cell_type": "markdown",
   "id": "civilian-consumer",
   "metadata": {
    "deletable": false,
    "editable": false
   },
   "source": [
    "- Linear Regression\n",
    "- Logistic Regression\n",
    "- SVM\n",
    "- KNN\n",
    "- K-Means\n",
    "- Hierarchical\n",
    "- Random Forest\n",
    "- Adaboost Forest\n",
    "- Stacking Classifier\n",
    "- PCA\n",
    "- Aprior \n",
    "- Topic Modeling - TF-IDF\n",
    "- Natural Language Processing \n",
    "- ChatGPT"
   ]
  },
  {
   "cell_type": "markdown",
   "id": "intense-nomination",
   "metadata": {},
   "source": [
    "#### Metrics"
   ]
  },
  {
   "cell_type": "markdown",
   "id": "southwest-roommate",
   "metadata": {},
   "source": [
    "##### Error - Regression"
   ]
  },
  {
   "cell_type": "code",
   "execution_count": 5,
   "id": "lyric-memory",
   "metadata": {},
   "outputs": [],
   "source": [
    "import numpy as np"
   ]
  },
  {
   "cell_type": "code",
   "execution_count": 2,
   "id": "split-steering",
   "metadata": {},
   "outputs": [
    {
     "data": {
      "text/plain": [
       "1.5"
      ]
     },
     "execution_count": 2,
     "metadata": {},
     "output_type": "execute_result"
    }
   ],
   "source": [
    "y_actual = 20\n",
    "y_predict = 18.5\n",
    "# absolute \n",
    "error = y_actual - y_predict\n",
    "error "
   ]
  },
  {
   "cell_type": "code",
   "execution_count": 6,
   "id": "electoral-train",
   "metadata": {},
   "outputs": [
    {
     "data": {
      "text/plain": [
       "0.8200000000000003"
      ]
     },
     "execution_count": 6,
     "metadata": {},
     "output_type": "execute_result"
    }
   ],
   "source": [
    "y_actual = [20, 18, 19.5, 21, 23]\n",
    "y_predict = [18.5, 19.4, 20, 18.5, 21]\n",
    "# mean absolute error\n",
    "error = [x-y for x,y in zip(y_actual , y_predict)]\n",
    "np.mean(error)"
   ]
  },
  {
   "cell_type": "code",
   "execution_count": 7,
   "id": "instrumental-allen",
   "metadata": {},
   "outputs": [
    {
     "data": {
      "text/plain": [
       "0.0"
      ]
     },
     "execution_count": 7,
     "metadata": {},
     "output_type": "execute_result"
    }
   ],
   "source": [
    "y_actual = [20, 18]\n",
    "y_predict = [18, 20]\n",
    "# mean absolute error\n",
    "error = [x-y for x,y in zip(y_actual , y_predict)]\n",
    "np.mean(error)"
   ]
  },
  {
   "cell_type": "code",
   "execution_count": 8,
   "id": "anonymous-thumbnail",
   "metadata": {},
   "outputs": [
    {
     "data": {
      "text/plain": [
       "4.0"
      ]
     },
     "execution_count": 8,
     "metadata": {},
     "output_type": "execute_result"
    }
   ],
   "source": [
    "y_actual = [20, 18]\n",
    "y_predict = [18, 20]\n",
    "# mean square error\n",
    "error = [(x-y) ** 2 for x,y in zip(y_actual , y_predict)]\n",
    "np.mean(error)"
   ]
  },
  {
   "cell_type": "code",
   "execution_count": 9,
   "id": "gross-guitar",
   "metadata": {},
   "outputs": [
    {
     "data": {
      "text/plain": [
       "2.0"
      ]
     },
     "execution_count": 9,
     "metadata": {},
     "output_type": "execute_result"
    }
   ],
   "source": [
    "y_actual = [20, 18]\n",
    "y_predict = [18, 20]\n",
    "# root mean square error\n",
    "error = [(x-y) ** 2 for x,y in zip(y_actual , y_predict)]\n",
    "np.sqrt(np.mean(error))"
   ]
  },
  {
   "cell_type": "markdown",
   "id": "antique-increase",
   "metadata": {},
   "source": [
    "##### Accuracy - Classification"
   ]
  },
  {
   "cell_type": "markdown",
   "id": "third-joining",
   "metadata": {},
   "source": [
    "precision, Recall  and Accuracy\n",
    "\n",
    "<img src=\"https://www.researchgate.net/publication/336402347/figure/fig3/AS:812472659349505@1570719985505/Calculation-of-Precision-Recall-and-Accuracy-in-the-confusion-matrix.ppm\" alt=\"Alternative text\" />\n"
   ]
  },
  {
   "cell_type": "markdown",
   "id": "difficult-reserve",
   "metadata": {},
   "source": [
    "#### Steps to Implement"
   ]
  },
  {
   "cell_type": "markdown",
   "id": "western-theater",
   "metadata": {},
   "source": [
    "<img src=\"https://d1m75rqqgidzqn.cloudfront.net/2019/10/what-is-machine-learning-7-steps-of-machine-learning.jpg\" />"
   ]
  },
  {
   "cell_type": "markdown",
   "id": "secondary-divide",
   "metadata": {},
   "source": [
    "#### Linear Regression"
   ]
  },
  {
   "cell_type": "markdown",
   "id": "martial-conducting",
   "metadata": {},
   "source": [
    "     single input and single output\n",
    "            \n",
    "            y = mx + c\n",
    "\n",
    "    multiple input and single output\n",
    "        \n",
    "            y = m1x1 + m2x2 + m3x3 +.....+ c\n",
    "            \n",
    "OLS method is used to find the m's and c value\n",
    "\n",
    "<img src=\"https://i.stack.imgur.com/OjlaY.png\" />"
   ]
  },
  {
   "cell_type": "code",
   "execution_count": 45,
   "id": "annoying-split",
   "metadata": {},
   "outputs": [
    {
     "name": "stdout",
     "output_type": "stream",
     "text": [
      "Coefficients:\n",
      "beta_0 (Intercept): 2.0\n",
      "beta_2 (X2 Coefficient): 1.0\n"
     ]
    }
   ],
   "source": [
    "import numpy as np\n",
    "\n",
    "# Sample data: two input variables (X1 and X2) and one output variable (Y)\n",
    "X1 = np.array([3, 2, 3, 4, 5])\n",
    "# X2 = np.array([2, 3, 4, 5, 6])\n",
    "# Y = np.array([7, 8, 11, 14, 17])\n",
    "Y = np.array([7, 5, 7, 9, 11])\n",
    "\n",
    "# Step 1: Calculate the mean of X1, X2, and Y\n",
    "mean_X1 = np.mean(X1)\n",
    "mean_X2 = np.mean(X2)\n",
    "mean_Y = np.mean(Y)\n",
    "\n",
    "# Step 2: Calculate the deviations from the mean\n",
    "dev_X1 = X1 - mean_X1\n",
    "dev_X2 = X2 - mean_X2\n",
    "dev_Y = Y - mean_Y\n",
    "\n",
    "# Step 3: Calculate the coefficients (beta_0, beta_1, and beta_2)\n",
    "beta_0 = np.sum(dev_Y * dev_X1) / np.sum(dev_X1**2)\n",
    "beta_1 = np.sum(dev_Y * dev_X2) / np.sum(dev_X2**2)\n",
    "beta_2 = mean_Y - (beta_0 * mean_X1) - (beta_1 * mean_X2)\n",
    "\n",
    "# Step 4: Print the coefficients\n",
    "print(\"Coefficients:\")\n",
    "print(f\"beta_0 (Intercept): {beta_0}\")\n",
    "# print(f\"beta_1 (X1 Coefficient): {beta_1}\")\n",
    "print(f\"beta_2 (X2 Coefficient): {beta_2}\")\n"
   ]
  },
  {
   "cell_type": "code",
   "execution_count": 42,
   "id": "coordinate-share",
   "metadata": {},
   "outputs": [
    {
     "data": {
      "text/plain": [
       "4.876923076923077"
      ]
     },
     "execution_count": 42,
     "metadata": {},
     "output_type": "execute_result"
    }
   ],
   "source": [
    "beta_0 * 3 + beta_1 * 2 + beta_2"
   ]
  },
  {
   "cell_type": "code",
   "execution_count": 103,
   "id": "decent-bouquet",
   "metadata": {},
   "outputs": [],
   "source": [
    "import pandas as pd\n",
    "import numpy as np\n",
    "from sklearn.model_selection import train_test_split\n",
    "from sklearn.linear_model import LinearRegression\n",
    "from sklearn.metrics import mean_squared_error"
   ]
  },
  {
   "cell_type": "code",
   "execution_count": 110,
   "id": "union-despite",
   "metadata": {},
   "outputs": [],
   "source": [
    "# Step-1 load dataset\n",
    "dataset = pd.read_csv(\"./Advertising.csv\", index_col=0)"
   ]
  },
  {
   "cell_type": "code",
   "execution_count": 111,
   "id": "shaped-bridge",
   "metadata": {},
   "outputs": [
    {
     "data": {
      "text/html": [
       "<div>\n",
       "<style scoped>\n",
       "    .dataframe tbody tr th:only-of-type {\n",
       "        vertical-align: middle;\n",
       "    }\n",
       "\n",
       "    .dataframe tbody tr th {\n",
       "        vertical-align: top;\n",
       "    }\n",
       "\n",
       "    .dataframe thead th {\n",
       "        text-align: right;\n",
       "    }\n",
       "</style>\n",
       "<table border=\"1\" class=\"dataframe\">\n",
       "  <thead>\n",
       "    <tr style=\"text-align: right;\">\n",
       "      <th></th>\n",
       "      <th>TV</th>\n",
       "      <th>radio</th>\n",
       "      <th>newspaper</th>\n",
       "      <th>sales</th>\n",
       "    </tr>\n",
       "  </thead>\n",
       "  <tbody>\n",
       "    <tr>\n",
       "      <th>1</th>\n",
       "      <td>230.1</td>\n",
       "      <td>37.8</td>\n",
       "      <td>69.2</td>\n",
       "      <td>22.1</td>\n",
       "    </tr>\n",
       "    <tr>\n",
       "      <th>2</th>\n",
       "      <td>44.5</td>\n",
       "      <td>39.3</td>\n",
       "      <td>45.1</td>\n",
       "      <td>10.4</td>\n",
       "    </tr>\n",
       "    <tr>\n",
       "      <th>3</th>\n",
       "      <td>17.2</td>\n",
       "      <td>45.9</td>\n",
       "      <td>69.3</td>\n",
       "      <td>9.3</td>\n",
       "    </tr>\n",
       "    <tr>\n",
       "      <th>4</th>\n",
       "      <td>151.5</td>\n",
       "      <td>41.3</td>\n",
       "      <td>58.5</td>\n",
       "      <td>18.5</td>\n",
       "    </tr>\n",
       "    <tr>\n",
       "      <th>5</th>\n",
       "      <td>180.8</td>\n",
       "      <td>10.8</td>\n",
       "      <td>58.4</td>\n",
       "      <td>12.9</td>\n",
       "    </tr>\n",
       "  </tbody>\n",
       "</table>\n",
       "</div>"
      ],
      "text/plain": [
       "      TV  radio  newspaper  sales\n",
       "1  230.1   37.8       69.2   22.1\n",
       "2   44.5   39.3       45.1   10.4\n",
       "3   17.2   45.9       69.3    9.3\n",
       "4  151.5   41.3       58.5   18.5\n",
       "5  180.8   10.8       58.4   12.9"
      ]
     },
     "execution_count": 111,
     "metadata": {},
     "output_type": "execute_result"
    }
   ],
   "source": [
    "dataset.head()"
   ]
  },
  {
   "cell_type": "code",
   "execution_count": 112,
   "id": "fossil-possible",
   "metadata": {},
   "outputs": [
    {
     "data": {
      "text/plain": [
       "(200, 4)"
      ]
     },
     "execution_count": 112,
     "metadata": {},
     "output_type": "execute_result"
    }
   ],
   "source": [
    "dataset.shape"
   ]
  },
  {
   "cell_type": "code",
   "execution_count": 113,
   "id": "collaborative-designation",
   "metadata": {
    "scrolled": false
   },
   "outputs": [
    {
     "data": {
      "text/html": [
       "<div>\n",
       "<style scoped>\n",
       "    .dataframe tbody tr th:only-of-type {\n",
       "        vertical-align: middle;\n",
       "    }\n",
       "\n",
       "    .dataframe tbody tr th {\n",
       "        vertical-align: top;\n",
       "    }\n",
       "\n",
       "    .dataframe thead th {\n",
       "        text-align: right;\n",
       "    }\n",
       "</style>\n",
       "<table border=\"1\" class=\"dataframe\">\n",
       "  <thead>\n",
       "    <tr style=\"text-align: right;\">\n",
       "      <th></th>\n",
       "      <th>TV</th>\n",
       "      <th>radio</th>\n",
       "      <th>newspaper</th>\n",
       "      <th>sales</th>\n",
       "    </tr>\n",
       "  </thead>\n",
       "  <tbody>\n",
       "    <tr>\n",
       "      <th>count</th>\n",
       "      <td>200.000000</td>\n",
       "      <td>200.000000</td>\n",
       "      <td>200.000000</td>\n",
       "      <td>199.000000</td>\n",
       "    </tr>\n",
       "    <tr>\n",
       "      <th>mean</th>\n",
       "      <td>147.042500</td>\n",
       "      <td>23.264000</td>\n",
       "      <td>30.554000</td>\n",
       "      <td>14.002513</td>\n",
       "    </tr>\n",
       "    <tr>\n",
       "      <th>std</th>\n",
       "      <td>85.854236</td>\n",
       "      <td>14.846809</td>\n",
       "      <td>21.778621</td>\n",
       "      <td>5.222933</td>\n",
       "    </tr>\n",
       "    <tr>\n",
       "      <th>min</th>\n",
       "      <td>0.700000</td>\n",
       "      <td>0.000000</td>\n",
       "      <td>0.300000</td>\n",
       "      <td>1.600000</td>\n",
       "    </tr>\n",
       "    <tr>\n",
       "      <th>25%</th>\n",
       "      <td>74.375000</td>\n",
       "      <td>9.975000</td>\n",
       "      <td>12.750000</td>\n",
       "      <td>10.350000</td>\n",
       "    </tr>\n",
       "    <tr>\n",
       "      <th>50%</th>\n",
       "      <td>149.750000</td>\n",
       "      <td>22.900000</td>\n",
       "      <td>25.750000</td>\n",
       "      <td>12.900000</td>\n",
       "    </tr>\n",
       "    <tr>\n",
       "      <th>75%</th>\n",
       "      <td>218.825000</td>\n",
       "      <td>36.525000</td>\n",
       "      <td>45.100000</td>\n",
       "      <td>17.350000</td>\n",
       "    </tr>\n",
       "    <tr>\n",
       "      <th>max</th>\n",
       "      <td>296.400000</td>\n",
       "      <td>49.600000</td>\n",
       "      <td>114.000000</td>\n",
       "      <td>27.000000</td>\n",
       "    </tr>\n",
       "  </tbody>\n",
       "</table>\n",
       "</div>"
      ],
      "text/plain": [
       "               TV       radio   newspaper       sales\n",
       "count  200.000000  200.000000  200.000000  199.000000\n",
       "mean   147.042500   23.264000   30.554000   14.002513\n",
       "std     85.854236   14.846809   21.778621    5.222933\n",
       "min      0.700000    0.000000    0.300000    1.600000\n",
       "25%     74.375000    9.975000   12.750000   10.350000\n",
       "50%    149.750000   22.900000   25.750000   12.900000\n",
       "75%    218.825000   36.525000   45.100000   17.350000\n",
       "max    296.400000   49.600000  114.000000   27.000000"
      ]
     },
     "execution_count": 113,
     "metadata": {},
     "output_type": "execute_result"
    }
   ],
   "source": [
    "dataset.describe()"
   ]
  },
  {
   "cell_type": "code",
   "execution_count": 114,
   "id": "operational-vector",
   "metadata": {},
   "outputs": [
    {
     "data": {
      "text/plain": [
       "<AxesSubplot:>"
      ]
     },
     "execution_count": 114,
     "metadata": {},
     "output_type": "execute_result"
    },
    {
     "data": {
      "image/png": "[encoded data removed]",
      "text/plain": [
       "<Figure size 432x288 with 1 Axes>"
      ]
     },
     "metadata": {
      "needs_background": "light"
     },
     "output_type": "display_data"
    }
   ],
   "source": [
    "dataset.plot(kind=\"box\")"
   ]
  },
  {
   "cell_type": "code",
   "execution_count": 115,
   "id": "manual-thing",
   "metadata": {},
   "outputs": [
    {
     "data": {
      "text/plain": [
       "TV           False\n",
       "radio        False\n",
       "newspaper    False\n",
       "sales         True\n",
       "dtype: bool"
      ]
     },
     "execution_count": 115,
     "metadata": {},
     "output_type": "execute_result"
    }
   ],
   "source": [
    "dataset.isnull().any()"
   ]
  },
  {
   "cell_type": "code",
   "execution_count": 116,
   "id": "generous-graphic",
   "metadata": {},
   "outputs": [
    {
     "data": {
      "text/plain": [
       "TV           False\n",
       "radio        False\n",
       "newspaper    False\n",
       "sales         True\n",
       "dtype: bool"
      ]
     },
     "execution_count": 116,
     "metadata": {},
     "output_type": "execute_result"
    }
   ],
   "source": [
    "dataset.isna().any()"
   ]
  },
  {
   "cell_type": "code",
   "execution_count": 118,
   "id": "reserved-panama",
   "metadata": {},
   "outputs": [
    {
     "data": {
      "text/plain": [
       "TV           False\n",
       "radio        False\n",
       "newspaper    False\n",
       "sales        False\n",
       "dtype: bool"
      ]
     },
     "execution_count": 118,
     "metadata": {},
     "output_type": "execute_result"
    }
   ],
   "source": [
    "dataset.fillna(value=np.mean(dataset['sales'])).isna().any()"
   ]
  },
  {
   "cell_type": "code",
   "execution_count": 72,
   "id": "aging-throw",
   "metadata": {},
   "outputs": [],
   "source": [
    "# feature extraction\n",
    "X = dataset.loc[:, \"TV\":'newspaper']\n",
    "y = dataset['sales']"
   ]
  },
  {
   "cell_type": "code",
   "execution_count": 73,
   "id": "shaped-encyclopedia",
   "metadata": {},
   "outputs": [
    {
     "data": {
      "text/html": [
       "<div>\n",
       "<style scoped>\n",
       "    .dataframe tbody tr th:only-of-type {\n",
       "        vertical-align: middle;\n",
       "    }\n",
       "\n",
       "    .dataframe tbody tr th {\n",
       "        vertical-align: top;\n",
       "    }\n",
       "\n",
       "    .dataframe thead th {\n",
       "        text-align: right;\n",
       "    }\n",
       "</style>\n",
       "<table border=\"1\" class=\"dataframe\">\n",
       "  <thead>\n",
       "    <tr style=\"text-align: right;\">\n",
       "      <th></th>\n",
       "      <th>TV</th>\n",
       "      <th>radio</th>\n",
       "      <th>newspaper</th>\n",
       "    </tr>\n",
       "  </thead>\n",
       "  <tbody>\n",
       "    <tr>\n",
       "      <th>1</th>\n",
       "      <td>230.1</td>\n",
       "      <td>37.8</td>\n",
       "      <td>69.2</td>\n",
       "    </tr>\n",
       "    <tr>\n",
       "      <th>2</th>\n",
       "      <td>44.5</td>\n",
       "      <td>39.3</td>\n",
       "      <td>45.1</td>\n",
       "    </tr>\n",
       "    <tr>\n",
       "      <th>3</th>\n",
       "      <td>17.2</td>\n",
       "      <td>45.9</td>\n",
       "      <td>69.3</td>\n",
       "    </tr>\n",
       "    <tr>\n",
       "      <th>4</th>\n",
       "      <td>151.5</td>\n",
       "      <td>41.3</td>\n",
       "      <td>58.5</td>\n",
       "    </tr>\n",
       "    <tr>\n",
       "      <th>5</th>\n",
       "      <td>180.8</td>\n",
       "      <td>10.8</td>\n",
       "      <td>58.4</td>\n",
       "    </tr>\n",
       "  </tbody>\n",
       "</table>\n",
       "</div>"
      ],
      "text/plain": [
       "      TV  radio  newspaper\n",
       "1  230.1   37.8       69.2\n",
       "2   44.5   39.3       45.1\n",
       "3   17.2   45.9       69.3\n",
       "4  151.5   41.3       58.5\n",
       "5  180.8   10.8       58.4"
      ]
     },
     "execution_count": 73,
     "metadata": {},
     "output_type": "execute_result"
    }
   ],
   "source": [
    "X.head()"
   ]
  },
  {
   "cell_type": "code",
   "execution_count": 92,
   "id": "returning-stand",
   "metadata": {},
   "outputs": [],
   "source": [
    "# step-2 spliting dataset\n",
    "X_train, X_test, y_train, y_test = train_test_split(X, y, test_size=0.1, random_state=3)"
   ]
  },
  {
   "cell_type": "code",
   "execution_count": 93,
   "id": "innovative-opinion",
   "metadata": {},
   "outputs": [
    {
     "data": {
      "text/plain": [
       "((180, 3), (20, 3))"
      ]
     },
     "execution_count": 93,
     "metadata": {},
     "output_type": "execute_result"
    }
   ],
   "source": [
    "X_train.shape, X_test.shape"
   ]
  },
  {
   "cell_type": "code",
   "execution_count": 94,
   "id": "brutal-acting",
   "metadata": {},
   "outputs": [
    {
     "data": {
      "text/html": [
       "<div>\n",
       "<style scoped>\n",
       "    .dataframe tbody tr th:only-of-type {\n",
       "        vertical-align: middle;\n",
       "    }\n",
       "\n",
       "    .dataframe tbody tr th {\n",
       "        vertical-align: top;\n",
       "    }\n",
       "\n",
       "    .dataframe thead th {\n",
       "        text-align: right;\n",
       "    }\n",
       "</style>\n",
       "<table border=\"1\" class=\"dataframe\">\n",
       "  <thead>\n",
       "    <tr style=\"text-align: right;\">\n",
       "      <th></th>\n",
       "      <th>TV</th>\n",
       "      <th>radio</th>\n",
       "      <th>newspaper</th>\n",
       "    </tr>\n",
       "  </thead>\n",
       "  <tbody>\n",
       "    <tr>\n",
       "      <th>15</th>\n",
       "      <td>204.1</td>\n",
       "      <td>32.9</td>\n",
       "      <td>46.0</td>\n",
       "    </tr>\n",
       "    <tr>\n",
       "      <th>144</th>\n",
       "      <td>104.6</td>\n",
       "      <td>5.7</td>\n",
       "      <td>34.4</td>\n",
       "    </tr>\n",
       "    <tr>\n",
       "      <th>13</th>\n",
       "      <td>23.8</td>\n",
       "      <td>35.1</td>\n",
       "      <td>65.9</td>\n",
       "    </tr>\n",
       "    <tr>\n",
       "      <th>7</th>\n",
       "      <td>57.5</td>\n",
       "      <td>32.8</td>\n",
       "      <td>23.5</td>\n",
       "    </tr>\n",
       "    <tr>\n",
       "      <th>183</th>\n",
       "      <td>56.2</td>\n",
       "      <td>5.7</td>\n",
       "      <td>29.7</td>\n",
       "    </tr>\n",
       "  </tbody>\n",
       "</table>\n",
       "</div>"
      ],
      "text/plain": [
       "        TV  radio  newspaper\n",
       "15   204.1   32.9       46.0\n",
       "144  104.6    5.7       34.4\n",
       "13    23.8   35.1       65.9\n",
       "7     57.5   32.8       23.5\n",
       "183   56.2    5.7       29.7"
      ]
     },
     "execution_count": 94,
     "metadata": {},
     "output_type": "execute_result"
    }
   ],
   "source": [
    "X_train.head()"
   ]
  },
  {
   "cell_type": "code",
   "execution_count": 96,
   "id": "ruled-divide",
   "metadata": {},
   "outputs": [],
   "source": [
    "# step-3 defininig model\n",
    "model = LinearRegression()"
   ]
  },
  {
   "cell_type": "code",
   "execution_count": 97,
   "id": "decreased-inquiry",
   "metadata": {},
   "outputs": [
    {
     "data": {
      "text/plain": [
       "LinearRegression()"
      ]
     },
     "execution_count": 97,
     "metadata": {},
     "output_type": "execute_result"
    }
   ],
   "source": [
    "# step-4 training\n",
    "model.fit(X_train, y_train)"
   ]
  },
  {
   "cell_type": "code",
   "execution_count": 98,
   "id": "white-appearance",
   "metadata": {},
   "outputs": [
    {
     "data": {
      "text/plain": [
       "array([ 0.04593521,  0.1850863 , -0.00152064])"
      ]
     },
     "execution_count": 98,
     "metadata": {},
     "output_type": "execute_result"
    }
   ],
   "source": [
    "model.coef_"
   ]
  },
  {
   "cell_type": "code",
   "execution_count": 99,
   "id": "supposed-device",
   "metadata": {},
   "outputs": [
    {
     "data": {
      "text/plain": [
       "2.984036978558944"
      ]
     },
     "execution_count": 99,
     "metadata": {},
     "output_type": "execute_result"
    }
   ],
   "source": [
    "model.intercept_"
   ]
  },
  {
   "cell_type": "code",
   "execution_count": 100,
   "id": "dress-assumption",
   "metadata": {},
   "outputs": [],
   "source": [
    "# step-5 evaluation\n",
    "y_pred = model.predict(X_test)"
   ]
  },
  {
   "cell_type": "code",
   "execution_count": 101,
   "id": "alternate-guatemala",
   "metadata": {},
   "outputs": [
    {
     "data": {
      "text/plain": [
       "array([16.36528856,  9.36728585, 19.60016013, 12.82613894,  7.39981865,\n",
       "       10.1507892 , 24.04453141,  8.88249258, 17.73452864, 13.92017011,\n",
       "       12.41500687, 14.30821082, 15.67855222, 12.39670494, 12.3866775 ,\n",
       "       12.01417423, 16.25354153, 17.49832766, 17.23760224, 21.79013094])"
      ]
     },
     "execution_count": 101,
     "metadata": {},
     "output_type": "execute_result"
    }
   ],
   "source": [
    "y_pred"
   ]
  },
  {
   "cell_type": "code",
   "execution_count": 102,
   "id": "pending-federation",
   "metadata": {
    "collapsed": true
   },
   "outputs": [
    {
     "data": {
      "text/plain": [
       "41     16.6\n",
       "52     10.7\n",
       "140    20.7\n",
       "198    12.8\n",
       "171     8.4\n",
       "83     11.3\n",
       "184    26.2\n",
       "47     10.6\n",
       "71     18.3\n",
       "101    11.7\n",
       "180    12.6\n",
       "84     13.6\n",
       "26     12.0\n",
       "191    10.8\n",
       "160    12.9\n",
       "174    11.7\n",
       "96     16.9\n",
       "4      18.5\n",
       "42     17.1\n",
       "59     23.8\n",
       "Name: sales, dtype: float64"
      ]
     },
     "execution_count": 102,
     "metadata": {},
     "output_type": "execute_result"
    }
   ],
   "source": [
    "y_test"
   ]
  },
  {
   "cell_type": "code",
   "execution_count": 104,
   "id": "ready-valuation",
   "metadata": {},
   "outputs": [
    {
     "data": {
      "text/plain": [
       "1.4259444766605733"
      ]
     },
     "execution_count": 104,
     "metadata": {},
     "output_type": "execute_result"
    }
   ],
   "source": [
    "# step-6 metrics\n",
    "error  = np.sqrt(mean_squared_error(y_pred, y_test))\n",
    "error"
   ]
  },
  {
   "cell_type": "code",
   "execution_count": 105,
   "id": "discrete-tender",
   "metadata": {},
   "outputs": [
    {
     "data": {
      "text/plain": [
       "14.860000000000003"
      ]
     },
     "execution_count": 105,
     "metadata": {},
     "output_type": "execute_result"
    }
   ],
   "source": [
    "np.mean(y_test)"
   ]
  },
  {
   "cell_type": "code",
   "execution_count": 123,
   "id": "signal-basketball",
   "metadata": {},
   "outputs": [
    {
     "data": {
      "text/plain": [
       "array([28.30691623])"
      ]
     },
     "execution_count": 123,
     "metadata": {},
     "output_type": "execute_result"
    }
   ],
   "source": [
    "# usecase-1 : how much sales would i get?\n",
    "testData = [150,100,50]\n",
    "model.predict([testData])"
   ]
  },
  {
   "cell_type": "code",
   "execution_count": 124,
   "id": "plastic-swing",
   "metadata": {},
   "outputs": [
    {
     "data": {
      "text/plain": [
       "(array([28.30691623]), array([35.26447106]), array([23.5613319]))"
      ]
     },
     "execution_count": 124,
     "metadata": {},
     "output_type": "execute_result"
    }
   ],
   "source": [
    "# usecase-2 : On which platform i should invest more\n",
    "model.predict([[150,100,50]]), model.predict([[100,150,50]]), model.predict([[50,100,150]])"
   ]
  },
  {
   "cell_type": "code",
   "execution_count": 125,
   "id": "orange-concrete",
   "metadata": {},
   "outputs": [
    {
     "data": {
      "text/plain": [
       "(array([28.3829481]), array([35.34050293]))"
      ]
     },
     "execution_count": 125,
     "metadata": {},
     "output_type": "execute_result"
    }
   ],
   "source": [
    "model.predict([[150,100,0]]), model.predict([[100,150,0]])"
   ]
  },
  {
   "cell_type": "code",
   "execution_count": 128,
   "id": "silver-corner",
   "metadata": {},
   "outputs": [
    {
     "data": {
      "text/plain": [
       "(array([ 0.04593521,  0.1850863 , -0.00152064]), 2.984036978558944)"
      ]
     },
     "execution_count": 128,
     "metadata": {},
     "output_type": "execute_result"
    }
   ],
   "source": [
    "model.coef_, model.intercept_"
   ]
  },
  {
   "cell_type": "code",
   "execution_count": 129,
   "id": "everyday-solomon",
   "metadata": {},
   "outputs": [
    {
     "data": {
      "text/plain": [
       "35.340502978558945"
      ]
     },
     "execution_count": 129,
     "metadata": {},
     "output_type": "execute_result"
    }
   ],
   "source": [
    "100 * 0.04593521 + 150 * 0.1850863 + 2.984036978558944"
   ]
  },
  {
   "cell_type": "code",
   "execution_count": 130,
   "id": "promising-health",
   "metadata": {},
   "outputs": [
    {
     "data": {
      "text/html": [
       "<div>\n",
       "<style scoped>\n",
       "    .dataframe tbody tr th:only-of-type {\n",
       "        vertical-align: middle;\n",
       "    }\n",
       "\n",
       "    .dataframe tbody tr th {\n",
       "        vertical-align: top;\n",
       "    }\n",
       "\n",
       "    .dataframe thead th {\n",
       "        text-align: right;\n",
       "    }\n",
       "</style>\n",
       "<table border=\"1\" class=\"dataframe\">\n",
       "  <thead>\n",
       "    <tr style=\"text-align: right;\">\n",
       "      <th></th>\n",
       "      <th>TV</th>\n",
       "      <th>radio</th>\n",
       "      <th>newspaper</th>\n",
       "      <th>sales</th>\n",
       "    </tr>\n",
       "  </thead>\n",
       "  <tbody>\n",
       "    <tr>\n",
       "      <th>1</th>\n",
       "      <td>230.1</td>\n",
       "      <td>37.8</td>\n",
       "      <td>69.2</td>\n",
       "      <td>22.1</td>\n",
       "    </tr>\n",
       "    <tr>\n",
       "      <th>2</th>\n",
       "      <td>44.5</td>\n",
       "      <td>39.3</td>\n",
       "      <td>45.1</td>\n",
       "      <td>10.4</td>\n",
       "    </tr>\n",
       "    <tr>\n",
       "      <th>3</th>\n",
       "      <td>17.2</td>\n",
       "      <td>45.9</td>\n",
       "      <td>69.3</td>\n",
       "      <td>9.3</td>\n",
       "    </tr>\n",
       "    <tr>\n",
       "      <th>4</th>\n",
       "      <td>151.5</td>\n",
       "      <td>41.3</td>\n",
       "      <td>58.5</td>\n",
       "      <td>18.5</td>\n",
       "    </tr>\n",
       "    <tr>\n",
       "      <th>5</th>\n",
       "      <td>180.8</td>\n",
       "      <td>10.8</td>\n",
       "      <td>58.4</td>\n",
       "      <td>12.9</td>\n",
       "    </tr>\n",
       "  </tbody>\n",
       "</table>\n",
       "</div>"
      ],
      "text/plain": [
       "      TV  radio  newspaper  sales\n",
       "1  230.1   37.8       69.2   22.1\n",
       "2   44.5   39.3       45.1   10.4\n",
       "3   17.2   45.9       69.3    9.3\n",
       "4  151.5   41.3       58.5   18.5\n",
       "5  180.8   10.8       58.4   12.9"
      ]
     },
     "execution_count": 130,
     "metadata": {},
     "output_type": "execute_result"
    }
   ],
   "source": [
    "dataset.head()"
   ]
  },
  {
   "cell_type": "code",
   "execution_count": 131,
   "id": "aware-yesterday",
   "metadata": {},
   "outputs": [
    {
     "data": {
      "text/html": [
       "<div>\n",
       "<style scoped>\n",
       "    .dataframe tbody tr th:only-of-type {\n",
       "        vertical-align: middle;\n",
       "    }\n",
       "\n",
       "    .dataframe tbody tr th {\n",
       "        vertical-align: top;\n",
       "    }\n",
       "\n",
       "    .dataframe thead th {\n",
       "        text-align: right;\n",
       "    }\n",
       "</style>\n",
       "<table border=\"1\" class=\"dataframe\">\n",
       "  <thead>\n",
       "    <tr style=\"text-align: right;\">\n",
       "      <th></th>\n",
       "      <th>TV</th>\n",
       "      <th>radio</th>\n",
       "      <th>newspaper</th>\n",
       "      <th>sales</th>\n",
       "    </tr>\n",
       "  </thead>\n",
       "  <tbody>\n",
       "    <tr>\n",
       "      <th>196</th>\n",
       "      <td>38.2</td>\n",
       "      <td>3.7</td>\n",
       "      <td>13.8</td>\n",
       "      <td>7.6</td>\n",
       "    </tr>\n",
       "    <tr>\n",
       "      <th>197</th>\n",
       "      <td>94.2</td>\n",
       "      <td>4.9</td>\n",
       "      <td>8.1</td>\n",
       "      <td>9.7</td>\n",
       "    </tr>\n",
       "    <tr>\n",
       "      <th>198</th>\n",
       "      <td>177.0</td>\n",
       "      <td>9.3</td>\n",
       "      <td>6.4</td>\n",
       "      <td>12.8</td>\n",
       "    </tr>\n",
       "    <tr>\n",
       "      <th>199</th>\n",
       "      <td>283.6</td>\n",
       "      <td>42.0</td>\n",
       "      <td>66.2</td>\n",
       "      <td>25.5</td>\n",
       "    </tr>\n",
       "    <tr>\n",
       "      <th>200</th>\n",
       "      <td>232.1</td>\n",
       "      <td>8.6</td>\n",
       "      <td>8.7</td>\n",
       "      <td>13.4</td>\n",
       "    </tr>\n",
       "  </tbody>\n",
       "</table>\n",
       "</div>"
      ],
      "text/plain": [
       "        TV  radio  newspaper  sales\n",
       "196   38.2    3.7       13.8    7.6\n",
       "197   94.2    4.9        8.1    9.7\n",
       "198  177.0    9.3        6.4   12.8\n",
       "199  283.6   42.0       66.2   25.5\n",
       "200  232.1    8.6        8.7   13.4"
      ]
     },
     "execution_count": 131,
     "metadata": {},
     "output_type": "execute_result"
    }
   ],
   "source": [
    "dataset.tail()"
   ]
  },
  {
   "cell_type": "code",
   "execution_count": 132,
   "id": "unlikely-vatican",
   "metadata": {},
   "outputs": [],
   "source": [
    "import matplotlib.pyplot as plt"
   ]
  },
  {
   "cell_type": "code",
   "execution_count": 135,
   "id": "missing-montana",
   "metadata": {},
   "outputs": [
    {
     "data": {
      "image/png": "[encoded data removed]",
      "text/plain": [
       "<Figure size 432x288 with 1 Axes>"
      ]
     },
     "metadata": {
      "needs_background": "light"
     },
     "output_type": "display_data"
    }
   ],
   "source": [
    "plt.plot(dataset.newspaper, 'r')\n",
    "plt.plot(dataset.sales, 'g')\n",
    "plt.show()"
   ]
  },
  {
   "cell_type": "code",
   "execution_count": 136,
   "id": "metropolitan-termination",
   "metadata": {},
   "outputs": [
    {
     "data": {
      "text/html": [
       "<div>\n",
       "<style scoped>\n",
       "    .dataframe tbody tr th:only-of-type {\n",
       "        vertical-align: middle;\n",
       "    }\n",
       "\n",
       "    .dataframe tbody tr th {\n",
       "        vertical-align: top;\n",
       "    }\n",
       "\n",
       "    .dataframe thead th {\n",
       "        text-align: right;\n",
       "    }\n",
       "</style>\n",
       "<table border=\"1\" class=\"dataframe\">\n",
       "  <thead>\n",
       "    <tr style=\"text-align: right;\">\n",
       "      <th></th>\n",
       "      <th>TV</th>\n",
       "      <th>radio</th>\n",
       "      <th>newspaper</th>\n",
       "      <th>sales</th>\n",
       "    </tr>\n",
       "  </thead>\n",
       "  <tbody>\n",
       "    <tr>\n",
       "      <th>TV</th>\n",
       "      <td>1.000000</td>\n",
       "      <td>0.054809</td>\n",
       "      <td>0.056648</td>\n",
       "      <td>0.781535</td>\n",
       "    </tr>\n",
       "    <tr>\n",
       "      <th>radio</th>\n",
       "      <td>0.054809</td>\n",
       "      <td>1.000000</td>\n",
       "      <td>0.354104</td>\n",
       "      <td>0.576048</td>\n",
       "    </tr>\n",
       "    <tr>\n",
       "      <th>newspaper</th>\n",
       "      <td>0.056648</td>\n",
       "      <td>0.354104</td>\n",
       "      <td>1.000000</td>\n",
       "      <td>0.225217</td>\n",
       "    </tr>\n",
       "    <tr>\n",
       "      <th>sales</th>\n",
       "      <td>0.781535</td>\n",
       "      <td>0.576048</td>\n",
       "      <td>0.225217</td>\n",
       "      <td>1.000000</td>\n",
       "    </tr>\n",
       "  </tbody>\n",
       "</table>\n",
       "</div>"
      ],
      "text/plain": [
       "                 TV     radio  newspaper     sales\n",
       "TV         1.000000  0.054809   0.056648  0.781535\n",
       "radio      0.054809  1.000000   0.354104  0.576048\n",
       "newspaper  0.056648  0.354104   1.000000  0.225217\n",
       "sales      0.781535  0.576048   0.225217  1.000000"
      ]
     },
     "execution_count": 136,
     "metadata": {},
     "output_type": "execute_result"
    }
   ],
   "source": [
    "dataset.corr()"
   ]
  },
  {
   "cell_type": "code",
   "execution_count": 142,
   "id": "sound-newcastle",
   "metadata": {},
   "outputs": [
    {
     "data": {
      "text/plain": [
       "1.4293999149492567"
      ]
     },
     "execution_count": 142,
     "metadata": {},
     "output_type": "execute_result"
    }
   ],
   "source": [
    "import pandas as pd\n",
    "import numpy as np\n",
    "from sklearn.model_selection import train_test_split\n",
    "from sklearn.linear_model import LinearRegression, Ridge\n",
    "from sklearn.metrics import mean_squared_error\n",
    "from sklearn.preprocessing import StandardScaler\n",
    "\n",
    "\n",
    "# Step-1 load dataset\n",
    "dataset = pd.read_csv(\"./Advertising.csv\", index_col=0)\n",
    "\n",
    "# feature extraction\n",
    "X = dataset.loc[:, \"TV\":'newspaper']\n",
    "y = dataset['sales']\n",
    "\n",
    "# step-2 spliting dataset\n",
    "X_train, X_test, y_train, y_test = train_test_split(X, y, test_size=0.1, random_state=3)\n",
    "\n",
    "# preprocessing\n",
    "scaler = StandardScaler()\n",
    "x_train = scaler.fit_transform(X_train)\n",
    "x_test = scaler.transform(X_test)\n",
    "\n",
    "# step-3 defininig model\n",
    "model = Ridge()\n",
    "\n",
    "# step-4 training\n",
    "model.fit(x_train, y_train)\n",
    "\n",
    "# step-5 evaluation\n",
    "y_pred = model.predict(x_test)\n",
    "\n",
    "# step-6 metrics\n",
    "error  = np.sqrt(mean_squared_error(y_pred, y_test))\n",
    "error"
   ]
  },
  {
   "cell_type": "code",
   "execution_count": 143,
   "id": "empty-modification",
   "metadata": {},
   "outputs": [
    {
     "data": {
      "text/plain": [
       "array([[ 0.66457985,  0.6612078 ,  0.69967585],\n",
       "       [-0.47361046, -1.18391809,  0.17285634],\n",
       "       [-1.39788962,  0.81044592,  1.60344379],\n",
       "       [-1.012392  ,  0.65442425, -0.32217233],\n",
       "       [-1.02726283, -1.18391809, -0.04059639],\n",
       "       [-0.68980942,  0.85793078,  0.84954691],\n",
       "       [ 0.84989325,  1.75335952, -1.24410646],\n",
       "       [ 0.89221791, -1.40777528, -0.68095458],\n",
       "       [ 1.72040865,  0.89184853,  3.1929854 ],\n",
       "       [-0.79733695,  0.29489604, -0.66278839],\n",
       "       [-0.17047434,  1.33277935, -0.07692877],\n",
       "       [ 1.07409958,  1.24459319, -0.5492497 ],\n",
       "       [-1.53630272,  0.93254984,  0.66334347],\n",
       "       [-0.57541843, -1.47561079, -1.05336147],\n",
       "       [-1.17711502,  0.24062763,  0.20464717],\n",
       "       [-0.59257708, -1.2381865 , -1.02157064],\n",
       "       [ 0.39804886, -0.83795699,  1.26282773],\n",
       "       [-1.36357233,  0.66799135, -0.51291732],\n",
       "       [-0.07667374, -0.5869656 , -0.92619814],\n",
       "       [-0.06523464, -1.44169303, -0.98069671],\n",
       "       [-0.59600881,  1.38026421,  0.90404548],\n",
       "       [-0.81106387,  0.80366237,  1.00395953],\n",
       "       [-1.62323987, -0.78368858, -1.13056778],\n",
       "       [ 0.5650597 ,  1.66517335,  1.01304262],\n",
       "       [ 1.31889629,  1.3259958 ,  1.09479047],\n",
       "       [ 1.49734623,  1.74657597,  0.50893085],\n",
       "       [-0.05379554,  0.24741118,  0.70875894],\n",
       "       [-1.6621328 ,  1.11570572, -0.99432135],\n",
       "       [ 0.94140604, -0.42416037, -0.19955055],\n",
       "       [ 0.28937742,  1.12248927,  0.32272741],\n",
       "       [-0.37866594, -0.39024262,  0.36360133],\n",
       "       [ 0.47926646, -0.40380972, -0.57649899],\n",
       "       [-0.41412714,  1.67195691,  0.94491941],\n",
       "       [-1.57405174,  0.27454539, -1.29406348],\n",
       "       [ 1.25140561,  0.25419473, -1.13965087],\n",
       "       [-1.5809152 ,  1.06822086,  0.90858703],\n",
       "       [ 1.54882217,  1.11570572,  1.1447475 ],\n",
       "       [ 1.68037181,  0.34916445,  0.57251252],\n",
       "       [ 1.49505841, -1.41455883, -0.31308923],\n",
       "       [ 0.484986  , -0.34275776, -0.22679983],\n",
       "       [-0.29172879,  0.36273155, -0.74453624],\n",
       "       [-0.18992081, -1.18391809,  0.03206837],\n",
       "       [-0.41412714, -0.6005327 ,  0.05023456],\n",
       "       [-1.60836904,  0.45770126, -0.96253052],\n",
       "       [ 1.68837918,  0.30846314, -1.30768813],\n",
       "       [ 0.8441737 ,  0.7019091 ,  0.65880192],\n",
       "       [-1.47338767, -1.29245491,  0.04569301],\n",
       "       [-0.55482806, -1.05503062, -1.06244456],\n",
       "       [ 1.0763874 , -1.07538128, -0.99432135],\n",
       "       [ 0.77096347,  0.09817306, -0.79449326],\n",
       "       [-1.57062001,  1.74657597,  2.01672461],\n",
       "       [-0.77560266,  1.60412139,  0.17739789],\n",
       "       [ 1.53509526, -0.88544185, -0.41754483],\n",
       "       [ 0.82930287, -1.20426875, -0.14505198],\n",
       "       [-1.45508512, -0.09854992,  0.89950393],\n",
       "       [ 0.79384167,  0.03033755,  1.22649535],\n",
       "       [ 0.21159155, -0.15281833,  0.76325751],\n",
       "       [-0.95748433, -0.71585307, -0.5583328 ],\n",
       "       [-0.56969889, -0.56661495,  0.37722598],\n",
       "       [ 0.82015159,  0.7019091 ,  1.29007701],\n",
       "       [-1.57176392, -1.42812593, -1.34402051],\n",
       "       [ 0.41863923,  1.56342009,  1.27645237],\n",
       "       [ 1.0763874 , -0.43772748, -0.34942161],\n",
       "       [-0.09268847,  1.57698719,  1.29007701],\n",
       "       [-0.23224548,  0.93254984,  2.2074696 ],\n",
       "       [ 0.20015245,  0.92576629, -1.05336147],\n",
       "       [ 0.69660933, -1.00076221, -0.19046745],\n",
       "       [-0.11213494, -0.2681387 , -0.6355391 ],\n",
       "       [ 1.01232845, -1.33993977,  2.46179626],\n",
       "       [-1.51914407, -0.49199588,  0.86317155],\n",
       "       [ 0.12122267, -1.39420818, -1.01248754],\n",
       "       [ 0.51587157,  0.37629865, -0.56287434],\n",
       "       [ 0.30310434, -0.34275776,  0.00481909],\n",
       "       [-0.40383196,  1.18354123,  1.48082201],\n",
       "       [-1.24803743,  1.04787021,  1.58981915],\n",
       "       [-0.49534474,  0.43735061, -1.00794599],\n",
       "       [-0.83051033, -0.41737682, -0.80357636],\n",
       "       [ 0.23790148,  1.27851094, -1.22594027],\n",
       "       [-1.11763171,  1.6176885 , -1.00340445],\n",
       "       [ 0.33284599, -0.04428151,  0.04115147],\n",
       "       [ 1.65520579, -1.29245491, -1.00340445],\n",
       "       [-0.88084237, -0.93971025, -1.34856205],\n",
       "       [ 0.61539173, -1.36029042,  0.18193944],\n",
       "       [-0.67265077, -0.77012148, -0.21317519],\n",
       "       [ 1.64376669,  1.2988616 ,  0.93583631],\n",
       "       [-0.89456928,  0.91219919,  3.78792811],\n",
       "       [ 0.01483905,  0.0506882 , -0.52200042],\n",
       "       [-1.52028798, -1.5434463 , -0.22679983],\n",
       "       [-1.38301879,  0.17279212,  0.57705407],\n",
       "       [ 1.04550184,  0.29489604, -0.88986576],\n",
       "       [-1.35556496, -1.46204369, -0.44933566],\n",
       "       [ 0.54561323,  0.83079657,  2.04397389],\n",
       "       [ 0.33970945, -0.52591364, -1.28043884],\n",
       "       [-0.91401575, -1.17713454, -0.2903815 ],\n",
       "       [ 0.77210738,  1.34634645,  0.14560706],\n",
       "       [ 0.7858343 ,  0.05747175, -1.20777408],\n",
       "       [ 0.60509654,  1.78049372,  1.33549249],\n",
       "       [-0.66006776,  0.15922502,  1.94405985],\n",
       "       [ 1.17133192,  0.47805192, -0.46750185],\n",
       "       [ 1.09468996,  1.0071689 , -0.33579697],\n",
       "       [-1.37729925,  1.07500441, -0.96707207],\n",
       "       [ 0.61539173, -1.39420818, -0.42662792],\n",
       "       [ 1.46074111,  0.38986575,  1.32186785],\n",
       "       [-0.55825979, -1.46882724, -0.02697175],\n",
       "       [-0.86253981, -0.48521233,  0.46351538],\n",
       "       [ 0.93797431,  0.98681825,  0.0638592 ],\n",
       "       [ 0.67487504,  1.48880103, -0.49929268],\n",
       "       [-1.58663475,  0.33559735,  0.49076466],\n",
       "       [-0.07438592, -1.42812593, -0.18138436],\n",
       "       [ 0.04229289,  0.84436368, -1.11694313],\n",
       "       [-1.34298195, -1.46882724,  0.10927468],\n",
       "       [ 0.7400779 ,  0.43056706, -0.96707207],\n",
       "       [ 0.87391536, -1.33993977, -0.79449326],\n",
       "       [ 1.38295524,  1.40061486, -1.16235861],\n",
       "       [ 0.27679441, -1.04146352,  0.20918872],\n",
       "       [ 0.80528077,  1.25816029,  0.40901681],\n",
       "       [-0.80648823, -0.83795699, -1.11694313],\n",
       "       [ 0.92882303, -0.49877944,  0.8767962 ],\n",
       "       [ 0.59022571, -1.33315622, -1.12148468],\n",
       "       [-1.4768194 ,  1.39383131,  2.67070744],\n",
       "       [-0.28600924, -1.00076221,  0.82229763],\n",
       "       [-0.79619304,  0.24062763, -0.3766709 ],\n",
       "       [-0.12357404,  1.25816029,  0.6951343 ],\n",
       "       [ 0.95513296,  0.62050649,  1.98039223],\n",
       "       [ 0.47812255, -0.13925123, -0.95798897],\n",
       "       [-0.79619304, -1.51631209, -0.71728696],\n",
       "       [ 0.53989368, -0.32240711,  1.59436069],\n",
       "       [-1.16110028,  1.09535506,  0.65880192],\n",
       "       [ 0.72749489, -0.17316898, -0.9034904 ],\n",
       "       [-0.32947781, -0.5733985 , -1.14419242],\n",
       "       [-0.07781765, -0.6005327 , -0.22679983],\n",
       "       [-0.87855455, -0.17995254, -0.5583328 ],\n",
       "       [-1.2331666 , -1.31958911, -0.76270243],\n",
       "       [ 1.33491103,  0.3830822 , -0.66732994],\n",
       "       [ 1.60144203, -0.62766691, -1.22139872],\n",
       "       [ 1.17590756,  0.26776184, -0.34942161],\n",
       "       [-0.75272446, -1.5705805 , -0.97161362],\n",
       "       [-1.45622903, -0.74977082, -0.32671388],\n",
       "       [-0.90486447, -0.77690503,  0.28185348],\n",
       "       [-0.44158098, -0.62088335, -0.89440731],\n",
       "       [ 0.82815896,  0.30846314,  1.03575036],\n",
       "       [-0.8156395 ,  1.78049372,  0.6860512 ],\n",
       "       [-0.34320473, -1.04824707, -0.34033852],\n",
       "       [-0.26198713,  0.77652816, -0.8262841 ],\n",
       "       [ 1.36808442, -0.21387029, -1.37581134],\n",
       "       [-0.29516052, -0.24100449, -0.86261648],\n",
       "       [ 1.06723612, -0.51913009, -0.14959353],\n",
       "       [ 1.57398819,  1.27851094,  1.61706843],\n",
       "       [ 0.98487461, -0.98719511, -0.99432135],\n",
       "       [ 0.0434368 , -1.48239434, -0.28583995],\n",
       "       [ 0.44494916, -0.14603478, -0.39029554],\n",
       "       [ 0.91280829, -1.01432932,  1.17653833],\n",
       "       [ 1.05465311,  0.75617751, -1.14873397],\n",
       "       [ 0.8098564 ,  1.40739841, -0.15413507],\n",
       "       [-0.13386923, -1.2381865 , -0.96707207],\n",
       "       [-0.98836989, -0.75655438,  0.56797097],\n",
       "       [-1.05814839, -1.43490948, -0.41754483],\n",
       "       [-1.47338767,  1.54306944,  1.7578564 ],\n",
       "       [-1.30980856,  0.09817306, -1.28952194],\n",
       "       [ 1.5408148 , -0.62766691,  0.29093658],\n",
       "       [ 1.07295567, -1.29245491,  0.28639503],\n",
       "       [-0.03549298,  0.41699996, -0.817201  ],\n",
       "       [ 0.85218107,  0.68155845,  0.3318105 ],\n",
       "       [ 0.69546542, -1.21783585, -0.50837578],\n",
       "       [ 1.19992967,  0.90541564,  1.89410283],\n",
       "       [-1.44593384, -0.20708674, -0.61737291],\n",
       "       [-1.23545442,  1.16319058, -0.84899183],\n",
       "       [-1.4653803 ,  0.9800347 , -0.40846173],\n",
       "       [-1.44822166, -0.48521233, -0.3766709 ],\n",
       "       [-1.15881246,  0.17957567, -0.45387721],\n",
       "       [-1.17825893,  0.18635922, -0.45841875],\n",
       "       [ 1.58199556, -0.85152409, -1.09877694],\n",
       "       [-0.63604566, -1.55022985, -0.33579697],\n",
       "       [ 1.11184861,  1.75335952,  0.62246954],\n",
       "       [ 1.04550184, -1.2246194 , -0.32217233],\n",
       "       [ 0.96199642,  0.9936018 ,  1.75331485],\n",
       "       [ 1.23310305, -0.12568413, -0.02697175],\n",
       "       [ 1.36350878, -1.37385752,  0.56342942],\n",
       "       [ 0.59022571,  0.00998689, -0.74453624],\n",
       "       [-1.3841627 , -0.82438989, -0.04059639]])"
      ]
     },
     "execution_count": 143,
     "metadata": {},
     "output_type": "execute_result"
    }
   ],
   "source": [
    "x_train"
   ]
  },
  {
   "cell_type": "code",
   "execution_count": 141,
   "id": "disciplinary-bangladesh",
   "metadata": {},
   "outputs": [
    {
     "data": {
      "text/html": [
       "<div>\n",
       "<style scoped>\n",
       "    .dataframe tbody tr th:only-of-type {\n",
       "        vertical-align: middle;\n",
       "    }\n",
       "\n",
       "    .dataframe tbody tr th {\n",
       "        vertical-align: top;\n",
       "    }\n",
       "\n",
       "    .dataframe thead th {\n",
       "        text-align: right;\n",
       "    }\n",
       "</style>\n",
       "<table border=\"1\" class=\"dataframe\">\n",
       "  <thead>\n",
       "    <tr style=\"text-align: right;\">\n",
       "      <th></th>\n",
       "      <th>TV</th>\n",
       "      <th>radio</th>\n",
       "      <th>newspaper</th>\n",
       "    </tr>\n",
       "  </thead>\n",
       "  <tbody>\n",
       "    <tr>\n",
       "      <th>15</th>\n",
       "      <td>204.1</td>\n",
       "      <td>32.9</td>\n",
       "      <td>46.0</td>\n",
       "    </tr>\n",
       "    <tr>\n",
       "      <th>144</th>\n",
       "      <td>104.6</td>\n",
       "      <td>5.7</td>\n",
       "      <td>34.4</td>\n",
       "    </tr>\n",
       "    <tr>\n",
       "      <th>13</th>\n",
       "      <td>23.8</td>\n",
       "      <td>35.1</td>\n",
       "      <td>65.9</td>\n",
       "    </tr>\n",
       "    <tr>\n",
       "      <th>7</th>\n",
       "      <td>57.5</td>\n",
       "      <td>32.8</td>\n",
       "      <td>23.5</td>\n",
       "    </tr>\n",
       "    <tr>\n",
       "      <th>183</th>\n",
       "      <td>56.2</td>\n",
       "      <td>5.7</td>\n",
       "      <td>29.7</td>\n",
       "    </tr>\n",
       "    <tr>\n",
       "      <th>...</th>\n",
       "      <td>...</td>\n",
       "      <td>...</td>\n",
       "      <td>...</td>\n",
       "    </tr>\n",
       "    <tr>\n",
       "      <th>1</th>\n",
       "      <td>230.1</td>\n",
       "      <td>37.8</td>\n",
       "      <td>69.2</td>\n",
       "    </tr>\n",
       "    <tr>\n",
       "      <th>185</th>\n",
       "      <td>253.8</td>\n",
       "      <td>21.3</td>\n",
       "      <td>30.0</td>\n",
       "    </tr>\n",
       "    <tr>\n",
       "      <th>132</th>\n",
       "      <td>265.2</td>\n",
       "      <td>2.9</td>\n",
       "      <td>43.0</td>\n",
       "    </tr>\n",
       "    <tr>\n",
       "      <th>153</th>\n",
       "      <td>197.6</td>\n",
       "      <td>23.3</td>\n",
       "      <td>14.2</td>\n",
       "    </tr>\n",
       "    <tr>\n",
       "      <th>107</th>\n",
       "      <td>25.0</td>\n",
       "      <td>11.0</td>\n",
       "      <td>29.7</td>\n",
       "    </tr>\n",
       "  </tbody>\n",
       "</table>\n",
       "<p>180 rows × 3 columns</p>\n",
       "</div>"
      ],
      "text/plain": [
       "        TV  radio  newspaper\n",
       "15   204.1   32.9       46.0\n",
       "144  104.6    5.7       34.4\n",
       "13    23.8   35.1       65.9\n",
       "7     57.5   32.8       23.5\n",
       "183   56.2    5.7       29.7\n",
       "..     ...    ...        ...\n",
       "1    230.1   37.8       69.2\n",
       "185  253.8   21.3       30.0\n",
       "132  265.2    2.9       43.0\n",
       "153  197.6   23.3       14.2\n",
       "107   25.0   11.0       29.7\n",
       "\n",
       "[180 rows x 3 columns]"
      ]
     },
     "execution_count": 141,
     "metadata": {},
     "output_type": "execute_result"
    }
   ],
   "source": [
    "X_train"
   ]
  },
  {
   "cell_type": "code",
   "execution_count": null,
   "id": "laden-groove",
   "metadata": {},
   "outputs": [],
   "source": [
    "# Try --> https://www.kaggle.com/datasets/samuelcortinhas/house-price-prediction-seattle/data"
   ]
  },
  {
   "cell_type": "markdown",
   "id": "contemporary-piece",
   "metadata": {},
   "source": [
    "#### Logistic Regression"
   ]
  },
  {
   "cell_type": "code",
   "execution_count": 169,
   "id": "cognitive-purse",
   "metadata": {},
   "outputs": [],
   "source": [
    "import pandas as pd\n",
    "import numpy as np\n",
    "from sklearn.model_selection import train_test_split\n",
    "from sklearn.linear_model import LogisticRegression\n",
    "from sklearn.metrics import accuracy_score, classification_report, confusion_matrix, ConfusionMatrixDisplay\n",
    "\n",
    "from bs4 import BeautifulSoup\n",
    "from nltk.corpus import stopwords\n",
    "import re\n",
    "\n",
    "from sklearn.feature_extraction.text import CountVectorizer"
   ]
  },
  {
   "cell_type": "code",
   "execution_count": 145,
   "id": "floral-graduation",
   "metadata": {},
   "outputs": [],
   "source": [
    "dataset = pd.read_csv(\"./labeledTrainData.tsv\", sep=\"\\t\")"
   ]
  },
  {
   "cell_type": "code",
   "execution_count": 146,
   "id": "comfortable-impression",
   "metadata": {},
   "outputs": [
    {
     "data": {
      "text/html": [
       "<div>\n",
       "<style scoped>\n",
       "    .dataframe tbody tr th:only-of-type {\n",
       "        vertical-align: middle;\n",
       "    }\n",
       "\n",
       "    .dataframe tbody tr th {\n",
       "        vertical-align: top;\n",
       "    }\n",
       "\n",
       "    .dataframe thead th {\n",
       "        text-align: right;\n",
       "    }\n",
       "</style>\n",
       "<table border=\"1\" class=\"dataframe\">\n",
       "  <thead>\n",
       "    <tr style=\"text-align: right;\">\n",
       "      <th></th>\n",
       "      <th>id</th>\n",
       "      <th>sentiment</th>\n",
       "      <th>review</th>\n",
       "    </tr>\n",
       "  </thead>\n",
       "  <tbody>\n",
       "    <tr>\n",
       "      <th>0</th>\n",
       "      <td>5814_8</td>\n",
       "      <td>1</td>\n",
       "      <td>With all this stuff going down at the moment w...</td>\n",
       "    </tr>\n",
       "    <tr>\n",
       "      <th>1</th>\n",
       "      <td>2381_9</td>\n",
       "      <td>1</td>\n",
       "      <td>\\The Classic War of the Worlds\\\" by Timothy Hi...</td>\n",
       "    </tr>\n",
       "    <tr>\n",
       "      <th>2</th>\n",
       "      <td>7759_3</td>\n",
       "      <td>0</td>\n",
       "      <td>The film starts with a manager (Nicholas Bell)...</td>\n",
       "    </tr>\n",
       "    <tr>\n",
       "      <th>3</th>\n",
       "      <td>3630_4</td>\n",
       "      <td>0</td>\n",
       "      <td>It must be assumed that those who praised this...</td>\n",
       "    </tr>\n",
       "    <tr>\n",
       "      <th>4</th>\n",
       "      <td>9495_8</td>\n",
       "      <td>1</td>\n",
       "      <td>Superbly trashy and wondrously unpretentious 8...</td>\n",
       "    </tr>\n",
       "  </tbody>\n",
       "</table>\n",
       "</div>"
      ],
      "text/plain": [
       "       id  sentiment                                             review\n",
       "0  5814_8          1  With all this stuff going down at the moment w...\n",
       "1  2381_9          1  \\The Classic War of the Worlds\\\" by Timothy Hi...\n",
       "2  7759_3          0  The film starts with a manager (Nicholas Bell)...\n",
       "3  3630_4          0  It must be assumed that those who praised this...\n",
       "4  9495_8          1  Superbly trashy and wondrously unpretentious 8..."
      ]
     },
     "execution_count": 146,
     "metadata": {},
     "output_type": "execute_result"
    }
   ],
   "source": [
    "dataset.head()"
   ]
  },
  {
   "cell_type": "code",
   "execution_count": 147,
   "id": "foreign-small",
   "metadata": {},
   "outputs": [
    {
     "data": {
      "text/plain": [
       "(25000, 3)"
      ]
     },
     "execution_count": 147,
     "metadata": {},
     "output_type": "execute_result"
    }
   ],
   "source": [
    "dataset.shape"
   ]
  },
  {
   "cell_type": "code",
   "execution_count": 148,
   "id": "rapid-brush",
   "metadata": {},
   "outputs": [
    {
     "data": {
      "text/html": [
       "<div>\n",
       "<style scoped>\n",
       "    .dataframe tbody tr th:only-of-type {\n",
       "        vertical-align: middle;\n",
       "    }\n",
       "\n",
       "    .dataframe tbody tr th {\n",
       "        vertical-align: top;\n",
       "    }\n",
       "\n",
       "    .dataframe thead th {\n",
       "        text-align: right;\n",
       "    }\n",
       "</style>\n",
       "<table border=\"1\" class=\"dataframe\">\n",
       "  <thead>\n",
       "    <tr style=\"text-align: right;\">\n",
       "      <th></th>\n",
       "      <th>id</th>\n",
       "      <th>review</th>\n",
       "    </tr>\n",
       "    <tr>\n",
       "      <th>sentiment</th>\n",
       "      <th></th>\n",
       "      <th></th>\n",
       "    </tr>\n",
       "  </thead>\n",
       "  <tbody>\n",
       "    <tr>\n",
       "      <th>0</th>\n",
       "      <td>12500</td>\n",
       "      <td>12500</td>\n",
       "    </tr>\n",
       "    <tr>\n",
       "      <th>1</th>\n",
       "      <td>12500</td>\n",
       "      <td>12500</td>\n",
       "    </tr>\n",
       "  </tbody>\n",
       "</table>\n",
       "</div>"
      ],
      "text/plain": [
       "              id  review\n",
       "sentiment               \n",
       "0          12500   12500\n",
       "1          12500   12500"
      ]
     },
     "execution_count": 148,
     "metadata": {},
     "output_type": "execute_result"
    }
   ],
   "source": [
    "dataset.groupby('sentiment').count()"
   ]
  },
  {
   "cell_type": "code",
   "execution_count": 153,
   "id": "coastal-argentina",
   "metadata": {},
   "outputs": [],
   "source": [
    "stop = stopwords.words('english')"
   ]
  },
  {
   "cell_type": "code",
   "execution_count": 160,
   "id": "stainless-constitutional",
   "metadata": {},
   "outputs": [],
   "source": [
    "def cleaning(review):\n",
    "    htmlFree = BeautifulSoup(review, \"html.parser\").get_text()\n",
    "#     print(htmlFree)\n",
    "    nonAlphaFree = re.sub(\"[^a-zA-Z]\", ' ', htmlFree)\n",
    "#     print(nonAlphaFree)\n",
    "    lowerCaseContent = nonAlphaFree.lower()\n",
    "#     print(lowerCaseContent)\n",
    "    stopFree = [word for word in lowerCaseContent.split() if word not in stop]\n",
    "#     print(stopFree)\n",
    "    return \" \".join(stopFree)"
   ]
  },
  {
   "cell_type": "code",
   "execution_count": 157,
   "id": "noble-louis",
   "metadata": {},
   "outputs": [
    {
     "data": {
      "text/plain": [
       "\"With all this stuff going down at the moment with MJ i've started listening to his music, watching the odd documentary here and there, watched The Wiz and watched Moonwalker again. Maybe i just want to get a certain insight into this guy who i thought was really cool in the eighties just to maybe make up my mind whether he is guilty or innocent. Moonwalker is part biography, part feature film which i remember going to see at the cinema when it was originally released. Some of it has subtle messages about MJ's feeling towards the press and also the obvious message of drugs are bad m'kay.<br /><br />Visually impressive but of course this is all about Michael Jackson so unless you remotely like MJ in anyway then you are going to hate this and find it boring. Some may call MJ an egotist for consenting to the making of this movie BUT MJ and most of his fans would say that he made it for the fans which if true is really nice of him.<br /><br />The actual feature film bit when it finally starts is only on for 20 minutes or so excluding the Smooth Criminal sequence and Joe Pesci is convincing as a psychopathic all powerful drug lord. Why he wants MJ dead so bad is beyond me. Because MJ overheard his plans? Nah, Joe Pesci's character ranted that he wanted people to know it is he who is supplying drugs etc so i dunno, maybe he just hates MJ's music.<br /><br />Lots of cool things in this like MJ turning into a car and a robot and the whole Speed Demon sequence. Also, the director must have had the patience of a saint when it came to filming the kiddy Bad sequence as usually directors hate working with one kid let alone a whole bunch of them performing a complex dance scene.<br /><br />Bottom line, this movie is for people who like MJ on one level or another (which i think is most people). If not, then stay away. It does try and give off a wholesome message and ironically MJ's bestest buddy in this movie is a girl! Michael Jackson is truly one of the most talented people ever to grace this planet but is he guilty? Well, with all the attention i've gave this subject....hmmm well i don't know because people can be different behind closed doors, i know this for a fact. He is either an extremely nice but stupid guy or one of the most sickest liars. I hope he is not the latter.\""
      ]
     },
     "execution_count": 157,
     "metadata": {},
     "output_type": "execute_result"
    }
   ],
   "source": [
    "dataset.review[0]"
   ]
  },
  {
   "cell_type": "code",
   "execution_count": 159,
   "id": "brief-representative",
   "metadata": {},
   "outputs": [
    {
     "name": "stdout",
     "output_type": "stream",
     "text": [
      "With all this stuff going down at the moment with MJ i've started listening to his music, watching the odd documentary here and there, watched The Wiz and watched Moonwalker again. Maybe i just want to get a certain insight into this guy who i thought was really cool in the eighties just to maybe make up my mind whether he is guilty or innocent. Moonwalker is part biography, part feature film which i remember going to see at the cinema when it was originally released. Some of it has subtle messages about MJ's feeling towards the press and also the obvious message of drugs are bad m'kay.Visually impressive but of course this is all about Michael Jackson so unless you remotely like MJ in anyway then you are going to hate this and find it boring. Some may call MJ an egotist for consenting to the making of this movie BUT MJ and most of his fans would say that he made it for the fans which if true is really nice of him.The actual feature film bit when it finally starts is only on for 20 minutes or so excluding the Smooth Criminal sequence and Joe Pesci is convincing as a psychopathic all powerful drug lord. Why he wants MJ dead so bad is beyond me. Because MJ overheard his plans? Nah, Joe Pesci's character ranted that he wanted people to know it is he who is supplying drugs etc so i dunno, maybe he just hates MJ's music.Lots of cool things in this like MJ turning into a car and a robot and the whole Speed Demon sequence. Also, the director must have had the patience of a saint when it came to filming the kiddy Bad sequence as usually directors hate working with one kid let alone a whole bunch of them performing a complex dance scene.Bottom line, this movie is for people who like MJ on one level or another (which i think is most people). If not, then stay away. It does try and give off a wholesome message and ironically MJ's bestest buddy in this movie is a girl! Michael Jackson is truly one of the most talented people ever to grace this planet but is he guilty? Well, with all the attention i've gave this subject....hmmm well i don't know because people can be different behind closed doors, i know this for a fact. He is either an extremely nice but stupid guy or one of the most sickest liars. I hope he is not the latter.\n",
      "With all this stuff going down at the moment with MJ i ve started listening to his music  watching the odd documentary here and there  watched The Wiz and watched Moonwalker again  Maybe i just want to get a certain insight into this guy who i thought was really cool in the eighties just to maybe make up my mind whether he is guilty or innocent  Moonwalker is part biography  part feature film which i remember going to see at the cinema when it was originally released  Some of it has subtle messages about MJ s feeling towards the press and also the obvious message of drugs are bad m kay Visually impressive but of course this is all about Michael Jackson so unless you remotely like MJ in anyway then you are going to hate this and find it boring  Some may call MJ an egotist for consenting to the making of this movie BUT MJ and most of his fans would say that he made it for the fans which if true is really nice of him The actual feature film bit when it finally starts is only on for    minutes or so excluding the Smooth Criminal sequence and Joe Pesci is convincing as a psychopathic all powerful drug lord  Why he wants MJ dead so bad is beyond me  Because MJ overheard his plans  Nah  Joe Pesci s character ranted that he wanted people to know it is he who is supplying drugs etc so i dunno  maybe he just hates MJ s music Lots of cool things in this like MJ turning into a car and a robot and the whole Speed Demon sequence  Also  the director must have had the patience of a saint when it came to filming the kiddy Bad sequence as usually directors hate working with one kid let alone a whole bunch of them performing a complex dance scene Bottom line  this movie is for people who like MJ on one level or another  which i think is most people   If not  then stay away  It does try and give off a wholesome message and ironically MJ s bestest buddy in this movie is a girl  Michael Jackson is truly one of the most talented people ever to grace this planet but is he guilty  Well  with all the attention i ve gave this subject    hmmm well i don t know because people can be different behind closed doors  i know this for a fact  He is either an extremely nice but stupid guy or one of the most sickest liars  I hope he is not the latter \n",
      "with all this stuff going down at the moment with mj i ve started listening to his music  watching the odd documentary here and there  watched the wiz and watched moonwalker again  maybe i just want to get a certain insight into this guy who i thought was really cool in the eighties just to maybe make up my mind whether he is guilty or innocent  moonwalker is part biography  part feature film which i remember going to see at the cinema when it was originally released  some of it has subtle messages about mj s feeling towards the press and also the obvious message of drugs are bad m kay visually impressive but of course this is all about michael jackson so unless you remotely like mj in anyway then you are going to hate this and find it boring  some may call mj an egotist for consenting to the making of this movie but mj and most of his fans would say that he made it for the fans which if true is really nice of him the actual feature film bit when it finally starts is only on for    minutes or so excluding the smooth criminal sequence and joe pesci is convincing as a psychopathic all powerful drug lord  why he wants mj dead so bad is beyond me  because mj overheard his plans  nah  joe pesci s character ranted that he wanted people to know it is he who is supplying drugs etc so i dunno  maybe he just hates mj s music lots of cool things in this like mj turning into a car and a robot and the whole speed demon sequence  also  the director must have had the patience of a saint when it came to filming the kiddy bad sequence as usually directors hate working with one kid let alone a whole bunch of them performing a complex dance scene bottom line  this movie is for people who like mj on one level or another  which i think is most people   if not  then stay away  it does try and give off a wholesome message and ironically mj s bestest buddy in this movie is a girl  michael jackson is truly one of the most talented people ever to grace this planet but is he guilty  well  with all the attention i ve gave this subject    hmmm well i don t know because people can be different behind closed doors  i know this for a fact  he is either an extremely nice but stupid guy or one of the most sickest liars  i hope he is not the latter \n",
      "['stuff', 'going', 'moment', 'mj', 'started', 'listening', 'music', 'watching', 'odd', 'documentary', 'watched', 'wiz', 'watched', 'moonwalker', 'maybe', 'want', 'get', 'certain', 'insight', 'guy', 'thought', 'really', 'cool', 'eighties', 'maybe', 'make', 'mind', 'whether', 'guilty', 'innocent', 'moonwalker', 'part', 'biography', 'part', 'feature', 'film', 'remember', 'going', 'see', 'cinema', 'originally', 'released', 'subtle', 'messages', 'mj', 'feeling', 'towards', 'press', 'also', 'obvious', 'message', 'drugs', 'bad', 'kay', 'visually', 'impressive', 'course', 'michael', 'jackson', 'unless', 'remotely', 'like', 'mj', 'anyway', 'going', 'hate', 'find', 'boring', 'may', 'call', 'mj', 'egotist', 'consenting', 'making', 'movie', 'mj', 'fans', 'would', 'say', 'made', 'fans', 'true', 'really', 'nice', 'actual', 'feature', 'film', 'bit', 'finally', 'starts', 'minutes', 'excluding', 'smooth', 'criminal', 'sequence', 'joe', 'pesci', 'convincing', 'psychopathic', 'powerful', 'drug', 'lord', 'wants', 'mj', 'dead', 'bad', 'beyond', 'mj', 'overheard', 'plans', 'nah', 'joe', 'pesci', 'character', 'ranted', 'wanted', 'people', 'know', 'supplying', 'drugs', 'etc', 'dunno', 'maybe', 'hates', 'mj', 'music', 'lots', 'cool', 'things', 'like', 'mj', 'turning', 'car', 'robot', 'whole', 'speed', 'demon', 'sequence', 'also', 'director', 'must', 'patience', 'saint', 'came', 'filming', 'kiddy', 'bad', 'sequence', 'usually', 'directors', 'hate', 'working', 'one', 'kid', 'let', 'alone', 'whole', 'bunch', 'performing', 'complex', 'dance', 'scene', 'bottom', 'line', 'movie', 'people', 'like', 'mj', 'one', 'level', 'another', 'think', 'people', 'stay', 'away', 'try', 'give', 'wholesome', 'message', 'ironically', 'mj', 'bestest', 'buddy', 'movie', 'girl', 'michael', 'jackson', 'truly', 'one', 'talented', 'people', 'ever', 'grace', 'planet', 'guilty', 'well', 'attention', 'gave', 'subject', 'hmmm', 'well', 'know', 'people', 'different', 'behind', 'closed', 'doors', 'know', 'fact', 'either', 'extremely', 'nice', 'stupid', 'guy', 'one', 'sickest', 'liars', 'hope', 'latter']\n"
     ]
    },
    {
     "data": {
      "text/plain": [
       "'stuff going moment mj started listening music watching odd documentary watched wiz watched moonwalker maybe want get certain insight guy thought really cool eighties maybe make mind whether guilty innocent moonwalker part biography part feature film remember going see cinema originally released subtle messages mj feeling towards press also obvious message drugs bad kay visually impressive course michael jackson unless remotely like mj anyway going hate find boring may call mj egotist consenting making movie mj fans would say made fans true really nice actual feature film bit finally starts minutes excluding smooth criminal sequence joe pesci convincing psychopathic powerful drug lord wants mj dead bad beyond mj overheard plans nah joe pesci character ranted wanted people know supplying drugs etc dunno maybe hates mj music lots cool things like mj turning car robot whole speed demon sequence also director must patience saint came filming kiddy bad sequence usually directors hate working one kid let alone whole bunch performing complex dance scene bottom line movie people like mj one level another think people stay away try give wholesome message ironically mj bestest buddy movie girl michael jackson truly one talented people ever grace planet guilty well attention gave subject hmmm well know people different behind closed doors know fact either extremely nice stupid guy one sickest liars hope latter'"
      ]
     },
     "execution_count": 159,
     "metadata": {},
     "output_type": "execute_result"
    }
   ],
   "source": [
    "cleaning(dataset.review[0])"
   ]
  },
  {
   "cell_type": "code",
   "execution_count": 161,
   "id": "educational-century",
   "metadata": {},
   "outputs": [
    {
     "data": {
      "text/plain": [
       "'Sun Oct  1 10:58:42 2023'"
      ]
     },
     "execution_count": 161,
     "metadata": {},
     "output_type": "execute_result"
    }
   ],
   "source": [
    "import time\n",
    "time.ctime()"
   ]
  },
  {
   "cell_type": "code",
   "execution_count": 162,
   "id": "authorized-journalism",
   "metadata": {},
   "outputs": [
    {
     "name": "stdout",
     "output_type": "stream",
     "text": [
      "Sun Oct  1 10:59:37 2023\n",
      "Sun Oct  1 10:59:53 2023\n"
     ]
    }
   ],
   "source": [
    "# use this or other map method\n",
    "print(time.ctime())\n",
    "X = []\n",
    "for review in dataset.review:\n",
    "    X.append(cleaning(review))\n",
    "print(time.ctime())"
   ]
  },
  {
   "cell_type": "code",
   "execution_count": 163,
   "id": "gothic-italic",
   "metadata": {},
   "outputs": [
    {
     "name": "stdout",
     "output_type": "stream",
     "text": [
      "Sun Oct  1 11:00:11 2023\n",
      "Sun Oct  1 11:00:27 2023\n"
     ]
    }
   ],
   "source": [
    "print(time.ctime())\n",
    "X = list(map(cleaning, dataset.review))\n",
    "print(time.ctime())"
   ]
  },
  {
   "cell_type": "code",
   "execution_count": 166,
   "id": "certain-australian",
   "metadata": {},
   "outputs": [],
   "source": [
    "y = dataset.sentiment"
   ]
  },
  {
   "cell_type": "code",
   "execution_count": 167,
   "id": "coordinate-millennium",
   "metadata": {},
   "outputs": [],
   "source": [
    "X_train, X_test, y_train, y_test = train_test_split(X, y, test_size=0.2, random_state=3)"
   ]
  },
  {
   "cell_type": "code",
   "execution_count": 168,
   "id": "opened-riverside",
   "metadata": {},
   "outputs": [
    {
     "data": {
      "text/plain": [
       "(20000, 5000)"
      ]
     },
     "execution_count": 168,
     "metadata": {},
     "output_type": "execute_result"
    }
   ],
   "source": [
    "len(X_train), len(X_test)"
   ]
  },
  {
   "cell_type": "code",
   "execution_count": 170,
   "id": "environmental-windows",
   "metadata": {},
   "outputs": [],
   "source": [
    "vectorizer = CountVectorizer(min_df=3, ngram_range=(1,2))"
   ]
  },
  {
   "cell_type": "code",
   "execution_count": 171,
   "id": "julian-universal",
   "metadata": {},
   "outputs": [],
   "source": [
    "x_train_vect = vectorizer.fit_transform(X_train)\n",
    "x_test_vect = vectorizer.transform(X_test)"
   ]
  },
  {
   "cell_type": "code",
   "execution_count": 172,
   "id": "cloudy-offense",
   "metadata": {},
   "outputs": [
    {
     "data": {
      "text/plain": [
       "(20000, 143439)"
      ]
     },
     "execution_count": 172,
     "metadata": {},
     "output_type": "execute_result"
    }
   ],
   "source": [
    "x_train_vect.shape"
   ]
  },
  {
   "cell_type": "code",
   "execution_count": 173,
   "id": "direct-alexandria",
   "metadata": {},
   "outputs": [
    {
     "data": {
      "text/plain": [
       "<20000x143439 sparse matrix of type '<class 'numpy.int64'>'\n",
       "\twith 2759933 stored elements in Compressed Sparse Row format>"
      ]
     },
     "execution_count": 173,
     "metadata": {},
     "output_type": "execute_result"
    }
   ],
   "source": [
    "x_train_vect"
   ]
  },
  {
   "cell_type": "code",
   "execution_count": 179,
   "id": "operating-performance",
   "metadata": {},
   "outputs": [
    {
     "data": {
      "text/plain": [
       "['aaa',\n",
       " 'aaargh',\n",
       " 'aag',\n",
       " 'aames',\n",
       " 'aamir',\n",
       " 'aankhen',\n",
       " 'aapke',\n",
       " 'aapke hain',\n",
       " 'aardman',\n",
       " 'aaron',\n",
       " 'aaron spelling',\n",
       " 'aatish',\n",
       " 'aatish kapadia',\n",
       " 'ab',\n",
       " 'aback',\n",
       " 'abandon',\n",
       " 'abandoned',\n",
       " 'abandoned baby',\n",
       " 'abandoned building',\n",
       " 'abandoned car',\n",
       " 'abandoned film',\n",
       " 'abandoned high',\n",
       " 'abandoned hotel',\n",
       " 'abandoned house',\n",
       " 'abandoned school',\n",
       " 'abandoning',\n",
       " 'abandonment',\n",
       " 'abandons',\n",
       " 'abbas',\n",
       " 'abbas mustan',\n",
       " 'abbey',\n",
       " 'abbot',\n",
       " 'abbot costello',\n",
       " 'abbott',\n",
       " 'abbott costello',\n",
       " 'abbreviated',\n",
       " 'abby',\n",
       " 'abc',\n",
       " 'abc family',\n",
       " 'abc http',\n",
       " 'abduct',\n",
       " 'abducted',\n",
       " 'abducting',\n",
       " 'abduction',\n",
       " 'abductor',\n",
       " 'abdul',\n",
       " 'abe',\n",
       " 'abe burrows',\n",
       " 'abe lincoln',\n",
       " 'abel',\n",
       " 'abercrombie',\n",
       " 'abetted',\n",
       " 'abhay',\n",
       " 'abhay deol',\n",
       " 'abhishek',\n",
       " 'abhorrence',\n",
       " 'abhorrent',\n",
       " 'abiding',\n",
       " 'abiding joy',\n",
       " 'abigail',\n",
       " 'abigail mitchell',\n",
       " 'abilities',\n",
       " 'abilities film',\n",
       " 'ability',\n",
       " 'ability actor',\n",
       " 'ability change',\n",
       " 'ability communicate',\n",
       " 'ability convey',\n",
       " 'ability create',\n",
       " 'ability director',\n",
       " 'ability find',\n",
       " 'ability get',\n",
       " 'ability make',\n",
       " 'ability move',\n",
       " 'ability play',\n",
       " 'ability portray',\n",
       " 'ability read',\n",
       " 'ability really',\n",
       " 'ability retrieve',\n",
       " 'ability see',\n",
       " 'ability speak',\n",
       " 'ability take',\n",
       " 'ability tell',\n",
       " 'ability turn',\n",
       " 'ability write',\n",
       " 'abject',\n",
       " 'able',\n",
       " 'able accomplish',\n",
       " 'able achieve',\n",
       " 'able act',\n",
       " 'able afford',\n",
       " 'able appreciate',\n",
       " 'able become',\n",
       " 'able bring',\n",
       " 'able build',\n",
       " 'able buy',\n",
       " 'able capture',\n",
       " 'able care',\n",
       " 'able carry',\n",
       " 'able catch',\n",
       " 'able come',\n",
       " 'able communicate',\n",
       " 'able complete',\n",
       " 'able comprehend',\n",
       " 'able connect',\n",
       " 'able control',\n",
       " 'able convey',\n",
       " 'able convince',\n",
       " 'able create',\n",
       " 'able decipher',\n",
       " 'able defend',\n",
       " 'able enjoy',\n",
       " 'able escape',\n",
       " 'able express',\n",
       " 'able feel',\n",
       " 'able find',\n",
       " 'able finish',\n",
       " 'able get',\n",
       " 'able give',\n",
       " 'able go',\n",
       " 'able guess',\n",
       " 'able handle',\n",
       " 'able hear',\n",
       " 'able help',\n",
       " 'able hold',\n",
       " 'able identify',\n",
       " 'able keep',\n",
       " 'able laugh',\n",
       " 'able learn',\n",
       " 'able leave',\n",
       " 'able live',\n",
       " 'able look',\n",
       " 'able maintain',\n",
       " 'able make',\n",
       " 'able move',\n",
       " 'able overlook',\n",
       " 'able play',\n",
       " 'able portray',\n",
       " 'able predict',\n",
       " 'able produce',\n",
       " 'able pull',\n",
       " 'able put',\n",
       " 'able read',\n",
       " 'able really',\n",
       " 'able relate',\n",
       " 'able salvage',\n",
       " 'able save',\n",
       " 'able say',\n",
       " 'able see',\n",
       " 'able share',\n",
       " 'able show',\n",
       " 'able sit',\n",
       " 'able speak',\n",
       " 'able stand',\n",
       " 'able stay',\n",
       " 'able stomach',\n",
       " 'able stop',\n",
       " 'able succeed',\n",
       " 'able support',\n",
       " 'able survive',\n",
       " 'able take',\n",
       " 'able tell',\n",
       " 'able turn',\n",
       " 'able understand',\n",
       " 'able use',\n",
       " 'able view',\n",
       " 'able walk',\n",
       " 'able watch',\n",
       " 'able win',\n",
       " 'able work',\n",
       " 'able write',\n",
       " 'ably',\n",
       " 'ably assisted',\n",
       " 'ably directed',\n",
       " 'ably supported',\n",
       " 'abnormal',\n",
       " 'abnormally',\n",
       " 'abo',\n",
       " 'aboard',\n",
       " 'aboard ship',\n",
       " 'abolished',\n",
       " 'abolition',\n",
       " 'abominable',\n",
       " 'abominably',\n",
       " 'abomination',\n",
       " 'abomination movie',\n",
       " 'abominations',\n",
       " 'aboriginal',\n",
       " 'aboriginals',\n",
       " 'aborigine',\n",
       " 'aborigines',\n",
       " 'abort',\n",
       " 'aborted',\n",
       " 'abortion',\n",
       " 'abortion clinic',\n",
       " 'abortions',\n",
       " 'abortive',\n",
       " 'aborts',\n",
       " 'abound',\n",
       " 'abound film',\n",
       " 'abounds',\n",
       " 'abraham',\n",
       " 'abraham farlan',\n",
       " 'abraham lincoln',\n",
       " 'abraham sofaer',\n",
       " 'abrahams',\n",
       " 'abrams',\n",
       " 'abrasive',\n",
       " 'abridged',\n",
       " 'abridged version',\n",
       " 'abroad',\n",
       " 'abrupt',\n",
       " 'abrupt cuts',\n",
       " 'abrupt end',\n",
       " 'abrupt ending',\n",
       " 'abruptly',\n",
       " 'abruptly ends',\n",
       " 'abs',\n",
       " 'absence',\n",
       " 'absence light',\n",
       " 'absent',\n",
       " 'absent acting',\n",
       " 'absent father',\n",
       " 'absent instead',\n",
       " 'absent minded',\n",
       " 'absentee',\n",
       " 'absolute',\n",
       " 'absolute beginners',\n",
       " 'absolute best',\n",
       " 'absolute classics',\n",
       " 'absolute disaster',\n",
       " 'absolute favorite',\n",
       " 'absolute garbage',\n",
       " 'absolute gem',\n",
       " 'absolute genius',\n",
       " 'absolute hoot',\n",
       " 'absolute joke',\n",
       " 'absolute lack',\n",
       " 'absolute masterpiece',\n",
       " 'absolute mess',\n",
       " 'absolute must',\n",
       " 'absolute nonsense',\n",
       " 'absolute rubbish',\n",
       " 'absolute trash',\n",
       " 'absolute treat',\n",
       " 'absolute waste',\n",
       " 'absolute worst',\n",
       " 'absolutely',\n",
       " 'absolutely absurd',\n",
       " 'absolutely abysmal',\n",
       " 'absolutely adore',\n",
       " 'absolutely amazing',\n",
       " 'absolutely appalling',\n",
       " 'absolutely atrocious',\n",
       " 'absolutely awesome',\n",
       " 'absolutely awful',\n",
       " 'absolutely beautiful',\n",
       " 'absolutely believable',\n",
       " 'absolutely best',\n",
       " 'absolutely bizarre',\n",
       " 'absolutely boring',\n",
       " 'absolutely breathtaking',\n",
       " 'absolutely brilliant',\n",
       " 'absolutely charming',\n",
       " 'absolutely chemistry',\n",
       " 'absolutely chilling',\n",
       " 'absolutely connection',\n",
       " 'absolutely convincing',\n",
       " 'absolutely crappy',\n",
       " 'absolutely criminal',\n",
       " 'absolutely delightful',\n",
       " 'absolutely dire',\n",
       " 'absolutely everything',\n",
       " 'absolutely excuse',\n",
       " 'absolutely explanation',\n",
       " 'absolutely fabulous',\n",
       " 'absolutely fantastic',\n",
       " 'absolutely first',\n",
       " 'absolutely funny',\n",
       " 'absolutely gorgeous',\n",
       " 'absolutely great',\n",
       " 'absolutely guaranteed',\n",
       " 'absolutely hate',\n",
       " 'absolutely hated',\n",
       " 'absolutely hilarious',\n",
       " 'absolutely horrendous',\n",
       " 'absolutely horrible',\n",
       " 'absolutely horrid',\n",
       " 'absolutely horrific',\n",
       " 'absolutely hysterical',\n",
       " 'absolutely idea',\n",
       " 'absolutely incredible',\n",
       " 'absolutely laughable',\n",
       " 'absolutely love',\n",
       " 'absolutely loved',\n",
       " 'absolutely marvelous',\n",
       " 'absolutely mind',\n",
       " 'absolutely necessary',\n",
       " 'absolutely need',\n",
       " 'absolutely nobody',\n",
       " 'absolutely none',\n",
       " 'absolutely nothing',\n",
       " 'absolutely nowhere',\n",
       " 'absolutely one',\n",
       " 'absolutely pathetic',\n",
       " 'absolutely perfect',\n",
       " 'absolutely plot',\n",
       " 'absolutely point',\n",
       " 'absolutely priceless',\n",
       " 'absolutely reason',\n",
       " 'absolutely ridiculous',\n",
       " 'absolutely right',\n",
       " 'absolutely riveting',\n",
       " 'absolutely see',\n",
       " 'absolutely sense',\n",
       " 'absolutely shines',\n",
       " 'absolutely silly',\n",
       " 'absolutely spot',\n",
       " 'absolutely story',\n",
       " 'absolutely stunning',\n",
       " 'absolutely superb',\n",
       " 'absolutely surprise',\n",
       " 'absolutely terrible',\n",
       " 'absolutely terrific',\n",
       " 'absolutely unique',\n",
       " 'absolutely unnecessary',\n",
       " 'absolutely without',\n",
       " 'absolutely wonderful',\n",
       " 'absolutely worst',\n",
       " 'absolutely worth',\n",
       " 'absolution',\n",
       " 'absolutley',\n",
       " 'absolutly',\n",
       " 'absolved',\n",
       " 'absorb',\n",
       " 'absorbed',\n",
       " 'absorbing',\n",
       " 'absorbing one',\n",
       " 'absorbs',\n",
       " 'absorption',\n",
       " 'abstract',\n",
       " 'abstraction',\n",
       " 'abstractions',\n",
       " 'absurd',\n",
       " 'absurd characters',\n",
       " 'absurd comedy',\n",
       " 'absurd humor',\n",
       " 'absurd ride',\n",
       " 'absurd situations',\n",
       " 'absurd story',\n",
       " 'absurdist',\n",
       " 'absurdities',\n",
       " 'absurdity',\n",
       " 'absurdity film',\n",
       " 'absurdity situation',\n",
       " 'absurdity war',\n",
       " 'absurdly',\n",
       " 'absurdness',\n",
       " 'abu',\n",
       " 'abundance',\n",
       " 'abundant',\n",
       " 'abundantly',\n",
       " 'abundantly clear',\n",
       " 'abuse',\n",
       " 'abuse power',\n",
       " 'abused',\n",
       " 'abused child',\n",
       " 'abuser',\n",
       " 'abuses',\n",
       " 'abusing',\n",
       " 'abusive',\n",
       " 'abusive boyfriend',\n",
       " 'abusive father',\n",
       " 'abusive husband',\n",
       " 'abut',\n",
       " 'abysmal',\n",
       " 'abysmal acting',\n",
       " 'abysmally',\n",
       " 'abyss',\n",
       " 'ac',\n",
       " 'academic',\n",
       " 'academic interest',\n",
       " 'academics',\n",
       " 'academy',\n",
       " 'academy award',\n",
       " 'academy awards',\n",
       " 'academy nominations',\n",
       " 'accelerate',\n",
       " 'accelerated',\n",
       " 'accent',\n",
       " 'accent also',\n",
       " 'accent even',\n",
       " 'accent ever',\n",
       " 'accent film',\n",
       " 'accent like',\n",
       " 'accent made',\n",
       " 'accent make',\n",
       " 'accent movie',\n",
       " 'accent one',\n",
       " 'accent pretty',\n",
       " 'accent really',\n",
       " 'accent sometimes',\n",
       " 'accent times',\n",
       " 'accent well',\n",
       " 'accent work',\n",
       " 'accented',\n",
       " 'accents',\n",
       " 'accents bad',\n",
       " 'accents fake',\n",
       " 'accents like',\n",
       " 'accents made',\n",
       " 'accents make',\n",
       " 'accentuate',\n",
       " 'accentuated',\n",
       " 'accentuates',\n",
       " 'accentuating',\n",
       " 'accept',\n",
       " 'accept challenge',\n",
       " 'accept fact',\n",
       " 'accept false',\n",
       " 'accept film',\n",
       " 'accept jesus',\n",
       " 'accept life',\n",
       " 'accept low',\n",
       " 'accept movie',\n",
       " 'accept people',\n",
       " 'accept role',\n",
       " 'acceptable',\n",
       " 'acceptable plot',\n",
       " 'acceptance',\n",
       " 'accepted',\n",
       " 'accepted film',\n",
       " 'accepted role',\n",
       " 'accepting',\n",
       " 'accepting role',\n",
       " 'accepts',\n",
       " 'accepts bet',\n",
       " 'accepts fate',\n",
       " 'accepts job',\n",
       " 'accepts position',\n",
       " 'access',\n",
       " 'accessibility',\n",
       " 'accessible',\n",
       " 'accessible movie',\n",
       " 'accessory',\n",
       " 'accident',\n",
       " 'accident actually',\n",
       " 'accident could',\n",
       " 'accident film',\n",
       " 'accident involving',\n",
       " 'accident one',\n",
       " 'accident prone',\n",
       " 'accidental',\n",
       " 'accidental death',\n",
       " 'accidentally',\n",
       " 'accidentally came',\n",
       " 'accidentally hit',\n",
       " 'accidentally killed',\n",
       " 'accidentally kills',\n",
       " 'accidentally shooting',\n",
       " 'accidentally shoots',\n",
       " 'accidentally stumbled',\n",
       " 'accidentally stumbles',\n",
       " 'accidently',\n",
       " 'accidents',\n",
       " 'acclaim',\n",
       " 'acclaimed',\n",
       " 'acclaimed director',\n",
       " 'acclaimed films',\n",
       " 'accolade',\n",
       " 'accolades',\n",
       " 'accommodate',\n",
       " 'accommodating',\n",
       " 'accommodation',\n",
       " 'accommodations',\n",
       " 'accompanied',\n",
       " 'accompanies',\n",
       " 'accompaniment',\n",
       " 'accompany',\n",
       " 'accompanying',\n",
       " 'accomplice',\n",
       " 'accomplish',\n",
       " 'accomplished',\n",
       " 'accomplished actor',\n",
       " 'accomplished film',\n",
       " 'accomplished pianist',\n",
       " 'accomplishes',\n",
       " 'accomplishing',\n",
       " 'accomplishment',\n",
       " 'accomplishments',\n",
       " 'accord',\n",
       " 'accordance',\n",
       " 'accorded',\n",
       " 'accordian',\n",
       " 'according',\n",
       " 'according bible',\n",
       " 'according director',\n",
       " 'according dvd',\n",
       " 'according film',\n",
       " 'according imdb',\n",
       " 'according legend',\n",
       " 'according movie',\n",
       " 'according newspaper',\n",
       " 'according one',\n",
       " 'according rules',\n",
       " 'according story',\n",
       " 'according trivia',\n",
       " 'according website',\n",
       " 'accordingly',\n",
       " 'accorsi',\n",
       " 'accosted',\n",
       " 'account',\n",
       " 'account happened',\n",
       " 'account one',\n",
       " 'account true',\n",
       " 'accountability',\n",
       " 'accountable',\n",
       " 'accountant',\n",
       " 'accounted',\n",
       " 'accounting',\n",
       " 'accounts',\n",
       " 'accrued',\n",
       " 'accumulated',\n",
       " 'accumulation',\n",
       " 'accuracy',\n",
       " 'accuracy movie',\n",
       " 'accurate',\n",
       " 'accurate account',\n",
       " 'accurate depiction',\n",
       " 'accurate even',\n",
       " 'accurate film',\n",
       " 'accurate portrayal',\n",
       " 'accurate real',\n",
       " 'accurate representation',\n",
       " 'accurate well',\n",
       " 'accurately',\n",
       " 'accurately portray',\n",
       " 'accurately portrays',\n",
       " 'accusation',\n",
       " 'accusations',\n",
       " 'accuse',\n",
       " 'accused',\n",
       " 'accused killing',\n",
       " 'accused murder',\n",
       " 'accused murdering',\n",
       " 'accused rape',\n",
       " 'accuser',\n",
       " 'accuses',\n",
       " 'accusing',\n",
       " 'accustomed',\n",
       " 'ace',\n",
       " 'ace sleeve',\n",
       " 'ace ventura',\n",
       " 'acerbic',\n",
       " 'acharya',\n",
       " 'ache',\n",
       " 'ached',\n",
       " 'achieve',\n",
       " 'achieve desired',\n",
       " 'achieve dreams',\n",
       " 'achieve goal',\n",
       " 'achieve goals',\n",
       " 'achieve nothing',\n",
       " 'achieve something',\n",
       " 'achieved',\n",
       " 'achieved without',\n",
       " 'achievement',\n",
       " 'achievement fact',\n",
       " 'achievements',\n",
       " 'achievements one',\n",
       " 'achieves',\n",
       " 'achieving',\n",
       " 'achilles',\n",
       " 'aching',\n",
       " 'achingly',\n",
       " 'achingly beautiful',\n",
       " 'acid',\n",
       " 'acid face',\n",
       " 'acid trip',\n",
       " 'acidic',\n",
       " 'ackland',\n",
       " 'acknowledge',\n",
       " 'acknowledged',\n",
       " 'acknowledgement',\n",
       " 'acknowledges',\n",
       " 'acknowledging',\n",
       " 'ackroyd',\n",
       " 'acme',\n",
       " 'acne',\n",
       " 'acolyte',\n",
       " 'acorn',\n",
       " 'acoustic',\n",
       " 'acquaintance',\n",
       " 'acquaintances',\n",
       " 'acquainted',\n",
       " 'acquart',\n",
       " 'acquire',\n",
       " 'acquired',\n",
       " 'acquired dvd',\n",
       " 'acquired taste',\n",
       " 'acquires',\n",
       " 'acquiring',\n",
       " 'acquit',\n",
       " 'acquit well',\n",
       " 'acquits',\n",
       " 'acquitted',\n",
       " 'acre',\n",
       " 'acres',\n",
       " 'acrobat',\n",
       " 'acrobatic',\n",
       " 'acrobatics',\n",
       " 'across',\n",
       " 'across america',\n",
       " 'across ancient',\n",
       " 'across another',\n",
       " 'across board',\n",
       " 'across border',\n",
       " 'across country',\n",
       " 'across countryside',\n",
       " 'across dvd',\n",
       " 'across europe',\n",
       " 'across eyes',\n",
       " 'across face',\n",
       " 'across field',\n",
       " 'across film',\n",
       " 'across floor',\n",
       " 'across globe',\n",
       " 'across likable',\n",
       " 'across like',\n",
       " 'across little',\n",
       " 'across man',\n",
       " 'across movie',\n",
       " 'across much',\n",
       " 'across north',\n",
       " 'across ocean',\n",
       " 'across one',\n",
       " 'across people',\n",
       " 'across quite',\n",
       " 'across real',\n",
       " 'across really',\n",
       " 'across room',\n",
       " 'across screen',\n",
       " 'across someone',\n",
       " 'across street',\n",
       " 'across table',\n",
       " 'across three',\n",
       " 'across town',\n",
       " 'across two',\n",
       " 'across way',\n",
       " 'across well',\n",
       " 'across world',\n",
       " 'act',\n",
       " 'act also',\n",
       " 'act although',\n",
       " 'act bad',\n",
       " 'act better',\n",
       " 'act bit',\n",
       " 'act defiance',\n",
       " 'act even',\n",
       " 'act feel',\n",
       " 'act film',\n",
       " 'act funny',\n",
       " 'act gets',\n",
       " 'act give',\n",
       " 'act good',\n",
       " 'act ii',\n",
       " 'act iii',\n",
       " 'act killing',\n",
       " 'act kind',\n",
       " 'act know',\n",
       " 'act least',\n",
       " 'act like',\n",
       " 'act little',\n",
       " 'act look',\n",
       " 'act lot',\n",
       " 'act main',\n",
       " 'act movie',\n",
       " 'act much',\n",
       " 'act never',\n",
       " 'act one',\n",
       " 'act part',\n",
       " 'act plain',\n",
       " 'act pure',\n",
       " 'act quite',\n",
       " 'act react',\n",
       " 'act read',\n",
       " 'act really',\n",
       " 'act revenge',\n",
       " 'act save',\n",
       " 'act scenes',\n",
       " 'act seen',\n",
       " 'act sort',\n",
       " 'act structure',\n",
       " 'act stupid',\n",
       " 'act think',\n",
       " 'act though',\n",
       " 'act time',\n",
       " 'act together',\n",
       " 'act trying',\n",
       " 'act tv',\n",
       " 'act two',\n",
       " 'act upon',\n",
       " 'act vengeance',\n",
       " 'act violence',\n",
       " 'act watching',\n",
       " 'act way',\n",
       " 'act well',\n",
       " 'act without',\n",
       " 'act would',\n",
       " 'act write',\n",
       " 'acted',\n",
       " 'acted also',\n",
       " 'acted badly',\n",
       " 'acted cast',\n",
       " 'acted character',\n",
       " 'acted characters',\n",
       " 'acted directed',\n",
       " 'acted drama',\n",
       " 'acted even',\n",
       " 'acted film',\n",
       " 'acted films',\n",
       " 'acted however',\n",
       " 'acted involved',\n",
       " 'acted like',\n",
       " 'acted made',\n",
       " 'acted movie',\n",
       " 'acted part',\n",
       " 'acted particularly',\n",
       " 'acted piece',\n",
       " 'acted plot',\n",
       " 'acted poorly',\n",
       " 'acted real',\n",
       " 'acted really',\n",
       " 'acted scripted',\n",
       " 'acted shot',\n",
       " 'acted shows',\n",
       " 'acted way',\n",
       " 'acted well',\n",
       " 'acted written',\n",
       " 'acting',\n",
       " 'acting abilities',\n",
       " 'acting ability',\n",
       " 'acting absolutely',\n",
       " 'acting abysmal',\n",
       " 'acting across',\n",
       " 'acting acting',\n",
       " 'acting actor',\n",
       " 'acting actors',\n",
       " 'acting actually',\n",
       " 'acting adequate',\n",
       " 'acting almost',\n",
       " 'acting alright',\n",
       " 'acting also',\n",
       " 'acting although',\n",
       " 'acting always',\n",
       " 'acting amateurish',\n",
       " 'acting amazing',\n",
       " 'acting annoying',\n",
       " 'acting another',\n",
       " 'acting appalling',\n",
       " 'acting appropriate',\n",
       " 'acting around',\n",
       " 'acting aside',\n",
       " 'acting atrocious',\n",
       " 'acting average',\n",
       " 'acting award',\n",
       " 'acting awesome',\n",
       " 'acting awful',\n",
       " 'acting bad',\n",
       " 'acting beautiful',\n",
       " 'acting believable',\n",
       " 'acting believe',\n",
       " 'acting best',\n",
       " 'acting better',\n",
       " 'acting beyond',\n",
       " 'acting bit',\n",
       " 'acting bizarre',\n",
       " 'acting bland',\n",
       " 'acting boring',\n",
       " 'acting brilliant',\n",
       " 'acting call',\n",
       " 'acting came',\n",
       " 'acting camera',\n",
       " 'acting cannot',\n",
       " 'acting cardboard',\n",
       " 'acting career',\n",
       " 'acting cast',\n",
       " 'acting casting',\n",
       " 'acting certainly',\n",
       " 'acting character',\n",
       " 'acting characters',\n",
       " 'acting cheesy',\n",
       " 'acting choir',\n",
       " 'acting chops',\n",
       " 'acting cinematography',\n",
       " 'acting class',\n",
       " 'acting classes',\n",
       " 'acting clich',\n",
       " 'acting combined',\n",
       " 'acting comedy',\n",
       " 'acting convincing',\n",
       " 'acting costumes',\n",
       " 'acting could',\n",
       " 'acting course',\n",
       " 'acting crap',\n",
       " 'acting decent',\n",
       " 'acting definitely',\n",
       " 'acting department',\n",
       " 'acting dialog',\n",
       " 'acting dialogue',\n",
       " 'acting directing',\n",
       " 'acting direction',\n",
       " 'acting disappointed',\n",
       " 'acting dodgy',\n",
       " 'acting done',\n",
       " 'acting dreadful',\n",
       " 'acting dubbing',\n",
       " 'acting dull',\n",
       " 'acting editing',\n",
       " 'acting effects',\n",
       " 'acting ending',\n",
       " 'acting entire',\n",
       " 'acting equally',\n",
       " 'acting especially',\n",
       " 'acting etc',\n",
       " 'acting even',\n",
       " 'acting ever',\n",
       " 'acting every',\n",
       " 'acting everyone',\n",
       " 'acting everything',\n",
       " 'acting exactly',\n",
       " 'acting excellent',\n",
       " 'acting except',\n",
       " 'acting exception',\n",
       " 'acting expect',\n",
       " 'acting expected',\n",
       " 'acting experience',\n",
       " 'acting extremely',\n",
       " 'acting fact',\n",
       " 'acting fair',\n",
       " 'acting fairly',\n",
       " 'acting fantastic',\n",
       " 'acting far',\n",
       " 'acting felt',\n",
       " 'acting film',\n",
       " 'acting filming',\n",
       " 'acting films',\n",
       " 'acting fine',\n",
       " 'acting first',\n",
       " 'acting flat',\n",
       " 'acting funny',\n",
       " 'acting game',\n",
       " 'acting general',\n",
       " 'acting generally',\n",
       " 'acting get',\n",
       " 'acting give',\n",
       " 'acting given',\n",
       " 'acting go',\n",
       " 'acting god',\n",
       " 'acting goes',\n",
       " 'acting going',\n",
       " 'acting good',\n",
       " 'acting got',\n",
       " 'acting great',\n",
       " 'acting guy',\n",
       " 'acting hammy',\n",
       " 'acting hard',\n",
       " 'acting hell',\n",
       " 'acting help',\n",
       " 'acting high',\n",
       " 'acting hope',\n",
       " 'acting horrendous',\n",
       " 'acting horrible',\n",
       " 'acting horrific',\n",
       " 'acting however',\n",
       " 'acting improved',\n",
       " 'acting including',\n",
       " 'acting incredible',\n",
       " 'acting incredibly',\n",
       " 'acting instead',\n",
       " 'acting interesting',\n",
       " 'acting involved',\n",
       " 'acting jamie',\n",
       " 'acting job',\n",
       " 'acting jobs',\n",
       " 'acting john',\n",
       " 'acting kind',\n",
       " 'acting know',\n",
       " 'acting lack',\n",
       " 'acting lame',\n",
       " 'acting largely',\n",
       " 'acting last',\n",
       " 'acting laughable',\n",
       " 'acting leads',\n",
       " 'acting least',\n",
       " 'acting less',\n",
       " 'acting lessons',\n",
       " 'acting level',\n",
       " 'acting like',\n",
       " 'acting little',\n",
       " 'acting lot',\n",
       " 'acting lots',\n",
       " 'acting lousy',\n",
       " 'acting love',\n",
       " 'acting low',\n",
       " 'acting made',\n",
       " 'acting magnificent',\n",
       " 'acting main',\n",
       " 'acting mainly',\n",
       " 'acting make',\n",
       " 'acting makes',\n",
       " 'acting many',\n",
       " 'acting marvelous',\n",
       " 'acting may',\n",
       " 'acting maybe',\n",
       " 'acting mean',\n",
       " 'acting mediocre',\n",
       " 'acting mention',\n",
       " 'acting merely',\n",
       " 'acting michael',\n",
       " 'acting minor',\n",
       " 'acting moments',\n",
       " 'acting mostly',\n",
       " 'acting movie',\n",
       " 'acting movies',\n",
       " 'acting much',\n",
       " 'acting muscles',\n",
       " 'acting music',\n",
       " 'acting must',\n",
       " 'acting name',\n",
       " 'acting natural',\n",
       " 'acting never',\n",
       " 'acting nice',\n",
       " 'acting non',\n",
       " 'acting none',\n",
       " 'acting nothing',\n",
       " 'acting often',\n",
       " 'acting oh',\n",
       " 'acting ok',\n",
       " 'acting okay',\n",
       " 'acting one',\n",
       " 'acting outstanding',\n",
       " 'acting overall',\n",
       " 'acting overly',\n",
       " 'acting painful',\n",
       " 'acting par',\n",
       " 'acting part',\n",
       " 'acting particularly',\n",
       " 'acting parts',\n",
       " 'acting passable',\n",
       " 'acting pathetic',\n",
       " 'acting people',\n",
       " 'acting performance',\n",
       " 'acting performances',\n",
       " 'acting perhaps',\n",
       " 'acting photography',\n",
       " 'acting plain',\n",
       " 'acting plenty',\n",
       " 'acting plot',\n",
       " 'acting point',\n",
       " 'acting poor',\n",
       " 'acting poorly',\n",
       " 'acting porn',\n",
       " 'acting predictable',\n",
       " 'acting pretty',\n",
       " 'acting principals',\n",
       " 'acting probably',\n",
       " 'acting problem',\n",
       " 'acting production',\n",
       " 'acting profession',\n",
       " 'acting prowess',\n",
       " 'acting put',\n",
       " 'acting quality',\n",
       " 'acting quite',\n",
       " 'acting range',\n",
       " 'acting rather',\n",
       " 'acting real',\n",
       " 'acting really',\n",
       " 'acting reason',\n",
       " 'acting remember',\n",
       " 'acting reminded',\n",
       " 'acting reminiscent',\n",
       " 'acting rest',\n",
       " 'acting richard',\n",
       " 'acting ridiculous',\n",
       " 'acting right',\n",
       " 'acting role',\n",
       " 'acting roles',\n",
       " 'acting round',\n",
       " 'acting said',\n",
       " 'acting save',\n",
       " 'acting scene',\n",
       " 'acting scenes',\n",
       " 'acting school',\n",
       " 'acting script',\n",
       " 'acting second',\n",
       " 'acting see',\n",
       " 'acting seemed',\n",
       " 'acting seems',\n",
       " 'acting seen',\n",
       " ...]"
      ]
     },
     "execution_count": 179,
     "metadata": {},
     "output_type": "execute_result"
    }
   ],
   "source": [
    "vectorizer.get_feature_names()"
   ]
  },
  {
   "cell_type": "code",
   "execution_count": 181,
   "id": "coated-analysis",
   "metadata": {},
   "outputs": [
    {
     "data": {
      "text/plain": [
       "('actor', 'like')"
      ]
     },
     "execution_count": 181,
     "metadata": {},
     "output_type": "execute_result"
    }
   ],
   "source": [
    "vectorizer.get_feature_names()[1262], vectorizer.get_feature_names()[68821]"
   ]
  },
  {
   "cell_type": "code",
   "execution_count": 176,
   "id": "about-mechanism",
   "metadata": {},
   "outputs": [
    {
     "name": "stdout",
     "output_type": "stream",
     "text": [
      "  (0, 1262)\t1\n",
      "  (0, 101182)\t1\n",
      "  (0, 68821)\t2\n",
      "  (0, 60537)\t1\n",
      "  (0, 43931)\t1\n",
      "  (0, 88223)\t1\n",
      "  (0, 4689)\t2\n",
      "  (0, 11549)\t1\n",
      "  (0, 14502)\t2\n",
      "  (0, 50926)\t1\n",
      "  (0, 133960)\t2\n",
      "  (0, 20635)\t1\n",
      "  (0, 111721)\t2\n",
      "  (0, 142797)\t1\n",
      "  (0, 94528)\t2\n",
      "  (0, 66213)\t1\n",
      "  (0, 45813)\t1\n",
      "  (0, 90985)\t3\n",
      "  (0, 129678)\t1\n",
      "  (0, 30048)\t2\n",
      "  (0, 8467)\t1\n",
      "  (0, 129684)\t2\n",
      "  (0, 142719)\t1\n",
      "  (0, 90993)\t1\n",
      "  (0, 137462)\t1\n",
      "  :\t:\n",
      "  (0, 127159)\t1\n",
      "  (0, 1351)\t1\n",
      "  (0, 101480)\t1\n",
      "  (0, 60540)\t1\n",
      "  (0, 44167)\t1\n",
      "  (0, 4693)\t1\n",
      "  (0, 94533)\t1\n",
      "  (0, 90988)\t2\n",
      "  (0, 6539)\t1\n",
      "  (0, 24450)\t1\n",
      "  (0, 49620)\t1\n",
      "  (0, 21819)\t1\n",
      "  (0, 54520)\t1\n",
      "  (0, 70644)\t1\n",
      "  (0, 28669)\t1\n",
      "  (0, 43662)\t1\n",
      "  (0, 20218)\t1\n",
      "  (0, 78884)\t1\n",
      "  (0, 19071)\t1\n",
      "  (0, 116462)\t1\n",
      "  (0, 30062)\t1\n",
      "  (0, 48722)\t1\n",
      "  (0, 43116)\t1\n",
      "  (0, 92004)\t1\n",
      "  (0, 85830)\t1\n"
     ]
    }
   ],
   "source": [
    "print(x_train_vect[0])"
   ]
  },
  {
   "cell_type": "code",
   "execution_count": 178,
   "id": "modified-complexity",
   "metadata": {},
   "outputs": [
    {
     "data": {
      "text/plain": [
       "'actor really like independent films one amateur best boys go vermont civil service yet plane lands flies palm tree directors aware palm trees vermont pines yes palms wedding service nice grove palm trees boys leaving vt apparently could get ticket major airline since plane filmed federal express ship overnight crate come guys little details like separate indi film totally amateur christian brother far gayer arthur bleached hair tribal band tattoo two switched roles minor characters laughable overact something terrible applause directors making gay film pay attention locations casting next time'"
      ]
     },
     "execution_count": 178,
     "metadata": {},
     "output_type": "execute_result"
    }
   ],
   "source": [
    "X_train[0]"
   ]
  },
  {
   "cell_type": "code",
   "execution_count": 182,
   "id": "molecular-jacob",
   "metadata": {},
   "outputs": [],
   "source": [
    "model = LogisticRegression()"
   ]
  },
  {
   "cell_type": "code",
   "execution_count": 183,
   "id": "mighty-reach",
   "metadata": {},
   "outputs": [
    {
     "name": "stderr",
     "output_type": "stream",
     "text": [
      "/Library/Frameworks/Python.framework/Versions/3.6/lib/python3.6/site-packages/sklearn/linear_model/_logistic.py:765: ConvergenceWarning: lbfgs failed to converge (status=1):\n",
      "STOP: TOTAL NO. of ITERATIONS REACHED LIMIT.\n",
      "\n",
      "Increase the number of iterations (max_iter) or scale the data as shown in:\n",
      "    https://scikit-learn.org/stable/modules/preprocessing.html\n",
      "Please also refer to the documentation for alternative solver options:\n",
      "    https://scikit-learn.org/stable/modules/linear_model.html#logistic-regression\n",
      "  extra_warning_msg=_LOGISTIC_SOLVER_CONVERGENCE_MSG)\n"
     ]
    },
    {
     "data": {
      "text/plain": [
       "LogisticRegression()"
      ]
     },
     "execution_count": 183,
     "metadata": {},
     "output_type": "execute_result"
    }
   ],
   "source": [
    "model.fit(x_train_vect, y_train)"
   ]
  },
  {
   "cell_type": "code",
   "execution_count": 184,
   "id": "talented-planet",
   "metadata": {},
   "outputs": [],
   "source": [
    "y_pred = model.predict(x_test_vect)"
   ]
  },
  {
   "cell_type": "code",
   "execution_count": 185,
   "id": "distinct-developer",
   "metadata": {},
   "outputs": [
    {
     "data": {
      "text/plain": [
       "0.8878"
      ]
     },
     "execution_count": 185,
     "metadata": {},
     "output_type": "execute_result"
    }
   ],
   "source": [
    "accuracy_score(y_test, y_pred)"
   ]
  },
  {
   "cell_type": "code",
   "execution_count": 186,
   "id": "popular-friendly",
   "metadata": {},
   "outputs": [
    {
     "name": "stdout",
     "output_type": "stream",
     "text": [
      "              precision    recall  f1-score   support\n",
      "\n",
      "           0       0.89      0.88      0.89      2483\n",
      "           1       0.88      0.90      0.89      2517\n",
      "\n",
      "    accuracy                           0.89      5000\n",
      "   macro avg       0.89      0.89      0.89      5000\n",
      "weighted avg       0.89      0.89      0.89      5000\n",
      "\n"
     ]
    }
   ],
   "source": [
    "print(classification_report(y_test, y_pred))"
   ]
  },
  {
   "cell_type": "code",
   "execution_count": 187,
   "id": "instrumental-production",
   "metadata": {},
   "outputs": [],
   "source": [
    "cm = confusion_matrix(y_test, y_pred)"
   ]
  },
  {
   "cell_type": "code",
   "execution_count": 192,
   "id": "danish-mills",
   "metadata": {},
   "outputs": [
    {
     "data": {
      "text/plain": [
       "<sklearn.metrics._plot.confusion_matrix.ConfusionMatrixDisplay at 0x7f78ec56be48>"
      ]
     },
     "execution_count": 192,
     "metadata": {},
     "output_type": "execute_result"
    },
    {
     "data": {
      "image/png": "[encoded data removed]",
      "text/plain": [
       "<Figure size 432x288 with 2 Axes>"
      ]
     },
     "metadata": {
      "needs_background": "light"
     },
     "output_type": "display_data"
    }
   ],
   "source": [
    "ConfusionMatrixDisplay(cm, display_labels=[\"Negative\",\"Positive\"]).plot()"
   ]
  },
  {
   "cell_type": "code",
   "execution_count": 193,
   "id": "russian-inquiry",
   "metadata": {},
   "outputs": [
    {
     "data": {
      "text/plain": [
       "0.0596"
      ]
     },
     "execution_count": 193,
     "metadata": {},
     "output_type": "execute_result"
    }
   ],
   "source": [
    "11"
   ]
  },
  {
   "cell_type": "code",
   "execution_count": null,
   "id": "united-journal",
   "metadata": {},
   "outputs": [],
   "source": []
  }
 ],
 "metadata": {
  "kernelspec": {
   "display_name": "Python 3",
   "language": "python",
   "name": "python3"
  },
  "language_info": {
   "codemirror_mode": {
    "name": "ipython",
    "version": 3
   },
   "file_extension": ".py",
   "mimetype": "text/x-python",
   "name": "python",
   "nbconvert_exporter": "python",
   "pygments_lexer": "ipython3",
   "version": "3.6.8"
  },
  "nbTranslate": {
   "displayLangs": [
    "*"
   ],
   "hotkey": "alt-t",
   "langInMainMenu": true,
   "sourceLang": "en",
   "targetLang": "fr",
   "useGoogleTranslate": true
  },
  "toc": {
   "base_numbering": 1,
   "nav_menu": {},
   "number_sections": true,
   "sideBar": true,
   "skip_h1_title": false,
   "title_cell": "Table of Contents",
   "title_sidebar": "Contents",
   "toc_cell": false,
   "toc_position": {
    "height": "calc(100% - 180px)",
    "left": "10px",
    "top": "150px",
    "width": "209.6px"
   },
   "toc_section_display": true,
   "toc_window_display": true
  },
  "varInspector": {
   "cols": {
    "lenName": 16,
    "lenType": 16,
    "lenVar": 40
   },
   "kernels_config": {
    "python": {
     "delete_cmd_postfix": "",
     "delete_cmd_prefix": "del ",
     "library": "var_list.py",
     "varRefreshCmd": "print(var_dic_list())"
    },
    "r": {
     "delete_cmd_postfix": ") ",
     "delete_cmd_prefix": "rm(",
     "library": "var_list.r",
     "varRefreshCmd": "cat(var_dic_list()) "
    }
   },
   "types_to_exclude": [
    "module",
    "function",
    "builtin_function_or_method",
    "instance",
    "_Feature"
   ],
   "window_display": false
  }
 },
 "nbformat": 4,
 "nbformat_minor": 5
}
