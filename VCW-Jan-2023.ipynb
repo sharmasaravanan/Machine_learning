{
 "cells": [
  {
   "cell_type": "code",
   "execution_count": 1,
   "id": "religious-motivation",
   "metadata": {
    "collapsed": true
   },
   "outputs": [
    {
     "name": "stdout",
     "output_type": "stream",
     "text": [
      "hello world\n"
     ]
    }
   ],
   "source": [
    "print(\"hello world\")"
   ]
  },
  {
   "cell_type": "code",
   "execution_count": 2,
   "id": "stuffed-chosen",
   "metadata": {},
   "outputs": [],
   "source": [
    "a = 5\n",
    "b = 3.14\n",
    "c = 'apple'\n",
    "d = True"
   ]
  },
  {
   "cell_type": "code",
   "execution_count": 4,
   "id": "realistic-pledge",
   "metadata": {
    "collapsed": true
   },
   "outputs": [
    {
     "name": "stdout",
     "output_type": "stream",
     "text": [
      "5\n",
      "3.14\n",
      "apple\n",
      "True\n",
      "d\n"
     ]
    },
    {
     "ename": "NameError",
     "evalue": "name 'e' is not defined",
     "output_type": "error",
     "traceback": [
      "\u001b[0;31m---------------------------------------------------------------------------\u001b[0m",
      "\u001b[0;31mNameError\u001b[0m                                 Traceback (most recent call last)",
      "\u001b[0;32m<ipython-input-4-a769335db3bf>\u001b[0m in \u001b[0;36m<module>\u001b[0;34m\u001b[0m\n\u001b[1;32m      4\u001b[0m \u001b[0mprint\u001b[0m\u001b[0;34m(\u001b[0m\u001b[0md\u001b[0m\u001b[0;34m)\u001b[0m\u001b[0;34m\u001b[0m\u001b[0;34m\u001b[0m\u001b[0m\n\u001b[1;32m      5\u001b[0m \u001b[0mprint\u001b[0m\u001b[0;34m(\u001b[0m\u001b[0;34m'd'\u001b[0m\u001b[0;34m)\u001b[0m\u001b[0;34m\u001b[0m\u001b[0;34m\u001b[0m\u001b[0m\n\u001b[0;32m----> 6\u001b[0;31m \u001b[0mprint\u001b[0m\u001b[0;34m(\u001b[0m\u001b[0me\u001b[0m\u001b[0;34m)\u001b[0m\u001b[0;34m\u001b[0m\u001b[0;34m\u001b[0m\u001b[0m\n\u001b[0m",
      "\u001b[0;31mNameError\u001b[0m: name 'e' is not defined"
     ]
    }
   ],
   "source": [
    "print(a)\n",
    "print(b)\n",
    "print(c)\n",
    "print(d)\n",
    "print('d')\n",
    "print(e)"
   ]
  },
  {
   "cell_type": "code",
   "execution_count": 5,
   "id": "intended-henry",
   "metadata": {
    "collapsed": true
   },
   "outputs": [
    {
     "name": "stdout",
     "output_type": "stream",
     "text": [
      "<class 'int'>\n",
      "<class 'float'>\n",
      "<class 'str'>\n",
      "<class 'bool'>\n"
     ]
    }
   ],
   "source": [
    "print(type(a))\n",
    "print(type(b))\n",
    "print(type(c))\n",
    "print(type(d))"
   ]
  },
  {
   "cell_type": "code",
   "execution_count": 10,
   "id": "liable-nowhere",
   "metadata": {},
   "outputs": [
    {
     "name": "stdout",
     "output_type": "stream",
     "text": [
      "Enter your name: apple\n"
     ]
    }
   ],
   "source": [
    "name = input(\"Enter your name: \")"
   ]
  },
  {
   "cell_type": "code",
   "execution_count": 11,
   "id": "wired-manor",
   "metadata": {},
   "outputs": [
    {
     "name": "stdout",
     "output_type": "stream",
     "text": [
      "apple\n"
     ]
    }
   ],
   "source": [
    "print(name)"
   ]
  },
  {
   "cell_type": "code",
   "execution_count": 12,
   "id": "second-truck",
   "metadata": {},
   "outputs": [
    {
     "name": "stdout",
     "output_type": "stream",
     "text": [
      "Entered name is apple\n"
     ]
    }
   ],
   "source": [
    "print(\"Entered name is\", name)"
   ]
  },
  {
   "cell_type": "code",
   "execution_count": 13,
   "id": "basic-influence",
   "metadata": {},
   "outputs": [
    {
     "name": "stdout",
     "output_type": "stream",
     "text": [
      "5 3.14 apple True\n"
     ]
    }
   ],
   "source": [
    "print(a,b,c,d)"
   ]
  },
  {
   "cell_type": "code",
   "execution_count": 17,
   "id": "editorial-cartridge",
   "metadata": {
    "collapsed": true
   },
   "outputs": [
    {
     "name": "stdout",
     "output_type": "stream",
     "text": [
      "7\n",
      "3\n",
      "10\n",
      "2.5\n",
      "1\n",
      "2\n",
      "25\n"
     ]
    }
   ],
   "source": [
    "print( 5 + 2 )\n",
    "print( 5 - 2 )\n",
    "print( 5 * 2 )\n",
    "print( 5 / 2 )\n",
    "print( 5 % 2 )\n",
    "print( 5 // 2 )\n",
    "print( 5 ** 2 )"
   ]
  },
  {
   "cell_type": "code",
   "execution_count": 18,
   "id": "removed-college",
   "metadata": {
    "collapsed": true
   },
   "outputs": [
    {
     "name": "stdout",
     "output_type": "stream",
     "text": [
      "False\n",
      "True\n",
      "False\n",
      "True\n",
      "False\n",
      "True\n"
     ]
    }
   ],
   "source": [
    "print( 5 < 2 )\n",
    "print( 5 > 2 )\n",
    "print( 5 <= 2 )\n",
    "print( 5 >= 2 )\n",
    "print( 5 == 2 )\n",
    "print( 5 != 2 )"
   ]
  },
  {
   "cell_type": "code",
   "execution_count": 19,
   "id": "designing-point",
   "metadata": {
    "collapsed": true
   },
   "outputs": [
    {
     "name": "stdout",
     "output_type": "stream",
     "text": [
      "False\n",
      "True\n",
      "True\n",
      "False\n",
      "True\n",
      "False\n",
      "True\n"
     ]
    }
   ],
   "source": [
    "print( 5 < 2 and 5 > 2 )\n",
    "print( 5 < 20 and 5 > 2 )\n",
    "\n",
    "print( 5 < 2 or 5 > 2 )\n",
    "print( 5 < 2 or 5 > 21 )\n",
    "print( 5 < 20 or 5 > 2 )\n",
    "\n",
    "\n",
    "\n",
    "print(not a)\n",
    "a = None\n",
    "print(not a)"
   ]
  },
  {
   "cell_type": "code",
   "execution_count": 20,
   "id": "reduced-directory",
   "metadata": {
    "collapsed": true
   },
   "outputs": [
    {
     "name": "stdout",
     "output_type": "stream",
     "text": [
      "Enter any number: 4\n",
      "4 <class 'str'>\n"
     ]
    }
   ],
   "source": [
    "num = input(\"Enter any number: \")\n",
    "print(num, type(num))"
   ]
  },
  {
   "cell_type": "code",
   "execution_count": 24,
   "id": "novel-michigan",
   "metadata": {
    "collapsed": true
   },
   "outputs": [
    {
     "name": "stdout",
     "output_type": "stream",
     "text": [
      "Enter any number: 3\n",
      "Number is odd\n",
      "hi\n"
     ]
    }
   ],
   "source": [
    "num = int(input(\"Enter any number: \"))\n",
    "if num % 2 == 0:\n",
    "    print(\"Number is even\")\n",
    "else:\n",
    "    print(\"Number is odd\")\n"
   ]
  },
  {
   "cell_type": "code",
   "execution_count": 27,
   "id": "paperback-january",
   "metadata": {},
   "outputs": [
    {
     "name": "stdout",
     "output_type": "stream",
     "text": [
      "Enter any number: 5\n",
      "Number is odd\n"
     ]
    }
   ],
   "source": [
    "num = int(input(\"Enter any number: \"))\n",
    "if num % 4 == 0:\n",
    "    print(\"Divisible by 4 and its even\")\n",
    "elif num % 2 == 0:\n",
    "    print(\"Number is even\")\n",
    "else:\n",
    "    print(\"Number is odd\")\n"
   ]
  },
  {
   "cell_type": "code",
   "execution_count": 29,
   "id": "harmful-diagnosis",
   "metadata": {},
   "outputs": [
    {
     "name": "stdout",
     "output_type": "stream",
     "text": [
      "Enter any number: 3\n"
     ]
    }
   ],
   "source": [
    "num = int(input(\"Enter any number: \"))\n",
    "if num % 4 == 0:\n",
    "    print(\"Divisible by 4 and its even\")"
   ]
  },
  {
   "cell_type": "code",
   "execution_count": null,
   "id": "adequate-doctor",
   "metadata": {},
   "outputs": [],
   "source": [
    "r = float(input(\"Enter the radius of the circle: \"))\n",
    "print(\"Area of the circle is\", 3.14 * r * r)"
   ]
  },
  {
   "cell_type": "code",
   "execution_count": null,
   "id": "working-colony",
   "metadata": {},
   "outputs": [],
   "source": [
    "a = float(input(\"Enter the sides of the square: \"))\n",
    "print(\"Area of the square is\", a * a)"
   ]
  },
  {
   "cell_type": "code",
   "execution_count": 36,
   "id": "international-heater",
   "metadata": {},
   "outputs": [
    {
     "name": "stdout",
     "output_type": "stream",
     "text": [
      "Enter the principal amount: 100000\n",
      "Enter rate of interest: 11.5\n",
      "Enter time in years: 4\n",
      "Compound interest is 54560.84006250001\n"
     ]
    }
   ],
   "source": [
    "principal = int(input(\"Enter the principal amount: \"))\n",
    "rate = float(input(\"Enter rate of interest: \"))\n",
    "time = int(input(\"Enter time in years: \" ))\n",
    "\n",
    "Amount = principal * ((1 + rate / 100) ** time)\n",
    "CI = Amount - principal\n",
    "print(\"Compound interest is\", CI)"
   ]
  },
  {
   "cell_type": "code",
   "execution_count": 38,
   "id": "spatial-influence",
   "metadata": {},
   "outputs": [
    {
     "name": "stdout",
     "output_type": "stream",
     "text": [
      "Enter the object name: square\n",
      "Invalid option\n"
     ]
    }
   ],
   "source": [
    "option = input(\"Enter the object name: \")\n",
    "if option == \"circle\":\n",
    "    r = float(input(\"Enter the radius of the circle: \"))\n",
    "    print(\"Area of the circle is\", 3.14 * r * r)\n",
    "else:\n",
    "    print(\"Invalid option\")"
   ]
  },
  {
   "cell_type": "code",
   "execution_count": null,
   "id": "several-server",
   "metadata": {},
   "outputs": [],
   "source": []
  },
  {
   "cell_type": "code",
   "execution_count": 39,
   "id": "previous-terrain",
   "metadata": {},
   "outputs": [
    {
     "name": "stdout",
     "output_type": "stream",
     "text": [
      "Hello! This program can help you to calculate the area of the following objects \n",
      "1. circle\n",
      "2. square\n",
      "3. rectangle\n",
      "\n",
      "Enter the object you want to calculate: circle\n",
      "Enter the radius of the circle: 2\n",
      "Area of the circle is 12.56\n",
      "Enter the object you want to calculate: a\n",
      "Invalid option\n",
      "Enter the object you want to calculate: 2\n",
      "Enter the sides of the square: 5\n",
      "Area of the square is 25.0\n"
     ]
    }
   ],
   "source": [
    "print(\"\"\"\n",
    "    Hello! This program can help you to calculate the area of the following objects\n",
    "    \\n1. circle\\n2. square\\n3. rectangle\"\"\"\n",
    ")\n",
    "print()\n",
    "for i in range(3):\n",
    "    choice = eval(input(\"Enter the object you want to calculate: \"))\n",
    "    if choice == \"circle\" or choice == '1':\n",
    "        r = float(eval(input(\"Enter the radius of the circle: \")))\n",
    "        print((\"Area of the circle is\", 3.14 * r * r))\n",
    "    elif choice == \"square\" or choice == '2':\n",
    "        a = float(eval(input(\"Enter the sides of the square: \")))\n",
    "        print((\"Area of the square is\", a * a))\n",
    "    elif choice == \"rectangle\" or choice == '3':\n",
    "        l = float(eval(input(\"Enter the length of the rectangle: \")))\n",
    "        b = float(eval(input(\"Enter the breadth of the rectangle: \")))\n",
    "        print((\"Area of the rectangle is\", a * a))\n",
    "    else:\n",
    "        print(\"Invalid option\")"
   ]
  },
  {
   "cell_type": "code",
   "execution_count": 40,
   "id": "typical-security",
   "metadata": {},
   "outputs": [
    {
     "name": "stdout",
     "output_type": "stream",
     "text": [
      "Enter any number: 20\n",
      "Divisible by 4 and its even\n",
      "Enter any number: 10\n",
      "Number is even\n",
      "Enter any number: 5\n",
      "Number is odd\n"
     ]
    }
   ],
   "source": [
    "i = 1\n",
    "while i <= 3:\n",
    "    num = int(input(\"Enter any number: \"))\n",
    "    if num % 4 == 0:\n",
    "        print(\"Divisible by 4 and its even\")\n",
    "    elif num % 2 == 0:\n",
    "        print(\"Number is even\")\n",
    "    else:\n",
    "        print(\"Number is odd\")\n",
    "    i = i + 1"
   ]
  },
  {
   "cell_type": "code",
   "execution_count": 41,
   "id": "alike-forwarding",
   "metadata": {
    "collapsed": true
   },
   "outputs": [
    {
     "name": "stdout",
     "output_type": "stream",
     "text": [
      "Enter any number: 21\n",
      "Number is odd\n",
      "Enter any number: 23\n",
      "Number is odd\n",
      "Enter any number: 42\n",
      "Number is even\n"
     ]
    }
   ],
   "source": [
    "for i in range(3):\n",
    "    num = int(input(\"Enter any number: \"))\n",
    "    if num % 4 == 0:\n",
    "        print(\"Divisible by 4 and its even\")\n",
    "    elif num % 2 == 0:\n",
    "        print(\"Number is even\")\n",
    "    else:\n",
    "        print(\"Number is odd\")"
   ]
  },
  {
   "cell_type": "code",
   "execution_count": null,
   "id": "dietary-evans",
   "metadata": {},
   "outputs": [],
   "source": [
    "c = 'apple'\n",
    "for i in c:\n",
    "    num = int(input(\"Enter any number: \"))\n",
    "    if num % 4 == 0:\n",
    "        print(\"Divisible by 4 and its even\")\n",
    "    elif num % 2 == 0:\n",
    "        print(\"Number is even\")\n",
    "    else:\n",
    "        print(\"Number is odd\")"
   ]
  },
  {
   "cell_type": "code",
   "execution_count": null,
   "id": "elect-dream",
   "metadata": {},
   "outputs": [],
   "source": [
    "Books :- http://bit.ly/AI_material\n",
    "Exercise:- https://www.w3resource.com/python-exercises/ , \n",
    "        https://www.practicepython.org/\n",
    "Cheatsheet :- http://bit.ly/AIcheatsheet\n"
   ]
  },
  {
   "cell_type": "code",
   "execution_count": null,
   "id": "meaningful-latex",
   "metadata": {},
   "outputs": [],
   "source": [
    "list\n",
    "dictionary\n",
    "function\n",
    "libraries\n",
    "file handling\n",
    "Visualisation \n",
    "\n",
    "data science Implementation steps\n",
    "projects - 2\n",
    "\n",
    "info related jobs\n"
   ]
  },
  {
   "cell_type": "code",
   "execution_count": 42,
   "id": "assumed-patio",
   "metadata": {},
   "outputs": [],
   "source": [
    "L = []\n",
    "l = [\"apple\", \"papaya\", \"carrot\", 12,34,56, 3.14, 24.67]"
   ]
  },
  {
   "cell_type": "code",
   "execution_count": 44,
   "id": "colored-pendant",
   "metadata": {},
   "outputs": [
    {
     "name": "stdout",
     "output_type": "stream",
     "text": [
      "['apple', 'papaya', 'carrot', 12, 34, 56, 3.14, 24.67] []\n"
     ]
    }
   ],
   "source": [
    "print(l, L)"
   ]
  },
  {
   "cell_type": "code",
   "execution_count": 45,
   "id": "split-declaration",
   "metadata": {},
   "outputs": [
    {
     "name": "stdout",
     "output_type": "stream",
     "text": [
      "8\n"
     ]
    }
   ],
   "source": [
    "print(len(l))"
   ]
  },
  {
   "cell_type": "code",
   "execution_count": 46,
   "id": "brilliant-arbor",
   "metadata": {},
   "outputs": [
    {
     "name": "stdout",
     "output_type": "stream",
     "text": [
      "34\n"
     ]
    }
   ],
   "source": [
    "print(l[4])"
   ]
  },
  {
   "cell_type": "code",
   "execution_count": 47,
   "id": "european-brunswick",
   "metadata": {},
   "outputs": [
    {
     "name": "stdout",
     "output_type": "stream",
     "text": [
      "[34, 56, 3.14, 24.67]\n"
     ]
    }
   ],
   "source": [
    "print(l[4:])"
   ]
  },
  {
   "cell_type": "code",
   "execution_count": 48,
   "id": "determined-contractor",
   "metadata": {},
   "outputs": [
    {
     "name": "stdout",
     "output_type": "stream",
     "text": [
      "['apple', 'papaya', 'carrot', 12]\n"
     ]
    }
   ],
   "source": [
    "print(l[:4])"
   ]
  },
  {
   "cell_type": "code",
   "execution_count": 49,
   "id": "israeli-motor",
   "metadata": {},
   "outputs": [
    {
     "name": "stdout",
     "output_type": "stream",
     "text": [
      "[12, 34, 56, 3.14]\n"
     ]
    }
   ],
   "source": [
    "print(l[3:7])"
   ]
  },
  {
   "cell_type": "code",
   "execution_count": 50,
   "id": "metallic-revolution",
   "metadata": {},
   "outputs": [],
   "source": [
    "del l[3]"
   ]
  },
  {
   "cell_type": "code",
   "execution_count": 51,
   "id": "random-petersburg",
   "metadata": {},
   "outputs": [
    {
     "name": "stdout",
     "output_type": "stream",
     "text": [
      "['apple', 'papaya', 'carrot', 34, 56, 3.14, 24.67]\n"
     ]
    }
   ],
   "source": [
    "print(l)"
   ]
  },
  {
   "cell_type": "code",
   "execution_count": 52,
   "id": "pursuant-royal",
   "metadata": {},
   "outputs": [],
   "source": [
    "l.append('bat')"
   ]
  },
  {
   "cell_type": "code",
   "execution_count": 54,
   "id": "yellow-climb",
   "metadata": {},
   "outputs": [],
   "source": [
    "l.insert(3, \"pine apple\")"
   ]
  },
  {
   "cell_type": "code",
   "execution_count": 55,
   "id": "lightweight-election",
   "metadata": {},
   "outputs": [
    {
     "name": "stdout",
     "output_type": "stream",
     "text": [
      "['apple', 'papaya', 'carrot', 'pine apple', 34, 56, 3.14, 24.67, 'bat']\n"
     ]
    }
   ],
   "source": [
    "print(l)"
   ]
  },
  {
   "cell_type": "code",
   "execution_count": 56,
   "id": "linear-royalty",
   "metadata": {},
   "outputs": [],
   "source": [
    "l.remove(3.14)"
   ]
  },
  {
   "cell_type": "code",
   "execution_count": 57,
   "id": "sudden-packaging",
   "metadata": {},
   "outputs": [
    {
     "name": "stdout",
     "output_type": "stream",
     "text": [
      "['apple', 'papaya', 'carrot', 'pine apple', 34, 56, 24.67, 'bat']\n"
     ]
    }
   ],
   "source": [
    "print(l)"
   ]
  },
  {
   "cell_type": "code",
   "execution_count": 58,
   "id": "composite-bacon",
   "metadata": {},
   "outputs": [
    {
     "data": {
      "text/plain": [
       "'bat'"
      ]
     },
     "execution_count": 58,
     "metadata": {},
     "output_type": "execute_result"
    }
   ],
   "source": [
    "l.pop()"
   ]
  },
  {
   "cell_type": "code",
   "execution_count": 59,
   "id": "interesting-toyota",
   "metadata": {
    "collapsed": true
   },
   "outputs": [
    {
     "name": "stdout",
     "output_type": "stream",
     "text": [
      "['apple', 'papaya', 'carrot', 'pine apple', 34, 56, 24.67]\n"
     ]
    }
   ],
   "source": [
    "print(l)"
   ]
  },
  {
   "cell_type": "code",
   "execution_count": 60,
   "id": "embedded-collar",
   "metadata": {
    "collapsed": true
   },
   "outputs": [
    {
     "name": "stdout",
     "output_type": "stream",
     "text": [
      "[]\n"
     ]
    }
   ],
   "source": [
    "print(L)"
   ]
  },
  {
   "cell_type": "code",
   "execution_count": 61,
   "id": "partial-statement",
   "metadata": {},
   "outputs": [],
   "source": [
    "L.append(\"sharma\")"
   ]
  },
  {
   "cell_type": "code",
   "execution_count": 62,
   "id": "certified-sunday",
   "metadata": {
    "collapsed": true
   },
   "outputs": [
    {
     "name": "stdout",
     "output_type": "stream",
     "text": [
      "['sharma']\n"
     ]
    }
   ],
   "source": [
    "print(L)"
   ]
  },
  {
   "cell_type": "code",
   "execution_count": 64,
   "id": "southwest-carolina",
   "metadata": {},
   "outputs": [],
   "source": [
    "l.append('apple')"
   ]
  },
  {
   "cell_type": "code",
   "execution_count": 65,
   "id": "suited-blogger",
   "metadata": {},
   "outputs": [
    {
     "data": {
      "text/plain": [
       "2"
      ]
     },
     "execution_count": 65,
     "metadata": {},
     "output_type": "execute_result"
    }
   ],
   "source": [
    "l.count('apple')"
   ]
  },
  {
   "cell_type": "code",
   "execution_count": 66,
   "id": "packed-jacket",
   "metadata": {
    "collapsed": true
   },
   "outputs": [
    {
     "name": "stdout",
     "output_type": "stream",
     "text": [
      "['apple', 'papaya', 'carrot', 'pine apple', 34, 56, 24.67, 'apple']\n"
     ]
    }
   ],
   "source": [
    "print(l)"
   ]
  },
  {
   "cell_type": "code",
   "execution_count": 67,
   "id": "conventional-barbados",
   "metadata": {},
   "outputs": [],
   "source": [
    "l.reverse()"
   ]
  },
  {
   "cell_type": "code",
   "execution_count": 68,
   "id": "killing-breed",
   "metadata": {
    "collapsed": true
   },
   "outputs": [
    {
     "name": "stdout",
     "output_type": "stream",
     "text": [
      "['apple', 24.67, 56, 34, 'pine apple', 'carrot', 'papaya', 'apple']\n"
     ]
    }
   ],
   "source": [
    "print(l)"
   ]
  },
  {
   "cell_type": "code",
   "execution_count": 69,
   "id": "greater-thanks",
   "metadata": {
    "collapsed": true
   },
   "outputs": [
    {
     "name": "stdout",
     "output_type": "stream",
     "text": [
      "apple\n",
      "24.67\n",
      "56\n",
      "34\n",
      "pine apple\n",
      "carrot\n",
      "papaya\n",
      "apple\n"
     ]
    }
   ],
   "source": [
    "for i in l:\n",
    "    print(i)"
   ]
  },
  {
   "cell_type": "code",
   "execution_count": 70,
   "id": "capital-cedar",
   "metadata": {},
   "outputs": [],
   "source": [
    "for i in l:\n",
    "    if str(i).isalpha():\n",
    "        L.append(i)"
   ]
  },
  {
   "cell_type": "code",
   "execution_count": 71,
   "id": "organizational-planner",
   "metadata": {},
   "outputs": [
    {
     "data": {
      "text/plain": [
       "['sharma', 'apple', 'carrot', 'papaya', 'apple']"
      ]
     },
     "execution_count": 71,
     "metadata": {},
     "output_type": "execute_result"
    }
   ],
   "source": [
    "L"
   ]
  },
  {
   "cell_type": "code",
   "execution_count": 73,
   "id": "annoying-bracket",
   "metadata": {},
   "outputs": [],
   "source": [
    "D = {}\n",
    "d = {'a': 'apple', 'b': 'ball', 3: \"cat\", 2.4: 4567, 'list': l}"
   ]
  },
  {
   "cell_type": "code",
   "execution_count": 74,
   "id": "decreased-prairie",
   "metadata": {
    "collapsed": true
   },
   "outputs": [
    {
     "name": "stdout",
     "output_type": "stream",
     "text": [
      "{'a': 'apple', 'b': 'ball', 3: 'cat', 2.4: 4567, 'list': ['apple', 24.67, 56, 34, 'pine apple', 'carrot', 'papaya', 'apple']}\n"
     ]
    }
   ],
   "source": [
    "print(d)"
   ]
  },
  {
   "cell_type": "code",
   "execution_count": 75,
   "id": "pediatric-preference",
   "metadata": {
    "collapsed": true
   },
   "outputs": [
    {
     "name": "stdout",
     "output_type": "stream",
     "text": [
      "apple\n"
     ]
    }
   ],
   "source": [
    "print(d['a'])"
   ]
  },
  {
   "cell_type": "code",
   "execution_count": 77,
   "id": "affected-orange",
   "metadata": {},
   "outputs": [],
   "source": [
    "d['b'] = 'bat'"
   ]
  },
  {
   "cell_type": "code",
   "execution_count": 78,
   "id": "reasonable-birmingham",
   "metadata": {
    "collapsed": true
   },
   "outputs": [
    {
     "name": "stdout",
     "output_type": "stream",
     "text": [
      "{'a': 'apple', 'b': 'bat', 3: 'cat', 2.4: 4567, 'list': ['apple', 24.67, 56, 34, 'pine apple', 'carrot', 'papaya', 'apple']}\n"
     ]
    }
   ],
   "source": [
    "print(d)"
   ]
  },
  {
   "cell_type": "code",
   "execution_count": 79,
   "id": "modified-education",
   "metadata": {},
   "outputs": [],
   "source": [
    "d['e'] = 'elephant'"
   ]
  },
  {
   "cell_type": "code",
   "execution_count": 80,
   "id": "resistant-volunteer",
   "metadata": {
    "collapsed": true
   },
   "outputs": [
    {
     "name": "stdout",
     "output_type": "stream",
     "text": [
      "{'a': 'apple', 'b': 'bat', 3: 'cat', 2.4: 4567, 'list': ['apple', 24.67, 56, 34, 'pine apple', 'carrot', 'papaya', 'apple'], 'e': 'elephant'}\n"
     ]
    }
   ],
   "source": [
    "print(d)"
   ]
  },
  {
   "cell_type": "code",
   "execution_count": 81,
   "id": "prerequisite-relationship",
   "metadata": {},
   "outputs": [],
   "source": [
    "d[3] = \"carrot\""
   ]
  },
  {
   "cell_type": "code",
   "execution_count": 82,
   "id": "therapeutic-drilling",
   "metadata": {
    "collapsed": true
   },
   "outputs": [
    {
     "data": {
      "text/plain": [
       "{'a': 'apple',\n",
       " 'b': 'bat',\n",
       " 3: 'carrot',\n",
       " 2.4: 4567,\n",
       " 'list': ['apple', 24.67, 56, 34, 'pine apple', 'carrot', 'papaya', 'apple'],\n",
       " 'e': 'elephant'}"
      ]
     },
     "execution_count": 82,
     "metadata": {},
     "output_type": "execute_result"
    }
   ],
   "source": [
    "d"
   ]
  },
  {
   "cell_type": "code",
   "execution_count": 83,
   "id": "characteristic-digit",
   "metadata": {},
   "outputs": [],
   "source": [
    "D.update({'s':\"sharma\"})"
   ]
  },
  {
   "cell_type": "code",
   "execution_count": 84,
   "id": "amateur-workshop",
   "metadata": {},
   "outputs": [
    {
     "data": {
      "text/plain": [
       "{'s': 'sharma'}"
      ]
     },
     "execution_count": 84,
     "metadata": {},
     "output_type": "execute_result"
    }
   ],
   "source": [
    "D"
   ]
  },
  {
   "cell_type": "code",
   "execution_count": 85,
   "id": "annoying-morning",
   "metadata": {
    "scrolled": true
   },
   "outputs": [
    {
     "name": "stdout",
     "output_type": "stream",
     "text": [
      "dict_keys(['a', 'b', 3, 2.4, 'list', 'e'])\n"
     ]
    }
   ],
   "source": [
    "print(d.keys())"
   ]
  },
  {
   "cell_type": "code",
   "execution_count": 86,
   "id": "alpha-freeze",
   "metadata": {
    "collapsed": true
   },
   "outputs": [
    {
     "name": "stdout",
     "output_type": "stream",
     "text": [
      "dict_values(['apple', 'bat', 'carrot', 4567, ['apple', 24.67, 56, 34, 'pine apple', 'carrot', 'papaya', 'apple'], 'elephant'])\n"
     ]
    }
   ],
   "source": [
    "print(d.values())"
   ]
  },
  {
   "cell_type": "code",
   "execution_count": 87,
   "id": "manual-hazard",
   "metadata": {
    "collapsed": true
   },
   "outputs": [
    {
     "name": "stdout",
     "output_type": "stream",
     "text": [
      "dict_items([('a', 'apple'), ('b', 'bat'), (3, 'carrot'), (2.4, 4567), ('list', ['apple', 24.67, 56, 34, 'pine apple', 'carrot', 'papaya', 'apple']), ('e', 'elephant')])\n"
     ]
    }
   ],
   "source": [
    "print(d.items())"
   ]
  },
  {
   "cell_type": "code",
   "execution_count": 88,
   "id": "improving-monaco",
   "metadata": {
    "collapsed": true
   },
   "outputs": [
    {
     "name": "stdout",
     "output_type": "stream",
     "text": [
      "a\n",
      "b\n",
      "3\n",
      "2.4\n",
      "list\n",
      "e\n"
     ]
    }
   ],
   "source": [
    "for i in d.keys():\n",
    "    print(i)"
   ]
  },
  {
   "cell_type": "code",
   "execution_count": 89,
   "id": "equal-sally",
   "metadata": {
    "collapsed": true
   },
   "outputs": [
    {
     "name": "stdout",
     "output_type": "stream",
     "text": [
      "apple\n",
      "bat\n",
      "carrot\n",
      "4567\n",
      "['apple', 24.67, 56, 34, 'pine apple', 'carrot', 'papaya', 'apple']\n",
      "elephant\n"
     ]
    }
   ],
   "source": [
    "for i in d.values():\n",
    "    print(i)"
   ]
  },
  {
   "cell_type": "code",
   "execution_count": 90,
   "id": "frozen-marks",
   "metadata": {
    "collapsed": true
   },
   "outputs": [
    {
     "name": "stdout",
     "output_type": "stream",
     "text": [
      "a --> apple\n",
      "b --> bat\n",
      "3 --> carrot\n",
      "2.4 --> 4567\n",
      "list --> ['apple', 24.67, 56, 34, 'pine apple', 'carrot', 'papaya', 'apple']\n",
      "e --> elephant\n"
     ]
    }
   ],
   "source": [
    "for k,v in d.items():\n",
    "    print(k , '-->', v)"
   ]
  },
  {
   "cell_type": "code",
   "execution_count": 91,
   "id": "charming-phenomenon",
   "metadata": {},
   "outputs": [],
   "source": [
    "import random"
   ]
  },
  {
   "cell_type": "code",
   "execution_count": 92,
   "id": "pacific-allergy",
   "metadata": {
    "collapsed": true
   },
   "outputs": [
    {
     "data": {
      "text/plain": [
       "['apple', 24.67, 56, 34, 'pine apple', 'carrot', 'papaya', 'apple']"
      ]
     },
     "execution_count": 92,
     "metadata": {},
     "output_type": "execute_result"
    }
   ],
   "source": [
    "l "
   ]
  },
  {
   "cell_type": "code",
   "execution_count": 93,
   "id": "dynamic-montana",
   "metadata": {},
   "outputs": [],
   "source": [
    "random.shuffle(l)"
   ]
  },
  {
   "cell_type": "code",
   "execution_count": 94,
   "id": "permanent-builder",
   "metadata": {
    "collapsed": true
   },
   "outputs": [
    {
     "data": {
      "text/plain": [
       "[56, 34, 'papaya', 'apple', 'carrot', 24.67, 'pine apple', 'apple']"
      ]
     },
     "execution_count": 94,
     "metadata": {},
     "output_type": "execute_result"
    }
   ],
   "source": [
    "l"
   ]
  },
  {
   "cell_type": "code",
   "execution_count": 96,
   "id": "under-sensitivity",
   "metadata": {},
   "outputs": [
    {
     "data": {
      "text/plain": [
       "34"
      ]
     },
     "execution_count": 96,
     "metadata": {},
     "output_type": "execute_result"
    }
   ],
   "source": [
    "random.choice(l)"
   ]
  },
  {
   "cell_type": "code",
   "execution_count": 99,
   "id": "powerful-newman",
   "metadata": {
    "collapsed": true
   },
   "outputs": [
    {
     "data": {
      "text/plain": [
       "26"
      ]
     },
     "execution_count": 99,
     "metadata": {},
     "output_type": "execute_result"
    }
   ],
   "source": [
    "random.randint(10, 50)"
   ]
  },
  {
   "cell_type": "code",
   "execution_count": 100,
   "id": "breeding-assignment",
   "metadata": {},
   "outputs": [],
   "source": [
    "from math import sin, cos, factorial"
   ]
  },
  {
   "cell_type": "code",
   "execution_count": 101,
   "id": "urban-casting",
   "metadata": {
    "collapsed": true
   },
   "outputs": [
    {
     "data": {
      "text/plain": [
       "120"
      ]
     },
     "execution_count": 101,
     "metadata": {},
     "output_type": "execute_result"
    }
   ],
   "source": [
    "factorial(5)"
   ]
  },
  {
   "cell_type": "code",
   "execution_count": 103,
   "id": "filled-order",
   "metadata": {
    "collapsed": true
   },
   "outputs": [
    {
     "data": {
      "text/plain": [
       "0.9999999999932537"
      ]
     },
     "execution_count": 103,
     "metadata": {},
     "output_type": "execute_result"
    }
   ],
   "source": [
    "sin(1.5708)"
   ]
  },
  {
   "cell_type": "code",
   "execution_count": 104,
   "id": "attractive-nightlife",
   "metadata": {},
   "outputs": [],
   "source": [
    "import random as rd"
   ]
  },
  {
   "cell_type": "code",
   "execution_count": 106,
   "id": "efficient-rapid",
   "metadata": {},
   "outputs": [],
   "source": [
    "rd.shuffle(l)"
   ]
  },
  {
   "cell_type": "code",
   "execution_count": 107,
   "id": "complicated-collective",
   "metadata": {},
   "outputs": [
    {
     "data": {
      "text/plain": [
       "['apple', 'papaya', 'pine apple', 'apple', 'carrot', 34, 24.67, 56]"
      ]
     },
     "execution_count": 107,
     "metadata": {},
     "output_type": "execute_result"
    }
   ],
   "source": [
    "l"
   ]
  },
  {
   "cell_type": "code",
   "execution_count": 108,
   "id": "floating-chosen",
   "metadata": {},
   "outputs": [],
   "source": [
    "def addition():\n",
    "    a = int(input(\"Enter the value for a: \"))\n",
    "    b = int(input(\"Enter the value for b: \"))\n",
    "    print(a+b, a*b)"
   ]
  },
  {
   "cell_type": "code",
   "execution_count": 109,
   "id": "running-lightning",
   "metadata": {
    "collapsed": true
   },
   "outputs": [
    {
     "name": "stdout",
     "output_type": "stream",
     "text": [
      "Enter the value for a: 5\n",
      "Enter the value for b: 6\n",
      "11 30\n"
     ]
    }
   ],
   "source": [
    "addition()"
   ]
  },
  {
   "cell_type": "code",
   "execution_count": 110,
   "id": "operating-contrast",
   "metadata": {},
   "outputs": [],
   "source": [
    "def addition():\n",
    "    a = int(input(\"Enter the value for a: \"))\n",
    "    b = int(input(\"Enter the value for b: \"))\n",
    "    return a+b, a*b"
   ]
  },
  {
   "cell_type": "code",
   "execution_count": 111,
   "id": "existing-torture",
   "metadata": {},
   "outputs": [
    {
     "name": "stdout",
     "output_type": "stream",
     "text": [
      "Enter the value for a: 3\n",
      "Enter the value for b: 2\n"
     ]
    }
   ],
   "source": [
    "s,m = addition()"
   ]
  },
  {
   "cell_type": "code",
   "execution_count": 112,
   "id": "finnish-tackle",
   "metadata": {},
   "outputs": [
    {
     "name": "stdout",
     "output_type": "stream",
     "text": [
      "5 6\n"
     ]
    }
   ],
   "source": [
    "print(s,m)"
   ]
  },
  {
   "cell_type": "code",
   "execution_count": 113,
   "id": "impaired-curtis",
   "metadata": {},
   "outputs": [],
   "source": [
    "def addition(a, b):\n",
    "    return a+b, a*b"
   ]
  },
  {
   "cell_type": "code",
   "execution_count": 116,
   "id": "heavy-chambers",
   "metadata": {},
   "outputs": [
    {
     "name": "stdout",
     "output_type": "stream",
     "text": [
      "Enter the value for a: 7\n",
      "Enter the value for b: 8\n"
     ]
    }
   ],
   "source": [
    "a = int(input(\"Enter the value for a: \"))\n",
    "b = int(input(\"Enter the value for b: \"))\n",
    "s,m = addition(a,b)"
   ]
  },
  {
   "cell_type": "code",
   "execution_count": 117,
   "id": "younger-nickname",
   "metadata": {},
   "outputs": [
    {
     "data": {
      "text/plain": [
       "(15, 56)"
      ]
     },
     "execution_count": 117,
     "metadata": {},
     "output_type": "execute_result"
    }
   ],
   "source": [
    "s,m"
   ]
  },
  {
   "cell_type": "code",
   "execution_count": 115,
   "id": "informed-wales",
   "metadata": {},
   "outputs": [
    {
     "data": {
      "text/plain": [
       "3.14"
      ]
     },
     "execution_count": 115,
     "metadata": {},
     "output_type": "execute_result"
    }
   ],
   "source": [
    "b"
   ]
  },
  {
   "cell_type": "code",
   "execution_count": 127,
   "id": "generous-certification",
   "metadata": {},
   "outputs": [],
   "source": [
    "infile = open(\"vcw-jan-2023.txt\",'a')"
   ]
  },
  {
   "cell_type": "code",
   "execution_count": 128,
   "id": "therapeutic-freeware",
   "metadata": {},
   "outputs": [
    {
     "data": {
      "text/plain": [
       "17"
      ]
     },
     "execution_count": 128,
     "metadata": {},
     "output_type": "execute_result"
    }
   ],
   "source": [
    "infile.write(\"have a great day\\n\")"
   ]
  },
  {
   "cell_type": "code",
   "execution_count": 129,
   "id": "figured-charge",
   "metadata": {},
   "outputs": [],
   "source": [
    "infile.close()"
   ]
  },
  {
   "cell_type": "code",
   "execution_count": 130,
   "id": "specific-coast",
   "metadata": {},
   "outputs": [],
   "source": [
    "infile = open(\"vcw-jan-2023.txt\",'a')\n",
    "infile.writelines(\"thank you\\n\")\n",
    "infile.close()"
   ]
  },
  {
   "cell_type": "code",
   "execution_count": 131,
   "id": "bigger-worry",
   "metadata": {},
   "outputs": [
    {
     "name": "stdout",
     "output_type": "stream",
     "text": [
      "Hey hello!\n",
      "how are you?\n",
      "have a great day\n",
      "thank you\n",
      "\n"
     ]
    }
   ],
   "source": [
    "outfile = open(\"vcw-jan-2023.txt\",'r')\n",
    "print(outfile.read())"
   ]
  },
  {
   "cell_type": "code",
   "execution_count": 132,
   "id": "focal-rates",
   "metadata": {},
   "outputs": [
    {
     "name": "stdout",
     "output_type": "stream",
     "text": [
      "['Hey hello!\\n', 'how are you?\\n', 'have a great day\\n', 'thank you\\n']\n"
     ]
    }
   ],
   "source": [
    "outfile = open(\"vcw-jan-2023.txt\",'r')\n",
    "print(outfile.readlines())"
   ]
  },
  {
   "cell_type": "code",
   "execution_count": 133,
   "id": "biological-frederick",
   "metadata": {},
   "outputs": [],
   "source": [
    "import pandas as pd"
   ]
  },
  {
   "cell_type": "code",
   "execution_count": 136,
   "id": "muslim-forestry",
   "metadata": {},
   "outputs": [],
   "source": [
    "data = pd.read_excel(\"./Course Syllabus.xlsx\", sheet_name=\"Machine Learning\")"
   ]
  },
  {
   "cell_type": "code",
   "execution_count": 138,
   "id": "confidential-provider",
   "metadata": {},
   "outputs": [
    {
     "data": {
      "text/html": [
       "<div>\n",
       "<style scoped>\n",
       "    .dataframe tbody tr th:only-of-type {\n",
       "        vertical-align: middle;\n",
       "    }\n",
       "\n",
       "    .dataframe tbody tr th {\n",
       "        vertical-align: top;\n",
       "    }\n",
       "\n",
       "    .dataframe thead th {\n",
       "        text-align: right;\n",
       "    }\n",
       "</style>\n",
       "<table border=\"1\" class=\"dataframe\">\n",
       "  <thead>\n",
       "    <tr style=\"text-align: right;\">\n",
       "      <th></th>\n",
       "      <th>Syllabus</th>\n",
       "      <th>Duration</th>\n",
       "    </tr>\n",
       "  </thead>\n",
       "  <tbody>\n",
       "    <tr>\n",
       "      <th>0</th>\n",
       "      <td>1.Introduction to Machine learning</td>\n",
       "      <td>60 mins</td>\n",
       "    </tr>\n",
       "    <tr>\n",
       "      <th>1</th>\n",
       "      <td>1.a  Introduction to Data Operation</td>\n",
       "      <td>150 mins</td>\n",
       "    </tr>\n",
       "    <tr>\n",
       "      <th>2</th>\n",
       "      <td>Basic Operations</td>\n",
       "      <td>150 mins</td>\n",
       "    </tr>\n",
       "    <tr>\n",
       "      <th>3</th>\n",
       "      <td>Moving Data Around</td>\n",
       "      <td>150 mins</td>\n",
       "    </tr>\n",
       "    <tr>\n",
       "      <th>4</th>\n",
       "      <td>Computing on Data</td>\n",
       "      <td>150 mins</td>\n",
       "    </tr>\n",
       "    <tr>\n",
       "      <th>...</th>\n",
       "      <td>...</td>\n",
       "      <td>...</td>\n",
       "    </tr>\n",
       "    <tr>\n",
       "      <th>59</th>\n",
       "      <td>Stochastic Gradient Descent Convergence</td>\n",
       "      <td>120 mins</td>\n",
       "    </tr>\n",
       "    <tr>\n",
       "      <th>60</th>\n",
       "      <td>Map Reduce and Data Parallelism</td>\n",
       "      <td>120 mins</td>\n",
       "    </tr>\n",
       "    <tr>\n",
       "      <th>61</th>\n",
       "      <td>10.Practise</td>\n",
       "      <td>180 mins</td>\n",
       "    </tr>\n",
       "    <tr>\n",
       "      <th>62</th>\n",
       "      <td>11.Tools for ML</td>\n",
       "      <td>150 mins</td>\n",
       "    </tr>\n",
       "    <tr>\n",
       "      <th>63</th>\n",
       "      <td>TOTAL</td>\n",
       "      <td>30 hours</td>\n",
       "    </tr>\n",
       "  </tbody>\n",
       "</table>\n",
       "<p>64 rows × 2 columns</p>\n",
       "</div>"
      ],
      "text/plain": [
       "                                   Syllabus  Duration\n",
       "0        1.Introduction to Machine learning   60 mins\n",
       "1       1.a  Introduction to Data Operation  150 mins\n",
       "2                          Basic Operations  150 mins\n",
       "3                        Moving Data Around  150 mins\n",
       "4                         Computing on Data  150 mins\n",
       "..                                      ...       ...\n",
       "59  Stochastic Gradient Descent Convergence  120 mins\n",
       "60          Map Reduce and Data Parallelism  120 mins\n",
       "61                              10.Practise  180 mins\n",
       "62                          11.Tools for ML  150 mins\n",
       "63                                    TOTAL  30 hours\n",
       "\n",
       "[64 rows x 2 columns]"
      ]
     },
     "execution_count": 138,
     "metadata": {},
     "output_type": "execute_result"
    }
   ],
   "source": [
    "data.fillna(method=\"ffill\")"
   ]
  },
  {
   "cell_type": "code",
   "execution_count": 139,
   "id": "another-carrier",
   "metadata": {},
   "outputs": [
    {
     "data": {
      "text/html": [
       "<div>\n",
       "<style scoped>\n",
       "    .dataframe tbody tr th:only-of-type {\n",
       "        vertical-align: middle;\n",
       "    }\n",
       "\n",
       "    .dataframe tbody tr th {\n",
       "        vertical-align: top;\n",
       "    }\n",
       "\n",
       "    .dataframe thead th {\n",
       "        text-align: right;\n",
       "    }\n",
       "</style>\n",
       "<table border=\"1\" class=\"dataframe\">\n",
       "  <thead>\n",
       "    <tr style=\"text-align: right;\">\n",
       "      <th></th>\n",
       "      <th>Syllabus</th>\n",
       "      <th>Duration</th>\n",
       "    </tr>\n",
       "  </thead>\n",
       "  <tbody>\n",
       "    <tr>\n",
       "      <th>0</th>\n",
       "      <td>1.Introduction to Machine learning</td>\n",
       "      <td>60 mins</td>\n",
       "    </tr>\n",
       "    <tr>\n",
       "      <th>1</th>\n",
       "      <td>1.a  Introduction to Data Operation</td>\n",
       "      <td>150 mins</td>\n",
       "    </tr>\n",
       "    <tr>\n",
       "      <th>8</th>\n",
       "      <td>2.Types of ML algorithm- an overview</td>\n",
       "      <td>60 mins</td>\n",
       "    </tr>\n",
       "    <tr>\n",
       "      <th>12</th>\n",
       "      <td>3.Linear Algebra</td>\n",
       "      <td>180 mins</td>\n",
       "    </tr>\n",
       "    <tr>\n",
       "      <th>20</th>\n",
       "      <td>4.Linear Regression</td>\n",
       "      <td>240 mins</td>\n",
       "    </tr>\n",
       "    <tr>\n",
       "      <th>28</th>\n",
       "      <td>5.Logistic Regression</td>\n",
       "      <td>150 mins</td>\n",
       "    </tr>\n",
       "    <tr>\n",
       "      <th>35</th>\n",
       "      <td>5.Regularization</td>\n",
       "      <td>60 mins</td>\n",
       "    </tr>\n",
       "    <tr>\n",
       "      <th>39</th>\n",
       "      <td>6.Machine Learning System Design</td>\n",
       "      <td>90 mins</td>\n",
       "    </tr>\n",
       "    <tr>\n",
       "      <th>45</th>\n",
       "      <td>7.Supervised Learning</td>\n",
       "      <td>180 mins</td>\n",
       "    </tr>\n",
       "    <tr>\n",
       "      <th>50</th>\n",
       "      <td>8.Unsupervised Learning</td>\n",
       "      <td>180 mins</td>\n",
       "    </tr>\n",
       "    <tr>\n",
       "      <th>55</th>\n",
       "      <td>9.Large Scale Machine Learning</td>\n",
       "      <td>120 mins</td>\n",
       "    </tr>\n",
       "    <tr>\n",
       "      <th>61</th>\n",
       "      <td>10.Practise</td>\n",
       "      <td>180 mins</td>\n",
       "    </tr>\n",
       "    <tr>\n",
       "      <th>62</th>\n",
       "      <td>11.Tools for ML</td>\n",
       "      <td>150 mins</td>\n",
       "    </tr>\n",
       "    <tr>\n",
       "      <th>63</th>\n",
       "      <td>TOTAL</td>\n",
       "      <td>30 hours</td>\n",
       "    </tr>\n",
       "  </tbody>\n",
       "</table>\n",
       "</div>"
      ],
      "text/plain": [
       "                                Syllabus  Duration\n",
       "0     1.Introduction to Machine learning   60 mins\n",
       "1    1.a  Introduction to Data Operation  150 mins\n",
       "8   2.Types of ML algorithm- an overview   60 mins\n",
       "12                     3.Linear Algebra   180 mins\n",
       "20                   4.Linear Regression  240 mins\n",
       "28                 5.Logistic Regression  150 mins\n",
       "35                      5.Regularization   60 mins\n",
       "39      6.Machine Learning System Design   90 mins\n",
       "45                 7.Supervised Learning  180 mins\n",
       "50               8.Unsupervised Learning  180 mins\n",
       "55        9.Large Scale Machine Learning  120 mins\n",
       "61                           10.Practise  180 mins\n",
       "62                       11.Tools for ML  150 mins\n",
       "63                                 TOTAL  30 hours"
      ]
     },
     "execution_count": 139,
     "metadata": {},
     "output_type": "execute_result"
    }
   ],
   "source": [
    "data.dropna()"
   ]
  },
  {
   "cell_type": "code",
   "execution_count": 144,
   "id": "exotic-dimension",
   "metadata": {},
   "outputs": [
    {
     "data": {
      "text/html": [
       "<div>\n",
       "<style scoped>\n",
       "    .dataframe tbody tr th:only-of-type {\n",
       "        vertical-align: middle;\n",
       "    }\n",
       "\n",
       "    .dataframe tbody tr th {\n",
       "        vertical-align: top;\n",
       "    }\n",
       "\n",
       "    .dataframe thead th {\n",
       "        text-align: right;\n",
       "    }\n",
       "</style>\n",
       "<table border=\"1\" class=\"dataframe\">\n",
       "  <thead>\n",
       "    <tr style=\"text-align: right;\">\n",
       "      <th></th>\n",
       "      <th>Syllabus</th>\n",
       "      <th>Duration</th>\n",
       "    </tr>\n",
       "  </thead>\n",
       "  <tbody>\n",
       "    <tr>\n",
       "      <th>0</th>\n",
       "      <td>1.Introduction to Machine learning</td>\n",
       "      <td>60 mins</td>\n",
       "    </tr>\n",
       "    <tr>\n",
       "      <th>1</th>\n",
       "      <td>1.a  Introduction to Data Operation</td>\n",
       "      <td>150 mins</td>\n",
       "    </tr>\n",
       "    <tr>\n",
       "      <th>2</th>\n",
       "      <td>Basic Operations</td>\n",
       "      <td>NaN</td>\n",
       "    </tr>\n",
       "    <tr>\n",
       "      <th>3</th>\n",
       "      <td>Moving Data Around</td>\n",
       "      <td>NaN</td>\n",
       "    </tr>\n",
       "    <tr>\n",
       "      <th>4</th>\n",
       "      <td>Computing on Data</td>\n",
       "      <td>NaN</td>\n",
       "    </tr>\n",
       "    <tr>\n",
       "      <th>...</th>\n",
       "      <td>...</td>\n",
       "      <td>...</td>\n",
       "    </tr>\n",
       "    <tr>\n",
       "      <th>59</th>\n",
       "      <td>Stochastic Gradient Descent Convergence</td>\n",
       "      <td>NaN</td>\n",
       "    </tr>\n",
       "    <tr>\n",
       "      <th>60</th>\n",
       "      <td>Map Reduce and Data Parallelism</td>\n",
       "      <td>NaN</td>\n",
       "    </tr>\n",
       "    <tr>\n",
       "      <th>61</th>\n",
       "      <td>10.Practise</td>\n",
       "      <td>180 mins</td>\n",
       "    </tr>\n",
       "    <tr>\n",
       "      <th>62</th>\n",
       "      <td>11.Tools for ML</td>\n",
       "      <td>150 mins</td>\n",
       "    </tr>\n",
       "    <tr>\n",
       "      <th>63</th>\n",
       "      <td>TOTAL</td>\n",
       "      <td>30 hours</td>\n",
       "    </tr>\n",
       "  </tbody>\n",
       "</table>\n",
       "<p>63 rows × 2 columns</p>\n",
       "</div>"
      ],
      "text/plain": [
       "                                   Syllabus  Duration\n",
       "0        1.Introduction to Machine learning   60 mins\n",
       "1       1.a  Introduction to Data Operation  150 mins\n",
       "2                          Basic Operations       NaN\n",
       "3                        Moving Data Around       NaN\n",
       "4                         Computing on Data       NaN\n",
       "..                                      ...       ...\n",
       "59  Stochastic Gradient Descent Convergence       NaN\n",
       "60          Map Reduce and Data Parallelism       NaN\n",
       "61                              10.Practise  180 mins\n",
       "62                          11.Tools for ML  150 mins\n",
       "63                                    TOTAL  30 hours\n",
       "\n",
       "[63 rows x 2 columns]"
      ]
     },
     "execution_count": 144,
     "metadata": {},
     "output_type": "execute_result"
    }
   ],
   "source": [
    "data.drop_duplicates(subset=\"Syllabus\",keep=\"first\")"
   ]
  },
  {
   "cell_type": "code",
   "execution_count": 149,
   "id": "dated-mathematics",
   "metadata": {},
   "outputs": [],
   "source": [
    "df = pd.DataFrame(\n",
    "{\"a\" : [4, 4, 6],\n",
    "\"b\" : [7, 8, 9],\n",
    "\"c\" : [10, 11, 12]},\n",
    "index = [1, 2, 3])"
   ]
  },
  {
   "cell_type": "code",
   "execution_count": 150,
   "id": "nutritional-flower",
   "metadata": {},
   "outputs": [
    {
     "data": {
      "text/html": [
       "<div>\n",
       "<style scoped>\n",
       "    .dataframe tbody tr th:only-of-type {\n",
       "        vertical-align: middle;\n",
       "    }\n",
       "\n",
       "    .dataframe tbody tr th {\n",
       "        vertical-align: top;\n",
       "    }\n",
       "\n",
       "    .dataframe thead th {\n",
       "        text-align: right;\n",
       "    }\n",
       "</style>\n",
       "<table border=\"1\" class=\"dataframe\">\n",
       "  <thead>\n",
       "    <tr style=\"text-align: right;\">\n",
       "      <th></th>\n",
       "      <th>a</th>\n",
       "      <th>b</th>\n",
       "      <th>c</th>\n",
       "    </tr>\n",
       "  </thead>\n",
       "  <tbody>\n",
       "    <tr>\n",
       "      <th>1</th>\n",
       "      <td>4</td>\n",
       "      <td>7</td>\n",
       "      <td>10</td>\n",
       "    </tr>\n",
       "    <tr>\n",
       "      <th>2</th>\n",
       "      <td>4</td>\n",
       "      <td>8</td>\n",
       "      <td>11</td>\n",
       "    </tr>\n",
       "    <tr>\n",
       "      <th>3</th>\n",
       "      <td>6</td>\n",
       "      <td>9</td>\n",
       "      <td>12</td>\n",
       "    </tr>\n",
       "  </tbody>\n",
       "</table>\n",
       "</div>"
      ],
      "text/plain": [
       "   a  b   c\n",
       "1  4  7  10\n",
       "2  4  8  11\n",
       "3  6  9  12"
      ]
     },
     "execution_count": 150,
     "metadata": {},
     "output_type": "execute_result"
    }
   ],
   "source": [
    "df"
   ]
  },
  {
   "cell_type": "code",
   "execution_count": 152,
   "id": "turkish-contest",
   "metadata": {},
   "outputs": [
    {
     "data": {
      "text/html": [
       "<div>\n",
       "<style scoped>\n",
       "    .dataframe tbody tr th:only-of-type {\n",
       "        vertical-align: middle;\n",
       "    }\n",
       "\n",
       "    .dataframe tbody tr th {\n",
       "        vertical-align: top;\n",
       "    }\n",
       "\n",
       "    .dataframe thead th {\n",
       "        text-align: right;\n",
       "    }\n",
       "</style>\n",
       "<table border=\"1\" class=\"dataframe\">\n",
       "  <thead>\n",
       "    <tr style=\"text-align: right;\">\n",
       "      <th></th>\n",
       "      <th>a</th>\n",
       "      <th>b</th>\n",
       "      <th>c</th>\n",
       "    </tr>\n",
       "  </thead>\n",
       "  <tbody>\n",
       "    <tr>\n",
       "      <th>2</th>\n",
       "      <td>4</td>\n",
       "      <td>8</td>\n",
       "      <td>11</td>\n",
       "    </tr>\n",
       "    <tr>\n",
       "      <th>3</th>\n",
       "      <td>6</td>\n",
       "      <td>9</td>\n",
       "      <td>12</td>\n",
       "    </tr>\n",
       "  </tbody>\n",
       "</table>\n",
       "</div>"
      ],
      "text/plain": [
       "   a  b   c\n",
       "2  4  8  11\n",
       "3  6  9  12"
      ]
     },
     "execution_count": 152,
     "metadata": {},
     "output_type": "execute_result"
    }
   ],
   "source": [
    "df.drop_duplicates(subset='a', keep=\"last\")"
   ]
  },
  {
   "cell_type": "code",
   "execution_count": 160,
   "id": "expensive-promotion",
   "metadata": {},
   "outputs": [],
   "source": [
    "import matplotlib.pyplot as plt"
   ]
  },
  {
   "cell_type": "code",
   "execution_count": 161,
   "id": "rapid-madonna",
   "metadata": {},
   "outputs": [],
   "source": [
    "x = list(range(5))\n",
    "y = [i**2 for i in x]\n",
    "y1 = [i**3 for i in x]"
   ]
  },
  {
   "cell_type": "code",
   "execution_count": 162,
   "id": "contrary-shelter",
   "metadata": {
    "collapsed": true
   },
   "outputs": [
    {
     "data": {
      "text/plain": [
       "([0, 1, 2, 3, 4], [0, 1, 4, 9, 16], [0, 1, 8, 27, 64])"
      ]
     },
     "execution_count": 162,
     "metadata": {},
     "output_type": "execute_result"
    }
   ],
   "source": [
    "x,y,y1"
   ]
  },
  {
   "cell_type": "code",
   "execution_count": 164,
   "id": "valid-jurisdiction",
   "metadata": {
    "collapsed": true
   },
   "outputs": [
    {
     "data": {
      "image/png": "[encoded data removed]",
      "text/plain": [
       "<Figure size 432x288 with 1 Axes>"
      ]
     },
     "metadata": {
      "needs_background": "light"
     },
     "output_type": "display_data"
    }
   ],
   "source": [
    "# line chart\n",
    "plt.plot(x,y, 'ro--')\n",
    "plt.show()"
   ]
  },
  {
   "cell_type": "code",
   "execution_count": 167,
   "id": "affected-alfred",
   "metadata": {
    "collapsed": true
   },
   "outputs": [
    {
     "data": {
      "image/png": "[encoded data removed]",
      "text/plain": [
       "<Figure size 432x288 with 1 Axes>"
      ]
     },
     "metadata": {
      "needs_background": "light"
     },
     "output_type": "display_data"
    }
   ],
   "source": [
    "plt.plot(x,y, 'ro--',x,y1, 'gv-')\n",
    "plt.xlabel(\"n\")\n",
    "plt.ylabel(\"f(n)\")\n",
    "plt.title(\"Line chart\")\n",
    "plt.legend([\"n Vs n^2\", \"n Vs n^3\"])\n",
    "plt.show()"
   ]
  },
  {
   "cell_type": "code",
   "execution_count": 176,
   "id": "middle-carbon",
   "metadata": {
    "collapsed": true
   },
   "outputs": [
    {
     "data": {
      "image/png": "[encoded data removed]",
      "text/plain": [
       "<Figure size 432x288 with 1 Axes>"
      ]
     },
     "metadata": {
      "needs_background": "light"
     },
     "output_type": "display_data"
    }
   ],
   "source": [
    "# scatter chart\n",
    "plt.scatter(x,y, c='#bada55', marker=\"P\", s=100, edgecolors='r')\n",
    "plt.show()"
   ]
  },
  {
   "cell_type": "code",
   "execution_count": 180,
   "id": "first-marker",
   "metadata": {},
   "outputs": [],
   "source": [
    "#bar chart\n",
    "x1 = [\"apple \", 'ball', 'cat', 'dog']\n",
    "y2 = [34,22,28, 36]"
   ]
  },
  {
   "cell_type": "code",
   "execution_count": 182,
   "id": "decreased-florist",
   "metadata": {
    "collapsed": true
   },
   "outputs": [
    {
     "data": {
      "image/png": "[encoded data removed]",
      "text/plain": [
       "<Figure size 432x288 with 1 Axes>"
      ]
     },
     "metadata": {
      "needs_background": "light"
     },
     "output_type": "display_data"
    }
   ],
   "source": [
    "plt.bar(x1, y2, facecolor='green')\n",
    "plt.show()"
   ]
  },
  {
   "cell_type": "code",
   "execution_count": 183,
   "id": "occasional-revolution",
   "metadata": {
    "collapsed": true
   },
   "outputs": [
    {
     "data": {
      "image/png": "[encoded data removed]",
      "text/plain": [
       "<Figure size 432x288 with 1 Axes>"
      ]
     },
     "metadata": {
      "needs_background": "light"
     },
     "output_type": "display_data"
    }
   ],
   "source": [
    "plt.barh(x1, y2, facecolor='green')\n",
    "plt.show()"
   ]
  },
  {
   "cell_type": "code",
   "execution_count": 187,
   "id": "early-cattle",
   "metadata": {
    "collapsed": true
   },
   "outputs": [
    {
     "data": {
      "image/png": "[encoded data removed]",
      "text/plain": [
       "<Figure size 432x288 with 1 Axes>"
      ]
     },
     "metadata": {},
     "output_type": "display_data"
    }
   ],
   "source": [
    "plt.pie(y2, labels=x1, labeldistance=0.5)\n",
    "plt.show()"
   ]
  },
  {
   "cell_type": "code",
   "execution_count": 188,
   "id": "lightweight-orchestra",
   "metadata": {},
   "outputs": [],
   "source": [
    "data = pd.read_csv(\"train.csv\")"
   ]
  },
  {
   "cell_type": "code",
   "execution_count": 191,
   "id": "killing-carbon",
   "metadata": {
    "collapsed": true
   },
   "outputs": [
    {
     "data": {
      "text/html": [
       "<div>\n",
       "<style scoped>\n",
       "    .dataframe tbody tr th:only-of-type {\n",
       "        vertical-align: middle;\n",
       "    }\n",
       "\n",
       "    .dataframe tbody tr th {\n",
       "        vertical-align: top;\n",
       "    }\n",
       "\n",
       "    .dataframe thead th {\n",
       "        text-align: right;\n",
       "    }\n",
       "</style>\n",
       "<table border=\"1\" class=\"dataframe\">\n",
       "  <thead>\n",
       "    <tr style=\"text-align: right;\">\n",
       "      <th></th>\n",
       "      <th>class</th>\n",
       "      <th>petal_length</th>\n",
       "      <th>petal_width</th>\n",
       "      <th>sepal_length</th>\n",
       "      <th>sepal_width</th>\n",
       "    </tr>\n",
       "  </thead>\n",
       "  <tbody>\n",
       "    <tr>\n",
       "      <th>0</th>\n",
       "      <td>Iris-virginica</td>\n",
       "      <td>5.5</td>\n",
       "      <td>1.8</td>\n",
       "      <td>6.4</td>\n",
       "      <td>3.1</td>\n",
       "    </tr>\n",
       "    <tr>\n",
       "      <th>1</th>\n",
       "      <td>Iris-virginica</td>\n",
       "      <td>5.9</td>\n",
       "      <td>2.3</td>\n",
       "      <td>6.8</td>\n",
       "      <td>3.2</td>\n",
       "    </tr>\n",
       "    <tr>\n",
       "      <th>2</th>\n",
       "      <td>Iris-virginica</td>\n",
       "      <td>5.4</td>\n",
       "      <td>2.3</td>\n",
       "      <td>6.2</td>\n",
       "      <td>3.4</td>\n",
       "    </tr>\n",
       "    <tr>\n",
       "      <th>3</th>\n",
       "      <td>Iris-virginica</td>\n",
       "      <td>4.8</td>\n",
       "      <td>1.8</td>\n",
       "      <td>6.0</td>\n",
       "      <td>3.0</td>\n",
       "    </tr>\n",
       "    <tr>\n",
       "      <th>4</th>\n",
       "      <td>Iris-virginica</td>\n",
       "      <td>5.1</td>\n",
       "      <td>2.3</td>\n",
       "      <td>6.9</td>\n",
       "      <td>3.1</td>\n",
       "    </tr>\n",
       "  </tbody>\n",
       "</table>\n",
       "</div>"
      ],
      "text/plain": [
       "            class  petal_length  petal_width  sepal_length  sepal_width\n",
       "0  Iris-virginica           5.5          1.8           6.4          3.1\n",
       "1  Iris-virginica           5.9          2.3           6.8          3.2\n",
       "2  Iris-virginica           5.4          2.3           6.2          3.4\n",
       "3  Iris-virginica           4.8          1.8           6.0          3.0\n",
       "4  Iris-virginica           5.1          2.3           6.9          3.1"
      ]
     },
     "execution_count": 191,
     "metadata": {},
     "output_type": "execute_result"
    }
   ],
   "source": [
    "data.head()"
   ]
  },
  {
   "cell_type": "code",
   "execution_count": 190,
   "id": "celtic-standard",
   "metadata": {
    "collapsed": true
   },
   "outputs": [
    {
     "data": {
      "image/png": "[encoded data removed]",
      "text/plain": [
       "<Figure size 432x288 with 4 Axes>"
      ]
     },
     "metadata": {
      "needs_background": "light"
     },
     "output_type": "display_data"
    }
   ],
   "source": [
    "data.hist(grid=False)\n",
    "plt.show()"
   ]
  },
  {
   "cell_type": "code",
   "execution_count": 193,
   "id": "executive-appearance",
   "metadata": {
    "collapsed": true
   },
   "outputs": [
    {
     "data": {
      "image/png": "[encoded data removed]",
      "text/plain": [
       "<Figure size 432x288 with 1 Axes>"
      ]
     },
     "metadata": {
      "needs_background": "light"
     },
     "output_type": "display_data"
    }
   ],
   "source": [
    "data.boxplot(grid=False)\n",
    "plt.show()"
   ]
  },
  {
   "cell_type": "code",
   "execution_count": 194,
   "id": "precise-spank",
   "metadata": {
    "collapsed": true
   },
   "outputs": [
    {
     "data": {
      "image/png": "[encoded data removed]",
      "text/plain": [
       "<Figure size 432x288 with 1 Axes>"
      ]
     },
     "metadata": {
      "needs_background": "light"
     },
     "output_type": "display_data"
    }
   ],
   "source": [
    "plt.boxplot(data['sepal_width'])\n",
    "plt.show()"
   ]
  },
  {
   "cell_type": "code",
   "execution_count": 195,
   "id": "according-attribute",
   "metadata": {},
   "outputs": [
    {
     "data": {
      "text/html": [
       "<div>\n",
       "<style scoped>\n",
       "    .dataframe tbody tr th:only-of-type {\n",
       "        vertical-align: middle;\n",
       "    }\n",
       "\n",
       "    .dataframe tbody tr th {\n",
       "        vertical-align: top;\n",
       "    }\n",
       "\n",
       "    .dataframe thead th {\n",
       "        text-align: right;\n",
       "    }\n",
       "</style>\n",
       "<table border=\"1\" class=\"dataframe\">\n",
       "  <thead>\n",
       "    <tr style=\"text-align: right;\">\n",
       "      <th></th>\n",
       "      <th>petal_length</th>\n",
       "      <th>petal_width</th>\n",
       "      <th>sepal_length</th>\n",
       "      <th>sepal_width</th>\n",
       "    </tr>\n",
       "  </thead>\n",
       "  <tbody>\n",
       "    <tr>\n",
       "      <th>count</th>\n",
       "      <td>105.000000</td>\n",
       "      <td>105.000000</td>\n",
       "      <td>105.000000</td>\n",
       "      <td>105.000000</td>\n",
       "    </tr>\n",
       "    <tr>\n",
       "      <th>mean</th>\n",
       "      <td>3.748571</td>\n",
       "      <td>1.196190</td>\n",
       "      <td>5.830476</td>\n",
       "      <td>3.057143</td>\n",
       "    </tr>\n",
       "    <tr>\n",
       "      <th>std</th>\n",
       "      <td>1.753519</td>\n",
       "      <td>0.765723</td>\n",
       "      <td>0.800015</td>\n",
       "      <td>0.449969</td>\n",
       "    </tr>\n",
       "    <tr>\n",
       "      <th>min</th>\n",
       "      <td>1.000000</td>\n",
       "      <td>0.100000</td>\n",
       "      <td>4.400000</td>\n",
       "      <td>2.000000</td>\n",
       "    </tr>\n",
       "    <tr>\n",
       "      <th>25%</th>\n",
       "      <td>1.500000</td>\n",
       "      <td>0.300000</td>\n",
       "      <td>5.100000</td>\n",
       "      <td>2.800000</td>\n",
       "    </tr>\n",
       "    <tr>\n",
       "      <th>50%</th>\n",
       "      <td>4.400000</td>\n",
       "      <td>1.300000</td>\n",
       "      <td>5.700000</td>\n",
       "      <td>3.000000</td>\n",
       "    </tr>\n",
       "    <tr>\n",
       "      <th>75%</th>\n",
       "      <td>5.100000</td>\n",
       "      <td>1.800000</td>\n",
       "      <td>6.400000</td>\n",
       "      <td>3.400000</td>\n",
       "    </tr>\n",
       "    <tr>\n",
       "      <th>max</th>\n",
       "      <td>6.900000</td>\n",
       "      <td>2.500000</td>\n",
       "      <td>7.700000</td>\n",
       "      <td>4.400000</td>\n",
       "    </tr>\n",
       "  </tbody>\n",
       "</table>\n",
       "</div>"
      ],
      "text/plain": [
       "       petal_length  petal_width  sepal_length  sepal_width\n",
       "count    105.000000   105.000000    105.000000   105.000000\n",
       "mean       3.748571     1.196190      5.830476     3.057143\n",
       "std        1.753519     0.765723      0.800015     0.449969\n",
       "min        1.000000     0.100000      4.400000     2.000000\n",
       "25%        1.500000     0.300000      5.100000     2.800000\n",
       "50%        4.400000     1.300000      5.700000     3.000000\n",
       "75%        5.100000     1.800000      6.400000     3.400000\n",
       "max        6.900000     2.500000      7.700000     4.400000"
      ]
     },
     "execution_count": 195,
     "metadata": {},
     "output_type": "execute_result"
    }
   ],
   "source": [
    "data.describe()"
   ]
  },
  {
   "cell_type": "code",
   "execution_count": 206,
   "id": "requested-evening",
   "metadata": {},
   "outputs": [],
   "source": [
    "# load dataset\n",
    "import pandas as pd\n",
    "dataset = pd.read_csv(\"./Advertising.csv\", index_col=0)"
   ]
  },
  {
   "cell_type": "code",
   "execution_count": 207,
   "id": "played-topic",
   "metadata": {},
   "outputs": [
    {
     "data": {
      "text/html": [
       "<div>\n",
       "<style scoped>\n",
       "    .dataframe tbody tr th:only-of-type {\n",
       "        vertical-align: middle;\n",
       "    }\n",
       "\n",
       "    .dataframe tbody tr th {\n",
       "        vertical-align: top;\n",
       "    }\n",
       "\n",
       "    .dataframe thead th {\n",
       "        text-align: right;\n",
       "    }\n",
       "</style>\n",
       "<table border=\"1\" class=\"dataframe\">\n",
       "  <thead>\n",
       "    <tr style=\"text-align: right;\">\n",
       "      <th></th>\n",
       "      <th>TV</th>\n",
       "      <th>radio</th>\n",
       "      <th>newspaper</th>\n",
       "      <th>sales</th>\n",
       "    </tr>\n",
       "  </thead>\n",
       "  <tbody>\n",
       "    <tr>\n",
       "      <th>1</th>\n",
       "      <td>230.1</td>\n",
       "      <td>37.8</td>\n",
       "      <td>69.2</td>\n",
       "      <td>22.1</td>\n",
       "    </tr>\n",
       "    <tr>\n",
       "      <th>2</th>\n",
       "      <td>44.5</td>\n",
       "      <td>39.3</td>\n",
       "      <td>45.1</td>\n",
       "      <td>10.4</td>\n",
       "    </tr>\n",
       "    <tr>\n",
       "      <th>3</th>\n",
       "      <td>17.2</td>\n",
       "      <td>45.9</td>\n",
       "      <td>69.3</td>\n",
       "      <td>9.3</td>\n",
       "    </tr>\n",
       "    <tr>\n",
       "      <th>4</th>\n",
       "      <td>151.5</td>\n",
       "      <td>41.3</td>\n",
       "      <td>58.5</td>\n",
       "      <td>18.5</td>\n",
       "    </tr>\n",
       "    <tr>\n",
       "      <th>5</th>\n",
       "      <td>180.8</td>\n",
       "      <td>10.8</td>\n",
       "      <td>58.4</td>\n",
       "      <td>12.9</td>\n",
       "    </tr>\n",
       "  </tbody>\n",
       "</table>\n",
       "</div>"
      ],
      "text/plain": [
       "      TV  radio  newspaper  sales\n",
       "1  230.1   37.8       69.2   22.1\n",
       "2   44.5   39.3       45.1   10.4\n",
       "3   17.2   45.9       69.3    9.3\n",
       "4  151.5   41.3       58.5   18.5\n",
       "5  180.8   10.8       58.4   12.9"
      ]
     },
     "execution_count": 207,
     "metadata": {},
     "output_type": "execute_result"
    }
   ],
   "source": [
    "dataset.head()"
   ]
  },
  {
   "cell_type": "code",
   "execution_count": 209,
   "id": "horizontal-pencil",
   "metadata": {},
   "outputs": [],
   "source": [
    "# split dataset\n",
    "from sklearn.model_selection import train_test_split\n",
    "x = dataset[['TV', 'radio', 'newspaper']]\n",
    "y = dataset['sales']"
   ]
  },
  {
   "cell_type": "code",
   "execution_count": 211,
   "id": "alternate-separate",
   "metadata": {},
   "outputs": [],
   "source": [
    "xtrain, xtest, ytrain, ytest = train_test_split(x, y, test_size=0.15)"
   ]
  },
  {
   "cell_type": "code",
   "execution_count": 212,
   "id": "paperback-diary",
   "metadata": {},
   "outputs": [
    {
     "data": {
      "text/plain": [
       "((200, 3), (170, 3), (30, 3))"
      ]
     },
     "execution_count": 212,
     "metadata": {},
     "output_type": "execute_result"
    }
   ],
   "source": [
    "x.shape, xtrain.shape, xtest.shape"
   ]
  },
  {
   "cell_type": "code",
   "execution_count": 213,
   "id": "assisted-wesley",
   "metadata": {},
   "outputs": [],
   "source": [
    "# defining model\n",
    "from sklearn.linear_model import  LinearRegression\n",
    "model = LinearRegression()"
   ]
  },
  {
   "cell_type": "code",
   "execution_count": 214,
   "id": "informal-albania",
   "metadata": {},
   "outputs": [
    {
     "data": {
      "text/plain": [
       "LinearRegression()"
      ]
     },
     "execution_count": 214,
     "metadata": {},
     "output_type": "execute_result"
    }
   ],
   "source": [
    "#training\n",
    "model.fit(xtrain, ytrain)"
   ]
  },
  {
   "cell_type": "code",
   "execution_count": 215,
   "id": "cooked-dinner",
   "metadata": {},
   "outputs": [],
   "source": [
    "# evaluation\n",
    "pred = model.predict(xtest)"
   ]
  },
  {
   "cell_type": "code",
   "execution_count": 216,
   "id": "lightweight-terrorism",
   "metadata": {},
   "outputs": [
    {
     "data": {
      "text/plain": [
       "array([16.32081026, 23.21263579, 20.84047159, 13.89693601, 14.76419037,\n",
       "        8.19258292,  9.94182796, 15.1912536 , 11.48433602, 11.7299046 ,\n",
       "        7.15975301,  7.90072891, 16.79771406, 15.31527802, 11.63006278,\n",
       "       15.17815279, 18.49401246,  6.86910673,  7.68651972, 19.26388852,\n",
       "        8.49459316, 11.86893043, 14.23488609, 15.31876753, 11.47658205,\n",
       "       23.24077356, 13.20870922, 22.87092586, 15.19787686, 18.14321767])"
      ]
     },
     "execution_count": 216,
     "metadata": {},
     "output_type": "execute_result"
    }
   ],
   "source": [
    "pred\n"
   ]
  },
  {
   "cell_type": "code",
   "execution_count": 217,
   "id": "otherwise-amsterdam",
   "metadata": {},
   "outputs": [
    {
     "data": {
      "text/plain": [
       "96     16.9\n",
       "102    23.8\n",
       "138    20.8\n",
       "101    11.7\n",
       "22     12.5\n",
       "25      9.7\n",
       "39     10.1\n",
       "86     15.2\n",
       "137     9.5\n",
       "89     12.9\n",
       "108     8.7\n",
       "66      9.3\n",
       "63     15.7\n",
       "115    14.6\n",
       "87     12.0\n",
       "46     14.9\n",
       "194    19.6\n",
       "120     6.6\n",
       "33      9.6\n",
       "134    19.6\n",
       "133     5.7\n",
       "76      8.7\n",
       "161    14.4\n",
       "147    13.2\n",
       "81     11.8\n",
       "148    25.4\n",
       "5      12.9\n",
       "62     24.2\n",
       "200    13.4\n",
       "60     18.4\n",
       "Name: sales, dtype: float64"
      ]
     },
     "execution_count": 217,
     "metadata": {},
     "output_type": "execute_result"
    }
   ],
   "source": [
    "ytest"
   ]
  },
  {
   "cell_type": "code",
   "execution_count": 218,
   "id": "thousand-sunrise",
   "metadata": {},
   "outputs": [],
   "source": [
    "from sklearn.metrics import mean_squared_error\n",
    "from math import  sqrt"
   ]
  },
  {
   "cell_type": "code",
   "execution_count": 219,
   "id": "inner-hazard",
   "metadata": {},
   "outputs": [
    {
     "data": {
      "text/plain": [
       "1.4360321107608633"
      ]
     },
     "execution_count": 219,
     "metadata": {},
     "output_type": "execute_result"
    }
   ],
   "source": [
    "sqrt(mean_squared_error(ytest, pred))"
   ]
  },
  {
   "cell_type": "code",
   "execution_count": 220,
   "id": "valuable-institution",
   "metadata": {},
   "outputs": [
    {
     "data": {
      "text/plain": [
       "array([14.61022821])"
      ]
     },
     "execution_count": 220,
     "metadata": {},
     "output_type": "execute_result"
    }
   ],
   "source": [
    "# real time analysis\n",
    "model.predict([[50,50,50]])"
   ]
  },
  {
   "cell_type": "code",
   "execution_count": 225,
   "id": "sapphire-hormone",
   "metadata": {},
   "outputs": [
    {
     "data": {
      "text/plain": [
       "array([26.33624966])"
      ]
     },
     "execution_count": 225,
     "metadata": {},
     "output_type": "execute_result"
    }
   ],
   "source": [
    "model.predict([[100,100,0]])"
   ]
  },
  {
   "cell_type": "code",
   "execution_count": null,
   "id": "cathedral-adelaide",
   "metadata": {},
   "outputs": [],
   "source": [
    "# y = ax1 + bx2+ cx3+ d"
   ]
  },
  {
   "cell_type": "code",
   "execution_count": 222,
   "id": "individual-maple",
   "metadata": {},
   "outputs": [
    {
     "data": {
      "text/plain": [
       "array([ 0.04560581,  0.18765832, -0.00125629])"
      ]
     },
     "execution_count": 222,
     "metadata": {},
     "output_type": "execute_result"
    }
   ],
   "source": [
    "model.coef_"
   ]
  },
  {
   "cell_type": "code",
   "execution_count": 223,
   "id": "compressed-agenda",
   "metadata": {},
   "outputs": [
    {
     "data": {
      "text/plain": [
       "3.009836167451814"
      ]
     },
     "execution_count": 223,
     "metadata": {},
     "output_type": "execute_result"
    }
   ],
   "source": [
    "model.intercept_"
   ]
  },
  {
   "cell_type": "code",
   "execution_count": 224,
   "id": "republican-vocabulary",
   "metadata": {},
   "outputs": [
    {
     "data": {
      "text/plain": [
       "26.210620167451815"
      ]
     },
     "execution_count": 224,
     "metadata": {},
     "output_type": "execute_result"
    }
   ],
   "source": [
    "(0.04560581 * 100) + (0.18765832 * 100) + (-0.00125629 * 100) + 3.009836167451814"
   ]
  },
  {
   "cell_type": "code",
   "execution_count": null,
   "id": "extra-plenty",
   "metadata": {},
   "outputs": [],
   "source": []
  }
 ],
 "metadata": {
  "kernelspec": {
   "display_name": "Python 3",
   "language": "python",
   "name": "python3"
  },
  "language_info": {
   "codemirror_mode": {
    "name": "ipython",
    "version": 3
   },
   "file_extension": ".py",
   "mimetype": "text/x-python",
   "name": "python",
   "nbconvert_exporter": "python",
   "pygments_lexer": "ipython3",
   "version": "3.6.8"
  },
  "nbTranslate": {
   "displayLangs": [
    "*"
   ],
   "hotkey": "alt-t",
   "langInMainMenu": true,
   "sourceLang": "en",
   "targetLang": "fr",
   "useGoogleTranslate": true
  },
  "toc": {
   "base_numbering": 1,
   "nav_menu": {},
   "number_sections": true,
   "sideBar": true,
   "skip_h1_title": false,
   "title_cell": "Table of Contents",
   "title_sidebar": "Contents",
   "toc_cell": false,
   "toc_position": {},
   "toc_section_display": true,
   "toc_window_display": false
  },
  "varInspector": {
   "cols": {
    "lenName": 16,
    "lenType": 16,
    "lenVar": 40
   },
   "kernels_config": {
    "python": {
     "delete_cmd_postfix": "",
     "delete_cmd_prefix": "del ",
     "library": "var_list.py",
     "varRefreshCmd": "print(var_dic_list())"
    },
    "r": {
     "delete_cmd_postfix": ") ",
     "delete_cmd_prefix": "rm(",
     "library": "var_list.r",
     "varRefreshCmd": "cat(var_dic_list()) "
    }
   },
   "types_to_exclude": [
    "module",
    "function",
    "builtin_function_or_method",
    "instance",
    "_Feature"
   ],
   "window_display": false
  }
 },
 "nbformat": 4,
 "nbformat_minor": 5
}
