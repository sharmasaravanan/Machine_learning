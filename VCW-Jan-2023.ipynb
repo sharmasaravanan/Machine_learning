{
 "cells": [
  {
   "cell_type": "code",
   "execution_count": 1,
   "id": "religious-motivation",
   "metadata": {
    "collapsed": true
   },
   "outputs": [
    {
     "name": "stdout",
     "output_type": "stream",
     "text": [
      "hello world\n"
     ]
    }
   ],
   "source": [
    "print(\"hello world\")"
   ]
  },
  {
   "cell_type": "code",
   "execution_count": 2,
   "id": "stuffed-chosen",
   "metadata": {},
   "outputs": [],
   "source": [
    "a = 5\n",
    "b = 3.14\n",
    "c = 'apple'\n",
    "d = True"
   ]
  },
  {
   "cell_type": "code",
   "execution_count": 4,
   "id": "realistic-pledge",
   "metadata": {
    "collapsed": true
   },
   "outputs": [
    {
     "name": "stdout",
     "output_type": "stream",
     "text": [
      "5\n",
      "3.14\n",
      "apple\n",
      "True\n",
      "d\n"
     ]
    },
    {
     "ename": "NameError",
     "evalue": "name 'e' is not defined",
     "output_type": "error",
     "traceback": [
      "\u001b[0;31m---------------------------------------------------------------------------\u001b[0m",
      "\u001b[0;31mNameError\u001b[0m                                 Traceback (most recent call last)",
      "\u001b[0;32m<ipython-input-4-a769335db3bf>\u001b[0m in \u001b[0;36m<module>\u001b[0;34m\u001b[0m\n\u001b[1;32m      4\u001b[0m \u001b[0mprint\u001b[0m\u001b[0;34m(\u001b[0m\u001b[0md\u001b[0m\u001b[0;34m)\u001b[0m\u001b[0;34m\u001b[0m\u001b[0;34m\u001b[0m\u001b[0m\n\u001b[1;32m      5\u001b[0m \u001b[0mprint\u001b[0m\u001b[0;34m(\u001b[0m\u001b[0;34m'd'\u001b[0m\u001b[0;34m)\u001b[0m\u001b[0;34m\u001b[0m\u001b[0;34m\u001b[0m\u001b[0m\n\u001b[0;32m----> 6\u001b[0;31m \u001b[0mprint\u001b[0m\u001b[0;34m(\u001b[0m\u001b[0me\u001b[0m\u001b[0;34m)\u001b[0m\u001b[0;34m\u001b[0m\u001b[0;34m\u001b[0m\u001b[0m\n\u001b[0m",
      "\u001b[0;31mNameError\u001b[0m: name 'e' is not defined"
     ]
    }
   ],
   "source": [
    "print(a)\n",
    "print(b)\n",
    "print(c)\n",
    "print(d)\n",
    "print('d')\n",
    "print(e)"
   ]
  },
  {
   "cell_type": "code",
   "execution_count": 5,
   "id": "intended-henry",
   "metadata": {
    "collapsed": true
   },
   "outputs": [
    {
     "name": "stdout",
     "output_type": "stream",
     "text": [
      "<class 'int'>\n",
      "<class 'float'>\n",
      "<class 'str'>\n",
      "<class 'bool'>\n"
     ]
    }
   ],
   "source": [
    "print(type(a))\n",
    "print(type(b))\n",
    "print(type(c))\n",
    "print(type(d))"
   ]
  },
  {
   "cell_type": "code",
   "execution_count": 10,
   "id": "liable-nowhere",
   "metadata": {},
   "outputs": [
    {
     "name": "stdout",
     "output_type": "stream",
     "text": [
      "Enter your name: apple\n"
     ]
    }
   ],
   "source": [
    "name = input(\"Enter your name: \")"
   ]
  },
  {
   "cell_type": "code",
   "execution_count": 11,
   "id": "wired-manor",
   "metadata": {},
   "outputs": [
    {
     "name": "stdout",
     "output_type": "stream",
     "text": [
      "apple\n"
     ]
    }
   ],
   "source": [
    "print(name)"
   ]
  },
  {
   "cell_type": "code",
   "execution_count": 12,
   "id": "second-truck",
   "metadata": {},
   "outputs": [
    {
     "name": "stdout",
     "output_type": "stream",
     "text": [
      "Entered name is apple\n"
     ]
    }
   ],
   "source": [
    "print(\"Entered name is\", name)"
   ]
  },
  {
   "cell_type": "code",
   "execution_count": 13,
   "id": "basic-influence",
   "metadata": {},
   "outputs": [
    {
     "name": "stdout",
     "output_type": "stream",
     "text": [
      "5 3.14 apple True\n"
     ]
    }
   ],
   "source": [
    "print(a,b,c,d)"
   ]
  },
  {
   "cell_type": "code",
   "execution_count": 17,
   "id": "editorial-cartridge",
   "metadata": {
    "collapsed": true
   },
   "outputs": [
    {
     "name": "stdout",
     "output_type": "stream",
     "text": [
      "7\n",
      "3\n",
      "10\n",
      "2.5\n",
      "1\n",
      "2\n",
      "25\n"
     ]
    }
   ],
   "source": [
    "print( 5 + 2 )\n",
    "print( 5 - 2 )\n",
    "print( 5 * 2 )\n",
    "print( 5 / 2 )\n",
    "print( 5 % 2 )\n",
    "print( 5 // 2 )\n",
    "print( 5 ** 2 )"
   ]
  },
  {
   "cell_type": "code",
   "execution_count": 18,
   "id": "removed-college",
   "metadata": {
    "collapsed": true
   },
   "outputs": [
    {
     "name": "stdout",
     "output_type": "stream",
     "text": [
      "False\n",
      "True\n",
      "False\n",
      "True\n",
      "False\n",
      "True\n"
     ]
    }
   ],
   "source": [
    "print( 5 < 2 )\n",
    "print( 5 > 2 )\n",
    "print( 5 <= 2 )\n",
    "print( 5 >= 2 )\n",
    "print( 5 == 2 )\n",
    "print( 5 != 2 )"
   ]
  },
  {
   "cell_type": "code",
   "execution_count": 19,
   "id": "designing-point",
   "metadata": {
    "collapsed": true
   },
   "outputs": [
    {
     "name": "stdout",
     "output_type": "stream",
     "text": [
      "False\n",
      "True\n",
      "True\n",
      "False\n",
      "True\n",
      "False\n",
      "True\n"
     ]
    }
   ],
   "source": [
    "print( 5 < 2 and 5 > 2 )\n",
    "print( 5 < 20 and 5 > 2 )\n",
    "\n",
    "print( 5 < 2 or 5 > 2 )\n",
    "print( 5 < 2 or 5 > 21 )\n",
    "print( 5 < 20 or 5 > 2 )\n",
    "\n",
    "\n",
    "\n",
    "print(not a)\n",
    "a = None\n",
    "print(not a)"
   ]
  },
  {
   "cell_type": "code",
   "execution_count": 20,
   "id": "reduced-directory",
   "metadata": {
    "collapsed": true
   },
   "outputs": [
    {
     "name": "stdout",
     "output_type": "stream",
     "text": [
      "Enter any number: 4\n",
      "4 <class 'str'>\n"
     ]
    }
   ],
   "source": [
    "num = input(\"Enter any number: \")\n",
    "print(num, type(num))"
   ]
  },
  {
   "cell_type": "code",
   "execution_count": 24,
   "id": "confidential-wilson",
   "metadata": {
    "collapsed": true
   },
   "outputs": [
    {
     "name": "stdout",
     "output_type": "stream",
     "text": [
      "Enter any number: 3\n",
      "Number is odd\n",
      "hi\n"
     ]
    }
   ],
   "source": [
    "num = int(input(\"Enter any number: \"))\n",
    "if num % 2 == 0:\n",
    "    print(\"Number is even\")\n",
    "else:\n",
    "    print(\"Number is odd\")\n"
   ]
  },
  {
   "cell_type": "code",
   "execution_count": 27,
   "id": "immune-sunday",
   "metadata": {},
   "outputs": [
    {
     "name": "stdout",
     "output_type": "stream",
     "text": [
      "Enter any number: 5\n",
      "Number is odd\n"
     ]
    }
   ],
   "source": [
    "num = int(input(\"Enter any number: \"))\n",
    "if num % 4 == 0:\n",
    "    print(\"Divisible by 4 and its even\")\n",
    "elif num % 2 == 0:\n",
    "    print(\"Number is even\")\n",
    "else:\n",
    "    print(\"Number is odd\")\n"
   ]
  },
  {
   "cell_type": "code",
   "execution_count": 29,
   "id": "liquid-thriller",
   "metadata": {},
   "outputs": [
    {
     "name": "stdout",
     "output_type": "stream",
     "text": [
      "Enter any number: 3\n"
     ]
    }
   ],
   "source": [
    "num = int(input(\"Enter any number: \"))\n",
    "if num % 4 == 0:\n",
    "    print(\"Divisible by 4 and its even\")"
   ]
  },
  {
   "cell_type": "code",
   "execution_count": null,
   "id": "opponent-junction",
   "metadata": {},
   "outputs": [],
   "source": [
    "r = float(input(\"Enter the radius of the circle: \"))\n",
    "print(\"Area of the circle is\", 3.14 * r * r)"
   ]
  },
  {
   "cell_type": "code",
   "execution_count": null,
   "id": "august-catalyst",
   "metadata": {},
   "outputs": [],
   "source": [
    "a = float(input(\"Enter the sides of the square: \"))\n",
    "print(\"Area of the square is\", a * a)"
   ]
  },
  {
   "cell_type": "code",
   "execution_count": 36,
   "id": "administrative-amazon",
   "metadata": {},
   "outputs": [
    {
     "name": "stdout",
     "output_type": "stream",
     "text": [
      "Enter the principal amount: 100000\n",
      "Enter rate of interest: 11.5\n",
      "Enter time in years: 4\n",
      "Compound interest is 54560.84006250001\n"
     ]
    }
   ],
   "source": [
    "principal = int(input(\"Enter the principal amount: \"))\n",
    "rate = float(input(\"Enter rate of interest: \"))\n",
    "time = int(input(\"Enter time in years: \" ))\n",
    "\n",
    "Amount = principal * ((1 + rate / 100) ** time)\n",
    "CI = Amount - principal\n",
    "print(\"Compound interest is\", CI)"
   ]
  },
  {
   "cell_type": "code",
   "execution_count": 38,
   "id": "round-findings",
   "metadata": {},
   "outputs": [
    {
     "name": "stdout",
     "output_type": "stream",
     "text": [
      "Enter the object name: square\n",
      "Invalid option\n"
     ]
    }
   ],
   "source": [
    "option = input(\"Enter the object name: \")\n",
    "if option == \"circle\":\n",
    "    r = float(input(\"Enter the radius of the circle: \"))\n",
    "    print(\"Area of the circle is\", 3.14 * r * r)\n",
    "else:\n",
    "    print(\"Invalid option\")"
   ]
  },
  {
   "cell_type": "code",
   "execution_count": null,
   "id": "clinical-services",
   "metadata": {},
   "outputs": [],
   "source": []
  },
  {
   "cell_type": "code",
   "execution_count": 39,
   "id": "hungry-parcel",
   "metadata": {},
   "outputs": [
    {
     "name": "stdout",
     "output_type": "stream",
     "text": [
      "Hello! This program can help you to calculate the area of the following objects \n",
      "1. circle\n",
      "2. square\n",
      "3. rectangle\n",
      "\n",
      "Enter the object you want to calculate: circle\n",
      "Enter the radius of the circle: 2\n",
      "Area of the circle is 12.56\n",
      "Enter the object you want to calculate: a\n",
      "Invalid option\n",
      "Enter the object you want to calculate: 2\n",
      "Enter the sides of the square: 5\n",
      "Area of the square is 25.0\n"
     ]
    }
   ],
   "source": [
    "print(\"\"\"\n",
    "    Hello! This program can help you to calculate the area of the following objects\n",
    "    \\n1. circle\\n2. square\\n3. rectangle\"\"\"\n",
    ")\n",
    "print()\n",
    "for i in range(3):\n",
    "    choice = eval(input(\"Enter the object you want to calculate: \"))\n",
    "    if choice == \"circle\" or choice == '1':\n",
    "        r = float(eval(input(\"Enter the radius of the circle: \")))\n",
    "        print((\"Area of the circle is\", 3.14 * r * r))\n",
    "    elif choice == \"square\" or choice == '2':\n",
    "        a = float(eval(input(\"Enter the sides of the square: \")))\n",
    "        print((\"Area of the square is\", a * a))\n",
    "    elif choice == \"rectangle\" or choice == '3':\n",
    "        l = float(eval(input(\"Enter the length of the rectangle: \")))\n",
    "        b = float(eval(input(\"Enter the breadth of the rectangle: \")))\n",
    "        print((\"Area of the rectangle is\", a * a))\n",
    "    else:\n",
    "        print(\"Invalid option\")"
   ]
  },
  {
   "cell_type": "code",
   "execution_count": 40,
   "id": "indoor-parliament",
   "metadata": {},
   "outputs": [
    {
     "name": "stdout",
     "output_type": "stream",
     "text": [
      "Enter any number: 20\n",
      "Divisible by 4 and its even\n",
      "Enter any number: 10\n",
      "Number is even\n",
      "Enter any number: 5\n",
      "Number is odd\n"
     ]
    }
   ],
   "source": [
    "i = 1\n",
    "while i <= 3:\n",
    "    num = int(input(\"Enter any number: \"))\n",
    "    if num % 4 == 0:\n",
    "        print(\"Divisible by 4 and its even\")\n",
    "    elif num % 2 == 0:\n",
    "        print(\"Number is even\")\n",
    "    else:\n",
    "        print(\"Number is odd\")\n",
    "    i = i + 1"
   ]
  },
  {
   "cell_type": "code",
   "execution_count": 41,
   "id": "raising-finance",
   "metadata": {
    "collapsed": true
   },
   "outputs": [
    {
     "name": "stdout",
     "output_type": "stream",
     "text": [
      "Enter any number: 21\n",
      "Number is odd\n",
      "Enter any number: 23\n",
      "Number is odd\n",
      "Enter any number: 42\n",
      "Number is even\n"
     ]
    }
   ],
   "source": [
    "for i in range(3):\n",
    "    num = int(input(\"Enter any number: \"))\n",
    "    if num % 4 == 0:\n",
    "        print(\"Divisible by 4 and its even\")\n",
    "    elif num % 2 == 0:\n",
    "        print(\"Number is even\")\n",
    "    else:\n",
    "        print(\"Number is odd\")"
   ]
  },
  {
   "cell_type": "code",
   "execution_count": null,
   "id": "swedish-greek",
   "metadata": {},
   "outputs": [],
   "source": [
    "c = 'apple'\n",
    "for i in c:\n",
    "    num = int(input(\"Enter any number: \"))\n",
    "    if num % 4 == 0:\n",
    "        print(\"Divisible by 4 and its even\")\n",
    "    elif num % 2 == 0:\n",
    "        print(\"Number is even\")\n",
    "    else:\n",
    "        print(\"Number is odd\")"
   ]
  }
 ],
 "metadata": {
  "kernelspec": {
   "display_name": "Python 3",
   "language": "python",
   "name": "python3"
  },
  "language_info": {
   "codemirror_mode": {
    "name": "ipython",
    "version": 3
   },
   "file_extension": ".py",
   "mimetype": "text/x-python",
   "name": "python",
   "nbconvert_exporter": "python",
   "pygments_lexer": "ipython3",
   "version": "3.6.8"
  },
  "nbTranslate": {
   "displayLangs": [
    "*"
   ],
   "hotkey": "alt-t",
   "langInMainMenu": true,
   "sourceLang": "en",
   "targetLang": "fr",
   "useGoogleTranslate": true
  },
  "toc": {
   "base_numbering": 1,
   "nav_menu": {},
   "number_sections": true,
   "sideBar": true,
   "skip_h1_title": false,
   "title_cell": "Table of Contents",
   "title_sidebar": "Contents",
   "toc_cell": false,
   "toc_position": {},
   "toc_section_display": true,
   "toc_window_display": false
  },
  "varInspector": {
   "cols": {
    "lenName": 16,
    "lenType": 16,
    "lenVar": 40
   },
   "kernels_config": {
    "python": {
     "delete_cmd_postfix": "",
     "delete_cmd_prefix": "del ",
     "library": "var_list.py",
     "varRefreshCmd": "print(var_dic_list())"
    },
    "r": {
     "delete_cmd_postfix": ") ",
     "delete_cmd_prefix": "rm(",
     "library": "var_list.r",
     "varRefreshCmd": "cat(var_dic_list()) "
    }
   },
   "types_to_exclude": [
    "module",
    "function",
    "builtin_function_or_method",
    "instance",
    "_Feature"
   ],
   "window_display": false
  }
 },
 "nbformat": 4,
 "nbformat_minor": 5
}
