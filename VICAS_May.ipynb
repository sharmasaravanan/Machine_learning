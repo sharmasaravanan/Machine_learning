{
 "cells": [
  {
   "cell_type": "markdown",
   "id": "foreign-dietary",
   "metadata": {},
   "source": [
    "### intro to python programming "
   ]
  },
  {
   "cell_type": "code",
   "execution_count": 1,
   "id": "reflected-recipe",
   "metadata": {},
   "outputs": [
    {
     "name": "stdout",
     "output_type": "stream",
     "text": [
      "hello world!!!\n"
     ]
    }
   ],
   "source": [
    "print(\"hello world!!!\")"
   ]
  },
  {
   "cell_type": "code",
   "execution_count": null,
   "id": "homeless-nothing",
   "metadata": {},
   "outputs": [],
   "source": [
    "#include <stdio.h>\n",
    "int main() {\n",
    "   // printf() displays the string inside quotation\n",
    "   printf(\"Hello, World!\");\n",
    "   return 0;\n",
    "}\n"
   ]
  },
  {
   "cell_type": "markdown",
   "id": "paperback-battlefield",
   "metadata": {},
   "source": [
    "### Datatypes"
   ]
  },
  {
   "cell_type": "code",
   "execution_count": 3,
   "id": "entire-offer",
   "metadata": {},
   "outputs": [],
   "source": [
    "a = 5\n",
    "b = 3.14\n",
    "c = 'apple' # \"apple\"\n",
    "d = True # False"
   ]
  },
  {
   "cell_type": "markdown",
   "id": "incorrect-hindu",
   "metadata": {},
   "source": [
    "### Print function"
   ]
  },
  {
   "cell_type": "code",
   "execution_count": 5,
   "id": "statutory-protection",
   "metadata": {},
   "outputs": [
    {
     "name": "stdout",
     "output_type": "stream",
     "text": [
      "5 <class 'int'>\n",
      "3.14 <class 'float'>\n",
      "apple <class 'str'>\n",
      "True <class 'bool'>\n"
     ]
    }
   ],
   "source": [
    "print(a, type(a))\n",
    "print(b, type(b))\n",
    "print(c, type(c))\n",
    "print(d, type(d))"
   ]
  },
  {
   "cell_type": "code",
   "execution_count": 12,
   "id": "subtle-history",
   "metadata": {},
   "outputs": [
    {
     "name": "stdout",
     "output_type": "stream",
     "text": [
      "Method-1\n",
      "Hello apple\n",
      "Hello 5\n",
      "\n",
      "Method-2\n",
      "Hello apple\n",
      "Hello 5\n",
      "\n",
      "Method-3\n",
      "Hello apple\n",
      "Hello 5\n",
      "\n",
      "Method-4\n",
      "Hello apple\n",
      "Hello 5\n"
     ]
    }
   ],
   "source": [
    "# to display \n",
    "# Hello apple\n",
    "# Hello 5\n",
    "\n",
    "print(\"Method-1\")\n",
    "print(\"Hello\", c)\n",
    "print(\"Hello\", a)\n",
    "print()\n",
    "print(\"Method-2\")\n",
    "print(\"Hello \" + c)\n",
    "print(\"Hello \"+ str(a))\n",
    "print()\n",
    "print(\"Method-3\")\n",
    "print(\"Hello %s\"%c)\n",
    "print(\"Hello %d\"%a)\n",
    "print()\n",
    "print(\"Method-4\")\n",
    "print(\"Hello {}\".format(c))\n",
    "print(\"Hello {}\".format(a))"
   ]
  },
  {
   "cell_type": "code",
   "execution_count": 11,
   "id": "appointed-despite",
   "metadata": {},
   "outputs": [
    {
     "name": "stdout",
     "output_type": "stream",
     "text": [
      "Hello apple apple\n"
     ]
    }
   ],
   "source": [
    "print(\"Hello %s %s\"%(c,c))"
   ]
  },
  {
   "cell_type": "code",
   "execution_count": 13,
   "id": "powerful-lambda",
   "metadata": {},
   "outputs": [],
   "source": [
    "# I bought 3kgs of mango for 152.35Rs\n",
    "w = 3\n",
    "f = 'mango'\n",
    "p = 152.35"
   ]
  },
  {
   "cell_type": "code",
   "execution_count": 18,
   "id": "strange-michigan",
   "metadata": {},
   "outputs": [
    {
     "name": "stdout",
     "output_type": "stream",
     "text": [
      "I bought 3 kgs of mango for 152.35 Rs\n",
      "I bought 3kgs of mango for 152.35Rs\n",
      "I bought 3kgs of mango for 152.35Rs\n",
      "I bought 3kgs of mango for 152.35Rs\n"
     ]
    }
   ],
   "source": [
    "print(\"I bought\",w,\"kgs of\",f,\"for\",p,\"Rs\")\n",
    "print(\"I bought \"+str(w)+\"kgs of \"+f+\" for \"+str(p)+\"Rs\")\n",
    "print(\"I bought %dkgs of %s for %0.2fRs\"%(w,f,p))\n",
    "print(\"I bought {}kgs of {} for {}Rs\".format(w,f,p))"
   ]
  },
  {
   "cell_type": "markdown",
   "id": "hazardous-shepherd",
   "metadata": {},
   "source": [
    "### operators"
   ]
  },
  {
   "cell_type": "markdown",
   "id": "posted-academy",
   "metadata": {},
   "source": [
    "#### arithmetic operators"
   ]
  },
  {
   "cell_type": "code",
   "execution_count": null,
   "id": "thirty-terry",
   "metadata": {},
   "outputs": [],
   "source": [
    "+ - * / % // ** "
   ]
  },
  {
   "cell_type": "code",
   "execution_count": 20,
   "id": "gothic-secret",
   "metadata": {},
   "outputs": [
    {
     "name": "stdout",
     "output_type": "stream",
     "text": [
      "29\n",
      "15\n",
      "154\n",
      "3.142857142857143\n",
      "3\n",
      "1\n",
      "2494357888\n"
     ]
    }
   ],
   "source": [
    "a = 22\n",
    "b = 7\n",
    "print(a + b)\n",
    "print(a - b)\n",
    "print(a * b)\n",
    "print(a / b)\n",
    "print(a // b)\n",
    "print(a % b)\n",
    "print(a ** b)"
   ]
  },
  {
   "cell_type": "markdown",
   "id": "outdoor-tuning",
   "metadata": {},
   "source": [
    "#### conditional operator"
   ]
  },
  {
   "cell_type": "code",
   "execution_count": null,
   "id": "portuguese-montgomery",
   "metadata": {},
   "outputs": [],
   "source": [
    "> < >= <= == != "
   ]
  },
  {
   "cell_type": "code",
   "execution_count": 21,
   "id": "urban-leadership",
   "metadata": {},
   "outputs": [
    {
     "name": "stdout",
     "output_type": "stream",
     "text": [
      "True\n",
      "False\n",
      "True\n",
      "False\n",
      "False\n",
      "True\n"
     ]
    }
   ],
   "source": [
    "print( a > b)\n",
    "print( a < b)\n",
    "print( a >= b)\n",
    "print( a <= b)\n",
    "print( a == b)\n",
    "print( a != b)"
   ]
  },
  {
   "cell_type": "markdown",
   "id": "typical-credit",
   "metadata": {},
   "source": [
    "#### logical operators"
   ]
  },
  {
   "cell_type": "code",
   "execution_count": null,
   "id": "infinite-carry",
   "metadata": {},
   "outputs": [],
   "source": [
    "and or not"
   ]
  },
  {
   "cell_type": "code",
   "execution_count": 25,
   "id": "vertical-thesaurus",
   "metadata": {},
   "outputs": [
    {
     "name": "stdout",
     "output_type": "stream",
     "text": [
      "True\n",
      "False\n",
      "True\n",
      "True\n",
      "False\n",
      "False\n",
      "True\n"
     ]
    }
   ],
   "source": [
    "print(a > 20 and b > 5)\n",
    "print(a > 20 and b > 15)\n",
    "\n",
    "print(a > 20 or b > 5)\n",
    "print(a > 20 or b > 15)\n",
    "print(a > 25 or b > 15)\n",
    "\n",
    "print(not a)\n",
    "a = None\n",
    "print(not a)"
   ]
  },
  {
   "cell_type": "code",
   "execution_count": null,
   "id": "romance-plastic",
   "metadata": {},
   "outputs": [],
   "source": [
    "n = 5\n",
    "\n",
    "nnn + nn + n ==> 555+ 55 + 5"
   ]
  },
  {
   "cell_type": "code",
   "execution_count": 26,
   "id": "allied-experience",
   "metadata": {},
   "outputs": [
    {
     "data": {
      "text/plain": [
       "615"
      ]
     },
     "execution_count": 26,
     "metadata": {},
     "output_type": "execute_result"
    }
   ],
   "source": [
    "5 * 111 + 5 *11 + 5"
   ]
  },
  {
   "cell_type": "code",
   "execution_count": 27,
   "id": "undefined-indianapolis",
   "metadata": {},
   "outputs": [
    {
     "data": {
      "text/plain": [
       "615"
      ]
     },
     "execution_count": 27,
     "metadata": {},
     "output_type": "execute_result"
    }
   ],
   "source": [
    "n = '5'\n",
    "int(n+n+n)+ int(n+n) + int(n)"
   ]
  },
  {
   "cell_type": "code",
   "execution_count": 28,
   "id": "listed-extension",
   "metadata": {},
   "outputs": [
    {
     "data": {
      "text/plain": [
       "615"
      ]
     },
     "execution_count": 28,
     "metadata": {},
     "output_type": "execute_result"
    }
   ],
   "source": [
    "n = 5\n",
    "int(str(n)+str(n)+str(n))+ int(str(n)+str(n)) + int(n)"
   ]
  },
  {
   "cell_type": "code",
   "execution_count": 29,
   "id": "geographic-scratch",
   "metadata": {},
   "outputs": [
    {
     "data": {
      "text/plain": [
       "615"
      ]
     },
     "execution_count": 29,
     "metadata": {},
     "output_type": "execute_result"
    }
   ],
   "source": [
    "n = '5'\n",
    "int(n*3)+ int(n*2) + int(n)"
   ]
  },
  {
   "cell_type": "code",
   "execution_count": null,
   "id": "noted-relief",
   "metadata": {},
   "outputs": [],
   "source": []
  }
 ],
 "metadata": {
  "kernelspec": {
   "display_name": "Python 3",
   "language": "python",
   "name": "python3"
  },
  "language_info": {
   "codemirror_mode": {
    "name": "ipython",
    "version": 3
   },
   "file_extension": ".py",
   "mimetype": "text/x-python",
   "name": "python",
   "nbconvert_exporter": "python",
   "pygments_lexer": "ipython3",
   "version": "3.6.8"
  },
  "nbTranslate": {
   "displayLangs": [
    "*"
   ],
   "hotkey": "alt-t",
   "langInMainMenu": true,
   "sourceLang": "en",
   "targetLang": "fr",
   "useGoogleTranslate": true
  },
  "toc": {
   "base_numbering": 1,
   "nav_menu": {},
   "number_sections": true,
   "sideBar": true,
   "skip_h1_title": false,
   "title_cell": "Table of Contents",
   "title_sidebar": "Contents",
   "toc_cell": false,
   "toc_position": {},
   "toc_section_display": true,
   "toc_window_display": false
  },
  "varInspector": {
   "cols": {
    "lenName": 16,
    "lenType": 16,
    "lenVar": 40
   },
   "kernels_config": {
    "python": {
     "delete_cmd_postfix": "",
     "delete_cmd_prefix": "del ",
     "library": "var_list.py",
     "varRefreshCmd": "print(var_dic_list())"
    },
    "r": {
     "delete_cmd_postfix": ") ",
     "delete_cmd_prefix": "rm(",
     "library": "var_list.r",
     "varRefreshCmd": "cat(var_dic_list()) "
    }
   },
   "types_to_exclude": [
    "module",
    "function",
    "builtin_function_or_method",
    "instance",
    "_Feature"
   ],
   "window_display": false
  }
 },
 "nbformat": 4,
 "nbformat_minor": 5
}
