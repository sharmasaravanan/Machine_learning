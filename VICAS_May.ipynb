{
 "cells": [
  {
   "cell_type": "markdown",
   "id": "annoying-expression",
   "metadata": {},
   "source": [
    "### https://bit.ly/vicas_python"
   ]
  },
  {
   "cell_type": "markdown",
   "id": "weekly-calculation",
   "metadata": {},
   "source": [
    "### intro to python programming "
   ]
  },
  {
   "cell_type": "code",
   "execution_count": 1,
   "id": "pleased-intention",
   "metadata": {},
   "outputs": [
    {
     "name": "stdout",
     "output_type": "stream",
     "text": [
      "hello world!!!\n"
     ]
    }
   ],
   "source": [
    "print(\"hello world!!!\")"
   ]
  },
  {
   "cell_type": "code",
   "execution_count": null,
   "id": "statewide-tanzania",
   "metadata": {},
   "outputs": [],
   "source": [
    "# include <stdio.h>\n",
    "int main() {\n",
    "    // printf() displays the string inside quotation\n",
    "    printf(\"Hello, World!\")\n",
    "    return 0\n",
    "}"
   ]
  },
  {
   "cell_type": "markdown",
   "id": "involved-wilson",
   "metadata": {},
   "source": [
    "### Datatypes"
   ]
  },
  {
   "cell_type": "code",
   "execution_count": 3,
   "id": "designed-diving",
   "metadata": {},
   "outputs": [],
   "source": [
    "a = 5\n",
    "b = 3.14\n",
    "c = 'apple'  # \"apple\"\n",
    "d = True  # False"
   ]
  },
  {
   "cell_type": "markdown",
   "id": "contrary-denial",
   "metadata": {},
   "source": [
    "### Print function"
   ]
  },
  {
   "cell_type": "code",
   "execution_count": 5,
   "id": "corporate-wisconsin",
   "metadata": {},
   "outputs": [
    {
     "name": "stdout",
     "output_type": "stream",
     "text": [
      "5 <class 'int'>\n",
      "3.14 <class 'float'>\n",
      "apple <class 'str'>\n",
      "True <class 'bool'>\n"
     ]
    }
   ],
   "source": [
    "print(a, type(a))\n",
    "print(b, type(b))\n",
    "print(c, type(c))\n",
    "print(d, type(d))"
   ]
  },
  {
   "cell_type": "code",
   "execution_count": 12,
   "id": "spread-longer",
   "metadata": {},
   "outputs": [
    {
     "name": "stdout",
     "output_type": "stream",
     "text": [
      "Method-1\n",
      "Hello apple\n",
      "Hello 5\n",
      "\n",
      "Method-2\n",
      "Hello apple\n",
      "Hello 5\n",
      "\n",
      "Method-3\n",
      "Hello apple\n",
      "Hello 5\n",
      "\n",
      "Method-4\n",
      "Hello apple\n",
      "Hello 5\n"
     ]
    }
   ],
   "source": [
    "# to display\n",
    "# Hello apple\n",
    "# Hello 5\n",
    "\n",
    "print(\"Method-1\")\n",
    "print(\"Hello\", c)\n",
    "print(\"Hello\", a)\n",
    "print()\n",
    "print(\"Method-2\")\n",
    "print(\"Hello \" + c)\n",
    "print(\"Hello \" + str(a))\n",
    "print()\n",
    "print(\"Method-3\")\n",
    "print(\"Hello %s\" % c)\n",
    "print(\"Hello %d\" % a)\n",
    "print()\n",
    "print(\"Method-4\")\n",
    "print(\"Hello {}\".format(c))\n",
    "print(\"Hello {}\".format(a))"
   ]
  },
  {
   "cell_type": "code",
   "execution_count": 11,
   "id": "aware-contrast",
   "metadata": {},
   "outputs": [
    {
     "name": "stdout",
     "output_type": "stream",
     "text": [
      "Hello apple apple\n"
     ]
    }
   ],
   "source": [
    "print(\"Hello %s %s\" % (c, c))"
   ]
  },
  {
   "cell_type": "code",
   "execution_count": 13,
   "id": "separate-compatibility",
   "metadata": {},
   "outputs": [],
   "source": [
    "# I bought 3kgs of mango for 152.35Rs\n",
    "w = 3\n",
    "f = 'mango'\n",
    "p = 152.35"
   ]
  },
  {
   "cell_type": "code",
   "execution_count": 18,
   "id": "average-sigma",
   "metadata": {},
   "outputs": [
    {
     "name": "stdout",
     "output_type": "stream",
     "text": [
      "I bought 3 kgs of mango for 152.35 Rs\n",
      "I bought 3kgs of mango for 152.35Rs\n",
      "I bought 3kgs of mango for 152.35Rs\n",
      "I bought 3kgs of mango for 152.35Rs\n"
     ]
    }
   ],
   "source": [
    "print(\"I bought\", w, \"kgs of\", f, \"for\", p, \"Rs\")\n",
    "print(\"I bought \"+str(w)+\"kgs of \"+f+\" for \"+str(p)+\"Rs\")\n",
    "print(\"I bought %dkgs of %s for %0.2fRs\" % (w, f, p))\n",
    "print(\"I bought {}kgs of {} for {}Rs\".format(w, f, p))"
   ]
  },
  {
   "cell_type": "markdown",
   "id": "spatial-sequence",
   "metadata": {},
   "source": [
    "### operators"
   ]
  },
  {
   "cell_type": "markdown",
   "id": "behind-underground",
   "metadata": {},
   "source": [
    "#### arithmetic operators"
   ]
  },
  {
   "cell_type": "code",
   "execution_count": null,
   "id": "chinese-intention",
   "metadata": {},
   "outputs": [],
   "source": [
    "+ - * / % // **"
   ]
  },
  {
   "cell_type": "code",
   "execution_count": 20,
   "id": "chronic-copper",
   "metadata": {},
   "outputs": [
    {
     "name": "stdout",
     "output_type": "stream",
     "text": [
      "29\n",
      "15\n",
      "154\n",
      "3.142857142857143\n",
      "3\n",
      "1\n",
      "2494357888\n"
     ]
    }
   ],
   "source": [
    "a = 22\n",
    "b = 7\n",
    "print(a + b)\n",
    "print(a - b)\n",
    "print(a * b)\n",
    "print(a / b)\n",
    "print(a // b)\n",
    "print(a % b)\n",
    "print(a ** b)"
   ]
  },
  {
   "cell_type": "markdown",
   "id": "ordered-keeping",
   "metadata": {},
   "source": [
    "#### conditional operator"
   ]
  },
  {
   "cell_type": "code",
   "execution_count": null,
   "id": "global-twins",
   "metadata": {},
   "outputs": [],
   "source": [
    "> < >= <= == !="
   ]
  },
  {
   "cell_type": "code",
   "execution_count": 21,
   "id": "horizontal-fifteen",
   "metadata": {},
   "outputs": [
    {
     "name": "stdout",
     "output_type": "stream",
     "text": [
      "True\n",
      "False\n",
      "True\n",
      "False\n",
      "False\n",
      "True\n"
     ]
    }
   ],
   "source": [
    "print(a > b)\n",
    "print(a < b)\n",
    "print(a >= b)\n",
    "print(a <= b)\n",
    "print(a == b)\n",
    "print(a != b)"
   ]
  },
  {
   "cell_type": "markdown",
   "id": "varied-candy",
   "metadata": {},
   "source": [
    "#### logical operators"
   ]
  },
  {
   "cell_type": "code",
   "execution_count": null,
   "id": "premium-thought",
   "metadata": {},
   "outputs": [],
   "source": [
    "and or not"
   ]
  },
  {
   "cell_type": "code",
   "execution_count": 25,
   "id": "assisted-addiction",
   "metadata": {},
   "outputs": [
    {
     "name": "stdout",
     "output_type": "stream",
     "text": [
      "True\n",
      "False\n",
      "True\n",
      "True\n",
      "False\n",
      "False\n",
      "True\n"
     ]
    }
   ],
   "source": [
    "print(a > 20 and b > 5)\n",
    "print(a > 20 and b > 15)\n",
    "\n",
    "print(a > 20 or b > 5)\n",
    "print(a > 20 or b > 15)\n",
    "print(a > 25 or b > 15)\n",
    "\n",
    "print(not a)\n",
    "a = None\n",
    "print(not a)"
   ]
  },
  {
   "cell_type": "code",
   "execution_count": null,
   "id": "adopted-appearance",
   "metadata": {},
   "outputs": [],
   "source": [
    "n = 5\n",
    "\n",
    "nnn + nn + n == > 555 + 55 + 5"
   ]
  },
  {
   "cell_type": "code",
   "execution_count": 26,
   "id": "indian-carol",
   "metadata": {},
   "outputs": [
    {
     "data": {
      "text/plain": [
       "615"
      ]
     },
     "execution_count": 26,
     "metadata": {},
     "output_type": "execute_result"
    }
   ],
   "source": [
    "5 * 111 + 5 * 11 + 5"
   ]
  },
  {
   "cell_type": "code",
   "execution_count": 27,
   "id": "through-advocacy",
   "metadata": {},
   "outputs": [
    {
     "data": {
      "text/plain": [
       "615"
      ]
     },
     "execution_count": 27,
     "metadata": {},
     "output_type": "execute_result"
    }
   ],
   "source": [
    "n = '5'\n",
    "int(n+n+n) + int(n+n) + int(n)"
   ]
  },
  {
   "cell_type": "code",
   "execution_count": 28,
   "id": "damaged-faculty",
   "metadata": {},
   "outputs": [
    {
     "data": {
      "text/plain": [
       "615"
      ]
     },
     "execution_count": 28,
     "metadata": {},
     "output_type": "execute_result"
    }
   ],
   "source": [
    "n = 5\n",
    "int(str(n)+str(n)+str(n)) + int(str(n)+str(n)) + int(n)"
   ]
  },
  {
   "cell_type": "code",
   "execution_count": 29,
   "id": "consolidated-carroll",
   "metadata": {},
   "outputs": [
    {
     "data": {
      "text/plain": [
       "615"
      ]
     },
     "execution_count": 29,
     "metadata": {},
     "output_type": "execute_result"
    }
   ],
   "source": [
    "n = '5'\n",
    "int(n*3) + int(n*2) + int(n)"
   ]
  },
  {
   "cell_type": "markdown",
   "id": "dirty-aviation",
   "metadata": {},
   "source": [
    "### getting input from user"
   ]
  },
  {
   "cell_type": "code",
   "execution_count": 41,
   "id": "neural-romantic",
   "metadata": {},
   "outputs": [
    {
     "name": "stdout",
     "output_type": "stream",
     "text": [
      "Enter your name: xyz\n",
      "Enter your age: 12\n",
      "Enter your age: s\n"
     ]
    },
    {
     "ename": "ValueError",
     "evalue": "invalid literal for int() with base 10: 's'",
     "output_type": "error",
     "traceback": [
      "\u001b[0;31m---------------------------------------------------------------------------\u001b[0m",
      "\u001b[0;31mValueError\u001b[0m                                Traceback (most recent call last)",
      "\u001b[0;32m<ipython-input-41-275fb5615294>\u001b[0m in \u001b[0;36m<module>\u001b[0;34m\u001b[0m\n\u001b[1;32m      4\u001b[0m \u001b[0;34m\u001b[0m\u001b[0m\n\u001b[1;32m      5\u001b[0m \u001b[0;34m\u001b[0m\u001b[0m\n\u001b[0;32m----> 6\u001b[0;31m \u001b[0mage\u001b[0m \u001b[0;34m=\u001b[0m \u001b[0mint\u001b[0m\u001b[0;34m(\u001b[0m\u001b[0minput\u001b[0m\u001b[0;34m(\u001b[0m\u001b[0;34m\"Enter your age: \"\u001b[0m\u001b[0;34m)\u001b[0m\u001b[0;34m)\u001b[0m\u001b[0;34m\u001b[0m\u001b[0;34m\u001b[0m\u001b[0m\n\u001b[0m",
      "\u001b[0;31mValueError\u001b[0m: invalid literal for int() with base 10: 's'"
     ]
    }
   ],
   "source": [
    "name = input(\"Enter your name: \")\n",
    "age = input(\"Enter your age: \")\n",
    "age = int(age)\n",
    "\n",
    "\n",
    "age = int(input(\"Enter your age: \"))"
   ]
  },
  {
   "cell_type": "code",
   "execution_count": 39,
   "id": "characteristic-deficit",
   "metadata": {},
   "outputs": [
    {
     "name": "stdout",
     "output_type": "stream",
     "text": [
      "abc 13\n"
     ]
    }
   ],
   "source": [
    "print(name, age)"
   ]
  },
  {
   "cell_type": "code",
   "execution_count": 40,
   "id": "powerful-principle",
   "metadata": {},
   "outputs": [
    {
     "name": "stdout",
     "output_type": "stream",
     "text": [
      "<class 'str'> <class 'int'>\n"
     ]
    }
   ],
   "source": [
    "print(type(name), type(age))"
   ]
  },
  {
   "cell_type": "markdown",
   "id": "traditional-huntington",
   "metadata": {},
   "source": [
    "### if-else"
   ]
  },
  {
   "cell_type": "code",
   "execution_count": 5,
   "id": "hazardous-ozone",
   "metadata": {},
   "outputs": [
    {
     "name": "stdout",
     "output_type": "stream",
     "text": [
      "Enter any number: 5\n",
      "Number is odd\n"
     ]
    }
   ],
   "source": [
    "num = float(input(\"Enter any number: \"))\n",
    "if num % 2 == 0:\n",
    "    print(\"Number is even\")\n",
    "else:\n",
    "    print(\"Number is odd\")"
   ]
  },
  {
   "cell_type": "markdown",
   "id": "developing-transmission",
   "metadata": {},
   "source": [
    "### nested if "
   ]
  },
  {
   "cell_type": "code",
   "execution_count": 8,
   "id": "practical-afghanistan",
   "metadata": {},
   "outputs": [
    {
     "name": "stdout",
     "output_type": "stream",
     "text": [
      "Enter any number: 5\n",
      "Number is odd\n"
     ]
    }
   ],
   "source": [
    "num = float(input(\"Enter any number: \"))\n",
    "if num % 2 == 0:\n",
    "    print(\"Number is even\")\n",
    "    if num % 4 == 0:\n",
    "        print(\"Number is also divisible by 4\")\n",
    "else:\n",
    "    print(\"Number is odd\")"
   ]
  },
  {
   "cell_type": "code",
   "execution_count": null,
   "id": "missing-wildlife",
   "metadata": {},
   "outputs": [],
   "source": []
  },
  {
   "cell_type": "code",
   "execution_count": null,
   "id": "worth-emperor",
   "metadata": {},
   "outputs": [],
   "source": [
    "num = float(input(\"Enter any number: \"))\n",
    "if num % 4 == 0:\n",
    "    print(\"Number is even and also divisible by 4\")\n",
    "elif num % 2 == 0:\n",
    "    print(\"Number is even\")\n",
    "else:\n",
    "    print(\"Number is odd\")"
   ]
  },
  {
   "cell_type": "code",
   "execution_count": 11,
   "id": "angry-vinyl",
   "metadata": {},
   "outputs": [
    {
     "name": "stdout",
     "output_type": "stream",
     "text": [
      "Hello! This program can help you to calculate the area of the following objects \n",
      "1. circle\n",
      "2. square\n",
      "3. rectangle\n",
      "\n",
      "Enter the object you want to calculate: abc\n",
      "Invalid option\n"
     ]
    }
   ],
   "source": [
    "print(\n",
    "    \"Hello! This program can help you to calculate the area of the following objects \\n1. circle\\n2. square\\n3. rectangle\"\n",
    ")\n",
    "print()\n",
    "choice = input(\"Enter the object you want to calculate: \")\n",
    "if choice == \"circle\":\n",
    "    r = float(input(\"Enter the radius of the circle: \"))\n",
    "    print(\"Area of the circle is\", 3.14 * r * r)\n",
    "elif choice == \"square\":\n",
    "    a = float(input(\"Enter the sides of the square: \"))\n",
    "    print(\"Area of the square is\", a * a)\n",
    "elif choice == \"rectangle\":\n",
    "    l = float(input(\"Enter the length of the rectangle: \"))\n",
    "    b = float(input(\"Enter the breadth of the rectangle: \"))\n",
    "    print(\"Area of the rectangle is\", a * a)\n",
    "else:\n",
    "    print(\"Invalid option\")"
   ]
  },
  {
   "cell_type": "code",
   "execution_count": 12,
   "id": "complete-arctic",
   "metadata": {},
   "outputs": [
    {
     "name": "stdout",
     "output_type": "stream",
     "text": [
      "Enter any number: 20\n",
      "Number is even and also divisible by 4\n",
      "Enter any number: 15\n",
      "Number is odd\n",
      "Enter any number: 10\n",
      "Number is even\n",
      "Enter any number: 13\n",
      "Number is odd\n",
      "Enter any number: 13\n",
      "Number is odd\n"
     ]
    }
   ],
   "source": [
    "i = 0\n",
    "while i < 5:\n",
    "    num = float(input(\"Enter any number: \"))\n",
    "    if num % 4 == 0:\n",
    "        print(\"Number is even and also divisible by 4\")\n",
    "    elif num % 2 == 0:\n",
    "        print(\"Number is even\")\n",
    "    else:\n",
    "        print(\"Number is odd\")\n",
    "    i = i + 1  # i += 1"
   ]
  },
  {
   "cell_type": "code",
   "execution_count": 15,
   "id": "tropical-logistics",
   "metadata": {},
   "outputs": [
    {
     "name": "stdout",
     "output_type": "stream",
     "text": [
      "Enter any number: 21\n",
      "Number is odd\n",
      "Do you want to continue? y/n:y\n",
      "Enter any number: 12\n",
      "Number is even and also divisible by 4\n",
      "Do you want to continue? y/n:n\n",
      "Thank you!!\n"
     ]
    }
   ],
   "source": [
    "opt = 'y'\n",
    "while opt == 'y':\n",
    "    num = float(input(\"Enter any number: \"))\n",
    "    if num % 4 == 0:\n",
    "        print(\"Number is even and also divisible by 4\")\n",
    "    elif num % 2 == 0:\n",
    "        print(\"Number is even\")\n",
    "    else:\n",
    "        print(\"Number is odd\")\n",
    "    opt = input(\"Do you want to continue? y/n:\")\n",
    "else:\n",
    "    print(\"Thank you!!\")"
   ]
  },
  {
   "cell_type": "code",
   "execution_count": 19,
   "id": "binary-moderator",
   "metadata": {},
   "outputs": [
    {
     "name": "stdout",
     "output_type": "stream",
     "text": [
      "Hello! This program can help you to calculate the area of the following objects \n",
      "1. circle\n",
      "2. square\n",
      "3. rectangle\n",
      "\n",
      "Enter the object you want to calculate: 2\n",
      "Enter the sides of the square: 4\n",
      "Area of the square is 16.0\n",
      "Do you want to continue? y/n:y\n",
      "Enter the object you want to calculate: 1\n",
      "Enter the radius of the circle: 2\n",
      "Area of the circle is 12.56\n",
      "Do you want to continue? y/n:y\n",
      "Enter the object you want to calculate: circle\n",
      "Enter the radius of the circle: 4\n",
      "Area of the circle is 50.24\n",
      "Do you want to continue? y/n:n\n",
      "Thank you!!\n"
     ]
    }
   ],
   "source": [
    "print(\n",
    "    \"Hello! This program can help you to calculate the area of the following objects \\n1. circle\\n2. square\\n3. rectangle\"\n",
    ")\n",
    "print()\n",
    "opt = 'y'\n",
    "while opt == 'y':\n",
    "    choice = input(\"Enter the object you want to calculate: \")\n",
    "    if choice == \"circle\" or choice == '1':\n",
    "        r = float(input(\"Enter the radius of the circle: \"))\n",
    "        print(\"Area of the circle is\", 3.14 * r * r)\n",
    "    elif choice == \"square\" or choice == '2':\n",
    "        a = float(input(\"Enter the sides of the square: \"))\n",
    "        print(\"Area of the square is\", a * a)\n",
    "    elif choice == \"rectangle\" or choice == '3':\n",
    "        l = float(input(\"Enter the length of the rectangle: \"))\n",
    "        b = float(input(\"Enter the breadth of the rectangle: \"))\n",
    "        print(\"Area of the rectangle is\", a * a)\n",
    "    else:\n",
    "        print(\"Invalid option\")\n",
    "    opt = input(\"Do you want to continue? y/n:\")\n",
    "else:\n",
    "    print(\"Thank you!!\")"
   ]
  },
  {
   "cell_type": "code",
   "execution_count": 21,
   "id": "willing-metabolism",
   "metadata": {},
   "outputs": [
    {
     "name": "stdout",
     "output_type": "stream",
     "text": [
      "Enter any number: 12\n",
      "Number is even and also divisible by 4\n",
      "Enter any number: 15\n",
      "Skipping!!\n",
      "Enter any number: 25\n",
      "stopping!!\n"
     ]
    }
   ],
   "source": [
    "i = 0\n",
    "while i < 5:\n",
    "    num = float(input(\"Enter any number: \"))\n",
    "\n",
    "    if num == 15:\n",
    "        print(\"Skipping!!\")\n",
    "        continue\n",
    "    elif num == 25:\n",
    "        print(\"stopping!!\")\n",
    "        break\n",
    "\n",
    "    if num % 4 == 0:\n",
    "        print(\"Number is even and also divisible by 4\")\n",
    "    elif num % 2 == 0:\n",
    "        print(\"Number is even\")\n",
    "    else:\n",
    "        print(\"Number is odd\")\n",
    "    i = i + 1  # i += 1"
   ]
  },
  {
   "cell_type": "markdown",
   "id": "apparent-genetics",
   "metadata": {},
   "source": [
    "### string"
   ]
  },
  {
   "cell_type": "code",
   "execution_count": 22,
   "id": "running-bones",
   "metadata": {},
   "outputs": [],
   "source": [
    "name = \"elephant\"\n",
    "sent = \"elephant is an animal\""
   ]
  },
  {
   "cell_type": "code",
   "execution_count": 24,
   "id": "collected-green",
   "metadata": {},
   "outputs": [
    {
     "data": {
      "text/plain": [
       "21"
      ]
     },
     "execution_count": 24,
     "metadata": {},
     "output_type": "execute_result"
    }
   ],
   "source": [
    "len(sent)"
   ]
  },
  {
   "cell_type": "code",
   "execution_count": 26,
   "id": "convenient-zimbabwe",
   "metadata": {},
   "outputs": [
    {
     "data": {
      "text/plain": [
       "'n'"
      ]
     },
     "execution_count": 26,
     "metadata": {},
     "output_type": "execute_result"
    }
   ],
   "source": [
    "name[6]"
   ]
  },
  {
   "cell_type": "code",
   "execution_count": 27,
   "id": "composite-promise",
   "metadata": {},
   "outputs": [
    {
     "data": {
      "text/plain": [
       "'ephant'"
      ]
     },
     "execution_count": 27,
     "metadata": {},
     "output_type": "execute_result"
    }
   ],
   "source": [
    "name[2:]"
   ]
  },
  {
   "cell_type": "code",
   "execution_count": 28,
   "id": "pleased-carter",
   "metadata": {},
   "outputs": [
    {
     "data": {
      "text/plain": [
       "'elepha'"
      ]
     },
     "execution_count": 28,
     "metadata": {},
     "output_type": "execute_result"
    }
   ],
   "source": [
    "name[:6]"
   ]
  },
  {
   "cell_type": "code",
   "execution_count": 29,
   "id": "related-cooperative",
   "metadata": {},
   "outputs": [
    {
     "data": {
      "text/plain": [
       "'epha'"
      ]
     },
     "execution_count": 29,
     "metadata": {},
     "output_type": "execute_result"
    }
   ],
   "source": [
    "name[2:6]"
   ]
  },
  {
   "cell_type": "code",
   "execution_count": 31,
   "id": "composite-brave",
   "metadata": {},
   "outputs": [
    {
     "data": {
      "text/plain": [
       "'tnahpele'"
      ]
     },
     "execution_count": 31,
     "metadata": {},
     "output_type": "execute_result"
    }
   ],
   "source": [
    "name[::-1]"
   ]
  },
  {
   "cell_type": "code",
   "execution_count": 32,
   "id": "tutorial-negative",
   "metadata": {},
   "outputs": [
    {
     "data": {
      "text/plain": [
       "'Elephant'"
      ]
     },
     "execution_count": 32,
     "metadata": {},
     "output_type": "execute_result"
    }
   ],
   "source": [
    "name.capitalize()"
   ]
  },
  {
   "cell_type": "code",
   "execution_count": 33,
   "id": "characteristic-samba",
   "metadata": {},
   "outputs": [
    {
     "data": {
      "text/plain": [
       "'Elephant is an animal'"
      ]
     },
     "execution_count": 33,
     "metadata": {},
     "output_type": "execute_result"
    }
   ],
   "source": [
    "sent.capitalize()"
   ]
  },
  {
   "cell_type": "code",
   "execution_count": 34,
   "id": "subjective-governor",
   "metadata": {},
   "outputs": [
    {
     "data": {
      "text/plain": [
       "'ELEPHANT IS AN ANIMAL'"
      ]
     },
     "execution_count": 34,
     "metadata": {},
     "output_type": "execute_result"
    }
   ],
   "source": [
    "sent.upper()"
   ]
  },
  {
   "cell_type": "code",
   "execution_count": 35,
   "id": "square-township",
   "metadata": {},
   "outputs": [
    {
     "data": {
      "text/plain": [
       "'Elephant Is An Animal'"
      ]
     },
     "execution_count": 35,
     "metadata": {},
     "output_type": "execute_result"
    }
   ],
   "source": [
    "sent.title()"
   ]
  },
  {
   "cell_type": "code",
   "execution_count": 36,
   "id": "amber-peninsula",
   "metadata": {},
   "outputs": [
    {
     "data": {
      "text/plain": [
       "'nAmE'"
      ]
     },
     "execution_count": 36,
     "metadata": {},
     "output_type": "execute_result"
    }
   ],
   "source": [
    "\"NaMe\".swapcase()"
   ]
  },
  {
   "cell_type": "code",
   "execution_count": 37,
   "id": "pleasant-original",
   "metadata": {},
   "outputs": [
    {
     "data": {
      "text/plain": [
       "2"
      ]
     },
     "execution_count": 37,
     "metadata": {},
     "output_type": "execute_result"
    }
   ],
   "source": [
    "name.count('e')"
   ]
  },
  {
   "cell_type": "code",
   "execution_count": 40,
   "id": "injured-formation",
   "metadata": {},
   "outputs": [
    {
     "data": {
      "text/plain": [
       "(6, -1)"
      ]
     },
     "execution_count": 40,
     "metadata": {},
     "output_type": "execute_result"
    }
   ],
   "source": [
    "name.find('n'), name.find('c')"
   ]
  },
  {
   "cell_type": "code",
   "execution_count": 41,
   "id": "internal-inspector",
   "metadata": {
    "collapsed": true
   },
   "outputs": [
    {
     "ename": "ValueError",
     "evalue": "substring not found",
     "output_type": "error",
     "traceback": [
      "\u001b[0;31m---------------------------------------------------------------------------\u001b[0m",
      "\u001b[0;31mValueError\u001b[0m                                Traceback (most recent call last)",
      "\u001b[0;32m<ipython-input-41-909e6ee88b7e>\u001b[0m in \u001b[0;36m<module>\u001b[0;34m\u001b[0m\n\u001b[0;32m----> 1\u001b[0;31m \u001b[0mname\u001b[0m\u001b[0;34m.\u001b[0m\u001b[0mindex\u001b[0m\u001b[0;34m(\u001b[0m\u001b[0;34m'n'\u001b[0m\u001b[0;34m)\u001b[0m\u001b[0;34m,\u001b[0m \u001b[0mname\u001b[0m\u001b[0;34m.\u001b[0m\u001b[0mindex\u001b[0m\u001b[0;34m(\u001b[0m\u001b[0;34m'c'\u001b[0m\u001b[0;34m)\u001b[0m\u001b[0;34m\u001b[0m\u001b[0;34m\u001b[0m\u001b[0m\n\u001b[0m",
      "\u001b[0;31mValueError\u001b[0m: substring not found"
     ]
    }
   ],
   "source": [
    "name.index('n'), name.index('c')"
   ]
  },
  {
   "cell_type": "code",
   "execution_count": 42,
   "id": "round-prison",
   "metadata": {},
   "outputs": [
    {
     "data": {
      "text/plain": [
       "'eyephant'"
      ]
     },
     "execution_count": 42,
     "metadata": {},
     "output_type": "execute_result"
    }
   ],
   "source": [
    "name.replace(\"l\", \"y\")"
   ]
  },
  {
   "cell_type": "code",
   "execution_count": 44,
   "id": "asian-lending",
   "metadata": {},
   "outputs": [
    {
     "data": {
      "text/plain": [
       "'~~~~~~elephant~~~~~~'"
      ]
     },
     "execution_count": 44,
     "metadata": {},
     "output_type": "execute_result"
    }
   ],
   "source": [
    "name.center(20, '~')"
   ]
  },
  {
   "cell_type": "code",
   "execution_count": 45,
   "id": "agricultural-latitude",
   "metadata": {},
   "outputs": [
    {
     "data": {
      "text/plain": [
       "'001234'"
      ]
     },
     "execution_count": 45,
     "metadata": {},
     "output_type": "execute_result"
    }
   ],
   "source": [
    "\"1234\".zfill(6)"
   ]
  },
  {
   "cell_type": "code",
   "execution_count": 48,
   "id": "approximate-belize",
   "metadata": {},
   "outputs": [
    {
     "data": {
      "text/plain": [
       "'sharma'"
      ]
     },
     "execution_count": 48,
     "metadata": {},
     "output_type": "execute_result"
    }
   ],
   "source": [
    "\" sharma \".strip()"
   ]
  },
  {
   "cell_type": "code",
   "execution_count": 49,
   "id": "stopped-original",
   "metadata": {},
   "outputs": [
    {
     "data": {
      "text/plain": [
       "'elepha'"
      ]
     },
     "execution_count": 49,
     "metadata": {},
     "output_type": "execute_result"
    }
   ],
   "source": [
    "name.strip('nt')"
   ]
  },
  {
   "cell_type": "code",
   "execution_count": 51,
   "id": "scheduled-overview",
   "metadata": {},
   "outputs": [
    {
     "data": {
      "text/plain": [
       "False"
      ]
     },
     "execution_count": 51,
     "metadata": {},
     "output_type": "execute_result"
    }
   ],
   "source": [
    "name.startswith('fl')"
   ]
  },
  {
   "cell_type": "code",
   "execution_count": 52,
   "id": "banner-cheat",
   "metadata": {},
   "outputs": [
    {
     "data": {
      "text/plain": [
       "True"
      ]
     },
     "execution_count": 52,
     "metadata": {},
     "output_type": "execute_result"
    }
   ],
   "source": [
    "name.endswith(\"nt\")"
   ]
  },
  {
   "cell_type": "code",
   "execution_count": 56,
   "id": "killing-better",
   "metadata": {},
   "outputs": [
    {
     "data": {
      "text/plain": [
       "'elephant'"
      ]
     },
     "execution_count": 56,
     "metadata": {},
     "output_type": "execute_result"
    }
   ],
   "source": [
    "name.encode('utf-16').decode('utf-16')"
   ]
  },
  {
   "cell_type": "code",
   "execution_count": 57,
   "id": "controlling-index",
   "metadata": {},
   "outputs": [
    {
     "data": {
      "text/plain": [
       "['elephant', 'is', 'an', 'animal']"
      ]
     },
     "execution_count": 57,
     "metadata": {},
     "output_type": "execute_result"
    }
   ],
   "source": [
    "sent.split()"
   ]
  },
  {
   "cell_type": "code",
   "execution_count": 58,
   "id": "adjusted-rescue",
   "metadata": {},
   "outputs": [
    {
     "data": {
      "text/plain": [
       "['eleph', 't is ', ' ', 'imal']"
      ]
     },
     "execution_count": 58,
     "metadata": {},
     "output_type": "execute_result"
    }
   ],
   "source": [
    "sent.split('an')"
   ]
  },
  {
   "cell_type": "code",
   "execution_count": 59,
   "id": "entitled-edmonton",
   "metadata": {},
   "outputs": [
    {
     "data": {
      "text/plain": [
       "'elephant is an animal'"
      ]
     },
     "execution_count": 59,
     "metadata": {},
     "output_type": "execute_result"
    }
   ],
   "source": [
    "\"an\".join(sent.split('an'))"
   ]
  },
  {
   "cell_type": "code",
   "execution_count": 60,
   "id": "cubic-sword",
   "metadata": {},
   "outputs": [
    {
     "data": {
      "text/plain": [
       "False"
      ]
     },
     "execution_count": 60,
     "metadata": {},
     "output_type": "execute_result"
    }
   ],
   "source": [
    "\"&\\nud\".isidentifier()"
   ]
  },
  {
   "cell_type": "markdown",
   "id": "sticky-creator",
   "metadata": {},
   "source": [
    "Books :- http://bit.ly/AI_material\n",
    "Exercise:- https://www.w3resource.com/python-exercises/ , https://www.practicepython.org/"
   ]
  },
  {
   "cell_type": "markdown",
   "id": "known-zambia",
   "metadata": {},
   "source": [
    "https://bit.ly/vicas_book"
   ]
  },
  {
   "cell_type": "markdown",
   "id": "about-merchant",
   "metadata": {},
   "source": [
    "### list & tuple"
   ]
  },
  {
   "cell_type": "code",
   "execution_count": 1,
   "id": "asian-supervisor",
   "metadata": {},
   "outputs": [],
   "source": [
    "L = []  # list()"
   ]
  },
  {
   "cell_type": "code",
   "execution_count": 2,
   "id": "guilty-support",
   "metadata": {},
   "outputs": [],
   "source": [
    "l = [1, 2, 3, 4.5, 6.7, 'apple', 'ball', 'cat']"
   ]
  },
  {
   "cell_type": "code",
   "execution_count": 3,
   "id": "medical-microwave",
   "metadata": {},
   "outputs": [
    {
     "data": {
      "text/plain": [
       "[1, 2, 3, 4.5, 6.7, 'apple', 'ball', 'cat']"
      ]
     },
     "execution_count": 3,
     "metadata": {},
     "output_type": "execute_result"
    }
   ],
   "source": [
    "l"
   ]
  },
  {
   "cell_type": "code",
   "execution_count": 5,
   "id": "emerging-prisoner",
   "metadata": {},
   "outputs": [],
   "source": [
    "l[0] = 25"
   ]
  },
  {
   "cell_type": "code",
   "execution_count": 6,
   "id": "reflected-brook",
   "metadata": {},
   "outputs": [
    {
     "data": {
      "text/plain": [
       "[25, 2, 3, 4.5, 6.7, 'apple', 'ball', 'cat']"
      ]
     },
     "execution_count": 6,
     "metadata": {},
     "output_type": "execute_result"
    }
   ],
   "source": [
    "l"
   ]
  },
  {
   "cell_type": "code",
   "execution_count": 7,
   "id": "adopted-worry",
   "metadata": {},
   "outputs": [],
   "source": [
    "del l[0]"
   ]
  },
  {
   "cell_type": "code",
   "execution_count": 8,
   "id": "pursuant-dinner",
   "metadata": {},
   "outputs": [
    {
     "data": {
      "text/plain": [
       "[2, 3, 4.5, 6.7, 'apple', 'ball', 'cat']"
      ]
     },
     "execution_count": 8,
     "metadata": {},
     "output_type": "execute_result"
    }
   ],
   "source": [
    "l"
   ]
  },
  {
   "cell_type": "code",
   "execution_count": 10,
   "id": "bottom-librarian",
   "metadata": {},
   "outputs": [],
   "source": [
    "t = ('apple', 'ball', 'cat')"
   ]
  },
  {
   "cell_type": "code",
   "execution_count": 11,
   "id": "earlier-replica",
   "metadata": {},
   "outputs": [
    {
     "data": {
      "text/plain": [
       "'apple'"
      ]
     },
     "execution_count": 11,
     "metadata": {},
     "output_type": "execute_result"
    }
   ],
   "source": [
    "t[0]"
   ]
  },
  {
   "cell_type": "code",
   "execution_count": 12,
   "id": "mounted-michael",
   "metadata": {},
   "outputs": [
    {
     "ename": "TypeError",
     "evalue": "'tuple' object does not support item assignment",
     "output_type": "error",
     "traceback": [
      "\u001b[0;31m---------------------------------------------------------------------------\u001b[0m",
      "\u001b[0;31mTypeError\u001b[0m                                 Traceback (most recent call last)",
      "\u001b[0;32m<ipython-input-12-8c55ce9120a9>\u001b[0m in \u001b[0;36m<module>\u001b[0;34m\u001b[0m\n\u001b[0;32m----> 1\u001b[0;31m \u001b[0mt\u001b[0m\u001b[0;34m[\u001b[0m\u001b[0;36m1\u001b[0m\u001b[0;34m]\u001b[0m \u001b[0;34m=\u001b[0m \u001b[0;34m'bat'\u001b[0m\u001b[0;34m\u001b[0m\u001b[0;34m\u001b[0m\u001b[0m\n\u001b[0m",
      "\u001b[0;31mTypeError\u001b[0m: 'tuple' object does not support item assignment"
     ]
    }
   ],
   "source": [
    "t[1] = 'bat'"
   ]
  },
  {
   "cell_type": "code",
   "execution_count": 13,
   "id": "invisible-sampling",
   "metadata": {},
   "outputs": [
    {
     "ename": "TypeError",
     "evalue": "'tuple' object doesn't support item deletion",
     "output_type": "error",
     "traceback": [
      "\u001b[0;31m---------------------------------------------------------------------------\u001b[0m",
      "\u001b[0;31mTypeError\u001b[0m                                 Traceback (most recent call last)",
      "\u001b[0;32m<ipython-input-13-77cea8bc7ee1>\u001b[0m in \u001b[0;36m<module>\u001b[0;34m\u001b[0m\n\u001b[0;32m----> 1\u001b[0;31m \u001b[0;32mdel\u001b[0m \u001b[0mt\u001b[0m\u001b[0;34m[\u001b[0m\u001b[0;36m1\u001b[0m\u001b[0;34m]\u001b[0m\u001b[0;34m\u001b[0m\u001b[0;34m\u001b[0m\u001b[0m\n\u001b[0m",
      "\u001b[0;31mTypeError\u001b[0m: 'tuple' object doesn't support item deletion"
     ]
    }
   ],
   "source": [
    "del t[1]"
   ]
  },
  {
   "cell_type": "code",
   "execution_count": 16,
   "id": "apparent-timothy",
   "metadata": {},
   "outputs": [
    {
     "name": "stdout",
     "output_type": "stream",
     "text": [
      "Enter any string: apple\n",
      "Not Palindrome\n"
     ]
    }
   ],
   "source": [
    "randomString = input(\"Enter any string: \")\n",
    "if randomString == randomString[::-1]:\n",
    "    print(\"Palindrome\")\n",
    "else:\n",
    "    print(\"Not Palindrome\")"
   ]
  },
  {
   "cell_type": "code",
   "execution_count": 17,
   "id": "champion-connection",
   "metadata": {},
   "outputs": [
    {
     "data": {
      "text/plain": [
       "[]"
      ]
     },
     "execution_count": 17,
     "metadata": {},
     "output_type": "execute_result"
    }
   ],
   "source": [
    "L"
   ]
  },
  {
   "cell_type": "code",
   "execution_count": 23,
   "id": "spectacular-consolidation",
   "metadata": {},
   "outputs": [
    {
     "data": {
      "text/plain": [
       "['apple', 'mango', 'papaya']"
      ]
     },
     "execution_count": 23,
     "metadata": {},
     "output_type": "execute_result"
    }
   ],
   "source": [
    "L."
   ]
  },
  {
   "cell_type": "code",
   "execution_count": 24,
   "id": "pressing-lighter",
   "metadata": {},
   "outputs": [],
   "source": [
    "g = L"
   ]
  },
  {
   "cell_type": "code",
   "execution_count": 25,
   "id": "considered-favor",
   "metadata": {},
   "outputs": [
    {
     "data": {
      "text/plain": [
       "['apple', 'mango', 'papaya']"
      ]
     },
     "execution_count": 25,
     "metadata": {},
     "output_type": "execute_result"
    }
   ],
   "source": [
    "g"
   ]
  },
  {
   "cell_type": "code",
   "execution_count": 26,
   "id": "sunset-marketplace",
   "metadata": {},
   "outputs": [],
   "source": [
    "del g[0]"
   ]
  },
  {
   "cell_type": "code",
   "execution_count": 27,
   "id": "beneficial-sociology",
   "metadata": {},
   "outputs": [
    {
     "data": {
      "text/plain": [
       "['mango', 'papaya']"
      ]
     },
     "execution_count": 27,
     "metadata": {},
     "output_type": "execute_result"
    }
   ],
   "source": [
    "g"
   ]
  },
  {
   "cell_type": "code",
   "execution_count": 28,
   "id": "chronic-specification",
   "metadata": {},
   "outputs": [
    {
     "data": {
      "text/plain": [
       "['mango', 'papaya']"
      ]
     },
     "execution_count": 28,
     "metadata": {},
     "output_type": "execute_result"
    }
   ],
   "source": [
    "L"
   ]
  },
  {
   "cell_type": "code",
   "execution_count": 29,
   "id": "japanese-template",
   "metadata": {},
   "outputs": [],
   "source": [
    "f = L.copy()"
   ]
  },
  {
   "cell_type": "code",
   "execution_count": 34,
   "id": "distinguished-czech",
   "metadata": {},
   "outputs": [],
   "source": [
    "f.insert(1,\"cherry\")"
   ]
  },
  {
   "cell_type": "code",
   "execution_count": 35,
   "id": "innocent-adobe",
   "metadata": {},
   "outputs": [
    {
     "data": {
      "text/plain": [
       "['mango', 'cherry', 'papaya', 'pine apple']"
      ]
     },
     "execution_count": 35,
     "metadata": {},
     "output_type": "execute_result"
    }
   ],
   "source": [
    "f"
   ]
  },
  {
   "cell_type": "code",
   "execution_count": 37,
   "id": "oriented-powell",
   "metadata": {},
   "outputs": [
    {
     "data": {
      "text/plain": [
       "'papaya'"
      ]
     },
     "execution_count": 37,
     "metadata": {},
     "output_type": "execute_result"
    }
   ],
   "source": [
    "L.pop()"
   ]
  },
  {
   "cell_type": "code",
   "execution_count": 39,
   "id": "auburn-seafood",
   "metadata": {},
   "outputs": [],
   "source": [
    "L.remove('mango')"
   ]
  },
  {
   "cell_type": "code",
   "execution_count": 41,
   "id": "surgical-tribute",
   "metadata": {},
   "outputs": [],
   "source": [
    "L = ['apple', 'mango', 'papaya']"
   ]
  },
  {
   "cell_type": "code",
   "execution_count": 42,
   "id": "cutting-guatemala",
   "metadata": {},
   "outputs": [
    {
     "data": {
      "text/plain": [
       "['apple', 'mango', 'papaya']"
      ]
     },
     "execution_count": 42,
     "metadata": {},
     "output_type": "execute_result"
    }
   ],
   "source": [
    "L"
   ]
  },
  {
   "cell_type": "code",
   "execution_count": 43,
   "id": "certified-sword",
   "metadata": {},
   "outputs": [],
   "source": [
    "L.clear()"
   ]
  },
  {
   "cell_type": "code",
   "execution_count": 44,
   "id": "qualified-schema",
   "metadata": {},
   "outputs": [
    {
     "data": {
      "text/plain": [
       "[]"
      ]
     },
     "execution_count": 44,
     "metadata": {},
     "output_type": "execute_result"
    }
   ],
   "source": [
    "L"
   ]
  },
  {
   "cell_type": "code",
   "execution_count": 45,
   "id": "legislative-pavilion",
   "metadata": {},
   "outputs": [
    {
     "data": {
      "text/plain": [
       "['mango', 'cherry', 'papaya', 'pine apple']"
      ]
     },
     "execution_count": 45,
     "metadata": {},
     "output_type": "execute_result"
    }
   ],
   "source": [
    "f"
   ]
  },
  {
   "cell_type": "code",
   "execution_count": 46,
   "id": "waiting-calendar",
   "metadata": {},
   "outputs": [
    {
     "data": {
      "text/plain": [
       "[2, 3, 4.5, 6.7, 'apple', 'ball', 'cat']"
      ]
     },
     "execution_count": 46,
     "metadata": {},
     "output_type": "execute_result"
    }
   ],
   "source": [
    "l"
   ]
  },
  {
   "cell_type": "code",
   "execution_count": 47,
   "id": "guilty-martin",
   "metadata": {},
   "outputs": [],
   "source": [
    "f.extend(l)"
   ]
  },
  {
   "cell_type": "code",
   "execution_count": 48,
   "id": "excess-concentrate",
   "metadata": {},
   "outputs": [
    {
     "data": {
      "text/plain": [
       "['mango',\n",
       " 'cherry',\n",
       " 'papaya',\n",
       " 'pine apple',\n",
       " 2,\n",
       " 3,\n",
       " 4.5,\n",
       " 6.7,\n",
       " 'apple',\n",
       " 'ball',\n",
       " 'cat']"
      ]
     },
     "execution_count": 48,
     "metadata": {},
     "output_type": "execute_result"
    }
   ],
   "source": [
    "f"
   ]
  },
  {
   "cell_type": "code",
   "execution_count": 49,
   "id": "trying-science",
   "metadata": {},
   "outputs": [],
   "source": [
    "f.reverse()"
   ]
  },
  {
   "cell_type": "code",
   "execution_count": 50,
   "id": "overall-transparency",
   "metadata": {},
   "outputs": [
    {
     "data": {
      "text/plain": [
       "['cat',\n",
       " 'ball',\n",
       " 'apple',\n",
       " 6.7,\n",
       " 4.5,\n",
       " 3,\n",
       " 2,\n",
       " 'pine apple',\n",
       " 'papaya',\n",
       " 'cherry',\n",
       " 'mango']"
      ]
     },
     "execution_count": 50,
     "metadata": {},
     "output_type": "execute_result"
    }
   ],
   "source": [
    "f"
   ]
  },
  {
   "cell_type": "code",
   "execution_count": 52,
   "id": "miniature-arabic",
   "metadata": {},
   "outputs": [],
   "source": [
    "f = ['mango', 'cherry', 'papaya', 'pine apple']"
   ]
  },
  {
   "cell_type": "code",
   "execution_count": 56,
   "id": "terminal-philadelphia",
   "metadata": {},
   "outputs": [],
   "source": [
    "f.sort(reverse=True)"
   ]
  },
  {
   "cell_type": "code",
   "execution_count": 57,
   "id": "nominated-superintendent",
   "metadata": {},
   "outputs": [
    {
     "data": {
      "text/plain": [
       "['pine apple', 'papaya', 'mango', 'cherry']"
      ]
     },
     "execution_count": 57,
     "metadata": {},
     "output_type": "execute_result"
    }
   ],
   "source": [
    "f"
   ]
  },
  {
   "cell_type": "code",
   "execution_count": 58,
   "id": "consolidated-affairs",
   "metadata": {},
   "outputs": [
    {
     "data": {
      "text/plain": [
       "('apple', 'ball', 'cat')"
      ]
     },
     "execution_count": 58,
     "metadata": {},
     "output_type": "execute_result"
    }
   ],
   "source": [
    "t."
   ]
  },
  {
   "cell_type": "markdown",
   "id": "celtic-official",
   "metadata": {},
   "source": [
    "### dictionary "
   ]
  },
  {
   "cell_type": "code",
   "execution_count": 59,
   "id": "permanent-bookmark",
   "metadata": {},
   "outputs": [],
   "source": [
    "D = {} # dict()"
   ]
  },
  {
   "cell_type": "code",
   "execution_count": 60,
   "id": "alert-turner",
   "metadata": {},
   "outputs": [],
   "source": [
    "d = {'a': \"apple\",\"p\":\"papaya\",12:\"mango\",3:45,'l':l,3.14:t}"
   ]
  },
  {
   "cell_type": "code",
   "execution_count": 61,
   "id": "desperate-boating",
   "metadata": {},
   "outputs": [
    {
     "data": {
      "text/plain": [
       "{'a': 'apple',\n",
       " 'p': 'papaya',\n",
       " 12: 'mango',\n",
       " 3: 45,\n",
       " 'l': [2, 3, 4.5, 6.7, 'apple', 'ball', 'cat'],\n",
       " 3.14: ('apple', 'ball', 'cat')}"
      ]
     },
     "execution_count": 61,
     "metadata": {},
     "output_type": "execute_result"
    }
   ],
   "source": [
    "d"
   ]
  },
  {
   "cell_type": "code",
   "execution_count": 62,
   "id": "legitimate-cooling",
   "metadata": {},
   "outputs": [
    {
     "data": {
      "text/plain": [
       "'apple'"
      ]
     },
     "execution_count": 62,
     "metadata": {},
     "output_type": "execute_result"
    }
   ],
   "source": [
    "d['a']"
   ]
  },
  {
   "cell_type": "code",
   "execution_count": 63,
   "id": "considerable-theater",
   "metadata": {},
   "outputs": [
    {
     "data": {
      "text/plain": [
       "('apple', 'ball', 'cat')"
      ]
     },
     "execution_count": 63,
     "metadata": {},
     "output_type": "execute_result"
    }
   ],
   "source": [
    "d[3.14]"
   ]
  },
  {
   "cell_type": "code",
   "execution_count": 65,
   "id": "independent-collector",
   "metadata": {},
   "outputs": [],
   "source": [
    "d[3] = 56"
   ]
  },
  {
   "cell_type": "code",
   "execution_count": 66,
   "id": "inside-decimal",
   "metadata": {},
   "outputs": [
    {
     "data": {
      "text/plain": [
       "{'a': 'apple',\n",
       " 'p': 'papaya',\n",
       " 12: 'mango',\n",
       " 3: 56,\n",
       " 'l': [2, 3, 4.5, 6.7, 'apple', 'ball', 'cat'],\n",
       " 3.14: ('apple', 'ball', 'cat')}"
      ]
     },
     "execution_count": 66,
     "metadata": {},
     "output_type": "execute_result"
    }
   ],
   "source": [
    "d"
   ]
  },
  {
   "cell_type": "code",
   "execution_count": 67,
   "id": "associate-reply",
   "metadata": {},
   "outputs": [],
   "source": [
    "d['c']='cat'"
   ]
  },
  {
   "cell_type": "code",
   "execution_count": 68,
   "id": "subtle-evans",
   "metadata": {},
   "outputs": [
    {
     "data": {
      "text/plain": [
       "{'a': 'apple',\n",
       " 'p': 'papaya',\n",
       " 12: 'mango',\n",
       " 3: 56,\n",
       " 'l': [2, 3, 4.5, 6.7, 'apple', 'ball', 'cat'],\n",
       " 3.14: ('apple', 'ball', 'cat'),\n",
       " 'c': 'cat'}"
      ]
     },
     "execution_count": 68,
     "metadata": {},
     "output_type": "execute_result"
    }
   ],
   "source": [
    "d"
   ]
  },
  {
   "cell_type": "code",
   "execution_count": 70,
   "id": "ultimate-daily",
   "metadata": {},
   "outputs": [
    {
     "ename": "KeyError",
     "evalue": "'x'",
     "output_type": "error",
     "traceback": [
      "\u001b[0;31m---------------------------------------------------------------------------\u001b[0m",
      "\u001b[0;31mKeyError\u001b[0m                                  Traceback (most recent call last)",
      "\u001b[0;32m<ipython-input-70-7657742692bd>\u001b[0m in \u001b[0;36m<module>\u001b[0;34m\u001b[0m\n\u001b[0;32m----> 1\u001b[0;31m \u001b[0md\u001b[0m\u001b[0;34m[\u001b[0m\u001b[0;34m'x'\u001b[0m\u001b[0;34m]\u001b[0m\u001b[0;34m\u001b[0m\u001b[0;34m\u001b[0m\u001b[0m\n\u001b[0m",
      "\u001b[0;31mKeyError\u001b[0m: 'x'"
     ]
    }
   ],
   "source": [
    "d['x']"
   ]
  },
  {
   "cell_type": "code",
   "execution_count": 74,
   "id": "growing-backup",
   "metadata": {},
   "outputs": [
    {
     "data": {
      "text/plain": [
       "'No Such Key'"
      ]
     },
     "execution_count": 74,
     "metadata": {},
     "output_type": "execute_result"
    }
   ],
   "source": [
    "d.get('x', \"No Such Key\")"
   ]
  },
  {
   "cell_type": "code",
   "execution_count": 73,
   "id": "common-naples",
   "metadata": {},
   "outputs": [
    {
     "data": {
      "text/plain": [
       "'cat'"
      ]
     },
     "execution_count": 73,
     "metadata": {},
     "output_type": "execute_result"
    }
   ],
   "source": [
    "d.get('c', \"No Such Key\")"
   ]
  },
  {
   "cell_type": "code",
   "execution_count": 75,
   "id": "photographic-delight",
   "metadata": {},
   "outputs": [
    {
     "data": {
      "text/plain": [
       "dict_keys(['a', 'p', 12, 3, 'l', 3.14, 'c'])"
      ]
     },
     "execution_count": 75,
     "metadata": {},
     "output_type": "execute_result"
    }
   ],
   "source": [
    "d.keys()"
   ]
  },
  {
   "cell_type": "code",
   "execution_count": 76,
   "id": "featured-candle",
   "metadata": {},
   "outputs": [
    {
     "data": {
      "text/plain": [
       "dict_values(['apple', 'papaya', 'mango', 56, [2, 3, 4.5, 6.7, 'apple', 'ball', 'cat'], ('apple', 'ball', 'cat'), 'cat'])"
      ]
     },
     "execution_count": 76,
     "metadata": {},
     "output_type": "execute_result"
    }
   ],
   "source": [
    "d.values()"
   ]
  },
  {
   "cell_type": "code",
   "execution_count": 77,
   "id": "phantom-arrow",
   "metadata": {},
   "outputs": [
    {
     "data": {
      "text/plain": [
       "dict_items([('a', 'apple'), ('p', 'papaya'), (12, 'mango'), (3, 56), ('l', [2, 3, 4.5, 6.7, 'apple', 'ball', 'cat']), (3.14, ('apple', 'ball', 'cat')), ('c', 'cat')])"
      ]
     },
     "execution_count": 77,
     "metadata": {},
     "output_type": "execute_result"
    }
   ],
   "source": [
    "d.items()"
   ]
  },
  {
   "cell_type": "code",
   "execution_count": 78,
   "id": "solid-carnival",
   "metadata": {},
   "outputs": [
    {
     "data": {
      "text/plain": [
       "('c', 'cat')"
      ]
     },
     "execution_count": 78,
     "metadata": {},
     "output_type": "execute_result"
    }
   ],
   "source": [
    "d.popitem()"
   ]
  },
  {
   "cell_type": "code",
   "execution_count": 79,
   "id": "fossil-interim",
   "metadata": {},
   "outputs": [
    {
     "data": {
      "text/plain": [
       "{'a': 'apple',\n",
       " 'p': 'papaya',\n",
       " 12: 'mango',\n",
       " 3: 56,\n",
       " 'l': [2, 3, 4.5, 6.7, 'apple', 'ball', 'cat'],\n",
       " 3.14: ('apple', 'ball', 'cat')}"
      ]
     },
     "execution_count": 79,
     "metadata": {},
     "output_type": "execute_result"
    }
   ],
   "source": [
    "d"
   ]
  },
  {
   "cell_type": "code",
   "execution_count": 80,
   "id": "perceived-default",
   "metadata": {},
   "outputs": [
    {
     "data": {
      "text/plain": [
       "56"
      ]
     },
     "execution_count": 80,
     "metadata": {},
     "output_type": "execute_result"
    }
   ],
   "source": [
    "d.pop(3)"
   ]
  },
  {
   "cell_type": "code",
   "execution_count": 82,
   "id": "earned-wells",
   "metadata": {},
   "outputs": [],
   "source": [
    "D.update(d)"
   ]
  },
  {
   "cell_type": "code",
   "execution_count": 83,
   "id": "honey-burner",
   "metadata": {},
   "outputs": [
    {
     "data": {
      "text/plain": [
       "{'a': 'apple',\n",
       " 'p': 'papaya',\n",
       " 12: 'mango',\n",
       " 'l': [2, 3, 4.5, 6.7, 'apple', 'ball', 'cat'],\n",
       " 3.14: ('apple', 'ball', 'cat')}"
      ]
     },
     "execution_count": 83,
     "metadata": {},
     "output_type": "execute_result"
    }
   ],
   "source": [
    "D"
   ]
  },
  {
   "cell_type": "code",
   "execution_count": 84,
   "id": "drawn-department",
   "metadata": {},
   "outputs": [
    {
     "data": {
      "text/plain": [
       "{'a': 'apple',\n",
       " 'p': 'papaya',\n",
       " 12: 'mango',\n",
       " 'l': [2, 3, 4.5, 6.7, 'apple', 'ball', 'cat'],\n",
       " 3.14: ('apple', 'ball', 'cat')}"
      ]
     },
     "execution_count": 84,
     "metadata": {},
     "output_type": "execute_result"
    }
   ],
   "source": [
    "d"
   ]
  },
  {
   "cell_type": "code",
   "execution_count": 85,
   "id": "religious-trunk",
   "metadata": {},
   "outputs": [
    {
     "data": {
      "text/plain": [
       "[2, 3, 4.5, 6.7, 'apple', 'ball', 'cat']"
      ]
     },
     "execution_count": 85,
     "metadata": {},
     "output_type": "execute_result"
    }
   ],
   "source": [
    "l"
   ]
  },
  {
   "cell_type": "code",
   "execution_count": 87,
   "id": "vocal-extraction",
   "metadata": {},
   "outputs": [
    {
     "data": {
      "text/plain": [
       "{2: 'default',\n",
       " 3: 'default',\n",
       " 4.5: 'default',\n",
       " 6.7: 'default',\n",
       " 'apple': 'default',\n",
       " 'ball': 'default',\n",
       " 'cat': 'default'}"
      ]
     },
     "execution_count": 87,
     "metadata": {},
     "output_type": "execute_result"
    }
   ],
   "source": [
    "dict.fromkeys(l, \"default\")"
   ]
  },
  {
   "cell_type": "code",
   "execution_count": 88,
   "id": "younger-volume",
   "metadata": {
    "collapsed": true
   },
   "outputs": [
    {
     "name": "stdout",
     "output_type": "stream",
     "text": [
      "0\n",
      "1\n",
      "2\n",
      "3\n",
      "4\n"
     ]
    }
   ],
   "source": [
    "for i in range(5):\n",
    "    print(i)"
   ]
  },
  {
   "cell_type": "code",
   "execution_count": 90,
   "id": "restricted-wallpaper",
   "metadata": {
    "collapsed": true
   },
   "outputs": [
    {
     "name": "stdout",
     "output_type": "stream",
     "text": [
      "hello world!!\n",
      "hello world!!\n",
      "hello world!!\n",
      "hello world!!\n",
      "hello world!!\n"
     ]
    }
   ],
   "source": [
    "for i in range(5,10):\n",
    "    print(\"hello world!!\")"
   ]
  },
  {
   "cell_type": "code",
   "execution_count": 91,
   "id": "danish-inside",
   "metadata": {
    "collapsed": true
   },
   "outputs": [
    {
     "name": "stdout",
     "output_type": "stream",
     "text": [
      "hello world!!\n",
      "hello world!!\n",
      "hello world!!\n",
      "hello world!!\n",
      "hello world!!\n"
     ]
    }
   ],
   "source": [
    "for _ in range(5,10):\n",
    "    print(\"hello world!!\")"
   ]
  },
  {
   "cell_type": "code",
   "execution_count": 93,
   "id": "israeli-support",
   "metadata": {
    "collapsed": true
   },
   "outputs": [
    {
     "name": "stdout",
     "output_type": "stream",
     "text": [
      "l\n",
      "p\n",
      "h\n",
      "a\n",
      "n\n",
      "t\n"
     ]
    }
   ],
   "source": [
    "name = \"elephant\"\n",
    "for i in name:\n",
    "    if i == 'e':\n",
    "        continue\n",
    "    print(i)"
   ]
  },
  {
   "cell_type": "code",
   "execution_count": 95,
   "id": "musical-reduction",
   "metadata": {
    "collapsed": true
   },
   "outputs": [
    {
     "name": "stdout",
     "output_type": "stream",
     "text": [
      "6.7\n",
      "apple\n",
      "ball\n",
      "cat\n"
     ]
    }
   ],
   "source": [
    "for i in l[3:]:\n",
    "    print(i)"
   ]
  },
  {
   "cell_type": "code",
   "execution_count": 97,
   "id": "silent-surfing",
   "metadata": {
    "collapsed": true
   },
   "outputs": [
    {
     "name": "stdout",
     "output_type": "stream",
     "text": [
      "2 pine apple\n",
      "3 papaya\n",
      "4.5 mango\n",
      "6.7 cherry\n"
     ]
    }
   ],
   "source": [
    "for i,j in zip(l,f):\n",
    "    print(i,j)"
   ]
  },
  {
   "cell_type": "code",
   "execution_count": 102,
   "id": "absent-attempt",
   "metadata": {},
   "outputs": [
    {
     "data": {
      "text/plain": [
       "[4, 9, 7, 6]"
      ]
     },
     "execution_count": 102,
     "metadata": {},
     "output_type": "execute_result"
    }
   ],
   "source": [
    "listA = [4, 4, 4, 9, 7, 4, 9, 6]\n",
    "listB = [6, 8, 5, 9, 9, 4, 4, 7]\n",
    "\n",
    "listC = []\n",
    "for i in listA:\n",
    "    if i in listB and i not in listC:\n",
    "        listC.append(i)\n",
    "listC"
   ]
  },
  {
   "cell_type": "code",
   "execution_count": 104,
   "id": "imperial-modification",
   "metadata": {},
   "outputs": [
    {
     "data": {
      "text/plain": [
       "55"
      ]
     },
     "execution_count": 104,
     "metadata": {},
     "output_type": "execute_result"
    }
   ],
   "source": [
    "import random as rd\n",
    "num = rd.randint(0,100)\n",
    "num"
   ]
  },
  {
   "cell_type": "code",
   "execution_count": 105,
   "id": "considerable-start",
   "metadata": {
    "collapsed": true
   },
   "outputs": [
    {
     "ename": "NameError",
     "evalue": "name 'x' is not defined",
     "output_type": "error",
     "traceback": [
      "\u001b[0;31m---------------------------------------------------------------------------\u001b[0m",
      "\u001b[0;31mNameError\u001b[0m                                 Traceback (most recent call last)",
      "\u001b[0;32m<ipython-input-105-89170c26bac6>\u001b[0m in \u001b[0;36m<module>\u001b[0;34m\u001b[0m\n\u001b[0;32m----> 1\u001b[0;31m \u001b[0mprint\u001b[0m\u001b[0;34m(\u001b[0m\u001b[0mx\u001b[0m\u001b[0;34m)\u001b[0m\u001b[0;34m\u001b[0m\u001b[0;34m\u001b[0m\u001b[0m\n\u001b[0m\u001b[1;32m      2\u001b[0m \u001b[0mprint\u001b[0m\u001b[0;34m(\u001b[0m\u001b[0;34m\"Hello world\"\u001b[0m\u001b[0;34m)\u001b[0m\u001b[0;34m\u001b[0m\u001b[0;34m\u001b[0m\u001b[0m\n",
      "\u001b[0;31mNameError\u001b[0m: name 'x' is not defined"
     ]
    }
   ],
   "source": [
    "print(x)\n",
    "print(\"Hello world\")"
   ]
  },
  {
   "cell_type": "code",
   "execution_count": 106,
   "id": "thermal-wound",
   "metadata": {
    "collapsed": true
   },
   "outputs": [
    {
     "name": "stdout",
     "output_type": "stream",
     "text": [
      "There is an error\n",
      "Hello world\n"
     ]
    }
   ],
   "source": [
    "try:\n",
    "    print(x)\n",
    "except:\n",
    "    print(\"There is an error\")\n",
    "print(\"Hello world\")"
   ]
  },
  {
   "cell_type": "code",
   "execution_count": 110,
   "id": "pressed-leeds",
   "metadata": {
    "collapsed": true
   },
   "outputs": [
    {
     "name": "stdout",
     "output_type": "stream",
     "text": [
      "There is an error : 'x' is an invalid keyword argument for this function\n",
      "Hello world\n"
     ]
    }
   ],
   "source": [
    "try:\n",
    "    print(x=6)\n",
    "except Exception as e:\n",
    "    print(\"There is an error : {}\".format(e))\n",
    "print(\"Hello world\")"
   ]
  },
  {
   "cell_type": "code",
   "execution_count": 111,
   "id": "grave-therapist",
   "metadata": {},
   "outputs": [
    {
     "name": "stdout",
     "output_type": "stream",
     "text": [
      "There is a type error : 'x' is an invalid keyword argument for this function\n",
      "Hello world\n"
     ]
    }
   ],
   "source": [
    "try:\n",
    "    print(x=6)\n",
    "except NameError as e:\n",
    "    print(\"There is a name error : {}\".format(e))\n",
    "except TypeError as e:\n",
    "    print(\"There is a type error : {}\".format(e))\n",
    "print(\"Hello world\")"
   ]
  },
  {
   "cell_type": "code",
   "execution_count": 113,
   "id": "southern-october",
   "metadata": {},
   "outputs": [
    {
     "name": "stdout",
     "output_type": "stream",
     "text": [
      "Enter any number: s\n",
      "There is an error : Enter numbers not alphabets\n",
      "Enter any number: 13\n"
     ]
    }
   ],
   "source": [
    "try:\n",
    "    num = input(\"Enter any number: \")\n",
    "    if not num.isdigit():\n",
    "        raise ValueError(\"Enter numbers not alphabets\")\n",
    "except Exception as e:\n",
    "    print(\"There is an error : {}\".format(e))\n",
    "    num = input(\"Enter any number: \")"
   ]
  },
  {
   "cell_type": "code",
   "execution_count": 116,
   "id": "mighty-donor",
   "metadata": {
    "scrolled": true
   },
   "outputs": [
    {
     "name": "stdout",
     "output_type": "stream",
     "text": [
      "Enter your name: abc\n",
      "Enter your subject-1 mark: 13\n",
      "Enter your subject-2 mark: 34\n",
      "Enter your subject-3 mark: 45\n",
      "Enter your name: xyz\n",
      "Enter your subject-1 mark: 45\n",
      "Enter your subject-2 mark: 56\n",
      "Enter your subject-3 mark: 65\n"
     ]
    }
   ],
   "source": [
    "studentMarks = {}\n",
    "for _ in range(2):\n",
    "    name = input(\"Enter your name: \")\n",
    "    total = 0\n",
    "    for i in range(3):\n",
    "        mark = input(\"Enter your subject-{} mark: \".format(i+1))\n",
    "        total += float(mark)\n",
    "    studentMarks[name] = total"
   ]
  },
  {
   "cell_type": "code",
   "execution_count": 117,
   "id": "general-category",
   "metadata": {},
   "outputs": [
    {
     "data": {
      "text/plain": [
       "{'abc': 92.0, 'xyz': 166.0}"
      ]
     },
     "execution_count": 117,
     "metadata": {},
     "output_type": "execute_result"
    }
   ],
   "source": [
    "studentMarks"
   ]
  },
  {
   "cell_type": "code",
   "execution_count": null,
   "id": "victorian-starter",
   "metadata": {},
   "outputs": [],
   "source": []
  }
 ],
 "metadata": {
  "kernelspec": {
   "display_name": "Python 3",
   "language": "python",
   "name": "python3"
  },
  "language_info": {
   "codemirror_mode": {
    "name": "ipython",
    "version": 3
   },
   "file_extension": ".py",
   "mimetype": "text/x-python",
   "name": "python",
   "nbconvert_exporter": "python",
   "pygments_lexer": "ipython3",
   "version": "3.6.8"
  },
  "nbTranslate": {
   "displayLangs": [
    "*"
   ],
   "hotkey": "alt-t",
   "langInMainMenu": true,
   "sourceLang": "en",
   "targetLang": "fr",
   "useGoogleTranslate": true
  },
  "toc": {
   "base_numbering": 1,
   "nav_menu": {},
   "number_sections": true,
   "sideBar": true,
   "skip_h1_title": false,
   "title_cell": "Table of Contents",
   "title_sidebar": "Contents",
   "toc_cell": false,
   "toc_position": {},
   "toc_section_display": true,
   "toc_window_display": false
  },
  "varInspector": {
   "cols": {
    "lenName": 16,
    "lenType": 16,
    "lenVar": 40
   },
   "kernels_config": {
    "python": {
     "delete_cmd_postfix": "",
     "delete_cmd_prefix": "del ",
     "library": "var_list.py",
     "varRefreshCmd": "print(var_dic_list())"
    },
    "r": {
     "delete_cmd_postfix": ") ",
     "delete_cmd_prefix": "rm(",
     "library": "var_list.r",
     "varRefreshCmd": "cat(var_dic_list()) "
    }
   },
   "types_to_exclude": [
    "module",
    "function",
    "builtin_function_or_method",
    "instance",
    "_Feature"
   ],
   "window_display": false
  }
 },
 "nbformat": 4,
 "nbformat_minor": 5
}
