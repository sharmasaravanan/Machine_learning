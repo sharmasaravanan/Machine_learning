{
 "cells": [
  {
   "cell_type": "markdown",
   "id": "polished-volume",
   "metadata": {},
   "source": [
    "### Content\n",
    "\n",
    "    1. Overview of python\n",
    "    2. Overview of ML\n",
    "    3. Overview of ML Deployment\n",
    "    \n",
    "    \n",
    "### Syllabus\n",
    "\n",
    "     1. First Week\n",
    "         a. Python\n",
    "         b. Introduction to ML\n",
    "         \n",
    "     2. Second Week\n",
    "         a. ML Implementation\n",
    "         b. ML Deployment\n",
    "         \n",
    "     3. Third Week\n",
    "         a. DL Implementation\n",
    "         b. Cloud based Deployment"
   ]
  },
  {
   "cell_type": "markdown",
   "id": "cross-hampton",
   "metadata": {},
   "source": [
    "### IDE\n",
    "\n",
    "    Pycharm, Spyder -> industry \n",
    "\n",
    "    notebook -> teaching and research"
   ]
  },
  {
   "cell_type": "markdown",
   "id": "naughty-painting",
   "metadata": {},
   "source": [
    "### Links\n",
    "    1. July Batch Notebook:- https://tinyurl.com/msmeJulyBatch\n",
    "    2. This notebook :- https://tinyurl.com/MSMEdeployment2022\n",
    "    3. Books :- http://bit.ly/AI_material\n",
    "    4. Python Practice :- https://www.practicepython.org/, https://www.w3resource.com/python-exercises/\n",
    "    5. GitHub :- http://bit.ly/AI_repos\n",
    "    6. Exception methods:- http://bit.ly/exceptionNames\n",
    "    7. DIP Book:- http://bit.ly/bookDIP\n",
    "    8. AI PPT :- https://1drv.ms/p/s!ArLkuKvmnNQcjEDo6gmjlidufaek?e=m6aqah\n",
    "    9. Videos :- https://www.youtube.com/playlist?list=PL_Nji0JOuXg2udXfS6nhK3CkIYLDtHNLp\n",
    "    10. AWS Course:- https://www.udemy.com/course/aws-certified-cloud-practitioner-new/"
   ]
  },
  {
   "cell_type": "markdown",
   "id": "contained-manual",
   "metadata": {},
   "source": [
    "### To connect with me\n",
    "\n",
    "    1. Linkedin -> https://www.linkedin.com/in/sharmasaravanan/\n",
    "    2. mail -> sharma@besoins.in\n",
    "    3. web -> sharmasaravanan.com\n"
   ]
  },
  {
   "cell_type": "markdown",
   "id": "blind-wilderness",
   "metadata": {},
   "source": [
    "### Python"
   ]
  },
  {
   "cell_type": "code",
   "execution_count": 3,
   "id": "simplified-soldier",
   "metadata": {},
   "outputs": [],
   "source": [
    "a = 5 # int\n",
    "b = 3.14 # float\n",
    "c = 'apple' # string\n",
    "d = True # bool"
   ]
  },
  {
   "cell_type": "code",
   "execution_count": 4,
   "id": "duplicate-howard",
   "metadata": {},
   "outputs": [
    {
     "name": "stdout",
     "output_type": "stream",
     "text": [
      "5 3.14 apple True\n"
     ]
    }
   ],
   "source": [
    "print(a,b,c,d)"
   ]
  },
  {
   "cell_type": "code",
   "execution_count": 7,
   "id": "loose-guyana",
   "metadata": {},
   "outputs": [
    {
     "name": "stdout",
     "output_type": "stream",
     "text": [
      "Enter your name: \n"
     ]
    }
   ],
   "source": [
    "print(\"Enter your name: \")"
   ]
  },
  {
   "cell_type": "code",
   "execution_count": 8,
   "id": "constant-document",
   "metadata": {},
   "outputs": [
    {
     "name": "stdout",
     "output_type": "stream",
     "text": [
      "Enter your name: KK\n"
     ]
    }
   ],
   "source": [
    "name = input(\"Enter your name: \") # prompt text"
   ]
  },
  {
   "cell_type": "code",
   "execution_count": 9,
   "id": "handy-wrist",
   "metadata": {},
   "outputs": [
    {
     "name": "stdout",
     "output_type": "stream",
     "text": [
      "KK\n"
     ]
    }
   ],
   "source": [
    "print(name)"
   ]
  },
  {
   "cell_type": "code",
   "execution_count": null,
   "id": "reliable-workshop",
   "metadata": {},
   "outputs": [],
   "source": [
    "# operators\n",
    "\n",
    "+ - * / % //\n",
    "\n",
    "< > <= >=  == !=\n",
    "\n",
    "and not or"
   ]
  },
  {
   "cell_type": "code",
   "execution_count": 10,
   "id": "instant-pavilion",
   "metadata": {},
   "outputs": [
    {
     "name": "stdout",
     "output_type": "stream",
     "text": [
      "7 3 10 2.5 1 2\n"
     ]
    }
   ],
   "source": [
    "print(5 + 2, 5 - 2, 5 * 2, 5 / 2, 5 % 2, 5 // 2)"
   ]
  },
  {
   "cell_type": "code",
   "execution_count": 16,
   "id": "designing-cuisine",
   "metadata": {},
   "outputs": [
    {
     "name": "stdout",
     "output_type": "stream",
     "text": [
      "Enter any number: 4\n",
      "Number is even\n",
      "something\n"
     ]
    }
   ],
   "source": [
    "num = float(input(\"Enter any number: \"))\n",
    "if num % 2 == 0:\n",
    "    print(\"Number is even\")\n",
    "else:\n",
    "    print(\"Number is odd\")\n",
    "print(\"something\")"
   ]
  },
  {
   "cell_type": "code",
   "execution_count": 13,
   "id": "placed-spanking",
   "metadata": {},
   "outputs": [
    {
     "name": "stdout",
     "output_type": "stream",
     "text": [
      "<class 'str'>\n"
     ]
    }
   ],
   "source": [
    "print(type(num))"
   ]
  },
  {
   "cell_type": "code",
   "execution_count": 19,
   "id": "elder-reducing",
   "metadata": {},
   "outputs": [
    {
     "name": "stdout",
     "output_type": "stream",
     "text": [
      "Enter any number: 5\n",
      "Number is odd\n"
     ]
    }
   ],
   "source": [
    "num = float(input(\"Enter any number: \"))\n",
    "if num % 4 == 0:\n",
    "    print(\"Number is divisible by 4 and even\")\n",
    "elif num % 2 == 0:\n",
    "    print(\"Number is even\")\n",
    "else:\n",
    "    print(\"Number is odd\")"
   ]
  },
  {
   "cell_type": "code",
   "execution_count": 20,
   "id": "threatened-pathology",
   "metadata": {},
   "outputs": [
    {
     "name": "stdout",
     "output_type": "stream",
     "text": [
      "Enter any number: 20\n",
      "Number is divisible by 4 and even\n",
      "Enter any number: 10\n",
      "Number is even\n",
      "Enter any number: 5\n",
      "Number is odd\n",
      "Enter any number: 2.5\n",
      "Number is odd\n",
      "Enter any number: 2\n",
      "Number is even\n"
     ]
    }
   ],
   "source": [
    "i = 0\n",
    "while i < 5:\n",
    "    num = float(input(\"Enter any number: \"))\n",
    "    if num % 4 == 0:\n",
    "        print(\"Number is divisible by 4 and even\")\n",
    "    elif num % 2 == 0:\n",
    "        print(\"Number is even\")\n",
    "    else:\n",
    "        print(\"Number is odd\")\n",
    "    i += 1 # i = i+1"
   ]
  },
  {
   "cell_type": "code",
   "execution_count": 22,
   "id": "female-rescue",
   "metadata": {},
   "outputs": [
    {
     "name": "stdout",
     "output_type": "stream",
     "text": [
      "Enter any number: 20\n",
      "Number is divisible by 4 and even\n",
      "Do you want to continue? y/n: y\n",
      "Enter any number: 10\n",
      "Number is even\n",
      "Do you want to continue? y/n: n\n",
      "Thank you!!!\n"
     ]
    }
   ],
   "source": [
    "opt = 'y'\n",
    "while opt == 'y':\n",
    "    num = float(input(\"Enter any number: \"))\n",
    "    if num % 4 == 0:\n",
    "        print(\"Number is divisible by 4 and even\")\n",
    "    elif num % 2 == 0:\n",
    "        print(\"Number is even\")\n",
    "    else:\n",
    "        print(\"Number is odd\")\n",
    "    opt = input(\"Do you want to continue? y/n: \")\n",
    "else:\n",
    "    print(\"Thank you!!!\")"
   ]
  },
  {
   "cell_type": "code",
   "execution_count": 24,
   "id": "matched-showcase",
   "metadata": {},
   "outputs": [
    {
     "name": "stdout",
     "output_type": "stream",
     "text": [
      "Enter any number: 20\n",
      "Number is divisible by 4 and even\n",
      "Enter any number: 35\n",
      "Skipping\n",
      "Enter any number: 14\n",
      "Number is even\n",
      "Enter any number: 15\n",
      "Stopping\n"
     ]
    }
   ],
   "source": [
    "while True:\n",
    "    num = float(input(\"Enter any number: \"))\n",
    "    if num == 15 or num == 25:\n",
    "        print(\"Stopping\")\n",
    "        break\n",
    "    \n",
    "    if num == 35:\n",
    "        print(\"Skipping\")\n",
    "        continue\n",
    "    \n",
    "    if num % 4 == 0:\n",
    "        print(\"Number is divisible by 4 and even\")\n",
    "    elif num % 2 == 0:\n",
    "        print(\"Number is even\")\n",
    "    else:\n",
    "        print(\"Number is odd\")"
   ]
  },
  {
   "cell_type": "code",
   "execution_count": 25,
   "id": "regulation-sport",
   "metadata": {},
   "outputs": [],
   "source": [
    "# list\n",
    "L = [] # list()\n",
    "l = [1,2,3,4.5,5.6,6.7,'apple','banana','carrot']"
   ]
  },
  {
   "cell_type": "code",
   "execution_count": 27,
   "id": "logical-monroe",
   "metadata": {},
   "outputs": [
    {
     "data": {
      "text/plain": [
       "[1, 2, 3, 4.5, 5.6, 6.7, 'apple', 'banana', 'carrot']"
      ]
     },
     "execution_count": 27,
     "metadata": {},
     "output_type": "execute_result"
    }
   ],
   "source": [
    "l"
   ]
  },
  {
   "cell_type": "code",
   "execution_count": 30,
   "id": "outstanding-makeup",
   "metadata": {},
   "outputs": [],
   "source": [
    "# tuple\n",
    "t = (1, 2, 3, 4.5, 5.6, 6.7, 'apple', 'banana', 'carrot')"
   ]
  },
  {
   "cell_type": "code",
   "execution_count": 31,
   "id": "refined-decade",
   "metadata": {},
   "outputs": [
    {
     "data": {
      "text/plain": [
       "(1, 2, 3, 4.5, 5.6, 6.7, 'apple', 'banana', 'carrot')"
      ]
     },
     "execution_count": 31,
     "metadata": {},
     "output_type": "execute_result"
    }
   ],
   "source": [
    "t"
   ]
  },
  {
   "cell_type": "code",
   "execution_count": 32,
   "id": "baking-minority",
   "metadata": {},
   "outputs": [
    {
     "data": {
      "text/plain": [
       "9"
      ]
     },
     "execution_count": 32,
     "metadata": {},
     "output_type": "execute_result"
    }
   ],
   "source": [
    "len(l)"
   ]
  },
  {
   "cell_type": "code",
   "execution_count": 33,
   "id": "former-harvey",
   "metadata": {},
   "outputs": [
    {
     "data": {
      "text/plain": [
       "6.7"
      ]
     },
     "execution_count": 33,
     "metadata": {},
     "output_type": "execute_result"
    }
   ],
   "source": [
    "l[5]"
   ]
  },
  {
   "cell_type": "code",
   "execution_count": 34,
   "id": "terminal-jaguar",
   "metadata": {},
   "outputs": [
    {
     "data": {
      "text/plain": [
       "[6.7, 'apple', 'banana', 'carrot']"
      ]
     },
     "execution_count": 34,
     "metadata": {},
     "output_type": "execute_result"
    }
   ],
   "source": [
    "l[5:]"
   ]
  },
  {
   "cell_type": "code",
   "execution_count": 35,
   "id": "precise-ballot",
   "metadata": {},
   "outputs": [
    {
     "data": {
      "text/plain": [
       "[1, 2, 3, 4.5, 5.6]"
      ]
     },
     "execution_count": 35,
     "metadata": {},
     "output_type": "execute_result"
    }
   ],
   "source": [
    "l[:5]"
   ]
  },
  {
   "cell_type": "code",
   "execution_count": 36,
   "id": "similar-senator",
   "metadata": {},
   "outputs": [
    {
     "data": {
      "text/plain": [
       "[3, 4.5, 5.6, 6.7]"
      ]
     },
     "execution_count": 36,
     "metadata": {},
     "output_type": "execute_result"
    }
   ],
   "source": [
    "l[2:6]"
   ]
  },
  {
   "cell_type": "code",
   "execution_count": 37,
   "id": "cellular-engineer",
   "metadata": {},
   "outputs": [],
   "source": [
    "del l[2]"
   ]
  },
  {
   "cell_type": "code",
   "execution_count": 38,
   "id": "numerical-treasurer",
   "metadata": {},
   "outputs": [
    {
     "data": {
      "text/plain": [
       "[1, 2, 4.5, 5.6, 6.7, 'apple', 'banana', 'carrot']"
      ]
     },
     "execution_count": 38,
     "metadata": {},
     "output_type": "execute_result"
    }
   ],
   "source": [
    "l"
   ]
  },
  {
   "cell_type": "code",
   "execution_count": 39,
   "id": "timely-ambassador",
   "metadata": {},
   "outputs": [],
   "source": [
    "l.append(\"papaya\")"
   ]
  },
  {
   "cell_type": "code",
   "execution_count": 40,
   "id": "narrow-liechtenstein",
   "metadata": {},
   "outputs": [
    {
     "name": "stdout",
     "output_type": "stream",
     "text": [
      "[1, 2, 4.5, 5.6, 6.7, 'apple', 'banana', 'carrot', 'papaya']\n"
     ]
    }
   ],
   "source": [
    "print(l) # l"
   ]
  },
  {
   "cell_type": "code",
   "execution_count": 41,
   "id": "collected-cholesterol",
   "metadata": {},
   "outputs": [],
   "source": [
    "l.insert(2, 3)"
   ]
  },
  {
   "cell_type": "code",
   "execution_count": 42,
   "id": "removable-catering",
   "metadata": {},
   "outputs": [
    {
     "data": {
      "text/plain": [
       "[1, 2, 3, 4.5, 5.6, 6.7, 'apple', 'banana', 'carrot', 'papaya']"
      ]
     },
     "execution_count": 42,
     "metadata": {},
     "output_type": "execute_result"
    }
   ],
   "source": [
    "l"
   ]
  },
  {
   "cell_type": "code",
   "execution_count": 43,
   "id": "another-washer",
   "metadata": {},
   "outputs": [],
   "source": [
    "l.remove(4.5)"
   ]
  },
  {
   "cell_type": "code",
   "execution_count": 44,
   "id": "acoustic-tract",
   "metadata": {},
   "outputs": [
    {
     "data": {
      "text/plain": [
       "[1, 2, 3, 5.6, 6.7, 'apple', 'banana', 'carrot', 'papaya']"
      ]
     },
     "execution_count": 44,
     "metadata": {},
     "output_type": "execute_result"
    }
   ],
   "source": [
    "l"
   ]
  },
  {
   "cell_type": "code",
   "execution_count": 45,
   "id": "alert-tribe",
   "metadata": {},
   "outputs": [
    {
     "data": {
      "text/plain": [
       "'papaya'"
      ]
     },
     "execution_count": 45,
     "metadata": {},
     "output_type": "execute_result"
    }
   ],
   "source": [
    "l.pop()"
   ]
  },
  {
   "cell_type": "code",
   "execution_count": 46,
   "id": "drawn-numbers",
   "metadata": {},
   "outputs": [
    {
     "data": {
      "text/plain": [
       "[1, 2, 3, 5.6, 6.7, 'apple', 'banana', 'carrot']"
      ]
     },
     "execution_count": 46,
     "metadata": {},
     "output_type": "execute_result"
    }
   ],
   "source": [
    "l"
   ]
  },
  {
   "cell_type": "code",
   "execution_count": 47,
   "id": "common-arena",
   "metadata": {},
   "outputs": [
    {
     "data": {
      "text/plain": [
       "1"
      ]
     },
     "execution_count": 47,
     "metadata": {},
     "output_type": "execute_result"
    }
   ],
   "source": [
    "l.count('apple')"
   ]
  },
  {
   "cell_type": "code",
   "execution_count": 48,
   "id": "humanitarian-cherry",
   "metadata": {},
   "outputs": [
    {
     "data": {
      "text/plain": [
       "5"
      ]
     },
     "execution_count": 48,
     "metadata": {},
     "output_type": "execute_result"
    }
   ],
   "source": [
    "l.index('apple')"
   ]
  },
  {
   "cell_type": "code",
   "execution_count": 49,
   "id": "streaming-dodge",
   "metadata": {},
   "outputs": [],
   "source": [
    "l.reverse()"
   ]
  },
  {
   "cell_type": "code",
   "execution_count": 50,
   "id": "protecting-omega",
   "metadata": {},
   "outputs": [
    {
     "data": {
      "text/plain": [
       "['carrot', 'banana', 'apple', 6.7, 5.6, 3, 2, 1]"
      ]
     },
     "execution_count": 50,
     "metadata": {},
     "output_type": "execute_result"
    }
   ],
   "source": [
    "l"
   ]
  },
  {
   "cell_type": "code",
   "execution_count": 52,
   "id": "blond-charles",
   "metadata": {},
   "outputs": [],
   "source": [
    "L.extend(['carrot', 'banana', 'apple'])"
   ]
  },
  {
   "cell_type": "code",
   "execution_count": 53,
   "id": "funny-lingerie",
   "metadata": {},
   "outputs": [
    {
     "data": {
      "text/plain": [
       "['carrot', 'banana', 'apple']"
      ]
     },
     "execution_count": 53,
     "metadata": {},
     "output_type": "execute_result"
    }
   ],
   "source": [
    "L"
   ]
  },
  {
   "cell_type": "code",
   "execution_count": 54,
   "id": "charitable-alarm",
   "metadata": {},
   "outputs": [],
   "source": [
    "L.clear()"
   ]
  },
  {
   "cell_type": "code",
   "execution_count": 55,
   "id": "editorial-employment",
   "metadata": {},
   "outputs": [
    {
     "data": {
      "text/plain": [
       "[]"
      ]
     },
     "execution_count": 55,
     "metadata": {},
     "output_type": "execute_result"
    }
   ],
   "source": [
    "L"
   ]
  },
  {
   "cell_type": "code",
   "execution_count": 56,
   "id": "minimal-sentence",
   "metadata": {},
   "outputs": [],
   "source": [
    "f = l"
   ]
  },
  {
   "cell_type": "code",
   "execution_count": 58,
   "id": "frequent-nirvana",
   "metadata": {},
   "outputs": [
    {
     "data": {
      "text/plain": [
       "1"
      ]
     },
     "execution_count": 58,
     "metadata": {},
     "output_type": "execute_result"
    }
   ],
   "source": [
    "f.pop()"
   ]
  },
  {
   "cell_type": "code",
   "execution_count": 59,
   "id": "tribal-compilation",
   "metadata": {},
   "outputs": [
    {
     "data": {
      "text/plain": [
       "['carrot', 'banana', 'apple', 6.7, 5.6, 3, 2]"
      ]
     },
     "execution_count": 59,
     "metadata": {},
     "output_type": "execute_result"
    }
   ],
   "source": [
    "f"
   ]
  },
  {
   "cell_type": "code",
   "execution_count": 60,
   "id": "white-serum",
   "metadata": {},
   "outputs": [
    {
     "data": {
      "text/plain": [
       "['carrot', 'banana', 'apple', 6.7, 5.6, 3, 2]"
      ]
     },
     "execution_count": 60,
     "metadata": {},
     "output_type": "execute_result"
    }
   ],
   "source": [
    "l"
   ]
  },
  {
   "cell_type": "code",
   "execution_count": 61,
   "id": "convinced-composite",
   "metadata": {},
   "outputs": [],
   "source": [
    "g = l.copy()"
   ]
  },
  {
   "cell_type": "code",
   "execution_count": 62,
   "id": "universal-variation",
   "metadata": {},
   "outputs": [
    {
     "data": {
      "text/plain": [
       "['carrot', 'banana', 'apple', 6.7, 5.6, 3, 2]"
      ]
     },
     "execution_count": 62,
     "metadata": {},
     "output_type": "execute_result"
    }
   ],
   "source": [
    "g"
   ]
  },
  {
   "cell_type": "code",
   "execution_count": 63,
   "id": "treated-edinburgh",
   "metadata": {},
   "outputs": [
    {
     "data": {
      "text/plain": [
       "['carrot', 'banana', 'apple', 6.7, 5.6, 3, 2]"
      ]
     },
     "execution_count": 63,
     "metadata": {},
     "output_type": "execute_result"
    }
   ],
   "source": [
    "l"
   ]
  },
  {
   "cell_type": "code",
   "execution_count": 64,
   "id": "differential-maker",
   "metadata": {},
   "outputs": [
    {
     "data": {
      "text/plain": [
       "2"
      ]
     },
     "execution_count": 64,
     "metadata": {},
     "output_type": "execute_result"
    }
   ],
   "source": [
    "g.pop()"
   ]
  },
  {
   "cell_type": "code",
   "execution_count": 65,
   "id": "diagnostic-johnson",
   "metadata": {},
   "outputs": [
    {
     "data": {
      "text/plain": [
       "['carrot', 'banana', 'apple', 6.7, 5.6, 3]"
      ]
     },
     "execution_count": 65,
     "metadata": {},
     "output_type": "execute_result"
    }
   ],
   "source": [
    "g"
   ]
  },
  {
   "cell_type": "code",
   "execution_count": 66,
   "id": "requested-transcription",
   "metadata": {},
   "outputs": [
    {
     "data": {
      "text/plain": [
       "['carrot', 'banana', 'apple', 6.7, 5.6, 3, 2]"
      ]
     },
     "execution_count": 66,
     "metadata": {},
     "output_type": "execute_result"
    }
   ],
   "source": [
    "l"
   ]
  },
  {
   "cell_type": "code",
   "execution_count": 67,
   "id": "elder-doctrine",
   "metadata": {},
   "outputs": [
    {
     "name": "stdout",
     "output_type": "stream",
     "text": [
      "a\n",
      "p\n",
      "p\n",
      "l\n",
      "e\n"
     ]
    }
   ],
   "source": [
    "for i in c:\n",
    "    print(i)"
   ]
  },
  {
   "cell_type": "code",
   "execution_count": 68,
   "id": "minor-criticism",
   "metadata": {},
   "outputs": [
    {
     "name": "stdout",
     "output_type": "stream",
     "text": [
      "hello\n",
      "hello\n",
      "hello\n",
      "hello\n",
      "hello\n"
     ]
    }
   ],
   "source": [
    "for i in range(5):\n",
    "    print('hello')"
   ]
  },
  {
   "cell_type": "code",
   "execution_count": 69,
   "id": "exempt-witness",
   "metadata": {},
   "outputs": [
    {
     "name": "stdout",
     "output_type": "stream",
     "text": [
      "hello\n",
      "hello\n",
      "hello\n",
      "hello\n",
      "hello\n"
     ]
    }
   ],
   "source": [
    "for _ in range(5):\n",
    "    print('hello')"
   ]
  },
  {
   "cell_type": "code",
   "execution_count": 70,
   "id": "further-williams",
   "metadata": {},
   "outputs": [
    {
     "name": "stdout",
     "output_type": "stream",
     "text": [
      "carrot\n",
      "banana\n",
      "apple\n",
      "6.7\n",
      "5.6\n",
      "3\n",
      "2\n"
     ]
    }
   ],
   "source": [
    "for i in l:\n",
    "    print(i)"
   ]
  },
  {
   "cell_type": "code",
   "execution_count": 71,
   "id": "senior-shift",
   "metadata": {},
   "outputs": [
    {
     "name": "stdout",
     "output_type": "stream",
     "text": [
      "carrot 1\n",
      "banana 2\n",
      "apple 3\n",
      "6.7 4.5\n",
      "5.6 5.6\n",
      "3 6.7\n",
      "2 apple\n"
     ]
    }
   ],
   "source": [
    "for i,j in zip(l,t):\n",
    "    print(i,j)"
   ]
  },
  {
   "cell_type": "code",
   "execution_count": 72,
   "id": "athletic-deficit",
   "metadata": {},
   "outputs": [
    {
     "data": {
      "text/plain": [
       "(1, 2, 3, 4.5, 5.6, 6.7, 'apple', 'banana', 'carrot')"
      ]
     },
     "execution_count": 72,
     "metadata": {},
     "output_type": "execute_result"
    }
   ],
   "source": [
    "t"
   ]
  },
  {
   "cell_type": "code",
   "execution_count": 73,
   "id": "responsible-warrior",
   "metadata": {},
   "outputs": [
    {
     "data": {
      "text/plain": [
       "['carrot', 'banana', 'apple', 6.7, 5.6, 3, 2]"
      ]
     },
     "execution_count": 73,
     "metadata": {},
     "output_type": "execute_result"
    }
   ],
   "source": [
    "l"
   ]
  },
  {
   "cell_type": "code",
   "execution_count": 74,
   "id": "corresponding-browser",
   "metadata": {},
   "outputs": [
    {
     "name": "stdout",
     "output_type": "stream",
     "text": [
      "0 carrot\n",
      "1 banana\n",
      "2 apple\n",
      "3 6.7\n",
      "4 5.6\n",
      "5 3\n",
      "6 2\n"
     ]
    }
   ],
   "source": [
    "for i,j in enumerate(l):\n",
    "    print(i,j)"
   ]
  },
  {
   "cell_type": "code",
   "execution_count": 75,
   "id": "confidential-retreat",
   "metadata": {},
   "outputs": [],
   "source": [
    "# Write a Python program to multiply all the items in a list\n",
    "numList = list(range(2,8))"
   ]
  },
  {
   "cell_type": "code",
   "execution_count": 77,
   "id": "continuing-design",
   "metadata": {},
   "outputs": [
    {
     "name": "stdout",
     "output_type": "stream",
     "text": [
      "5040\n"
     ]
    }
   ],
   "source": [
    "total = 1\n",
    "for i in numList:\n",
    "    total = total * i\n",
    "print(total)"
   ]
  },
  {
   "cell_type": "code",
   "execution_count": 81,
   "id": "sweet-crash",
   "metadata": {},
   "outputs": [
    {
     "data": {
      "text/plain": [
       "(27, 6, 7, 2)"
      ]
     },
     "execution_count": 81,
     "metadata": {},
     "output_type": "execute_result"
    }
   ],
   "source": [
    "sum(numList), len(numList), max(numList), min(numList)"
   ]
  },
  {
   "cell_type": "code",
   "execution_count": 82,
   "id": "reliable-broadway",
   "metadata": {},
   "outputs": [],
   "source": [
    "D = {} # dict()\n",
    "d = {'a':'apple', 12:\"banana\", 3.14:l, 't':t}"
   ]
  },
  {
   "cell_type": "code",
   "execution_count": 83,
   "id": "blind-michael",
   "metadata": {},
   "outputs": [
    {
     "data": {
      "text/plain": [
       "{'a': 'apple',\n",
       " 12: 'banana',\n",
       " 3.14: ['carrot', 'banana', 'apple', 6.7, 5.6, 3, 2],\n",
       " 't': (1, 2, 3, 4.5, 5.6, 6.7, 'apple', 'banana', 'carrot')}"
      ]
     },
     "execution_count": 83,
     "metadata": {},
     "output_type": "execute_result"
    }
   ],
   "source": [
    "d"
   ]
  },
  {
   "cell_type": "code",
   "execution_count": 84,
   "id": "distinct-interface",
   "metadata": {},
   "outputs": [
    {
     "data": {
      "text/plain": [
       "'banana'"
      ]
     },
     "execution_count": 84,
     "metadata": {},
     "output_type": "execute_result"
    }
   ],
   "source": [
    "d[12]"
   ]
  },
  {
   "cell_type": "code",
   "execution_count": 86,
   "id": "eleven-edwards",
   "metadata": {},
   "outputs": [],
   "source": [
    "d['a'] = 'mango'"
   ]
  },
  {
   "cell_type": "code",
   "execution_count": 87,
   "id": "intended-conclusion",
   "metadata": {},
   "outputs": [
    {
     "data": {
      "text/plain": [
       "{'a': 'mango',\n",
       " 12: 'banana',\n",
       " 3.14: ['carrot', 'banana', 'apple', 6.7, 5.6, 3, 2],\n",
       " 't': (1, 2, 3, 4.5, 5.6, 6.7, 'apple', 'banana', 'carrot')}"
      ]
     },
     "execution_count": 87,
     "metadata": {},
     "output_type": "execute_result"
    }
   ],
   "source": [
    "d"
   ]
  },
  {
   "cell_type": "code",
   "execution_count": 88,
   "id": "interpreted-continent",
   "metadata": {},
   "outputs": [],
   "source": [
    "del d[12]"
   ]
  },
  {
   "cell_type": "code",
   "execution_count": 89,
   "id": "universal-necklace",
   "metadata": {},
   "outputs": [
    {
     "data": {
      "text/plain": [
       "{'a': 'mango',\n",
       " 3.14: ['carrot', 'banana', 'apple', 6.7, 5.6, 3, 2],\n",
       " 't': (1, 2, 3, 4.5, 5.6, 6.7, 'apple', 'banana', 'carrot')}"
      ]
     },
     "execution_count": 89,
     "metadata": {},
     "output_type": "execute_result"
    }
   ],
   "source": [
    "d"
   ]
  },
  {
   "cell_type": "code",
   "execution_count": 90,
   "id": "rental-marks",
   "metadata": {},
   "outputs": [],
   "source": [
    "d['c'] ='carrot'"
   ]
  },
  {
   "cell_type": "code",
   "execution_count": 91,
   "id": "careful-joining",
   "metadata": {},
   "outputs": [
    {
     "data": {
      "text/plain": [
       "{'a': 'mango',\n",
       " 3.14: ['carrot', 'banana', 'apple', 6.7, 5.6, 3, 2],\n",
       " 't': (1, 2, 3, 4.5, 5.6, 6.7, 'apple', 'banana', 'carrot'),\n",
       " 'c': 'carrot'}"
      ]
     },
     "execution_count": 91,
     "metadata": {},
     "output_type": "execute_result"
    }
   ],
   "source": [
    "d"
   ]
  },
  {
   "cell_type": "code",
   "execution_count": 92,
   "id": "going-blend",
   "metadata": {},
   "outputs": [
    {
     "data": {
      "text/plain": [
       "dict_keys(['a', 3.14, 't', 'c'])"
      ]
     },
     "execution_count": 92,
     "metadata": {},
     "output_type": "execute_result"
    }
   ],
   "source": [
    "d.keys()"
   ]
  },
  {
   "cell_type": "code",
   "execution_count": 93,
   "id": "complex-brazilian",
   "metadata": {},
   "outputs": [
    {
     "data": {
      "text/plain": [
       "dict_values(['mango', ['carrot', 'banana', 'apple', 6.7, 5.6, 3, 2], (1, 2, 3, 4.5, 5.6, 6.7, 'apple', 'banana', 'carrot'), 'carrot'])"
      ]
     },
     "execution_count": 93,
     "metadata": {},
     "output_type": "execute_result"
    }
   ],
   "source": [
    "d.values()"
   ]
  },
  {
   "cell_type": "code",
   "execution_count": 95,
   "id": "informative-contractor",
   "metadata": {},
   "outputs": [
    {
     "data": {
      "text/plain": [
       "[('a', 'mango'),\n",
       " (3.14, ['carrot', 'banana', 'apple', 6.7, 5.6, 3, 2]),\n",
       " ('t', (1, 2, 3, 4.5, 5.6, 6.7, 'apple', 'banana', 'carrot')),\n",
       " ('c', 'carrot')]"
      ]
     },
     "execution_count": 95,
     "metadata": {},
     "output_type": "execute_result"
    }
   ],
   "source": [
    "list(d.items())"
   ]
  },
  {
   "cell_type": "code",
   "execution_count": 96,
   "id": "velvet-softball",
   "metadata": {},
   "outputs": [
    {
     "data": {
      "text/plain": [
       "'carrot'"
      ]
     },
     "execution_count": 96,
     "metadata": {},
     "output_type": "execute_result"
    }
   ],
   "source": [
    "d['c']"
   ]
  },
  {
   "cell_type": "code",
   "execution_count": 97,
   "id": "vanilla-failing",
   "metadata": {},
   "outputs": [
    {
     "data": {
      "text/plain": [
       "'carrot'"
      ]
     },
     "execution_count": 97,
     "metadata": {},
     "output_type": "execute_result"
    }
   ],
   "source": [
    "d.get('c')"
   ]
  },
  {
   "cell_type": "code",
   "execution_count": 98,
   "id": "robust-smooth",
   "metadata": {},
   "outputs": [
    {
     "ename": "KeyError",
     "evalue": "12",
     "output_type": "error",
     "traceback": [
      "\u001b[0;31m---------------------------------------------------------------------------\u001b[0m",
      "\u001b[0;31mKeyError\u001b[0m                                  Traceback (most recent call last)",
      "\u001b[0;32m<ipython-input-98-d84f36c30161>\u001b[0m in \u001b[0;36m<module>\u001b[0;34m\u001b[0m\n\u001b[0;32m----> 1\u001b[0;31m \u001b[0md\u001b[0m\u001b[0;34m[\u001b[0m\u001b[0;36m12\u001b[0m\u001b[0;34m]\u001b[0m\u001b[0;34m\u001b[0m\u001b[0;34m\u001b[0m\u001b[0m\n\u001b[0m",
      "\u001b[0;31mKeyError\u001b[0m: 12"
     ]
    }
   ],
   "source": [
    "d[12]"
   ]
  },
  {
   "cell_type": "code",
   "execution_count": 100,
   "id": "western-draft",
   "metadata": {},
   "outputs": [
    {
     "data": {
      "text/plain": [
       "'No Such Key'"
      ]
     },
     "execution_count": 100,
     "metadata": {},
     "output_type": "execute_result"
    }
   ],
   "source": [
    "d.get(12, \"No Such Key\")"
   ]
  },
  {
   "cell_type": "code",
   "execution_count": 101,
   "id": "olympic-attribute",
   "metadata": {},
   "outputs": [
    {
     "data": {
      "text/plain": [
       "['carrot', 'banana', 'apple', 6.7, 5.6, 3, 2]"
      ]
     },
     "execution_count": 101,
     "metadata": {},
     "output_type": "execute_result"
    }
   ],
   "source": [
    "l"
   ]
  },
  {
   "cell_type": "code",
   "execution_count": 104,
   "id": "general-rocket",
   "metadata": {},
   "outputs": [
    {
     "data": {
      "text/plain": [
       "{'carrot': 'default',\n",
       " 'banana': 'default',\n",
       " 'apple': 'default',\n",
       " 6.7: 'default',\n",
       " 5.6: 'default',\n",
       " 3: 'default',\n",
       " 2: 'default'}"
      ]
     },
     "execution_count": 104,
     "metadata": {},
     "output_type": "execute_result"
    }
   ],
   "source": [
    "dict.fromkeys(l, 'default')"
   ]
  },
  {
   "cell_type": "code",
   "execution_count": 105,
   "id": "danish-passage",
   "metadata": {},
   "outputs": [
    {
     "name": "stdout",
     "output_type": "stream",
     "text": [
      "a\n",
      "3.14\n",
      "t\n",
      "c\n"
     ]
    }
   ],
   "source": [
    "for k in d.keys():\n",
    "    print(k)"
   ]
  },
  {
   "cell_type": "code",
   "execution_count": 106,
   "id": "pleased-triple",
   "metadata": {},
   "outputs": [
    {
     "name": "stdout",
     "output_type": "stream",
     "text": [
      "mango\n",
      "['carrot', 'banana', 'apple', 6.7, 5.6, 3, 2]\n",
      "(1, 2, 3, 4.5, 5.6, 6.7, 'apple', 'banana', 'carrot')\n",
      "carrot\n"
     ]
    }
   ],
   "source": [
    "for v in d.values():\n",
    "    print(v)"
   ]
  },
  {
   "cell_type": "code",
   "execution_count": 108,
   "id": "impressed-damages",
   "metadata": {},
   "outputs": [
    {
     "name": "stdout",
     "output_type": "stream",
     "text": [
      "a ==> mango\n",
      "3.14 ==> ['carrot', 'banana', 'apple', 6.7, 5.6, 3, 2]\n",
      "t ==> (1, 2, 3, 4.5, 5.6, 6.7, 'apple', 'banana', 'carrot')\n",
      "c ==> carrot\n"
     ]
    }
   ],
   "source": [
    "for k,v in d.items():\n",
    "    print(k, '==>',v )"
   ]
  },
  {
   "cell_type": "code",
   "execution_count": 119,
   "id": "subject-salvation",
   "metadata": {},
   "outputs": [],
   "source": [
    "# function\n",
    "\n",
    "# no arg no return\n",
    "def addition():\n",
    "    a = float(input(\"Enter a: \"))\n",
    "    b = float(input(\"Enter b: \"))\n",
    "    print(a+b, a*b)\n",
    "    \n",
    "# no arg, with return\n",
    "def addition():\n",
    "    a = float(input(\"Enter a: \"))\n",
    "    b = float(input(\"Enter b: \"))\n",
    "    return a+b, a*b\n",
    "\n",
    "# with arg, with return\n",
    "def addition(a, b):\n",
    "    return a+b, a*b\n",
    "\n",
    "# with deafult value arg, with return\n",
    "def addition(b, a=10):\n",
    "    return a+b, a*b"
   ]
  },
  {
   "cell_type": "code",
   "execution_count": 110,
   "id": "dependent-reasoning",
   "metadata": {},
   "outputs": [
    {
     "name": "stdout",
     "output_type": "stream",
     "text": [
      "Enter a: 5\n",
      "Enter b: 40\n",
      "45.0 200.0\n"
     ]
    }
   ],
   "source": [
    "addition()"
   ]
  },
  {
   "cell_type": "code",
   "execution_count": 112,
   "id": "emerging-prescription",
   "metadata": {},
   "outputs": [
    {
     "name": "stdout",
     "output_type": "stream",
     "text": [
      "Enter a: 4\n",
      "Enter b: 6\n"
     ]
    }
   ],
   "source": [
    "s,m = addition()"
   ]
  },
  {
   "cell_type": "code",
   "execution_count": 113,
   "id": "raised-easter",
   "metadata": {},
   "outputs": [
    {
     "data": {
      "text/plain": [
       "(10.0, 24.0)"
      ]
     },
     "execution_count": 113,
     "metadata": {},
     "output_type": "execute_result"
    }
   ],
   "source": [
    "s,m"
   ]
  },
  {
   "cell_type": "code",
   "execution_count": 114,
   "id": "certain-microwave",
   "metadata": {},
   "outputs": [
    {
     "name": "stdout",
     "output_type": "stream",
     "text": [
      "Enter a: 5\n",
      "Enter b: 3\n"
     ]
    }
   ],
   "source": [
    "ans = addition()"
   ]
  },
  {
   "cell_type": "code",
   "execution_count": 115,
   "id": "editorial-response",
   "metadata": {},
   "outputs": [
    {
     "data": {
      "text/plain": [
       "(8.0, 15.0)"
      ]
     },
     "execution_count": 115,
     "metadata": {},
     "output_type": "execute_result"
    }
   ],
   "source": [
    "ans"
   ]
  },
  {
   "cell_type": "code",
   "execution_count": 117,
   "id": "tamil-vaccine",
   "metadata": {},
   "outputs": [
    {
     "name": "stdout",
     "output_type": "stream",
     "text": [
      "Enter a: 7\n",
      "Enter b: 9\n"
     ]
    }
   ],
   "source": [
    "a = float(input(\"Enter a: \"))\n",
    "b = float(input(\"Enter b: \"))\n",
    "ans = addition(a,b)"
   ]
  },
  {
   "cell_type": "code",
   "execution_count": 118,
   "id": "religious-county",
   "metadata": {},
   "outputs": [
    {
     "data": {
      "text/plain": [
       "(16.0, 63.0)"
      ]
     },
     "execution_count": 118,
     "metadata": {},
     "output_type": "execute_result"
    }
   ],
   "source": [
    "ans"
   ]
  },
  {
   "cell_type": "code",
   "execution_count": 121,
   "id": "global-highway",
   "metadata": {},
   "outputs": [
    {
     "data": {
      "text/plain": [
       "(7, 10)"
      ]
     },
     "execution_count": 121,
     "metadata": {},
     "output_type": "execute_result"
    }
   ],
   "source": [
    "addition(5,2)"
   ]
  },
  {
   "cell_type": "code",
   "execution_count": 136,
   "id": "collaborative-double",
   "metadata": {},
   "outputs": [],
   "source": [
    "def isPrimeCheck(n):\n",
    "    flag = False\n",
    "    for i in range(2,int(n/2)):\n",
    "        if n % i == 0:\n",
    "            break\n",
    "    else:\n",
    "        flag = True\n",
    "    return flag"
   ]
  },
  {
   "cell_type": "code",
   "execution_count": 126,
   "id": "north-bunch",
   "metadata": {},
   "outputs": [],
   "source": [
    "def isPrimeCheck(n):\n",
    "    flag = True\n",
    "    for i in range(2,int(n/2)):\n",
    "        if n % i == 0:\n",
    "            flag = False\n",
    "            break\n",
    "    return flag"
   ]
  },
  {
   "cell_type": "code",
   "execution_count": 129,
   "id": "fewer-internet",
   "metadata": {
    "scrolled": true
   },
   "outputs": [
    {
     "data": {
      "text/plain": [
       "True"
      ]
     },
     "execution_count": 129,
     "metadata": {},
     "output_type": "execute_result"
    }
   ],
   "source": [
    "isPrimeCheck(11)"
   ]
  },
  {
   "cell_type": "code",
   "execution_count": 130,
   "id": "willing-transport",
   "metadata": {},
   "outputs": [],
   "source": [
    "add = lambda x,y: x+y"
   ]
  },
  {
   "cell_type": "code",
   "execution_count": 131,
   "id": "geological-brain",
   "metadata": {},
   "outputs": [
    {
     "data": {
      "text/plain": [
       "8"
      ]
     },
     "execution_count": 131,
     "metadata": {},
     "output_type": "execute_result"
    }
   ],
   "source": [
    "add(5,3)"
   ]
  },
  {
   "cell_type": "code",
   "execution_count": 139,
   "id": "juvenile-vector",
   "metadata": {},
   "outputs": [],
   "source": [
    "numList = list(range(10,20))"
   ]
  },
  {
   "cell_type": "code",
   "execution_count": 145,
   "id": "collectible-titanium",
   "metadata": {},
   "outputs": [],
   "source": [
    "def isPrimeCheck(n):\n",
    "    flag = None\n",
    "    for i in range(2,int(n/2)):\n",
    "        if n % i == 0:\n",
    "            break\n",
    "    else:\n",
    "        flag = n\n",
    "    return flag"
   ]
  },
  {
   "cell_type": "code",
   "execution_count": 146,
   "id": "leading-bandwidth",
   "metadata": {},
   "outputs": [],
   "source": [
    "res = []\n",
    "for num in numList:\n",
    "    res.append(isPrimeCheck(num))"
   ]
  },
  {
   "cell_type": "code",
   "execution_count": 148,
   "id": "normal-tennis",
   "metadata": {},
   "outputs": [],
   "source": [
    "res = [isPrimeCheck(num) for num in numList]"
   ]
  },
  {
   "cell_type": "code",
   "execution_count": 149,
   "id": "moving-pollution",
   "metadata": {},
   "outputs": [
    {
     "data": {
      "text/plain": [
       "[None, 11, None, 13, None, None, None, 17, None, 19]"
      ]
     },
     "execution_count": 149,
     "metadata": {},
     "output_type": "execute_result"
    }
   ],
   "source": [
    "res"
   ]
  },
  {
   "cell_type": "code",
   "execution_count": 150,
   "id": "leading-roommate",
   "metadata": {},
   "outputs": [
    {
     "data": {
      "text/plain": [
       "[None, 11, None, 13, None, None, None, 17, None, 19]"
      ]
     },
     "execution_count": 150,
     "metadata": {},
     "output_type": "execute_result"
    }
   ],
   "source": [
    "list(map(isPrimeCheck, numList))"
   ]
  },
  {
   "cell_type": "code",
   "execution_count": 152,
   "id": "inappropriate-length",
   "metadata": {},
   "outputs": [
    {
     "data": {
      "text/plain": [
       "[11, 13, 17, 19]"
      ]
     },
     "execution_count": 152,
     "metadata": {},
     "output_type": "execute_result"
    }
   ],
   "source": [
    "list(filter(None,map(isPrimeCheck, numList)))"
   ]
  },
  {
   "cell_type": "code",
   "execution_count": 153,
   "id": "compliant-checklist",
   "metadata": {},
   "outputs": [
    {
     "ename": "NameError",
     "evalue": "name 'x' is not defined",
     "output_type": "error",
     "traceback": [
      "\u001b[0;31m---------------------------------------------------------------------------\u001b[0m",
      "\u001b[0;31mNameError\u001b[0m                                 Traceback (most recent call last)",
      "\u001b[0;32m<ipython-input-153-b898c78ebff2>\u001b[0m in \u001b[0;36m<module>\u001b[0;34m\u001b[0m\n\u001b[0;32m----> 1\u001b[0;31m \u001b[0mprint\u001b[0m\u001b[0;34m(\u001b[0m\u001b[0mx\u001b[0m\u001b[0;34m)\u001b[0m\u001b[0;34m\u001b[0m\u001b[0;34m\u001b[0m\u001b[0m\n\u001b[0m\u001b[1;32m      2\u001b[0m \u001b[0mprint\u001b[0m\u001b[0;34m(\u001b[0m\u001b[0;34m\"hello world\"\u001b[0m\u001b[0;34m)\u001b[0m\u001b[0;34m\u001b[0m\u001b[0;34m\u001b[0m\u001b[0m\n",
      "\u001b[0;31mNameError\u001b[0m: name 'x' is not defined"
     ]
    }
   ],
   "source": [
    "print(x)\n",
    "print(\"hello world\")"
   ]
  },
  {
   "cell_type": "code",
   "execution_count": 154,
   "id": "right-portfolio",
   "metadata": {},
   "outputs": [
    {
     "name": "stdout",
     "output_type": "stream",
     "text": [
      "There is an error\n",
      "hello world\n"
     ]
    }
   ],
   "source": [
    "try:\n",
    "    print(x)\n",
    "except:\n",
    "    print(\"There is an error\")\n",
    "print(\"hello world\")"
   ]
  },
  {
   "cell_type": "code",
   "execution_count": 155,
   "id": "moving-rendering",
   "metadata": {},
   "outputs": [
    {
     "name": "stdout",
     "output_type": "stream",
     "text": [
      "There is an error : name 'x' is not defined\n"
     ]
    }
   ],
   "source": [
    "try:\n",
    "    print(x)\n",
    "except Exception as e:\n",
    "    print(\"There is an error : {}\".format(e))"
   ]
  },
  {
   "cell_type": "code",
   "execution_count": 158,
   "id": "communist-concentrate",
   "metadata": {},
   "outputs": [
    {
     "name": "stdout",
     "output_type": "stream",
     "text": [
      "TyperError: 'x' is an invalid keyword argument for this function\n"
     ]
    }
   ],
   "source": [
    "try:\n",
    "    print(x=2)\n",
    "except NameError as e:\n",
    "    print(e)\n",
    "except TypeError as e:\n",
    "    print(\"TyperError: {}\".format(e))"
   ]
  },
  {
   "cell_type": "code",
   "execution_count": 161,
   "id": "dietary-perfume",
   "metadata": {},
   "outputs": [],
   "source": [
    "name = ' sharma'"
   ]
  },
  {
   "cell_type": "code",
   "execution_count": 164,
   "id": "confidential-timing",
   "metadata": {},
   "outputs": [
    {
     "name": "stdout",
     "output_type": "stream",
     "text": [
      "check the variable\n"
     ]
    }
   ],
   "source": [
    "try:\n",
    "    assert name == 'sharma', \"check the variable\"\n",
    "except AssertionError as e:\n",
    "    print(e)"
   ]
  },
  {
   "cell_type": "code",
   "execution_count": 168,
   "id": "minute-combat",
   "metadata": {},
   "outputs": [
    {
     "name": "stdout",
     "output_type": "stream",
     "text": [
      "Enter any number between 10 and 20: 25\n"
     ]
    },
    {
     "ename": "ValueError",
     "evalue": "Enter any number between 10 and 20",
     "output_type": "error",
     "traceback": [
      "\u001b[0;31m---------------------------------------------------------------------------\u001b[0m",
      "\u001b[0;31mValueError\u001b[0m                                Traceback (most recent call last)",
      "\u001b[0;32m<ipython-input-168-7d8484f92c10>\u001b[0m in \u001b[0;36m<module>\u001b[0;34m\u001b[0m\n\u001b[1;32m      1\u001b[0m \u001b[0mnum\u001b[0m \u001b[0;34m=\u001b[0m \u001b[0mint\u001b[0m\u001b[0;34m(\u001b[0m\u001b[0minput\u001b[0m\u001b[0;34m(\u001b[0m\u001b[0;34m\"Enter any number between 10 and 20: \"\u001b[0m\u001b[0;34m)\u001b[0m\u001b[0;34m)\u001b[0m\u001b[0;34m\u001b[0m\u001b[0;34m\u001b[0m\u001b[0m\n\u001b[1;32m      2\u001b[0m \u001b[0;32mif\u001b[0m \u001b[0mnum\u001b[0m \u001b[0;34m<\u001b[0m \u001b[0;36m10\u001b[0m \u001b[0;32mor\u001b[0m \u001b[0mnum\u001b[0m \u001b[0;34m>\u001b[0m \u001b[0;36m20\u001b[0m\u001b[0;34m:\u001b[0m\u001b[0;34m\u001b[0m\u001b[0;34m\u001b[0m\u001b[0m\n\u001b[0;32m----> 3\u001b[0;31m     \u001b[0;32mraise\u001b[0m \u001b[0mValueError\u001b[0m\u001b[0;34m(\u001b[0m\u001b[0;34m\"Enter any number between 10 and 20\"\u001b[0m\u001b[0;34m)\u001b[0m\u001b[0;34m\u001b[0m\u001b[0;34m\u001b[0m\u001b[0m\n\u001b[0m",
      "\u001b[0;31mValueError\u001b[0m: Enter any number between 10 and 20"
     ]
    }
   ],
   "source": [
    "num = int(eval(input(\"Enter any number between 10 and 20: \")))\n",
    "if num < 10 or num > 20:\n",
    "    raise ValueError(\"Enter any number between 10 and 20\")"
   ]
  },
  {
   "cell_type": "code",
   "execution_count": null,
   "id": "social-amateur",
   "metadata": {},
   "outputs": [],
   "source": [
    "!pip install matplotlib"
   ]
  },
  {
   "cell_type": "code",
   "execution_count": 169,
   "id": "least-restoration",
   "metadata": {},
   "outputs": [],
   "source": [
    "import matplotlib.pyplot as plt"
   ]
  },
  {
   "cell_type": "code",
   "execution_count": 176,
   "id": "approved-twins",
   "metadata": {},
   "outputs": [],
   "source": [
    "x = list(range(1,6))\n",
    "y = [i**2 for i in x]\n",
    "y1 = [i**3 for i in x]"
   ]
  },
  {
   "cell_type": "code",
   "execution_count": 184,
   "id": "bored-grill",
   "metadata": {},
   "outputs": [
    {
     "data": {
      "image/png": "[encoded data removed]",
      "text/plain": [
       "<Figure size 432x288 with 1 Axes>"
      ]
     },
     "metadata": {
      "needs_background": "light"
     },
     "output_type": "display_data"
    }
   ],
   "source": [
    "plt.plot(x,y, 'go--', x,y1,'rs:')\n",
    "plt.xlabel('n')\n",
    "plt.ylabel('n^2')\n",
    "plt.title(\"Simple line chart\")\n",
    "plt.show()"
   ]
  },
  {
   "cell_type": "code",
   "execution_count": 191,
   "id": "blind-ground",
   "metadata": {},
   "outputs": [
    {
     "data": {
      "image/png": "[encoded data removed]",
      "text/plain": [
       "<Figure size 432x288 with 2 Axes>"
      ]
     },
     "metadata": {
      "needs_background": "light"
     },
     "output_type": "display_data"
    }
   ],
   "source": [
    "plt.subplot(121)\n",
    "plt.plot(x,y, 'go--')\n",
    "plt.xlabel('n')\n",
    "plt.ylabel('n^2')\n",
    "plt.gca().set_title(\"Simple line chart\")\n",
    "\n",
    "plt.subplot(122)\n",
    "plt.plot(x,y1,'rs:')\n",
    "plt.xlabel('n')\n",
    "plt.ylabel('n^2')\n",
    "plt.gca().set_title(\"Simple line chart\")\n",
    "\n",
    "plt.show()"
   ]
  },
  {
   "cell_type": "code",
   "execution_count": 194,
   "id": "twelve-advertising",
   "metadata": {},
   "outputs": [
    {
     "data": {
      "image/png": "[encoded data removed]",
      "text/plain": [
       "<Figure size 432x288 with 1 Axes>"
      ]
     },
     "metadata": {
      "needs_background": "light"
     },
     "output_type": "display_data"
    }
   ],
   "source": [
    "plt.scatter(x,y, c='g')\n",
    "plt.xlabel('n')\n",
    "plt.ylabel('n^2')\n",
    "plt.title(\"Simple line chart\")\n",
    "plt.show()"
   ]
  },
  {
   "cell_type": "code",
   "execution_count": 199,
   "id": "owned-steel",
   "metadata": {},
   "outputs": [
    {
     "data": {
      "image/png": "[encoded data removed]",
      "text/plain": [
       "<Figure size 432x288 with 1 Axes>"
      ]
     },
     "metadata": {
      "needs_background": "light"
     },
     "output_type": "display_data"
    }
   ],
   "source": [
    "plt.bar(x,y, facecolor='#EBCDEF')\n",
    "plt.show()"
   ]
  },
  {
   "cell_type": "code",
   "execution_count": 202,
   "id": "aerial-retirement",
   "metadata": {},
   "outputs": [
    {
     "data": {
      "image/png": "[encoded data removed]",
      "text/plain": [
       "<Figure size 432x288 with 1 Axes>"
      ]
     },
     "metadata": {
      "needs_background": "light"
     },
     "output_type": "display_data"
    }
   ],
   "source": [
    "plt.barh(x,y, facecolor='#DECDEF')\n",
    "plt.show()"
   ]
  },
  {
   "cell_type": "code",
   "execution_count": 215,
   "id": "serious-romania",
   "metadata": {},
   "outputs": [
    {
     "data": {
      "image/png": "[encoded data removed]",
      "text/plain": [
       "<Figure size 432x288 with 1 Axes>"
      ]
     },
     "metadata": {},
     "output_type": "display_data"
    }
   ],
   "source": [
    "plt.pie(y, labeldistance=0.5, labels=x)\n",
    "plt.show()"
   ]
  },
  {
   "cell_type": "code",
   "execution_count": 204,
   "id": "aging-status",
   "metadata": {},
   "outputs": [
    {
     "data": {
      "image/png": "[encoded data removed]",
      "text/plain": [
       "<Figure size 432x288 with 1 Axes>"
      ]
     },
     "metadata": {
      "needs_background": "light"
     },
     "output_type": "display_data"
    }
   ],
   "source": [
    "plt.boxplot(y)\n",
    "plt.show()"
   ]
  },
  {
   "cell_type": "code",
   "execution_count": 211,
   "id": "still-potter",
   "metadata": {},
   "outputs": [],
   "source": [
    "import matplotlib as m"
   ]
  },
  {
   "cell_type": "code",
   "execution_count": 212,
   "id": "mineral-median",
   "metadata": {},
   "outputs": [
    {
     "data": {
      "text/plain": [
       "'2.2.5'"
      ]
     },
     "execution_count": 212,
     "metadata": {},
     "output_type": "execute_result"
    }
   ],
   "source": [
    "m.__version__"
   ]
  },
  {
   "cell_type": "code",
   "execution_count": 213,
   "id": "genetic-argument",
   "metadata": {},
   "outputs": [
    {
     "data": {
      "image/png": "[encoded data removed]",
      "text/plain": [
       "<Figure size 432x288 with 1 Axes>"
      ]
     },
     "metadata": {},
     "output_type": "display_data"
    }
   ],
   "source": [
    "fig, ax = plt.subplots()\n",
    "\n",
    "size = 0.3\n",
    "vals = np.array([[60., 32.], [37., 40.], [29., 10.]])\n",
    "\n",
    "cmap = plt.get_cmap(\"tab20c\")\n",
    "outer_colors = cmap(np.arange(3)*4)\n",
    "inner_colors = cmap(np.array([1, 2, 5, 6, 9, 10]))\n",
    "\n",
    "ax.pie(vals.sum(axis=1), radius=1, colors=outer_colors,\n",
    "       wedgeprops=dict(width=size, edgecolor='w'))\n",
    "\n",
    "ax.pie(vals.flatten(), radius=1-size, colors=inner_colors,\n",
    "       wedgeprops=dict(width=size, edgecolor='w'))\n",
    "\n",
    "ax.set(aspect=\"equal\", title='Pie plot with `ax.pie`')\n",
    "plt.show()"
   ]
  },
  {
   "cell_type": "markdown",
   "id": "further-exclusion",
   "metadata": {},
   "source": [
    "### Steps to implement ML application"
   ]
  },
  {
   "cell_type": "markdown",
   "id": "close-franchise",
   "metadata": {},
   "source": [
    "1. Load dataset --> pandas, OpenCV\n",
    "2. Split dataset (70:30) --> sklearn\n",
    "3. Define an algorithm --> sklearn, tensorflow, keras\n",
    "4. Training with 70% of data\n",
    "5. validation with 10% of trained data\n",
    "6. Tuning (changing parameters/algorithm)\n",
    "7. Cross-validation with 30% of data"
   ]
  },
  {
   "cell_type": "markdown",
   "id": "laughing-wonder",
   "metadata": {},
   "source": [
    "### ML Application Technologies\n",
    "\n",
    "1. Image processing with ML -> DIP, opencv, sklearn & tensorflow\n",
    "2. NLP (NLU and NLG) -> sklearn & tensorflow, NLP\n",
    "3. Robotics -> Mechatronics background\n",
    "4. Medical diagnosis -> medical background"
   ]
  },
  {
   "cell_type": "markdown",
   "id": "provincial-electricity",
   "metadata": {},
   "source": [
    "### Basic ML algorithms\n",
    "\n",
    "1. Linear Regression  -> Regression\n",
    "\n",
    "\n",
    "2. Logistic Regression -> Classification\n",
    "3. SVM -> Classification\n",
    "\n",
    "\n",
    "4. K-Means -> Clustering\n",
    "5. Hierarchial Clustering -> Clustering\n",
    "\n",
    "\n",
    "6. KNN -> Classification & Clustering\n",
    "\n",
    "\n",
    "7. Naive bayes -> Classification & Regression\n",
    "8. Decision Tree -> Classification & Regression\n",
    "9. Random Forest -> Classification & Regression\n",
    "10. Adaboost -> Classification & Regression\n",
    "\n",
    "\n",
    "11. Apriori -> Associative Learning (Freq Pattern)\n",
    "12. Eclat -> Associative Learning (Freq Pattern)\n",
    "\n",
    "\n",
    "13. PCA -> Dimensionality Reduction\n",
    "\n",
    "\n",
    "14. TF-IDF -> Topic Modeling"
   ]
  },
  {
   "cell_type": "markdown",
   "id": "owned-flash",
   "metadata": {},
   "source": [
    "### ML Deployment Overview\n",
    "\n",
    "1. Microservice --> Rest API \n",
    "2. Docker --> Rest API, staggered \n",
    "3. AWS lambda\n",
    "4. AWS Sagemaker"
   ]
  },
  {
   "cell_type": "markdown",
   "id": "african-layer",
   "metadata": {},
   "source": [
    "### simple flask app/microservice"
   ]
  },
  {
   "cell_type": "code",
   "execution_count": null,
   "id": "norwegian-movie",
   "metadata": {},
   "outputs": [],
   "source": [
    "API & Web interface"
   ]
  },
  {
   "cell_type": "code",
   "execution_count": 12,
   "id": "valuable-perspective",
   "metadata": {},
   "outputs": [],
   "source": [
    "from flask import Flask, request, jsonify"
   ]
  },
  {
   "cell_type": "code",
   "execution_count": 17,
   "id": "textile-software",
   "metadata": {},
   "outputs": [],
   "source": [
    "app = Flask(__name__)"
   ]
  },
  {
   "cell_type": "code",
   "execution_count": 18,
   "id": "collective-virginia",
   "metadata": {},
   "outputs": [],
   "source": [
    "@app.route(\"/deployment\", methods=[\"GET\"])\n",
    "def getFunc():\n",
    "    if request.method == 'GET':\n",
    "        data = request.args.get('q')  # request.args['q']\n",
    "        print(data)\n",
    "        res = {}\n",
    "        res[\"Name\"] = data\n",
    "        res[\"Class\"] = \"MSME ML Deployment\"\n",
    "        return jsonify(res)"
   ]
  },
  {
   "cell_type": "code",
   "execution_count": 19,
   "id": "angry-appreciation",
   "metadata": {},
   "outputs": [],
   "source": [
    "@app.route('/api/v1/process',methods=['POST','GET'])\n",
    "def process():\n",
    "    if request.method == \"GET\":\n",
    "        resp = {\"status\": \"SUCCESS\", \"error\": \" \"}\n",
    "        return jsonify(resp)\n",
    "    elif request.method == 'POST':\n",
    "        data=request.get_json()\n",
    "        return  {\"result\" : \"Course : {} and concept : {}\".format(data['class'], data['name'])}"
   ]
  },
  {
   "cell_type": "code",
   "execution_count": 20,
   "id": "naughty-community",
   "metadata": {},
   "outputs": [
    {
     "name": "stdout",
     "output_type": "stream",
     "text": [
      " * Serving Flask app '__main__' (lazy loading)\n",
      " * Environment: production\n",
      "\u001b[31m   WARNING: This is a development server. Do not use it in a production deployment.\u001b[0m\n",
      "\u001b[2m   Use a production WSGI server instead.\u001b[0m\n",
      " * Debug mode: off\n"
     ]
    },
    {
     "name": "stderr",
     "output_type": "stream",
     "text": [
      " * Running on all addresses.\n",
      "   WARNING: This is a development server. Do not use it in a production deployment.\n",
      " * Running on http://192.168.0.111:8000/ (Press CTRL+C to quit)\n",
      "[2022-09-24 10:25:33,732] ERROR in app: Exception on /api/v1/process [POST]\n",
      "Traceback (most recent call last):\n",
      "  File \"/Library/Frameworks/Python.framework/Versions/3.6/lib/python3.6/site-packages/flask/app.py\", line 2073, in wsgi_app\n",
      "    response = self.full_dispatch_request()\n",
      "  File \"/Library/Frameworks/Python.framework/Versions/3.6/lib/python3.6/site-packages/flask/app.py\", line 1518, in full_dispatch_request\n",
      "    rv = self.handle_user_exception(e)\n",
      "  File \"/Library/Frameworks/Python.framework/Versions/3.6/lib/python3.6/site-packages/flask/app.py\", line 1516, in full_dispatch_request\n",
      "    rv = self.dispatch_request()\n",
      "  File \"/Library/Frameworks/Python.framework/Versions/3.6/lib/python3.6/site-packages/flask/app.py\", line 1502, in dispatch_request\n",
      "    return self.ensure_sync(self.view_functions[rule.endpoint])(**req.view_args)\n",
      "  File \"<ipython-input-19-64df26de39b0>\", line 8, in process\n",
      "    return  {\"result\" : \"Course : {} and concept : {}\".format(data['class'], data['name'])}\n",
      "KeyError: 'class'\n",
      "192.168.0.111 - - [24/Sep/2022 10:25:33] \"\u001b[35m\u001b[1mPOST /api/v1/process HTTP/1.1\u001b[0m\" 500 -\n",
      "192.168.0.111 - - [24/Sep/2022 10:25:46] \"POST /api/v1/process HTTP/1.1\" 200 -\n"
     ]
    }
   ],
   "source": [
    "if __name__ == '__main__':\n",
    "    app.run(host='0.0.0.0', port=8000)"
   ]
  },
  {
   "cell_type": "code",
   "execution_count": 24,
   "id": "native-stevens",
   "metadata": {},
   "outputs": [
    {
     "name": "stdout",
     "output_type": "stream",
     "text": [
      " * Serving Flask app '__main__' (lazy loading)\n",
      " * Environment: production\n",
      "\u001b[31m   WARNING: This is a development server. Do not use it in a production deployment.\u001b[0m\n",
      "\u001b[2m   Use a production WSGI server instead.\u001b[0m\n",
      " * Debug mode: off\n"
     ]
    },
    {
     "name": "stderr",
     "output_type": "stream",
     "text": [
      " * Running on all addresses.\n",
      "   WARNING: This is a development server. Do not use it in a production deployment.\n",
      " * Running on http://192.168.0.111:8005/ (Press CTRL+C to quit)\n",
      "[2022-09-24 10:28:18,300] ERROR in app: Exception on / [GET]\n",
      "Traceback (most recent call last):\n",
      "  File \"/Library/Frameworks/Python.framework/Versions/3.6/lib/python3.6/site-packages/flask/app.py\", line 2073, in wsgi_app\n",
      "    response = self.full_dispatch_request()\n",
      "  File \"/Library/Frameworks/Python.framework/Versions/3.6/lib/python3.6/site-packages/flask/app.py\", line 1518, in full_dispatch_request\n",
      "    rv = self.handle_user_exception(e)\n",
      "  File \"/Library/Frameworks/Python.framework/Versions/3.6/lib/python3.6/site-packages/flask/app.py\", line 1516, in full_dispatch_request\n",
      "    rv = self.dispatch_request()\n",
      "  File \"/Library/Frameworks/Python.framework/Versions/3.6/lib/python3.6/site-packages/flask/app.py\", line 1502, in dispatch_request\n",
      "    return self.ensure_sync(self.view_functions[rule.endpoint])(**req.view_args)\n",
      "  File \"<ipython-input-24-4b6264b118b0>\", line 13, in hello\n",
      "    return render_template('testing.html')\n",
      "  File \"/Library/Frameworks/Python.framework/Versions/3.6/lib/python3.6/site-packages/flask/templating.py\", line 148, in render_template\n",
      "    ctx.app.jinja_env.get_or_select_template(template_name_or_list),\n",
      "  File \"/Library/Frameworks/Python.framework/Versions/3.6/lib/python3.6/site-packages/jinja2/environment.py\", line 1068, in get_or_select_template\n",
      "    return self.get_template(template_name_or_list, parent, globals)\n",
      "  File \"/Library/Frameworks/Python.framework/Versions/3.6/lib/python3.6/site-packages/jinja2/environment.py\", line 997, in get_template\n",
      "    return self._load_template(name, globals)\n",
      "  File \"/Library/Frameworks/Python.framework/Versions/3.6/lib/python3.6/site-packages/jinja2/environment.py\", line 958, in _load_template\n",
      "    template = self.loader.load(self, name, self.make_globals(globals))\n",
      "  File \"/Library/Frameworks/Python.framework/Versions/3.6/lib/python3.6/site-packages/jinja2/loaders.py\", line 125, in load\n",
      "    source, filename, uptodate = self.get_source(environment, name)\n",
      "  File \"/Library/Frameworks/Python.framework/Versions/3.6/lib/python3.6/site-packages/flask/templating.py\", line 59, in get_source\n",
      "    return self._get_source_fast(environment, template)\n",
      "  File \"/Library/Frameworks/Python.framework/Versions/3.6/lib/python3.6/site-packages/flask/templating.py\", line 95, in _get_source_fast\n",
      "    raise TemplateNotFound(template)\n",
      "jinja2.exceptions.TemplateNotFound: testing.html\n",
      "192.168.0.111 - - [24/Sep/2022 10:28:18] \"\u001b[35m\u001b[1mGET / HTTP/1.1\u001b[0m\" 500 -\n",
      "192.168.0.111 - - [24/Sep/2022 10:28:18] \"\u001b[33mGET /favicon.ico HTTP/1.1\u001b[0m\" 404 -\n"
     ]
    }
   ],
   "source": [
    "import pymysql\n",
    "from flask import Flask, render_template, url_for, redirect, request\n",
    "\n",
    "db = pymysql.connect(host=\"localhost\", user=\"root\", passwd=\"Admin@123\", db=\"testDB\")\n",
    "\n",
    "cur = db.cursor()\n",
    "\n",
    "app=Flask(__name__)\n",
    "\n",
    "@app.route('/', methods=['POST', 'GET'])\n",
    "def hello():\n",
    "    if request.method == 'GET':\n",
    "        return render_template('testing.html')\n",
    "    elif request.method == 'POST':\n",
    "        na = request.form['img']\n",
    "        cur.execute(\"SELECT Passport_Number FROM testDB.PassportDetails where Person_Id = {}\".format(na))\n",
    "        kwargs = {'name': cur.fetchone()[0], }\n",
    "        return render_template(\"testing.html\", **kwargs)\n",
    "\n",
    "@app.route('/testing', methods=['GET'])\n",
    "def test():\n",
    "    if request.method == 'GET':\n",
    "        return render_template(\"hello.html\")\n",
    "\n",
    "\n",
    "@app.route('/play')\n",
    "def playing():\n",
    "    # return redirect(url_for('test'))\n",
    "    return redirect('testing')\n",
    "\n",
    "\n",
    "if __name__ == '__main__':\n",
    "    app.run(host=\"0.0.0.0\", port=8005)"
   ]
  },
  {
   "cell_type": "markdown",
   "id": "intensive-casting",
   "metadata": {},
   "source": [
    "### ML Implementation"
   ]
  },
  {
   "cell_type": "markdown",
   "id": "piano-party",
   "metadata": {},
   "source": [
    "#### Linear regression"
   ]
  },
  {
   "cell_type": "code",
   "execution_count": 25,
   "id": "killing-recycling",
   "metadata": {},
   "outputs": [],
   "source": [
    "import pandas as pd\n",
    "import numpy as np\n",
    "\n",
    "from sklearn.linear_model import LinearRegression\n",
    "from sklearn.model_selection import train_test_split\n",
    "\n",
    "from sklearn.metrics import mean_squared_error"
   ]
  },
  {
   "cell_type": "code",
   "execution_count": 58,
   "id": "ordered-clark",
   "metadata": {},
   "outputs": [],
   "source": [
    "# load dataset\n",
    "dataset = pd.read_csv(\"./Advertising.csv\")"
   ]
  },
  {
   "cell_type": "code",
   "execution_count": 59,
   "id": "enabling-teaching",
   "metadata": {},
   "outputs": [
    {
     "data": {
      "text/html": [
       "<div>\n",
       "<style scoped>\n",
       "    .dataframe tbody tr th:only-of-type {\n",
       "        vertical-align: middle;\n",
       "    }\n",
       "\n",
       "    .dataframe tbody tr th {\n",
       "        vertical-align: top;\n",
       "    }\n",
       "\n",
       "    .dataframe thead th {\n",
       "        text-align: right;\n",
       "    }\n",
       "</style>\n",
       "<table border=\"1\" class=\"dataframe\">\n",
       "  <thead>\n",
       "    <tr style=\"text-align: right;\">\n",
       "      <th></th>\n",
       "      <th>Unnamed: 0</th>\n",
       "      <th>TV</th>\n",
       "      <th>radio</th>\n",
       "      <th>newspaper</th>\n",
       "      <th>sales</th>\n",
       "    </tr>\n",
       "  </thead>\n",
       "  <tbody>\n",
       "    <tr>\n",
       "      <th>0</th>\n",
       "      <td>1</td>\n",
       "      <td>230.1</td>\n",
       "      <td>37.8</td>\n",
       "      <td>69.2</td>\n",
       "      <td>22.1</td>\n",
       "    </tr>\n",
       "    <tr>\n",
       "      <th>1</th>\n",
       "      <td>2</td>\n",
       "      <td>44.5</td>\n",
       "      <td>39.3</td>\n",
       "      <td>45.1</td>\n",
       "      <td>10.4</td>\n",
       "    </tr>\n",
       "    <tr>\n",
       "      <th>2</th>\n",
       "      <td>3</td>\n",
       "      <td>17.2</td>\n",
       "      <td>45.9</td>\n",
       "      <td>69.3</td>\n",
       "      <td>9.3</td>\n",
       "    </tr>\n",
       "    <tr>\n",
       "      <th>3</th>\n",
       "      <td>4</td>\n",
       "      <td>151.5</td>\n",
       "      <td>41.3</td>\n",
       "      <td>58.5</td>\n",
       "      <td>18.5</td>\n",
       "    </tr>\n",
       "    <tr>\n",
       "      <th>4</th>\n",
       "      <td>5</td>\n",
       "      <td>180.8</td>\n",
       "      <td>10.8</td>\n",
       "      <td>58.4</td>\n",
       "      <td>12.9</td>\n",
       "    </tr>\n",
       "  </tbody>\n",
       "</table>\n",
       "</div>"
      ],
      "text/plain": [
       "   Unnamed: 0     TV  radio  newspaper  sales\n",
       "0           1  230.1   37.8       69.2   22.1\n",
       "1           2   44.5   39.3       45.1   10.4\n",
       "2           3   17.2   45.9       69.3    9.3\n",
       "3           4  151.5   41.3       58.5   18.5\n",
       "4           5  180.8   10.8       58.4   12.9"
      ]
     },
     "execution_count": 59,
     "metadata": {},
     "output_type": "execute_result"
    }
   ],
   "source": [
    "dataset.head()"
   ]
  },
  {
   "cell_type": "code",
   "execution_count": 29,
   "id": "accurate-graduate",
   "metadata": {},
   "outputs": [
    {
     "data": {
      "text/plain": [
       "(200, 5)"
      ]
     },
     "execution_count": 29,
     "metadata": {},
     "output_type": "execute_result"
    }
   ],
   "source": [
    "dataset.shape"
   ]
  },
  {
   "cell_type": "code",
   "execution_count": 28,
   "id": "lovely-nudist",
   "metadata": {},
   "outputs": [],
   "source": [
    "x = dataset[['TV','radio', 'newspaper']]\n",
    "y = dataset['sales']"
   ]
  },
  {
   "cell_type": "code",
   "execution_count": 69,
   "id": "herbal-assumption",
   "metadata": {},
   "outputs": [],
   "source": [
    "# split the dataset\n",
    "xtrain,xtest,ytrain,ytest = train_test_split(x,y,test_size=0.1,random_state=3)"
   ]
  },
  {
   "cell_type": "code",
   "execution_count": 70,
   "id": "southwest-penny",
   "metadata": {},
   "outputs": [
    {
     "data": {
      "text/plain": [
       "((180, 3), (20, 3))"
      ]
     },
     "execution_count": 70,
     "metadata": {},
     "output_type": "execute_result"
    }
   ],
   "source": [
    "xtrain.shape, xtest.shape"
   ]
  },
  {
   "cell_type": "code",
   "execution_count": 71,
   "id": "former-maker",
   "metadata": {},
   "outputs": [
    {
     "data": {
      "text/html": [
       "<div>\n",
       "<style scoped>\n",
       "    .dataframe tbody tr th:only-of-type {\n",
       "        vertical-align: middle;\n",
       "    }\n",
       "\n",
       "    .dataframe tbody tr th {\n",
       "        vertical-align: top;\n",
       "    }\n",
       "\n",
       "    .dataframe thead th {\n",
       "        text-align: right;\n",
       "    }\n",
       "</style>\n",
       "<table border=\"1\" class=\"dataframe\">\n",
       "  <thead>\n",
       "    <tr style=\"text-align: right;\">\n",
       "      <th></th>\n",
       "      <th>TV</th>\n",
       "      <th>radio</th>\n",
       "      <th>newspaper</th>\n",
       "    </tr>\n",
       "  </thead>\n",
       "  <tbody>\n",
       "    <tr>\n",
       "      <th>14</th>\n",
       "      <td>204.1</td>\n",
       "      <td>32.9</td>\n",
       "      <td>46.0</td>\n",
       "    </tr>\n",
       "    <tr>\n",
       "      <th>143</th>\n",
       "      <td>104.6</td>\n",
       "      <td>5.7</td>\n",
       "      <td>34.4</td>\n",
       "    </tr>\n",
       "    <tr>\n",
       "      <th>12</th>\n",
       "      <td>23.8</td>\n",
       "      <td>35.1</td>\n",
       "      <td>65.9</td>\n",
       "    </tr>\n",
       "    <tr>\n",
       "      <th>6</th>\n",
       "      <td>57.5</td>\n",
       "      <td>32.8</td>\n",
       "      <td>23.5</td>\n",
       "    </tr>\n",
       "    <tr>\n",
       "      <th>182</th>\n",
       "      <td>56.2</td>\n",
       "      <td>5.7</td>\n",
       "      <td>29.7</td>\n",
       "    </tr>\n",
       "  </tbody>\n",
       "</table>\n",
       "</div>"
      ],
      "text/plain": [
       "        TV  radio  newspaper\n",
       "14   204.1   32.9       46.0\n",
       "143  104.6    5.7       34.4\n",
       "12    23.8   35.1       65.9\n",
       "6     57.5   32.8       23.5\n",
       "182   56.2    5.7       29.7"
      ]
     },
     "execution_count": 71,
     "metadata": {},
     "output_type": "execute_result"
    }
   ],
   "source": [
    "xtrain.head()"
   ]
  },
  {
   "cell_type": "code",
   "execution_count": 72,
   "id": "received-warner",
   "metadata": {},
   "outputs": [],
   "source": [
    "# define a model\n",
    "model = LinearRegressmodel.fit(xtrain, ytrain)ion()"
   ]
  },
  {
   "cell_type": "code",
   "execution_count": 73,
   "id": "crazy-multiple",
   "metadata": {},
   "outputs": [
    {
     "data": {
      "text/plain": [
       "LinearRegression()"
      ]
     },
     "execution_count": 73,
     "metadata": {},
     "output_type": "execute_result"
    }
   ],
   "source": [
    "# training\n",
    "model.fit(xtrain, ytrain)"
   ]
  },
  {
   "cell_type": "code",
   "execution_count": 74,
   "id": "distributed-nancy",
   "metadata": {},
   "outputs": [],
   "source": [
    "# cross validation\n",
    "ypred = model.predict(xtest)"
   ]
  },
  {
   "cell_type": "code",
   "execution_count": 75,
   "id": "facial-celebration",
   "metadata": {},
   "outputs": [
    {
     "data": {
      "text/plain": [
       "array([16.36528856,  9.36728585, 19.60016013, 12.82613894,  7.39981865,\n",
       "       10.1507892 , 24.04453141,  8.88249258, 17.73452864, 13.92017011,\n",
       "       12.41500687, 14.30821082, 15.67855222, 12.39670494, 12.3866775 ,\n",
       "       12.01417423, 16.25354153, 17.49832766, 17.23760224, 21.79013094])"
      ]
     },
     "execution_count": 75,
     "metadata": {},
     "output_type": "execute_result"
    }
   ],
   "source": [
    "ypred"
   ]
  },
  {
   "cell_type": "code",
   "execution_count": 76,
   "id": "ideal-temple",
   "metadata": {},
   "outputs": [
    {
     "data": {
      "text/plain": [
       "40     16.6\n",
       "51     10.7\n",
       "139    20.7\n",
       "197    12.8\n",
       "170     8.4\n",
       "82     11.3\n",
       "183    26.2\n",
       "46     10.6\n",
       "70     18.3\n",
       "100    11.7\n",
       "179    12.6\n",
       "83     13.6\n",
       "25     12.0\n",
       "190    10.8\n",
       "159    12.9\n",
       "173    11.7\n",
       "95     16.9\n",
       "3      18.5\n",
       "41     17.1\n",
       "58     23.8\n",
       "Name: sales, dtype: float64"
      ]
     },
     "execution_count": 76,
     "metadata": {},
     "output_type": "execute_result"
    }
   ],
   "source": [
    "ytest"
   ]
  },
  {
   "cell_type": "code",
   "execution_count": 77,
   "id": "governing-deployment",
   "metadata": {},
   "outputs": [
    {
     "data": {
      "text/plain": [
       "1.4259444766605733"
      ]
     },
     "execution_count": 77,
     "metadata": {},
     "output_type": "execute_result"
    }
   ],
   "source": [
    "np.sqrt(mean_squared_error(ytest, ypred))"
   ]
  },
  {
   "cell_type": "code",
   "execution_count": 79,
   "id": "balanced-electronics",
   "metadata": {},
   "outputs": [
    {
     "data": {
      "text/plain": [
       "array([26.07098143])"
      ]
     },
     "execution_count": 79,
     "metadata": {},
     "output_type": "execute_result"
    }
   ],
   "source": [
    "model.predict([[100,100,10]])"
   ]
  },
  {
   "cell_type": "code",
   "execution_count": 2,
   "id": "latter-stamp",
   "metadata": {},
   "outputs": [],
   "source": [
    "import pickle"
   ]
  },
  {
   "cell_type": "code",
   "execution_count": 82,
   "id": "weekly-terry",
   "metadata": {},
   "outputs": [],
   "source": [
    "pickle.dump(model, open(\"advertisingModel.pkl\", 'wb'))"
   ]
  },
  {
   "cell_type": "code",
   "execution_count": 3,
   "id": "coordinate-surgery",
   "metadata": {},
   "outputs": [],
   "source": [
    "model = pickle.load(open(\"advertisingModel.pkl\", 'rb'))"
   ]
  },
  {
   "cell_type": "code",
   "execution_count": 4,
   "id": "aggregate-cornwall",
   "metadata": {},
   "outputs": [
    {
     "data": {
      "text/plain": [
       "array([26.07098143])"
      ]
     },
     "execution_count": 4,
     "metadata": {},
     "output_type": "execute_result"
    }
   ],
   "source": [
    "model.predict([[100,100,10]])"
   ]
  },
  {
   "cell_type": "code",
   "execution_count": 5,
   "id": "integrated-syntax",
   "metadata": {},
   "outputs": [
    {
     "name": "stdout",
     "output_type": "stream",
     "text": [
      " * Serving Flask app '__main__' (lazy loading)\n",
      " * Environment: production\n",
      "\u001b[31m   WARNING: This is a development server. Do not use it in a production deployment.\u001b[0m\n",
      "\u001b[2m   Use a production WSGI server instead.\u001b[0m\n",
      " * Debug mode: off\n"
     ]
    },
    {
     "name": "stderr",
     "output_type": "stream",
     "text": [
      " * Running on all addresses.\n",
      "   WARNING: This is a development server. Do not use it in a production deployment.\n",
      " * Running on http://192.168.0.202:8000/ (Press CTRL+C to quit)\n",
      "192.168.0.202 - - [24/Sep/2022 11:17:22] \"POST /predict HTTP/1.1\" 200 -\n",
      "192.168.0.202 - - [24/Sep/2022 11:17:27] \"\u001b[31m\u001b[1mGET /predict HTTP/1.1\u001b[0m\" 405 -\n",
      "192.168.0.202 - - [24/Sep/2022 11:17:33] \"POST /predict HTTP/1.1\" 200 -\n",
      "192.168.0.202 - - [24/Sep/2022 11:17:40] \"POST /predict HTTP/1.1\" 200 -\n"
     ]
    }
   ],
   "source": [
    "import json\n",
    "import pickle\n",
    "from flask import Flask, request, jsonify\n",
    "\n",
    "app = Flask(__name__)\n",
    "\n",
    "@app.route('/predict', methods=['POST'])\n",
    "def prediction():\n",
    "    if request.method == \"POST\":\n",
    "        data = request.get_json()\n",
    "        sales = model.predict([data['investAmount']])\n",
    "        resp = {\"sales\": sales[0]}\n",
    "        return jsonify(resp)\n",
    "\n",
    "if __name__ == '__main__':\n",
    "    fileName = \"advertisingModel.pkl\"\n",
    "    model = pickle.load(open(fileName,'rb'))\n",
    "    app.run(host=\"0.0.0.0\", port=8000)"
   ]
  },
  {
   "cell_type": "markdown",
   "id": "broadband-hands",
   "metadata": {},
   "source": [
    "#### AWS lambda Deployment"
   ]
  },
  {
   "cell_type": "code",
   "execution_count": null,
   "id": "meaning-collector",
   "metadata": {},
   "outputs": [],
   "source": [
    "import json\n",
    "import pandas as pd\n",
    "import math\n",
    "import pickle\n",
    "from sklearn.linear_model import LinearRegression\n",
    "from sklearn.model_selection import train_test_split\n",
    "\n",
    "from sklearn.metrics import mean_squared_error\n",
    "\n",
    "import boto3\n",
    "\n",
    "client = boto3.client('s3')\n",
    "s3 = boto3.resource('s3')\n",
    "bucket = s3.Bucket(\"agentz-ml-local\")\n",
    "\n",
    "    \n",
    "def lambda_handler(event, context):\n",
    "    print(event)\n",
    "    if event[\"requestContext\"]['http']['method'] == \"GET\":\n",
    "        print(\"Training\")\n",
    "        dataset = pd.read_csv(\"./Advertising.csv\")\n",
    "        x = dataset[['TV','radio', 'newspaper']]\n",
    "        y = dataset['sales']\n",
    "        xtrain,xtest,ytrain,ytest = train_test_split(x,y,test_size=0.1,random_state=3)\n",
    "        model = LinearRegression()\n",
    "        model.fit(xtrain, ytrain)\n",
    "        ypred = model.predict(xtest)\n",
    "        error = math.sqrt(mean_squared_error(ytest, ypred))\n",
    "        print(\"Error : {}\".format(error))\n",
    "        pickle.dump(model, open(\"/tmp/advertisingModel.pkl\", 'wb'))\n",
    "        \n",
    "        with open(\"/tmp/advertisingModel.pkl\", 'rb') as data:\n",
    "            bucket.put_object(Key=\"advertisingModel.pkl\", Body=data)\n",
    "        \n",
    "        return {\n",
    "            'status': \"Training is done\",\n",
    "            'error' : \"\"\n",
    "        }\n",
    "\n",
    "    elif event[\"requestContext\"]['http']['method'] == \"POST\":\n",
    "        data = json.loads(event['body'])\n",
    "        client.download_file(\"agentz-ml-local\", \"advertisingModel.pkl\", \"/tmp/advertisingModel.pkl\")\n",
    "        \n",
    "        fileName = \"/tmp/advertisingModel.pkl\"\n",
    "        model = pickle.load(open(fileName,'rb'))\n",
    "        sales = model.predict([data['investAmount']])\n",
    "        resp = {\"sales\": int(sales[0])}\n",
    "        return resp"
   ]
  },
  {
   "cell_type": "markdown",
   "id": "powered-daniel",
   "metadata": {},
   "source": [
    "#####  layers\n",
    "arn:aws:lambda:us-east-2:446751924810:layer:python-3-7-scikit-learn-0-23-0:2\n",
    "\n",
    "arn:aws:lambda:us-east-2:113088814899:layer:Klayers-python37-pandas:22\n",
    "\n"
   ]
  },
  {
   "cell_type": "markdown",
   "id": "internal-garage",
   "metadata": {},
   "source": [
    "##### Reference\n",
    "\n",
    "1. https://docs.aws.amazon.com/lambda/latest/dg/python-handler.html\n",
    "2. https://aws.amazon.com/getting-started/hands-on/run-serverless-code/\n",
    "3. https://towardsdatascience.com/deploying-sklearn-machine-learning-on-aws-lambda-with-sam-8cc69ee04f47"
   ]
  },
  {
   "cell_type": "markdown",
   "id": "touched-perfume",
   "metadata": {},
   "source": [
    "#### AWS EC2"
   ]
  },
  {
   "cell_type": "code",
   "execution_count": null,
   "id": "limited-chaos",
   "metadata": {},
   "outputs": [],
   "source": [
    "import json\n",
    "import pickle\n",
    "import pandas as pd\n",
    "import math\n",
    "\n",
    "from sklearn.linear_model import LinearRegression\n",
    "from sklearn.model_selection import train_test_split\n",
    "from sklearn.metrics import mean_squared_error\n",
    "\n",
    "from flask import Flask, request, jsonify\n",
    "\n",
    "app = Flask(__name__)\n",
    "\n",
    "@app.route('/train', methods=['GET'])\n",
    "def training():\n",
    "    if request.method == \"GET\":\n",
    "        dataset = pd.read_csv(\"./Advertising.csv\")\n",
    "        x = dataset[['TV','radio', 'newspaper']]\n",
    "        y = dataset['sales']\n",
    "        xtrain,xtest,ytrain,ytest = train_test_split(x,y,test_size=0.1,random_state=3)\n",
    "        model = LinearRegression()\n",
    "        model.fit(xtrain, ytrain)\n",
    "        ypred = model.predict(xtest)\n",
    "        error = math.sqrt(mean_squared_error(ytest, ypred))\n",
    "        pickle.dump(model, open(\"./advertisingModel.pkl\", 'wb'))\n",
    "        return {\n",
    "            'status': \"Training is done\",\n",
    "            'error' : \"\"\n",
    "        }\n",
    "    \n",
    "@app.route('/predict', methods=['POST'])\n",
    "def prediction():\n",
    "    if request.method == \"POST\":\n",
    "        data = request.get_json()\n",
    "        fileName = \"advertisingModel.pkl\"\n",
    "        model = pickle.load(open(fileName,'rb'))\n",
    "        sales = model.predict([data['investAmount']])\n",
    "        resp = {\"sales\": sales[0]}\n",
    "        return jsonify(resp)\n",
    "\n",
    "if __name__ == '__main__':\n",
    "    app.run(host=\"0.0.0.0\", port=8000)"
   ]
  },
  {
   "cell_type": "markdown",
   "id": "mounted-society",
   "metadata": {},
   "source": [
    "##### Reference\n",
    "1. https://codethief.io/aws-connect-api-gateway-to-ec2/\n",
    "2. https://www.guru99.com/creating-amazon-ec2-instance.html"
   ]
  },
  {
   "cell_type": "markdown",
   "id": "intended-restaurant",
   "metadata": {},
   "source": [
    "### Logistic regression\n"
   ]
  },
  {
   "cell_type": "code",
   "execution_count": 4,
   "id": "growing-office",
   "metadata": {},
   "outputs": [],
   "source": [
    "#importing lib\n",
    "import pandas as pd\n",
    "import numpy as np\n",
    "\n",
    "from sklearn.model_selection import train_test_split\n",
    "from sklearn.linear_model import LogisticRegression\n",
    "from sklearn.metrics import accuracy_score\n",
    "\n",
    "from sklearn.feature_extraction.text import CountVectorizer\n",
    "\n",
    "from bs4 import BeautifulSoup\n",
    "from nltk.corpus import stopwords\n",
    "import re\n",
    "import string"
   ]
  },
  {
   "cell_type": "code",
   "execution_count": 5,
   "id": "other-cloud",
   "metadata": {},
   "outputs": [],
   "source": [
    "#initialization\n",
    "stop = stopwords.words('english')\n",
    "symbols = list(string.punctuation)"
   ]
  },
  {
   "cell_type": "code",
   "execution_count": 6,
   "id": "sonic-dispatch",
   "metadata": {},
   "outputs": [
    {
     "data": {
      "text/html": [
       "<div>\n",
       "<style scoped>\n",
       "    .dataframe tbody tr th:only-of-type {\n",
       "        vertical-align: middle;\n",
       "    }\n",
       "\n",
       "    .dataframe tbody tr th {\n",
       "        vertical-align: top;\n",
       "    }\n",
       "\n",
       "    .dataframe thead th {\n",
       "        text-align: right;\n",
       "    }\n",
       "</style>\n",
       "<table border=\"1\" class=\"dataframe\">\n",
       "  <thead>\n",
       "    <tr style=\"text-align: right;\">\n",
       "      <th></th>\n",
       "      <th>id</th>\n",
       "      <th>sentiment</th>\n",
       "      <th>review</th>\n",
       "    </tr>\n",
       "  </thead>\n",
       "  <tbody>\n",
       "    <tr>\n",
       "      <th>0</th>\n",
       "      <td>5814_8</td>\n",
       "      <td>1</td>\n",
       "      <td>With all this stuff going down at the moment w...</td>\n",
       "    </tr>\n",
       "    <tr>\n",
       "      <th>1</th>\n",
       "      <td>2381_9</td>\n",
       "      <td>1</td>\n",
       "      <td>\\The Classic War of the Worlds\\\" by Timothy Hi...</td>\n",
       "    </tr>\n",
       "    <tr>\n",
       "      <th>2</th>\n",
       "      <td>7759_3</td>\n",
       "      <td>0</td>\n",
       "      <td>The film starts with a manager (Nicholas Bell)...</td>\n",
       "    </tr>\n",
       "    <tr>\n",
       "      <th>3</th>\n",
       "      <td>3630_4</td>\n",
       "      <td>0</td>\n",
       "      <td>It must be assumed that those who praised this...</td>\n",
       "    </tr>\n",
       "    <tr>\n",
       "      <th>4</th>\n",
       "      <td>9495_8</td>\n",
       "      <td>1</td>\n",
       "      <td>Superbly trashy and wondrously unpretentious 8...</td>\n",
       "    </tr>\n",
       "  </tbody>\n",
       "</table>\n",
       "</div>"
      ],
      "text/plain": [
       "       id  sentiment                                             review\n",
       "0  5814_8          1  With all this stuff going down at the moment w...\n",
       "1  2381_9          1  \\The Classic War of the Worlds\\\" by Timothy Hi...\n",
       "2  7759_3          0  The film starts with a manager (Nicholas Bell)...\n",
       "3  3630_4          0  It must be assumed that those who praised this...\n",
       "4  9495_8          1  Superbly trashy and wondrously unpretentious 8..."
      ]
     },
     "execution_count": 6,
     "metadata": {},
     "output_type": "execute_result"
    }
   ],
   "source": [
    "#step-1 load dataset\n",
    "dataset = pd.read_csv(\"./labeledTrainData.tsv\",sep='\\t')\n",
    "dataset.head()"
   ]
  },
  {
   "cell_type": "code",
   "execution_count": 7,
   "id": "modified-cincinnati",
   "metadata": {},
   "outputs": [
    {
     "data": {
      "text/html": [
       "<div>\n",
       "<style scoped>\n",
       "    .dataframe tbody tr th:only-of-type {\n",
       "        vertical-align: middle;\n",
       "    }\n",
       "\n",
       "    .dataframe tbody tr th {\n",
       "        vertical-align: top;\n",
       "    }\n",
       "\n",
       "    .dataframe thead th {\n",
       "        text-align: right;\n",
       "    }\n",
       "</style>\n",
       "<table border=\"1\" class=\"dataframe\">\n",
       "  <thead>\n",
       "    <tr style=\"text-align: right;\">\n",
       "      <th></th>\n",
       "      <th>id</th>\n",
       "      <th>review</th>\n",
       "    </tr>\n",
       "    <tr>\n",
       "      <th>sentiment</th>\n",
       "      <th></th>\n",
       "      <th></th>\n",
       "    </tr>\n",
       "  </thead>\n",
       "  <tbody>\n",
       "    <tr>\n",
       "      <th>0</th>\n",
       "      <td>12500</td>\n",
       "      <td>12500</td>\n",
       "    </tr>\n",
       "    <tr>\n",
       "      <th>1</th>\n",
       "      <td>12500</td>\n",
       "      <td>12500</td>\n",
       "    </tr>\n",
       "  </tbody>\n",
       "</table>\n",
       "</div>"
      ],
      "text/plain": [
       "              id  review\n",
       "sentiment               \n",
       "0          12500   12500\n",
       "1          12500   12500"
      ]
     },
     "execution_count": 7,
     "metadata": {},
     "output_type": "execute_result"
    }
   ],
   "source": [
    "dataset.groupby(\"sentiment\").count()\n"
   ]
  },
  {
   "cell_type": "code",
   "execution_count": 8,
   "id": "related-temperature",
   "metadata": {},
   "outputs": [],
   "source": [
    "# step-1a preprocessing\n",
    "def cleaning(raw):\n",
    "    htmlFree = BeautifulSoup(raw, \"html.parser\")  # removing html tags\n",
    "#     print(htmlFree.get_text())\n",
    "#     print()\n",
    "#     removing numbers and others except small and capital alphabets\n",
    "    letters = re.sub(\"[^a-zA-Z]\", \" \", htmlFree.get_text())\n",
    "#     print(letters)\n",
    "#     print()\n",
    "    low = letters.lower()  # Converting everything to lower case\n",
    "    words = low.split()  # spiliting sentences into words\n",
    "#     print(words)\n",
    "#     print()\n",
    "    cleaned = [w for w in words if not w in stop]  # removing stopping words\n",
    "#     print(cleaned)\n",
    "#     print()\n",
    "    return ' '.join(cleaned)\n"
   ]
  },
  {
   "cell_type": "code",
   "execution_count": 9,
   "id": "usual-treatment",
   "metadata": {},
   "outputs": [
    {
     "data": {
      "text/plain": [
       "\"With all this stuff going down at the moment with MJ i've started listening to his music, watching the odd documentary here and there, watched The Wiz and watched Moonwalker again. Maybe i just want to get a certain insight into this guy who i thought was really cool in the eighties just to maybe make up my mind whether he is guilty or innocent. Moonwalker is part biography, part feature film which i remember going to see at the cinema when it was originally released. Some of it has subtle messages about MJ's feeling towards the press and also the obvious message of drugs are bad m'kay.<br /><br />Visually impressive but of course this is all about Michael Jackson so unless you remotely like MJ in anyway then you are going to hate this and find it boring. Some may call MJ an egotist for consenting to the making of this movie BUT MJ and most of his fans would say that he made it for the fans which if true is really nice of him.<br /><br />The actual feature film bit when it finally starts is only on for 20 minutes or so excluding the Smooth Criminal sequence and Joe Pesci is convincing as a psychopathic all powerful drug lord. Why he wants MJ dead so bad is beyond me. Because MJ overheard his plans? Nah, Joe Pesci's character ranted that he wanted people to know it is he who is supplying drugs etc so i dunno, maybe he just hates MJ's music.<br /><br />Lots of cool things in this like MJ turning into a car and a robot and the whole Speed Demon sequence. Also, the director must have had the patience of a saint when it came to filming the kiddy Bad sequence as usually directors hate working with one kid let alone a whole bunch of them performing a complex dance scene.<br /><br />Bottom line, this movie is for people who like MJ on one level or another (which i think is most people). If not, then stay away. It does try and give off a wholesome message and ironically MJ's bestest buddy in this movie is a girl! Michael Jackson is truly one of the most talented people ever to grace this planet but is he guilty? Well, with all the attention i've gave this subject....hmmm well i don't know because people can be different behind closed doors, i know this for a fact. He is either an extremely nice but stupid guy or one of the most sickest liars. I hope he is not the latter.\""
      ]
     },
     "execution_count": 9,
     "metadata": {},
     "output_type": "execute_result"
    }
   ],
   "source": [
    "dataset[\"review\"][0]"
   ]
  },
  {
   "cell_type": "code",
   "execution_count": 10,
   "id": "controlling-secretary",
   "metadata": {},
   "outputs": [
    {
     "data": {
      "text/plain": [
       "'stuff going moment mj started listening music watching odd documentary watched wiz watched moonwalker maybe want get certain insight guy thought really cool eighties maybe make mind whether guilty innocent moonwalker part biography part feature film remember going see cinema originally released subtle messages mj feeling towards press also obvious message drugs bad kay visually impressive course michael jackson unless remotely like mj anyway going hate find boring may call mj egotist consenting making movie mj fans would say made fans true really nice actual feature film bit finally starts minutes excluding smooth criminal sequence joe pesci convincing psychopathic powerful drug lord wants mj dead bad beyond mj overheard plans nah joe pesci character ranted wanted people know supplying drugs etc dunno maybe hates mj music lots cool things like mj turning car robot whole speed demon sequence also director must patience saint came filming kiddy bad sequence usually directors hate working one kid let alone whole bunch performing complex dance scene bottom line movie people like mj one level another think people stay away try give wholesome message ironically mj bestest buddy movie girl michael jackson truly one talented people ever grace planet guilty well attention gave subject hmmm well know people different behind closed doors know fact either extremely nice stupid guy one sickest liars hope latter'"
      ]
     },
     "execution_count": 10,
     "metadata": {},
     "output_type": "execute_result"
    }
   ],
   "source": [
    "cleaning(dataset[\"review\"][0])"
   ]
  },
  {
   "cell_type": "code",
   "execution_count": 11,
   "id": "uniform-omega",
   "metadata": {},
   "outputs": [],
   "source": [
    "x = list(map(cleaning, dataset['review']))\n",
    "y = dataset['sentiment']"
   ]
  },
  {
   "cell_type": "code",
   "execution_count": 12,
   "id": "corrected-radius",
   "metadata": {},
   "outputs": [],
   "source": [
    "#step-2 split dataset\n",
    "xtrain,xtest,ytrain,ytest = train_test_split(x,y,test_size=0.2,random_state=3)\n"
   ]
  },
  {
   "cell_type": "code",
   "execution_count": 13,
   "id": "electric-processor",
   "metadata": {},
   "outputs": [
    {
     "data": {
      "text/plain": [
       "(20000, 5000)"
      ]
     },
     "execution_count": 13,
     "metadata": {},
     "output_type": "execute_result"
    }
   ],
   "source": [
    "len(xtrain), len(xtest)"
   ]
  },
  {
   "cell_type": "code",
   "execution_count": 14,
   "id": "affecting-facility",
   "metadata": {},
   "outputs": [],
   "source": [
    "# step-2a vectorization\n",
    "vect = CountVectorizer(min_df=3, ngram_range=(1, 2)).fit(xtrain)\n",
    "X_train_vetorised = vect.transform(xtrain)"
   ]
  },
  {
   "cell_type": "code",
   "execution_count": 15,
   "id": "electrical-plumbing",
   "metadata": {},
   "outputs": [
    {
     "data": {
      "text/plain": [
       "<20000x143439 sparse matrix of type '<class 'numpy.int64'>'\n",
       "\twith 2759933 stored elements in Compressed Sparse Row format>"
      ]
     },
     "execution_count": 15,
     "metadata": {},
     "output_type": "execute_result"
    }
   ],
   "source": [
    "X_train_vetorised"
   ]
  },
  {
   "cell_type": "code",
   "execution_count": 16,
   "id": "applied-springfield",
   "metadata": {},
   "outputs": [
    {
     "data": {
      "text/plain": [
       "143439"
      ]
     },
     "execution_count": 16,
     "metadata": {},
     "output_type": "execute_result"
    }
   ],
   "source": [
    "len(vect.get_feature_names())"
   ]
  },
  {
   "cell_type": "code",
   "execution_count": 17,
   "id": "adaptive-happiness",
   "metadata": {},
   "outputs": [
    {
     "data": {
      "text/plain": [
       "('amateur', 'boys')"
      ]
     },
     "execution_count": 17,
     "metadata": {},
     "output_type": "execute_result"
    }
   ],
   "source": [
    "vect.get_feature_names()[4689], vect.get_feature_names()[14502]"
   ]
  },
  {
   "cell_type": "code",
   "execution_count": 18,
   "id": "boxed-underwear",
   "metadata": {},
   "outputs": [
    {
     "data": {
      "text/plain": [
       "'actor really like independent films one amateur best boys go vermont civil service yet plane lands flies palm tree directors aware palm trees vermont pines yes palms wedding service nice grove palm trees boys leaving vt apparently could get ticket major airline since plane filmed federal express ship overnight crate come guys little details like separate indi film totally amateur christian brother far gayer arthur bleached hair tribal band tattoo two switched roles minor characters laughable overact something terrible applause directors making gay film pay attention locations casting next time'"
      ]
     },
     "execution_count": 18,
     "metadata": {},
     "output_type": "execute_result"
    }
   ],
   "source": [
    "xtrain[0]"
   ]
  },
  {
   "cell_type": "code",
   "execution_count": 19,
   "id": "mysterious-insured",
   "metadata": {},
   "outputs": [
    {
     "name": "stdout",
     "output_type": "stream",
     "text": [
      "  (0, 1262)\t1\n",
      "  (0, 1351)\t1\n",
      "  (0, 2972)\t1\n",
      "  (0, 4689)\t2\n",
      "  (0, 4693)\t1\n",
      "  (0, 6537)\t1\n",
      "  (0, 6539)\t1\n",
      "  (0, 6688)\t1\n",
      "  (0, 7307)\t1\n",
      "  (0, 7922)\t1\n",
      "  (0, 8467)\t1\n",
      "  (0, 9829)\t1\n",
      "  (0, 11549)\t1\n",
      "  (0, 13215)\t1\n",
      "  (0, 14502)\t2\n",
      "  (0, 15248)\t1\n",
      "  (0, 17565)\t1\n",
      "  (0, 18855)\t1\n",
      "  (0, 19071)\t1\n",
      "  (0, 20217)\t1\n",
      "  (0, 20218)\t1\n",
      "  (0, 20635)\t1\n",
      "  (0, 21754)\t1\n",
      "  (0, 21819)\t1\n",
      "  (0, 24304)\t1\n",
      "  :\t:\n",
      "  (0, 94528)\t2\n",
      "  (0, 94533)\t1\n",
      "  (0, 101182)\t1\n",
      "  (0, 101480)\t1\n",
      "  (0, 105156)\t1\n",
      "  (0, 111199)\t1\n",
      "  (0, 111721)\t2\n",
      "  (0, 112643)\t1\n",
      "  (0, 114363)\t1\n",
      "  (0, 116220)\t1\n",
      "  (0, 116462)\t1\n",
      "  (0, 122985)\t1\n",
      "  (0, 123954)\t1\n",
      "  (0, 124625)\t1\n",
      "  (0, 127055)\t1\n",
      "  (0, 127159)\t1\n",
      "  (0, 128969)\t1\n",
      "  (0, 129678)\t1\n",
      "  (0, 129684)\t2\n",
      "  (0, 129747)\t1\n",
      "  (0, 131122)\t1\n",
      "  (0, 133960)\t2\n",
      "  (0, 137462)\t1\n",
      "  (0, 142719)\t1\n",
      "  (0, 142797)\t1\n"
     ]
    }
   ],
   "source": [
    "print(X_train_vetorised[0])"
   ]
  },
  {
   "cell_type": "code",
   "execution_count": 20,
   "id": "perceived-sculpture",
   "metadata": {},
   "outputs": [],
   "source": [
    "#step-3 define model  \n",
    "model = LogisticRegression(max_iter=300)"
   ]
  },
  {
   "cell_type": "code",
   "execution_count": 21,
   "id": "roman-cincinnati",
   "metadata": {},
   "outputs": [
    {
     "data": {
      "text/plain": [
       "LogisticRegression(max_iter=300)"
      ]
     },
     "execution_count": 21,
     "metadata": {},
     "output_type": "execute_result"
    }
   ],
   "source": [
    "# step-4 training\n",
    "model.fit(X_train_vetorised, ytrain)"
   ]
  },
  {
   "cell_type": "code",
   "execution_count": 22,
   "id": "identified-animation",
   "metadata": {},
   "outputs": [],
   "source": [
    "#step-7 testing\n",
    "ypred = model.predict(vect.transform(xtest))"
   ]
  },
  {
   "cell_type": "code",
   "execution_count": 23,
   "id": "earned-tuning",
   "metadata": {},
   "outputs": [
    {
     "data": {
      "text/plain": [
       "0.8882"
      ]
     },
     "execution_count": 23,
     "metadata": {},
     "output_type": "execute_result"
    }
   ],
   "source": [
    "# metrics\n",
    "accuracy_score(ypred,ytest)"
   ]
  },
  {
   "cell_type": "code",
   "execution_count": 24,
   "id": "incorporate-spank",
   "metadata": {},
   "outputs": [
    {
     "name": "stdout",
     "output_type": "stream",
     "text": [
      "Negative words :  ['worst' 'waste' 'boring' 'awful' 'poorly' 'disappointment' 'lacks'\n",
      " 'horrible' 'disappointing' 'mess']\n",
      "\n",
      "Positive words :  ['excellent' 'perfect' 'must see' 'superb' 'funniest' 'wonderfully'\n",
      " 'wonderful' 'refreshing' 'perfectly' 'favorite']\n"
     ]
    }
   ],
   "source": [
    "feature_name=np.array(vect.get_feature_names())\n",
    "sort_coeff=model.coef_[0].argsort()\n",
    "\n",
    "print (\"Negative words : \",format(feature_name[sort_coeff[:10]]))\n",
    "print()\n",
    "print (\"Positive words : \",format(feature_name[sort_coeff[:-11:-1]]))\n"
   ]
  },
  {
   "cell_type": "code",
   "execution_count": 7,
   "id": "cross-sunrise",
   "metadata": {},
   "outputs": [],
   "source": [
    "negativeReview = \"\"\"\n",
    "I would never label a Marvel film as \"uninteresting\" (except for the first two \"Thor\" installments) but this needless chapter gets close.\n",
    "\n",
    "While the MCU has never revolutionized the wheel in terms of storytelling, there at least has always been a sense of discovery and progression. \"Black Widow\" only spins its wheels doling out the same tired formula that has continually plagued the solo installments of the ever-expanding universe.\n",
    "\n",
    "Director Cate Shortland embraces the spy genre but doesn't offer anything interesting with the unlimited budget and talent at her disposal, with her greatest sin being the absolute wasting of Ray Winstone as one of the most pathetic MCU villains (already a low bar to begin with).\n",
    "\n",
    "Fortunately, the introduction of Florence Pugh as Yelena offers some semblance of hope in this new age of heroes.\n",
    "\"\"\""
   ]
  },
  {
   "cell_type": "code",
   "execution_count": 8,
   "id": "constitutional-testament",
   "metadata": {},
   "outputs": [],
   "source": [
    "positiveReview = \"\"\"\n",
    "First and foremost I didn't even know about Nambi Narayanan until movie was announced. What a shame. We need to seriously look at what we have been learning at schools and academics.\n",
    "\n",
    "This movie is a must watch for all Indians to know how a true patriotic has been stripped off all the achievements just on the basis of fake case. Madhvan is absolute brilliant and honest with his performance and so does the supporting cast. They have tried to inculcate all the major happenings of his life and journey and the setback.\n",
    "\n",
    "Kudos to entire team who have a winner in their hand. This movie should be encouraged and youth should get inspired to serve the country. Had Nambi sir didn't face those fake cases he would have been enjoying the same reputation as Dr Kalam.\n",
    "\n",
    "A man who is no less than a James Bond and did all this for the country and its people. Hail Nambi Sir!\n",
    "\"\"\""
   ]
  },
  {
   "cell_type": "code",
   "execution_count": 27,
   "id": "higher-judges",
   "metadata": {},
   "outputs": [
    {
     "data": {
      "text/plain": [
       "array([0])"
      ]
     },
     "execution_count": 27,
     "metadata": {},
     "output_type": "execute_result"
    }
   ],
   "source": [
    "model.predict(vect.transform([cleaning(negativeReview)]))"
   ]
  },
  {
   "cell_type": "code",
   "execution_count": 28,
   "id": "driven-dialogue",
   "metadata": {},
   "outputs": [
    {
     "data": {
      "text/plain": [
       "array([[0.80143248, 0.19856752]])"
      ]
     },
     "execution_count": 28,
     "metadata": {},
     "output_type": "execute_result"
    }
   ],
   "source": [
    "model.predict_proba(vect.transform([cleaning(negativeReview)]))"
   ]
  },
  {
   "cell_type": "code",
   "execution_count": 29,
   "id": "lesser-coaching",
   "metadata": {},
   "outputs": [
    {
     "data": {
      "text/plain": [
       "array([1])"
      ]
     },
     "execution_count": 29,
     "metadata": {},
     "output_type": "execute_result"
    }
   ],
   "source": [
    "model.predict(vect.transform([cleaning(positiveReview)]))"
   ]
  },
  {
   "cell_type": "code",
   "execution_count": 30,
   "id": "superb-guide",
   "metadata": {},
   "outputs": [
    {
     "data": {
      "text/plain": [
       "array([[0.22957663, 0.77042337]])"
      ]
     },
     "execution_count": 30,
     "metadata": {},
     "output_type": "execute_result"
    }
   ],
   "source": [
    "model.predict_proba(vect.transform([cleaning(positiveReview)]))"
   ]
  },
  {
   "cell_type": "code",
   "execution_count": 31,
   "id": "studied-split",
   "metadata": {},
   "outputs": [
    {
     "data": {
      "text/plain": [
       "array([0, 1])"
      ]
     },
     "execution_count": 31,
     "metadata": {},
     "output_type": "execute_result"
    }
   ],
   "source": [
    "model.classes_"
   ]
  },
  {
   "cell_type": "code",
   "execution_count": 32,
   "id": "outside-watts",
   "metadata": {},
   "outputs": [],
   "source": [
    "import pickle\n",
    "\n",
    "pickle.dump(vect, open(\"vect.pkl\", 'wb'))\n",
    "pickle.dump(model, open(\"sentimentModel.pkl\", 'wb'))"
   ]
  },
  {
   "cell_type": "code",
   "execution_count": 1,
   "id": "equal-girlfriend",
   "metadata": {},
   "outputs": [],
   "source": [
    "import pickle\n",
    "\n",
    "vect = pickle.load(open(\"vect.pkl\", 'rb'))\n",
    "model = pickle.load(open(\"sentimentModel.pkl\", 'rb'))"
   ]
  },
  {
   "cell_type": "code",
   "execution_count": 3,
   "id": "desirable-discussion",
   "metadata": {},
   "outputs": [],
   "source": [
    "from bs4 import BeautifulSoup\n",
    "from nltk.corpus import stopwords\n",
    "import re\n",
    "import string"
   ]
  },
  {
   "cell_type": "code",
   "execution_count": 5,
   "id": "quick-merchant",
   "metadata": {},
   "outputs": [],
   "source": [
    "stop = stopwords.words('english')"
   ]
  },
  {
   "cell_type": "code",
   "execution_count": 6,
   "id": "owned-agenda",
   "metadata": {},
   "outputs": [],
   "source": [
    "def cleaning(raw):\n",
    "    htmlFree = BeautifulSoup(raw, \"html.parser\")  # removing html tags\n",
    "    letters = re.sub(\"[^a-zA-Z]\", \" \", htmlFree.get_text())\n",
    "    low = letters.lower()  # Converting everything to lower case\n",
    "    words = low.split()  # spiliting sentences into words\n",
    "    cleaned = [w for w in words if not w in stop]  # removing stopping words\n",
    "    return ' '.join(cleaned)"
   ]
  },
  {
   "cell_type": "code",
   "execution_count": 11,
   "id": "racial-dallas",
   "metadata": {},
   "outputs": [
    {
     "data": {
      "text/plain": [
       "0"
      ]
     },
     "execution_count": 11,
     "metadata": {},
     "output_type": "execute_result"
    }
   ],
   "source": [
    "model.predict(vect.transform([cleaning(negativeReview)]))[0]"
   ]
  },
  {
   "cell_type": "code",
   "execution_count": 13,
   "id": "complicated-knitting",
   "metadata": {},
   "outputs": [
    {
     "data": {
      "text/plain": [
       "0.8014324835150758"
      ]
     },
     "execution_count": 13,
     "metadata": {},
     "output_type": "execute_result"
    }
   ],
   "source": [
    "max(model.predict_proba(vect.transform([cleaning(negativeReview)]))[0])"
   ]
  },
  {
   "cell_type": "markdown",
   "id": "environmental-internet",
   "metadata": {},
   "source": [
    "List of DL algorithms\n",
    "\n",
    "    VNN -> vectors -> MLP\n",
    "    CNN -> image -> ResNet, LeNet, Alexnet, inception V1, DenseNet, ImageNet\n",
    "    RNN -> text -> LSTM, GRU, Bi-LSTM, DMN, DCN"
   ]
  },
  {
   "cell_type": "markdown",
   "id": "therapeutic-electronics",
   "metadata": {},
   "source": [
    "Learning path\n",
    "\n",
    "* python\n",
    "* Statistics\n",
    "* Linear algebra\n",
    "* Calculus\n",
    "* AI\n",
    "* ML and implement\n",
    "* DL and Implement\n",
    "* Deployment"
   ]
  },
  {
   "cell_type": "code",
   "execution_count": 7,
   "id": "proprietary-large",
   "metadata": {},
   "outputs": [],
   "source": [
    "### MLP\n",
    "from tensorflow.keras.datasets import mnist\n",
    "from tensorflow.keras.layers import * \n",
    "from tensorflow.keras.models import Sequential\n",
    "from tensorflow.keras.optimizers import RMSprop, Adam\n",
    "from tensorflow.keras.utils import to_categorical"
   ]
  },
  {
   "cell_type": "code",
   "execution_count": 8,
   "id": "angry-efficiency",
   "metadata": {},
   "outputs": [],
   "source": [
    "(X_train, y_train), (X_test, y_test) = mnist.load_data()"
   ]
  },
  {
   "cell_type": "code",
   "execution_count": 9,
   "id": "protective-tomato",
   "metadata": {},
   "outputs": [
    {
     "data": {
      "text/plain": [
       "((60000, 28, 28), (10000, 28, 28))"
      ]
     },
     "execution_count": 9,
     "metadata": {},
     "output_type": "execute_result"
    }
   ],
   "source": [
    "X_train.shape, X_test.shape"
   ]
  },
  {
   "cell_type": "code",
   "execution_count": 10,
   "id": "bored-treasure",
   "metadata": {},
   "outputs": [],
   "source": [
    "from PIL import Image\n",
    "img = Image.fromarray(X_train[0])\n",
    "img.show()"
   ]
  },
  {
   "cell_type": "code",
   "execution_count": 11,
   "id": "dress-judgment",
   "metadata": {},
   "outputs": [
    {
     "data": {
      "text/plain": [
       "<Figure size 640x480 with 1 Axes>"
      ]
     },
     "metadata": {},
     "output_type": "display_data"
    }
   ],
   "source": [
    "import matplotlib.pyplot as plt\n",
    "plt.imshow(X_train[0])\n",
    "plt.show()"
   ]
  },
  {
   "cell_type": "code",
   "execution_count": 12,
   "id": "premium-search",
   "metadata": {},
   "outputs": [],
   "source": [
    "X_train = X_train.reshape(60000, 784)\n",
    "X_test = X_test.reshape(10000, 784)"
   ]
  },
  {
   "cell_type": "code",
   "execution_count": 13,
   "id": "fatal-satellite",
   "metadata": {},
   "outputs": [],
   "source": [
    "X_train = X_train.astype(float)\n",
    "X_test = X_test.astype(float)"
   ]
  },
  {
   "cell_type": "code",
   "execution_count": 14,
   "id": "powerful-edmonton",
   "metadata": {},
   "outputs": [
    {
     "data": {
      "text/plain": [
       "((60000, 784), (10000, 784))"
      ]
     },
     "execution_count": 14,
     "metadata": {},
     "output_type": "execute_result"
    }
   ],
   "source": [
    "X_train.shape, X_test.shape"
   ]
  },
  {
   "cell_type": "code",
   "execution_count": 15,
   "id": "toxic-bottom",
   "metadata": {},
   "outputs": [
    {
     "data": {
      "text/plain": [
       "array([  0.,   0.,   0.,   0.,   0.,   0.,   0.,   0.,   0.,   0.,   0.,\n",
       "         0.,   0.,   0.,   0.,   0.,   0.,   0.,   0.,   0.,   0.,   0.,\n",
       "         0.,   0.,   0.,   0.,   0.,   0.,   0.,   0.,   0.,   0.,   0.,\n",
       "         0.,   0.,   0.,   0.,   0.,   0.,   0.,   0.,   0.,   0.,   0.,\n",
       "         0.,   0.,   0.,   0.,   0.,   0.,   0.,   0.,   0.,   0.,   0.,\n",
       "         0.,   0.,   0.,   0.,   0.,   0.,   0.,   0.,   0.,   0.,   0.,\n",
       "         0.,   0.,   0.,   0.,   0.,   0.,   0.,   0.,   0.,   0.,   0.,\n",
       "         0.,   0.,   0.,   0.,   0.,   0.,   0.,   0.,   0.,   0.,   0.,\n",
       "         0.,   0.,   0.,   0.,   0.,   0.,   0.,   0.,   0.,   0.,   0.,\n",
       "         0.,   0.,   0.,   0.,   0.,   0.,   0.,   0.,   0.,   0.,   0.,\n",
       "         0.,   0.,   0.,   0.,   0.,   0.,   0.,   0.,   0.,   0.,   0.,\n",
       "         0.,   0.,   0.,   0.,   0.,   0.,   0.,   0.,   0.,   0.,   0.,\n",
       "         0.,   0.,   0.,   0.,   0.,   0.,   0.,   0.,   0.,   0.,   0.,\n",
       "         0.,   0.,   0.,   0.,   0.,   0.,   0.,   0.,   0.,   3.,  18.,\n",
       "        18.,  18., 126., 136., 175.,  26., 166., 255., 247., 127.,   0.,\n",
       "         0.,   0.,   0.,   0.,   0.,   0.,   0.,   0.,   0.,   0.,   0.,\n",
       "        30.,  36.,  94., 154., 170., 253., 253., 253., 253., 253., 225.,\n",
       "       172., 253., 242., 195.,  64.,   0.,   0.,   0.,   0.,   0.,   0.,\n",
       "         0.,   0.,   0.,   0.,   0.,  49., 238., 253., 253., 253., 253.,\n",
       "       253., 253., 253., 253., 251.,  93.,  82.,  82.,  56.,  39.,   0.,\n",
       "         0.,   0.,   0.,   0.,   0.,   0.,   0.,   0.,   0.,   0.,   0.,\n",
       "        18., 219., 253., 253., 253., 253., 253., 198., 182., 247., 241.,\n",
       "         0.,   0.,   0.,   0.,   0.,   0.,   0.,   0.,   0.,   0.,   0.,\n",
       "         0.,   0.,   0.,   0.,   0.,   0.,   0.,  80., 156., 107., 253.,\n",
       "       253., 205.,  11.,   0.,  43., 154.,   0.,   0.,   0.,   0.,   0.,\n",
       "         0.,   0.,   0.,   0.,   0.,   0.,   0.,   0.,   0.,   0.,   0.,\n",
       "         0.,   0.,   0.,  14.,   1., 154., 253.,  90.,   0.,   0.,   0.,\n",
       "         0.,   0.,   0.,   0.,   0.,   0.,   0.,   0.,   0.,   0.,   0.,\n",
       "         0.,   0.,   0.,   0.,   0.,   0.,   0.,   0.,   0.,   0.,   0.,\n",
       "       139., 253., 190.,   2.,   0.,   0.,   0.,   0.,   0.,   0.,   0.,\n",
       "         0.,   0.,   0.,   0.,   0.,   0.,   0.,   0.,   0.,   0.,   0.,\n",
       "         0.,   0.,   0.,   0.,   0.,   0.,  11., 190., 253.,  70.,   0.,\n",
       "         0.,   0.,   0.,   0.,   0.,   0.,   0.,   0.,   0.,   0.,   0.,\n",
       "         0.,   0.,   0.,   0.,   0.,   0.,   0.,   0.,   0.,   0.,   0.,\n",
       "         0.,   0.,  35., 241., 225., 160., 108.,   1.,   0.,   0.,   0.,\n",
       "         0.,   0.,   0.,   0.,   0.,   0.,   0.,   0.,   0.,   0.,   0.,\n",
       "         0.,   0.,   0.,   0.,   0.,   0.,   0.,   0.,   0.,  81., 240.,\n",
       "       253., 253., 119.,  25.,   0.,   0.,   0.,   0.,   0.,   0.,   0.,\n",
       "         0.,   0.,   0.,   0.,   0.,   0.,   0.,   0.,   0.,   0.,   0.,\n",
       "         0.,   0.,   0.,   0.,   0.,  45., 186., 253., 253., 150.,  27.,\n",
       "         0.,   0.,   0.,   0.,   0.,   0.,   0.,   0.,   0.,   0.,   0.,\n",
       "         0.,   0.,   0.,   0.,   0.,   0.,   0.,   0.,   0.,   0.,   0.,\n",
       "         0.,  16.,  93., 252., 253., 187.,   0.,   0.,   0.,   0.,   0.,\n",
       "         0.,   0.,   0.,   0.,   0.,   0.,   0.,   0.,   0.,   0.,   0.,\n",
       "         0.,   0.,   0.,   0.,   0.,   0.,   0.,   0.,   0., 249., 253.,\n",
       "       249.,  64.,   0.,   0.,   0.,   0.,   0.,   0.,   0.,   0.,   0.,\n",
       "         0.,   0.,   0.,   0.,   0.,   0.,   0.,   0.,   0.,   0.,   0.,\n",
       "         0.,  46., 130., 183., 253., 253., 207.,   2.,   0.,   0.,   0.,\n",
       "         0.,   0.,   0.,   0.,   0.,   0.,   0.,   0.,   0.,   0.,   0.,\n",
       "         0.,   0.,   0.,   0.,   0.,  39., 148., 229., 253., 253., 253.,\n",
       "       250., 182.,   0.,   0.,   0.,   0.,   0.,   0.,   0.,   0.,   0.,\n",
       "         0.,   0.,   0.,   0.,   0.,   0.,   0.,   0.,   0.,  24., 114.,\n",
       "       221., 253., 253., 253., 253., 201.,  78.,   0.,   0.,   0.,   0.,\n",
       "         0.,   0.,   0.,   0.,   0.,   0.,   0.,   0.,   0.,   0.,   0.,\n",
       "         0.,   0.,  23.,  66., 213., 253., 253., 253., 253., 198.,  81.,\n",
       "         2.,   0.,   0.,   0.,   0.,   0.,   0.,   0.,   0.,   0.,   0.,\n",
       "         0.,   0.,   0.,   0.,   0.,   0.,  18., 171., 219., 253., 253.,\n",
       "       253., 253., 195.,  80.,   9.,   0.,   0.,   0.,   0.,   0.,   0.,\n",
       "         0.,   0.,   0.,   0.,   0.,   0.,   0.,   0.,   0.,   0.,  55.,\n",
       "       172., 226., 253., 253., 253., 253., 244., 133.,  11.,   0.,   0.,\n",
       "         0.,   0.,   0.,   0.,   0.,   0.,   0.,   0.,   0.,   0.,   0.,\n",
       "         0.,   0.,   0.,   0.,   0., 136., 253., 253., 253., 212., 135.,\n",
       "       132.,  16.,   0.,   0.,   0.,   0.,   0.,   0.,   0.,   0.,   0.,\n",
       "         0.,   0.,   0.,   0.,   0.,   0.,   0.,   0.,   0.,   0.,   0.,\n",
       "         0.,   0.,   0.,   0.,   0.,   0.,   0.,   0.,   0.,   0.,   0.,\n",
       "         0.,   0.,   0.,   0.,   0.,   0.,   0.,   0.,   0.,   0.,   0.,\n",
       "         0.,   0.,   0.,   0.,   0.,   0.,   0.,   0.,   0.,   0.,   0.,\n",
       "         0.,   0.,   0.,   0.,   0.,   0.,   0.,   0.,   0.,   0.,   0.,\n",
       "         0.,   0.,   0.,   0.,   0.,   0.,   0.,   0.,   0.,   0.,   0.,\n",
       "         0.,   0.,   0.,   0.,   0.,   0.,   0.,   0.,   0.,   0.,   0.,\n",
       "         0.,   0.,   0.,   0.,   0.,   0.,   0.,   0.,   0.,   0.,   0.,\n",
       "         0.,   0.,   0.])"
      ]
     },
     "execution_count": 15,
     "metadata": {},
     "output_type": "execute_result"
    }
   ],
   "source": [
    "X_train[0]"
   ]
  },
  {
   "cell_type": "code",
   "execution_count": 16,
   "id": "expired-victim",
   "metadata": {},
   "outputs": [],
   "source": [
    "X_train /= 255\n",
    "X_test /= 255"
   ]
  },
  {
   "cell_type": "code",
   "execution_count": 17,
   "id": "worth-serum",
   "metadata": {},
   "outputs": [
    {
     "data": {
      "text/plain": [
       "array([0.        , 0.        , 0.        , 0.        , 0.        ,\n",
       "       0.        , 0.        , 0.        , 0.        , 0.        ,\n",
       "       0.        , 0.        , 0.        , 0.        , 0.        ,\n",
       "       0.        , 0.        , 0.        , 0.        , 0.        ,\n",
       "       0.        , 0.        , 0.        , 0.        , 0.        ,\n",
       "       0.        , 0.        , 0.        , 0.        , 0.        ,\n",
       "       0.        , 0.        , 0.        , 0.        , 0.        ,\n",
       "       0.        , 0.        , 0.        , 0.        , 0.        ,\n",
       "       0.        , 0.        , 0.        , 0.        , 0.        ,\n",
       "       0.        , 0.        , 0.        , 0.        , 0.        ,\n",
       "       0.        , 0.        , 0.        , 0.        , 0.        ,\n",
       "       0.        , 0.        , 0.        , 0.        , 0.        ,\n",
       "       0.        , 0.        , 0.        , 0.        , 0.        ,\n",
       "       0.        , 0.        , 0.        , 0.        , 0.        ,\n",
       "       0.        , 0.        , 0.        , 0.        , 0.        ,\n",
       "       0.        , 0.        , 0.        , 0.        , 0.        ,\n",
       "       0.        , 0.        , 0.        , 0.        , 0.        ,\n",
       "       0.        , 0.        , 0.        , 0.        , 0.        ,\n",
       "       0.        , 0.        , 0.        , 0.        , 0.        ,\n",
       "       0.        , 0.        , 0.        , 0.        , 0.        ,\n",
       "       0.        , 0.        , 0.        , 0.        , 0.        ,\n",
       "       0.        , 0.        , 0.        , 0.        , 0.        ,\n",
       "       0.        , 0.        , 0.        , 0.        , 0.        ,\n",
       "       0.        , 0.        , 0.        , 0.        , 0.        ,\n",
       "       0.        , 0.        , 0.        , 0.        , 0.        ,\n",
       "       0.        , 0.        , 0.        , 0.        , 0.        ,\n",
       "       0.        , 0.        , 0.        , 0.        , 0.        ,\n",
       "       0.        , 0.        , 0.        , 0.        , 0.        ,\n",
       "       0.        , 0.        , 0.        , 0.        , 0.        ,\n",
       "       0.        , 0.        , 0.        , 0.        , 0.        ,\n",
       "       0.        , 0.        , 0.01176471, 0.07058824, 0.07058824,\n",
       "       0.07058824, 0.49411765, 0.53333333, 0.68627451, 0.10196078,\n",
       "       0.65098039, 1.        , 0.96862745, 0.49803922, 0.        ,\n",
       "       0.        , 0.        , 0.        , 0.        , 0.        ,\n",
       "       0.        , 0.        , 0.        , 0.        , 0.        ,\n",
       "       0.        , 0.11764706, 0.14117647, 0.36862745, 0.60392157,\n",
       "       0.66666667, 0.99215686, 0.99215686, 0.99215686, 0.99215686,\n",
       "       0.99215686, 0.88235294, 0.6745098 , 0.99215686, 0.94901961,\n",
       "       0.76470588, 0.25098039, 0.        , 0.        , 0.        ,\n",
       "       0.        , 0.        , 0.        , 0.        , 0.        ,\n",
       "       0.        , 0.        , 0.        , 0.19215686, 0.93333333,\n",
       "       0.99215686, 0.99215686, 0.99215686, 0.99215686, 0.99215686,\n",
       "       0.99215686, 0.99215686, 0.99215686, 0.98431373, 0.36470588,\n",
       "       0.32156863, 0.32156863, 0.21960784, 0.15294118, 0.        ,\n",
       "       0.        , 0.        , 0.        , 0.        , 0.        ,\n",
       "       0.        , 0.        , 0.        , 0.        , 0.        ,\n",
       "       0.        , 0.07058824, 0.85882353, 0.99215686, 0.99215686,\n",
       "       0.99215686, 0.99215686, 0.99215686, 0.77647059, 0.71372549,\n",
       "       0.96862745, 0.94509804, 0.        , 0.        , 0.        ,\n",
       "       0.        , 0.        , 0.        , 0.        , 0.        ,\n",
       "       0.        , 0.        , 0.        , 0.        , 0.        ,\n",
       "       0.        , 0.        , 0.        , 0.        , 0.        ,\n",
       "       0.31372549, 0.61176471, 0.41960784, 0.99215686, 0.99215686,\n",
       "       0.80392157, 0.04313725, 0.        , 0.16862745, 0.60392157,\n",
       "       0.        , 0.        , 0.        , 0.        , 0.        ,\n",
       "       0.        , 0.        , 0.        , 0.        , 0.        ,\n",
       "       0.        , 0.        , 0.        , 0.        , 0.        ,\n",
       "       0.        , 0.        , 0.        , 0.        , 0.05490196,\n",
       "       0.00392157, 0.60392157, 0.99215686, 0.35294118, 0.        ,\n",
       "       0.        , 0.        , 0.        , 0.        , 0.        ,\n",
       "       0.        , 0.        , 0.        , 0.        , 0.        ,\n",
       "       0.        , 0.        , 0.        , 0.        , 0.        ,\n",
       "       0.        , 0.        , 0.        , 0.        , 0.        ,\n",
       "       0.        , 0.        , 0.        , 0.        , 0.54509804,\n",
       "       0.99215686, 0.74509804, 0.00784314, 0.        , 0.        ,\n",
       "       0.        , 0.        , 0.        , 0.        , 0.        ,\n",
       "       0.        , 0.        , 0.        , 0.        , 0.        ,\n",
       "       0.        , 0.        , 0.        , 0.        , 0.        ,\n",
       "       0.        , 0.        , 0.        , 0.        , 0.        ,\n",
       "       0.        , 0.        , 0.04313725, 0.74509804, 0.99215686,\n",
       "       0.2745098 , 0.        , 0.        , 0.        , 0.        ,\n",
       "       0.        , 0.        , 0.        , 0.        , 0.        ,\n",
       "       0.        , 0.        , 0.        , 0.        , 0.        ,\n",
       "       0.        , 0.        , 0.        , 0.        , 0.        ,\n",
       "       0.        , 0.        , 0.        , 0.        , 0.        ,\n",
       "       0.        , 0.1372549 , 0.94509804, 0.88235294, 0.62745098,\n",
       "       0.42352941, 0.00392157, 0.        , 0.        , 0.        ,\n",
       "       0.        , 0.        , 0.        , 0.        , 0.        ,\n",
       "       0.        , 0.        , 0.        , 0.        , 0.        ,\n",
       "       0.        , 0.        , 0.        , 0.        , 0.        ,\n",
       "       0.        , 0.        , 0.        , 0.        , 0.        ,\n",
       "       0.31764706, 0.94117647, 0.99215686, 0.99215686, 0.46666667,\n",
       "       0.09803922, 0.        , 0.        , 0.        , 0.        ,\n",
       "       0.        , 0.        , 0.        , 0.        , 0.        ,\n",
       "       0.        , 0.        , 0.        , 0.        , 0.        ,\n",
       "       0.        , 0.        , 0.        , 0.        , 0.        ,\n",
       "       0.        , 0.        , 0.        , 0.        , 0.17647059,\n",
       "       0.72941176, 0.99215686, 0.99215686, 0.58823529, 0.10588235,\n",
       "       0.        , 0.        , 0.        , 0.        , 0.        ,\n",
       "       0.        , 0.        , 0.        , 0.        , 0.        ,\n",
       "       0.        , 0.        , 0.        , 0.        , 0.        ,\n",
       "       0.        , 0.        , 0.        , 0.        , 0.        ,\n",
       "       0.        , 0.        , 0.        , 0.0627451 , 0.36470588,\n",
       "       0.98823529, 0.99215686, 0.73333333, 0.        , 0.        ,\n",
       "       0.        , 0.        , 0.        , 0.        , 0.        ,\n",
       "       0.        , 0.        , 0.        , 0.        , 0.        ,\n",
       "       0.        , 0.        , 0.        , 0.        , 0.        ,\n",
       "       0.        , 0.        , 0.        , 0.        , 0.        ,\n",
       "       0.        , 0.        , 0.        , 0.97647059, 0.99215686,\n",
       "       0.97647059, 0.25098039, 0.        , 0.        , 0.        ,\n",
       "       0.        , 0.        , 0.        , 0.        , 0.        ,\n",
       "       0.        , 0.        , 0.        , 0.        , 0.        ,\n",
       "       0.        , 0.        , 0.        , 0.        , 0.        ,\n",
       "       0.        , 0.        , 0.        , 0.18039216, 0.50980392,\n",
       "       0.71764706, 0.99215686, 0.99215686, 0.81176471, 0.00784314,\n",
       "       0.        , 0.        , 0.        , 0.        , 0.        ,\n",
       "       0.        , 0.        , 0.        , 0.        , 0.        ,\n",
       "       0.        , 0.        , 0.        , 0.        , 0.        ,\n",
       "       0.        , 0.        , 0.        , 0.        , 0.15294118,\n",
       "       0.58039216, 0.89803922, 0.99215686, 0.99215686, 0.99215686,\n",
       "       0.98039216, 0.71372549, 0.        , 0.        , 0.        ,\n",
       "       0.        , 0.        , 0.        , 0.        , 0.        ,\n",
       "       0.        , 0.        , 0.        , 0.        , 0.        ,\n",
       "       0.        , 0.        , 0.        , 0.        , 0.        ,\n",
       "       0.09411765, 0.44705882, 0.86666667, 0.99215686, 0.99215686,\n",
       "       0.99215686, 0.99215686, 0.78823529, 0.30588235, 0.        ,\n",
       "       0.        , 0.        , 0.        , 0.        , 0.        ,\n",
       "       0.        , 0.        , 0.        , 0.        , 0.        ,\n",
       "       0.        , 0.        , 0.        , 0.        , 0.        ,\n",
       "       0.        , 0.09019608, 0.25882353, 0.83529412, 0.99215686,\n",
       "       0.99215686, 0.99215686, 0.99215686, 0.77647059, 0.31764706,\n",
       "       0.00784314, 0.        , 0.        , 0.        , 0.        ,\n",
       "       0.        , 0.        , 0.        , 0.        , 0.        ,\n",
       "       0.        , 0.        , 0.        , 0.        , 0.        ,\n",
       "       0.        , 0.        , 0.07058824, 0.67058824, 0.85882353,\n",
       "       0.99215686, 0.99215686, 0.99215686, 0.99215686, 0.76470588,\n",
       "       0.31372549, 0.03529412, 0.        , 0.        , 0.        ,\n",
       "       0.        , 0.        , 0.        , 0.        , 0.        ,\n",
       "       0.        , 0.        , 0.        , 0.        , 0.        ,\n",
       "       0.        , 0.        , 0.        , 0.21568627, 0.6745098 ,\n",
       "       0.88627451, 0.99215686, 0.99215686, 0.99215686, 0.99215686,\n",
       "       0.95686275, 0.52156863, 0.04313725, 0.        , 0.        ,\n",
       "       0.        , 0.        , 0.        , 0.        , 0.        ,\n",
       "       0.        , 0.        , 0.        , 0.        , 0.        ,\n",
       "       0.        , 0.        , 0.        , 0.        , 0.        ,\n",
       "       0.        , 0.53333333, 0.99215686, 0.99215686, 0.99215686,\n",
       "       0.83137255, 0.52941176, 0.51764706, 0.0627451 , 0.        ,\n",
       "       0.        , 0.        , 0.        , 0.        , 0.        ,\n",
       "       0.        , 0.        , 0.        , 0.        , 0.        ,\n",
       "       0.        , 0.        , 0.        , 0.        , 0.        ,\n",
       "       0.        , 0.        , 0.        , 0.        , 0.        ,\n",
       "       0.        , 0.        , 0.        , 0.        , 0.        ,\n",
       "       0.        , 0.        , 0.        , 0.        , 0.        ,\n",
       "       0.        , 0.        , 0.        , 0.        , 0.        ,\n",
       "       0.        , 0.        , 0.        , 0.        , 0.        ,\n",
       "       0.        , 0.        , 0.        , 0.        , 0.        ,\n",
       "       0.        , 0.        , 0.        , 0.        , 0.        ,\n",
       "       0.        , 0.        , 0.        , 0.        , 0.        ,\n",
       "       0.        , 0.        , 0.        , 0.        , 0.        ,\n",
       "       0.        , 0.        , 0.        , 0.        , 0.        ,\n",
       "       0.        , 0.        , 0.        , 0.        , 0.        ,\n",
       "       0.        , 0.        , 0.        , 0.        , 0.        ,\n",
       "       0.        , 0.        , 0.        , 0.        , 0.        ,\n",
       "       0.        , 0.        , 0.        , 0.        , 0.        ,\n",
       "       0.        , 0.        , 0.        , 0.        , 0.        ,\n",
       "       0.        , 0.        , 0.        , 0.        , 0.        ,\n",
       "       0.        , 0.        , 0.        , 0.        ])"
      ]
     },
     "execution_count": 17,
     "metadata": {},
     "output_type": "execute_result"
    }
   ],
   "source": [
    "X_train[0]"
   ]
  },
  {
   "cell_type": "code",
   "execution_count": 18,
   "id": "classified-region",
   "metadata": {},
   "outputs": [
    {
     "data": {
      "image/png": "[encoded data removed]",
      "text/plain": [
       "<Figure size 432x288 with 1 Axes>"
      ]
     },
     "metadata": {
      "needs_background": "light"
     },
     "output_type": "display_data"
    }
   ],
   "source": [
    "plt.imshow(X_train[0].reshape((28,28)))\n",
    "plt.show()"
   ]
  },
  {
   "cell_type": "code",
   "execution_count": 19,
   "id": "moved-interpretation",
   "metadata": {},
   "outputs": [
    {
     "data": {
      "text/plain": [
       "5"
      ]
     },
     "execution_count": 19,
     "metadata": {},
     "output_type": "execute_result"
    }
   ],
   "source": [
    "y_train[0]"
   ]
  },
  {
   "cell_type": "code",
   "execution_count": 20,
   "id": "anonymous-defendant",
   "metadata": {},
   "outputs": [],
   "source": [
    "y_train = to_categorical(y_train, num_classes=10)\n",
    "y_test = to_categorical(y_test, num_classes=10)"
   ]
  },
  {
   "cell_type": "code",
   "execution_count": 21,
   "id": "convenient-facility",
   "metadata": {},
   "outputs": [
    {
     "data": {
      "text/plain": [
       "array([[0., 0., 0., ..., 0., 0., 0.],\n",
       "       [1., 0., 0., ..., 0., 0., 0.],\n",
       "       [0., 0., 0., ..., 0., 0., 0.],\n",
       "       ...,\n",
       "       [0., 0., 0., ..., 0., 0., 0.],\n",
       "       [0., 0., 0., ..., 0., 0., 0.],\n",
       "       [0., 0., 0., ..., 0., 1., 0.]], dtype=float32)"
      ]
     },
     "execution_count": 21,
     "metadata": {},
     "output_type": "execute_result"
    }
   ],
   "source": [
    "y_train"
   ]
  },
  {
   "cell_type": "code",
   "execution_count": 22,
   "id": "soviet-clearing",
   "metadata": {},
   "outputs": [],
   "source": [
    "model = Sequential()\n",
    "\n",
    "model.add(Dense(128, input_shape=(784,)))\n",
    "\n",
    "model.add(Dense(128))\n",
    "model.add(Activation('relu'))\n",
    "\n",
    "model.add(Dense(128))\n",
    "model.add(Activation('relu'))\n",
    "\n",
    "model.add(Dense(10))\n",
    "model.add(Activation('softmax'))\n",
    "model.compile(loss='categorical_crossentropy', optimizer=Adam(), metrics=['accuracy'])\n"
   ]
  },
  {
   "cell_type": "code",
   "execution_count": 23,
   "id": "confirmed-titanium",
   "metadata": {},
   "outputs": [
    {
     "name": "stdout",
     "output_type": "stream",
     "text": [
      "_________________________________________________________________\n",
      "Layer (type)                 Output Shape              Param #   \n",
      "=================================================================\n",
      "dense (Dense)                (None, 128)               100480    \n",
      "_________________________________________________________________\n",
      "dense_1 (Dense)              (None, 128)               16512     \n",
      "_________________________________________________________________\n",
      "activation (Activation)      (None, 128)               0         \n",
      "_________________________________________________________________\n",
      "dense_2 (Dense)              (None, 128)               16512     \n",
      "_________________________________________________________________\n",
      "activation_1 (Activation)    (None, 128)               0         \n",
      "_________________________________________________________________\n",
      "dense_3 (Dense)              (None, 10)                1290      \n",
      "_________________________________________________________________\n",
      "activation_2 (Activation)    (None, 10)                0         \n",
      "=================================================================\n",
      "Total params: 134,794\n",
      "Trainable params: 134,794\n",
      "Non-trainable params: 0\n",
      "_________________________________________________________________\n"
     ]
    }
   ],
   "source": [
    "model.summary()"
   ]
  },
  {
   "cell_type": "code",
   "execution_count": 24,
   "id": "sonic-locking",
   "metadata": {},
   "outputs": [
    {
     "name": "stdout",
     "output_type": "stream",
     "text": [
      "Train on 54000 samples, validate on 6000 samples\n",
      "Epoch 1/30\n",
      "54000/54000 [==============================] - 4s 82us/sample - loss: 0.2539 - acc: 0.9238 - val_loss: 0.1243 - val_acc: 0.9615\n",
      "Epoch 2/30\n",
      "54000/54000 [==============================] - 4s 79us/sample - loss: 0.1225 - acc: 0.9628 - val_loss: 0.0987 - val_acc: 0.9697\n",
      "Epoch 3/30\n",
      "54000/54000 [==============================] - 5s 86us/sample - loss: 0.0920 - acc: 0.9706 - val_loss: 0.0851 - val_acc: 0.9747\n",
      "Epoch 4/30\n",
      "54000/54000 [==============================] - 4s 74us/sample - loss: 0.0742 - acc: 0.9774 - val_loss: 0.0780 - val_acc: 0.9777\n",
      "Epoch 5/30\n",
      "54000/54000 [==============================] - 4s 70us/sample - loss: 0.0642 - acc: 0.9791 - val_loss: 0.0779 - val_acc: 0.9783\n",
      "Epoch 6/30\n",
      "54000/54000 [==============================] - 4s 69us/sample - loss: 0.0571 - acc: 0.9820 - val_loss: 0.0940 - val_acc: 0.9745\n",
      "Epoch 7/30\n",
      "54000/54000 [==============================] - 4s 67us/sample - loss: 0.0505 - acc: 0.9836 - val_loss: 0.1274 - val_acc: 0.9665\n",
      "Epoch 8/30\n",
      "54000/54000 [==============================] - 4s 70us/sample - loss: 0.0468 - acc: 0.9847 - val_loss: 0.0902 - val_acc: 0.9768\n",
      "Epoch 9/30\n",
      "54000/54000 [==============================] - 4s 68us/sample - loss: 0.0407 - acc: 0.9864 - val_loss: 0.0951 - val_acc: 0.9760\n",
      "Epoch 10/30\n",
      "54000/54000 [==============================] - 4s 68us/sample - loss: 0.0415 - acc: 0.9867 - val_loss: 0.1101 - val_acc: 0.9747\n",
      "Epoch 11/30\n",
      "54000/54000 [==============================] - 4s 69us/sample - loss: 0.0378 - acc: 0.9876 - val_loss: 0.1067 - val_acc: 0.9765\n",
      "Epoch 12/30\n",
      "54000/54000 [==============================] - 4s 69us/sample - loss: 0.0375 - acc: 0.9883 - val_loss: 0.1210 - val_acc: 0.9747\n",
      "Epoch 13/30\n",
      "54000/54000 [==============================] - 4s 68us/sample - loss: 0.0337 - acc: 0.9893 - val_loss: 0.1057 - val_acc: 0.9787\n",
      "Epoch 14/30\n",
      "54000/54000 [==============================] - 4s 69us/sample - loss: 0.0318 - acc: 0.9903 - val_loss: 0.1130 - val_acc: 0.9775\n",
      "Epoch 15/30\n",
      "54000/54000 [==============================] - 4s 68us/sample - loss: 0.0315 - acc: 0.9898 - val_loss: 0.1050 - val_acc: 0.9792\n",
      "Epoch 16/30\n",
      "54000/54000 [==============================] - 4s 68us/sample - loss: 0.0342 - acc: 0.9898 - val_loss: 0.1092 - val_acc: 0.9768\n",
      "Epoch 17/30\n",
      "54000/54000 [==============================] - 4s 69us/sample - loss: 0.0297 - acc: 0.9911 - val_loss: 0.1422 - val_acc: 0.9730\n",
      "Epoch 18/30\n",
      "54000/54000 [==============================] - 4s 68us/sample - loss: 0.0301 - acc: 0.9909 - val_loss: 0.1107 - val_acc: 0.9805\n",
      "Epoch 19/30\n",
      "54000/54000 [==============================] - 4s 68us/sample - loss: 0.0326 - acc: 0.9903 - val_loss: 0.1101 - val_acc: 0.9787\n",
      "Epoch 20/30\n",
      "54000/54000 [==============================] - 4s 69us/sample - loss: 0.0238 - acc: 0.9929 - val_loss: 0.1362 - val_acc: 0.9747\n",
      "Epoch 21/30\n",
      "54000/54000 [==============================] - 4s 68us/sample - loss: 0.0310 - acc: 0.9916 - val_loss: 0.1588 - val_acc: 0.9710\n",
      "Epoch 22/30\n",
      "54000/54000 [==============================] - 4s 68us/sample - loss: 0.0274 - acc: 0.9922 - val_loss: 0.1414 - val_acc: 0.9793\n",
      "Epoch 23/30\n",
      "54000/54000 [==============================] - 4s 69us/sample - loss: 0.0286 - acc: 0.9919 - val_loss: 0.1559 - val_acc: 0.9752\n",
      "Epoch 24/30\n",
      "54000/54000 [==============================] - 4s 68us/sample - loss: 0.0243 - acc: 0.9932 - val_loss: 0.1093 - val_acc: 0.9823\n",
      "Epoch 25/30\n",
      "54000/54000 [==============================] - 4s 68us/sample - loss: 0.0247 - acc: 0.9930 - val_loss: 0.1009 - val_acc: 0.9817\n",
      "Epoch 26/30\n",
      "54000/54000 [==============================] - 4s 70us/sample - loss: 0.0300 - acc: 0.9923 - val_loss: 0.1622 - val_acc: 0.9758\n",
      "Epoch 27/30\n",
      "54000/54000 [==============================] - 4s 68us/sample - loss: 0.0253 - acc: 0.9931 - val_loss: 0.1435 - val_acc: 0.9768\n",
      "Epoch 28/30\n",
      "54000/54000 [==============================] - 4s 69us/sample - loss: 0.0240 - acc: 0.9934 - val_loss: 0.1262 - val_acc: 0.9788\n",
      "Epoch 29/30\n",
      "54000/54000 [==============================] - 4s 69us/sample - loss: 0.0248 - acc: 0.9930 - val_loss: 0.1409 - val_acc: 0.9793\n",
      "Epoch 30/30\n",
      "54000/54000 [==============================] - 4s 69us/sample - loss: 0.0240 - acc: 0.9935 - val_loss: 0.1478 - val_acc: 0.9780\n"
     ]
    },
    {
     "data": {
      "text/plain": [
       "<tensorflow.python.keras.callbacks.History at 0x7fba22ccf588>"
      ]
     },
     "execution_count": 24,
     "metadata": {},
     "output_type": "execute_result"
    }
   ],
   "source": [
    "model.fit(X_train, y_train, epochs=30, validation_split=0.1)"
   ]
  },
  {
   "cell_type": "code",
   "execution_count": 25,
   "id": "otherwise-degree",
   "metadata": {},
   "outputs": [
    {
     "name": "stdout",
     "output_type": "stream",
     "text": [
      "10000/10000 [==============================] - 0s 26us/sample - loss: 0.1683 - acc: 0.9739\n",
      "Test accuracy: 0.9739\n"
     ]
    }
   ],
   "source": [
    "score = model.evaluate(X_test, y_test)\n",
    "\n",
    "print('Test accuracy:', score[1])"
   ]
  },
  {
   "cell_type": "code",
   "execution_count": 27,
   "id": "revised-insulation",
   "metadata": {},
   "outputs": [],
   "source": [
    "import cv2"
   ]
  },
  {
   "cell_type": "code",
   "execution_count": 49,
   "id": "loved-virus",
   "metadata": {},
   "outputs": [],
   "source": [
    "img = cv2.imread(\"./Deep_Learning/zeros.png\",0)"
   ]
  },
  {
   "cell_type": "code",
   "execution_count": 60,
   "id": "italian-operations",
   "metadata": {},
   "outputs": [],
   "source": [
    "img = cv2.imread(\"./Deep_Learning/second.png\",0)"
   ]
  },
  {
   "cell_type": "code",
   "execution_count": 61,
   "id": "experimental-somewhere",
   "metadata": {},
   "outputs": [
    {
     "data": {
      "image/png": "[encoded data removed]",
      "text/plain": [
       "<Figure size 432x288 with 1 Axes>"
      ]
     },
     "metadata": {
      "needs_background": "light"
     },
     "output_type": "display_data"
    }
   ],
   "source": [
    "plt.imshow(img)\n",
    "plt.show()"
   ]
  },
  {
   "cell_type": "code",
   "execution_count": 62,
   "id": "arabic-novelty",
   "metadata": {},
   "outputs": [],
   "source": [
    "invert = cv2.bitwise_not(img)"
   ]
  },
  {
   "cell_type": "code",
   "execution_count": 63,
   "id": "adopted-block",
   "metadata": {},
   "outputs": [
    {
     "data": {
      "image/png": "[encoded data removed]",
      "text/plain": [
       "<Figure size 432x288 with 1 Axes>"
      ]
     },
     "metadata": {
      "needs_background": "light"
     },
     "output_type": "display_data"
    }
   ],
   "source": [
    "plt.imshow(invert)\n",
    "plt.show()"
   ]
  },
  {
   "cell_type": "code",
   "execution_count": 64,
   "id": "lonely-excellence",
   "metadata": {},
   "outputs": [],
   "source": [
    "testImg = cv2.resize(invert, (28,28)).reshape(1, 784)"
   ]
  },
  {
   "cell_type": "code",
   "execution_count": 65,
   "id": "aging-providence",
   "metadata": {},
   "outputs": [
    {
     "data": {
      "text/plain": [
       "(1, 784)"
      ]
     },
     "execution_count": 65,
     "metadata": {},
     "output_type": "execute_result"
    }
   ],
   "source": [
    "testImg.shape"
   ]
  },
  {
   "cell_type": "code",
   "execution_count": 66,
   "id": "impressive-borough",
   "metadata": {},
   "outputs": [
    {
     "data": {
      "image/png": "[encoded data removed]",
      "text/plain": [
       "<Figure size 432x288 with 1 Axes>"
      ]
     },
     "metadata": {
      "needs_background": "light"
     },
     "output_type": "display_data"
    }
   ],
   "source": [
    "plt.imshow(testImg.reshape((28,28)))\n",
    "plt.show()"
   ]
  },
  {
   "cell_type": "code",
   "execution_count": 67,
   "id": "neutral-potter",
   "metadata": {},
   "outputs": [],
   "source": [
    "testImg = testImg.astype('float') / 255"
   ]
  },
  {
   "cell_type": "code",
   "execution_count": 68,
   "id": "lovely-vehicle",
   "metadata": {},
   "outputs": [
    {
     "data": {
      "text/plain": [
       "(1, 784)"
      ]
     },
     "execution_count": 68,
     "metadata": {},
     "output_type": "execute_result"
    }
   ],
   "source": [
    "np.reshape(testImg, (1,-1)).shape"
   ]
  },
  {
   "cell_type": "code",
   "execution_count": 69,
   "id": "demanding-breakdown",
   "metadata": {},
   "outputs": [
    {
     "data": {
      "text/plain": [
       "(1, 784)"
      ]
     },
     "execution_count": 69,
     "metadata": {},
     "output_type": "execute_result"
    }
   ],
   "source": [
    "testImg.shape"
   ]
  },
  {
   "cell_type": "code",
   "execution_count": 70,
   "id": "yellow-vinyl",
   "metadata": {},
   "outputs": [
    {
     "data": {
      "text/plain": [
       "array([[2.2036142e-25, 2.4924805e-19, 1.0000000e+00, 3.3548673e-09,\n",
       "        5.8276477e-26, 1.6152593e-16, 1.8929334e-20, 4.1812400e-13,\n",
       "        3.5277546e-16, 3.3663277e-13]], dtype=float32)"
      ]
     },
     "execution_count": 70,
     "metadata": {},
     "output_type": "execute_result"
    }
   ],
   "source": [
    "model.predict(np.reshape(testImg, (1,-1)))"
   ]
  },
  {
   "cell_type": "code",
   "execution_count": 72,
   "id": "knowing-spread",
   "metadata": {},
   "outputs": [
    {
     "data": {
      "text/plain": [
       "array([2])"
      ]
     },
     "execution_count": 72,
     "metadata": {},
     "output_type": "execute_result"
    }
   ],
   "source": [
    "model.predict_classes(np.reshape(testImg, (1,-1)))"
   ]
  },
  {
   "cell_type": "code",
   "execution_count": 73,
   "id": "dutch-contractor",
   "metadata": {},
   "outputs": [],
   "source": [
    "model.save(\"mnistModel.mdl\")"
   ]
  },
  {
   "cell_type": "code",
   "execution_count": 74,
   "id": "seeing-hearing",
   "metadata": {},
   "outputs": [
    {
     "data": {
      "text/plain": [
       "array([2])"
      ]
     },
     "execution_count": 74,
     "metadata": {},
     "output_type": "execute_result"
    }
   ],
   "source": [
    "model.predict_classes(testImg)"
   ]
  },
  {
   "cell_type": "code",
   "execution_count": 5,
   "id": "better-portugal",
   "metadata": {},
   "outputs": [],
   "source": [
    "import cv2\n",
    "from tensorflow.keras.models import load_model\n",
    "\n",
    "loadedmodel = load_model(\"mnistModel.mdl\")\n",
    "\n",
    "img = cv2.imread(\"./Deep_Learning/second.png\",0)\n",
    "\n",
    "invert = cv2.bitwise_not(img)\n",
    "testImg = cv2.resize(invert, (28,28)).reshape(1, 784)\n",
    "testImg = testImg.astype('float') / 255\n",
    "\n",
    "className = loadedmodel.predict_classes(testImg)\n",
    "score = loadedmodel.predict_proba(testImg)\n"
   ]
  },
  {
   "cell_type": "code",
   "execution_count": 6,
   "id": "known-freeze",
   "metadata": {},
   "outputs": [
    {
     "data": {
      "text/plain": [
       "(2, 1.0)"
      ]
     },
     "execution_count": 6,
     "metadata": {},
     "output_type": "execute_result"
    }
   ],
   "source": [
    "className[0],np.max(score)"
   ]
  },
  {
   "cell_type": "code",
   "execution_count": 26,
   "id": "marked-divide",
   "metadata": {},
   "outputs": [],
   "source": [
    "import cv2\n",
    "import numpy as np\n",
    "from flask import Flask, request, render_template\n",
    "import tensorflow as tf\n",
    "from tensorflow.keras.models import load_model\n",
    "\n",
    "graph = tf.get_default_graph()\n",
    "model = load_model(\"mnistModel.mdl\")\n",
    "\n",
    "\n",
    "def data_process(imgPath):\n",
    "    img = cv2.imread(imgPath,0)\n",
    "    invert = cv2.bitwise_not(img)\n",
    "    testImg = cv2.resize(invert, (28,28)).reshape(1, 784)\n",
    "    testImg = testImg.astype('float') / 255\n",
    "    return testImg\n",
    "\n",
    "\n",
    "img = data_process(\"test.png\")\n",
    "with graph.as_default():\n",
    "    className = model.predict_classes(img)\n",
    "    score = model.predict_proba(img)\n",
    "kwarg = {\"result\": f\"The predicted class is {className[0]} with score {np.max(score)}\"}"
   ]
  },
  {
   "cell_type": "code",
   "execution_count": 27,
   "id": "directed-editor",
   "metadata": {},
   "outputs": [
    {
     "data": {
      "text/plain": [
       "{'result': 'The predicted class is 7 with score 0.584097146987915'}"
      ]
     },
     "execution_count": 27,
     "metadata": {},
     "output_type": "execute_result"
    }
   ],
   "source": [
    "kwarg"
   ]
  },
  {
   "cell_type": "code",
   "execution_count": 28,
   "id": "requested-teach",
   "metadata": {},
   "outputs": [],
   "source": [
    "import os"
   ]
  },
  {
   "cell_type": "code",
   "execution_count": 34,
   "id": "monetary-involvement",
   "metadata": {},
   "outputs": [
    {
     "data": {
      "text/plain": [
       "['ORANGE OAKLEAF',\n",
       " 'VICEROY',\n",
       " 'MESTRA',\n",
       " 'CRIMSON PATCH',\n",
       " 'WOOD SATYR',\n",
       " 'RED CRACKER',\n",
       " 'GREAT JAY',\n",
       " 'BROWN SIPROETA',\n",
       " 'TWO BARRED FLASHER',\n",
       " 'METALMARK',\n",
       " 'GREY HAIRSTREAK',\n",
       " '.DS_Store',\n",
       " 'ZEBRA LONG WING',\n",
       " 'BLACK HAIRSTREAK',\n",
       " 'PIPEVINE SWALLOW',\n",
       " 'YELLOW SWALLOW TAIL',\n",
       " 'EASTERN DAPPLE WHITE',\n",
       " 'ORANGE TIP',\n",
       " 'GOLD BANDED',\n",
       " 'ULYSES',\n",
       " 'BLUE MORPHO',\n",
       " 'AFRICAN GIANT SWALLOWTAIL',\n",
       " 'TROPICAL LEAFWING',\n",
       " 'BLUE SPOTTED CROW',\n",
       " 'GREAT EGGFLY',\n",
       " 'RED ADMIRAL',\n",
       " 'SILVER SPOT SKIPPER',\n",
       " 'CRECENT',\n",
       " 'STRAITED QUEEN',\n",
       " 'SLEEPY ORANGE',\n",
       " 'COMMON WOOD-NYMPH',\n",
       " 'SOUTHERN DOGFACE',\n",
       " 'QUESTION MARK',\n",
       " 'CHESTNUT',\n",
       " 'LARGE MARBLE',\n",
       " 'EASTERN PINE ELFIN',\n",
       " 'RED SPOTTED PURPLE',\n",
       " 'PURPLE HAIRSTREAK',\n",
       " 'BANDED ORANGE HELICONIAN',\n",
       " 'PEACOCK',\n",
       " 'BANDED PEACOCK',\n",
       " 'ADONIS',\n",
       " 'MILBERTS TORTOISESHELL',\n",
       " 'MANGROVE SKIPPER',\n",
       " 'PINE WHITE',\n",
       " 'PURPLISH COPPER',\n",
       " 'EASTERN COMA',\n",
       " 'MONARCH',\n",
       " 'CLODIUS PARNASSIAN',\n",
       " 'SOOTYWING',\n",
       " 'MOURNING CLOAK',\n",
       " 'PAINTED LADY',\n",
       " 'APPOLLO',\n",
       " 'CAIRNS BIRDWING',\n",
       " 'PAPER KITE',\n",
       " 'SCARCE SWALLOW',\n",
       " 'CLOUDED SULPHUR',\n",
       " 'IPHICLUS SISTER',\n",
       " 'CHECQUERED SKIPPER',\n",
       " 'JULIA',\n",
       " 'POPINJAY',\n",
       " 'ELBOWED PIERROT',\n",
       " 'DANAID EGGFLY',\n",
       " 'CLEOPATRA',\n",
       " 'GREEN CELLED CATTLEHEART',\n",
       " 'AMERICAN SNOOT',\n",
       " 'CABBAGE WHITE',\n",
       " 'AN 88',\n",
       " 'MALACHITE',\n",
       " 'RED POSTMAN',\n",
       " 'ORCHARD SWALLOW',\n",
       " 'INDRA SWALLOW',\n",
       " 'BECKERS WHITE',\n",
       " 'COPPER TAIL',\n",
       " 'COMMON BANDED AWL',\n",
       " 'ATALA']"
      ]
     },
     "execution_count": 34,
     "metadata": {},
     "output_type": "execute_result"
    }
   ],
   "source": [
    "os.listdir('/Users/sharma/Projects/September_2022/Sony/dataset/train/')"
   ]
  },
  {
   "cell_type": "code",
   "execution_count": 36,
   "id": "broken-torture",
   "metadata": {},
   "outputs": [],
   "source": [
    "### CNN"
   ]
  },
  {
   "cell_type": "code",
   "execution_count": 40,
   "id": "multiple-potato",
   "metadata": {},
   "outputs": [],
   "source": [
    "import matplotlib.pyplot as plt\n",
    "from tensorflow.keras.layers import *\n",
    "from tensorflow.keras.models import Sequential\n",
    "from tensorflow.keras.utils import to_categorical\n",
    "from tensorflow.keras.optimizers import Adam\n",
    "\n",
    "from sklearn.model_selection import train_test_split\n",
    "from sklearn.preprocessing import LabelEncoder\n",
    "import numpy as np\n",
    "import os\n",
    "import pickle\n",
    "import cv2"
   ]
  },
  {
   "cell_type": "code",
   "execution_count": 38,
   "id": "personalized-purchase",
   "metadata": {},
   "outputs": [],
   "source": [
    "data_path = '/Users/sharma/Projects/September_2022/Sony/dataset/train/'"
   ]
  },
  {
   "cell_type": "code",
   "execution_count": 39,
   "id": "owned-resident",
   "metadata": {},
   "outputs": [],
   "source": [
    "filteredList = ['MALACHITE',\n",
    " 'RED POSTMAN',\n",
    " 'ORCHARD SWALLOW',\n",
    " 'INDRA SWALLOW',\n",
    " 'BECKERS WHITE',\n",
    " 'COPPER TAIL',\n",
    " 'COMMON BANDED AWL',\n",
    " 'ATALA']"
   ]
  },
  {
   "cell_type": "code",
   "execution_count": 42,
   "id": "concerned-value",
   "metadata": {},
   "outputs": [
    {
     "data": {
      "text/plain": [
       "array([5, 7, 6, 4, 1, 3, 2, 0])"
      ]
     },
     "execution_count": 42,
     "metadata": {},
     "output_type": "execute_result"
    }
   ],
   "source": [
    "le = LabelEncoder()\n",
    "le.fit_transform(filteredList)"
   ]
  },
  {
   "cell_type": "code",
   "execution_count": 47,
   "id": "changing-newcastle",
   "metadata": {},
   "outputs": [
    {
     "data": {
      "text/plain": [
       "0"
      ]
     },
     "execution_count": 47,
     "metadata": {},
     "output_type": "execute_result"
    }
   ],
   "source": [
    "le.transform(['ATALA'])[0]"
   ]
  },
  {
   "cell_type": "code",
   "execution_count": 44,
   "id": "representative-custom",
   "metadata": {},
   "outputs": [
    {
     "data": {
      "text/plain": [
       "array(['ATALA'], dtype='<U17')"
      ]
     },
     "execution_count": 44,
     "metadata": {},
     "output_type": "execute_result"
    }
   ],
   "source": [
    "le.inverse_transform([0])"
   ]
  },
  {
   "cell_type": "code",
   "execution_count": 95,
   "id": "treated-comedy",
   "metadata": {},
   "outputs": [],
   "source": [
    "images = []\n",
    "labels = []\n",
    "for folder in os.listdir(data_path):\n",
    "    if folder in filteredList:\n",
    "        for imgPath in os.listdir(os.path.join(data_path, folder)):\n",
    "            img = cv2.imread(os.path.join(data_path, folder, imgPath))\n",
    "            img = cv2.resize(img, (150,150))\n",
    "            images.append(img)\n",
    "            labels.append(le.transform([folder])[0])"
   ]
  },
  {
   "cell_type": "code",
   "execution_count": 97,
   "id": "competent-probe",
   "metadata": {},
   "outputs": [
    {
     "data": {
      "text/plain": [
       "(973, 150, 150, 3)"
      ]
     },
     "execution_count": 97,
     "metadata": {},
     "output_type": "execute_result"
    }
   ],
   "source": [
    "np.asarray(images).shape"
   ]
  },
  {
   "cell_type": "code",
   "execution_count": 98,
   "id": "royal-north",
   "metadata": {},
   "outputs": [],
   "source": [
    "images = np.asarray(images)"
   ]
  },
  {
   "cell_type": "code",
   "execution_count": 99,
   "id": "communist-oxygen",
   "metadata": {},
   "outputs": [],
   "source": [
    "x_train, x_test ,y_train, y_test = train_test_split(images,labels,test_size=0.2, random_state=3)"
   ]
  },
  {
   "cell_type": "code",
   "execution_count": 100,
   "id": "micro-tracy",
   "metadata": {},
   "outputs": [],
   "source": [
    "x_train = x_train.astype('float') / 255\n",
    "x_test = x_test.astype('float') / 255"
   ]
  },
  {
   "cell_type": "code",
   "execution_count": 103,
   "id": "brief-rendering",
   "metadata": {},
   "outputs": [],
   "source": [
    "y_train = to_categorical(y_train, num_classes=len(filteredList))\n",
    "y_test = to_categorical(y_test, num_classes=len(filteredList))"
   ]
  },
  {
   "cell_type": "code",
   "execution_count": 108,
   "id": "continental-sender",
   "metadata": {},
   "outputs": [],
   "source": [
    "model = Sequential()\n",
    "model.add(Conv2D(32, kernel_size=5, padding='same',input_shape=(150, 150, 3)))\n",
    "model.add(Activation('relu'))\n",
    "model.add(MaxPooling2D(pool_size=(2, 2), strides=(2, 2)))\n",
    "model.add(Dropout(0.25))\n",
    "\n",
    "model.add(Conv2D(50, kernel_size=5, padding=\"same\"))\n",
    "model.add(Activation(\"relu\"))\n",
    "model.add(MaxPooling2D(pool_size=(2, 2), strides=(2, 2)))\n",
    "model.add(Dropout(0.25))\n",
    "\n",
    "model.add(Flatten())\n",
    "model.add(Dense(512))\n",
    "model.add(Activation('relu'))\n",
    "model.add(Dropout(0.5))\n",
    "\n",
    "model.add(Dense(len(filteredList)))\n",
    "model.add(Activation('softmax'))"
   ]
  },
  {
   "cell_type": "code",
   "execution_count": 109,
   "id": "prompt-currency",
   "metadata": {},
   "outputs": [],
   "source": [
    "model.compile(loss='categorical_crossentropy', optimizer=Adam(), metrics=['accuracy'])"
   ]
  },
  {
   "cell_type": "code",
   "execution_count": 110,
   "id": "familiar-michael",
   "metadata": {},
   "outputs": [
    {
     "name": "stdout",
     "output_type": "stream",
     "text": [
      "_________________________________________________________________\n",
      "Layer (type)                 Output Shape              Param #   \n",
      "=================================================================\n",
      "conv2d_7 (Conv2D)            (None, 150, 150, 32)      2432      \n",
      "_________________________________________________________________\n",
      "activation_16 (Activation)   (None, 150, 150, 32)      0         \n",
      "_________________________________________________________________\n",
      "max_pooling2d_7 (MaxPooling2 (None, 75, 75, 32)        0         \n",
      "_________________________________________________________________\n",
      "dropout_10 (Dropout)         (None, 75, 75, 32)        0         \n",
      "_________________________________________________________________\n",
      "conv2d_8 (Conv2D)            (None, 75, 75, 50)        40050     \n",
      "_________________________________________________________________\n",
      "activation_17 (Activation)   (None, 75, 75, 50)        0         \n",
      "_________________________________________________________________\n",
      "max_pooling2d_8 (MaxPooling2 (None, 37, 37, 50)        0         \n",
      "_________________________________________________________________\n",
      "dropout_11 (Dropout)         (None, 37, 37, 50)        0         \n",
      "_________________________________________________________________\n",
      "flatten_3 (Flatten)          (None, 68450)             0         \n",
      "_________________________________________________________________\n",
      "dense_10 (Dense)             (None, 512)               35046912  \n",
      "_________________________________________________________________\n",
      "activation_18 (Activation)   (None, 512)               0         \n",
      "_________________________________________________________________\n",
      "dropout_12 (Dropout)         (None, 512)               0         \n",
      "_________________________________________________________________\n",
      "dense_11 (Dense)             (None, 8)                 4104      \n",
      "_________________________________________________________________\n",
      "activation_19 (Activation)   (None, 8)                 0         \n",
      "=================================================================\n",
      "Total params: 35,093,498\n",
      "Trainable params: 35,093,498\n",
      "Non-trainable params: 0\n",
      "_________________________________________________________________\n"
     ]
    }
   ],
   "source": [
    "model.summary()"
   ]
  },
  {
   "cell_type": "code",
   "execution_count": null,
   "id": "indonesian-parameter",
   "metadata": {},
   "outputs": [
    {
     "name": "stdout",
     "output_type": "stream",
     "text": [
      "Train on 700 samples, validate on 78 samples\n",
      "Epoch 1/30\n",
      "160/700 [=====>........................] - ETA: 25s - loss: 7.4668 - acc: 0.1437"
     ]
    }
   ],
   "source": [
    "history = model.fit(x_train, y_train, validation_split=0.1, epochs=30)"
   ]
  },
  {
   "cell_type": "code",
   "execution_count": null,
   "id": "previous-reward",
   "metadata": {},
   "outputs": [],
   "source": [
    "score = model.evaluate(x_test, y_test)\n",
    "\n",
    "print('Test accuracy:', score[1])"
   ]
  },
  {
   "cell_type": "code",
   "execution_count": null,
   "id": "beneficial-shakespeare",
   "metadata": {},
   "outputs": [],
   "source": [
    "plt.plot(history.history['acc'])\n",
    "plt.plot(history.history['val_acc'])\n",
    "plt.title('Training and Validation accuracy')\n",
    "plt.ylabel('accuracy')\n",
    "plt.xlabel('epochs')\n",
    "plt.legend(['train', 'validation'])\n",
    "plt.show()"
   ]
  },
  {
   "cell_type": "code",
   "execution_count": null,
   "id": "incorporate-naples",
   "metadata": {},
   "outputs": [],
   "source": [
    "plt.plot(history.history['loss'])\n",
    "plt.plot(history.history['val_loss'])\n",
    "plt.title('Training and Validation loss')\n",
    "plt.ylabel('loss')\n",
    "plt.xlabel('epochs')\n",
    "plt.legend(['train', 'validation'])\n",
    "plt.show()"
   ]
  },
  {
   "cell_type": "code",
   "execution_count": null,
   "id": "integral-stomach",
   "metadata": {},
   "outputs": [],
   "source": [
    "img = cv2.imread(\"./testButterfly.jpeg\")"
   ]
  },
  {
   "cell_type": "code",
   "execution_count": null,
   "id": "enormous-visiting",
   "metadata": {},
   "outputs": [],
   "source": [
    "plt.imshow(img)\n",
    "plt.show()"
   ]
  },
  {
   "cell_type": "code",
   "execution_count": null,
   "id": "overhead-patient",
   "metadata": {},
   "outputs": [],
   "source": [
    "testImg = cv2.resize(img, (150,150))\n",
    "plt.imshow(testImg)\n",
    "plt.show()"
   ]
  },
  {
   "cell_type": "code",
   "execution_count": null,
   "id": "clean-deposit",
   "metadata": {},
   "outputs": [],
   "source": [
    "testImg = cv2.resize(img, (150,150))\n",
    "testImg = testImg.astype('float') / 255\n",
    "\n",
    "className = model.predict_classes([[testImg]])\n",
    "score = model.predict_proba([[testImg]])\n"
   ]
  },
  {
   "cell_type": "code",
   "execution_count": null,
   "id": "broken-newsletter",
   "metadata": {},
   "outputs": [],
   "source": [
    "le.inverse_transform(className)[0]"
   ]
  },
  {
   "cell_type": "code",
   "execution_count": null,
   "id": "dietary-chancellor",
   "metadata": {
    "scrolled": true
   },
   "outputs": [],
   "source": [
    "np.max(score)"
   ]
  },
  {
   "cell_type": "code",
   "execution_count": null,
   "id": "treated-operation",
   "metadata": {},
   "outputs": [],
   "source": []
  }
 ],
 "metadata": {
  "kernelspec": {
   "display_name": "Python 3",
   "language": "python",
   "name": "python3"
  },
  "language_info": {
   "codemirror_mode": {
    "name": "ipython",
    "version": 3
   },
   "file_extension": ".py",
   "mimetype": "text/x-python",
   "name": "python",
   "nbconvert_exporter": "python",
   "pygments_lexer": "ipython3",
   "version": "3.6.8"
  },
  "nbTranslate": {
   "displayLangs": [
    "*"
   ],
   "hotkey": "alt-t",
   "langInMainMenu": true,
   "sourceLang": "en",
   "targetLang": "fr",
   "useGoogleTranslate": true
  },
  "toc": {
   "base_numbering": 1,
   "nav_menu": {},
   "number_sections": true,
   "sideBar": true,
   "skip_h1_title": false,
   "title_cell": "Table of Contents",
   "title_sidebar": "Contents",
   "toc_cell": false,
   "toc_position": {},
   "toc_section_display": true,
   "toc_window_display": false
  },
  "varInspector": {
   "cols": {
    "lenName": 16,
    "lenType": 16,
    "lenVar": 40
   },
   "kernels_config": {
    "python": {
     "delete_cmd_postfix": "",
     "delete_cmd_prefix": "del ",
     "library": "var_list.py",
     "varRefreshCmd": "print(var_dic_list())"
    },
    "r": {
     "delete_cmd_postfix": ") ",
     "delete_cmd_prefix": "rm(",
     "library": "var_list.r",
     "varRefreshCmd": "cat(var_dic_list()) "
    }
   },
   "types_to_exclude": [
    "module",
    "function",
    "builtin_function_or_method",
    "instance",
    "_Feature"
   ],
   "window_display": false
  }
 },
 "nbformat": 4,
 "nbformat_minor": 5
}
