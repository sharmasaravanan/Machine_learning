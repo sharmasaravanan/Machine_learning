{
 "cells": [
  {
   "cell_type": "markdown",
   "id": "polished-volume",
   "metadata": {},
   "source": [
    "### Content\n",
    "\n",
    "    1. Overview of python\n",
    "    2. Overview of ML\n",
    "    3. Overview of ML Deployment\n",
    "    \n",
    "    \n",
    "### Syllabus\n",
    "\n",
    "     1. First Week\n",
    "         a. Python\n",
    "         b. Introduction to ML\n",
    "         \n",
    "     2. Second Week\n",
    "         a. ML Implementation\n",
    "         b. ML Deployment\n",
    "         \n",
    "     3. Third Week\n",
    "         a. DL Implementation\n",
    "         b. Cloud based Deployment"
   ]
  },
  {
   "cell_type": "markdown",
   "id": "cross-hampton",
   "metadata": {},
   "source": [
    "### IDE\n",
    "\n",
    "    Pycharm, Spyder -> industry \n",
    "\n",
    "    notebook -> teaching and research"
   ]
  },
  {
   "cell_type": "markdown",
   "id": "naughty-painting",
   "metadata": {},
   "source": [
    "### Links\n",
    "    1. July Batch Notebook:- https://tinyurl.com/msmeJulyBatch\n",
    "    2. This notebook :- https://tinyurl.com/MSMEdeployment2022\n",
    "    3. Books :- http://bit.ly/AI_material\n",
    "    4. Python Practice :- https://www.practicepython.org/, https://www.w3resource.com/python-exercises/\n",
    "    5. GitHub :- http://bit.ly/AI_repos\n",
    "    6. Exception methods:- http://bit.ly/exceptionNames\n",
    "    7. DIP Book:- http://bit.ly/bookDIP\n",
    "    8. AI PPT :- https://1drv.ms/p/s!ArLkuKvmnNQcjEDo6gmjlidufaek?e=m6aqah\n",
    "    9. Videos :- https://www.youtube.com/playlist?list=PL_Nji0JOuXg2udXfS6nhK3CkIYLDtHNLp"
   ]
  },
  {
   "cell_type": "markdown",
   "id": "contained-manual",
   "metadata": {},
   "source": [
    "### To connect with me\n",
    "\n",
    "    1. Linkedin -> https://www.linkedin.com/in/sharmasaravanan/\n",
    "    2. mail -> sharma@besoins.in\n",
    "    3. web -> sharmasaravanan.com\n"
   ]
  },
  {
   "cell_type": "markdown",
   "id": "blind-wilderness",
   "metadata": {},
   "source": [
    "### Python"
   ]
  },
  {
   "cell_type": "code",
   "execution_count": 3,
   "id": "simplified-soldier",
   "metadata": {},
   "outputs": [],
   "source": [
    "a = 5 # int\n",
    "b = 3.14 # float\n",
    "c = 'apple' # string\n",
    "d = True # bool"
   ]
  },
  {
   "cell_type": "code",
   "execution_count": 4,
   "id": "duplicate-howard",
   "metadata": {},
   "outputs": [
    {
     "name": "stdout",
     "output_type": "stream",
     "text": [
      "5 3.14 apple True\n"
     ]
    }
   ],
   "source": [
    "print(a,b,c,d)"
   ]
  },
  {
   "cell_type": "code",
   "execution_count": 7,
   "id": "loose-guyana",
   "metadata": {},
   "outputs": [
    {
     "name": "stdout",
     "output_type": "stream",
     "text": [
      "Enter your name: \n"
     ]
    }
   ],
   "source": [
    "print(\"Enter your name: \")"
   ]
  },
  {
   "cell_type": "code",
   "execution_count": 8,
   "id": "constant-document",
   "metadata": {},
   "outputs": [
    {
     "name": "stdout",
     "output_type": "stream",
     "text": [
      "Enter your name: KK\n"
     ]
    }
   ],
   "source": [
    "name = input(\"Enter your name: \") # prompt text"
   ]
  },
  {
   "cell_type": "code",
   "execution_count": 9,
   "id": "handy-wrist",
   "metadata": {},
   "outputs": [
    {
     "name": "stdout",
     "output_type": "stream",
     "text": [
      "KK\n"
     ]
    }
   ],
   "source": [
    "print(name)"
   ]
  },
  {
   "cell_type": "code",
   "execution_count": null,
   "id": "reliable-workshop",
   "metadata": {},
   "outputs": [],
   "source": [
    "# operators\n",
    "\n",
    "+ - * / % //\n",
    "\n",
    "< > <= >=  == !=\n",
    "\n",
    "and not or"
   ]
  },
  {
   "cell_type": "code",
   "execution_count": 10,
   "id": "instant-pavilion",
   "metadata": {},
   "outputs": [
    {
     "name": "stdout",
     "output_type": "stream",
     "text": [
      "7 3 10 2.5 1 2\n"
     ]
    }
   ],
   "source": [
    "print(5 + 2, 5 - 2, 5 * 2, 5 / 2, 5 % 2, 5 // 2)"
   ]
  },
  {
   "cell_type": "code",
   "execution_count": 16,
   "id": "designing-cuisine",
   "metadata": {},
   "outputs": [
    {
     "name": "stdout",
     "output_type": "stream",
     "text": [
      "Enter any number: 4\n",
      "Number is even\n",
      "something\n"
     ]
    }
   ],
   "source": [
    "num = float(input(\"Enter any number: \"))\n",
    "if num % 2 == 0:\n",
    "    print(\"Number is even\")\n",
    "else:\n",
    "    print(\"Number is odd\")\n",
    "print(\"something\")"
   ]
  },
  {
   "cell_type": "code",
   "execution_count": 13,
   "id": "placed-spanking",
   "metadata": {},
   "outputs": [
    {
     "name": "stdout",
     "output_type": "stream",
     "text": [
      "<class 'str'>\n"
     ]
    }
   ],
   "source": [
    "print(type(num))"
   ]
  },
  {
   "cell_type": "code",
   "execution_count": 19,
   "id": "elder-reducing",
   "metadata": {},
   "outputs": [
    {
     "name": "stdout",
     "output_type": "stream",
     "text": [
      "Enter any number: 5\n",
      "Number is odd\n"
     ]
    }
   ],
   "source": [
    "num = float(input(\"Enter any number: \"))\n",
    "if num % 4 == 0:\n",
    "    print(\"Number is divisible by 4 and even\")\n",
    "elif num % 2 == 0:\n",
    "    print(\"Number is even\")\n",
    "else:\n",
    "    print(\"Number is odd\")"
   ]
  },
  {
   "cell_type": "code",
   "execution_count": 20,
   "id": "threatened-pathology",
   "metadata": {},
   "outputs": [
    {
     "name": "stdout",
     "output_type": "stream",
     "text": [
      "Enter any number: 20\n",
      "Number is divisible by 4 and even\n",
      "Enter any number: 10\n",
      "Number is even\n",
      "Enter any number: 5\n",
      "Number is odd\n",
      "Enter any number: 2.5\n",
      "Number is odd\n",
      "Enter any number: 2\n",
      "Number is even\n"
     ]
    }
   ],
   "source": [
    "i = 0\n",
    "while i < 5:\n",
    "    num = float(input(\"Enter any number: \"))\n",
    "    if num % 4 == 0:\n",
    "        print(\"Number is divisible by 4 and even\")\n",
    "    elif num % 2 == 0:\n",
    "        print(\"Number is even\")\n",
    "    else:\n",
    "        print(\"Number is odd\")\n",
    "    i += 1 # i = i+1"
   ]
  },
  {
   "cell_type": "code",
   "execution_count": 22,
   "id": "female-rescue",
   "metadata": {},
   "outputs": [
    {
     "name": "stdout",
     "output_type": "stream",
     "text": [
      "Enter any number: 20\n",
      "Number is divisible by 4 and even\n",
      "Do you want to continue? y/n: y\n",
      "Enter any number: 10\n",
      "Number is even\n",
      "Do you want to continue? y/n: n\n",
      "Thank you!!!\n"
     ]
    }
   ],
   "source": [
    "opt = 'y'\n",
    "while opt == 'y':\n",
    "    num = float(input(\"Enter any number: \"))\n",
    "    if num % 4 == 0:\n",
    "        print(\"Number is divisible by 4 and even\")\n",
    "    elif num % 2 == 0:\n",
    "        print(\"Number is even\")\n",
    "    else:\n",
    "        print(\"Number is odd\")\n",
    "    opt = input(\"Do you want to continue? y/n: \")\n",
    "else:\n",
    "    print(\"Thank you!!!\")"
   ]
  },
  {
   "cell_type": "code",
   "execution_count": 24,
   "id": "matched-showcase",
   "metadata": {},
   "outputs": [
    {
     "name": "stdout",
     "output_type": "stream",
     "text": [
      "Enter any number: 20\n",
      "Number is divisible by 4 and even\n",
      "Enter any number: 35\n",
      "Skipping\n",
      "Enter any number: 14\n",
      "Number is even\n",
      "Enter any number: 15\n",
      "Stopping\n"
     ]
    }
   ],
   "source": [
    "while True:\n",
    "    num = float(input(\"Enter any number: \"))\n",
    "    if num == 15 or num == 25:\n",
    "        print(\"Stopping\")\n",
    "        break\n",
    "    \n",
    "    if num == 35:\n",
    "        print(\"Skipping\")\n",
    "        continue\n",
    "    \n",
    "    if num % 4 == 0:\n",
    "        print(\"Number is divisible by 4 and even\")\n",
    "    elif num % 2 == 0:\n",
    "        print(\"Number is even\")\n",
    "    else:\n",
    "        print(\"Number is odd\")"
   ]
  },
  {
   "cell_type": "code",
   "execution_count": 25,
   "id": "regulation-sport",
   "metadata": {},
   "outputs": [],
   "source": [
    "# list\n",
    "L = [] # list()\n",
    "l = [1,2,3,4.5,5.6,6.7,'apple','banana','carrot']"
   ]
  },
  {
   "cell_type": "code",
   "execution_count": 27,
   "id": "logical-monroe",
   "metadata": {},
   "outputs": [
    {
     "data": {
      "text/plain": [
       "[1, 2, 3, 4.5, 5.6, 6.7, 'apple', 'banana', 'carrot']"
      ]
     },
     "execution_count": 27,
     "metadata": {},
     "output_type": "execute_result"
    }
   ],
   "source": [
    "l"
   ]
  },
  {
   "cell_type": "code",
   "execution_count": 30,
   "id": "outstanding-makeup",
   "metadata": {},
   "outputs": [],
   "source": [
    "# tuple\n",
    "t = (1, 2, 3, 4.5, 5.6, 6.7, 'apple', 'banana', 'carrot')"
   ]
  },
  {
   "cell_type": "code",
   "execution_count": 31,
   "id": "refined-decade",
   "metadata": {},
   "outputs": [
    {
     "data": {
      "text/plain": [
       "(1, 2, 3, 4.5, 5.6, 6.7, 'apple', 'banana', 'carrot')"
      ]
     },
     "execution_count": 31,
     "metadata": {},
     "output_type": "execute_result"
    }
   ],
   "source": [
    "t"
   ]
  },
  {
   "cell_type": "code",
   "execution_count": 32,
   "id": "baking-minority",
   "metadata": {},
   "outputs": [
    {
     "data": {
      "text/plain": [
       "9"
      ]
     },
     "execution_count": 32,
     "metadata": {},
     "output_type": "execute_result"
    }
   ],
   "source": [
    "len(l)"
   ]
  },
  {
   "cell_type": "code",
   "execution_count": 33,
   "id": "former-harvey",
   "metadata": {},
   "outputs": [
    {
     "data": {
      "text/plain": [
       "6.7"
      ]
     },
     "execution_count": 33,
     "metadata": {},
     "output_type": "execute_result"
    }
   ],
   "source": [
    "l[5]"
   ]
  },
  {
   "cell_type": "code",
   "execution_count": 34,
   "id": "terminal-jaguar",
   "metadata": {},
   "outputs": [
    {
     "data": {
      "text/plain": [
       "[6.7, 'apple', 'banana', 'carrot']"
      ]
     },
     "execution_count": 34,
     "metadata": {},
     "output_type": "execute_result"
    }
   ],
   "source": [
    "l[5:]"
   ]
  },
  {
   "cell_type": "code",
   "execution_count": 35,
   "id": "precise-ballot",
   "metadata": {},
   "outputs": [
    {
     "data": {
      "text/plain": [
       "[1, 2, 3, 4.5, 5.6]"
      ]
     },
     "execution_count": 35,
     "metadata": {},
     "output_type": "execute_result"
    }
   ],
   "source": [
    "l[:5]"
   ]
  },
  {
   "cell_type": "code",
   "execution_count": 36,
   "id": "similar-senator",
   "metadata": {},
   "outputs": [
    {
     "data": {
      "text/plain": [
       "[3, 4.5, 5.6, 6.7]"
      ]
     },
     "execution_count": 36,
     "metadata": {},
     "output_type": "execute_result"
    }
   ],
   "source": [
    "l[2:6]"
   ]
  },
  {
   "cell_type": "code",
   "execution_count": 37,
   "id": "cellular-engineer",
   "metadata": {},
   "outputs": [],
   "source": [
    "del l[2]"
   ]
  },
  {
   "cell_type": "code",
   "execution_count": 38,
   "id": "numerical-treasurer",
   "metadata": {},
   "outputs": [
    {
     "data": {
      "text/plain": [
       "[1, 2, 4.5, 5.6, 6.7, 'apple', 'banana', 'carrot']"
      ]
     },
     "execution_count": 38,
     "metadata": {},
     "output_type": "execute_result"
    }
   ],
   "source": [
    "l"
   ]
  },
  {
   "cell_type": "code",
   "execution_count": 39,
   "id": "timely-ambassador",
   "metadata": {},
   "outputs": [],
   "source": [
    "l.append(\"papaya\")"
   ]
  },
  {
   "cell_type": "code",
   "execution_count": 40,
   "id": "narrow-liechtenstein",
   "metadata": {},
   "outputs": [
    {
     "name": "stdout",
     "output_type": "stream",
     "text": [
      "[1, 2, 4.5, 5.6, 6.7, 'apple', 'banana', 'carrot', 'papaya']\n"
     ]
    }
   ],
   "source": [
    "print(l) # l"
   ]
  },
  {
   "cell_type": "code",
   "execution_count": 41,
   "id": "collected-cholesterol",
   "metadata": {},
   "outputs": [],
   "source": [
    "l.insert(2, 3)"
   ]
  },
  {
   "cell_type": "code",
   "execution_count": 42,
   "id": "removable-catering",
   "metadata": {},
   "outputs": [
    {
     "data": {
      "text/plain": [
       "[1, 2, 3, 4.5, 5.6, 6.7, 'apple', 'banana', 'carrot', 'papaya']"
      ]
     },
     "execution_count": 42,
     "metadata": {},
     "output_type": "execute_result"
    }
   ],
   "source": [
    "l"
   ]
  },
  {
   "cell_type": "code",
   "execution_count": 43,
   "id": "another-washer",
   "metadata": {},
   "outputs": [],
   "source": [
    "l.remove(4.5)"
   ]
  },
  {
   "cell_type": "code",
   "execution_count": 44,
   "id": "acoustic-tract",
   "metadata": {},
   "outputs": [
    {
     "data": {
      "text/plain": [
       "[1, 2, 3, 5.6, 6.7, 'apple', 'banana', 'carrot', 'papaya']"
      ]
     },
     "execution_count": 44,
     "metadata": {},
     "output_type": "execute_result"
    }
   ],
   "source": [
    "l"
   ]
  },
  {
   "cell_type": "code",
   "execution_count": 45,
   "id": "alert-tribe",
   "metadata": {},
   "outputs": [
    {
     "data": {
      "text/plain": [
       "'papaya'"
      ]
     },
     "execution_count": 45,
     "metadata": {},
     "output_type": "execute_result"
    }
   ],
   "source": [
    "l.pop()"
   ]
  },
  {
   "cell_type": "code",
   "execution_count": 46,
   "id": "drawn-numbers",
   "metadata": {},
   "outputs": [
    {
     "data": {
      "text/plain": [
       "[1, 2, 3, 5.6, 6.7, 'apple', 'banana', 'carrot']"
      ]
     },
     "execution_count": 46,
     "metadata": {},
     "output_type": "execute_result"
    }
   ],
   "source": [
    "l"
   ]
  },
  {
   "cell_type": "code",
   "execution_count": 47,
   "id": "common-arena",
   "metadata": {},
   "outputs": [
    {
     "data": {
      "text/plain": [
       "1"
      ]
     },
     "execution_count": 47,
     "metadata": {},
     "output_type": "execute_result"
    }
   ],
   "source": [
    "l.count('apple')"
   ]
  },
  {
   "cell_type": "code",
   "execution_count": 48,
   "id": "humanitarian-cherry",
   "metadata": {},
   "outputs": [
    {
     "data": {
      "text/plain": [
       "5"
      ]
     },
     "execution_count": 48,
     "metadata": {},
     "output_type": "execute_result"
    }
   ],
   "source": [
    "l.index('apple')"
   ]
  },
  {
   "cell_type": "code",
   "execution_count": 49,
   "id": "streaming-dodge",
   "metadata": {},
   "outputs": [],
   "source": [
    "l.reverse()"
   ]
  },
  {
   "cell_type": "code",
   "execution_count": 50,
   "id": "protecting-omega",
   "metadata": {},
   "outputs": [
    {
     "data": {
      "text/plain": [
       "['carrot', 'banana', 'apple', 6.7, 5.6, 3, 2, 1]"
      ]
     },
     "execution_count": 50,
     "metadata": {},
     "output_type": "execute_result"
    }
   ],
   "source": [
    "l"
   ]
  },
  {
   "cell_type": "code",
   "execution_count": 52,
   "id": "blond-charles",
   "metadata": {},
   "outputs": [],
   "source": [
    "L.extend(['carrot', 'banana', 'apple'])"
   ]
  },
  {
   "cell_type": "code",
   "execution_count": 53,
   "id": "funny-lingerie",
   "metadata": {},
   "outputs": [
    {
     "data": {
      "text/plain": [
       "['carrot', 'banana', 'apple']"
      ]
     },
     "execution_count": 53,
     "metadata": {},
     "output_type": "execute_result"
    }
   ],
   "source": [
    "L"
   ]
  },
  {
   "cell_type": "code",
   "execution_count": 54,
   "id": "charitable-alarm",
   "metadata": {},
   "outputs": [],
   "source": [
    "L.clear()"
   ]
  },
  {
   "cell_type": "code",
   "execution_count": 55,
   "id": "editorial-employment",
   "metadata": {},
   "outputs": [
    {
     "data": {
      "text/plain": [
       "[]"
      ]
     },
     "execution_count": 55,
     "metadata": {},
     "output_type": "execute_result"
    }
   ],
   "source": [
    "L"
   ]
  },
  {
   "cell_type": "code",
   "execution_count": 56,
   "id": "minimal-sentence",
   "metadata": {},
   "outputs": [],
   "source": [
    "f = l"
   ]
  },
  {
   "cell_type": "code",
   "execution_count": 58,
   "id": "frequent-nirvana",
   "metadata": {},
   "outputs": [
    {
     "data": {
      "text/plain": [
       "1"
      ]
     },
     "execution_count": 58,
     "metadata": {},
     "output_type": "execute_result"
    }
   ],
   "source": [
    "f.pop()"
   ]
  },
  {
   "cell_type": "code",
   "execution_count": 59,
   "id": "tribal-compilation",
   "metadata": {},
   "outputs": [
    {
     "data": {
      "text/plain": [
       "['carrot', 'banana', 'apple', 6.7, 5.6, 3, 2]"
      ]
     },
     "execution_count": 59,
     "metadata": {},
     "output_type": "execute_result"
    }
   ],
   "source": [
    "f"
   ]
  },
  {
   "cell_type": "code",
   "execution_count": 60,
   "id": "white-serum",
   "metadata": {},
   "outputs": [
    {
     "data": {
      "text/plain": [
       "['carrot', 'banana', 'apple', 6.7, 5.6, 3, 2]"
      ]
     },
     "execution_count": 60,
     "metadata": {},
     "output_type": "execute_result"
    }
   ],
   "source": [
    "l"
   ]
  },
  {
   "cell_type": "code",
   "execution_count": 61,
   "id": "convinced-composite",
   "metadata": {},
   "outputs": [],
   "source": [
    "g = l.copy()"
   ]
  },
  {
   "cell_type": "code",
   "execution_count": 62,
   "id": "universal-variation",
   "metadata": {},
   "outputs": [
    {
     "data": {
      "text/plain": [
       "['carrot', 'banana', 'apple', 6.7, 5.6, 3, 2]"
      ]
     },
     "execution_count": 62,
     "metadata": {},
     "output_type": "execute_result"
    }
   ],
   "source": [
    "g"
   ]
  },
  {
   "cell_type": "code",
   "execution_count": 63,
   "id": "treated-edinburgh",
   "metadata": {},
   "outputs": [
    {
     "data": {
      "text/plain": [
       "['carrot', 'banana', 'apple', 6.7, 5.6, 3, 2]"
      ]
     },
     "execution_count": 63,
     "metadata": {},
     "output_type": "execute_result"
    }
   ],
   "source": [
    "l"
   ]
  },
  {
   "cell_type": "code",
   "execution_count": 64,
   "id": "differential-maker",
   "metadata": {},
   "outputs": [
    {
     "data": {
      "text/plain": [
       "2"
      ]
     },
     "execution_count": 64,
     "metadata": {},
     "output_type": "execute_result"
    }
   ],
   "source": [
    "g.pop()"
   ]
  },
  {
   "cell_type": "code",
   "execution_count": 65,
   "id": "diagnostic-johnson",
   "metadata": {},
   "outputs": [
    {
     "data": {
      "text/plain": [
       "['carrot', 'banana', 'apple', 6.7, 5.6, 3]"
      ]
     },
     "execution_count": 65,
     "metadata": {},
     "output_type": "execute_result"
    }
   ],
   "source": [
    "g"
   ]
  },
  {
   "cell_type": "code",
   "execution_count": 66,
   "id": "requested-transcription",
   "metadata": {},
   "outputs": [
    {
     "data": {
      "text/plain": [
       "['carrot', 'banana', 'apple', 6.7, 5.6, 3, 2]"
      ]
     },
     "execution_count": 66,
     "metadata": {},
     "output_type": "execute_result"
    }
   ],
   "source": [
    "l"
   ]
  },
  {
   "cell_type": "code",
   "execution_count": 67,
   "id": "elder-doctrine",
   "metadata": {},
   "outputs": [
    {
     "name": "stdout",
     "output_type": "stream",
     "text": [
      "a\n",
      "p\n",
      "p\n",
      "l\n",
      "e\n"
     ]
    }
   ],
   "source": [
    "for i in c:\n",
    "    print(i)"
   ]
  },
  {
   "cell_type": "code",
   "execution_count": 68,
   "id": "minor-criticism",
   "metadata": {},
   "outputs": [
    {
     "name": "stdout",
     "output_type": "stream",
     "text": [
      "hello\n",
      "hello\n",
      "hello\n",
      "hello\n",
      "hello\n"
     ]
    }
   ],
   "source": [
    "for i in range(5):\n",
    "    print('hello')"
   ]
  },
  {
   "cell_type": "code",
   "execution_count": 69,
   "id": "exempt-witness",
   "metadata": {},
   "outputs": [
    {
     "name": "stdout",
     "output_type": "stream",
     "text": [
      "hello\n",
      "hello\n",
      "hello\n",
      "hello\n",
      "hello\n"
     ]
    }
   ],
   "source": [
    "for _ in range(5):\n",
    "    print('hello')"
   ]
  },
  {
   "cell_type": "code",
   "execution_count": 70,
   "id": "further-williams",
   "metadata": {},
   "outputs": [
    {
     "name": "stdout",
     "output_type": "stream",
     "text": [
      "carrot\n",
      "banana\n",
      "apple\n",
      "6.7\n",
      "5.6\n",
      "3\n",
      "2\n"
     ]
    }
   ],
   "source": [
    "for i in l:\n",
    "    print(i)"
   ]
  },
  {
   "cell_type": "code",
   "execution_count": 71,
   "id": "senior-shift",
   "metadata": {},
   "outputs": [
    {
     "name": "stdout",
     "output_type": "stream",
     "text": [
      "carrot 1\n",
      "banana 2\n",
      "apple 3\n",
      "6.7 4.5\n",
      "5.6 5.6\n",
      "3 6.7\n",
      "2 apple\n"
     ]
    }
   ],
   "source": [
    "for i,j in zip(l,t):\n",
    "    print(i,j)"
   ]
  },
  {
   "cell_type": "code",
   "execution_count": 72,
   "id": "athletic-deficit",
   "metadata": {},
   "outputs": [
    {
     "data": {
      "text/plain": [
       "(1, 2, 3, 4.5, 5.6, 6.7, 'apple', 'banana', 'carrot')"
      ]
     },
     "execution_count": 72,
     "metadata": {},
     "output_type": "execute_result"
    }
   ],
   "source": [
    "t"
   ]
  },
  {
   "cell_type": "code",
   "execution_count": 73,
   "id": "responsible-warrior",
   "metadata": {},
   "outputs": [
    {
     "data": {
      "text/plain": [
       "['carrot', 'banana', 'apple', 6.7, 5.6, 3, 2]"
      ]
     },
     "execution_count": 73,
     "metadata": {},
     "output_type": "execute_result"
    }
   ],
   "source": [
    "l"
   ]
  },
  {
   "cell_type": "code",
   "execution_count": 74,
   "id": "corresponding-browser",
   "metadata": {},
   "outputs": [
    {
     "name": "stdout",
     "output_type": "stream",
     "text": [
      "0 carrot\n",
      "1 banana\n",
      "2 apple\n",
      "3 6.7\n",
      "4 5.6\n",
      "5 3\n",
      "6 2\n"
     ]
    }
   ],
   "source": [
    "for i,j in enumerate(l):\n",
    "    print(i,j)"
   ]
  },
  {
   "cell_type": "code",
   "execution_count": 75,
   "id": "confidential-retreat",
   "metadata": {},
   "outputs": [],
   "source": [
    "# Write a Python program to multiply all the items in a list\n",
    "numList = list(range(2,8))"
   ]
  },
  {
   "cell_type": "code",
   "execution_count": 77,
   "id": "continuing-design",
   "metadata": {},
   "outputs": [
    {
     "name": "stdout",
     "output_type": "stream",
     "text": [
      "5040\n"
     ]
    }
   ],
   "source": [
    "total = 1\n",
    "for i in numList:\n",
    "    total = total * i\n",
    "print(total)"
   ]
  },
  {
   "cell_type": "code",
   "execution_count": 81,
   "id": "sweet-crash",
   "metadata": {},
   "outputs": [
    {
     "data": {
      "text/plain": [
       "(27, 6, 7, 2)"
      ]
     },
     "execution_count": 81,
     "metadata": {},
     "output_type": "execute_result"
    }
   ],
   "source": [
    "sum(numList), len(numList), max(numList), min(numList)"
   ]
  },
  {
   "cell_type": "code",
   "execution_count": 82,
   "id": "reliable-broadway",
   "metadata": {},
   "outputs": [],
   "source": [
    "D = {} # dict()\n",
    "d = {'a':'apple', 12:\"banana\", 3.14:l, 't':t}"
   ]
  },
  {
   "cell_type": "code",
   "execution_count": 83,
   "id": "blind-michael",
   "metadata": {},
   "outputs": [
    {
     "data": {
      "text/plain": [
       "{'a': 'apple',\n",
       " 12: 'banana',\n",
       " 3.14: ['carrot', 'banana', 'apple', 6.7, 5.6, 3, 2],\n",
       " 't': (1, 2, 3, 4.5, 5.6, 6.7, 'apple', 'banana', 'carrot')}"
      ]
     },
     "execution_count": 83,
     "metadata": {},
     "output_type": "execute_result"
    }
   ],
   "source": [
    "d"
   ]
  },
  {
   "cell_type": "code",
   "execution_count": 84,
   "id": "distinct-interface",
   "metadata": {},
   "outputs": [
    {
     "data": {
      "text/plain": [
       "'banana'"
      ]
     },
     "execution_count": 84,
     "metadata": {},
     "output_type": "execute_result"
    }
   ],
   "source": [
    "d[12]"
   ]
  },
  {
   "cell_type": "code",
   "execution_count": 86,
   "id": "eleven-edwards",
   "metadata": {},
   "outputs": [],
   "source": [
    "d['a'] = 'mango'"
   ]
  },
  {
   "cell_type": "code",
   "execution_count": 87,
   "id": "intended-conclusion",
   "metadata": {},
   "outputs": [
    {
     "data": {
      "text/plain": [
       "{'a': 'mango',\n",
       " 12: 'banana',\n",
       " 3.14: ['carrot', 'banana', 'apple', 6.7, 5.6, 3, 2],\n",
       " 't': (1, 2, 3, 4.5, 5.6, 6.7, 'apple', 'banana', 'carrot')}"
      ]
     },
     "execution_count": 87,
     "metadata": {},
     "output_type": "execute_result"
    }
   ],
   "source": [
    "d"
   ]
  },
  {
   "cell_type": "code",
   "execution_count": 88,
   "id": "interpreted-continent",
   "metadata": {},
   "outputs": [],
   "source": [
    "del d[12]"
   ]
  },
  {
   "cell_type": "code",
   "execution_count": 89,
   "id": "universal-necklace",
   "metadata": {},
   "outputs": [
    {
     "data": {
      "text/plain": [
       "{'a': 'mango',\n",
       " 3.14: ['carrot', 'banana', 'apple', 6.7, 5.6, 3, 2],\n",
       " 't': (1, 2, 3, 4.5, 5.6, 6.7, 'apple', 'banana', 'carrot')}"
      ]
     },
     "execution_count": 89,
     "metadata": {},
     "output_type": "execute_result"
    }
   ],
   "source": [
    "d"
   ]
  },
  {
   "cell_type": "code",
   "execution_count": 90,
   "id": "rental-marks",
   "metadata": {},
   "outputs": [],
   "source": [
    "d['c'] ='carrot'"
   ]
  },
  {
   "cell_type": "code",
   "execution_count": 91,
   "id": "careful-joining",
   "metadata": {},
   "outputs": [
    {
     "data": {
      "text/plain": [
       "{'a': 'mango',\n",
       " 3.14: ['carrot', 'banana', 'apple', 6.7, 5.6, 3, 2],\n",
       " 't': (1, 2, 3, 4.5, 5.6, 6.7, 'apple', 'banana', 'carrot'),\n",
       " 'c': 'carrot'}"
      ]
     },
     "execution_count": 91,
     "metadata": {},
     "output_type": "execute_result"
    }
   ],
   "source": [
    "d"
   ]
  },
  {
   "cell_type": "code",
   "execution_count": 92,
   "id": "going-blend",
   "metadata": {},
   "outputs": [
    {
     "data": {
      "text/plain": [
       "dict_keys(['a', 3.14, 't', 'c'])"
      ]
     },
     "execution_count": 92,
     "metadata": {},
     "output_type": "execute_result"
    }
   ],
   "source": [
    "d.keys()"
   ]
  },
  {
   "cell_type": "code",
   "execution_count": 93,
   "id": "complex-brazilian",
   "metadata": {},
   "outputs": [
    {
     "data": {
      "text/plain": [
       "dict_values(['mango', ['carrot', 'banana', 'apple', 6.7, 5.6, 3, 2], (1, 2, 3, 4.5, 5.6, 6.7, 'apple', 'banana', 'carrot'), 'carrot'])"
      ]
     },
     "execution_count": 93,
     "metadata": {},
     "output_type": "execute_result"
    }
   ],
   "source": [
    "d.values()"
   ]
  },
  {
   "cell_type": "code",
   "execution_count": 95,
   "id": "informative-contractor",
   "metadata": {},
   "outputs": [
    {
     "data": {
      "text/plain": [
       "[('a', 'mango'),\n",
       " (3.14, ['carrot', 'banana', 'apple', 6.7, 5.6, 3, 2]),\n",
       " ('t', (1, 2, 3, 4.5, 5.6, 6.7, 'apple', 'banana', 'carrot')),\n",
       " ('c', 'carrot')]"
      ]
     },
     "execution_count": 95,
     "metadata": {},
     "output_type": "execute_result"
    }
   ],
   "source": [
    "list(d.items())"
   ]
  },
  {
   "cell_type": "code",
   "execution_count": 96,
   "id": "velvet-softball",
   "metadata": {},
   "outputs": [
    {
     "data": {
      "text/plain": [
       "'carrot'"
      ]
     },
     "execution_count": 96,
     "metadata": {},
     "output_type": "execute_result"
    }
   ],
   "source": [
    "d['c']"
   ]
  },
  {
   "cell_type": "code",
   "execution_count": 97,
   "id": "vanilla-failing",
   "metadata": {},
   "outputs": [
    {
     "data": {
      "text/plain": [
       "'carrot'"
      ]
     },
     "execution_count": 97,
     "metadata": {},
     "output_type": "execute_result"
    }
   ],
   "source": [
    "d.get('c')"
   ]
  },
  {
   "cell_type": "code",
   "execution_count": 98,
   "id": "robust-smooth",
   "metadata": {},
   "outputs": [
    {
     "ename": "KeyError",
     "evalue": "12",
     "output_type": "error",
     "traceback": [
      "\u001b[0;31m---------------------------------------------------------------------------\u001b[0m",
      "\u001b[0;31mKeyError\u001b[0m                                  Traceback (most recent call last)",
      "\u001b[0;32m<ipython-input-98-d84f36c30161>\u001b[0m in \u001b[0;36m<module>\u001b[0;34m\u001b[0m\n\u001b[0;32m----> 1\u001b[0;31m \u001b[0md\u001b[0m\u001b[0;34m[\u001b[0m\u001b[0;36m12\u001b[0m\u001b[0;34m]\u001b[0m\u001b[0;34m\u001b[0m\u001b[0;34m\u001b[0m\u001b[0m\n\u001b[0m",
      "\u001b[0;31mKeyError\u001b[0m: 12"
     ]
    }
   ],
   "source": [
    "d[12]"
   ]
  },
  {
   "cell_type": "code",
   "execution_count": 100,
   "id": "western-draft",
   "metadata": {},
   "outputs": [
    {
     "data": {
      "text/plain": [
       "'No Such Key'"
      ]
     },
     "execution_count": 100,
     "metadata": {},
     "output_type": "execute_result"
    }
   ],
   "source": [
    "d.get(12, \"No Such Key\")"
   ]
  },
  {
   "cell_type": "code",
   "execution_count": 101,
   "id": "olympic-attribute",
   "metadata": {},
   "outputs": [
    {
     "data": {
      "text/plain": [
       "['carrot', 'banana', 'apple', 6.7, 5.6, 3, 2]"
      ]
     },
     "execution_count": 101,
     "metadata": {},
     "output_type": "execute_result"
    }
   ],
   "source": [
    "l"
   ]
  },
  {
   "cell_type": "code",
   "execution_count": 104,
   "id": "general-rocket",
   "metadata": {},
   "outputs": [
    {
     "data": {
      "text/plain": [
       "{'carrot': 'default',\n",
       " 'banana': 'default',\n",
       " 'apple': 'default',\n",
       " 6.7: 'default',\n",
       " 5.6: 'default',\n",
       " 3: 'default',\n",
       " 2: 'default'}"
      ]
     },
     "execution_count": 104,
     "metadata": {},
     "output_type": "execute_result"
    }
   ],
   "source": [
    "dict.fromkeys(l, 'default')"
   ]
  },
  {
   "cell_type": "code",
   "execution_count": 105,
   "id": "danish-passage",
   "metadata": {},
   "outputs": [
    {
     "name": "stdout",
     "output_type": "stream",
     "text": [
      "a\n",
      "3.14\n",
      "t\n",
      "c\n"
     ]
    }
   ],
   "source": [
    "for k in d.keys():\n",
    "    print(k)"
   ]
  },
  {
   "cell_type": "code",
   "execution_count": 106,
   "id": "pleased-triple",
   "metadata": {},
   "outputs": [
    {
     "name": "stdout",
     "output_type": "stream",
     "text": [
      "mango\n",
      "['carrot', 'banana', 'apple', 6.7, 5.6, 3, 2]\n",
      "(1, 2, 3, 4.5, 5.6, 6.7, 'apple', 'banana', 'carrot')\n",
      "carrot\n"
     ]
    }
   ],
   "source": [
    "for v in d.values():\n",
    "    print(v)"
   ]
  },
  {
   "cell_type": "code",
   "execution_count": 108,
   "id": "impressed-damages",
   "metadata": {},
   "outputs": [
    {
     "name": "stdout",
     "output_type": "stream",
     "text": [
      "a ==> mango\n",
      "3.14 ==> ['carrot', 'banana', 'apple', 6.7, 5.6, 3, 2]\n",
      "t ==> (1, 2, 3, 4.5, 5.6, 6.7, 'apple', 'banana', 'carrot')\n",
      "c ==> carrot\n"
     ]
    }
   ],
   "source": [
    "for k,v in d.items():\n",
    "    print(k, '==>',v )"
   ]
  },
  {
   "cell_type": "code",
   "execution_count": 119,
   "id": "subject-salvation",
   "metadata": {},
   "outputs": [],
   "source": [
    "# function\n",
    "\n",
    "# no arg no return\n",
    "def addition():\n",
    "    a = float(input(\"Enter a: \"))\n",
    "    b = float(input(\"Enter b: \"))\n",
    "    print(a+b, a*b)\n",
    "    \n",
    "# no arg, with return\n",
    "def addition():\n",
    "    a = float(input(\"Enter a: \"))\n",
    "    b = float(input(\"Enter b: \"))\n",
    "    return a+b, a*b\n",
    "\n",
    "# with arg, with return\n",
    "def addition(a, b):\n",
    "    return a+b, a*b\n",
    "\n",
    "# with deafult value arg, with return\n",
    "def addition(b, a=10):\n",
    "    return a+b, a*b"
   ]
  },
  {
   "cell_type": "code",
   "execution_count": 110,
   "id": "dependent-reasoning",
   "metadata": {},
   "outputs": [
    {
     "name": "stdout",
     "output_type": "stream",
     "text": [
      "Enter a: 5\n",
      "Enter b: 40\n",
      "45.0 200.0\n"
     ]
    }
   ],
   "source": [
    "addition()"
   ]
  },
  {
   "cell_type": "code",
   "execution_count": 112,
   "id": "emerging-prescription",
   "metadata": {},
   "outputs": [
    {
     "name": "stdout",
     "output_type": "stream",
     "text": [
      "Enter a: 4\n",
      "Enter b: 6\n"
     ]
    }
   ],
   "source": [
    "s,m = addition()"
   ]
  },
  {
   "cell_type": "code",
   "execution_count": 113,
   "id": "raised-easter",
   "metadata": {},
   "outputs": [
    {
     "data": {
      "text/plain": [
       "(10.0, 24.0)"
      ]
     },
     "execution_count": 113,
     "metadata": {},
     "output_type": "execute_result"
    }
   ],
   "source": [
    "s,m"
   ]
  },
  {
   "cell_type": "code",
   "execution_count": 114,
   "id": "certain-microwave",
   "metadata": {},
   "outputs": [
    {
     "name": "stdout",
     "output_type": "stream",
     "text": [
      "Enter a: 5\n",
      "Enter b: 3\n"
     ]
    }
   ],
   "source": [
    "ans = addition()"
   ]
  },
  {
   "cell_type": "code",
   "execution_count": 115,
   "id": "editorial-response",
   "metadata": {},
   "outputs": [
    {
     "data": {
      "text/plain": [
       "(8.0, 15.0)"
      ]
     },
     "execution_count": 115,
     "metadata": {},
     "output_type": "execute_result"
    }
   ],
   "source": [
    "ans"
   ]
  },
  {
   "cell_type": "code",
   "execution_count": 117,
   "id": "tamil-vaccine",
   "metadata": {},
   "outputs": [
    {
     "name": "stdout",
     "output_type": "stream",
     "text": [
      "Enter a: 7\n",
      "Enter b: 9\n"
     ]
    }
   ],
   "source": [
    "a = float(input(\"Enter a: \"))\n",
    "b = float(input(\"Enter b: \"))\n",
    "ans = addition(a,b)"
   ]
  },
  {
   "cell_type": "code",
   "execution_count": 118,
   "id": "religious-county",
   "metadata": {},
   "outputs": [
    {
     "data": {
      "text/plain": [
       "(16.0, 63.0)"
      ]
     },
     "execution_count": 118,
     "metadata": {},
     "output_type": "execute_result"
    }
   ],
   "source": [
    "ans"
   ]
  },
  {
   "cell_type": "code",
   "execution_count": 121,
   "id": "global-highway",
   "metadata": {},
   "outputs": [
    {
     "data": {
      "text/plain": [
       "(7, 10)"
      ]
     },
     "execution_count": 121,
     "metadata": {},
     "output_type": "execute_result"
    }
   ],
   "source": [
    "addition(5,2)"
   ]
  },
  {
   "cell_type": "code",
   "execution_count": 136,
   "id": "collaborative-double",
   "metadata": {},
   "outputs": [],
   "source": [
    "def isPrimeCheck(n):\n",
    "    flag = False\n",
    "    for i in range(2,int(n/2)):\n",
    "        if n % i == 0:\n",
    "            break\n",
    "    else:\n",
    "        flag = True\n",
    "    return flag"
   ]
  },
  {
   "cell_type": "code",
   "execution_count": 126,
   "id": "north-bunch",
   "metadata": {},
   "outputs": [],
   "source": [
    "def isPrimeCheck(n):\n",
    "    flag = True\n",
    "    for i in range(2,int(n/2)):\n",
    "        if n % i == 0:\n",
    "            flag = False\n",
    "            break\n",
    "    return flag"
   ]
  },
  {
   "cell_type": "code",
   "execution_count": 129,
   "id": "fewer-internet",
   "metadata": {
    "scrolled": true
   },
   "outputs": [
    {
     "data": {
      "text/plain": [
       "True"
      ]
     },
     "execution_count": 129,
     "metadata": {},
     "output_type": "execute_result"
    }
   ],
   "source": [
    "isPrimeCheck(11)"
   ]
  },
  {
   "cell_type": "code",
   "execution_count": 130,
   "id": "willing-transport",
   "metadata": {},
   "outputs": [],
   "source": [
    "add = lambda x,y: x+y"
   ]
  },
  {
   "cell_type": "code",
   "execution_count": 131,
   "id": "geological-brain",
   "metadata": {},
   "outputs": [
    {
     "data": {
      "text/plain": [
       "8"
      ]
     },
     "execution_count": 131,
     "metadata": {},
     "output_type": "execute_result"
    }
   ],
   "source": [
    "add(5,3)"
   ]
  },
  {
   "cell_type": "code",
   "execution_count": 139,
   "id": "juvenile-vector",
   "metadata": {},
   "outputs": [],
   "source": [
    "numList = list(range(10,20))"
   ]
  },
  {
   "cell_type": "code",
   "execution_count": 145,
   "id": "collectible-titanium",
   "metadata": {},
   "outputs": [],
   "source": [
    "def isPrimeCheck(n):\n",
    "    flag = None\n",
    "    for i in range(2,int(n/2)):\n",
    "        if n % i == 0:\n",
    "            break\n",
    "    else:\n",
    "        flag = n\n",
    "    return flag"
   ]
  },
  {
   "cell_type": "code",
   "execution_count": 146,
   "id": "leading-bandwidth",
   "metadata": {},
   "outputs": [],
   "source": [
    "res = []\n",
    "for num in numList:\n",
    "    res.append(isPrimeCheck(num))"
   ]
  },
  {
   "cell_type": "code",
   "execution_count": 148,
   "id": "normal-tennis",
   "metadata": {},
   "outputs": [],
   "source": [
    "res = [isPrimeCheck(num) for num in numList]"
   ]
  },
  {
   "cell_type": "code",
   "execution_count": 149,
   "id": "moving-pollution",
   "metadata": {},
   "outputs": [
    {
     "data": {
      "text/plain": [
       "[None, 11, None, 13, None, None, None, 17, None, 19]"
      ]
     },
     "execution_count": 149,
     "metadata": {},
     "output_type": "execute_result"
    }
   ],
   "source": [
    "res"
   ]
  },
  {
   "cell_type": "code",
   "execution_count": 150,
   "id": "leading-roommate",
   "metadata": {},
   "outputs": [
    {
     "data": {
      "text/plain": [
       "[None, 11, None, 13, None, None, None, 17, None, 19]"
      ]
     },
     "execution_count": 150,
     "metadata": {},
     "output_type": "execute_result"
    }
   ],
   "source": [
    "list(map(isPrimeCheck, numList))"
   ]
  },
  {
   "cell_type": "code",
   "execution_count": 152,
   "id": "inappropriate-length",
   "metadata": {},
   "outputs": [
    {
     "data": {
      "text/plain": [
       "[11, 13, 17, 19]"
      ]
     },
     "execution_count": 152,
     "metadata": {},
     "output_type": "execute_result"
    }
   ],
   "source": [
    "list(filter(None,map(isPrimeCheck, numList)))"
   ]
  },
  {
   "cell_type": "code",
   "execution_count": 153,
   "id": "compliant-checklist",
   "metadata": {},
   "outputs": [
    {
     "ename": "NameError",
     "evalue": "name 'x' is not defined",
     "output_type": "error",
     "traceback": [
      "\u001b[0;31m---------------------------------------------------------------------------\u001b[0m",
      "\u001b[0;31mNameError\u001b[0m                                 Traceback (most recent call last)",
      "\u001b[0;32m<ipython-input-153-b898c78ebff2>\u001b[0m in \u001b[0;36m<module>\u001b[0;34m\u001b[0m\n\u001b[0;32m----> 1\u001b[0;31m \u001b[0mprint\u001b[0m\u001b[0;34m(\u001b[0m\u001b[0mx\u001b[0m\u001b[0;34m)\u001b[0m\u001b[0;34m\u001b[0m\u001b[0;34m\u001b[0m\u001b[0m\n\u001b[0m\u001b[1;32m      2\u001b[0m \u001b[0mprint\u001b[0m\u001b[0;34m(\u001b[0m\u001b[0;34m\"hello world\"\u001b[0m\u001b[0;34m)\u001b[0m\u001b[0;34m\u001b[0m\u001b[0;34m\u001b[0m\u001b[0m\n",
      "\u001b[0;31mNameError\u001b[0m: name 'x' is not defined"
     ]
    }
   ],
   "source": [
    "print(x)\n",
    "print(\"hello world\")"
   ]
  },
  {
   "cell_type": "code",
   "execution_count": 154,
   "id": "right-portfolio",
   "metadata": {},
   "outputs": [
    {
     "name": "stdout",
     "output_type": "stream",
     "text": [
      "There is an error\n",
      "hello world\n"
     ]
    }
   ],
   "source": [
    "try:\n",
    "    print(x)\n",
    "except:\n",
    "    print(\"There is an error\")\n",
    "print(\"hello world\")"
   ]
  },
  {
   "cell_type": "code",
   "execution_count": 155,
   "id": "moving-rendering",
   "metadata": {},
   "outputs": [
    {
     "name": "stdout",
     "output_type": "stream",
     "text": [
      "There is an error : name 'x' is not defined\n"
     ]
    }
   ],
   "source": [
    "try:\n",
    "    print(x)\n",
    "except Exception as e:\n",
    "    print(\"There is an error : {}\".format(e))"
   ]
  },
  {
   "cell_type": "code",
   "execution_count": 158,
   "id": "communist-concentrate",
   "metadata": {},
   "outputs": [
    {
     "name": "stdout",
     "output_type": "stream",
     "text": [
      "TyperError: 'x' is an invalid keyword argument for this function\n"
     ]
    }
   ],
   "source": [
    "try:\n",
    "    print(x=2)\n",
    "except NameError as e:\n",
    "    print(e)\n",
    "except TypeError as e:\n",
    "    print(\"TyperError: {}\".format(e))"
   ]
  },
  {
   "cell_type": "code",
   "execution_count": 161,
   "id": "dietary-perfume",
   "metadata": {},
   "outputs": [],
   "source": [
    "name = ' sharma'"
   ]
  },
  {
   "cell_type": "code",
   "execution_count": 164,
   "id": "confidential-timing",
   "metadata": {},
   "outputs": [
    {
     "name": "stdout",
     "output_type": "stream",
     "text": [
      "check the variable\n"
     ]
    }
   ],
   "source": [
    "try:\n",
    "    assert name == 'sharma', \"check the variable\"\n",
    "except AssertionError as e:\n",
    "    print(e)"
   ]
  },
  {
   "cell_type": "code",
   "execution_count": 168,
   "id": "minute-combat",
   "metadata": {},
   "outputs": [
    {
     "name": "stdout",
     "output_type": "stream",
     "text": [
      "Enter any number between 10 and 20: 25\n"
     ]
    },
    {
     "ename": "ValueError",
     "evalue": "Enter any number between 10 and 20",
     "output_type": "error",
     "traceback": [
      "\u001b[0;31m---------------------------------------------------------------------------\u001b[0m",
      "\u001b[0;31mValueError\u001b[0m                                Traceback (most recent call last)",
      "\u001b[0;32m<ipython-input-168-7d8484f92c10>\u001b[0m in \u001b[0;36m<module>\u001b[0;34m\u001b[0m\n\u001b[1;32m      1\u001b[0m \u001b[0mnum\u001b[0m \u001b[0;34m=\u001b[0m \u001b[0mint\u001b[0m\u001b[0;34m(\u001b[0m\u001b[0minput\u001b[0m\u001b[0;34m(\u001b[0m\u001b[0;34m\"Enter any number between 10 and 20: \"\u001b[0m\u001b[0;34m)\u001b[0m\u001b[0;34m)\u001b[0m\u001b[0;34m\u001b[0m\u001b[0;34m\u001b[0m\u001b[0m\n\u001b[1;32m      2\u001b[0m \u001b[0;32mif\u001b[0m \u001b[0mnum\u001b[0m \u001b[0;34m<\u001b[0m \u001b[0;36m10\u001b[0m \u001b[0;32mor\u001b[0m \u001b[0mnum\u001b[0m \u001b[0;34m>\u001b[0m \u001b[0;36m20\u001b[0m\u001b[0;34m:\u001b[0m\u001b[0;34m\u001b[0m\u001b[0;34m\u001b[0m\u001b[0m\n\u001b[0;32m----> 3\u001b[0;31m     \u001b[0;32mraise\u001b[0m \u001b[0mValueError\u001b[0m\u001b[0;34m(\u001b[0m\u001b[0;34m\"Enter any number between 10 and 20\"\u001b[0m\u001b[0;34m)\u001b[0m\u001b[0;34m\u001b[0m\u001b[0;34m\u001b[0m\u001b[0m\n\u001b[0m",
      "\u001b[0;31mValueError\u001b[0m: Enter any number between 10 and 20"
     ]
    }
   ],
   "source": [
    "num = int(eval(input(\"Enter any number between 10 and 20: \")))\n",
    "if num < 10 or num > 20:\n",
    "    raise ValueError(\"Enter any number between 10 and 20\")"
   ]
  },
  {
   "cell_type": "code",
   "execution_count": null,
   "id": "social-amateur",
   "metadata": {},
   "outputs": [],
   "source": [
    "!pip install matplotlib"
   ]
  },
  {
   "cell_type": "code",
   "execution_count": 169,
   "id": "least-restoration",
   "metadata": {},
   "outputs": [],
   "source": [
    "import matplotlib.pyplot as plt"
   ]
  },
  {
   "cell_type": "code",
   "execution_count": 176,
   "id": "approved-twins",
   "metadata": {},
   "outputs": [],
   "source": [
    "x = list(range(1,6))\n",
    "y = [i**2 for i in x]\n",
    "y1 = [i**3 for i in x]"
   ]
  },
  {
   "cell_type": "code",
   "execution_count": 184,
   "id": "bored-grill",
   "metadata": {},
   "outputs": [
    {
     "data": {
      "image/png": "[encoded data removed]",
      "text/plain": [
       "<Figure size 432x288 with 1 Axes>"
      ]
     },
     "metadata": {
      "needs_background": "light"
     },
     "output_type": "display_data"
    }
   ],
   "source": [
    "plt.plot(x,y, 'go--', x,y1,'rs:')\n",
    "plt.xlabel('n')\n",
    "plt.ylabel('n^2')\n",
    "plt.title(\"Simple line chart\")\n",
    "plt.show()"
   ]
  },
  {
   "cell_type": "code",
   "execution_count": 191,
   "id": "blind-ground",
   "metadata": {},
   "outputs": [
    {
     "data": {
      "image/png": "[encoded data removed]",
      "text/plain": [
       "<Figure size 432x288 with 2 Axes>"
      ]
     },
     "metadata": {
      "needs_background": "light"
     },
     "output_type": "display_data"
    }
   ],
   "source": [
    "plt.subplot(121)\n",
    "plt.plot(x,y, 'go--')\n",
    "plt.xlabel('n')\n",
    "plt.ylabel('n^2')\n",
    "plt.gca().set_title(\"Simple line chart\")\n",
    "\n",
    "plt.subplot(122)\n",
    "plt.plot(x,y1,'rs:')\n",
    "plt.xlabel('n')\n",
    "plt.ylabel('n^2')\n",
    "plt.gca().set_title(\"Simple line chart\")\n",
    "\n",
    "plt.show()"
   ]
  },
  {
   "cell_type": "code",
   "execution_count": 194,
   "id": "twelve-advertising",
   "metadata": {},
   "outputs": [
    {
     "data": {
      "image/png": "[encoded data removed]",
      "text/plain": [
       "<Figure size 432x288 with 1 Axes>"
      ]
     },
     "metadata": {
      "needs_background": "light"
     },
     "output_type": "display_data"
    }
   ],
   "source": [
    "plt.scatter(x,y, c='g')\n",
    "plt.xlabel('n')\n",
    "plt.ylabel('n^2')\n",
    "plt.title(\"Simple line chart\")\n",
    "plt.show()"
   ]
  },
  {
   "cell_type": "code",
   "execution_count": 199,
   "id": "owned-steel",
   "metadata": {},
   "outputs": [
    {
     "data": {
      "image/png": "[encoded data removed]",
      "text/plain": [
       "<Figure size 432x288 with 1 Axes>"
      ]
     },
     "metadata": {
      "needs_background": "light"
     },
     "output_type": "display_data"
    }
   ],
   "source": [
    "plt.bar(x,y, facecolor='#EBCDEF')\n",
    "plt.show()"
   ]
  },
  {
   "cell_type": "code",
   "execution_count": 202,
   "id": "aerial-retirement",
   "metadata": {},
   "outputs": [
    {
     "data": {
      "image/png": "[encoded data removed]",
      "text/plain": [
       "<Figure size 432x288 with 1 Axes>"
      ]
     },
     "metadata": {
      "needs_background": "light"
     },
     "output_type": "display_data"
    }
   ],
   "source": [
    "plt.barh(x,y, facecolor='#DECDEF')\n",
    "plt.show()"
   ]
  },
  {
   "cell_type": "code",
   "execution_count": 215,
   "id": "serious-romania",
   "metadata": {},
   "outputs": [
    {
     "data": {
      "image/png": "[encoded data removed]",
      "text/plain": [
       "<Figure size 432x288 with 1 Axes>"
      ]
     },
     "metadata": {},
     "output_type": "display_data"
    }
   ],
   "source": [
    "plt.pie(y, labeldistance=0.5, labels=x)\n",
    "plt.show()"
   ]
  },
  {
   "cell_type": "code",
   "execution_count": 204,
   "id": "aging-status",
   "metadata": {},
   "outputs": [
    {
     "data": {
      "image/png": "[encoded data removed]",
      "text/plain": [
       "<Figure size 432x288 with 1 Axes>"
      ]
     },
     "metadata": {
      "needs_background": "light"
     },
     "output_type": "display_data"
    }
   ],
   "source": [
    "plt.boxplot(y)\n",
    "plt.show()"
   ]
  },
  {
   "cell_type": "code",
   "execution_count": 211,
   "id": "still-potter",
   "metadata": {},
   "outputs": [],
   "source": [
    "import matplotlib as m"
   ]
  },
  {
   "cell_type": "code",
   "execution_count": 212,
   "id": "mineral-median",
   "metadata": {},
   "outputs": [
    {
     "data": {
      "text/plain": [
       "'2.2.5'"
      ]
     },
     "execution_count": 212,
     "metadata": {},
     "output_type": "execute_result"
    }
   ],
   "source": [
    "m.__version__"
   ]
  },
  {
   "cell_type": "code",
   "execution_count": 213,
   "id": "genetic-argument",
   "metadata": {},
   "outputs": [
    {
     "data": {
      "image/png": "[encoded data removed]",
      "text/plain": [
       "<Figure size 432x288 with 1 Axes>"
      ]
     },
     "metadata": {},
     "output_type": "display_data"
    }
   ],
   "source": [
    "fig, ax = plt.subplots()\n",
    "\n",
    "size = 0.3\n",
    "vals = np.array([[60., 32.], [37., 40.], [29., 10.]])\n",
    "\n",
    "cmap = plt.get_cmap(\"tab20c\")\n",
    "outer_colors = cmap(np.arange(3)*4)\n",
    "inner_colors = cmap(np.array([1, 2, 5, 6, 9, 10]))\n",
    "\n",
    "ax.pie(vals.sum(axis=1), radius=1, colors=outer_colors,\n",
    "       wedgeprops=dict(width=size, edgecolor='w'))\n",
    "\n",
    "ax.pie(vals.flatten(), radius=1-size, colors=inner_colors,\n",
    "       wedgeprops=dict(width=size, edgecolor='w'))\n",
    "\n",
    "ax.set(aspect=\"equal\", title='Pie plot with `ax.pie`')\n",
    "plt.show()"
   ]
  },
  {
   "cell_type": "markdown",
   "id": "further-exclusion",
   "metadata": {},
   "source": [
    "### Steps to implement ML application"
   ]
  },
  {
   "cell_type": "markdown",
   "id": "close-franchise",
   "metadata": {},
   "source": [
    "1. Load dataset --> pandas, OpenCV\n",
    "2. Split dataset (70:30) --> sklearn\n",
    "3. Define an algorithm --> sklearn, tensorflow, keras\n",
    "4. Training with 70% of data\n",
    "5. validation with 10% of trained data\n",
    "6. Tuning (changing parameters/algorithm)\n",
    "7. Cross-validation with 30% of data"
   ]
  },
  {
   "cell_type": "markdown",
   "id": "laughing-wonder",
   "metadata": {},
   "source": [
    "### ML Application Technologies\n",
    "\n",
    "1. Image processing with ML -> DIP, opencv, sklearn & tensorflow\n",
    "2. NLP (NLU and NLG) -> sklearn & tensorflow, NLP\n",
    "3. Robotics -> Mechatronics background\n",
    "4. Medical diagnosis -> medical background"
   ]
  },
  {
   "cell_type": "markdown",
   "id": "provincial-electricity",
   "metadata": {},
   "source": [
    "### Basic ML algorithms\n",
    "\n",
    "1. Linear Regression  -> Regression\n",
    "\n",
    "\n",
    "2. Logistic Regression -> Classification\n",
    "3. SVM -> Classification\n",
    "\n",
    "\n",
    "4. K-Means -> Clustering\n",
    "5. Hierarchial Clustering -> Clustering\n",
    "\n",
    "\n",
    "6. KNN -> Classification & Clustering\n",
    "\n",
    "\n",
    "7. Naive bayes -> Classification & Regression\n",
    "8. Decision Tree -> Classification & Regression\n",
    "9. Random Forest -> Classification & Regression\n",
    "10. Adaboost -> Classification & Regression\n",
    "\n",
    "\n",
    "11. Apriori -> Associative Learning (Freq Pattern)\n",
    "12. Eclat -> Associative Learning (Freq Pattern)\n",
    "\n",
    "\n",
    "13. PCA -> Dimensionality Reduction\n",
    "\n",
    "\n",
    "14. TF-IDF -> Topic Modeling"
   ]
  },
  {
   "cell_type": "markdown",
   "id": "owned-flash",
   "metadata": {},
   "source": [
    "### ML Deployment Overview\n",
    "\n",
    "1. Microservice --> Rest API \n",
    "2. Docker --> Rest API, staggered \n",
    "3. AWS lambda\n",
    "4. AWS Sagemaker"
   ]
  },
  {
   "cell_type": "code",
   "execution_count": null,
   "id": "altered-camcorder",
   "metadata": {},
   "outputs": [],
   "source": [
    "1. simple flask app/microservice\n",
    "2. ML/DL application\n",
    "3. architecture\n",
    "4. integrating both ML/DL and flask\n",
    "5. Deploy it on EC2 with S3"
   ]
  }
 ],
 "metadata": {
  "kernelspec": {
   "display_name": "Python 3",
   "language": "python",
   "name": "python3"
  },
  "language_info": {
   "codemirror_mode": {
    "name": "ipython",
    "version": 3
   },
   "file_extension": ".py",
   "mimetype": "text/x-python",
   "name": "python",
   "nbconvert_exporter": "python",
   "pygments_lexer": "ipython3",
   "version": "3.6.8"
  },
  "nbTranslate": {
   "displayLangs": [
    "*"
   ],
   "hotkey": "alt-t",
   "langInMainMenu": true,
   "sourceLang": "en",
   "targetLang": "fr",
   "useGoogleTranslate": true
  },
  "toc": {
   "base_numbering": 1,
   "nav_menu": {},
   "number_sections": true,
   "sideBar": true,
   "skip_h1_title": false,
   "title_cell": "Table of Contents",
   "title_sidebar": "Contents",
   "toc_cell": false,
   "toc_position": {},
   "toc_section_display": true,
   "toc_window_display": false
  },
  "varInspector": {
   "cols": {
    "lenName": 16,
    "lenType": 16,
    "lenVar": 40
   },
   "kernels_config": {
    "python": {
     "delete_cmd_postfix": "",
     "delete_cmd_prefix": "del ",
     "library": "var_list.py",
     "varRefreshCmd": "print(var_dic_list())"
    },
    "r": {
     "delete_cmd_postfix": ") ",
     "delete_cmd_prefix": "rm(",
     "library": "var_list.r",
     "varRefreshCmd": "cat(var_dic_list()) "
    }
   },
   "types_to_exclude": [
    "module",
    "function",
    "builtin_function_or_method",
    "instance",
    "_Feature"
   ],
   "window_display": false
  }
 },
 "nbformat": 4,
 "nbformat_minor": 5
}
