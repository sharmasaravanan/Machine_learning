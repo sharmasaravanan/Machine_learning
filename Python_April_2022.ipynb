{
 "cells": [
  {
   "cell_type": "markdown",
   "id": "considerable-billion",
   "metadata": {},
   "source": [
    "### IDE installation"
   ]
  },
  {
   "cell_type": "markdown",
   "id": "lyric-devices",
   "metadata": {},
   "source": [
    "1st option\n",
    "    \n",
    "    python.org -> downloads -> windows/mac -> install\n",
    "    \n",
    "    open cmd -> pip install jupyter notebook\n",
    "    \n",
    "    open cmd -> jupyter notebook\n",
    "\n",
    "2nd option\n",
    "\n",
    "    google colab "
   ]
  },
  {
   "cell_type": "markdown",
   "id": "absolute-defeat",
   "metadata": {},
   "source": [
    "### links"
   ]
  },
  {
   "cell_type": "markdown",
   "id": "cosmetic-cylinder",
   "metadata": {},
   "source": [
    "code:- https://github.com/sharmasaravanan/Machine_learning/blob/master/Python_April_2022.ipynb\n",
    "\n",
    "shorternUrl :- https://bit.ly/3KNpVX1\n",
    "\n",
    "practice:- https://www.practicepython.org/, https://www.w3resource.com/python-exercises/\n",
    "\n",
    "linkedIn:- https://www.linkedin.com/in/sharmasaravanan/\n",
    "\n",
    "Websites:- https://www.sharmasaravanan.com/, https://www.besoins.in/\n"
   ]
  },
  {
   "cell_type": "markdown",
   "id": "pleased-tobacco",
   "metadata": {},
   "source": [
    "### datatypes"
   ]
  },
  {
   "cell_type": "code",
   "execution_count": 2,
   "id": "appointed-subdivision",
   "metadata": {},
   "outputs": [],
   "source": [
    "a = 5  # int\n",
    "b = 3.14  # float\n",
    "c = \"apple\"  # string\n",
    "d = True  # bool"
   ]
  },
  {
   "cell_type": "markdown",
   "id": "according-gregory",
   "metadata": {},
   "source": [
    "### print function"
   ]
  },
  {
   "cell_type": "code",
   "execution_count": 5,
   "id": "strategic-memorial",
   "metadata": {},
   "outputs": [
    {
     "name": "stdout",
     "output_type": "stream",
     "text": [
      "hello world!!\n",
      "1234\n",
      "apple\n"
     ]
    }
   ],
   "source": [
    "print('hello world!!')\n",
    "print(1234)\n",
    "print(c)"
   ]
  },
  {
   "cell_type": "code",
   "execution_count": 9,
   "id": "packed-oxford",
   "metadata": {},
   "outputs": [
    {
     "name": "stdout",
     "output_type": "stream",
     "text": [
      "<class 'int'> <class 'str'>\n",
      "<class 'float'>\n",
      "<class 'str'>\n",
      "<class 'bool'>\n"
     ]
    }
   ],
   "source": [
    "print(type(a), type(str(a)))\n",
    "print(type(b))\n",
    "print(type(c))\n",
    "print(type(d))"
   ]
  },
  {
   "cell_type": "code",
   "execution_count": 10,
   "id": "serious-dietary",
   "metadata": {},
   "outputs": [
    {
     "name": "stdout",
     "output_type": "stream",
     "text": [
      "hello apple\n",
      "hello 5\n",
      "hello apple\n",
      "hello 5\n",
      "hello apple\n",
      "hello 5\n"
     ]
    }
   ],
   "source": [
    "# hello apple\n",
    "# hello 5\n",
    "\n",
    "print('hello',c)\n",
    "print('hello',a)\n",
    "\n",
    "print('hello '+ c)\n",
    "print('hello '+ str(a))\n",
    "\n",
    "print('hello %s'%c)\n",
    "print('hello %d'%a)"
   ]
  },
  {
   "cell_type": "markdown",
   "id": "embedded-radical",
   "metadata": {},
   "source": [
    "### typecast "
   ]
  },
  {
   "cell_type": "code",
   "execution_count": 11,
   "id": "shaped-skating",
   "metadata": {
    "scrolled": true
   },
   "outputs": [
    {
     "name": "stdout",
     "output_type": "stream",
     "text": [
      "5 <class 'str'> 5 <class 'int'>\n"
     ]
    }
   ],
   "source": [
    "print('5', type('5'), 5, type(5))"
   ]
  },
  {
   "cell_type": "code",
   "execution_count": 15,
   "id": "architectural-arthritis",
   "metadata": {},
   "outputs": [
    {
     "name": "stdout",
     "output_type": "stream",
     "text": [
      "7\n",
      "7.0\n"
     ]
    }
   ],
   "source": [
    "e = '5'\n",
    "print(int(e) + 2) \n",
    "print(float(e) + 2) "
   ]
  },
  {
   "cell_type": "code",
   "execution_count": 16,
   "id": "swedish-income",
   "metadata": {},
   "outputs": [],
   "source": [
    "# I bought 3kgs of apple for 150.5Rs\n",
    "w = 3\n",
    "f = \"apple\"\n",
    "p = 150.5"
   ]
  },
  {
   "cell_type": "code",
   "execution_count": 20,
   "id": "national-hierarchy",
   "metadata": {},
   "outputs": [
    {
     "name": "stdout",
     "output_type": "stream",
     "text": [
      "I bought 3 kgs of apple for 150.5 Rs\n",
      "I bought 3kgs of apple for 150.5Rs\n",
      "I bought 3kgs of apple for 150.5Rs\n"
     ]
    }
   ],
   "source": [
    "print(\"I bought\",w,\"kgs of\",f,\"for\",p,\"Rs\")\n",
    "print(\"I bought \"+str(w)+\"kgs of \"+f+\" for \"+str(p)+\"Rs\")\n",
    "print(\"I bought %dkgs of %s for %0.1fRs\"%(w,f,p))"
   ]
  },
  {
   "cell_type": "markdown",
   "id": "raised-future",
   "metadata": {},
   "source": [
    "### operators"
   ]
  },
  {
   "cell_type": "code",
   "execution_count": 35,
   "id": "accessible-marine",
   "metadata": {
    "scrolled": true
   },
   "outputs": [
    {
     "name": "stdout",
     "output_type": "stream",
     "text": [
      "29\n",
      "15\n",
      "15\n",
      "154\n",
      "3.142857142857143\n",
      "1\n",
      "2494357888\n",
      "\n",
      "False\n",
      "True\n",
      "False\n",
      "True\n",
      "False\n",
      "True\n",
      "\n",
      "True\n",
      "False\n",
      "True\n",
      "True\n",
      "True\n",
      "True\n"
     ]
    }
   ],
   "source": [
    "## Arithimetic operators --> + - * / % **\n",
    "print(22 + 7)\n",
    "print(22 - 7)\n",
    "print(abs(7 - 22))\n",
    "print(22 * 7)\n",
    "print(22 / 7)\n",
    "print(22 % 7)\n",
    "print(22 ** 7)\n",
    "print()\n",
    "\n",
    "## conditional operators --> < > <= >= == !=\n",
    "print(22 < 7)\n",
    "print(22 > 7)\n",
    "print(22 <= 7)\n",
    "print(22 >= 7)\n",
    "print(22 == 7)\n",
    "print(22 != 7)\n",
    "print()\n",
    "\n",
    "## logical operators --> and or not\n",
    "print(15 > 5 and 20 < 25)\n",
    "print(15 > 25 and 20 < 25)\n",
    "print(15 > 5 or 20 < 25)\n",
    "print(15 > 25 or 20 < 25)\n",
    "print(a==5)\n",
    "print(not a==15)"
   ]
  },
  {
   "cell_type": "markdown",
   "id": "coastal-apparatus",
   "metadata": {},
   "source": [
    "### input function"
   ]
  },
  {
   "cell_type": "code",
   "execution_count": 39,
   "id": "compound-midwest",
   "metadata": {},
   "outputs": [
    {
     "name": "stdout",
     "output_type": "stream",
     "text": [
      "Enter your name: abc\n",
      "Enter you age: 14\n"
     ]
    }
   ],
   "source": [
    "name = input(\"Enter your name: \")\n",
    "age = int(input(\"Enter you age: \"))"
   ]
  },
  {
   "cell_type": "code",
   "execution_count": 40,
   "id": "little-inspection",
   "metadata": {},
   "outputs": [
    {
     "name": "stdout",
     "output_type": "stream",
     "text": [
      "abc 14\n"
     ]
    }
   ],
   "source": [
    "print(name, age)"
   ]
  },
  {
   "cell_type": "code",
   "execution_count": 41,
   "id": "prostate-poland",
   "metadata": {},
   "outputs": [
    {
     "name": "stdout",
     "output_type": "stream",
     "text": [
      "<class 'str'> <class 'int'>\n"
     ]
    }
   ],
   "source": [
    "print(type(name), type(age))"
   ]
  },
  {
   "cell_type": "markdown",
   "id": "intelligent-dubai",
   "metadata": {},
   "source": [
    "### if - else"
   ]
  },
  {
   "cell_type": "code",
   "execution_count": 46,
   "id": "crazy-market",
   "metadata": {},
   "outputs": [
    {
     "name": "stdout",
     "output_type": "stream",
     "text": [
      "Enter any number: 8\n",
      "Number is even\n"
     ]
    }
   ],
   "source": [
    "num = int(input(\"Enter any number: \"))\n",
    "if num % 2 == 0:\n",
    "    print('Number is even')\n",
    "else:\n",
    "    print('Number is odd')"
   ]
  },
  {
   "cell_type": "markdown",
   "id": "dietary-static",
   "metadata": {},
   "source": [
    "### if - elif - else"
   ]
  },
  {
   "cell_type": "code",
   "execution_count": 50,
   "id": "incoming-exception",
   "metadata": {},
   "outputs": [
    {
     "name": "stdout",
     "output_type": "stream",
     "text": [
      "Enter any number: 5\n",
      "Number is odd\n"
     ]
    }
   ],
   "source": [
    "num = int(input(\"Enter any number: \"))\n",
    "if num % 4 == 0:\n",
    "    print(\"Divisible by 4 and also even\")\n",
    "elif num % 2 == 0:\n",
    "    print('Number is even')\n",
    "else:\n",
    "    print('Number is odd')"
   ]
  },
  {
   "cell_type": "markdown",
   "id": "solar-muslim",
   "metadata": {},
   "source": [
    "### while loop"
   ]
  },
  {
   "cell_type": "code",
   "execution_count": 52,
   "id": "charitable-louis",
   "metadata": {},
   "outputs": [
    {
     "name": "stdout",
     "output_type": "stream",
     "text": [
      "Enter any number: 20\n",
      "Divisible by 4 and also even\n",
      "Enter any number: 10\n",
      "Number is even\n",
      "Enter any number: 5\n",
      "Number is odd\n"
     ]
    }
   ],
   "source": [
    "i = 1\n",
    "while i <= 3:\n",
    "    num = int(input(\"Enter any number: \"))\n",
    "    if num % 4 == 0:\n",
    "        print(\"Divisible by 4 and also even\")\n",
    "    elif num % 2 == 0:\n",
    "        print('Number is even')\n",
    "    else:\n",
    "        print('Number is odd')\n",
    "    i = i + 1"
   ]
  },
  {
   "cell_type": "code",
   "execution_count": 54,
   "id": "nominated-burden",
   "metadata": {},
   "outputs": [
    {
     "name": "stdout",
     "output_type": "stream",
     "text": [
      "Enter any number: 54\n",
      "Number is even\n",
      "Do you want to continue? y/n: n\n",
      "Thank you!!!\n"
     ]
    }
   ],
   "source": [
    "opt = 'y'\n",
    "while opt == 'y':\n",
    "    num = int(input(\"Enter any number: \"))\n",
    "    if num % 4 == 0:\n",
    "        print(\"Divisible by 4 and also even\")\n",
    "    elif num % 2 == 0:\n",
    "        print('Number is even')\n",
    "    else:\n",
    "        print('Number is odd')\n",
    "   \n",
    "    opt = input(\"Do you want to continue? y/n: \")\n",
    "else:\n",
    "     print(\"Thank you!!!\")"
   ]
  },
  {
   "cell_type": "markdown",
   "id": "freelance-venture",
   "metadata": {
    "solution2": "hidden",
    "solution2_first": true
   },
   "source": [
    "### Task-1\n",
    "1. Calculate area of three objects (square, triangel..) by getting input from the user based on the user's selection of object"
   ]
  },
  {
   "cell_type": "code",
   "execution_count": 67,
   "id": "brazilian-payment",
   "metadata": {
    "solution2": "hidden"
   },
   "outputs": [
    {
     "name": "stdout",
     "output_type": "stream",
     "text": [
      "Hello! This program can help you to calculate the area of the following objects \n",
      "1. circle\n",
      "2. square\n",
      "3. rectangle\n",
      "\n",
      "Enter the object you want to calculate: circle\n",
      "Enter the radius of the circle: 2\n",
      "Area of the circle is 12.56\n",
      "\n",
      "Do you want to continue? y/n: y\n",
      "Enter the object you want to calculate: a\n",
      "Invalid option\n",
      "\n",
      "Do you want to continue? y/n: n\n",
      "Thank you!!!\n"
     ]
    }
   ],
   "source": [
    "opt = 'y'\n",
    "print(\n",
    "    \"Hello! This program can help you to calculate the area of the following objects \\n1. circle\\n2. square\\n3. rectangle\"\n",
    ")\n",
    "print()\n",
    "while opt == 'y':\n",
    "    choice = input(\"Enter the object you want to calculate: \")\n",
    "    if choice == \"circle\":\n",
    "        r = eval(input(\"Enter the radius of the circle: \"))\n",
    "        print(\"Area of the circle is\", 3.14 * r * r)\n",
    "    elif choice == \"square\":\n",
    "        a = eval(input(\"Enter the sides of the square: \"))\n",
    "        print(\"Area of the square is\", a * a)\n",
    "    elif choice == \"rectangle\":\n",
    "        l = eval(input(\"Enter the length of the rectangle: \"))\n",
    "        b = eval(input(\"Enter the breadth of the rectangle: \"))\n",
    "        print(\"Area of the rectangle is\", a * a)\n",
    "    else:\n",
    "        print(\"Invalid option\")\n",
    "    print()\n",
    "    opt = input(\"Do you want to continue? y/n: \")\n",
    "else:\n",
    "     print(\"Thank you!!!\")"
   ]
  },
  {
   "cell_type": "markdown",
   "id": "present-stamp",
   "metadata": {},
   "source": [
    "2. Write a python program for Rock paper scissor game.\n",
    "\n",
    "        rock wins scissor\n",
    "        scissor wins paper\n",
    "        paper wins rock"
   ]
  },
  {
   "cell_type": "markdown",
   "id": "imported-circulation",
   "metadata": {},
   "source": [
    "<span class=\"girk\">basics</span>\n",
    "    \n",
    "    string operations\n",
    "    list \n",
    "    tuple\n",
    "    dictionary\n",
    "    for loop\n",
    "    error handling\n",
    "    importing libraries\n",
    "    functions"
   ]
  },
  {
   "cell_type": "markdown",
   "id": "directed-german",
   "metadata": {},
   "source": [
    "<span class=\"mark\">Intermediate</span>\n",
    "\n",
    "    file handling\n",
    "    visualisation"
   ]
  },
  {
   "cell_type": "markdown",
   "id": "compliant-rogers",
   "metadata": {},
   "source": [
    "<span class=\"burk\">Advanced</span>\n",
    "\n",
    "    OOPs\n",
    "    database\n",
    "    logging\n",
    "    API\n",
    "    web service"
   ]
  },
  {
   "cell_type": "code",
   "execution_count": null,
   "id": "afraid-company",
   "metadata": {},
   "outputs": [],
   "source": []
  }
 ],
 "metadata": {
  "kernelspec": {
   "display_name": "Python 3",
   "language": "python",
   "name": "python3"
  },
  "language_info": {
   "codemirror_mode": {
    "name": "ipython",
    "version": 3
   },
   "file_extension": ".py",
   "mimetype": "text/x-python",
   "name": "python",
   "nbconvert_exporter": "python",
   "pygments_lexer": "ipython3",
   "version": "3.6.8"
  },
  "nbTranslate": {
   "displayLangs": [
    "*"
   ],
   "hotkey": "alt-t",
   "langInMainMenu": true,
   "sourceLang": "en",
   "targetLang": "fr",
   "useGoogleTranslate": true
  },
  "toc": {
   "base_numbering": 1,
   "nav_menu": {},
   "number_sections": true,
   "sideBar": true,
   "skip_h1_title": false,
   "title_cell": "Table of Contents",
   "title_sidebar": "Contents",
   "toc_cell": false,
   "toc_position": {},
   "toc_section_display": true,
   "toc_window_display": false
  },
  "varInspector": {
   "cols": {
    "lenName": 16,
    "lenType": 16,
    "lenVar": 40
   },
   "kernels_config": {
    "python": {
     "delete_cmd_postfix": "",
     "delete_cmd_prefix": "del ",
     "library": "var_list.py",
     "varRefreshCmd": "print(var_dic_list())"
    },
    "r": {
     "delete_cmd_postfix": ") ",
     "delete_cmd_prefix": "rm(",
     "library": "var_list.r",
     "varRefreshCmd": "cat(var_dic_list()) "
    }
   },
   "types_to_exclude": [
    "module",
    "function",
    "builtin_function_or_method",
    "instance",
    "_Feature"
   ],
   "window_display": false
  }
 },
 "nbformat": 4,
 "nbformat_minor": 5
}
