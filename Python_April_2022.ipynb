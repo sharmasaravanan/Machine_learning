{
 "cells": [
  {
   "cell_type": "markdown",
   "id": "included-portfolio",
   "metadata": {},
   "source": [
    "### IDE installation"
   ]
  },
  {
   "cell_type": "markdown",
   "id": "hungarian-oklahoma",
   "metadata": {},
   "source": [
    "1st option\n",
    "    \n",
    "    python.org -> downloads -> windows/mac -> install\n",
    "    \n",
    "    open cmd -> pip install jupyter notebook\n",
    "    \n",
    "    open cmd -> jupyter notebook\n",
    "\n",
    "2nd option\n",
    "\n",
    "    google colab "
   ]
  },
  {
   "cell_type": "markdown",
   "id": "consecutive-olympus",
   "metadata": {},
   "source": [
    "### links"
   ]
  },
  {
   "cell_type": "markdown",
   "id": "dutch-compilation",
   "metadata": {},
   "source": [
    "code:- https://github.com/sharmasaravanan/Machine_learning/blob/master/Python_April_2022.ipynb\n",
    "\n",
    "shorternUrl :- https://bit.ly/3KNpVX1\n",
    "\n",
    "practice:- https://www.practicepython.org/, https://www.w3resource.com/python-exercises/\n",
    "\n",
    "linkedIn:- https://www.linkedin.com/in/sharmasaravanan/\n",
    "\n",
    "Websites:- https://www.sharmasaravanan.com/, https://www.besoins.in/\n"
   ]
  },
  {
   "cell_type": "markdown",
   "id": "industrial-interim",
   "metadata": {},
   "source": [
    "### datatypes"
   ]
  },
  {
   "cell_type": "code",
   "execution_count": 2,
   "id": "corporate-strain",
   "metadata": {},
   "outputs": [],
   "source": [
    "a = 5  # int\n",
    "b = 3.14  # float\n",
    "c = \"apple\"  # string\n",
    "d = True  # bool"
   ]
  },
  {
   "cell_type": "markdown",
   "id": "behind-mystery",
   "metadata": {},
   "source": [
    "### print function"
   ]
  },
  {
   "cell_type": "code",
   "execution_count": 5,
   "id": "active-panic",
   "metadata": {},
   "outputs": [
    {
     "name": "stdout",
     "output_type": "stream",
     "text": [
      "hello world!!\n",
      "1234\n",
      "apple\n"
     ]
    }
   ],
   "source": [
    "print('hello world!!')\n",
    "print(1234)\n",
    "print(c)"
   ]
  },
  {
   "cell_type": "code",
   "execution_count": 9,
   "id": "flying-detector",
   "metadata": {},
   "outputs": [
    {
     "name": "stdout",
     "output_type": "stream",
     "text": [
      "<class 'int'> <class 'str'>\n",
      "<class 'float'>\n",
      "<class 'str'>\n",
      "<class 'bool'>\n"
     ]
    }
   ],
   "source": [
    "print(type(a), type(str(a)))\n",
    "print(type(b))\n",
    "print(type(c))\n",
    "print(type(d))"
   ]
  },
  {
   "cell_type": "code",
   "execution_count": 10,
   "id": "judicial-cause",
   "metadata": {},
   "outputs": [
    {
     "name": "stdout",
     "output_type": "stream",
     "text": [
      "hello apple\n",
      "hello 5\n",
      "hello apple\n",
      "hello 5\n",
      "hello apple\n",
      "hello 5\n"
     ]
    }
   ],
   "source": [
    "# hello apple\n",
    "# hello 5\n",
    "\n",
    "print('hello',c)\n",
    "print('hello',a)\n",
    "\n",
    "print('hello '+ c)\n",
    "print('hello '+ str(a))\n",
    "\n",
    "print('hello %s'%c)\n",
    "print('hello %d'%a)"
   ]
  },
  {
   "cell_type": "markdown",
   "id": "exposed-medicare",
   "metadata": {},
   "source": [
    "### typecast "
   ]
  },
  {
   "cell_type": "code",
   "execution_count": 11,
   "id": "simple-george",
   "metadata": {
    "scrolled": true
   },
   "outputs": [
    {
     "name": "stdout",
     "output_type": "stream",
     "text": [
      "5 <class 'str'> 5 <class 'int'>\n"
     ]
    }
   ],
   "source": [
    "print('5', type('5'), 5, type(5))"
   ]
  },
  {
   "cell_type": "code",
   "execution_count": 15,
   "id": "violent-canadian",
   "metadata": {},
   "outputs": [
    {
     "name": "stdout",
     "output_type": "stream",
     "text": [
      "7\n",
      "7.0\n"
     ]
    }
   ],
   "source": [
    "e = '5'\n",
    "print(int(e) + 2) \n",
    "print(float(e) + 2) "
   ]
  },
  {
   "cell_type": "code",
   "execution_count": 16,
   "id": "competitive-money",
   "metadata": {},
   "outputs": [],
   "source": [
    "# I bought 3kgs of apple for 150.5Rs\n",
    "w = 3\n",
    "f = \"apple\"\n",
    "p = 150.5"
   ]
  },
  {
   "cell_type": "code",
   "execution_count": 20,
   "id": "sophisticated-northwest",
   "metadata": {},
   "outputs": [
    {
     "name": "stdout",
     "output_type": "stream",
     "text": [
      "I bought 3 kgs of apple for 150.5 Rs\n",
      "I bought 3kgs of apple for 150.5Rs\n",
      "I bought 3kgs of apple for 150.5Rs\n"
     ]
    }
   ],
   "source": [
    "print(\"I bought\",w,\"kgs of\",f,\"for\",p,\"Rs\")\n",
    "print(\"I bought \"+str(w)+\"kgs of \"+f+\" for \"+str(p)+\"Rs\")\n",
    "print(\"I bought %dkgs of %s for %0.1fRs\"%(w,f,p))"
   ]
  },
  {
   "cell_type": "markdown",
   "id": "capable-flashing",
   "metadata": {},
   "source": [
    "### operators"
   ]
  },
  {
   "cell_type": "code",
   "execution_count": 35,
   "id": "subject-breeding",
   "metadata": {
    "scrolled": true
   },
   "outputs": [
    {
     "name": "stdout",
     "output_type": "stream",
     "text": [
      "29\n",
      "15\n",
      "15\n",
      "154\n",
      "3.142857142857143\n",
      "1\n",
      "2494357888\n",
      "\n",
      "False\n",
      "True\n",
      "False\n",
      "True\n",
      "False\n",
      "True\n",
      "\n",
      "True\n",
      "False\n",
      "True\n",
      "True\n",
      "True\n",
      "True\n"
     ]
    }
   ],
   "source": [
    "## Arithimetic operators --> + - * / % **\n",
    "print(22 + 7)\n",
    "print(22 - 7)\n",
    "print(abs(7 - 22))\n",
    "print(22 * 7)\n",
    "print(22 / 7)\n",
    "print(22 % 7)\n",
    "print(22 ** 7)\n",
    "print()\n",
    "\n",
    "## conditional operators --> < > <= >= == !=\n",
    "print(22 < 7)\n",
    "print(22 > 7)\n",
    "print(22 <= 7)\n",
    "print(22 >= 7)\n",
    "print(22 == 7)\n",
    "print(22 != 7)\n",
    "print()\n",
    "\n",
    "## logical operators --> and or not\n",
    "print(15 > 5 and 20 < 25)\n",
    "print(15 > 25 and 20 < 25)\n",
    "print(15 > 5 or 20 < 25)\n",
    "print(15 > 25 or 20 < 25)\n",
    "print(a==5)\n",
    "print(not a==15)"
   ]
  },
  {
   "cell_type": "markdown",
   "id": "optional-consultation",
   "metadata": {},
   "source": [
    "### input function"
   ]
  },
  {
   "cell_type": "code",
   "execution_count": 39,
   "id": "alone-fellowship",
   "metadata": {},
   "outputs": [
    {
     "name": "stdout",
     "output_type": "stream",
     "text": [
      "Enter your name: abc\n",
      "Enter you age: 14\n"
     ]
    }
   ],
   "source": [
    "name = input(\"Enter your name: \")\n",
    "age = int(input(\"Enter you age: \"))"
   ]
  },
  {
   "cell_type": "code",
   "execution_count": 40,
   "id": "comic-salmon",
   "metadata": {},
   "outputs": [
    {
     "name": "stdout",
     "output_type": "stream",
     "text": [
      "abc 14\n"
     ]
    }
   ],
   "source": [
    "print(name, age)"
   ]
  },
  {
   "cell_type": "code",
   "execution_count": 41,
   "id": "opening-russian",
   "metadata": {},
   "outputs": [
    {
     "name": "stdout",
     "output_type": "stream",
     "text": [
      "<class 'str'> <class 'int'>\n"
     ]
    }
   ],
   "source": [
    "print(type(name), type(age))"
   ]
  },
  {
   "cell_type": "markdown",
   "id": "responsible-advancement",
   "metadata": {},
   "source": [
    "### if - else"
   ]
  },
  {
   "cell_type": "code",
   "execution_count": 46,
   "id": "commercial-hundred",
   "metadata": {},
   "outputs": [
    {
     "name": "stdout",
     "output_type": "stream",
     "text": [
      "Enter any number: 8\n",
      "Number is even\n"
     ]
    }
   ],
   "source": [
    "num = int(input(\"Enter any number: \"))\n",
    "if num % 2 == 0:\n",
    "    print('Number is even')\n",
    "else:\n",
    "    print('Number is odd')"
   ]
  },
  {
   "cell_type": "markdown",
   "id": "great-hands",
   "metadata": {},
   "source": [
    "### if - elif - else"
   ]
  },
  {
   "cell_type": "code",
   "execution_count": 50,
   "id": "combined-tiffany",
   "metadata": {},
   "outputs": [
    {
     "name": "stdout",
     "output_type": "stream",
     "text": [
      "Enter any number: 5\n",
      "Number is odd\n"
     ]
    }
   ],
   "source": [
    "num = int(input(\"Enter any number: \"))\n",
    "if num % 4 == 0:\n",
    "    print(\"Divisible by 4 and also even\")\n",
    "elif num % 2 == 0:\n",
    "    print('Number is even')\n",
    "else:\n",
    "    print('Number is odd')"
   ]
  },
  {
   "cell_type": "markdown",
   "id": "fixed-radius",
   "metadata": {},
   "source": [
    "### while loop"
   ]
  },
  {
   "cell_type": "code",
   "execution_count": 52,
   "id": "minute-shame",
   "metadata": {},
   "outputs": [
    {
     "name": "stdout",
     "output_type": "stream",
     "text": [
      "Enter any number: 20\n",
      "Divisible by 4 and also even\n",
      "Enter any number: 10\n",
      "Number is even\n",
      "Enter any number: 5\n",
      "Number is odd\n"
     ]
    }
   ],
   "source": [
    "i = 1\n",
    "while i <= 3:\n",
    "    num = int(input(\"Enter any number: \"))\n",
    "    if num % 4 == 0:\n",
    "        print(\"Divisible by 4 and also even\")\n",
    "    elif num % 2 == 0:\n",
    "        print('Number is even')\n",
    "    else:\n",
    "        print('Number is odd')\n",
    "    i = i + 1"
   ]
  },
  {
   "cell_type": "code",
   "execution_count": 54,
   "id": "annual-maria",
   "metadata": {},
   "outputs": [
    {
     "name": "stdout",
     "output_type": "stream",
     "text": [
      "Enter any number: 54\n",
      "Number is even\n",
      "Do you want to continue? y/n: n\n",
      "Thank you!!!\n"
     ]
    }
   ],
   "source": [
    "opt = 'y'\n",
    "while opt == 'y':\n",
    "    num = int(input(\"Enter any number: \"))\n",
    "    if num % 4 == 0:\n",
    "        print(\"Divisible by 4 and also even\")\n",
    "    elif num % 2 == 0:\n",
    "        print('Number is even')\n",
    "    else:\n",
    "        print('Number is odd')\n",
    "   \n",
    "    opt = input(\"Do you want to continue? y/n: \")\n",
    "else:\n",
    "     print(\"Thank you!!!\")"
   ]
  },
  {
   "cell_type": "markdown",
   "id": "complicated-medication",
   "metadata": {
    "solution2": "hidden",
    "solution2_first": true
   },
   "source": [
    "### Task-1\n",
    "1. Calculate area of three objects (square, triangel..) by getting input from the user based on the user's selection of object"
   ]
  },
  {
   "cell_type": "code",
   "execution_count": 72,
   "id": "acting-token",
   "metadata": {
    "deletable": false,
    "editable": false,
    "solution2": "hidden"
   },
   "outputs": [
    {
     "name": "stdout",
     "output_type": "stream",
     "text": [
      "Hello! This program can help you to calculate the area of the following objects \n",
      "1. circle\n",
      "2. square\n",
      "3. rectangle\n",
      "\n",
      "Enter the object you want to calculate: a\n",
      "Invalid option\n",
      "\n",
      "Do you want to continue? y/n: n\n",
      "Thank you!!!\n"
     ]
    }
   ],
   "source": [
    "opt = 'y'\n",
    "print(\n",
    "    \"Hello! This program can help you to calculate the area of the following objects \\n1. circle\\n2. square\\n3. rectangle\"\n",
    ")\n",
    "print()\n",
    "while opt == 'y':\n",
    "    choice = input(\"Enter the object you want to calculate: \")\n",
    "    if choice == \"circle\":\n",
    "        r = eval(input(\"Enter the radius of the circle: \"))\n",
    "        print(\"Area of the circle is\", 3.14 * r * r)\n",
    "    elif choice == \"square\":\n",
    "        a = eval(input(\"Enter the sides of the square: \"))\n",
    "        print(\"Area of the square is\", a * a)\n",
    "    elif choice == \"rectangle\":\n",
    "        l = eval(input(\"Enter the length of the rectangle: \"))\n",
    "        b = eval(input(\"Enter the breadth of the rectangle: \"))\n",
    "        print(\"Area of the rectangle is\", a * a)\n",
    "    else:\n",
    "        print(\"Invalid option\")\n",
    "    print()\n",
    "    opt = input(\"Do you want to continue? y/n: \")\n",
    "else:\n",
    "     print(\"Thank you!!!\")"
   ]
  },
  {
   "cell_type": "markdown",
   "id": "average-generator",
   "metadata": {},
   "source": [
    "### HW-1"
   ]
  },
  {
   "cell_type": "markdown",
   "id": "tested-constitutional",
   "metadata": {},
   "source": [
    "1. Write a python program for Rock paper scissor game.\n",
    "\n",
    "        rock wins scissor\n",
    "        scissor wins paper\n",
    "        paper wins rock"
   ]
  },
  {
   "cell_type": "markdown",
   "id": "progressive-envelope",
   "metadata": {},
   "source": [
    "###     string operations"
   ]
  },
  {
   "cell_type": "code",
   "execution_count": 73,
   "id": "israeli-financing",
   "metadata": {},
   "outputs": [],
   "source": [
    "name = \"elephant\"\n",
    "sent = \"Time-Series Data Denoising using Auto-encoders\""
   ]
  },
  {
   "cell_type": "code",
   "execution_count": 75,
   "id": "golden-layer",
   "metadata": {},
   "outputs": [
    {
     "data": {
      "text/plain": [
       "'a'"
      ]
     },
     "execution_count": 75,
     "metadata": {},
     "output_type": "execute_result"
    }
   ],
   "source": [
    "name[5]"
   ]
  },
  {
   "cell_type": "code",
   "execution_count": 76,
   "id": "closing-empire",
   "metadata": {},
   "outputs": [
    {
     "data": {
      "text/plain": [
       "'ephant'"
      ]
     },
     "execution_count": 76,
     "metadata": {},
     "output_type": "execute_result"
    }
   ],
   "source": [
    "name[2:]"
   ]
  },
  {
   "cell_type": "code",
   "execution_count": 77,
   "id": "indie-island",
   "metadata": {},
   "outputs": [
    {
     "data": {
      "text/plain": [
       "'ele'"
      ]
     },
     "execution_count": 77,
     "metadata": {},
     "output_type": "execute_result"
    }
   ],
   "source": [
    "name[:3]"
   ]
  },
  {
   "cell_type": "code",
   "execution_count": 78,
   "id": "liberal-smoke",
   "metadata": {},
   "outputs": [
    {
     "data": {
      "text/plain": [
       "'eph'"
      ]
     },
     "execution_count": 78,
     "metadata": {},
     "output_type": "execute_result"
    }
   ],
   "source": [
    "name[2:5]"
   ]
  },
  {
   "cell_type": "code",
   "execution_count": 79,
   "id": "limiting-affair",
   "metadata": {},
   "outputs": [
    {
     "data": {
      "text/plain": [
       "8"
      ]
     },
     "execution_count": 79,
     "metadata": {},
     "output_type": "execute_result"
    }
   ],
   "source": [
    "len(name)"
   ]
  },
  {
   "cell_type": "code",
   "execution_count": 80,
   "id": "julian-tuesday",
   "metadata": {},
   "outputs": [
    {
     "data": {
      "text/plain": [
       "'tnahpele'"
      ]
     },
     "execution_count": 80,
     "metadata": {},
     "output_type": "execute_result"
    }
   ],
   "source": [
    "name[::-1]"
   ]
  },
  {
   "cell_type": "code",
   "execution_count": 81,
   "id": "processed-mercy",
   "metadata": {},
   "outputs": [],
   "source": [
    "palindrome = \"malayalam\""
   ]
  },
  {
   "cell_type": "code",
   "execution_count": 82,
   "id": "greek-hawaiian",
   "metadata": {},
   "outputs": [
    {
     "data": {
      "text/plain": [
       "('malayalam', 'malayalam')"
      ]
     },
     "execution_count": 82,
     "metadata": {},
     "output_type": "execute_result"
    }
   ],
   "source": [
    "palindrome, palindrome[::-1]"
   ]
  },
  {
   "cell_type": "code",
   "execution_count": 83,
   "id": "moral-whole",
   "metadata": {},
   "outputs": [
    {
     "data": {
      "text/plain": [
       "'ELEPHANT'"
      ]
     },
     "execution_count": 83,
     "metadata": {},
     "output_type": "execute_result"
    }
   ],
   "source": [
    "name.upper()"
   ]
  },
  {
   "cell_type": "code",
   "execution_count": 84,
   "id": "moderate-architecture",
   "metadata": {},
   "outputs": [
    {
     "data": {
      "text/plain": [
       "'time-series data denoising using auto-encoders'"
      ]
     },
     "execution_count": 84,
     "metadata": {},
     "output_type": "execute_result"
    }
   ],
   "source": [
    "sent.lower()"
   ]
  },
  {
   "cell_type": "code",
   "execution_count": 85,
   "id": "official-large",
   "metadata": {},
   "outputs": [
    {
     "data": {
      "text/plain": [
       "'Time-Series Data Denoising Using Auto-Encoders'"
      ]
     },
     "execution_count": 85,
     "metadata": {},
     "output_type": "execute_result"
    }
   ],
   "source": [
    "sent.title()"
   ]
  },
  {
   "cell_type": "code",
   "execution_count": 86,
   "id": "piano-effort",
   "metadata": {},
   "outputs": [
    {
     "data": {
      "text/plain": [
       "'Time-series data denoising using auto-encoders'"
      ]
     },
     "execution_count": 86,
     "metadata": {},
     "output_type": "execute_result"
    }
   ],
   "source": [
    "sent.capitalize()"
   ]
  },
  {
   "cell_type": "code",
   "execution_count": 87,
   "id": "indonesian-processing",
   "metadata": {},
   "outputs": [
    {
     "data": {
      "text/plain": [
       "'tIME-sERIES dATA dENOISING USING aUTO-ENCODERS'"
      ]
     },
     "execution_count": 87,
     "metadata": {},
     "output_type": "execute_result"
    }
   ],
   "source": [
    "sent.swapcase()"
   ]
  },
  {
   "cell_type": "code",
   "execution_count": 88,
   "id": "considerable-precipitation",
   "metadata": {},
   "outputs": [
    {
     "data": {
      "text/plain": [
       "2"
      ]
     },
     "execution_count": 88,
     "metadata": {},
     "output_type": "execute_result"
    }
   ],
   "source": [
    "name.count('e')"
   ]
  },
  {
   "cell_type": "code",
   "execution_count": 89,
   "id": "right-athens",
   "metadata": {},
   "outputs": [
    {
     "data": {
      "text/plain": [
       "'Time Series Data Denoising using Auto encoders'"
      ]
     },
     "execution_count": 89,
     "metadata": {},
     "output_type": "execute_result"
    }
   ],
   "source": [
    "sent.replace('-', ' ')"
   ]
  },
  {
   "cell_type": "code",
   "execution_count": 92,
   "id": "terminal-producer",
   "metadata": {},
   "outputs": [
    {
     "data": {
      "text/plain": [
       "-1"
      ]
     },
     "execution_count": 92,
     "metadata": {},
     "output_type": "execute_result"
    }
   ],
   "source": [
    "name.find('z')"
   ]
  },
  {
   "cell_type": "code",
   "execution_count": 93,
   "id": "competitive-girlfriend",
   "metadata": {},
   "outputs": [
    {
     "ename": "ValueError",
     "evalue": "substring not found",
     "output_type": "error",
     "traceback": [
      "\u001b[0;31m---------------------------------------------------------------------------\u001b[0m",
      "\u001b[0;31mValueError\u001b[0m                                Traceback (most recent call last)",
      "\u001b[0;32m<ipython-input-93-a593ec84d793>\u001b[0m in \u001b[0;36m<module>\u001b[0;34m\u001b[0m\n\u001b[0;32m----> 1\u001b[0;31m \u001b[0mname\u001b[0m\u001b[0;34m.\u001b[0m\u001b[0mindex\u001b[0m\u001b[0;34m(\u001b[0m\u001b[0;34m'z'\u001b[0m\u001b[0;34m)\u001b[0m\u001b[0;34m\u001b[0m\u001b[0;34m\u001b[0m\u001b[0m\n\u001b[0m",
      "\u001b[0;31mValueError\u001b[0m: substring not found"
     ]
    }
   ],
   "source": [
    "name.index('z')"
   ]
  },
  {
   "cell_type": "code",
   "execution_count": 95,
   "id": "piano-technique",
   "metadata": {},
   "outputs": [
    {
     "data": {
      "text/plain": [
       "True"
      ]
     },
     "execution_count": 95,
     "metadata": {},
     "output_type": "execute_result"
    }
   ],
   "source": [
    "name.endswith(\"nt\")"
   ]
  },
  {
   "cell_type": "code",
   "execution_count": 96,
   "id": "fossil-shield",
   "metadata": {},
   "outputs": [
    {
     "data": {
      "text/plain": [
       "True"
      ]
     },
     "execution_count": 96,
     "metadata": {},
     "output_type": "execute_result"
    }
   ],
   "source": [
    "name.startswith(\"el\")"
   ]
  },
  {
   "cell_type": "code",
   "execution_count": 97,
   "id": "crude-walker",
   "metadata": {},
   "outputs": [
    {
     "data": {
      "text/plain": [
       "'~~~~~~elephant~~~~~~'"
      ]
     },
     "execution_count": 97,
     "metadata": {},
     "output_type": "execute_result"
    }
   ],
   "source": [
    "name.center(20,\"~\")"
   ]
  },
  {
   "cell_type": "code",
   "execution_count": 98,
   "id": "manual-laptop",
   "metadata": {},
   "outputs": [
    {
     "data": {
      "text/plain": [
       "'0000elephant'"
      ]
     },
     "execution_count": 98,
     "metadata": {},
     "output_type": "execute_result"
    }
   ],
   "source": [
    "name.zfill(12)"
   ]
  },
  {
   "cell_type": "code",
   "execution_count": 99,
   "id": "complete-document",
   "metadata": {},
   "outputs": [
    {
     "data": {
      "text/plain": [
       "'sharma'"
      ]
     },
     "execution_count": 99,
     "metadata": {},
     "output_type": "execute_result"
    }
   ],
   "source": [
    "\" sharma \".strip()"
   ]
  },
  {
   "cell_type": "code",
   "execution_count": 100,
   "id": "welcome-wings",
   "metadata": {},
   "outputs": [
    {
     "data": {
      "text/plain": [
       "'elepha'"
      ]
     },
     "execution_count": 100,
     "metadata": {},
     "output_type": "execute_result"
    }
   ],
   "source": [
    "name.strip(\"nt\")"
   ]
  },
  {
   "cell_type": "code",
   "execution_count": 104,
   "id": "unexpected-expert",
   "metadata": {},
   "outputs": [
    {
     "data": {
      "text/plain": [
       "'Time-Series Data Denoising using Auto-encoders'"
      ]
     },
     "execution_count": 104,
     "metadata": {},
     "output_type": "execute_result"
    }
   ],
   "source": [
    "\"en\".join(sent.split('en'))"
   ]
  },
  {
   "cell_type": "code",
   "execution_count": 105,
   "id": "golden-excitement",
   "metadata": {},
   "outputs": [
    {
     "data": {
      "text/plain": [
       "True"
      ]
     },
     "execution_count": 105,
     "metadata": {},
     "output_type": "execute_result"
    }
   ],
   "source": [
    "name.isalpha()"
   ]
  },
  {
   "cell_type": "code",
   "execution_count": 106,
   "id": "adjacent-baker",
   "metadata": {},
   "outputs": [
    {
     "data": {
      "text/plain": [
       "True"
      ]
     },
     "execution_count": 106,
     "metadata": {},
     "output_type": "execute_result"
    }
   ],
   "source": [
    "name.isalnum()"
   ]
  },
  {
   "cell_type": "code",
   "execution_count": 107,
   "id": "electrical-superior",
   "metadata": {},
   "outputs": [
    {
     "data": {
      "text/plain": [
       "False"
      ]
     },
     "execution_count": 107,
     "metadata": {},
     "output_type": "execute_result"
    }
   ],
   "source": [
    "name.isdigit()"
   ]
  },
  {
   "cell_type": "code",
   "execution_count": 108,
   "id": "proper-speed",
   "metadata": {},
   "outputs": [
    {
     "data": {
      "text/plain": [
       "True"
      ]
     },
     "execution_count": 108,
     "metadata": {},
     "output_type": "execute_result"
    }
   ],
   "source": [
    "'1234'.isdigit()"
   ]
  },
  {
   "cell_type": "code",
   "execution_count": 110,
   "id": "social-egypt",
   "metadata": {},
   "outputs": [
    {
     "data": {
      "text/plain": [
       "False"
      ]
     },
     "execution_count": 110,
     "metadata": {},
     "output_type": "execute_result"
    }
   ],
   "source": [
    "\" l\".isspace()"
   ]
  },
  {
   "cell_type": "code",
   "execution_count": 111,
   "id": "supreme-bouquet",
   "metadata": {},
   "outputs": [
    {
     "data": {
      "text/plain": [
       "False"
      ]
     },
     "execution_count": 111,
     "metadata": {},
     "output_type": "execute_result"
    }
   ],
   "source": [
    "name.isupper()"
   ]
  },
  {
   "cell_type": "markdown",
   "id": "executed-cloud",
   "metadata": {},
   "source": [
    "### task-2"
   ]
  },
  {
   "cell_type": "markdown",
   "id": "rocky-terrorist",
   "metadata": {
    "solution2": "hidden",
    "solution2_first": true
   },
   "source": [
    "Write a Python program that accepts an integer (n) and computes the value of n+nn+nnn\n",
    "\n",
    "    n = 6\n",
    "    output = 6 + 66 + 666 = 738\n",
    "    \n",
    "Note: Do not use the following solution, n * 1 + n * 11 + n * 111"
   ]
  },
  {
   "cell_type": "code",
   "execution_count": 126,
   "id": "heated-label",
   "metadata": {
    "deletable": false,
    "editable": false,
    "solution2": "hidden"
   },
   "outputs": [
    {
     "name": "stdout",
     "output_type": "stream",
     "text": [
      "Enter any number: 4\n",
      "492 492\n"
     ]
    }
   ],
   "source": [
    "n = input(\"Enter any number: \")\n",
    "ans1 = int(n)+ int(n+n) + int(n+n+n)\n",
    "ans2 = int(n)+ int(n*2) + int(n*3)\n",
    "print(ans1,ans2)"
   ]
  },
  {
   "cell_type": "markdown",
   "id": "exotic-ethics",
   "metadata": {},
   "source": [
    "### List"
   ]
  },
  {
   "cell_type": "code",
   "execution_count": 127,
   "id": "ancient-buffalo",
   "metadata": {},
   "outputs": [],
   "source": [
    "L = []"
   ]
  },
  {
   "cell_type": "code",
   "execution_count": 128,
   "id": "enclosed-guatemala",
   "metadata": {},
   "outputs": [
    {
     "data": {
      "text/plain": [
       "list"
      ]
     },
     "execution_count": 128,
     "metadata": {},
     "output_type": "execute_result"
    }
   ],
   "source": [
    "type(L)"
   ]
  },
  {
   "cell_type": "code",
   "execution_count": 134,
   "id": "romance-incident",
   "metadata": {},
   "outputs": [],
   "source": [
    "l = [12,34,56,1.2,4.5,67.9,'apple','ball','cat']"
   ]
  },
  {
   "cell_type": "code",
   "execution_count": 135,
   "id": "received-remedy",
   "metadata": {},
   "outputs": [
    {
     "data": {
      "text/plain": [
       "[12, 34, 56, 1.2, 4.5, 67.9, 'apple', 'ball', 'cat']"
      ]
     },
     "execution_count": 135,
     "metadata": {},
     "output_type": "execute_result"
    }
   ],
   "source": [
    "l"
   ]
  },
  {
   "cell_type": "code",
   "execution_count": 136,
   "id": "narrative-valuation",
   "metadata": {},
   "outputs": [
    {
     "data": {
      "text/plain": [
       "[1.2, 4.5, 67.9, 'apple', 'ball']"
      ]
     },
     "execution_count": 136,
     "metadata": {},
     "output_type": "execute_result"
    }
   ],
   "source": [
    "l[3:8]"
   ]
  },
  {
   "cell_type": "code",
   "execution_count": 138,
   "id": "another-swaziland",
   "metadata": {},
   "outputs": [],
   "source": [
    "l[4] = 72.8"
   ]
  },
  {
   "cell_type": "code",
   "execution_count": 139,
   "id": "prescription-legend",
   "metadata": {},
   "outputs": [
    {
     "data": {
      "text/plain": [
       "[12, 34, 56, 1.2, 72.8, 67.9, 'apple', 'ball', 'cat']"
      ]
     },
     "execution_count": 139,
     "metadata": {},
     "output_type": "execute_result"
    }
   ],
   "source": [
    "l"
   ]
  },
  {
   "cell_type": "code",
   "execution_count": 141,
   "id": "hazardous-plumbing",
   "metadata": {},
   "outputs": [],
   "source": [
    "del l[3]"
   ]
  },
  {
   "cell_type": "code",
   "execution_count": 142,
   "id": "composed-advocacy",
   "metadata": {},
   "outputs": [
    {
     "data": {
      "text/plain": [
       "[12, 34, 56, 72.8, 67.9, 'apple', 'ball', 'cat']"
      ]
     },
     "execution_count": 142,
     "metadata": {},
     "output_type": "execute_result"
    }
   ],
   "source": [
    "l"
   ]
  },
  {
   "cell_type": "code",
   "execution_count": 143,
   "id": "conceptual-therapist",
   "metadata": {},
   "outputs": [],
   "source": [
    "l.append('dog')"
   ]
  },
  {
   "cell_type": "code",
   "execution_count": 144,
   "id": "diagnostic-venture",
   "metadata": {},
   "outputs": [
    {
     "data": {
      "text/plain": [
       "[12, 34, 56, 72.8, 67.9, 'apple', 'ball', 'cat', 'dog']"
      ]
     },
     "execution_count": 144,
     "metadata": {},
     "output_type": "execute_result"
    }
   ],
   "source": [
    "l"
   ]
  },
  {
   "cell_type": "code",
   "execution_count": 145,
   "id": "golden-dublin",
   "metadata": {},
   "outputs": [],
   "source": [
    "l.insert(1, 'papaya')"
   ]
  },
  {
   "cell_type": "code",
   "execution_count": 146,
   "id": "standing-counter",
   "metadata": {},
   "outputs": [
    {
     "data": {
      "text/plain": [
       "[12, 'papaya', 34, 56, 72.8, 67.9, 'apple', 'ball', 'cat', 'dog']"
      ]
     },
     "execution_count": 146,
     "metadata": {},
     "output_type": "execute_result"
    }
   ],
   "source": [
    "l"
   ]
  },
  {
   "cell_type": "code",
   "execution_count": 147,
   "id": "tutorial-queensland",
   "metadata": {},
   "outputs": [
    {
     "data": {
      "text/plain": [
       "'dog'"
      ]
     },
     "execution_count": 147,
     "metadata": {},
     "output_type": "execute_result"
    }
   ],
   "source": [
    "l.pop()"
   ]
  },
  {
   "cell_type": "code",
   "execution_count": 148,
   "id": "creative-alliance",
   "metadata": {},
   "outputs": [
    {
     "data": {
      "text/plain": [
       "[12, 'papaya', 34, 56, 72.8, 67.9, 'apple', 'ball', 'cat']"
      ]
     },
     "execution_count": 148,
     "metadata": {},
     "output_type": "execute_result"
    }
   ],
   "source": [
    "l"
   ]
  },
  {
   "cell_type": "code",
   "execution_count": 149,
   "id": "occasional-thanks",
   "metadata": {},
   "outputs": [],
   "source": [
    "l.remove(56)"
   ]
  },
  {
   "cell_type": "code",
   "execution_count": 150,
   "id": "growing-maintenance",
   "metadata": {},
   "outputs": [
    {
     "data": {
      "text/plain": [
       "1"
      ]
     },
     "execution_count": 150,
     "metadata": {},
     "output_type": "execute_result"
    }
   ],
   "source": [
    "l.count(12)"
   ]
  },
  {
   "cell_type": "code",
   "execution_count": 151,
   "id": "average-liechtenstein",
   "metadata": {},
   "outputs": [],
   "source": [
    "g = l "
   ]
  },
  {
   "cell_type": "code",
   "execution_count": 152,
   "id": "entire-casino",
   "metadata": {},
   "outputs": [
    {
     "data": {
      "text/plain": [
       "[12, 'papaya', 34, 72.8, 67.9, 'apple', 'ball', 'cat']"
      ]
     },
     "execution_count": 152,
     "metadata": {},
     "output_type": "execute_result"
    }
   ],
   "source": [
    "g"
   ]
  },
  {
   "cell_type": "code",
   "execution_count": 153,
   "id": "capital-wound",
   "metadata": {},
   "outputs": [
    {
     "data": {
      "text/plain": [
       "'cat'"
      ]
     },
     "execution_count": 153,
     "metadata": {},
     "output_type": "execute_result"
    }
   ],
   "source": [
    "g.pop()"
   ]
  },
  {
   "cell_type": "code",
   "execution_count": 154,
   "id": "ongoing-encoding",
   "metadata": {},
   "outputs": [
    {
     "data": {
      "text/plain": [
       "[12, 'papaya', 34, 72.8, 67.9, 'apple', 'ball']"
      ]
     },
     "execution_count": 154,
     "metadata": {},
     "output_type": "execute_result"
    }
   ],
   "source": [
    "l"
   ]
  },
  {
   "cell_type": "code",
   "execution_count": 155,
   "id": "basic-click",
   "metadata": {},
   "outputs": [
    {
     "data": {
      "text/plain": [
       "[12, 'papaya', 34, 72.8, 67.9, 'apple', 'ball']"
      ]
     },
     "execution_count": 155,
     "metadata": {},
     "output_type": "execute_result"
    }
   ],
   "source": [
    "g"
   ]
  },
  {
   "cell_type": "code",
   "execution_count": 156,
   "id": "expressed-proposal",
   "metadata": {},
   "outputs": [],
   "source": [
    "f = l.copy()"
   ]
  },
  {
   "cell_type": "code",
   "execution_count": 158,
   "id": "forced-screw",
   "metadata": {},
   "outputs": [],
   "source": [
    "f.remove(12)"
   ]
  },
  {
   "cell_type": "code",
   "execution_count": 159,
   "id": "exposed-dialogue",
   "metadata": {},
   "outputs": [
    {
     "data": {
      "text/plain": [
       "['papaya', 34, 72.8, 67.9, 'apple', 'ball']"
      ]
     },
     "execution_count": 159,
     "metadata": {},
     "output_type": "execute_result"
    }
   ],
   "source": [
    "f"
   ]
  },
  {
   "cell_type": "code",
   "execution_count": 160,
   "id": "chronic-advancement",
   "metadata": {},
   "outputs": [
    {
     "data": {
      "text/plain": [
       "[12, 'papaya', 34, 72.8, 67.9, 'apple', 'ball']"
      ]
     },
     "execution_count": 160,
     "metadata": {},
     "output_type": "execute_result"
    }
   ],
   "source": [
    "l"
   ]
  },
  {
   "cell_type": "code",
   "execution_count": 161,
   "id": "packed-pacific",
   "metadata": {},
   "outputs": [],
   "source": [
    "l.reverse()"
   ]
  },
  {
   "cell_type": "code",
   "execution_count": 162,
   "id": "hazardous-justice",
   "metadata": {},
   "outputs": [
    {
     "data": {
      "text/plain": [
       "['ball', 'apple', 67.9, 72.8, 34, 'papaya', 12]"
      ]
     },
     "execution_count": 162,
     "metadata": {},
     "output_type": "execute_result"
    }
   ],
   "source": [
    "l"
   ]
  },
  {
   "cell_type": "code",
   "execution_count": 164,
   "id": "wooden-atlas",
   "metadata": {},
   "outputs": [
    {
     "data": {
      "text/plain": [
       "['ball', 'apple']"
      ]
     },
     "execution_count": 164,
     "metadata": {},
     "output_type": "execute_result"
    }
   ],
   "source": [
    "l[:2]"
   ]
  },
  {
   "cell_type": "code",
   "execution_count": 165,
   "id": "generic-comment",
   "metadata": {},
   "outputs": [],
   "source": [
    "L.extend(['ball', 'apple'])"
   ]
  },
  {
   "cell_type": "code",
   "execution_count": 166,
   "id": "sporting-target",
   "metadata": {},
   "outputs": [
    {
     "data": {
      "text/plain": [
       "['ball', 'apple']"
      ]
     },
     "execution_count": 166,
     "metadata": {},
     "output_type": "execute_result"
    }
   ],
   "source": [
    "L"
   ]
  },
  {
   "cell_type": "code",
   "execution_count": null,
   "id": "binding-rebound",
   "metadata": {},
   "outputs": [],
   "source": [
    "L.sort()"
   ]
  },
  {
   "cell_type": "code",
   "execution_count": 168,
   "id": "desperate-miller",
   "metadata": {},
   "outputs": [],
   "source": [
    "L.sort(reverse=True)"
   ]
  },
  {
   "cell_type": "code",
   "execution_count": 169,
   "id": "super-lawrence",
   "metadata": {},
   "outputs": [
    {
     "data": {
      "text/plain": [
       "['apple', 'ball']"
      ]
     },
     "execution_count": 169,
     "metadata": {},
     "output_type": "execute_result"
    }
   ],
   "source": [
    "L"
   ]
  },
  {
   "cell_type": "markdown",
   "id": "local-former",
   "metadata": {},
   "source": [
    "### tuple"
   ]
  },
  {
   "cell_type": "code",
   "execution_count": 170,
   "id": "failing-factor",
   "metadata": {},
   "outputs": [],
   "source": [
    "t = ()"
   ]
  },
  {
   "cell_type": "code",
   "execution_count": 171,
   "id": "extraordinary-xerox",
   "metadata": {},
   "outputs": [
    {
     "data": {
      "text/plain": [
       "tuple"
      ]
     },
     "execution_count": 171,
     "metadata": {},
     "output_type": "execute_result"
    }
   ],
   "source": [
    "type(t)"
   ]
  },
  {
   "cell_type": "code",
   "execution_count": 172,
   "id": "impossible-third",
   "metadata": {},
   "outputs": [],
   "source": [
    "t = ('apple', 'ball', 'cat', 'dog', name)"
   ]
  },
  {
   "cell_type": "code",
   "execution_count": 174,
   "id": "relevant-vector",
   "metadata": {},
   "outputs": [
    {
     "data": {
      "text/plain": [
       "('cat', 'dog', 'elephant')"
      ]
     },
     "execution_count": 174,
     "metadata": {},
     "output_type": "execute_result"
    }
   ],
   "source": [
    "t[2:]"
   ]
  },
  {
   "cell_type": "code",
   "execution_count": 175,
   "id": "contained-scratch",
   "metadata": {},
   "outputs": [
    {
     "data": {
      "text/plain": [
       "('apple', 'ball', 'cat', 'dog')"
      ]
     },
     "execution_count": 175,
     "metadata": {},
     "output_type": "execute_result"
    }
   ],
   "source": [
    "t[:4]"
   ]
  },
  {
   "cell_type": "code",
   "execution_count": 176,
   "id": "entitled-pepper",
   "metadata": {},
   "outputs": [
    {
     "ename": "TypeError",
     "evalue": "'tuple' object does not support item assignment",
     "output_type": "error",
     "traceback": [
      "\u001b[0;31m---------------------------------------------------------------------------\u001b[0m",
      "\u001b[0;31mTypeError\u001b[0m                                 Traceback (most recent call last)",
      "\u001b[0;32m<ipython-input-176-8c55ce9120a9>\u001b[0m in \u001b[0;36m<module>\u001b[0;34m\u001b[0m\n\u001b[0;32m----> 1\u001b[0;31m \u001b[0mt\u001b[0m\u001b[0;34m[\u001b[0m\u001b[0;36m1\u001b[0m\u001b[0;34m]\u001b[0m \u001b[0;34m=\u001b[0m \u001b[0;34m'bat'\u001b[0m\u001b[0;34m\u001b[0m\u001b[0;34m\u001b[0m\u001b[0m\n\u001b[0m",
      "\u001b[0;31mTypeError\u001b[0m: 'tuple' object does not support item assignment"
     ]
    }
   ],
   "source": [
    "t[1] = 'bat'"
   ]
  },
  {
   "cell_type": "code",
   "execution_count": 177,
   "id": "saved-depth",
   "metadata": {},
   "outputs": [
    {
     "ename": "TypeError",
     "evalue": "'tuple' object doesn't support item deletion",
     "output_type": "error",
     "traceback": [
      "\u001b[0;31m---------------------------------------------------------------------------\u001b[0m",
      "\u001b[0;31mTypeError\u001b[0m                                 Traceback (most recent call last)",
      "\u001b[0;32m<ipython-input-177-77cea8bc7ee1>\u001b[0m in \u001b[0;36m<module>\u001b[0;34m\u001b[0m\n\u001b[0;32m----> 1\u001b[0;31m \u001b[0;32mdel\u001b[0m \u001b[0mt\u001b[0m\u001b[0;34m[\u001b[0m\u001b[0;36m1\u001b[0m\u001b[0;34m]\u001b[0m\u001b[0;34m\u001b[0m\u001b[0;34m\u001b[0m\u001b[0m\n\u001b[0m",
      "\u001b[0;31mTypeError\u001b[0m: 'tuple' object doesn't support item deletion"
     ]
    }
   ],
   "source": [
    "del t[1]"
   ]
  },
  {
   "cell_type": "markdown",
   "id": "brazilian-assist",
   "metadata": {},
   "source": [
    "### for loop"
   ]
  },
  {
   "cell_type": "code",
   "execution_count": 178,
   "id": "acknowledged-implementation",
   "metadata": {},
   "outputs": [
    {
     "name": "stdout",
     "output_type": "stream",
     "text": [
      "hi\n",
      "hi\n",
      "hi\n"
     ]
    }
   ],
   "source": [
    "for i in range(3):\n",
    "    print(\"hi\")"
   ]
  },
  {
   "cell_type": "code",
   "execution_count": 179,
   "id": "industrial-narrative",
   "metadata": {},
   "outputs": [
    {
     "name": "stdout",
     "output_type": "stream",
     "text": [
      "hi\n",
      "hi\n",
      "hi\n"
     ]
    }
   ],
   "source": [
    "for _ in range(3):\n",
    "    print(\"hi\")"
   ]
  },
  {
   "cell_type": "code",
   "execution_count": 181,
   "id": "lesbian-moldova",
   "metadata": {},
   "outputs": [
    {
     "name": "stdout",
     "output_type": "stream",
     "text": [
      "21\n",
      "23\n",
      "25\n",
      "27\n",
      "29\n"
     ]
    }
   ],
   "source": [
    "for i in range(21,31,2):\n",
    "    print(i)"
   ]
  },
  {
   "cell_type": "code",
   "execution_count": 183,
   "id": "comfortable-pilot",
   "metadata": {},
   "outputs": [
    {
     "name": "stdout",
     "output_type": "stream",
     "text": [
      "Enter any number: 10\n",
      "Number is even\n",
      "Enter any number: 20\n",
      "Divisible by 4 and also even\n"
     ]
    }
   ],
   "source": [
    "for i in range(3):\n",
    "    num = int(input(\"Enter any number: \"))\n",
    "    if num % 4 == 0:\n",
    "        print(\"Divisible by 4 and also even\")\n",
    "        break\n",
    "    elif num % 2 == 0:\n",
    "        print('Number is even')\n",
    "    else:\n",
    "        print('Number is odd')"
   ]
  },
  {
   "cell_type": "code",
   "execution_count": 184,
   "id": "religious-liabilities",
   "metadata": {},
   "outputs": [
    {
     "name": "stdout",
     "output_type": "stream",
     "text": [
      "hello\n",
      "hello\n",
      "hello\n",
      "hello\n",
      "hello\n",
      "hello\n",
      "hello\n",
      "hello\n"
     ]
    }
   ],
   "source": [
    "for i in range(len(name)):\n",
    "    print(\"hello\")"
   ]
  },
  {
   "cell_type": "code",
   "execution_count": 185,
   "id": "regulation-template",
   "metadata": {},
   "outputs": [
    {
     "name": "stdout",
     "output_type": "stream",
     "text": [
      "e\n",
      "l\n",
      "e\n",
      "p\n",
      "h\n",
      "a\n",
      "n\n",
      "t\n"
     ]
    }
   ],
   "source": [
    "for i in name:\n",
    "    print(i)"
   ]
  },
  {
   "cell_type": "code",
   "execution_count": 186,
   "id": "floppy-sponsorship",
   "metadata": {},
   "outputs": [
    {
     "name": "stdout",
     "output_type": "stream",
     "text": [
      "ball\n",
      "apple\n",
      "67.9\n",
      "72.8\n",
      "34\n",
      "papaya\n",
      "12\n"
     ]
    }
   ],
   "source": [
    "for i in l:\n",
    "    print(i)"
   ]
  },
  {
   "cell_type": "code",
   "execution_count": 188,
   "id": "intellectual-gasoline",
   "metadata": {},
   "outputs": [
    {
     "name": "stdout",
     "output_type": "stream",
     "text": [
      "ball papaya\n",
      "apple 34\n",
      "67.9 72.8\n"
     ]
    }
   ],
   "source": [
    "for i,j in zip(l,f[:3]):\n",
    "    print(i,j)"
   ]
  },
  {
   "cell_type": "code",
   "execution_count": 190,
   "id": "southern-blocking",
   "metadata": {},
   "outputs": [],
   "source": [
    "L = []\n",
    "for i in l:\n",
    "    if str(i).isalpha():\n",
    "        L.append(i)"
   ]
  },
  {
   "cell_type": "markdown",
   "id": "deluxe-winner",
   "metadata": {},
   "source": [
    "### task-3"
   ]
  },
  {
   "cell_type": "markdown",
   "id": "tutorial-ethernet",
   "metadata": {
    "solution2": "hidden",
    "solution2_first": true
   },
   "source": [
    "1. a = [1, 4, 9, 16, 25, 36, 49, 64, 81, 100]. Write Python code that takes this list a and makes a new list that has only the even elements of this list in it.\n"
   ]
  },
  {
   "cell_type": "code",
   "execution_count": 193,
   "id": "statutory-antenna",
   "metadata": {
    "deletable": false,
    "editable": false,
    "solution2": "hidden"
   },
   "outputs": [
    {
     "data": {
      "text/plain": [
       "[4, 16, 36, 64, 100]"
      ]
     },
     "execution_count": 193,
     "metadata": {},
     "output_type": "execute_result"
    }
   ],
   "source": [
    "a = [1, 4, 9, 16, 25, 36, 49, 64, 81, 100]\n",
    "b = []\n",
    "for i in a:\n",
    "    if i % 2 == 0:\n",
    "        b.append(i)\n",
    "b"
   ]
  },
  {
   "cell_type": "code",
   "execution_count": 199,
   "id": "elegant-stage",
   "metadata": {
    "deletable": false,
    "editable": false,
    "solution2": "hidden"
   },
   "outputs": [
    {
     "data": {
      "text/plain": [
       "[4, 16, 36, 64, 100]"
      ]
     },
     "execution_count": 199,
     "metadata": {},
     "output_type": "execute_result"
    }
   ],
   "source": [
    "a = [1, 4, 9, 16, 25, 36, 49, 64, 81, 100]\n",
    "b = [i for i in a if i % 2 == 0]\n",
    "b"
   ]
  },
  {
   "cell_type": "markdown",
   "id": "furnished-matrix",
   "metadata": {
    "solution2": "hidden",
    "solution2_first": true
   },
   "source": [
    "2. Write a program that takes a list and returns a new list that contains all the elements of the first list minus all the duplicates."
   ]
  },
  {
   "cell_type": "code",
   "execution_count": 197,
   "id": "aquatic-thinking",
   "metadata": {
    "deletable": false,
    "editable": false,
    "solution2": "hidden"
   },
   "outputs": [],
   "source": [
    "a = [1, 4, 9, 16, 25, 36, 49, 64, 81, 100]\n",
    "b = [11, 4, 4, 16, 25, 25, 16, 36, 49, 49, 61, 82, 100, 100]\n",
    "c = []\n",
    "\n",
    "for i in b:\n",
    "    if i in a and i not in c:\n",
    "        c.append(i)"
   ]
  },
  {
   "cell_type": "markdown",
   "id": "aware-material",
   "metadata": {},
   "source": [
    "### HW-2"
   ]
  },
  {
   "cell_type": "markdown",
   "id": "federal-supply",
   "metadata": {},
   "source": [
    "Randomly generate a 4-digit number. Ask the user to guess a 4-digit number. For every digit that the user guessed correctly in the correct place, they have a \"cow. For every digit the user guessed correctly in the wrong place is a \"bull. Every time the user makes a guess, tell them how many \"cows and \"bulls they have. Once the user guesses the correct number, the game is over. Keep track of the number of guesses the user makes throughout teh game and tell the user at the end.\n",
    "\n",
    "code:\n",
    "\n",
    "    import random as rd\n",
    "    num = rd.randint(101, 999) "
   ]
  },
  {
   "cell_type": "code",
   "execution_count": null,
   "id": "dominant-commodity",
   "metadata": {},
   "outputs": [],
   "source": []
  },
  {
   "cell_type": "markdown",
   "id": "fallen-elephant",
   "metadata": {},
   "source": [
    "<span class=\"girk\">basics</span>    \n",
    "\n",
    "    dictionary    \n",
    "    error handling\n",
    "    importing libraries\n",
    "    functions"
   ]
  },
  {
   "cell_type": "markdown",
   "id": "israeli-lewis",
   "metadata": {
    "deletable": false,
    "editable": false
   },
   "source": [
    "<span class=\"mark\">Intermediate</span>\n",
    "\n",
    "    file handling\n",
    "    visualisation"
   ]
  },
  {
   "cell_type": "markdown",
   "id": "looking-vessel",
   "metadata": {
    "deletable": false,
    "editable": false
   },
   "source": [
    "<span class=\"burk\">Advanced</span>\n",
    "\n",
    "    OOPs\n",
    "    database\n",
    "    logging\n",
    "    API\n",
    "    web service"
   ]
  },
  {
   "cell_type": "code",
   "execution_count": null,
   "id": "automatic-berry",
   "metadata": {},
   "outputs": [],
   "source": []
  }
 ],
 "metadata": {
  "kernelspec": {
   "display_name": "Python 3",
   "language": "python",
   "name": "python3"
  },
  "language_info": {
   "codemirror_mode": {
    "name": "ipython",
    "version": 3
   },
   "file_extension": ".py",
   "mimetype": "text/x-python",
   "name": "python",
   "nbconvert_exporter": "python",
   "pygments_lexer": "ipython3",
   "version": "3.6.8"
  },
  "nbTranslate": {
   "displayLangs": [
    "*"
   ],
   "hotkey": "alt-t",
   "langInMainMenu": true,
   "sourceLang": "en",
   "targetLang": "fr",
   "useGoogleTranslate": true
  },
  "toc": {
   "base_numbering": 1,
   "nav_menu": {},
   "number_sections": true,
   "sideBar": true,
   "skip_h1_title": false,
   "title_cell": "Table of Contents",
   "title_sidebar": "Contents",
   "toc_cell": false,
   "toc_position": {
    "height": "calc(100% - 180px)",
    "left": "10px",
    "top": "150px",
    "width": "307.2px"
   },
   "toc_section_display": true,
   "toc_window_display": false
  },
  "varInspector": {
   "cols": {
    "lenName": 16,
    "lenType": 16,
    "lenVar": 40
   },
   "kernels_config": {
    "python": {
     "delete_cmd_postfix": "",
     "delete_cmd_prefix": "del ",
     "library": "var_list.py",
     "varRefreshCmd": "print(var_dic_list())"
    },
    "r": {
     "delete_cmd_postfix": ") ",
     "delete_cmd_prefix": "rm(",
     "library": "var_list.r",
     "varRefreshCmd": "cat(var_dic_list()) "
    }
   },
   "types_to_exclude": [
    "module",
    "function",
    "builtin_function_or_method",
    "instance",
    "_Feature"
   ],
   "window_display": false
  }
 },
 "nbformat": 4,
 "nbformat_minor": 5
}
