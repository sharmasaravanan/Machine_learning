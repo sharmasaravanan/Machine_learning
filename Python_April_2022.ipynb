{
 "cells": [
  {
   "cell_type": "markdown",
   "id": "animated-burning",
   "metadata": {},
   "source": [
    "### IDE installation"
   ]
  },
  {
   "cell_type": "markdown",
   "id": "finished-latest",
   "metadata": {},
   "source": [
    "1st option\n",
    "    \n",
    "    python.org -> downloads -> windows/mac -> install\n",
    "    \n",
    "    open cmd -> pip install jupyter notebook\n",
    "    \n",
    "    open cmd -> jupyter notebook\n",
    "\n",
    "2nd option\n",
    "\n",
    "    google colab "
   ]
  },
  {
   "cell_type": "markdown",
   "id": "collected-instruction",
   "metadata": {},
   "source": [
    "### links"
   ]
  },
  {
   "cell_type": "markdown",
   "id": "constitutional-discipline",
   "metadata": {},
   "source": [
    "code:- https://github.com/sharmasaravanan/Machine_learning/blob/master/Python_April_2022.ipynb\n",
    "\n",
    "shorternUrl :- https://bit.ly/3KNpVX1\n",
    "\n",
    "practice:- https://www.practicepython.org/, https://www.w3resource.com/python-exercises/\n",
    "\n",
    "linkedIn:- https://www.linkedin.com/in/sharmasaravanan/\n",
    "\n",
    "Websites:- https://www.sharmasaravanan.com/, https://www.besoins.in/\n",
    "\n",
    "book: https://drive.google.com/file/d/1eRDCGYqV6u6sUTeCykIC0UiZq-ApkYL5/view?usp=sharing\n",
    "\n",
    "cheatsheets:- https://drive.google.com/drive/folders/1aWmEBeUbpshAzgf5wNiiRqO2S5x6R7n2?usp=sharing\n"
   ]
  },
  {
   "cell_type": "markdown",
   "id": "collectible-tucson",
   "metadata": {},
   "source": [
    "### datatypes"
   ]
  },
  {
   "cell_type": "code",
   "execution_count": 2,
   "id": "thermal-balloon",
   "metadata": {},
   "outputs": [],
   "source": [
    "a = 5  # int\n",
    "b = 3.14  # float\n",
    "c = \"apple\"  # string\n",
    "d = True  # bool"
   ]
  },
  {
   "cell_type": "markdown",
   "id": "informational-waters",
   "metadata": {},
   "source": [
    "### print function"
   ]
  },
  {
   "cell_type": "code",
   "execution_count": 5,
   "id": "encouraging-philippines",
   "metadata": {},
   "outputs": [
    {
     "name": "stdout",
     "output_type": "stream",
     "text": [
      "hello world!!\n",
      "1234\n",
      "apple\n"
     ]
    }
   ],
   "source": [
    "print('hello world!!')\n",
    "print(1234)\n",
    "print(c)"
   ]
  },
  {
   "cell_type": "code",
   "execution_count": 9,
   "id": "aggregate-turtle",
   "metadata": {},
   "outputs": [
    {
     "name": "stdout",
     "output_type": "stream",
     "text": [
      "<class 'int'> <class 'str'>\n",
      "<class 'float'>\n",
      "<class 'str'>\n",
      "<class 'bool'>\n"
     ]
    }
   ],
   "source": [
    "print(type(a), type(str(a)))\n",
    "print(type(b))\n",
    "print(type(c))\n",
    "print(type(d))"
   ]
  },
  {
   "cell_type": "code",
   "execution_count": 10,
   "id": "verbal-elements",
   "metadata": {},
   "outputs": [
    {
     "name": "stdout",
     "output_type": "stream",
     "text": [
      "hello apple\n",
      "hello 5\n",
      "hello apple\n",
      "hello 5\n",
      "hello apple\n",
      "hello 5\n"
     ]
    }
   ],
   "source": [
    "# hello apple\n",
    "# hello 5\n",
    "\n",
    "print('hello',c)\n",
    "print('hello',a)\n",
    "\n",
    "print('hello '+ c)\n",
    "print('hello '+ str(a))\n",
    "\n",
    "print('hello %s'%c)\n",
    "print('hello %d'%a)"
   ]
  },
  {
   "cell_type": "markdown",
   "id": "expected-survival",
   "metadata": {},
   "source": [
    "### typecast "
   ]
  },
  {
   "cell_type": "code",
   "execution_count": 11,
   "id": "czech-future",
   "metadata": {
    "scrolled": true
   },
   "outputs": [
    {
     "name": "stdout",
     "output_type": "stream",
     "text": [
      "5 <class 'str'> 5 <class 'int'>\n"
     ]
    }
   ],
   "source": [
    "print('5', type('5'), 5, type(5))"
   ]
  },
  {
   "cell_type": "code",
   "execution_count": 15,
   "id": "tribal-charge",
   "metadata": {},
   "outputs": [
    {
     "name": "stdout",
     "output_type": "stream",
     "text": [
      "7\n",
      "7.0\n"
     ]
    }
   ],
   "source": [
    "e = '5'\n",
    "print(int(e) + 2) \n",
    "print(float(e) + 2) "
   ]
  },
  {
   "cell_type": "code",
   "execution_count": 16,
   "id": "flush-tribe",
   "metadata": {},
   "outputs": [],
   "source": [
    "# I bought 3kgs of apple for 150.5Rs\n",
    "w = 3\n",
    "f = \"apple\"\n",
    "p = 150.5"
   ]
  },
  {
   "cell_type": "code",
   "execution_count": 20,
   "id": "aquatic-composite",
   "metadata": {},
   "outputs": [
    {
     "name": "stdout",
     "output_type": "stream",
     "text": [
      "I bought 3 kgs of apple for 150.5 Rs\n",
      "I bought 3kgs of apple for 150.5Rs\n",
      "I bought 3kgs of apple for 150.5Rs\n"
     ]
    }
   ],
   "source": [
    "print(\"I bought\",w,\"kgs of\",f,\"for\",p,\"Rs\")\n",
    "print(\"I bought \"+str(w)+\"kgs of \"+f+\" for \"+str(p)+\"Rs\")\n",
    "print(\"I bought %dkgs of %s for %0.1fRs\"%(w,f,p))"
   ]
  },
  {
   "cell_type": "markdown",
   "id": "coordinated-northern",
   "metadata": {},
   "source": [
    "### operators"
   ]
  },
  {
   "cell_type": "code",
   "execution_count": 35,
   "id": "academic-spokesman",
   "metadata": {
    "scrolled": true
   },
   "outputs": [
    {
     "name": "stdout",
     "output_type": "stream",
     "text": [
      "29\n",
      "15\n",
      "15\n",
      "154\n",
      "3.142857142857143\n",
      "1\n",
      "2494357888\n",
      "\n",
      "False\n",
      "True\n",
      "False\n",
      "True\n",
      "False\n",
      "True\n",
      "\n",
      "True\n",
      "False\n",
      "True\n",
      "True\n",
      "True\n",
      "True\n"
     ]
    }
   ],
   "source": [
    "## Arithimetic operators --> + - * / % **\n",
    "print(22 + 7)\n",
    "print(22 - 7)\n",
    "print(abs(7 - 22))\n",
    "print(22 * 7)\n",
    "print(22 / 7)\n",
    "print(22 % 7)\n",
    "print(22 ** 7)\n",
    "print()\n",
    "\n",
    "## conditional operators --> < > <= >= == !=\n",
    "print(22 < 7)\n",
    "print(22 > 7)\n",
    "print(22 <= 7)\n",
    "print(22 >= 7)\n",
    "print(22 == 7)\n",
    "print(22 != 7)\n",
    "print()\n",
    "\n",
    "## logical operators --> and or not\n",
    "print(15 > 5 and 20 < 25)\n",
    "print(15 > 25 and 20 < 25)\n",
    "print(15 > 5 or 20 < 25)\n",
    "print(15 > 25 or 20 < 25)\n",
    "print(a==5)\n",
    "print(not a==15)"
   ]
  },
  {
   "cell_type": "markdown",
   "id": "civilian-elephant",
   "metadata": {},
   "source": [
    "### input function"
   ]
  },
  {
   "cell_type": "code",
   "execution_count": 39,
   "id": "sustained-germany",
   "metadata": {},
   "outputs": [
    {
     "name": "stdout",
     "output_type": "stream",
     "text": [
      "Enter your name: abc\n",
      "Enter you age: 14\n"
     ]
    }
   ],
   "source": [
    "name = input(\"Enter your name: \")\n",
    "age = int(input(\"Enter you age: \"))"
   ]
  },
  {
   "cell_type": "code",
   "execution_count": 40,
   "id": "prerequisite-constitution",
   "metadata": {},
   "outputs": [
    {
     "name": "stdout",
     "output_type": "stream",
     "text": [
      "abc 14\n"
     ]
    }
   ],
   "source": [
    "print(name, age)"
   ]
  },
  {
   "cell_type": "code",
   "execution_count": 41,
   "id": "horizontal-performer",
   "metadata": {},
   "outputs": [
    {
     "name": "stdout",
     "output_type": "stream",
     "text": [
      "<class 'str'> <class 'int'>\n"
     ]
    }
   ],
   "source": [
    "print(type(name), type(age))"
   ]
  },
  {
   "cell_type": "markdown",
   "id": "juvenile-companion",
   "metadata": {},
   "source": [
    "### if - else"
   ]
  },
  {
   "cell_type": "code",
   "execution_count": 46,
   "id": "organizational-casino",
   "metadata": {},
   "outputs": [
    {
     "name": "stdout",
     "output_type": "stream",
     "text": [
      "Enter any number: 8\n",
      "Number is even\n"
     ]
    }
   ],
   "source": [
    "num = int(input(\"Enter any number: \"))\n",
    "if num % 2 == 0:\n",
    "    print('Number is even')\n",
    "else:\n",
    "    print('Number is odd')"
   ]
  },
  {
   "cell_type": "markdown",
   "id": "visible-canvas",
   "metadata": {},
   "source": [
    "### if - elif - else"
   ]
  },
  {
   "cell_type": "code",
   "execution_count": 50,
   "id": "deadly-olive",
   "metadata": {},
   "outputs": [
    {
     "name": "stdout",
     "output_type": "stream",
     "text": [
      "Enter any number: 5\n",
      "Number is odd\n"
     ]
    }
   ],
   "source": [
    "num = int(input(\"Enter any number: \"))\n",
    "if num % 4 == 0:\n",
    "    print(\"Divisible by 4 and also even\")\n",
    "elif num % 2 == 0:\n",
    "    print('Number is even')\n",
    "else:\n",
    "    print('Number is odd')"
   ]
  },
  {
   "cell_type": "markdown",
   "id": "compound-stephen",
   "metadata": {},
   "source": [
    "### while loop"
   ]
  },
  {
   "cell_type": "code",
   "execution_count": 52,
   "id": "center-drawing",
   "metadata": {},
   "outputs": [
    {
     "name": "stdout",
     "output_type": "stream",
     "text": [
      "Enter any number: 20\n",
      "Divisible by 4 and also even\n",
      "Enter any number: 10\n",
      "Number is even\n",
      "Enter any number: 5\n",
      "Number is odd\n"
     ]
    }
   ],
   "source": [
    "i = 1\n",
    "while i <= 3:\n",
    "    num = int(input(\"Enter any number: \"))\n",
    "    if num % 4 == 0:\n",
    "        print(\"Divisible by 4 and also even\")\n",
    "    elif num % 2 == 0:\n",
    "        print('Number is even')\n",
    "    else:\n",
    "        print('Number is odd')\n",
    "    i = i + 1"
   ]
  },
  {
   "cell_type": "code",
   "execution_count": 54,
   "id": "neural-massachusetts",
   "metadata": {},
   "outputs": [
    {
     "name": "stdout",
     "output_type": "stream",
     "text": [
      "Enter any number: 54\n",
      "Number is even\n",
      "Do you want to continue? y/n: n\n",
      "Thank you!!!\n"
     ]
    }
   ],
   "source": [
    "opt = 'y'\n",
    "while opt == 'y':\n",
    "    num = int(input(\"Enter any number: \"))\n",
    "    if num % 4 == 0:\n",
    "        print(\"Divisible by 4 and also even\")\n",
    "    elif num % 2 == 0:\n",
    "        print('Number is even')\n",
    "    else:\n",
    "        print('Number is odd')\n",
    "   \n",
    "    opt = input(\"Do you want to continue? y/n: \")\n",
    "else:\n",
    "     print(\"Thank you!!!\")"
   ]
  },
  {
   "cell_type": "markdown",
   "id": "aware-fellowship",
   "metadata": {
    "solution2": "shown",
    "solution2_first": true
   },
   "source": [
    "### Task-1\n",
    "1. Calculate area of three objects (square, triangel..) by getting input from the user based on the user's selection of object"
   ]
  },
  {
   "cell_type": "code",
   "execution_count": 17,
   "id": "frequent-security",
   "metadata": {
    "deletable": false,
    "editable": false,
    "solution2": "shown"
   },
   "outputs": [
    {
     "name": "stdout",
     "output_type": "stream",
     "text": [
      "Hello! This program can help you to calculate the area of the following objects \n",
      "1. circle\n",
      "2. square\n",
      "3. rectangle\n",
      "\n",
      "Enter the object you want to calculate: circle\n",
      "Enter the radius of the circle: a\n"
     ]
    },
    {
     "ename": "NameError",
     "evalue": "name 'a' is not defined",
     "output_type": "error",
     "traceback": [
      "\u001b[0;31m---------------------------------------------------------------------------\u001b[0m",
      "\u001b[0;31mNameError\u001b[0m                                 Traceback (most recent call last)",
      "\u001b[0;32m<ipython-input-17-2f8ab5c46fc1>\u001b[0m in \u001b[0;36m<module>\u001b[0;34m\u001b[0m\n\u001b[1;32m      7\u001b[0m     \u001b[0mchoice\u001b[0m \u001b[0;34m=\u001b[0m \u001b[0minput\u001b[0m\u001b[0;34m(\u001b[0m\u001b[0;34m\"Enter the object you want to calculate: \"\u001b[0m\u001b[0;34m)\u001b[0m\u001b[0;34m\u001b[0m\u001b[0;34m\u001b[0m\u001b[0m\n\u001b[1;32m      8\u001b[0m     \u001b[0;32mif\u001b[0m \u001b[0mchoice\u001b[0m \u001b[0;34m==\u001b[0m \u001b[0;34m\"circle\"\u001b[0m\u001b[0;34m:\u001b[0m\u001b[0;34m\u001b[0m\u001b[0;34m\u001b[0m\u001b[0m\n\u001b[0;32m----> 9\u001b[0;31m         \u001b[0mr\u001b[0m \u001b[0;34m=\u001b[0m \u001b[0meval\u001b[0m\u001b[0;34m(\u001b[0m\u001b[0minput\u001b[0m\u001b[0;34m(\u001b[0m\u001b[0;34m\"Enter the radius of the circle: \"\u001b[0m\u001b[0;34m)\u001b[0m\u001b[0;34m)\u001b[0m\u001b[0;34m\u001b[0m\u001b[0;34m\u001b[0m\u001b[0m\n\u001b[0m\u001b[1;32m     10\u001b[0m         \u001b[0mprint\u001b[0m\u001b[0;34m(\u001b[0m\u001b[0;34m\"Area of the circle is\"\u001b[0m\u001b[0;34m,\u001b[0m \u001b[0;36m3.14\u001b[0m \u001b[0;34m*\u001b[0m \u001b[0mr\u001b[0m \u001b[0;34m*\u001b[0m \u001b[0mr\u001b[0m\u001b[0;34m)\u001b[0m\u001b[0;34m\u001b[0m\u001b[0;34m\u001b[0m\u001b[0m\n\u001b[1;32m     11\u001b[0m     \u001b[0;32melif\u001b[0m \u001b[0mchoice\u001b[0m \u001b[0;34m==\u001b[0m \u001b[0;34m\"square\"\u001b[0m\u001b[0;34m:\u001b[0m\u001b[0;34m\u001b[0m\u001b[0;34m\u001b[0m\u001b[0m\n",
      "\u001b[0;32m<string>\u001b[0m in \u001b[0;36m<module>\u001b[0;34m\u001b[0m\n",
      "\u001b[0;31mNameError\u001b[0m: name 'a' is not defined"
     ]
    }
   ],
   "source": [
    "opt = 'y'\n",
    "print(\n",
    "    \"Hello! This program can help you to calculate the area of the following objects \\n1. circle\\n2. square\\n3. rectangle\"\n",
    ")\n",
    "print()\n",
    "while opt == 'y':\n",
    "    choice = input(\"Enter the object you want to calculate: \")\n",
    "    if choice == \"circle\":\n",
    "        r = eval(input(\"Enter the radius of the circle: \"))\n",
    "        print(\"Area of the circle is\", 3.14 * r * r)\n",
    "    elif choice == \"square\":\n",
    "        a = eval(input(\"Enter the sides of the square: \"))\n",
    "        print(\"Area of the square is\", a * a)\n",
    "    elif choice == \"rectangle\":\n",
    "        l = eval(input(\"Enter the length of the rectangle: \"))\n",
    "        b = eval(input(\"Enter the breadth of the rectangle: \"))\n",
    "        print(\"Area of the rectangle is\", a * a)\n",
    "    else:\n",
    "        print(\"Invalid option\")\n",
    "    print()\n",
    "    opt = input(\"Do you want to continue? y/n: \")\n",
    "else:\n",
    "     print(\"Thank you!!!\")"
   ]
  },
  {
   "cell_type": "markdown",
   "id": "conditional-beaver",
   "metadata": {},
   "source": [
    "### HW-1"
   ]
  },
  {
   "cell_type": "markdown",
   "id": "awful-gauge",
   "metadata": {},
   "source": [
    "1. Write a python program for Rock paper scissor game.\n",
    "\n",
    "        rock wins scissor\n",
    "        scissor wins paper\n",
    "        paper wins rock"
   ]
  },
  {
   "cell_type": "markdown",
   "id": "focal-fellow",
   "metadata": {},
   "source": [
    "###     string operations"
   ]
  },
  {
   "cell_type": "code",
   "execution_count": 73,
   "id": "small-payment",
   "metadata": {},
   "outputs": [],
   "source": [
    "name = \"elephant\"\n",
    "sent = \"Time-Series Data Denoising using Auto-encoders\""
   ]
  },
  {
   "cell_type": "code",
   "execution_count": 75,
   "id": "concrete-happening",
   "metadata": {},
   "outputs": [
    {
     "data": {
      "text/plain": [
       "'a'"
      ]
     },
     "execution_count": 75,
     "metadata": {},
     "output_type": "execute_result"
    }
   ],
   "source": [
    "name[5]"
   ]
  },
  {
   "cell_type": "code",
   "execution_count": 76,
   "id": "present-drink",
   "metadata": {},
   "outputs": [
    {
     "data": {
      "text/plain": [
       "'ephant'"
      ]
     },
     "execution_count": 76,
     "metadata": {},
     "output_type": "execute_result"
    }
   ],
   "source": [
    "name[2:]"
   ]
  },
  {
   "cell_type": "code",
   "execution_count": 77,
   "id": "educated-shannon",
   "metadata": {},
   "outputs": [
    {
     "data": {
      "text/plain": [
       "'ele'"
      ]
     },
     "execution_count": 77,
     "metadata": {},
     "output_type": "execute_result"
    }
   ],
   "source": [
    "name[:3]"
   ]
  },
  {
   "cell_type": "code",
   "execution_count": 78,
   "id": "dutch-visitor",
   "metadata": {},
   "outputs": [
    {
     "data": {
      "text/plain": [
       "'eph'"
      ]
     },
     "execution_count": 78,
     "metadata": {},
     "output_type": "execute_result"
    }
   ],
   "source": [
    "name[2:5]"
   ]
  },
  {
   "cell_type": "code",
   "execution_count": 79,
   "id": "hourly-violation",
   "metadata": {},
   "outputs": [
    {
     "data": {
      "text/plain": [
       "8"
      ]
     },
     "execution_count": 79,
     "metadata": {},
     "output_type": "execute_result"
    }
   ],
   "source": [
    "len(name)"
   ]
  },
  {
   "cell_type": "code",
   "execution_count": 80,
   "id": "early-wilderness",
   "metadata": {},
   "outputs": [
    {
     "data": {
      "text/plain": [
       "'tnahpele'"
      ]
     },
     "execution_count": 80,
     "metadata": {},
     "output_type": "execute_result"
    }
   ],
   "source": [
    "name[::-1]"
   ]
  },
  {
   "cell_type": "code",
   "execution_count": 81,
   "id": "persistent-video",
   "metadata": {},
   "outputs": [],
   "source": [
    "palindrome = \"malayalam\""
   ]
  },
  {
   "cell_type": "code",
   "execution_count": 82,
   "id": "herbal-adolescent",
   "metadata": {},
   "outputs": [
    {
     "data": {
      "text/plain": [
       "('malayalam', 'malayalam')"
      ]
     },
     "execution_count": 82,
     "metadata": {},
     "output_type": "execute_result"
    }
   ],
   "source": [
    "palindrome, palindrome[::-1]"
   ]
  },
  {
   "cell_type": "code",
   "execution_count": 83,
   "id": "collective-lover",
   "metadata": {},
   "outputs": [
    {
     "data": {
      "text/plain": [
       "'ELEPHANT'"
      ]
     },
     "execution_count": 83,
     "metadata": {},
     "output_type": "execute_result"
    }
   ],
   "source": [
    "name.upper()"
   ]
  },
  {
   "cell_type": "code",
   "execution_count": 84,
   "id": "anonymous-organization",
   "metadata": {},
   "outputs": [
    {
     "data": {
      "text/plain": [
       "'time-series data denoising using auto-encoders'"
      ]
     },
     "execution_count": 84,
     "metadata": {},
     "output_type": "execute_result"
    }
   ],
   "source": [
    "sent.lower()"
   ]
  },
  {
   "cell_type": "code",
   "execution_count": 85,
   "id": "subjective-layer",
   "metadata": {},
   "outputs": [
    {
     "data": {
      "text/plain": [
       "'Time-Series Data Denoising Using Auto-Encoders'"
      ]
     },
     "execution_count": 85,
     "metadata": {},
     "output_type": "execute_result"
    }
   ],
   "source": [
    "sent.title()"
   ]
  },
  {
   "cell_type": "code",
   "execution_count": 86,
   "id": "daily-density",
   "metadata": {},
   "outputs": [
    {
     "data": {
      "text/plain": [
       "'Time-series data denoising using auto-encoders'"
      ]
     },
     "execution_count": 86,
     "metadata": {},
     "output_type": "execute_result"
    }
   ],
   "source": [
    "sent.capitalize()"
   ]
  },
  {
   "cell_type": "code",
   "execution_count": 87,
   "id": "threatened-friday",
   "metadata": {},
   "outputs": [
    {
     "data": {
      "text/plain": [
       "'tIME-sERIES dATA dENOISING USING aUTO-ENCODERS'"
      ]
     },
     "execution_count": 87,
     "metadata": {},
     "output_type": "execute_result"
    }
   ],
   "source": [
    "sent.swapcase()"
   ]
  },
  {
   "cell_type": "code",
   "execution_count": 88,
   "id": "peaceful-manual",
   "metadata": {},
   "outputs": [
    {
     "data": {
      "text/plain": [
       "2"
      ]
     },
     "execution_count": 88,
     "metadata": {},
     "output_type": "execute_result"
    }
   ],
   "source": [
    "name.count('e')"
   ]
  },
  {
   "cell_type": "code",
   "execution_count": 89,
   "id": "abroad-divide",
   "metadata": {},
   "outputs": [
    {
     "data": {
      "text/plain": [
       "'Time Series Data Denoising using Auto encoders'"
      ]
     },
     "execution_count": 89,
     "metadata": {},
     "output_type": "execute_result"
    }
   ],
   "source": [
    "sent.replace('-', ' ')"
   ]
  },
  {
   "cell_type": "code",
   "execution_count": 92,
   "id": "medical-titanium",
   "metadata": {},
   "outputs": [
    {
     "data": {
      "text/plain": [
       "-1"
      ]
     },
     "execution_count": 92,
     "metadata": {},
     "output_type": "execute_result"
    }
   ],
   "source": [
    "name.find('z')"
   ]
  },
  {
   "cell_type": "code",
   "execution_count": 93,
   "id": "private-ranking",
   "metadata": {},
   "outputs": [
    {
     "ename": "ValueError",
     "evalue": "substring not found",
     "output_type": "error",
     "traceback": [
      "\u001b[0;31m---------------------------------------------------------------------------\u001b[0m",
      "\u001b[0;31mValueError\u001b[0m                                Traceback (most recent call last)",
      "\u001b[0;32m<ipython-input-93-a593ec84d793>\u001b[0m in \u001b[0;36m<module>\u001b[0;34m\u001b[0m\n\u001b[0;32m----> 1\u001b[0;31m \u001b[0mname\u001b[0m\u001b[0;34m.\u001b[0m\u001b[0mindex\u001b[0m\u001b[0;34m(\u001b[0m\u001b[0;34m'z'\u001b[0m\u001b[0;34m)\u001b[0m\u001b[0;34m\u001b[0m\u001b[0;34m\u001b[0m\u001b[0m\n\u001b[0m",
      "\u001b[0;31mValueError\u001b[0m: substring not found"
     ]
    }
   ],
   "source": [
    "name.index('z')"
   ]
  },
  {
   "cell_type": "code",
   "execution_count": 95,
   "id": "handed-collection",
   "metadata": {},
   "outputs": [
    {
     "data": {
      "text/plain": [
       "True"
      ]
     },
     "execution_count": 95,
     "metadata": {},
     "output_type": "execute_result"
    }
   ],
   "source": [
    "name.endswith(\"nt\")"
   ]
  },
  {
   "cell_type": "code",
   "execution_count": 96,
   "id": "intermediate-methodology",
   "metadata": {},
   "outputs": [
    {
     "data": {
      "text/plain": [
       "True"
      ]
     },
     "execution_count": 96,
     "metadata": {},
     "output_type": "execute_result"
    }
   ],
   "source": [
    "name.startswith(\"el\")"
   ]
  },
  {
   "cell_type": "code",
   "execution_count": 97,
   "id": "extraordinary-punishment",
   "metadata": {},
   "outputs": [
    {
     "data": {
      "text/plain": [
       "'~~~~~~elephant~~~~~~'"
      ]
     },
     "execution_count": 97,
     "metadata": {},
     "output_type": "execute_result"
    }
   ],
   "source": [
    "name.center(20,\"~\")"
   ]
  },
  {
   "cell_type": "code",
   "execution_count": 98,
   "id": "falling-seafood",
   "metadata": {},
   "outputs": [
    {
     "data": {
      "text/plain": [
       "'0000elephant'"
      ]
     },
     "execution_count": 98,
     "metadata": {},
     "output_type": "execute_result"
    }
   ],
   "source": [
    "name.zfill(12)"
   ]
  },
  {
   "cell_type": "code",
   "execution_count": 99,
   "id": "documentary-emperor",
   "metadata": {},
   "outputs": [
    {
     "data": {
      "text/plain": [
       "'sharma'"
      ]
     },
     "execution_count": 99,
     "metadata": {},
     "output_type": "execute_result"
    }
   ],
   "source": [
    "\" sharma \".strip()"
   ]
  },
  {
   "cell_type": "code",
   "execution_count": 100,
   "id": "american-romantic",
   "metadata": {},
   "outputs": [
    {
     "data": {
      "text/plain": [
       "'elepha'"
      ]
     },
     "execution_count": 100,
     "metadata": {},
     "output_type": "execute_result"
    }
   ],
   "source": [
    "name.strip(\"nt\")"
   ]
  },
  {
   "cell_type": "code",
   "execution_count": 104,
   "id": "sunset-aaron",
   "metadata": {},
   "outputs": [
    {
     "data": {
      "text/plain": [
       "'Time-Series Data Denoising using Auto-encoders'"
      ]
     },
     "execution_count": 104,
     "metadata": {},
     "output_type": "execute_result"
    }
   ],
   "source": [
    "\"en\".join(sent.split('en'))"
   ]
  },
  {
   "cell_type": "code",
   "execution_count": 105,
   "id": "european-outside",
   "metadata": {},
   "outputs": [
    {
     "data": {
      "text/plain": [
       "True"
      ]
     },
     "execution_count": 105,
     "metadata": {},
     "output_type": "execute_result"
    }
   ],
   "source": [
    "name.isalpha()"
   ]
  },
  {
   "cell_type": "code",
   "execution_count": 106,
   "id": "quick-namibia",
   "metadata": {},
   "outputs": [
    {
     "data": {
      "text/plain": [
       "True"
      ]
     },
     "execution_count": 106,
     "metadata": {},
     "output_type": "execute_result"
    }
   ],
   "source": [
    "name.isalnum()"
   ]
  },
  {
   "cell_type": "code",
   "execution_count": 107,
   "id": "exempt-newsletter",
   "metadata": {},
   "outputs": [
    {
     "data": {
      "text/plain": [
       "False"
      ]
     },
     "execution_count": 107,
     "metadata": {},
     "output_type": "execute_result"
    }
   ],
   "source": [
    "name.isdigit()"
   ]
  },
  {
   "cell_type": "code",
   "execution_count": 108,
   "id": "quantitative-appointment",
   "metadata": {},
   "outputs": [
    {
     "data": {
      "text/plain": [
       "True"
      ]
     },
     "execution_count": 108,
     "metadata": {},
     "output_type": "execute_result"
    }
   ],
   "source": [
    "'1234'.isdigit()"
   ]
  },
  {
   "cell_type": "code",
   "execution_count": 110,
   "id": "worth-quantity",
   "metadata": {},
   "outputs": [
    {
     "data": {
      "text/plain": [
       "False"
      ]
     },
     "execution_count": 110,
     "metadata": {},
     "output_type": "execute_result"
    }
   ],
   "source": [
    "\" l\".isspace()"
   ]
  },
  {
   "cell_type": "code",
   "execution_count": 111,
   "id": "level-lesbian",
   "metadata": {},
   "outputs": [
    {
     "data": {
      "text/plain": [
       "False"
      ]
     },
     "execution_count": 111,
     "metadata": {},
     "output_type": "execute_result"
    }
   ],
   "source": [
    "name.isupper()"
   ]
  },
  {
   "cell_type": "markdown",
   "id": "specialized-island",
   "metadata": {},
   "source": [
    "### task-2"
   ]
  },
  {
   "cell_type": "markdown",
   "id": "checked-activation",
   "metadata": {
    "solution2": "hidden",
    "solution2_first": true
   },
   "source": [
    "Write a Python program that accepts an integer (n) and computes the value of n+nn+nnn\n",
    "\n",
    "    n = 6\n",
    "    output = 6 + 66 + 666 = 738\n",
    "    \n",
    "Note: Do not use the following solution, n * 1 + n * 11 + n * 111"
   ]
  },
  {
   "cell_type": "code",
   "execution_count": 126,
   "id": "placed-crystal",
   "metadata": {
    "deletable": false,
    "editable": false,
    "solution2": "hidden"
   },
   "outputs": [
    {
     "name": "stdout",
     "output_type": "stream",
     "text": [
      "Enter any number: 4\n",
      "492 492\n"
     ]
    }
   ],
   "source": [
    "n = input(\"Enter any number: \")\n",
    "ans1 = int(n)+ int(n+n) + int(n+n+n)\n",
    "ans2 = int(n)+ int(n*2) + int(n*3)\n",
    "print(ans1,ans2)"
   ]
  },
  {
   "cell_type": "markdown",
   "id": "hundred-bangladesh",
   "metadata": {},
   "source": [
    "### List"
   ]
  },
  {
   "cell_type": "code",
   "execution_count": 127,
   "id": "square-handbook",
   "metadata": {},
   "outputs": [],
   "source": [
    "L = []"
   ]
  },
  {
   "cell_type": "code",
   "execution_count": 128,
   "id": "freelance-action",
   "metadata": {},
   "outputs": [
    {
     "data": {
      "text/plain": [
       "list"
      ]
     },
     "execution_count": 128,
     "metadata": {},
     "output_type": "execute_result"
    }
   ],
   "source": [
    "type(L)"
   ]
  },
  {
   "cell_type": "code",
   "execution_count": 134,
   "id": "aboriginal-skill",
   "metadata": {},
   "outputs": [],
   "source": [
    "l = [12,34,56,1.2,4.5,67.9,'apple','ball','cat']"
   ]
  },
  {
   "cell_type": "code",
   "execution_count": 135,
   "id": "collected-invalid",
   "metadata": {},
   "outputs": [
    {
     "data": {
      "text/plain": [
       "[12, 34, 56, 1.2, 4.5, 67.9, 'apple', 'ball', 'cat']"
      ]
     },
     "execution_count": 135,
     "metadata": {},
     "output_type": "execute_result"
    }
   ],
   "source": [
    "l"
   ]
  },
  {
   "cell_type": "code",
   "execution_count": 136,
   "id": "respiratory-individual",
   "metadata": {},
   "outputs": [
    {
     "data": {
      "text/plain": [
       "[1.2, 4.5, 67.9, 'apple', 'ball']"
      ]
     },
     "execution_count": 136,
     "metadata": {},
     "output_type": "execute_result"
    }
   ],
   "source": [
    "l[3:8]"
   ]
  },
  {
   "cell_type": "code",
   "execution_count": 138,
   "id": "positive-guinea",
   "metadata": {},
   "outputs": [],
   "source": [
    "l[4] = 72.8"
   ]
  },
  {
   "cell_type": "code",
   "execution_count": 139,
   "id": "intense-order",
   "metadata": {},
   "outputs": [
    {
     "data": {
      "text/plain": [
       "[12, 34, 56, 1.2, 72.8, 67.9, 'apple', 'ball', 'cat']"
      ]
     },
     "execution_count": 139,
     "metadata": {},
     "output_type": "execute_result"
    }
   ],
   "source": [
    "l"
   ]
  },
  {
   "cell_type": "code",
   "execution_count": 141,
   "id": "victorian-april",
   "metadata": {},
   "outputs": [],
   "source": [
    "del l[3]"
   ]
  },
  {
   "cell_type": "code",
   "execution_count": 142,
   "id": "exotic-federation",
   "metadata": {},
   "outputs": [
    {
     "data": {
      "text/plain": [
       "[12, 34, 56, 72.8, 67.9, 'apple', 'ball', 'cat']"
      ]
     },
     "execution_count": 142,
     "metadata": {},
     "output_type": "execute_result"
    }
   ],
   "source": [
    "l"
   ]
  },
  {
   "cell_type": "code",
   "execution_count": 143,
   "id": "authentic-sender",
   "metadata": {},
   "outputs": [],
   "source": [
    "l.append('dog')"
   ]
  },
  {
   "cell_type": "code",
   "execution_count": 144,
   "id": "finite-success",
   "metadata": {},
   "outputs": [
    {
     "data": {
      "text/plain": [
       "[12, 34, 56, 72.8, 67.9, 'apple', 'ball', 'cat', 'dog']"
      ]
     },
     "execution_count": 144,
     "metadata": {},
     "output_type": "execute_result"
    }
   ],
   "source": [
    "l"
   ]
  },
  {
   "cell_type": "code",
   "execution_count": 145,
   "id": "three-nashville",
   "metadata": {},
   "outputs": [],
   "source": [
    "l.insert(1, 'papaya')"
   ]
  },
  {
   "cell_type": "code",
   "execution_count": 146,
   "id": "behavioral-telling",
   "metadata": {},
   "outputs": [
    {
     "data": {
      "text/plain": [
       "[12, 'papaya', 34, 56, 72.8, 67.9, 'apple', 'ball', 'cat', 'dog']"
      ]
     },
     "execution_count": 146,
     "metadata": {},
     "output_type": "execute_result"
    }
   ],
   "source": [
    "l"
   ]
  },
  {
   "cell_type": "code",
   "execution_count": 147,
   "id": "progressive-sleeping",
   "metadata": {},
   "outputs": [
    {
     "data": {
      "text/plain": [
       "'dog'"
      ]
     },
     "execution_count": 147,
     "metadata": {},
     "output_type": "execute_result"
    }
   ],
   "source": [
    "l.pop()"
   ]
  },
  {
   "cell_type": "code",
   "execution_count": 148,
   "id": "likely-animation",
   "metadata": {},
   "outputs": [
    {
     "data": {
      "text/plain": [
       "[12, 'papaya', 34, 56, 72.8, 67.9, 'apple', 'ball', 'cat']"
      ]
     },
     "execution_count": 148,
     "metadata": {},
     "output_type": "execute_result"
    }
   ],
   "source": [
    "l"
   ]
  },
  {
   "cell_type": "code",
   "execution_count": 149,
   "id": "corresponding-progress",
   "metadata": {},
   "outputs": [],
   "source": [
    "l.remove(56)"
   ]
  },
  {
   "cell_type": "code",
   "execution_count": 150,
   "id": "turkish-manchester",
   "metadata": {},
   "outputs": [
    {
     "data": {
      "text/plain": [
       "1"
      ]
     },
     "execution_count": 150,
     "metadata": {},
     "output_type": "execute_result"
    }
   ],
   "source": [
    "l.count(12)"
   ]
  },
  {
   "cell_type": "code",
   "execution_count": 151,
   "id": "great-lincoln",
   "metadata": {},
   "outputs": [],
   "source": [
    "g = l "
   ]
  },
  {
   "cell_type": "code",
   "execution_count": 152,
   "id": "future-pharmacology",
   "metadata": {},
   "outputs": [
    {
     "data": {
      "text/plain": [
       "[12, 'papaya', 34, 72.8, 67.9, 'apple', 'ball', 'cat']"
      ]
     },
     "execution_count": 152,
     "metadata": {},
     "output_type": "execute_result"
    }
   ],
   "source": [
    "g"
   ]
  },
  {
   "cell_type": "code",
   "execution_count": 153,
   "id": "instrumental-guard",
   "metadata": {},
   "outputs": [
    {
     "data": {
      "text/plain": [
       "'cat'"
      ]
     },
     "execution_count": 153,
     "metadata": {},
     "output_type": "execute_result"
    }
   ],
   "source": [
    "g.pop()"
   ]
  },
  {
   "cell_type": "code",
   "execution_count": 154,
   "id": "complicated-vegetarian",
   "metadata": {},
   "outputs": [
    {
     "data": {
      "text/plain": [
       "[12, 'papaya', 34, 72.8, 67.9, 'apple', 'ball']"
      ]
     },
     "execution_count": 154,
     "metadata": {},
     "output_type": "execute_result"
    }
   ],
   "source": [
    "l"
   ]
  },
  {
   "cell_type": "code",
   "execution_count": 155,
   "id": "appreciated-wedding",
   "metadata": {},
   "outputs": [
    {
     "data": {
      "text/plain": [
       "[12, 'papaya', 34, 72.8, 67.9, 'apple', 'ball']"
      ]
     },
     "execution_count": 155,
     "metadata": {},
     "output_type": "execute_result"
    }
   ],
   "source": [
    "g"
   ]
  },
  {
   "cell_type": "code",
   "execution_count": 156,
   "id": "sized-colony",
   "metadata": {},
   "outputs": [],
   "source": [
    "f = l.copy()"
   ]
  },
  {
   "cell_type": "code",
   "execution_count": 158,
   "id": "closing-persian",
   "metadata": {},
   "outputs": [],
   "source": [
    "f.remove(12)"
   ]
  },
  {
   "cell_type": "code",
   "execution_count": 159,
   "id": "electoral-guide",
   "metadata": {},
   "outputs": [
    {
     "data": {
      "text/plain": [
       "['papaya', 34, 72.8, 67.9, 'apple', 'ball']"
      ]
     },
     "execution_count": 159,
     "metadata": {},
     "output_type": "execute_result"
    }
   ],
   "source": [
    "f"
   ]
  },
  {
   "cell_type": "code",
   "execution_count": 160,
   "id": "annoying-offset",
   "metadata": {},
   "outputs": [
    {
     "data": {
      "text/plain": [
       "[12, 'papaya', 34, 72.8, 67.9, 'apple', 'ball']"
      ]
     },
     "execution_count": 160,
     "metadata": {},
     "output_type": "execute_result"
    }
   ],
   "source": [
    "l"
   ]
  },
  {
   "cell_type": "code",
   "execution_count": 161,
   "id": "hairy-continuity",
   "metadata": {},
   "outputs": [],
   "source": [
    "l.reverse()"
   ]
  },
  {
   "cell_type": "code",
   "execution_count": 162,
   "id": "cloudy-concord",
   "metadata": {},
   "outputs": [
    {
     "data": {
      "text/plain": [
       "['ball', 'apple', 67.9, 72.8, 34, 'papaya', 12]"
      ]
     },
     "execution_count": 162,
     "metadata": {},
     "output_type": "execute_result"
    }
   ],
   "source": [
    "l"
   ]
  },
  {
   "cell_type": "code",
   "execution_count": 164,
   "id": "possible-funeral",
   "metadata": {},
   "outputs": [
    {
     "data": {
      "text/plain": [
       "['ball', 'apple']"
      ]
     },
     "execution_count": 164,
     "metadata": {},
     "output_type": "execute_result"
    }
   ],
   "source": [
    "l[:2]"
   ]
  },
  {
   "cell_type": "code",
   "execution_count": 165,
   "id": "average-rebel",
   "metadata": {},
   "outputs": [],
   "source": [
    "L.extend(['ball', 'apple'])"
   ]
  },
  {
   "cell_type": "code",
   "execution_count": 166,
   "id": "smoking-albert",
   "metadata": {},
   "outputs": [
    {
     "data": {
      "text/plain": [
       "['ball', 'apple']"
      ]
     },
     "execution_count": 166,
     "metadata": {},
     "output_type": "execute_result"
    }
   ],
   "source": [
    "L"
   ]
  },
  {
   "cell_type": "code",
   "execution_count": null,
   "id": "enormous-spring",
   "metadata": {},
   "outputs": [],
   "source": [
    "L.sort()"
   ]
  },
  {
   "cell_type": "code",
   "execution_count": 168,
   "id": "certified-growing",
   "metadata": {},
   "outputs": [],
   "source": [
    "L.sort(reverse=True)"
   ]
  },
  {
   "cell_type": "code",
   "execution_count": 169,
   "id": "collect-blank",
   "metadata": {},
   "outputs": [
    {
     "data": {
      "text/plain": [
       "['apple', 'ball']"
      ]
     },
     "execution_count": 169,
     "metadata": {},
     "output_type": "execute_result"
    }
   ],
   "source": [
    "L"
   ]
  },
  {
   "cell_type": "markdown",
   "id": "corresponding-probability",
   "metadata": {},
   "source": [
    "### tuple"
   ]
  },
  {
   "cell_type": "code",
   "execution_count": 170,
   "id": "grand-blade",
   "metadata": {},
   "outputs": [],
   "source": [
    "t = ()"
   ]
  },
  {
   "cell_type": "code",
   "execution_count": 171,
   "id": "alleged-ocean",
   "metadata": {},
   "outputs": [
    {
     "data": {
      "text/plain": [
       "tuple"
      ]
     },
     "execution_count": 171,
     "metadata": {},
     "output_type": "execute_result"
    }
   ],
   "source": [
    "type(t)"
   ]
  },
  {
   "cell_type": "code",
   "execution_count": 172,
   "id": "together-shower",
   "metadata": {},
   "outputs": [],
   "source": [
    "t = ('apple', 'ball', 'cat', 'dog', name)"
   ]
  },
  {
   "cell_type": "code",
   "execution_count": 174,
   "id": "mexican-raise",
   "metadata": {},
   "outputs": [
    {
     "data": {
      "text/plain": [
       "('cat', 'dog', 'elephant')"
      ]
     },
     "execution_count": 174,
     "metadata": {},
     "output_type": "execute_result"
    }
   ],
   "source": [
    "t[2:]"
   ]
  },
  {
   "cell_type": "code",
   "execution_count": 175,
   "id": "least-thanks",
   "metadata": {},
   "outputs": [
    {
     "data": {
      "text/plain": [
       "('apple', 'ball', 'cat', 'dog')"
      ]
     },
     "execution_count": 175,
     "metadata": {},
     "output_type": "execute_result"
    }
   ],
   "source": [
    "t[:4]"
   ]
  },
  {
   "cell_type": "code",
   "execution_count": 176,
   "id": "textile-small",
   "metadata": {},
   "outputs": [
    {
     "ename": "TypeError",
     "evalue": "'tuple' object does not support item assignment",
     "output_type": "error",
     "traceback": [
      "\u001b[0;31m---------------------------------------------------------------------------\u001b[0m",
      "\u001b[0;31mTypeError\u001b[0m                                 Traceback (most recent call last)",
      "\u001b[0;32m<ipython-input-176-8c55ce9120a9>\u001b[0m in \u001b[0;36m<module>\u001b[0;34m\u001b[0m\n\u001b[0;32m----> 1\u001b[0;31m \u001b[0mt\u001b[0m\u001b[0;34m[\u001b[0m\u001b[0;36m1\u001b[0m\u001b[0;34m]\u001b[0m \u001b[0;34m=\u001b[0m \u001b[0;34m'bat'\u001b[0m\u001b[0;34m\u001b[0m\u001b[0;34m\u001b[0m\u001b[0m\n\u001b[0m",
      "\u001b[0;31mTypeError\u001b[0m: 'tuple' object does not support item assignment"
     ]
    }
   ],
   "source": [
    "t[1] = 'bat'"
   ]
  },
  {
   "cell_type": "code",
   "execution_count": 177,
   "id": "loaded-particular",
   "metadata": {},
   "outputs": [
    {
     "ename": "TypeError",
     "evalue": "'tuple' object doesn't support item deletion",
     "output_type": "error",
     "traceback": [
      "\u001b[0;31m---------------------------------------------------------------------------\u001b[0m",
      "\u001b[0;31mTypeError\u001b[0m                                 Traceback (most recent call last)",
      "\u001b[0;32m<ipython-input-177-77cea8bc7ee1>\u001b[0m in \u001b[0;36m<module>\u001b[0;34m\u001b[0m\n\u001b[0;32m----> 1\u001b[0;31m \u001b[0;32mdel\u001b[0m \u001b[0mt\u001b[0m\u001b[0;34m[\u001b[0m\u001b[0;36m1\u001b[0m\u001b[0;34m]\u001b[0m\u001b[0;34m\u001b[0m\u001b[0;34m\u001b[0m\u001b[0m\n\u001b[0m",
      "\u001b[0;31mTypeError\u001b[0m: 'tuple' object doesn't support item deletion"
     ]
    }
   ],
   "source": [
    "del t[1]"
   ]
  },
  {
   "cell_type": "markdown",
   "id": "finished-opera",
   "metadata": {},
   "source": [
    "### for loop"
   ]
  },
  {
   "cell_type": "code",
   "execution_count": 178,
   "id": "catholic-ownership",
   "metadata": {},
   "outputs": [
    {
     "name": "stdout",
     "output_type": "stream",
     "text": [
      "hi\n",
      "hi\n",
      "hi\n"
     ]
    }
   ],
   "source": [
    "for i in range(3):\n",
    "    print(\"hi\")"
   ]
  },
  {
   "cell_type": "code",
   "execution_count": 179,
   "id": "environmental-thumbnail",
   "metadata": {},
   "outputs": [
    {
     "name": "stdout",
     "output_type": "stream",
     "text": [
      "hi\n",
      "hi\n",
      "hi\n"
     ]
    }
   ],
   "source": [
    "for _ in range(3):\n",
    "    print(\"hi\")"
   ]
  },
  {
   "cell_type": "code",
   "execution_count": 181,
   "id": "cheap-forth",
   "metadata": {},
   "outputs": [
    {
     "name": "stdout",
     "output_type": "stream",
     "text": [
      "21\n",
      "23\n",
      "25\n",
      "27\n",
      "29\n"
     ]
    }
   ],
   "source": [
    "for i in range(21,31,2):\n",
    "    print(i)"
   ]
  },
  {
   "cell_type": "code",
   "execution_count": 183,
   "id": "quarterly-discrimination",
   "metadata": {},
   "outputs": [
    {
     "name": "stdout",
     "output_type": "stream",
     "text": [
      "Enter any number: 10\n",
      "Number is even\n",
      "Enter any number: 20\n",
      "Divisible by 4 and also even\n"
     ]
    }
   ],
   "source": [
    "for i in range(3):\n",
    "    num = int(input(\"Enter any number: \"))\n",
    "    if num % 4 == 0:\n",
    "        print(\"Divisible by 4 and also even\")\n",
    "        break\n",
    "    elif num % 2 == 0:\n",
    "        print('Number is even')\n",
    "    else:\n",
    "        print('Number is odd')"
   ]
  },
  {
   "cell_type": "code",
   "execution_count": 184,
   "id": "shaped-federal",
   "metadata": {},
   "outputs": [
    {
     "name": "stdout",
     "output_type": "stream",
     "text": [
      "hello\n",
      "hello\n",
      "hello\n",
      "hello\n",
      "hello\n",
      "hello\n",
      "hello\n",
      "hello\n"
     ]
    }
   ],
   "source": [
    "for i in range(len(name)):\n",
    "    print(\"hello\")"
   ]
  },
  {
   "cell_type": "code",
   "execution_count": 185,
   "id": "disturbed-orientation",
   "metadata": {},
   "outputs": [
    {
     "name": "stdout",
     "output_type": "stream",
     "text": [
      "e\n",
      "l\n",
      "e\n",
      "p\n",
      "h\n",
      "a\n",
      "n\n",
      "t\n"
     ]
    }
   ],
   "source": [
    "for i in name:\n",
    "    print(i)"
   ]
  },
  {
   "cell_type": "code",
   "execution_count": 186,
   "id": "excessive-afternoon",
   "metadata": {},
   "outputs": [
    {
     "name": "stdout",
     "output_type": "stream",
     "text": [
      "ball\n",
      "apple\n",
      "67.9\n",
      "72.8\n",
      "34\n",
      "papaya\n",
      "12\n"
     ]
    }
   ],
   "source": [
    "for i in l:\n",
    "    print(i)"
   ]
  },
  {
   "cell_type": "code",
   "execution_count": 188,
   "id": "driven-thirty",
   "metadata": {},
   "outputs": [
    {
     "name": "stdout",
     "output_type": "stream",
     "text": [
      "ball papaya\n",
      "apple 34\n",
      "67.9 72.8\n"
     ]
    }
   ],
   "source": [
    "for i,j in zip(l,f[:3]):\n",
    "    print(i,j)"
   ]
  },
  {
   "cell_type": "code",
   "execution_count": 190,
   "id": "ranging-failing",
   "metadata": {},
   "outputs": [],
   "source": [
    "L = []\n",
    "for i in l:\n",
    "    if str(i).isalpha():\n",
    "        L.append(i)"
   ]
  },
  {
   "cell_type": "markdown",
   "id": "grave-barcelona",
   "metadata": {},
   "source": [
    "### task-3"
   ]
  },
  {
   "cell_type": "markdown",
   "id": "attractive-quarter",
   "metadata": {
    "solution2": "shown",
    "solution2_first": true
   },
   "source": [
    "1. a = [1, 4, 9, 16, 25, 36, 49, 64, 81, 100]. Write Python code that takes this list a and makes a new list that has only the even elements of this list in it.\n"
   ]
  },
  {
   "cell_type": "code",
   "execution_count": 193,
   "id": "above-softball",
   "metadata": {
    "deletable": false,
    "editable": false,
    "solution2": "shown"
   },
   "outputs": [
    {
     "data": {
      "text/plain": [
       "[4, 16, 36, 64, 100]"
      ]
     },
     "execution_count": 193,
     "metadata": {},
     "output_type": "execute_result"
    }
   ],
   "source": [
    "a = [1, 4, 9, 16, 25, 36, 49, 64, 81, 100]\n",
    "b = []\n",
    "for i in a:\n",
    "    if i % 2 == 0:\n",
    "        b.append(i)\n",
    "b"
   ]
  },
  {
   "cell_type": "code",
   "execution_count": 199,
   "id": "trained-northwest",
   "metadata": {
    "deletable": false,
    "editable": false,
    "solution2": "shown"
   },
   "outputs": [
    {
     "data": {
      "text/plain": [
       "[4, 16, 36, 64, 100]"
      ]
     },
     "execution_count": 199,
     "metadata": {},
     "output_type": "execute_result"
    }
   ],
   "source": [
    "a = [1, 4, 9, 16, 25, 36, 49, 64, 81, 100]\n",
    "b = [i for i in a if i % 2 == 0]\n",
    "b"
   ]
  },
  {
   "cell_type": "markdown",
   "id": "organizational-small",
   "metadata": {
    "solution2": "hidden",
    "solution2_first": true
   },
   "source": [
    "2. Write a program that takes a list and returns a new list that contains all the elements of the first list minus all the duplicates."
   ]
  },
  {
   "cell_type": "code",
   "execution_count": 197,
   "id": "crazy-screen",
   "metadata": {
    "deletable": false,
    "editable": false,
    "solution2": "hidden"
   },
   "outputs": [],
   "source": [
    "a = [1, 4, 9, 16, 25, 36, 49, 64, 81, 100]\n",
    "b = [11, 4, 4, 16, 25, 25, 16, 36, 49, 49, 61, 82, 100, 100]\n",
    "c = []\n",
    "\n",
    "for i in b:\n",
    "    if i in a and i not in c:\n",
    "        c.append(i)"
   ]
  },
  {
   "cell_type": "markdown",
   "id": "several-bible",
   "metadata": {},
   "source": [
    "### HW-2"
   ]
  },
  {
   "cell_type": "markdown",
   "id": "governmental-unknown",
   "metadata": {},
   "source": [
    "Randomly generate a 4-digit number. Ask the user to guess a 4-digit number. For every digit that the user guessed correctly in the correct place, they have a \"cow. For every digit the user guessed correctly in the wrong place is a \"bull. Every time the user makes a guess, tell them how many \"cows and \"bulls they have. Once the user guesses the correct number, the game is over. Keep track of the number of guesses the user makes throughout teh game and tell the user at the end.\n",
    "\n",
    "code:\n",
    "\n",
    "    import random as rd\n",
    "    num = rd.randint(101, 999) "
   ]
  },
  {
   "cell_type": "markdown",
   "id": "worst-scottish",
   "metadata": {},
   "source": [
    "###     dictionary    \n"
   ]
  },
  {
   "cell_type": "code",
   "execution_count": 203,
   "id": "further-terror",
   "metadata": {},
   "outputs": [],
   "source": [
    "D = {}"
   ]
  },
  {
   "cell_type": "code",
   "execution_count": 204,
   "id": "unnecessary-supplement",
   "metadata": {},
   "outputs": [],
   "source": [
    "d = {'a':'apple','b':'ball','c':'cat',12:\"dog\",\"e\":789}"
   ]
  },
  {
   "cell_type": "code",
   "execution_count": 205,
   "id": "certain-stuart",
   "metadata": {},
   "outputs": [
    {
     "data": {
      "text/plain": [
       "{'a': 'apple', 'b': 'ball', 'c': 'cat', 12: 'dog', 'e': 789}"
      ]
     },
     "execution_count": 205,
     "metadata": {},
     "output_type": "execute_result"
    }
   ],
   "source": [
    "d"
   ]
  },
  {
   "cell_type": "code",
   "execution_count": 206,
   "id": "atmospheric-slovakia",
   "metadata": {},
   "outputs": [
    {
     "data": {
      "text/plain": [
       "'apple'"
      ]
     },
     "execution_count": 206,
     "metadata": {},
     "output_type": "execute_result"
    }
   ],
   "source": [
    "d['a']"
   ]
  },
  {
   "cell_type": "code",
   "execution_count": 207,
   "id": "dominican-attribute",
   "metadata": {},
   "outputs": [
    {
     "data": {
      "text/plain": [
       "'cat'"
      ]
     },
     "execution_count": 207,
     "metadata": {},
     "output_type": "execute_result"
    }
   ],
   "source": [
    "d['c']"
   ]
  },
  {
   "cell_type": "code",
   "execution_count": 208,
   "id": "seasonal-military",
   "metadata": {},
   "outputs": [],
   "source": [
    "d['b'] = 'bat'"
   ]
  },
  {
   "cell_type": "code",
   "execution_count": 209,
   "id": "composed-tourist",
   "metadata": {},
   "outputs": [
    {
     "data": {
      "text/plain": [
       "{'a': 'apple', 'b': 'bat', 'c': 'cat', 12: 'dog', 'e': 789}"
      ]
     },
     "execution_count": 209,
     "metadata": {},
     "output_type": "execute_result"
    }
   ],
   "source": [
    "d"
   ]
  },
  {
   "cell_type": "code",
   "execution_count": 210,
   "id": "separated-allah",
   "metadata": {},
   "outputs": [],
   "source": [
    "d['f'] = 'fish'"
   ]
  },
  {
   "cell_type": "code",
   "execution_count": 211,
   "id": "pediatric-marble",
   "metadata": {},
   "outputs": [
    {
     "data": {
      "text/plain": [
       "{'a': 'apple', 'b': 'bat', 'c': 'cat', 12: 'dog', 'e': 789, 'f': 'fish'}"
      ]
     },
     "execution_count": 211,
     "metadata": {},
     "output_type": "execute_result"
    }
   ],
   "source": [
    "d"
   ]
  },
  {
   "cell_type": "code",
   "execution_count": 212,
   "id": "numerical-crack",
   "metadata": {},
   "outputs": [],
   "source": [
    "del d['e']"
   ]
  },
  {
   "cell_type": "code",
   "execution_count": 213,
   "id": "surprising-discussion",
   "metadata": {},
   "outputs": [
    {
     "data": {
      "text/plain": [
       "{'a': 'apple', 'b': 'bat', 'c': 'cat', 12: 'dog', 'f': 'fish'}"
      ]
     },
     "execution_count": 213,
     "metadata": {},
     "output_type": "execute_result"
    }
   ],
   "source": [
    "d"
   ]
  },
  {
   "cell_type": "code",
   "execution_count": 214,
   "id": "prescribed-sellers",
   "metadata": {},
   "outputs": [
    {
     "data": {
      "text/plain": [
       "dict_keys(['a', 'b', 'c', 12, 'f'])"
      ]
     },
     "execution_count": 214,
     "metadata": {},
     "output_type": "execute_result"
    }
   ],
   "source": [
    "d.keys()"
   ]
  },
  {
   "cell_type": "code",
   "execution_count": 215,
   "id": "adapted-documentation",
   "metadata": {},
   "outputs": [
    {
     "data": {
      "text/plain": [
       "dict_values(['apple', 'bat', 'cat', 'dog', 'fish'])"
      ]
     },
     "execution_count": 215,
     "metadata": {},
     "output_type": "execute_result"
    }
   ],
   "source": [
    "d.values()"
   ]
  },
  {
   "cell_type": "code",
   "execution_count": 216,
   "id": "bacterial-marine",
   "metadata": {},
   "outputs": [
    {
     "data": {
      "text/plain": [
       "dict_items([('a', 'apple'), ('b', 'bat'), ('c', 'cat'), (12, 'dog'), ('f', 'fish')])"
      ]
     },
     "execution_count": 216,
     "metadata": {},
     "output_type": "execute_result"
    }
   ],
   "source": [
    "d.items()"
   ]
  },
  {
   "cell_type": "code",
   "execution_count": 217,
   "id": "promotional-aerospace",
   "metadata": {},
   "outputs": [
    {
     "ename": "KeyError",
     "evalue": "'x'",
     "output_type": "error",
     "traceback": [
      "\u001b[0;31m---------------------------------------------------------------------------\u001b[0m",
      "\u001b[0;31mKeyError\u001b[0m                                  Traceback (most recent call last)",
      "\u001b[0;32m<ipython-input-217-7657742692bd>\u001b[0m in \u001b[0;36m<module>\u001b[0;34m\u001b[0m\n\u001b[0;32m----> 1\u001b[0;31m \u001b[0md\u001b[0m\u001b[0;34m[\u001b[0m\u001b[0;34m'x'\u001b[0m\u001b[0;34m]\u001b[0m\u001b[0;34m\u001b[0m\u001b[0;34m\u001b[0m\u001b[0m\n\u001b[0m",
      "\u001b[0;31mKeyError\u001b[0m: 'x'"
     ]
    }
   ],
   "source": [
    "d['x']"
   ]
  },
  {
   "cell_type": "code",
   "execution_count": 221,
   "id": "single-sperm",
   "metadata": {},
   "outputs": [
    {
     "data": {
      "text/plain": [
       "'apple'"
      ]
     },
     "execution_count": 221,
     "metadata": {},
     "output_type": "execute_result"
    }
   ],
   "source": [
    "d.get('a', \"Default\")"
   ]
  },
  {
   "cell_type": "code",
   "execution_count": 220,
   "id": "starting-volleyball",
   "metadata": {},
   "outputs": [
    {
     "data": {
      "text/plain": [
       "'Default'"
      ]
     },
     "execution_count": 220,
     "metadata": {},
     "output_type": "execute_result"
    }
   ],
   "source": [
    "d.get('x', \"Default\")"
   ]
  },
  {
   "cell_type": "code",
   "execution_count": 223,
   "id": "specified-possible",
   "metadata": {},
   "outputs": [],
   "source": [
    "D.update({'a': 'apple', 'b': 'bat'})"
   ]
  },
  {
   "cell_type": "code",
   "execution_count": 224,
   "id": "strong-ministry",
   "metadata": {},
   "outputs": [
    {
     "data": {
      "text/plain": [
       "{'a': 'apple', 'b': 'bat'}"
      ]
     },
     "execution_count": 224,
     "metadata": {},
     "output_type": "execute_result"
    }
   ],
   "source": [
    "D"
   ]
  },
  {
   "cell_type": "code",
   "execution_count": 229,
   "id": "delayed-pleasure",
   "metadata": {},
   "outputs": [
    {
     "name": "stdout",
     "output_type": "stream",
     "text": [
      "a --> apple\n",
      "b --> bat\n",
      "c --> cat\n",
      "12 --> dog\n",
      "f --> fish\n"
     ]
    }
   ],
   "source": [
    "for k,v in d.items():\n",
    "    print(k, \"-->\", v)"
   ]
  },
  {
   "cell_type": "markdown",
   "id": "incorporate-disabled",
   "metadata": {},
   "source": [
    "### task-4"
   ]
  },
  {
   "cell_type": "markdown",
   "id": "limiting-miller",
   "metadata": {
    "solution2": "shown",
    "solution2_first": true
   },
   "source": [
    "1. get 5 students name and their marks for 3 subjects. Store these results in dictionary.\n",
    "\n",
    "    output format:- {'abc':[45,56,65]}\n",
    "   \n",
    "   Steps to be followed:\n",
    "       a. initialize empty dictionary\n",
    "       b. for loop for 5 iteration\n",
    "       c. get name\n",
    "       d. for loop for 3 iterations\n",
    "       e. get marks and append it to a list\n",
    "       f. form a dictionary"
   ]
  },
  {
   "cell_type": "code",
   "execution_count": 5,
   "id": "nasty-consideration",
   "metadata": {
    "solution2": "shown"
   },
   "outputs": [
    {
     "name": "stdout",
     "output_type": "stream",
     "text": [
      "Please enter your name: abc\n",
      "Enter the mark of subject-1: 45\n",
      "Enter the mark of subject-2: 56\n",
      "Enter the mark of subject-3: 63\n",
      "Please enter your name: xyz\n",
      "Enter the mark of subject-1: 78\n",
      "Enter the mark of subject-2: 84\n",
      "Enter the mark of subject-3: 82\n",
      "Please enter your name: ijk\n",
      "Enter the mark of subject-1: 12\n",
      "Enter the mark of subject-2: 32\n",
      "Enter the mark of subject-3: 25\n",
      "Please enter your name: qrs\n",
      "Enter the mark of subject-1: 85\n",
      "Enter the mark of subject-2: 92\n",
      "Enter the mark of subject-3: 89\n",
      "Please enter your name: lmn\n",
      "Enter the mark of subject-1: 99\n",
      "Enter the mark of subject-2: 98\n",
      "Enter the mark of subject-3: 99\n"
     ]
    }
   ],
   "source": [
    "studentsData = {}\n",
    "for i in range(5):\n",
    "    name = input(\"Please enter your name: \")\n",
    "    temp = []\n",
    "    for j in range(3):\n",
    "        mark = float(input(\"Enter the mark of subject-{}: \".format(j+1)))\n",
    "        temp.append(mark)\n",
    "    studentsData[name] = temp\n",
    "    print()"
   ]
  },
  {
   "cell_type": "code",
   "execution_count": 6,
   "id": "considerable-stevens",
   "metadata": {
    "solution2": "shown"
   },
   "outputs": [
    {
     "data": {
      "text/plain": [
       "{'abc': ['45', '56', '63'],\n",
       " 'xyz': ['78', '84', '82'],\n",
       " 'ijk': ['12', '32', '25'],\n",
       " 'qrs': ['85', '92', '89'],\n",
       " 'lmn': ['99', '98', '99']}"
      ]
     },
     "execution_count": 6,
     "metadata": {},
     "output_type": "execute_result"
    }
   ],
   "source": [
    "studentsData"
   ]
  },
  {
   "cell_type": "code",
   "execution_count": 8,
   "id": "psychological-feelings",
   "metadata": {
    "solution2": "shown"
   },
   "outputs": [
    {
     "name": "stdout",
     "output_type": "stream",
     "text": [
      "Please enter your name: abc\n",
      "Enter the mark of subject-1: 45\n",
      "Enter the mark of subject-2: 56\n",
      "Enter the mark of subject-3: 63\n",
      "\n",
      "Please enter your name: xyz\n",
      "Enter the mark of subject-1: 75\n",
      "Enter the mark of subject-2: 84\n",
      "Enter the mark of subject-3: 69\n",
      "\n"
     ]
    }
   ],
   "source": [
    "studentsData = {}\n",
    "for i in range(2):\n",
    "    name = input(\"Please enter your name: \")\n",
    "    studentsData[name] = [float(input(\"Enter the mark of subject-{}: \".format(j+1))) for j in range(3)]\n",
    "    print()"
   ]
  },
  {
   "cell_type": "code",
   "execution_count": 9,
   "id": "interracial-assets",
   "metadata": {
    "solution2": "shown"
   },
   "outputs": [
    {
     "data": {
      "text/plain": [
       "{'abc': [45.0, 56.0, 63.0], 'xyz': [75.0, 84.0, 69.0]}"
      ]
     },
     "execution_count": 9,
     "metadata": {},
     "output_type": "execute_result"
    }
   ],
   "source": [
    "studentsData"
   ]
  },
  {
   "cell_type": "markdown",
   "id": "russian-invitation",
   "metadata": {},
   "source": [
    "### error handling"
   ]
  },
  {
   "cell_type": "code",
   "execution_count": 13,
   "id": "objective-optics",
   "metadata": {},
   "outputs": [
    {
     "ename": "NameError",
     "evalue": "name 'x' is not defined",
     "output_type": "error",
     "traceback": [
      "\u001b[0;31m---------------------------------------------------------------------------\u001b[0m",
      "\u001b[0;31mNameError\u001b[0m                                 Traceback (most recent call last)",
      "\u001b[0;32m<ipython-input-13-f0e4297e1e9e>\u001b[0m in \u001b[0;36m<module>\u001b[0;34m\u001b[0m\n\u001b[0;32m----> 1\u001b[0;31m \u001b[0mprint\u001b[0m\u001b[0;34m(\u001b[0m\u001b[0mx\u001b[0m\u001b[0;34m+\u001b[0m\u001b[0my\u001b[0m\u001b[0;34m)\u001b[0m\u001b[0;34m\u001b[0m\u001b[0;34m\u001b[0m\u001b[0m\n\u001b[0m\u001b[1;32m      2\u001b[0m \u001b[0mprint\u001b[0m\u001b[0;34m(\u001b[0m\u001b[0;34m\"hello world!!!\"\u001b[0m\u001b[0;34m)\u001b[0m\u001b[0;34m\u001b[0m\u001b[0;34m\u001b[0m\u001b[0m\n",
      "\u001b[0;31mNameError\u001b[0m: name 'x' is not defined"
     ]
    }
   ],
   "source": [
    "print(x+y)\n",
    "print(\"hello world!!!\")"
   ]
  },
  {
   "cell_type": "code",
   "execution_count": 15,
   "id": "noted-spread",
   "metadata": {},
   "outputs": [
    {
     "name": "stdout",
     "output_type": "stream",
     "text": [
      "There is an error\n",
      "hello world!!!\n"
     ]
    }
   ],
   "source": [
    "try:\n",
    "    print(x+y)\n",
    "except:\n",
    "    print(\"There is an error\")\n",
    "print(\"hello world!!!\")"
   ]
  },
  {
   "cell_type": "code",
   "execution_count": 16,
   "id": "focused-familiar",
   "metadata": {},
   "outputs": [
    {
     "name": "stdout",
     "output_type": "stream",
     "text": [
      "Hello! This program can help you to calculate the area of the following objects \n",
      "1. circle\n",
      "2. square\n",
      "3. rectangle\n",
      "\n",
      "Enter the object you want to calculate: 5\n",
      "Invalid option\n",
      "\n",
      "Do you want to continue? y/n: y\n",
      "Enter the object you want to calculate: circle\n",
      "Enter the radius of the circle: h\n",
      "there is an error in calculating area of circle\n",
      "\n",
      "Do you want to continue? y/n: y\n",
      "Enter the object you want to calculate: rectangle\n",
      "Enter the length of the rectangle: 4\n",
      "Enter the breadth of the rectangle: a\n",
      "there is an error in calculating area of rectangle\n",
      "\n",
      "Do you want to continue? y/n: n\n",
      "Thank you!!!\n"
     ]
    }
   ],
   "source": [
    "opt = 'y'\n",
    "print(\n",
    "    \"Hello! This program can help you to calculate the area of the following objects \\n1. circle\\n2. square\\n3. rectangle\"\n",
    ")\n",
    "print()\n",
    "while opt == 'y':\n",
    "    try:\n",
    "        choice = input(\"Enter the object you want to calculate: \")\n",
    "    except:\n",
    "        print(\"There is an error in getting user input\")\n",
    "        \n",
    "    if choice == \"circle\":\n",
    "        try:\n",
    "            r = eval(input(\"Enter the radius of the circle: \"))\n",
    "            print(\"Area of the circle is\", 3.14 * r * r)\n",
    "        except:\n",
    "            print(\"there is an error in calculating area of circle\")\n",
    "    elif choice == \"square\":\n",
    "        try:\n",
    "            a = eval(input(\"Enter the sides of the square: \"))\n",
    "            print(\"Area of the square is\", a * a)\n",
    "        except:\n",
    "            print(\"there is an error in calculating area of square\")\n",
    "    elif choice == \"rectangle\":\n",
    "        try:\n",
    "            l = eval(input(\"Enter the length of the rectangle: \"))\n",
    "            b = eval(input(\"Enter the breadth of the rectangle: \"))\n",
    "            print(\"Area of the rectangle is\", a * a)\n",
    "        except:\n",
    "            print(\"there is an error in calculating area of rectangle\")\n",
    "    else:\n",
    "        print(\"Invalid option\")\n",
    "    print()\n",
    "    opt = input(\"Do you want to continue? y/n: \")\n",
    "else:\n",
    "     print(\"Thank you!!!\")"
   ]
  },
  {
   "cell_type": "code",
   "execution_count": 23,
   "id": "impressed-photographer",
   "metadata": {},
   "outputs": [
    {
     "ename": "SyntaxError",
     "evalue": "invalid syntax (<ipython-input-23-b86181bcb8bf>, line 3)",
     "output_type": "error",
     "traceback": [
      "\u001b[0;36m  File \u001b[0;32m\"<ipython-input-23-b86181bcb8bf>\"\u001b[0;36m, line \u001b[0;32m3\u001b[0m\n\u001b[0;31m    except NameError as e:\u001b[0m\n\u001b[0m         ^\u001b[0m\n\u001b[0;31mSyntaxError\u001b[0m\u001b[0;31m:\u001b[0m invalid syntax\n"
     ]
    }
   ],
   "source": [
    "try:\n",
    "    print(x=5)\n",
    "except NameError as e:\n",
    "    print(\"There is an error:\",e)\n",
    "except TypeError as t:\n",
    "    print(t)\n",
    "print(\"hello world!!!\")"
   ]
  },
  {
   "cell_type": "code",
   "execution_count": 25,
   "id": "hollywood-harrison",
   "metadata": {},
   "outputs": [
    {
     "name": "stdout",
     "output_type": "stream",
     "text": [
      "There is an error 'x' is an invalid keyword argument for this function\n",
      "hello world!!!\n"
     ]
    }
   ],
   "source": [
    "try:\n",
    "    print(x=5)\n",
    "except Exception as e:\n",
    "    print(\"There is an error\", e)\n",
    "print(\"hello world!!!\")"
   ]
  },
  {
   "cell_type": "code",
   "execution_count": 36,
   "id": "neither-mileage",
   "metadata": {},
   "outputs": [],
   "source": [
    "a = 15"
   ]
  },
  {
   "cell_type": "code",
   "execution_count": 32,
   "id": "closed-pickup",
   "metadata": {},
   "outputs": [],
   "source": [
    "if a == 10:\n",
    "    print('yes')"
   ]
  },
  {
   "cell_type": "code",
   "execution_count": 37,
   "id": "quarterly-cameroon",
   "metadata": {},
   "outputs": [
    {
     "name": "stdout",
     "output_type": "stream",
     "text": [
      "No, value mismatch\n"
     ]
    }
   ],
   "source": [
    "try:\n",
    "    assert a==10, \"No, value mismatch\"\n",
    "except AssertionError as ae:\n",
    "    print(ae)\n",
    "    a = 10"
   ]
  },
  {
   "cell_type": "code",
   "execution_count": 40,
   "id": "scenic-dictionary",
   "metadata": {},
   "outputs": [
    {
     "name": "stdout",
     "output_type": "stream",
     "text": [
      "Hello! This program can help you to calculate the area of the following objects \n",
      "1. circle\n",
      "2. square\n",
      "3. rectangle\n",
      "\n",
      "Enter the object you want to calculate: abc\n",
      "There is an error in getting user input: Please select the correct option\n",
      "Enter the object you want to calculate: circle\n",
      "Enter the radius of the circle: 3\n",
      "Area of the circle is 28.259999999999998\n",
      "\n",
      "Do you want to continue? y/n: n\n",
      "Thank you!!!\n"
     ]
    }
   ],
   "source": [
    "opt = 'y'\n",
    "objects = [\"circle\",\"square\",\"rectangle\"]\n",
    "print(\n",
    "    \"Hello! This program can help you to calculate the area of the following objects \\n1. circle\\n2. square\\n3. rectangle\"\n",
    ")\n",
    "print()\n",
    "while opt == 'y':\n",
    "    try:\n",
    "        choice = input(\"Enter the object you want to calculate: \")\n",
    "        if choice not in objects:\n",
    "            raise ValueError(\"Please select the correct option\")\n",
    "    except Exception as e:\n",
    "        print(\"There is an error in getting user input:\",e)\n",
    "        continue\n",
    "        \n",
    "    if choice == \"circle\":\n",
    "        try:\n",
    "            r = eval(input(\"Enter the radius of the circle: \"))\n",
    "            print(\"Area of the circle is\", 3.14 * r * r)\n",
    "        except:\n",
    "            print(\"there is an error in calculating area of circle\")\n",
    "    elif choice == \"square\":\n",
    "        try:\n",
    "            a = eval(input(\"Enter the sides of the square: \"))\n",
    "            print(\"Area of the square is\", a * a)\n",
    "        except:\n",
    "            print(\"there is an error in calculating area of square\")\n",
    "    elif choice == \"rectangle\":\n",
    "        try:\n",
    "            l = eval(input(\"Enter the length of the rectangle: \"))\n",
    "            b = eval(input(\"Enter the breadth of the rectangle: \"))\n",
    "            print(\"Area of the rectangle is\", a * a)\n",
    "        except:\n",
    "            print(\"there is an error in calculating area of rectangle\")\n",
    "    else:\n",
    "        print(\"Invalid option\")\n",
    "    print()\n",
    "    opt = input(\"Do you want to continue? y/n: \")\n",
    "else:\n",
    "     print(\"Thank you!!!\")"
   ]
  },
  {
   "cell_type": "markdown",
   "id": "overall-watershed",
   "metadata": {},
   "source": [
    "### libraries handling"
   ]
  },
  {
   "cell_type": "code",
   "execution_count": null,
   "id": "short-stockholm",
   "metadata": {},
   "outputs": [],
   "source": [
    "in-built & third-party"
   ]
  },
  {
   "cell_type": "code",
   "execution_count": 41,
   "id": "excess-grill",
   "metadata": {},
   "outputs": [],
   "source": [
    "import math"
   ]
  },
  {
   "cell_type": "code",
   "execution_count": 45,
   "id": "exterior-evening",
   "metadata": {},
   "outputs": [
    {
     "data": {
      "text/plain": [
       "6.123233995736766e-17"
      ]
     },
     "execution_count": 45,
     "metadata": {},
     "output_type": "execute_result"
    }
   ],
   "source": [
    "math.cos(math.radians(90))"
   ]
  },
  {
   "cell_type": "code",
   "execution_count": null,
   "id": "worth-armor",
   "metadata": {},
   "outputs": [],
   "source": [
    "# to install library --> pip install libraryName"
   ]
  },
  {
   "cell_type": "code",
   "execution_count": 49,
   "id": "careful-boston",
   "metadata": {},
   "outputs": [
    {
     "name": "stdout",
     "output_type": "stream",
     "text": [
      "Collecting pytube\n",
      "  Downloading pytube-12.0.0-py3-none-any.whl (56 kB)\n",
      "\u001b[K     |████████████████████████████████| 56 kB 2.0 MB/s eta 0:00:01\n",
      "\u001b[?25hInstalling collected packages: pytube\n",
      "Successfully installed pytube-12.0.0\n",
      "\u001b[33mWARNING: You are using pip version 21.0.1; however, version 21.3.1 is available.\n",
      "You should consider upgrading via the '/Library/Frameworks/Python.framework/Versions/3.6/bin/python3.6 -m pip install --upgrade pip' command.\u001b[0m\n"
     ]
    }
   ],
   "source": [
    "!pip install pytube"
   ]
  },
  {
   "cell_type": "code",
   "execution_count": 50,
   "id": "completed-owner",
   "metadata": {
    "scrolled": true
   },
   "outputs": [],
   "source": [
    "# how to download youtube playlist videos all at once\n",
    "import random as rd\n",
    "\n",
    "from mhyt import yt_download\n",
    "from pytube import Playlist"
   ]
  },
  {
   "cell_type": "code",
   "execution_count": null,
   "id": "hairy-blackjack",
   "metadata": {},
   "outputs": [],
   "source": [
    "playlist = Playlist('https://www.youtube.com/playlist?list=PLB6MUoMXv9xf9Q6lILf8CYmxlHg12euFe')\n",
    "print('Number of videos in playlist: %s' % len(playlist.video_urls))\n",
    "\n",
    "for video_url in playlist.video_urls:\n",
    "    yt_download(video_url, \"download_{}.mp4\".format(rd.randint(1, len(playlist.video_urls))))"
   ]
  },
  {
   "cell_type": "code",
   "execution_count": 54,
   "id": "empty-respect",
   "metadata": {},
   "outputs": [],
   "source": [
    "import math as m\n",
    "import random as rd"
   ]
  },
  {
   "cell_type": "code",
   "execution_count": 55,
   "id": "dietary-matrix",
   "metadata": {},
   "outputs": [
    {
     "data": {
      "text/plain": [
       "2"
      ]
     },
     "execution_count": 55,
     "metadata": {},
     "output_type": "execute_result"
    }
   ],
   "source": [
    "m.log10\n",
    "rd.randint(1,10)"
   ]
  },
  {
   "cell_type": "code",
   "execution_count": 56,
   "id": "aggregate-local",
   "metadata": {},
   "outputs": [],
   "source": [
    "from math import log10, sin"
   ]
  },
  {
   "cell_type": "code",
   "execution_count": 57,
   "id": "simplified-consumption",
   "metadata": {},
   "outputs": [
    {
     "data": {
      "text/plain": [
       "1.1760912590556813"
      ]
     },
     "execution_count": 57,
     "metadata": {},
     "output_type": "execute_result"
    }
   ],
   "source": [
    "log10(15)"
   ]
  },
  {
   "cell_type": "code",
   "execution_count": 58,
   "id": "aware-election",
   "metadata": {},
   "outputs": [
    {
     "data": {
      "text/plain": [
       "0.8939966636005579"
      ]
     },
     "execution_count": 58,
     "metadata": {},
     "output_type": "execute_result"
    }
   ],
   "source": [
    "sin(90)"
   ]
  },
  {
   "cell_type": "code",
   "execution_count": 59,
   "id": "swiss-richardson",
   "metadata": {},
   "outputs": [],
   "source": [
    "from math import *"
   ]
  },
  {
   "cell_type": "code",
   "execution_count": 60,
   "id": "covered-delight",
   "metadata": {},
   "outputs": [
    {
     "data": {
      "text/plain": [
       "1.0"
      ]
     },
     "execution_count": 60,
     "metadata": {},
     "output_type": "execute_result"
    }
   ],
   "source": [
    "sin(radians(90))"
   ]
  },
  {
   "cell_type": "code",
   "execution_count": null,
   "id": "correct-acoustic",
   "metadata": {},
   "outputs": [],
   "source": [
    "import math\n",
    "import math as m\n",
    "from math import log10, sin\n",
    "from math import *"
   ]
  },
  {
   "cell_type": "markdown",
   "id": "gross-realtor",
   "metadata": {},
   "source": [
    "###     functions"
   ]
  },
  {
   "cell_type": "code",
   "execution_count": 62,
   "id": "durable-miracle",
   "metadata": {},
   "outputs": [],
   "source": [
    "# no arg no return\n",
    "def addition():\n",
    "    a = float(input(\"Enter any number for a: \"))\n",
    "    b = float(input(\"Enter any number for b: \"))\n",
    "    print(a,\"+\",b,\"=>\",a+b)"
   ]
  },
  {
   "cell_type": "code",
   "execution_count": 64,
   "id": "automatic-danish",
   "metadata": {},
   "outputs": [],
   "source": [
    "# no arg , return\n",
    "def addition():\n",
    "    a = float(input(\"Enter any number for a: \"))\n",
    "    b = float(input(\"Enter any number for b: \"))\n",
    "    return a+b"
   ]
  },
  {
   "cell_type": "code",
   "execution_count": 67,
   "id": "champion-better",
   "metadata": {},
   "outputs": [],
   "source": [
    "# arg , return\n",
    "def addition(a, b):\n",
    "    return a+b, a*b"
   ]
  },
  {
   "cell_type": "code",
   "execution_count": 70,
   "id": "hazardous-example",
   "metadata": {},
   "outputs": [],
   "source": [
    "# arg , return default value\n",
    "def addition(a, b=5):\n",
    "    return a+b, a*b"
   ]
  },
  {
   "cell_type": "code",
   "execution_count": 65,
   "id": "regional-london",
   "metadata": {},
   "outputs": [
    {
     "name": "stdout",
     "output_type": "stream",
     "text": [
      "Enter any number for a: 6\n",
      "Enter any number for b: 4\n"
     ]
    }
   ],
   "source": [
    "sumvalue = addition()"
   ]
  },
  {
   "cell_type": "code",
   "execution_count": 66,
   "id": "departmental-cylinder",
   "metadata": {},
   "outputs": [
    {
     "name": "stdout",
     "output_type": "stream",
     "text": [
      "10.0\n"
     ]
    }
   ],
   "source": [
    "print(sumvalue)"
   ]
  },
  {
   "cell_type": "code",
   "execution_count": 68,
   "id": "numerous-anger",
   "metadata": {},
   "outputs": [
    {
     "name": "stdout",
     "output_type": "stream",
     "text": [
      "Enter any number for a: 3\n",
      "Enter any number for b: 4\n"
     ]
    }
   ],
   "source": [
    "a = float(input(\"Enter any number for a: \"))\n",
    "b = float(input(\"Enter any number for b: \"))\n",
    "sumValue, mulValue = addition(a,b)"
   ]
  },
  {
   "cell_type": "code",
   "execution_count": 69,
   "id": "musical-balance",
   "metadata": {},
   "outputs": [
    {
     "data": {
      "text/plain": [
       "(7.0, 12.0)"
      ]
     },
     "execution_count": 69,
     "metadata": {},
     "output_type": "execute_result"
    }
   ],
   "source": [
    "sumValue, mulValue"
   ]
  },
  {
   "cell_type": "code",
   "execution_count": 71,
   "id": "floppy-terminal",
   "metadata": {},
   "outputs": [
    {
     "name": "stdout",
     "output_type": "stream",
     "text": [
      "Enter any number for a: 8\n",
      "Enter any number for b: 2\n"
     ]
    }
   ],
   "source": [
    "a = float(input(\"Enter any number for a: \"))\n",
    "b = float(input(\"Enter any number for b: \"))\n",
    "sumValue, mulValue = addition(a)"
   ]
  },
  {
   "cell_type": "code",
   "execution_count": 72,
   "id": "vocational-header",
   "metadata": {},
   "outputs": [
    {
     "data": {
      "text/plain": [
       "(13.0, 40.0)"
      ]
     },
     "execution_count": 72,
     "metadata": {},
     "output_type": "execute_result"
    }
   ],
   "source": [
    "sumValue, mulValue"
   ]
  },
  {
   "cell_type": "code",
   "execution_count": 73,
   "id": "moved-restaurant",
   "metadata": {},
   "outputs": [],
   "source": [
    "sumValue, mulValue = addition(a,b)"
   ]
  },
  {
   "cell_type": "code",
   "execution_count": 74,
   "id": "accredited-modification",
   "metadata": {},
   "outputs": [
    {
     "data": {
      "text/plain": [
       "(10.0, 16.0)"
      ]
     },
     "execution_count": 74,
     "metadata": {},
     "output_type": "execute_result"
    }
   ],
   "source": [
    "sumValue, mulValue"
   ]
  },
  {
   "cell_type": "code",
   "execution_count": 75,
   "id": "particular-collectible",
   "metadata": {},
   "outputs": [],
   "source": [
    "def getInput():\n",
    "    name = input(\"Please enter your name: \")\n",
    "    temp = []\n",
    "    for j in range(3):\n",
    "        mark = float(input(\"Enter the mark of subject-{}: \".format(j+1)))\n",
    "        temp.append(mark)\n",
    "    return {name: temp}"
   ]
  },
  {
   "cell_type": "code",
   "execution_count": 76,
   "id": "infrared-monroe",
   "metadata": {},
   "outputs": [
    {
     "name": "stdout",
     "output_type": "stream",
     "text": [
      "Please enter your name: abc\n",
      "Enter the mark of subject-1: 12\n",
      "Enter the mark of subject-2: 23\n",
      "Enter the mark of subject-3: 34\n",
      "\n",
      "Please enter your name: 78\n",
      "Enter the mark of subject-1: 89\n",
      "Enter the mark of subject-2: 90\n",
      "Enter the mark of subject-3: 91\n",
      "\n"
     ]
    }
   ],
   "source": [
    "studentsData = {}\n",
    "for i in range(2):\n",
    "    studentsData.update(getInput())\n",
    "    print()"
   ]
  },
  {
   "cell_type": "code",
   "execution_count": 77,
   "id": "chinese-rebel",
   "metadata": {},
   "outputs": [
    {
     "data": {
      "text/plain": [
       "{'abc': [12.0, 23.0, 34.0], '78': [89.0, 90.0, 91.0]}"
      ]
     },
     "execution_count": 77,
     "metadata": {},
     "output_type": "execute_result"
    }
   ],
   "source": [
    "studentsData"
   ]
  },
  {
   "cell_type": "code",
   "execution_count": 86,
   "id": "operating-booking",
   "metadata": {},
   "outputs": [],
   "source": [
    "a = 10\n",
    "b = 20"
   ]
  },
  {
   "cell_type": "code",
   "execution_count": 89,
   "id": "divided-geneva",
   "metadata": {},
   "outputs": [],
   "source": [
    "def primeCheck(num):\n",
    "    for j in range(2,num):\n",
    "        if num % j == 0:\n",
    "            return None\n",
    "    else:\n",
    "        return num"
   ]
  },
  {
   "cell_type": "code",
   "execution_count": 91,
   "id": "laughing-wheel",
   "metadata": {},
   "outputs": [
    {
     "name": "stdout",
     "output_type": "stream",
     "text": [
      "11\n",
      "13\n",
      "17\n",
      "19\n"
     ]
    }
   ],
   "source": [
    "for i in range(a,b):\n",
    "    if primeCheck(i):\n",
    "        print(i)"
   ]
  },
  {
   "cell_type": "code",
   "execution_count": 92,
   "id": "leading-venice",
   "metadata": {},
   "outputs": [
    {
     "data": {
      "text/plain": [
       "[11, 13, 17, 19]"
      ]
     },
     "execution_count": 92,
     "metadata": {},
     "output_type": "execute_result"
    }
   ],
   "source": [
    "list(filter(None, map(primeCheck, range(a,b))))"
   ]
  },
  {
   "cell_type": "code",
   "execution_count": 97,
   "id": "played-blackjack",
   "metadata": {},
   "outputs": [
    {
     "data": {
      "text/plain": [
       "['12', 'PAPAYA', '34', '56', '72.8', '67.9', 'APPLE', 'BALL', 'CAT']"
      ]
     },
     "execution_count": 97,
     "metadata": {},
     "output_type": "execute_result"
    }
   ],
   "source": [
    "list(map(str.upper, map(str,[12, 'papaya', 34, 56, 72.8, 67.9, 'apple', 'ball', 'cat'])))\n"
   ]
  },
  {
   "cell_type": "markdown",
   "id": "imported-psychiatry",
   "metadata": {},
   "source": [
    "### task-5"
   ]
  },
  {
   "cell_type": "markdown",
   "id": "mathematical-holly",
   "metadata": {},
   "source": [
    "a = [1, 4, 9, 16, 25, 36, 49, 64, 81, 100] write python code using funtions to get new list with the numbers fall in range of 20 to 40:\n",
    "    \n",
    "    output: [25,36]"
   ]
  },
  {
   "cell_type": "code",
   "execution_count": 98,
   "id": "realistic-birthday",
   "metadata": {},
   "outputs": [],
   "source": [
    "def rangeCheck(items, a,b):\n",
    "    result = [i for i in items if a <= i <= b]\n",
    "    return result"
   ]
  },
  {
   "cell_type": "code",
   "execution_count": 100,
   "id": "bearing-campus",
   "metadata": {},
   "outputs": [
    {
     "data": {
      "text/plain": [
       "[25, 36]"
      ]
     },
     "execution_count": 100,
     "metadata": {},
     "output_type": "execute_result"
    }
   ],
   "source": [
    "rangeCheck([1, 4, 9, 16, 25, 36, 49, 64, 81, 100], 20, 40)"
   ]
  },
  {
   "cell_type": "markdown",
   "id": "verified-commissioner",
   "metadata": {},
   "source": [
    "### file handling"
   ]
  },
  {
   "cell_type": "code",
   "execution_count": null,
   "id": "scientific-astronomy",
   "metadata": {},
   "outputs": [],
   "source": [
    "txt, excel, csv "
   ]
  },
  {
   "cell_type": "code",
   "execution_count": 110,
   "id": "divine-adobe",
   "metadata": {},
   "outputs": [],
   "source": [
    "inFile = open(\"srimad.txt\", 'w')"
   ]
  },
  {
   "cell_type": "code",
   "execution_count": 102,
   "id": "israeli-daughter",
   "metadata": {},
   "outputs": [
    {
     "data": {
      "text/plain": [
       "34"
      ]
     },
     "execution_count": 102,
     "metadata": {},
     "output_type": "execute_result"
    }
   ],
   "source": [
    "inFile.write(\"Hello, welcome to the python world\")"
   ]
  },
  {
   "cell_type": "code",
   "execution_count": 111,
   "id": "posted-pressing",
   "metadata": {},
   "outputs": [],
   "source": [
    "inFile.writelines(\"Hello, welcome to the python world!!!\")"
   ]
  },
  {
   "cell_type": "code",
   "execution_count": 112,
   "id": "numeric-football",
   "metadata": {},
   "outputs": [],
   "source": [
    "inFile.close()"
   ]
  },
  {
   "cell_type": "code",
   "execution_count": 113,
   "id": "suited-senator",
   "metadata": {},
   "outputs": [],
   "source": [
    "inFile = open(\"srimad.txt\", 'a')"
   ]
  },
  {
   "cell_type": "code",
   "execution_count": 114,
   "id": "regular-comedy",
   "metadata": {},
   "outputs": [],
   "source": [
    "inFile.writelines(\"\\ntoday is the 2nd day of the course\")"
   ]
  },
  {
   "cell_type": "code",
   "execution_count": 115,
   "id": "approved-blend",
   "metadata": {},
   "outputs": [],
   "source": [
    "inFile.close()"
   ]
  },
  {
   "cell_type": "code",
   "execution_count": 124,
   "id": "competent-apartment",
   "metadata": {},
   "outputs": [],
   "source": [
    "outFile = open(\"srimad.txt\",'r')"
   ]
  },
  {
   "cell_type": "code",
   "execution_count": 125,
   "id": "homeless-firewall",
   "metadata": {},
   "outputs": [
    {
     "data": {
      "text/plain": [
       "['Hello, welcome to the python world!!!', 'today is the 2nd day of the course']"
      ]
     },
     "execution_count": 125,
     "metadata": {},
     "output_type": "execute_result"
    }
   ],
   "source": [
    "outFile.read().splitlines()"
   ]
  },
  {
   "cell_type": "code",
   "execution_count": 121,
   "id": "prime-staff",
   "metadata": {},
   "outputs": [
    {
     "data": {
      "text/plain": [
       "''"
      ]
     },
     "execution_count": 121,
     "metadata": {},
     "output_type": "execute_result"
    }
   ],
   "source": [
    "outFile.readline()"
   ]
  },
  {
   "cell_type": "code",
   "execution_count": 123,
   "id": "important-forty",
   "metadata": {},
   "outputs": [
    {
     "data": {
      "text/plain": [
       "['Hello, welcome to the python world!!!\\n',\n",
       " 'today is the 2nd day of the course']"
      ]
     },
     "execution_count": 123,
     "metadata": {},
     "output_type": "execute_result"
    }
   ],
   "source": [
    "outFile.readlines()"
   ]
  },
  {
   "cell_type": "code",
   "execution_count": 126,
   "id": "closing-monster",
   "metadata": {},
   "outputs": [
    {
     "data": {
      "text/plain": [
       "71"
      ]
     },
     "execution_count": 126,
     "metadata": {},
     "output_type": "execute_result"
    }
   ],
   "source": [
    "sum([12,34,25])"
   ]
  },
  {
   "cell_type": "markdown",
   "id": "interpreted-chicago",
   "metadata": {},
   "source": [
    "### task-6"
   ]
  },
  {
   "cell_type": "code",
   "execution_count": 136,
   "id": "upset-identification",
   "metadata": {},
   "outputs": [
    {
     "name": "stdout",
     "output_type": "stream",
     "text": [
      "Please enter your name: abc\n",
      "Enter the mark of subject-1: 12\n",
      "Enter the mark of subject-2: 34\n",
      "Enter the mark of subject-3: 53\n",
      "\n",
      "Please enter your name: 67\n",
      "Enter the mark of subject-1: 76\n",
      "Enter the mark of subject-2: 45\n",
      "Enter the mark of subject-3: 3\n",
      "\n"
     ]
    }
   ],
   "source": [
    "studentsData = {}\n",
    "studentfile = open(\"studentFile.txt\", \"w\")\n",
    "studentfile.writelines(\"Name :    Marks   :  Total\")\n",
    "for i in range(2):\n",
    "    name = input(\"Please enter your name: \")\n",
    "    temp = []\n",
    "    for j in range(3):\n",
    "        mark = float(input(\"Enter the mark of subject-{}: \".format(j+1)))\n",
    "        temp.append(mark)\n",
    "    studentfile.writelines(\"\\n{} : {} : {}\".format(name,temp,sum(temp)))\n",
    "    studentsData[name] = temp\n",
    "    print()\n",
    "studentfile.close() "
   ]
  },
  {
   "cell_type": "code",
   "execution_count": 138,
   "id": "adjacent-british",
   "metadata": {},
   "outputs": [],
   "source": [
    "import pandas as pd"
   ]
  },
  {
   "cell_type": "code",
   "execution_count": 141,
   "id": "reasonable-acrylic",
   "metadata": {},
   "outputs": [],
   "source": [
    "excelFile = pd.read_excel(\"Course Syllabus.xlsx\", sheet_name=\"Deep Learning\")"
   ]
  },
  {
   "cell_type": "code",
   "execution_count": 142,
   "id": "native-steal",
   "metadata": {},
   "outputs": [
    {
     "data": {
      "text/html": [
       "<div>\n",
       "<style scoped>\n",
       "    .dataframe tbody tr th:only-of-type {\n",
       "        vertical-align: middle;\n",
       "    }\n",
       "\n",
       "    .dataframe tbody tr th {\n",
       "        vertical-align: top;\n",
       "    }\n",
       "\n",
       "    .dataframe thead th {\n",
       "        text-align: right;\n",
       "    }\n",
       "</style>\n",
       "<table border=\"1\" class=\"dataframe\">\n",
       "  <thead>\n",
       "    <tr style=\"text-align: right;\">\n",
       "      <th></th>\n",
       "      <th>Syllabus</th>\n",
       "      <th>Duration</th>\n",
       "    </tr>\n",
       "  </thead>\n",
       "  <tbody>\n",
       "    <tr>\n",
       "      <th>0</th>\n",
       "      <td>1. Introduction to Deep Learning (DL)</td>\n",
       "      <td>90 mins</td>\n",
       "    </tr>\n",
       "    <tr>\n",
       "      <th>1</th>\n",
       "      <td>2. Neural Network (NN) introduction</td>\n",
       "      <td>240 mins</td>\n",
       "    </tr>\n",
       "    <tr>\n",
       "      <th>2</th>\n",
       "      <td>Neurons and the Brain</td>\n",
       "      <td>NaN</td>\n",
       "    </tr>\n",
       "    <tr>\n",
       "      <th>3</th>\n",
       "      <td>Non-linear Hypothesis</td>\n",
       "      <td>NaN</td>\n",
       "    </tr>\n",
       "    <tr>\n",
       "      <th>4</th>\n",
       "      <td>perceptron</td>\n",
       "      <td>NaN</td>\n",
       "    </tr>\n",
       "    <tr>\n",
       "      <th>5</th>\n",
       "      <td>Multilayer perceptron</td>\n",
       "      <td>NaN</td>\n",
       "    </tr>\n",
       "    <tr>\n",
       "      <th>6</th>\n",
       "      <td>Training a neural network</td>\n",
       "      <td>NaN</td>\n",
       "    </tr>\n",
       "    <tr>\n",
       "      <th>7</th>\n",
       "      <td>Backpropagation primer</td>\n",
       "      <td>NaN</td>\n",
       "    </tr>\n",
       "    <tr>\n",
       "      <th>8</th>\n",
       "      <td>Gradients &amp; optimization</td>\n",
       "      <td>NaN</td>\n",
       "    </tr>\n",
       "    <tr>\n",
       "      <th>9</th>\n",
       "      <td>3. Deep Learning for images</td>\n",
       "      <td>180 mins</td>\n",
       "    </tr>\n",
       "    <tr>\n",
       "      <th>10</th>\n",
       "      <td>CNN architecture</td>\n",
       "      <td>NaN</td>\n",
       "    </tr>\n",
       "    <tr>\n",
       "      <th>11</th>\n",
       "      <td>Overview of modern CNN architectures</td>\n",
       "      <td>NaN</td>\n",
       "    </tr>\n",
       "    <tr>\n",
       "      <th>12</th>\n",
       "      <td>pre-trained CNNs</td>\n",
       "      <td>NaN</td>\n",
       "    </tr>\n",
       "    <tr>\n",
       "      <th>13</th>\n",
       "      <td>Alexnet/Googlenet</td>\n",
       "      <td>NaN</td>\n",
       "    </tr>\n",
       "    <tr>\n",
       "      <th>14</th>\n",
       "      <td>OpenCV + NN</td>\n",
       "      <td>NaN</td>\n",
       "    </tr>\n",
       "    <tr>\n",
       "      <th>15</th>\n",
       "      <td>3. Deep Learning for Text</td>\n",
       "      <td>150 mins</td>\n",
       "    </tr>\n",
       "    <tr>\n",
       "      <th>16</th>\n",
       "      <td>RNN</td>\n",
       "      <td>NaN</td>\n",
       "    </tr>\n",
       "    <tr>\n",
       "      <th>17</th>\n",
       "      <td>LSTM</td>\n",
       "      <td>NaN</td>\n",
       "    </tr>\n",
       "    <tr>\n",
       "      <th>18</th>\n",
       "      <td>GRU</td>\n",
       "      <td>NaN</td>\n",
       "    </tr>\n",
       "    <tr>\n",
       "      <th>19</th>\n",
       "      <td>4.preprocessing Techniques for DL</td>\n",
       "      <td>120 mins</td>\n",
       "    </tr>\n",
       "    <tr>\n",
       "      <th>20</th>\n",
       "      <td>5.Tools for DL</td>\n",
       "      <td>150 mins</td>\n",
       "    </tr>\n",
       "    <tr>\n",
       "      <th>21</th>\n",
       "      <td>6.Practise</td>\n",
       "      <td>180 mins</td>\n",
       "    </tr>\n",
       "    <tr>\n",
       "      <th>22</th>\n",
       "      <td>NaN</td>\n",
       "      <td>NaN</td>\n",
       "    </tr>\n",
       "    <tr>\n",
       "      <th>23</th>\n",
       "      <td>Total</td>\n",
       "      <td>18.5 hours</td>\n",
       "    </tr>\n",
       "  </tbody>\n",
       "</table>\n",
       "</div>"
      ],
      "text/plain": [
       "                                 Syllabus    Duration\n",
       "0   1. Introduction to Deep Learning (DL)     90 mins\n",
       "1     2. Neural Network (NN) introduction    240 mins\n",
       "2                   Neurons and the Brain         NaN\n",
       "3                   Non-linear Hypothesis         NaN\n",
       "4                              perceptron         NaN\n",
       "5                   Multilayer perceptron         NaN\n",
       "6               Training a neural network         NaN\n",
       "7                  Backpropagation primer         NaN\n",
       "8                Gradients & optimization         NaN\n",
       "9             3. Deep Learning for images    180 mins\n",
       "10                       CNN architecture         NaN\n",
       "11   Overview of modern CNN architectures         NaN\n",
       "12                       pre-trained CNNs         NaN\n",
       "13                      Alexnet/Googlenet         NaN\n",
       "14                            OpenCV + NN         NaN\n",
       "15              3. Deep Learning for Text    150 mins\n",
       "16                                    RNN         NaN\n",
       "17                                   LSTM         NaN\n",
       "18                                    GRU         NaN\n",
       "19      4.preprocessing Techniques for DL    120 mins\n",
       "20                         5.Tools for DL    150 mins\n",
       "21                             6.Practise    180 mins\n",
       "22                                    NaN         NaN\n",
       "23                                  Total  18.5 hours"
      ]
     },
     "execution_count": 142,
     "metadata": {},
     "output_type": "execute_result"
    }
   ],
   "source": [
    "excelFile"
   ]
  },
  {
   "cell_type": "code",
   "execution_count": 143,
   "id": "senior-period",
   "metadata": {},
   "outputs": [],
   "source": [
    "csvFile = pd.read_csv(\"train.csv\")"
   ]
  },
  {
   "cell_type": "code",
   "execution_count": 144,
   "id": "subtle-albuquerque",
   "metadata": {},
   "outputs": [
    {
     "data": {
      "text/html": [
       "<div>\n",
       "<style scoped>\n",
       "    .dataframe tbody tr th:only-of-type {\n",
       "        vertical-align: middle;\n",
       "    }\n",
       "\n",
       "    .dataframe tbody tr th {\n",
       "        vertical-align: top;\n",
       "    }\n",
       "\n",
       "    .dataframe thead th {\n",
       "        text-align: right;\n",
       "    }\n",
       "</style>\n",
       "<table border=\"1\" class=\"dataframe\">\n",
       "  <thead>\n",
       "    <tr style=\"text-align: right;\">\n",
       "      <th></th>\n",
       "      <th>class</th>\n",
       "      <th>petal_length</th>\n",
       "      <th>petal_width</th>\n",
       "      <th>sepal_length</th>\n",
       "      <th>sepal_width</th>\n",
       "    </tr>\n",
       "  </thead>\n",
       "  <tbody>\n",
       "    <tr>\n",
       "      <th>0</th>\n",
       "      <td>Iris-virginica</td>\n",
       "      <td>5.5</td>\n",
       "      <td>1.8</td>\n",
       "      <td>6.4</td>\n",
       "      <td>3.1</td>\n",
       "    </tr>\n",
       "    <tr>\n",
       "      <th>1</th>\n",
       "      <td>Iris-virginica</td>\n",
       "      <td>5.9</td>\n",
       "      <td>2.3</td>\n",
       "      <td>6.8</td>\n",
       "      <td>3.2</td>\n",
       "    </tr>\n",
       "    <tr>\n",
       "      <th>2</th>\n",
       "      <td>Iris-virginica</td>\n",
       "      <td>5.4</td>\n",
       "      <td>2.3</td>\n",
       "      <td>6.2</td>\n",
       "      <td>3.4</td>\n",
       "    </tr>\n",
       "    <tr>\n",
       "      <th>3</th>\n",
       "      <td>Iris-virginica</td>\n",
       "      <td>4.8</td>\n",
       "      <td>1.8</td>\n",
       "      <td>6.0</td>\n",
       "      <td>3.0</td>\n",
       "    </tr>\n",
       "    <tr>\n",
       "      <th>4</th>\n",
       "      <td>Iris-virginica</td>\n",
       "      <td>5.1</td>\n",
       "      <td>2.3</td>\n",
       "      <td>6.9</td>\n",
       "      <td>3.1</td>\n",
       "    </tr>\n",
       "    <tr>\n",
       "      <th>...</th>\n",
       "      <td>...</td>\n",
       "      <td>...</td>\n",
       "      <td>...</td>\n",
       "      <td>...</td>\n",
       "      <td>...</td>\n",
       "    </tr>\n",
       "    <tr>\n",
       "      <th>100</th>\n",
       "      <td>Iris-setosa</td>\n",
       "      <td>1.5</td>\n",
       "      <td>0.2</td>\n",
       "      <td>5.0</td>\n",
       "      <td>3.4</td>\n",
       "    </tr>\n",
       "    <tr>\n",
       "      <th>101</th>\n",
       "      <td>Iris-setosa</td>\n",
       "      <td>1.7</td>\n",
       "      <td>0.3</td>\n",
       "      <td>5.7</td>\n",
       "      <td>3.8</td>\n",
       "    </tr>\n",
       "    <tr>\n",
       "      <th>102</th>\n",
       "      <td>Iris-setosa</td>\n",
       "      <td>1.3</td>\n",
       "      <td>0.4</td>\n",
       "      <td>5.4</td>\n",
       "      <td>3.9</td>\n",
       "    </tr>\n",
       "    <tr>\n",
       "      <th>103</th>\n",
       "      <td>Iris-setosa</td>\n",
       "      <td>1.9</td>\n",
       "      <td>0.4</td>\n",
       "      <td>5.1</td>\n",
       "      <td>3.8</td>\n",
       "    </tr>\n",
       "    <tr>\n",
       "      <th>104</th>\n",
       "      <td>Iris-setosa</td>\n",
       "      <td>1.6</td>\n",
       "      <td>0.2</td>\n",
       "      <td>5.0</td>\n",
       "      <td>3.0</td>\n",
       "    </tr>\n",
       "  </tbody>\n",
       "</table>\n",
       "<p>105 rows × 5 columns</p>\n",
       "</div>"
      ],
      "text/plain": [
       "              class  petal_length  petal_width  sepal_length  sepal_width\n",
       "0    Iris-virginica           5.5          1.8           6.4          3.1\n",
       "1    Iris-virginica           5.9          2.3           6.8          3.2\n",
       "2    Iris-virginica           5.4          2.3           6.2          3.4\n",
       "3    Iris-virginica           4.8          1.8           6.0          3.0\n",
       "4    Iris-virginica           5.1          2.3           6.9          3.1\n",
       "..              ...           ...          ...           ...          ...\n",
       "100     Iris-setosa           1.5          0.2           5.0          3.4\n",
       "101     Iris-setosa           1.7          0.3           5.7          3.8\n",
       "102     Iris-setosa           1.3          0.4           5.4          3.9\n",
       "103     Iris-setosa           1.9          0.4           5.1          3.8\n",
       "104     Iris-setosa           1.6          0.2           5.0          3.0\n",
       "\n",
       "[105 rows x 5 columns]"
      ]
     },
     "execution_count": 144,
     "metadata": {},
     "output_type": "execute_result"
    }
   ],
   "source": [
    "csvFile"
   ]
  },
  {
   "cell_type": "code",
   "execution_count": 145,
   "id": "attempted-investment",
   "metadata": {},
   "outputs": [
    {
     "data": {
      "text/html": [
       "<div>\n",
       "<style scoped>\n",
       "    .dataframe tbody tr th:only-of-type {\n",
       "        vertical-align: middle;\n",
       "    }\n",
       "\n",
       "    .dataframe tbody tr th {\n",
       "        vertical-align: top;\n",
       "    }\n",
       "\n",
       "    .dataframe thead th {\n",
       "        text-align: right;\n",
       "    }\n",
       "</style>\n",
       "<table border=\"1\" class=\"dataframe\">\n",
       "  <thead>\n",
       "    <tr style=\"text-align: right;\">\n",
       "      <th></th>\n",
       "      <th>Syllabus</th>\n",
       "      <th>Duration</th>\n",
       "    </tr>\n",
       "  </thead>\n",
       "  <tbody>\n",
       "    <tr>\n",
       "      <th>0</th>\n",
       "      <td>1. Introduction to Deep Learning (DL)</td>\n",
       "      <td>90 mins</td>\n",
       "    </tr>\n",
       "    <tr>\n",
       "      <th>1</th>\n",
       "      <td>2. Neural Network (NN) introduction</td>\n",
       "      <td>240 mins</td>\n",
       "    </tr>\n",
       "    <tr>\n",
       "      <th>9</th>\n",
       "      <td>3. Deep Learning for images</td>\n",
       "      <td>180 mins</td>\n",
       "    </tr>\n",
       "    <tr>\n",
       "      <th>15</th>\n",
       "      <td>3. Deep Learning for Text</td>\n",
       "      <td>150 mins</td>\n",
       "    </tr>\n",
       "    <tr>\n",
       "      <th>19</th>\n",
       "      <td>4.preprocessing Techniques for DL</td>\n",
       "      <td>120 mins</td>\n",
       "    </tr>\n",
       "    <tr>\n",
       "      <th>20</th>\n",
       "      <td>5.Tools for DL</td>\n",
       "      <td>150 mins</td>\n",
       "    </tr>\n",
       "    <tr>\n",
       "      <th>21</th>\n",
       "      <td>6.Practise</td>\n",
       "      <td>180 mins</td>\n",
       "    </tr>\n",
       "    <tr>\n",
       "      <th>23</th>\n",
       "      <td>Total</td>\n",
       "      <td>18.5 hours</td>\n",
       "    </tr>\n",
       "  </tbody>\n",
       "</table>\n",
       "</div>"
      ],
      "text/plain": [
       "                                 Syllabus    Duration\n",
       "0   1. Introduction to Deep Learning (DL)     90 mins\n",
       "1     2. Neural Network (NN) introduction    240 mins\n",
       "9             3. Deep Learning for images    180 mins\n",
       "15              3. Deep Learning for Text    150 mins\n",
       "19      4.preprocessing Techniques for DL    120 mins\n",
       "20                         5.Tools for DL    150 mins\n",
       "21                             6.Practise    180 mins\n",
       "23                                  Total  18.5 hours"
      ]
     },
     "execution_count": 145,
     "metadata": {},
     "output_type": "execute_result"
    }
   ],
   "source": [
    "excelFile.dropna()"
   ]
  },
  {
   "cell_type": "code",
   "execution_count": 146,
   "id": "binary-thousand",
   "metadata": {},
   "outputs": [
    {
     "data": {
      "text/html": [
       "<div>\n",
       "<style scoped>\n",
       "    .dataframe tbody tr th:only-of-type {\n",
       "        vertical-align: middle;\n",
       "    }\n",
       "\n",
       "    .dataframe tbody tr th {\n",
       "        vertical-align: top;\n",
       "    }\n",
       "\n",
       "    .dataframe thead th {\n",
       "        text-align: right;\n",
       "    }\n",
       "</style>\n",
       "<table border=\"1\" class=\"dataframe\">\n",
       "  <thead>\n",
       "    <tr style=\"text-align: right;\">\n",
       "      <th></th>\n",
       "      <th>Syllabus</th>\n",
       "      <th>Duration</th>\n",
       "    </tr>\n",
       "  </thead>\n",
       "  <tbody>\n",
       "    <tr>\n",
       "      <th>count</th>\n",
       "      <td>23</td>\n",
       "      <td>8</td>\n",
       "    </tr>\n",
       "    <tr>\n",
       "      <th>unique</th>\n",
       "      <td>23</td>\n",
       "      <td>6</td>\n",
       "    </tr>\n",
       "    <tr>\n",
       "      <th>top</th>\n",
       "      <td>Gradients &amp; optimization</td>\n",
       "      <td>150 mins</td>\n",
       "    </tr>\n",
       "    <tr>\n",
       "      <th>freq</th>\n",
       "      <td>1</td>\n",
       "      <td>2</td>\n",
       "    </tr>\n",
       "  </tbody>\n",
       "</table>\n",
       "</div>"
      ],
      "text/plain": [
       "                        Syllabus  Duration\n",
       "count                         23         8\n",
       "unique                        23         6\n",
       "top     Gradients & optimization  150 mins\n",
       "freq                           1         2"
      ]
     },
     "execution_count": 146,
     "metadata": {},
     "output_type": "execute_result"
    }
   ],
   "source": [
    "excelFile.describe()"
   ]
  },
  {
   "cell_type": "code",
   "execution_count": 147,
   "id": "developing-hawaiian",
   "metadata": {},
   "outputs": [
    {
     "data": {
      "text/html": [
       "<div>\n",
       "<style scoped>\n",
       "    .dataframe tbody tr th:only-of-type {\n",
       "        vertical-align: middle;\n",
       "    }\n",
       "\n",
       "    .dataframe tbody tr th {\n",
       "        vertical-align: top;\n",
       "    }\n",
       "\n",
       "    .dataframe thead th {\n",
       "        text-align: right;\n",
       "    }\n",
       "</style>\n",
       "<table border=\"1\" class=\"dataframe\">\n",
       "  <thead>\n",
       "    <tr style=\"text-align: right;\">\n",
       "      <th></th>\n",
       "      <th>petal_length</th>\n",
       "      <th>petal_width</th>\n",
       "      <th>sepal_length</th>\n",
       "      <th>sepal_width</th>\n",
       "    </tr>\n",
       "  </thead>\n",
       "  <tbody>\n",
       "    <tr>\n",
       "      <th>count</th>\n",
       "      <td>105.000000</td>\n",
       "      <td>105.000000</td>\n",
       "      <td>105.000000</td>\n",
       "      <td>105.000000</td>\n",
       "    </tr>\n",
       "    <tr>\n",
       "      <th>mean</th>\n",
       "      <td>3.748571</td>\n",
       "      <td>1.196190</td>\n",
       "      <td>5.830476</td>\n",
       "      <td>3.057143</td>\n",
       "    </tr>\n",
       "    <tr>\n",
       "      <th>std</th>\n",
       "      <td>1.753519</td>\n",
       "      <td>0.765723</td>\n",
       "      <td>0.800015</td>\n",
       "      <td>0.449969</td>\n",
       "    </tr>\n",
       "    <tr>\n",
       "      <th>min</th>\n",
       "      <td>1.000000</td>\n",
       "      <td>0.100000</td>\n",
       "      <td>4.400000</td>\n",
       "      <td>2.000000</td>\n",
       "    </tr>\n",
       "    <tr>\n",
       "      <th>25%</th>\n",
       "      <td>1.500000</td>\n",
       "      <td>0.300000</td>\n",
       "      <td>5.100000</td>\n",
       "      <td>2.800000</td>\n",
       "    </tr>\n",
       "    <tr>\n",
       "      <th>50%</th>\n",
       "      <td>4.400000</td>\n",
       "      <td>1.300000</td>\n",
       "      <td>5.700000</td>\n",
       "      <td>3.000000</td>\n",
       "    </tr>\n",
       "    <tr>\n",
       "      <th>75%</th>\n",
       "      <td>5.100000</td>\n",
       "      <td>1.800000</td>\n",
       "      <td>6.400000</td>\n",
       "      <td>3.400000</td>\n",
       "    </tr>\n",
       "    <tr>\n",
       "      <th>max</th>\n",
       "      <td>6.900000</td>\n",
       "      <td>2.500000</td>\n",
       "      <td>7.700000</td>\n",
       "      <td>4.400000</td>\n",
       "    </tr>\n",
       "  </tbody>\n",
       "</table>\n",
       "</div>"
      ],
      "text/plain": [
       "       petal_length  petal_width  sepal_length  sepal_width\n",
       "count    105.000000   105.000000    105.000000   105.000000\n",
       "mean       3.748571     1.196190      5.830476     3.057143\n",
       "std        1.753519     0.765723      0.800015     0.449969\n",
       "min        1.000000     0.100000      4.400000     2.000000\n",
       "25%        1.500000     0.300000      5.100000     2.800000\n",
       "50%        4.400000     1.300000      5.700000     3.000000\n",
       "75%        5.100000     1.800000      6.400000     3.400000\n",
       "max        6.900000     2.500000      7.700000     4.400000"
      ]
     },
     "execution_count": 147,
     "metadata": {},
     "output_type": "execute_result"
    }
   ],
   "source": [
    "csvFile.describe()"
   ]
  },
  {
   "cell_type": "code",
   "execution_count": 148,
   "id": "interested-testimony",
   "metadata": {},
   "outputs": [
    {
     "data": {
      "text/plain": [
       "(24, 2)"
      ]
     },
     "execution_count": 148,
     "metadata": {},
     "output_type": "execute_result"
    }
   ],
   "source": [
    "excelFile.shape"
   ]
  },
  {
   "cell_type": "code",
   "execution_count": 150,
   "id": "extended-equation",
   "metadata": {},
   "outputs": [
    {
     "data": {
      "text/html": [
       "<div>\n",
       "<style scoped>\n",
       "    .dataframe tbody tr th:only-of-type {\n",
       "        vertical-align: middle;\n",
       "    }\n",
       "\n",
       "    .dataframe tbody tr th {\n",
       "        vertical-align: top;\n",
       "    }\n",
       "\n",
       "    .dataframe thead th {\n",
       "        text-align: right;\n",
       "    }\n",
       "</style>\n",
       "<table border=\"1\" class=\"dataframe\">\n",
       "  <thead>\n",
       "    <tr style=\"text-align: right;\">\n",
       "      <th></th>\n",
       "      <th>petal_length</th>\n",
       "      <th>petal_width</th>\n",
       "      <th>sepal_length</th>\n",
       "      <th>sepal_width</th>\n",
       "    </tr>\n",
       "    <tr>\n",
       "      <th>class</th>\n",
       "      <th></th>\n",
       "      <th></th>\n",
       "      <th></th>\n",
       "      <th></th>\n",
       "    </tr>\n",
       "  </thead>\n",
       "  <tbody>\n",
       "    <tr>\n",
       "      <th>Iris-setosa</th>\n",
       "      <td>51.7</td>\n",
       "      <td>8.6</td>\n",
       "      <td>176.0</td>\n",
       "      <td>121.3</td>\n",
       "    </tr>\n",
       "    <tr>\n",
       "      <th>Iris-versicolor</th>\n",
       "      <td>148.4</td>\n",
       "      <td>46.3</td>\n",
       "      <td>207.4</td>\n",
       "      <td>97.0</td>\n",
       "    </tr>\n",
       "    <tr>\n",
       "      <th>Iris-virginica</th>\n",
       "      <td>193.5</td>\n",
       "      <td>70.7</td>\n",
       "      <td>228.8</td>\n",
       "      <td>102.7</td>\n",
       "    </tr>\n",
       "  </tbody>\n",
       "</table>\n",
       "</div>"
      ],
      "text/plain": [
       "                 petal_length  petal_width  sepal_length  sepal_width\n",
       "class                                                                \n",
       "Iris-setosa              51.7          8.6         176.0        121.3\n",
       "Iris-versicolor         148.4         46.3         207.4         97.0\n",
       "Iris-virginica          193.5         70.7         228.8        102.7"
      ]
     },
     "execution_count": 150,
     "metadata": {},
     "output_type": "execute_result"
    }
   ],
   "source": [
    "csvFile.groupby('class').sum()"
   ]
  },
  {
   "cell_type": "code",
   "execution_count": 152,
   "id": "honest-sunset",
   "metadata": {},
   "outputs": [
    {
     "data": {
      "text/html": [
       "<div>\n",
       "<style scoped>\n",
       "    .dataframe tbody tr th:only-of-type {\n",
       "        vertical-align: middle;\n",
       "    }\n",
       "\n",
       "    .dataframe tbody tr th {\n",
       "        vertical-align: top;\n",
       "    }\n",
       "\n",
       "    .dataframe thead th {\n",
       "        text-align: right;\n",
       "    }\n",
       "</style>\n",
       "<table border=\"1\" class=\"dataframe\">\n",
       "  <thead>\n",
       "    <tr style=\"text-align: right;\">\n",
       "      <th></th>\n",
       "      <th>petal_length</th>\n",
       "      <th>sepal_length</th>\n",
       "    </tr>\n",
       "  </thead>\n",
       "  <tbody>\n",
       "    <tr>\n",
       "      <th>0</th>\n",
       "      <td>5.5</td>\n",
       "      <td>6.4</td>\n",
       "    </tr>\n",
       "    <tr>\n",
       "      <th>1</th>\n",
       "      <td>5.9</td>\n",
       "      <td>6.8</td>\n",
       "    </tr>\n",
       "    <tr>\n",
       "      <th>2</th>\n",
       "      <td>5.4</td>\n",
       "      <td>6.2</td>\n",
       "    </tr>\n",
       "    <tr>\n",
       "      <th>3</th>\n",
       "      <td>4.8</td>\n",
       "      <td>6.0</td>\n",
       "    </tr>\n",
       "    <tr>\n",
       "      <th>4</th>\n",
       "      <td>5.1</td>\n",
       "      <td>6.9</td>\n",
       "    </tr>\n",
       "    <tr>\n",
       "      <th>...</th>\n",
       "      <td>...</td>\n",
       "      <td>...</td>\n",
       "    </tr>\n",
       "    <tr>\n",
       "      <th>100</th>\n",
       "      <td>1.5</td>\n",
       "      <td>5.0</td>\n",
       "    </tr>\n",
       "    <tr>\n",
       "      <th>101</th>\n",
       "      <td>1.7</td>\n",
       "      <td>5.7</td>\n",
       "    </tr>\n",
       "    <tr>\n",
       "      <th>102</th>\n",
       "      <td>1.3</td>\n",
       "      <td>5.4</td>\n",
       "    </tr>\n",
       "    <tr>\n",
       "      <th>103</th>\n",
       "      <td>1.9</td>\n",
       "      <td>5.1</td>\n",
       "    </tr>\n",
       "    <tr>\n",
       "      <th>104</th>\n",
       "      <td>1.6</td>\n",
       "      <td>5.0</td>\n",
       "    </tr>\n",
       "  </tbody>\n",
       "</table>\n",
       "<p>105 rows × 2 columns</p>\n",
       "</div>"
      ],
      "text/plain": [
       "     petal_length  sepal_length\n",
       "0             5.5           6.4\n",
       "1             5.9           6.8\n",
       "2             5.4           6.2\n",
       "3             4.8           6.0\n",
       "4             5.1           6.9\n",
       "..            ...           ...\n",
       "100           1.5           5.0\n",
       "101           1.7           5.7\n",
       "102           1.3           5.4\n",
       "103           1.9           5.1\n",
       "104           1.6           5.0\n",
       "\n",
       "[105 rows x 2 columns]"
      ]
     },
     "execution_count": 152,
     "metadata": {},
     "output_type": "execute_result"
    }
   ],
   "source": [
    "csvFile[['petal_length','sepal_length']]"
   ]
  },
  {
   "cell_type": "code",
   "execution_count": 154,
   "id": "aboriginal-language",
   "metadata": {},
   "outputs": [
    {
     "data": {
      "text/plain": [
       "class           Iris-setosa\n",
       "petal_length            1.6\n",
       "petal_width             0.2\n",
       "sepal_length              5\n",
       "sepal_width               3\n",
       "Name: 104, dtype: object"
      ]
     },
     "execution_count": 154,
     "metadata": {},
     "output_type": "execute_result"
    }
   ],
   "source": [
    "csvFile.iloc[104]"
   ]
  },
  {
   "cell_type": "code",
   "execution_count": 155,
   "id": "tribal-squad",
   "metadata": {},
   "outputs": [],
   "source": [
    "data = {}\n",
    "data['fruits'] = [\"apple\",\"orange\",\"mango\",\"papaya\"]\n",
    "data['vegetables'] = [\"carrot\",\"beans\",\"onion\",\"potato\"]"
   ]
  },
  {
   "cell_type": "code",
   "execution_count": 156,
   "id": "supposed-wilson",
   "metadata": {},
   "outputs": [
    {
     "data": {
      "text/plain": [
       "{'fruits': ['apple', 'orange', 'mango', 'papaya'],\n",
       " 'vegetables': ['carrot', 'beans', 'onion', 'potato']}"
      ]
     },
     "execution_count": 156,
     "metadata": {},
     "output_type": "execute_result"
    }
   ],
   "source": [
    "data"
   ]
  },
  {
   "cell_type": "code",
   "execution_count": 157,
   "id": "continued-enemy",
   "metadata": {},
   "outputs": [],
   "source": [
    "df = pd.DataFrame(data)"
   ]
  },
  {
   "cell_type": "code",
   "execution_count": 158,
   "id": "graphic-seller",
   "metadata": {},
   "outputs": [
    {
     "data": {
      "text/html": [
       "<div>\n",
       "<style scoped>\n",
       "    .dataframe tbody tr th:only-of-type {\n",
       "        vertical-align: middle;\n",
       "    }\n",
       "\n",
       "    .dataframe tbody tr th {\n",
       "        vertical-align: top;\n",
       "    }\n",
       "\n",
       "    .dataframe thead th {\n",
       "        text-align: right;\n",
       "    }\n",
       "</style>\n",
       "<table border=\"1\" class=\"dataframe\">\n",
       "  <thead>\n",
       "    <tr style=\"text-align: right;\">\n",
       "      <th></th>\n",
       "      <th>fruits</th>\n",
       "      <th>vegetables</th>\n",
       "    </tr>\n",
       "  </thead>\n",
       "  <tbody>\n",
       "    <tr>\n",
       "      <th>0</th>\n",
       "      <td>apple</td>\n",
       "      <td>carrot</td>\n",
       "    </tr>\n",
       "    <tr>\n",
       "      <th>1</th>\n",
       "      <td>orange</td>\n",
       "      <td>beans</td>\n",
       "    </tr>\n",
       "    <tr>\n",
       "      <th>2</th>\n",
       "      <td>mango</td>\n",
       "      <td>onion</td>\n",
       "    </tr>\n",
       "    <tr>\n",
       "      <th>3</th>\n",
       "      <td>papaya</td>\n",
       "      <td>potato</td>\n",
       "    </tr>\n",
       "  </tbody>\n",
       "</table>\n",
       "</div>"
      ],
      "text/plain": [
       "   fruits vegetables\n",
       "0   apple     carrot\n",
       "1  orange      beans\n",
       "2   mango      onion\n",
       "3  papaya     potato"
      ]
     },
     "execution_count": 158,
     "metadata": {},
     "output_type": "execute_result"
    }
   ],
   "source": [
    "df"
   ]
  },
  {
   "cell_type": "code",
   "execution_count": 159,
   "id": "improving-frame",
   "metadata": {},
   "outputs": [],
   "source": [
    "df.to_csv(\"srimad.csv\")"
   ]
  },
  {
   "cell_type": "code",
   "execution_count": 160,
   "id": "random-portsmouth",
   "metadata": {},
   "outputs": [],
   "source": [
    "df.to_excel(\"srimad.xlsx\")"
   ]
  },
  {
   "cell_type": "code",
   "execution_count": 162,
   "id": "manufactured-jesus",
   "metadata": {},
   "outputs": [],
   "source": [
    "data = pd.DataFrame({'food': ['bacon', 'pulled pork', 'bacon', 'Pastrami','corned beef', 'Bacon', 'pastrami', 'honey ham',\n",
    "'nova lox'],'ounces': [4, 3, 12, 6, 7.5, 8, 3, 5, 6]})"
   ]
  },
  {
   "cell_type": "code",
   "execution_count": 163,
   "id": "seven-chassis",
   "metadata": {},
   "outputs": [
    {
     "data": {
      "text/html": [
       "<div>\n",
       "<style scoped>\n",
       "    .dataframe tbody tr th:only-of-type {\n",
       "        vertical-align: middle;\n",
       "    }\n",
       "\n",
       "    .dataframe tbody tr th {\n",
       "        vertical-align: top;\n",
       "    }\n",
       "\n",
       "    .dataframe thead th {\n",
       "        text-align: right;\n",
       "    }\n",
       "</style>\n",
       "<table border=\"1\" class=\"dataframe\">\n",
       "  <thead>\n",
       "    <tr style=\"text-align: right;\">\n",
       "      <th></th>\n",
       "      <th>food</th>\n",
       "      <th>ounces</th>\n",
       "    </tr>\n",
       "  </thead>\n",
       "  <tbody>\n",
       "    <tr>\n",
       "      <th>0</th>\n",
       "      <td>bacon</td>\n",
       "      <td>4.0</td>\n",
       "    </tr>\n",
       "    <tr>\n",
       "      <th>1</th>\n",
       "      <td>pulled pork</td>\n",
       "      <td>3.0</td>\n",
       "    </tr>\n",
       "    <tr>\n",
       "      <th>2</th>\n",
       "      <td>bacon</td>\n",
       "      <td>12.0</td>\n",
       "    </tr>\n",
       "    <tr>\n",
       "      <th>3</th>\n",
       "      <td>Pastrami</td>\n",
       "      <td>6.0</td>\n",
       "    </tr>\n",
       "    <tr>\n",
       "      <th>4</th>\n",
       "      <td>corned beef</td>\n",
       "      <td>7.5</td>\n",
       "    </tr>\n",
       "    <tr>\n",
       "      <th>5</th>\n",
       "      <td>Bacon</td>\n",
       "      <td>8.0</td>\n",
       "    </tr>\n",
       "    <tr>\n",
       "      <th>6</th>\n",
       "      <td>pastrami</td>\n",
       "      <td>3.0</td>\n",
       "    </tr>\n",
       "    <tr>\n",
       "      <th>7</th>\n",
       "      <td>honey ham</td>\n",
       "      <td>5.0</td>\n",
       "    </tr>\n",
       "    <tr>\n",
       "      <th>8</th>\n",
       "      <td>nova lox</td>\n",
       "      <td>6.0</td>\n",
       "    </tr>\n",
       "  </tbody>\n",
       "</table>\n",
       "</div>"
      ],
      "text/plain": [
       "          food  ounces\n",
       "0        bacon     4.0\n",
       "1  pulled pork     3.0\n",
       "2        bacon    12.0\n",
       "3     Pastrami     6.0\n",
       "4  corned beef     7.5\n",
       "5        Bacon     8.0\n",
       "6     pastrami     3.0\n",
       "7    honey ham     5.0\n",
       "8     nova lox     6.0"
      ]
     },
     "execution_count": 163,
     "metadata": {},
     "output_type": "execute_result"
    }
   ],
   "source": [
    "data"
   ]
  },
  {
   "cell_type": "code",
   "execution_count": 164,
   "id": "heavy-india",
   "metadata": {},
   "outputs": [],
   "source": [
    "meat_to_animal = {\n",
    "    'bacon': 'pig',\n",
    "    'pulled pork': 'pig',\n",
    "    'pastrami': 'cow',\n",
    "    'corned beef': 'cow',\n",
    "    'honey ham': 'pig',\n",
    "    'nova lox': 'salmon'\n",
    "}"
   ]
  },
  {
   "cell_type": "code",
   "execution_count": 168,
   "id": "numeric-politics",
   "metadata": {},
   "outputs": [],
   "source": [
    "data['animal'] = data['food'].map(str.lower).map(meat_to_animal)"
   ]
  },
  {
   "cell_type": "code",
   "execution_count": 169,
   "id": "operating-education",
   "metadata": {},
   "outputs": [
    {
     "data": {
      "text/html": [
       "<div>\n",
       "<style scoped>\n",
       "    .dataframe tbody tr th:only-of-type {\n",
       "        vertical-align: middle;\n",
       "    }\n",
       "\n",
       "    .dataframe tbody tr th {\n",
       "        vertical-align: top;\n",
       "    }\n",
       "\n",
       "    .dataframe thead th {\n",
       "        text-align: right;\n",
       "    }\n",
       "</style>\n",
       "<table border=\"1\" class=\"dataframe\">\n",
       "  <thead>\n",
       "    <tr style=\"text-align: right;\">\n",
       "      <th></th>\n",
       "      <th>food</th>\n",
       "      <th>ounces</th>\n",
       "      <th>animal</th>\n",
       "    </tr>\n",
       "  </thead>\n",
       "  <tbody>\n",
       "    <tr>\n",
       "      <th>0</th>\n",
       "      <td>bacon</td>\n",
       "      <td>4.0</td>\n",
       "      <td>pig</td>\n",
       "    </tr>\n",
       "    <tr>\n",
       "      <th>1</th>\n",
       "      <td>pulled pork</td>\n",
       "      <td>3.0</td>\n",
       "      <td>pig</td>\n",
       "    </tr>\n",
       "    <tr>\n",
       "      <th>2</th>\n",
       "      <td>bacon</td>\n",
       "      <td>12.0</td>\n",
       "      <td>pig</td>\n",
       "    </tr>\n",
       "    <tr>\n",
       "      <th>3</th>\n",
       "      <td>Pastrami</td>\n",
       "      <td>6.0</td>\n",
       "      <td>cow</td>\n",
       "    </tr>\n",
       "    <tr>\n",
       "      <th>4</th>\n",
       "      <td>corned beef</td>\n",
       "      <td>7.5</td>\n",
       "      <td>cow</td>\n",
       "    </tr>\n",
       "    <tr>\n",
       "      <th>5</th>\n",
       "      <td>Bacon</td>\n",
       "      <td>8.0</td>\n",
       "      <td>pig</td>\n",
       "    </tr>\n",
       "    <tr>\n",
       "      <th>6</th>\n",
       "      <td>pastrami</td>\n",
       "      <td>3.0</td>\n",
       "      <td>cow</td>\n",
       "    </tr>\n",
       "    <tr>\n",
       "      <th>7</th>\n",
       "      <td>honey ham</td>\n",
       "      <td>5.0</td>\n",
       "      <td>pig</td>\n",
       "    </tr>\n",
       "    <tr>\n",
       "      <th>8</th>\n",
       "      <td>nova lox</td>\n",
       "      <td>6.0</td>\n",
       "      <td>salmon</td>\n",
       "    </tr>\n",
       "  </tbody>\n",
       "</table>\n",
       "</div>"
      ],
      "text/plain": [
       "          food  ounces  animal\n",
       "0        bacon     4.0     pig\n",
       "1  pulled pork     3.0     pig\n",
       "2        bacon    12.0     pig\n",
       "3     Pastrami     6.0     cow\n",
       "4  corned beef     7.5     cow\n",
       "5        Bacon     8.0     pig\n",
       "6     pastrami     3.0     cow\n",
       "7    honey ham     5.0     pig\n",
       "8     nova lox     6.0  salmon"
      ]
     },
     "execution_count": 169,
     "metadata": {},
     "output_type": "execute_result"
    }
   ],
   "source": [
    "data"
   ]
  },
  {
   "cell_type": "code",
   "execution_count": null,
   "id": "quick-particle",
   "metadata": {},
   "outputs": [],
   "source": [
    "yml, json, xml, "
   ]
  },
  {
   "cell_type": "markdown",
   "id": "congressional-behavior",
   "metadata": {},
   "source": [
    "### visualization"
   ]
  },
  {
   "cell_type": "markdown",
   "id": "possible-vocabulary",
   "metadata": {},
   "source": [
    "matplotlib, seaborn"
   ]
  },
  {
   "cell_type": "code",
   "execution_count": 170,
   "id": "primary-amsterdam",
   "metadata": {},
   "outputs": [],
   "source": [
    "import matplotlib.pyplot as plt"
   ]
  },
  {
   "cell_type": "code",
   "execution_count": null,
   "id": "comprehensive-encoding",
   "metadata": {},
   "outputs": [],
   "source": [
    "# line, scatter, bar, pie, boxplot, hist"
   ]
  },
  {
   "cell_type": "code",
   "execution_count": 213,
   "id": "comparative-knitting",
   "metadata": {},
   "outputs": [],
   "source": [
    "x = list(range(1,6))\n",
    "y = [i**2 for i in x]"
   ]
  },
  {
   "cell_type": "code",
   "execution_count": 172,
   "id": "scheduled-miller",
   "metadata": {},
   "outputs": [
    {
     "data": {
      "text/plain": [
       "([1, 2, 3, 4, 5], [1, 4, 9, 16, 25])"
      ]
     },
     "execution_count": 172,
     "metadata": {},
     "output_type": "execute_result"
    }
   ],
   "source": [
    "x,y"
   ]
  },
  {
   "cell_type": "code",
   "execution_count": 179,
   "id": "moving-promise",
   "metadata": {},
   "outputs": [
    {
     "data": {
      "image/png": "[encoded data removed]",
      "text/plain": [
       "<Figure size 432x288 with 1 Axes>"
      ]
     },
     "metadata": {
      "needs_background": "light"
     },
     "output_type": "display_data"
    }
   ],
   "source": [
    "plt.plot(x,y, 'rp-.')\n",
    "plt.xlabel(\"X\")\n",
    "plt.ylabel(\"X^2\")\n",
    "plt.title(\"Line chart\")\n",
    "plt.show()"
   ]
  },
  {
   "cell_type": "code",
   "execution_count": 182,
   "id": "gorgeous-windows",
   "metadata": {},
   "outputs": [
    {
     "data": {
      "image/png": "[encoded data removed]",
      "text/plain": [
       "<Figure size 432x288 with 1 Axes>"
      ]
     },
     "metadata": {
      "needs_background": "light"
     },
     "output_type": "display_data"
    }
   ],
   "source": [
    "plt.plot(x,y, 'rp-.',x,[i**3 for i in x], 'gd--')\n",
    "plt.xlabel(\"X\")\n",
    "plt.ylabel(\"Y\")\n",
    "plt.legend([\"X vs X^2\", \"X vs X^3\"])\n",
    "plt.title(\"Line chart\")\n",
    "plt.show()"
   ]
  },
  {
   "cell_type": "code",
   "execution_count": 214,
   "id": "chronic-wings",
   "metadata": {},
   "outputs": [
    {
     "data": {
      "image/png": "[encoded data removed]",
      "text/plain": [
       "<Figure size 432x288 with 1 Axes>"
      ]
     },
     "metadata": {
      "needs_background": "light"
     },
     "output_type": "display_data"
    },
    {
     "data": {
      "image/png": "[encoded data removed]",
      "text/plain": [
       "<Figure size 432x288 with 1 Axes>"
      ]
     },
     "metadata": {
      "needs_background": "light"
     },
     "output_type": "display_data"
    }
   ],
   "source": [
    "plt.figure(1)\n",
    "plt.plot(x,y, 'rp-.',)\n",
    "plt.xlabel(\"X\")\n",
    "plt.ylabel(\"Y\")\n",
    "plt.title(\"Line chart\")\n",
    "\n",
    "plt.figure(2)\n",
    "plt.plot(x,[i**3 for i in x], 'gd--')\n",
    "plt.xlabel(\"X\")\n",
    "plt.ylabel(\"Y\")\n",
    "plt.title(\"Line chart\")\n",
    "plt.show()"
   ]
  },
  {
   "cell_type": "code",
   "execution_count": 216,
   "id": "durable-latvia",
   "metadata": {},
   "outputs": [
    {
     "data": {
      "image/png": "[encoded data removed]",
      "text/plain": [
       "<Figure size 432x288 with 2 Axes>"
      ]
     },
     "metadata": {
      "needs_background": "light"
     },
     "output_type": "display_data"
    }
   ],
   "source": [
    "plt.subplot(211)\n",
    "plt.plot(x,y, 'rp-.',)\n",
    "plt.ylabel(\"Y\")\n",
    "plt.title(\"Line chart\")\n",
    "\n",
    "plt.subplot(212)\n",
    "plt.plot(x,[i**3 for i in x], 'gd--')\n",
    "plt.xlabel(\"X\")\n",
    "plt.ylabel(\"Y\")\n",
    "plt.show()"
   ]
  },
  {
   "cell_type": "code",
   "execution_count": null,
   "id": "upper-stephen",
   "metadata": {},
   "outputs": [],
   "source": []
  },
  {
   "cell_type": "code",
   "execution_count": 184,
   "id": "dressed-growing",
   "metadata": {},
   "outputs": [
    {
     "data": {
      "image/png": "[encoded data removed]",
      "text/plain": [
       "<Figure size 432x288 with 1 Axes>"
      ]
     },
     "metadata": {
      "needs_background": "light"
     },
     "output_type": "display_data"
    }
   ],
   "source": [
    "plt.scatter(x,y)\n",
    "plt.xlabel(\"X\")\n",
    "plt.ylabel(\"X^2\")\n",
    "plt.title(\"Line chart\")\n",
    "plt.show()"
   ]
  },
  {
   "cell_type": "code",
   "execution_count": 185,
   "id": "functioning-disorder",
   "metadata": {},
   "outputs": [],
   "source": [
    "x = [\"apple\",\"orange\",\"papaya\"]\n",
    "y = [24,28,26]"
   ]
  },
  {
   "cell_type": "code",
   "execution_count": 196,
   "id": "convenient-evening",
   "metadata": {},
   "outputs": [
    {
     "data": {
      "image/png": "[encoded data removed]",
      "text/plain": [
       "<Figure size 432x288 with 1 Axes>"
      ]
     },
     "metadata": {
      "needs_background": "light"
     },
     "output_type": "display_data"
    }
   ],
   "source": [
    "plt.bar(x,y,facecolor='#DAB00A')\n",
    "plt.show()"
   ]
  },
  {
   "cell_type": "code",
   "execution_count": 197,
   "id": "occupied-edinburgh",
   "metadata": {},
   "outputs": [
    {
     "data": {
      "image/png": "[encoded data removed]",
      "text/plain": [
       "<Figure size 432x288 with 1 Axes>"
      ]
     },
     "metadata": {
      "needs_background": "light"
     },
     "output_type": "display_data"
    }
   ],
   "source": [
    "plt.barh(x,y,facecolor='#DAB00A')\n",
    "plt.show()"
   ]
  },
  {
   "cell_type": "code",
   "execution_count": 200,
   "id": "mediterranean-tanzania",
   "metadata": {},
   "outputs": [
    {
     "data": {
      "image/png": "[encoded data removed]",
      "text/plain": [
       "<Figure size 432x288 with 1 Axes>"
      ]
     },
     "metadata": {
      "needs_background": "light"
     },
     "output_type": "display_data"
    }
   ],
   "source": [
    "plt.boxplot(csvFile['petal_length'], labels=[\"petal_length\"])\n",
    "plt.show()"
   ]
  },
  {
   "cell_type": "code",
   "execution_count": 204,
   "id": "parallel-marble",
   "metadata": {},
   "outputs": [
    {
     "data": {
      "image/png": "[encoded data removed]",
      "text/plain": [
       "<Figure size 432x288 with 1 Axes>"
      ]
     },
     "metadata": {
      "needs_background": "light"
     },
     "output_type": "display_data"
    }
   ],
   "source": [
    "csvFile.boxplot()\n",
    "plt.grid(False)\n",
    "plt.show()"
   ]
  },
  {
   "cell_type": "code",
   "execution_count": 205,
   "id": "contained-tablet",
   "metadata": {},
   "outputs": [
    {
     "data": {
      "image/png": "[encoded data removed]",
      "text/plain": [
       "<Figure size 432x288 with 1 Axes>"
      ]
     },
     "metadata": {
      "needs_background": "light"
     },
     "output_type": "display_data"
    }
   ],
   "source": [
    "plt.hist(csvFile['petal_length'])\n",
    "plt.show()"
   ]
  },
  {
   "cell_type": "code",
   "execution_count": 211,
   "id": "flexible-practice",
   "metadata": {},
   "outputs": [
    {
     "data": {
      "image/png": "[encoded data removed]",
      "text/plain": [
       "<Figure size 1440x576 with 4 Axes>"
      ]
     },
     "metadata": {
      "needs_background": "light"
     },
     "output_type": "display_data"
    }
   ],
   "source": [
    "csvFile.hist(figsize=(20,8), grid=False)\n",
    "plt.show()"
   ]
  },
  {
   "cell_type": "code",
   "execution_count": 217,
   "id": "smooth-actress",
   "metadata": {},
   "outputs": [],
   "source": [
    "x = [\"apple\",\"orange\",\"papaya\"]\n",
    "y = [24,28,26]"
   ]
  },
  {
   "cell_type": "code",
   "execution_count": 220,
   "id": "surgical-pioneer",
   "metadata": {},
   "outputs": [
    {
     "data": {
      "image/png": "[encoded data removed]",
      "text/plain": [
       "<Figure size 432x288 with 1 Axes>"
      ]
     },
     "metadata": {},
     "output_type": "display_data"
    }
   ],
   "source": [
    "plt.pie(y,labels=x,labeldistance=0.5, explode=[0,0,0.1])\n",
    "plt.show()"
   ]
  },
  {
   "cell_type": "markdown",
   "id": "elder-prague",
   "metadata": {},
   "source": [
    "### logging"
   ]
  },
  {
   "cell_type": "code",
   "execution_count": 17,
   "id": "convinced-today",
   "metadata": {},
   "outputs": [],
   "source": [
    "import logging"
   ]
  },
  {
   "cell_type": "code",
   "execution_count": 21,
   "id": "hindu-navigator",
   "metadata": {},
   "outputs": [],
   "source": [
    "logger = logging.getLogger()\n",
    "logger.setLevel(logging.INFO)\n",
    "fmt = logging.Formatter(\"%(asctime)s [%(thread)d]: [%(message)s]\")\n",
    "console = logging.FileHandler(\"./studentLog.log\")\n",
    "# console =logging.StreamHandler()\n",
    "console.setFormatter(fmt)\n",
    "logger.addHandler(console)"
   ]
  },
  {
   "cell_type": "code",
   "execution_count": 23,
   "id": "outstanding-spending",
   "metadata": {},
   "outputs": [
    {
     "name": "stderr",
     "output_type": "stream",
     "text": [
      "ERROR:root:This is the first log\n",
      "2022-04-17 12:05:32,558 [4492572160]: [This is the first log]\n"
     ]
    }
   ],
   "source": [
    "logger.error(\"This is the first log\")"
   ]
  },
  {
   "cell_type": "code",
   "execution_count": 22,
   "id": "usual-joint",
   "metadata": {},
   "outputs": [
    {
     "name": "stderr",
     "output_type": "stream",
     "text": [
      "INFO:root:creating txt file to store the data\n",
      "2022-04-17 12:03:07,043 [4492572160]: [creating txt file to store the data]\n",
      "INFO:root:Created file\n",
      "2022-04-17 12:03:07,048 [4492572160]: [Created file]\n",
      "INFO:root:Loop start\n",
      "2022-04-17 12:03:07,050 [4492572160]: [Loop start]\n",
      "INFO:root:loop value: 0\n",
      "2022-04-17 12:03:07,052 [4492572160]: [loop value: 0]\n"
     ]
    },
    {
     "name": "stdout",
     "output_type": "stream",
     "text": [
      "Please enter your name: abc\n"
     ]
    },
    {
     "name": "stderr",
     "output_type": "stream",
     "text": [
      "INFO:root:user has entered name: abc\n",
      "2022-04-17 12:03:33,606 [4492572160]: [user has entered name: abc]\n"
     ]
    },
    {
     "name": "stdout",
     "output_type": "stream",
     "text": [
      "Enter the mark of subject-1: 12\n",
      "Enter the mark of subject-2: 23\n",
      "Enter the mark of subject-3: 34\n"
     ]
    },
    {
     "name": "stderr",
     "output_type": "stream",
     "text": [
      "INFO:root:user has entered marks: [12.0, 23.0, 34.0]\n",
      "2022-04-17 12:03:38,228 [4492572160]: [user has entered marks: [12.0, 23.0, 34.0]]\n",
      "INFO:root:stored data in the txt file\n",
      "2022-04-17 12:03:38,229 [4492572160]: [stored data in the txt file]\n",
      "INFO:root:loop value: 1\n",
      "2022-04-17 12:03:38,233 [4492572160]: [loop value: 1]\n"
     ]
    },
    {
     "name": "stdout",
     "output_type": "stream",
     "text": [
      "\n",
      "Please enter your name: xyx\n"
     ]
    },
    {
     "name": "stderr",
     "output_type": "stream",
     "text": [
      "INFO:root:user has entered name: xyx\n",
      "2022-04-17 12:03:40,941 [4492572160]: [user has entered name: xyx]\n"
     ]
    },
    {
     "name": "stdout",
     "output_type": "stream",
     "text": [
      "Enter the mark of subject-1: 34\n",
      "Enter the mark of subject-2: 44\n",
      "Enter the mark of subject-3: 65\n"
     ]
    },
    {
     "name": "stderr",
     "output_type": "stream",
     "text": [
      "INFO:root:user has entered marks: [34.0, 44.0, 65.0]\n",
      "2022-04-17 12:03:47,332 [4492572160]: [user has entered marks: [34.0, 44.0, 65.0]]\n",
      "INFO:root:stored data in the txt file\n",
      "2022-04-17 12:03:47,334 [4492572160]: [stored data in the txt file]\n",
      "INFO:root:Process completed\n",
      "2022-04-17 12:03:47,342 [4492572160]: [Process completed]\n",
      "INFO:root:file is closed\n",
      "2022-04-17 12:03:47,347 [4492572160]: [file is closed]\n"
     ]
    },
    {
     "name": "stdout",
     "output_type": "stream",
     "text": [
      "\n"
     ]
    }
   ],
   "source": [
    "studentsData = {}\n",
    "logger.info(\"creating txt file to store the data\")\n",
    "studentfile = open(\"studentFile.txt\", \"w\")\n",
    "logger.info(\"Created file\")\n",
    "\n",
    "logger.info(\"Loop start\")\n",
    "studentfile.writelines(\"Name :    Marks   :  Total\")\n",
    "for i in range(2):\n",
    "    logger.info(\"loop value: {}\".format(i))\n",
    "    name = input(\"Please enter your name: \")\n",
    "    logger.info(\"user has entered name: {}\".format(name))\n",
    "    temp = []\n",
    "    for j in range(3):\n",
    "        mark = float(input(\"Enter the mark of subject-{}: \".format(j+1)))\n",
    "        temp.append(mark)\n",
    "    logger.info(\"user has entered marks: {}\".format(temp))\n",
    "    studentfile.writelines(\"\\n{} : {} : {}\".format(name,temp,sum(temp)))\n",
    "    logger.info(\"stored data in the txt file\")\n",
    "    studentsData[name] = temp\n",
    "    print()\n",
    "logger.info(\"Process completed\")\n",
    "studentfile.close() \n",
    "logger.info(\"file is closed\")"
   ]
  },
  {
   "cell_type": "markdown",
   "id": "mounted-subject",
   "metadata": {},
   "source": [
    "### database"
   ]
  },
  {
   "cell_type": "code",
   "execution_count": 31,
   "id": "czech-pennsylvania",
   "metadata": {},
   "outputs": [],
   "source": [
    "import pymysql\n",
    "import pandas as pd"
   ]
  },
  {
   "cell_type": "code",
   "execution_count": 27,
   "id": "jewish-spencer",
   "metadata": {},
   "outputs": [],
   "source": [
    "db = pymysql.connect(host=\"localhost\", user=\"root\", passwd=\"Admin@123\", db=\"testDB\")"
   ]
  },
  {
   "cell_type": "code",
   "execution_count": 28,
   "id": "interested-ready",
   "metadata": {},
   "outputs": [],
   "source": [
    "cur = db.cursor()"
   ]
  },
  {
   "cell_type": "code",
   "execution_count": 29,
   "id": "humanitarian-southwest",
   "metadata": {},
   "outputs": [
    {
     "data": {
      "text/plain": [
       "2"
      ]
     },
     "execution_count": 29,
     "metadata": {},
     "output_type": "execute_result"
    }
   ],
   "source": [
    "cur.execute(\"SELECT * FROM testDB.PassportDetails;\")"
   ]
  },
  {
   "cell_type": "code",
   "execution_count": 30,
   "id": "technological-throat",
   "metadata": {},
   "outputs": [
    {
     "data": {
      "text/plain": [
       "(('ABCD234EF', 1), ('fhtps2568j', 2))"
      ]
     },
     "execution_count": 30,
     "metadata": {},
     "output_type": "execute_result"
    }
   ],
   "source": [
    "cur.fetchall()"
   ]
  },
  {
   "cell_type": "code",
   "execution_count": 35,
   "id": "selective-raleigh",
   "metadata": {},
   "outputs": [
    {
     "data": {
      "text/html": [
       "<div>\n",
       "<style scoped>\n",
       "    .dataframe tbody tr th:only-of-type {\n",
       "        vertical-align: middle;\n",
       "    }\n",
       "\n",
       "    .dataframe tbody tr th {\n",
       "        vertical-align: top;\n",
       "    }\n",
       "\n",
       "    .dataframe thead th {\n",
       "        text-align: right;\n",
       "    }\n",
       "</style>\n",
       "<table border=\"1\" class=\"dataframe\">\n",
       "  <thead>\n",
       "    <tr style=\"text-align: right;\">\n",
       "      <th></th>\n",
       "      <th>Passport_Number</th>\n",
       "      <th>Person_Id</th>\n",
       "    </tr>\n",
       "  </thead>\n",
       "  <tbody>\n",
       "    <tr>\n",
       "      <th>0</th>\n",
       "      <td>ABCD234EF</td>\n",
       "      <td>1</td>\n",
       "    </tr>\n",
       "    <tr>\n",
       "      <th>1</th>\n",
       "      <td>fhtps2568j</td>\n",
       "      <td>2</td>\n",
       "    </tr>\n",
       "    <tr>\n",
       "      <th>2</th>\n",
       "      <td>IJKLmnop</td>\n",
       "      <td>4</td>\n",
       "    </tr>\n",
       "  </tbody>\n",
       "</table>\n",
       "</div>"
      ],
      "text/plain": [
       "  Passport_Number  Person_Id\n",
       "0       ABCD234EF          1\n",
       "1      fhtps2568j          2\n",
       "2        IJKLmnop          4"
      ]
     },
     "execution_count": 35,
     "metadata": {},
     "output_type": "execute_result"
    }
   ],
   "source": [
    "pd.read_sql_query(\"SELECT * FROM testDB.PassportDetails;\", db)"
   ]
  },
  {
   "cell_type": "code",
   "execution_count": 33,
   "id": "subjective-peter",
   "metadata": {},
   "outputs": [
    {
     "data": {
      "text/plain": [
       "1"
      ]
     },
     "execution_count": 33,
     "metadata": {},
     "output_type": "execute_result"
    }
   ],
   "source": [
    "cur.execute(\"insert into testDB.PassportDetails values('IJKLmnop',4)\")"
   ]
  },
  {
   "cell_type": "code",
   "execution_count": 34,
   "id": "widespread-stick",
   "metadata": {},
   "outputs": [],
   "source": [
    "db.commit()"
   ]
  },
  {
   "cell_type": "markdown",
   "id": "romance-irish",
   "metadata": {},
   "source": [
    "###  API"
   ]
  },
  {
   "cell_type": "code",
   "execution_count": 60,
   "id": "pressing-richardson",
   "metadata": {},
   "outputs": [],
   "source": [
    "from flask import Flask, request, render_template, jsonify, redirect, url_for, Response\n",
    "import json"
   ]
  },
  {
   "cell_type": "code",
   "execution_count": 61,
   "id": "close-toddler",
   "metadata": {},
   "outputs": [],
   "source": [
    "app = Flask(__name__)"
   ]
  },
  {
   "cell_type": "code",
   "execution_count": 62,
   "id": "structural-bangkok",
   "metadata": {},
   "outputs": [],
   "source": [
    "@app.route('/api',methods=['POST','GET',\"PUT\"])\n",
    "def process():\n",
    "    if request.method == \"GET\":\n",
    "        resp = {\"status\": \"SUCCESS\", \"error\": \"\"}\n",
    "        return jsonify(resp)\n",
    "    elif request.method == 'POST':\n",
    "        data = request.get_json()\n",
    "        c = data[\"course\"]\n",
    "        l = data[\"language\"]\n",
    "        t = data[\"topic\"]\n",
    "        res = '{'+'\"Content\":\"{}\"'.format(c+'-'+l+'-'+t)+'}'\n",
    "        return Response(json.dumps(json.loads(res)), mimetype='application/json')\n",
    "    else:\n",
    "        return jsonify({\"status\": \"Failure\", \"error\": \"Method not supported\"})"
   ]
  },
  {
   "cell_type": "code",
   "execution_count": 63,
   "id": "going-parameter",
   "metadata": {},
   "outputs": [],
   "source": [
    "@app.route('/search', methods=['GET'])\n",
    "def search():\n",
    "    if request.method == 'GET':\n",
    "        data = request.args.get('q')  # request.args['q']\n",
    "        res = {}\n",
    "        res[\"Name\"] = data\n",
    "        res[\"Class\"] = \"MSME Python Course\"\n",
    "        return jsonify(res)"
   ]
  },
  {
   "cell_type": "code",
   "execution_count": 64,
   "id": "laden-musician",
   "metadata": {
    "scrolled": true
   },
   "outputs": [
    {
     "name": "stdout",
     "output_type": "stream",
     "text": [
      " * Serving Flask app '__main__' (lazy loading)\n",
      " * Environment: production\n",
      "\u001b[31m   WARNING: This is a development server. Do not use it in a production deployment.\u001b[0m\n",
      "\u001b[2m   Use a production WSGI server instead.\u001b[0m\n",
      " * Debug mode: off\n"
     ]
    },
    {
     "name": "stderr",
     "output_type": "stream",
     "text": [
      "WARNING:werkzeug: * Running on all addresses.\n",
      "   WARNING: This is a development server. Do not use it in a production deployment.\n",
      "2022-04-17 14:28:37,659 [4492572160]: [ * Running on all addresses.\n",
      "   WARNING: This is a development server. Do not use it in a production deployment.]\n",
      "INFO:werkzeug: * Running on http://192.168.0.110:8005/ (Press CTRL+C to quit)\n",
      "2022-04-17 14:28:37,662 [4492572160]: [ * Running on http://192.168.0.110:8005/ (Press CTRL+C to quit)]\n",
      "INFO:werkzeug:192.168.0.110 - - [17/Apr/2022 14:31:27] \"\u001b[33mGET / HTTP/1.1\u001b[0m\" 404 -\n",
      "2022-04-17 14:31:27,128 [123145453580288]: [192.168.0.110 - - [17/Apr/2022 14:31:27] \"\u001b[33mGET / HTTP/1.1\u001b[0m\" 404 -]\n",
      "INFO:werkzeug:192.168.0.110 - - [17/Apr/2022 14:31:31] \"GET /api HTTP/1.1\" 200 -\n",
      "2022-04-17 14:31:31,081 [123145458835456]: [192.168.0.110 - - [17/Apr/2022 14:31:31] \"GET /api HTTP/1.1\" 200 -]\n",
      "INFO:werkzeug:192.168.0.110 - - [17/Apr/2022 14:31:42] \"GET /search?q=hello HTTP/1.1\" 200 -\n",
      "2022-04-17 14:31:42,728 [123145453580288]: [192.168.0.110 - - [17/Apr/2022 14:31:42] \"GET /search?q=hello HTTP/1.1\" 200 -]\n",
      "INFO:werkzeug:192.168.0.110 - - [17/Apr/2022 14:31:48] \"GET /search?q=sharma HTTP/1.1\" 200 -\n",
      "2022-04-17 14:31:48,141 [123145458835456]: [192.168.0.110 - - [17/Apr/2022 14:31:48] \"GET /search?q=sharma HTTP/1.1\" 200 -]\n"
     ]
    }
   ],
   "source": [
    "app.run()"
   ]
  },
  {
   "cell_type": "markdown",
   "id": "light-shadow",
   "metadata": {},
   "source": [
    "### webservice"
   ]
  },
  {
   "cell_type": "code",
   "execution_count": 92,
   "id": "wired-theorem",
   "metadata": {},
   "outputs": [],
   "source": [
    "import pymysql\n",
    "from flask import Flask, render_template, url_for, redirect, request"
   ]
  },
  {
   "cell_type": "code",
   "execution_count": 93,
   "id": "romantic-toronto",
   "metadata": {},
   "outputs": [],
   "source": [
    "db = pymysql.connect(host=\"localhost\", user=\"root\",\n",
    "                     passwd=\"Admin@123\", db=\"testDB\")\n",
    "\n",
    "cur = db.cursor()"
   ]
  },
  {
   "cell_type": "code",
   "execution_count": 101,
   "id": "resistant-xerox",
   "metadata": {},
   "outputs": [],
   "source": [
    "app = Flask(__name__, template_folder=os.path.abspath(\"./python-web/\"))"
   ]
  },
  {
   "cell_type": "code",
   "execution_count": 102,
   "id": "distinct-miller",
   "metadata": {},
   "outputs": [],
   "source": [
    "@app.route('/testing', methods=['GET'])\n",
    "def test():\n",
    "    if request.method == 'GET':\n",
    "        return render_template(\"hello.html\")"
   ]
  },
  {
   "cell_type": "code",
   "execution_count": 103,
   "id": "discrete-employment",
   "metadata": {},
   "outputs": [],
   "source": [
    "@app.route('/play')\n",
    "def playing():\n",
    "    # return redirect(url_for('test'))\n",
    "    return redirect('testing')"
   ]
  },
  {
   "cell_type": "code",
   "execution_count": 104,
   "id": "caring-accent",
   "metadata": {},
   "outputs": [],
   "source": [
    "@app.route('/', methods=['POST', 'GET'])\n",
    "def hello():\n",
    "    if request.method == 'GET':\n",
    "        return render_template('testing.html')\n",
    "    elif request.method == 'POST':\n",
    "        na = request.form['img']\n",
    "        try:\n",
    "            cur.execute(\"SELECT Passport_Number FROM testDB.PassportDetails where Person_Id = {}\".format(na))\n",
    "        except Exception:\n",
    "            kwargs = {'name': \"Give Proper input\"}\n",
    "            return render_template(\"testing.html\", **kwargs)\n",
    "            \n",
    "        try:\n",
    "            kwargs = {'name': cur.fetchone()[0], }\n",
    "        except Exception:\n",
    "            kwargs = {'name': \"No user found!!!\"}\n",
    "        return render_template(\"testing.html\", **kwargs)"
   ]
  },
  {
   "cell_type": "code",
   "execution_count": 106,
   "id": "white-indiana",
   "metadata": {
    "scrolled": false
   },
   "outputs": [
    {
     "name": "stdout",
     "output_type": "stream",
     "text": [
      " * Serving Flask app '__main__' (lazy loading)\n",
      " * Environment: production\n",
      "\u001b[31m   WARNING: This is a development server. Do not use it in a production deployment.\u001b[0m\n",
      "\u001b[2m   Use a production WSGI server instead.\u001b[0m\n",
      " * Debug mode: off\n"
     ]
    },
    {
     "name": "stderr",
     "output_type": "stream",
     "text": [
      "INFO:werkzeug: * Running on http://127.0.0.1:5000/ (Press CTRL+C to quit)\n",
      "2022-04-17 15:03:04,585 [4492572160]: [ * Running on http://127.0.0.1:5000/ (Press CTRL+C to quit)]\n"
     ]
    }
   ],
   "source": [
    "app.run()"
   ]
  },
  {
   "cell_type": "markdown",
   "id": "homeless-debut",
   "metadata": {},
   "source": [
    "### OOP"
   ]
  },
  {
   "cell_type": "code",
   "execution_count": 107,
   "id": "specified-mediterranean",
   "metadata": {},
   "outputs": [],
   "source": [
    "def show(name):\n",
    "    print ('hello from ',name)"
   ]
  },
  {
   "cell_type": "code",
   "execution_count": 108,
   "id": "thrown-meaning",
   "metadata": {},
   "outputs": [
    {
     "name": "stdout",
     "output_type": "stream",
     "text": [
      "hello from  abc\n"
     ]
    }
   ],
   "source": [
    "show(\"abc\")"
   ]
  },
  {
   "cell_type": "code",
   "execution_count": 131,
   "id": "possible-mason",
   "metadata": {},
   "outputs": [],
   "source": [
    "class Display:\n",
    "    def show(self, name):\n",
    "        self.name = name\n",
    "        print(('hello from ', self.name))\n",
    "        \n",
    "    def age(self):\n",
    "        ageValue = float(input(\"Enter you age: \"))\n",
    "        print(\"Age of %s is %0.1f\" %(self.name, ageValue))"
   ]
  },
  {
   "cell_type": "code",
   "execution_count": 132,
   "id": "broad-programming",
   "metadata": {},
   "outputs": [],
   "source": [
    "d = Display()"
   ]
  },
  {
   "cell_type": "code",
   "execution_count": 133,
   "id": "broadband-tsunami",
   "metadata": {},
   "outputs": [
    {
     "name": "stdout",
     "output_type": "stream",
     "text": [
      "('hello from ', 'xyz')\n"
     ]
    }
   ],
   "source": [
    "d.show(\"xyz\")"
   ]
  },
  {
   "cell_type": "code",
   "execution_count": 134,
   "id": "literary-maine",
   "metadata": {},
   "outputs": [
    {
     "name": "stdout",
     "output_type": "stream",
     "text": [
      "Enter you age: 14\n",
      "Age of xyz is 14.0\n"
     ]
    }
   ],
   "source": [
    "d.age()"
   ]
  },
  {
   "cell_type": "code",
   "execution_count": 143,
   "id": "sapphire-addiction",
   "metadata": {},
   "outputs": [],
   "source": [
    "class Display:\n",
    "    def __init__(self, name):\n",
    "        self.name = name\n",
    "        self._ageValue = float(input(\"Enter you age: \"))\n",
    "        \n",
    "    def show(self):\n",
    "        print('hello from ', self.name)\n",
    "        \n",
    "    def age(self):\n",
    "        print(\"Age of %s is %0.1f\" %(self.name, self._ageValue))"
   ]
  },
  {
   "cell_type": "code",
   "execution_count": 144,
   "id": "sustainable-reggae",
   "metadata": {},
   "outputs": [
    {
     "name": "stdout",
     "output_type": "stream",
     "text": [
      "Enter you age: 15\n"
     ]
    }
   ],
   "source": [
    "d = Display('sharma')"
   ]
  },
  {
   "cell_type": "code",
   "execution_count": 145,
   "id": "pending-postage",
   "metadata": {},
   "outputs": [
    {
     "name": "stdout",
     "output_type": "stream",
     "text": [
      "hello from  sharma\n"
     ]
    }
   ],
   "source": [
    "d.show()"
   ]
  },
  {
   "cell_type": "code",
   "execution_count": 146,
   "id": "forty-architect",
   "metadata": {},
   "outputs": [
    {
     "name": "stdout",
     "output_type": "stream",
     "text": [
      "Age of sharma is 15.0\n"
     ]
    }
   ],
   "source": [
    "d.age()"
   ]
  },
  {
   "cell_type": "code",
   "execution_count": 153,
   "id": "virtual-monitor",
   "metadata": {},
   "outputs": [],
   "source": [
    "class Display:\n",
    "    def __init__(self, name):\n",
    "        self._name = name\n",
    "        self._ageValue = float(input(\"Enter you age: \"))\n",
    "        \n",
    "    def _show(self):\n",
    "        print('hello from ', self._name)\n",
    "        \n",
    "    def age(self):\n",
    "        self._show()\n",
    "        print(\"Age of %s is %0.1f\" %(self._name, self._ageValue))\n",
    "\n",
    "    def __del__(self):\n",
    "        print('Destructor is executing')"
   ]
  },
  {
   "cell_type": "code",
   "execution_count": 159,
   "id": "rising-economics",
   "metadata": {},
   "outputs": [
    {
     "name": "stdout",
     "output_type": "stream",
     "text": [
      "Enter you age: 15\n"
     ]
    }
   ],
   "source": [
    "d = Display('Joe')"
   ]
  },
  {
   "cell_type": "code",
   "execution_count": 160,
   "id": "marine-glasgow",
   "metadata": {},
   "outputs": [
    {
     "name": "stdout",
     "output_type": "stream",
     "text": [
      "hello from  Joe\n",
      "Age of Joe is 15.0\n"
     ]
    }
   ],
   "source": [
    "d.age()"
   ]
  },
  {
   "cell_type": "code",
   "execution_count": 161,
   "id": "binding-giving",
   "metadata": {},
   "outputs": [
    {
     "name": "stdout",
     "output_type": "stream",
     "text": [
      "Destructor is executing\n"
     ]
    }
   ],
   "source": [
    "del d"
   ]
  },
  {
   "cell_type": "code",
   "execution_count": 162,
   "id": "viral-water",
   "metadata": {},
   "outputs": [],
   "source": [
    "class A:\n",
    "    def __init__(self, name):\n",
    "        self.name = name\n",
    "\n",
    "    def show(self):\n",
    "        print('name: %s' % (self.name,))"
   ]
  },
  {
   "cell_type": "code",
   "execution_count": 170,
   "id": "golden-swimming",
   "metadata": {},
   "outputs": [],
   "source": [
    "class B(A):\n",
    "    def __init__(self, name, desc):\n",
    "#         A.__init__(self, name)\n",
    "        self.name = name\n",
    "        self.desc = desc\n",
    "\n",
    "    def display(self):\n",
    "#         A.show(self)\n",
    "        self.show()\n",
    "        print('desc: %s' % (self.desc,))"
   ]
  },
  {
   "cell_type": "code",
   "execution_count": 163,
   "id": "graduate-detection",
   "metadata": {},
   "outputs": [
    {
     "name": "stdout",
     "output_type": "stream",
     "text": [
      "name: apple\n"
     ]
    }
   ],
   "source": [
    "A(\"apple\").show()"
   ]
  },
  {
   "cell_type": "code",
   "execution_count": 171,
   "id": "statistical-coordination",
   "metadata": {},
   "outputs": [],
   "source": [
    "f = B(\"apple\", \"mango\")"
   ]
  },
  {
   "cell_type": "code",
   "execution_count": 172,
   "id": "prompt-soldier",
   "metadata": {
    "scrolled": false
   },
   "outputs": [
    {
     "name": "stdout",
     "output_type": "stream",
     "text": [
      "name: apple\n",
      "name: apple\n",
      "desc: mango\n"
     ]
    }
   ],
   "source": [
    "f.display()"
   ]
  },
  {
   "cell_type": "code",
   "execution_count": null,
   "id": "touched-gates",
   "metadata": {},
   "outputs": [],
   "source": []
  }
 ],
 "metadata": {
  "kernelspec": {
   "display_name": "Python 3",
   "language": "python",
   "name": "python3"
  },
  "language_info": {
   "codemirror_mode": {
    "name": "ipython",
    "version": 3
   },
   "file_extension": ".py",
   "mimetype": "text/x-python",
   "name": "python",
   "nbconvert_exporter": "python",
   "pygments_lexer": "ipython3",
   "version": "3.6.8"
  },
  "nbTranslate": {
   "displayLangs": [
    "*"
   ],
   "hotkey": "alt-t",
   "langInMainMenu": true,
   "sourceLang": "en",
   "targetLang": "fr",
   "useGoogleTranslate": true
  },
  "toc": {
   "base_numbering": 1,
   "nav_menu": {},
   "number_sections": true,
   "sideBar": true,
   "skip_h1_title": false,
   "title_cell": "Table of Contents",
   "title_sidebar": "Contents",
   "toc_cell": false,
   "toc_position": {
    "height": "calc(100% - 180px)",
    "left": "10px",
    "top": "150px",
    "width": "307.2px"
   },
   "toc_section_display": true,
   "toc_window_display": false
  },
  "varInspector": {
   "cols": {
    "lenName": 16,
    "lenType": 16,
    "lenVar": 40
   },
   "kernels_config": {
    "python": {
     "delete_cmd_postfix": "",
     "delete_cmd_prefix": "del ",
     "library": "var_list.py",
     "varRefreshCmd": "print(var_dic_list())"
    },
    "r": {
     "delete_cmd_postfix": ") ",
     "delete_cmd_prefix": "rm(",
     "library": "var_list.r",
     "varRefreshCmd": "cat(var_dic_list()) "
    }
   },
   "types_to_exclude": [
    "module",
    "function",
    "builtin_function_or_method",
    "instance",
    "_Feature"
   ],
   "window_display": false
  }
 },
 "nbformat": 4,
 "nbformat_minor": 5
}
