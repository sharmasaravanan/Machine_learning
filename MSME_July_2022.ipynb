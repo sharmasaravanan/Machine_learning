{
 "cells": [
  {
   "cell_type": "markdown",
   "id": "framed-validity",
   "metadata": {},
   "source": [
    "### Links"
   ]
  },
  {
   "cell_type": "code",
   "execution_count": null,
   "id": "outstanding-bride",
   "metadata": {},
   "outputs": [],
   "source": []
  },
  {
   "cell_type": "markdown",
   "id": "simplified-queens",
   "metadata": {},
   "source": [
    "### Difference between C/C++ and python"
   ]
  },
  {
   "cell_type": "code",
   "execution_count": null,
   "id": "architectural-tension",
   "metadata": {},
   "outputs": [],
   "source": [
    "#include <stdio.h>\n",
    "int main() {\n",
    "   printf(\"Hello, World!\");\n",
    "   return 0;\n",
    "}\n"
   ]
  },
  {
   "cell_type": "code",
   "execution_count": 3,
   "id": "permanent-phrase",
   "metadata": {},
   "outputs": [
    {
     "name": "stdout",
     "output_type": "stream",
     "text": [
      "Hello, World!\n"
     ]
    }
   ],
   "source": [
    "print(\"Hello, World!\")"
   ]
  },
  {
   "cell_type": "markdown",
   "id": "fifteen-bubble",
   "metadata": {},
   "source": [
    "### Datatypes"
   ]
  },
  {
   "cell_type": "code",
   "execution_count": 5,
   "id": "comfortable-kernel",
   "metadata": {},
   "outputs": [],
   "source": [
    "a = 5 # int\n",
    "b = 3.14 # float\n",
    "c = \"apple\" # string\n",
    "d = False # bool"
   ]
  },
  {
   "cell_type": "code",
   "execution_count": 8,
   "id": "jewish-thread",
   "metadata": {},
   "outputs": [
    {
     "name": "stdout",
     "output_type": "stream",
     "text": [
      "<class 'int'>\n",
      "<class 'float'>\n",
      "<class 'str'>\n",
      "<class 'bool'>\n"
     ]
    }
   ],
   "source": [
    "print(type(a))\n",
    "print(type(b))\n",
    "print(type(c))\n",
    "print(type(d))"
   ]
  },
  {
   "cell_type": "markdown",
   "id": "billion-professor",
   "metadata": {},
   "source": [
    "### Variables"
   ]
  },
  {
   "cell_type": "markdown",
   "id": "interested-spray",
   "metadata": {},
   "source": [
    "Dont's\n",
    "\n",
    "    1. Int as variable\n",
    "    2. Case sensitive"
   ]
  },
  {
   "cell_type": "markdown",
   "id": "lyric-verse",
   "metadata": {},
   "source": [
    "cutomerName, customer_name, name1, _name, "
   ]
  },
  {
   "cell_type": "markdown",
   "id": "interior-astronomy",
   "metadata": {},
   "source": [
    "### print function"
   ]
  },
  {
   "cell_type": "code",
   "execution_count": 18,
   "id": "selected-afghanistan",
   "metadata": {},
   "outputs": [
    {
     "name": "stdout",
     "output_type": "stream",
     "text": [
      "apple\n",
      "5\n",
      "3.14 apple\n"
     ]
    }
   ],
   "source": [
    "print(\"apple\")\n",
    "print(a)\n",
    "print(b,c)"
   ]
  },
  {
   "cell_type": "code",
   "execution_count": 23,
   "id": "noble-absolute",
   "metadata": {
    "collapsed": true
   },
   "outputs": [
    {
     "name": "stdout",
     "output_type": "stream",
     "text": [
      "Method-1\n",
      "hello 5\n",
      "hello apple\n",
      "-------------\n",
      "Method-2\n",
      "hello 5\n",
      "hello apple\n",
      "-------------\n",
      "Method-3\n",
      "hello 5\n",
      "hello apple\n",
      "-------------\n",
      "Method-4\n",
      "hello 5\n",
      "hello apple\n"
     ]
    }
   ],
   "source": [
    "# hello 5\n",
    "# hello apple\n",
    "\n",
    "print(\"Method-1\")\n",
    "print(\"hello\",a)\n",
    "print(\"hello\",c)\n",
    "\n",
    "print(\"-------------\")\n",
    "print(\"Method-2\")\n",
    "print(\"hello \"+ str(a))\n",
    "print(\"hello \"+ c)\n",
    "\n",
    "print(\"-------------\")\n",
    "print(\"Method-3\")\n",
    "print(\"hello %d\"%a)\n",
    "print(\"hello %s\"%c)\n",
    "\n",
    "print(\"-------------\")\n",
    "print(\"Method-4\")\n",
    "print(\"hello {}\".format(a))\n",
    "print(\"hello {}\".format(c))"
   ]
  },
  {
   "cell_type": "code",
   "execution_count": 24,
   "id": "senior-combining",
   "metadata": {
    "collapsed": true
   },
   "outputs": [
    {
     "name": "stdout",
     "output_type": "stream",
     "text": [
      "hello 5 apple\n",
      "hello 5 apple\n"
     ]
    }
   ],
   "source": [
    "print(\"hello %d %s\"%(a,c))\n",
    "\n",
    "print(\"hello {} {}\".format(a, c))\n"
   ]
  },
  {
   "cell_type": "markdown",
   "id": "vocal-dover",
   "metadata": {},
   "source": [
    "### Typecasting"
   ]
  },
  {
   "cell_type": "code",
   "execution_count": 30,
   "id": "running-winter",
   "metadata": {},
   "outputs": [
    {
     "name": "stdout",
     "output_type": "stream",
     "text": [
      "<class 'str'>\n",
      "<class 'int'> <class 'str'>\n",
      "5.0\n",
      "3\n"
     ]
    }
   ],
   "source": [
    "# int to str\n",
    "print(type(str(50)))\n",
    "\n",
    "# str to int\n",
    "print(type(int('50')), type('50'))\n",
    "\n",
    "# int to float\n",
    "print(float(5))\n",
    "\n",
    "# float to int\n",
    "print(int(3.14))"
   ]
  },
  {
   "cell_type": "markdown",
   "id": "needed-referral",
   "metadata": {},
   "source": [
    "### Task-1"
   ]
  },
  {
   "cell_type": "code",
   "execution_count": 31,
   "id": "unknown-geography",
   "metadata": {},
   "outputs": [],
   "source": [
    "# I bought 2kgs of orange for 125.45Rs\n",
    "w = 2\n",
    "f = 'orange'\n",
    "p = 125.45"
   ]
  },
  {
   "cell_type": "code",
   "execution_count": 38,
   "id": "center-miracle",
   "metadata": {},
   "outputs": [
    {
     "name": "stdout",
     "output_type": "stream",
     "text": [
      "I bought 2 kgs of orange for 125.45 Rs\n",
      "I bought 2kgs of orange for 125.45Rs\n",
      "I bought 2kgs of orange for 125.45Rs\n",
      "I bought 2kgs of orange for 125.45Rs\n"
     ]
    }
   ],
   "source": [
    "print(\"I bought\",w,\"kgs of\",f,\"for\",p,\"Rs\")\n",
    "print(\"I bought \"+str(w)+\"kgs of \"+f+\" for \"+ str(p)+\"Rs\")\n",
    "print(\"I bought %dkgs of %s for %0.2fRs\"%(w,f,p))\n",
    "print(\"I bought {}kgs of {} for {}Rs\".format(w,f,p))"
   ]
  },
  {
   "cell_type": "markdown",
   "id": "eastern-centre",
   "metadata": {},
   "source": [
    "### input function (Getting input from the user)"
   ]
  },
  {
   "cell_type": "code",
   "execution_count": 42,
   "id": "documented-alexandria",
   "metadata": {},
   "outputs": [
    {
     "name": "stdout",
     "output_type": "stream",
     "text": [
      "Please enter the name: abcd\n",
      "please enter the age: 12.45\n"
     ]
    }
   ],
   "source": [
    "name = input(\"Please enter the name: \")\n",
    "age = input(\"please enter the age: \")"
   ]
  },
  {
   "cell_type": "code",
   "execution_count": 43,
   "id": "sustainable-shuttle",
   "metadata": {},
   "outputs": [
    {
     "name": "stdout",
     "output_type": "stream",
     "text": [
      "abcd 12.45\n"
     ]
    }
   ],
   "source": [
    "print(name, age)"
   ]
  },
  {
   "cell_type": "code",
   "execution_count": 44,
   "id": "lovely-johnston",
   "metadata": {},
   "outputs": [
    {
     "name": "stdout",
     "output_type": "stream",
     "text": [
      "<class 'str'> <class 'str'>\n"
     ]
    }
   ],
   "source": [
    "print(type(name), type(age))"
   ]
  },
  {
   "cell_type": "markdown",
   "id": "professional-reliance",
   "metadata": {},
   "source": [
    "### if-else"
   ]
  },
  {
   "cell_type": "code",
   "execution_count": null,
   "id": "otherwise-edward",
   "metadata": {},
   "outputs": [],
   "source": [
    "if - else\n",
    "while loop\n",
    "string functions\n",
    "list, tuple, dict\n",
    "for loop\n",
    "\n",
    "functions\n",
    "library handling \n",
    "error handling\n",
    "\n",
    "file handling \n",
    "visualisation"
   ]
  }
 ],
 "metadata": {
  "kernelspec": {
   "display_name": "Python 3",
   "language": "python",
   "name": "python3"
  },
  "language_info": {
   "codemirror_mode": {
    "name": "ipython",
    "version": 3
   },
   "file_extension": ".py",
   "mimetype": "text/x-python",
   "name": "python",
   "nbconvert_exporter": "python",
   "pygments_lexer": "ipython3",
   "version": "3.6.8"
  },
  "nbTranslate": {
   "displayLangs": [
    "*"
   ],
   "hotkey": "alt-t",
   "langInMainMenu": true,
   "sourceLang": "en",
   "targetLang": "fr",
   "useGoogleTranslate": true
  },
  "toc": {
   "base_numbering": 1,
   "nav_menu": {},
   "number_sections": true,
   "sideBar": true,
   "skip_h1_title": false,
   "title_cell": "Table of Contents",
   "title_sidebar": "Contents",
   "toc_cell": false,
   "toc_position": {},
   "toc_section_display": true,
   "toc_window_display": false
  },
  "varInspector": {
   "cols": {
    "lenName": 16,
    "lenType": 16,
    "lenVar": 40
   },
   "kernels_config": {
    "python": {
     "delete_cmd_postfix": "",
     "delete_cmd_prefix": "del ",
     "library": "var_list.py",
     "varRefreshCmd": "print(var_dic_list())"
    },
    "r": {
     "delete_cmd_postfix": ") ",
     "delete_cmd_prefix": "rm(",
     "library": "var_list.r",
     "varRefreshCmd": "cat(var_dic_list()) "
    }
   },
   "types_to_exclude": [
    "module",
    "function",
    "builtin_function_or_method",
    "instance",
    "_Feature"
   ],
   "window_display": false
  }
 },
 "nbformat": 4,
 "nbformat_minor": 5
}
