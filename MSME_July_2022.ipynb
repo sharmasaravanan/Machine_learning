{
 "cells": [
  {
   "cell_type": "markdown",
   "id": "freelance-bankruptcy",
   "metadata": {},
   "source": [
    "### Links"
   ]
  },
  {
   "cell_type": "markdown",
   "id": "friendly-series",
   "metadata": {},
   "source": [
    "https://bit.ly/MSME_July_2022\n",
    "\n",
    "https://www.tutorialspoint.com/python3/python_strings.htm"
   ]
  },
  {
   "cell_type": "markdown",
   "id": "backed-narrow",
   "metadata": {},
   "source": [
    "### Difference between C/C++ and python"
   ]
  },
  {
   "cell_type": "code",
   "execution_count": null,
   "id": "soviet-server",
   "metadata": {},
   "outputs": [],
   "source": [
    "#include <stdio.h>\n",
    "int main() {\n",
    "   printf(\"Hello, World!\");\n",
    "   return 0;\n",
    "}\n"
   ]
  },
  {
   "cell_type": "code",
   "execution_count": 3,
   "id": "located-implementation",
   "metadata": {},
   "outputs": [
    {
     "name": "stdout",
     "output_type": "stream",
     "text": [
      "Hello, World!\n"
     ]
    }
   ],
   "source": [
    "print(\"Hello, World!\")"
   ]
  },
  {
   "cell_type": "markdown",
   "id": "starting-murder",
   "metadata": {},
   "source": [
    "### Datatypes"
   ]
  },
  {
   "cell_type": "code",
   "execution_count": 5,
   "id": "isolated-board",
   "metadata": {},
   "outputs": [],
   "source": [
    "a = 5 # int\n",
    "b = 3.14 # float\n",
    "c = \"apple\" # string\n",
    "d = False # bool"
   ]
  },
  {
   "cell_type": "code",
   "execution_count": 8,
   "id": "african-drive",
   "metadata": {},
   "outputs": [
    {
     "name": "stdout",
     "output_type": "stream",
     "text": [
      "<class 'int'>\n",
      "<class 'float'>\n",
      "<class 'str'>\n",
      "<class 'bool'>\n"
     ]
    }
   ],
   "source": [
    "print(type(a))\n",
    "print(type(b))\n",
    "print(type(c))\n",
    "print(type(d))"
   ]
  },
  {
   "cell_type": "markdown",
   "id": "complex-graphic",
   "metadata": {},
   "source": [
    "### Variables"
   ]
  },
  {
   "cell_type": "markdown",
   "id": "waiting-cinema",
   "metadata": {},
   "source": [
    "Dont's\n",
    "\n",
    "    1. Int as variable\n",
    "    2. Case sensitive"
   ]
  },
  {
   "cell_type": "markdown",
   "id": "hundred-check",
   "metadata": {},
   "source": [
    "cutomerName, customer_name, name1, _name, "
   ]
  },
  {
   "cell_type": "markdown",
   "id": "legendary-fitness",
   "metadata": {},
   "source": [
    "### print function"
   ]
  },
  {
   "cell_type": "code",
   "execution_count": 18,
   "id": "frank-thanksgiving",
   "metadata": {},
   "outputs": [
    {
     "name": "stdout",
     "output_type": "stream",
     "text": [
      "apple\n",
      "5\n",
      "3.14 apple\n"
     ]
    }
   ],
   "source": [
    "print(\"apple\")\n",
    "print(a)\n",
    "print(b,c)"
   ]
  },
  {
   "cell_type": "code",
   "execution_count": 23,
   "id": "boolean-question",
   "metadata": {
    "collapsed": true
   },
   "outputs": [
    {
     "name": "stdout",
     "output_type": "stream",
     "text": [
      "Method-1\n",
      "hello 5\n",
      "hello apple\n",
      "-------------\n",
      "Method-2\n",
      "hello 5\n",
      "hello apple\n",
      "-------------\n",
      "Method-3\n",
      "hello 5\n",
      "hello apple\n",
      "-------------\n",
      "Method-4\n",
      "hello 5\n",
      "hello apple\n"
     ]
    }
   ],
   "source": [
    "# hello 5\n",
    "# hello apple\n",
    "\n",
    "print(\"Method-1\")\n",
    "print(\"hello\",a)\n",
    "print(\"hello\",c)\n",
    "\n",
    "print(\"-------------\")\n",
    "print(\"Method-2\")\n",
    "print(\"hello \"+ str(a))\n",
    "print(\"hello \"+ c)\n",
    "\n",
    "print(\"-------------\")\n",
    "print(\"Method-3\")\n",
    "print(\"hello %d\"%a)\n",
    "print(\"hello %s\"%c)\n",
    "\n",
    "print(\"-------------\")\n",
    "print(\"Method-4\")\n",
    "print(\"hello {}\".format(a))\n",
    "print(\"hello {}\".format(c))"
   ]
  },
  {
   "cell_type": "code",
   "execution_count": 24,
   "id": "involved-thermal",
   "metadata": {
    "collapsed": true
   },
   "outputs": [
    {
     "name": "stdout",
     "output_type": "stream",
     "text": [
      "hello 5 apple\n",
      "hello 5 apple\n"
     ]
    }
   ],
   "source": [
    "print(\"hello %d %s\"%(a,c))\n",
    "\n",
    "print(\"hello {} {}\".format(a, c))\n"
   ]
  },
  {
   "cell_type": "markdown",
   "id": "respective-hollow",
   "metadata": {},
   "source": [
    "### Typecasting"
   ]
  },
  {
   "cell_type": "code",
   "execution_count": 30,
   "id": "nutritional-hierarchy",
   "metadata": {},
   "outputs": [
    {
     "name": "stdout",
     "output_type": "stream",
     "text": [
      "<class 'str'>\n",
      "<class 'int'> <class 'str'>\n",
      "5.0\n",
      "3\n"
     ]
    }
   ],
   "source": [
    "# int to str\n",
    "print(type(str(50)))\n",
    "\n",
    "# str to int\n",
    "print(type(int('50')), type('50'))\n",
    "\n",
    "# int to float\n",
    "print(float(5))\n",
    "\n",
    "# float to int\n",
    "print(int(3.14))"
   ]
  },
  {
   "cell_type": "markdown",
   "id": "defensive-virginia",
   "metadata": {},
   "source": [
    "### Task-1"
   ]
  },
  {
   "cell_type": "code",
   "execution_count": 31,
   "id": "precise-admission",
   "metadata": {},
   "outputs": [],
   "source": [
    "# I bought 2kgs of orange for 125.45Rs\n",
    "w = 2\n",
    "f = 'orange'\n",
    "p = 125.45"
   ]
  },
  {
   "cell_type": "code",
   "execution_count": 38,
   "id": "active-twenty",
   "metadata": {},
   "outputs": [
    {
     "name": "stdout",
     "output_type": "stream",
     "text": [
      "I bought 2 kgs of orange for 125.45 Rs\n",
      "I bought 2kgs of orange for 125.45Rs\n",
      "I bought 2kgs of orange for 125.45Rs\n",
      "I bought 2kgs of orange for 125.45Rs\n"
     ]
    }
   ],
   "source": [
    "print(\"I bought\",w,\"kgs of\",f,\"for\",p,\"Rs\")\n",
    "print(\"I bought \"+str(w)+\"kgs of \"+f+\" for \"+ str(p)+\"Rs\")\n",
    "print(\"I bought %dkgs of %s for %0.2fRs\"%(w,f,p))\n",
    "print(\"I bought {}kgs of {} for {}Rs\".format(w,f,p))"
   ]
  },
  {
   "cell_type": "markdown",
   "id": "positive-worth",
   "metadata": {},
   "source": [
    "### input function (Getting input from the user)"
   ]
  },
  {
   "cell_type": "code",
   "execution_count": 42,
   "id": "violent-collectible",
   "metadata": {},
   "outputs": [
    {
     "name": "stdout",
     "output_type": "stream",
     "text": [
      "Please enter the name: abcd\n",
      "please enter the age: 12.45\n"
     ]
    }
   ],
   "source": [
    "name = input(\"Please enter the name: \")\n",
    "age = input(\"please enter the age: \")"
   ]
  },
  {
   "cell_type": "code",
   "execution_count": 43,
   "id": "duplicate-toner",
   "metadata": {},
   "outputs": [
    {
     "name": "stdout",
     "output_type": "stream",
     "text": [
      "abcd 12.45\n"
     ]
    }
   ],
   "source": [
    "print(name, age)"
   ]
  },
  {
   "cell_type": "code",
   "execution_count": 44,
   "id": "conservative-spoke",
   "metadata": {},
   "outputs": [
    {
     "name": "stdout",
     "output_type": "stream",
     "text": [
      "<class 'str'> <class 'str'>\n"
     ]
    }
   ],
   "source": [
    "print(type(name), type(age))"
   ]
  },
  {
   "cell_type": "markdown",
   "id": "virtual-dating",
   "metadata": {},
   "source": [
    "### if-else"
   ]
  },
  {
   "cell_type": "code",
   "execution_count": 49,
   "id": "celtic-trust",
   "metadata": {},
   "outputs": [
    {
     "name": "stdout",
     "output_type": "stream",
     "text": [
      "Please enter any number: 11\n",
      "Number is odd\n"
     ]
    }
   ],
   "source": [
    "num = float(input(\"Please enter any number: \"))\n",
    "if num % 2 == 0:\n",
    "    print(\"Number is even\")\n",
    "else:\n",
    "    print(\"Number is odd\")"
   ]
  },
  {
   "cell_type": "code",
   "execution_count": 52,
   "id": "individual-paraguay",
   "metadata": {},
   "outputs": [
    {
     "name": "stdout",
     "output_type": "stream",
     "text": [
      "Please enter any number: 5\n",
      "Number is odd\n"
     ]
    }
   ],
   "source": [
    "num = float(input(\"Please enter any number: \"))\n",
    "if num % 4 == 0:\n",
    "    print(\"Number is divisible by 4 and even\")\n",
    "elif num % 2 == 0:\n",
    "    print(\"Number is even\")\n",
    "else:\n",
    "    print(\"Number is odd\")"
   ]
  },
  {
   "cell_type": "code",
   "execution_count": 55,
   "id": "basic-outside",
   "metadata": {},
   "outputs": [
    {
     "name": "stdout",
     "output_type": "stream",
     "text": [
      "Please enter any number: 5\n",
      "Number is odd\n",
      "\n"
     ]
    }
   ],
   "source": [
    "num = float(input(\"Please enter any number: \"))\n",
    "if num % 2 == 0:\n",
    "    print(\"Number is even\")\n",
    "    if num % 4 == 0:\n",
    "        print(\"It is also divisible by 4\")\n",
    "else:\n",
    "    print(\"Number is odd\")\n",
    "print()"
   ]
  },
  {
   "cell_type": "code",
   "execution_count": 56,
   "id": "unique-aviation",
   "metadata": {
    "collapsed": true
   },
   "outputs": [
    {
     "name": "stdout",
     "output_type": "stream",
     "text": [
      "Please enter any number: 20\n",
      "Number is divisible by 4 and even\n",
      "Please enter any number: 10\n",
      "Number is even\n",
      "Please enter any number: 5\n",
      "Number is odd\n",
      "Please enter any number: 3\n",
      "Number is odd\n",
      "Please enter any number: 1\n",
      "Number is odd\n"
     ]
    }
   ],
   "source": [
    "i = 0\n",
    "while i < 5:\n",
    "    num = float(input(\"Please enter any number: \"))\n",
    "    if num % 4 == 0:\n",
    "        print(\"Number is divisible by 4 and even\")\n",
    "    elif num % 2 == 0:\n",
    "        print(\"Number is even\")\n",
    "    else:\n",
    "        print(\"Number is odd\")\n",
    "    i += 1"
   ]
  },
  {
   "cell_type": "code",
   "execution_count": 60,
   "id": "contemporary-scottish",
   "metadata": {},
   "outputs": [
    {
     "name": "stdout",
     "output_type": "stream",
     "text": [
      "Please enter any number: 32\n",
      "Number is divisible by 4 and even\n",
      "Do you want to try again? y/n: n\n",
      "Thank you!!\n"
     ]
    }
   ],
   "source": [
    "choice = 'y'\n",
    "while choice == 'y':\n",
    "    num = float(input(\"Please enter any number: \"))\n",
    "    if num % 4 == 0:\n",
    "        print(\"Number is divisible by 4 and even\")\n",
    "    elif num % 2 == 0:\n",
    "        print(\"Number is even\")\n",
    "    else:\n",
    "        print(\"Number is odd\")\n",
    "    choice = input(\"Do you want to try again? y/n: \")        \n",
    "else:\n",
    "    print(\"Thank you!!\")"
   ]
  },
  {
   "cell_type": "markdown",
   "id": "steady-invasion",
   "metadata": {},
   "source": [
    "### HW-1"
   ]
  },
  {
   "cell_type": "markdown",
   "id": "wrapped-smart",
   "metadata": {},
   "source": [
    "Write a python program for rock-paper-scissor game. Based on the following rules,\n",
    "\n",
    "    rock beats scissor\n",
    "    scissor beats paper\n",
    "    paper beats rock"
   ]
  },
  {
   "cell_type": "markdown",
   "id": "worse-grove",
   "metadata": {},
   "source": [
    "### string functions"
   ]
  },
  {
   "cell_type": "code",
   "execution_count": 61,
   "id": "brilliant-print",
   "metadata": {},
   "outputs": [],
   "source": [
    "animal = \"elephant\"\n",
    "statement = \"Write a python program for rock-paper-scissor game. Based on the following rules,\""
   ]
  },
  {
   "cell_type": "markdown",
   "id": "faced-vietnam",
   "metadata": {},
   "source": [
    "#### Slice and Dice"
   ]
  },
  {
   "cell_type": "code",
   "execution_count": 67,
   "id": "closing-musician",
   "metadata": {},
   "outputs": [
    {
     "name": "stdout",
     "output_type": "stream",
     "text": [
      "h\n",
      "hant\n",
      "elep\n",
      "8\n",
      "epha\n",
      "tnahpele\n"
     ]
    }
   ],
   "source": [
    "print(animal[4])\n",
    "print(animal[4:])\n",
    "print(animal[:4])\n",
    "print(len(animal))\n",
    "print(animal[2:6])\n",
    "print(animal[::-1])"
   ]
  },
  {
   "cell_type": "markdown",
   "id": "competitive-society",
   "metadata": {},
   "source": [
    "#### string methods"
   ]
  },
  {
   "cell_type": "code",
   "execution_count": 69,
   "id": "informed-curtis",
   "metadata": {},
   "outputs": [
    {
     "name": "stdout",
     "output_type": "stream",
     "text": [
      "('ELEPHANT', 'elephant', 'Write A Python Program For Rock-Paper-Scissor Game. Based On The Following Rules,', 'Elephant', 'wRITE A PYTHON PROGRAM FOR ROCK-PAPER-SCISSOR GAME. bASED ON THE FOLLOWING RULES,')\n"
     ]
    }
   ],
   "source": [
    "print((animal.upper(), animal.lower(), statement.title(), animal.capitalize(),\n",
    "       statement.swapcase()))"
   ]
  },
  {
   "cell_type": "code",
   "execution_count": 71,
   "id": "funny-formula",
   "metadata": {},
   "outputs": [
    {
     "name": "stdout",
     "output_type": "stream",
     "text": [
      "('~~~~~~elephant~~~~~~', 2, '001234')\n"
     ]
    }
   ],
   "source": [
    "print((animal.center(20, \"~\"), animal.count(\"e\"), \"1234\".zfill(6)))"
   ]
  },
  {
   "cell_type": "code",
   "execution_count": 72,
   "id": "purple-better",
   "metadata": {},
   "outputs": [
    {
     "name": "stdout",
     "output_type": "stream",
     "text": [
      "46 46\n"
     ]
    }
   ],
   "source": [
    "print(statement.find(\"game\"), statement.index(\"game\"))"
   ]
  },
  {
   "cell_type": "code",
   "execution_count": 73,
   "id": "instructional-modem",
   "metadata": {},
   "outputs": [
    {
     "name": "stdout",
     "output_type": "stream",
     "text": [
      "-1\n"
     ]
    }
   ],
   "source": [
    "print(statement.find(\"games\"))"
   ]
  },
  {
   "cell_type": "code",
   "execution_count": 75,
   "id": "seeing-concept",
   "metadata": {},
   "outputs": [
    {
     "ename": "ValueError",
     "evalue": "substring not found",
     "output_type": "error",
     "traceback": [
      "\u001b[0;31m---------------------------------------------------------------------------\u001b[0m",
      "\u001b[0;31mValueError\u001b[0m                                Traceback (most recent call last)",
      "\u001b[0;32m<ipython-input-75-891d72336add>\u001b[0m in \u001b[0;36m<module>\u001b[0;34m\u001b[0m\n\u001b[0;32m----> 1\u001b[0;31m \u001b[0mprint\u001b[0m\u001b[0;34m(\u001b[0m\u001b[0mstatement\u001b[0m\u001b[0;34m.\u001b[0m\u001b[0mindex\u001b[0m\u001b[0;34m(\u001b[0m\u001b[0;34m\"games\"\u001b[0m\u001b[0;34m)\u001b[0m\u001b[0;34m)\u001b[0m\u001b[0;34m\u001b[0m\u001b[0;34m\u001b[0m\u001b[0m\n\u001b[0m",
      "\u001b[0;31mValueError\u001b[0m: substring not found"
     ]
    }
   ],
   "source": [
    "print(statement.index(\"games\"))"
   ]
  },
  {
   "cell_type": "code",
   "execution_count": 77,
   "id": "potential-machinery",
   "metadata": {},
   "outputs": [
    {
     "name": "stdout",
     "output_type": "stream",
     "text": [
      "['Write a python program for rock-paper-scissor game', ' Based on the following rules,']\n"
     ]
    }
   ],
   "source": [
    "print(statement.split('.'))"
   ]
  },
  {
   "cell_type": "code",
   "execution_count": 78,
   "id": "foster-spell",
   "metadata": {},
   "outputs": [
    {
     "name": "stdout",
     "output_type": "stream",
     "text": [
      "Write a python program for rock-paper-scissor game. Based on the following rules,\n"
     ]
    }
   ],
   "source": [
    "print(\".\".join(statement.split('.')))"
   ]
  },
  {
   "cell_type": "code",
   "execution_count": 79,
   "id": "isolated-helicopter",
   "metadata": {},
   "outputs": [
    {
     "data": {
      "text/plain": [
       "True"
      ]
     },
     "execution_count": 79,
     "metadata": {},
     "output_type": "execute_result"
    }
   ],
   "source": [
    "animal.isalnum()"
   ]
  },
  {
   "cell_type": "code",
   "execution_count": 84,
   "id": "wicked-stretch",
   "metadata": {},
   "outputs": [
    {
     "data": {
      "text/plain": [
       "True"
      ]
     },
     "execution_count": 84,
     "metadata": {},
     "output_type": "execute_result"
    }
   ],
   "source": [
    "\"12\".isdigit()"
   ]
  },
  {
   "cell_type": "markdown",
   "id": "renewable-queensland",
   "metadata": {},
   "source": [
    "### list, tuple, dict"
   ]
  },
  {
   "cell_type": "markdown",
   "id": "similar-amplifier",
   "metadata": {},
   "source": [
    "#### list"
   ]
  },
  {
   "cell_type": "code",
   "execution_count": 85,
   "id": "rental-mounting",
   "metadata": {},
   "outputs": [],
   "source": [
    "L = []\n",
    "l = ['a','b','apple','papaya','cherry', 12,56,73, 3.14, 4,2]"
   ]
  },
  {
   "cell_type": "markdown",
   "id": "usual-wyoming",
   "metadata": {},
   "source": [
    "##### Slice and Dice"
   ]
  },
  {
   "cell_type": "code",
   "execution_count": 86,
   "id": "exposed-contract",
   "metadata": {},
   "outputs": [
    {
     "data": {
      "text/plain": [
       "'cherry'"
      ]
     },
     "execution_count": 86,
     "metadata": {},
     "output_type": "execute_result"
    }
   ],
   "source": [
    "l [4]"
   ]
  },
  {
   "cell_type": "code",
   "execution_count": 87,
   "id": "extended-evans",
   "metadata": {},
   "outputs": [],
   "source": [
    "l [4] = \"berry\""
   ]
  },
  {
   "cell_type": "code",
   "execution_count": 89,
   "id": "pediatric-japan",
   "metadata": {},
   "outputs": [
    {
     "name": "stdout",
     "output_type": "stream",
     "text": [
      "['a', 'b', 'apple', 'papaya', 'berry', 12, 56, 73, 3.14, 4, 2]\n"
     ]
    }
   ],
   "source": [
    "print(l)"
   ]
  },
  {
   "cell_type": "code",
   "execution_count": 90,
   "id": "front-drinking",
   "metadata": {},
   "outputs": [],
   "source": [
    "del l[1]"
   ]
  },
  {
   "cell_type": "code",
   "execution_count": 91,
   "id": "working-event",
   "metadata": {},
   "outputs": [
    {
     "name": "stdout",
     "output_type": "stream",
     "text": [
      "['a', 'apple', 'papaya', 'berry', 12, 56, 73, 3.14, 4, 2]\n"
     ]
    }
   ],
   "source": [
    "print(l)"
   ]
  },
  {
   "cell_type": "markdown",
   "id": "suspected-samuel",
   "metadata": {},
   "source": [
    "##### Methods"
   ]
  },
  {
   "cell_type": "code",
   "execution_count": 92,
   "id": "bound-gateway",
   "metadata": {},
   "outputs": [],
   "source": [
    "l.append(\"carrot\")"
   ]
  },
  {
   "cell_type": "code",
   "execution_count": 94,
   "id": "present-arizona",
   "metadata": {},
   "outputs": [],
   "source": [
    "l.insert(3,\"mango\")"
   ]
  },
  {
   "cell_type": "code",
   "execution_count": 95,
   "id": "given-cooling",
   "metadata": {},
   "outputs": [
    {
     "data": {
      "text/plain": [
       "['a', 'apple', 'papaya', 'mango', 'berry', 12, 56, 73, 3.14, 4, 2, 'carrot']"
      ]
     },
     "execution_count": 95,
     "metadata": {},
     "output_type": "execute_result"
    }
   ],
   "source": [
    "l"
   ]
  },
  {
   "cell_type": "code",
   "execution_count": 96,
   "id": "ideal-twist",
   "metadata": {},
   "outputs": [
    {
     "data": {
      "text/plain": [
       "'carrot'"
      ]
     },
     "execution_count": 96,
     "metadata": {},
     "output_type": "execute_result"
    }
   ],
   "source": [
    "l.pop()"
   ]
  },
  {
   "cell_type": "code",
   "execution_count": 97,
   "id": "favorite-keeping",
   "metadata": {},
   "outputs": [],
   "source": [
    "l.remove('a')"
   ]
  },
  {
   "cell_type": "code",
   "execution_count": 98,
   "id": "mysterious-voltage",
   "metadata": {},
   "outputs": [
    {
     "data": {
      "text/plain": [
       "['apple', 'papaya', 'mango', 'berry', 12, 56, 73, 3.14, 4, 2]"
      ]
     },
     "execution_count": 98,
     "metadata": {},
     "output_type": "execute_result"
    }
   ],
   "source": [
    "l"
   ]
  },
  {
   "cell_type": "code",
   "execution_count": 100,
   "id": "otherwise-express",
   "metadata": {},
   "outputs": [],
   "source": [
    "l.reverse()"
   ]
  },
  {
   "cell_type": "code",
   "execution_count": 102,
   "id": "afraid-laptop",
   "metadata": {},
   "outputs": [
    {
     "data": {
      "text/plain": [
       "['apple', 'papaya', 'mango', 'berry', 12, 56, 73, 3.14, 4, 2]"
      ]
     },
     "execution_count": 102,
     "metadata": {},
     "output_type": "execute_result"
    }
   ],
   "source": [
    "l[::-1]"
   ]
  },
  {
   "cell_type": "code",
   "execution_count": 103,
   "id": "better-onion",
   "metadata": {},
   "outputs": [
    {
     "data": {
      "text/plain": [
       "[2, 4, 3.14, 73, 56, 12, 'berry', 'mango', 'papaya', 'apple']"
      ]
     },
     "execution_count": 103,
     "metadata": {},
     "output_type": "execute_result"
    }
   ],
   "source": [
    "l"
   ]
  },
  {
   "cell_type": "code",
   "execution_count": 104,
   "id": "governing-india",
   "metadata": {},
   "outputs": [],
   "source": [
    "f = l "
   ]
  },
  {
   "cell_type": "code",
   "execution_count": 105,
   "id": "satisfied-bolivia",
   "metadata": {},
   "outputs": [
    {
     "data": {
      "text/plain": [
       "[2, 4, 3.14, 73, 56, 12, 'berry', 'mango', 'papaya', 'apple']"
      ]
     },
     "execution_count": 105,
     "metadata": {},
     "output_type": "execute_result"
    }
   ],
   "source": [
    "f"
   ]
  },
  {
   "cell_type": "code",
   "execution_count": 106,
   "id": "grave-guide",
   "metadata": {},
   "outputs": [],
   "source": [
    "f.remove(2)"
   ]
  },
  {
   "cell_type": "code",
   "execution_count": 107,
   "id": "golden-madonna",
   "metadata": {},
   "outputs": [
    {
     "data": {
      "text/plain": [
       "[4, 3.14, 73, 56, 12, 'berry', 'mango', 'papaya', 'apple']"
      ]
     },
     "execution_count": 107,
     "metadata": {},
     "output_type": "execute_result"
    }
   ],
   "source": [
    "f"
   ]
  },
  {
   "cell_type": "code",
   "execution_count": 108,
   "id": "numerous-activation",
   "metadata": {},
   "outputs": [
    {
     "data": {
      "text/plain": [
       "[4, 3.14, 73, 56, 12, 'berry', 'mango', 'papaya', 'apple']"
      ]
     },
     "execution_count": 108,
     "metadata": {},
     "output_type": "execute_result"
    }
   ],
   "source": [
    "l"
   ]
  },
  {
   "cell_type": "code",
   "execution_count": 109,
   "id": "subtle-backup",
   "metadata": {},
   "outputs": [],
   "source": [
    "g = l.copy()"
   ]
  },
  {
   "cell_type": "code",
   "execution_count": 112,
   "id": "revolutionary-breed",
   "metadata": {},
   "outputs": [],
   "source": [
    "g.remove(4)"
   ]
  },
  {
   "cell_type": "code",
   "execution_count": 113,
   "id": "hybrid-essence",
   "metadata": {},
   "outputs": [
    {
     "data": {
      "text/plain": [
       "[3.14, 73, 56, 12, 'berry', 'mango', 'papaya', 'apple']"
      ]
     },
     "execution_count": 113,
     "metadata": {},
     "output_type": "execute_result"
    }
   ],
   "source": [
    "g"
   ]
  },
  {
   "cell_type": "code",
   "execution_count": 114,
   "id": "varied-spouse",
   "metadata": {},
   "outputs": [
    {
     "data": {
      "text/plain": [
       "[4, 3.14, 73, 56, 12, 'berry', 'mango', 'papaya', 'apple']"
      ]
     },
     "execution_count": 114,
     "metadata": {},
     "output_type": "execute_result"
    }
   ],
   "source": [
    "l"
   ]
  },
  {
   "cell_type": "code",
   "execution_count": 115,
   "id": "limiting-wagner",
   "metadata": {},
   "outputs": [],
   "source": [
    "g.clear()"
   ]
  },
  {
   "cell_type": "code",
   "execution_count": 116,
   "id": "satellite-sunglasses",
   "metadata": {},
   "outputs": [
    {
     "data": {
      "text/plain": [
       "[]"
      ]
     },
     "execution_count": 116,
     "metadata": {},
     "output_type": "execute_result"
    }
   ],
   "source": [
    "g"
   ]
  },
  {
   "cell_type": "code",
   "execution_count": 117,
   "id": "classical-vermont",
   "metadata": {},
   "outputs": [
    {
     "data": {
      "text/plain": [
       "[]"
      ]
     },
     "execution_count": 117,
     "metadata": {},
     "output_type": "execute_result"
    }
   ],
   "source": [
    "L"
   ]
  },
  {
   "cell_type": "code",
   "execution_count": 118,
   "id": "present-surname",
   "metadata": {},
   "outputs": [],
   "source": [
    "L.extend(['berry', 'mango', 'papaya', 'apple'])"
   ]
  },
  {
   "cell_type": "code",
   "execution_count": 119,
   "id": "advisory-parade",
   "metadata": {},
   "outputs": [
    {
     "data": {
      "text/plain": [
       "['berry', 'mango', 'papaya', 'apple']"
      ]
     },
     "execution_count": 119,
     "metadata": {},
     "output_type": "execute_result"
    }
   ],
   "source": [
    "L"
   ]
  },
  {
   "cell_type": "code",
   "execution_count": 120,
   "id": "twelve-tulsa",
   "metadata": {},
   "outputs": [
    {
     "ename": "TypeError",
     "evalue": "'<' not supported between instances of 'str' and 'int'",
     "output_type": "error",
     "traceback": [
      "\u001b[0;31m---------------------------------------------------------------------------\u001b[0m",
      "\u001b[0;31mTypeError\u001b[0m                                 Traceback (most recent call last)",
      "\u001b[0;32m<ipython-input-120-fb07ac7c73ab>\u001b[0m in \u001b[0;36m<module>\u001b[0;34m\u001b[0m\n\u001b[0;32m----> 1\u001b[0;31m \u001b[0ml\u001b[0m\u001b[0;34m.\u001b[0m\u001b[0msort\u001b[0m\u001b[0;34m(\u001b[0m\u001b[0;34m)\u001b[0m\u001b[0;34m\u001b[0m\u001b[0;34m\u001b[0m\u001b[0m\n\u001b[0m",
      "\u001b[0;31mTypeError\u001b[0m: '<' not supported between instances of 'str' and 'int'"
     ]
    }
   ],
   "source": [
    "l.sort()"
   ]
  },
  {
   "cell_type": "code",
   "execution_count": 123,
   "id": "stable-component",
   "metadata": {},
   "outputs": [],
   "source": [
    "L.sort(reverse=True)"
   ]
  },
  {
   "cell_type": "code",
   "execution_count": 124,
   "id": "actual-colony",
   "metadata": {},
   "outputs": [
    {
     "data": {
      "text/plain": [
       "['papaya', 'mango', 'berry', 'apple']"
      ]
     },
     "execution_count": 124,
     "metadata": {},
     "output_type": "execute_result"
    }
   ],
   "source": [
    "L"
   ]
  },
  {
   "cell_type": "markdown",
   "id": "intelligent-candidate",
   "metadata": {},
   "source": [
    "#### Tuple"
   ]
  },
  {
   "cell_type": "code",
   "execution_count": 125,
   "id": "logical-sound",
   "metadata": {},
   "outputs": [],
   "source": [
    "t = ('papaya', 'mango', 'berry', 'apple')"
   ]
  },
  {
   "cell_type": "code",
   "execution_count": 127,
   "id": "northern-senegal",
   "metadata": {},
   "outputs": [
    {
     "data": {
      "text/plain": [
       "(tuple, list)"
      ]
     },
     "execution_count": 127,
     "metadata": {},
     "output_type": "execute_result"
    }
   ],
   "source": [
    "type(t), type(L)"
   ]
  },
  {
   "cell_type": "code",
   "execution_count": 129,
   "id": "guilty-japanese",
   "metadata": {},
   "outputs": [
    {
     "ename": "TypeError",
     "evalue": "'tuple' object doesn't support item deletion",
     "output_type": "error",
     "traceback": [
      "\u001b[0;31m---------------------------------------------------------------------------\u001b[0m",
      "\u001b[0;31mTypeError\u001b[0m                                 Traceback (most recent call last)",
      "\u001b[0;32m<ipython-input-129-542f9bb8f15e>\u001b[0m in \u001b[0;36m<module>\u001b[0;34m\u001b[0m\n\u001b[0;32m----> 1\u001b[0;31m \u001b[0;32mdel\u001b[0m \u001b[0mt\u001b[0m\u001b[0;34m[\u001b[0m\u001b[0;36m0\u001b[0m\u001b[0;34m]\u001b[0m\u001b[0;34m\u001b[0m\u001b[0;34m\u001b[0m\u001b[0m\n\u001b[0m",
      "\u001b[0;31mTypeError\u001b[0m: 'tuple' object doesn't support item deletion"
     ]
    }
   ],
   "source": [
    "del t[0]"
   ]
  },
  {
   "cell_type": "code",
   "execution_count": 130,
   "id": "antique-toolbox",
   "metadata": {},
   "outputs": [
    {
     "ename": "TypeError",
     "evalue": "'tuple' object does not support item assignment",
     "output_type": "error",
     "traceback": [
      "\u001b[0;31m---------------------------------------------------------------------------\u001b[0m",
      "\u001b[0;31mTypeError\u001b[0m                                 Traceback (most recent call last)",
      "\u001b[0;32m<ipython-input-130-0e4ade595b14>\u001b[0m in \u001b[0;36m<module>\u001b[0;34m\u001b[0m\n\u001b[0;32m----> 1\u001b[0;31m \u001b[0mt\u001b[0m\u001b[0;34m[\u001b[0m\u001b[0;36m0\u001b[0m\u001b[0;34m]\u001b[0m \u001b[0;34m=\u001b[0m \u001b[0;34m'abc'\u001b[0m\u001b[0;34m\u001b[0m\u001b[0;34m\u001b[0m\u001b[0m\n\u001b[0m",
      "\u001b[0;31mTypeError\u001b[0m: 'tuple' object does not support item assignment"
     ]
    }
   ],
   "source": [
    "t[0] = 'abc'"
   ]
  },
  {
   "cell_type": "markdown",
   "id": "emotional-vertex",
   "metadata": {},
   "source": [
    "#### Dictionary"
   ]
  },
  {
   "cell_type": "code",
   "execution_count": 131,
   "id": "inappropriate-background",
   "metadata": {},
   "outputs": [],
   "source": [
    "D = {}"
   ]
  },
  {
   "cell_type": "code",
   "execution_count": 132,
   "id": "south-meter",
   "metadata": {},
   "outputs": [],
   "source": [
    "d = {\"a\":\"apple\", \"b\":1234, 3.1:\"cat\", 12:54, \"t\":t,\"l\":l}"
   ]
  },
  {
   "cell_type": "code",
   "execution_count": 133,
   "id": "hairy-promise",
   "metadata": {},
   "outputs": [
    {
     "data": {
      "text/plain": [
       "{'a': 'apple',\n",
       " 'b': 1234,\n",
       " 3.1: 'cat',\n",
       " 12: 54,\n",
       " 't': ('papaya', 'mango', 'berry', 'apple'),\n",
       " 'l': [3.14, 4, 12, 56, 73, 'berry', 'mango', 'papaya', 'apple']}"
      ]
     },
     "execution_count": 133,
     "metadata": {},
     "output_type": "execute_result"
    }
   ],
   "source": [
    "d"
   ]
  },
  {
   "cell_type": "code",
   "execution_count": 134,
   "id": "concrete-chick",
   "metadata": {},
   "outputs": [
    {
     "data": {
      "text/plain": [
       "dict_keys(['a', 'b', 3.1, 12, 't', 'l'])"
      ]
     },
     "execution_count": 134,
     "metadata": {},
     "output_type": "execute_result"
    }
   ],
   "source": [
    "d.keys()"
   ]
  },
  {
   "cell_type": "code",
   "execution_count": 135,
   "id": "aggressive-nature",
   "metadata": {},
   "outputs": [
    {
     "data": {
      "text/plain": [
       "dict_values(['apple', 1234, 'cat', 54, ('papaya', 'mango', 'berry', 'apple'), [3.14, 4, 12, 56, 73, 'berry', 'mango', 'papaya', 'apple']])"
      ]
     },
     "execution_count": 135,
     "metadata": {},
     "output_type": "execute_result"
    }
   ],
   "source": [
    "d.values()"
   ]
  },
  {
   "cell_type": "code",
   "execution_count": 136,
   "id": "successful-husband",
   "metadata": {},
   "outputs": [],
   "source": [
    "d['f'] = \"fish\""
   ]
  },
  {
   "cell_type": "code",
   "execution_count": 137,
   "id": "colonial-price",
   "metadata": {},
   "outputs": [
    {
     "data": {
      "text/plain": [
       "{'a': 'apple',\n",
       " 'b': 1234,\n",
       " 3.1: 'cat',\n",
       " 12: 54,\n",
       " 't': ('papaya', 'mango', 'berry', 'apple'),\n",
       " 'l': [3.14, 4, 12, 56, 73, 'berry', 'mango', 'papaya', 'apple'],\n",
       " 'f': 'fish'}"
      ]
     },
     "execution_count": 137,
     "metadata": {},
     "output_type": "execute_result"
    }
   ],
   "source": [
    "d"
   ]
  },
  {
   "cell_type": "code",
   "execution_count": 138,
   "id": "prescribed-combination",
   "metadata": {},
   "outputs": [],
   "source": [
    "del d[12]"
   ]
  },
  {
   "cell_type": "code",
   "execution_count": 139,
   "id": "civic-ottawa",
   "metadata": {},
   "outputs": [
    {
     "data": {
      "text/plain": [
       "{'a': 'apple',\n",
       " 'b': 1234,\n",
       " 3.1: 'cat',\n",
       " 't': ('papaya', 'mango', 'berry', 'apple'),\n",
       " 'l': [3.14, 4, 12, 56, 73, 'berry', 'mango', 'papaya', 'apple'],\n",
       " 'f': 'fish'}"
      ]
     },
     "execution_count": 139,
     "metadata": {},
     "output_type": "execute_result"
    }
   ],
   "source": [
    "d"
   ]
  },
  {
   "cell_type": "code",
   "execution_count": 140,
   "id": "endangered-champion",
   "metadata": {},
   "outputs": [
    {
     "data": {
      "text/plain": [
       "dict_items([('a', 'apple'), ('b', 1234), (3.1, 'cat'), ('t', ('papaya', 'mango', 'berry', 'apple')), ('l', [3.14, 4, 12, 56, 73, 'berry', 'mango', 'papaya', 'apple']), ('f', 'fish')])"
      ]
     },
     "execution_count": 140,
     "metadata": {},
     "output_type": "execute_result"
    }
   ],
   "source": [
    "d.items()"
   ]
  },
  {
   "cell_type": "code",
   "execution_count": 142,
   "id": "recovered-reflection",
   "metadata": {},
   "outputs": [],
   "source": [
    "D.update(d)"
   ]
  },
  {
   "cell_type": "code",
   "execution_count": 143,
   "id": "distributed-continuity",
   "metadata": {},
   "outputs": [
    {
     "data": {
      "text/plain": [
       "{'a': 'apple',\n",
       " 'b': 1234,\n",
       " 3.1: 'cat',\n",
       " 't': ('papaya', 'mango', 'berry', 'apple'),\n",
       " 'l': [3.14, 4, 12, 56, 73, 'berry', 'mango', 'papaya', 'apple'],\n",
       " 'f': 'fish'}"
      ]
     },
     "execution_count": 143,
     "metadata": {},
     "output_type": "execute_result"
    }
   ],
   "source": [
    "D"
   ]
  },
  {
   "cell_type": "markdown",
   "id": "likely-dealing",
   "metadata": {},
   "source": [
    "### for loop"
   ]
  },
  {
   "cell_type": "code",
   "execution_count": 144,
   "id": "ideal-charleston",
   "metadata": {},
   "outputs": [
    {
     "name": "stdout",
     "output_type": "stream",
     "text": [
      "hi\n",
      "hi\n",
      "hi\n",
      "hi\n",
      "hi\n"
     ]
    }
   ],
   "source": [
    "for i in range(5):\n",
    "    print(\"hi\")"
   ]
  },
  {
   "cell_type": "code",
   "execution_count": 145,
   "id": "prime-aggregate",
   "metadata": {},
   "outputs": [
    {
     "name": "stdout",
     "output_type": "stream",
     "text": [
      "0\n",
      "1\n",
      "2\n",
      "3\n",
      "4\n"
     ]
    }
   ],
   "source": [
    "for i in range(5):\n",
    "    print(i)"
   ]
  },
  {
   "cell_type": "code",
   "execution_count": 146,
   "id": "accepting-perfume",
   "metadata": {},
   "outputs": [
    {
     "name": "stdout",
     "output_type": "stream",
     "text": [
      "10\n",
      "11\n",
      "12\n",
      "13\n",
      "14\n",
      "15\n",
      "16\n",
      "17\n",
      "18\n",
      "19\n"
     ]
    }
   ],
   "source": [
    "for i in range(10,20):\n",
    "    print(i)"
   ]
  },
  {
   "cell_type": "code",
   "execution_count": 147,
   "id": "naked-sound",
   "metadata": {},
   "outputs": [
    {
     "name": "stdout",
     "output_type": "stream",
     "text": [
      "hi\n",
      "hi\n",
      "hi\n",
      "hi\n",
      "hi\n"
     ]
    }
   ],
   "source": [
    "for _ in range(5):\n",
    "    print(\"hi\")"
   ]
  },
  {
   "cell_type": "code",
   "execution_count": 148,
   "id": "suspected-anatomy",
   "metadata": {},
   "outputs": [
    {
     "name": "stdout",
     "output_type": "stream",
     "text": [
      "e\n",
      "l\n",
      "e\n",
      "p\n",
      "h\n",
      "a\n",
      "n\n",
      "t\n"
     ]
    }
   ],
   "source": [
    "for ele in animal:\n",
    "    print(ele)"
   ]
  },
  {
   "cell_type": "code",
   "execution_count": 153,
   "id": "creative-custody",
   "metadata": {},
   "outputs": [
    {
     "name": "stdout",
     "output_type": "stream",
     "text": [
      "3.14 3.14\n",
      "4 4\n",
      "12 12\n",
      "56 56\n",
      "73 73\n"
     ]
    }
   ],
   "source": [
    "for i,j in zip(l,f[:5]):\n",
    "    print(i,j)"
   ]
  },
  {
   "cell_type": "code",
   "execution_count": 154,
   "id": "related-lyric",
   "metadata": {},
   "outputs": [
    {
     "name": "stdout",
     "output_type": "stream",
     "text": [
      "a\n",
      "b\n",
      "3.1\n",
      "t\n",
      "l\n",
      "f\n"
     ]
    }
   ],
   "source": [
    "for k in d.keys():\n",
    "    print(k)"
   ]
  },
  {
   "cell_type": "code",
   "execution_count": 155,
   "id": "killing-swift",
   "metadata": {},
   "outputs": [
    {
     "name": "stdout",
     "output_type": "stream",
     "text": [
      "apple\n",
      "1234\n",
      "cat\n",
      "('papaya', 'mango', 'berry', 'apple')\n",
      "[3.14, 4, 12, 56, 73, 'berry', 'mango', 'papaya', 'apple']\n",
      "fish\n"
     ]
    }
   ],
   "source": [
    "for v in d.values():\n",
    "    print(v)"
   ]
  },
  {
   "cell_type": "code",
   "execution_count": 156,
   "id": "stainless-ozone",
   "metadata": {},
   "outputs": [
    {
     "name": "stdout",
     "output_type": "stream",
     "text": [
      "a --> apple\n",
      "b --> 1234\n",
      "3.1 --> cat\n",
      "t --> ('papaya', 'mango', 'berry', 'apple')\n",
      "l --> [3.14, 4, 12, 56, 73, 'berry', 'mango', 'papaya', 'apple']\n",
      "f --> fish\n"
     ]
    }
   ],
   "source": [
    "for k,v in d.items():\n",
    "    print(k,\"-->\",v)"
   ]
  },
  {
   "cell_type": "code",
   "execution_count": 158,
   "id": "imperial-encoding",
   "metadata": {},
   "outputs": [
    {
     "name": "stdout",
     "output_type": "stream",
     "text": [
      "Please enter any number: 12\n",
      "Number is divisible by 4 and even\n",
      "Please enter any number: 34\n",
      "Number is even\n",
      "Please enter any number: 12\n",
      "Number is divisible by 4 and even\n",
      "Please enter any number: 233\n",
      "Number is odd\n",
      "Please enter any number: 43\n",
      "Number is odd\n",
      "Done\n"
     ]
    }
   ],
   "source": [
    "for _ in range(5):\n",
    "    num = float(input(\"Please enter any number: \"))\n",
    "    if num % 4 == 0:\n",
    "        print(\"Number is divisible by 4 and even\")\n",
    "    elif num % 2 == 0:\n",
    "        print(\"Number is even\")\n",
    "    else:\n",
    "        print(\"Number is odd\")"
   ]
  },
  {
   "cell_type": "code",
   "execution_count": null,
   "id": "proved-giant",
   "metadata": {},
   "outputs": [],
   "source": [
    "functions\n",
    "library handling \n",
    "error handling\n",
    "\n",
    "file handling \n",
    "visualisation\n",
    "\n",
    "Maths"
   ]
  }
 ],
 "metadata": {
  "kernelspec": {
   "display_name": "Python 3",
   "language": "python",
   "name": "python3"
  },
  "language_info": {
   "codemirror_mode": {
    "name": "ipython",
    "version": 3
   },
   "file_extension": ".py",
   "mimetype": "text/x-python",
   "name": "python",
   "nbconvert_exporter": "python",
   "pygments_lexer": "ipython3",
   "version": "3.6.8"
  },
  "nbTranslate": {
   "displayLangs": [
    "*"
   ],
   "hotkey": "alt-t",
   "langInMainMenu": true,
   "sourceLang": "en",
   "targetLang": "fr",
   "useGoogleTranslate": true
  },
  "toc": {
   "base_numbering": 1,
   "nav_menu": {},
   "number_sections": true,
   "sideBar": true,
   "skip_h1_title": false,
   "title_cell": "Table of Contents",
   "title_sidebar": "Contents",
   "toc_cell": false,
   "toc_position": {
    "height": "calc(100% - 180px)",
    "left": "10px",
    "top": "150px",
    "width": "192px"
   },
   "toc_section_display": true,
   "toc_window_display": false
  },
  "varInspector": {
   "cols": {
    "lenName": 16,
    "lenType": 16,
    "lenVar": 40
   },
   "kernels_config": {
    "python": {
     "delete_cmd_postfix": "",
     "delete_cmd_prefix": "del ",
     "library": "var_list.py",
     "varRefreshCmd": "print(var_dic_list())"
    },
    "r": {
     "delete_cmd_postfix": ") ",
     "delete_cmd_prefix": "rm(",
     "library": "var_list.r",
     "varRefreshCmd": "cat(var_dic_list()) "
    }
   },
   "types_to_exclude": [
    "module",
    "function",
    "builtin_function_or_method",
    "instance",
    "_Feature"
   ],
   "window_display": false
  }
 },
 "nbformat": 4,
 "nbformat_minor": 5
}
