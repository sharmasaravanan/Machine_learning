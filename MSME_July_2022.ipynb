{
 "cells": [
  {
   "cell_type": "markdown",
   "id": "joint-challenge",
   "metadata": {},
   "source": [
    "### Links"
   ]
  },
  {
   "cell_type": "markdown",
   "id": "rough-finance",
   "metadata": {},
   "source": [
    "* This notebook :- https://bit.ly/MSME_July_2022\n",
    "\n",
    "* String method :-https://www.tutorialspoint.com/python3/python_strings.htm\n",
    "\n",
    "* Built-in functions :- https://www.w3schools.com/python/python_ref_functions.asp\n",
    "* Exception :- https://www.tutorialspoint.com/python/python_exceptions.htm\n",
    "* Books :- http://bit.ly/AI_material\n",
    "* Exercise :- https://www.w3resource.com/python-exercises/\n",
    "* Inbuilt Libraries :- https://docs.python.org/3.6/py-modindex.html\n",
    "* cheatsheets :- http://bit.ly/AIcheatsheet\n"
   ]
  },
  {
   "cell_type": "markdown",
   "id": "beginning-orange",
   "metadata": {},
   "source": [
    "### Difference between C/C++ and python"
   ]
  },
  {
   "cell_type": "code",
   "execution_count": null,
   "id": "sharp-output",
   "metadata": {},
   "outputs": [],
   "source": [
    "#include <stdio.h>\n",
    "int main() {\n",
    "   printf(\"Hello, World!\");\n",
    "   return 0;\n",
    "}\n"
   ]
  },
  {
   "cell_type": "code",
   "execution_count": 3,
   "id": "ancient-booth",
   "metadata": {},
   "outputs": [
    {
     "name": "stdout",
     "output_type": "stream",
     "text": [
      "Hello, World!\n"
     ]
    }
   ],
   "source": [
    "print(\"Hello, World!\")"
   ]
  },
  {
   "cell_type": "markdown",
   "id": "related-graham",
   "metadata": {},
   "source": [
    "### Datatypes"
   ]
  },
  {
   "cell_type": "code",
   "execution_count": 5,
   "id": "varying-escape",
   "metadata": {},
   "outputs": [],
   "source": [
    "a = 5 # int\n",
    "b = 3.14 # float\n",
    "c = \"apple\" # string\n",
    "d = False # bool"
   ]
  },
  {
   "cell_type": "code",
   "execution_count": 8,
   "id": "convenient-fluid",
   "metadata": {},
   "outputs": [
    {
     "name": "stdout",
     "output_type": "stream",
     "text": [
      "<class 'int'>\n",
      "<class 'float'>\n",
      "<class 'str'>\n",
      "<class 'bool'>\n"
     ]
    }
   ],
   "source": [
    "print(type(a))\n",
    "print(type(b))\n",
    "print(type(c))\n",
    "print(type(d))"
   ]
  },
  {
   "cell_type": "markdown",
   "id": "superb-chaos",
   "metadata": {},
   "source": [
    "### Variables"
   ]
  },
  {
   "cell_type": "markdown",
   "id": "billion-geology",
   "metadata": {},
   "source": [
    "Dont's\n",
    "\n",
    "    1. Int as variable\n",
    "    2. Case sensitive"
   ]
  },
  {
   "cell_type": "markdown",
   "id": "sublime-complexity",
   "metadata": {},
   "source": [
    "cutomerName, customer_name, name1, _name, "
   ]
  },
  {
   "cell_type": "markdown",
   "id": "raising-bishop",
   "metadata": {},
   "source": [
    "### print function"
   ]
  },
  {
   "cell_type": "code",
   "execution_count": 18,
   "id": "welsh-vaccine",
   "metadata": {},
   "outputs": [
    {
     "name": "stdout",
     "output_type": "stream",
     "text": [
      "apple\n",
      "5\n",
      "3.14 apple\n"
     ]
    }
   ],
   "source": [
    "print(\"apple\")\n",
    "print(a)\n",
    "print(b,c)"
   ]
  },
  {
   "cell_type": "code",
   "execution_count": 23,
   "id": "satellite-butler",
   "metadata": {
    "collapsed": true
   },
   "outputs": [
    {
     "name": "stdout",
     "output_type": "stream",
     "text": [
      "Method-1\n",
      "hello 5\n",
      "hello apple\n",
      "-------------\n",
      "Method-2\n",
      "hello 5\n",
      "hello apple\n",
      "-------------\n",
      "Method-3\n",
      "hello 5\n",
      "hello apple\n",
      "-------------\n",
      "Method-4\n",
      "hello 5\n",
      "hello apple\n"
     ]
    }
   ],
   "source": [
    "# hello 5\n",
    "# hello apple\n",
    "\n",
    "print(\"Method-1\")\n",
    "print(\"hello\",a)\n",
    "print(\"hello\",c)\n",
    "\n",
    "print(\"-------------\")\n",
    "print(\"Method-2\")\n",
    "print(\"hello \"+ str(a))\n",
    "print(\"hello \"+ c)\n",
    "\n",
    "print(\"-------------\")\n",
    "print(\"Method-3\")\n",
    "print(\"hello %d\"%a)\n",
    "print(\"hello %s\"%c)\n",
    "\n",
    "print(\"-------------\")\n",
    "print(\"Method-4\")\n",
    "print(\"hello {}\".format(a))\n",
    "print(\"hello {}\".format(c))"
   ]
  },
  {
   "cell_type": "code",
   "execution_count": 24,
   "id": "earlier-prevention",
   "metadata": {
    "collapsed": true
   },
   "outputs": [
    {
     "name": "stdout",
     "output_type": "stream",
     "text": [
      "hello 5 apple\n",
      "hello 5 apple\n"
     ]
    }
   ],
   "source": [
    "print(\"hello %d %s\"%(a,c))\n",
    "\n",
    "print(\"hello {} {}\".format(a, c))\n"
   ]
  },
  {
   "cell_type": "markdown",
   "id": "generic-competition",
   "metadata": {},
   "source": [
    "### Typecasting"
   ]
  },
  {
   "cell_type": "code",
   "execution_count": 30,
   "id": "collect-sarah",
   "metadata": {},
   "outputs": [
    {
     "name": "stdout",
     "output_type": "stream",
     "text": [
      "<class 'str'>\n",
      "<class 'int'> <class 'str'>\n",
      "5.0\n",
      "3\n"
     ]
    }
   ],
   "source": [
    "# int to str\n",
    "print(type(str(50)))\n",
    "\n",
    "# str to int\n",
    "print(type(int('50')), type('50'))\n",
    "\n",
    "# int to float\n",
    "print(float(5))\n",
    "\n",
    "# float to int\n",
    "print(int(3.14))"
   ]
  },
  {
   "cell_type": "markdown",
   "id": "contrary-coverage",
   "metadata": {},
   "source": [
    "### Task-1"
   ]
  },
  {
   "cell_type": "code",
   "execution_count": 31,
   "id": "wrapped-blast",
   "metadata": {
    "solution2": "hidden",
    "solution2_first": true
   },
   "outputs": [],
   "source": [
    "# I bought 2kgs of orange for 125.45Rs\n",
    "w = 2\n",
    "f = 'orange'\n",
    "p = 125.45"
   ]
  },
  {
   "cell_type": "code",
   "execution_count": 38,
   "id": "corrected-movement",
   "metadata": {
    "solution2": "hidden"
   },
   "outputs": [
    {
     "name": "stdout",
     "output_type": "stream",
     "text": [
      "I bought 2 kgs of orange for 125.45 Rs\n",
      "I bought 2kgs of orange for 125.45Rs\n",
      "I bought 2kgs of orange for 125.45Rs\n",
      "I bought 2kgs of orange for 125.45Rs\n"
     ]
    }
   ],
   "source": [
    "print(\"I bought\",w,\"kgs of\",f,\"for\",p,\"Rs\")\n",
    "print(\"I bought \"+str(w)+\"kgs of \"+f+\" for \"+ str(p)+\"Rs\")\n",
    "print(\"I bought %dkgs of %s for %0.2fRs\"%(w,f,p))\n",
    "print(\"I bought {}kgs of {} for {}Rs\".format(w,f,p))"
   ]
  },
  {
   "cell_type": "markdown",
   "id": "searching-transsexual",
   "metadata": {},
   "source": [
    "### input function (Getting input from the user)"
   ]
  },
  {
   "cell_type": "code",
   "execution_count": 42,
   "id": "third-compression",
   "metadata": {},
   "outputs": [
    {
     "name": "stdout",
     "output_type": "stream",
     "text": [
      "Please enter the name: abcd\n",
      "please enter the age: 12.45\n"
     ]
    }
   ],
   "source": [
    "name = input(\"Please enter the name: \")\n",
    "age = input(\"please enter the age: \")"
   ]
  },
  {
   "cell_type": "code",
   "execution_count": 43,
   "id": "killing-impact",
   "metadata": {},
   "outputs": [
    {
     "name": "stdout",
     "output_type": "stream",
     "text": [
      "abcd 12.45\n"
     ]
    }
   ],
   "source": [
    "print(name, age)"
   ]
  },
  {
   "cell_type": "code",
   "execution_count": 44,
   "id": "executive-theta",
   "metadata": {},
   "outputs": [
    {
     "name": "stdout",
     "output_type": "stream",
     "text": [
      "<class 'str'> <class 'str'>\n"
     ]
    }
   ],
   "source": [
    "print(type(name), type(age))"
   ]
  },
  {
   "cell_type": "markdown",
   "id": "conceptual-parcel",
   "metadata": {},
   "source": [
    "### if-else"
   ]
  },
  {
   "cell_type": "code",
   "execution_count": 49,
   "id": "cooperative-seller",
   "metadata": {},
   "outputs": [
    {
     "name": "stdout",
     "output_type": "stream",
     "text": [
      "Please enter any number: 11\n",
      "Number is odd\n"
     ]
    }
   ],
   "source": [
    "num = float(input(\"Please enter any number: \"))\n",
    "if num % 2 == 0:\n",
    "    print(\"Number is even\")\n",
    "else:\n",
    "    print(\"Number is odd\")"
   ]
  },
  {
   "cell_type": "code",
   "execution_count": 52,
   "id": "distinct-windsor",
   "metadata": {},
   "outputs": [
    {
     "name": "stdout",
     "output_type": "stream",
     "text": [
      "Please enter any number: 5\n",
      "Number is odd\n"
     ]
    }
   ],
   "source": [
    "num = float(input(\"Please enter any number: \"))\n",
    "if num % 4 == 0:\n",
    "    print(\"Number is divisible by 4 and even\")\n",
    "elif num % 2 == 0:\n",
    "    print(\"Number is even\")\n",
    "else:\n",
    "    print(\"Number is odd\")"
   ]
  },
  {
   "cell_type": "code",
   "execution_count": 55,
   "id": "naughty-affiliation",
   "metadata": {},
   "outputs": [
    {
     "name": "stdout",
     "output_type": "stream",
     "text": [
      "Please enter any number: 5\n",
      "Number is odd\n",
      "\n"
     ]
    }
   ],
   "source": [
    "num = float(input(\"Please enter any number: \"))\n",
    "if num % 2 == 0:\n",
    "    print(\"Number is even\")\n",
    "    if num % 4 == 0:\n",
    "        print(\"It is also divisible by 4\")\n",
    "else:\n",
    "    print(\"Number is odd\")\n",
    "print()"
   ]
  },
  {
   "cell_type": "code",
   "execution_count": 56,
   "id": "arranged-accessory",
   "metadata": {
    "collapsed": true
   },
   "outputs": [
    {
     "name": "stdout",
     "output_type": "stream",
     "text": [
      "Please enter any number: 20\n",
      "Number is divisible by 4 and even\n",
      "Please enter any number: 10\n",
      "Number is even\n",
      "Please enter any number: 5\n",
      "Number is odd\n",
      "Please enter any number: 3\n",
      "Number is odd\n",
      "Please enter any number: 1\n",
      "Number is odd\n"
     ]
    }
   ],
   "source": [
    "i = 0\n",
    "while i < 5:\n",
    "    num = float(input(\"Please enter any number: \"))\n",
    "    if num % 4 == 0:\n",
    "        print(\"Number is divisible by 4 and even\")\n",
    "    elif num % 2 == 0:\n",
    "        print(\"Number is even\")\n",
    "    else:\n",
    "        print(\"Number is odd\")\n",
    "    i += 1"
   ]
  },
  {
   "cell_type": "code",
   "execution_count": 60,
   "id": "standard-medication",
   "metadata": {},
   "outputs": [
    {
     "name": "stdout",
     "output_type": "stream",
     "text": [
      "Please enter any number: 32\n",
      "Number is divisible by 4 and even\n",
      "Do you want to try again? y/n: n\n",
      "Thank you!!\n"
     ]
    }
   ],
   "source": [
    "choice = 'y'\n",
    "while choice == 'y':\n",
    "    num = float(input(\"Please enter any number: \"))\n",
    "    if num % 4 == 0:\n",
    "        print(\"Number is divisible by 4 and even\")\n",
    "    elif num % 2 == 0:\n",
    "        print(\"Number is even\")\n",
    "    else:\n",
    "        print(\"Number is odd\")\n",
    "    choice = input(\"Do you want to try again? y/n: \")        \n",
    "else:\n",
    "    print(\"Thank you!!\")"
   ]
  },
  {
   "cell_type": "markdown",
   "id": "stopped-pottery",
   "metadata": {},
   "source": [
    "### HW-1"
   ]
  },
  {
   "cell_type": "markdown",
   "id": "sporting-occasion",
   "metadata": {
    "solution2": "hidden",
    "solution2_first": true
   },
   "source": [
    "Write a python program for rock-paper-scissor game. Based on the following rules,\n",
    "\n",
    "    rock beats scissor\n",
    "    scissor beats paper\n",
    "    paper beats rock"
   ]
  },
  {
   "cell_type": "code",
   "execution_count": null,
   "id": "falling-option",
   "metadata": {
    "solution2": "hidden"
   },
   "outputs": [],
   "source": [
    "while True:\n",
    "    user = input(\"Enter your player-1 :\")\n",
    "    if user == \"quit\" or user == \"q\":\n",
    "        print(\"Good Bye....\")\n",
    "        break\n",
    "        \n",
    "    comp = input(\"Enter your player-2 :\")\n",
    "    if comp == \"quit\" or comp == \"q\":\n",
    "        print(\"Good Bye....\")\n",
    "        break\n",
    "        \n",
    "    print(\"player_1 choice is \", user, \"and player_2 choice is \", comp)\n",
    "    if user == comp:\n",
    "        print(\"Game is tie\")\n",
    "        continue\n",
    "    elif user == \"rock\":\n",
    "        if comp == \"scissor\":\n",
    "            print(\"user won the game\")\n",
    "        else:\n",
    "            print(\"Computer won the game\")\n",
    "    elif user == \"scissor\":\n",
    "        if comp==\"paper\":\n",
    "            print (\"user won the game\")\n",
    "        else:\n",
    "            print (\"computer won the game\")\n",
    "    elif user==\"paper\":\n",
    "        if comp==\"rock\":\n",
    "            print (\"user won the game\")\n",
    "        else:\n",
    "            print (\"computer won the game\")\n",
    "    else:\n",
    "        print (\"Have a nice day....!!!\")\n"
   ]
  },
  {
   "cell_type": "markdown",
   "id": "stunning-uncle",
   "metadata": {},
   "source": [
    "### string functions"
   ]
  },
  {
   "cell_type": "code",
   "execution_count": 61,
   "id": "excellent-restaurant",
   "metadata": {},
   "outputs": [],
   "source": [
    "animal = \"elephant\"\n",
    "statement = \"Write a python program for rock-paper-scissor game. Based on the following rules,\""
   ]
  },
  {
   "cell_type": "markdown",
   "id": "comfortable-passing",
   "metadata": {},
   "source": [
    "#### Slice and Dice"
   ]
  },
  {
   "cell_type": "code",
   "execution_count": 67,
   "id": "under-input",
   "metadata": {},
   "outputs": [
    {
     "name": "stdout",
     "output_type": "stream",
     "text": [
      "h\n",
      "hant\n",
      "elep\n",
      "8\n",
      "epha\n",
      "tnahpele\n"
     ]
    }
   ],
   "source": [
    "print(animal[4])\n",
    "print(animal[4:])\n",
    "print(animal[:4])\n",
    "print(len(animal))\n",
    "print(animal[2:6])\n",
    "print(animal[::-1])"
   ]
  },
  {
   "cell_type": "markdown",
   "id": "million-advance",
   "metadata": {},
   "source": [
    "#### string methods"
   ]
  },
  {
   "cell_type": "code",
   "execution_count": 69,
   "id": "needed-delicious",
   "metadata": {},
   "outputs": [
    {
     "name": "stdout",
     "output_type": "stream",
     "text": [
      "('ELEPHANT', 'elephant', 'Write A Python Program For Rock-Paper-Scissor Game. Based On The Following Rules,', 'Elephant', 'wRITE A PYTHON PROGRAM FOR ROCK-PAPER-SCISSOR GAME. bASED ON THE FOLLOWING RULES,')\n"
     ]
    }
   ],
   "source": [
    "print((animal.upper(), animal.lower(), statement.title(), animal.capitalize(),\n",
    "       statement.swapcase()))"
   ]
  },
  {
   "cell_type": "code",
   "execution_count": 71,
   "id": "considerable-protection",
   "metadata": {},
   "outputs": [
    {
     "name": "stdout",
     "output_type": "stream",
     "text": [
      "('~~~~~~elephant~~~~~~', 2, '001234')\n"
     ]
    }
   ],
   "source": [
    "print((animal.center(20, \"~\"), animal.count(\"e\"), \"1234\".zfill(6)))"
   ]
  },
  {
   "cell_type": "code",
   "execution_count": 72,
   "id": "pursuant-shareware",
   "metadata": {},
   "outputs": [
    {
     "name": "stdout",
     "output_type": "stream",
     "text": [
      "46 46\n"
     ]
    }
   ],
   "source": [
    "print(statement.find(\"game\"), statement.index(\"game\"))"
   ]
  },
  {
   "cell_type": "code",
   "execution_count": 73,
   "id": "owned-debate",
   "metadata": {},
   "outputs": [
    {
     "name": "stdout",
     "output_type": "stream",
     "text": [
      "-1\n"
     ]
    }
   ],
   "source": [
    "print(statement.find(\"games\"))"
   ]
  },
  {
   "cell_type": "code",
   "execution_count": 75,
   "id": "centered-directive",
   "metadata": {},
   "outputs": [
    {
     "ename": "ValueError",
     "evalue": "substring not found",
     "output_type": "error",
     "traceback": [
      "\u001b[0;31m---------------------------------------------------------------------------\u001b[0m",
      "\u001b[0;31mValueError\u001b[0m                                Traceback (most recent call last)",
      "\u001b[0;32m<ipython-input-75-891d72336add>\u001b[0m in \u001b[0;36m<module>\u001b[0;34m\u001b[0m\n\u001b[0;32m----> 1\u001b[0;31m \u001b[0mprint\u001b[0m\u001b[0;34m(\u001b[0m\u001b[0mstatement\u001b[0m\u001b[0;34m.\u001b[0m\u001b[0mindex\u001b[0m\u001b[0;34m(\u001b[0m\u001b[0;34m\"games\"\u001b[0m\u001b[0;34m)\u001b[0m\u001b[0;34m)\u001b[0m\u001b[0;34m\u001b[0m\u001b[0;34m\u001b[0m\u001b[0m\n\u001b[0m",
      "\u001b[0;31mValueError\u001b[0m: substring not found"
     ]
    }
   ],
   "source": [
    "print(statement.index(\"games\"))"
   ]
  },
  {
   "cell_type": "code",
   "execution_count": 77,
   "id": "historic-relative",
   "metadata": {},
   "outputs": [
    {
     "name": "stdout",
     "output_type": "stream",
     "text": [
      "['Write a python program for rock-paper-scissor game', ' Based on the following rules,']\n"
     ]
    }
   ],
   "source": [
    "print(statement.split('.'))"
   ]
  },
  {
   "cell_type": "code",
   "execution_count": 78,
   "id": "polar-cookbook",
   "metadata": {},
   "outputs": [
    {
     "name": "stdout",
     "output_type": "stream",
     "text": [
      "Write a python program for rock-paper-scissor game. Based on the following rules,\n"
     ]
    }
   ],
   "source": [
    "print(\".\".join(statement.split('.')))"
   ]
  },
  {
   "cell_type": "code",
   "execution_count": 79,
   "id": "final-couple",
   "metadata": {},
   "outputs": [
    {
     "data": {
      "text/plain": [
       "True"
      ]
     },
     "execution_count": 79,
     "metadata": {},
     "output_type": "execute_result"
    }
   ],
   "source": [
    "animal.isalnum()"
   ]
  },
  {
   "cell_type": "code",
   "execution_count": 84,
   "id": "stock-former",
   "metadata": {},
   "outputs": [
    {
     "data": {
      "text/plain": [
       "True"
      ]
     },
     "execution_count": 84,
     "metadata": {},
     "output_type": "execute_result"
    }
   ],
   "source": [
    "\"12\".isdigit()"
   ]
  },
  {
   "cell_type": "markdown",
   "id": "casual-stocks",
   "metadata": {},
   "source": [
    "### list, tuple, dict"
   ]
  },
  {
   "cell_type": "markdown",
   "id": "cardiac-mason",
   "metadata": {},
   "source": [
    "#### list"
   ]
  },
  {
   "cell_type": "code",
   "execution_count": 85,
   "id": "fourth-sample",
   "metadata": {},
   "outputs": [],
   "source": [
    "L = []\n",
    "l = ['a','b','apple','papaya','cherry', 12,56,73, 3.14, 4,2]"
   ]
  },
  {
   "cell_type": "markdown",
   "id": "center-rating",
   "metadata": {},
   "source": [
    "##### Slice and Dice"
   ]
  },
  {
   "cell_type": "code",
   "execution_count": 86,
   "id": "behavioral-standing",
   "metadata": {},
   "outputs": [
    {
     "data": {
      "text/plain": [
       "'cherry'"
      ]
     },
     "execution_count": 86,
     "metadata": {},
     "output_type": "execute_result"
    }
   ],
   "source": [
    "l [4]"
   ]
  },
  {
   "cell_type": "code",
   "execution_count": 87,
   "id": "covered-divorce",
   "metadata": {},
   "outputs": [],
   "source": [
    "l [4] = \"berry\""
   ]
  },
  {
   "cell_type": "code",
   "execution_count": 89,
   "id": "secret-responsibility",
   "metadata": {},
   "outputs": [
    {
     "name": "stdout",
     "output_type": "stream",
     "text": [
      "['a', 'b', 'apple', 'papaya', 'berry', 12, 56, 73, 3.14, 4, 2]\n"
     ]
    }
   ],
   "source": [
    "print(l)"
   ]
  },
  {
   "cell_type": "code",
   "execution_count": 90,
   "id": "intensive-speed",
   "metadata": {},
   "outputs": [],
   "source": [
    "del l[1]"
   ]
  },
  {
   "cell_type": "code",
   "execution_count": 91,
   "id": "recent-september",
   "metadata": {},
   "outputs": [
    {
     "name": "stdout",
     "output_type": "stream",
     "text": [
      "['a', 'apple', 'papaya', 'berry', 12, 56, 73, 3.14, 4, 2]\n"
     ]
    }
   ],
   "source": [
    "print(l)"
   ]
  },
  {
   "cell_type": "markdown",
   "id": "freelance-product",
   "metadata": {},
   "source": [
    "##### Methods"
   ]
  },
  {
   "cell_type": "code",
   "execution_count": 92,
   "id": "sudden-tenant",
   "metadata": {},
   "outputs": [],
   "source": [
    "l.append(\"carrot\")"
   ]
  },
  {
   "cell_type": "code",
   "execution_count": 94,
   "id": "designed-organ",
   "metadata": {},
   "outputs": [],
   "source": [
    "l.insert(3,\"mango\")"
   ]
  },
  {
   "cell_type": "code",
   "execution_count": 95,
   "id": "anonymous-lesson",
   "metadata": {},
   "outputs": [
    {
     "data": {
      "text/plain": [
       "['a', 'apple', 'papaya', 'mango', 'berry', 12, 56, 73, 3.14, 4, 2, 'carrot']"
      ]
     },
     "execution_count": 95,
     "metadata": {},
     "output_type": "execute_result"
    }
   ],
   "source": [
    "l"
   ]
  },
  {
   "cell_type": "code",
   "execution_count": 96,
   "id": "satisfied-samoa",
   "metadata": {},
   "outputs": [
    {
     "data": {
      "text/plain": [
       "'carrot'"
      ]
     },
     "execution_count": 96,
     "metadata": {},
     "output_type": "execute_result"
    }
   ],
   "source": [
    "l.pop()"
   ]
  },
  {
   "cell_type": "code",
   "execution_count": 97,
   "id": "major-attack",
   "metadata": {},
   "outputs": [],
   "source": [
    "l.remove('a')"
   ]
  },
  {
   "cell_type": "code",
   "execution_count": 98,
   "id": "mathematical-kansas",
   "metadata": {},
   "outputs": [
    {
     "data": {
      "text/plain": [
       "['apple', 'papaya', 'mango', 'berry', 12, 56, 73, 3.14, 4, 2]"
      ]
     },
     "execution_count": 98,
     "metadata": {},
     "output_type": "execute_result"
    }
   ],
   "source": [
    "l"
   ]
  },
  {
   "cell_type": "code",
   "execution_count": 100,
   "id": "circular-recycling",
   "metadata": {},
   "outputs": [],
   "source": [
    "l.reverse()"
   ]
  },
  {
   "cell_type": "code",
   "execution_count": 102,
   "id": "lovely-external",
   "metadata": {},
   "outputs": [
    {
     "data": {
      "text/plain": [
       "['apple', 'papaya', 'mango', 'berry', 12, 56, 73, 3.14, 4, 2]"
      ]
     },
     "execution_count": 102,
     "metadata": {},
     "output_type": "execute_result"
    }
   ],
   "source": [
    "l[::-1]"
   ]
  },
  {
   "cell_type": "code",
   "execution_count": 103,
   "id": "convenient-modern",
   "metadata": {},
   "outputs": [
    {
     "data": {
      "text/plain": [
       "[2, 4, 3.14, 73, 56, 12, 'berry', 'mango', 'papaya', 'apple']"
      ]
     },
     "execution_count": 103,
     "metadata": {},
     "output_type": "execute_result"
    }
   ],
   "source": [
    "l"
   ]
  },
  {
   "cell_type": "code",
   "execution_count": 104,
   "id": "inside-uzbekistan",
   "metadata": {},
   "outputs": [],
   "source": [
    "f = l "
   ]
  },
  {
   "cell_type": "code",
   "execution_count": 105,
   "id": "english-interim",
   "metadata": {},
   "outputs": [
    {
     "data": {
      "text/plain": [
       "[2, 4, 3.14, 73, 56, 12, 'berry', 'mango', 'papaya', 'apple']"
      ]
     },
     "execution_count": 105,
     "metadata": {},
     "output_type": "execute_result"
    }
   ],
   "source": [
    "f"
   ]
  },
  {
   "cell_type": "code",
   "execution_count": 106,
   "id": "imperial-fetish",
   "metadata": {},
   "outputs": [],
   "source": [
    "f.remove(2)"
   ]
  },
  {
   "cell_type": "code",
   "execution_count": 107,
   "id": "undefined-winter",
   "metadata": {},
   "outputs": [
    {
     "data": {
      "text/plain": [
       "[4, 3.14, 73, 56, 12, 'berry', 'mango', 'papaya', 'apple']"
      ]
     },
     "execution_count": 107,
     "metadata": {},
     "output_type": "execute_result"
    }
   ],
   "source": [
    "f"
   ]
  },
  {
   "cell_type": "code",
   "execution_count": 108,
   "id": "bronze-carpet",
   "metadata": {},
   "outputs": [
    {
     "data": {
      "text/plain": [
       "[4, 3.14, 73, 56, 12, 'berry', 'mango', 'papaya', 'apple']"
      ]
     },
     "execution_count": 108,
     "metadata": {},
     "output_type": "execute_result"
    }
   ],
   "source": [
    "l"
   ]
  },
  {
   "cell_type": "code",
   "execution_count": 109,
   "id": "irish-fellow",
   "metadata": {},
   "outputs": [],
   "source": [
    "g = l.copy()"
   ]
  },
  {
   "cell_type": "code",
   "execution_count": 112,
   "id": "cordless-turkish",
   "metadata": {},
   "outputs": [],
   "source": [
    "g.remove(4)"
   ]
  },
  {
   "cell_type": "code",
   "execution_count": 113,
   "id": "pregnant-basketball",
   "metadata": {},
   "outputs": [
    {
     "data": {
      "text/plain": [
       "[3.14, 73, 56, 12, 'berry', 'mango', 'papaya', 'apple']"
      ]
     },
     "execution_count": 113,
     "metadata": {},
     "output_type": "execute_result"
    }
   ],
   "source": [
    "g"
   ]
  },
  {
   "cell_type": "code",
   "execution_count": 114,
   "id": "lightweight-wildlife",
   "metadata": {},
   "outputs": [
    {
     "data": {
      "text/plain": [
       "[4, 3.14, 73, 56, 12, 'berry', 'mango', 'papaya', 'apple']"
      ]
     },
     "execution_count": 114,
     "metadata": {},
     "output_type": "execute_result"
    }
   ],
   "source": [
    "l"
   ]
  },
  {
   "cell_type": "code",
   "execution_count": 115,
   "id": "aging-flood",
   "metadata": {},
   "outputs": [],
   "source": [
    "g.clear()"
   ]
  },
  {
   "cell_type": "code",
   "execution_count": 116,
   "id": "tropical-remove",
   "metadata": {},
   "outputs": [
    {
     "data": {
      "text/plain": [
       "[]"
      ]
     },
     "execution_count": 116,
     "metadata": {},
     "output_type": "execute_result"
    }
   ],
   "source": [
    "g"
   ]
  },
  {
   "cell_type": "code",
   "execution_count": 117,
   "id": "narrative-abuse",
   "metadata": {},
   "outputs": [
    {
     "data": {
      "text/plain": [
       "[]"
      ]
     },
     "execution_count": 117,
     "metadata": {},
     "output_type": "execute_result"
    }
   ],
   "source": [
    "L"
   ]
  },
  {
   "cell_type": "code",
   "execution_count": 118,
   "id": "restricted-furniture",
   "metadata": {},
   "outputs": [],
   "source": [
    "L.extend(['berry', 'mango', 'papaya', 'apple'])"
   ]
  },
  {
   "cell_type": "code",
   "execution_count": 119,
   "id": "little-hollow",
   "metadata": {},
   "outputs": [
    {
     "data": {
      "text/plain": [
       "['berry', 'mango', 'papaya', 'apple']"
      ]
     },
     "execution_count": 119,
     "metadata": {},
     "output_type": "execute_result"
    }
   ],
   "source": [
    "L"
   ]
  },
  {
   "cell_type": "code",
   "execution_count": 120,
   "id": "respective-madrid",
   "metadata": {},
   "outputs": [
    {
     "ename": "TypeError",
     "evalue": "'<' not supported between instances of 'str' and 'int'",
     "output_type": "error",
     "traceback": [
      "\u001b[0;31m---------------------------------------------------------------------------\u001b[0m",
      "\u001b[0;31mTypeError\u001b[0m                                 Traceback (most recent call last)",
      "\u001b[0;32m<ipython-input-120-fb07ac7c73ab>\u001b[0m in \u001b[0;36m<module>\u001b[0;34m\u001b[0m\n\u001b[0;32m----> 1\u001b[0;31m \u001b[0ml\u001b[0m\u001b[0;34m.\u001b[0m\u001b[0msort\u001b[0m\u001b[0;34m(\u001b[0m\u001b[0;34m)\u001b[0m\u001b[0;34m\u001b[0m\u001b[0;34m\u001b[0m\u001b[0m\n\u001b[0m",
      "\u001b[0;31mTypeError\u001b[0m: '<' not supported between instances of 'str' and 'int'"
     ]
    }
   ],
   "source": [
    "l.sort()"
   ]
  },
  {
   "cell_type": "code",
   "execution_count": 123,
   "id": "approximate-mexican",
   "metadata": {},
   "outputs": [],
   "source": [
    "L.sort(reverse=True)"
   ]
  },
  {
   "cell_type": "code",
   "execution_count": 124,
   "id": "interpreted-demand",
   "metadata": {},
   "outputs": [
    {
     "data": {
      "text/plain": [
       "['papaya', 'mango', 'berry', 'apple']"
      ]
     },
     "execution_count": 124,
     "metadata": {},
     "output_type": "execute_result"
    }
   ],
   "source": [
    "L"
   ]
  },
  {
   "cell_type": "markdown",
   "id": "altered-mentor",
   "metadata": {},
   "source": [
    "#### Tuple"
   ]
  },
  {
   "cell_type": "code",
   "execution_count": 125,
   "id": "demonstrated-sight",
   "metadata": {},
   "outputs": [],
   "source": [
    "t = ('papaya', 'mango', 'berry', 'apple')"
   ]
  },
  {
   "cell_type": "code",
   "execution_count": 127,
   "id": "wooden-firewall",
   "metadata": {},
   "outputs": [
    {
     "data": {
      "text/plain": [
       "(tuple, list)"
      ]
     },
     "execution_count": 127,
     "metadata": {},
     "output_type": "execute_result"
    }
   ],
   "source": [
    "type(t), type(L)"
   ]
  },
  {
   "cell_type": "code",
   "execution_count": 129,
   "id": "initial-exclusive",
   "metadata": {},
   "outputs": [
    {
     "ename": "TypeError",
     "evalue": "'tuple' object doesn't support item deletion",
     "output_type": "error",
     "traceback": [
      "\u001b[0;31m---------------------------------------------------------------------------\u001b[0m",
      "\u001b[0;31mTypeError\u001b[0m                                 Traceback (most recent call last)",
      "\u001b[0;32m<ipython-input-129-542f9bb8f15e>\u001b[0m in \u001b[0;36m<module>\u001b[0;34m\u001b[0m\n\u001b[0;32m----> 1\u001b[0;31m \u001b[0;32mdel\u001b[0m \u001b[0mt\u001b[0m\u001b[0;34m[\u001b[0m\u001b[0;36m0\u001b[0m\u001b[0;34m]\u001b[0m\u001b[0;34m\u001b[0m\u001b[0;34m\u001b[0m\u001b[0m\n\u001b[0m",
      "\u001b[0;31mTypeError\u001b[0m: 'tuple' object doesn't support item deletion"
     ]
    }
   ],
   "source": [
    "del t[0]"
   ]
  },
  {
   "cell_type": "code",
   "execution_count": 130,
   "id": "sapphire-culture",
   "metadata": {},
   "outputs": [
    {
     "ename": "TypeError",
     "evalue": "'tuple' object does not support item assignment",
     "output_type": "error",
     "traceback": [
      "\u001b[0;31m---------------------------------------------------------------------------\u001b[0m",
      "\u001b[0;31mTypeError\u001b[0m                                 Traceback (most recent call last)",
      "\u001b[0;32m<ipython-input-130-0e4ade595b14>\u001b[0m in \u001b[0;36m<module>\u001b[0;34m\u001b[0m\n\u001b[0;32m----> 1\u001b[0;31m \u001b[0mt\u001b[0m\u001b[0;34m[\u001b[0m\u001b[0;36m0\u001b[0m\u001b[0;34m]\u001b[0m \u001b[0;34m=\u001b[0m \u001b[0;34m'abc'\u001b[0m\u001b[0;34m\u001b[0m\u001b[0;34m\u001b[0m\u001b[0m\n\u001b[0m",
      "\u001b[0;31mTypeError\u001b[0m: 'tuple' object does not support item assignment"
     ]
    }
   ],
   "source": [
    "t[0] = 'abc'"
   ]
  },
  {
   "cell_type": "markdown",
   "id": "promising-rapid",
   "metadata": {},
   "source": [
    "#### Dictionary"
   ]
  },
  {
   "cell_type": "code",
   "execution_count": 131,
   "id": "dutch-boxing",
   "metadata": {},
   "outputs": [],
   "source": [
    "D = {}"
   ]
  },
  {
   "cell_type": "code",
   "execution_count": 132,
   "id": "continued-spotlight",
   "metadata": {},
   "outputs": [],
   "source": [
    "d = {\"a\":\"apple\", \"b\":1234, 3.1:\"cat\", 12:54, \"t\":t,\"l\":l}"
   ]
  },
  {
   "cell_type": "code",
   "execution_count": 133,
   "id": "motivated-gothic",
   "metadata": {},
   "outputs": [
    {
     "data": {
      "text/plain": [
       "{'a': 'apple',\n",
       " 'b': 1234,\n",
       " 3.1: 'cat',\n",
       " 12: 54,\n",
       " 't': ('papaya', 'mango', 'berry', 'apple'),\n",
       " 'l': [3.14, 4, 12, 56, 73, 'berry', 'mango', 'papaya', 'apple']}"
      ]
     },
     "execution_count": 133,
     "metadata": {},
     "output_type": "execute_result"
    }
   ],
   "source": [
    "d"
   ]
  },
  {
   "cell_type": "code",
   "execution_count": 134,
   "id": "global-course",
   "metadata": {},
   "outputs": [
    {
     "data": {
      "text/plain": [
       "dict_keys(['a', 'b', 3.1, 12, 't', 'l'])"
      ]
     },
     "execution_count": 134,
     "metadata": {},
     "output_type": "execute_result"
    }
   ],
   "source": [
    "d.keys()"
   ]
  },
  {
   "cell_type": "code",
   "execution_count": 135,
   "id": "stone-float",
   "metadata": {},
   "outputs": [
    {
     "data": {
      "text/plain": [
       "dict_values(['apple', 1234, 'cat', 54, ('papaya', 'mango', 'berry', 'apple'), [3.14, 4, 12, 56, 73, 'berry', 'mango', 'papaya', 'apple']])"
      ]
     },
     "execution_count": 135,
     "metadata": {},
     "output_type": "execute_result"
    }
   ],
   "source": [
    "d.values()"
   ]
  },
  {
   "cell_type": "code",
   "execution_count": 136,
   "id": "promotional-colombia",
   "metadata": {},
   "outputs": [],
   "source": [
    "d['f'] = \"fish\""
   ]
  },
  {
   "cell_type": "code",
   "execution_count": 137,
   "id": "julian-matter",
   "metadata": {},
   "outputs": [
    {
     "data": {
      "text/plain": [
       "{'a': 'apple',\n",
       " 'b': 1234,\n",
       " 3.1: 'cat',\n",
       " 12: 54,\n",
       " 't': ('papaya', 'mango', 'berry', 'apple'),\n",
       " 'l': [3.14, 4, 12, 56, 73, 'berry', 'mango', 'papaya', 'apple'],\n",
       " 'f': 'fish'}"
      ]
     },
     "execution_count": 137,
     "metadata": {},
     "output_type": "execute_result"
    }
   ],
   "source": [
    "d"
   ]
  },
  {
   "cell_type": "code",
   "execution_count": 138,
   "id": "viral-exposure",
   "metadata": {},
   "outputs": [],
   "source": [
    "del d[12]"
   ]
  },
  {
   "cell_type": "code",
   "execution_count": 139,
   "id": "heard-brighton",
   "metadata": {},
   "outputs": [
    {
     "data": {
      "text/plain": [
       "{'a': 'apple',\n",
       " 'b': 1234,\n",
       " 3.1: 'cat',\n",
       " 't': ('papaya', 'mango', 'berry', 'apple'),\n",
       " 'l': [3.14, 4, 12, 56, 73, 'berry', 'mango', 'papaya', 'apple'],\n",
       " 'f': 'fish'}"
      ]
     },
     "execution_count": 139,
     "metadata": {},
     "output_type": "execute_result"
    }
   ],
   "source": [
    "d"
   ]
  },
  {
   "cell_type": "code",
   "execution_count": 140,
   "id": "independent-reward",
   "metadata": {},
   "outputs": [
    {
     "data": {
      "text/plain": [
       "dict_items([('a', 'apple'), ('b', 1234), (3.1, 'cat'), ('t', ('papaya', 'mango', 'berry', 'apple')), ('l', [3.14, 4, 12, 56, 73, 'berry', 'mango', 'papaya', 'apple']), ('f', 'fish')])"
      ]
     },
     "execution_count": 140,
     "metadata": {},
     "output_type": "execute_result"
    }
   ],
   "source": [
    "d.items()"
   ]
  },
  {
   "cell_type": "code",
   "execution_count": 142,
   "id": "molecular-translator",
   "metadata": {},
   "outputs": [],
   "source": [
    "D.update(d)"
   ]
  },
  {
   "cell_type": "code",
   "execution_count": 143,
   "id": "greek-wings",
   "metadata": {},
   "outputs": [
    {
     "data": {
      "text/plain": [
       "{'a': 'apple',\n",
       " 'b': 1234,\n",
       " 3.1: 'cat',\n",
       " 't': ('papaya', 'mango', 'berry', 'apple'),\n",
       " 'l': [3.14, 4, 12, 56, 73, 'berry', 'mango', 'papaya', 'apple'],\n",
       " 'f': 'fish'}"
      ]
     },
     "execution_count": 143,
     "metadata": {},
     "output_type": "execute_result"
    }
   ],
   "source": [
    "D"
   ]
  },
  {
   "cell_type": "markdown",
   "id": "constant-stand",
   "metadata": {},
   "source": [
    "### for loop"
   ]
  },
  {
   "cell_type": "code",
   "execution_count": 144,
   "id": "circular-thesis",
   "metadata": {},
   "outputs": [
    {
     "name": "stdout",
     "output_type": "stream",
     "text": [
      "hi\n",
      "hi\n",
      "hi\n",
      "hi\n",
      "hi\n"
     ]
    }
   ],
   "source": [
    "for i in range(5):\n",
    "    print(\"hi\")"
   ]
  },
  {
   "cell_type": "code",
   "execution_count": 145,
   "id": "informative-offense",
   "metadata": {},
   "outputs": [
    {
     "name": "stdout",
     "output_type": "stream",
     "text": [
      "0\n",
      "1\n",
      "2\n",
      "3\n",
      "4\n"
     ]
    }
   ],
   "source": [
    "for i in range(5):\n",
    "    print(i)"
   ]
  },
  {
   "cell_type": "code",
   "execution_count": 146,
   "id": "northern-priority",
   "metadata": {},
   "outputs": [
    {
     "name": "stdout",
     "output_type": "stream",
     "text": [
      "10\n",
      "11\n",
      "12\n",
      "13\n",
      "14\n",
      "15\n",
      "16\n",
      "17\n",
      "18\n",
      "19\n"
     ]
    }
   ],
   "source": [
    "for i in range(10,20):\n",
    "    print(i)"
   ]
  },
  {
   "cell_type": "code",
   "execution_count": 147,
   "id": "fifteen-interpretation",
   "metadata": {},
   "outputs": [
    {
     "name": "stdout",
     "output_type": "stream",
     "text": [
      "hi\n",
      "hi\n",
      "hi\n",
      "hi\n",
      "hi\n"
     ]
    }
   ],
   "source": [
    "for _ in range(5):\n",
    "    print(\"hi\")"
   ]
  },
  {
   "cell_type": "code",
   "execution_count": 148,
   "id": "distributed-operation",
   "metadata": {},
   "outputs": [
    {
     "name": "stdout",
     "output_type": "stream",
     "text": [
      "e\n",
      "l\n",
      "e\n",
      "p\n",
      "h\n",
      "a\n",
      "n\n",
      "t\n"
     ]
    }
   ],
   "source": [
    "for ele in animal:\n",
    "    print(ele)"
   ]
  },
  {
   "cell_type": "code",
   "execution_count": 153,
   "id": "neutral-worker",
   "metadata": {},
   "outputs": [
    {
     "name": "stdout",
     "output_type": "stream",
     "text": [
      "3.14 3.14\n",
      "4 4\n",
      "12 12\n",
      "56 56\n",
      "73 73\n"
     ]
    }
   ],
   "source": [
    "for i,j in zip(l,f[:5]):\n",
    "    print(i,j)"
   ]
  },
  {
   "cell_type": "code",
   "execution_count": 154,
   "id": "cultural-identification",
   "metadata": {},
   "outputs": [
    {
     "name": "stdout",
     "output_type": "stream",
     "text": [
      "a\n",
      "b\n",
      "3.1\n",
      "t\n",
      "l\n",
      "f\n"
     ]
    }
   ],
   "source": [
    "for k in d.keys():\n",
    "    print(k)"
   ]
  },
  {
   "cell_type": "code",
   "execution_count": 155,
   "id": "broadband-ceremony",
   "metadata": {},
   "outputs": [
    {
     "name": "stdout",
     "output_type": "stream",
     "text": [
      "apple\n",
      "1234\n",
      "cat\n",
      "('papaya', 'mango', 'berry', 'apple')\n",
      "[3.14, 4, 12, 56, 73, 'berry', 'mango', 'papaya', 'apple']\n",
      "fish\n"
     ]
    }
   ],
   "source": [
    "for v in d.values():\n",
    "    print(v)"
   ]
  },
  {
   "cell_type": "code",
   "execution_count": 156,
   "id": "restricted-allah",
   "metadata": {},
   "outputs": [
    {
     "name": "stdout",
     "output_type": "stream",
     "text": [
      "a --> apple\n",
      "b --> 1234\n",
      "3.1 --> cat\n",
      "t --> ('papaya', 'mango', 'berry', 'apple')\n",
      "l --> [3.14, 4, 12, 56, 73, 'berry', 'mango', 'papaya', 'apple']\n",
      "f --> fish\n"
     ]
    }
   ],
   "source": [
    "for k,v in d.items():\n",
    "    print(k,\"-->\",v)"
   ]
  },
  {
   "cell_type": "code",
   "execution_count": 158,
   "id": "union-offer",
   "metadata": {},
   "outputs": [
    {
     "name": "stdout",
     "output_type": "stream",
     "text": [
      "Please enter any number: 12\n",
      "Number is divisible by 4 and even\n",
      "Please enter any number: 34\n",
      "Number is even\n",
      "Please enter any number: 12\n",
      "Number is divisible by 4 and even\n",
      "Please enter any number: 233\n",
      "Number is odd\n",
      "Please enter any number: 43\n",
      "Number is odd\n",
      "Done\n"
     ]
    }
   ],
   "source": [
    "for _ in range(5):\n",
    "    num = float(input(\"Please enter any number: \"))\n",
    "    if num % 4 == 0:\n",
    "        print(\"Number is divisible by 4 and even\")\n",
    "    elif num % 2 == 0:\n",
    "        print(\"Number is even\")\n",
    "    else:\n",
    "        print(\"Number is odd\")"
   ]
  },
  {
   "cell_type": "code",
   "execution_count": 159,
   "id": "invisible-framing",
   "metadata": {},
   "outputs": [
    {
     "data": {
      "text/plain": [
       "{'a': 'apple',\n",
       " 'b': 1234,\n",
       " 3.1: 'cat',\n",
       " 't': ('papaya', 'mango', 'berry', 'apple'),\n",
       " 'l': [3.14, 4, 12, 56, 73, 'berry', 'mango', 'papaya', 'apple'],\n",
       " 'f': 'fish'}"
      ]
     },
     "execution_count": 159,
     "metadata": {},
     "output_type": "execute_result"
    }
   ],
   "source": [
    "D"
   ]
  },
  {
   "cell_type": "code",
   "execution_count": 161,
   "id": "global-dating",
   "metadata": {},
   "outputs": [],
   "source": [
    "d1 = {\"j\":\"jack\", \"q\":\"quack\"}"
   ]
  },
  {
   "cell_type": "code",
   "execution_count": 162,
   "id": "subject-uncertainty",
   "metadata": {},
   "outputs": [],
   "source": [
    "D.update(d1)"
   ]
  },
  {
   "cell_type": "code",
   "execution_count": 163,
   "id": "complimentary-promise",
   "metadata": {},
   "outputs": [
    {
     "data": {
      "text/plain": [
       "{'a': 'apple',\n",
       " 'b': 1234,\n",
       " 3.1: 'cat',\n",
       " 't': ('papaya', 'mango', 'berry', 'apple'),\n",
       " 'l': [3.14, 4, 12, 56, 73, 'berry', 'mango', 'papaya', 'apple'],\n",
       " 'f': 'fish',\n",
       " 'j': 'jack',\n",
       " 'q': 'quack'}"
      ]
     },
     "execution_count": 163,
     "metadata": {},
     "output_type": "execute_result"
    }
   ],
   "source": [
    "D"
   ]
  },
  {
   "cell_type": "code",
   "execution_count": 166,
   "id": "smaller-brunei",
   "metadata": {},
   "outputs": [
    {
     "data": {
      "text/plain": [
       "[10, 11, 12, 13, 14, 15]"
      ]
     },
     "execution_count": 166,
     "metadata": {},
     "output_type": "execute_result"
    }
   ],
   "source": [
    "list(range(10,16))"
   ]
  },
  {
   "cell_type": "markdown",
   "id": "beautiful-experience",
   "metadata": {},
   "source": [
    "### Task-2"
   ]
  },
  {
   "cell_type": "markdown",
   "id": "cathedral-registration",
   "metadata": {
    "solution2": "hidden",
    "solution2_first": true
   },
   "source": [
    "1. there are two lists list1 and list2 with the elements [1,2,2,3,1,4,4,5,6,7,4] and [2,6,5,4,2,1,2,5,4,1]. Create a new list with the elements common in those two lists without duplicates.\n",
    "\n",
    "```\n",
    "list1 = [1,2,2,3,1,4,4,5,6,7,4]\n",
    "list2 = [2,6,5,4,2,1,2,5,4,1]\n",
    "print(list3) # [1,2,4,5,6]\n",
    "```\n"
   ]
  },
  {
   "cell_type": "code",
   "execution_count": 169,
   "id": "median-respondent",
   "metadata": {
    "solution2": "hidden"
   },
   "outputs": [
    {
     "name": "stdout",
     "output_type": "stream",
     "text": [
      "[1, 2, 4, 5, 6]\n",
      "[1, 2, 4, 5, 6]\n"
     ]
    }
   ],
   "source": [
    "list1 = [1,2,2,3,1,4,4,5,6,7,4]\n",
    "list2 = [2,6,5,4,2,1,2,5,4,1]\n",
    "list3 = []\n",
    "for j in list1:\n",
    "    if j in list2 and j not in list3:\n",
    "        list3.append(j)\n",
    "print(list3)\n",
    "\n",
    "list3 = set(list1) & set(list2)\n",
    "print(list(list3))"
   ]
  },
  {
   "cell_type": "markdown",
   "id": "acknowledged-demand",
   "metadata": {
    "solution2": "hidden",
    "solution2_first": true
   },
   "source": [
    "2. get two integer inputs from the user and find the prime numbers between them.\n",
    "\n",
    "```\n",
    "a = 10\n",
    "b = 20\n",
    "print(primeList) # [11,13,17,19]\n",
    "```"
   ]
  },
  {
   "cell_type": "code",
   "execution_count": 173,
   "id": "conditional-rainbow",
   "metadata": {
    "solution2": "hidden"
   },
   "outputs": [
    {
     "name": "stdout",
     "output_type": "stream",
     "text": [
      "11\n",
      "13\n",
      "17\n",
      "19\n",
      "11\n",
      "13\n",
      "17\n",
      "19\n"
     ]
    }
   ],
   "source": [
    "a = 10\n",
    "b = 20\n",
    "for i in range(a,b):\n",
    "    for j in range(2, int(i/2)):\n",
    "        if i % j == 0:\n",
    "            break\n",
    "    else:\n",
    "        print(i)\n",
    "        \n",
    "        \n",
    "for i in range(a,b):\n",
    "    flag = True\n",
    "    for j in range(2, int(i/2)):\n",
    "        if i % j == 0:\n",
    "            flag = False\n",
    "            break\n",
    "    if flag:\n",
    "        print(i)"
   ]
  },
  {
   "cell_type": "markdown",
   "id": "arabic-depth",
   "metadata": {},
   "source": [
    "### functions"
   ]
  },
  {
   "cell_type": "code",
   "execution_count": 174,
   "id": "smoking-chain",
   "metadata": {},
   "outputs": [],
   "source": [
    "def operation():\n",
    "    a = int(input(\"Enter for a: \"))\n",
    "    b = int(input(\"Enter for b: \"))\n",
    "    print(a+b , a-b, a*b)"
   ]
  },
  {
   "cell_type": "code",
   "execution_count": 175,
   "id": "settled-chocolate",
   "metadata": {
    "scrolled": false
   },
   "outputs": [
    {
     "name": "stdout",
     "output_type": "stream",
     "text": [
      "Enter for a: 23\n",
      "Enter for b: 32\n",
      "55 -9 736\n"
     ]
    }
   ],
   "source": [
    "operation()"
   ]
  },
  {
   "cell_type": "code",
   "execution_count": 176,
   "id": "geological-protocol",
   "metadata": {},
   "outputs": [],
   "source": [
    "def operation():\n",
    "    a = int(input(\"Enter for a: \"))\n",
    "    b = int(input(\"Enter for b: \"))\n",
    "    return a+b , a-b, a*b"
   ]
  },
  {
   "cell_type": "code",
   "execution_count": 177,
   "id": "gentle-friend",
   "metadata": {},
   "outputs": [
    {
     "name": "stdout",
     "output_type": "stream",
     "text": [
      "Enter for a: 4\n",
      "Enter for b: 5\n"
     ]
    }
   ],
   "source": [
    "answers = operation()"
   ]
  },
  {
   "cell_type": "code",
   "execution_count": 179,
   "id": "premier-spanish",
   "metadata": {},
   "outputs": [],
   "source": [
    "def operation(a,b):\n",
    "    return a+b , a-b, a*b"
   ]
  },
  {
   "cell_type": "code",
   "execution_count": 183,
   "id": "detailed-entrance",
   "metadata": {},
   "outputs": [],
   "source": [
    "answers = operation(10,4)"
   ]
  },
  {
   "cell_type": "code",
   "execution_count": 184,
   "id": "clinical-report",
   "metadata": {},
   "outputs": [],
   "source": [
    "def operation(b,a=6):\n",
    "    return a+b , a-b, a*b"
   ]
  },
  {
   "cell_type": "code",
   "execution_count": 187,
   "id": "oriental-banana",
   "metadata": {},
   "outputs": [],
   "source": [
    "answers = operation(10,20)"
   ]
  },
  {
   "cell_type": "code",
   "execution_count": 188,
   "id": "ongoing-conspiracy",
   "metadata": {},
   "outputs": [
    {
     "name": "stdout",
     "output_type": "stream",
     "text": [
      "(30, 10, 200)\n"
     ]
    }
   ],
   "source": [
    "print(answers)"
   ]
  },
  {
   "cell_type": "code",
   "execution_count": 189,
   "id": "atomic-briefs",
   "metadata": {},
   "outputs": [],
   "source": [
    "def isPrime(num):\n",
    "    for j in range(2, int(num/2)):\n",
    "        if num % j == 0:\n",
    "            return False\n",
    "    else:\n",
    "        return True"
   ]
  },
  {
   "cell_type": "code",
   "execution_count": 192,
   "id": "handled-warrior",
   "metadata": {},
   "outputs": [
    {
     "name": "stdout",
     "output_type": "stream",
     "text": [
      "11\n",
      "13\n",
      "17\n",
      "19\n"
     ]
    }
   ],
   "source": [
    "a,b = 10,20\n",
    "for i in range(a,b):\n",
    "    if isPrime(i):\n",
    "        print(i)"
   ]
  },
  {
   "cell_type": "code",
   "execution_count": 195,
   "id": "checked-qatar",
   "metadata": {},
   "outputs": [],
   "source": [
    "def isPrime(num):\n",
    "    for j in range(2, int(num/2)):\n",
    "        if num % j == 0:\n",
    "            return None\n",
    "    else:\n",
    "        return num"
   ]
  },
  {
   "cell_type": "code",
   "execution_count": 198,
   "id": "synthetic-tucson",
   "metadata": {},
   "outputs": [
    {
     "data": {
      "text/plain": [
       "[None, 11, None, 13, None, None, None, 17, None, 19]"
      ]
     },
     "execution_count": 198,
     "metadata": {},
     "output_type": "execute_result"
    }
   ],
   "source": [
    "list(map(isPrime, range(a,b)))"
   ]
  },
  {
   "cell_type": "code",
   "execution_count": 199,
   "id": "brazilian-medium",
   "metadata": {
    "scrolled": true
   },
   "outputs": [
    {
     "data": {
      "text/plain": [
       "[11, 13, 17, 19]"
      ]
     },
     "execution_count": 199,
     "metadata": {},
     "output_type": "execute_result"
    }
   ],
   "source": [
    "list(filter(None, map(isPrime, range(a,b))))"
   ]
  },
  {
   "cell_type": "code",
   "execution_count": 200,
   "id": "executed-flavor",
   "metadata": {},
   "outputs": [],
   "source": [
    "name = None"
   ]
  },
  {
   "cell_type": "code",
   "execution_count": 203,
   "id": "impressive-oklahoma",
   "metadata": {},
   "outputs": [],
   "source": [
    "if name:\n",
    "    print(name)"
   ]
  },
  {
   "cell_type": "code",
   "execution_count": 204,
   "id": "demanding-rescue",
   "metadata": {},
   "outputs": [],
   "source": [
    "def isPrime(num):\n",
    "    for j in range(2, int(num/2)):\n",
    "        if num % j == 0:\n",
    "            return False\n",
    "    else:\n",
    "        return True"
   ]
  },
  {
   "cell_type": "code",
   "execution_count": 205,
   "id": "unnecessary-apparel",
   "metadata": {},
   "outputs": [],
   "source": [
    "def check(primeFunc, num):\n",
    "    if primeFunc(num):\n",
    "        print(\"It's a prime number:\", num)\n",
    "    else:\n",
    "        print(\"It's not a prime number:\", num)"
   ]
  },
  {
   "cell_type": "code",
   "execution_count": 209,
   "id": "understanding-myrtle",
   "metadata": {},
   "outputs": [
    {
     "name": "stdout",
     "output_type": "stream",
     "text": [
      "It's not a prime number: 10\n"
     ]
    }
   ],
   "source": [
    "check(isPrime, 10)"
   ]
  },
  {
   "cell_type": "code",
   "execution_count": 210,
   "id": "optional-taylor",
   "metadata": {},
   "outputs": [
    {
     "data": {
      "text/plain": [
       "[1, 2, 2, 3, 1, 4, 4, 5, 6, 7, 4]"
      ]
     },
     "execution_count": 210,
     "metadata": {},
     "output_type": "execute_result"
    }
   ],
   "source": [
    "list1"
   ]
  },
  {
   "cell_type": "code",
   "execution_count": 214,
   "id": "supposed-whole",
   "metadata": {},
   "outputs": [
    {
     "data": {
      "text/plain": [
       "{1: 'default',\n",
       " 2: 'default',\n",
       " 3: 'default',\n",
       " 4: 'default',\n",
       " 5: 'default',\n",
       " 6: 'default',\n",
       " 7: 'default'}"
      ]
     },
     "execution_count": 214,
     "metadata": {},
     "output_type": "execute_result"
    }
   ],
   "source": [
    "dict.fromkeys(list1,\"default\")"
   ]
  },
  {
   "cell_type": "code",
   "execution_count": 212,
   "id": "arctic-exercise",
   "metadata": {},
   "outputs": [
    {
     "data": {
      "text/plain": [
       "dict_keys([1, 2, 3, 4, 5, 6, 7])"
      ]
     },
     "execution_count": 212,
     "metadata": {},
     "output_type": "execute_result"
    }
   ],
   "source": [
    "dict.fromkeys(list1).keys()"
   ]
  },
  {
   "cell_type": "markdown",
   "id": "integrated-webster",
   "metadata": {},
   "source": [
    "### error handling"
   ]
  },
  {
   "cell_type": "code",
   "execution_count": 221,
   "id": "labeled-commissioner",
   "metadata": {},
   "outputs": [
    {
     "ename": "NameError",
     "evalue": "name 'x' is not defined",
     "output_type": "error",
     "traceback": [
      "\u001b[0;31m---------------------------------------------------------------------------\u001b[0m",
      "\u001b[0;31mNameError\u001b[0m                                 Traceback (most recent call last)",
      "\u001b[0;32m<ipython-input-221-e2d3c3be0019>\u001b[0m in \u001b[0;36m<module>\u001b[0;34m\u001b[0m\n\u001b[0;32m----> 1\u001b[0;31m \u001b[0mprint\u001b[0m\u001b[0;34m(\u001b[0m\u001b[0mx\u001b[0m\u001b[0;34m)\u001b[0m\u001b[0;34m\u001b[0m\u001b[0;34m\u001b[0m\u001b[0m\n\u001b[0m\u001b[1;32m      2\u001b[0m \u001b[0mprint\u001b[0m\u001b[0;34m(\u001b[0m\u001b[0;34m\"hello world!!!\"\u001b[0m\u001b[0;34m)\u001b[0m\u001b[0;34m\u001b[0m\u001b[0;34m\u001b[0m\u001b[0m\n",
      "\u001b[0;31mNameError\u001b[0m: name 'x' is not defined"
     ]
    }
   ],
   "source": [
    "print(x)\n",
    "print(\"hello world!!!\")"
   ]
  },
  {
   "cell_type": "code",
   "execution_count": 220,
   "id": "spatial-investigator",
   "metadata": {},
   "outputs": [
    {
     "ename": "TypeError",
     "evalue": "'x' is an invalid keyword argument for this function",
     "output_type": "error",
     "traceback": [
      "\u001b[0;31m---------------------------------------------------------------------------\u001b[0m",
      "\u001b[0;31mTypeError\u001b[0m                                 Traceback (most recent call last)",
      "\u001b[0;32m<ipython-input-220-e1e015d269f0>\u001b[0m in \u001b[0;36m<module>\u001b[0;34m\u001b[0m\n\u001b[0;32m----> 1\u001b[0;31m \u001b[0mprint\u001b[0m\u001b[0;34m(\u001b[0m\u001b[0mx\u001b[0m\u001b[0;34m=\u001b[0m\u001b[0;36m3\u001b[0m\u001b[0;34m)\u001b[0m\u001b[0;34m\u001b[0m\u001b[0;34m\u001b[0m\u001b[0m\n\u001b[0m\u001b[1;32m      2\u001b[0m \u001b[0mprint\u001b[0m\u001b[0;34m(\u001b[0m\u001b[0;34m\"hello world!!!\"\u001b[0m\u001b[0;34m)\u001b[0m\u001b[0;34m\u001b[0m\u001b[0;34m\u001b[0m\u001b[0m\n",
      "\u001b[0;31mTypeError\u001b[0m: 'x' is an invalid keyword argument for this function"
     ]
    }
   ],
   "source": [
    "print(x=3)\n",
    "print(\"hello world!!!\")"
   ]
  },
  {
   "cell_type": "code",
   "execution_count": 217,
   "id": "chubby-ecuador",
   "metadata": {},
   "outputs": [
    {
     "name": "stdout",
     "output_type": "stream",
     "text": [
      "There is an error while printing X!!\n",
      "Hello world!!!\n"
     ]
    }
   ],
   "source": [
    "try:\n",
    "    print(x)\n",
    "except:\n",
    "    print(\"There is an error while printing X!!\")\n",
    "print(\"Hello world!!!\")"
   ]
  },
  {
   "cell_type": "code",
   "execution_count": 219,
   "id": "narrow-microwave",
   "metadata": {},
   "outputs": [
    {
     "name": "stdout",
     "output_type": "stream",
     "text": [
      "There is an error while printing X!! 'x' is an invalid keyword argument for this function\n",
      "Hello world!!!\n"
     ]
    }
   ],
   "source": [
    "try:\n",
    "    print(x=3)\n",
    "except Exception as e:\n",
    "    print(\"There is an error while printing X!!\", e)\n",
    "print(\"Hello world!!!\")"
   ]
  },
  {
   "cell_type": "code",
   "execution_count": 229,
   "id": "according-water",
   "metadata": {},
   "outputs": [
    {
     "name": "stdout",
     "output_type": "stream",
     "text": [
      "There is an error while printing X!! 'x' is an invalid keyword argument for this function\n",
      "Notifying Developer\n"
     ]
    }
   ],
   "source": [
    "try:\n",
    "    print(x=2)\n",
    "except TypeError as e:\n",
    "    print(\"There is an error while printing X!!\", e)\n",
    "    print(\"Notifying Developer\")\n",
    "except NameError as e:\n",
    "    print(\"There is an error while printing X!!\", e)\n",
    "    x=3"
   ]
  },
  {
   "cell_type": "code",
   "execution_count": 232,
   "id": "bearing-summer",
   "metadata": {},
   "outputs": [
    {
     "name": "stdout",
     "output_type": "stream",
     "text": [
      "Enter any number between 0-100:h\n",
      "Please enter integer between 0-100\n",
      "Enter any number between 0-100:8\n"
     ]
    }
   ],
   "source": [
    "try:\n",
    "    num = input(\"Enter any number between 0-100:\")\n",
    "    if not num.isdigit():\n",
    "        raise ValueError(\"Please enter integer between 0-100\")\n",
    "except Exception as e:\n",
    "    print(e)\n",
    "    num = int(input(\"Enter any number between 0-100:\"))"
   ]
  },
  {
   "cell_type": "code",
   "execution_count": 231,
   "id": "abroad-greek",
   "metadata": {},
   "outputs": [
    {
     "name": "stdout",
     "output_type": "stream",
     "text": [
      "56\n"
     ]
    }
   ],
   "source": [
    "print(num)"
   ]
  },
  {
   "cell_type": "code",
   "execution_count": 234,
   "id": "human-cargo",
   "metadata": {},
   "outputs": [
    {
     "name": "stdout",
     "output_type": "stream",
     "text": [
      "3\n",
      "3\n"
     ]
    }
   ],
   "source": [
    "try:\n",
    "    print(y)\n",
    "except TypeError as e:\n",
    "    print(\"There is an error while printing X!!\", e)\n",
    "    print(\"Notifying Developer\")\n",
    "except NameError as e:\n",
    "    print(\"There is an error while printing Y!!\", e)\n",
    "    y=3\n",
    "finally:\n",
    "    print(y)"
   ]
  },
  {
   "cell_type": "markdown",
   "id": "nearby-spine",
   "metadata": {},
   "source": [
    "### HW-2"
   ]
  },
  {
   "cell_type": "markdown",
   "id": "commercial-showcase",
   "metadata": {
    "solution2": "hidden",
    "solution2_first": true
   },
   "source": [
    "Create a python program for guess game. The logic is to predict the number is in the user's mind.\n",
    "\n",
    "```\n",
    "import random as rd\n",
    "rd.randint(0,100)\n",
    "```"
   ]
  },
  {
   "cell_type": "code",
   "execution_count": 1,
   "id": "specific-advertising",
   "metadata": {
    "solution2": "hidden"
   },
   "outputs": [
    {
     "name": "stdout",
     "output_type": "stream",
     "text": [
      "Think any number between 0-100 and keep it with you, let me find out!!\n",
      "\n",
      "Isn't it 48 ?\n",
      "Enter the option \n",
      " a.high \n",
      " b.low \n",
      " c.Bingo \n",
      "b\n",
      "\n",
      "Isn't it 50 ?\n",
      "Enter the option \n",
      " a.high \n",
      " b.low \n",
      " c.Bingo \n",
      "b\n",
      "\n",
      "Isn't it 98 ?\n",
      "Enter the option \n",
      " a.high \n",
      " b.low \n",
      " c.Bingo \n",
      "a\n",
      "\n",
      "Isn't it 86 ?\n",
      "Enter the option \n",
      " a.high \n",
      " b.low \n",
      " c.Bingo \n",
      "a\n",
      "\n",
      "Isn't it 58 ?\n",
      "Enter the option \n",
      " a.high \n",
      " b.low \n",
      " c.Bingo \n",
      "b\n",
      "\n",
      "Isn't it 66 ?\n",
      "Enter the option \n",
      " a.high \n",
      " b.low \n",
      " c.Bingo \n",
      "a\n",
      "\n",
      "Isn't it 61 ?\n",
      "Enter the option \n",
      " a.high \n",
      " b.low \n",
      " c.Bingo \n",
      "b\n",
      "\n",
      "Isn't it 64 ?\n",
      "Enter the option \n",
      " a.high \n",
      " b.low \n",
      " c.Bingo \n",
      "b\n",
      "\n",
      "Isn't it 65 ?\n",
      "Enter the option \n",
      " a.high \n",
      " b.low \n",
      " c.Bingo \n",
      "c\n",
      "\n",
      "The number is in your mind is 65 and computer took 9 attempts\n"
     ]
    }
   ],
   "source": [
    "import random as r\n",
    "import time\n",
    "\n",
    "print(\"Think any number between 0-100 and keep it with you, let me find out!!\")\n",
    "time.sleep(6)\n",
    "\n",
    "min = 0\n",
    "max = 100\n",
    "attempt = 0\n",
    "\n",
    "while 1:\n",
    "    comp = r.randint(min,max)\n",
    "    print (\"\\nIsn't it %d ?\"%comp)\n",
    "    user = input(\"Enter the option \\n a.high \\n b.low \\n c.Bingo \\n\")\n",
    "    attempt += 1\n",
    "    if user == \"low\" or user == \"b\":\n",
    "        min = comp + 1\n",
    "        continue\n",
    "    elif user == \"high\" or user == \"a\":\n",
    "        max = comp - 1\n",
    "        continue\n",
    "    elif user == \"bingo\" or user == \"c\":\n",
    "        print (\"\\nThe number is in your mind is %d and computer took %d attempts\"%(comp,attempt))\n",
    "        break\n",
    "    else:\n",
    "        print (\"\\nPlease enter the valid option\")\n"
   ]
  },
  {
   "cell_type": "markdown",
   "id": "clinical-minority",
   "metadata": {},
   "source": [
    "### HW-3"
   ]
  },
  {
   "cell_type": "markdown",
   "id": "accompanied-stream",
   "metadata": {
    "solution2": "hidden",
    "solution2_first": true
   },
   "source": [
    "Create a python program for cow-bull game. The logic is to predict the number is in the computer's mind.\n",
    "based on the cow & bull logic\n",
    "\n",
    "cow --> correct number and correct position\n",
    "\n",
    "bull --> correct number but wrong position\n",
    "\n",
    "```\n",
    "import random as rd\n",
    "rd.randint(101,999)\n",
    "```"
   ]
  },
  {
   "cell_type": "code",
   "execution_count": 3,
   "id": "ranking-danger",
   "metadata": {
    "solution2": "hidden"
   },
   "outputs": [
    {
     "name": "stdout",
     "output_type": "stream",
     "text": [
      "694\n",
      "Enter your guess: 723\n",
      "Your guess isn't quite right, try again.\n",
      "Cow : 0 and Bull : 0\n",
      "Enter your guess: 497\n",
      "Your guess isn't quite right, try again.\n",
      "Cow : 1 and Bull : 1\n",
      "Enter your guess: 947\n",
      "Your guess isn't quite right, try again.\n",
      "Cow : 0 and Bull : 2\n",
      "Enter your guess: 479\n",
      "Your guess isn't quite right, try again.\n",
      "Cow : 0 and Bull : 2\n",
      "Enter your guess: 497\n",
      "Your guess isn't quite right, try again.\n",
      "Cow : 1 and Bull : 1\n",
      "Enter your guess: 694\n",
      "you win after 6 attempts\n"
     ]
    }
   ],
   "source": [
    "import random as r\n",
    "num = str(r.randint(100, 999))\n",
    "print(num)\n",
    "\n",
    "j = 0\n",
    "while 1:\n",
    "    user = str(input(\"Enter your guess: \"))\n",
    "    cowbull = [0, 0]\n",
    "    if user == \"quit\" or user == \"q\":\n",
    "        print(\"good bye...\")\n",
    "        break\n",
    "        \n",
    "    for i in range(len(num)):\n",
    "        if num[i] == user[i]:\n",
    "            cowbull[0] += 1\n",
    "\n",
    "    common = len([i for i in num if i in user])\n",
    "    cowbull[1] = common - cowbull[0]\n",
    "    j += 1\n",
    "\n",
    "    if cowbull[0] == 3:\n",
    "        print(\"you win after\", j, \"attempts\")\n",
    "        break\n",
    "    else:\n",
    "        print(\"Your guess isn't quite right, try again.\")\n",
    "    print(\"Cow : %d and Bull : %d\" % (cowbull[0], cowbull[1]))"
   ]
  },
  {
   "cell_type": "markdown",
   "id": "confidential-migration",
   "metadata": {},
   "source": [
    "### library handling "
   ]
  },
  {
   "cell_type": "markdown",
   "id": "floppy-affect",
   "metadata": {},
   "source": [
    "####  to install libraries"
   ]
  },
  {
   "cell_type": "code",
   "execution_count": null,
   "id": "professional-shipping",
   "metadata": {},
   "outputs": [],
   "source": [
    "use the following command on cmd prompt\n",
    "    pip install {{libraryName}}\n",
    "    pip install {{libraryName==3.5.2}}"
   ]
  },
  {
   "cell_type": "markdown",
   "id": "smoking-commodity",
   "metadata": {},
   "source": [
    "#### to import libraries"
   ]
  },
  {
   "cell_type": "code",
   "execution_count": 238,
   "id": "outstanding-model",
   "metadata": {},
   "outputs": [],
   "source": [
    "import math"
   ]
  },
  {
   "cell_type": "code",
   "execution_count": 239,
   "id": "deadly-effects",
   "metadata": {},
   "outputs": [
    {
     "data": {
      "text/plain": [
       "120"
      ]
     },
     "execution_count": 239,
     "metadata": {},
     "output_type": "execute_result"
    }
   ],
   "source": [
    "math.factorial(5)"
   ]
  },
  {
   "cell_type": "code",
   "execution_count": 240,
   "id": "random-portuguese",
   "metadata": {},
   "outputs": [],
   "source": [
    "import random as rd"
   ]
  },
  {
   "cell_type": "code",
   "execution_count": 243,
   "id": "european-solid",
   "metadata": {},
   "outputs": [
    {
     "data": {
      "text/plain": [
       "63"
      ]
     },
     "execution_count": 243,
     "metadata": {},
     "output_type": "execute_result"
    }
   ],
   "source": [
    "rd.randint(10,100)"
   ]
  },
  {
   "cell_type": "code",
   "execution_count": 253,
   "id": "contemporary-wrong",
   "metadata": {},
   "outputs": [
    {
     "data": {
      "text/plain": [
       "'a'"
      ]
     },
     "execution_count": 253,
     "metadata": {},
     "output_type": "execute_result"
    }
   ],
   "source": [
    "rd.choice(['a','b','c','d'])"
   ]
  },
  {
   "cell_type": "code",
   "execution_count": 254,
   "id": "raised-baptist",
   "metadata": {},
   "outputs": [],
   "source": [
    "from math import sin, cos, tan"
   ]
  },
  {
   "cell_type": "code",
   "execution_count": 255,
   "id": "hazardous-appliance",
   "metadata": {},
   "outputs": [
    {
     "data": {
      "text/plain": [
       "0.8939966636005579"
      ]
     },
     "execution_count": 255,
     "metadata": {},
     "output_type": "execute_result"
    }
   ],
   "source": [
    "sin(90)"
   ]
  },
  {
   "cell_type": "code",
   "execution_count": 256,
   "id": "considered-israel",
   "metadata": {},
   "outputs": [
    {
     "data": {
      "text/plain": [
       "-0.4480736161291701"
      ]
     },
     "execution_count": 256,
     "metadata": {},
     "output_type": "execute_result"
    }
   ],
   "source": [
    "cos(90)"
   ]
  },
  {
   "cell_type": "code",
   "execution_count": 257,
   "id": "plastic-australian",
   "metadata": {},
   "outputs": [],
   "source": [
    "from random import *"
   ]
  },
  {
   "cell_type": "code",
   "execution_count": 258,
   "id": "beneficial-nitrogen",
   "metadata": {},
   "outputs": [
    {
     "data": {
      "text/plain": [
       "51"
      ]
     },
     "execution_count": 258,
     "metadata": {},
     "output_type": "execute_result"
    }
   ],
   "source": [
    "randint(10,100)"
   ]
  },
  {
   "cell_type": "code",
   "execution_count": 259,
   "id": "complex-powder",
   "metadata": {},
   "outputs": [
    {
     "data": {
      "text/plain": [
       "19"
      ]
     },
     "execution_count": 259,
     "metadata": {},
     "output_type": "execute_result"
    }
   ],
   "source": [
    "randrange(10,20)"
   ]
  },
  {
   "cell_type": "code",
   "execution_count": 263,
   "id": "proved-minimum",
   "metadata": {},
   "outputs": [
    {
     "data": {
      "text/plain": [
       "['f', 'd', 'a']"
      ]
     },
     "execution_count": 263,
     "metadata": {},
     "output_type": "execute_result"
    }
   ],
   "source": [
    "choices(\"abcdefgh\",k=3)"
   ]
  },
  {
   "cell_type": "markdown",
   "id": "musical-taiwan",
   "metadata": {},
   "source": [
    "### file handling "
   ]
  },
  {
   "cell_type": "code",
   "execution_count": null,
   "id": "greenhouse-nicaragua",
   "metadata": {},
   "outputs": [],
   "source": [
    "# txt, json, csv, xlsx, image, database"
   ]
  },
  {
   "cell_type": "markdown",
   "id": "coral-nicholas",
   "metadata": {},
   "source": [
    "#### Image handling"
   ]
  },
  {
   "cell_type": "code",
   "execution_count": 4,
   "id": "regional-nevada",
   "metadata": {},
   "outputs": [],
   "source": [
    "import cv2 # install opencv library using pip install opencv-python"
   ]
  },
  {
   "cell_type": "code",
   "execution_count": 10,
   "id": "occupied-colors",
   "metadata": {},
   "outputs": [],
   "source": [
    "image = cv2.imread(\"pythonLibraries.jpg\", 0)"
   ]
  },
  {
   "cell_type": "code",
   "execution_count": 11,
   "id": "fifth-breath",
   "metadata": {},
   "outputs": [
    {
     "name": "stdout",
     "output_type": "stream",
     "text": [
      "(861, 750)\n"
     ]
    }
   ],
   "source": [
    "print(image.shape)"
   ]
  },
  {
   "cell_type": "code",
   "execution_count": 12,
   "id": "framed-laptop",
   "metadata": {},
   "outputs": [],
   "source": [
    "cv2.imshow(\"image\", image)\n",
    "cv2.waitKey(0)\n",
    "cv2.destroyAllWindows()"
   ]
  },
  {
   "cell_type": "code",
   "execution_count": 13,
   "id": "small-stability",
   "metadata": {},
   "outputs": [],
   "source": [
    "import cv2\n",
    "\n",
    "# Get user supplied values\n",
    "imagePath = 'girls.jpg'\n",
    "\n",
    "# Read the image\n",
    "image = cv2.imread(imagePath)\n",
    "gray = cv2.cvtColor(image, cv2.COLOR_BGR2GRAY)\n",
    "edge = cv2.Canny(image,200,300)\n",
    "\n",
    "img_copy = image.copy()\n",
    "cv2.rectangle(img_copy, pt1 = (140, 92), pt2 = (620, 240), color = (255, 0, 0), thickness = 5)\n",
    "cv2.putText(img_copy, \"this is sample text\", (250, 120), cv2.FONT_HERSHEY_SIMPLEX, 0.7, color=(0, 0, 255), thickness = 2)\n",
    "\n",
    "croped_image =  image[140:600,100:235]\n",
    "resized_image =  cv2.resize(image,(100,100))\n",
    "\n",
    "blurred = cv2.blur(image,(1,20))\n",
    "\n",
    "cv2.imshow(\"original image\", image)\n",
    "cv2.imshow(\"gray image\", gray)\n",
    "cv2.imshow(\"edge image\", edge)\n",
    "cv2.imshow(\"rectangle\", img_copy)\n",
    "cv2.imshow(\"Cropped image\",croped_image)\n",
    "cv2.imshow(\"resized image\",resized_image)\n",
    "cv2.imshow(\"blurred image\",blurred)\n",
    "\n",
    "cv2.waitKey(0)\n",
    "cv2.destroyAllWindows()\n"
   ]
  },
  {
   "cell_type": "markdown",
   "id": "crucial-wichita",
   "metadata": {},
   "source": [
    "#### json handling"
   ]
  },
  {
   "cell_type": "code",
   "execution_count": 14,
   "id": "cellular-vaccine",
   "metadata": {},
   "outputs": [],
   "source": [
    "data =  {'address': 'Downtown', 'age': 27, 'name': 'Jack'}"
   ]
  },
  {
   "cell_type": "code",
   "execution_count": 15,
   "id": "reasonable-arabic",
   "metadata": {},
   "outputs": [
    {
     "data": {
      "text/plain": [
       "{'address': 'Downtown', 'age': 27, 'name': 'Jack'}"
      ]
     },
     "execution_count": 15,
     "metadata": {},
     "output_type": "execute_result"
    }
   ],
   "source": [
    "data"
   ]
  },
  {
   "cell_type": "code",
   "execution_count": 16,
   "id": "periodic-niagara",
   "metadata": {},
   "outputs": [],
   "source": [
    "import json"
   ]
  },
  {
   "cell_type": "code",
   "execution_count": 18,
   "id": "quality-marathon",
   "metadata": {},
   "outputs": [],
   "source": [
    "json.dump(data, open(\"datajson.json\", \"w\"), indent=4)"
   ]
  },
  {
   "cell_type": "code",
   "execution_count": 19,
   "id": "quick-trash",
   "metadata": {},
   "outputs": [],
   "source": [
    "dictData = json.load(open(\"datajson.json\"))"
   ]
  },
  {
   "cell_type": "code",
   "execution_count": 20,
   "id": "cognitive-sapphire",
   "metadata": {},
   "outputs": [
    {
     "data": {
      "text/plain": [
       "{'address': 'Downtown', 'age': 27, 'name': 'Jack'}"
      ]
     },
     "execution_count": 20,
     "metadata": {},
     "output_type": "execute_result"
    }
   ],
   "source": [
    "dictData"
   ]
  },
  {
   "cell_type": "code",
   "execution_count": 21,
   "id": "interior-millennium",
   "metadata": {},
   "outputs": [],
   "source": [
    "import datetime"
   ]
  },
  {
   "cell_type": "code",
   "execution_count": 23,
   "id": "diagnostic-cisco",
   "metadata": {},
   "outputs": [
    {
     "data": {
      "text/plain": [
       "'2022-07-16 11:00:28.401882'"
      ]
     },
     "execution_count": 23,
     "metadata": {},
     "output_type": "execute_result"
    }
   ],
   "source": [
    "str(datetime.datetime.now())"
   ]
  },
  {
   "cell_type": "code",
   "execution_count": 26,
   "id": "accepting-express",
   "metadata": {},
   "outputs": [],
   "source": [
    "dictData['datetime'] = str(datetime.datetime.now())"
   ]
  },
  {
   "cell_type": "code",
   "execution_count": 27,
   "id": "standard-spanish",
   "metadata": {},
   "outputs": [
    {
     "data": {
      "text/plain": [
       "{'address': 'Downtown',\n",
       " 'age': 27,\n",
       " 'name': 'Jack',\n",
       " 'datetime': '2022-07-16 11:01:29.275342'}"
      ]
     },
     "execution_count": 27,
     "metadata": {},
     "output_type": "execute_result"
    }
   ],
   "source": [
    "dictData"
   ]
  },
  {
   "cell_type": "markdown",
   "id": "guilty-toddler",
   "metadata": {},
   "source": [
    "#### txt handling"
   ]
  },
  {
   "cell_type": "code",
   "execution_count": 32,
   "id": "revolutionary-basis",
   "metadata": {},
   "outputs": [],
   "source": [
    "infile = open(\"july2022.txt\", \"w\")"
   ]
  },
  {
   "cell_type": "code",
   "execution_count": 33,
   "id": "japanese-image",
   "metadata": {},
   "outputs": [],
   "source": [
    "infile.writelines(\"Hey!! hello\\n\")"
   ]
  },
  {
   "cell_type": "code",
   "execution_count": 34,
   "id": "covered-intent",
   "metadata": {},
   "outputs": [],
   "source": [
    "infile.writelines(\"How do you do?\\n\")"
   ]
  },
  {
   "cell_type": "code",
   "execution_count": 35,
   "id": "difficult-airline",
   "metadata": {},
   "outputs": [],
   "source": [
    "infile.close()"
   ]
  },
  {
   "cell_type": "code",
   "execution_count": 36,
   "id": "trained-detroit",
   "metadata": {},
   "outputs": [],
   "source": [
    "infile = open(\"july2022.txt\", \"a\")\n",
    "infile.writelines(\"i am doing good. How do you do?\\n\")\n",
    "infile.close()"
   ]
  },
  {
   "cell_type": "code",
   "execution_count": 54,
   "id": "polished-ozone",
   "metadata": {},
   "outputs": [],
   "source": [
    "outfile = open(\"july2022.txt\", \"r\")"
   ]
  },
  {
   "cell_type": "code",
   "execution_count": 55,
   "id": "sexual-comedy",
   "metadata": {},
   "outputs": [],
   "source": [
    "content = outfile.read()"
   ]
  },
  {
   "cell_type": "code",
   "execution_count": 49,
   "id": "chief-defeat",
   "metadata": {},
   "outputs": [],
   "source": [
    "content = outfile.readline()"
   ]
  },
  {
   "cell_type": "code",
   "execution_count": 52,
   "id": "opened-gothic",
   "metadata": {},
   "outputs": [],
   "source": [
    "content = outfile.readlines()"
   ]
  },
  {
   "cell_type": "code",
   "execution_count": 57,
   "id": "level-softball",
   "metadata": {},
   "outputs": [
    {
     "data": {
      "text/plain": [
       "['Hey!! hello', 'How do you do?', 'i am doing good. How do you do?']"
      ]
     },
     "execution_count": 57,
     "metadata": {},
     "output_type": "execute_result"
    }
   ],
   "source": [
    "content.splitlines()"
   ]
  },
  {
   "cell_type": "code",
   "execution_count": 59,
   "id": "moral-chrome",
   "metadata": {},
   "outputs": [
    {
     "data": {
      "text/plain": [
       "['Hey!! hello', 'How do you do?', 'i am doing good. How do you do?', '']"
      ]
     },
     "execution_count": 59,
     "metadata": {},
     "output_type": "execute_result"
    }
   ],
   "source": [
    "content.split(\"\\n\")"
   ]
  },
  {
   "cell_type": "code",
   "execution_count": 61,
   "id": "agreed-terminology",
   "metadata": {},
   "outputs": [
    {
     "data": {
      "text/plain": [
       "'class,petal_length,petal_width,sepal_length,sepal_width\\nIris-virginica,5.5,1.8,6.4,3.1\\nIris-virginica,5.9,2.3,6.8,3.2\\nIris-virginica,5.4,2.3,6.2,3.4\\nIris-virginica,4.8,1.8,6,3\\nIris-virginica,5.1,2.3,6.9,3.1\\nIris-virginica,5.6,2.4,6.3,3.4\\nIris-virginica,5.2,2.3,6.7,3\\nIris-virginica,6.7,2,7.7,2.8\\nIris-virginica,5.8,2.2,6.5,3\\nIris-virginica,5.3,1.9,6.4,2.7\\nIris-virginica,5,2,5.7,2.5\\nIris-virginica,5.1,1.9,5.8,2.7\\nIris-virginica,5.6,1.8,6.3,2.9\\nIris-virginica,5,1.9,6.3,2.5\\nIris-virginica,5.8,1.8,6.7,2.5\\nIris-virginica,5.7,2.1,6.7,3.3\\nIris-virginica,5.5,1.8,6.5,3\\nIris-virginica,5.6,1.4,6.1,2.6\\nIris-virginica,5,1.5,6,2.2\\nIris-virginica,5.2,2,6.5,3\\nIris-virginica,6.1,1.9,7.4,2.8\\nIris-virginica,6.1,2.3,7.7,3\\nIris-virginica,6.1,2.5,7.2,3.6\\nIris-virginica,5.9,2.1,7.1,3\\nIris-virginica,6,2.5,6.3,3.3\\nIris-virginica,5.1,1.5,6.3,2.8\\nIris-virginica,5.1,1.9,5.8,2.7\\nIris-virginica,6,1.8,7.2,3.2\\nIris-virginica,5.7,2.5,6.7,3.3\\nIris-virginica,6.9,2.3,7.7,2.6\\nIris-virginica,5.7,2.3,6.9,3.2\\nIris-virginica,5.6,2.1,6.4,2.8\\nIris-virginica,4.8,1.8,6.2,2.8\\nIris-virginica,4.5,1.7,4.9,2.5\\nIris-virginica,5.1,2,6.5,3.2\\nIris-versicolor,4.8,1.8,5.9,3.2\\nIris-versicolor,4.1,1.3,5.7,2.8\\nIris-versicolor,4,1.3,6.1,2.8\\nIris-versicolor,3.6,1.3,5.6,2.9\\nIris-versicolor,3.9,1.1,5.6,2.5\\nIris-versicolor,4.1,1,5.8,2.7\\nIris-versicolor,4.9,1.5,6.3,2.5\\nIris-versicolor,3.5,1,5,2\\nIris-versicolor,4.4,1.4,6.6,3\\nIris-versicolor,4.7,1.4,6.1,2.9\\nIris-versicolor,4,1,6,2.2\\nIris-versicolor,4.5,1.5,6.4,3.2\\nIris-versicolor,4.4,1.2,5.5,2.6\\nIris-versicolor,3.5,1,5.7,2.6\\nIris-versicolor,4.7,1.6,6.3,3.3\\nIris-versicolor,4.8,1.4,6.8,2.8\\nIris-versicolor,4.5,1.5,6.2,2.2\\nIris-versicolor,4.2,1.2,5.7,3\\nIris-versicolor,3,1.1,5.1,2.5\\nIris-versicolor,3.7,1,5.5,2.4\\nIris-versicolor,4.4,1.4,6.7,3.1\\nIris-versicolor,4.2,1.3,5.7,2.9\\nIris-versicolor,4.2,1.3,5.6,2.7\\nIris-versicolor,5,1.7,6.7,3\\nIris-versicolor,3.8,1.1,5.5,2.4\\nIris-versicolor,3.3,1,5,2.3\\nIris-versicolor,4.1,1.3,5.6,3\\nIris-versicolor,4.5,1.6,6,3.4\\nIris-versicolor,4.5,1.5,5.4,3\\nIris-versicolor,4.6,1.5,6.5,2.8\\nIris-versicolor,4.9,1.5,6.9,3.1\\nIris-versicolor,3.3,1,4.9,2.4\\nIris-versicolor,4.5,1.5,6,2.9\\nIris-versicolor,5.1,1.6,6,2.7\\nIris-versicolor,4.7,1.4,7,3.2\\nIris-setosa,1.4,0.2,4.9,3\\nIris-setosa,1.6,0.4,5,3.4\\nIris-setosa,1.4,0.1,4.8,3\\nIris-setosa,1.5,0.4,5.7,4.4\\nIris-setosa,1.4,0.2,5.2,3.4\\nIris-setosa,1.5,0.2,5.4,3.7\\nIris-setosa,1.5,0.2,5.1,3.4\\nIris-setosa,1.9,0.2,4.8,3.4\\nIris-setosa,1.5,0.4,5.1,3.7\\nIris-setosa,1.5,0.1,4.9,3.1\\nIris-setosa,1.3,0.2,4.4,3.2\\nIris-setosa,1.3,0.2,5.5,3.5\\nIris-setosa,1.4,0.3,5.1,3.5\\nIris-setosa,1.4,0.2,5,3.3\\nIris-setosa,1.6,0.2,4.8,3.4\\nIris-setosa,1.5,0.2,4.6,3.1\\nIris-setosa,1.4,0.3,4.8,3\\nIris-setosa,1.6,0.6,5,3.5\\nIris-setosa,1.5,0.2,5.2,3.5\\nIris-setosa,1.5,0.1,4.9,3.1\\nIris-setosa,1.4,0.2,5.5,4.2\\nIris-setosa,1.5,0.4,5.4,3.4\\nIris-setosa,1.5,0.1,5.2,4.1\\nIris-setosa,1,0.2,4.6,3.6\\nIris-setosa,1.6,0.2,5.1,3.8\\nIris-setosa,1.4,0.2,4.6,3.2\\nIris-setosa,1.4,0.2,4.4,2.9\\nIris-setosa,1.5,0.3,5.1,3.8\\nIris-setosa,1.4,0.2,5,3.6\\nIris-setosa,1.3,0.2,4.7,3.2\\nIris-setosa,1.5,0.2,5,3.4\\nIris-setosa,1.7,0.3,5.7,3.8\\nIris-setosa,1.3,0.4,5.4,3.9\\nIris-setosa,1.9,0.4,5.1,3.8\\nIris-setosa,1.6,0.2,5,3'"
      ]
     },
     "execution_count": 61,
     "metadata": {},
     "output_type": "execute_result"
    }
   ],
   "source": [
    "open(\"train.csv\").read()"
   ]
  },
  {
   "cell_type": "markdown",
   "id": "chemical-aberdeen",
   "metadata": {},
   "source": [
    "#### CSV, xlsx"
   ]
  },
  {
   "cell_type": "code",
   "execution_count": 1,
   "id": "understanding-flower",
   "metadata": {},
   "outputs": [],
   "source": [
    "import pandas as pd  # install pandas by using the command pip install pandas"
   ]
  },
  {
   "cell_type": "code",
   "execution_count": 2,
   "id": "elect-blair",
   "metadata": {},
   "outputs": [],
   "source": [
    "csvFile = pd.read_csv(\"train.csv\")"
   ]
  },
  {
   "cell_type": "code",
   "execution_count": 16,
   "id": "permanent-pursuit",
   "metadata": {},
   "outputs": [],
   "source": [
    "excelFile = pd.read_excel(\"Course Syllabus.xlsx\", sheet_name=\"Machine Learning\")"
   ]
  },
  {
   "cell_type": "code",
   "execution_count": 17,
   "id": "alone-quest",
   "metadata": {},
   "outputs": [
    {
     "data": {
      "text/html": [
       "<div>\n",
       "<style scoped>\n",
       "    .dataframe tbody tr th:only-of-type {\n",
       "        vertical-align: middle;\n",
       "    }\n",
       "\n",
       "    .dataframe tbody tr th {\n",
       "        vertical-align: top;\n",
       "    }\n",
       "\n",
       "    .dataframe thead th {\n",
       "        text-align: right;\n",
       "    }\n",
       "</style>\n",
       "<table border=\"1\" class=\"dataframe\">\n",
       "  <thead>\n",
       "    <tr style=\"text-align: right;\">\n",
       "      <th></th>\n",
       "      <th>class</th>\n",
       "      <th>petal_length</th>\n",
       "      <th>petal_width</th>\n",
       "      <th>sepal_length</th>\n",
       "      <th>sepal_width</th>\n",
       "    </tr>\n",
       "  </thead>\n",
       "  <tbody>\n",
       "    <tr>\n",
       "      <th>0</th>\n",
       "      <td>Iris-virginica</td>\n",
       "      <td>5.5</td>\n",
       "      <td>1.8</td>\n",
       "      <td>6.4</td>\n",
       "      <td>3.1</td>\n",
       "    </tr>\n",
       "    <tr>\n",
       "      <th>1</th>\n",
       "      <td>Iris-virginica</td>\n",
       "      <td>5.9</td>\n",
       "      <td>2.3</td>\n",
       "      <td>6.8</td>\n",
       "      <td>3.2</td>\n",
       "    </tr>\n",
       "    <tr>\n",
       "      <th>2</th>\n",
       "      <td>Iris-virginica</td>\n",
       "      <td>5.4</td>\n",
       "      <td>2.3</td>\n",
       "      <td>6.2</td>\n",
       "      <td>3.4</td>\n",
       "    </tr>\n",
       "    <tr>\n",
       "      <th>3</th>\n",
       "      <td>Iris-virginica</td>\n",
       "      <td>4.8</td>\n",
       "      <td>1.8</td>\n",
       "      <td>6.0</td>\n",
       "      <td>3.0</td>\n",
       "    </tr>\n",
       "    <tr>\n",
       "      <th>4</th>\n",
       "      <td>Iris-virginica</td>\n",
       "      <td>5.1</td>\n",
       "      <td>2.3</td>\n",
       "      <td>6.9</td>\n",
       "      <td>3.1</td>\n",
       "    </tr>\n",
       "  </tbody>\n",
       "</table>\n",
       "</div>"
      ],
      "text/plain": [
       "            class  petal_length  petal_width  sepal_length  sepal_width\n",
       "0  Iris-virginica           5.5          1.8           6.4          3.1\n",
       "1  Iris-virginica           5.9          2.3           6.8          3.2\n",
       "2  Iris-virginica           5.4          2.3           6.2          3.4\n",
       "3  Iris-virginica           4.8          1.8           6.0          3.0\n",
       "4  Iris-virginica           5.1          2.3           6.9          3.1"
      ]
     },
     "execution_count": 17,
     "metadata": {},
     "output_type": "execute_result"
    }
   ],
   "source": [
    "csvFile.head()"
   ]
  },
  {
   "cell_type": "code",
   "execution_count": 18,
   "id": "based-hometown",
   "metadata": {},
   "outputs": [
    {
     "data": {
      "text/html": [
       "<div>\n",
       "<style scoped>\n",
       "    .dataframe tbody tr th:only-of-type {\n",
       "        vertical-align: middle;\n",
       "    }\n",
       "\n",
       "    .dataframe tbody tr th {\n",
       "        vertical-align: top;\n",
       "    }\n",
       "\n",
       "    .dataframe thead th {\n",
       "        text-align: right;\n",
       "    }\n",
       "</style>\n",
       "<table border=\"1\" class=\"dataframe\">\n",
       "  <thead>\n",
       "    <tr style=\"text-align: right;\">\n",
       "      <th></th>\n",
       "      <th>Syllabus</th>\n",
       "      <th>Duration</th>\n",
       "    </tr>\n",
       "  </thead>\n",
       "  <tbody>\n",
       "    <tr>\n",
       "      <th>0</th>\n",
       "      <td>1.Introduction to Machine learning</td>\n",
       "      <td>60 mins</td>\n",
       "    </tr>\n",
       "    <tr>\n",
       "      <th>1</th>\n",
       "      <td>1.a  Introduction to Data Operation</td>\n",
       "      <td>150 mins</td>\n",
       "    </tr>\n",
       "    <tr>\n",
       "      <th>2</th>\n",
       "      <td>Basic Operations</td>\n",
       "      <td>NaN</td>\n",
       "    </tr>\n",
       "    <tr>\n",
       "      <th>3</th>\n",
       "      <td>Moving Data Around</td>\n",
       "      <td>NaN</td>\n",
       "    </tr>\n",
       "    <tr>\n",
       "      <th>4</th>\n",
       "      <td>Computing on Data</td>\n",
       "      <td>NaN</td>\n",
       "    </tr>\n",
       "  </tbody>\n",
       "</table>\n",
       "</div>"
      ],
      "text/plain": [
       "                              Syllabus  Duration\n",
       "0   1.Introduction to Machine learning   60 mins\n",
       "1  1.a  Introduction to Data Operation  150 mins\n",
       "2                     Basic Operations       NaN\n",
       "3                   Moving Data Around       NaN\n",
       "4                    Computing on Data       NaN"
      ]
     },
     "execution_count": 18,
     "metadata": {},
     "output_type": "execute_result"
    }
   ],
   "source": [
    "excelFile.head()"
   ]
  },
  {
   "cell_type": "code",
   "execution_count": 9,
   "id": "automatic-length",
   "metadata": {},
   "outputs": [
    {
     "data": {
      "text/html": [
       "<div>\n",
       "<style scoped>\n",
       "    .dataframe tbody tr th:only-of-type {\n",
       "        vertical-align: middle;\n",
       "    }\n",
       "\n",
       "    .dataframe tbody tr th {\n",
       "        vertical-align: top;\n",
       "    }\n",
       "\n",
       "    .dataframe thead th {\n",
       "        text-align: right;\n",
       "    }\n",
       "</style>\n",
       "<table border=\"1\" class=\"dataframe\">\n",
       "  <thead>\n",
       "    <tr style=\"text-align: right;\">\n",
       "      <th></th>\n",
       "      <th>class</th>\n",
       "      <th>petal_length</th>\n",
       "      <th>sepal_width</th>\n",
       "    </tr>\n",
       "  </thead>\n",
       "  <tbody>\n",
       "    <tr>\n",
       "      <th>0</th>\n",
       "      <td>Iris-virginica</td>\n",
       "      <td>5.5</td>\n",
       "      <td>3.1</td>\n",
       "    </tr>\n",
       "    <tr>\n",
       "      <th>1</th>\n",
       "      <td>Iris-virginica</td>\n",
       "      <td>5.9</td>\n",
       "      <td>3.2</td>\n",
       "    </tr>\n",
       "    <tr>\n",
       "      <th>2</th>\n",
       "      <td>Iris-virginica</td>\n",
       "      <td>5.4</td>\n",
       "      <td>3.4</td>\n",
       "    </tr>\n",
       "    <tr>\n",
       "      <th>3</th>\n",
       "      <td>Iris-virginica</td>\n",
       "      <td>4.8</td>\n",
       "      <td>3.0</td>\n",
       "    </tr>\n",
       "    <tr>\n",
       "      <th>4</th>\n",
       "      <td>Iris-virginica</td>\n",
       "      <td>5.1</td>\n",
       "      <td>3.1</td>\n",
       "    </tr>\n",
       "    <tr>\n",
       "      <th>...</th>\n",
       "      <td>...</td>\n",
       "      <td>...</td>\n",
       "      <td>...</td>\n",
       "    </tr>\n",
       "    <tr>\n",
       "      <th>100</th>\n",
       "      <td>Iris-setosa</td>\n",
       "      <td>1.5</td>\n",
       "      <td>3.4</td>\n",
       "    </tr>\n",
       "    <tr>\n",
       "      <th>101</th>\n",
       "      <td>Iris-setosa</td>\n",
       "      <td>1.7</td>\n",
       "      <td>3.8</td>\n",
       "    </tr>\n",
       "    <tr>\n",
       "      <th>102</th>\n",
       "      <td>Iris-setosa</td>\n",
       "      <td>1.3</td>\n",
       "      <td>3.9</td>\n",
       "    </tr>\n",
       "    <tr>\n",
       "      <th>103</th>\n",
       "      <td>Iris-setosa</td>\n",
       "      <td>1.9</td>\n",
       "      <td>3.8</td>\n",
       "    </tr>\n",
       "    <tr>\n",
       "      <th>104</th>\n",
       "      <td>Iris-setosa</td>\n",
       "      <td>1.6</td>\n",
       "      <td>3.0</td>\n",
       "    </tr>\n",
       "  </tbody>\n",
       "</table>\n",
       "<p>105 rows × 3 columns</p>\n",
       "</div>"
      ],
      "text/plain": [
       "              class  petal_length  sepal_width\n",
       "0    Iris-virginica           5.5          3.1\n",
       "1    Iris-virginica           5.9          3.2\n",
       "2    Iris-virginica           5.4          3.4\n",
       "3    Iris-virginica           4.8          3.0\n",
       "4    Iris-virginica           5.1          3.1\n",
       "..              ...           ...          ...\n",
       "100     Iris-setosa           1.5          3.4\n",
       "101     Iris-setosa           1.7          3.8\n",
       "102     Iris-setosa           1.3          3.9\n",
       "103     Iris-setosa           1.9          3.8\n",
       "104     Iris-setosa           1.6          3.0\n",
       "\n",
       "[105 rows x 3 columns]"
      ]
     },
     "execution_count": 9,
     "metadata": {},
     "output_type": "execute_result"
    }
   ],
   "source": [
    "csvFile[['class', \"petal_length\", \"sepal_width\"]]"
   ]
  },
  {
   "cell_type": "code",
   "execution_count": 11,
   "id": "wired-carpet",
   "metadata": {},
   "outputs": [
    {
     "data": {
      "text/html": [
       "<div>\n",
       "<style scoped>\n",
       "    .dataframe tbody tr th:only-of-type {\n",
       "        vertical-align: middle;\n",
       "    }\n",
       "\n",
       "    .dataframe tbody tr th {\n",
       "        vertical-align: top;\n",
       "    }\n",
       "\n",
       "    .dataframe thead th {\n",
       "        text-align: right;\n",
       "    }\n",
       "</style>\n",
       "<table border=\"1\" class=\"dataframe\">\n",
       "  <thead>\n",
       "    <tr style=\"text-align: right;\">\n",
       "      <th></th>\n",
       "      <th>petal_length</th>\n",
       "      <th>petal_width</th>\n",
       "      <th>sepal_length</th>\n",
       "    </tr>\n",
       "  </thead>\n",
       "  <tbody>\n",
       "    <tr>\n",
       "      <th>0</th>\n",
       "      <td>5.5</td>\n",
       "      <td>1.8</td>\n",
       "      <td>6.4</td>\n",
       "    </tr>\n",
       "    <tr>\n",
       "      <th>1</th>\n",
       "      <td>5.9</td>\n",
       "      <td>2.3</td>\n",
       "      <td>6.8</td>\n",
       "    </tr>\n",
       "    <tr>\n",
       "      <th>2</th>\n",
       "      <td>5.4</td>\n",
       "      <td>2.3</td>\n",
       "      <td>6.2</td>\n",
       "    </tr>\n",
       "    <tr>\n",
       "      <th>3</th>\n",
       "      <td>4.8</td>\n",
       "      <td>1.8</td>\n",
       "      <td>6.0</td>\n",
       "    </tr>\n",
       "    <tr>\n",
       "      <th>4</th>\n",
       "      <td>5.1</td>\n",
       "      <td>2.3</td>\n",
       "      <td>6.9</td>\n",
       "    </tr>\n",
       "    <tr>\n",
       "      <th>5</th>\n",
       "      <td>5.6</td>\n",
       "      <td>2.4</td>\n",
       "      <td>6.3</td>\n",
       "    </tr>\n",
       "    <tr>\n",
       "      <th>6</th>\n",
       "      <td>5.2</td>\n",
       "      <td>2.3</td>\n",
       "      <td>6.7</td>\n",
       "    </tr>\n",
       "    <tr>\n",
       "      <th>7</th>\n",
       "      <td>6.7</td>\n",
       "      <td>2.0</td>\n",
       "      <td>7.7</td>\n",
       "    </tr>\n",
       "    <tr>\n",
       "      <th>8</th>\n",
       "      <td>5.8</td>\n",
       "      <td>2.2</td>\n",
       "      <td>6.5</td>\n",
       "    </tr>\n",
       "    <tr>\n",
       "      <th>9</th>\n",
       "      <td>5.3</td>\n",
       "      <td>1.9</td>\n",
       "      <td>6.4</td>\n",
       "    </tr>\n",
       "    <tr>\n",
       "      <th>10</th>\n",
       "      <td>5.0</td>\n",
       "      <td>2.0</td>\n",
       "      <td>5.7</td>\n",
       "    </tr>\n",
       "  </tbody>\n",
       "</table>\n",
       "</div>"
      ],
      "text/plain": [
       "    petal_length  petal_width  sepal_length\n",
       "0            5.5          1.8           6.4\n",
       "1            5.9          2.3           6.8\n",
       "2            5.4          2.3           6.2\n",
       "3            4.8          1.8           6.0\n",
       "4            5.1          2.3           6.9\n",
       "5            5.6          2.4           6.3\n",
       "6            5.2          2.3           6.7\n",
       "7            6.7          2.0           7.7\n",
       "8            5.8          2.2           6.5\n",
       "9            5.3          1.9           6.4\n",
       "10           5.0          2.0           5.7"
      ]
     },
     "execution_count": 11,
     "metadata": {},
     "output_type": "execute_result"
    }
   ],
   "source": [
    "csvFile.loc[:10, \"petal_length\":\"sepal_length\"]"
   ]
  },
  {
   "cell_type": "code",
   "execution_count": 13,
   "id": "periodic-intensity",
   "metadata": {},
   "outputs": [
    {
     "data": {
      "text/html": [
       "<div>\n",
       "<style scoped>\n",
       "    .dataframe tbody tr th:only-of-type {\n",
       "        vertical-align: middle;\n",
       "    }\n",
       "\n",
       "    .dataframe tbody tr th {\n",
       "        vertical-align: top;\n",
       "    }\n",
       "\n",
       "    .dataframe thead th {\n",
       "        text-align: right;\n",
       "    }\n",
       "</style>\n",
       "<table border=\"1\" class=\"dataframe\">\n",
       "  <thead>\n",
       "    <tr style=\"text-align: right;\">\n",
       "      <th></th>\n",
       "      <th>petal_length</th>\n",
       "      <th>petal_width</th>\n",
       "      <th>sepal_length</th>\n",
       "      <th>sepal_width</th>\n",
       "    </tr>\n",
       "    <tr>\n",
       "      <th>class</th>\n",
       "      <th></th>\n",
       "      <th></th>\n",
       "      <th></th>\n",
       "      <th></th>\n",
       "    </tr>\n",
       "  </thead>\n",
       "  <tbody>\n",
       "    <tr>\n",
       "      <th>Iris-setosa</th>\n",
       "      <td>51.7</td>\n",
       "      <td>8.6</td>\n",
       "      <td>176.0</td>\n",
       "      <td>121.3</td>\n",
       "    </tr>\n",
       "    <tr>\n",
       "      <th>Iris-versicolor</th>\n",
       "      <td>148.4</td>\n",
       "      <td>46.3</td>\n",
       "      <td>207.4</td>\n",
       "      <td>97.0</td>\n",
       "    </tr>\n",
       "    <tr>\n",
       "      <th>Iris-virginica</th>\n",
       "      <td>193.5</td>\n",
       "      <td>70.7</td>\n",
       "      <td>228.8</td>\n",
       "      <td>102.7</td>\n",
       "    </tr>\n",
       "  </tbody>\n",
       "</table>\n",
       "</div>"
      ],
      "text/plain": [
       "                 petal_length  petal_width  sepal_length  sepal_width\n",
       "class                                                                \n",
       "Iris-setosa              51.7          8.6         176.0        121.3\n",
       "Iris-versicolor         148.4         46.3         207.4         97.0\n",
       "Iris-virginica          193.5         70.7         228.8        102.7"
      ]
     },
     "execution_count": 13,
     "metadata": {},
     "output_type": "execute_result"
    }
   ],
   "source": [
    "csvFile.groupby('class').sum()"
   ]
  },
  {
   "cell_type": "code",
   "execution_count": 14,
   "id": "grand-provision",
   "metadata": {},
   "outputs": [
    {
     "data": {
      "text/plain": [
       "(18, 2)"
      ]
     },
     "execution_count": 14,
     "metadata": {},
     "output_type": "execute_result"
    }
   ],
   "source": [
    "excelFile.shape"
   ]
  },
  {
   "cell_type": "code",
   "execution_count": 20,
   "id": "improved-drove",
   "metadata": {},
   "outputs": [
    {
     "data": {
      "text/html": [
       "<div>\n",
       "<style scoped>\n",
       "    .dataframe tbody tr th:only-of-type {\n",
       "        vertical-align: middle;\n",
       "    }\n",
       "\n",
       "    .dataframe tbody tr th {\n",
       "        vertical-align: top;\n",
       "    }\n",
       "\n",
       "    .dataframe thead th {\n",
       "        text-align: right;\n",
       "    }\n",
       "</style>\n",
       "<table border=\"1\" class=\"dataframe\">\n",
       "  <thead>\n",
       "    <tr style=\"text-align: right;\">\n",
       "      <th></th>\n",
       "      <th>Syllabus</th>\n",
       "      <th>Duration</th>\n",
       "    </tr>\n",
       "  </thead>\n",
       "  <tbody>\n",
       "    <tr>\n",
       "      <th>0</th>\n",
       "      <td>1.Introduction to Machine learning</td>\n",
       "      <td>60 mins</td>\n",
       "    </tr>\n",
       "    <tr>\n",
       "      <th>1</th>\n",
       "      <td>1.a  Introduction to Data Operation</td>\n",
       "      <td>150 mins</td>\n",
       "    </tr>\n",
       "    <tr>\n",
       "      <th>8</th>\n",
       "      <td>2.Types of ML algorithm- an overview</td>\n",
       "      <td>60 mins</td>\n",
       "    </tr>\n",
       "    <tr>\n",
       "      <th>12</th>\n",
       "      <td>3.Linear Algebra</td>\n",
       "      <td>180 mins</td>\n",
       "    </tr>\n",
       "    <tr>\n",
       "      <th>20</th>\n",
       "      <td>4.Linear Regression</td>\n",
       "      <td>240 mins</td>\n",
       "    </tr>\n",
       "    <tr>\n",
       "      <th>28</th>\n",
       "      <td>5.Logistic Regression</td>\n",
       "      <td>150 mins</td>\n",
       "    </tr>\n",
       "    <tr>\n",
       "      <th>35</th>\n",
       "      <td>5.Regularization</td>\n",
       "      <td>60 mins</td>\n",
       "    </tr>\n",
       "    <tr>\n",
       "      <th>39</th>\n",
       "      <td>6.Machine Learning System Design</td>\n",
       "      <td>90 mins</td>\n",
       "    </tr>\n",
       "    <tr>\n",
       "      <th>45</th>\n",
       "      <td>7.Supervised Learning</td>\n",
       "      <td>180 mins</td>\n",
       "    </tr>\n",
       "    <tr>\n",
       "      <th>50</th>\n",
       "      <td>8.Unsupervised Learning</td>\n",
       "      <td>180 mins</td>\n",
       "    </tr>\n",
       "    <tr>\n",
       "      <th>55</th>\n",
       "      <td>9.Large Scale Machine Learning</td>\n",
       "      <td>120 mins</td>\n",
       "    </tr>\n",
       "    <tr>\n",
       "      <th>61</th>\n",
       "      <td>10.Practise</td>\n",
       "      <td>180 mins</td>\n",
       "    </tr>\n",
       "    <tr>\n",
       "      <th>62</th>\n",
       "      <td>11.Tools for ML</td>\n",
       "      <td>150 mins</td>\n",
       "    </tr>\n",
       "    <tr>\n",
       "      <th>63</th>\n",
       "      <td>TOTAL</td>\n",
       "      <td>30 hours</td>\n",
       "    </tr>\n",
       "  </tbody>\n",
       "</table>\n",
       "</div>"
      ],
      "text/plain": [
       "                                Syllabus  Duration\n",
       "0     1.Introduction to Machine learning   60 mins\n",
       "1    1.a  Introduction to Data Operation  150 mins\n",
       "8   2.Types of ML algorithm- an overview   60 mins\n",
       "12                     3.Linear Algebra   180 mins\n",
       "20                   4.Linear Regression  240 mins\n",
       "28                 5.Logistic Regression  150 mins\n",
       "35                      5.Regularization   60 mins\n",
       "39      6.Machine Learning System Design   90 mins\n",
       "45                 7.Supervised Learning  180 mins\n",
       "50               8.Unsupervised Learning  180 mins\n",
       "55        9.Large Scale Machine Learning  120 mins\n",
       "61                           10.Practise  180 mins\n",
       "62                       11.Tools for ML  150 mins\n",
       "63                                 TOTAL  30 hours"
      ]
     },
     "execution_count": 20,
     "metadata": {},
     "output_type": "execute_result"
    }
   ],
   "source": [
    "excelFile.dropna()"
   ]
  },
  {
   "cell_type": "code",
   "execution_count": 22,
   "id": "virgin-arctic",
   "metadata": {},
   "outputs": [
    {
     "data": {
      "text/html": [
       "<div>\n",
       "<style scoped>\n",
       "    .dataframe tbody tr th:only-of-type {\n",
       "        vertical-align: middle;\n",
       "    }\n",
       "\n",
       "    .dataframe tbody tr th {\n",
       "        vertical-align: top;\n",
       "    }\n",
       "\n",
       "    .dataframe thead th {\n",
       "        text-align: right;\n",
       "    }\n",
       "</style>\n",
       "<table border=\"1\" class=\"dataframe\">\n",
       "  <thead>\n",
       "    <tr style=\"text-align: right;\">\n",
       "      <th></th>\n",
       "      <th>Syllabus</th>\n",
       "      <th>Duration</th>\n",
       "    </tr>\n",
       "  </thead>\n",
       "  <tbody>\n",
       "    <tr>\n",
       "      <th>0</th>\n",
       "      <td>1.Introduction to Machine learning</td>\n",
       "      <td>60 mins</td>\n",
       "    </tr>\n",
       "    <tr>\n",
       "      <th>1</th>\n",
       "      <td>1.a  Introduction to Data Operation</td>\n",
       "      <td>150 mins</td>\n",
       "    </tr>\n",
       "    <tr>\n",
       "      <th>2</th>\n",
       "      <td>Basic Operations</td>\n",
       "      <td>60 mins</td>\n",
       "    </tr>\n",
       "    <tr>\n",
       "      <th>3</th>\n",
       "      <td>Moving Data Around</td>\n",
       "      <td>60 mins</td>\n",
       "    </tr>\n",
       "    <tr>\n",
       "      <th>4</th>\n",
       "      <td>Computing on Data</td>\n",
       "      <td>60 mins</td>\n",
       "    </tr>\n",
       "    <tr>\n",
       "      <th>...</th>\n",
       "      <td>...</td>\n",
       "      <td>...</td>\n",
       "    </tr>\n",
       "    <tr>\n",
       "      <th>59</th>\n",
       "      <td>Stochastic Gradient Descent Convergence</td>\n",
       "      <td>180 mins</td>\n",
       "    </tr>\n",
       "    <tr>\n",
       "      <th>60</th>\n",
       "      <td>Map Reduce and Data Parallelism</td>\n",
       "      <td>180 mins</td>\n",
       "    </tr>\n",
       "    <tr>\n",
       "      <th>61</th>\n",
       "      <td>10.Practise</td>\n",
       "      <td>180 mins</td>\n",
       "    </tr>\n",
       "    <tr>\n",
       "      <th>62</th>\n",
       "      <td>11.Tools for ML</td>\n",
       "      <td>150 mins</td>\n",
       "    </tr>\n",
       "    <tr>\n",
       "      <th>63</th>\n",
       "      <td>TOTAL</td>\n",
       "      <td>30 hours</td>\n",
       "    </tr>\n",
       "  </tbody>\n",
       "</table>\n",
       "<p>64 rows × 2 columns</p>\n",
       "</div>"
      ],
      "text/plain": [
       "                                   Syllabus  Duration\n",
       "0        1.Introduction to Machine learning   60 mins\n",
       "1       1.a  Introduction to Data Operation  150 mins\n",
       "2                          Basic Operations   60 mins\n",
       "3                        Moving Data Around   60 mins\n",
       "4                         Computing on Data   60 mins\n",
       "..                                      ...       ...\n",
       "59  Stochastic Gradient Descent Convergence  180 mins\n",
       "60          Map Reduce and Data Parallelism  180 mins\n",
       "61                              10.Practise  180 mins\n",
       "62                          11.Tools for ML  150 mins\n",
       "63                                    TOTAL  30 hours\n",
       "\n",
       "[64 rows x 2 columns]"
      ]
     },
     "execution_count": 22,
     "metadata": {},
     "output_type": "execute_result"
    }
   ],
   "source": [
    "excelFile.fillna(method=\"bfill\")"
   ]
  },
  {
   "cell_type": "code",
   "execution_count": 23,
   "id": "excess-disclaimer",
   "metadata": {},
   "outputs": [
    {
     "data": {
      "text/html": [
       "<div>\n",
       "<style scoped>\n",
       "    .dataframe tbody tr th:only-of-type {\n",
       "        vertical-align: middle;\n",
       "    }\n",
       "\n",
       "    .dataframe tbody tr th {\n",
       "        vertical-align: top;\n",
       "    }\n",
       "\n",
       "    .dataframe thead th {\n",
       "        text-align: right;\n",
       "    }\n",
       "</style>\n",
       "<table border=\"1\" class=\"dataframe\">\n",
       "  <thead>\n",
       "    <tr style=\"text-align: right;\">\n",
       "      <th></th>\n",
       "      <th>petal_length</th>\n",
       "      <th>petal_width</th>\n",
       "      <th>sepal_length</th>\n",
       "      <th>sepal_width</th>\n",
       "    </tr>\n",
       "  </thead>\n",
       "  <tbody>\n",
       "    <tr>\n",
       "      <th>count</th>\n",
       "      <td>105.000000</td>\n",
       "      <td>105.000000</td>\n",
       "      <td>105.000000</td>\n",
       "      <td>105.000000</td>\n",
       "    </tr>\n",
       "    <tr>\n",
       "      <th>mean</th>\n",
       "      <td>3.748571</td>\n",
       "      <td>1.196190</td>\n",
       "      <td>5.830476</td>\n",
       "      <td>3.057143</td>\n",
       "    </tr>\n",
       "    <tr>\n",
       "      <th>std</th>\n",
       "      <td>1.753519</td>\n",
       "      <td>0.765723</td>\n",
       "      <td>0.800015</td>\n",
       "      <td>0.449969</td>\n",
       "    </tr>\n",
       "    <tr>\n",
       "      <th>min</th>\n",
       "      <td>1.000000</td>\n",
       "      <td>0.100000</td>\n",
       "      <td>4.400000</td>\n",
       "      <td>2.000000</td>\n",
       "    </tr>\n",
       "    <tr>\n",
       "      <th>25%</th>\n",
       "      <td>1.500000</td>\n",
       "      <td>0.300000</td>\n",
       "      <td>5.100000</td>\n",
       "      <td>2.800000</td>\n",
       "    </tr>\n",
       "    <tr>\n",
       "      <th>50%</th>\n",
       "      <td>4.400000</td>\n",
       "      <td>1.300000</td>\n",
       "      <td>5.700000</td>\n",
       "      <td>3.000000</td>\n",
       "    </tr>\n",
       "    <tr>\n",
       "      <th>75%</th>\n",
       "      <td>5.100000</td>\n",
       "      <td>1.800000</td>\n",
       "      <td>6.400000</td>\n",
       "      <td>3.400000</td>\n",
       "    </tr>\n",
       "    <tr>\n",
       "      <th>max</th>\n",
       "      <td>6.900000</td>\n",
       "      <td>2.500000</td>\n",
       "      <td>7.700000</td>\n",
       "      <td>4.400000</td>\n",
       "    </tr>\n",
       "  </tbody>\n",
       "</table>\n",
       "</div>"
      ],
      "text/plain": [
       "       petal_length  petal_width  sepal_length  sepal_width\n",
       "count    105.000000   105.000000    105.000000   105.000000\n",
       "mean       3.748571     1.196190      5.830476     3.057143\n",
       "std        1.753519     0.765723      0.800015     0.449969\n",
       "min        1.000000     0.100000      4.400000     2.000000\n",
       "25%        1.500000     0.300000      5.100000     2.800000\n",
       "50%        4.400000     1.300000      5.700000     3.000000\n",
       "75%        5.100000     1.800000      6.400000     3.400000\n",
       "max        6.900000     2.500000      7.700000     4.400000"
      ]
     },
     "execution_count": 23,
     "metadata": {},
     "output_type": "execute_result"
    }
   ],
   "source": [
    "csvFile.describe()"
   ]
  },
  {
   "cell_type": "code",
   "execution_count": 24,
   "id": "voluntary-louis",
   "metadata": {},
   "outputs": [],
   "source": [
    "data = {'food': ['bacon', 'pulled pork', 'bacon', 'Pastrami','corned beef', 'Bacon', 'pastrami', 'honey ham',\n",
    "'nova lox'],'ounces': [4, 3, 12, 6, 7.5, 8, 3, 5, 6]}"
   ]
  },
  {
   "cell_type": "code",
   "execution_count": 25,
   "id": "collected-confidentiality",
   "metadata": {},
   "outputs": [
    {
     "data": {
      "text/plain": [
       "{'food': ['bacon',\n",
       "  'pulled pork',\n",
       "  'bacon',\n",
       "  'Pastrami',\n",
       "  'corned beef',\n",
       "  'Bacon',\n",
       "  'pastrami',\n",
       "  'honey ham',\n",
       "  'nova lox'],\n",
       " 'ounces': [4, 3, 12, 6, 7.5, 8, 3, 5, 6]}"
      ]
     },
     "execution_count": 25,
     "metadata": {},
     "output_type": "execute_result"
    }
   ],
   "source": [
    "data"
   ]
  },
  {
   "cell_type": "code",
   "execution_count": 30,
   "id": "mathematical-highland",
   "metadata": {},
   "outputs": [],
   "source": [
    "df = pd.DataFrame(data)"
   ]
  },
  {
   "cell_type": "code",
   "execution_count": 31,
   "id": "cosmetic-bargain",
   "metadata": {},
   "outputs": [
    {
     "data": {
      "text/html": [
       "<div>\n",
       "<style scoped>\n",
       "    .dataframe tbody tr th:only-of-type {\n",
       "        vertical-align: middle;\n",
       "    }\n",
       "\n",
       "    .dataframe tbody tr th {\n",
       "        vertical-align: top;\n",
       "    }\n",
       "\n",
       "    .dataframe thead th {\n",
       "        text-align: right;\n",
       "    }\n",
       "</style>\n",
       "<table border=\"1\" class=\"dataframe\">\n",
       "  <thead>\n",
       "    <tr style=\"text-align: right;\">\n",
       "      <th></th>\n",
       "      <th>food</th>\n",
       "      <th>ounces</th>\n",
       "    </tr>\n",
       "  </thead>\n",
       "  <tbody>\n",
       "    <tr>\n",
       "      <th>0</th>\n",
       "      <td>bacon</td>\n",
       "      <td>4.0</td>\n",
       "    </tr>\n",
       "    <tr>\n",
       "      <th>1</th>\n",
       "      <td>pulled pork</td>\n",
       "      <td>3.0</td>\n",
       "    </tr>\n",
       "    <tr>\n",
       "      <th>2</th>\n",
       "      <td>bacon</td>\n",
       "      <td>12.0</td>\n",
       "    </tr>\n",
       "    <tr>\n",
       "      <th>3</th>\n",
       "      <td>Pastrami</td>\n",
       "      <td>6.0</td>\n",
       "    </tr>\n",
       "    <tr>\n",
       "      <th>4</th>\n",
       "      <td>corned beef</td>\n",
       "      <td>7.5</td>\n",
       "    </tr>\n",
       "    <tr>\n",
       "      <th>5</th>\n",
       "      <td>Bacon</td>\n",
       "      <td>8.0</td>\n",
       "    </tr>\n",
       "    <tr>\n",
       "      <th>6</th>\n",
       "      <td>pastrami</td>\n",
       "      <td>3.0</td>\n",
       "    </tr>\n",
       "    <tr>\n",
       "      <th>7</th>\n",
       "      <td>honey ham</td>\n",
       "      <td>5.0</td>\n",
       "    </tr>\n",
       "    <tr>\n",
       "      <th>8</th>\n",
       "      <td>nova lox</td>\n",
       "      <td>6.0</td>\n",
       "    </tr>\n",
       "  </tbody>\n",
       "</table>\n",
       "</div>"
      ],
      "text/plain": [
       "          food  ounces\n",
       "0        bacon     4.0\n",
       "1  pulled pork     3.0\n",
       "2        bacon    12.0\n",
       "3     Pastrami     6.0\n",
       "4  corned beef     7.5\n",
       "5        Bacon     8.0\n",
       "6     pastrami     3.0\n",
       "7    honey ham     5.0\n",
       "8     nova lox     6.0"
      ]
     },
     "execution_count": 31,
     "metadata": {},
     "output_type": "execute_result"
    }
   ],
   "source": [
    "df"
   ]
  },
  {
   "cell_type": "code",
   "execution_count": 28,
   "id": "handed-williams",
   "metadata": {},
   "outputs": [],
   "source": [
    "df['test']= df['food'].map(str.upper)"
   ]
  },
  {
   "cell_type": "code",
   "execution_count": 29,
   "id": "collected-shape",
   "metadata": {},
   "outputs": [
    {
     "data": {
      "text/html": [
       "<div>\n",
       "<style scoped>\n",
       "    .dataframe tbody tr th:only-of-type {\n",
       "        vertical-align: middle;\n",
       "    }\n",
       "\n",
       "    .dataframe tbody tr th {\n",
       "        vertical-align: top;\n",
       "    }\n",
       "\n",
       "    .dataframe thead th {\n",
       "        text-align: right;\n",
       "    }\n",
       "</style>\n",
       "<table border=\"1\" class=\"dataframe\">\n",
       "  <thead>\n",
       "    <tr style=\"text-align: right;\">\n",
       "      <th></th>\n",
       "      <th>food</th>\n",
       "      <th>ounces</th>\n",
       "      <th>test</th>\n",
       "    </tr>\n",
       "  </thead>\n",
       "  <tbody>\n",
       "    <tr>\n",
       "      <th>0</th>\n",
       "      <td>bacon</td>\n",
       "      <td>4.0</td>\n",
       "      <td>BACON</td>\n",
       "    </tr>\n",
       "    <tr>\n",
       "      <th>1</th>\n",
       "      <td>pulled pork</td>\n",
       "      <td>3.0</td>\n",
       "      <td>PULLED PORK</td>\n",
       "    </tr>\n",
       "    <tr>\n",
       "      <th>2</th>\n",
       "      <td>bacon</td>\n",
       "      <td>12.0</td>\n",
       "      <td>BACON</td>\n",
       "    </tr>\n",
       "    <tr>\n",
       "      <th>3</th>\n",
       "      <td>Pastrami</td>\n",
       "      <td>6.0</td>\n",
       "      <td>PASTRAMI</td>\n",
       "    </tr>\n",
       "    <tr>\n",
       "      <th>4</th>\n",
       "      <td>corned beef</td>\n",
       "      <td>7.5</td>\n",
       "      <td>CORNED BEEF</td>\n",
       "    </tr>\n",
       "    <tr>\n",
       "      <th>5</th>\n",
       "      <td>Bacon</td>\n",
       "      <td>8.0</td>\n",
       "      <td>BACON</td>\n",
       "    </tr>\n",
       "    <tr>\n",
       "      <th>6</th>\n",
       "      <td>pastrami</td>\n",
       "      <td>3.0</td>\n",
       "      <td>PASTRAMI</td>\n",
       "    </tr>\n",
       "    <tr>\n",
       "      <th>7</th>\n",
       "      <td>honey ham</td>\n",
       "      <td>5.0</td>\n",
       "      <td>HONEY HAM</td>\n",
       "    </tr>\n",
       "    <tr>\n",
       "      <th>8</th>\n",
       "      <td>nova lox</td>\n",
       "      <td>6.0</td>\n",
       "      <td>NOVA LOX</td>\n",
       "    </tr>\n",
       "  </tbody>\n",
       "</table>\n",
       "</div>"
      ],
      "text/plain": [
       "          food  ounces         test\n",
       "0        bacon     4.0        BACON\n",
       "1  pulled pork     3.0  PULLED PORK\n",
       "2        bacon    12.0        BACON\n",
       "3     Pastrami     6.0     PASTRAMI\n",
       "4  corned beef     7.5  CORNED BEEF\n",
       "5        Bacon     8.0        BACON\n",
       "6     pastrami     3.0     PASTRAMI\n",
       "7    honey ham     5.0    HONEY HAM\n",
       "8     nova lox     6.0     NOVA LOX"
      ]
     },
     "execution_count": 29,
     "metadata": {},
     "output_type": "execute_result"
    }
   ],
   "source": [
    "df"
   ]
  },
  {
   "cell_type": "code",
   "execution_count": 32,
   "id": "difficult-colors",
   "metadata": {},
   "outputs": [],
   "source": [
    "meat_to_animal = {\n",
    "'bacon': 'pig',\n",
    "'pulled pork': 'pig',\n",
    "'pastrami': 'cow',\n",
    "'corned beef': 'cow',\n",
    "'honey ham': 'pig',\n",
    "'nova lox': 'salmon'\n",
    "}"
   ]
  },
  {
   "cell_type": "code",
   "execution_count": 33,
   "id": "derived-satellite",
   "metadata": {},
   "outputs": [],
   "source": [
    "df['animal'] = df['food'].map(str.lower).map(meat_to_animal)"
   ]
  },
  {
   "cell_type": "code",
   "execution_count": 34,
   "id": "novel-orchestra",
   "metadata": {},
   "outputs": [
    {
     "data": {
      "text/html": [
       "<div>\n",
       "<style scoped>\n",
       "    .dataframe tbody tr th:only-of-type {\n",
       "        vertical-align: middle;\n",
       "    }\n",
       "\n",
       "    .dataframe tbody tr th {\n",
       "        vertical-align: top;\n",
       "    }\n",
       "\n",
       "    .dataframe thead th {\n",
       "        text-align: right;\n",
       "    }\n",
       "</style>\n",
       "<table border=\"1\" class=\"dataframe\">\n",
       "  <thead>\n",
       "    <tr style=\"text-align: right;\">\n",
       "      <th></th>\n",
       "      <th>food</th>\n",
       "      <th>ounces</th>\n",
       "      <th>animal</th>\n",
       "    </tr>\n",
       "  </thead>\n",
       "  <tbody>\n",
       "    <tr>\n",
       "      <th>0</th>\n",
       "      <td>bacon</td>\n",
       "      <td>4.0</td>\n",
       "      <td>pig</td>\n",
       "    </tr>\n",
       "    <tr>\n",
       "      <th>1</th>\n",
       "      <td>pulled pork</td>\n",
       "      <td>3.0</td>\n",
       "      <td>pig</td>\n",
       "    </tr>\n",
       "    <tr>\n",
       "      <th>2</th>\n",
       "      <td>bacon</td>\n",
       "      <td>12.0</td>\n",
       "      <td>pig</td>\n",
       "    </tr>\n",
       "    <tr>\n",
       "      <th>3</th>\n",
       "      <td>Pastrami</td>\n",
       "      <td>6.0</td>\n",
       "      <td>cow</td>\n",
       "    </tr>\n",
       "    <tr>\n",
       "      <th>4</th>\n",
       "      <td>corned beef</td>\n",
       "      <td>7.5</td>\n",
       "      <td>cow</td>\n",
       "    </tr>\n",
       "    <tr>\n",
       "      <th>5</th>\n",
       "      <td>Bacon</td>\n",
       "      <td>8.0</td>\n",
       "      <td>pig</td>\n",
       "    </tr>\n",
       "    <tr>\n",
       "      <th>6</th>\n",
       "      <td>pastrami</td>\n",
       "      <td>3.0</td>\n",
       "      <td>cow</td>\n",
       "    </tr>\n",
       "    <tr>\n",
       "      <th>7</th>\n",
       "      <td>honey ham</td>\n",
       "      <td>5.0</td>\n",
       "      <td>pig</td>\n",
       "    </tr>\n",
       "    <tr>\n",
       "      <th>8</th>\n",
       "      <td>nova lox</td>\n",
       "      <td>6.0</td>\n",
       "      <td>salmon</td>\n",
       "    </tr>\n",
       "  </tbody>\n",
       "</table>\n",
       "</div>"
      ],
      "text/plain": [
       "          food  ounces  animal\n",
       "0        bacon     4.0     pig\n",
       "1  pulled pork     3.0     pig\n",
       "2        bacon    12.0     pig\n",
       "3     Pastrami     6.0     cow\n",
       "4  corned beef     7.5     cow\n",
       "5        Bacon     8.0     pig\n",
       "6     pastrami     3.0     cow\n",
       "7    honey ham     5.0     pig\n",
       "8     nova lox     6.0  salmon"
      ]
     },
     "execution_count": 34,
     "metadata": {},
     "output_type": "execute_result"
    }
   ],
   "source": [
    "df"
   ]
  },
  {
   "cell_type": "code",
   "execution_count": 35,
   "id": "stainless-leone",
   "metadata": {},
   "outputs": [],
   "source": [
    "df = pd.DataFrame({'key1' : ['a', 'a', 'b', 'b', 'a'],'key2' : ['one', 'two', 'one', 'two', 'one'],'data1' :np.random.randn(5),'data2' : np.random.randn(5)})\n",
    "\n",
    "grouped = df['data1'].groupby(df['key1'])"
   ]
  },
  {
   "cell_type": "code",
   "execution_count": 36,
   "id": "irish-internship",
   "metadata": {},
   "outputs": [
    {
     "data": {
      "text/html": [
       "<div>\n",
       "<style scoped>\n",
       "    .dataframe tbody tr th:only-of-type {\n",
       "        vertical-align: middle;\n",
       "    }\n",
       "\n",
       "    .dataframe tbody tr th {\n",
       "        vertical-align: top;\n",
       "    }\n",
       "\n",
       "    .dataframe thead th {\n",
       "        text-align: right;\n",
       "    }\n",
       "</style>\n",
       "<table border=\"1\" class=\"dataframe\">\n",
       "  <thead>\n",
       "    <tr style=\"text-align: right;\">\n",
       "      <th></th>\n",
       "      <th>key1</th>\n",
       "      <th>key2</th>\n",
       "      <th>data1</th>\n",
       "      <th>data2</th>\n",
       "    </tr>\n",
       "  </thead>\n",
       "  <tbody>\n",
       "    <tr>\n",
       "      <th>0</th>\n",
       "      <td>a</td>\n",
       "      <td>one</td>\n",
       "      <td>0.694358</td>\n",
       "      <td>-0.464433</td>\n",
       "    </tr>\n",
       "    <tr>\n",
       "      <th>1</th>\n",
       "      <td>a</td>\n",
       "      <td>two</td>\n",
       "      <td>-0.600246</td>\n",
       "      <td>-0.058276</td>\n",
       "    </tr>\n",
       "    <tr>\n",
       "      <th>2</th>\n",
       "      <td>b</td>\n",
       "      <td>one</td>\n",
       "      <td>-0.490056</td>\n",
       "      <td>-0.624492</td>\n",
       "    </tr>\n",
       "    <tr>\n",
       "      <th>3</th>\n",
       "      <td>b</td>\n",
       "      <td>two</td>\n",
       "      <td>0.714410</td>\n",
       "      <td>-0.105914</td>\n",
       "    </tr>\n",
       "    <tr>\n",
       "      <th>4</th>\n",
       "      <td>a</td>\n",
       "      <td>one</td>\n",
       "      <td>-1.138270</td>\n",
       "      <td>0.230575</td>\n",
       "    </tr>\n",
       "  </tbody>\n",
       "</table>\n",
       "</div>"
      ],
      "text/plain": [
       "  key1 key2     data1     data2\n",
       "0    a  one  0.694358 -0.464433\n",
       "1    a  two -0.600246 -0.058276\n",
       "2    b  one -0.490056 -0.624492\n",
       "3    b  two  0.714410 -0.105914\n",
       "4    a  one -1.138270  0.230575"
      ]
     },
     "execution_count": 36,
     "metadata": {},
     "output_type": "execute_result"
    }
   ],
   "source": [
    "df"
   ]
  },
  {
   "cell_type": "code",
   "execution_count": 39,
   "id": "confirmed-worker",
   "metadata": {},
   "outputs": [
    {
     "data": {
      "text/plain": [
       "key1\n",
       "a   -1.044157\n",
       "b    0.224353\n",
       "Name: data1, dtype: float64"
      ]
     },
     "execution_count": 39,
     "metadata": {},
     "output_type": "execute_result"
    }
   ],
   "source": [
    "grouped.sum()"
   ]
  },
  {
   "cell_type": "code",
   "execution_count": 40,
   "id": "instant-ranch",
   "metadata": {},
   "outputs": [
    {
     "data": {
      "text/html": [
       "<div>\n",
       "<style scoped>\n",
       "    .dataframe tbody tr th:only-of-type {\n",
       "        vertical-align: middle;\n",
       "    }\n",
       "\n",
       "    .dataframe tbody tr th {\n",
       "        vertical-align: top;\n",
       "    }\n",
       "\n",
       "    .dataframe thead th {\n",
       "        text-align: right;\n",
       "    }\n",
       "</style>\n",
       "<table border=\"1\" class=\"dataframe\">\n",
       "  <thead>\n",
       "    <tr style=\"text-align: right;\">\n",
       "      <th>key2</th>\n",
       "      <th>one</th>\n",
       "      <th>two</th>\n",
       "    </tr>\n",
       "    <tr>\n",
       "      <th>key1</th>\n",
       "      <th></th>\n",
       "      <th></th>\n",
       "    </tr>\n",
       "  </thead>\n",
       "  <tbody>\n",
       "    <tr>\n",
       "      <th>a</th>\n",
       "      <td>-0.221956</td>\n",
       "      <td>-0.600246</td>\n",
       "    </tr>\n",
       "    <tr>\n",
       "      <th>b</th>\n",
       "      <td>-0.490056</td>\n",
       "      <td>0.714410</td>\n",
       "    </tr>\n",
       "  </tbody>\n",
       "</table>\n",
       "</div>"
      ],
      "text/plain": [
       "key2       one       two\n",
       "key1                    \n",
       "a    -0.221956 -0.600246\n",
       "b    -0.490056  0.714410"
      ]
     },
     "execution_count": 40,
     "metadata": {},
     "output_type": "execute_result"
    }
   ],
   "source": [
    "means = df['data1'].groupby([df['key1'], df['key2']]).mean()\n",
    "\n",
    "means.unstack()"
   ]
  },
  {
   "cell_type": "code",
   "execution_count": 41,
   "id": "supposed-sound",
   "metadata": {},
   "outputs": [
    {
     "data": {
      "text/plain": [
       "key1  key2\n",
       "a     one    -0.221956\n",
       "      two    -0.600246\n",
       "b     one    -0.490056\n",
       "      two     0.714410\n",
       "Name: data1, dtype: float64"
      ]
     },
     "execution_count": 41,
     "metadata": {},
     "output_type": "execute_result"
    }
   ],
   "source": [
    "means"
   ]
  },
  {
   "cell_type": "markdown",
   "id": "nervous-avenue",
   "metadata": {},
   "source": [
    "#### database handling"
   ]
  },
  {
   "cell_type": "code",
   "execution_count": 42,
   "id": "three-tiger",
   "metadata": {},
   "outputs": [],
   "source": [
    "import pymysql"
   ]
  },
  {
   "cell_type": "code",
   "execution_count": 57,
   "id": "available-conspiracy",
   "metadata": {},
   "outputs": [],
   "source": [
    "\n",
    "db = pymysql.connect(host=\"localhost\", user=\"root\", passwd=\"Admin@123\", db=\"testDB\")\n",
    "\n",
    "cur = db.cursor()\n"
   ]
  },
  {
   "cell_type": "code",
   "execution_count": 58,
   "id": "forty-garage",
   "metadata": {},
   "outputs": [
    {
     "data": {
      "text/plain": [
       "5"
      ]
     },
     "execution_count": 58,
     "metadata": {},
     "output_type": "execute_result"
    }
   ],
   "source": [
    "cur.execute(\"SELECT  * FROM testDB.PassportDetails;\")"
   ]
  },
  {
   "cell_type": "code",
   "execution_count": 59,
   "id": "golden-pound",
   "metadata": {},
   "outputs": [
    {
     "data": {
      "text/plain": [
       "(('ABCD234EF', 1),\n",
       " ('fhtps2568j', 2),\n",
       " ('IJKLmnop', 4),\n",
       " ('QWERTY12', 5),\n",
       " ('qwert678u', 6))"
      ]
     },
     "execution_count": 59,
     "metadata": {},
     "output_type": "execute_result"
    }
   ],
   "source": [
    "cur.fetchall()"
   ]
  },
  {
   "cell_type": "code",
   "execution_count": 60,
   "id": "checked-phenomenon",
   "metadata": {},
   "outputs": [
    {
     "data": {
      "text/html": [
       "<div>\n",
       "<style scoped>\n",
       "    .dataframe tbody tr th:only-of-type {\n",
       "        vertical-align: middle;\n",
       "    }\n",
       "\n",
       "    .dataframe tbody tr th {\n",
       "        vertical-align: top;\n",
       "    }\n",
       "\n",
       "    .dataframe thead th {\n",
       "        text-align: right;\n",
       "    }\n",
       "</style>\n",
       "<table border=\"1\" class=\"dataframe\">\n",
       "  <thead>\n",
       "    <tr style=\"text-align: right;\">\n",
       "      <th></th>\n",
       "      <th>Passport_Number</th>\n",
       "      <th>Person_Id</th>\n",
       "    </tr>\n",
       "  </thead>\n",
       "  <tbody>\n",
       "    <tr>\n",
       "      <th>0</th>\n",
       "      <td>QWERTY12</td>\n",
       "      <td>5</td>\n",
       "    </tr>\n",
       "  </tbody>\n",
       "</table>\n",
       "</div>"
      ],
      "text/plain": [
       "  Passport_Number  Person_Id\n",
       "0        QWERTY12          5"
      ]
     },
     "execution_count": 60,
     "metadata": {},
     "output_type": "execute_result"
    }
   ],
   "source": [
    "pd.read_sql_query(\"SELECT  * FROM testDB.PassportDetails where Person_Id=5\", db)"
   ]
  },
  {
   "cell_type": "code",
   "execution_count": 61,
   "id": "extended-uzbekistan",
   "metadata": {},
   "outputs": [
    {
     "data": {
      "text/plain": [
       "1"
      ]
     },
     "execution_count": 61,
     "metadata": {},
     "output_type": "execute_result"
    }
   ],
   "source": [
    "cur.execute(\"insert into testDB.PassportDetails values('qwert678u', 6)\")"
   ]
  },
  {
   "cell_type": "code",
   "execution_count": 62,
   "id": "spanish-effort",
   "metadata": {},
   "outputs": [],
   "source": [
    "db.commit()"
   ]
  },
  {
   "cell_type": "code",
   "execution_count": 63,
   "id": "dental-convertible",
   "metadata": {},
   "outputs": [],
   "source": [
    "db.close()"
   ]
  },
  {
   "cell_type": "code",
   "execution_count": null,
   "id": "prospective-interest",
   "metadata": {},
   "outputs": [],
   "source": []
  },
  {
   "cell_type": "code",
   "execution_count": null,
   "id": "offensive-shannon",
   "metadata": {},
   "outputs": [],
   "source": [
    "visualisation\n",
    "\n",
    "Maths"
   ]
  }
 ],
 "metadata": {
  "kernelspec": {
   "display_name": "Python 3",
   "language": "python",
   "name": "python3"
  },
  "language_info": {
   "codemirror_mode": {
    "name": "ipython",
    "version": 3
   },
   "file_extension": ".py",
   "mimetype": "text/x-python",
   "name": "python",
   "nbconvert_exporter": "python",
   "pygments_lexer": "ipython3",
   "version": "3.6.8"
  },
  "nbTranslate": {
   "displayLangs": [
    "*"
   ],
   "hotkey": "alt-t",
   "langInMainMenu": true,
   "sourceLang": "en",
   "targetLang": "fr",
   "useGoogleTranslate": true
  },
  "toc": {
   "base_numbering": 1,
   "nav_menu": {},
   "number_sections": true,
   "sideBar": true,
   "skip_h1_title": false,
   "title_cell": "Table of Contents",
   "title_sidebar": "Contents",
   "toc_cell": false,
   "toc_position": {
    "height": "calc(100% - 180px)",
    "left": "10px",
    "top": "150px",
    "width": "192px"
   },
   "toc_section_display": true,
   "toc_window_display": false
  },
  "varInspector": {
   "cols": {
    "lenName": 16,
    "lenType": 16,
    "lenVar": 40
   },
   "kernels_config": {
    "python": {
     "delete_cmd_postfix": "",
     "delete_cmd_prefix": "del ",
     "library": "var_list.py",
     "varRefreshCmd": "print(var_dic_list())"
    },
    "r": {
     "delete_cmd_postfix": ") ",
     "delete_cmd_prefix": "rm(",
     "library": "var_list.r",
     "varRefreshCmd": "cat(var_dic_list()) "
    }
   },
   "types_to_exclude": [
    "module",
    "function",
    "builtin_function_or_method",
    "instance",
    "_Feature"
   ],
   "window_display": false
  }
 },
 "nbformat": 4,
 "nbformat_minor": 5
}
