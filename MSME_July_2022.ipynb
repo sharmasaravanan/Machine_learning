{
 "cells": [
  {
   "cell_type": "markdown",
   "id": "joint-challenge",
   "metadata": {},
   "source": [
    "### Links"
   ]
  },
  {
   "cell_type": "markdown",
   "id": "rough-finance",
   "metadata": {},
   "source": [
    "* This notebook :- https://bit.ly/MSME_July_2022\n",
    "\n",
    "* String method :-https://www.tutorialspoint.com/python3/python_strings.htm\n",
    "\n",
    "* Built-in functions :- https://www.w3schools.com/python/python_ref_functions.asp\n",
    "* Exception :- https://www.tutorialspoint.com/python/python_exceptions.htm\n",
    "* Books :- http://bit.ly/AI_material\n",
    "* Exercise :- https://www.w3resource.com/python-exercises/\n",
    "* Inbuilt Libraries :- https://docs.python.org/3.6/py-modindex.html\n"
   ]
  },
  {
   "cell_type": "markdown",
   "id": "beginning-orange",
   "metadata": {},
   "source": [
    "### Difference between C/C++ and python"
   ]
  },
  {
   "cell_type": "code",
   "execution_count": null,
   "id": "sharp-output",
   "metadata": {},
   "outputs": [],
   "source": [
    "#include <stdio.h>\n",
    "int main() {\n",
    "   printf(\"Hello, World!\");\n",
    "   return 0;\n",
    "}\n"
   ]
  },
  {
   "cell_type": "code",
   "execution_count": 3,
   "id": "ancient-booth",
   "metadata": {},
   "outputs": [
    {
     "name": "stdout",
     "output_type": "stream",
     "text": [
      "Hello, World!\n"
     ]
    }
   ],
   "source": [
    "print(\"Hello, World!\")"
   ]
  },
  {
   "cell_type": "markdown",
   "id": "related-graham",
   "metadata": {},
   "source": [
    "### Datatypes"
   ]
  },
  {
   "cell_type": "code",
   "execution_count": 5,
   "id": "varying-escape",
   "metadata": {},
   "outputs": [],
   "source": [
    "a = 5 # int\n",
    "b = 3.14 # float\n",
    "c = \"apple\" # string\n",
    "d = False # bool"
   ]
  },
  {
   "cell_type": "code",
   "execution_count": 8,
   "id": "convenient-fluid",
   "metadata": {},
   "outputs": [
    {
     "name": "stdout",
     "output_type": "stream",
     "text": [
      "<class 'int'>\n",
      "<class 'float'>\n",
      "<class 'str'>\n",
      "<class 'bool'>\n"
     ]
    }
   ],
   "source": [
    "print(type(a))\n",
    "print(type(b))\n",
    "print(type(c))\n",
    "print(type(d))"
   ]
  },
  {
   "cell_type": "markdown",
   "id": "superb-chaos",
   "metadata": {},
   "source": [
    "### Variables"
   ]
  },
  {
   "cell_type": "markdown",
   "id": "billion-geology",
   "metadata": {},
   "source": [
    "Dont's\n",
    "\n",
    "    1. Int as variable\n",
    "    2. Case sensitive"
   ]
  },
  {
   "cell_type": "markdown",
   "id": "sublime-complexity",
   "metadata": {},
   "source": [
    "cutomerName, customer_name, name1, _name, "
   ]
  },
  {
   "cell_type": "markdown",
   "id": "raising-bishop",
   "metadata": {},
   "source": [
    "### print function"
   ]
  },
  {
   "cell_type": "code",
   "execution_count": 18,
   "id": "welsh-vaccine",
   "metadata": {},
   "outputs": [
    {
     "name": "stdout",
     "output_type": "stream",
     "text": [
      "apple\n",
      "5\n",
      "3.14 apple\n"
     ]
    }
   ],
   "source": [
    "print(\"apple\")\n",
    "print(a)\n",
    "print(b,c)"
   ]
  },
  {
   "cell_type": "code",
   "execution_count": 23,
   "id": "satellite-butler",
   "metadata": {
    "collapsed": true
   },
   "outputs": [
    {
     "name": "stdout",
     "output_type": "stream",
     "text": [
      "Method-1\n",
      "hello 5\n",
      "hello apple\n",
      "-------------\n",
      "Method-2\n",
      "hello 5\n",
      "hello apple\n",
      "-------------\n",
      "Method-3\n",
      "hello 5\n",
      "hello apple\n",
      "-------------\n",
      "Method-4\n",
      "hello 5\n",
      "hello apple\n"
     ]
    }
   ],
   "source": [
    "# hello 5\n",
    "# hello apple\n",
    "\n",
    "print(\"Method-1\")\n",
    "print(\"hello\",a)\n",
    "print(\"hello\",c)\n",
    "\n",
    "print(\"-------------\")\n",
    "print(\"Method-2\")\n",
    "print(\"hello \"+ str(a))\n",
    "print(\"hello \"+ c)\n",
    "\n",
    "print(\"-------------\")\n",
    "print(\"Method-3\")\n",
    "print(\"hello %d\"%a)\n",
    "print(\"hello %s\"%c)\n",
    "\n",
    "print(\"-------------\")\n",
    "print(\"Method-4\")\n",
    "print(\"hello {}\".format(a))\n",
    "print(\"hello {}\".format(c))"
   ]
  },
  {
   "cell_type": "code",
   "execution_count": 24,
   "id": "earlier-prevention",
   "metadata": {
    "collapsed": true
   },
   "outputs": [
    {
     "name": "stdout",
     "output_type": "stream",
     "text": [
      "hello 5 apple\n",
      "hello 5 apple\n"
     ]
    }
   ],
   "source": [
    "print(\"hello %d %s\"%(a,c))\n",
    "\n",
    "print(\"hello {} {}\".format(a, c))\n"
   ]
  },
  {
   "cell_type": "markdown",
   "id": "generic-competition",
   "metadata": {},
   "source": [
    "### Typecasting"
   ]
  },
  {
   "cell_type": "code",
   "execution_count": 30,
   "id": "collect-sarah",
   "metadata": {},
   "outputs": [
    {
     "name": "stdout",
     "output_type": "stream",
     "text": [
      "<class 'str'>\n",
      "<class 'int'> <class 'str'>\n",
      "5.0\n",
      "3\n"
     ]
    }
   ],
   "source": [
    "# int to str\n",
    "print(type(str(50)))\n",
    "\n",
    "# str to int\n",
    "print(type(int('50')), type('50'))\n",
    "\n",
    "# int to float\n",
    "print(float(5))\n",
    "\n",
    "# float to int\n",
    "print(int(3.14))"
   ]
  },
  {
   "cell_type": "markdown",
   "id": "contrary-coverage",
   "metadata": {},
   "source": [
    "### Task-1"
   ]
  },
  {
   "cell_type": "code",
   "execution_count": 31,
   "id": "wrapped-blast",
   "metadata": {},
   "outputs": [],
   "source": [
    "# I bought 2kgs of orange for 125.45Rs\n",
    "w = 2\n",
    "f = 'orange'\n",
    "p = 125.45"
   ]
  },
  {
   "cell_type": "code",
   "execution_count": 38,
   "id": "corrected-movement",
   "metadata": {},
   "outputs": [
    {
     "name": "stdout",
     "output_type": "stream",
     "text": [
      "I bought 2 kgs of orange for 125.45 Rs\n",
      "I bought 2kgs of orange for 125.45Rs\n",
      "I bought 2kgs of orange for 125.45Rs\n",
      "I bought 2kgs of orange for 125.45Rs\n"
     ]
    }
   ],
   "source": [
    "print(\"I bought\",w,\"kgs of\",f,\"for\",p,\"Rs\")\n",
    "print(\"I bought \"+str(w)+\"kgs of \"+f+\" for \"+ str(p)+\"Rs\")\n",
    "print(\"I bought %dkgs of %s for %0.2fRs\"%(w,f,p))\n",
    "print(\"I bought {}kgs of {} for {}Rs\".format(w,f,p))"
   ]
  },
  {
   "cell_type": "markdown",
   "id": "searching-transsexual",
   "metadata": {},
   "source": [
    "### input function (Getting input from the user)"
   ]
  },
  {
   "cell_type": "code",
   "execution_count": 42,
   "id": "third-compression",
   "metadata": {},
   "outputs": [
    {
     "name": "stdout",
     "output_type": "stream",
     "text": [
      "Please enter the name: abcd\n",
      "please enter the age: 12.45\n"
     ]
    }
   ],
   "source": [
    "name = input(\"Please enter the name: \")\n",
    "age = input(\"please enter the age: \")"
   ]
  },
  {
   "cell_type": "code",
   "execution_count": 43,
   "id": "killing-impact",
   "metadata": {},
   "outputs": [
    {
     "name": "stdout",
     "output_type": "stream",
     "text": [
      "abcd 12.45\n"
     ]
    }
   ],
   "source": [
    "print(name, age)"
   ]
  },
  {
   "cell_type": "code",
   "execution_count": 44,
   "id": "executive-theta",
   "metadata": {},
   "outputs": [
    {
     "name": "stdout",
     "output_type": "stream",
     "text": [
      "<class 'str'> <class 'str'>\n"
     ]
    }
   ],
   "source": [
    "print(type(name), type(age))"
   ]
  },
  {
   "cell_type": "markdown",
   "id": "conceptual-parcel",
   "metadata": {},
   "source": [
    "### if-else"
   ]
  },
  {
   "cell_type": "code",
   "execution_count": 49,
   "id": "cooperative-seller",
   "metadata": {},
   "outputs": [
    {
     "name": "stdout",
     "output_type": "stream",
     "text": [
      "Please enter any number: 11\n",
      "Number is odd\n"
     ]
    }
   ],
   "source": [
    "num = float(input(\"Please enter any number: \"))\n",
    "if num % 2 == 0:\n",
    "    print(\"Number is even\")\n",
    "else:\n",
    "    print(\"Number is odd\")"
   ]
  },
  {
   "cell_type": "code",
   "execution_count": 52,
   "id": "distinct-windsor",
   "metadata": {},
   "outputs": [
    {
     "name": "stdout",
     "output_type": "stream",
     "text": [
      "Please enter any number: 5\n",
      "Number is odd\n"
     ]
    }
   ],
   "source": [
    "num = float(input(\"Please enter any number: \"))\n",
    "if num % 4 == 0:\n",
    "    print(\"Number is divisible by 4 and even\")\n",
    "elif num % 2 == 0:\n",
    "    print(\"Number is even\")\n",
    "else:\n",
    "    print(\"Number is odd\")"
   ]
  },
  {
   "cell_type": "code",
   "execution_count": 55,
   "id": "naughty-affiliation",
   "metadata": {},
   "outputs": [
    {
     "name": "stdout",
     "output_type": "stream",
     "text": [
      "Please enter any number: 5\n",
      "Number is odd\n",
      "\n"
     ]
    }
   ],
   "source": [
    "num = float(input(\"Please enter any number: \"))\n",
    "if num % 2 == 0:\n",
    "    print(\"Number is even\")\n",
    "    if num % 4 == 0:\n",
    "        print(\"It is also divisible by 4\")\n",
    "else:\n",
    "    print(\"Number is odd\")\n",
    "print()"
   ]
  },
  {
   "cell_type": "code",
   "execution_count": 56,
   "id": "arranged-accessory",
   "metadata": {
    "collapsed": true
   },
   "outputs": [
    {
     "name": "stdout",
     "output_type": "stream",
     "text": [
      "Please enter any number: 20\n",
      "Number is divisible by 4 and even\n",
      "Please enter any number: 10\n",
      "Number is even\n",
      "Please enter any number: 5\n",
      "Number is odd\n",
      "Please enter any number: 3\n",
      "Number is odd\n",
      "Please enter any number: 1\n",
      "Number is odd\n"
     ]
    }
   ],
   "source": [
    "i = 0\n",
    "while i < 5:\n",
    "    num = float(input(\"Please enter any number: \"))\n",
    "    if num % 4 == 0:\n",
    "        print(\"Number is divisible by 4 and even\")\n",
    "    elif num % 2 == 0:\n",
    "        print(\"Number is even\")\n",
    "    else:\n",
    "        print(\"Number is odd\")\n",
    "    i += 1"
   ]
  },
  {
   "cell_type": "code",
   "execution_count": 60,
   "id": "standard-medication",
   "metadata": {},
   "outputs": [
    {
     "name": "stdout",
     "output_type": "stream",
     "text": [
      "Please enter any number: 32\n",
      "Number is divisible by 4 and even\n",
      "Do you want to try again? y/n: n\n",
      "Thank you!!\n"
     ]
    }
   ],
   "source": [
    "choice = 'y'\n",
    "while choice == 'y':\n",
    "    num = float(input(\"Please enter any number: \"))\n",
    "    if num % 4 == 0:\n",
    "        print(\"Number is divisible by 4 and even\")\n",
    "    elif num % 2 == 0:\n",
    "        print(\"Number is even\")\n",
    "    else:\n",
    "        print(\"Number is odd\")\n",
    "    choice = input(\"Do you want to try again? y/n: \")        \n",
    "else:\n",
    "    print(\"Thank you!!\")"
   ]
  },
  {
   "cell_type": "markdown",
   "id": "stopped-pottery",
   "metadata": {},
   "source": [
    "### HW-1"
   ]
  },
  {
   "cell_type": "markdown",
   "id": "sporting-occasion",
   "metadata": {},
   "source": [
    "Write a python program for rock-paper-scissor game. Based on the following rules,\n",
    "\n",
    "    rock beats scissor\n",
    "    scissor beats paper\n",
    "    paper beats rock"
   ]
  },
  {
   "cell_type": "code",
   "execution_count": null,
   "id": "falling-option",
   "metadata": {},
   "outputs": [],
   "source": [
    "while True:\n",
    "    user = input(\"Enter your player-1 :\")\n",
    "    if user == \"quit\" or user == \"q\":\n",
    "        print(\"Good Bye....\")\n",
    "        break\n",
    "        \n",
    "    comp = input(\"Enter your player-2 :\")\n",
    "    if comp == \"quit\" or comp == \"q\":\n",
    "        print(\"Good Bye....\")\n",
    "        break\n",
    "        \n",
    "    print(\"player_1 choice is \", user, \"and player_2 choice is \", comp)\n",
    "    if user == comp:\n",
    "        print(\"Game is tie\")\n",
    "        continue\n",
    "    elif user == \"rock\":\n",
    "        if comp == \"scissor\":\n",
    "            print(\"user won the game\")\n",
    "        else:\n",
    "            print(\"Computer won the game\")\n",
    "    elif user == \"scissor\":\n",
    "        if comp==\"paper\":\n",
    "            print (\"user won the game\")\n",
    "        else:\n",
    "            print (\"computer won the game\")\n",
    "    elif user==\"paper\":\n",
    "        if comp==\"rock\":\n",
    "            print (\"user won the game\")\n",
    "        else:\n",
    "            print (\"computer won the game\")\n",
    "    else:\n",
    "        print (\"Have a nice day....!!!\")\n"
   ]
  },
  {
   "cell_type": "markdown",
   "id": "stunning-uncle",
   "metadata": {},
   "source": [
    "### string functions"
   ]
  },
  {
   "cell_type": "code",
   "execution_count": 61,
   "id": "excellent-restaurant",
   "metadata": {},
   "outputs": [],
   "source": [
    "animal = \"elephant\"\n",
    "statement = \"Write a python program for rock-paper-scissor game. Based on the following rules,\""
   ]
  },
  {
   "cell_type": "markdown",
   "id": "comfortable-passing",
   "metadata": {},
   "source": [
    "#### Slice and Dice"
   ]
  },
  {
   "cell_type": "code",
   "execution_count": 67,
   "id": "under-input",
   "metadata": {},
   "outputs": [
    {
     "name": "stdout",
     "output_type": "stream",
     "text": [
      "h\n",
      "hant\n",
      "elep\n",
      "8\n",
      "epha\n",
      "tnahpele\n"
     ]
    }
   ],
   "source": [
    "print(animal[4])\n",
    "print(animal[4:])\n",
    "print(animal[:4])\n",
    "print(len(animal))\n",
    "print(animal[2:6])\n",
    "print(animal[::-1])"
   ]
  },
  {
   "cell_type": "markdown",
   "id": "million-advance",
   "metadata": {},
   "source": [
    "#### string methods"
   ]
  },
  {
   "cell_type": "code",
   "execution_count": 69,
   "id": "needed-delicious",
   "metadata": {},
   "outputs": [
    {
     "name": "stdout",
     "output_type": "stream",
     "text": [
      "('ELEPHANT', 'elephant', 'Write A Python Program For Rock-Paper-Scissor Game. Based On The Following Rules,', 'Elephant', 'wRITE A PYTHON PROGRAM FOR ROCK-PAPER-SCISSOR GAME. bASED ON THE FOLLOWING RULES,')\n"
     ]
    }
   ],
   "source": [
    "print((animal.upper(), animal.lower(), statement.title(), animal.capitalize(),\n",
    "       statement.swapcase()))"
   ]
  },
  {
   "cell_type": "code",
   "execution_count": 71,
   "id": "considerable-protection",
   "metadata": {},
   "outputs": [
    {
     "name": "stdout",
     "output_type": "stream",
     "text": [
      "('~~~~~~elephant~~~~~~', 2, '001234')\n"
     ]
    }
   ],
   "source": [
    "print((animal.center(20, \"~\"), animal.count(\"e\"), \"1234\".zfill(6)))"
   ]
  },
  {
   "cell_type": "code",
   "execution_count": 72,
   "id": "pursuant-shareware",
   "metadata": {},
   "outputs": [
    {
     "name": "stdout",
     "output_type": "stream",
     "text": [
      "46 46\n"
     ]
    }
   ],
   "source": [
    "print(statement.find(\"game\"), statement.index(\"game\"))"
   ]
  },
  {
   "cell_type": "code",
   "execution_count": 73,
   "id": "owned-debate",
   "metadata": {},
   "outputs": [
    {
     "name": "stdout",
     "output_type": "stream",
     "text": [
      "-1\n"
     ]
    }
   ],
   "source": [
    "print(statement.find(\"games\"))"
   ]
  },
  {
   "cell_type": "code",
   "execution_count": 75,
   "id": "centered-directive",
   "metadata": {},
   "outputs": [
    {
     "ename": "ValueError",
     "evalue": "substring not found",
     "output_type": "error",
     "traceback": [
      "\u001b[0;31m---------------------------------------------------------------------------\u001b[0m",
      "\u001b[0;31mValueError\u001b[0m                                Traceback (most recent call last)",
      "\u001b[0;32m<ipython-input-75-891d72336add>\u001b[0m in \u001b[0;36m<module>\u001b[0;34m\u001b[0m\n\u001b[0;32m----> 1\u001b[0;31m \u001b[0mprint\u001b[0m\u001b[0;34m(\u001b[0m\u001b[0mstatement\u001b[0m\u001b[0;34m.\u001b[0m\u001b[0mindex\u001b[0m\u001b[0;34m(\u001b[0m\u001b[0;34m\"games\"\u001b[0m\u001b[0;34m)\u001b[0m\u001b[0;34m)\u001b[0m\u001b[0;34m\u001b[0m\u001b[0;34m\u001b[0m\u001b[0m\n\u001b[0m",
      "\u001b[0;31mValueError\u001b[0m: substring not found"
     ]
    }
   ],
   "source": [
    "print(statement.index(\"games\"))"
   ]
  },
  {
   "cell_type": "code",
   "execution_count": 77,
   "id": "historic-relative",
   "metadata": {},
   "outputs": [
    {
     "name": "stdout",
     "output_type": "stream",
     "text": [
      "['Write a python program for rock-paper-scissor game', ' Based on the following rules,']\n"
     ]
    }
   ],
   "source": [
    "print(statement.split('.'))"
   ]
  },
  {
   "cell_type": "code",
   "execution_count": 78,
   "id": "polar-cookbook",
   "metadata": {},
   "outputs": [
    {
     "name": "stdout",
     "output_type": "stream",
     "text": [
      "Write a python program for rock-paper-scissor game. Based on the following rules,\n"
     ]
    }
   ],
   "source": [
    "print(\".\".join(statement.split('.')))"
   ]
  },
  {
   "cell_type": "code",
   "execution_count": 79,
   "id": "final-couple",
   "metadata": {},
   "outputs": [
    {
     "data": {
      "text/plain": [
       "True"
      ]
     },
     "execution_count": 79,
     "metadata": {},
     "output_type": "execute_result"
    }
   ],
   "source": [
    "animal.isalnum()"
   ]
  },
  {
   "cell_type": "code",
   "execution_count": 84,
   "id": "stock-former",
   "metadata": {},
   "outputs": [
    {
     "data": {
      "text/plain": [
       "True"
      ]
     },
     "execution_count": 84,
     "metadata": {},
     "output_type": "execute_result"
    }
   ],
   "source": [
    "\"12\".isdigit()"
   ]
  },
  {
   "cell_type": "markdown",
   "id": "casual-stocks",
   "metadata": {},
   "source": [
    "### list, tuple, dict"
   ]
  },
  {
   "cell_type": "markdown",
   "id": "cardiac-mason",
   "metadata": {},
   "source": [
    "#### list"
   ]
  },
  {
   "cell_type": "code",
   "execution_count": 85,
   "id": "fourth-sample",
   "metadata": {},
   "outputs": [],
   "source": [
    "L = []\n",
    "l = ['a','b','apple','papaya','cherry', 12,56,73, 3.14, 4,2]"
   ]
  },
  {
   "cell_type": "markdown",
   "id": "center-rating",
   "metadata": {},
   "source": [
    "##### Slice and Dice"
   ]
  },
  {
   "cell_type": "code",
   "execution_count": 86,
   "id": "behavioral-standing",
   "metadata": {},
   "outputs": [
    {
     "data": {
      "text/plain": [
       "'cherry'"
      ]
     },
     "execution_count": 86,
     "metadata": {},
     "output_type": "execute_result"
    }
   ],
   "source": [
    "l [4]"
   ]
  },
  {
   "cell_type": "code",
   "execution_count": 87,
   "id": "covered-divorce",
   "metadata": {},
   "outputs": [],
   "source": [
    "l [4] = \"berry\""
   ]
  },
  {
   "cell_type": "code",
   "execution_count": 89,
   "id": "secret-responsibility",
   "metadata": {},
   "outputs": [
    {
     "name": "stdout",
     "output_type": "stream",
     "text": [
      "['a', 'b', 'apple', 'papaya', 'berry', 12, 56, 73, 3.14, 4, 2]\n"
     ]
    }
   ],
   "source": [
    "print(l)"
   ]
  },
  {
   "cell_type": "code",
   "execution_count": 90,
   "id": "intensive-speed",
   "metadata": {},
   "outputs": [],
   "source": [
    "del l[1]"
   ]
  },
  {
   "cell_type": "code",
   "execution_count": 91,
   "id": "recent-september",
   "metadata": {},
   "outputs": [
    {
     "name": "stdout",
     "output_type": "stream",
     "text": [
      "['a', 'apple', 'papaya', 'berry', 12, 56, 73, 3.14, 4, 2]\n"
     ]
    }
   ],
   "source": [
    "print(l)"
   ]
  },
  {
   "cell_type": "markdown",
   "id": "freelance-product",
   "metadata": {},
   "source": [
    "##### Methods"
   ]
  },
  {
   "cell_type": "code",
   "execution_count": 92,
   "id": "sudden-tenant",
   "metadata": {},
   "outputs": [],
   "source": [
    "l.append(\"carrot\")"
   ]
  },
  {
   "cell_type": "code",
   "execution_count": 94,
   "id": "designed-organ",
   "metadata": {},
   "outputs": [],
   "source": [
    "l.insert(3,\"mango\")"
   ]
  },
  {
   "cell_type": "code",
   "execution_count": 95,
   "id": "anonymous-lesson",
   "metadata": {},
   "outputs": [
    {
     "data": {
      "text/plain": [
       "['a', 'apple', 'papaya', 'mango', 'berry', 12, 56, 73, 3.14, 4, 2, 'carrot']"
      ]
     },
     "execution_count": 95,
     "metadata": {},
     "output_type": "execute_result"
    }
   ],
   "source": [
    "l"
   ]
  },
  {
   "cell_type": "code",
   "execution_count": 96,
   "id": "satisfied-samoa",
   "metadata": {},
   "outputs": [
    {
     "data": {
      "text/plain": [
       "'carrot'"
      ]
     },
     "execution_count": 96,
     "metadata": {},
     "output_type": "execute_result"
    }
   ],
   "source": [
    "l.pop()"
   ]
  },
  {
   "cell_type": "code",
   "execution_count": 97,
   "id": "major-attack",
   "metadata": {},
   "outputs": [],
   "source": [
    "l.remove('a')"
   ]
  },
  {
   "cell_type": "code",
   "execution_count": 98,
   "id": "mathematical-kansas",
   "metadata": {},
   "outputs": [
    {
     "data": {
      "text/plain": [
       "['apple', 'papaya', 'mango', 'berry', 12, 56, 73, 3.14, 4, 2]"
      ]
     },
     "execution_count": 98,
     "metadata": {},
     "output_type": "execute_result"
    }
   ],
   "source": [
    "l"
   ]
  },
  {
   "cell_type": "code",
   "execution_count": 100,
   "id": "circular-recycling",
   "metadata": {},
   "outputs": [],
   "source": [
    "l.reverse()"
   ]
  },
  {
   "cell_type": "code",
   "execution_count": 102,
   "id": "lovely-external",
   "metadata": {},
   "outputs": [
    {
     "data": {
      "text/plain": [
       "['apple', 'papaya', 'mango', 'berry', 12, 56, 73, 3.14, 4, 2]"
      ]
     },
     "execution_count": 102,
     "metadata": {},
     "output_type": "execute_result"
    }
   ],
   "source": [
    "l[::-1]"
   ]
  },
  {
   "cell_type": "code",
   "execution_count": 103,
   "id": "convenient-modern",
   "metadata": {},
   "outputs": [
    {
     "data": {
      "text/plain": [
       "[2, 4, 3.14, 73, 56, 12, 'berry', 'mango', 'papaya', 'apple']"
      ]
     },
     "execution_count": 103,
     "metadata": {},
     "output_type": "execute_result"
    }
   ],
   "source": [
    "l"
   ]
  },
  {
   "cell_type": "code",
   "execution_count": 104,
   "id": "inside-uzbekistan",
   "metadata": {},
   "outputs": [],
   "source": [
    "f = l "
   ]
  },
  {
   "cell_type": "code",
   "execution_count": 105,
   "id": "english-interim",
   "metadata": {},
   "outputs": [
    {
     "data": {
      "text/plain": [
       "[2, 4, 3.14, 73, 56, 12, 'berry', 'mango', 'papaya', 'apple']"
      ]
     },
     "execution_count": 105,
     "metadata": {},
     "output_type": "execute_result"
    }
   ],
   "source": [
    "f"
   ]
  },
  {
   "cell_type": "code",
   "execution_count": 106,
   "id": "imperial-fetish",
   "metadata": {},
   "outputs": [],
   "source": [
    "f.remove(2)"
   ]
  },
  {
   "cell_type": "code",
   "execution_count": 107,
   "id": "undefined-winter",
   "metadata": {},
   "outputs": [
    {
     "data": {
      "text/plain": [
       "[4, 3.14, 73, 56, 12, 'berry', 'mango', 'papaya', 'apple']"
      ]
     },
     "execution_count": 107,
     "metadata": {},
     "output_type": "execute_result"
    }
   ],
   "source": [
    "f"
   ]
  },
  {
   "cell_type": "code",
   "execution_count": 108,
   "id": "bronze-carpet",
   "metadata": {},
   "outputs": [
    {
     "data": {
      "text/plain": [
       "[4, 3.14, 73, 56, 12, 'berry', 'mango', 'papaya', 'apple']"
      ]
     },
     "execution_count": 108,
     "metadata": {},
     "output_type": "execute_result"
    }
   ],
   "source": [
    "l"
   ]
  },
  {
   "cell_type": "code",
   "execution_count": 109,
   "id": "irish-fellow",
   "metadata": {},
   "outputs": [],
   "source": [
    "g = l.copy()"
   ]
  },
  {
   "cell_type": "code",
   "execution_count": 112,
   "id": "cordless-turkish",
   "metadata": {},
   "outputs": [],
   "source": [
    "g.remove(4)"
   ]
  },
  {
   "cell_type": "code",
   "execution_count": 113,
   "id": "pregnant-basketball",
   "metadata": {},
   "outputs": [
    {
     "data": {
      "text/plain": [
       "[3.14, 73, 56, 12, 'berry', 'mango', 'papaya', 'apple']"
      ]
     },
     "execution_count": 113,
     "metadata": {},
     "output_type": "execute_result"
    }
   ],
   "source": [
    "g"
   ]
  },
  {
   "cell_type": "code",
   "execution_count": 114,
   "id": "lightweight-wildlife",
   "metadata": {},
   "outputs": [
    {
     "data": {
      "text/plain": [
       "[4, 3.14, 73, 56, 12, 'berry', 'mango', 'papaya', 'apple']"
      ]
     },
     "execution_count": 114,
     "metadata": {},
     "output_type": "execute_result"
    }
   ],
   "source": [
    "l"
   ]
  },
  {
   "cell_type": "code",
   "execution_count": 115,
   "id": "aging-flood",
   "metadata": {},
   "outputs": [],
   "source": [
    "g.clear()"
   ]
  },
  {
   "cell_type": "code",
   "execution_count": 116,
   "id": "tropical-remove",
   "metadata": {},
   "outputs": [
    {
     "data": {
      "text/plain": [
       "[]"
      ]
     },
     "execution_count": 116,
     "metadata": {},
     "output_type": "execute_result"
    }
   ],
   "source": [
    "g"
   ]
  },
  {
   "cell_type": "code",
   "execution_count": 117,
   "id": "narrative-abuse",
   "metadata": {},
   "outputs": [
    {
     "data": {
      "text/plain": [
       "[]"
      ]
     },
     "execution_count": 117,
     "metadata": {},
     "output_type": "execute_result"
    }
   ],
   "source": [
    "L"
   ]
  },
  {
   "cell_type": "code",
   "execution_count": 118,
   "id": "restricted-furniture",
   "metadata": {},
   "outputs": [],
   "source": [
    "L.extend(['berry', 'mango', 'papaya', 'apple'])"
   ]
  },
  {
   "cell_type": "code",
   "execution_count": 119,
   "id": "little-hollow",
   "metadata": {},
   "outputs": [
    {
     "data": {
      "text/plain": [
       "['berry', 'mango', 'papaya', 'apple']"
      ]
     },
     "execution_count": 119,
     "metadata": {},
     "output_type": "execute_result"
    }
   ],
   "source": [
    "L"
   ]
  },
  {
   "cell_type": "code",
   "execution_count": 120,
   "id": "respective-madrid",
   "metadata": {},
   "outputs": [
    {
     "ename": "TypeError",
     "evalue": "'<' not supported between instances of 'str' and 'int'",
     "output_type": "error",
     "traceback": [
      "\u001b[0;31m---------------------------------------------------------------------------\u001b[0m",
      "\u001b[0;31mTypeError\u001b[0m                                 Traceback (most recent call last)",
      "\u001b[0;32m<ipython-input-120-fb07ac7c73ab>\u001b[0m in \u001b[0;36m<module>\u001b[0;34m\u001b[0m\n\u001b[0;32m----> 1\u001b[0;31m \u001b[0ml\u001b[0m\u001b[0;34m.\u001b[0m\u001b[0msort\u001b[0m\u001b[0;34m(\u001b[0m\u001b[0;34m)\u001b[0m\u001b[0;34m\u001b[0m\u001b[0;34m\u001b[0m\u001b[0m\n\u001b[0m",
      "\u001b[0;31mTypeError\u001b[0m: '<' not supported between instances of 'str' and 'int'"
     ]
    }
   ],
   "source": [
    "l.sort()"
   ]
  },
  {
   "cell_type": "code",
   "execution_count": 123,
   "id": "approximate-mexican",
   "metadata": {},
   "outputs": [],
   "source": [
    "L.sort(reverse=True)"
   ]
  },
  {
   "cell_type": "code",
   "execution_count": 124,
   "id": "interpreted-demand",
   "metadata": {},
   "outputs": [
    {
     "data": {
      "text/plain": [
       "['papaya', 'mango', 'berry', 'apple']"
      ]
     },
     "execution_count": 124,
     "metadata": {},
     "output_type": "execute_result"
    }
   ],
   "source": [
    "L"
   ]
  },
  {
   "cell_type": "markdown",
   "id": "altered-mentor",
   "metadata": {},
   "source": [
    "#### Tuple"
   ]
  },
  {
   "cell_type": "code",
   "execution_count": 125,
   "id": "demonstrated-sight",
   "metadata": {},
   "outputs": [],
   "source": [
    "t = ('papaya', 'mango', 'berry', 'apple')"
   ]
  },
  {
   "cell_type": "code",
   "execution_count": 127,
   "id": "wooden-firewall",
   "metadata": {},
   "outputs": [
    {
     "data": {
      "text/plain": [
       "(tuple, list)"
      ]
     },
     "execution_count": 127,
     "metadata": {},
     "output_type": "execute_result"
    }
   ],
   "source": [
    "type(t), type(L)"
   ]
  },
  {
   "cell_type": "code",
   "execution_count": 129,
   "id": "initial-exclusive",
   "metadata": {},
   "outputs": [
    {
     "ename": "TypeError",
     "evalue": "'tuple' object doesn't support item deletion",
     "output_type": "error",
     "traceback": [
      "\u001b[0;31m---------------------------------------------------------------------------\u001b[0m",
      "\u001b[0;31mTypeError\u001b[0m                                 Traceback (most recent call last)",
      "\u001b[0;32m<ipython-input-129-542f9bb8f15e>\u001b[0m in \u001b[0;36m<module>\u001b[0;34m\u001b[0m\n\u001b[0;32m----> 1\u001b[0;31m \u001b[0;32mdel\u001b[0m \u001b[0mt\u001b[0m\u001b[0;34m[\u001b[0m\u001b[0;36m0\u001b[0m\u001b[0;34m]\u001b[0m\u001b[0;34m\u001b[0m\u001b[0;34m\u001b[0m\u001b[0m\n\u001b[0m",
      "\u001b[0;31mTypeError\u001b[0m: 'tuple' object doesn't support item deletion"
     ]
    }
   ],
   "source": [
    "del t[0]"
   ]
  },
  {
   "cell_type": "code",
   "execution_count": 130,
   "id": "sapphire-culture",
   "metadata": {},
   "outputs": [
    {
     "ename": "TypeError",
     "evalue": "'tuple' object does not support item assignment",
     "output_type": "error",
     "traceback": [
      "\u001b[0;31m---------------------------------------------------------------------------\u001b[0m",
      "\u001b[0;31mTypeError\u001b[0m                                 Traceback (most recent call last)",
      "\u001b[0;32m<ipython-input-130-0e4ade595b14>\u001b[0m in \u001b[0;36m<module>\u001b[0;34m\u001b[0m\n\u001b[0;32m----> 1\u001b[0;31m \u001b[0mt\u001b[0m\u001b[0;34m[\u001b[0m\u001b[0;36m0\u001b[0m\u001b[0;34m]\u001b[0m \u001b[0;34m=\u001b[0m \u001b[0;34m'abc'\u001b[0m\u001b[0;34m\u001b[0m\u001b[0;34m\u001b[0m\u001b[0m\n\u001b[0m",
      "\u001b[0;31mTypeError\u001b[0m: 'tuple' object does not support item assignment"
     ]
    }
   ],
   "source": [
    "t[0] = 'abc'"
   ]
  },
  {
   "cell_type": "markdown",
   "id": "promising-rapid",
   "metadata": {},
   "source": [
    "#### Dictionary"
   ]
  },
  {
   "cell_type": "code",
   "execution_count": 131,
   "id": "dutch-boxing",
   "metadata": {},
   "outputs": [],
   "source": [
    "D = {}"
   ]
  },
  {
   "cell_type": "code",
   "execution_count": 132,
   "id": "continued-spotlight",
   "metadata": {},
   "outputs": [],
   "source": [
    "d = {\"a\":\"apple\", \"b\":1234, 3.1:\"cat\", 12:54, \"t\":t,\"l\":l}"
   ]
  },
  {
   "cell_type": "code",
   "execution_count": 133,
   "id": "motivated-gothic",
   "metadata": {},
   "outputs": [
    {
     "data": {
      "text/plain": [
       "{'a': 'apple',\n",
       " 'b': 1234,\n",
       " 3.1: 'cat',\n",
       " 12: 54,\n",
       " 't': ('papaya', 'mango', 'berry', 'apple'),\n",
       " 'l': [3.14, 4, 12, 56, 73, 'berry', 'mango', 'papaya', 'apple']}"
      ]
     },
     "execution_count": 133,
     "metadata": {},
     "output_type": "execute_result"
    }
   ],
   "source": [
    "d"
   ]
  },
  {
   "cell_type": "code",
   "execution_count": 134,
   "id": "global-course",
   "metadata": {},
   "outputs": [
    {
     "data": {
      "text/plain": [
       "dict_keys(['a', 'b', 3.1, 12, 't', 'l'])"
      ]
     },
     "execution_count": 134,
     "metadata": {},
     "output_type": "execute_result"
    }
   ],
   "source": [
    "d.keys()"
   ]
  },
  {
   "cell_type": "code",
   "execution_count": 135,
   "id": "stone-float",
   "metadata": {},
   "outputs": [
    {
     "data": {
      "text/plain": [
       "dict_values(['apple', 1234, 'cat', 54, ('papaya', 'mango', 'berry', 'apple'), [3.14, 4, 12, 56, 73, 'berry', 'mango', 'papaya', 'apple']])"
      ]
     },
     "execution_count": 135,
     "metadata": {},
     "output_type": "execute_result"
    }
   ],
   "source": [
    "d.values()"
   ]
  },
  {
   "cell_type": "code",
   "execution_count": 136,
   "id": "promotional-colombia",
   "metadata": {},
   "outputs": [],
   "source": [
    "d['f'] = \"fish\""
   ]
  },
  {
   "cell_type": "code",
   "execution_count": 137,
   "id": "julian-matter",
   "metadata": {},
   "outputs": [
    {
     "data": {
      "text/plain": [
       "{'a': 'apple',\n",
       " 'b': 1234,\n",
       " 3.1: 'cat',\n",
       " 12: 54,\n",
       " 't': ('papaya', 'mango', 'berry', 'apple'),\n",
       " 'l': [3.14, 4, 12, 56, 73, 'berry', 'mango', 'papaya', 'apple'],\n",
       " 'f': 'fish'}"
      ]
     },
     "execution_count": 137,
     "metadata": {},
     "output_type": "execute_result"
    }
   ],
   "source": [
    "d"
   ]
  },
  {
   "cell_type": "code",
   "execution_count": 138,
   "id": "viral-exposure",
   "metadata": {},
   "outputs": [],
   "source": [
    "del d[12]"
   ]
  },
  {
   "cell_type": "code",
   "execution_count": 139,
   "id": "heard-brighton",
   "metadata": {},
   "outputs": [
    {
     "data": {
      "text/plain": [
       "{'a': 'apple',\n",
       " 'b': 1234,\n",
       " 3.1: 'cat',\n",
       " 't': ('papaya', 'mango', 'berry', 'apple'),\n",
       " 'l': [3.14, 4, 12, 56, 73, 'berry', 'mango', 'papaya', 'apple'],\n",
       " 'f': 'fish'}"
      ]
     },
     "execution_count": 139,
     "metadata": {},
     "output_type": "execute_result"
    }
   ],
   "source": [
    "d"
   ]
  },
  {
   "cell_type": "code",
   "execution_count": 140,
   "id": "independent-reward",
   "metadata": {},
   "outputs": [
    {
     "data": {
      "text/plain": [
       "dict_items([('a', 'apple'), ('b', 1234), (3.1, 'cat'), ('t', ('papaya', 'mango', 'berry', 'apple')), ('l', [3.14, 4, 12, 56, 73, 'berry', 'mango', 'papaya', 'apple']), ('f', 'fish')])"
      ]
     },
     "execution_count": 140,
     "metadata": {},
     "output_type": "execute_result"
    }
   ],
   "source": [
    "d.items()"
   ]
  },
  {
   "cell_type": "code",
   "execution_count": 142,
   "id": "molecular-translator",
   "metadata": {},
   "outputs": [],
   "source": [
    "D.update(d)"
   ]
  },
  {
   "cell_type": "code",
   "execution_count": 143,
   "id": "greek-wings",
   "metadata": {},
   "outputs": [
    {
     "data": {
      "text/plain": [
       "{'a': 'apple',\n",
       " 'b': 1234,\n",
       " 3.1: 'cat',\n",
       " 't': ('papaya', 'mango', 'berry', 'apple'),\n",
       " 'l': [3.14, 4, 12, 56, 73, 'berry', 'mango', 'papaya', 'apple'],\n",
       " 'f': 'fish'}"
      ]
     },
     "execution_count": 143,
     "metadata": {},
     "output_type": "execute_result"
    }
   ],
   "source": [
    "D"
   ]
  },
  {
   "cell_type": "markdown",
   "id": "constant-stand",
   "metadata": {},
   "source": [
    "### for loop"
   ]
  },
  {
   "cell_type": "code",
   "execution_count": 144,
   "id": "circular-thesis",
   "metadata": {},
   "outputs": [
    {
     "name": "stdout",
     "output_type": "stream",
     "text": [
      "hi\n",
      "hi\n",
      "hi\n",
      "hi\n",
      "hi\n"
     ]
    }
   ],
   "source": [
    "for i in range(5):\n",
    "    print(\"hi\")"
   ]
  },
  {
   "cell_type": "code",
   "execution_count": 145,
   "id": "informative-offense",
   "metadata": {},
   "outputs": [
    {
     "name": "stdout",
     "output_type": "stream",
     "text": [
      "0\n",
      "1\n",
      "2\n",
      "3\n",
      "4\n"
     ]
    }
   ],
   "source": [
    "for i in range(5):\n",
    "    print(i)"
   ]
  },
  {
   "cell_type": "code",
   "execution_count": 146,
   "id": "northern-priority",
   "metadata": {},
   "outputs": [
    {
     "name": "stdout",
     "output_type": "stream",
     "text": [
      "10\n",
      "11\n",
      "12\n",
      "13\n",
      "14\n",
      "15\n",
      "16\n",
      "17\n",
      "18\n",
      "19\n"
     ]
    }
   ],
   "source": [
    "for i in range(10,20):\n",
    "    print(i)"
   ]
  },
  {
   "cell_type": "code",
   "execution_count": 147,
   "id": "fifteen-interpretation",
   "metadata": {},
   "outputs": [
    {
     "name": "stdout",
     "output_type": "stream",
     "text": [
      "hi\n",
      "hi\n",
      "hi\n",
      "hi\n",
      "hi\n"
     ]
    }
   ],
   "source": [
    "for _ in range(5):\n",
    "    print(\"hi\")"
   ]
  },
  {
   "cell_type": "code",
   "execution_count": 148,
   "id": "distributed-operation",
   "metadata": {},
   "outputs": [
    {
     "name": "stdout",
     "output_type": "stream",
     "text": [
      "e\n",
      "l\n",
      "e\n",
      "p\n",
      "h\n",
      "a\n",
      "n\n",
      "t\n"
     ]
    }
   ],
   "source": [
    "for ele in animal:\n",
    "    print(ele)"
   ]
  },
  {
   "cell_type": "code",
   "execution_count": 153,
   "id": "neutral-worker",
   "metadata": {},
   "outputs": [
    {
     "name": "stdout",
     "output_type": "stream",
     "text": [
      "3.14 3.14\n",
      "4 4\n",
      "12 12\n",
      "56 56\n",
      "73 73\n"
     ]
    }
   ],
   "source": [
    "for i,j in zip(l,f[:5]):\n",
    "    print(i,j)"
   ]
  },
  {
   "cell_type": "code",
   "execution_count": 154,
   "id": "cultural-identification",
   "metadata": {},
   "outputs": [
    {
     "name": "stdout",
     "output_type": "stream",
     "text": [
      "a\n",
      "b\n",
      "3.1\n",
      "t\n",
      "l\n",
      "f\n"
     ]
    }
   ],
   "source": [
    "for k in d.keys():\n",
    "    print(k)"
   ]
  },
  {
   "cell_type": "code",
   "execution_count": 155,
   "id": "broadband-ceremony",
   "metadata": {},
   "outputs": [
    {
     "name": "stdout",
     "output_type": "stream",
     "text": [
      "apple\n",
      "1234\n",
      "cat\n",
      "('papaya', 'mango', 'berry', 'apple')\n",
      "[3.14, 4, 12, 56, 73, 'berry', 'mango', 'papaya', 'apple']\n",
      "fish\n"
     ]
    }
   ],
   "source": [
    "for v in d.values():\n",
    "    print(v)"
   ]
  },
  {
   "cell_type": "code",
   "execution_count": 156,
   "id": "restricted-allah",
   "metadata": {},
   "outputs": [
    {
     "name": "stdout",
     "output_type": "stream",
     "text": [
      "a --> apple\n",
      "b --> 1234\n",
      "3.1 --> cat\n",
      "t --> ('papaya', 'mango', 'berry', 'apple')\n",
      "l --> [3.14, 4, 12, 56, 73, 'berry', 'mango', 'papaya', 'apple']\n",
      "f --> fish\n"
     ]
    }
   ],
   "source": [
    "for k,v in d.items():\n",
    "    print(k,\"-->\",v)"
   ]
  },
  {
   "cell_type": "code",
   "execution_count": 158,
   "id": "union-offer",
   "metadata": {},
   "outputs": [
    {
     "name": "stdout",
     "output_type": "stream",
     "text": [
      "Please enter any number: 12\n",
      "Number is divisible by 4 and even\n",
      "Please enter any number: 34\n",
      "Number is even\n",
      "Please enter any number: 12\n",
      "Number is divisible by 4 and even\n",
      "Please enter any number: 233\n",
      "Number is odd\n",
      "Please enter any number: 43\n",
      "Number is odd\n",
      "Done\n"
     ]
    }
   ],
   "source": [
    "for _ in range(5):\n",
    "    num = float(input(\"Please enter any number: \"))\n",
    "    if num % 4 == 0:\n",
    "        print(\"Number is divisible by 4 and even\")\n",
    "    elif num % 2 == 0:\n",
    "        print(\"Number is even\")\n",
    "    else:\n",
    "        print(\"Number is odd\")"
   ]
  },
  {
   "cell_type": "code",
   "execution_count": 159,
   "id": "invisible-framing",
   "metadata": {},
   "outputs": [
    {
     "data": {
      "text/plain": [
       "{'a': 'apple',\n",
       " 'b': 1234,\n",
       " 3.1: 'cat',\n",
       " 't': ('papaya', 'mango', 'berry', 'apple'),\n",
       " 'l': [3.14, 4, 12, 56, 73, 'berry', 'mango', 'papaya', 'apple'],\n",
       " 'f': 'fish'}"
      ]
     },
     "execution_count": 159,
     "metadata": {},
     "output_type": "execute_result"
    }
   ],
   "source": [
    "D"
   ]
  },
  {
   "cell_type": "code",
   "execution_count": 161,
   "id": "global-dating",
   "metadata": {},
   "outputs": [],
   "source": [
    "d1 = {\"j\":\"jack\", \"q\":\"quack\"}"
   ]
  },
  {
   "cell_type": "code",
   "execution_count": 162,
   "id": "subject-uncertainty",
   "metadata": {},
   "outputs": [],
   "source": [
    "D.update(d1)"
   ]
  },
  {
   "cell_type": "code",
   "execution_count": 163,
   "id": "complimentary-promise",
   "metadata": {},
   "outputs": [
    {
     "data": {
      "text/plain": [
       "{'a': 'apple',\n",
       " 'b': 1234,\n",
       " 3.1: 'cat',\n",
       " 't': ('papaya', 'mango', 'berry', 'apple'),\n",
       " 'l': [3.14, 4, 12, 56, 73, 'berry', 'mango', 'papaya', 'apple'],\n",
       " 'f': 'fish',\n",
       " 'j': 'jack',\n",
       " 'q': 'quack'}"
      ]
     },
     "execution_count": 163,
     "metadata": {},
     "output_type": "execute_result"
    }
   ],
   "source": [
    "D"
   ]
  },
  {
   "cell_type": "code",
   "execution_count": 166,
   "id": "smaller-brunei",
   "metadata": {},
   "outputs": [
    {
     "data": {
      "text/plain": [
       "[10, 11, 12, 13, 14, 15]"
      ]
     },
     "execution_count": 166,
     "metadata": {},
     "output_type": "execute_result"
    }
   ],
   "source": [
    "list(range(10,16))"
   ]
  },
  {
   "cell_type": "markdown",
   "id": "beautiful-experience",
   "metadata": {},
   "source": [
    "### Task-2"
   ]
  },
  {
   "cell_type": "markdown",
   "id": "cathedral-registration",
   "metadata": {},
   "source": [
    "1. there are two lists list1 and list2 with the elements [1,2,2,3,1,4,4,5,6,7,4] and [2,6,5,4,2,1,2,5,4,1]. Create a new list with the elements common in those two lists without duplicates.\n",
    "\n",
    "```\n",
    "list1 = [1,2,2,3,1,4,4,5,6,7,4]\n",
    "list2 = [2,6,5,4,2,1,2,5,4,1]\n",
    "print(list3) # [1,2,4,5,6]\n",
    "```\n"
   ]
  },
  {
   "cell_type": "code",
   "execution_count": 169,
   "id": "median-respondent",
   "metadata": {},
   "outputs": [
    {
     "name": "stdout",
     "output_type": "stream",
     "text": [
      "[1, 2, 4, 5, 6]\n",
      "[1, 2, 4, 5, 6]\n"
     ]
    }
   ],
   "source": [
    "list1 = [1,2,2,3,1,4,4,5,6,7,4]\n",
    "list2 = [2,6,5,4,2,1,2,5,4,1]\n",
    "list3 = []\n",
    "for j in list1:\n",
    "    if j in list2 and j not in list3:\n",
    "        list3.append(j)\n",
    "print(list3)\n",
    "\n",
    "list3 = set(list1) & set(list2)\n",
    "print(list(list3))"
   ]
  },
  {
   "cell_type": "markdown",
   "id": "acknowledged-demand",
   "metadata": {},
   "source": [
    "2. get two integer inputs from the user and find the prime numbers between them.\n",
    "\n",
    "```\n",
    "a = 10\n",
    "b = 20\n",
    "print(primeList) # [11,13,17,19]\n",
    "```"
   ]
  },
  {
   "cell_type": "code",
   "execution_count": 173,
   "id": "conditional-rainbow",
   "metadata": {},
   "outputs": [
    {
     "name": "stdout",
     "output_type": "stream",
     "text": [
      "11\n",
      "13\n",
      "17\n",
      "19\n",
      "11\n",
      "13\n",
      "17\n",
      "19\n"
     ]
    }
   ],
   "source": [
    "a = 10\n",
    "b = 20\n",
    "for i in range(a,b):\n",
    "    for j in range(2, int(i/2)):\n",
    "        if i % j == 0:\n",
    "            break\n",
    "    else:\n",
    "        print(i)\n",
    "        \n",
    "        \n",
    "for i in range(a,b):\n",
    "    flag = True\n",
    "    for j in range(2, int(i/2)):\n",
    "        if i % j == 0:\n",
    "            flag = False\n",
    "            break\n",
    "    if flag:\n",
    "        print(i)"
   ]
  },
  {
   "cell_type": "markdown",
   "id": "arabic-depth",
   "metadata": {},
   "source": [
    "### functions"
   ]
  },
  {
   "cell_type": "code",
   "execution_count": 174,
   "id": "smoking-chain",
   "metadata": {},
   "outputs": [],
   "source": [
    "def operation():\n",
    "    a = int(input(\"Enter for a: \"))\n",
    "    b = int(input(\"Enter for b: \"))\n",
    "    print(a+b , a-b, a*b)"
   ]
  },
  {
   "cell_type": "code",
   "execution_count": 175,
   "id": "settled-chocolate",
   "metadata": {
    "scrolled": false
   },
   "outputs": [
    {
     "name": "stdout",
     "output_type": "stream",
     "text": [
      "Enter for a: 23\n",
      "Enter for b: 32\n",
      "55 -9 736\n"
     ]
    }
   ],
   "source": [
    "operation()"
   ]
  },
  {
   "cell_type": "code",
   "execution_count": 176,
   "id": "geological-protocol",
   "metadata": {},
   "outputs": [],
   "source": [
    "def operation():\n",
    "    a = int(input(\"Enter for a: \"))\n",
    "    b = int(input(\"Enter for b: \"))\n",
    "    return a+b , a-b, a*b"
   ]
  },
  {
   "cell_type": "code",
   "execution_count": 177,
   "id": "gentle-friend",
   "metadata": {},
   "outputs": [
    {
     "name": "stdout",
     "output_type": "stream",
     "text": [
      "Enter for a: 4\n",
      "Enter for b: 5\n"
     ]
    }
   ],
   "source": [
    "answers = operation()"
   ]
  },
  {
   "cell_type": "code",
   "execution_count": 179,
   "id": "premier-spanish",
   "metadata": {},
   "outputs": [],
   "source": [
    "def operation(a,b):\n",
    "    return a+b , a-b, a*b"
   ]
  },
  {
   "cell_type": "code",
   "execution_count": 183,
   "id": "detailed-entrance",
   "metadata": {},
   "outputs": [],
   "source": [
    "answers = operation(10,4)"
   ]
  },
  {
   "cell_type": "code",
   "execution_count": 184,
   "id": "clinical-report",
   "metadata": {},
   "outputs": [],
   "source": [
    "def operation(b,a=6):\n",
    "    return a+b , a-b, a*b"
   ]
  },
  {
   "cell_type": "code",
   "execution_count": 187,
   "id": "oriental-banana",
   "metadata": {},
   "outputs": [],
   "source": [
    "answers = operation(10,20)"
   ]
  },
  {
   "cell_type": "code",
   "execution_count": 188,
   "id": "ongoing-conspiracy",
   "metadata": {},
   "outputs": [
    {
     "name": "stdout",
     "output_type": "stream",
     "text": [
      "(30, 10, 200)\n"
     ]
    }
   ],
   "source": [
    "print(answers)"
   ]
  },
  {
   "cell_type": "code",
   "execution_count": 189,
   "id": "atomic-briefs",
   "metadata": {},
   "outputs": [],
   "source": [
    "def isPrime(num):\n",
    "    for j in range(2, int(num/2)):\n",
    "        if num % j == 0:\n",
    "            return False\n",
    "    else:\n",
    "        return True"
   ]
  },
  {
   "cell_type": "code",
   "execution_count": 192,
   "id": "handled-warrior",
   "metadata": {},
   "outputs": [
    {
     "name": "stdout",
     "output_type": "stream",
     "text": [
      "11\n",
      "13\n",
      "17\n",
      "19\n"
     ]
    }
   ],
   "source": [
    "a,b = 10,20\n",
    "for i in range(a,b):\n",
    "    if isPrime(i):\n",
    "        print(i)"
   ]
  },
  {
   "cell_type": "code",
   "execution_count": 195,
   "id": "checked-qatar",
   "metadata": {},
   "outputs": [],
   "source": [
    "def isPrime(num):\n",
    "    for j in range(2, int(num/2)):\n",
    "        if num % j == 0:\n",
    "            return None\n",
    "    else:\n",
    "        return num"
   ]
  },
  {
   "cell_type": "code",
   "execution_count": 198,
   "id": "synthetic-tucson",
   "metadata": {},
   "outputs": [
    {
     "data": {
      "text/plain": [
       "[None, 11, None, 13, None, None, None, 17, None, 19]"
      ]
     },
     "execution_count": 198,
     "metadata": {},
     "output_type": "execute_result"
    }
   ],
   "source": [
    "list(map(isPrime, range(a,b)))"
   ]
  },
  {
   "cell_type": "code",
   "execution_count": 199,
   "id": "brazilian-medium",
   "metadata": {
    "scrolled": true
   },
   "outputs": [
    {
     "data": {
      "text/plain": [
       "[11, 13, 17, 19]"
      ]
     },
     "execution_count": 199,
     "metadata": {},
     "output_type": "execute_result"
    }
   ],
   "source": [
    "list(filter(None, map(isPrime, range(a,b))))"
   ]
  },
  {
   "cell_type": "code",
   "execution_count": 200,
   "id": "executed-flavor",
   "metadata": {},
   "outputs": [],
   "source": [
    "name = None"
   ]
  },
  {
   "cell_type": "code",
   "execution_count": 203,
   "id": "impressive-oklahoma",
   "metadata": {},
   "outputs": [],
   "source": [
    "if name:\n",
    "    print(name)"
   ]
  },
  {
   "cell_type": "code",
   "execution_count": 204,
   "id": "demanding-rescue",
   "metadata": {},
   "outputs": [],
   "source": [
    "def isPrime(num):\n",
    "    for j in range(2, int(num/2)):\n",
    "        if num % j == 0:\n",
    "            return False\n",
    "    else:\n",
    "        return True"
   ]
  },
  {
   "cell_type": "code",
   "execution_count": 205,
   "id": "unnecessary-apparel",
   "metadata": {},
   "outputs": [],
   "source": [
    "def check(primeFunc, num):\n",
    "    if primeFunc(num):\n",
    "        print(\"It's a prime number:\", num)\n",
    "    else:\n",
    "        print(\"It's not a prime number:\", num)"
   ]
  },
  {
   "cell_type": "code",
   "execution_count": 209,
   "id": "understanding-myrtle",
   "metadata": {},
   "outputs": [
    {
     "name": "stdout",
     "output_type": "stream",
     "text": [
      "It's not a prime number: 10\n"
     ]
    }
   ],
   "source": [
    "check(isPrime, 10)"
   ]
  },
  {
   "cell_type": "code",
   "execution_count": 210,
   "id": "optional-taylor",
   "metadata": {},
   "outputs": [
    {
     "data": {
      "text/plain": [
       "[1, 2, 2, 3, 1, 4, 4, 5, 6, 7, 4]"
      ]
     },
     "execution_count": 210,
     "metadata": {},
     "output_type": "execute_result"
    }
   ],
   "source": [
    "list1"
   ]
  },
  {
   "cell_type": "code",
   "execution_count": 214,
   "id": "supposed-whole",
   "metadata": {},
   "outputs": [
    {
     "data": {
      "text/plain": [
       "{1: 'default',\n",
       " 2: 'default',\n",
       " 3: 'default',\n",
       " 4: 'default',\n",
       " 5: 'default',\n",
       " 6: 'default',\n",
       " 7: 'default'}"
      ]
     },
     "execution_count": 214,
     "metadata": {},
     "output_type": "execute_result"
    }
   ],
   "source": [
    "dict.fromkeys(list1,\"default\")"
   ]
  },
  {
   "cell_type": "code",
   "execution_count": 212,
   "id": "arctic-exercise",
   "metadata": {},
   "outputs": [
    {
     "data": {
      "text/plain": [
       "dict_keys([1, 2, 3, 4, 5, 6, 7])"
      ]
     },
     "execution_count": 212,
     "metadata": {},
     "output_type": "execute_result"
    }
   ],
   "source": [
    "dict.fromkeys(list1).keys()"
   ]
  },
  {
   "cell_type": "markdown",
   "id": "integrated-webster",
   "metadata": {},
   "source": [
    "### error handling"
   ]
  },
  {
   "cell_type": "code",
   "execution_count": 221,
   "id": "labeled-commissioner",
   "metadata": {},
   "outputs": [
    {
     "ename": "NameError",
     "evalue": "name 'x' is not defined",
     "output_type": "error",
     "traceback": [
      "\u001b[0;31m---------------------------------------------------------------------------\u001b[0m",
      "\u001b[0;31mNameError\u001b[0m                                 Traceback (most recent call last)",
      "\u001b[0;32m<ipython-input-221-e2d3c3be0019>\u001b[0m in \u001b[0;36m<module>\u001b[0;34m\u001b[0m\n\u001b[0;32m----> 1\u001b[0;31m \u001b[0mprint\u001b[0m\u001b[0;34m(\u001b[0m\u001b[0mx\u001b[0m\u001b[0;34m)\u001b[0m\u001b[0;34m\u001b[0m\u001b[0;34m\u001b[0m\u001b[0m\n\u001b[0m\u001b[1;32m      2\u001b[0m \u001b[0mprint\u001b[0m\u001b[0;34m(\u001b[0m\u001b[0;34m\"hello world!!!\"\u001b[0m\u001b[0;34m)\u001b[0m\u001b[0;34m\u001b[0m\u001b[0;34m\u001b[0m\u001b[0m\n",
      "\u001b[0;31mNameError\u001b[0m: name 'x' is not defined"
     ]
    }
   ],
   "source": [
    "print(x)\n",
    "print(\"hello world!!!\")"
   ]
  },
  {
   "cell_type": "code",
   "execution_count": 220,
   "id": "spatial-investigator",
   "metadata": {},
   "outputs": [
    {
     "ename": "TypeError",
     "evalue": "'x' is an invalid keyword argument for this function",
     "output_type": "error",
     "traceback": [
      "\u001b[0;31m---------------------------------------------------------------------------\u001b[0m",
      "\u001b[0;31mTypeError\u001b[0m                                 Traceback (most recent call last)",
      "\u001b[0;32m<ipython-input-220-e1e015d269f0>\u001b[0m in \u001b[0;36m<module>\u001b[0;34m\u001b[0m\n\u001b[0;32m----> 1\u001b[0;31m \u001b[0mprint\u001b[0m\u001b[0;34m(\u001b[0m\u001b[0mx\u001b[0m\u001b[0;34m=\u001b[0m\u001b[0;36m3\u001b[0m\u001b[0;34m)\u001b[0m\u001b[0;34m\u001b[0m\u001b[0;34m\u001b[0m\u001b[0m\n\u001b[0m\u001b[1;32m      2\u001b[0m \u001b[0mprint\u001b[0m\u001b[0;34m(\u001b[0m\u001b[0;34m\"hello world!!!\"\u001b[0m\u001b[0;34m)\u001b[0m\u001b[0;34m\u001b[0m\u001b[0;34m\u001b[0m\u001b[0m\n",
      "\u001b[0;31mTypeError\u001b[0m: 'x' is an invalid keyword argument for this function"
     ]
    }
   ],
   "source": [
    "print(x=3)\n",
    "print(\"hello world!!!\")"
   ]
  },
  {
   "cell_type": "code",
   "execution_count": 217,
   "id": "chubby-ecuador",
   "metadata": {},
   "outputs": [
    {
     "name": "stdout",
     "output_type": "stream",
     "text": [
      "There is an error while printing X!!\n",
      "Hello world!!!\n"
     ]
    }
   ],
   "source": [
    "try:\n",
    "    print(x)\n",
    "except:\n",
    "    print(\"There is an error while printing X!!\")\n",
    "print(\"Hello world!!!\")"
   ]
  },
  {
   "cell_type": "code",
   "execution_count": 219,
   "id": "narrow-microwave",
   "metadata": {},
   "outputs": [
    {
     "name": "stdout",
     "output_type": "stream",
     "text": [
      "There is an error while printing X!! 'x' is an invalid keyword argument for this function\n",
      "Hello world!!!\n"
     ]
    }
   ],
   "source": [
    "try:\n",
    "    print(x=3)\n",
    "except Exception as e:\n",
    "    print(\"There is an error while printing X!!\", e)\n",
    "print(\"Hello world!!!\")"
   ]
  },
  {
   "cell_type": "code",
   "execution_count": 229,
   "id": "according-water",
   "metadata": {},
   "outputs": [
    {
     "name": "stdout",
     "output_type": "stream",
     "text": [
      "There is an error while printing X!! 'x' is an invalid keyword argument for this function\n",
      "Notifying Developer\n"
     ]
    }
   ],
   "source": [
    "try:\n",
    "    print(x=2)\n",
    "except TypeError as e:\n",
    "    print(\"There is an error while printing X!!\", e)\n",
    "    print(\"Notifying Developer\")\n",
    "except NameError as e:\n",
    "    print(\"There is an error while printing X!!\", e)\n",
    "    x=3"
   ]
  },
  {
   "cell_type": "code",
   "execution_count": 232,
   "id": "bearing-summer",
   "metadata": {},
   "outputs": [
    {
     "name": "stdout",
     "output_type": "stream",
     "text": [
      "Enter any number between 0-100:h\n",
      "Please enter integer between 0-100\n",
      "Enter any number between 0-100:8\n"
     ]
    }
   ],
   "source": [
    "try:\n",
    "    num = input(\"Enter any number between 0-100:\")\n",
    "    if not num.isdigit():\n",
    "        raise ValueError(\"Please enter integer between 0-100\")\n",
    "except Exception as e:\n",
    "    print(e)\n",
    "    num = int(input(\"Enter any number between 0-100:\"))"
   ]
  },
  {
   "cell_type": "code",
   "execution_count": 231,
   "id": "abroad-greek",
   "metadata": {},
   "outputs": [
    {
     "name": "stdout",
     "output_type": "stream",
     "text": [
      "56\n"
     ]
    }
   ],
   "source": [
    "print(num)"
   ]
  },
  {
   "cell_type": "code",
   "execution_count": 234,
   "id": "human-cargo",
   "metadata": {},
   "outputs": [
    {
     "name": "stdout",
     "output_type": "stream",
     "text": [
      "3\n",
      "3\n"
     ]
    }
   ],
   "source": [
    "try:\n",
    "    print(y)\n",
    "except TypeError as e:\n",
    "    print(\"There is an error while printing X!!\", e)\n",
    "    print(\"Notifying Developer\")\n",
    "except NameError as e:\n",
    "    print(\"There is an error while printing Y!!\", e)\n",
    "    y=3\n",
    "finally:\n",
    "    print(y)"
   ]
  },
  {
   "cell_type": "markdown",
   "id": "nearby-spine",
   "metadata": {},
   "source": [
    "### HW-2"
   ]
  },
  {
   "cell_type": "markdown",
   "id": "commercial-showcase",
   "metadata": {},
   "source": [
    "Create a python program for guess game. The logic is to predict the number is in the user's mind.\n",
    "\n",
    "```\n",
    "import random as rd\n",
    "rd.randint(0,100)\n",
    "```"
   ]
  },
  {
   "cell_type": "markdown",
   "id": "clinical-minority",
   "metadata": {},
   "source": [
    "### HW-3"
   ]
  },
  {
   "cell_type": "markdown",
   "id": "accompanied-stream",
   "metadata": {},
   "source": [
    "Create a python program for cow-bull game. The logic is to predict the number is in the computer's mind.\n",
    "based on the cow & bull logic\n",
    "\n",
    "cow --> correct number and correct position\n",
    "\n",
    "bull --> correct number but wrong position\n",
    "\n",
    "```\n",
    "import random as rd\n",
    "rd.randint(101,999)\n",
    "```"
   ]
  },
  {
   "cell_type": "markdown",
   "id": "confidential-migration",
   "metadata": {},
   "source": [
    "### library handling "
   ]
  },
  {
   "cell_type": "markdown",
   "id": "floppy-affect",
   "metadata": {},
   "source": [
    "####  to install libraries"
   ]
  },
  {
   "cell_type": "code",
   "execution_count": null,
   "id": "professional-shipping",
   "metadata": {},
   "outputs": [],
   "source": [
    "use the following command on cmd prompt\n",
    "    pip install {{libraryName}}\n",
    "    pip install {{libraryName==3.5.2}}"
   ]
  },
  {
   "cell_type": "markdown",
   "id": "smoking-commodity",
   "metadata": {},
   "source": [
    "#### to import libraries"
   ]
  },
  {
   "cell_type": "code",
   "execution_count": 238,
   "id": "outstanding-model",
   "metadata": {},
   "outputs": [],
   "source": [
    "import math"
   ]
  },
  {
   "cell_type": "code",
   "execution_count": 239,
   "id": "deadly-effects",
   "metadata": {},
   "outputs": [
    {
     "data": {
      "text/plain": [
       "120"
      ]
     },
     "execution_count": 239,
     "metadata": {},
     "output_type": "execute_result"
    }
   ],
   "source": [
    "math.factorial(5)"
   ]
  },
  {
   "cell_type": "code",
   "execution_count": 240,
   "id": "random-portuguese",
   "metadata": {},
   "outputs": [],
   "source": [
    "import random as rd"
   ]
  },
  {
   "cell_type": "code",
   "execution_count": 243,
   "id": "european-solid",
   "metadata": {},
   "outputs": [
    {
     "data": {
      "text/plain": [
       "63"
      ]
     },
     "execution_count": 243,
     "metadata": {},
     "output_type": "execute_result"
    }
   ],
   "source": [
    "rd.randint(10,100)"
   ]
  },
  {
   "cell_type": "code",
   "execution_count": 253,
   "id": "contemporary-wrong",
   "metadata": {},
   "outputs": [
    {
     "data": {
      "text/plain": [
       "'a'"
      ]
     },
     "execution_count": 253,
     "metadata": {},
     "output_type": "execute_result"
    }
   ],
   "source": [
    "rd.choice(['a','b','c','d'])"
   ]
  },
  {
   "cell_type": "code",
   "execution_count": 254,
   "id": "raised-baptist",
   "metadata": {},
   "outputs": [],
   "source": [
    "from math import sin, cos, tan"
   ]
  },
  {
   "cell_type": "code",
   "execution_count": 255,
   "id": "hazardous-appliance",
   "metadata": {},
   "outputs": [
    {
     "data": {
      "text/plain": [
       "0.8939966636005579"
      ]
     },
     "execution_count": 255,
     "metadata": {},
     "output_type": "execute_result"
    }
   ],
   "source": [
    "sin(90)"
   ]
  },
  {
   "cell_type": "code",
   "execution_count": 256,
   "id": "considered-israel",
   "metadata": {},
   "outputs": [
    {
     "data": {
      "text/plain": [
       "-0.4480736161291701"
      ]
     },
     "execution_count": 256,
     "metadata": {},
     "output_type": "execute_result"
    }
   ],
   "source": [
    "cos(90)"
   ]
  },
  {
   "cell_type": "code",
   "execution_count": 257,
   "id": "plastic-australian",
   "metadata": {},
   "outputs": [],
   "source": [
    "from random import *"
   ]
  },
  {
   "cell_type": "code",
   "execution_count": 258,
   "id": "beneficial-nitrogen",
   "metadata": {},
   "outputs": [
    {
     "data": {
      "text/plain": [
       "51"
      ]
     },
     "execution_count": 258,
     "metadata": {},
     "output_type": "execute_result"
    }
   ],
   "source": [
    "randint(10,100)"
   ]
  },
  {
   "cell_type": "code",
   "execution_count": 259,
   "id": "complex-powder",
   "metadata": {},
   "outputs": [
    {
     "data": {
      "text/plain": [
       "19"
      ]
     },
     "execution_count": 259,
     "metadata": {},
     "output_type": "execute_result"
    }
   ],
   "source": [
    "randrange(10,20)"
   ]
  },
  {
   "cell_type": "code",
   "execution_count": 263,
   "id": "proved-minimum",
   "metadata": {},
   "outputs": [
    {
     "data": {
      "text/plain": [
       "['f', 'd', 'a']"
      ]
     },
     "execution_count": 263,
     "metadata": {},
     "output_type": "execute_result"
    }
   ],
   "source": [
    "choices(\"abcdefgh\",k=3)"
   ]
  },
  {
   "cell_type": "code",
   "execution_count": null,
   "id": "offensive-shannon",
   "metadata": {},
   "outputs": [],
   "source": [
    "file handling \n",
    "visualisation\n",
    "\n",
    "Maths"
   ]
  }
 ],
 "metadata": {
  "kernelspec": {
   "display_name": "Python 3",
   "language": "python",
   "name": "python3"
  },
  "language_info": {
   "codemirror_mode": {
    "name": "ipython",
    "version": 3
   },
   "file_extension": ".py",
   "mimetype": "text/x-python",
   "name": "python",
   "nbconvert_exporter": "python",
   "pygments_lexer": "ipython3",
   "version": "3.6.8"
  },
  "nbTranslate": {
   "displayLangs": [
    "*"
   ],
   "hotkey": "alt-t",
   "langInMainMenu": true,
   "sourceLang": "en",
   "targetLang": "fr",
   "useGoogleTranslate": true
  },
  "toc": {
   "base_numbering": 1,
   "nav_menu": {},
   "number_sections": true,
   "sideBar": true,
   "skip_h1_title": false,
   "title_cell": "Table of Contents",
   "title_sidebar": "Contents",
   "toc_cell": false,
   "toc_position": {
    "height": "calc(100% - 180px)",
    "left": "10px",
    "top": "150px",
    "width": "192px"
   },
   "toc_section_display": true,
   "toc_window_display": false
  },
  "varInspector": {
   "cols": {
    "lenName": 16,
    "lenType": 16,
    "lenVar": 40
   },
   "kernels_config": {
    "python": {
     "delete_cmd_postfix": "",
     "delete_cmd_prefix": "del ",
     "library": "var_list.py",
     "varRefreshCmd": "print(var_dic_list())"
    },
    "r": {
     "delete_cmd_postfix": ") ",
     "delete_cmd_prefix": "rm(",
     "library": "var_list.r",
     "varRefreshCmd": "cat(var_dic_list()) "
    }
   },
   "types_to_exclude": [
    "module",
    "function",
    "builtin_function_or_method",
    "instance",
    "_Feature"
   ],
   "window_display": false
  }
 },
 "nbformat": 4,
 "nbformat_minor": 5
}
